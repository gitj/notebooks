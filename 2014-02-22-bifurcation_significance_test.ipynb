{
 "metadata": {
  "name": ""
 },
 "nbformat": 3,
 "nbformat_minor": 0,
 "worksheets": [
  {
   "cells": [
    {
     "cell_type": "code",
     "collapsed": false,
     "input": [
      "import kid_readout.analysis.khalil as khalil\n",
      "import kid_readout.analysis.resonator as resonator\n",
      "reload(resonator)"
     ],
     "language": "python",
     "metadata": {},
     "outputs": [
      {
       "metadata": {},
       "output_type": "pyout",
       "prompt_number": 1,
       "text": [
        "<module 'kid_readout.analysis.resonator' from '/home/gjones/workspace/kid_readout/analysis/resonator.pyc'>"
       ]
      }
     ],
     "prompt_number": 1
    },
    {
     "cell_type": "code",
     "collapsed": false,
     "input": [
      "import scipy.stats"
     ],
     "language": "python",
     "metadata": {},
     "outputs": [],
     "prompt_number": 2
    },
    {
     "cell_type": "code",
     "collapsed": false,
     "input": [
      "scipy.stats.f_value??"
     ],
     "language": "python",
     "metadata": {},
     "outputs": [],
     "prompt_number": 3
    },
    {
     "cell_type": "code",
     "collapsed": false,
     "input": [
      "aval = 0.1\n",
      "Qval = 4e4\n",
      "#for Qval in np.linspace(1e4,1e5,10):\n",
      "for aval in np.linspace(0,0.3,10):\n",
      "    p = khalil.create_model(Q=Qval,Q_e=2e5+1e4j,a=aval)\n",
      "    fr = np.linspace(-10e3,10e3,21) + 100e6\n",
      "    s21 = khalil.bifurcation_s21(p,fr)\n",
      "    s21 += 0.005*(np.random.randn(fr.shape[0]) + 1j*np.random.randn(fr.shape[0]))\n",
      "    errors = 0.005*np.ones(s21.shape)\n",
      "    rr = resonator.Resonator(fr,s21,errors=errors)\n",
      "    bif = resonator.Resonator(fr,s21,guess=khalil.bifurcation_guess,model=khalil.bifurcation_s21,errors=errors)\n",
      "    blah,blah2,prefer_bif = resonator.fit_resonator(fr,s21,errors=errors)\n",
      "    print (\"a = %f, rr = %f, bif = %f, arec = %f +- %f, F=%f, %s\" % \n",
      "           (aval,rr.result.redchi,bif.result.redchi,bif.result.params['a'].value,\n",
      "            bif.result.params['a'].stderr, \n",
      "            scipy.stats.distributions.f.cdf(scipy.stats.f_value(np.sum(np.abs(rr.residual(rr.result.params))**2),\n",
      "                                np.sum(np.abs(bif.residual(bif.result.params))**2),\n",
      "                                rr.result.nfree,bif.result.nfree),rr.result.nfree,rr.result.nfree),\n",
      "            str(prefer_bif)))"
     ],
     "language": "python",
     "metadata": {},
     "outputs": [
      {
       "output_type": "stream",
       "stream": "stdout",
       "text": [
        "Not using bifurcation model because: Error on bifurcation parameter exceeds fitted value\n",
        "a = 0.000000, rr = 1.036363, bif = 1.050902, arec = 0.029724 +- 0.041783, F=0.026966, False\n",
        "Not using bifurcation model because:"
       ]
      },
      {
       "output_type": "stream",
       "stream": "stdout",
       "text": [
        " Error on bifurcation parameter exceeds fitted value\n",
        "a = 0.033333, rr = 0.992419, bif = 1.021608, arec = 0.000064 +- 0.042136, F=0.000000, False\n",
        "Not using bifurcation model because:"
       ]
      },
      {
       "output_type": "stream",
       "stream": "stdout",
       "text": [
        " Error on bifurcation parameter exceeds fitted value\n",
        "a = 0.066667, rr = 1.219603, bif = 1.253933, arec = 0.010246 +- 0.048919, F=0.000000, False\n",
        "Not using bifurcation model because:"
       ]
      },
      {
       "output_type": "stream",
       "stream": "stdout",
       "text": [
        " Error on bifurcation parameter exceeds fitted value\n",
        "a = 0.100000, rr = 1.115242, bif = 1.124925, arec = 0.036585 +- 0.045362, F=0.146818, False\n",
        "a = 0.133333, rr = 1.246735, bif = 1.040535, arec = 0.131166 +- 0.047975, F=1.000000, True"
       ]
      },
      {
       "output_type": "stream",
       "stream": "stdout",
       "text": [
        "\n",
        "a = 0.166667, rr = 1.212168, bif = 0.931235, arec = 0.162333 +- 0.049814, F=1.000000, True"
       ]
      },
      {
       "output_type": "stream",
       "stream": "stdout",
       "text": [
        "\n",
        "a = 0.200000, rr = 1.165845, bif = 0.923463, arec = 0.148373 +- 0.047576, F=1.000000, True"
       ]
      },
      {
       "output_type": "stream",
       "stream": "stdout",
       "text": [
        "\n",
        "a = 0.233333, rr = 1.716049, bif = 9.375723, arec = 0.632158 +- 0.001699, F=0.000000, True"
       ]
      },
      {
       "output_type": "stream",
       "stream": "stdout",
       "text": [
        "\n",
        "a = 0.266667, rr = 1.579852, bif = 0.810761, arec = 0.265761 +- 0.043286, F=1.000000, True"
       ]
      },
      {
       "output_type": "stream",
       "stream": "stdout",
       "text": [
        "\n",
        "a = 0.300000, rr = 2.554033, bif = 0.856708, arec = 0.324119 +- 0.037131, F=1.000000, True"
       ]
      },
      {
       "output_type": "stream",
       "stream": "stdout",
       "text": [
        "\n"
       ]
      }
     ],
     "prompt_number": 4
    },
    {
     "cell_type": "code",
     "collapsed": false,
     "input": [
      "scipy.stats.distributions.f.ppf(0.999,7,8)"
     ],
     "language": "python",
     "metadata": {},
     "outputs": [
      {
       "metadata": {},
       "output_type": "pyout",
       "prompt_number": 85,
       "text": [
        "12.398041230891577"
       ]
      }
     ],
     "prompt_number": 85
    },
    {
     "cell_type": "code",
     "collapsed": false,
     "input": [
      "np.sum(np.abs(rr.residual(rr.result.params))**2)/35."
     ],
     "language": "python",
     "metadata": {},
     "outputs": [
      {
       "metadata": {},
       "output_type": "pyout",
       "prompt_number": 86,
       "text": [
        "1.6059990841784531"
       ]
      }
     ],
     "prompt_number": 86
    },
    {
     "cell_type": "code",
     "collapsed": false,
     "input": [
      "plot(abs(s21))\n",
      "plot(abs(rr.model()))\n",
      "#plot(abs(bif.model()))\n",
      "plot(abs(bif.model(params=p)))\n",
      "figure()\n",
      "plot(angle(s21))\n",
      "plot(angle(rr.model()))\n",
      "#plot(angle(bif.model()))\n",
      "plot(angle(bif.model(params=p)))"
     ],
     "language": "python",
     "metadata": {},
     "outputs": [
      {
       "metadata": {},
       "output_type": "pyout",
       "prompt_number": 5,
       "text": [
        "[<matplotlib.lines.Line2D at 0x3186f10>]"
       ]
      },
      {
       "metadata": {},
       "output_type": "display_data",
       "png": "[encoded data removed]",
       "text": [
        "<matplotlib.figure.Figure at 0x2fe3f90>"
       ]
      },
      {
       "metadata": {},
       "output_type": "display_data",
       "png": "[encoded data removed]",
       "text": [
        "<matplotlib.figure.Figure at 0x30c9a50>"
       ]
      }
     ],
     "prompt_number": 5
    },
    {
     "cell_type": "code",
     "collapsed": false,
     "input": [
      "rr.f"
     ],
     "language": "python",
     "metadata": {},
     "outputs": [
      {
       "metadata": {},
       "output_type": "pyout",
       "prompt_number": 6,
       "text": [
        "array([  9.99900000e+07,   9.99910000e+07,   9.99920000e+07,\n",
        "         9.99930000e+07,   9.99940000e+07,   9.99950000e+07,\n",
        "         9.99960000e+07,   9.99970000e+07,   9.99980000e+07,\n",
        "         9.99990000e+07,   1.00000000e+08,   1.00001000e+08,\n",
        "         1.00002000e+08,   1.00003000e+08,   1.00004000e+08,\n",
        "         1.00005000e+08,   1.00006000e+08,   1.00007000e+08,\n",
        "         1.00008000e+08,   1.00009000e+08,   1.00010000e+08])"
       ]
      }
     ],
     "prompt_number": 6
    },
    {
     "cell_type": "code",
     "collapsed": false,
     "input": [
      "rr.inverse(rr.model(f=100.1e6))"
     ],
     "language": "python",
     "metadata": {},
     "outputs": [
      {
       "metadata": {},
       "output_type": "pyout",
       "prompt_number": 26,
       "text": [
        "100099999.99998342"
       ]
      }
     ],
     "prompt_number": 26
    },
    {
     "cell_type": "code",
     "collapsed": false,
     "input": [
      "rr.inverse(rr.model(f=np.linspace(-100e3,100e3,21) + 100e6\n",
      "                ))-(np.linspace(-100e3,100e3,21) + 100e6)"
     ],
     "language": "python",
     "metadata": {},
     "outputs": [
      {
       "metadata": {},
       "output_type": "pyout",
       "prompt_number": 14,
       "text": [
        "array([  2.67982314e+05,   2.76827639e+05,   2.90469413e+05,\n",
        "         3.10916027e+05,   3.41893491e+05,   3.88740193e+05,\n",
        "         1.78813934e-07,   7.76350498e-06,   2.19047070e-06,\n",
        "         0.00000000e+00,   0.00000000e+00,   0.00000000e+00,\n",
        "        -5.27501106e-06,  -8.32974911e-06,  -1.34110451e-07,\n",
        "        -2.18898058e-05,  -5.20870090e-04,  -1.19209290e-07,\n",
        "        -1.16229057e-06,  -5.52833080e-06,  -1.65849924e-05])"
       ]
      }
     ],
     "prompt_number": 14
    },
    {
     "cell_type": "code",
     "collapsed": false,
     "input": [
      "s21 = rr.model(f=np.linspace(-100e3,100e3,21) + 100e6\n",
      "                )"
     ],
     "language": "python",
     "metadata": {},
     "outputs": [],
     "prompt_number": 15
    },
    {
     "cell_type": "code",
     "collapsed": false,
     "input": [
      "s21e = rr.model(f=rr.inverse(rr.model(f=np.linspace(-100e3,100e3,21) + 100e6\n",
      "                )))"
     ],
     "language": "python",
     "metadata": {},
     "outputs": [],
     "prompt_number": 17
    },
    {
     "cell_type": "code",
     "collapsed": false,
     "input": [
      "plot(s21.real,s21.imag,'.-')\n",
      "plot(s21e.real,s21e.imag,'x')"
     ],
     "language": "python",
     "metadata": {},
     "outputs": [
      {
       "metadata": {},
       "output_type": "pyout",
       "prompt_number": 18,
       "text": [
        "[<matplotlib.lines.Line2D at 0x30cc390>]"
       ]
      },
      {
       "metadata": {},
       "output_type": "display_data",
       "png": "[encoded data removed]",
       "text": [
        "<matplotlib.figure.Figure at 0x30cc2d0>"
       ]
      }
     ],
     "prompt_number": 18
    },
    {
     "cell_type": "code",
     "collapsed": false,
     "input": [],
     "language": "python",
     "metadata": {},
     "outputs": []
    }
   ],
   "metadata": {}
  }
 ]
}