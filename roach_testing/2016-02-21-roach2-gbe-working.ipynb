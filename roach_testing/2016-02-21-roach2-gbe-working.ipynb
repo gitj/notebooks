{
 "cells": [
  {
   "cell_type": "code",
   "execution_count": 1,
   "metadata": {
    "collapsed": false
   },
   "outputs": [
    {
     "name": "stdout",
     "output_type": "stream",
     "text": [
      "Populating the interactive namespace from numpy and matplotlib\n"
     ]
    }
   ],
   "source": [
    "%pylab inline"
   ]
  },
  {
   "cell_type": "code",
   "execution_count": 2,
   "metadata": {
    "collapsed": true
   },
   "outputs": [],
   "source": [
    "import kid_readout.roach.r2heterodyne"
   ]
  },
  {
   "cell_type": "code",
   "execution_count": 3,
   "metadata": {
    "collapsed": false
   },
   "outputs": [],
   "source": [
    "ri = kid_readout.roach.r2heterodyne.Roach2Heterodyne(initialize=False,adc_valon='/dev/ttyUSB4',lo_valon='/dev/ttyUSB3')"
   ]
  },
  {
   "cell_type": "code",
   "execution_count": 4,
   "metadata": {
    "collapsed": true
   },
   "outputs": [],
   "source": [
    "ri.boffile = 'r2iq2xpfb14mcr12gb_2016_Feb_20_0948.bof'"
   ]
  },
  {
   "cell_type": "code",
   "execution_count": 5,
   "metadata": {
    "collapsed": false
   },
   "outputs": [
    {
     "name": "stdout",
     "output_type": "stream",
     "text": [
      "Loaded ROACH state from /data/readout/r2kid_config.npz\n",
      "ROACH configuration does not match saved state"
     ]
    },
    {
     "name": "stderr",
     "output_type": "stream",
     "text": [
      "ERROR:katcp:Request progdev failed.\n",
      "  Request: ?progdev \\@\n",
      "  Reply: !progdev fail.\n"
     ]
    },
    {
     "name": "stdout",
     "output_type": "stream",
     "text": [
      "\n",
      "Reinitializing system\n",
      "Deprogramming\n",
      "Programming r2iq2xpfb14mcr12gb_2016_Feb_20_0948.bof\n",
      "Requested sampling rate 512.0 MHz. Estimated sampling rate 512.7 MHz\n",
      "--- === Trying with OUT DELAYS to 30 === ---\n",
      "Eye for QDR qdr0 (0 is pass, 1 is fail):\n",
      "\tTap step  0:  11111111111111111111110111111111\n",
      "\tTap step  1:  11111111111111110000100111110001\n",
      "\tTap step  2:  11111011111111000000000100000000\n",
      "\tTap step  3:  11111011111111000000000000000000\n",
      "\tTap step  4:  00001000000010000000000000000000\n",
      "\tTap step  5:  00000000000000000000000000000000\n",
      "\tTap step  6:  00000000000000000000000000000000\n",
      "\tTap step  7:  00000000000000000000000000000000\n",
      "\tTap step  8:  00000000000000000000000000000000\n",
      "\tTap step  9:  00000000000000000000000000000000\n",
      "\tTap step 10:  00000000000000000000000000000000\n",
      "\tTap step 11:  00000000000000000000000000000000\n",
      "\tTap step 12:  00000000000000000000000000000000\n",
      "\tTap step 13:  00000000000000000000000000000000\n",
      "\tTap step 14:  00000000000000000000000000000000\n",
      "\tTap step 15:  00000000000000000000000000000000\n",
      "\tTap step 16:  00000000000000000000000000000000\n",
      "\tTap step 17:  00000000000000000000000000000000\n",
      "\tTap step 18:  00000000000000000000000000000000\n",
      "\tTap step 19:  00000000000000000000000000000000\n",
      "\tTap step 20:  00000000000000000000000000000000\n",
      "\tTap step 21:  00000000000000000000000000000000\n",
      "\tTap step 22:  00000000000000000000000000000000\n",
      "\tTap step 23:  00000000000000000000000000000000\n",
      "\tTap step 24:  00000000000000001001001000101110\n",
      "\tTap step 25:  00000000000000111001111010101111\n",
      "\tTap step 26:  00000000000000111111111110111111\n",
      "\tTap step 27:  00000000000000111111111111111111\n",
      "\tTap step 28:  10110100101000111111111111111111\n",
      "\tTap step 29:  10111110111111111111111111111111\n",
      "\tTap step 30:  11111111111111111111111111111111\n",
      "\tTap step 31:  11111111111111111111111111111111\n",
      "Using in delays: [ 13.  12.  12.  12.  13.  12.  14.  13.  14.  11.  12.  13.  12.  13.  13.\n",
      "  12.  13.  13.  16.  16.  16.  15.  16.  15.  16.  16.  14.  16.  15.  15.\n",
      "  16.  15.  13.  13.  13.  13.]\n"
     ]
    }
   ],
   "source": [
    "ri.initialize()"
   ]
  },
  {
   "cell_type": "code",
   "execution_count": 43,
   "metadata": {
    "collapsed": false
   },
   "outputs": [],
   "source": [
    "nchan = 64*4\n",
    "ri.set_tone_baseband_freqs(np.linspace(10.1,250,nchan),nsamp=2**17)\n",
    "ri.select_fft_bins(range(nchan))"
   ]
  },
  {
   "cell_type": "code",
   "execution_count": 47,
   "metadata": {
    "collapsed": false
   },
   "outputs": [],
   "source": [
    "d,addr = ri.get_data_udp(1024*256)"
   ]
  },
  {
   "cell_type": "code",
   "execution_count": 48,
   "metadata": {
    "collapsed": false
   },
   "outputs": [
    {
     "data": {
      "text/plain": [
       "(262144, 256)"
      ]
     },
     "execution_count": 48,
     "metadata": {},
     "output_type": "execute_result"
    }
   ],
   "source": [
    "d.shape"
   ]
  },
  {
   "cell_type": "code",
   "execution_count": 50,
   "metadata": {
    "collapsed": false
   },
   "outputs": [
    {
     "data": {
      "text/plain": [
       "[<matplotlib.lines.Line2D at 0x22f5ae90>]"
      ]
     },
     "execution_count": 50,
     "metadata": {},
     "output_type": "execute_result"
    },
    {
     "data": {
      "image/png": "[encoded data removed]",
      "text/plain": [
       "<matplotlib.figure.Figure at 0x680bb10>"
      ]
     },
     "metadata": {},
     "output_type": "display_data"
    }
   ],
   "source": [
    "plot(np.diff(addr))"
   ]
  },
  {
   "cell_type": "code",
   "execution_count": 42,
   "metadata": {
    "collapsed": false
   },
   "outputs": [
    {
     "data": {
      "text/plain": [
       "(1, 512)"
      ]
     },
     "execution_count": 42,
     "metadata": {},
     "output_type": "execute_result"
    }
   ],
   "source": [
    "ri.fft_bins.shape"
   ]
  },
  {
   "cell_type": "code",
   "execution_count": 18,
   "metadata": {
    "collapsed": false
   },
   "outputs": [
    {
     "data": {
      "text/plain": [
       "(1024,)"
      ]
     },
     "execution_count": 18,
     "metadata": {},
     "output_type": "execute_result"
    }
   ],
   "source": [
    "addr.shape"
   ]
  },
  {
   "cell_type": "code",
   "execution_count": null,
   "metadata": {
    "collapsed": true
   },
   "outputs": [],
   "source": []
  }
 ],
 "metadata": {
  "kernelspec": {
   "display_name": "Python 2",
   "language": "python",
   "name": "python2"
  },
  "language_info": {
   "codemirror_mode": {
    "name": "ipython",
    "version": 2
   },
   "file_extension": ".py",
   "mimetype": "text/x-python",
   "name": "python",
   "nbconvert_exporter": "python",
   "pygments_lexer": "ipython2",
   "version": "2.7.6"
  }
 },
 "nbformat": 4,
 "nbformat_minor": 0
}
