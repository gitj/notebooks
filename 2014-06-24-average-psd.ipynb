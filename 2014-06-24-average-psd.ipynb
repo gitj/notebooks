{
 "metadata": {
  "name": "",
  "signature": "sha256:bc0caf1cbaa49dcc4d52d5077a5d971d2185435163fd9d949c3cdc9ddc13ddf3"
 },
 "nbformat": 3,
 "nbformat_minor": 0,
 "worksheets": [
  {
   "cells": [
    {
     "cell_type": "code",
     "collapsed": false,
     "input": [
      "import kid_readout.utils.readoutnc"
     ],
     "language": "python",
     "metadata": {},
     "outputs": [],
     "prompt_number": 1
    },
    {
     "cell_type": "code",
     "collapsed": false,
     "input": [
      "import glob"
     ],
     "language": "python",
     "metadata": {},
     "outputs": [],
     "prompt_number": 2
    },
    {
     "cell_type": "code",
     "collapsed": false,
     "input": [
      "ncs = glob.glob('/home/data2/2014-06-20*.nc')"
     ],
     "language": "python",
     "metadata": {},
     "outputs": [],
     "prompt_number": 3
    },
    {
     "cell_type": "code",
     "collapsed": false,
     "input": [
      "import kid_readout.analysis.noise_measurement"
     ],
     "language": "python",
     "metadata": {},
     "outputs": [
      {
       "output_type": "stream",
       "stream": "stdout",
       "text": [
        "updated file list\n"
       ]
      },
      {
       "output_type": "stream",
       "stream": "stderr",
       "text": [
        "/home/local/lib/python2.7/site-packages/matplotlib/__init__.py:1155: UserWarning:  This call to matplotlib.use() has no effect\n",
        "because the backend has already been chosen;\n",
        "matplotlib.use() must be called *before* pylab, matplotlib.pyplot,\n",
        "or matplotlib.backends is imported for the first time.\n",
        "\n",
        "  warnings.warn(_use_error_msg)\n"
       ]
      }
     ],
     "prompt_number": 5
    },
    {
     "cell_type": "code",
     "collapsed": false,
     "input": [
      "kid_readout.analysis.noise_measurement.SweepNoiseMeasurement?"
     ],
     "language": "python",
     "metadata": {},
     "outputs": [],
     "prompt_number": 6
    },
    {
     "cell_type": "code",
     "collapsed": false,
     "input": [
      "nms0 = [kid_readout.analysis.noise_measurement.SweepNoiseMeasurement(fn,deglitch_threshold=7) for fn in ncs]\n",
      "nms1 = [kid_readout.analysis.noise_measurement.SweepNoiseMeasurement(fn,deglitch_threshold=7,resonator_index=1) for fn in ncs]\n",
      "\n"
     ],
     "language": "python",
     "metadata": {},
     "outputs": [
      {
       "output_type": "stream",
       "stream": "stdout",
       "text": [
        "0 65536 rejecting 0.0\n",
        "0 131072 "
       ]
      },
      {
       "output_type": "stream",
       "stream": "stdout",
       "text": [
        "rejecting 4.57763671875e-05\n",
        "65536 196608 "
       ]
      },
      {
       "output_type": "stream",
       "stream": "stdout",
       "text": [
        "rejecting 4.57763671875e-05\n",
        "131072 262144 "
       ]
      },
      {
       "output_type": "stream",
       "stream": "stdout",
       "text": [
        "rejecting 0.0\n",
        "196608 327680 "
       ]
      },
      {
       "output_type": "stream",
       "stream": "stdout",
       "text": [
        "rejecting 0.0\n",
        "262144 393216 "
       ]
      },
      {
       "output_type": "stream",
       "stream": "stdout",
       "text": [
        "rejecting 0.00148010253906\n",
        "327680 458752 "
       ]
      },
      {
       "output_type": "stream",
       "stream": "stdout",
       "text": [
        "rejecting 0.00148010253906\n",
        "393216 524288 "
       ]
      },
      {
       "output_type": "stream",
       "stream": "stdout",
       "text": [
        "rejecting 0.00173950195312\n",
        "458752 589824 "
       ]
      },
      {
       "output_type": "stream",
       "stream": "stdout",
       "text": [
        "rejecting 0.0018310546875\n",
        "524288 655360 "
       ]
      },
      {
       "output_type": "stream",
       "stream": "stdout",
       "text": [
        "rejecting 9.1552734375e-05\n",
        "589824 720896 "
       ]
      },
      {
       "output_type": "stream",
       "stream": "stdout",
       "text": [
        "rejecting 0.0\n",
        "655360 786432 "
       ]
      },
      {
       "output_type": "stream",
       "stream": "stdout",
       "text": [
        "rejecting 0.0\n",
        "720896 851968 "
       ]
      },
      {
       "output_type": "stream",
       "stream": "stdout",
       "text": [
        "rejecting 0.00164031982422\n",
        "786432 917504 "
       ]
      },
      {
       "output_type": "stream",
       "stream": "stdout",
       "text": [
        "rejecting 0.00164794921875\n",
        "851968 983040 "
       ]
      },
      {
       "output_type": "stream",
       "stream": "stdout",
       "text": [
        "rejecting 0.0\n",
        "917504 1048576 "
       ]
      },
      {
       "output_type": "stream",
       "stream": "stdout",
       "text": [
        "rejecting 0.00167083740234\n",
        "983040 1114112 "
       ]
      },
      {
       "output_type": "stream",
       "stream": "stdout",
       "text": [
        "rejecting 0.00168609619141\n",
        "1048576 1179648 "
       ]
      },
      {
       "output_type": "stream",
       "stream": "stdout",
       "text": [
        "rejecting 0.0\n",
        "1114112 1245184 "
       ]
      },
      {
       "output_type": "stream",
       "stream": "stdout",
       "text": [
        "rejecting 0.00214385986328\n",
        "1179648 1310720 "
       ]
      },
      {
       "output_type": "stream",
       "stream": "stdout",
       "text": [
        "rejecting 0.00215148925781\n",
        "1245184 1376256 "
       ]
      },
      {
       "output_type": "stream",
       "stream": "stdout",
       "text": [
        "rejecting 0.0\n",
        "1310720 1441792 "
       ]
      },
      {
       "output_type": "stream",
       "stream": "stdout",
       "text": [
        "rejecting 0.000114440917969\n",
        "1376256 1507328 "
       ]
      },
      {
       "output_type": "stream",
       "stream": "stdout",
       "text": [
        "rejecting 0.00150299072266\n",
        "1441792 1572864 "
       ]
      },
      {
       "output_type": "stream",
       "stream": "stdout",
       "text": [
        "rejecting 0.00312805175781\n",
        "1507328 1638400 "
       ]
      },
      {
       "output_type": "stream",
       "stream": "stdout",
       "text": [
        "rejecting 0.00238037109375\n",
        "1572864 1703936 "
       ]
      },
      {
       "output_type": "stream",
       "stream": "stdout",
       "text": [
        "rejecting 0.00106811523438\n",
        "1638400 1769472 "
       ]
      },
      {
       "output_type": "stream",
       "stream": "stdout",
       "text": [
        "rejecting 0.0003662109375\n",
        "1703936 1835008 "
       ]
      },
      {
       "output_type": "stream",
       "stream": "stdout",
       "text": [
        "rejecting 0.000228881835938\n",
        "1769472 1900544 "
       ]
      },
      {
       "output_type": "stream",
       "stream": "stdout",
       "text": [
        "rejecting 0.000114440917969\n",
        "1835008 1966080 "
       ]
      },
      {
       "output_type": "stream",
       "stream": "stdout",
       "text": [
        "rejecting 4.57763671875e-05\n",
        "1900544 2031616 "
       ]
      },
      {
       "output_type": "stream",
       "stream": "stdout",
       "text": [
        "rejecting 0.000114440917969\n",
        "1966080 2097152 "
       ]
      },
      {
       "output_type": "stream",
       "stream": "stdout",
       "text": [
        "rejecting 0.000160217285156\n",
        "2031616 2162688 "
       ]
      },
      {
       "output_type": "stream",
       "stream": "stdout",
       "text": [
        "rejecting 0.00222778320312\n",
        "2097152 2228224 "
       ]
      },
      {
       "output_type": "stream",
       "stream": "stdout",
       "text": [
        "rejecting 0.00234985351562\n",
        "2162688 2293760 "
       ]
      },
      {
       "output_type": "stream",
       "stream": "stdout",
       "text": [
        "rejecting 0.00250244140625\n",
        "2228224 2359296 "
       ]
      },
      {
       "output_type": "stream",
       "stream": "stdout",
       "text": [
        "rejecting 0.00380706787109\n",
        "2293760 2424832 "
       ]
      },
      {
       "output_type": "stream",
       "stream": "stdout",
       "text": [
        "rejecting 0.00154113769531\n",
        "2359296 2490368 "
       ]
      },
      {
       "output_type": "stream",
       "stream": "stdout",
       "text": [
        "rejecting 0.0023193359375\n",
        "2424832 2555904 "
       ]
      },
      {
       "output_type": "stream",
       "stream": "stdout",
       "text": [
        "rejecting 0.00386810302734\n",
        "2490368 2621440 "
       ]
      },
      {
       "output_type": "stream",
       "stream": "stdout",
       "text": [
        "rejecting 0.00174713134766\n",
        "2555904 2686976 "
       ]
      },
      {
       "output_type": "stream",
       "stream": "stdout",
       "text": [
        "rejecting 6.86645507812e-05\n",
        "2621440 2752512 "
       ]
      },
      {
       "output_type": "stream",
       "stream": "stdout",
       "text": [
        "rejecting 2.28881835938e-05\n",
        "2686976 2818048 "
       ]
      },
      {
       "output_type": "stream",
       "stream": "stdout",
       "text": [
        "rejecting 0.000114440917969\n",
        "2752512 2883584 "
       ]
      },
      {
       "output_type": "stream",
       "stream": "stdout",
       "text": [
        "rejecting 0.0\n",
        "2818048 2949120 "
       ]
      },
      {
       "output_type": "stream",
       "stream": "stdout",
       "text": [
        "rejecting 0.0\n",
        "2883584 3014656 "
       ]
      },
      {
       "output_type": "stream",
       "stream": "stdout",
       "text": [
        "rejecting 0.0\n",
        "2949120 3080192 "
       ]
      },
      {
       "output_type": "stream",
       "stream": "stdout",
       "text": [
        "rejecting 0.0\n",
        "3014656 3145728 "
       ]
      },
      {
       "output_type": "stream",
       "stream": "stdout",
       "text": [
        "rejecting 0.00199890136719\n",
        "3080192 3211264 "
       ]
      },
      {
       "output_type": "stream",
       "stream": "stdout",
       "text": [
        "rejecting 0.00199890136719\n",
        "3145728 3276800 "
       ]
      },
      {
       "output_type": "stream",
       "stream": "stdout",
       "text": [
        "rejecting 0.00018310546875\n",
        "3211264 3342336 "
       ]
      },
      {
       "output_type": "stream",
       "stream": "stdout",
       "text": [
        "rejecting 0.00382995605469\n",
        "3276800 3407872 "
       ]
      },
      {
       "output_type": "stream",
       "stream": "stdout",
       "text": [
        "rejecting 0.00367736816406\n",
        "3342336 3473408 "
       ]
      },
      {
       "output_type": "stream",
       "stream": "stdout",
       "text": [
        "rejecting 0.0\n",
        "3407872 3538944 "
       ]
      },
      {
       "output_type": "stream",
       "stream": "stdout",
       "text": [
        "rejecting 0.0\n",
        "3473408 3604480 "
       ]
      },
      {
       "output_type": "stream",
       "stream": "stdout",
       "text": [
        "rejecting 0.0\n",
        "3538944 3670016 "
       ]
      },
      {
       "output_type": "stream",
       "stream": "stdout",
       "text": [
        "rejecting 0.0\n",
        "3604480 3735552 "
       ]
      },
      {
       "output_type": "stream",
       "stream": "stdout",
       "text": [
        "rejecting 0.0\n",
        "3670016 3801088 "
       ]
      },
      {
       "output_type": "stream",
       "stream": "stdout",
       "text": [
        "rejecting 0.0\n",
        "3735552 3866624 "
       ]
      },
      {
       "output_type": "stream",
       "stream": "stdout",
       "text": [
        "rejecting 0.0\n",
        "3801088 3932160 "
       ]
      },
      {
       "output_type": "stream",
       "stream": "stdout",
       "text": [
        "rejecting 0.0\n",
        "3866624 3997696 "
       ]
      },
      {
       "output_type": "stream",
       "stream": "stdout",
       "text": [
        "rejecting 0.0\n",
        "3932160 4063232 "
       ]
      },
      {
       "output_type": "stream",
       "stream": "stdout",
       "text": [
        "rejecting 0.0\n",
        "3997696 4128768 "
       ]
      },
      {
       "output_type": "stream",
       "stream": "stdout",
       "text": [
        "rejecting 0.0\n",
        "4063232 4194304 "
       ]
      },
      {
       "output_type": "stream",
       "stream": "stdout",
       "text": [
        "rejecting 0.0\n",
        "using NFFT: 2**"
       ]
      },
      {
       "output_type": "stream",
       "stream": "stdout",
       "text": [
        " 19.0\n",
        "10"
       ]
      },
      {
       "output_type": "stream",
       "stream": "stdout",
       "text": [
        "\n",
        "0"
       ]
      },
      {
       "output_type": "stream",
       "stream": "stdout",
       "text": [
        " 65536 rejecting 0.0\n",
        "0 131072 "
       ]
      },
      {
       "output_type": "stream",
       "stream": "stdout",
       "text": [
        "rejecting 0.0\n",
        "65536 196608 "
       ]
      },
      {
       "output_type": "stream",
       "stream": "stdout",
       "text": [
        "rejecting 0.0\n",
        "131072 262144 "
       ]
      },
      {
       "output_type": "stream",
       "stream": "stdout",
       "text": [
        "rejecting 0.0\n",
        "196608 327680 "
       ]
      },
      {
       "output_type": "stream",
       "stream": "stdout",
       "text": [
        "rejecting 0.0\n",
        "262144 393216 "
       ]
      },
      {
       "output_type": "stream",
       "stream": "stdout",
       "text": [
        "rejecting 0.0\n",
        "327680 458752 "
       ]
      },
      {
       "output_type": "stream",
       "stream": "stdout",
       "text": [
        "rejecting 0.0\n",
        "393216 524288 "
       ]
      },
      {
       "output_type": "stream",
       "stream": "stdout",
       "text": [
        "rejecting 0.0\n",
        "458752 589824 "
       ]
      },
      {
       "output_type": "stream",
       "stream": "stdout",
       "text": [
        "rejecting 0.00155639648438\n",
        "524288 655360 "
       ]
      },
      {
       "output_type": "stream",
       "stream": "stdout",
       "text": [
        "rejecting 0.00157165527344\n",
        "589824 720896 "
       ]
      },
      {
       "output_type": "stream",
       "stream": "stdout",
       "text": [
        "rejecting 0.0\n",
        "655360 786432 "
       ]
      },
      {
       "output_type": "stream",
       "stream": "stdout",
       "text": [
        "rejecting 0.0\n",
        "720896 851968 "
       ]
      },
      {
       "output_type": "stream",
       "stream": "stdout",
       "text": [
        "rejecting 0.0\n",
        "786432 917504 "
       ]
      },
      {
       "output_type": "stream",
       "stream": "stdout",
       "text": [
        "rejecting 0.0\n",
        "851968 983040 "
       ]
      },
      {
       "output_type": "stream",
       "stream": "stdout",
       "text": [
        "rejecting 0.00203704833984\n",
        "917504 1048576 "
       ]
      },
      {
       "output_type": "stream",
       "stream": "stdout",
       "text": [
        "rejecting 0.00406646728516\n",
        "983040 1114112 "
       ]
      },
      {
       "output_type": "stream",
       "stream": "stdout",
       "text": [
        "rejecting 0.00365447998047\n",
        "1048576 1179648 "
       ]
      },
      {
       "output_type": "stream",
       "stream": "stdout",
       "text": [
        "rejecting 0.00164794921875\n",
        "1114112 1245184 "
       ]
      },
      {
       "output_type": "stream",
       "stream": "stdout",
       "text": [
        "rejecting 0.00192260742188\n",
        "1179648 1310720 "
       ]
      },
      {
       "output_type": "stream",
       "stream": "stdout",
       "text": [
        "rejecting 0.00193786621094\n",
        "1245184 1376256 "
       ]
      },
      {
       "output_type": "stream",
       "stream": "stdout",
       "text": [
        "rejecting 9.1552734375e-05\n",
        "1310720 1441792 "
       ]
      },
      {
       "output_type": "stream",
       "stream": "stdout",
       "text": [
        "rejecting 9.1552734375e-05\n",
        "1376256 1507328 "
       ]
      },
      {
       "output_type": "stream",
       "stream": "stdout",
       "text": [
        "rejecting 0.0\n",
        "1441792 1572864 "
       ]
      },
      {
       "output_type": "stream",
       "stream": "stdout",
       "text": [
        "rejecting 0.0\n",
        "1507328 1638400 "
       ]
      },
      {
       "output_type": "stream",
       "stream": "stdout",
       "text": [
        "rejecting 0.0\n",
        "1572864 1703936 "
       ]
      },
      {
       "output_type": "stream",
       "stream": "stdout",
       "text": [
        "rejecting 2.28881835938e-05\n",
        "1638400 1769472 "
       ]
      },
      {
       "output_type": "stream",
       "stream": "stdout",
       "text": [
        "rejecting 0.00193786621094\n",
        "1703936 1835008 "
       ]
      },
      {
       "output_type": "stream",
       "stream": "stdout",
       "text": [
        "rejecting 0.00194549560547\n",
        "1769472 1900544 "
       ]
      },
      {
       "output_type": "stream",
       "stream": "stdout",
       "text": [
        "rejecting 0.00276947021484\n",
        "1835008 1966080 "
       ]
      },
      {
       "output_type": "stream",
       "stream": "stdout",
       "text": [
        "rejecting 0.00283050537109\n",
        "1900544 2031616 "
       ]
      },
      {
       "output_type": "stream",
       "stream": "stdout",
       "text": [
        "rejecting 0.00018310546875\n",
        "1966080 2097152 "
       ]
      },
      {
       "output_type": "stream",
       "stream": "stdout",
       "text": [
        "rejecting 0.000274658203125\n",
        "2031616 2162688 "
       ]
      },
      {
       "output_type": "stream",
       "stream": "stdout",
       "text": [
        "rejecting 4.57763671875e-05\n",
        "2097152 2228224 "
       ]
      },
      {
       "output_type": "stream",
       "stream": "stdout",
       "text": [
        "rejecting 4.57763671875e-05\n",
        "2162688 2293760 "
       ]
      },
      {
       "output_type": "stream",
       "stream": "stdout",
       "text": [
        "rejecting 4.57763671875e-05\n",
        "2228224 2359296 "
       ]
      },
      {
       "output_type": "stream",
       "stream": "stdout",
       "text": [
        "rejecting 0.000160217285156\n",
        "2293760 2424832 "
       ]
      },
      {
       "output_type": "stream",
       "stream": "stdout",
       "text": [
        "rejecting 0.000572204589844\n",
        "2359296 2490368 "
       ]
      },
      {
       "output_type": "stream",
       "stream": "stdout",
       "text": [
        "rejecting 0.0003662109375\n",
        "2424832 2555904 "
       ]
      },
      {
       "output_type": "stream",
       "stream": "stdout",
       "text": [
        "rejecting 0.000343322753906\n",
        "2490368 2621440 "
       ]
      },
      {
       "output_type": "stream",
       "stream": "stdout",
       "text": [
        "rejecting 0.000457763671875\n",
        "2555904 2686976 "
       ]
      },
      {
       "output_type": "stream",
       "stream": "stdout",
       "text": [
        "rejecting 0.00270843505859\n",
        "2621440 2752512 "
       ]
      },
      {
       "output_type": "stream",
       "stream": "stdout",
       "text": [
        "rejecting 0.00270843505859\n",
        "2686976 2818048 "
       ]
      },
      {
       "output_type": "stream",
       "stream": "stdout",
       "text": [
        "rejecting 0.0003662109375\n",
        "2752512 2883584 "
       ]
      },
      {
       "output_type": "stream",
       "stream": "stdout",
       "text": [
        "rejecting 0.000503540039062\n",
        "2818048 2949120 "
       ]
      },
      {
       "output_type": "stream",
       "stream": "stdout",
       "text": [
        "rejecting 0.00263977050781\n",
        "2883584 3014656 "
       ]
      },
      {
       "output_type": "stream",
       "stream": "stdout",
       "text": [
        "rejecting 0.00247192382812\n",
        "2949120 3080192 "
       ]
      },
      {
       "output_type": "stream",
       "stream": "stdout",
       "text": [
        "rejecting 0.0\n",
        "3014656 3145728 "
       ]
      },
      {
       "output_type": "stream",
       "stream": "stdout",
       "text": [
        "rejecting 0.00225830078125\n",
        "3080192 3211264 "
       ]
      },
      {
       "output_type": "stream",
       "stream": "stdout",
       "text": [
        "rejecting 0.00213623046875\n",
        "3145728 3276800 "
       ]
      },
      {
       "output_type": "stream",
       "stream": "stdout",
       "text": [
        "rejecting 4.57763671875e-05\n",
        "3211264 3342336 "
       ]
      },
      {
       "output_type": "stream",
       "stream": "stdout",
       "text": [
        "rejecting 2.28881835938e-05\n",
        "3276800 3407872 "
       ]
      },
      {
       "output_type": "stream",
       "stream": "stdout",
       "text": [
        "rejecting 0.0\n",
        "3342336 3473408 "
       ]
      },
      {
       "output_type": "stream",
       "stream": "stdout",
       "text": [
        "rejecting 0.0\n",
        "3407872 3538944 "
       ]
      },
      {
       "output_type": "stream",
       "stream": "stdout",
       "text": [
        "rejecting 9.1552734375e-05\n",
        "3473408 3604480 "
       ]
      },
      {
       "output_type": "stream",
       "stream": "stdout",
       "text": [
        "rejecting 4.57763671875e-05\n",
        "3538944 3670016 "
       ]
      },
      {
       "output_type": "stream",
       "stream": "stdout",
       "text": [
        "rejecting 0.00238800048828\n",
        "3604480 3735552 "
       ]
      },
      {
       "output_type": "stream",
       "stream": "stdout",
       "text": [
        "rejecting 0.00237274169922\n",
        "3670016 3801088 "
       ]
      },
      {
       "output_type": "stream",
       "stream": "stdout",
       "text": [
        "rejecting 0.0\n",
        "3735552 3866624 "
       ]
      },
      {
       "output_type": "stream",
       "stream": "stdout",
       "text": [
        "rejecting 0.00194549560547\n",
        "3801088 3932160 "
       ]
      },
      {
       "output_type": "stream",
       "stream": "stdout",
       "text": [
        "rejecting 0.00194549560547\n",
        "3866624 3997696 "
       ]
      },
      {
       "output_type": "stream",
       "stream": "stdout",
       "text": [
        "rejecting 0.0\n",
        "3932160 4063232 "
       ]
      },
      {
       "output_type": "stream",
       "stream": "stdout",
       "text": [
        "rejecting 0.0\n",
        "3997696 4128768 "
       ]
      },
      {
       "output_type": "stream",
       "stream": "stdout",
       "text": [
        "rejecting 0.0\n",
        "4063232 4194304 "
       ]
      },
      {
       "output_type": "stream",
       "stream": "stdout",
       "text": [
        "rejecting 0.0\n",
        "using NFFT: 2**"
       ]
      },
      {
       "output_type": "stream",
       "stream": "stdout",
       "text": [
        " 19.0\n",
        "10"
       ]
      },
      {
       "output_type": "stream",
       "stream": "stdout",
       "text": [
        "\n",
        "0"
       ]
      },
      {
       "output_type": "stream",
       "stream": "stdout",
       "text": [
        " 65536 rejecting 0.0\n",
        "0 131072 "
       ]
      },
      {
       "output_type": "stream",
       "stream": "stdout",
       "text": [
        "rejecting 0.0\n",
        "65536 196608 "
       ]
      },
      {
       "output_type": "stream",
       "stream": "stdout",
       "text": [
        "rejecting 0.00191497802734\n",
        "131072 262144 "
       ]
      },
      {
       "output_type": "stream",
       "stream": "stdout",
       "text": [
        "rejecting 0.00191497802734\n",
        "196608 327680 "
       ]
      },
      {
       "output_type": "stream",
       "stream": "stdout",
       "text": [
        "rejecting 0.0\n",
        "262144 393216 "
       ]
      },
      {
       "output_type": "stream",
       "stream": "stdout",
       "text": [
        "rejecting 0.00149536132812\n",
        "327680 458752 "
       ]
      },
      {
       "output_type": "stream",
       "stream": "stdout",
       "text": [
        "rejecting 0.00149536132812\n",
        "393216 524288 "
       ]
      },
      {
       "output_type": "stream",
       "stream": "stdout",
       "text": [
        "rejecting 0.0\n",
        "458752 589824 "
       ]
      },
      {
       "output_type": "stream",
       "stream": "stdout",
       "text": [
        "rejecting 0.0018310546875\n",
        "524288 655360 "
       ]
      },
      {
       "output_type": "stream",
       "stream": "stdout",
       "text": [
        "rejecting 0.00187683105469\n",
        "589824 720896 "
       ]
      },
      {
       "output_type": "stream",
       "stream": "stdout",
       "text": [
        "rejecting 0.0\n",
        "655360 786432 "
       ]
      },
      {
       "output_type": "stream",
       "stream": "stdout",
       "text": [
        "rejecting 0.00209045410156\n",
        "720896 851968 "
       ]
      },
      {
       "output_type": "stream",
       "stream": "stdout",
       "text": [
        "rejecting 0.00757598876953\n",
        "786432 917504 "
       ]
      },
      {
       "output_type": "stream",
       "stream": "stdout",
       "text": [
        "rejecting 0.00550079345703\n",
        "851968 983040 "
       ]
      },
      {
       "output_type": "stream",
       "stream": "stdout",
       "text": [
        "rejecting 0.0\n",
        "917504 1048576 "
       ]
      },
      {
       "output_type": "stream",
       "stream": "stdout",
       "text": [
        "rejecting 0.0\n",
        "983040 1114112 "
       ]
      },
      {
       "output_type": "stream",
       "stream": "stdout",
       "text": [
        "rejecting 0.000114440917969\n",
        "1048576 1179648 "
       ]
      },
      {
       "output_type": "stream",
       "stream": "stdout",
       "text": [
        "rejecting 0.00018310546875\n",
        "1114112 1245184 "
       ]
      },
      {
       "output_type": "stream",
       "stream": "stdout",
       "text": [
        "rejecting 6.86645507812e-05\n",
        "1179648 1310720 "
       ]
      },
      {
       "output_type": "stream",
       "stream": "stdout",
       "text": [
        "rejecting 0.00107574462891\n",
        "1245184 1376256 "
       ]
      },
      {
       "output_type": "stream",
       "stream": "stdout",
       "text": [
        "rejecting 0.00257873535156\n",
        "1310720 1441792 "
       ]
      },
      {
       "output_type": "stream",
       "stream": "stdout",
       "text": [
        "rejecting 0.00140380859375\n",
        "1376256 1507328 "
       ]
      },
      {
       "output_type": "stream",
       "stream": "stdout",
       "text": [
        "rejecting 0.0\n",
        "1441792 1572864 "
       ]
      },
      {
       "output_type": "stream",
       "stream": "stdout",
       "text": [
        "rejecting 0.0\n",
        "1507328 1638400 "
       ]
      },
      {
       "output_type": "stream",
       "stream": "stdout",
       "text": [
        "rejecting 2.28881835938e-05\n",
        "1572864 1703936 "
       ]
      },
      {
       "output_type": "stream",
       "stream": "stdout",
       "text": [
        "rejecting 0.0\n",
        "1638400 1769472 "
       ]
      },
      {
       "output_type": "stream",
       "stream": "stdout",
       "text": [
        "rejecting 0.00271606445312\n",
        "1703936 1835008 "
       ]
      },
      {
       "output_type": "stream",
       "stream": "stdout",
       "text": [
        "rejecting 0.00481414794922\n",
        "1769472 1900544 "
       ]
      },
      {
       "output_type": "stream",
       "stream": "stdout",
       "text": [
        "rejecting 0.00218963623047\n",
        "1835008 1966080 "
       ]
      },
      {
       "output_type": "stream",
       "stream": "stdout",
       "text": [
        "rejecting 0.000251770019531\n",
        "1900544 2031616 "
       ]
      },
      {
       "output_type": "stream",
       "stream": "stdout",
       "text": [
        "rejecting 0.000343322753906\n",
        "1966080 2097152 "
       ]
      },
      {
       "output_type": "stream",
       "stream": "stdout",
       "text": [
        "rejecting 0.000389099121094\n",
        "2031616 2162688 "
       ]
      },
      {
       "output_type": "stream",
       "stream": "stdout",
       "text": [
        "rejecting 0.000434875488281\n",
        "2097152 2228224 "
       ]
      },
      {
       "output_type": "stream",
       "stream": "stdout",
       "text": [
        "rejecting 0.000411987304688\n",
        "2162688 2293760 "
       ]
      },
      {
       "output_type": "stream",
       "stream": "stdout",
       "text": [
        "rejecting 0.000389099121094\n",
        "2228224 2359296 "
       ]
      },
      {
       "output_type": "stream",
       "stream": "stdout",
       "text": [
        "rejecting 0.000297546386719\n",
        "2293760 2424832 "
       ]
      },
      {
       "output_type": "stream",
       "stream": "stdout",
       "text": [
        "rejecting 0.000503540039062\n",
        "2359296 2490368 "
       ]
      },
      {
       "output_type": "stream",
       "stream": "stdout",
       "text": [
        "rejecting 0.000297546386719\n",
        "2424832 2555904 "
       ]
      },
      {
       "output_type": "stream",
       "stream": "stdout",
       "text": [
        "rejecting 4.57763671875e-05\n",
        "2490368 2621440 "
       ]
      },
      {
       "output_type": "stream",
       "stream": "stdout",
       "text": [
        "rejecting 0.00188446044922\n",
        "2555904 2686976 "
       ]
      },
      {
       "output_type": "stream",
       "stream": "stdout",
       "text": [
        "rejecting 0.00441741943359\n",
        "2621440 2752512 "
       ]
      },
      {
       "output_type": "stream",
       "stream": "stdout",
       "text": [
        "rejecting 0.00254058837891\n",
        "2686976 2818048 "
       ]
      },
      {
       "output_type": "stream",
       "stream": "stdout",
       "text": [
        "rejecting 0.0\n",
        "2752512 2883584 "
       ]
      },
      {
       "output_type": "stream",
       "stream": "stdout",
       "text": [
        "rejecting 0.0\n",
        "2818048 2949120 "
       ]
      },
      {
       "output_type": "stream",
       "stream": "stdout",
       "text": [
        "rejecting 4.57763671875e-05\n",
        "2883584 3014656 "
       ]
      },
      {
       "output_type": "stream",
       "stream": "stdout",
       "text": [
        "rejecting 0.00225830078125\n",
        "2949120 3080192 "
       ]
      },
      {
       "output_type": "stream",
       "stream": "stdout",
       "text": [
        "rejecting 0.00224304199219\n",
        "3014656 3145728 "
       ]
      },
      {
       "output_type": "stream",
       "stream": "stdout",
       "text": [
        "rejecting 0.0\n",
        "3080192 3211264 "
       ]
      },
      {
       "output_type": "stream",
       "stream": "stdout",
       "text": [
        "rejecting 0.0\n",
        "3145728 3276800 "
       ]
      },
      {
       "output_type": "stream",
       "stream": "stdout",
       "text": [
        "rejecting 0.0\n",
        "3211264 3342336 "
       ]
      },
      {
       "output_type": "stream",
       "stream": "stdout",
       "text": [
        "rejecting 0.0\n",
        "3276800 3407872 "
       ]
      },
      {
       "output_type": "stream",
       "stream": "stdout",
       "text": [
        "rejecting 0.0\n",
        "3342336 3473408 "
       ]
      },
      {
       "output_type": "stream",
       "stream": "stdout",
       "text": [
        "rejecting 0.0\n",
        "3407872 3538944 "
       ]
      },
      {
       "output_type": "stream",
       "stream": "stdout",
       "text": [
        "rejecting 0.0\n",
        "3473408 3604480 "
       ]
      },
      {
       "output_type": "stream",
       "stream": "stdout",
       "text": [
        "rejecting 0.00444793701172\n",
        "3538944 3670016 "
       ]
      },
      {
       "output_type": "stream",
       "stream": "stdout",
       "text": [
        "rejecting 0.00609588623047\n",
        "3604480 3735552 "
       ]
      },
      {
       "output_type": "stream",
       "stream": "stdout",
       "text": [
        "rejecting 0.00327301025391\n",
        "3670016 3801088 "
       ]
      },
      {
       "output_type": "stream",
       "stream": "stdout",
       "text": [
        "rejecting 0.00153350830078\n",
        "3735552 3866624 "
       ]
      },
      {
       "output_type": "stream",
       "stream": "stdout",
       "text": [
        "rejecting 0.0\n",
        "3801088 3932160 "
       ]
      },
      {
       "output_type": "stream",
       "stream": "stdout",
       "text": [
        "rejecting 0.0\n",
        "3866624 3997696 "
       ]
      },
      {
       "output_type": "stream",
       "stream": "stdout",
       "text": [
        "rejecting 0.0\n",
        "3932160 4063232 "
       ]
      },
      {
       "output_type": "stream",
       "stream": "stdout",
       "text": [
        "rejecting 0.00243377685547\n",
        "3997696 4128768 "
       ]
      },
      {
       "output_type": "stream",
       "stream": "stdout",
       "text": [
        "rejecting 0.00239562988281\n",
        "4063232 4194304 "
       ]
      },
      {
       "output_type": "stream",
       "stream": "stdout",
       "text": [
        "rejecting 0.0\n",
        "using NFFT: 2**"
       ]
      },
      {
       "output_type": "stream",
       "stream": "stdout",
       "text": [
        " 19.0\n",
        "10"
       ]
      },
      {
       "output_type": "stream",
       "stream": "stdout",
       "text": [
        "\n",
        "0"
       ]
      },
      {
       "output_type": "stream",
       "stream": "stdout",
       "text": [
        " 65536 rejecting 0.0\n",
        "0 131072 "
       ]
      },
      {
       "output_type": "stream",
       "stream": "stdout",
       "text": [
        "rejecting 0.0\n",
        "65536 196608 "
       ]
      },
      {
       "output_type": "stream",
       "stream": "stdout",
       "text": [
        "rejecting 0.0\n",
        "131072 262144 "
       ]
      },
      {
       "output_type": "stream",
       "stream": "stdout",
       "text": [
        "rejecting 2.28881835938e-05\n",
        "196608 327680 "
       ]
      },
      {
       "output_type": "stream",
       "stream": "stdout",
       "text": [
        "rejecting 2.28881835938e-05\n",
        "262144 393216 "
       ]
      },
      {
       "output_type": "stream",
       "stream": "stdout",
       "text": [
        "rejecting 0.00213623046875\n",
        "327680 458752 "
       ]
      },
      {
       "output_type": "stream",
       "stream": "stdout",
       "text": [
        "rejecting 0.00213623046875\n",
        "393216 524288 "
       ]
      },
      {
       "output_type": "stream",
       "stream": "stdout",
       "text": [
        "rejecting 0.0\n",
        "458752 589824 "
       ]
      },
      {
       "output_type": "stream",
       "stream": "stdout",
       "text": [
        "rejecting 0.00244140625\n",
        "524288 655360 "
       ]
      },
      {
       "output_type": "stream",
       "stream": "stdout",
       "text": [
        "rejecting 0.00244140625\n",
        "589824 720896 "
       ]
      },
      {
       "output_type": "stream",
       "stream": "stdout",
       "text": [
        "rejecting 0.0\n",
        "655360 786432 "
       ]
      },
      {
       "output_type": "stream",
       "stream": "stdout",
       "text": [
        "rejecting 0.00190734863281\n",
        "720896 851968 "
       ]
      },
      {
       "output_type": "stream",
       "stream": "stdout",
       "text": [
        "rejecting 0.00190734863281\n",
        "786432 917504 "
       ]
      },
      {
       "output_type": "stream",
       "stream": "stdout",
       "text": [
        "rejecting 0.0\n",
        "851968 983040 "
       ]
      },
      {
       "output_type": "stream",
       "stream": "stdout",
       "text": [
        "rejecting 0.00213623046875\n",
        "917504 1048576 "
       ]
      },
      {
       "output_type": "stream",
       "stream": "stdout",
       "text": [
        "rejecting 0.00215911865234\n",
        "983040 1114112 "
       ]
      },
      {
       "output_type": "stream",
       "stream": "stdout",
       "text": [
        "rejecting 6.86645507812e-05\n",
        "1048576 1179648 "
       ]
      },
      {
       "output_type": "stream",
       "stream": "stdout",
       "text": [
        "rejecting 0.0\n",
        "1114112 1245184 "
       ]
      },
      {
       "output_type": "stream",
       "stream": "stdout",
       "text": [
        "rejecting 0.0\n",
        "1179648 1310720 "
       ]
      },
      {
       "output_type": "stream",
       "stream": "stdout",
       "text": [
        "rejecting 0.0\n",
        "1245184 1376256 "
       ]
      },
      {
       "output_type": "stream",
       "stream": "stdout",
       "text": [
        "rejecting 0.0\n",
        "1310720 1441792 "
       ]
      },
      {
       "output_type": "stream",
       "stream": "stdout",
       "text": [
        "rejecting 0.00159454345703\n",
        "1376256 1507328 "
       ]
      },
      {
       "output_type": "stream",
       "stream": "stdout",
       "text": [
        "rejecting 0.00604248046875\n",
        "1441792 1572864 "
       ]
      },
      {
       "output_type": "stream",
       "stream": "stdout",
       "text": [
        "rejecting 0.00450897216797\n",
        "1507328 1638400 "
       ]
      },
      {
       "output_type": "stream",
       "stream": "stdout",
       "text": [
        "rejecting 6.86645507812e-05\n",
        "1572864 1703936 "
       ]
      },
      {
       "output_type": "stream",
       "stream": "stdout",
       "text": [
        "rejecting 0.00264739990234\n",
        "1638400 1769472 "
       ]
      },
      {
       "output_type": "stream",
       "stream": "stdout",
       "text": [
        "rejecting 0.00267791748047\n",
        "1703936 1835008 "
       ]
      },
      {
       "output_type": "stream",
       "stream": "stdout",
       "text": [
        "rejecting 0.00506591796875\n",
        "1769472 1900544 "
       ]
      },
      {
       "output_type": "stream",
       "stream": "stdout",
       "text": [
        "rejecting 0.00540924072266\n",
        "1835008 1966080 "
       ]
      },
      {
       "output_type": "stream",
       "stream": "stdout",
       "text": [
        "rejecting 0.000457763671875\n",
        "1900544 2031616 "
       ]
      },
      {
       "output_type": "stream",
       "stream": "stdout",
       "text": [
        "rejecting 0.0003662109375\n",
        "1966080 2097152 "
       ]
      },
      {
       "output_type": "stream",
       "stream": "stdout",
       "text": [
        "rejecting 0.0003662109375\n",
        "2031616 2162688 "
       ]
      },
      {
       "output_type": "stream",
       "stream": "stdout",
       "text": [
        "rejecting 0.00018310546875\n",
        "2097152 2228224 "
       ]
      },
      {
       "output_type": "stream",
       "stream": "stdout",
       "text": [
        "rejecting 0.000343322753906\n",
        "2162688 2293760 "
       ]
      },
      {
       "output_type": "stream",
       "stream": "stdout",
       "text": [
        "rejecting 0.0010986328125\n",
        "2228224 2359296 "
       ]
      },
      {
       "output_type": "stream",
       "stream": "stdout",
       "text": [
        "rejecting 0.000869750976562\n",
        "2293760 2424832 "
       ]
      },
      {
       "output_type": "stream",
       "stream": "stdout",
       "text": [
        "rejecting 0.000205993652344\n",
        "2359296 2490368 "
       ]
      },
      {
       "output_type": "stream",
       "stream": "stdout",
       "text": [
        "rejecting 0.00322723388672\n",
        "2424832 2555904 "
       ]
      },
      {
       "output_type": "stream",
       "stream": "stdout",
       "text": [
        "rejecting 0.00306701660156\n",
        "2490368 2621440 "
       ]
      },
      {
       "output_type": "stream",
       "stream": "stdout",
       "text": [
        "rejecting 0.000297546386719\n",
        "2555904 2686976 "
       ]
      },
      {
       "output_type": "stream",
       "stream": "stdout",
       "text": [
        "rejecting 0.000640869140625\n",
        "2621440 2752512 "
       ]
      },
      {
       "output_type": "stream",
       "stream": "stdout",
       "text": [
        "rejecting 0.000320434570312\n",
        "2686976 2818048 "
       ]
      },
      {
       "output_type": "stream",
       "stream": "stdout",
       "text": [
        "rejecting 0.000320434570312\n",
        "2752512 2883584 "
       ]
      },
      {
       "output_type": "stream",
       "stream": "stdout",
       "text": [
        "rejecting 0.000160217285156\n",
        "2818048 2949120 "
       ]
      },
      {
       "output_type": "stream",
       "stream": "stdout",
       "text": [
        "rejecting 0.000389099121094\n",
        "2883584 3014656 "
       ]
      },
      {
       "output_type": "stream",
       "stream": "stdout",
       "text": [
        "rejecting 0.000343322753906\n",
        "2949120 3080192 "
       ]
      },
      {
       "output_type": "stream",
       "stream": "stdout",
       "text": [
        "rejecting 6.86645507812e-05\n",
        "3014656 3145728 "
       ]
      },
      {
       "output_type": "stream",
       "stream": "stdout",
       "text": [
        "rejecting 0.0\n",
        "3080192 3211264 "
       ]
      },
      {
       "output_type": "stream",
       "stream": "stdout",
       "text": [
        "rejecting 0.0\n",
        "3145728 3276800 "
       ]
      },
      {
       "output_type": "stream",
       "stream": "stdout",
       "text": [
        "rejecting 0.0\n",
        "3211264 3342336 "
       ]
      },
      {
       "output_type": "stream",
       "stream": "stdout",
       "text": [
        "rejecting 0.0\n",
        "3276800 3407872 "
       ]
      },
      {
       "output_type": "stream",
       "stream": "stdout",
       "text": [
        "rejecting 0.0042724609375\n",
        "3342336 3473408 "
       ]
      },
      {
       "output_type": "stream",
       "stream": "stdout",
       "text": [
        "rejecting 0.00426483154297\n",
        "3407872 3538944 "
       ]
      },
      {
       "output_type": "stream",
       "stream": "stdout",
       "text": [
        "rejecting 0.000679016113281\n",
        "3473408 3604480 "
       ]
      },
      {
       "output_type": "stream",
       "stream": "stdout",
       "text": [
        "rejecting 0.000526428222656\n",
        "3538944 3670016 "
       ]
      },
      {
       "output_type": "stream",
       "stream": "stdout",
       "text": [
        "rejecting 9.1552734375e-05\n",
        "3604480 3735552 "
       ]
      },
      {
       "output_type": "stream",
       "stream": "stdout",
       "text": [
        "rejecting 0.0\n",
        "3670016 3801088 "
       ]
      },
      {
       "output_type": "stream",
       "stream": "stdout",
       "text": [
        "rejecting 0.0\n",
        "3735552 3866624 "
       ]
      },
      {
       "output_type": "stream",
       "stream": "stdout",
       "text": [
        "rejecting 0.0\n",
        "3801088 3932160 "
       ]
      },
      {
       "output_type": "stream",
       "stream": "stdout",
       "text": [
        "rejecting 0.0\n",
        "3866624 3997696 "
       ]
      },
      {
       "output_type": "stream",
       "stream": "stdout",
       "text": [
        "rejecting 0.0\n",
        "3932160 4063232 "
       ]
      },
      {
       "output_type": "stream",
       "stream": "stdout",
       "text": [
        "rejecting 0.0\n",
        "3997696 4128768 "
       ]
      },
      {
       "output_type": "stream",
       "stream": "stdout",
       "text": [
        "rejecting 0.0\n",
        "4063232 4194304 "
       ]
      },
      {
       "output_type": "stream",
       "stream": "stdout",
       "text": [
        "rejecting 0.0\n",
        "using NFFT: 2**"
       ]
      },
      {
       "output_type": "stream",
       "stream": "stdout",
       "text": [
        " 19.0\n",
        "10"
       ]
      },
      {
       "output_type": "stream",
       "stream": "stdout",
       "text": [
        "\n",
        "0"
       ]
      },
      {
       "output_type": "stream",
       "stream": "stdout",
       "text": [
        " 65536 rejecting 4.57763671875e-05\n",
        "0 131072 "
       ]
      },
      {
       "output_type": "stream",
       "stream": "stdout",
       "text": [
        "rejecting 0.000114440917969\n",
        "65536 196608 "
       ]
      },
      {
       "output_type": "stream",
       "stream": "stdout",
       "text": [
        "rejecting 6.86645507812e-05\n",
        "131072 262144 "
       ]
      },
      {
       "output_type": "stream",
       "stream": "stdout",
       "text": [
        "rejecting 0.00382995605469\n",
        "196608 327680 "
       ]
      },
      {
       "output_type": "stream",
       "stream": "stdout",
       "text": [
        "rejecting 0.00386810302734\n",
        "262144 393216 "
       ]
      },
      {
       "output_type": "stream",
       "stream": "stdout",
       "text": [
        "rejecting 0.000114440917969\n",
        "327680 458752 "
       ]
      },
      {
       "output_type": "stream",
       "stream": "stdout",
       "text": [
        "rejecting 4.57763671875e-05\n",
        "393216 524288 "
       ]
      },
      {
       "output_type": "stream",
       "stream": "stdout",
       "text": [
        "rejecting 0.0\n",
        "458752 589824 "
       ]
      },
      {
       "output_type": "stream",
       "stream": "stdout",
       "text": [
        "rejecting 0.0\n",
        "524288 655360 "
       ]
      },
      {
       "output_type": "stream",
       "stream": "stdout",
       "text": [
        "rejecting 2.28881835938e-05\n",
        "589824 720896 "
       ]
      },
      {
       "output_type": "stream",
       "stream": "stdout",
       "text": [
        "rejecting 0.0\n",
        "655360 786432 "
       ]
      },
      {
       "output_type": "stream",
       "stream": "stdout",
       "text": [
        "rejecting 0.0\n",
        "720896 851968 "
       ]
      },
      {
       "output_type": "stream",
       "stream": "stdout",
       "text": [
        "rejecting 0.0\n",
        "786432 917504 "
       ]
      },
      {
       "output_type": "stream",
       "stream": "stdout",
       "text": [
        "rejecting 0.0\n",
        "851968 983040 "
       ]
      },
      {
       "output_type": "stream",
       "stream": "stdout",
       "text": [
        "rejecting 0.00343322753906\n",
        "917504 1048576 "
       ]
      },
      {
       "output_type": "stream",
       "stream": "stdout",
       "text": [
        "rejecting 0.00604248046875\n",
        "983040 1114112 "
       ]
      },
      {
       "output_type": "stream",
       "stream": "stdout",
       "text": [
        "rejecting 0.00265502929688\n",
        "1048576 1179648 "
       ]
      },
      {
       "output_type": "stream",
       "stream": "stdout",
       "text": [
        "rejecting 0.000160217285156\n",
        "1114112 1245184 "
       ]
      },
      {
       "output_type": "stream",
       "stream": "stdout",
       "text": [
        "rejecting 6.86645507812e-05\n",
        "1179648 1310720 "
       ]
      },
      {
       "output_type": "stream",
       "stream": "stdout",
       "text": [
        "rejecting 0.000160217285156\n",
        "1245184 1376256 "
       ]
      },
      {
       "output_type": "stream",
       "stream": "stdout",
       "text": [
        "rejecting 0.000160217285156\n",
        "1310720 1441792 "
       ]
      },
      {
       "output_type": "stream",
       "stream": "stdout",
       "text": [
        "rejecting 0.000274658203125\n",
        "1376256 1507328 "
       ]
      },
      {
       "output_type": "stream",
       "stream": "stdout",
       "text": [
        "rejecting 0.000297546386719\n",
        "1441792 1572864 "
       ]
      },
      {
       "output_type": "stream",
       "stream": "stdout",
       "text": [
        "rejecting 0.00289154052734\n",
        "1507328 1638400 "
       ]
      },
      {
       "output_type": "stream",
       "stream": "stdout",
       "text": [
        "rejecting 0.00620269775391\n",
        "1572864 1703936 "
       ]
      },
      {
       "output_type": "stream",
       "stream": "stdout",
       "text": [
        "rejecting 0.00356292724609\n",
        "1638400 1769472 "
       ]
      },
      {
       "output_type": "stream",
       "stream": "stdout",
       "text": [
        "rejecting 0.00018310546875\n",
        "1703936 1835008 "
       ]
      },
      {
       "output_type": "stream",
       "stream": "stdout",
       "text": [
        "rejecting 0.00514984130859\n",
        "1769472 1900544 "
       ]
      },
      {
       "output_type": "stream",
       "stream": "stdout",
       "text": [
        "rejecting 0.00552368164062\n",
        "1835008 1966080 "
       ]
      },
      {
       "output_type": "stream",
       "stream": "stdout",
       "text": [
        "rejecting 0.000778198242188\n",
        "1900544 2031616 "
       ]
      },
      {
       "output_type": "stream",
       "stream": "stdout",
       "text": [
        "rejecting 0.000389099121094\n",
        "1966080 2097152 "
       ]
      },
      {
       "output_type": "stream",
       "stream": "stdout",
       "text": [
        "rejecting 0.000297546386719\n",
        "2031616 2162688 "
       ]
      },
      {
       "output_type": "stream",
       "stream": "stdout",
       "text": [
        "rejecting 6.86645507812e-05\n",
        "2097152 2228224 "
       ]
      },
      {
       "output_type": "stream",
       "stream": "stdout",
       "text": [
        "rejecting 0.00225830078125\n",
        "2162688 2293760 "
       ]
      },
      {
       "output_type": "stream",
       "stream": "stdout",
       "text": [
        "rejecting 0.00257873535156\n",
        "2228224 2359296 "
       ]
      },
      {
       "output_type": "stream",
       "stream": "stdout",
       "text": [
        "rejecting 0.00269317626953\n",
        "2293760 2424832 "
       ]
      },
      {
       "output_type": "stream",
       "stream": "stdout",
       "text": [
        "rejecting 0.0028076171875\n",
        "2359296 2490368 "
       ]
      },
      {
       "output_type": "stream",
       "stream": "stdout",
       "text": [
        "rejecting 0.000503540039062\n",
        "2424832 2555904 "
       ]
      },
      {
       "output_type": "stream",
       "stream": "stdout",
       "text": [
        "rejecting 0.0003662109375\n",
        "2490368 2621440 "
       ]
      },
      {
       "output_type": "stream",
       "stream": "stdout",
       "text": [
        "rejecting 0.00264739990234\n",
        "2555904 2686976 "
       ]
      },
      {
       "output_type": "stream",
       "stream": "stdout",
       "text": [
        "rejecting 0.00258636474609\n",
        "2621440 2752512 "
       ]
      },
      {
       "output_type": "stream",
       "stream": "stdout",
       "text": [
        "rejecting 0.00228118896484\n",
        "2686976 2818048 "
       ]
      },
      {
       "output_type": "stream",
       "stream": "stdout",
       "text": [
        "rejecting 0.0052490234375\n",
        "2752512 2883584 "
       ]
      },
      {
       "output_type": "stream",
       "stream": "stdout",
       "text": [
        "rejecting 0.00528717041016\n",
        "2818048 2949120 "
       ]
      },
      {
       "output_type": "stream",
       "stream": "stdout",
       "text": [
        "rejecting 0.00223541259766\n",
        "2883584 3014656 "
       ]
      },
      {
       "output_type": "stream",
       "stream": "stdout",
       "text": [
        "rejecting 0.000160217285156\n",
        "2949120 3080192 "
       ]
      },
      {
       "output_type": "stream",
       "stream": "stdout",
       "text": [
        "rejecting 6.86645507812e-05\n",
        "3014656 3145728 "
       ]
      },
      {
       "output_type": "stream",
       "stream": "stdout",
       "text": [
        "rejecting 0.000297546386719\n",
        "3080192 3211264 "
       ]
      },
      {
       "output_type": "stream",
       "stream": "stdout",
       "text": [
        "rejecting 0.000411987304688\n",
        "3145728 3276800 "
       ]
      },
      {
       "output_type": "stream",
       "stream": "stdout",
       "text": [
        "rejecting 0.000251770019531\n",
        "3211264 3342336 "
       ]
      },
      {
       "output_type": "stream",
       "stream": "stdout",
       "text": [
        "rejecting 9.1552734375e-05\n",
        "3276800 3407872 "
       ]
      },
      {
       "output_type": "stream",
       "stream": "stdout",
       "text": [
        "rejecting 2.28881835938e-05\n",
        "3342336 3473408 "
       ]
      },
      {
       "output_type": "stream",
       "stream": "stdout",
       "text": [
        "rejecting 0.0\n",
        "3407872 3538944 "
       ]
      },
      {
       "output_type": "stream",
       "stream": "stdout",
       "text": [
        "rejecting 0.0\n",
        "3473408 3604480 "
       ]
      },
      {
       "output_type": "stream",
       "stream": "stdout",
       "text": [
        "rejecting 0.0\n",
        "3538944 3670016 "
       ]
      },
      {
       "output_type": "stream",
       "stream": "stdout",
       "text": [
        "rejecting 0.0\n",
        "3604480 3735552 "
       ]
      },
      {
       "output_type": "stream",
       "stream": "stdout",
       "text": [
        "rejecting 0.0\n",
        "3670016 3801088 "
       ]
      },
      {
       "output_type": "stream",
       "stream": "stdout",
       "text": [
        "rejecting 0.0\n",
        "3735552 3866624 "
       ]
      },
      {
       "output_type": "stream",
       "stream": "stdout",
       "text": [
        "rejecting 0.0\n",
        "3801088 3932160 "
       ]
      },
      {
       "output_type": "stream",
       "stream": "stdout",
       "text": [
        "rejecting 0.000114440917969\n",
        "3866624 3997696 "
       ]
      },
      {
       "output_type": "stream",
       "stream": "stdout",
       "text": [
        "rejecting 0.00301361083984\n",
        "3932160 4063232 "
       ]
      },
      {
       "output_type": "stream",
       "stream": "stdout",
       "text": [
        "rejecting 0.00289154052734\n",
        "3997696 4128768 "
       ]
      },
      {
       "output_type": "stream",
       "stream": "stdout",
       "text": [
        "rejecting 0.0\n",
        "4063232 4194304 "
       ]
      },
      {
       "output_type": "stream",
       "stream": "stdout",
       "text": [
        "rejecting 0.0\n",
        "using NFFT: 2**"
       ]
      },
      {
       "output_type": "stream",
       "stream": "stdout",
       "text": [
        " 19.0\n",
        "10"
       ]
      },
      {
       "output_type": "stream",
       "stream": "stdout",
       "text": [
        "\n",
        "0"
       ]
      },
      {
       "output_type": "stream",
       "stream": "stdout",
       "text": [
        " 65536 rejecting 0.00334167480469\n",
        "0 131072 "
       ]
      },
      {
       "output_type": "stream",
       "stream": "stdout",
       "text": [
        "rejecting 0.00167846679688\n",
        "65536 196608 "
       ]
      },
      {
       "output_type": "stream",
       "stream": "stdout",
       "text": [
        "rejecting 0.0\n",
        "131072 262144 "
       ]
      },
      {
       "output_type": "stream",
       "stream": "stdout",
       "text": [
        "rejecting 0.00176239013672\n",
        "196608 327680 "
       ]
      },
      {
       "output_type": "stream",
       "stream": "stdout",
       "text": [
        "rejecting 0.00391387939453\n",
        "262144 393216 "
       ]
      },
      {
       "output_type": "stream",
       "stream": "stdout",
       "text": [
        "rejecting 0.00215148925781\n",
        "327680 458752 "
       ]
      },
      {
       "output_type": "stream",
       "stream": "stdout",
       "text": [
        "rejecting 0.00212860107422\n",
        "393216 524288 "
       ]
      },
      {
       "output_type": "stream",
       "stream": "stdout",
       "text": [
        "rejecting 0.00213623046875\n",
        "458752 589824 "
       ]
      },
      {
       "output_type": "stream",
       "stream": "stdout",
       "text": [
        "rejecting 0.0\n",
        "524288 655360 "
       ]
      },
      {
       "output_type": "stream",
       "stream": "stdout",
       "text": [
        "rejecting 9.1552734375e-05\n",
        "589824 720896 "
       ]
      },
      {
       "output_type": "stream",
       "stream": "stdout",
       "text": [
        "rejecting 0.00154113769531\n",
        "655360 786432 "
       ]
      },
      {
       "output_type": "stream",
       "stream": "stdout",
       "text": [
        "rejecting 0.00354766845703\n",
        "720896 851968 "
       ]
      },
      {
       "output_type": "stream",
       "stream": "stdout",
       "text": [
        "rejecting 0.00212860107422\n",
        "786432 917504 "
       ]
      },
      {
       "output_type": "stream",
       "stream": "stdout",
       "text": [
        "rejecting 0.0\n",
        "851968 983040 "
       ]
      },
      {
       "output_type": "stream",
       "stream": "stdout",
       "text": [
        "rejecting 0.0\n",
        "917504 1048576 "
       ]
      },
      {
       "output_type": "stream",
       "stream": "stdout",
       "text": [
        "rejecting 0.00175476074219\n",
        "983040 1114112 "
       ]
      },
      {
       "output_type": "stream",
       "stream": "stdout",
       "text": [
        "rejecting 0.00177001953125\n",
        "1048576 1179648 "
       ]
      },
      {
       "output_type": "stream",
       "stream": "stdout",
       "text": [
        "rejecting 0.0\n",
        "1114112 1245184 "
       ]
      },
      {
       "output_type": "stream",
       "stream": "stdout",
       "text": [
        "rejecting 0.0\n",
        "1179648 1310720 "
       ]
      },
      {
       "output_type": "stream",
       "stream": "stdout",
       "text": [
        "rejecting 0.0\n",
        "1245184 1376256 "
       ]
      },
      {
       "output_type": "stream",
       "stream": "stdout",
       "text": [
        "rejecting 0.0\n",
        "1310720 1441792 "
       ]
      },
      {
       "output_type": "stream",
       "stream": "stdout",
       "text": [
        "rejecting 0.0\n",
        "1376256 1507328 "
       ]
      },
      {
       "output_type": "stream",
       "stream": "stdout",
       "text": [
        "rejecting 0.000457763671875\n",
        "1441792 1572864 "
       ]
      },
      {
       "output_type": "stream",
       "stream": "stdout",
       "text": [
        "rejecting 0.000503540039062\n",
        "1507328 1638400 "
       ]
      },
      {
       "output_type": "stream",
       "stream": "stdout",
       "text": [
        "rejecting 4.57763671875e-05\n",
        "1572864 1703936 "
       ]
      },
      {
       "output_type": "stream",
       "stream": "stdout",
       "text": [
        "rejecting 6.86645507812e-05\n",
        "1638400 1769472 "
       ]
      },
      {
       "output_type": "stream",
       "stream": "stdout",
       "text": [
        "rejecting 0.0\n",
        "1703936 1835008 "
       ]
      },
      {
       "output_type": "stream",
       "stream": "stdout",
       "text": [
        "rejecting 2.28881835938e-05\n",
        "1769472 1900544 "
       ]
      },
      {
       "output_type": "stream",
       "stream": "stdout",
       "text": [
        "rejecting 0.000114440917969\n",
        "1835008 1966080 "
       ]
      },
      {
       "output_type": "stream",
       "stream": "stdout",
       "text": [
        "rejecting 0.000114440917969\n",
        "1900544 2031616 "
       ]
      },
      {
       "output_type": "stream",
       "stream": "stdout",
       "text": [
        "rejecting 4.57763671875e-05\n",
        "1966080 2097152 "
       ]
      },
      {
       "output_type": "stream",
       "stream": "stdout",
       "text": [
        "rejecting 0.000297546386719\n",
        "2031616 2162688 "
       ]
      },
      {
       "output_type": "stream",
       "stream": "stdout",
       "text": [
        "rejecting 0.000617980957031\n",
        "2097152 2228224 "
       ]
      },
      {
       "output_type": "stream",
       "stream": "stdout",
       "text": [
        "rejecting 0.000503540039062\n",
        "2162688 2293760 "
       ]
      },
      {
       "output_type": "stream",
       "stream": "stdout",
       "text": [
        "rejecting 0.00225067138672\n",
        "2228224 2359296 "
       ]
      },
      {
       "output_type": "stream",
       "stream": "stdout",
       "text": [
        "rejecting 0.0023193359375\n",
        "2293760 2424832 "
       ]
      },
      {
       "output_type": "stream",
       "stream": "stdout",
       "text": [
        "rejecting 0.000411987304688\n",
        "2359296 2490368 "
       ]
      },
      {
       "output_type": "stream",
       "stream": "stdout",
       "text": [
        "rejecting 0.0003662109375\n",
        "2424832 2555904 "
       ]
      },
      {
       "output_type": "stream",
       "stream": "stdout",
       "text": [
        "rejecting 0.000389099121094\n",
        "2490368 2621440 "
       ]
      },
      {
       "output_type": "stream",
       "stream": "stdout",
       "text": [
        "rejecting 0.000137329101562\n",
        "2555904 2686976 "
       ]
      },
      {
       "output_type": "stream",
       "stream": "stdout",
       "text": [
        "rejecting 0.000205993652344\n",
        "2621440 2752512 "
       ]
      },
      {
       "output_type": "stream",
       "stream": "stdout",
       "text": [
        "rejecting 0.00306701660156\n",
        "2686976 2818048 "
       ]
      },
      {
       "output_type": "stream",
       "stream": "stdout",
       "text": [
        "rejecting 0.00299835205078\n",
        "2752512 2883584 "
       ]
      },
      {
       "output_type": "stream",
       "stream": "stdout",
       "text": [
        "rejecting 0.00018310546875\n",
        "2818048 2949120 "
       ]
      },
      {
       "output_type": "stream",
       "stream": "stdout",
       "text": [
        "rejecting 0.0\n",
        "2883584 3014656 "
       ]
      },
      {
       "output_type": "stream",
       "stream": "stdout",
       "text": [
        "rejecting 2.28881835938e-05\n",
        "2949120 3080192 "
       ]
      },
      {
       "output_type": "stream",
       "stream": "stdout",
       "text": [
        "rejecting 6.86645507812e-05\n",
        "3014656 3145728 "
       ]
      },
      {
       "output_type": "stream",
       "stream": "stdout",
       "text": [
        "rejecting 0.000114440917969\n",
        "3080192 3211264 "
       ]
      },
      {
       "output_type": "stream",
       "stream": "stdout",
       "text": [
        "rejecting 4.57763671875e-05\n",
        "3145728 3276800 "
       ]
      },
      {
       "output_type": "stream",
       "stream": "stdout",
       "text": [
        "rejecting 0.0\n",
        "3211264 3342336 "
       ]
      },
      {
       "output_type": "stream",
       "stream": "stdout",
       "text": [
        "rejecting 0.0\n",
        "3276800 3407872 "
       ]
      },
      {
       "output_type": "stream",
       "stream": "stdout",
       "text": [
        "rejecting 0.0\n",
        "3342336 3473408 "
       ]
      },
      {
       "output_type": "stream",
       "stream": "stdout",
       "text": [
        "rejecting 0.00413513183594\n",
        "3407872 3538944 "
       ]
      },
      {
       "output_type": "stream",
       "stream": "stdout",
       "text": [
        "rejecting 0.00405883789062\n",
        "3473408 3604480 "
       ]
      },
      {
       "output_type": "stream",
       "stream": "stdout",
       "text": [
        "rejecting 0.0\n",
        "3538944 3670016 "
       ]
      },
      {
       "output_type": "stream",
       "stream": "stdout",
       "text": [
        "rejecting 0.0\n",
        "3604480 3735552 "
       ]
      },
      {
       "output_type": "stream",
       "stream": "stdout",
       "text": [
        "rejecting 0.00520324707031\n",
        "3670016 3801088 "
       ]
      },
      {
       "output_type": "stream",
       "stream": "stdout",
       "text": [
        "rejecting 0.00517272949219\n",
        "3735552 3866624 "
       ]
      },
      {
       "output_type": "stream",
       "stream": "stdout",
       "text": [
        "rejecting 0.00258636474609\n",
        "3801088 3932160 "
       ]
      },
      {
       "output_type": "stream",
       "stream": "stdout",
       "text": [
        "rejecting 0.00257110595703\n",
        "3866624 3997696 "
       ]
      },
      {
       "output_type": "stream",
       "stream": "stdout",
       "text": [
        "rejecting 0.00168609619141\n",
        "3932160 4063232 "
       ]
      },
      {
       "output_type": "stream",
       "stream": "stdout",
       "text": [
        "rejecting 0.00166320800781\n",
        "3997696 4128768 "
       ]
      },
      {
       "output_type": "stream",
       "stream": "stdout",
       "text": [
        "rejecting 0.0\n",
        "4063232 4194304 "
       ]
      },
      {
       "output_type": "stream",
       "stream": "stdout",
       "text": [
        "rejecting 0.0\n",
        "using NFFT: 2**"
       ]
      },
      {
       "output_type": "stream",
       "stream": "stdout",
       "text": [
        " 19.0\n",
        "10"
       ]
      },
      {
       "output_type": "stream",
       "stream": "stdout",
       "text": [
        "\n",
        "0"
       ]
      },
      {
       "output_type": "stream",
       "stream": "stdout",
       "text": [
        " 65536 rejecting 0.0\n",
        "0 131072 "
       ]
      },
      {
       "output_type": "stream",
       "stream": "stdout",
       "text": [
        "rejecting 0.0\n",
        "65536 196608 "
       ]
      },
      {
       "output_type": "stream",
       "stream": "stdout",
       "text": [
        "rejecting 0.0\n",
        "131072 262144 "
       ]
      },
      {
       "output_type": "stream",
       "stream": "stdout",
       "text": [
        "rejecting 0.0\n",
        "196608 327680 "
       ]
      },
      {
       "output_type": "stream",
       "stream": "stdout",
       "text": [
        "rejecting 0.0\n",
        "262144 393216 "
       ]
      },
      {
       "output_type": "stream",
       "stream": "stdout",
       "text": [
        "rejecting 0.0\n",
        "327680 458752 "
       ]
      },
      {
       "output_type": "stream",
       "stream": "stdout",
       "text": [
        "rejecting 0.0\n",
        "393216 524288 "
       ]
      },
      {
       "output_type": "stream",
       "stream": "stdout",
       "text": [
        "rejecting 0.0\n",
        "458752 589824 "
       ]
      },
      {
       "output_type": "stream",
       "stream": "stdout",
       "text": [
        "rejecting 0.0\n",
        "524288 655360 "
       ]
      },
      {
       "output_type": "stream",
       "stream": "stdout",
       "text": [
        "rejecting 0.0\n",
        "589824 720896 "
       ]
      },
      {
       "output_type": "stream",
       "stream": "stdout",
       "text": [
        "rejecting 0.0\n",
        "655360 786432 "
       ]
      },
      {
       "output_type": "stream",
       "stream": "stdout",
       "text": [
        "rejecting 0.0\n",
        "720896 851968 "
       ]
      },
      {
       "output_type": "stream",
       "stream": "stdout",
       "text": [
        "rejecting 0.00197601318359\n",
        "786432 917504 "
       ]
      },
      {
       "output_type": "stream",
       "stream": "stdout",
       "text": [
        "rejecting 0.00412750244141\n",
        "851968 983040 "
       ]
      },
      {
       "output_type": "stream",
       "stream": "stdout",
       "text": [
        "rejecting 0.00214385986328\n",
        "917504 1048576 "
       ]
      },
      {
       "output_type": "stream",
       "stream": "stdout",
       "text": [
        "rejecting 0.0\n",
        "983040 1114112 "
       ]
      },
      {
       "output_type": "stream",
       "stream": "stdout",
       "text": [
        "rejecting 0.0\n",
        "1048576 1179648 "
       ]
      },
      {
       "output_type": "stream",
       "stream": "stdout",
       "text": [
        "rejecting 0.0\n",
        "1114112 1245184 "
       ]
      },
      {
       "output_type": "stream",
       "stream": "stdout",
       "text": [
        "rejecting 0.0\n",
        "1179648 1310720 "
       ]
      },
      {
       "output_type": "stream",
       "stream": "stdout",
       "text": [
        "rejecting 0.0\n",
        "1245184 1376256 "
       ]
      },
      {
       "output_type": "stream",
       "stream": "stdout",
       "text": [
        "rejecting 0.0\n",
        "1310720 1441792 "
       ]
      },
      {
       "output_type": "stream",
       "stream": "stdout",
       "text": [
        "rejecting 0.0\n",
        "1376256 1507328 "
       ]
      },
      {
       "output_type": "stream",
       "stream": "stdout",
       "text": [
        "rejecting 0.0\n",
        "1441792 1572864 "
       ]
      },
      {
       "output_type": "stream",
       "stream": "stdout",
       "text": [
        "rejecting 6.86645507812e-05\n",
        "1507328 1638400 "
       ]
      },
      {
       "output_type": "stream",
       "stream": "stdout",
       "text": [
        "rejecting 0.0\n",
        "1572864 1703936 "
       ]
      },
      {
       "output_type": "stream",
       "stream": "stdout",
       "text": [
        "rejecting 0.0\n",
        "1638400 1769472 "
       ]
      },
      {
       "output_type": "stream",
       "stream": "stdout",
       "text": [
        "rejecting 0.00223541259766\n",
        "1703936 1835008 "
       ]
      },
      {
       "output_type": "stream",
       "stream": "stdout",
       "text": [
        "rejecting 0.00242614746094\n",
        "1769472 1900544 "
       ]
      },
      {
       "output_type": "stream",
       "stream": "stdout",
       "text": [
        "rejecting 0.000572204589844\n",
        "1835008 1966080 "
       ]
      },
      {
       "output_type": "stream",
       "stream": "stdout",
       "text": [
        "rejecting 0.000595092773438\n",
        "1900544 2031616 "
       ]
      },
      {
       "output_type": "stream",
       "stream": "stdout",
       "text": [
        "rejecting 0.0003662109375\n",
        "1966080 2097152 "
       ]
      },
      {
       "output_type": "stream",
       "stream": "stdout",
       "text": [
        "rejecting 0.000228881835938\n",
        "2031616 2162688 "
       ]
      },
      {
       "output_type": "stream",
       "stream": "stdout",
       "text": [
        "rejecting 0.00221252441406\n",
        "2097152 2228224 "
       ]
      },
      {
       "output_type": "stream",
       "stream": "stdout",
       "text": [
        "rejecting 0.00474548339844\n",
        "2162688 2293760 "
       ]
      },
      {
       "output_type": "stream",
       "stream": "stdout",
       "text": [
        "rejecting 0.00278472900391\n",
        "2228224 2359296 "
       ]
      },
      {
       "output_type": "stream",
       "stream": "stdout",
       "text": [
        "rejecting 0.000205993652344\n",
        "2293760 2424832 "
       ]
      },
      {
       "output_type": "stream",
       "stream": "stdout",
       "text": [
        "rejecting 0.000137329101562\n",
        "2359296 2490368 "
       ]
      },
      {
       "output_type": "stream",
       "stream": "stdout",
       "text": [
        "rejecting 0.00239562988281\n",
        "2424832 2555904 "
       ]
      },
      {
       "output_type": "stream",
       "stream": "stdout",
       "text": [
        "rejecting 0.00273132324219\n",
        "2490368 2621440 "
       ]
      },
      {
       "output_type": "stream",
       "stream": "stdout",
       "text": [
        "rejecting 0.000640869140625\n",
        "2555904 2686976 "
       ]
      },
      {
       "output_type": "stream",
       "stream": "stdout",
       "text": [
        "rejecting 0.00257110595703\n",
        "2621440 2752512 "
       ]
      },
      {
       "output_type": "stream",
       "stream": "stdout",
       "text": [
        "rejecting 0.00247955322266\n",
        "2686976 2818048 "
       ]
      },
      {
       "output_type": "stream",
       "stream": "stdout",
       "text": [
        "rejecting 0.000297546386719\n",
        "2752512 2883584 "
       ]
      },
      {
       "output_type": "stream",
       "stream": "stdout",
       "text": [
        "rejecting 0.000137329101562\n",
        "2818048 2949120 "
       ]
      },
      {
       "output_type": "stream",
       "stream": "stdout",
       "text": [
        "rejecting 6.86645507812e-05\n",
        "2883584 3014656 "
       ]
      },
      {
       "output_type": "stream",
       "stream": "stdout",
       "text": [
        "rejecting 2.28881835938e-05\n",
        "2949120 3080192 "
       ]
      },
      {
       "output_type": "stream",
       "stream": "stdout",
       "text": [
        "rejecting 0.0\n",
        "3014656 3145728 "
       ]
      },
      {
       "output_type": "stream",
       "stream": "stdout",
       "text": [
        "rejecting 0.0\n",
        "3080192 3211264 "
       ]
      },
      {
       "output_type": "stream",
       "stream": "stdout",
       "text": [
        "rejecting 0.0\n",
        "3145728 3276800 "
       ]
      },
      {
       "output_type": "stream",
       "stream": "stdout",
       "text": [
        "rejecting 0.0\n",
        "3211264 3342336 "
       ]
      },
      {
       "output_type": "stream",
       "stream": "stdout",
       "text": [
        "rejecting 0.0\n",
        "3276800 3407872 "
       ]
      },
      {
       "output_type": "stream",
       "stream": "stdout",
       "text": [
        "rejecting 0.0\n",
        "3342336 3473408 "
       ]
      },
      {
       "output_type": "stream",
       "stream": "stdout",
       "text": [
        "rejecting 0.00300598144531\n",
        "3407872 3538944 "
       ]
      },
      {
       "output_type": "stream",
       "stream": "stdout",
       "text": [
        "rejecting 0.00469970703125\n",
        "3473408 3604480 "
       ]
      },
      {
       "output_type": "stream",
       "stream": "stdout",
       "text": [
        "rejecting 0.00186157226562\n",
        "3538944 3670016 "
       ]
      },
      {
       "output_type": "stream",
       "stream": "stdout",
       "text": [
        "rejecting 0.0\n",
        "3604480 3735552 "
       ]
      },
      {
       "output_type": "stream",
       "stream": "stdout",
       "text": [
        "rejecting 6.86645507812e-05\n",
        "3670016 3801088 "
       ]
      },
      {
       "output_type": "stream",
       "stream": "stdout",
       "text": [
        "rejecting 2.28881835938e-05\n",
        "3735552 3866624 "
       ]
      },
      {
       "output_type": "stream",
       "stream": "stdout",
       "text": [
        "rejecting 0.0\n",
        "3801088 3932160 "
       ]
      },
      {
       "output_type": "stream",
       "stream": "stdout",
       "text": [
        "rejecting 0.0\n",
        "3866624 3997696 "
       ]
      },
      {
       "output_type": "stream",
       "stream": "stdout",
       "text": [
        "rejecting 0.0\n",
        "3932160 4063232 "
       ]
      },
      {
       "output_type": "stream",
       "stream": "stdout",
       "text": [
        "rejecting 0.00234222412109\n",
        "3997696 4128768 "
       ]
      },
      {
       "output_type": "stream",
       "stream": "stdout",
       "text": [
        "rejecting 0.00233459472656\n",
        "4063232 4194304 "
       ]
      },
      {
       "output_type": "stream",
       "stream": "stdout",
       "text": [
        "rejecting 0.0\n",
        "using NFFT: 2**"
       ]
      },
      {
       "output_type": "stream",
       "stream": "stdout",
       "text": [
        " 19.0\n",
        "10"
       ]
      },
      {
       "output_type": "stream",
       "stream": "stdout",
       "text": [
        "\n",
        "0"
       ]
      },
      {
       "output_type": "stream",
       "stream": "stdout",
       "text": [
        " 65536 rejecting 0.0\n",
        "0 131072 "
       ]
      },
      {
       "output_type": "stream",
       "stream": "stdout",
       "text": [
        "rejecting 0.0\n",
        "65536 196608 "
       ]
      },
      {
       "output_type": "stream",
       "stream": "stdout",
       "text": [
        "rejecting 0.0\n",
        "131072 262144 "
       ]
      },
      {
       "output_type": "stream",
       "stream": "stdout",
       "text": [
        "rejecting 0.00193023681641\n",
        "196608 327680 "
       ]
      },
      {
       "output_type": "stream",
       "stream": "stdout",
       "text": [
        "rejecting 0.00193023681641\n",
        "262144 393216 "
       ]
      },
      {
       "output_type": "stream",
       "stream": "stdout",
       "text": [
        "rejecting 0.0\n",
        "327680 458752 "
       ]
      },
      {
       "output_type": "stream",
       "stream": "stdout",
       "text": [
        "rejecting 0.0\n",
        "393216 524288 "
       ]
      },
      {
       "output_type": "stream",
       "stream": "stdout",
       "text": [
        "rejecting 0.0\n",
        "458752 589824 "
       ]
      },
      {
       "output_type": "stream",
       "stream": "stdout",
       "text": [
        "rejecting 0.0\n",
        "524288 655360 "
       ]
      },
      {
       "output_type": "stream",
       "stream": "stdout",
       "text": [
        "rejecting 0.0\n",
        "589824 720896 "
       ]
      },
      {
       "output_type": "stream",
       "stream": "stdout",
       "text": [
        "rejecting 0.0\n",
        "655360 786432 "
       ]
      },
      {
       "output_type": "stream",
       "stream": "stdout",
       "text": [
        "rejecting 0.0\n",
        "720896 851968 "
       ]
      },
      {
       "output_type": "stream",
       "stream": "stdout",
       "text": [
        "rejecting 0.0\n",
        "786432 917504 "
       ]
      },
      {
       "output_type": "stream",
       "stream": "stdout",
       "text": [
        "rejecting 0.0\n",
        "851968 983040 "
       ]
      },
      {
       "output_type": "stream",
       "stream": "stdout",
       "text": [
        "rejecting 0.0\n",
        "917504 1048576 "
       ]
      },
      {
       "output_type": "stream",
       "stream": "stdout",
       "text": [
        "rejecting 0.0\n",
        "983040 1114112 "
       ]
      },
      {
       "output_type": "stream",
       "stream": "stdout",
       "text": [
        "rejecting 0.0\n",
        "1048576 1179648 "
       ]
      },
      {
       "output_type": "stream",
       "stream": "stdout",
       "text": [
        "rejecting 0.0\n",
        "1114112 1245184 "
       ]
      },
      {
       "output_type": "stream",
       "stream": "stdout",
       "text": [
        "rejecting 0.0\n",
        "1179648 1310720 "
       ]
      },
      {
       "output_type": "stream",
       "stream": "stdout",
       "text": [
        "rejecting 0.00204467773438\n",
        "1245184 1376256 "
       ]
      },
      {
       "output_type": "stream",
       "stream": "stdout",
       "text": [
        "rejecting 0.00413513183594\n",
        "1310720 1441792 "
       ]
      },
      {
       "output_type": "stream",
       "stream": "stdout",
       "text": [
        "rejecting 0.00210571289062\n",
        "1376256 1507328 "
       ]
      },
      {
       "output_type": "stream",
       "stream": "stdout",
       "text": [
        "rejecting 0.0\n",
        "1441792 1572864 "
       ]
      },
      {
       "output_type": "stream",
       "stream": "stdout",
       "text": [
        "rejecting 9.1552734375e-05\n",
        "1507328 1638400 "
       ]
      },
      {
       "output_type": "stream",
       "stream": "stdout",
       "text": [
        "rejecting 0.000137329101562\n",
        "1572864 1703936 "
       ]
      },
      {
       "output_type": "stream",
       "stream": "stdout",
       "text": [
        "rejecting 9.1552734375e-05\n",
        "1638400 1769472 "
       ]
      },
      {
       "output_type": "stream",
       "stream": "stdout",
       "text": [
        "rejecting 0.0\n",
        "1703936 1835008 "
       ]
      },
      {
       "output_type": "stream",
       "stream": "stdout",
       "text": [
        "rejecting 6.86645507812e-05\n",
        "1769472 1900544 "
       ]
      },
      {
       "output_type": "stream",
       "stream": "stdout",
       "text": [
        "rejecting 0.00018310546875\n",
        "1835008 1966080 "
       ]
      },
      {
       "output_type": "stream",
       "stream": "stdout",
       "text": [
        "rejecting 0.000320434570312\n",
        "1900544 2031616 "
       ]
      },
      {
       "output_type": "stream",
       "stream": "stdout",
       "text": [
        "rejecting 0.000595092773438\n",
        "1966080 2097152 "
       ]
      },
      {
       "output_type": "stream",
       "stream": "stdout",
       "text": [
        "rejecting 0.000572204589844\n",
        "2031616 2162688 "
       ]
      },
      {
       "output_type": "stream",
       "stream": "stdout",
       "text": [
        "rejecting 0.000297546386719\n",
        "2097152 2228224 "
       ]
      },
      {
       "output_type": "stream",
       "stream": "stdout",
       "text": [
        "rejecting 0.000228881835938\n",
        "2162688 2293760 "
       ]
      },
      {
       "output_type": "stream",
       "stream": "stdout",
       "text": [
        "rejecting 0.00275421142578\n",
        "2228224 2359296 "
       ]
      },
      {
       "output_type": "stream",
       "stream": "stdout",
       "text": [
        "rejecting 0.0028076171875\n",
        "2293760 2424832 "
       ]
      },
      {
       "output_type": "stream",
       "stream": "stdout",
       "text": [
        "rejecting 0.000205993652344\n",
        "2359296 2490368 "
       ]
      },
      {
       "output_type": "stream",
       "stream": "stdout",
       "text": [
        "rejecting 0.000274658203125\n",
        "2424832 2555904 "
       ]
      },
      {
       "output_type": "stream",
       "stream": "stdout",
       "text": [
        "rejecting 0.00338745117188\n",
        "2490368 2621440 "
       ]
      },
      {
       "output_type": "stream",
       "stream": "stdout",
       "text": [
        "rejecting 0.00333404541016\n",
        "2555904 2686976 "
       ]
      },
      {
       "output_type": "stream",
       "stream": "stdout",
       "text": [
        "rejecting 0.000205993652344\n",
        "2621440 2752512 "
       ]
      },
      {
       "output_type": "stream",
       "stream": "stdout",
       "text": [
        "rejecting 0.000205993652344\n",
        "2686976 2818048 "
       ]
      },
      {
       "output_type": "stream",
       "stream": "stdout",
       "text": [
        "rejecting 0.000205993652344\n",
        "2752512 2883584 "
       ]
      },
      {
       "output_type": "stream",
       "stream": "stdout",
       "text": [
        "rejecting 0.000389099121094\n",
        "2818048 2949120 "
       ]
      },
      {
       "output_type": "stream",
       "stream": "stdout",
       "text": [
        "rejecting 0.000389099121094\n",
        "2883584 3014656 "
       ]
      },
      {
       "output_type": "stream",
       "stream": "stdout",
       "text": [
        "rejecting 0.00286102294922\n",
        "2949120 3080192 "
       ]
      },
      {
       "output_type": "stream",
       "stream": "stdout",
       "text": [
        "rejecting 0.00283050537109\n",
        "3014656 3145728 "
       ]
      },
      {
       "output_type": "stream",
       "stream": "stdout",
       "text": [
        "rejecting 6.86645507812e-05\n",
        "3080192 3211264 "
       ]
      },
      {
       "output_type": "stream",
       "stream": "stdout",
       "text": [
        "rejecting 0.0\n",
        "3145728 3276800 "
       ]
      },
      {
       "output_type": "stream",
       "stream": "stdout",
       "text": [
        "rejecting 0.00599670410156\n",
        "3211264 3342336 "
       ]
      },
      {
       "output_type": "stream",
       "stream": "stdout",
       "text": [
        "rejecting 0.00595855712891\n",
        "3276800 3407872 "
       ]
      },
      {
       "output_type": "stream",
       "stream": "stdout",
       "text": [
        "rejecting 0.0\n",
        "3342336 3473408 "
       ]
      },
      {
       "output_type": "stream",
       "stream": "stdout",
       "text": [
        "rejecting 0.00407409667969\n",
        "3407872 3538944 "
       ]
      },
      {
       "output_type": "stream",
       "stream": "stdout",
       "text": [
        "rejecting 0.00392150878906\n",
        "3473408 3604480 "
       ]
      },
      {
       "output_type": "stream",
       "stream": "stdout",
       "text": [
        "rejecting 0.0\n",
        "3538944 3670016 "
       ]
      },
      {
       "output_type": "stream",
       "stream": "stdout",
       "text": [
        "rejecting 0.0\n",
        "3604480 3735552 "
       ]
      },
      {
       "output_type": "stream",
       "stream": "stdout",
       "text": [
        "rejecting 0.0\n",
        "3670016 3801088 "
       ]
      },
      {
       "output_type": "stream",
       "stream": "stdout",
       "text": [
        "rejecting 0.0\n",
        "3735552 3866624 "
       ]
      },
      {
       "output_type": "stream",
       "stream": "stdout",
       "text": [
        "rejecting 0.00244140625\n",
        "3801088 3932160 "
       ]
      },
      {
       "output_type": "stream",
       "stream": "stdout",
       "text": [
        "rejecting 0.00242614746094\n",
        "3866624 3997696 "
       ]
      },
      {
       "output_type": "stream",
       "stream": "stdout",
       "text": [
        "rejecting 0.0\n",
        "3932160 4063232 "
       ]
      },
      {
       "output_type": "stream",
       "stream": "stdout",
       "text": [
        "rejecting 0.0\n",
        "3997696 4128768 "
       ]
      },
      {
       "output_type": "stream",
       "stream": "stdout",
       "text": [
        "rejecting 0.00164794921875\n",
        "4063232 4194304 "
       ]
      },
      {
       "output_type": "stream",
       "stream": "stdout",
       "text": [
        "rejecting 0.00161743164062\n",
        "using NFFT: 2**"
       ]
      },
      {
       "output_type": "stream",
       "stream": "stdout",
       "text": [
        " 19.0\n",
        "10"
       ]
      },
      {
       "output_type": "stream",
       "stream": "stdout",
       "text": [
        "\n",
        "0"
       ]
      },
      {
       "output_type": "stream",
       "stream": "stdout",
       "text": [
        " 65536 rejecting 0.000137329101562\n",
        "0 131072 "
       ]
      },
      {
       "output_type": "stream",
       "stream": "stdout",
       "text": [
        "rejecting 0.000228881835938\n",
        "65536 196608 "
       ]
      },
      {
       "output_type": "stream",
       "stream": "stdout",
       "text": [
        "rejecting 0.000274658203125\n",
        "131072 262144 "
       ]
      },
      {
       "output_type": "stream",
       "stream": "stdout",
       "text": [
        "rejecting 0.000114440917969\n",
        "196608 327680 "
       ]
      },
      {
       "output_type": "stream",
       "stream": "stdout",
       "text": [
        "rejecting 9.1552734375e-05\n",
        "262144 393216 "
       ]
      },
      {
       "output_type": "stream",
       "stream": "stdout",
       "text": [
        "rejecting 9.1552734375e-05\n",
        "327680 458752 "
       ]
      },
      {
       "output_type": "stream",
       "stream": "stdout",
       "text": [
        "rejecting 0.0\n",
        "393216 524288 "
       ]
      },
      {
       "output_type": "stream",
       "stream": "stdout",
       "text": [
        "rejecting 0.00196075439453\n",
        "458752 589824 "
       ]
      },
      {
       "output_type": "stream",
       "stream": "stdout",
       "text": [
        "rejecting 0.00196075439453\n",
        "524288 655360 "
       ]
      },
      {
       "output_type": "stream",
       "stream": "stdout",
       "text": [
        "rejecting 0.0\n",
        "589824 720896 "
       ]
      },
      {
       "output_type": "stream",
       "stream": "stdout",
       "text": [
        "rejecting 0.0\n",
        "655360 786432 "
       ]
      },
      {
       "output_type": "stream",
       "stream": "stdout",
       "text": [
        "rejecting 4.57763671875e-05\n",
        "720896 851968 "
       ]
      },
      {
       "output_type": "stream",
       "stream": "stdout",
       "text": [
        "rejecting 0.0\n",
        "786432 917504 "
       ]
      },
      {
       "output_type": "stream",
       "stream": "stdout",
       "text": [
        "rejecting 0.000205993652344\n",
        "851968 983040 "
       ]
      },
      {
       "output_type": "stream",
       "stream": "stdout",
       "text": [
        "rejecting 0.000205993652344\n",
        "917504 1048576 "
       ]
      },
      {
       "output_type": "stream",
       "stream": "stdout",
       "text": [
        "rejecting 0.000137329101562\n",
        "983040 1114112 "
       ]
      },
      {
       "output_type": "stream",
       "stream": "stdout",
       "text": [
        "rejecting 0.000137329101562\n",
        "1048576 1179648 "
       ]
      },
      {
       "output_type": "stream",
       "stream": "stdout",
       "text": [
        "rejecting 0.000137329101562\n",
        "1114112 1245184 "
       ]
      },
      {
       "output_type": "stream",
       "stream": "stdout",
       "text": [
        "rejecting 0.000297546386719\n",
        "1179648 1310720 "
       ]
      },
      {
       "output_type": "stream",
       "stream": "stdout",
       "text": [
        "rejecting 0.00018310546875\n",
        "1245184 1376256 "
       ]
      },
      {
       "output_type": "stream",
       "stream": "stdout",
       "text": [
        "rejecting 0.000160217285156\n",
        "1310720 1441792 "
       ]
      },
      {
       "output_type": "stream",
       "stream": "stdout",
       "text": [
        "rejecting 0.00211334228516\n",
        "1376256 1507328 "
       ]
      },
      {
       "output_type": "stream",
       "stream": "stdout",
       "text": [
        "rejecting 0.00243377685547\n",
        "1441792 1572864 "
       ]
      },
      {
       "output_type": "stream",
       "stream": "stdout",
       "text": [
        "rejecting 0.000595092773438\n",
        "1507328 1638400 "
       ]
      },
      {
       "output_type": "stream",
       "stream": "stdout",
       "text": [
        "rejecting 0.00241851806641\n",
        "1572864 1703936 "
       ]
      },
      {
       "output_type": "stream",
       "stream": "stdout",
       "text": [
        "rejecting 0.00403594970703\n",
        "1638400 1769472 "
       ]
      },
      {
       "output_type": "stream",
       "stream": "stdout",
       "text": [
        "rejecting 0.00170135498047\n",
        "1703936 1835008 "
       ]
      },
      {
       "output_type": "stream",
       "stream": "stdout",
       "text": [
        "rejecting 0.000228881835938\n",
        "1769472 1900544 "
       ]
      },
      {
       "output_type": "stream",
       "stream": "stdout",
       "text": [
        "rejecting 0.000251770019531\n",
        "1835008 1966080 "
       ]
      },
      {
       "output_type": "stream",
       "stream": "stdout",
       "text": [
        "rejecting 0.000320434570312\n",
        "1900544 2031616 "
       ]
      },
      {
       "output_type": "stream",
       "stream": "stdout",
       "text": [
        "rejecting 0.000343322753906\n",
        "1966080 2097152 "
       ]
      },
      {
       "output_type": "stream",
       "stream": "stdout",
       "text": [
        "rejecting 0.000274658203125\n",
        "2031616 2162688 "
       ]
      },
      {
       "output_type": "stream",
       "stream": "stdout",
       "text": [
        "rejecting 0.0035400390625\n",
        "2097152 2228224 "
       ]
      },
      {
       "output_type": "stream",
       "stream": "stdout",
       "text": [
        "rejecting 0.00608825683594\n",
        "2162688 2293760 "
       ]
      },
      {
       "output_type": "stream",
       "stream": "stdout",
       "text": [
        "rejecting 0.00298309326172\n",
        "2228224 2359296 "
       ]
      },
      {
       "output_type": "stream",
       "stream": "stdout",
       "text": [
        "rejecting 0.00251007080078\n",
        "2293760 2424832 "
       ]
      },
      {
       "output_type": "stream",
       "stream": "stdout",
       "text": [
        "rejecting 0.00485992431641\n",
        "2359296 2490368 "
       ]
      },
      {
       "output_type": "stream",
       "stream": "stdout",
       "text": [
        "rejecting 0.00273132324219\n",
        "2424832 2555904 "
       ]
      },
      {
       "output_type": "stream",
       "stream": "stdout",
       "text": [
        "rejecting 0.000297546386719\n",
        "2490368 2621440 "
       ]
      },
      {
       "output_type": "stream",
       "stream": "stdout",
       "text": [
        "rejecting 0.000228881835938\n",
        "2555904 2686976 "
       ]
      },
      {
       "output_type": "stream",
       "stream": "stdout",
       "text": [
        "rejecting 0.00018310546875\n",
        "2621440 2752512 "
       ]
      },
      {
       "output_type": "stream",
       "stream": "stdout",
       "text": [
        "rejecting 0.00291442871094\n",
        "2686976 2818048 "
       ]
      },
      {
       "output_type": "stream",
       "stream": "stdout",
       "text": [
        "rejecting 0.00486755371094\n",
        "2752512 2883584 "
       ]
      },
      {
       "output_type": "stream",
       "stream": "stdout",
       "text": [
        "rejecting 0.00239562988281\n",
        "2818048 2949120 "
       ]
      },
      {
       "output_type": "stream",
       "stream": "stdout",
       "text": [
        "rejecting 0.000732421875\n",
        "2883584 3014656 "
       ]
      },
      {
       "output_type": "stream",
       "stream": "stdout",
       "text": [
        "rejecting 0.000572204589844\n",
        "2949120 3080192 "
       ]
      },
      {
       "output_type": "stream",
       "stream": "stdout",
       "text": [
        "rejecting 0.000274658203125\n",
        "3014656 3145728 "
       ]
      },
      {
       "output_type": "stream",
       "stream": "stdout",
       "text": [
        "rejecting 0.000114440917969\n",
        "3080192 3211264 "
       ]
      },
      {
       "output_type": "stream",
       "stream": "stdout",
       "text": [
        "rejecting 0.00129699707031\n",
        "3145728 3276800 "
       ]
      },
      {
       "output_type": "stream",
       "stream": "stdout",
       "text": [
        "rejecting 0.00119018554688\n",
        "3211264 3342336 "
       ]
      },
      {
       "output_type": "stream",
       "stream": "stdout",
       "text": [
        "rejecting 6.86645507812e-05\n",
        "3276800 3407872 "
       ]
      },
      {
       "output_type": "stream",
       "stream": "stdout",
       "text": [
        "rejecting 6.86645507812e-05\n",
        "3342336 3473408 "
       ]
      },
      {
       "output_type": "stream",
       "stream": "stdout",
       "text": [
        "rejecting 0.0\n",
        "3407872 3538944 "
       ]
      },
      {
       "output_type": "stream",
       "stream": "stdout",
       "text": [
        "rejecting 0.0\n",
        "3473408 3604480 "
       ]
      },
      {
       "output_type": "stream",
       "stream": "stdout",
       "text": [
        "rejecting 0.0\n",
        "3538944 3670016 "
       ]
      },
      {
       "output_type": "stream",
       "stream": "stdout",
       "text": [
        "rejecting 2.28881835938e-05\n",
        "3604480 3735552 "
       ]
      },
      {
       "output_type": "stream",
       "stream": "stdout",
       "text": [
        "rejecting 0.00285339355469\n",
        "3670016 3801088 "
       ]
      },
      {
       "output_type": "stream",
       "stream": "stdout",
       "text": [
        "rejecting 0.0028076171875\n",
        "3735552 3866624 "
       ]
      },
      {
       "output_type": "stream",
       "stream": "stdout",
       "text": [
        "rejecting 0.0\n",
        "3801088 3932160 "
       ]
      },
      {
       "output_type": "stream",
       "stream": "stdout",
       "text": [
        "rejecting 0.00252532958984\n",
        "3866624 3997696 "
       ]
      },
      {
       "output_type": "stream",
       "stream": "stdout",
       "text": [
        "rejecting 0.00471496582031\n",
        "3932160 4063232 "
       ]
      },
      {
       "output_type": "stream",
       "stream": "stdout",
       "text": [
        "rejecting 0.00222778320312\n",
        "3997696 4128768 "
       ]
      },
      {
       "output_type": "stream",
       "stream": "stdout",
       "text": [
        "rejecting 0.00242614746094\n",
        "4063232 4194304 "
       ]
      },
      {
       "output_type": "stream",
       "stream": "stdout",
       "text": [
        "rejecting 0.00239562988281\n",
        "using NFFT: 2**"
       ]
      },
      {
       "output_type": "stream",
       "stream": "stdout",
       "text": [
        " 19.0\n",
        "10"
       ]
      },
      {
       "output_type": "stream",
       "stream": "stdout",
       "text": [
        "\n",
        "0"
       ]
      },
      {
       "output_type": "stream",
       "stream": "stdout",
       "text": [
        " 65536 rejecting 0.0\n",
        "0 131072 "
       ]
      },
      {
       "output_type": "stream",
       "stream": "stdout",
       "text": [
        "rejecting 0.0\n",
        "65536 196608 "
       ]
      },
      {
       "output_type": "stream",
       "stream": "stdout",
       "text": [
        "rejecting 0.00122833251953\n",
        "131072 262144 "
       ]
      },
      {
       "output_type": "stream",
       "stream": "stdout",
       "text": [
        "rejecting 0.00122833251953\n",
        "196608 327680 "
       ]
      },
      {
       "output_type": "stream",
       "stream": "stdout",
       "text": [
        "rejecting 0.000137329101562\n",
        "262144 393216 "
       ]
      },
      {
       "output_type": "stream",
       "stream": "stdout",
       "text": [
        "rejecting 0.000114440917969\n",
        "327680 458752 "
       ]
      },
      {
       "output_type": "stream",
       "stream": "stdout",
       "text": [
        "rejecting 0.0013427734375\n",
        "393216 524288 "
       ]
      },
      {
       "output_type": "stream",
       "stream": "stdout",
       "text": [
        "rejecting 0.0013427734375\n",
        "458752 589824 "
       ]
      },
      {
       "output_type": "stream",
       "stream": "stdout",
       "text": [
        "rejecting 9.1552734375e-05\n",
        "524288 655360 "
       ]
      },
      {
       "output_type": "stream",
       "stream": "stdout",
       "text": [
        "rejecting 0.00221252441406\n",
        "589824 720896 "
       ]
      },
      {
       "output_type": "stream",
       "stream": "stdout",
       "text": [
        "rejecting 0.00209808349609\n",
        "655360 786432 "
       ]
      },
      {
       "output_type": "stream",
       "stream": "stdout",
       "text": [
        "rejecting 0.0\n",
        "720896 851968 "
       ]
      },
      {
       "output_type": "stream",
       "stream": "stdout",
       "text": [
        "rejecting 0.0\n",
        "786432 917504 "
       ]
      },
      {
       "output_type": "stream",
       "stream": "stdout",
       "text": [
        "rejecting 0.00242614746094\n",
        "851968 983040 "
       ]
      },
      {
       "output_type": "stream",
       "stream": "stdout",
       "text": [
        "rejecting 0.00242614746094\n",
        "917504 1048576 "
       ]
      },
      {
       "output_type": "stream",
       "stream": "stdout",
       "text": [
        "rejecting 0.0\n",
        "983040 1114112 "
       ]
      },
      {
       "output_type": "stream",
       "stream": "stdout",
       "text": [
        "rejecting 0.0\n",
        "1048576 1179648 "
       ]
      },
      {
       "output_type": "stream",
       "stream": "stdout",
       "text": [
        "rejecting 0.0\n",
        "1114112 1245184 "
       ]
      },
      {
       "output_type": "stream",
       "stream": "stdout",
       "text": [
        "rejecting 0.0\n",
        "1179648 1310720 "
       ]
      },
      {
       "output_type": "stream",
       "stream": "stdout",
       "text": [
        "rejecting 0.0\n",
        "1245184 1376256 "
       ]
      },
      {
       "output_type": "stream",
       "stream": "stdout",
       "text": [
        "rejecting 0.0\n",
        "1310720 1441792 "
       ]
      },
      {
       "output_type": "stream",
       "stream": "stdout",
       "text": [
        "rejecting 0.0\n",
        "1376256 1507328 "
       ]
      },
      {
       "output_type": "stream",
       "stream": "stdout",
       "text": [
        "rejecting 0.000137329101562\n",
        "1441792 1572864 "
       ]
      },
      {
       "output_type": "stream",
       "stream": "stdout",
       "text": [
        "rejecting 0.000160217285156\n",
        "1507328 1638400 "
       ]
      },
      {
       "output_type": "stream",
       "stream": "stdout",
       "text": [
        "rejecting 0.000137329101562\n",
        "1572864 1703936 "
       ]
      },
      {
       "output_type": "stream",
       "stream": "stdout",
       "text": [
        "rejecting 0.000251770019531\n",
        "1638400 1769472 "
       ]
      },
      {
       "output_type": "stream",
       "stream": "stdout",
       "text": [
        "rejecting 0.000137329101562\n",
        "1703936 1835008 "
       ]
      },
      {
       "output_type": "stream",
       "stream": "stdout",
       "text": [
        "rejecting 0.00018310546875\n",
        "1769472 1900544 "
       ]
      },
      {
       "output_type": "stream",
       "stream": "stdout",
       "text": [
        "rejecting 0.000274658203125\n",
        "1835008 1966080 "
       ]
      },
      {
       "output_type": "stream",
       "stream": "stdout",
       "text": [
        "rejecting 6.86645507812e-05\n",
        "1900544 2031616 "
       ]
      },
      {
       "output_type": "stream",
       "stream": "stdout",
       "text": [
        "rejecting 0.000389099121094\n",
        "1966080 2097152 "
       ]
      },
      {
       "output_type": "stream",
       "stream": "stdout",
       "text": [
        "rejecting 0.000801086425781\n",
        "2031616 2162688 "
       ]
      },
      {
       "output_type": "stream",
       "stream": "stdout",
       "text": [
        "rejecting 0.000732421875\n",
        "2097152 2228224 "
       ]
      },
      {
       "output_type": "stream",
       "stream": "stdout",
       "text": [
        "rejecting 0.000228881835938\n",
        "2162688 2293760 "
       ]
      },
      {
       "output_type": "stream",
       "stream": "stdout",
       "text": [
        "rejecting 0.000251770019531\n",
        "2228224 2359296 "
       ]
      },
      {
       "output_type": "stream",
       "stream": "stdout",
       "text": [
        "rejecting 0.00245666503906\n",
        "2293760 2424832 "
       ]
      },
      {
       "output_type": "stream",
       "stream": "stdout",
       "text": [
        "rejecting 0.00267028808594\n",
        "2359296 2490368 "
       ]
      },
      {
       "output_type": "stream",
       "stream": "stdout",
       "text": [
        "rejecting 0.003173828125\n",
        "2424832 2555904 "
       ]
      },
      {
       "output_type": "stream",
       "stream": "stdout",
       "text": [
        "rejecting 0.00584411621094\n",
        "2490368 2621440 "
       ]
      },
      {
       "output_type": "stream",
       "stream": "stdout",
       "text": [
        "rejecting 0.00341033935547\n",
        "2555904 2686976 "
       ]
      },
      {
       "output_type": "stream",
       "stream": "stdout",
       "text": [
        "rejecting 0.000572204589844\n",
        "2621440 2752512 "
       ]
      },
      {
       "output_type": "stream",
       "stream": "stdout",
       "text": [
        "rejecting 0.000205993652344\n",
        "2686976 2818048 "
       ]
      },
      {
       "output_type": "stream",
       "stream": "stdout",
       "text": [
        "rejecting 0.000617980957031\n",
        "2752512 2883584 "
       ]
      },
      {
       "output_type": "stream",
       "stream": "stdout",
       "text": [
        "rejecting 0.000846862792969\n",
        "2818048 2949120 "
       ]
      },
      {
       "output_type": "stream",
       "stream": "stdout",
       "text": [
        "rejecting 0.00311279296875\n",
        "2883584 3014656 "
       ]
      },
      {
       "output_type": "stream",
       "stream": "stdout",
       "text": [
        "rejecting 0.00278472900391\n",
        "2949120 3080192 "
       ]
      },
      {
       "output_type": "stream",
       "stream": "stdout",
       "text": [
        "rejecting 9.1552734375e-05\n",
        "3014656 3145728 "
       ]
      },
      {
       "output_type": "stream",
       "stream": "stdout",
       "text": [
        "rejecting 0.00161743164062\n",
        "3080192 3211264 "
       ]
      },
      {
       "output_type": "stream",
       "stream": "stdout",
       "text": [
        "rejecting 0.00154876708984\n",
        "3145728 3276800 "
       ]
      },
      {
       "output_type": "stream",
       "stream": "stdout",
       "text": [
        "rejecting 0.00220489501953\n",
        "3211264 3342336 "
       ]
      },
      {
       "output_type": "stream",
       "stream": "stdout",
       "text": [
        "rejecting 0.00218963623047\n",
        "3276800 3407872 "
       ]
      },
      {
       "output_type": "stream",
       "stream": "stdout",
       "text": [
        "rejecting 0.0\n",
        "3342336 3473408 "
       ]
      },
      {
       "output_type": "stream",
       "stream": "stdout",
       "text": [
        "rejecting 0.0\n",
        "3407872 3538944 "
       ]
      },
      {
       "output_type": "stream",
       "stream": "stdout",
       "text": [
        "rejecting 0.00395965576172\n",
        "3473408 3604480 "
       ]
      },
      {
       "output_type": "stream",
       "stream": "stdout",
       "text": [
        "rejecting 0.00384521484375\n",
        "3538944 3670016 "
       ]
      },
      {
       "output_type": "stream",
       "stream": "stdout",
       "text": [
        "rejecting 6.86645507812e-05\n",
        "3604480 3735552 "
       ]
      },
      {
       "output_type": "stream",
       "stream": "stdout",
       "text": [
        "rejecting 2.28881835938e-05\n",
        "3670016 3801088 "
       ]
      },
      {
       "output_type": "stream",
       "stream": "stdout",
       "text": [
        "rejecting 0.00273895263672\n",
        "3735552 3866624 "
       ]
      },
      {
       "output_type": "stream",
       "stream": "stdout",
       "text": [
        "rejecting 0.00493621826172\n",
        "3801088 3932160 "
       ]
      },
      {
       "output_type": "stream",
       "stream": "stdout",
       "text": [
        "rejecting 0.002197265625\n",
        "3866624 3997696 "
       ]
      },
      {
       "output_type": "stream",
       "stream": "stdout",
       "text": [
        "rejecting 0.0\n",
        "3932160 4063232 "
       ]
      },
      {
       "output_type": "stream",
       "stream": "stdout",
       "text": [
        "rejecting 0.0\n",
        "3997696 4128768 "
       ]
      },
      {
       "output_type": "stream",
       "stream": "stdout",
       "text": [
        "rejecting 0.0\n",
        "4063232 4194304 "
       ]
      },
      {
       "output_type": "stream",
       "stream": "stdout",
       "text": [
        "rejecting 0.0\n",
        "using NFFT: 2**"
       ]
      },
      {
       "output_type": "stream",
       "stream": "stdout",
       "text": [
        " 19.0\n",
        "10"
       ]
      },
      {
       "output_type": "stream",
       "stream": "stdout",
       "text": [
        "\n",
        "0"
       ]
      },
      {
       "output_type": "stream",
       "stream": "stdout",
       "text": [
        " 65536 rejecting 0.0\n",
        "0 131072 "
       ]
      },
      {
       "output_type": "stream",
       "stream": "stdout",
       "text": [
        "rejecting 0.0\n",
        "65536 196608 "
       ]
      },
      {
       "output_type": "stream",
       "stream": "stdout",
       "text": [
        "rejecting 0.0\n",
        "131072 262144 "
       ]
      },
      {
       "output_type": "stream",
       "stream": "stdout",
       "text": [
        "rejecting 0.0\n",
        "196608 327680 "
       ]
      },
      {
       "output_type": "stream",
       "stream": "stdout",
       "text": [
        "rejecting 0.00230407714844\n",
        "262144 393216 "
       ]
      },
      {
       "output_type": "stream",
       "stream": "stdout",
       "text": [
        "rejecting 0.00230407714844\n",
        "327680 458752 "
       ]
      },
      {
       "output_type": "stream",
       "stream": "stdout",
       "text": [
        "rejecting 0.0\n",
        "393216 524288 "
       ]
      },
      {
       "output_type": "stream",
       "stream": "stdout",
       "text": [
        "rejecting 0.0013427734375\n",
        "458752 589824 "
       ]
      },
      {
       "output_type": "stream",
       "stream": "stdout",
       "text": [
        "rejecting 0.00141906738281\n",
        "524288 655360 "
       ]
      },
      {
       "output_type": "stream",
       "stream": "stdout",
       "text": [
        "rejecting 0.00201416015625\n",
        "589824 720896 "
       ]
      },
      {
       "output_type": "stream",
       "stream": "stdout",
       "text": [
        "rejecting 0.00201416015625\n",
        "655360 786432 "
       ]
      },
      {
       "output_type": "stream",
       "stream": "stdout",
       "text": [
        "rejecting 0.0\n",
        "720896 851968 "
       ]
      },
      {
       "output_type": "stream",
       "stream": "stdout",
       "text": [
        "rejecting 0.0\n",
        "786432 917504 "
       ]
      },
      {
       "output_type": "stream",
       "stream": "stdout",
       "text": [
        "rejecting 0.0\n",
        "851968 983040 "
       ]
      },
      {
       "output_type": "stream",
       "stream": "stdout",
       "text": [
        "rejecting 0.00107574462891\n",
        "917504 1048576 "
       ]
      },
      {
       "output_type": "stream",
       "stream": "stdout",
       "text": [
        "rejecting 0.00331878662109\n",
        "983040 1114112 "
       ]
      },
      {
       "output_type": "stream",
       "stream": "stdout",
       "text": [
        "rejecting 0.00222015380859\n",
        "1048576 1179648 "
       ]
      },
      {
       "output_type": "stream",
       "stream": "stdout",
       "text": [
        "rejecting 0.00196075439453\n",
        "1114112 1245184 "
       ]
      },
      {
       "output_type": "stream",
       "stream": "stdout",
       "text": [
        "rejecting 0.00197601318359\n",
        "1179648 1310720 "
       ]
      },
      {
       "output_type": "stream",
       "stream": "stdout",
       "text": [
        "rejecting 0.00444793701172\n",
        "1245184 1376256 "
       ]
      },
      {
       "output_type": "stream",
       "stream": "stdout",
       "text": [
        "rejecting 0.00634002685547\n",
        "1310720 1441792 "
       ]
      },
      {
       "output_type": "stream",
       "stream": "stdout",
       "text": [
        "rejecting 0.0040283203125\n",
        "1376256 1507328 "
       ]
      },
      {
       "output_type": "stream",
       "stream": "stdout",
       "text": [
        "rejecting 0.00638580322266\n",
        "1441792 1572864 "
       ]
      },
      {
       "output_type": "stream",
       "stream": "stdout",
       "text": [
        "rejecting 0.00430297851562\n",
        "1507328 1638400 "
       ]
      },
      {
       "output_type": "stream",
       "stream": "stdout",
       "text": [
        "rejecting 0.0\n",
        "1572864 1703936 "
       ]
      },
      {
       "output_type": "stream",
       "stream": "stdout",
       "text": [
        "rejecting 0.00447845458984\n",
        "1638400 1769472 "
       ]
      },
      {
       "output_type": "stream",
       "stream": "stdout",
       "text": [
        "rejecting 0.00670623779297\n",
        "1703936 1835008 "
       ]
      },
      {
       "output_type": "stream",
       "stream": "stdout",
       "text": [
        "rejecting 0.00218200683594\n",
        "1769472 1900544 "
       ]
      },
      {
       "output_type": "stream",
       "stream": "stdout",
       "text": [
        "rejecting 0.00249481201172\n",
        "1835008 1966080 "
       ]
      },
      {
       "output_type": "stream",
       "stream": "stdout",
       "text": [
        "rejecting 0.00259399414062\n",
        "1900544 2031616 "
       ]
      },
      {
       "output_type": "stream",
       "stream": "stdout",
       "text": [
        "rejecting 0.00290679931641\n",
        "1966080 2097152 "
       ]
      },
      {
       "output_type": "stream",
       "stream": "stdout",
       "text": [
        "rejecting 0.00270080566406\n",
        "2031616 2162688 "
       ]
      },
      {
       "output_type": "stream",
       "stream": "stdout",
       "text": [
        "rejecting 0.00183868408203\n",
        "2097152 2228224 "
       ]
      },
      {
       "output_type": "stream",
       "stream": "stdout",
       "text": [
        "rejecting 0.00179290771484\n",
        "2162688 2293760 "
       ]
      },
      {
       "output_type": "stream",
       "stream": "stdout",
       "text": [
        "rejecting 2.28881835938e-05\n",
        "2228224 2359296 "
       ]
      },
      {
       "output_type": "stream",
       "stream": "stdout",
       "text": [
        "rejecting 0.000228881835938\n",
        "2293760 2424832 "
       ]
      },
      {
       "output_type": "stream",
       "stream": "stdout",
       "text": [
        "rejecting 0.00325012207031\n",
        "2359296 2490368 "
       ]
      },
      {
       "output_type": "stream",
       "stream": "stdout",
       "text": [
        "rejecting 0.00325012207031\n",
        "2424832 2555904 "
       ]
      },
      {
       "output_type": "stream",
       "stream": "stdout",
       "text": [
        "rejecting 0.000205993652344\n",
        "2490368 2621440 "
       ]
      },
      {
       "output_type": "stream",
       "stream": "stdout",
       "text": [
        "rejecting 2.28881835938e-05\n",
        "2555904 2686976 "
       ]
      },
      {
       "output_type": "stream",
       "stream": "stdout",
       "text": [
        "rejecting 0.0\n",
        "2621440 2752512 "
       ]
      },
      {
       "output_type": "stream",
       "stream": "stdout",
       "text": [
        "rejecting 0.0\n",
        "2686976 2818048 "
       ]
      },
      {
       "output_type": "stream",
       "stream": "stdout",
       "text": [
        "rejecting 4.57763671875e-05\n",
        "2752512 2883584 "
       ]
      },
      {
       "output_type": "stream",
       "stream": "stdout",
       "text": [
        "rejecting 6.86645507812e-05\n",
        "2818048 2949120 "
       ]
      },
      {
       "output_type": "stream",
       "stream": "stdout",
       "text": [
        "rejecting 0.0\n",
        "2883584 3014656 "
       ]
      },
      {
       "output_type": "stream",
       "stream": "stdout",
       "text": [
        "rejecting 0.00204467773438\n",
        "2949120 3080192 "
       ]
      },
      {
       "output_type": "stream",
       "stream": "stdout",
       "text": [
        "rejecting 0.00200653076172\n",
        "3014656 3145728 "
       ]
      },
      {
       "output_type": "stream",
       "stream": "stdout",
       "text": [
        "rejecting 0.00186920166016\n",
        "3080192 3211264 "
       ]
      },
      {
       "output_type": "stream",
       "stream": "stdout",
       "text": [
        "rejecting 0.00183868408203\n",
        "3145728 3276800 "
       ]
      },
      {
       "output_type": "stream",
       "stream": "stdout",
       "text": [
        "rejecting 0.00205993652344\n",
        "3211264 3342336 "
       ]
      },
      {
       "output_type": "stream",
       "stream": "stdout",
       "text": [
        "rejecting 0.00202941894531\n",
        "3276800 3407872 "
       ]
      },
      {
       "output_type": "stream",
       "stream": "stdout",
       "text": [
        "rejecting 0.00439453125\n",
        "3342336 3473408 "
       ]
      },
      {
       "output_type": "stream",
       "stream": "stdout",
       "text": [
        "rejecting 0.00439453125\n",
        "3407872 3538944 "
       ]
      },
      {
       "output_type": "stream",
       "stream": "stdout",
       "text": [
        "rejecting 0.000778198242188\n",
        "3473408 3604480 "
       ]
      },
      {
       "output_type": "stream",
       "stream": "stdout",
       "text": [
        "rejecting 0.00316619873047\n",
        "3538944 3670016 "
       ]
      },
      {
       "output_type": "stream",
       "stream": "stdout",
       "text": [
        "rejecting 0.00253295898438\n",
        "3604480 3735552 "
       ]
      },
      {
       "output_type": "stream",
       "stream": "stdout",
       "text": [
        "rejecting 0.0\n",
        "3670016 3801088 "
       ]
      },
      {
       "output_type": "stream",
       "stream": "stdout",
       "text": [
        "rejecting 0.0\n",
        "3735552 3866624 "
       ]
      },
      {
       "output_type": "stream",
       "stream": "stdout",
       "text": [
        "rejecting 0.0\n",
        "3801088 3932160 "
       ]
      },
      {
       "output_type": "stream",
       "stream": "stdout",
       "text": [
        "rejecting 0.00180053710938\n",
        "3866624 3997696 "
       ]
      },
      {
       "output_type": "stream",
       "stream": "stdout",
       "text": [
        "rejecting 0.00176239013672\n",
        "3932160 4063232 "
       ]
      },
      {
       "output_type": "stream",
       "stream": "stdout",
       "text": [
        "rejecting 0.0\n",
        "3997696 4128768 "
       ]
      },
      {
       "output_type": "stream",
       "stream": "stdout",
       "text": [
        "rejecting 0.0\n",
        "4063232 4194304 "
       ]
      },
      {
       "output_type": "stream",
       "stream": "stdout",
       "text": [
        "rejecting 1.52587890625e-05\n",
        "using NFFT: 2**"
       ]
      },
      {
       "output_type": "stream",
       "stream": "stdout",
       "text": [
        " 19.0\n",
        "10"
       ]
      },
      {
       "output_type": "stream",
       "stream": "stdout",
       "text": [
        "\n",
        "0"
       ]
      },
      {
       "output_type": "stream",
       "stream": "stdout",
       "text": [
        " 65536 rejecting 0.0\n",
        "0 131072 "
       ]
      },
      {
       "output_type": "stream",
       "stream": "stdout",
       "text": [
        "rejecting 0.0\n",
        "65536 196608 "
       ]
      },
      {
       "output_type": "stream",
       "stream": "stdout",
       "text": [
        "rejecting 4.57763671875e-05\n",
        "131072 262144 "
       ]
      },
      {
       "output_type": "stream",
       "stream": "stdout",
       "text": [
        "rejecting 4.57763671875e-05\n",
        "196608 327680 "
       ]
      },
      {
       "output_type": "stream",
       "stream": "stdout",
       "text": [
        "rejecting 0.0\n",
        "262144 393216 "
       ]
      },
      {
       "output_type": "stream",
       "stream": "stdout",
       "text": [
        "rejecting 0.00128173828125\n",
        "327680 458752 "
       ]
      },
      {
       "output_type": "stream",
       "stream": "stdout",
       "text": [
        "rejecting 0.00128173828125\n",
        "393216 524288 "
       ]
      },
      {
       "output_type": "stream",
       "stream": "stdout",
       "text": [
        "rejecting 0.0\n",
        "458752 589824 "
       ]
      },
      {
       "output_type": "stream",
       "stream": "stdout",
       "text": [
        "rejecting 0.00222015380859\n",
        "524288 655360 "
       ]
      },
      {
       "output_type": "stream",
       "stream": "stdout",
       "text": [
        "rejecting 0.00431060791016\n",
        "589824 720896 "
       ]
      },
      {
       "output_type": "stream",
       "stream": "stdout",
       "text": [
        "rejecting 0.00209045410156\n",
        "655360 786432 "
       ]
      },
      {
       "output_type": "stream",
       "stream": "stdout",
       "text": [
        "rejecting 0.00194549560547\n",
        "720896 851968 "
       ]
      },
      {
       "output_type": "stream",
       "stream": "stdout",
       "text": [
        "rejecting 0.00194549560547\n",
        "786432 917504 "
       ]
      },
      {
       "output_type": "stream",
       "stream": "stdout",
       "text": [
        "rejecting 0.0\n",
        "851968 983040 "
       ]
      },
      {
       "output_type": "stream",
       "stream": "stdout",
       "text": [
        "rejecting 0.00179290771484\n",
        "917504 1048576 "
       ]
      },
      {
       "output_type": "stream",
       "stream": "stdout",
       "text": [
        "rejecting 0.00354766845703\n",
        "983040 1114112 "
       ]
      },
      {
       "output_type": "stream",
       "stream": "stdout",
       "text": [
        "rejecting 0.00177764892578\n",
        "1048576 1179648 "
       ]
      },
      {
       "output_type": "stream",
       "stream": "stdout",
       "text": [
        "rejecting 6.86645507812e-05\n",
        "1114112 1245184 "
       ]
      },
      {
       "output_type": "stream",
       "stream": "stdout",
       "text": [
        "rejecting 0.0\n",
        "1179648 1310720 "
       ]
      },
      {
       "output_type": "stream",
       "stream": "stdout",
       "text": [
        "rejecting 0.0\n",
        "1245184 1376256 "
       ]
      },
      {
       "output_type": "stream",
       "stream": "stdout",
       "text": [
        "rejecting 0.0\n",
        "1310720 1441792 "
       ]
      },
      {
       "output_type": "stream",
       "stream": "stdout",
       "text": [
        "rejecting 0.0\n",
        "1376256 1507328 "
       ]
      },
      {
       "output_type": "stream",
       "stream": "stdout",
       "text": [
        "rejecting 0.0\n",
        "1441792 1572864 "
       ]
      },
      {
       "output_type": "stream",
       "stream": "stdout",
       "text": [
        "rejecting 0.0\n",
        "1507328 1638400 "
       ]
      },
      {
       "output_type": "stream",
       "stream": "stdout",
       "text": [
        "rejecting 0.002197265625\n",
        "1572864 1703936 "
       ]
      },
      {
       "output_type": "stream",
       "stream": "stdout",
       "text": [
        "rejecting 0.00220489501953\n",
        "1638400 1769472 "
       ]
      },
      {
       "output_type": "stream",
       "stream": "stdout",
       "text": [
        "rejecting 0.00155639648438\n",
        "1703936 1835008 "
       ]
      },
      {
       "output_type": "stream",
       "stream": "stdout",
       "text": [
        "rejecting 0.0015869140625\n",
        "1769472 1900544 "
       ]
      },
      {
       "output_type": "stream",
       "stream": "stdout",
       "text": [
        "rejecting 0.000617980957031\n",
        "1835008 1966080 "
       ]
      },
      {
       "output_type": "stream",
       "stream": "stdout",
       "text": [
        "rejecting 0.000823974609375\n",
        "1900544 2031616 "
       ]
      },
      {
       "output_type": "stream",
       "stream": "stdout",
       "text": [
        "rejecting 0.00263214111328\n",
        "1966080 2097152 "
       ]
      },
      {
       "output_type": "stream",
       "stream": "stdout",
       "text": [
        "rejecting 0.00267791748047\n",
        "2031616 2162688 "
       ]
      },
      {
       "output_type": "stream",
       "stream": "stdout",
       "text": [
        "rejecting 0.000572204589844\n",
        "2097152 2228224 "
       ]
      },
      {
       "output_type": "stream",
       "stream": "stdout",
       "text": [
        "rejecting 0.000503540039062\n",
        "2162688 2293760 "
       ]
      },
      {
       "output_type": "stream",
       "stream": "stdout",
       "text": [
        "rejecting 0.000205993652344\n",
        "2228224 2359296 "
       ]
      },
      {
       "output_type": "stream",
       "stream": "stdout",
       "text": [
        "rejecting 0.00279998779297\n",
        "2293760 2424832 "
       ]
      },
      {
       "output_type": "stream",
       "stream": "stdout",
       "text": [
        "rejecting 0.00312042236328\n",
        "2359296 2490368 "
       ]
      },
      {
       "output_type": "stream",
       "stream": "stdout",
       "text": [
        "rejecting 0.000801086425781\n",
        "2424832 2555904 "
       ]
      },
      {
       "output_type": "stream",
       "stream": "stdout",
       "text": [
        "rejecting 0.000823974609375\n",
        "2490368 2621440 "
       ]
      },
      {
       "output_type": "stream",
       "stream": "stdout",
       "text": [
        "rejecting 0.000411987304688\n",
        "2555904 2686976 "
       ]
      },
      {
       "output_type": "stream",
       "stream": "stdout",
       "text": [
        "rejecting 0.00018310546875\n",
        "2621440 2752512 "
       ]
      },
      {
       "output_type": "stream",
       "stream": "stdout",
       "text": [
        "rejecting 0.00254821777344\n",
        "2686976 2818048 "
       ]
      },
      {
       "output_type": "stream",
       "stream": "stdout",
       "text": [
        "rejecting 0.00247192382812\n",
        "2752512 2883584 "
       ]
      },
      {
       "output_type": "stream",
       "stream": "stdout",
       "text": [
        "rejecting 0.000114440917969\n",
        "2818048 2949120 "
       ]
      },
      {
       "output_type": "stream",
       "stream": "stdout",
       "text": [
        "rejecting 0.000114440917969\n",
        "2883584 3014656 "
       ]
      },
      {
       "output_type": "stream",
       "stream": "stdout",
       "text": [
        "rejecting 0.000251770019531\n",
        "2949120 3080192 "
       ]
      },
      {
       "output_type": "stream",
       "stream": "stdout",
       "text": [
        "rejecting 0.0\n",
        "3014656 3145728 "
       ]
      },
      {
       "output_type": "stream",
       "stream": "stdout",
       "text": [
        "rejecting 0.0\n",
        "3080192 3211264 "
       ]
      },
      {
       "output_type": "stream",
       "stream": "stdout",
       "text": [
        "rejecting 0.0\n",
        "3145728 3276800 "
       ]
      },
      {
       "output_type": "stream",
       "stream": "stdout",
       "text": [
        "rejecting 0.0\n",
        "3211264 3342336 "
       ]
      },
      {
       "output_type": "stream",
       "stream": "stdout",
       "text": [
        "rejecting 0.00285339355469\n",
        "3276800 3407872 "
       ]
      },
      {
       "output_type": "stream",
       "stream": "stdout",
       "text": [
        "rejecting 0.00283050537109\n",
        "3342336 3473408 "
       ]
      },
      {
       "output_type": "stream",
       "stream": "stdout",
       "text": [
        "rejecting 0.0\n",
        "3407872 3538944 "
       ]
      },
      {
       "output_type": "stream",
       "stream": "stdout",
       "text": [
        "rejecting 0.00200653076172\n",
        "3473408 3604480 "
       ]
      },
      {
       "output_type": "stream",
       "stream": "stdout",
       "text": [
        "rejecting 0.00196838378906\n",
        "3538944 3670016 "
       ]
      },
      {
       "output_type": "stream",
       "stream": "stdout",
       "text": [
        "rejecting 0.0\n",
        "3604480 3735552 "
       ]
      },
      {
       "output_type": "stream",
       "stream": "stdout",
       "text": [
        "rejecting 0.0\n",
        "3670016 3801088 "
       ]
      },
      {
       "output_type": "stream",
       "stream": "stdout",
       "text": [
        "rejecting 0.00259399414062\n",
        "3735552 3866624 "
       ]
      },
      {
       "output_type": "stream",
       "stream": "stdout",
       "text": [
        "rejecting 0.00497436523438\n",
        "3801088 3932160 "
       ]
      },
      {
       "output_type": "stream",
       "stream": "stdout",
       "text": [
        "rejecting 0.00238037109375\n",
        "3866624 3997696 "
       ]
      },
      {
       "output_type": "stream",
       "stream": "stdout",
       "text": [
        "rejecting 0.0\n",
        "3932160 4063232 "
       ]
      },
      {
       "output_type": "stream",
       "stream": "stdout",
       "text": [
        "rejecting 0.0\n",
        "3997696 4128768 "
       ]
      },
      {
       "output_type": "stream",
       "stream": "stdout",
       "text": [
        "rejecting 0.0\n",
        "4063232 4194304 "
       ]
      },
      {
       "output_type": "stream",
       "stream": "stdout",
       "text": [
        "rejecting 0.0\n",
        "using NFFT: 2**"
       ]
      },
      {
       "output_type": "stream",
       "stream": "stdout",
       "text": [
        " 19.0\n",
        "10"
       ]
      },
      {
       "output_type": "stream",
       "stream": "stdout",
       "text": [
        "\n",
        "0"
       ]
      },
      {
       "output_type": "stream",
       "stream": "stdout",
       "text": [
        " 65536 rejecting 0.004150390625\n",
        "0 131072 "
       ]
      },
      {
       "output_type": "stream",
       "stream": "stdout",
       "text": [
        "rejecting 0.00206756591797\n",
        "65536 196608 "
       ]
      },
      {
       "output_type": "stream",
       "stream": "stdout",
       "text": [
        "rejecting 0.0\n",
        "131072 262144 "
       ]
      },
      {
       "output_type": "stream",
       "stream": "stdout",
       "text": [
        "rejecting 0.00354766845703\n",
        "196608 327680 "
       ]
      },
      {
       "output_type": "stream",
       "stream": "stdout",
       "text": [
        "rejecting 0.00354766845703\n",
        "262144 393216 "
       ]
      },
      {
       "output_type": "stream",
       "stream": "stdout",
       "text": [
        "rejecting 0.0\n",
        "327680 458752 "
       ]
      },
      {
       "output_type": "stream",
       "stream": "stdout",
       "text": [
        "rejecting 0.00178527832031\n",
        "393216 524288 "
       ]
      },
      {
       "output_type": "stream",
       "stream": "stdout",
       "text": [
        "rejecting 0.00178527832031\n",
        "458752 589824 "
       ]
      },
      {
       "output_type": "stream",
       "stream": "stdout",
       "text": [
        "rejecting 0.00223541259766\n",
        "524288 655360 "
       ]
      },
      {
       "output_type": "stream",
       "stream": "stdout",
       "text": [
        "rejecting 0.00224304199219\n",
        "589824 720896 "
       ]
      },
      {
       "output_type": "stream",
       "stream": "stdout",
       "text": [
        "rejecting 0.00204467773438\n",
        "655360 786432 "
       ]
      },
      {
       "output_type": "stream",
       "stream": "stdout",
       "text": [
        "rejecting 0.00204467773438\n",
        "720896 851968 "
       ]
      },
      {
       "output_type": "stream",
       "stream": "stdout",
       "text": [
        "rejecting 0.000732421875\n",
        "786432 917504 "
       ]
      },
      {
       "output_type": "stream",
       "stream": "stdout",
       "text": [
        "rejecting 0.000801086425781\n",
        "851968 983040 "
       ]
      },
      {
       "output_type": "stream",
       "stream": "stdout",
       "text": [
        "rejecting 0.0\n",
        "917504 1048576 "
       ]
      },
      {
       "output_type": "stream",
       "stream": "stdout",
       "text": [
        "rejecting 6.86645507812e-05\n",
        "983040 1114112 "
       ]
      },
      {
       "output_type": "stream",
       "stream": "stdout",
       "text": [
        "rejecting 0.002197265625\n",
        "1048576 1179648 "
       ]
      },
      {
       "output_type": "stream",
       "stream": "stdout",
       "text": [
        "rejecting 0.00209808349609\n",
        "1114112 1245184 "
       ]
      },
      {
       "output_type": "stream",
       "stream": "stdout",
       "text": [
        "rejecting 2.28881835938e-05\n",
        "1179648 1310720 "
       ]
      },
      {
       "output_type": "stream",
       "stream": "stdout",
       "text": [
        "rejecting 0.0\n",
        "1245184 1376256 "
       ]
      },
      {
       "output_type": "stream",
       "stream": "stdout",
       "text": [
        "rejecting 0.00186157226562\n",
        "1310720 1441792 "
       ]
      },
      {
       "output_type": "stream",
       "stream": "stdout",
       "text": [
        "rejecting 0.00191497802734\n",
        "1376256 1507328 "
       ]
      },
      {
       "output_type": "stream",
       "stream": "stdout",
       "text": [
        "rejecting 0.000160217285156\n",
        "1441792 1572864 "
       ]
      },
      {
       "output_type": "stream",
       "stream": "stdout",
       "text": [
        "rejecting 0.00237274169922\n",
        "1507328 1638400 "
       ]
      },
      {
       "output_type": "stream",
       "stream": "stdout",
       "text": [
        "rejecting 0.00214385986328\n",
        "1572864 1703936 "
       ]
      },
      {
       "output_type": "stream",
       "stream": "stdout",
       "text": [
        "rejecting 9.1552734375e-05\n",
        "1638400 1769472 "
       ]
      },
      {
       "output_type": "stream",
       "stream": "stdout",
       "text": [
        "rejecting 0.0\n",
        "1703936 1835008 "
       ]
      },
      {
       "output_type": "stream",
       "stream": "stdout",
       "text": [
        "rejecting 0.0\n",
        "1769472 1900544 "
       ]
      },
      {
       "output_type": "stream",
       "stream": "stdout",
       "text": [
        "rejecting 0.00230407714844\n",
        "1835008 1966080 "
       ]
      },
      {
       "output_type": "stream",
       "stream": "stdout",
       "text": [
        "rejecting 0.00244140625\n",
        "1900544 2031616 "
       ]
      },
      {
       "output_type": "stream",
       "stream": "stdout",
       "text": [
        "rejecting 0.00200653076172\n",
        "1966080 2097152 "
       ]
      },
      {
       "output_type": "stream",
       "stream": "stdout",
       "text": [
        "rejecting 0.00699615478516\n",
        "2031616 2162688 "
       ]
      },
      {
       "output_type": "stream",
       "stream": "stdout",
       "text": [
        "rejecting 0.005126953125\n",
        "2097152 2228224 "
       ]
      },
      {
       "output_type": "stream",
       "stream": "stdout",
       "text": [
        "rejecting 0.00018310546875\n",
        "2162688 2293760 "
       ]
      },
      {
       "output_type": "stream",
       "stream": "stdout",
       "text": [
        "rejecting 0.000137329101562\n",
        "2228224 2359296 "
       ]
      },
      {
       "output_type": "stream",
       "stream": "stdout",
       "text": [
        "rejecting 0.0\n",
        "2293760 2424832 "
       ]
      },
      {
       "output_type": "stream",
       "stream": "stdout",
       "text": [
        "rejecting 9.1552734375e-05\n",
        "2359296 2490368 "
       ]
      },
      {
       "output_type": "stream",
       "stream": "stdout",
       "text": [
        "rejecting 4.57763671875e-05\n",
        "2424832 2555904 "
       ]
      },
      {
       "output_type": "stream",
       "stream": "stdout",
       "text": [
        "rejecting 0.00275421142578\n",
        "2490368 2621440 "
       ]
      },
      {
       "output_type": "stream",
       "stream": "stdout",
       "text": [
        "rejecting 0.00314331054688\n",
        "2555904 2686976 "
       ]
      },
      {
       "output_type": "stream",
       "stream": "stdout",
       "text": [
        "rejecting 0.000457763671875\n",
        "2621440 2752512 "
       ]
      },
      {
       "output_type": "stream",
       "stream": "stdout",
       "text": [
        "rejecting 0.000457763671875\n",
        "2686976 2818048 "
       ]
      },
      {
       "output_type": "stream",
       "stream": "stdout",
       "text": [
        "rejecting 0.00201416015625\n",
        "2752512 2883584 "
       ]
      },
      {
       "output_type": "stream",
       "stream": "stdout",
       "text": [
        "rejecting 0.00177764892578\n",
        "2818048 2949120 "
       ]
      },
      {
       "output_type": "stream",
       "stream": "stdout",
       "text": [
        "rejecting 6.86645507812e-05\n",
        "2883584 3014656 "
       ]
      },
      {
       "output_type": "stream",
       "stream": "stdout",
       "text": [
        "rejecting 9.1552734375e-05\n",
        "2949120 3080192 "
       ]
      },
      {
       "output_type": "stream",
       "stream": "stdout",
       "text": [
        "rejecting 2.28881835938e-05\n",
        "3014656 3145728 "
       ]
      },
      {
       "output_type": "stream",
       "stream": "stdout",
       "text": [
        "rejecting 0.0\n",
        "3080192 3211264 "
       ]
      },
      {
       "output_type": "stream",
       "stream": "stdout",
       "text": [
        "rejecting 0.000114440917969\n",
        "3145728 3276800 "
       ]
      },
      {
       "output_type": "stream",
       "stream": "stdout",
       "text": [
        "rejecting 0.00247955322266\n",
        "3211264 3342336 "
       ]
      },
      {
       "output_type": "stream",
       "stream": "stdout",
       "text": [
        "rejecting 0.00234222412109\n",
        "3276800 3407872 "
       ]
      },
      {
       "output_type": "stream",
       "stream": "stdout",
       "text": [
        "rejecting 0.00160217285156\n",
        "3342336 3473408 "
       ]
      },
      {
       "output_type": "stream",
       "stream": "stdout",
       "text": [
        "rejecting 0.00155639648438\n",
        "3407872 3538944 "
       ]
      },
      {
       "output_type": "stream",
       "stream": "stdout",
       "text": [
        "rejecting 0.0\n",
        "3473408 3604480 "
       ]
      },
      {
       "output_type": "stream",
       "stream": "stdout",
       "text": [
        "rejecting 0.0\n",
        "3538944 3670016 "
       ]
      },
      {
       "output_type": "stream",
       "stream": "stdout",
       "text": [
        "rejecting 2.28881835938e-05\n",
        "3604480 3735552 "
       ]
      },
      {
       "output_type": "stream",
       "stream": "stdout",
       "text": [
        "rejecting 0.0\n",
        "3670016 3801088 "
       ]
      },
      {
       "output_type": "stream",
       "stream": "stdout",
       "text": [
        "rejecting 0.0\n",
        "3735552 3866624 "
       ]
      },
      {
       "output_type": "stream",
       "stream": "stdout",
       "text": [
        "rejecting 0.00228881835938\n",
        "3801088 3932160 "
       ]
      },
      {
       "output_type": "stream",
       "stream": "stdout",
       "text": [
        "rejecting 0.00227355957031\n",
        "3866624 3997696 "
       ]
      },
      {
       "output_type": "stream",
       "stream": "stdout",
       "text": [
        "rejecting 0.0\n",
        "3932160 4063232 "
       ]
      },
      {
       "output_type": "stream",
       "stream": "stdout",
       "text": [
        "rejecting 0.0\n",
        "3997696 4128768 "
       ]
      },
      {
       "output_type": "stream",
       "stream": "stdout",
       "text": [
        "rejecting 0.00211334228516\n",
        "4063232 4194304 "
       ]
      },
      {
       "output_type": "stream",
       "stream": "stdout",
       "text": [
        "rejecting 0.00399017333984\n",
        "using NFFT: 2**"
       ]
      },
      {
       "output_type": "stream",
       "stream": "stdout",
       "text": [
        " 19.0\n",
        "10"
       ]
      },
      {
       "output_type": "stream",
       "stream": "stdout",
       "text": [
        "\n",
        "0"
       ]
      },
      {
       "output_type": "stream",
       "stream": "stdout",
       "text": [
        " 65536 rejecting 0.0\n",
        "0 131072 "
       ]
      },
      {
       "output_type": "stream",
       "stream": "stdout",
       "text": [
        "rejecting 0.0\n",
        "65536 196608 "
       ]
      },
      {
       "output_type": "stream",
       "stream": "stdout",
       "text": [
        "rejecting 0.0\n",
        "131072 262144 "
       ]
      },
      {
       "output_type": "stream",
       "stream": "stdout",
       "text": [
        "rejecting 0.0\n",
        "196608 327680 "
       ]
      },
      {
       "output_type": "stream",
       "stream": "stdout",
       "text": [
        "rejecting 0.0\n",
        "262144 393216 "
       ]
      },
      {
       "output_type": "stream",
       "stream": "stdout",
       "text": [
        "rejecting 0.00119781494141\n",
        "327680 458752 "
       ]
      },
      {
       "output_type": "stream",
       "stream": "stdout",
       "text": [
        "rejecting 0.00119781494141\n",
        "393216 524288 "
       ]
      },
      {
       "output_type": "stream",
       "stream": "stdout",
       "text": [
        "rejecting 0.00211334228516\n",
        "458752 589824 "
       ]
      },
      {
       "output_type": "stream",
       "stream": "stdout",
       "text": [
        "rejecting 0.00212097167969\n",
        "524288 655360 "
       ]
      },
      {
       "output_type": "stream",
       "stream": "stdout",
       "text": [
        "rejecting 0.0\n",
        "589824 720896 "
       ]
      },
      {
       "output_type": "stream",
       "stream": "stdout",
       "text": [
        "rejecting 0.0\n",
        "655360 786432 "
       ]
      },
      {
       "output_type": "stream",
       "stream": "stdout",
       "text": [
        "rejecting 0.00149536132812\n",
        "720896 851968 "
       ]
      },
      {
       "output_type": "stream",
       "stream": "stdout",
       "text": [
        "rejecting 0.00149536132812\n",
        "786432 917504 "
       ]
      },
      {
       "output_type": "stream",
       "stream": "stdout",
       "text": [
        "rejecting 0.0\n",
        "851968 983040 "
       ]
      },
      {
       "output_type": "stream",
       "stream": "stdout",
       "text": [
        "rejecting 0.0\n",
        "917504 1048576 "
       ]
      },
      {
       "output_type": "stream",
       "stream": "stdout",
       "text": [
        "rejecting 0.00185394287109\n",
        "983040 1114112 "
       ]
      },
      {
       "output_type": "stream",
       "stream": "stdout",
       "text": [
        "rejecting 0.00186157226562\n",
        "1048576 1179648 "
       ]
      },
      {
       "output_type": "stream",
       "stream": "stdout",
       "text": [
        "rejecting 0.0\n",
        "1114112 1245184 "
       ]
      },
      {
       "output_type": "stream",
       "stream": "stdout",
       "text": [
        "rejecting 0.00211334228516\n",
        "1179648 1310720 "
       ]
      },
      {
       "output_type": "stream",
       "stream": "stdout",
       "text": [
        "rejecting 0.00212097167969\n",
        "1245184 1376256 "
       ]
      },
      {
       "output_type": "stream",
       "stream": "stdout",
       "text": [
        "rejecting 0.0\n",
        "1310720 1441792 "
       ]
      },
      {
       "output_type": "stream",
       "stream": "stdout",
       "text": [
        "rejecting 0.0\n",
        "1376256 1507328 "
       ]
      },
      {
       "output_type": "stream",
       "stream": "stdout",
       "text": [
        "rejecting 0.00180053710938\n",
        "1441792 1572864 "
       ]
      },
      {
       "output_type": "stream",
       "stream": "stdout",
       "text": [
        "rejecting 0.00341033935547\n",
        "1507328 1638400 "
       ]
      },
      {
       "output_type": "stream",
       "stream": "stdout",
       "text": [
        "rejecting 0.00230407714844\n",
        "1572864 1703936 "
       ]
      },
      {
       "output_type": "stream",
       "stream": "stdout",
       "text": [
        "rejecting 0.000808715820312\n",
        "1638400 1769472 "
       ]
      },
      {
       "output_type": "stream",
       "stream": "stdout",
       "text": [
        "rejecting 4.57763671875e-05\n",
        "1703936 1835008 "
       ]
      },
      {
       "output_type": "stream",
       "stream": "stdout",
       "text": [
        "rejecting 6.86645507812e-05\n",
        "1769472 1900544 "
       ]
      },
      {
       "output_type": "stream",
       "stream": "stdout",
       "text": [
        "rejecting 0.0\n",
        "1835008 1966080 "
       ]
      },
      {
       "output_type": "stream",
       "stream": "stdout",
       "text": [
        "rejecting 0.000114440917969\n",
        "1900544 2031616 "
       ]
      },
      {
       "output_type": "stream",
       "stream": "stdout",
       "text": [
        "rejecting 0.000320434570312\n",
        "1966080 2097152 "
       ]
      },
      {
       "output_type": "stream",
       "stream": "stdout",
       "text": [
        "rejecting 0.000411987304688\n",
        "2031616 2162688 "
       ]
      },
      {
       "output_type": "stream",
       "stream": "stdout",
       "text": [
        "rejecting 0.00261688232422\n",
        "2097152 2228224 "
       ]
      },
      {
       "output_type": "stream",
       "stream": "stdout",
       "text": [
        "rejecting 0.00240325927734\n",
        "2162688 2293760 "
       ]
      },
      {
       "output_type": "stream",
       "stream": "stdout",
       "text": [
        "rejecting 0.00298309326172\n",
        "2228224 2359296 "
       ]
      },
      {
       "output_type": "stream",
       "stream": "stdout",
       "text": [
        "rejecting 0.00471496582031\n",
        "2293760 2424832 "
       ]
      },
      {
       "output_type": "stream",
       "stream": "stdout",
       "text": [
        "rejecting 0.00182342529297\n",
        "2359296 2490368 "
       ]
      },
      {
       "output_type": "stream",
       "stream": "stdout",
       "text": [
        "rejecting 0.00240325927734\n",
        "2424832 2555904 "
       ]
      },
      {
       "output_type": "stream",
       "stream": "stdout",
       "text": [
        "rejecting 0.00344085693359\n",
        "2490368 2621440 "
       ]
      },
      {
       "output_type": "stream",
       "stream": "stdout",
       "text": [
        "rejecting 0.00120544433594\n",
        "2555904 2686976 "
       ]
      },
      {
       "output_type": "stream",
       "stream": "stdout",
       "text": [
        "rejecting 0.000434875488281\n",
        "2621440 2752512 "
       ]
      },
      {
       "output_type": "stream",
       "stream": "stdout",
       "text": [
        "rejecting 0.000160217285156\n",
        "2686976 2818048 "
       ]
      },
      {
       "output_type": "stream",
       "stream": "stdout",
       "text": [
        "rejecting 6.86645507812e-05\n",
        "2752512 2883584 "
       ]
      },
      {
       "output_type": "stream",
       "stream": "stdout",
       "text": [
        "rejecting 0.0\n",
        "2818048 2949120 "
       ]
      },
      {
       "output_type": "stream",
       "stream": "stdout",
       "text": [
        "rejecting 0.000434875488281\n",
        "2883584 3014656 "
       ]
      },
      {
       "output_type": "stream",
       "stream": "stdout",
       "text": [
        "rejecting 0.000297546386719\n",
        "2949120 3080192 "
       ]
      },
      {
       "output_type": "stream",
       "stream": "stdout",
       "text": [
        "rejecting 0.0\n",
        "3014656 3145728 "
       ]
      },
      {
       "output_type": "stream",
       "stream": "stdout",
       "text": [
        "rejecting 0.00237274169922\n",
        "3080192 3211264 "
       ]
      },
      {
       "output_type": "stream",
       "stream": "stdout",
       "text": [
        "rejecting 0.00234222412109\n",
        "3145728 3276800 "
       ]
      },
      {
       "output_type": "stream",
       "stream": "stdout",
       "text": [
        "rejecting 0.0\n",
        "3211264 3342336 "
       ]
      },
      {
       "output_type": "stream",
       "stream": "stdout",
       "text": [
        "rejecting 0.00444030761719\n",
        "3276800 3407872 "
       ]
      },
      {
       "output_type": "stream",
       "stream": "stdout",
       "text": [
        "rejecting 0.00436401367188\n",
        "3342336 3473408 "
       ]
      },
      {
       "output_type": "stream",
       "stream": "stdout",
       "text": [
        "rejecting 0.0\n",
        "3407872 3538944 "
       ]
      },
      {
       "output_type": "stream",
       "stream": "stdout",
       "text": [
        "rejecting 0.0\n",
        "3473408 3604480 "
       ]
      },
      {
       "output_type": "stream",
       "stream": "stdout",
       "text": [
        "rejecting 0.0\n",
        "3538944 3670016 "
       ]
      },
      {
       "output_type": "stream",
       "stream": "stdout",
       "text": [
        "rejecting 0.0\n",
        "3604480 3735552 "
       ]
      },
      {
       "output_type": "stream",
       "stream": "stdout",
       "text": [
        "rejecting 0.0\n",
        "3670016 3801088 "
       ]
      },
      {
       "output_type": "stream",
       "stream": "stdout",
       "text": [
        "rejecting 0.0\n",
        "3735552 3866624 "
       ]
      },
      {
       "output_type": "stream",
       "stream": "stdout",
       "text": [
        "rejecting 0.0\n",
        "3801088 3932160 "
       ]
      },
      {
       "output_type": "stream",
       "stream": "stdout",
       "text": [
        "rejecting 0.0\n",
        "3866624 3997696 "
       ]
      },
      {
       "output_type": "stream",
       "stream": "stdout",
       "text": [
        "rejecting 0.0\n",
        "3932160 4063232 "
       ]
      },
      {
       "output_type": "stream",
       "stream": "stdout",
       "text": [
        "rejecting 3.0517578125e-05\n",
        "3997696 4128768 "
       ]
      },
      {
       "output_type": "stream",
       "stream": "stdout",
       "text": [
        "rejecting 9.91821289062e-05\n",
        "4063232 4194304 "
       ]
      },
      {
       "output_type": "stream",
       "stream": "stdout",
       "text": [
        "rejecting 6.103515625e-05\n",
        "using NFFT: 2**"
       ]
      },
      {
       "output_type": "stream",
       "stream": "stdout",
       "text": [
        " 19.0\n",
        "10"
       ]
      },
      {
       "output_type": "stream",
       "stream": "stdout",
       "text": [
        "\n",
        "0"
       ]
      },
      {
       "output_type": "stream",
       "stream": "stdout",
       "text": [
        " 65536 rejecting 0.0\n",
        "0 131072 "
       ]
      },
      {
       "output_type": "stream",
       "stream": "stdout",
       "text": [
        "rejecting 0.0\n",
        "65536 196608 "
       ]
      },
      {
       "output_type": "stream",
       "stream": "stdout",
       "text": [
        "rejecting 0.0\n",
        "131072 262144 "
       ]
      },
      {
       "output_type": "stream",
       "stream": "stdout",
       "text": [
        "rejecting 0.0\n",
        "196608 327680 "
       ]
      },
      {
       "output_type": "stream",
       "stream": "stdout",
       "text": [
        "rejecting 0.0\n",
        "262144 393216 "
       ]
      },
      {
       "output_type": "stream",
       "stream": "stdout",
       "text": [
        "rejecting 0.0\n",
        "327680 458752 "
       ]
      },
      {
       "output_type": "stream",
       "stream": "stdout",
       "text": [
        "rejecting 0.000114440917969\n",
        "393216 524288 "
       ]
      },
      {
       "output_type": "stream",
       "stream": "stdout",
       "text": [
        "rejecting 0.000114440917969\n",
        "458752 589824 "
       ]
      },
      {
       "output_type": "stream",
       "stream": "stdout",
       "text": [
        "rejecting 0.00203704833984\n",
        "524288 655360 "
       ]
      },
      {
       "output_type": "stream",
       "stream": "stdout",
       "text": [
        "rejecting 0.00203704833984\n",
        "589824 720896 "
       ]
      },
      {
       "output_type": "stream",
       "stream": "stdout",
       "text": [
        "rejecting 0.0\n",
        "655360 786432 "
       ]
      },
      {
       "output_type": "stream",
       "stream": "stdout",
       "text": [
        "rejecting 0.0\n",
        "720896 851968 "
       ]
      },
      {
       "output_type": "stream",
       "stream": "stdout",
       "text": [
        "rejecting 0.0\n",
        "786432 917504 "
       ]
      },
      {
       "output_type": "stream",
       "stream": "stdout",
       "text": [
        "rejecting 0.001220703125\n",
        "851968 983040 "
       ]
      },
      {
       "output_type": "stream",
       "stream": "stdout",
       "text": [
        "rejecting 0.00340270996094\n",
        "917504 1048576 "
       ]
      },
      {
       "output_type": "stream",
       "stream": "stdout",
       "text": [
        "rejecting 0.004150390625\n",
        "983040 1114112 "
       ]
      },
      {
       "output_type": "stream",
       "stream": "stdout",
       "text": [
        "rejecting 0.00375366210938\n",
        "1048576 1179648 "
       ]
      },
      {
       "output_type": "stream",
       "stream": "stdout",
       "text": [
        "rejecting 0.00179290771484\n",
        "1114112 1245184 "
       ]
      },
      {
       "output_type": "stream",
       "stream": "stdout",
       "text": [
        "rejecting 0.00199890136719\n",
        "1179648 1310720 "
       ]
      },
      {
       "output_type": "stream",
       "stream": "stdout",
       "text": [
        "rejecting 0.00199890136719\n",
        "1245184 1376256 "
       ]
      },
      {
       "output_type": "stream",
       "stream": "stdout",
       "text": [
        "rejecting 0.0\n",
        "1310720 1441792 "
       ]
      },
      {
       "output_type": "stream",
       "stream": "stdout",
       "text": [
        "rejecting 0.0\n",
        "1376256 1507328 "
       ]
      },
      {
       "output_type": "stream",
       "stream": "stdout",
       "text": [
        "rejecting 0.0\n",
        "1441792 1572864 "
       ]
      },
      {
       "output_type": "stream",
       "stream": "stdout",
       "text": [
        "rejecting 2.28881835938e-05\n",
        "1507328 1638400 "
       ]
      },
      {
       "output_type": "stream",
       "stream": "stdout",
       "text": [
        "rejecting 0.0\n",
        "1572864 1703936 "
       ]
      },
      {
       "output_type": "stream",
       "stream": "stdout",
       "text": [
        "rejecting 0.0\n",
        "1638400 1769472 "
       ]
      },
      {
       "output_type": "stream",
       "stream": "stdout",
       "text": [
        "rejecting 0.00246429443359\n",
        "1703936 1835008 "
       ]
      },
      {
       "output_type": "stream",
       "stream": "stdout",
       "text": [
        "rejecting 0.00263214111328\n",
        "1769472 1900544 "
       ]
      },
      {
       "output_type": "stream",
       "stream": "stdout",
       "text": [
        "rejecting 0.00300598144531\n",
        "1835008 1966080 "
       ]
      },
      {
       "output_type": "stream",
       "stream": "stdout",
       "text": [
        "rejecting 0.00308990478516\n",
        "1900544 2031616 "
       ]
      },
      {
       "output_type": "stream",
       "stream": "stdout",
       "text": [
        "rejecting 9.1552734375e-05\n",
        "1966080 2097152 "
       ]
      },
      {
       "output_type": "stream",
       "stream": "stdout",
       "text": [
        "rejecting 0.000320434570312\n",
        "2031616 2162688 "
       ]
      },
      {
       "output_type": "stream",
       "stream": "stdout",
       "text": [
        "rejecting 0.000595092773438\n",
        "2097152 2228224 "
       ]
      },
      {
       "output_type": "stream",
       "stream": "stdout",
       "text": [
        "rejecting 0.000595092773438\n",
        "2162688 2293760 "
       ]
      },
      {
       "output_type": "stream",
       "stream": "stdout",
       "text": [
        "rejecting 0.000389099121094\n",
        "2228224 2359296 "
       ]
      },
      {
       "output_type": "stream",
       "stream": "stdout",
       "text": [
        "rejecting 0.00018310546875\n",
        "2293760 2424832 "
       ]
      },
      {
       "output_type": "stream",
       "stream": "stdout",
       "text": [
        "rejecting 2.28881835938e-05\n",
        "2359296 2490368 "
       ]
      },
      {
       "output_type": "stream",
       "stream": "stdout",
       "text": [
        "rejecting 9.1552734375e-05\n",
        "2424832 2555904 "
       ]
      },
      {
       "output_type": "stream",
       "stream": "stdout",
       "text": [
        "rejecting 2.28881835938e-05\n",
        "2490368 2621440 "
       ]
      },
      {
       "output_type": "stream",
       "stream": "stdout",
       "text": [
        "rejecting 0.000228881835938\n",
        "2555904 2686976 "
       ]
      },
      {
       "output_type": "stream",
       "stream": "stdout",
       "text": [
        "rejecting 0.00290679931641\n",
        "2621440 2752512 "
       ]
      },
      {
       "output_type": "stream",
       "stream": "stdout",
       "text": [
        "rejecting 0.00279998779297\n",
        "2686976 2818048 "
       ]
      },
      {
       "output_type": "stream",
       "stream": "stdout",
       "text": [
        "rejecting 6.86645507812e-05\n",
        "2752512 2883584 "
       ]
      },
      {
       "output_type": "stream",
       "stream": "stdout",
       "text": [
        "rejecting 9.1552734375e-05\n",
        "2818048 2949120 "
       ]
      },
      {
       "output_type": "stream",
       "stream": "stdout",
       "text": [
        "rejecting 0.00247955322266\n",
        "2883584 3014656 "
       ]
      },
      {
       "output_type": "stream",
       "stream": "stdout",
       "text": [
        "rejecting 0.00247955322266\n",
        "2949120 3080192 "
       ]
      },
      {
       "output_type": "stream",
       "stream": "stdout",
       "text": [
        "rejecting 0.0\n",
        "3014656 3145728 "
       ]
      },
      {
       "output_type": "stream",
       "stream": "stdout",
       "text": [
        "rejecting 0.00202941894531\n",
        "3080192 3211264 "
       ]
      },
      {
       "output_type": "stream",
       "stream": "stdout",
       "text": [
        "rejecting 0.00202941894531\n",
        "3145728 3276800 "
       ]
      },
      {
       "output_type": "stream",
       "stream": "stdout",
       "text": [
        "rejecting 0.0\n",
        "3211264 3342336 "
       ]
      },
      {
       "output_type": "stream",
       "stream": "stdout",
       "text": [
        "rejecting 0.0\n",
        "3276800 3407872 "
       ]
      },
      {
       "output_type": "stream",
       "stream": "stdout",
       "text": [
        "rejecting 0.0\n",
        "3342336 3473408 "
       ]
      },
      {
       "output_type": "stream",
       "stream": "stdout",
       "text": [
        "rejecting 0.0\n",
        "3407872 3538944 "
       ]
      },
      {
       "output_type": "stream",
       "stream": "stdout",
       "text": [
        "rejecting 0.0\n",
        "3473408 3604480 "
       ]
      },
      {
       "output_type": "stream",
       "stream": "stdout",
       "text": [
        "rejecting 0.0\n",
        "3538944 3670016 "
       ]
      },
      {
       "output_type": "stream",
       "stream": "stdout",
       "text": [
        "rejecting 0.00241088867188\n",
        "3604480 3735552 "
       ]
      },
      {
       "output_type": "stream",
       "stream": "stdout",
       "text": [
        "rejecting 0.00240325927734\n",
        "3670016 3801088 "
       ]
      },
      {
       "output_type": "stream",
       "stream": "stdout",
       "text": [
        "rejecting 0.0\n",
        "3735552 3866624 "
       ]
      },
      {
       "output_type": "stream",
       "stream": "stdout",
       "text": [
        "rejecting 0.00203704833984\n",
        "3801088 3932160 "
       ]
      },
      {
       "output_type": "stream",
       "stream": "stdout",
       "text": [
        "rejecting 0.00199890136719\n",
        "3866624 3997696 "
       ]
      },
      {
       "output_type": "stream",
       "stream": "stdout",
       "text": [
        "rejecting 0.0\n",
        "3932160 4063232 "
       ]
      },
      {
       "output_type": "stream",
       "stream": "stdout",
       "text": [
        "rejecting 0.0\n",
        "3997696 4128768 "
       ]
      },
      {
       "output_type": "stream",
       "stream": "stdout",
       "text": [
        "rejecting 1.52587890625e-05\n",
        "4063232 4194304 "
       ]
      },
      {
       "output_type": "stream",
       "stream": "stdout",
       "text": [
        "rejecting 4.57763671875e-05\n",
        "using NFFT: 2**"
       ]
      },
      {
       "output_type": "stream",
       "stream": "stdout",
       "text": [
        " 19.0\n",
        "10"
       ]
      },
      {
       "output_type": "stream",
       "stream": "stdout",
       "text": [
        "\n",
        "0"
       ]
      },
      {
       "output_type": "stream",
       "stream": "stdout",
       "text": [
        " 65536 rejecting 0.0\n",
        "0 131072 "
       ]
      },
      {
       "output_type": "stream",
       "stream": "stdout",
       "text": [
        "rejecting 0.0\n",
        "65536 196608 "
       ]
      },
      {
       "output_type": "stream",
       "stream": "stdout",
       "text": [
        "rejecting 0.0015869140625\n",
        "131072 262144 "
       ]
      },
      {
       "output_type": "stream",
       "stream": "stdout",
       "text": [
        "rejecting 0.0015869140625\n",
        "196608 327680 "
       ]
      },
      {
       "output_type": "stream",
       "stream": "stdout",
       "text": [
        "rejecting 0.0\n",
        "262144 393216 "
       ]
      },
      {
       "output_type": "stream",
       "stream": "stdout",
       "text": [
        "rejecting 0.00164031982422\n",
        "327680 458752 "
       ]
      },
      {
       "output_type": "stream",
       "stream": "stdout",
       "text": [
        "rejecting 0.00164794921875\n",
        "393216 524288 "
       ]
      },
      {
       "output_type": "stream",
       "stream": "stdout",
       "text": [
        "rejecting 0.000160217285156\n",
        "458752 589824 "
       ]
      },
      {
       "output_type": "stream",
       "stream": "stdout",
       "text": [
        "rejecting 0.00204467773438\n",
        "524288 655360 "
       ]
      },
      {
       "output_type": "stream",
       "stream": "stdout",
       "text": [
        "rejecting 0.00189208984375\n",
        "589824 720896 "
       ]
      },
      {
       "output_type": "stream",
       "stream": "stdout",
       "text": [
        "rejecting 0.0\n",
        "655360 786432 "
       ]
      },
      {
       "output_type": "stream",
       "stream": "stdout",
       "text": [
        "rejecting 0.00198364257812\n",
        "720896 851968 "
       ]
      },
      {
       "output_type": "stream",
       "stream": "stdout",
       "text": [
        "rejecting 0.00803375244141\n",
        "786432 917504 "
       ]
      },
      {
       "output_type": "stream",
       "stream": "stdout",
       "text": [
        "rejecting 0.00605010986328\n",
        "851968 983040 "
       ]
      },
      {
       "output_type": "stream",
       "stream": "stdout",
       "text": [
        "rejecting 0.0\n",
        "917504 1048576 "
       ]
      },
      {
       "output_type": "stream",
       "stream": "stdout",
       "text": [
        "rejecting 0.0\n",
        "983040 1114112 "
       ]
      },
      {
       "output_type": "stream",
       "stream": "stdout",
       "text": [
        "rejecting 0.0\n",
        "1048576 1179648 "
       ]
      },
      {
       "output_type": "stream",
       "stream": "stdout",
       "text": [
        "rejecting 0.0\n",
        "1114112 1245184 "
       ]
      },
      {
       "output_type": "stream",
       "stream": "stdout",
       "text": [
        "rejecting 0.0\n",
        "1179648 1310720 "
       ]
      },
      {
       "output_type": "stream",
       "stream": "stdout",
       "text": [
        "rejecting 0.00154113769531\n",
        "1245184 1376256 "
       ]
      },
      {
       "output_type": "stream",
       "stream": "stdout",
       "text": [
        "rejecting 0.00154113769531\n",
        "1310720 1441792 "
       ]
      },
      {
       "output_type": "stream",
       "stream": "stdout",
       "text": [
        "rejecting 0.0\n",
        "1376256 1507328 "
       ]
      },
      {
       "output_type": "stream",
       "stream": "stdout",
       "text": [
        "rejecting 0.0\n",
        "1441792 1572864 "
       ]
      },
      {
       "output_type": "stream",
       "stream": "stdout",
       "text": [
        "rejecting 0.0\n",
        "1507328 1638400 "
       ]
      },
      {
       "output_type": "stream",
       "stream": "stdout",
       "text": [
        "rejecting 0.0\n",
        "1572864 1703936 "
       ]
      },
      {
       "output_type": "stream",
       "stream": "stdout",
       "text": [
        "rejecting 0.0\n",
        "1638400 1769472 "
       ]
      },
      {
       "output_type": "stream",
       "stream": "stdout",
       "text": [
        "rejecting 0.00254058837891\n",
        "1703936 1835008 "
       ]
      },
      {
       "output_type": "stream",
       "stream": "stdout",
       "text": [
        "rejecting 0.00479888916016\n",
        "1769472 1900544 "
       ]
      },
      {
       "output_type": "stream",
       "stream": "stdout",
       "text": [
        "rejecting 0.002197265625\n",
        "1835008 1966080 "
       ]
      },
      {
       "output_type": "stream",
       "stream": "stdout",
       "text": [
        "rejecting 0.000297546386719\n",
        "1900544 2031616 "
       ]
      },
      {
       "output_type": "stream",
       "stream": "stdout",
       "text": [
        "rejecting 0.000205993652344\n",
        "1966080 2097152 "
       ]
      },
      {
       "output_type": "stream",
       "stream": "stdout",
       "text": [
        "rejecting 0.0003662109375\n",
        "2031616 2162688 "
       ]
      },
      {
       "output_type": "stream",
       "stream": "stdout",
       "text": [
        "rejecting 0.000526428222656\n",
        "2097152 2228224 "
       ]
      },
      {
       "output_type": "stream",
       "stream": "stdout",
       "text": [
        "rejecting 0.000640869140625\n",
        "2162688 2293760 "
       ]
      },
      {
       "output_type": "stream",
       "stream": "stdout",
       "text": [
        "rejecting 0.000137329101562\n",
        "2228224 2359296 "
       ]
      },
      {
       "output_type": "stream",
       "stream": "stdout",
       "text": [
        "rejecting 0.000251770019531\n",
        "2293760 2424832 "
       ]
      },
      {
       "output_type": "stream",
       "stream": "stdout",
       "text": [
        "rejecting 0.000617980957031\n",
        "2359296 2490368 "
       ]
      },
      {
       "output_type": "stream",
       "stream": "stdout",
       "text": [
        "rejecting 0.000640869140625\n",
        "2424832 2555904 "
       ]
      },
      {
       "output_type": "stream",
       "stream": "stdout",
       "text": [
        "rejecting 0.000434875488281\n",
        "2490368 2621440 "
       ]
      },
      {
       "output_type": "stream",
       "stream": "stdout",
       "text": [
        "rejecting 0.00229644775391\n",
        "2555904 2686976 "
       ]
      },
      {
       "output_type": "stream",
       "stream": "stdout",
       "text": [
        "rejecting 0.00489807128906\n",
        "2621440 2752512 "
       ]
      },
      {
       "output_type": "stream",
       "stream": "stdout",
       "text": [
        "rejecting 0.00276184082031\n",
        "2686976 2818048 "
       ]
      },
      {
       "output_type": "stream",
       "stream": "stdout",
       "text": [
        "rejecting 9.1552734375e-05\n",
        "2752512 2883584 "
       ]
      },
      {
       "output_type": "stream",
       "stream": "stdout",
       "text": [
        "rejecting 0.0\n",
        "2818048 2949120 "
       ]
      },
      {
       "output_type": "stream",
       "stream": "stdout",
       "text": [
        "rejecting 0.0\n",
        "2883584 3014656 "
       ]
      },
      {
       "output_type": "stream",
       "stream": "stdout",
       "text": [
        "rejecting 0.00267791748047\n",
        "2949120 3080192 "
       ]
      },
      {
       "output_type": "stream",
       "stream": "stdout",
       "text": [
        "rejecting 0.00257873535156\n",
        "3014656 3145728 "
       ]
      },
      {
       "output_type": "stream",
       "stream": "stdout",
       "text": [
        "rejecting 0.0\n",
        "3080192 3211264 "
       ]
      },
      {
       "output_type": "stream",
       "stream": "stdout",
       "text": [
        "rejecting 0.00102996826172\n",
        "3145728 3276800 "
       ]
      },
      {
       "output_type": "stream",
       "stream": "stdout",
       "text": [
        "rejecting 0.000991821289062\n",
        "3211264 3342336 "
       ]
      },
      {
       "output_type": "stream",
       "stream": "stdout",
       "text": [
        "rejecting 0.0\n",
        "3276800 3407872 "
       ]
      },
      {
       "output_type": "stream",
       "stream": "stdout",
       "text": [
        "rejecting 0.0\n",
        "3342336 3473408 "
       ]
      },
      {
       "output_type": "stream",
       "stream": "stdout",
       "text": [
        "rejecting 0.0\n",
        "3407872 3538944 "
       ]
      },
      {
       "output_type": "stream",
       "stream": "stdout",
       "text": [
        "rejecting 0.0\n",
        "3473408 3604480 "
       ]
      },
      {
       "output_type": "stream",
       "stream": "stdout",
       "text": [
        "rejecting 0.00477600097656\n",
        "3538944 3670016 "
       ]
      },
      {
       "output_type": "stream",
       "stream": "stdout",
       "text": [
        "rejecting 0.00473022460938\n",
        "3604480 3735552 "
       ]
      },
      {
       "output_type": "stream",
       "stream": "stdout",
       "text": [
        "rejecting 0.00197601318359\n",
        "3670016 3801088 "
       ]
      },
      {
       "output_type": "stream",
       "stream": "stdout",
       "text": [
        "rejecting 0.00186920166016\n",
        "3735552 3866624 "
       ]
      },
      {
       "output_type": "stream",
       "stream": "stdout",
       "text": [
        "rejecting 0.0\n",
        "3801088 3932160 "
       ]
      },
      {
       "output_type": "stream",
       "stream": "stdout",
       "text": [
        "rejecting 0.0\n",
        "3866624 3997696 "
       ]
      },
      {
       "output_type": "stream",
       "stream": "stdout",
       "text": [
        "rejecting 0.0\n",
        "3932160 4063232 "
       ]
      },
      {
       "output_type": "stream",
       "stream": "stdout",
       "text": [
        "rejecting 0.00269317626953\n",
        "3997696 4128768 "
       ]
      },
      {
       "output_type": "stream",
       "stream": "stdout",
       "text": [
        "rejecting 0.00269317626953\n",
        "4063232 4194304 "
       ]
      },
      {
       "output_type": "stream",
       "stream": "stdout",
       "text": [
        "rejecting 6.103515625e-05\n",
        "using NFFT: 2**"
       ]
      },
      {
       "output_type": "stream",
       "stream": "stdout",
       "text": [
        " 19.0\n",
        "10"
       ]
      },
      {
       "output_type": "stream",
       "stream": "stdout",
       "text": [
        "\n",
        "0"
       ]
      },
      {
       "output_type": "stream",
       "stream": "stdout",
       "text": [
        " 65536 rejecting 0.0\n",
        "0 131072 "
       ]
      },
      {
       "output_type": "stream",
       "stream": "stdout",
       "text": [
        "rejecting 0.0\n",
        "65536 196608 "
       ]
      },
      {
       "output_type": "stream",
       "stream": "stdout",
       "text": [
        "rejecting 0.0\n",
        "131072 262144 "
       ]
      },
      {
       "output_type": "stream",
       "stream": "stdout",
       "text": [
        "rejecting 0.0\n",
        "196608 327680 "
       ]
      },
      {
       "output_type": "stream",
       "stream": "stdout",
       "text": [
        "rejecting 0.0\n",
        "262144 393216 "
       ]
      },
      {
       "output_type": "stream",
       "stream": "stdout",
       "text": [
        "rejecting 0.00234222412109\n",
        "327680 458752 "
       ]
      },
      {
       "output_type": "stream",
       "stream": "stdout",
       "text": [
        "rejecting 0.00240325927734\n",
        "393216 524288 "
       ]
      },
      {
       "output_type": "stream",
       "stream": "stdout",
       "text": [
        "rejecting 0.0\n",
        "458752 589824 "
       ]
      },
      {
       "output_type": "stream",
       "stream": "stdout",
       "text": [
        "rejecting 0.00257110595703\n",
        "524288 655360 "
       ]
      },
      {
       "output_type": "stream",
       "stream": "stdout",
       "text": [
        "rejecting 0.00257110595703\n",
        "589824 720896 "
       ]
      },
      {
       "output_type": "stream",
       "stream": "stdout",
       "text": [
        "rejecting 2.28881835938e-05\n",
        "655360 786432 "
       ]
      },
      {
       "output_type": "stream",
       "stream": "stdout",
       "text": [
        "rejecting 0.00209045410156\n",
        "720896 851968 "
       ]
      },
      {
       "output_type": "stream",
       "stream": "stdout",
       "text": [
        "rejecting 0.00209045410156\n",
        "786432 917504 "
       ]
      },
      {
       "output_type": "stream",
       "stream": "stdout",
       "text": [
        "rejecting 0.0\n",
        "851968 983040 "
       ]
      },
      {
       "output_type": "stream",
       "stream": "stdout",
       "text": [
        "rejecting 0.00222778320312\n",
        "917504 1048576 "
       ]
      },
      {
       "output_type": "stream",
       "stream": "stdout",
       "text": [
        "rejecting 0.00222778320312\n",
        "983040 1114112 "
       ]
      },
      {
       "output_type": "stream",
       "stream": "stdout",
       "text": [
        "rejecting 0.0\n",
        "1048576 1179648 "
       ]
      },
      {
       "output_type": "stream",
       "stream": "stdout",
       "text": [
        "rejecting 0.0\n",
        "1114112 1245184 "
       ]
      },
      {
       "output_type": "stream",
       "stream": "stdout",
       "text": [
        "rejecting 0.0\n",
        "1179648 1310720 "
       ]
      },
      {
       "output_type": "stream",
       "stream": "stdout",
       "text": [
        "rejecting 0.0\n",
        "1245184 1376256 "
       ]
      },
      {
       "output_type": "stream",
       "stream": "stdout",
       "text": [
        "rejecting 0.0\n",
        "1310720 1441792 "
       ]
      },
      {
       "output_type": "stream",
       "stream": "stdout",
       "text": [
        "rejecting 0.00162506103516\n",
        "1376256 1507328 "
       ]
      },
      {
       "output_type": "stream",
       "stream": "stdout",
       "text": [
        "rejecting 0.00607299804688\n",
        "1441792 1572864 "
       ]
      },
      {
       "output_type": "stream",
       "stream": "stdout",
       "text": [
        "rejecting 0.00450134277344\n",
        "1507328 1638400 "
       ]
      },
      {
       "output_type": "stream",
       "stream": "stdout",
       "text": [
        "rejecting 0.0\n",
        "1572864 1703936 "
       ]
      },
      {
       "output_type": "stream",
       "stream": "stdout",
       "text": [
        "rejecting 0.00255584716797\n",
        "1638400 1769472 "
       ]
      },
      {
       "output_type": "stream",
       "stream": "stdout",
       "text": [
        "rejecting 0.0025634765625\n",
        "1703936 1835008 "
       ]
      },
      {
       "output_type": "stream",
       "stream": "stdout",
       "text": [
        "rejecting 0.00485229492188\n",
        "1769472 1900544 "
       ]
      },
      {
       "output_type": "stream",
       "stream": "stdout",
       "text": [
        "rejecting 0.00492095947266\n",
        "1835008 1966080 "
       ]
      },
      {
       "output_type": "stream",
       "stream": "stdout",
       "text": [
        "rejecting 0.000160217285156\n",
        "1900544 2031616 "
       ]
      },
      {
       "output_type": "stream",
       "stream": "stdout",
       "text": [
        "rejecting 9.1552734375e-05\n",
        "1966080 2097152 "
       ]
      },
      {
       "output_type": "stream",
       "stream": "stdout",
       "text": [
        "rejecting 6.86645507812e-05\n",
        "2031616 2162688 "
       ]
      },
      {
       "output_type": "stream",
       "stream": "stdout",
       "text": [
        "rejecting 9.1552734375e-05\n",
        "2097152 2228224 "
       ]
      },
      {
       "output_type": "stream",
       "stream": "stdout",
       "text": [
        "rejecting 0.000320434570312\n",
        "2162688 2293760 "
       ]
      },
      {
       "output_type": "stream",
       "stream": "stdout",
       "text": [
        "rejecting 0.00186920166016\n",
        "2228224 2359296 "
       ]
      },
      {
       "output_type": "stream",
       "stream": "stdout",
       "text": [
        "rejecting 0.00185394287109\n",
        "2293760 2424832 "
       ]
      },
      {
       "output_type": "stream",
       "stream": "stdout",
       "text": [
        "rejecting 0.000251770019531\n",
        "2359296 2490368 "
       ]
      },
      {
       "output_type": "stream",
       "stream": "stdout",
       "text": [
        "rejecting 0.00311279296875\n",
        "2424832 2555904 "
       ]
      },
      {
       "output_type": "stream",
       "stream": "stdout",
       "text": [
        "rejecting 0.00322723388672\n",
        "2490368 2621440 "
       ]
      },
      {
       "output_type": "stream",
       "stream": "stdout",
       "text": [
        "rejecting 6.86645507812e-05\n",
        "2555904 2686976 "
       ]
      },
      {
       "output_type": "stream",
       "stream": "stdout",
       "text": [
        "rejecting 0.000137329101562\n",
        "2621440 2752512 "
       ]
      },
      {
       "output_type": "stream",
       "stream": "stdout",
       "text": [
        "rejecting 0.000251770019531\n",
        "2686976 2818048 "
       ]
      },
      {
       "output_type": "stream",
       "stream": "stdout",
       "text": [
        "rejecting 0.0003662109375\n",
        "2752512 2883584 "
       ]
      },
      {
       "output_type": "stream",
       "stream": "stdout",
       "text": [
        "rejecting 0.00018310546875\n",
        "2818048 2949120 "
       ]
      },
      {
       "output_type": "stream",
       "stream": "stdout",
       "text": [
        "rejecting 0.000274658203125\n",
        "2883584 3014656 "
       ]
      },
      {
       "output_type": "stream",
       "stream": "stdout",
       "text": [
        "rejecting 0.000137329101562\n",
        "2949120 3080192 "
       ]
      },
      {
       "output_type": "stream",
       "stream": "stdout",
       "text": [
        "rejecting 2.28881835938e-05\n",
        "3014656 3145728 "
       ]
      },
      {
       "output_type": "stream",
       "stream": "stdout",
       "text": [
        "rejecting 0.0\n",
        "3080192 3211264 "
       ]
      },
      {
       "output_type": "stream",
       "stream": "stdout",
       "text": [
        "rejecting 0.0\n",
        "3145728 3276800 "
       ]
      },
      {
       "output_type": "stream",
       "stream": "stdout",
       "text": [
        "rejecting 0.0\n",
        "3211264 3342336 "
       ]
      },
      {
       "output_type": "stream",
       "stream": "stdout",
       "text": [
        "rejecting 0.0\n",
        "3276800 3407872 "
       ]
      },
      {
       "output_type": "stream",
       "stream": "stdout",
       "text": [
        "rejecting 0.00436401367188\n",
        "3342336 3473408 "
       ]
      },
      {
       "output_type": "stream",
       "stream": "stdout",
       "text": [
        "rejecting 0.00434875488281\n",
        "3407872 3538944 "
       ]
      },
      {
       "output_type": "stream",
       "stream": "stdout",
       "text": [
        "rejecting 0.00143432617188\n",
        "3473408 3604480 "
       ]
      },
      {
       "output_type": "stream",
       "stream": "stdout",
       "text": [
        "rejecting 0.00128936767578\n",
        "3538944 3670016 "
       ]
      },
      {
       "output_type": "stream",
       "stream": "stdout",
       "text": [
        "rejecting 0.0\n",
        "3604480 3735552 "
       ]
      },
      {
       "output_type": "stream",
       "stream": "stdout",
       "text": [
        "rejecting 0.0\n",
        "3670016 3801088 "
       ]
      },
      {
       "output_type": "stream",
       "stream": "stdout",
       "text": [
        "rejecting 0.0\n",
        "3735552 3866624 "
       ]
      },
      {
       "output_type": "stream",
       "stream": "stdout",
       "text": [
        "rejecting 0.0\n",
        "3801088 3932160 "
       ]
      },
      {
       "output_type": "stream",
       "stream": "stdout",
       "text": [
        "rejecting 4.57763671875e-05\n",
        "3866624 3997696 "
       ]
      },
      {
       "output_type": "stream",
       "stream": "stdout",
       "text": [
        "rejecting 4.57763671875e-05\n",
        "3932160 4063232 "
       ]
      },
      {
       "output_type": "stream",
       "stream": "stdout",
       "text": [
        "rejecting 0.0\n",
        "3997696 4128768 "
       ]
      },
      {
       "output_type": "stream",
       "stream": "stdout",
       "text": [
        "rejecting 0.0\n",
        "4063232 4194304 "
       ]
      },
      {
       "output_type": "stream",
       "stream": "stdout",
       "text": [
        "rejecting 0.0\n",
        "using NFFT: 2**"
       ]
      },
      {
       "output_type": "stream",
       "stream": "stdout",
       "text": [
        " 19.0\n",
        "10"
       ]
      },
      {
       "output_type": "stream",
       "stream": "stdout",
       "text": [
        "\n",
        "0"
       ]
      },
      {
       "output_type": "stream",
       "stream": "stdout",
       "text": [
        " 65536 rejecting 0.00105285644531\n",
        "0 131072 "
       ]
      },
      {
       "output_type": "stream",
       "stream": "stdout",
       "text": [
        "rejecting 0.000572204589844\n",
        "65536 196608 "
       ]
      },
      {
       "output_type": "stream",
       "stream": "stdout",
       "text": [
        "rejecting 6.86645507812e-05\n",
        "131072 262144 "
       ]
      },
      {
       "output_type": "stream",
       "stream": "stdout",
       "text": [
        "rejecting 0.00437164306641\n",
        "196608 327680 "
       ]
      },
      {
       "output_type": "stream",
       "stream": "stdout",
       "text": [
        "rejecting 0.00437164306641\n",
        "262144 393216 "
       ]
      },
      {
       "output_type": "stream",
       "stream": "stdout",
       "text": [
        "rejecting 0.0\n",
        "327680 458752 "
       ]
      },
      {
       "output_type": "stream",
       "stream": "stdout",
       "text": [
        "rejecting 6.86645507812e-05\n",
        "393216 524288 "
       ]
      },
      {
       "output_type": "stream",
       "stream": "stdout",
       "text": [
        "rejecting 9.1552734375e-05\n",
        "458752 589824 "
       ]
      },
      {
       "output_type": "stream",
       "stream": "stdout",
       "text": [
        "rejecting 0.0\n",
        "524288 655360 "
       ]
      },
      {
       "output_type": "stream",
       "stream": "stdout",
       "text": [
        "rejecting 0.0\n",
        "589824 720896 "
       ]
      },
      {
       "output_type": "stream",
       "stream": "stdout",
       "text": [
        "rejecting 0.0\n",
        "655360 786432 "
       ]
      },
      {
       "output_type": "stream",
       "stream": "stdout",
       "text": [
        "rejecting 0.000228881835938\n",
        "720896 851968 "
       ]
      },
      {
       "output_type": "stream",
       "stream": "stdout",
       "text": [
        "rejecting 0.000228881835938\n",
        "786432 917504 "
       ]
      },
      {
       "output_type": "stream",
       "stream": "stdout",
       "text": [
        "rejecting 0.0\n",
        "851968 983040 "
       ]
      },
      {
       "output_type": "stream",
       "stream": "stdout",
       "text": [
        "rejecting 0.00239562988281\n",
        "917504 1048576 "
       ]
      },
      {
       "output_type": "stream",
       "stream": "stdout",
       "text": [
        "rejecting 0.0050048828125\n",
        "983040 1114112 "
       ]
      },
      {
       "output_type": "stream",
       "stream": "stdout",
       "text": [
        "rejecting 0.00260925292969\n",
        "1048576 1179648 "
       ]
      },
      {
       "output_type": "stream",
       "stream": "stdout",
       "text": [
        "rejecting 0.0\n",
        "1114112 1245184 "
       ]
      },
      {
       "output_type": "stream",
       "stream": "stdout",
       "text": [
        "rejecting 6.86645507812e-05\n",
        "1179648 1310720 "
       ]
      },
      {
       "output_type": "stream",
       "stream": "stdout",
       "text": [
        "rejecting 9.1552734375e-05\n",
        "1245184 1376256 "
       ]
      },
      {
       "output_type": "stream",
       "stream": "stdout",
       "text": [
        "rejecting 0.0\n",
        "1310720 1441792 "
       ]
      },
      {
       "output_type": "stream",
       "stream": "stdout",
       "text": [
        "rejecting 0.0\n",
        "1376256 1507328 "
       ]
      },
      {
       "output_type": "stream",
       "stream": "stdout",
       "text": [
        "rejecting 6.86645507812e-05\n",
        "1441792 1572864 "
       ]
      },
      {
       "output_type": "stream",
       "stream": "stdout",
       "text": [
        "rejecting 0.00270080566406\n",
        "1507328 1638400 "
       ]
      },
      {
       "output_type": "stream",
       "stream": "stdout",
       "text": [
        "rejecting 0.00669097900391\n",
        "1572864 1703936 "
       ]
      },
      {
       "output_type": "stream",
       "stream": "stdout",
       "text": [
        "rejecting 0.00411987304688\n",
        "1638400 1769472 "
       ]
      },
      {
       "output_type": "stream",
       "stream": "stdout",
       "text": [
        "rejecting 0.000114440917969\n",
        "1703936 1835008 "
       ]
      },
      {
       "output_type": "stream",
       "stream": "stdout",
       "text": [
        "rejecting 0.00532531738281\n",
        "1769472 1900544 "
       ]
      },
      {
       "output_type": "stream",
       "stream": "stdout",
       "text": [
        "rejecting 0.00544738769531\n",
        "1835008 1966080 "
       ]
      },
      {
       "output_type": "stream",
       "stream": "stdout",
       "text": [
        "rejecting 0.000251770019531\n",
        "1900544 2031616 "
       ]
      },
      {
       "output_type": "stream",
       "stream": "stdout",
       "text": [
        "rejecting 0.000228881835938\n",
        "1966080 2097152 "
       ]
      },
      {
       "output_type": "stream",
       "stream": "stdout",
       "text": [
        "rejecting 0.000205993652344\n",
        "2031616 2162688 "
       ]
      },
      {
       "output_type": "stream",
       "stream": "stdout",
       "text": [
        "rejecting 0.0003662109375\n",
        "2097152 2228224 "
       ]
      },
      {
       "output_type": "stream",
       "stream": "stdout",
       "text": [
        "rejecting 0.00267028808594\n",
        "2162688 2293760 "
       ]
      },
      {
       "output_type": "stream",
       "stream": "stdout",
       "text": [
        "rejecting 0.00261688232422\n",
        "2228224 2359296 "
       ]
      },
      {
       "output_type": "stream",
       "stream": "stdout",
       "text": [
        "rejecting 0.00281524658203\n",
        "2293760 2424832 "
       ]
      },
      {
       "output_type": "stream",
       "stream": "stdout",
       "text": [
        "rejecting 0.00302886962891\n",
        "2359296 2490368 "
       ]
      },
      {
       "output_type": "stream",
       "stream": "stdout",
       "text": [
        "rejecting 0.000526428222656\n",
        "2424832 2555904 "
       ]
      },
      {
       "output_type": "stream",
       "stream": "stdout",
       "text": [
        "rejecting 0.000274658203125\n",
        "2490368 2621440 "
       ]
      },
      {
       "output_type": "stream",
       "stream": "stdout",
       "text": [
        "rejecting 0.00299835205078\n",
        "2555904 2686976 "
       ]
      },
      {
       "output_type": "stream",
       "stream": "stdout",
       "text": [
        "rejecting 0.00315093994141\n",
        "2621440 2752512 "
       ]
      },
      {
       "output_type": "stream",
       "stream": "stdout",
       "text": [
        "rejecting 0.00286102294922\n",
        "2686976 2818048 "
       ]
      },
      {
       "output_type": "stream",
       "stream": "stdout",
       "text": [
        "rejecting 0.00565338134766\n",
        "2752512 2883584 "
       ]
      },
      {
       "output_type": "stream",
       "stream": "stdout",
       "text": [
        "rejecting 0.00545501708984\n",
        "2818048 2949120 "
       ]
      },
      {
       "output_type": "stream",
       "stream": "stdout",
       "text": [
        "rejecting 0.00243377685547\n",
        "2883584 3014656 "
       ]
      },
      {
       "output_type": "stream",
       "stream": "stdout",
       "text": [
        "rejecting 0.0\n",
        "2949120 3080192 "
       ]
      },
      {
       "output_type": "stream",
       "stream": "stdout",
       "text": [
        "rejecting 6.86645507812e-05\n",
        "3014656 3145728 "
       ]
      },
      {
       "output_type": "stream",
       "stream": "stdout",
       "text": [
        "rejecting 0.0\n",
        "3080192 3211264 "
       ]
      },
      {
       "output_type": "stream",
       "stream": "stdout",
       "text": [
        "rejecting 0.0\n",
        "3145728 3276800 "
       ]
      },
      {
       "output_type": "stream",
       "stream": "stdout",
       "text": [
        "rejecting 6.86645507812e-05\n",
        "3211264 3342336 "
       ]
      },
      {
       "output_type": "stream",
       "stream": "stdout",
       "text": [
        "rejecting 2.28881835938e-05\n",
        "3276800 3407872 "
       ]
      },
      {
       "output_type": "stream",
       "stream": "stdout",
       "text": [
        "rejecting 0.0\n",
        "3342336 3473408 "
       ]
      },
      {
       "output_type": "stream",
       "stream": "stdout",
       "text": [
        "rejecting 0.0\n",
        "3407872 3538944 "
       ]
      },
      {
       "output_type": "stream",
       "stream": "stdout",
       "text": [
        "rejecting 6.86645507812e-05\n",
        "3473408 3604480 "
       ]
      },
      {
       "output_type": "stream",
       "stream": "stdout",
       "text": [
        "rejecting 6.86645507812e-05\n",
        "3538944 3670016 "
       ]
      },
      {
       "output_type": "stream",
       "stream": "stdout",
       "text": [
        "rejecting 4.57763671875e-05\n",
        "3604480 3735552 "
       ]
      },
      {
       "output_type": "stream",
       "stream": "stdout",
       "text": [
        "rejecting 0.0\n",
        "3670016 3801088 "
       ]
      },
      {
       "output_type": "stream",
       "stream": "stdout",
       "text": [
        "rejecting 9.1552734375e-05\n",
        "3735552 3866624 "
       ]
      },
      {
       "output_type": "stream",
       "stream": "stdout",
       "text": [
        "rejecting 4.57763671875e-05\n",
        "3801088 3932160 "
       ]
      },
      {
       "output_type": "stream",
       "stream": "stdout",
       "text": [
        "rejecting 0.0\n",
        "3866624 3997696 "
       ]
      },
      {
       "output_type": "stream",
       "stream": "stdout",
       "text": [
        "rejecting 0.00305938720703\n",
        "3932160 4063232 "
       ]
      },
      {
       "output_type": "stream",
       "stream": "stdout",
       "text": [
        "rejecting 0.00305938720703\n",
        "3997696 4128768 "
       ]
      },
      {
       "output_type": "stream",
       "stream": "stdout",
       "text": [
        "rejecting 0.0\n",
        "4063232 4194304 "
       ]
      },
      {
       "output_type": "stream",
       "stream": "stdout",
       "text": [
        "rejecting 0.0\n",
        "using NFFT: 2**"
       ]
      },
      {
       "output_type": "stream",
       "stream": "stdout",
       "text": [
        " 19.0\n",
        "10"
       ]
      },
      {
       "output_type": "stream",
       "stream": "stdout",
       "text": [
        "\n",
        "0"
       ]
      },
      {
       "output_type": "stream",
       "stream": "stdout",
       "text": [
        " 65536 rejecting 0.00410461425781\n",
        "0 131072 "
       ]
      },
      {
       "output_type": "stream",
       "stream": "stdout",
       "text": [
        "rejecting 0.00205230712891\n",
        "65536 196608 "
       ]
      },
      {
       "output_type": "stream",
       "stream": "stdout",
       "text": [
        "rejecting 0.0\n",
        "131072 262144 "
       ]
      },
      {
       "output_type": "stream",
       "stream": "stdout",
       "text": [
        "rejecting 0.00172424316406\n",
        "196608 327680 "
       ]
      },
      {
       "output_type": "stream",
       "stream": "stdout",
       "text": [
        "rejecting 0.00393676757812\n",
        "262144 393216 "
       ]
      },
      {
       "output_type": "stream",
       "stream": "stdout",
       "text": [
        "rejecting 0.00220489501953\n",
        "327680 458752 "
       ]
      },
      {
       "output_type": "stream",
       "stream": "stdout",
       "text": [
        "rejecting 0.00210571289062\n",
        "393216 524288 "
       ]
      },
      {
       "output_type": "stream",
       "stream": "stdout",
       "text": [
        "rejecting 0.00210571289062\n",
        "458752 589824 "
       ]
      },
      {
       "output_type": "stream",
       "stream": "stdout",
       "text": [
        "rejecting 0.0\n",
        "524288 655360 "
       ]
      },
      {
       "output_type": "stream",
       "stream": "stdout",
       "text": [
        "rejecting 0.0\n",
        "589824 720896 "
       ]
      },
      {
       "output_type": "stream",
       "stream": "stdout",
       "text": [
        "rejecting 4.57763671875e-05\n",
        "655360 786432 "
       ]
      },
      {
       "output_type": "stream",
       "stream": "stdout",
       "text": [
        "rejecting 0.00224304199219\n",
        "720896 851968 "
       ]
      },
      {
       "output_type": "stream",
       "stream": "stdout",
       "text": [
        "rejecting 0.00224304199219\n",
        "786432 917504 "
       ]
      },
      {
       "output_type": "stream",
       "stream": "stdout",
       "text": [
        "rejecting 0.0\n",
        "851968 983040 "
       ]
      },
      {
       "output_type": "stream",
       "stream": "stdout",
       "text": [
        "rejecting 0.0\n",
        "917504 1048576 "
       ]
      },
      {
       "output_type": "stream",
       "stream": "stdout",
       "text": [
        "rejecting 0.00215148925781\n",
        "983040 1114112 "
       ]
      },
      {
       "output_type": "stream",
       "stream": "stdout",
       "text": [
        "rejecting 0.00215911865234\n",
        "1048576 1179648 "
       ]
      },
      {
       "output_type": "stream",
       "stream": "stdout",
       "text": [
        "rejecting 0.0\n",
        "1114112 1245184 "
       ]
      },
      {
       "output_type": "stream",
       "stream": "stdout",
       "text": [
        "rejecting 0.0\n",
        "1179648 1310720 "
       ]
      },
      {
       "output_type": "stream",
       "stream": "stdout",
       "text": [
        "rejecting 0.0\n",
        "1245184 1376256 "
       ]
      },
      {
       "output_type": "stream",
       "stream": "stdout",
       "text": [
        "rejecting 0.0\n",
        "1310720 1441792 "
       ]
      },
      {
       "output_type": "stream",
       "stream": "stdout",
       "text": [
        "rejecting 0.0\n",
        "1376256 1507328 "
       ]
      },
      {
       "output_type": "stream",
       "stream": "stdout",
       "text": [
        "rejecting 0.0\n",
        "1441792 1572864 "
       ]
      },
      {
       "output_type": "stream",
       "stream": "stdout",
       "text": [
        "rejecting 0.0\n",
        "1507328 1638400 "
       ]
      },
      {
       "output_type": "stream",
       "stream": "stdout",
       "text": [
        "rejecting 0.0\n",
        "1572864 1703936 "
       ]
      },
      {
       "output_type": "stream",
       "stream": "stdout",
       "text": [
        "rejecting 0.0\n",
        "1638400 1769472 "
       ]
      },
      {
       "output_type": "stream",
       "stream": "stdout",
       "text": [
        "rejecting 0.0\n",
        "1703936 1835008 "
       ]
      },
      {
       "output_type": "stream",
       "stream": "stdout",
       "text": [
        "rejecting 2.28881835938e-05\n",
        "1769472 1900544 "
       ]
      },
      {
       "output_type": "stream",
       "stream": "stdout",
       "text": [
        "rejecting 9.1552734375e-05\n",
        "1835008 1966080 "
       ]
      },
      {
       "output_type": "stream",
       "stream": "stdout",
       "text": [
        "rejecting 0.000205993652344\n",
        "1900544 2031616 "
       ]
      },
      {
       "output_type": "stream",
       "stream": "stdout",
       "text": [
        "rejecting 0.000320434570312\n",
        "1966080 2097152 "
       ]
      },
      {
       "output_type": "stream",
       "stream": "stdout",
       "text": [
        "rejecting 0.000228881835938\n",
        "2031616 2162688 "
       ]
      },
      {
       "output_type": "stream",
       "stream": "stdout",
       "text": [
        "rejecting 0.000343322753906\n",
        "2097152 2228224 "
       ]
      },
      {
       "output_type": "stream",
       "stream": "stdout",
       "text": [
        "rejecting 0.000320434570312\n",
        "2162688 2293760 "
       ]
      },
      {
       "output_type": "stream",
       "stream": "stdout",
       "text": [
        "rejecting 0.00276184082031\n",
        "2228224 2359296 "
       ]
      },
      {
       "output_type": "stream",
       "stream": "stdout",
       "text": [
        "rejecting 0.00247192382812\n",
        "2293760 2424832 "
       ]
      },
      {
       "output_type": "stream",
       "stream": "stdout",
       "text": [
        "rejecting 0.000389099121094\n",
        "2359296 2490368 "
       ]
      },
      {
       "output_type": "stream",
       "stream": "stdout",
       "text": [
        "rejecting 0.000343322753906\n",
        "2424832 2555904 "
       ]
      },
      {
       "output_type": "stream",
       "stream": "stdout",
       "text": [
        "rejecting 0.000137329101562\n",
        "2490368 2621440 "
       ]
      },
      {
       "output_type": "stream",
       "stream": "stdout",
       "text": [
        "rejecting 0.000297546386719\n",
        "2555904 2686976 "
       ]
      },
      {
       "output_type": "stream",
       "stream": "stdout",
       "text": [
        "rejecting 0.000205993652344\n",
        "2621440 2752512 "
       ]
      },
      {
       "output_type": "stream",
       "stream": "stdout",
       "text": [
        "rejecting 0.00255584716797\n",
        "2686976 2818048 "
       ]
      },
      {
       "output_type": "stream",
       "stream": "stdout",
       "text": [
        "rejecting 0.00269317626953\n",
        "2752512 2883584 "
       ]
      },
      {
       "output_type": "stream",
       "stream": "stdout",
       "text": [
        "rejecting 9.1552734375e-05\n",
        "2818048 2949120 "
       ]
      },
      {
       "output_type": "stream",
       "stream": "stdout",
       "text": [
        "rejecting 4.57763671875e-05\n",
        "2883584 3014656 "
       ]
      },
      {
       "output_type": "stream",
       "stream": "stdout",
       "text": [
        "rejecting 0.0\n",
        "2949120 3080192 "
       ]
      },
      {
       "output_type": "stream",
       "stream": "stdout",
       "text": [
        "rejecting 0.0\n",
        "3014656 3145728 "
       ]
      },
      {
       "output_type": "stream",
       "stream": "stdout",
       "text": [
        "rejecting 0.0\n",
        "3080192 3211264 "
       ]
      },
      {
       "output_type": "stream",
       "stream": "stdout",
       "text": [
        "rejecting 0.0\n",
        "3145728 3276800 "
       ]
      },
      {
       "output_type": "stream",
       "stream": "stdout",
       "text": [
        "rejecting 0.0\n",
        "3211264 3342336 "
       ]
      },
      {
       "output_type": "stream",
       "stream": "stdout",
       "text": [
        "rejecting 0.0\n",
        "3276800 3407872 "
       ]
      },
      {
       "output_type": "stream",
       "stream": "stdout",
       "text": [
        "rejecting 0.0\n",
        "3342336 3473408 "
       ]
      },
      {
       "output_type": "stream",
       "stream": "stdout",
       "text": [
        "rejecting 0.00439453125\n",
        "3407872 3538944 "
       ]
      },
      {
       "output_type": "stream",
       "stream": "stdout",
       "text": [
        "rejecting 0.00440216064453\n",
        "3473408 3604480 "
       ]
      },
      {
       "output_type": "stream",
       "stream": "stdout",
       "text": [
        "rejecting 0.0\n",
        "3538944 3670016 "
       ]
      },
      {
       "output_type": "stream",
       "stream": "stdout",
       "text": [
        "rejecting 0.0\n",
        "3604480 3735552 "
       ]
      },
      {
       "output_type": "stream",
       "stream": "stdout",
       "text": [
        "rejecting 0.00521850585938\n",
        "3670016 3801088 "
       ]
      },
      {
       "output_type": "stream",
       "stream": "stdout",
       "text": [
        "rejecting 0.00511932373047\n",
        "3735552 3866624 "
       ]
      },
      {
       "output_type": "stream",
       "stream": "stdout",
       "text": [
        "rejecting 0.00251770019531\n",
        "3801088 3932160 "
       ]
      },
      {
       "output_type": "stream",
       "stream": "stdout",
       "text": [
        "rejecting 0.00247955322266\n",
        "3866624 3997696 "
       ]
      },
      {
       "output_type": "stream",
       "stream": "stdout",
       "text": [
        "rejecting 0.00148773193359\n",
        "3932160 4063232 "
       ]
      },
      {
       "output_type": "stream",
       "stream": "stdout",
       "text": [
        "rejecting 0.00138092041016\n",
        "3997696 4128768 "
       ]
      },
      {
       "output_type": "stream",
       "stream": "stdout",
       "text": [
        "rejecting 6.103515625e-05\n",
        "4063232 4194304 "
       ]
      },
      {
       "output_type": "stream",
       "stream": "stdout",
       "text": [
        "rejecting 6.103515625e-05\n",
        "using NFFT: 2**"
       ]
      },
      {
       "output_type": "stream",
       "stream": "stdout",
       "text": [
        " 19.0\n",
        "10"
       ]
      },
      {
       "output_type": "stream",
       "stream": "stdout",
       "text": [
        "\n",
        "0"
       ]
      },
      {
       "output_type": "stream",
       "stream": "stdout",
       "text": [
        " 65536 rejecting 0.0\n",
        "0 131072 "
       ]
      },
      {
       "output_type": "stream",
       "stream": "stdout",
       "text": [
        "rejecting 0.0\n",
        "65536 196608 "
       ]
      },
      {
       "output_type": "stream",
       "stream": "stdout",
       "text": [
        "rejecting 0.0\n",
        "131072 262144 "
       ]
      },
      {
       "output_type": "stream",
       "stream": "stdout",
       "text": [
        "rejecting 0.0\n",
        "196608 327680 "
       ]
      },
      {
       "output_type": "stream",
       "stream": "stdout",
       "text": [
        "rejecting 0.0\n",
        "262144 393216 "
       ]
      },
      {
       "output_type": "stream",
       "stream": "stdout",
       "text": [
        "rejecting 0.0\n",
        "327680 458752 "
       ]
      },
      {
       "output_type": "stream",
       "stream": "stdout",
       "text": [
        "rejecting 0.0\n",
        "393216 524288 "
       ]
      },
      {
       "output_type": "stream",
       "stream": "stdout",
       "text": [
        "rejecting 0.0\n",
        "458752 589824 "
       ]
      },
      {
       "output_type": "stream",
       "stream": "stdout",
       "text": [
        "rejecting 0.0\n",
        "524288 655360 "
       ]
      },
      {
       "output_type": "stream",
       "stream": "stdout",
       "text": [
        "rejecting 0.0\n",
        "589824 720896 "
       ]
      },
      {
       "output_type": "stream",
       "stream": "stdout",
       "text": [
        "rejecting 0.0\n",
        "655360 786432 "
       ]
      },
      {
       "output_type": "stream",
       "stream": "stdout",
       "text": [
        "rejecting 0.0\n",
        "720896 851968 "
       ]
      },
      {
       "output_type": "stream",
       "stream": "stdout",
       "text": [
        "rejecting 0.00200653076172\n",
        "786432 917504 "
       ]
      },
      {
       "output_type": "stream",
       "stream": "stdout",
       "text": [
        "rejecting 0.00438690185547\n",
        "851968 983040 "
       ]
      },
      {
       "output_type": "stream",
       "stream": "stdout",
       "text": [
        "rejecting 0.00237274169922\n",
        "917504 1048576 "
       ]
      },
      {
       "output_type": "stream",
       "stream": "stdout",
       "text": [
        "rejecting 4.57763671875e-05\n",
        "983040 1114112 "
       ]
      },
      {
       "output_type": "stream",
       "stream": "stdout",
       "text": [
        "rejecting 0.0\n",
        "1048576 1179648 "
       ]
      },
      {
       "output_type": "stream",
       "stream": "stdout",
       "text": [
        "rejecting 0.0\n",
        "1114112 1245184 "
       ]
      },
      {
       "output_type": "stream",
       "stream": "stdout",
       "text": [
        "rejecting 0.0\n",
        "1179648 1310720 "
       ]
      },
      {
       "output_type": "stream",
       "stream": "stdout",
       "text": [
        "rejecting 0.0\n",
        "1245184 1376256 "
       ]
      },
      {
       "output_type": "stream",
       "stream": "stdout",
       "text": [
        "rejecting 0.0\n",
        "1310720 1441792 "
       ]
      },
      {
       "output_type": "stream",
       "stream": "stdout",
       "text": [
        "rejecting 0.0\n",
        "1376256 1507328 "
       ]
      },
      {
       "output_type": "stream",
       "stream": "stdout",
       "text": [
        "rejecting 0.0\n",
        "1441792 1572864 "
       ]
      },
      {
       "output_type": "stream",
       "stream": "stdout",
       "text": [
        "rejecting 0.0\n",
        "1507328 1638400 "
       ]
      },
      {
       "output_type": "stream",
       "stream": "stdout",
       "text": [
        "rejecting 6.86645507812e-05\n",
        "1572864 1703936 "
       ]
      },
      {
       "output_type": "stream",
       "stream": "stdout",
       "text": [
        "rejecting 9.1552734375e-05\n",
        "1638400 1769472 "
       ]
      },
      {
       "output_type": "stream",
       "stream": "stdout",
       "text": [
        "rejecting 0.00249481201172\n",
        "1703936 1835008 "
       ]
      },
      {
       "output_type": "stream",
       "stream": "stdout",
       "text": [
        "rejecting 0.00258636474609\n",
        "1769472 1900544 "
       ]
      },
      {
       "output_type": "stream",
       "stream": "stdout",
       "text": [
        "rejecting 0.000205993652344\n",
        "1835008 1966080 "
       ]
      },
      {
       "output_type": "stream",
       "stream": "stdout",
       "text": [
        "rejecting 0.00018310546875\n",
        "1900544 2031616 "
       ]
      },
      {
       "output_type": "stream",
       "stream": "stdout",
       "text": [
        "rejecting 0.000320434570312\n",
        "1966080 2097152 "
       ]
      },
      {
       "output_type": "stream",
       "stream": "stdout",
       "text": [
        "rejecting 0.000320434570312\n",
        "2031616 2162688 "
       ]
      },
      {
       "output_type": "stream",
       "stream": "stdout",
       "text": [
        "rejecting 0.00263977050781\n",
        "2097152 2228224 "
       ]
      },
      {
       "output_type": "stream",
       "stream": "stdout",
       "text": [
        "rejecting 0.00492095947266\n",
        "2162688 2293760 "
       ]
      },
      {
       "output_type": "stream",
       "stream": "stdout",
       "text": [
        "rejecting 0.00252532958984\n",
        "2228224 2359296 "
       ]
      },
      {
       "output_type": "stream",
       "stream": "stdout",
       "text": [
        "rejecting 0.000251770019531\n",
        "2293760 2424832 "
       ]
      },
      {
       "output_type": "stream",
       "stream": "stdout",
       "text": [
        "rejecting 0.000274658203125\n",
        "2359296 2490368 "
       ]
      },
      {
       "output_type": "stream",
       "stream": "stdout",
       "text": [
        "rejecting 0.00229644775391\n",
        "2424832 2555904 "
       ]
      },
      {
       "output_type": "stream",
       "stream": "stdout",
       "text": [
        "rejecting 0.00235748291016\n",
        "2490368 2621440 "
       ]
      },
      {
       "output_type": "stream",
       "stream": "stdout",
       "text": [
        "rejecting 4.57763671875e-05\n",
        "2555904 2686976 "
       ]
      },
      {
       "output_type": "stream",
       "stream": "stdout",
       "text": [
        "rejecting 0.00221252441406\n",
        "2621440 2752512 "
       ]
      },
      {
       "output_type": "stream",
       "stream": "stdout",
       "text": [
        "rejecting 0.00216674804688\n",
        "2686976 2818048 "
       ]
      },
      {
       "output_type": "stream",
       "stream": "stdout",
       "text": [
        "rejecting 0.0\n",
        "2752512 2883584 "
       ]
      },
      {
       "output_type": "stream",
       "stream": "stdout",
       "text": [
        "rejecting 0.0\n",
        "2818048 2949120 "
       ]
      },
      {
       "output_type": "stream",
       "stream": "stdout",
       "text": [
        "rejecting 0.0\n",
        "2883584 3014656 "
       ]
      },
      {
       "output_type": "stream",
       "stream": "stdout",
       "text": [
        "rejecting 0.0\n",
        "2949120 3080192 "
       ]
      },
      {
       "output_type": "stream",
       "stream": "stdout",
       "text": [
        "rejecting 0.0\n",
        "3014656 3145728 "
       ]
      },
      {
       "output_type": "stream",
       "stream": "stdout",
       "text": [
        "rejecting 0.0\n",
        "3080192 3211264 "
       ]
      },
      {
       "output_type": "stream",
       "stream": "stdout",
       "text": [
        "rejecting 0.0\n",
        "3145728 3276800 "
       ]
      },
      {
       "output_type": "stream",
       "stream": "stdout",
       "text": [
        "rejecting 0.0\n",
        "3211264 3342336 "
       ]
      },
      {
       "output_type": "stream",
       "stream": "stdout",
       "text": [
        "rejecting 0.0\n",
        "3276800 3407872 "
       ]
      },
      {
       "output_type": "stream",
       "stream": "stdout",
       "text": [
        "rejecting 0.0\n",
        "3342336 3473408 "
       ]
      },
      {
       "output_type": "stream",
       "stream": "stdout",
       "text": [
        "rejecting 0.00392150878906\n",
        "3407872 3538944 "
       ]
      },
      {
       "output_type": "stream",
       "stream": "stdout",
       "text": [
        "rejecting 0.00589752197266\n",
        "3473408 3604480 "
       ]
      },
      {
       "output_type": "stream",
       "stream": "stdout",
       "text": [
        "rejecting 0.00201416015625\n",
        "3538944 3670016 "
       ]
      },
      {
       "output_type": "stream",
       "stream": "stdout",
       "text": [
        "rejecting 0.0\n",
        "3604480 3735552 "
       ]
      },
      {
       "output_type": "stream",
       "stream": "stdout",
       "text": [
        "rejecting 0.0\n",
        "3670016 3801088 "
       ]
      },
      {
       "output_type": "stream",
       "stream": "stdout",
       "text": [
        "rejecting 2.28881835938e-05\n",
        "3735552 3866624 "
       ]
      },
      {
       "output_type": "stream",
       "stream": "stdout",
       "text": [
        "rejecting 3.0517578125e-05\n",
        "3801088 3932160 "
       ]
      },
      {
       "output_type": "stream",
       "stream": "stdout",
       "text": [
        "rejecting 6.103515625e-05\n",
        "3866624 3997696 "
       ]
      },
      {
       "output_type": "stream",
       "stream": "stdout",
       "text": [
        "rejecting 7.62939453125e-05\n",
        "3932160 4063232 "
       ]
      },
      {
       "output_type": "stream",
       "stream": "stdout",
       "text": [
        "rejecting 0.00239562988281\n",
        "3997696 4128768 "
       ]
      },
      {
       "output_type": "stream",
       "stream": "stdout",
       "text": [
        "rejecting 0.00238800048828\n",
        "4063232 4194304 "
       ]
      },
      {
       "output_type": "stream",
       "stream": "stdout",
       "text": [
        "rejecting 7.62939453125e-05\n",
        "using NFFT: 2**"
       ]
      },
      {
       "output_type": "stream",
       "stream": "stdout",
       "text": [
        " 19.0\n",
        "10"
       ]
      },
      {
       "output_type": "stream",
       "stream": "stdout",
       "text": [
        "\n",
        "0"
       ]
      },
      {
       "output_type": "stream",
       "stream": "stdout",
       "text": [
        " 65536 rejecting 0.00128173828125\n",
        "0 131072 "
       ]
      },
      {
       "output_type": "stream",
       "stream": "stdout",
       "text": [
        "rejecting 0.000617980957031\n",
        "65536 196608 "
       ]
      },
      {
       "output_type": "stream",
       "stream": "stdout",
       "text": [
        "rejecting 0.0\n",
        "131072 262144 "
       ]
      },
      {
       "output_type": "stream",
       "stream": "stdout",
       "text": [
        "rejecting 0.00220489501953\n",
        "196608 327680 "
       ]
      },
      {
       "output_type": "stream",
       "stream": "stdout",
       "text": [
        "rejecting 0.00222778320312\n",
        "262144 393216 "
       ]
      },
      {
       "output_type": "stream",
       "stream": "stdout",
       "text": [
        "rejecting 2.28881835938e-05\n",
        "327680 458752 "
       ]
      },
      {
       "output_type": "stream",
       "stream": "stdout",
       "text": [
        "rejecting 0.0\n",
        "393216 524288 "
       ]
      },
      {
       "output_type": "stream",
       "stream": "stdout",
       "text": [
        "rejecting 0.0\n",
        "458752 589824 "
       ]
      },
      {
       "output_type": "stream",
       "stream": "stdout",
       "text": [
        "rejecting 0.0\n",
        "524288 655360 "
       ]
      },
      {
       "output_type": "stream",
       "stream": "stdout",
       "text": [
        "rejecting 0.0\n",
        "589824 720896 "
       ]
      },
      {
       "output_type": "stream",
       "stream": "stdout",
       "text": [
        "rejecting 0.0\n",
        "655360 786432 "
       ]
      },
      {
       "output_type": "stream",
       "stream": "stdout",
       "text": [
        "rejecting 0.0\n",
        "720896 851968 "
       ]
      },
      {
       "output_type": "stream",
       "stream": "stdout",
       "text": [
        "rejecting 0.0\n",
        "786432 917504 "
       ]
      },
      {
       "output_type": "stream",
       "stream": "stdout",
       "text": [
        "rejecting 0.0\n",
        "851968 983040 "
       ]
      },
      {
       "output_type": "stream",
       "stream": "stdout",
       "text": [
        "rejecting 2.28881835938e-05\n",
        "917504 1048576 "
       ]
      },
      {
       "output_type": "stream",
       "stream": "stdout",
       "text": [
        "rejecting 0.0\n",
        "983040 1114112 "
       ]
      },
      {
       "output_type": "stream",
       "stream": "stdout",
       "text": [
        "rejecting 0.0\n",
        "1048576 1179648 "
       ]
      },
      {
       "output_type": "stream",
       "stream": "stdout",
       "text": [
        "rejecting 0.0\n",
        "1114112 1245184 "
       ]
      },
      {
       "output_type": "stream",
       "stream": "stdout",
       "text": [
        "rejecting 0.0\n",
        "1179648 1310720 "
       ]
      },
      {
       "output_type": "stream",
       "stream": "stdout",
       "text": [
        "rejecting 0.00205993652344\n",
        "1245184 1376256 "
       ]
      },
      {
       "output_type": "stream",
       "stream": "stdout",
       "text": [
        "rejecting 0.00564575195312\n",
        "1310720 1441792 "
       ]
      },
      {
       "output_type": "stream",
       "stream": "stdout",
       "text": [
        "rejecting 0.00357818603516\n",
        "1376256 1507328 "
       ]
      },
      {
       "output_type": "stream",
       "stream": "stdout",
       "text": [
        "rejecting 0.0\n",
        "1441792 1572864 "
       ]
      },
      {
       "output_type": "stream",
       "stream": "stdout",
       "text": [
        "rejecting 0.0\n",
        "1507328 1638400 "
       ]
      },
      {
       "output_type": "stream",
       "stream": "stdout",
       "text": [
        "rejecting 0.0\n",
        "1572864 1703936 "
       ]
      },
      {
       "output_type": "stream",
       "stream": "stdout",
       "text": [
        "rejecting 0.0\n",
        "1638400 1769472 "
       ]
      },
      {
       "output_type": "stream",
       "stream": "stdout",
       "text": [
        "rejecting 0.0\n",
        "1703936 1835008 "
       ]
      },
      {
       "output_type": "stream",
       "stream": "stdout",
       "text": [
        "rejecting 0.0\n",
        "1769472 1900544 "
       ]
      },
      {
       "output_type": "stream",
       "stream": "stdout",
       "text": [
        "rejecting 2.28881835938e-05\n",
        "1835008 1966080 "
       ]
      },
      {
       "output_type": "stream",
       "stream": "stdout",
       "text": [
        "rejecting 0.00018310546875\n",
        "1900544 2031616 "
       ]
      },
      {
       "output_type": "stream",
       "stream": "stdout",
       "text": [
        "rejecting 0.0003662109375\n",
        "1966080 2097152 "
       ]
      },
      {
       "output_type": "stream",
       "stream": "stdout",
       "text": [
        "rejecting 0.000160217285156\n",
        "2031616 2162688 "
       ]
      },
      {
       "output_type": "stream",
       "stream": "stdout",
       "text": [
        "rejecting 0.000114440917969\n",
        "2097152 2228224 "
       ]
      },
      {
       "output_type": "stream",
       "stream": "stdout",
       "text": [
        "rejecting 0.000228881835938\n",
        "2162688 2293760 "
       ]
      },
      {
       "output_type": "stream",
       "stream": "stdout",
       "text": [
        "rejecting 0.00286102294922\n",
        "2228224 2359296 "
       ]
      },
      {
       "output_type": "stream",
       "stream": "stdout",
       "text": [
        "rejecting 0.00285339355469\n",
        "2293760 2424832 "
       ]
      },
      {
       "output_type": "stream",
       "stream": "stdout",
       "text": [
        "rejecting 0.000114440917969\n",
        "2359296 2490368 "
       ]
      },
      {
       "output_type": "stream",
       "stream": "stdout",
       "text": [
        "rejecting 0.000160217285156\n",
        "2424832 2555904 "
       ]
      },
      {
       "output_type": "stream",
       "stream": "stdout",
       "text": [
        "rejecting 0.00305938720703\n",
        "2490368 2621440 "
       ]
      },
      {
       "output_type": "stream",
       "stream": "stdout",
       "text": [
        "rejecting 0.00310516357422\n",
        "2555904 2686976 "
       ]
      },
      {
       "output_type": "stream",
       "stream": "stdout",
       "text": [
        "rejecting 0.000251770019531\n",
        "2621440 2752512 "
       ]
      },
      {
       "output_type": "stream",
       "stream": "stdout",
       "text": [
        "rejecting 0.000137329101562\n",
        "2686976 2818048 "
       ]
      },
      {
       "output_type": "stream",
       "stream": "stdout",
       "text": [
        "rejecting 0.000160217285156\n",
        "2752512 2883584 "
       ]
      },
      {
       "output_type": "stream",
       "stream": "stdout",
       "text": [
        "rejecting 0.000251770019531\n",
        "2818048 2949120 "
       ]
      },
      {
       "output_type": "stream",
       "stream": "stdout",
       "text": [
        "rejecting 0.000297546386719\n",
        "2883584 3014656 "
       ]
      },
      {
       "output_type": "stream",
       "stream": "stdout",
       "text": [
        "rejecting 0.00330352783203\n",
        "2949120 3080192 "
       ]
      },
      {
       "output_type": "stream",
       "stream": "stdout",
       "text": [
        "rejecting 0.00314331054688\n",
        "3014656 3145728 "
       ]
      },
      {
       "output_type": "stream",
       "stream": "stdout",
       "text": [
        "rejecting 0.0\n",
        "3080192 3211264 "
       ]
      },
      {
       "output_type": "stream",
       "stream": "stdout",
       "text": [
        "rejecting 0.0\n",
        "3145728 3276800 "
       ]
      },
      {
       "output_type": "stream",
       "stream": "stdout",
       "text": [
        "rejecting 0.00660705566406\n",
        "3211264 3342336 "
       ]
      },
      {
       "output_type": "stream",
       "stream": "stdout",
       "text": [
        "rejecting 0.00649261474609\n",
        "3276800 3407872 "
       ]
      },
      {
       "output_type": "stream",
       "stream": "stdout",
       "text": [
        "rejecting 0.0\n",
        "3342336 3473408 "
       ]
      },
      {
       "output_type": "stream",
       "stream": "stdout",
       "text": [
        "rejecting 0.00437927246094\n",
        "3407872 3538944 "
       ]
      },
      {
       "output_type": "stream",
       "stream": "stdout",
       "text": [
        "rejecting 0.00435638427734\n",
        "3473408 3604480 "
       ]
      },
      {
       "output_type": "stream",
       "stream": "stdout",
       "text": [
        "rejecting 0.0\n",
        "3538944 3670016 "
       ]
      },
      {
       "output_type": "stream",
       "stream": "stdout",
       "text": [
        "rejecting 0.0\n",
        "3604480 3735552 "
       ]
      },
      {
       "output_type": "stream",
       "stream": "stdout",
       "text": [
        "rejecting 0.0\n",
        "3670016 3801088 "
       ]
      },
      {
       "output_type": "stream",
       "stream": "stdout",
       "text": [
        "rejecting 0.0\n",
        "3735552 3866624 "
       ]
      },
      {
       "output_type": "stream",
       "stream": "stdout",
       "text": [
        "rejecting 0.00251007080078\n",
        "3801088 3932160 "
       ]
      },
      {
       "output_type": "stream",
       "stream": "stdout",
       "text": [
        "rejecting 0.00247955322266\n",
        "3866624 3997696 "
       ]
      },
      {
       "output_type": "stream",
       "stream": "stdout",
       "text": [
        "rejecting 0.0\n",
        "3932160 4063232 "
       ]
      },
      {
       "output_type": "stream",
       "stream": "stdout",
       "text": [
        "rejecting 0.0\n",
        "3997696 4128768 "
       ]
      },
      {
       "output_type": "stream",
       "stream": "stdout",
       "text": [
        "rejecting 0.00212097167969\n",
        "4063232 4194304 "
       ]
      },
      {
       "output_type": "stream",
       "stream": "stdout",
       "text": [
        "rejecting 0.0020751953125\n",
        "using NFFT: 2**"
       ]
      },
      {
       "output_type": "stream",
       "stream": "stdout",
       "text": [
        " 19.0\n",
        "10"
       ]
      },
      {
       "output_type": "stream",
       "stream": "stdout",
       "text": [
        "\n",
        "0"
       ]
      },
      {
       "output_type": "stream",
       "stream": "stdout",
       "text": [
        " 65536 rejecting 0.0\n",
        "0 131072 "
       ]
      },
      {
       "output_type": "stream",
       "stream": "stdout",
       "text": [
        "rejecting 0.0\n",
        "65536 196608 "
       ]
      },
      {
       "output_type": "stream",
       "stream": "stdout",
       "text": [
        "rejecting 0.0\n",
        "131072 262144 "
       ]
      },
      {
       "output_type": "stream",
       "stream": "stdout",
       "text": [
        "rejecting 0.0\n",
        "196608 327680 "
       ]
      },
      {
       "output_type": "stream",
       "stream": "stdout",
       "text": [
        "rejecting 0.0\n",
        "262144 393216 "
       ]
      },
      {
       "output_type": "stream",
       "stream": "stdout",
       "text": [
        "rejecting 0.0\n",
        "327680 458752 "
       ]
      },
      {
       "output_type": "stream",
       "stream": "stdout",
       "text": [
        "rejecting 0.000160217285156\n",
        "393216 524288 "
       ]
      },
      {
       "output_type": "stream",
       "stream": "stdout",
       "text": [
        "rejecting 0.00187683105469\n",
        "458752 589824 "
       ]
      },
      {
       "output_type": "stream",
       "stream": "stdout",
       "text": [
        "rejecting 0.00177001953125\n",
        "524288 655360 "
       ]
      },
      {
       "output_type": "stream",
       "stream": "stdout",
       "text": [
        "rejecting 0.0\n",
        "589824 720896 "
       ]
      },
      {
       "output_type": "stream",
       "stream": "stdout",
       "text": [
        "rejecting 4.57763671875e-05\n",
        "655360 786432 "
       ]
      },
      {
       "output_type": "stream",
       "stream": "stdout",
       "text": [
        "rejecting 4.57763671875e-05\n",
        "720896 851968 "
       ]
      },
      {
       "output_type": "stream",
       "stream": "stdout",
       "text": [
        "rejecting 0.0\n",
        "786432 917504 "
       ]
      },
      {
       "output_type": "stream",
       "stream": "stdout",
       "text": [
        "rejecting 4.57763671875e-05\n",
        "851968 983040 "
       ]
      },
      {
       "output_type": "stream",
       "stream": "stdout",
       "text": [
        "rejecting 4.57763671875e-05\n",
        "917504 1048576 "
       ]
      },
      {
       "output_type": "stream",
       "stream": "stdout",
       "text": [
        "rejecting 0.0\n",
        "983040 1114112 "
       ]
      },
      {
       "output_type": "stream",
       "stream": "stdout",
       "text": [
        "rejecting 0.0\n",
        "1048576 1179648 "
       ]
      },
      {
       "output_type": "stream",
       "stream": "stdout",
       "text": [
        "rejecting 0.0\n",
        "1114112 1245184 "
       ]
      },
      {
       "output_type": "stream",
       "stream": "stdout",
       "text": [
        "rejecting 0.0\n",
        "1179648 1310720 "
       ]
      },
      {
       "output_type": "stream",
       "stream": "stdout",
       "text": [
        "rejecting 0.0\n",
        "1245184 1376256 "
       ]
      },
      {
       "output_type": "stream",
       "stream": "stdout",
       "text": [
        "rejecting 2.28881835938e-05\n",
        "1310720 1441792 "
       ]
      },
      {
       "output_type": "stream",
       "stream": "stdout",
       "text": [
        "rejecting 0.00226593017578\n",
        "1376256 1507328 "
       ]
      },
      {
       "output_type": "stream",
       "stream": "stdout",
       "text": [
        "rejecting 0.00224304199219\n",
        "1441792 1572864 "
       ]
      },
      {
       "output_type": "stream",
       "stream": "stdout",
       "text": [
        "rejecting 4.57763671875e-05\n",
        "1507328 1638400 "
       ]
      },
      {
       "output_type": "stream",
       "stream": "stdout",
       "text": [
        "rejecting 0.00238800048828\n",
        "1572864 1703936 "
       ]
      },
      {
       "output_type": "stream",
       "stream": "stdout",
       "text": [
        "rejecting 0.00418853759766\n",
        "1638400 1769472 "
       ]
      },
      {
       "output_type": "stream",
       "stream": "stdout",
       "text": [
        "rejecting 0.00178527832031\n",
        "1703936 1835008 "
       ]
      },
      {
       "output_type": "stream",
       "stream": "stdout",
       "text": [
        "rejecting 0.000251770019531\n",
        "1769472 1900544 "
       ]
      },
      {
       "output_type": "stream",
       "stream": "stdout",
       "text": [
        "rejecting 0.000480651855469\n",
        "1835008 1966080 "
       ]
      },
      {
       "output_type": "stream",
       "stream": "stdout",
       "text": [
        "rejecting 0.000160217285156\n",
        "1900544 2031616 "
       ]
      },
      {
       "output_type": "stream",
       "stream": "stdout",
       "text": [
        "rejecting 0.000137329101562\n",
        "1966080 2097152 "
       ]
      },
      {
       "output_type": "stream",
       "stream": "stdout",
       "text": [
        "rejecting 0.000389099121094\n",
        "2031616 2162688 "
       ]
      },
      {
       "output_type": "stream",
       "stream": "stdout",
       "text": [
        "rejecting 0.00412750244141\n",
        "2097152 2228224 "
       ]
      },
      {
       "output_type": "stream",
       "stream": "stdout",
       "text": [
        "rejecting 0.00665283203125\n",
        "2162688 2293760 "
       ]
      },
      {
       "output_type": "stream",
       "stream": "stdout",
       "text": [
        "rejecting 0.00294494628906\n",
        "2228224 2359296 "
       ]
      },
      {
       "output_type": "stream",
       "stream": "stdout",
       "text": [
        "rejecting 0.00237274169922\n",
        "2293760 2424832 "
       ]
      },
      {
       "output_type": "stream",
       "stream": "stdout",
       "text": [
        "rejecting 0.00544738769531\n",
        "2359296 2490368 "
       ]
      },
      {
       "output_type": "stream",
       "stream": "stdout",
       "text": [
        "rejecting 0.00330352783203\n",
        "2424832 2555904 "
       ]
      },
      {
       "output_type": "stream",
       "stream": "stdout",
       "text": [
        "rejecting 0.000617980957031\n",
        "2490368 2621440 "
       ]
      },
      {
       "output_type": "stream",
       "stream": "stdout",
       "text": [
        "rejecting 0.000320434570312\n",
        "2555904 2686976 "
       ]
      },
      {
       "output_type": "stream",
       "stream": "stdout",
       "text": [
        "rejecting 0.00018310546875\n",
        "2621440 2752512 "
       ]
      },
      {
       "output_type": "stream",
       "stream": "stdout",
       "text": [
        "rejecting 0.00341033935547\n",
        "2686976 2818048 "
       ]
      },
      {
       "output_type": "stream",
       "stream": "stdout",
       "text": [
        "rejecting 0.00554656982422\n",
        "2752512 2883584 "
       ]
      },
      {
       "output_type": "stream",
       "stream": "stdout",
       "text": [
        "rejecting 0.00228881835938\n",
        "2818048 2949120 "
       ]
      },
      {
       "output_type": "stream",
       "stream": "stdout",
       "text": [
        "rejecting 9.1552734375e-05\n",
        "2883584 3014656 "
       ]
      },
      {
       "output_type": "stream",
       "stream": "stdout",
       "text": [
        "rejecting 0.000137329101562\n",
        "2949120 3080192 "
       ]
      },
      {
       "output_type": "stream",
       "stream": "stdout",
       "text": [
        "rejecting 0.000228881835938\n",
        "3014656 3145728 "
       ]
      },
      {
       "output_type": "stream",
       "stream": "stdout",
       "text": [
        "rejecting 0.000274658203125\n",
        "3080192 3211264 "
       ]
      },
      {
       "output_type": "stream",
       "stream": "stdout",
       "text": [
        "rejecting 0.00230407714844\n",
        "3145728 3276800 "
       ]
      },
      {
       "output_type": "stream",
       "stream": "stdout",
       "text": [
        "rejecting 0.00199127197266\n",
        "3211264 3342336 "
       ]
      },
      {
       "output_type": "stream",
       "stream": "stdout",
       "text": [
        "rejecting 6.86645507812e-05\n",
        "3276800 3407872 "
       ]
      },
      {
       "output_type": "stream",
       "stream": "stdout",
       "text": [
        "rejecting 6.86645507812e-05\n",
        "3342336 3473408 "
       ]
      },
      {
       "output_type": "stream",
       "stream": "stdout",
       "text": [
        "rejecting 0.0\n",
        "3407872 3538944 "
       ]
      },
      {
       "output_type": "stream",
       "stream": "stdout",
       "text": [
        "rejecting 0.0\n",
        "3473408 3604480 "
       ]
      },
      {
       "output_type": "stream",
       "stream": "stdout",
       "text": [
        "rejecting 0.0\n",
        "3538944 3670016 "
       ]
      },
      {
       "output_type": "stream",
       "stream": "stdout",
       "text": [
        "rejecting 0.0\n",
        "3604480 3735552 "
       ]
      },
      {
       "output_type": "stream",
       "stream": "stdout",
       "text": [
        "rejecting 0.00300598144531\n",
        "3670016 3801088 "
       ]
      },
      {
       "output_type": "stream",
       "stream": "stdout",
       "text": [
        "rejecting 0.00297546386719\n",
        "3735552 3866624 "
       ]
      },
      {
       "output_type": "stream",
       "stream": "stdout",
       "text": [
        "rejecting 0.0\n",
        "3801088 3932160 "
       ]
      },
      {
       "output_type": "stream",
       "stream": "stdout",
       "text": [
        "rejecting 0.00276947021484\n",
        "3866624 3997696 "
       ]
      },
      {
       "output_type": "stream",
       "stream": "stdout",
       "text": [
        "rejecting 0.00514984130859\n",
        "3932160 4063232 "
       ]
      },
      {
       "output_type": "stream",
       "stream": "stdout",
       "text": [
        "rejecting 0.00242614746094\n",
        "3997696 4128768 "
       ]
      },
      {
       "output_type": "stream",
       "stream": "stdout",
       "text": [
        "rejecting 0.00269317626953\n",
        "4063232 4194304 "
       ]
      },
      {
       "output_type": "stream",
       "stream": "stdout",
       "text": [
        "rejecting 0.00267028808594\n",
        "using NFFT: 2**"
       ]
      },
      {
       "output_type": "stream",
       "stream": "stdout",
       "text": [
        " 19.0\n",
        "10"
       ]
      },
      {
       "output_type": "stream",
       "stream": "stdout",
       "text": [
        "\n",
        "0"
       ]
      },
      {
       "output_type": "stream",
       "stream": "stdout",
       "text": [
        " 65536 rejecting 0.0\n",
        "0 131072 "
       ]
      },
      {
       "output_type": "stream",
       "stream": "stdout",
       "text": [
        "rejecting 0.0\n",
        "65536 196608 "
       ]
      },
      {
       "output_type": "stream",
       "stream": "stdout",
       "text": [
        "rejecting 0.00172424316406\n",
        "131072 262144 "
       ]
      },
      {
       "output_type": "stream",
       "stream": "stdout",
       "text": [
        "rejecting 0.00172424316406\n",
        "196608 327680 "
       ]
      },
      {
       "output_type": "stream",
       "stream": "stdout",
       "text": [
        "rejecting 6.86645507812e-05\n",
        "262144 393216 "
       ]
      },
      {
       "output_type": "stream",
       "stream": "stdout",
       "text": [
        "rejecting 0.000205993652344\n",
        "327680 458752 "
       ]
      },
      {
       "output_type": "stream",
       "stream": "stdout",
       "text": [
        "rejecting 0.000137329101562\n",
        "393216 524288 "
       ]
      },
      {
       "output_type": "stream",
       "stream": "stdout",
       "text": [
        "rejecting 0.0\n",
        "458752 589824 "
       ]
      },
      {
       "output_type": "stream",
       "stream": "stdout",
       "text": [
        "rejecting 0.0\n",
        "524288 655360 "
       ]
      },
      {
       "output_type": "stream",
       "stream": "stdout",
       "text": [
        "rejecting 0.00230407714844\n",
        "589824 720896 "
       ]
      },
      {
       "output_type": "stream",
       "stream": "stdout",
       "text": [
        "rejecting 0.00231170654297\n",
        "655360 786432 "
       ]
      },
      {
       "output_type": "stream",
       "stream": "stdout",
       "text": [
        "rejecting 0.0\n",
        "720896 851968 "
       ]
      },
      {
       "output_type": "stream",
       "stream": "stdout",
       "text": [
        "rejecting 0.0\n",
        "786432 917504 "
       ]
      },
      {
       "output_type": "stream",
       "stream": "stdout",
       "text": [
        "rejecting 0.00254058837891\n",
        "851968 983040 "
       ]
      },
      {
       "output_type": "stream",
       "stream": "stdout",
       "text": [
        "rejecting 0.00254821777344\n",
        "917504 1048576 "
       ]
      },
      {
       "output_type": "stream",
       "stream": "stdout",
       "text": [
        "rejecting 4.57763671875e-05\n",
        "983040 1114112 "
       ]
      },
      {
       "output_type": "stream",
       "stream": "stdout",
       "text": [
        "rejecting 0.0\n",
        "1048576 1179648 "
       ]
      },
      {
       "output_type": "stream",
       "stream": "stdout",
       "text": [
        "rejecting 0.0\n",
        "1114112 1245184 "
       ]
      },
      {
       "output_type": "stream",
       "stream": "stdout",
       "text": [
        "rejecting 0.0\n",
        "1179648 1310720 "
       ]
      },
      {
       "output_type": "stream",
       "stream": "stdout",
       "text": [
        "rejecting 0.0\n",
        "1245184 1376256 "
       ]
      },
      {
       "output_type": "stream",
       "stream": "stdout",
       "text": [
        "rejecting 0.0\n",
        "1310720 1441792 "
       ]
      },
      {
       "output_type": "stream",
       "stream": "stdout",
       "text": [
        "rejecting 0.0\n",
        "1376256 1507328 "
       ]
      },
      {
       "output_type": "stream",
       "stream": "stdout",
       "text": [
        "rejecting 0.0\n",
        "1441792 1572864 "
       ]
      },
      {
       "output_type": "stream",
       "stream": "stdout",
       "text": [
        "rejecting 0.0\n",
        "1507328 1638400 "
       ]
      },
      {
       "output_type": "stream",
       "stream": "stdout",
       "text": [
        "rejecting 0.0\n",
        "1572864 1703936 "
       ]
      },
      {
       "output_type": "stream",
       "stream": "stdout",
       "text": [
        "rejecting 0.0\n",
        "1638400 1769472 "
       ]
      },
      {
       "output_type": "stream",
       "stream": "stdout",
       "text": [
        "rejecting 0.000160217285156\n",
        "1703936 1835008 "
       ]
      },
      {
       "output_type": "stream",
       "stream": "stdout",
       "text": [
        "rejecting 0.000228881835938\n",
        "1769472 1900544 "
       ]
      },
      {
       "output_type": "stream",
       "stream": "stdout",
       "text": [
        "rejecting 4.57763671875e-05\n",
        "1835008 1966080 "
       ]
      },
      {
       "output_type": "stream",
       "stream": "stdout",
       "text": [
        "rejecting 0.000114440917969\n",
        "1900544 2031616 "
       ]
      },
      {
       "output_type": "stream",
       "stream": "stdout",
       "text": [
        "rejecting 0.000320434570312\n",
        "1966080 2097152 "
       ]
      },
      {
       "output_type": "stream",
       "stream": "stdout",
       "text": [
        "rejecting 0.000274658203125\n",
        "2031616 2162688 "
       ]
      },
      {
       "output_type": "stream",
       "stream": "stdout",
       "text": [
        "rejecting 0.000114440917969\n",
        "2097152 2228224 "
       ]
      },
      {
       "output_type": "stream",
       "stream": "stdout",
       "text": [
        "rejecting 0.000274658203125\n",
        "2162688 2293760 "
       ]
      },
      {
       "output_type": "stream",
       "stream": "stdout",
       "text": [
        "rejecting 0.000434875488281\n",
        "2228224 2359296 "
       ]
      },
      {
       "output_type": "stream",
       "stream": "stdout",
       "text": [
        "rejecting 0.00299072265625\n",
        "2293760 2424832 "
       ]
      },
      {
       "output_type": "stream",
       "stream": "stdout",
       "text": [
        "rejecting 0.00337219238281\n",
        "2359296 2490368 "
       ]
      },
      {
       "output_type": "stream",
       "stream": "stdout",
       "text": [
        "rejecting 0.00348663330078\n",
        "2424832 2555904 "
       ]
      },
      {
       "output_type": "stream",
       "stream": "stdout",
       "text": [
        "rejecting 0.00634765625\n",
        "2490368 2621440 "
       ]
      },
      {
       "output_type": "stream",
       "stream": "stdout",
       "text": [
        "rejecting 0.00350952148438\n",
        "2555904 2686976 "
       ]
      },
      {
       "output_type": "stream",
       "stream": "stdout",
       "text": [
        "rejecting 0.000320434570312\n",
        "2621440 2752512 "
       ]
      },
      {
       "output_type": "stream",
       "stream": "stdout",
       "text": [
        "rejecting 0.000297546386719\n",
        "2686976 2818048 "
       ]
      },
      {
       "output_type": "stream",
       "stream": "stdout",
       "text": [
        "rejecting 0.000732421875\n",
        "2752512 2883584 "
       ]
      },
      {
       "output_type": "stream",
       "stream": "stdout",
       "text": [
        "rejecting 0.000297546386719\n",
        "2818048 2949120 "
       ]
      },
      {
       "output_type": "stream",
       "stream": "stdout",
       "text": [
        "rejecting 0.00286865234375\n",
        "2883584 3014656 "
       ]
      },
      {
       "output_type": "stream",
       "stream": "stdout",
       "text": [
        "rejecting 0.00279235839844\n",
        "2949120 3080192 "
       ]
      },
      {
       "output_type": "stream",
       "stream": "stdout",
       "text": [
        "rejecting 9.1552734375e-05\n",
        "3014656 3145728 "
       ]
      },
      {
       "output_type": "stream",
       "stream": "stdout",
       "text": [
        "rejecting 0.00161743164062\n",
        "3080192 3211264 "
       ]
      },
      {
       "output_type": "stream",
       "stream": "stdout",
       "text": [
        "rejecting 0.00159454345703\n",
        "3145728 3276800 "
       ]
      },
      {
       "output_type": "stream",
       "stream": "stdout",
       "text": [
        "rejecting 0.0025634765625\n",
        "3211264 3342336 "
       ]
      },
      {
       "output_type": "stream",
       "stream": "stdout",
       "text": [
        "rejecting 0.00249481201172\n",
        "3276800 3407872 "
       ]
      },
      {
       "output_type": "stream",
       "stream": "stdout",
       "text": [
        "rejecting 0.0\n",
        "3342336 3473408 "
       ]
      },
      {
       "output_type": "stream",
       "stream": "stdout",
       "text": [
        "rejecting 0.0\n",
        "3407872 3538944 "
       ]
      },
      {
       "output_type": "stream",
       "stream": "stdout",
       "text": [
        "rejecting 0.00447845458984\n",
        "3473408 3604480 "
       ]
      },
      {
       "output_type": "stream",
       "stream": "stdout",
       "text": [
        "rejecting 0.00435638427734\n",
        "3538944 3670016 "
       ]
      },
      {
       "output_type": "stream",
       "stream": "stdout",
       "text": [
        "rejecting 0.0\n",
        "3604480 3735552 "
       ]
      },
      {
       "output_type": "stream",
       "stream": "stdout",
       "text": [
        "rejecting 0.0\n",
        "3670016 3801088 "
       ]
      },
      {
       "output_type": "stream",
       "stream": "stdout",
       "text": [
        "rejecting 0.00286865234375\n",
        "3735552 3866624 "
       ]
      },
      {
       "output_type": "stream",
       "stream": "stdout",
       "text": [
        "rejecting 0.00543212890625\n",
        "3801088 3932160 "
       ]
      },
      {
       "output_type": "stream",
       "stream": "stdout",
       "text": [
        "rejecting 0.00254058837891\n",
        "3866624 3997696 "
       ]
      },
      {
       "output_type": "stream",
       "stream": "stdout",
       "text": [
        "rejecting 0.0\n",
        "3932160 4063232 "
       ]
      },
      {
       "output_type": "stream",
       "stream": "stdout",
       "text": [
        "rejecting 0.0\n",
        "3997696 4128768 "
       ]
      },
      {
       "output_type": "stream",
       "stream": "stdout",
       "text": [
        "rejecting 2.28881835938e-05\n",
        "4063232 4194304 "
       ]
      },
      {
       "output_type": "stream",
       "stream": "stdout",
       "text": [
        "rejecting 0.0\n",
        "using NFFT: 2**"
       ]
      },
      {
       "output_type": "stream",
       "stream": "stdout",
       "text": [
        " 19.0\n",
        "10"
       ]
      },
      {
       "output_type": "stream",
       "stream": "stdout",
       "text": [
        "\n",
        "0"
       ]
      },
      {
       "output_type": "stream",
       "stream": "stdout",
       "text": [
        " 65536 rejecting 0.0\n",
        "0 131072 "
       ]
      },
      {
       "output_type": "stream",
       "stream": "stdout",
       "text": [
        "rejecting 0.0\n",
        "65536 196608 "
       ]
      },
      {
       "output_type": "stream",
       "stream": "stdout",
       "text": [
        "rejecting 0.0\n",
        "131072 262144 "
       ]
      },
      {
       "output_type": "stream",
       "stream": "stdout",
       "text": [
        "rejecting 0.0\n",
        "196608 327680 "
       ]
      },
      {
       "output_type": "stream",
       "stream": "stdout",
       "text": [
        "rejecting 0.00228881835938\n",
        "262144 393216 "
       ]
      },
      {
       "output_type": "stream",
       "stream": "stdout",
       "text": [
        "rejecting 0.00228881835938\n",
        "327680 458752 "
       ]
      },
      {
       "output_type": "stream",
       "stream": "stdout",
       "text": [
        "rejecting 0.0\n",
        "393216 524288 "
       ]
      },
      {
       "output_type": "stream",
       "stream": "stdout",
       "text": [
        "rejecting 0.00175476074219\n",
        "458752 589824 "
       ]
      },
      {
       "output_type": "stream",
       "stream": "stdout",
       "text": [
        "rejecting 0.00175476074219\n",
        "524288 655360 "
       ]
      },
      {
       "output_type": "stream",
       "stream": "stdout",
       "text": [
        "rejecting 0.00197601318359\n",
        "589824 720896 "
       ]
      },
      {
       "output_type": "stream",
       "stream": "stdout",
       "text": [
        "rejecting 0.00197601318359\n",
        "655360 786432 "
       ]
      },
      {
       "output_type": "stream",
       "stream": "stdout",
       "text": [
        "rejecting 0.0\n",
        "720896 851968 "
       ]
      },
      {
       "output_type": "stream",
       "stream": "stdout",
       "text": [
        "rejecting 0.0\n",
        "786432 917504 "
       ]
      },
      {
       "output_type": "stream",
       "stream": "stdout",
       "text": [
        "rejecting 0.0\n",
        "851968 983040 "
       ]
      },
      {
       "output_type": "stream",
       "stream": "stdout",
       "text": [
        "rejecting 0.00171661376953\n",
        "917504 1048576 "
       ]
      },
      {
       "output_type": "stream",
       "stream": "stdout",
       "text": [
        "rejecting 0.00389099121094\n",
        "983040 1114112 "
       ]
      },
      {
       "output_type": "stream",
       "stream": "stdout",
       "text": [
        "rejecting 0.00218200683594\n",
        "1048576 1179648 "
       ]
      },
      {
       "output_type": "stream",
       "stream": "stdout",
       "text": [
        "rejecting 0.00211334228516\n",
        "1114112 1245184 "
       ]
      },
      {
       "output_type": "stream",
       "stream": "stdout",
       "text": [
        "rejecting 0.00214385986328\n",
        "1179648 1310720 "
       ]
      },
      {
       "output_type": "stream",
       "stream": "stdout",
       "text": [
        "rejecting 0.00466156005859\n",
        "1245184 1376256 "
       ]
      },
      {
       "output_type": "stream",
       "stream": "stdout",
       "text": [
        "rejecting 0.00679779052734\n",
        "1310720 1441792 "
       ]
      },
      {
       "output_type": "stream",
       "stream": "stdout",
       "text": [
        "rejecting 0.00423431396484\n",
        "1376256 1507328 "
       ]
      },
      {
       "output_type": "stream",
       "stream": "stdout",
       "text": [
        "rejecting 0.00618743896484\n",
        "1441792 1572864 "
       ]
      },
      {
       "output_type": "stream",
       "stream": "stdout",
       "text": [
        "rejecting 0.00408935546875\n",
        "1507328 1638400 "
       ]
      },
      {
       "output_type": "stream",
       "stream": "stdout",
       "text": [
        "rejecting 0.0\n",
        "1572864 1703936 "
       ]
      },
      {
       "output_type": "stream",
       "stream": "stdout",
       "text": [
        "rejecting 0.00473785400391\n",
        "1638400 1769472 "
       ]
      },
      {
       "output_type": "stream",
       "stream": "stdout",
       "text": [
        "rejecting 0.00695037841797\n",
        "1703936 1835008 "
       ]
      },
      {
       "output_type": "stream",
       "stream": "stdout",
       "text": [
        "rejecting 0.00221252441406\n",
        "1769472 1900544 "
       ]
      },
      {
       "output_type": "stream",
       "stream": "stdout",
       "text": [
        "rejecting 0.00241851806641\n",
        "1835008 1966080 "
       ]
      },
      {
       "output_type": "stream",
       "stream": "stdout",
       "text": [
        "rejecting 0.00251007080078\n",
        "1900544 2031616 "
       ]
      },
      {
       "output_type": "stream",
       "stream": "stdout",
       "text": [
        "rejecting 0.00267028808594\n",
        "1966080 2097152 "
       ]
      },
      {
       "output_type": "stream",
       "stream": "stdout",
       "text": [
        "rejecting 0.00269317626953\n",
        "2031616 2162688 "
       ]
      },
      {
       "output_type": "stream",
       "stream": "stdout",
       "text": [
        "rejecting 0.00241851806641\n",
        "2097152 2228224 "
       ]
      },
      {
       "output_type": "stream",
       "stream": "stdout",
       "text": [
        "rejecting 0.00218963623047\n",
        "2162688 2293760 "
       ]
      },
      {
       "output_type": "stream",
       "stream": "stdout",
       "text": [
        "rejecting 4.57763671875e-05\n",
        "2228224 2359296 "
       ]
      },
      {
       "output_type": "stream",
       "stream": "stdout",
       "text": [
        "rejecting 0.000228881835938\n",
        "2293760 2424832 "
       ]
      },
      {
       "output_type": "stream",
       "stream": "stdout",
       "text": [
        "rejecting 0.00324249267578\n",
        "2359296 2490368 "
       ]
      },
      {
       "output_type": "stream",
       "stream": "stdout",
       "text": [
        "rejecting 0.00310516357422\n",
        "2424832 2555904 "
       ]
      },
      {
       "output_type": "stream",
       "stream": "stdout",
       "text": [
        "rejecting 9.1552734375e-05\n",
        "2490368 2621440 "
       ]
      },
      {
       "output_type": "stream",
       "stream": "stdout",
       "text": [
        "rejecting 9.1552734375e-05\n",
        "2555904 2686976 "
       ]
      },
      {
       "output_type": "stream",
       "stream": "stdout",
       "text": [
        "rejecting 0.000320434570312\n",
        "2621440 2752512 "
       ]
      },
      {
       "output_type": "stream",
       "stream": "stdout",
       "text": [
        "rejecting 0.000228881835938\n",
        "2686976 2818048 "
       ]
      },
      {
       "output_type": "stream",
       "stream": "stdout",
       "text": [
        "rejecting 4.57763671875e-05\n",
        "2752512 2883584 "
       ]
      },
      {
       "output_type": "stream",
       "stream": "stdout",
       "text": [
        "rejecting 6.86645507812e-05\n",
        "2818048 2949120 "
       ]
      },
      {
       "output_type": "stream",
       "stream": "stdout",
       "text": [
        "rejecting 0.000114440917969\n",
        "2883584 3014656 "
       ]
      },
      {
       "output_type": "stream",
       "stream": "stdout",
       "text": [
        "rejecting 0.00228118896484\n",
        "2949120 3080192 "
       ]
      },
      {
       "output_type": "stream",
       "stream": "stdout",
       "text": [
        "rejecting 0.00211334228516\n",
        "3014656 3145728 "
       ]
      },
      {
       "output_type": "stream",
       "stream": "stdout",
       "text": [
        "rejecting 0.00225067138672\n",
        "3080192 3211264 "
       ]
      },
      {
       "output_type": "stream",
       "stream": "stdout",
       "text": [
        "rejecting 0.00216674804688\n",
        "3145728 3276800 "
       ]
      },
      {
       "output_type": "stream",
       "stream": "stdout",
       "text": [
        "rejecting 0.00238037109375\n",
        "3211264 3342336 "
       ]
      },
      {
       "output_type": "stream",
       "stream": "stdout",
       "text": [
        "rejecting 0.00235748291016\n",
        "3276800 3407872 "
       ]
      },
      {
       "output_type": "stream",
       "stream": "stdout",
       "text": [
        "rejecting 0.00496673583984\n",
        "3342336 3473408 "
       ]
      },
      {
       "output_type": "stream",
       "stream": "stdout",
       "text": [
        "rejecting 0.00494384765625\n",
        "3407872 3538944 "
       ]
      },
      {
       "output_type": "stream",
       "stream": "stdout",
       "text": [
        "rejecting 0.000160217285156\n",
        "3473408 3604480 "
       ]
      },
      {
       "output_type": "stream",
       "stream": "stdout",
       "text": [
        "rejecting 0.00300598144531\n",
        "3538944 3670016 "
       ]
      },
      {
       "output_type": "stream",
       "stream": "stdout",
       "text": [
        "rejecting 0.00286102294922\n",
        "3604480 3735552 "
       ]
      },
      {
       "output_type": "stream",
       "stream": "stdout",
       "text": [
        "rejecting 0.0\n",
        "3670016 3801088 "
       ]
      },
      {
       "output_type": "stream",
       "stream": "stdout",
       "text": [
        "rejecting 0.0\n",
        "3735552 3866624 "
       ]
      },
      {
       "output_type": "stream",
       "stream": "stdout",
       "text": [
        "rejecting 0.0\n",
        "3801088 3932160 "
       ]
      },
      {
       "output_type": "stream",
       "stream": "stdout",
       "text": [
        "rejecting 0.00211334228516\n",
        "3866624 3997696 "
       ]
      },
      {
       "output_type": "stream",
       "stream": "stdout",
       "text": [
        "rejecting 0.00210571289062\n",
        "3932160 4063232 "
       ]
      },
      {
       "output_type": "stream",
       "stream": "stdout",
       "text": [
        "rejecting 4.57763671875e-05\n",
        "3997696 4128768 "
       ]
      },
      {
       "output_type": "stream",
       "stream": "stdout",
       "text": [
        "rejecting 3.0517578125e-05\n",
        "4063232 4194304 "
       ]
      },
      {
       "output_type": "stream",
       "stream": "stdout",
       "text": [
        "rejecting 6.103515625e-05\n",
        "using NFFT: 2**"
       ]
      },
      {
       "output_type": "stream",
       "stream": "stdout",
       "text": [
        " 19.0\n",
        "10"
       ]
      },
      {
       "output_type": "stream",
       "stream": "stdout",
       "text": [
        "\n",
        "0"
       ]
      },
      {
       "output_type": "stream",
       "stream": "stdout",
       "text": [
        " 65536 rejecting 0.0\n",
        "0 131072 "
       ]
      },
      {
       "output_type": "stream",
       "stream": "stdout",
       "text": [
        "rejecting 0.0\n",
        "65536 196608 "
       ]
      },
      {
       "output_type": "stream",
       "stream": "stdout",
       "text": [
        "rejecting 0.0\n",
        "131072 262144 "
       ]
      },
      {
       "output_type": "stream",
       "stream": "stdout",
       "text": [
        "rejecting 0.0\n",
        "196608 327680 "
       ]
      },
      {
       "output_type": "stream",
       "stream": "stdout",
       "text": [
        "rejecting 0.0\n",
        "262144 393216 "
       ]
      },
      {
       "output_type": "stream",
       "stream": "stdout",
       "text": [
        "rejecting 0.00178527832031\n",
        "327680 458752 "
       ]
      },
      {
       "output_type": "stream",
       "stream": "stdout",
       "text": [
        "rejecting 0.00188446044922\n",
        "393216 524288 "
       ]
      },
      {
       "output_type": "stream",
       "stream": "stdout",
       "text": [
        "rejecting 9.1552734375e-05\n",
        "458752 589824 "
       ]
      },
      {
       "output_type": "stream",
       "stream": "stdout",
       "text": [
        "rejecting 0.00222778320312\n",
        "524288 655360 "
       ]
      },
      {
       "output_type": "stream",
       "stream": "stdout",
       "text": [
        "rejecting 0.00444030761719\n",
        "589824 720896 "
       ]
      },
      {
       "output_type": "stream",
       "stream": "stdout",
       "text": [
        "rejecting 0.00218200683594\n",
        "655360 786432 "
       ]
      },
      {
       "output_type": "stream",
       "stream": "stdout",
       "text": [
        "rejecting 0.00206756591797\n",
        "720896 851968 "
       ]
      },
      {
       "output_type": "stream",
       "stream": "stdout",
       "text": [
        "rejecting 0.00206756591797\n",
        "786432 917504 "
       ]
      },
      {
       "output_type": "stream",
       "stream": "stdout",
       "text": [
        "rejecting 0.0\n",
        "851968 983040 "
       ]
      },
      {
       "output_type": "stream",
       "stream": "stdout",
       "text": [
        "rejecting 0.001953125\n",
        "917504 1048576 "
       ]
      },
      {
       "output_type": "stream",
       "stream": "stdout",
       "text": [
        "rejecting 0.00393676757812\n",
        "983040 1114112 "
       ]
      },
      {
       "output_type": "stream",
       "stream": "stdout",
       "text": [
        "rejecting 0.00198364257812\n",
        "1048576 1179648 "
       ]
      },
      {
       "output_type": "stream",
       "stream": "stdout",
       "text": [
        "rejecting 0.0\n",
        "1114112 1245184 "
       ]
      },
      {
       "output_type": "stream",
       "stream": "stdout",
       "text": [
        "rejecting 4.57763671875e-05\n",
        "1179648 1310720 "
       ]
      },
      {
       "output_type": "stream",
       "stream": "stdout",
       "text": [
        "rejecting 0.0\n",
        "1245184 1376256 "
       ]
      },
      {
       "output_type": "stream",
       "stream": "stdout",
       "text": [
        "rejecting 0.0\n",
        "1310720 1441792 "
       ]
      },
      {
       "output_type": "stream",
       "stream": "stdout",
       "text": [
        "rejecting 0.0\n",
        "1376256 1507328 "
       ]
      },
      {
       "output_type": "stream",
       "stream": "stdout",
       "text": [
        "rejecting 0.0\n",
        "1441792 1572864 "
       ]
      },
      {
       "output_type": "stream",
       "stream": "stdout",
       "text": [
        "rejecting 0.0\n",
        "1507328 1638400 "
       ]
      },
      {
       "output_type": "stream",
       "stream": "stdout",
       "text": [
        "rejecting 0.00233459472656\n",
        "1572864 1703936 "
       ]
      },
      {
       "output_type": "stream",
       "stream": "stdout",
       "text": [
        "rejecting 0.00236511230469\n",
        "1638400 1769472 "
       ]
      },
      {
       "output_type": "stream",
       "stream": "stdout",
       "text": [
        "rejecting 0.00173187255859\n",
        "1703936 1835008 "
       ]
      },
      {
       "output_type": "stream",
       "stream": "stdout",
       "text": [
        "rejecting 0.00173187255859\n",
        "1769472 1900544 "
       ]
      },
      {
       "output_type": "stream",
       "stream": "stdout",
       "text": [
        "rejecting 6.86645507812e-05\n",
        "1835008 1966080 "
       ]
      },
      {
       "output_type": "stream",
       "stream": "stdout",
       "text": [
        "rejecting 6.86645507812e-05\n",
        "1900544 2031616 "
       ]
      },
      {
       "output_type": "stream",
       "stream": "stdout",
       "text": [
        "rejecting 0.00193023681641\n",
        "1966080 2097152 "
       ]
      },
      {
       "output_type": "stream",
       "stream": "stdout",
       "text": [
        "rejecting 0.0020751953125\n",
        "2031616 2162688 "
       ]
      },
      {
       "output_type": "stream",
       "stream": "stdout",
       "text": [
        "rejecting 0.000205993652344\n",
        "2097152 2228224 "
       ]
      },
      {
       "output_type": "stream",
       "stream": "stdout",
       "text": [
        "rejecting 0.000411987304688\n",
        "2162688 2293760 "
       ]
      },
      {
       "output_type": "stream",
       "stream": "stdout",
       "text": [
        "rejecting 0.000663757324219\n",
        "2228224 2359296 "
       ]
      },
      {
       "output_type": "stream",
       "stream": "stdout",
       "text": [
        "rejecting 0.00272369384766\n",
        "2293760 2424832 "
       ]
      },
      {
       "output_type": "stream",
       "stream": "stdout",
       "text": [
        "rejecting 0.00275421142578\n",
        "2359296 2490368 "
       ]
      },
      {
       "output_type": "stream",
       "stream": "stdout",
       "text": [
        "rejecting 0.000137329101562\n",
        "2424832 2555904 "
       ]
      },
      {
       "output_type": "stream",
       "stream": "stdout",
       "text": [
        "rejecting 0.000389099121094\n",
        "2490368 2621440 "
       ]
      },
      {
       "output_type": "stream",
       "stream": "stdout",
       "text": [
        "rejecting 0.000343322753906\n",
        "2555904 2686976 "
       ]
      },
      {
       "output_type": "stream",
       "stream": "stdout",
       "text": [
        "rejecting 0.000228881835938\n",
        "2621440 2752512 "
       ]
      },
      {
       "output_type": "stream",
       "stream": "stdout",
       "text": [
        "rejecting 0.00263977050781\n",
        "2686976 2818048 "
       ]
      },
      {
       "output_type": "stream",
       "stream": "stdout",
       "text": [
        "rejecting 0.00236511230469\n",
        "2752512 2883584 "
       ]
      },
      {
       "output_type": "stream",
       "stream": "stdout",
       "text": [
        "rejecting 0.0\n",
        "2818048 2949120 "
       ]
      },
      {
       "output_type": "stream",
       "stream": "stdout",
       "text": [
        "rejecting 0.0\n",
        "2883584 3014656 "
       ]
      },
      {
       "output_type": "stream",
       "stream": "stdout",
       "text": [
        "rejecting 0.0\n",
        "2949120 3080192 "
       ]
      },
      {
       "output_type": "stream",
       "stream": "stdout",
       "text": [
        "rejecting 0.0\n",
        "3014656 3145728 "
       ]
      },
      {
       "output_type": "stream",
       "stream": "stdout",
       "text": [
        "rejecting 0.0\n",
        "3080192 3211264 "
       ]
      },
      {
       "output_type": "stream",
       "stream": "stdout",
       "text": [
        "rejecting 0.0\n",
        "3145728 3276800 "
       ]
      },
      {
       "output_type": "stream",
       "stream": "stdout",
       "text": [
        "rejecting 0.0\n",
        "3211264 3342336 "
       ]
      },
      {
       "output_type": "stream",
       "stream": "stdout",
       "text": [
        "rejecting 0.00287628173828\n",
        "3276800 3407872 "
       ]
      },
      {
       "output_type": "stream",
       "stream": "stdout",
       "text": [
        "rejecting 0.00288391113281\n",
        "3342336 3473408 "
       ]
      },
      {
       "output_type": "stream",
       "stream": "stdout",
       "text": [
        "rejecting 0.0\n",
        "3407872 3538944 "
       ]
      },
      {
       "output_type": "stream",
       "stream": "stdout",
       "text": [
        "rejecting 0.00223541259766\n",
        "3473408 3604480 "
       ]
      },
      {
       "output_type": "stream",
       "stream": "stdout",
       "text": [
        "rejecting 0.00222778320312\n",
        "3538944 3670016 "
       ]
      },
      {
       "output_type": "stream",
       "stream": "stdout",
       "text": [
        "rejecting 0.0\n",
        "3604480 3735552 "
       ]
      },
      {
       "output_type": "stream",
       "stream": "stdout",
       "text": [
        "rejecting 0.0\n",
        "3670016 3801088 "
       ]
      },
      {
       "output_type": "stream",
       "stream": "stdout",
       "text": [
        "rejecting 0.00286102294922\n",
        "3735552 3866624 "
       ]
      },
      {
       "output_type": "stream",
       "stream": "stdout",
       "text": [
        "rejecting 0.00529479980469\n",
        "3801088 3932160 "
       ]
      },
      {
       "output_type": "stream",
       "stream": "stdout",
       "text": [
        "rejecting 0.00241851806641\n",
        "3866624 3997696 "
       ]
      },
      {
       "output_type": "stream",
       "stream": "stdout",
       "text": [
        "rejecting 0.0\n",
        "3932160 4063232 "
       ]
      },
      {
       "output_type": "stream",
       "stream": "stdout",
       "text": [
        "rejecting 0.0\n",
        "3997696 4128768 "
       ]
      },
      {
       "output_type": "stream",
       "stream": "stdout",
       "text": [
        "rejecting 0.0\n",
        "4063232 4194304 "
       ]
      },
      {
       "output_type": "stream",
       "stream": "stdout",
       "text": [
        "rejecting 1.52587890625e-05\n",
        "using NFFT: 2**"
       ]
      },
      {
       "output_type": "stream",
       "stream": "stdout",
       "text": [
        " 19.0\n",
        "10"
       ]
      },
      {
       "output_type": "stream",
       "stream": "stdout",
       "text": [
        "\n",
        "0"
       ]
      },
      {
       "output_type": "stream",
       "stream": "stdout",
       "text": [
        " 65536 rejecting 0.00477600097656\n",
        "0 131072 "
       ]
      },
      {
       "output_type": "stream",
       "stream": "stdout",
       "text": [
        "rejecting 0.00238800048828\n",
        "65536 196608 "
       ]
      },
      {
       "output_type": "stream",
       "stream": "stdout",
       "text": [
        "rejecting 0.0\n",
        "131072 262144 "
       ]
      },
      {
       "output_type": "stream",
       "stream": "stdout",
       "text": [
        "rejecting 0.00407409667969\n",
        "196608 327680 "
       ]
      },
      {
       "output_type": "stream",
       "stream": "stdout",
       "text": [
        "rejecting 0.00407409667969\n",
        "262144 393216 "
       ]
      },
      {
       "output_type": "stream",
       "stream": "stdout",
       "text": [
        "rejecting 0.0\n",
        "327680 458752 "
       ]
      },
      {
       "output_type": "stream",
       "stream": "stdout",
       "text": [
        "rejecting 0.00188446044922\n",
        "393216 524288 "
       ]
      },
      {
       "output_type": "stream",
       "stream": "stdout",
       "text": [
        "rejecting 0.00188446044922\n",
        "458752 589824 "
       ]
      },
      {
       "output_type": "stream",
       "stream": "stdout",
       "text": [
        "rejecting 0.00230407714844\n",
        "524288 655360 "
       ]
      },
      {
       "output_type": "stream",
       "stream": "stdout",
       "text": [
        "rejecting 0.00232696533203\n",
        "589824 720896 "
       ]
      },
      {
       "output_type": "stream",
       "stream": "stdout",
       "text": [
        "rejecting 0.00209045410156\n",
        "655360 786432 "
       ]
      },
      {
       "output_type": "stream",
       "stream": "stdout",
       "text": [
        "rejecting 0.00209045410156\n",
        "720896 851968 "
       ]
      },
      {
       "output_type": "stream",
       "stream": "stdout",
       "text": [
        "rejecting 9.1552734375e-05\n",
        "786432 917504 "
       ]
      },
      {
       "output_type": "stream",
       "stream": "stdout",
       "text": [
        "rejecting 0.000228881835938\n",
        "851968 983040 "
       ]
      },
      {
       "output_type": "stream",
       "stream": "stdout",
       "text": [
        "rejecting 9.1552734375e-05\n",
        "917504 1048576 "
       ]
      },
      {
       "output_type": "stream",
       "stream": "stdout",
       "text": [
        "rejecting 0.0\n",
        "983040 1114112 "
       ]
      },
      {
       "output_type": "stream",
       "stream": "stdout",
       "text": [
        "rejecting 0.00218200683594\n",
        "1048576 1179648 "
       ]
      },
      {
       "output_type": "stream",
       "stream": "stdout",
       "text": [
        "rejecting 0.00230407714844\n",
        "1114112 1245184 "
       ]
      },
      {
       "output_type": "stream",
       "stream": "stdout",
       "text": [
        "rejecting 0.000114440917969\n",
        "1179648 1310720 "
       ]
      },
      {
       "output_type": "stream",
       "stream": "stdout",
       "text": [
        "rejecting 0.0\n",
        "1245184 1376256 "
       ]
      },
      {
       "output_type": "stream",
       "stream": "stdout",
       "text": [
        "rejecting 0.00223541259766\n",
        "1310720 1441792 "
       ]
      },
      {
       "output_type": "stream",
       "stream": "stdout",
       "text": [
        "rejecting 0.00224304199219\n",
        "1376256 1507328 "
       ]
      },
      {
       "output_type": "stream",
       "stream": "stdout",
       "text": [
        "rejecting 0.0\n",
        "1441792 1572864 "
       ]
      },
      {
       "output_type": "stream",
       "stream": "stdout",
       "text": [
        "rejecting 0.00225067138672\n",
        "1507328 1638400 "
       ]
      },
      {
       "output_type": "stream",
       "stream": "stdout",
       "text": [
        "rejecting 0.00225067138672\n",
        "1572864 1703936 "
       ]
      },
      {
       "output_type": "stream",
       "stream": "stdout",
       "text": [
        "rejecting 4.57763671875e-05\n",
        "1638400 1769472 "
       ]
      },
      {
       "output_type": "stream",
       "stream": "stdout",
       "text": [
        "rejecting 2.28881835938e-05\n",
        "1703936 1835008 "
       ]
      },
      {
       "output_type": "stream",
       "stream": "stdout",
       "text": [
        "rejecting 0.0\n",
        "1769472 1900544 "
       ]
      },
      {
       "output_type": "stream",
       "stream": "stdout",
       "text": [
        "rejecting 0.00230407714844\n",
        "1835008 1966080 "
       ]
      },
      {
       "output_type": "stream",
       "stream": "stdout",
       "text": [
        "rejecting 0.00254821777344\n",
        "1900544 2031616 "
       ]
      },
      {
       "output_type": "stream",
       "stream": "stdout",
       "text": [
        "rejecting 0.000251770019531\n",
        "1966080 2097152 "
       ]
      },
      {
       "output_type": "stream",
       "stream": "stdout",
       "text": [
        "rejecting 0.00502014160156\n",
        "2031616 2162688 "
       ]
      },
      {
       "output_type": "stream",
       "stream": "stdout",
       "text": [
        "rejecting 0.00521850585938\n",
        "2097152 2228224 "
       ]
      },
      {
       "output_type": "stream",
       "stream": "stdout",
       "text": [
        "rejecting 0.000205993652344\n",
        "2162688 2293760 "
       ]
      },
      {
       "output_type": "stream",
       "stream": "stdout",
       "text": [
        "rejecting 0.000205993652344\n",
        "2228224 2359296 "
       ]
      },
      {
       "output_type": "stream",
       "stream": "stdout",
       "text": [
        "rejecting 0.000228881835938\n",
        "2293760 2424832 "
       ]
      },
      {
       "output_type": "stream",
       "stream": "stdout",
       "text": [
        "rejecting 0.000274658203125\n",
        "2359296 2490368 "
       ]
      },
      {
       "output_type": "stream",
       "stream": "stdout",
       "text": [
        "rejecting 0.000274658203125\n",
        "2424832 2555904 "
       ]
      },
      {
       "output_type": "stream",
       "stream": "stdout",
       "text": [
        "rejecting 0.00315856933594\n",
        "2490368 2621440 "
       ]
      },
      {
       "output_type": "stream",
       "stream": "stdout",
       "text": [
        "rejecting 0.00311279296875\n",
        "2555904 2686976 "
       ]
      },
      {
       "output_type": "stream",
       "stream": "stdout",
       "text": [
        "rejecting 0.00171661376953\n",
        "2621440 2752512 "
       ]
      },
      {
       "output_type": "stream",
       "stream": "stdout",
       "text": [
        "rejecting 0.00148010253906\n",
        "2686976 2818048 "
       ]
      },
      {
       "output_type": "stream",
       "stream": "stdout",
       "text": [
        "rejecting 0.00222015380859\n",
        "2752512 2883584 "
       ]
      },
      {
       "output_type": "stream",
       "stream": "stdout",
       "text": [
        "rejecting 0.00196075439453\n",
        "2818048 2949120 "
       ]
      },
      {
       "output_type": "stream",
       "stream": "stdout",
       "text": [
        "rejecting 0.0\n",
        "2883584 3014656 "
       ]
      },
      {
       "output_type": "stream",
       "stream": "stdout",
       "text": [
        "rejecting 0.000137329101562\n",
        "2949120 3080192 "
       ]
      },
      {
       "output_type": "stream",
       "stream": "stdout",
       "text": [
        "rejecting 0.00018310546875\n",
        "3014656 3145728 "
       ]
      },
      {
       "output_type": "stream",
       "stream": "stdout",
       "text": [
        "rejecting 6.86645507812e-05\n",
        "3080192 3211264 "
       ]
      },
      {
       "output_type": "stream",
       "stream": "stdout",
       "text": [
        "rejecting 6.86645507812e-05\n",
        "3145728 3276800 "
       ]
      },
      {
       "output_type": "stream",
       "stream": "stdout",
       "text": [
        "rejecting 0.00258636474609\n",
        "3211264 3342336 "
       ]
      },
      {
       "output_type": "stream",
       "stream": "stdout",
       "text": [
        "rejecting 0.00254821777344\n",
        "3276800 3407872 "
       ]
      },
      {
       "output_type": "stream",
       "stream": "stdout",
       "text": [
        "rejecting 0.0\n",
        "3342336 3473408 "
       ]
      },
      {
       "output_type": "stream",
       "stream": "stdout",
       "text": [
        "rejecting 0.0\n",
        "3407872 3538944 "
       ]
      },
      {
       "output_type": "stream",
       "stream": "stdout",
       "text": [
        "rejecting 0.0\n",
        "3473408 3604480 "
       ]
      },
      {
       "output_type": "stream",
       "stream": "stdout",
       "text": [
        "rejecting 0.0\n",
        "3538944 3670016 "
       ]
      },
      {
       "output_type": "stream",
       "stream": "stdout",
       "text": [
        "rejecting 0.0\n",
        "3604480 3735552 "
       ]
      },
      {
       "output_type": "stream",
       "stream": "stdout",
       "text": [
        "rejecting 2.28881835938e-05\n",
        "3670016 3801088 "
       ]
      },
      {
       "output_type": "stream",
       "stream": "stdout",
       "text": [
        "rejecting 0.0\n",
        "3735552 3866624 "
       ]
      },
      {
       "output_type": "stream",
       "stream": "stdout",
       "text": [
        "rejecting 0.00217437744141\n",
        "3801088 3932160 "
       ]
      },
      {
       "output_type": "stream",
       "stream": "stdout",
       "text": [
        "rejecting 0.00213623046875\n",
        "3866624 3997696 "
       ]
      },
      {
       "output_type": "stream",
       "stream": "stdout",
       "text": [
        "rejecting 0.0\n",
        "3932160 4063232 "
       ]
      },
      {
       "output_type": "stream",
       "stream": "stdout",
       "text": [
        "rejecting 0.0\n",
        "3997696 4128768 "
       ]
      },
      {
       "output_type": "stream",
       "stream": "stdout",
       "text": [
        "rejecting 0.00217437744141\n",
        "4063232 4194304 "
       ]
      },
      {
       "output_type": "stream",
       "stream": "stdout",
       "text": [
        "rejecting 0.00418853759766\n",
        "using NFFT: 2**"
       ]
      },
      {
       "output_type": "stream",
       "stream": "stdout",
       "text": [
        " 19.0\n",
        "10"
       ]
      },
      {
       "output_type": "stream",
       "stream": "stdout",
       "text": [
        "\n"
       ]
      },
      {
       "output_type": "stream",
       "stream": "stderr",
       "text": [
        "/home/gjones/workspace/kid_readout/analysis/khalil.py:119: RuntimeWarning: invalid value encountered in sqrt\n",
        "  (y_0**2/9 - 1/12)/cbrt(a/8 + y_0/12 + np.sqrt((y_0**3/27 + y_0/12 + a/8)**2 - (y_0**2/9 - 1/12)**3) + y_0**3/27) +\n",
        "/home/gjones/workspace/kid_readout/analysis/khalil.py:120: RuntimeWarning: invalid value encountered in sqrt\n",
        "  cbrt(a/8 + y_0/12 + np.sqrt((y_0**3/27 + y_0/12 + a/8)**2 - (y_0**2/9 - 1/12)**3) + y_0**3/27))\n"
       ]
      }
     ],
     "prompt_number": 50
    },
    {
     "cell_type": "code",
     "collapsed": false,
     "input": [
      "for nm in nms:\n",
      "    loglog(nm.pca_freq,nm.pca_eigvals[1,:])"
     ],
     "language": "python",
     "metadata": {},
     "outputs": [
      {
       "metadata": {},
       "output_type": "display_data",
       "png": "[encoded data removed]",
       "text": [
        "<matplotlib.figure.Figure at 0x1650f490>"
       ]
      }
     ],
     "prompt_number": 24
    },
    {
     "cell_type": "code",
     "collapsed": false,
     "input": [
      "avgs = [kid_readout.analysis.noise_measurement.SweepNoiseMeasurement(fn,deglitch_threshold=7,resonator_index=1) for fn in ncs]\n",
      "\n"
     ],
     "language": "python",
     "metadata": {},
     "outputs": []
    },
    {
     "cell_type": "code",
     "collapsed": false,
     "input": [
      "avg0 = np.array([nm.pca_eigvals for nm in nms0]).mean(0)\n",
      "avg0.shape"
     ],
     "language": "python",
     "metadata": {},
     "outputs": [
      {
       "metadata": {},
       "output_type": "pyout",
       "prompt_number": 60,
       "text": [
        "(2, 167)"
       ]
      }
     ],
     "prompt_number": 60
    },
    {
     "cell_type": "code",
     "collapsed": false,
     "input": [
      "avg1 = np.array([nm.pca_eigvals[1,:] for nm in nms1]).mean(0)"
     ],
     "language": "python",
     "metadata": {},
     "outputs": [],
     "prompt_number": 52
    },
    {
     "cell_type": "code",
     "collapsed": false,
     "input": [
      "amp0 = np.array([nm.pca_eigvals[0,:] for nm in nms0]).mean(0)\n",
      "amp1 = np.array([nm.pca_eigvals[0,:] for nm in nms1]).mean(0)"
     ],
     "language": "python",
     "metadata": {},
     "outputs": [],
     "prompt_number": 57
    },
    {
     "cell_type": "code",
     "collapsed": false,
     "input": [
      "avg.shape"
     ],
     "language": "python",
     "metadata": {},
     "outputs": [
      {
       "metadata": {},
       "output_type": "pyout",
       "prompt_number": 17,
       "text": [
        "(167,)"
       ]
      }
     ],
     "prompt_number": 17
    },
    {
     "cell_type": "code",
     "collapsed": false,
     "input": [
      "semilogx(nm.pca_freq[3:],np.sqrt(nm.pca_eigvals[1,3:]*(nm.resonator_model.f_0*1e6)**2),alpha=0.7)\n",
      "semilogx(nm.pca_freq[3:],np.sqrt(avg[3:]*(nm.resonator_model.f_0*1e6)**2),'r',lw=2)\n",
      "#semilogx(nm.pca_freq[3:],np.sqrt(amp[3:]*(nm.resonator_model.f_0*1e6)**2))\n",
      "#semilogx(nm.pca_freq[3:],np.sqrt((avg[3:]-amp[3:])*(nm.resonator_model.f_0*1e6)**2))\n",
      "grid()\n",
      "ylabel('Hz/$\\sqrt{\\mathrm{Hz} }$')\n",
      "xlabel('Hz')"
     ],
     "language": "python",
     "metadata": {},
     "outputs": [
      {
       "metadata": {},
       "output_type": "pyout",
       "prompt_number": 39,
       "text": [
        "<matplotlib.text.Text at 0x15763050>"
       ]
      },
      {
       "metadata": {},
       "output_type": "display_data",
       "png": "[encoded data removed]",
       "text": [
        "<matplotlib.figure.Figure at 0x153ac0d0>"
       ]
      }
     ],
     "prompt_number": 39
    },
    {
     "cell_type": "code",
     "collapsed": false,
     "input": [
      "semilogx(nm.pca_freq[3:],np.sqrt(avg0[3:]*(nms0[0].resonator_model.f_0*1e6)**2),'r',lw=2,label=(str(nms0[0].resonator_model.f_0)))\n",
      "semilogx(nm.pca_freq[3:],np.sqrt(avg1[3:]*(nms1[0].resonator_model.f_0*1e6)**2),'k',lw=2,label=(str(nms1[0].resonator_model.f_0)))\n",
      "semilogx(nm.pca_freq[3:],np.sqrt(amp1[3:]*(nms1[0].resonator_model.f_0*1e6)**2),'k')\n",
      "grid()\n",
      "\n",
      "legend(loc='upper right',prop=dict(size='small'))"
     ],
     "language": "python",
     "metadata": {},
     "outputs": [
      {
       "metadata": {},
       "output_type": "pyout",
       "prompt_number": 58,
       "text": [
        "<matplotlib.legend.Legend at 0x1622b690>"
       ]
      },
      {
       "metadata": {},
       "output_type": "display_data",
       "png": "[encoded data removed]",
       "text": [
        "<matplotlib.figure.Figure at 0x17c47a10>"
       ]
      }
     ],
     "prompt_number": 58
    },
    {
     "cell_type": "code",
     "collapsed": false,
     "input": [
      "nms2 = [kid_readout.analysis.noise_measurement.SweepNoiseMeasurement(ncs[0],resonator_index=k,deglitch_threshold=7) for k in range(4)]\n"
     ],
     "language": "python",
     "metadata": {},
     "outputs": [
      {
       "output_type": "stream",
       "stream": "stdout",
       "text": [
        "0 65536 rejecting 0.0\n",
        "0 131072 "
       ]
      },
      {
       "output_type": "stream",
       "stream": "stdout",
       "text": [
        "rejecting 4.57763671875e-05\n",
        "65536 196608 "
       ]
      },
      {
       "output_type": "stream",
       "stream": "stdout",
       "text": [
        "rejecting 4.57763671875e-05\n",
        "131072 262144 "
       ]
      },
      {
       "output_type": "stream",
       "stream": "stdout",
       "text": [
        "rejecting 0.0\n",
        "196608 327680 "
       ]
      },
      {
       "output_type": "stream",
       "stream": "stdout",
       "text": [
        "rejecting 0.0\n",
        "262144 393216 "
       ]
      },
      {
       "output_type": "stream",
       "stream": "stdout",
       "text": [
        "rejecting 0.00148010253906\n",
        "327680 458752 "
       ]
      },
      {
       "output_type": "stream",
       "stream": "stdout",
       "text": [
        "rejecting 0.00148010253906\n",
        "393216 524288 "
       ]
      },
      {
       "output_type": "stream",
       "stream": "stdout",
       "text": [
        "rejecting 0.00173950195312\n",
        "458752 589824 "
       ]
      },
      {
       "output_type": "stream",
       "stream": "stdout",
       "text": [
        "rejecting 0.0018310546875\n",
        "524288 655360 "
       ]
      },
      {
       "output_type": "stream",
       "stream": "stdout",
       "text": [
        "rejecting 9.1552734375e-05\n",
        "589824 720896 "
       ]
      },
      {
       "output_type": "stream",
       "stream": "stdout",
       "text": [
        "rejecting 0.0\n",
        "655360 786432 "
       ]
      },
      {
       "output_type": "stream",
       "stream": "stdout",
       "text": [
        "rejecting 0.0\n",
        "720896 851968 "
       ]
      },
      {
       "output_type": "stream",
       "stream": "stdout",
       "text": [
        "rejecting 0.00164031982422\n",
        "786432 917504 "
       ]
      },
      {
       "output_type": "stream",
       "stream": "stdout",
       "text": [
        "rejecting 0.00164794921875\n",
        "851968 983040 "
       ]
      },
      {
       "output_type": "stream",
       "stream": "stdout",
       "text": [
        "rejecting 0.0\n",
        "917504 1048576 "
       ]
      },
      {
       "output_type": "stream",
       "stream": "stdout",
       "text": [
        "rejecting 0.00167083740234\n",
        "983040 1114112 "
       ]
      },
      {
       "output_type": "stream",
       "stream": "stdout",
       "text": [
        "rejecting 0.00168609619141\n",
        "1048576 1179648 "
       ]
      },
      {
       "output_type": "stream",
       "stream": "stdout",
       "text": [
        "rejecting 0.0\n",
        "1114112 1245184 "
       ]
      },
      {
       "output_type": "stream",
       "stream": "stdout",
       "text": [
        "rejecting 0.00214385986328\n",
        "1179648 1310720 "
       ]
      },
      {
       "output_type": "stream",
       "stream": "stdout",
       "text": [
        "rejecting 0.00215148925781\n",
        "1245184 1376256 "
       ]
      },
      {
       "output_type": "stream",
       "stream": "stdout",
       "text": [
        "rejecting 0.0\n",
        "1310720 1441792 "
       ]
      },
      {
       "output_type": "stream",
       "stream": "stdout",
       "text": [
        "rejecting 0.000114440917969\n",
        "1376256 1507328 "
       ]
      },
      {
       "output_type": "stream",
       "stream": "stdout",
       "text": [
        "rejecting 0.00150299072266\n",
        "1441792 1572864 "
       ]
      },
      {
       "output_type": "stream",
       "stream": "stdout",
       "text": [
        "rejecting 0.00312805175781\n",
        "1507328 1638400 "
       ]
      },
      {
       "output_type": "stream",
       "stream": "stdout",
       "text": [
        "rejecting 0.00238037109375\n",
        "1572864 1703936 "
       ]
      },
      {
       "output_type": "stream",
       "stream": "stdout",
       "text": [
        "rejecting 0.00106811523438\n",
        "1638400 1769472 "
       ]
      },
      {
       "output_type": "stream",
       "stream": "stdout",
       "text": [
        "rejecting 0.0003662109375\n",
        "1703936 1835008 "
       ]
      },
      {
       "output_type": "stream",
       "stream": "stdout",
       "text": [
        "rejecting 0.000228881835938\n",
        "1769472 1900544 "
       ]
      },
      {
       "output_type": "stream",
       "stream": "stdout",
       "text": [
        "rejecting 0.000114440917969\n",
        "1835008 1966080 "
       ]
      },
      {
       "output_type": "stream",
       "stream": "stdout",
       "text": [
        "rejecting 4.57763671875e-05\n",
        "1900544 2031616 "
       ]
      },
      {
       "output_type": "stream",
       "stream": "stdout",
       "text": [
        "rejecting 0.000114440917969\n",
        "1966080 2097152 "
       ]
      },
      {
       "output_type": "stream",
       "stream": "stdout",
       "text": [
        "rejecting 0.000160217285156\n",
        "2031616 2162688 "
       ]
      },
      {
       "output_type": "stream",
       "stream": "stdout",
       "text": [
        "rejecting 0.00222778320312\n",
        "2097152 2228224 "
       ]
      },
      {
       "output_type": "stream",
       "stream": "stdout",
       "text": [
        "rejecting 0.00234985351562\n",
        "2162688 2293760 "
       ]
      },
      {
       "output_type": "stream",
       "stream": "stdout",
       "text": [
        "rejecting 0.00250244140625\n",
        "2228224 2359296 "
       ]
      },
      {
       "output_type": "stream",
       "stream": "stdout",
       "text": [
        "rejecting 0.00380706787109\n",
        "2293760 2424832 "
       ]
      },
      {
       "output_type": "stream",
       "stream": "stdout",
       "text": [
        "rejecting 0.00154113769531\n",
        "2359296 2490368 "
       ]
      },
      {
       "output_type": "stream",
       "stream": "stdout",
       "text": [
        "rejecting 0.0023193359375\n",
        "2424832 2555904 "
       ]
      },
      {
       "output_type": "stream",
       "stream": "stdout",
       "text": [
        "rejecting 0.00386810302734\n",
        "2490368 2621440 "
       ]
      },
      {
       "output_type": "stream",
       "stream": "stdout",
       "text": [
        "rejecting 0.00174713134766\n",
        "2555904 2686976 "
       ]
      },
      {
       "output_type": "stream",
       "stream": "stdout",
       "text": [
        "rejecting 6.86645507812e-05\n",
        "2621440 2752512 "
       ]
      },
      {
       "output_type": "stream",
       "stream": "stdout",
       "text": [
        "rejecting 2.28881835938e-05\n",
        "2686976 2818048 "
       ]
      },
      {
       "output_type": "stream",
       "stream": "stdout",
       "text": [
        "rejecting 0.000114440917969\n",
        "2752512 2883584 "
       ]
      },
      {
       "output_type": "stream",
       "stream": "stdout",
       "text": [
        "rejecting 0.0\n",
        "2818048 2949120 "
       ]
      },
      {
       "output_type": "stream",
       "stream": "stdout",
       "text": [
        "rejecting 0.0\n",
        "2883584 3014656 "
       ]
      },
      {
       "output_type": "stream",
       "stream": "stdout",
       "text": [
        "rejecting 0.0\n",
        "2949120 3080192 "
       ]
      },
      {
       "output_type": "stream",
       "stream": "stdout",
       "text": [
        "rejecting 0.0\n",
        "3014656 3145728 "
       ]
      },
      {
       "output_type": "stream",
       "stream": "stdout",
       "text": [
        "rejecting 0.00199890136719\n",
        "3080192 3211264 "
       ]
      },
      {
       "output_type": "stream",
       "stream": "stdout",
       "text": [
        "rejecting 0.00199890136719\n",
        "3145728 3276800 "
       ]
      },
      {
       "output_type": "stream",
       "stream": "stdout",
       "text": [
        "rejecting 0.00018310546875\n",
        "3211264 3342336 "
       ]
      },
      {
       "output_type": "stream",
       "stream": "stdout",
       "text": [
        "rejecting 0.00382995605469\n",
        "3276800 3407872 "
       ]
      },
      {
       "output_type": "stream",
       "stream": "stdout",
       "text": [
        "rejecting 0.00367736816406\n",
        "3342336 3473408 "
       ]
      },
      {
       "output_type": "stream",
       "stream": "stdout",
       "text": [
        "rejecting 0.0\n",
        "3407872 3538944 "
       ]
      },
      {
       "output_type": "stream",
       "stream": "stdout",
       "text": [
        "rejecting 0.0\n",
        "3473408 3604480 "
       ]
      },
      {
       "output_type": "stream",
       "stream": "stdout",
       "text": [
        "rejecting 0.0\n",
        "3538944 3670016 "
       ]
      },
      {
       "output_type": "stream",
       "stream": "stdout",
       "text": [
        "rejecting 0.0\n",
        "3604480 3735552 "
       ]
      },
      {
       "output_type": "stream",
       "stream": "stdout",
       "text": [
        "rejecting 0.0\n",
        "3670016 3801088 "
       ]
      },
      {
       "output_type": "stream",
       "stream": "stdout",
       "text": [
        "rejecting 0.0\n",
        "3735552 3866624 "
       ]
      },
      {
       "output_type": "stream",
       "stream": "stdout",
       "text": [
        "rejecting 0.0\n",
        "3801088 3932160 "
       ]
      },
      {
       "output_type": "stream",
       "stream": "stdout",
       "text": [
        "rejecting 0.0\n",
        "3866624 3997696 "
       ]
      },
      {
       "output_type": "stream",
       "stream": "stdout",
       "text": [
        "rejecting 0.0\n",
        "3932160 4063232 "
       ]
      },
      {
       "output_type": "stream",
       "stream": "stdout",
       "text": [
        "rejecting 0.0\n",
        "3997696 4128768 "
       ]
      },
      {
       "output_type": "stream",
       "stream": "stdout",
       "text": [
        "rejecting 0.0\n",
        "4063232 4194304 "
       ]
      },
      {
       "output_type": "stream",
       "stream": "stdout",
       "text": [
        "rejecting 0.0\n",
        "using NFFT: 2**"
       ]
      },
      {
       "output_type": "stream",
       "stream": "stdout",
       "text": [
        " 19.0\n",
        "10"
       ]
      },
      {
       "output_type": "stream",
       "stream": "stdout",
       "text": [
        "\n",
        "0"
       ]
      },
      {
       "output_type": "stream",
       "stream": "stdout",
       "text": [
        " 65536 rejecting 0.0\n",
        "0 131072 "
       ]
      },
      {
       "output_type": "stream",
       "stream": "stdout",
       "text": [
        "rejecting 0.0\n",
        "65536 196608 "
       ]
      },
      {
       "output_type": "stream",
       "stream": "stdout",
       "text": [
        "rejecting 0.0\n",
        "131072 262144 "
       ]
      },
      {
       "output_type": "stream",
       "stream": "stdout",
       "text": [
        "rejecting 0.0\n",
        "196608 327680 "
       ]
      },
      {
       "output_type": "stream",
       "stream": "stdout",
       "text": [
        "rejecting 0.0\n",
        "262144 393216 "
       ]
      },
      {
       "output_type": "stream",
       "stream": "stdout",
       "text": [
        "rejecting 0.00119781494141\n",
        "327680 458752 "
       ]
      },
      {
       "output_type": "stream",
       "stream": "stdout",
       "text": [
        "rejecting 0.00119781494141\n",
        "393216 524288 "
       ]
      },
      {
       "output_type": "stream",
       "stream": "stdout",
       "text": [
        "rejecting 0.00211334228516\n",
        "458752 589824 "
       ]
      },
      {
       "output_type": "stream",
       "stream": "stdout",
       "text": [
        "rejecting 0.00212097167969\n",
        "524288 655360 "
       ]
      },
      {
       "output_type": "stream",
       "stream": "stdout",
       "text": [
        "rejecting 0.0\n",
        "589824 720896 "
       ]
      },
      {
       "output_type": "stream",
       "stream": "stdout",
       "text": [
        "rejecting 0.0\n",
        "655360 786432 "
       ]
      },
      {
       "output_type": "stream",
       "stream": "stdout",
       "text": [
        "rejecting 0.00149536132812\n",
        "720896 851968 "
       ]
      },
      {
       "output_type": "stream",
       "stream": "stdout",
       "text": [
        "rejecting 0.00149536132812\n",
        "786432 917504 "
       ]
      },
      {
       "output_type": "stream",
       "stream": "stdout",
       "text": [
        "rejecting 0.0\n",
        "851968 983040 "
       ]
      },
      {
       "output_type": "stream",
       "stream": "stdout",
       "text": [
        "rejecting 0.0\n",
        "917504 1048576 "
       ]
      },
      {
       "output_type": "stream",
       "stream": "stdout",
       "text": [
        "rejecting 0.00185394287109\n",
        "983040 1114112 "
       ]
      },
      {
       "output_type": "stream",
       "stream": "stdout",
       "text": [
        "rejecting 0.00186157226562\n",
        "1048576 1179648 "
       ]
      },
      {
       "output_type": "stream",
       "stream": "stdout",
       "text": [
        "rejecting 0.0\n",
        "1114112 1245184 "
       ]
      },
      {
       "output_type": "stream",
       "stream": "stdout",
       "text": [
        "rejecting 0.00211334228516\n",
        "1179648 1310720 "
       ]
      },
      {
       "output_type": "stream",
       "stream": "stdout",
       "text": [
        "rejecting 0.00212097167969\n",
        "1245184 1376256 "
       ]
      },
      {
       "output_type": "stream",
       "stream": "stdout",
       "text": [
        "rejecting 0.0\n",
        "1310720 1441792 "
       ]
      },
      {
       "output_type": "stream",
       "stream": "stdout",
       "text": [
        "rejecting 0.0\n",
        "1376256 1507328 "
       ]
      },
      {
       "output_type": "stream",
       "stream": "stdout",
       "text": [
        "rejecting 0.00180053710938\n",
        "1441792 1572864 "
       ]
      },
      {
       "output_type": "stream",
       "stream": "stdout",
       "text": [
        "rejecting 0.00341033935547\n",
        "1507328 1638400 "
       ]
      },
      {
       "output_type": "stream",
       "stream": "stdout",
       "text": [
        "rejecting 0.00230407714844\n",
        "1572864 1703936 "
       ]
      },
      {
       "output_type": "stream",
       "stream": "stdout",
       "text": [
        "rejecting 0.000808715820312\n",
        "1638400 1769472 "
       ]
      },
      {
       "output_type": "stream",
       "stream": "stdout",
       "text": [
        "rejecting 4.57763671875e-05\n",
        "1703936 1835008 "
       ]
      },
      {
       "output_type": "stream",
       "stream": "stdout",
       "text": [
        "rejecting 6.86645507812e-05\n",
        "1769472 1900544 "
       ]
      },
      {
       "output_type": "stream",
       "stream": "stdout",
       "text": [
        "rejecting 0.0\n",
        "1835008 1966080 "
       ]
      },
      {
       "output_type": "stream",
       "stream": "stdout",
       "text": [
        "rejecting 0.000114440917969\n",
        "1900544 2031616 "
       ]
      },
      {
       "output_type": "stream",
       "stream": "stdout",
       "text": [
        "rejecting 0.000320434570312\n",
        "1966080 2097152 "
       ]
      },
      {
       "output_type": "stream",
       "stream": "stdout",
       "text": [
        "rejecting 0.000411987304688\n",
        "2031616 2162688 "
       ]
      },
      {
       "output_type": "stream",
       "stream": "stdout",
       "text": [
        "rejecting 0.00261688232422\n",
        "2097152 2228224 "
       ]
      },
      {
       "output_type": "stream",
       "stream": "stdout",
       "text": [
        "rejecting 0.00240325927734\n",
        "2162688 2293760 "
       ]
      },
      {
       "output_type": "stream",
       "stream": "stdout",
       "text": [
        "rejecting 0.00298309326172\n",
        "2228224 2359296 "
       ]
      },
      {
       "output_type": "stream",
       "stream": "stdout",
       "text": [
        "rejecting 0.00471496582031\n",
        "2293760 2424832 "
       ]
      },
      {
       "output_type": "stream",
       "stream": "stdout",
       "text": [
        "rejecting 0.00182342529297\n",
        "2359296 2490368 "
       ]
      },
      {
       "output_type": "stream",
       "stream": "stdout",
       "text": [
        "rejecting 0.00240325927734\n",
        "2424832 2555904 "
       ]
      },
      {
       "output_type": "stream",
       "stream": "stdout",
       "text": [
        "rejecting 0.00344085693359\n",
        "2490368 2621440 "
       ]
      },
      {
       "output_type": "stream",
       "stream": "stdout",
       "text": [
        "rejecting 0.00120544433594\n",
        "2555904 2686976 "
       ]
      },
      {
       "output_type": "stream",
       "stream": "stdout",
       "text": [
        "rejecting 0.000434875488281\n",
        "2621440 2752512 "
       ]
      },
      {
       "output_type": "stream",
       "stream": "stdout",
       "text": [
        "rejecting 0.000160217285156\n",
        "2686976 2818048 "
       ]
      },
      {
       "output_type": "stream",
       "stream": "stdout",
       "text": [
        "rejecting 6.86645507812e-05\n",
        "2752512 2883584 "
       ]
      },
      {
       "output_type": "stream",
       "stream": "stdout",
       "text": [
        "rejecting 0.0\n",
        "2818048 2949120 "
       ]
      },
      {
       "output_type": "stream",
       "stream": "stdout",
       "text": [
        "rejecting 0.000434875488281\n",
        "2883584 3014656 "
       ]
      },
      {
       "output_type": "stream",
       "stream": "stdout",
       "text": [
        "rejecting 0.000297546386719\n",
        "2949120 3080192 "
       ]
      },
      {
       "output_type": "stream",
       "stream": "stdout",
       "text": [
        "rejecting 0.0\n",
        "3014656 3145728 "
       ]
      },
      {
       "output_type": "stream",
       "stream": "stdout",
       "text": [
        "rejecting 0.00237274169922\n",
        "3080192 3211264 "
       ]
      },
      {
       "output_type": "stream",
       "stream": "stdout",
       "text": [
        "rejecting 0.00234222412109\n",
        "3145728 3276800 "
       ]
      },
      {
       "output_type": "stream",
       "stream": "stdout",
       "text": [
        "rejecting 0.0\n",
        "3211264 3342336 "
       ]
      },
      {
       "output_type": "stream",
       "stream": "stdout",
       "text": [
        "rejecting 0.00444030761719\n",
        "3276800 3407872 "
       ]
      },
      {
       "output_type": "stream",
       "stream": "stdout",
       "text": [
        "rejecting 0.00436401367188\n",
        "3342336 3473408 "
       ]
      },
      {
       "output_type": "stream",
       "stream": "stdout",
       "text": [
        "rejecting 0.0\n",
        "3407872 3538944 "
       ]
      },
      {
       "output_type": "stream",
       "stream": "stdout",
       "text": [
        "rejecting 0.0\n",
        "3473408 3604480 "
       ]
      },
      {
       "output_type": "stream",
       "stream": "stdout",
       "text": [
        "rejecting 0.0\n",
        "3538944 3670016 "
       ]
      },
      {
       "output_type": "stream",
       "stream": "stdout",
       "text": [
        "rejecting 0.0\n",
        "3604480 3735552 "
       ]
      },
      {
       "output_type": "stream",
       "stream": "stdout",
       "text": [
        "rejecting 0.0\n",
        "3670016 3801088 "
       ]
      },
      {
       "output_type": "stream",
       "stream": "stdout",
       "text": [
        "rejecting 0.0\n",
        "3735552 3866624 "
       ]
      },
      {
       "output_type": "stream",
       "stream": "stdout",
       "text": [
        "rejecting 0.0\n",
        "3801088 3932160 "
       ]
      },
      {
       "output_type": "stream",
       "stream": "stdout",
       "text": [
        "rejecting 0.0\n",
        "3866624 3997696 "
       ]
      },
      {
       "output_type": "stream",
       "stream": "stdout",
       "text": [
        "rejecting 0.0\n",
        "3932160 4063232 "
       ]
      },
      {
       "output_type": "stream",
       "stream": "stdout",
       "text": [
        "rejecting 3.0517578125e-05\n",
        "3997696 4128768 "
       ]
      },
      {
       "output_type": "stream",
       "stream": "stdout",
       "text": [
        "rejecting 9.91821289062e-05\n",
        "4063232 4194304 "
       ]
      },
      {
       "output_type": "stream",
       "stream": "stdout",
       "text": [
        "rejecting 6.103515625e-05\n",
        "using NFFT: 2**"
       ]
      },
      {
       "output_type": "stream",
       "stream": "stdout",
       "text": [
        " 19.0\n",
        "10"
       ]
      },
      {
       "output_type": "stream",
       "stream": "stdout",
       "text": [
        "\n",
        "0"
       ]
      },
      {
       "output_type": "stream",
       "stream": "stdout",
       "text": [
        " 65536 rejecting 0.0\n",
        "0 131072 "
       ]
      },
      {
       "output_type": "stream",
       "stream": "stdout",
       "text": [
        "rejecting 0.0\n",
        "65536 196608 "
       ]
      },
      {
       "output_type": "stream",
       "stream": "stdout",
       "text": [
        "rejecting 0.0\n",
        "131072 262144 "
       ]
      },
      {
       "output_type": "stream",
       "stream": "stdout",
       "text": [
        "rejecting 0.0\n",
        "196608 327680 "
       ]
      },
      {
       "output_type": "stream",
       "stream": "stdout",
       "text": [
        "rejecting 0.0\n",
        "262144 393216 "
       ]
      },
      {
       "output_type": "stream",
       "stream": "stdout",
       "text": [
        "rejecting 0.000503540039062\n",
        "327680 458752 "
       ]
      },
      {
       "output_type": "stream",
       "stream": "stdout",
       "text": [
        "rejecting 0.000503540039062\n",
        "393216 524288 "
       ]
      },
      {
       "output_type": "stream",
       "stream": "stdout",
       "text": [
        "rejecting 0.00180816650391\n",
        "458752 589824 "
       ]
      },
      {
       "output_type": "stream",
       "stream": "stdout",
       "text": [
        "rejecting 0.00181579589844\n",
        "524288 655360 "
       ]
      },
      {
       "output_type": "stream",
       "stream": "stdout",
       "text": [
        "rejecting 0.0\n",
        "589824 720896 "
       ]
      },
      {
       "output_type": "stream",
       "stream": "stdout",
       "text": [
        "rejecting 0.0\n",
        "655360 786432 "
       ]
      },
      {
       "output_type": "stream",
       "stream": "stdout",
       "text": [
        "rejecting 0.00018310546875\n",
        "720896 851968 "
       ]
      },
      {
       "output_type": "stream",
       "stream": "stdout",
       "text": [
        "rejecting 0.00148010253906\n",
        "786432 917504 "
       ]
      },
      {
       "output_type": "stream",
       "stream": "stdout",
       "text": [
        "rejecting 0.00125122070312\n",
        "851968 983040 "
       ]
      },
      {
       "output_type": "stream",
       "stream": "stdout",
       "text": [
        "rejecting 0.0\n",
        "917504 1048576 "
       ]
      },
      {
       "output_type": "stream",
       "stream": "stdout",
       "text": [
        "rejecting 0.0015869140625\n",
        "983040 1114112 "
       ]
      },
      {
       "output_type": "stream",
       "stream": "stdout",
       "text": [
        "rejecting 0.0015869140625\n",
        "1048576 1179648 "
       ]
      },
      {
       "output_type": "stream",
       "stream": "stdout",
       "text": [
        "rejecting 0.0\n",
        "1114112 1245184 "
       ]
      },
      {
       "output_type": "stream",
       "stream": "stdout",
       "text": [
        "rejecting 0.00202941894531\n",
        "1179648 1310720 "
       ]
      },
      {
       "output_type": "stream",
       "stream": "stdout",
       "text": [
        "rejecting 0.00203704833984\n",
        "1245184 1376256 "
       ]
      },
      {
       "output_type": "stream",
       "stream": "stdout",
       "text": [
        "rejecting 0.0\n",
        "1310720 1441792 "
       ]
      },
      {
       "output_type": "stream",
       "stream": "stdout",
       "text": [
        "rejecting 0.0\n",
        "1376256 1507328 "
       ]
      },
      {
       "output_type": "stream",
       "stream": "stdout",
       "text": [
        "rejecting 0.00151824951172\n",
        "1441792 1572864 "
       ]
      },
      {
       "output_type": "stream",
       "stream": "stdout",
       "text": [
        "rejecting 0.00312042236328\n",
        "1507328 1638400 "
       ]
      },
      {
       "output_type": "stream",
       "stream": "stdout",
       "text": [
        "rejecting 0.00202178955078\n",
        "1572864 1703936 "
       ]
      },
      {
       "output_type": "stream",
       "stream": "stdout",
       "text": [
        "rejecting 0.000228881835938\n",
        "1638400 1769472 "
       ]
      },
      {
       "output_type": "stream",
       "stream": "stdout",
       "text": [
        "rejecting 2.28881835938e-05\n",
        "1703936 1835008 "
       ]
      },
      {
       "output_type": "stream",
       "stream": "stdout",
       "text": [
        "rejecting 0.000160217285156\n",
        "1769472 1900544 "
       ]
      },
      {
       "output_type": "stream",
       "stream": "stdout",
       "text": [
        "rejecting 0.000114440917969\n",
        "1835008 1966080 "
       ]
      },
      {
       "output_type": "stream",
       "stream": "stdout",
       "text": [
        "rejecting 2.28881835938e-05\n",
        "1900544 2031616 "
       ]
      },
      {
       "output_type": "stream",
       "stream": "stdout",
       "text": [
        "rejecting 0.000160217285156\n",
        "1966080 2097152 "
       ]
      },
      {
       "output_type": "stream",
       "stream": "stdout",
       "text": [
        "rejecting 0.000411987304688\n",
        "2031616 2162688 "
       ]
      },
      {
       "output_type": "stream",
       "stream": "stdout",
       "text": [
        "rejecting 0.00265502929688\n",
        "2097152 2228224 "
       ]
      },
      {
       "output_type": "stream",
       "stream": "stdout",
       "text": [
        "rejecting 0.00260162353516\n",
        "2162688 2293760 "
       ]
      },
      {
       "output_type": "stream",
       "stream": "stdout",
       "text": [
        "rejecting 0.002685546875\n",
        "2228224 2359296 "
       ]
      },
      {
       "output_type": "stream",
       "stream": "stdout",
       "text": [
        "rejecting 0.00463104248047\n",
        "2293760 2424832 "
       ]
      },
      {
       "output_type": "stream",
       "stream": "stdout",
       "text": [
        "rejecting 0.00200653076172\n",
        "2359296 2490368 "
       ]
      },
      {
       "output_type": "stream",
       "stream": "stdout",
       "text": [
        "rejecting 0.00225067138672\n",
        "2424832 2555904 "
       ]
      },
      {
       "output_type": "stream",
       "stream": "stdout",
       "text": [
        "rejecting 0.00270080566406\n",
        "2490368 2621440 "
       ]
      },
      {
       "output_type": "stream",
       "stream": "stdout",
       "text": [
        "rejecting 0.000297546386719\n",
        "2555904 2686976 "
       ]
      },
      {
       "output_type": "stream",
       "stream": "stdout",
       "text": [
        "rejecting 0.0\n",
        "2621440 2752512 "
       ]
      },
      {
       "output_type": "stream",
       "stream": "stdout",
       "text": [
        "rejecting 0.000251770019531\n",
        "2686976 2818048 "
       ]
      },
      {
       "output_type": "stream",
       "stream": "stdout",
       "text": [
        "rejecting 0.000228881835938\n",
        "2752512 2883584 "
       ]
      },
      {
       "output_type": "stream",
       "stream": "stdout",
       "text": [
        "rejecting 4.57763671875e-05\n",
        "2818048 2949120 "
       ]
      },
      {
       "output_type": "stream",
       "stream": "stdout",
       "text": [
        "rejecting 0.00018310546875\n",
        "2883584 3014656 "
       ]
      },
      {
       "output_type": "stream",
       "stream": "stdout",
       "text": [
        "rejecting 9.1552734375e-05\n",
        "2949120 3080192 "
       ]
      },
      {
       "output_type": "stream",
       "stream": "stdout",
       "text": [
        "rejecting 2.28881835938e-05\n",
        "3014656 3145728 "
       ]
      },
      {
       "output_type": "stream",
       "stream": "stdout",
       "text": [
        "rejecting 0.00210571289062\n",
        "3080192 3211264 "
       ]
      },
      {
       "output_type": "stream",
       "stream": "stdout",
       "text": [
        "rejecting 0.00206756591797\n",
        "3145728 3276800 "
       ]
      },
      {
       "output_type": "stream",
       "stream": "stdout",
       "text": [
        "rejecting 0.0\n",
        "3211264 3342336 "
       ]
      },
      {
       "output_type": "stream",
       "stream": "stdout",
       "text": [
        "rejecting 0.00277709960938\n",
        "3276800 3407872 "
       ]
      },
      {
       "output_type": "stream",
       "stream": "stdout",
       "text": [
        "rejecting 0.00275421142578\n",
        "3342336 3473408 "
       ]
      },
      {
       "output_type": "stream",
       "stream": "stdout",
       "text": [
        "rejecting 0.0\n",
        "3407872 3538944 "
       ]
      },
      {
       "output_type": "stream",
       "stream": "stdout",
       "text": [
        "rejecting 0.0\n",
        "3473408 3604480 "
       ]
      },
      {
       "output_type": "stream",
       "stream": "stdout",
       "text": [
        "rejecting 0.0\n",
        "3538944 3670016 "
       ]
      },
      {
       "output_type": "stream",
       "stream": "stdout",
       "text": [
        "rejecting 0.0\n",
        "3604480 3735552 "
       ]
      },
      {
       "output_type": "stream",
       "stream": "stdout",
       "text": [
        "rejecting 0.0\n",
        "3670016 3801088 "
       ]
      },
      {
       "output_type": "stream",
       "stream": "stdout",
       "text": [
        "rejecting 0.0\n",
        "3735552 3866624 "
       ]
      },
      {
       "output_type": "stream",
       "stream": "stdout",
       "text": [
        "rejecting 0.000114440917969\n",
        "3801088 3932160 "
       ]
      },
      {
       "output_type": "stream",
       "stream": "stdout",
       "text": [
        "rejecting 9.1552734375e-05\n",
        "3866624 3997696 "
       ]
      },
      {
       "output_type": "stream",
       "stream": "stdout",
       "text": [
        "rejecting 0.0\n",
        "3932160 4063232 "
       ]
      },
      {
       "output_type": "stream",
       "stream": "stdout",
       "text": [
        "rejecting 0.0\n",
        "3997696 4128768 "
       ]
      },
      {
       "output_type": "stream",
       "stream": "stdout",
       "text": [
        "rejecting 0.0\n",
        "4063232 4194304 "
       ]
      },
      {
       "output_type": "stream",
       "stream": "stdout",
       "text": [
        "rejecting 3.0517578125e-05\n",
        "using NFFT: 2**"
       ]
      },
      {
       "output_type": "stream",
       "stream": "stdout",
       "text": [
        " 19.0\n",
        "10"
       ]
      },
      {
       "output_type": "stream",
       "stream": "stdout",
       "text": [
        "\n",
        "0"
       ]
      },
      {
       "output_type": "stream",
       "stream": "stdout",
       "text": [
        " 65536 rejecting 0.0\n",
        "0 131072 "
       ]
      },
      {
       "output_type": "stream",
       "stream": "stdout",
       "text": [
        "rejecting 0.0\n",
        "65536 196608 "
       ]
      },
      {
       "output_type": "stream",
       "stream": "stdout",
       "text": [
        "rejecting 0.0\n",
        "131072 262144 "
       ]
      },
      {
       "output_type": "stream",
       "stream": "stdout",
       "text": [
        "rejecting 0.0\n",
        "196608 327680 "
       ]
      },
      {
       "output_type": "stream",
       "stream": "stdout",
       "text": [
        "rejecting 0.0\n",
        "262144 393216 "
       ]
      },
      {
       "output_type": "stream",
       "stream": "stdout",
       "text": [
        "rejecting 0.000228881835938\n",
        "327680 458752 "
       ]
      },
      {
       "output_type": "stream",
       "stream": "stdout",
       "text": [
        "rejecting 0.000320434570312\n",
        "393216 524288 "
       ]
      },
      {
       "output_type": "stream",
       "stream": "stdout",
       "text": [
        "rejecting 0.00173950195312\n",
        "458752 589824 "
       ]
      },
      {
       "output_type": "stream",
       "stream": "stdout",
       "text": [
        "rejecting 0.00170135498047\n",
        "524288 655360 "
       ]
      },
      {
       "output_type": "stream",
       "stream": "stdout",
       "text": [
        "rejecting 0.0\n",
        "589824 720896 "
       ]
      },
      {
       "output_type": "stream",
       "stream": "stdout",
       "text": [
        "rejecting 0.0\n",
        "655360 786432 "
       ]
      },
      {
       "output_type": "stream",
       "stream": "stdout",
       "text": [
        "rejecting 0.00136566162109\n",
        "720896 851968 "
       ]
      },
      {
       "output_type": "stream",
       "stream": "stdout",
       "text": [
        "rejecting 0.00136566162109\n",
        "786432 917504 "
       ]
      },
      {
       "output_type": "stream",
       "stream": "stdout",
       "text": [
        "rejecting 0.0\n",
        "851968 983040 "
       ]
      },
      {
       "output_type": "stream",
       "stream": "stdout",
       "text": [
        "rejecting 0.0\n",
        "917504 1048576 "
       ]
      },
      {
       "output_type": "stream",
       "stream": "stdout",
       "text": [
        "rejecting 0.00144195556641\n",
        "983040 1114112 "
       ]
      },
      {
       "output_type": "stream",
       "stream": "stdout",
       "text": [
        "rejecting 0.00146484375\n",
        "1048576 1179648 "
       ]
      },
      {
       "output_type": "stream",
       "stream": "stdout",
       "text": [
        "rejecting 0.0\n",
        "1114112 1245184 "
       ]
      },
      {
       "output_type": "stream",
       "stream": "stdout",
       "text": [
        "rejecting 0.00161743164062\n",
        "1179648 1310720 "
       ]
      },
      {
       "output_type": "stream",
       "stream": "stdout",
       "text": [
        "rejecting 0.00161743164062\n",
        "1245184 1376256 "
       ]
      },
      {
       "output_type": "stream",
       "stream": "stdout",
       "text": [
        "rejecting 0.0\n",
        "1310720 1441792 "
       ]
      },
      {
       "output_type": "stream",
       "stream": "stdout",
       "text": [
        "rejecting 4.57763671875e-05\n",
        "1376256 1507328 "
       ]
      },
      {
       "output_type": "stream",
       "stream": "stdout",
       "text": [
        "rejecting 0.00147247314453\n",
        "1441792 1572864 "
       ]
      },
      {
       "output_type": "stream",
       "stream": "stdout",
       "text": [
        "rejecting 0.00312042236328\n",
        "1507328 1638400 "
       ]
      },
      {
       "output_type": "stream",
       "stream": "stdout",
       "text": [
        "rejecting 0.002197265625\n",
        "1572864 1703936 "
       ]
      },
      {
       "output_type": "stream",
       "stream": "stdout",
       "text": [
        "rejecting 0.000274658203125\n",
        "1638400 1769472 "
       ]
      },
      {
       "output_type": "stream",
       "stream": "stdout",
       "text": [
        "rejecting 0.0\n",
        "1703936 1835008 "
       ]
      },
      {
       "output_type": "stream",
       "stream": "stdout",
       "text": [
        "rejecting 6.86645507812e-05\n",
        "1769472 1900544 "
       ]
      },
      {
       "output_type": "stream",
       "stream": "stdout",
       "text": [
        "rejecting 0.000297546386719\n",
        "1835008 1966080 "
       ]
      },
      {
       "output_type": "stream",
       "stream": "stdout",
       "text": [
        "rejecting 0.000526428222656\n",
        "1900544 2031616 "
       ]
      },
      {
       "output_type": "stream",
       "stream": "stdout",
       "text": [
        "rejecting 0.0003662109375\n",
        "1966080 2097152 "
       ]
      },
      {
       "output_type": "stream",
       "stream": "stdout",
       "text": [
        "rejecting 6.86645507812e-05\n",
        "2031616 2162688 "
       ]
      },
      {
       "output_type": "stream",
       "stream": "stdout",
       "text": [
        "rejecting 0.00203704833984\n",
        "2097152 2228224 "
       ]
      },
      {
       "output_type": "stream",
       "stream": "stdout",
       "text": [
        "rejecting 0.00205993652344\n",
        "2162688 2293760 "
       ]
      },
      {
       "output_type": "stream",
       "stream": "stdout",
       "text": [
        "rejecting 0.00250244140625\n",
        "2228224 2359296 "
       ]
      },
      {
       "output_type": "stream",
       "stream": "stdout",
       "text": [
        "rejecting 0.00364685058594\n",
        "2293760 2424832 "
       ]
      },
      {
       "output_type": "stream",
       "stream": "stdout",
       "text": [
        "rejecting 0.00114440917969\n",
        "2359296 2490368 "
       ]
      },
      {
       "output_type": "stream",
       "stream": "stdout",
       "text": [
        "rejecting 0.00194549560547\n",
        "2424832 2555904 "
       ]
      },
      {
       "output_type": "stream",
       "stream": "stdout",
       "text": [
        "rejecting 0.00212860107422\n",
        "2490368 2621440 "
       ]
      },
      {
       "output_type": "stream",
       "stream": "stdout",
       "text": [
        "rejecting 0.0003662109375\n",
        "2555904 2686976 "
       ]
      },
      {
       "output_type": "stream",
       "stream": "stdout",
       "text": [
        "rejecting 0.000228881835938\n",
        "2621440 2752512 "
       ]
      },
      {
       "output_type": "stream",
       "stream": "stdout",
       "text": [
        "rejecting 0.000251770019531\n",
        "2686976 2818048 "
       ]
      },
      {
       "output_type": "stream",
       "stream": "stdout",
       "text": [
        "rejecting 0.000411987304688\n",
        "2752512 2883584 "
       ]
      },
      {
       "output_type": "stream",
       "stream": "stdout",
       "text": [
        "rejecting 0.000320434570312\n",
        "2818048 2949120 "
       ]
      },
      {
       "output_type": "stream",
       "stream": "stdout",
       "text": [
        "rejecting 0.000389099121094\n",
        "2883584 3014656 "
       ]
      },
      {
       "output_type": "stream",
       "stream": "stdout",
       "text": [
        "rejecting 0.000160217285156\n",
        "2949120 3080192 "
       ]
      },
      {
       "output_type": "stream",
       "stream": "stdout",
       "text": [
        "rejecting 0.000320434570312\n",
        "3014656 3145728 "
       ]
      },
      {
       "output_type": "stream",
       "stream": "stdout",
       "text": [
        "rejecting 0.00217437744141\n",
        "3080192 3211264 "
       ]
      },
      {
       "output_type": "stream",
       "stream": "stdout",
       "text": [
        "rejecting 0.00186157226562\n",
        "3145728 3276800 "
       ]
      },
      {
       "output_type": "stream",
       "stream": "stdout",
       "text": [
        "rejecting 0.0\n",
        "3211264 3342336 "
       ]
      },
      {
       "output_type": "stream",
       "stream": "stdout",
       "text": [
        "rejecting 0.00231170654297\n",
        "3276800 3407872 "
       ]
      },
      {
       "output_type": "stream",
       "stream": "stdout",
       "text": [
        "rejecting 0.00222015380859\n",
        "3342336 3473408 "
       ]
      },
      {
       "output_type": "stream",
       "stream": "stdout",
       "text": [
        "rejecting 0.0\n",
        "3407872 3538944 "
       ]
      },
      {
       "output_type": "stream",
       "stream": "stdout",
       "text": [
        "rejecting 0.0\n",
        "3473408 3604480 "
       ]
      },
      {
       "output_type": "stream",
       "stream": "stdout",
       "text": [
        "rejecting 0.0\n",
        "3538944 3670016 "
       ]
      },
      {
       "output_type": "stream",
       "stream": "stdout",
       "text": [
        "rejecting 0.0\n",
        "3604480 3735552 "
       ]
      },
      {
       "output_type": "stream",
       "stream": "stdout",
       "text": [
        "rejecting 0.0\n",
        "3670016 3801088 "
       ]
      },
      {
       "output_type": "stream",
       "stream": "stdout",
       "text": [
        "rejecting 0.0\n",
        "3735552 3866624 "
       ]
      },
      {
       "output_type": "stream",
       "stream": "stdout",
       "text": [
        "rejecting 0.0\n",
        "3801088 3932160 "
       ]
      },
      {
       "output_type": "stream",
       "stream": "stdout",
       "text": [
        "rejecting 0.0\n",
        "3866624 3997696 "
       ]
      },
      {
       "output_type": "stream",
       "stream": "stdout",
       "text": [
        "rejecting 0.0\n",
        "3932160 4063232 "
       ]
      },
      {
       "output_type": "stream",
       "stream": "stdout",
       "text": [
        "rejecting 0.0\n",
        "3997696 4128768 "
       ]
      },
      {
       "output_type": "stream",
       "stream": "stdout",
       "text": [
        "rejecting 0.0\n",
        "4063232 4194304 "
       ]
      },
      {
       "output_type": "stream",
       "stream": "stdout",
       "text": [
        "rejecting 0.0\n",
        "using NFFT: 2**"
       ]
      },
      {
       "output_type": "stream",
       "stream": "stdout",
       "text": [
        " 19.0\n",
        "10"
       ]
      },
      {
       "output_type": "stream",
       "stream": "stdout",
       "text": [
        "\n"
       ]
      }
     ],
     "prompt_number": 40
    },
    {
     "cell_type": "code",
     "collapsed": false,
     "input": [
      "nms2"
     ],
     "language": "python",
     "metadata": {},
     "outputs": [
      {
       "metadata": {},
       "output_type": "pyout",
       "prompt_number": 41,
       "text": [
        "[<kid_readout.analysis.noise_measurement.SweepNoiseMeasurement at 0x181904d0>,\n",
        " <kid_readout.analysis.noise_measurement.SweepNoiseMeasurement at 0x15a023d0>,\n",
        " <kid_readout.analysis.noise_measurement.SweepNoiseMeasurement at 0x153bb510>,\n",
        " <kid_readout.analysis.noise_measurement.SweepNoiseMeasurement at 0x153bd310>]"
       ]
      }
     ],
     "prompt_number": 41
    },
    {
     "cell_type": "code",
     "collapsed": false,
     "input": [
      "for nm in nms2:\n",
      "    print nm.resonator_model.f_0\n",
      "    loglog(nm.pca_freq[2:],nm.pca_eigvals[1,2:],label=(str(nm.resonator_model.f_0)))\n",
      "legend(loc='upper right',prop=dict(size='small'))"
     ],
     "language": "python",
     "metadata": {},
     "outputs": [
      {
       "output_type": "stream",
       "stream": "stdout",
       "text": [
        "77.5098244748\n",
        "92.2776292029\n",
        "119.599759459\n",
        "159.657969428\n"
       ]
      },
      {
       "metadata": {},
       "output_type": "pyout",
       "prompt_number": 46,
       "text": [
        "<matplotlib.legend.Legend at 0x76d6550>"
       ]
      },
      {
       "metadata": {},
       "output_type": "display_data",
       "png": "[encoded data removed]",
       "text": [
        "<matplotlib.figure.Figure at 0x14a4eb90>"
       ]
      }
     ],
     "prompt_number": 46
    },
    {
     "cell_type": "code",
     "collapsed": false,
     "input": [
      "nms[0].power_dbm"
     ],
     "language": "python",
     "metadata": {},
     "outputs": [
      {
       "metadata": {},
       "output_type": "pyout",
       "prompt_number": 49,
       "text": [
        "-113.04119982655925"
       ]
      }
     ],
     "prompt_number": 49
    },
    {
     "cell_type": "code",
     "collapsed": false,
     "input": [
      "np.sqrt(4**2+14**2)"
     ],
     "language": "python",
     "metadata": {},
     "outputs": [
      {
       "metadata": {},
       "output_type": "pyout",
       "prompt_number": 59,
       "text": [
        "14.560219778561036"
       ]
      }
     ],
     "prompt_number": 59
    },
    {
     "cell_type": "code",
     "collapsed": false,
     "input": [],
     "language": "python",
     "metadata": {},
     "outputs": []
    }
   ],
   "metadata": {}
  }
 ]
}