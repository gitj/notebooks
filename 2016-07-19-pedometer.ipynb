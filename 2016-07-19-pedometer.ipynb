{
 "cells": [
  {
   "cell_type": "code",
   "execution_count": 1,
   "metadata": {
    "collapsed": false
   },
   "outputs": [
    {
     "name": "stdout",
     "output_type": "stream",
     "text": [
      "Populating the interactive namespace from numpy and matplotlib\n"
     ]
    }
   ],
   "source": [
    "%pylab inline"
   ]
  },
  {
   "cell_type": "code",
   "execution_count": 2,
   "metadata": {
    "collapsed": false
   },
   "outputs": [
    {
     "name": "stderr",
     "output_type": "stream",
     "text": [
      "/home/gjones/miniconda2/envs/readout2/lib/python2.7/site-packages/pandas/computation/__init__.py:19: UserWarning: The installed version of numexpr 2.4.4 is not supported in pandas and will be not be used\n",
      "\n",
      "  UserWarning)\n"
     ]
    }
   ],
   "source": [
    "import pandas as pd"
   ]
  },
  {
   "cell_type": "code",
   "execution_count": 25,
   "metadata": {
    "collapsed": true
   },
   "outputs": [],
   "source": [
    "hr = pd.read_csv('/home/gjones/Dropbox/airs_plots/com.samsung.health.step_count.201607192054.csv',skiprows=1)"
   ]
  },
  {
   "cell_type": "code",
   "execution_count": 26,
   "metadata": {
    "collapsed": false
   },
   "outputs": [
    {
     "data": {
      "text/plain": [
       "Index([u'time_offset', u'end_time', u'speed', u'pkg_name', u'start_time',\n",
       "       u'count', u'sample_position_type', u'calorie', u'distance', u'datauuid',\n",
       "       u'deviceuuid', u'update_time', u'create_time'],\n",
       "      dtype='object')"
      ]
     },
     "execution_count": 26,
     "metadata": {},
     "output_type": "execute_result"
    }
   ],
   "source": [
    "hr.columns"
   ]
  },
  {
   "cell_type": "code",
   "execution_count": 31,
   "metadata": {
    "collapsed": false
   },
   "outputs": [
    {
     "data": {
      "text/html": [
       "<div>\n",
       "<table border=\"1\" class=\"dataframe\">\n",
       "  <thead>\n",
       "    <tr style=\"text-align: right;\">\n",
       "      <th></th>\n",
       "      <th>time_offset</th>\n",
       "      <th>end_time</th>\n",
       "      <th>speed</th>\n",
       "      <th>pkg_name</th>\n",
       "      <th>start_time</th>\n",
       "      <th>count</th>\n",
       "      <th>sample_position_type</th>\n",
       "      <th>calorie</th>\n",
       "      <th>distance</th>\n",
       "      <th>datauuid</th>\n",
       "      <th>deviceuuid</th>\n",
       "      <th>update_time</th>\n",
       "      <th>create_time</th>\n",
       "    </tr>\n",
       "  </thead>\n",
       "  <tbody>\n",
       "    <tr>\n",
       "      <th>0</th>\n",
       "      <td>-14400000</td>\n",
       "      <td>2016-06-16 06:06:00.000</td>\n",
       "      <td>1.702165</td>\n",
       "      <td>com.sec.android.app.shealth</td>\n",
       "      <td>2016-06-16 06:05:00.000</td>\n",
       "      <td>27</td>\n",
       "      <td>NaN</td>\n",
       "      <td>0.88</td>\n",
       "      <td>21.500000</td>\n",
       "      <td>1d453447-16af-4552-8787-a8051637bb62</td>\n",
       "      <td>fPWH8PRyfQ</td>\n",
       "      <td>2016-06-16 06:05:29.383</td>\n",
       "      <td>2016-06-16 06:05:22.974</td>\n",
       "    </tr>\n",
       "    <tr>\n",
       "      <th>1</th>\n",
       "      <td>-14400000</td>\n",
       "      <td>2016-06-16 06:58:00.000</td>\n",
       "      <td>1.388889</td>\n",
       "      <td>com.sec.android.app.shealth</td>\n",
       "      <td>2016-06-16 06:57:00.000</td>\n",
       "      <td>30</td>\n",
       "      <td>NaN</td>\n",
       "      <td>0.98</td>\n",
       "      <td>22.510000</td>\n",
       "      <td>fa1f9996-edd9-4241-a88d-ffe222a3f40b</td>\n",
       "      <td>fPWH8PRyfQ</td>\n",
       "      <td>2016-06-16 06:59:35.190</td>\n",
       "      <td>2016-06-16 06:59:35.190</td>\n",
       "    </tr>\n",
       "    <tr>\n",
       "      <th>2</th>\n",
       "      <td>-14400000</td>\n",
       "      <td>2016-06-16 06:59:00.000</td>\n",
       "      <td>1.805556</td>\n",
       "      <td>com.sec.android.app.shealth</td>\n",
       "      <td>2016-06-16 06:58:00.000</td>\n",
       "      <td>13</td>\n",
       "      <td>NaN</td>\n",
       "      <td>0.42</td>\n",
       "      <td>10.480000</td>\n",
       "      <td>01e549d1-29ac-4712-aa21-a0677c2cd849</td>\n",
       "      <td>fPWH8PRyfQ</td>\n",
       "      <td>2016-06-16 06:59:35.212</td>\n",
       "      <td>2016-06-16 06:59:35.212</td>\n",
       "    </tr>\n",
       "    <tr>\n",
       "      <th>3</th>\n",
       "      <td>-14400000</td>\n",
       "      <td>2016-06-16 07:01:00.000</td>\n",
       "      <td>0.964223</td>\n",
       "      <td>com.sec.android.app.shealth</td>\n",
       "      <td>2016-06-16 07:00:00.000</td>\n",
       "      <td>9</td>\n",
       "      <td>NaN</td>\n",
       "      <td>0.33</td>\n",
       "      <td>6.429999</td>\n",
       "      <td>3cdd7a50-ade7-4a57-bb44-efa1d37f5463</td>\n",
       "      <td>fPWH8PRyfQ</td>\n",
       "      <td>2016-06-16 07:00:04.560</td>\n",
       "      <td>2016-06-16 07:00:00.982</td>\n",
       "    </tr>\n",
       "    <tr>\n",
       "      <th>4</th>\n",
       "      <td>-14400000</td>\n",
       "      <td>2016-06-16 07:14:00.000</td>\n",
       "      <td>1.778420</td>\n",
       "      <td>com.sec.android.app.shealth</td>\n",
       "      <td>2016-06-16 07:13:00.000</td>\n",
       "      <td>10</td>\n",
       "      <td>NaN</td>\n",
       "      <td>0.33</td>\n",
       "      <td>8.050000</td>\n",
       "      <td>89956fd2-6013-4ea7-b632-4a423b3de9ae</td>\n",
       "      <td>fPWH8PRyfQ</td>\n",
       "      <td>2016-06-16 07:13:57.972</td>\n",
       "      <td>2016-06-16 07:13:56.128</td>\n",
       "    </tr>\n",
       "  </tbody>\n",
       "</table>\n",
       "</div>"
      ],
      "text/plain": [
       "   time_offset                 end_time     speed  \\\n",
       "0    -14400000  2016-06-16 06:06:00.000  1.702165   \n",
       "1    -14400000  2016-06-16 06:58:00.000  1.388889   \n",
       "2    -14400000  2016-06-16 06:59:00.000  1.805556   \n",
       "3    -14400000  2016-06-16 07:01:00.000  0.964223   \n",
       "4    -14400000  2016-06-16 07:14:00.000  1.778420   \n",
       "\n",
       "                      pkg_name               start_time  count  \\\n",
       "0  com.sec.android.app.shealth  2016-06-16 06:05:00.000     27   \n",
       "1  com.sec.android.app.shealth  2016-06-16 06:57:00.000     30   \n",
       "2  com.sec.android.app.shealth  2016-06-16 06:58:00.000     13   \n",
       "3  com.sec.android.app.shealth  2016-06-16 07:00:00.000      9   \n",
       "4  com.sec.android.app.shealth  2016-06-16 07:13:00.000     10   \n",
       "\n",
       "   sample_position_type  calorie   distance  \\\n",
       "0                   NaN     0.88  21.500000   \n",
       "1                   NaN     0.98  22.510000   \n",
       "2                   NaN     0.42  10.480000   \n",
       "3                   NaN     0.33   6.429999   \n",
       "4                   NaN     0.33   8.050000   \n",
       "\n",
       "                               datauuid  deviceuuid              update_time  \\\n",
       "0  1d453447-16af-4552-8787-a8051637bb62  fPWH8PRyfQ  2016-06-16 06:05:29.383   \n",
       "1  fa1f9996-edd9-4241-a88d-ffe222a3f40b  fPWH8PRyfQ  2016-06-16 06:59:35.190   \n",
       "2  01e549d1-29ac-4712-aa21-a0677c2cd849  fPWH8PRyfQ  2016-06-16 06:59:35.212   \n",
       "3  3cdd7a50-ade7-4a57-bb44-efa1d37f5463  fPWH8PRyfQ  2016-06-16 07:00:04.560   \n",
       "4  89956fd2-6013-4ea7-b632-4a423b3de9ae  fPWH8PRyfQ  2016-06-16 07:13:57.972   \n",
       "\n",
       "               create_time  \n",
       "0  2016-06-16 06:05:22.974  \n",
       "1  2016-06-16 06:59:35.190  \n",
       "2  2016-06-16 06:59:35.212  \n",
       "3  2016-06-16 07:00:00.982  \n",
       "4  2016-06-16 07:13:56.128  "
      ]
     },
     "execution_count": 31,
     "metadata": {},
     "output_type": "execute_result"
    }
   ],
   "source": [
    "hr.head()"
   ]
  },
  {
   "cell_type": "code",
   "execution_count": 32,
   "metadata": {
    "collapsed": false
   },
   "outputs": [
    {
     "data": {
      "text/plain": [
       "(6223, 13)"
      ]
     },
     "execution_count": 32,
     "metadata": {},
     "output_type": "execute_result"
    }
   ],
   "source": [
    "hr.shape"
   ]
  },
  {
   "cell_type": "code",
   "execution_count": 40,
   "metadata": {
    "collapsed": false
   },
   "outputs": [
    {
     "data": {
      "image/png": "[encoded data removed]",
      "text/plain": [
       "<matplotlib.figure.Figure at 0x7f7c44b08f90>"
      ]
     },
     "metadata": {},
     "output_type": "display_data"
    }
   ],
   "source": [
    "_=hist((hr.speed*100/30.48)*3600/5280.,bins=50)"
   ]
  },
  {
   "cell_type": "code",
   "execution_count": 35,
   "metadata": {
    "collapsed": false
   },
   "outputs": [
    {
     "data": {
      "text/plain": [
       "[<matplotlib.lines.Line2D at 0x7f7c44fddd50>]"
      ]
     },
     "execution_count": 35,
     "metadata": {},
     "output_type": "execute_result"
    },
    {
     "data": {
      "image/png": "[encoded data removed]",
      "text/plain": [
       "<matplotlib.figure.Figure at 0x7f7c4585b190>"
      ]
     },
     "metadata": {},
     "output_type": "display_data"
    }
   ],
   "source": [
    "plot(cumsum(hr['distance'])/1e3,'.')"
   ]
  },
  {
   "cell_type": "code",
   "execution_count": null,
   "metadata": {
    "collapsed": true
   },
   "outputs": [],
   "source": []
  }
 ],
 "metadata": {
  "kernelspec": {
   "display_name": "Python 2",
   "language": "python",
   "name": "python2"
  },
  "language_info": {
   "codemirror_mode": {
    "name": "ipython",
    "version": 2
   },
   "file_extension": ".py",
   "mimetype": "text/x-python",
   "name": "python",
   "nbconvert_exporter": "python",
   "pygments_lexer": "ipython2",
   "version": "2.7.11"
  }
 },
 "nbformat": 4,
 "nbformat_minor": 0
}
