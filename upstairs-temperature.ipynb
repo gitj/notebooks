{
 "metadata": {
  "name": ""
 },
 "nbformat": 3,
 "nbformat_minor": 0,
 "worksheets": [
  {
   "cells": [
    {
     "cell_type": "code",
     "collapsed": false,
     "input": [
      "import kid_readout.utils.parse_srs\n",
      "reload(kid_readout.utils.parse_srs)\n",
      "import time"
     ],
     "language": "python",
     "metadata": {},
     "outputs": [],
     "prompt_number": 89
    },
    {
     "cell_type": "code",
     "collapsed": false,
     "input": [
      "times,temps = kid_readout.utils.parse_srs.get_all_temperature_data()"
     ],
     "language": "python",
     "metadata": {},
     "outputs": [
      {
       "output_type": "stream",
       "stream": "stdout",
       "text": [
        "failed to parse '\\r' skipping\n",
        "failed to parse '\\r' skipping\n",
        "failed to parse '\\r' skipping\n"
       ]
      }
     ],
     "prompt_number": 106
    },
    {
     "cell_type": "code",
     "collapsed": false,
     "input": [
      "plot(np.array(times[-100:])/60.,temps[-100:],'.-')\n",
      "#ylim(0.09,0.3)\n",
      "print time.ctime(times[-1]), temps[-1]"
     ],
     "language": "python",
     "metadata": {},
     "outputs": [
      {
       "output_type": "stream",
       "stream": "stdout",
       "text": [
        "Sun Feb  2 18:48:46 2014 1.350806\n"
       ]
      },
      {
       "metadata": {},
       "output_type": "display_data",
       "png": "[encoded data removed]",
       "text": [
        "<matplotlib.figure.Figure at 0x48a4350>"
       ]
      }
     ],
     "prompt_number": 108
    },
    {
     "cell_type": "code",
     "collapsed": false,
     "input": [],
     "language": "python",
     "metadata": {},
     "outputs": [],
     "prompt_number": 62
    },
    {
     "cell_type": "code",
     "collapsed": false,
     "input": [
      "temps"
     ],
     "language": "python",
     "metadata": {},
     "outputs": [
      {
       "output_type": "pyout",
       "prompt_number": 5,
       "text": [
        "array([ 0.1742235,  0.1741837,  0.1741562,  0.174385 ,  0.1743218,\n",
        "        0.1743215,  0.1745021,  0.1743297,  0.1744675,  0.1746945,\n",
        "        0.1744755,  0.1746401,  0.1747462,  0.1746056,  0.1747939,\n",
        "        0.1748244,  0.1748117,  0.174956 ,  0.1749261,  0.1748736,\n",
        "        0.1751318,  0.1749933,  0.2094491,  0.2313738,  0.2311304,\n",
        "        0.2312588,  0.2313432,  0.2312684,  0.2314364,  0.2314819,\n",
        "        0.2313373,  0.231726 ,  0.2313957,  0.2830784,  0.2832354,\n",
        "        0.2829935,  0.2831208,  0.2832212,  0.2829897,  0.2833251,\n",
        "        0.2831326,  0.2831741,  0.2833832,  0.2831821,  0.283281 ,\n",
        "        0.2834154,  0.283195 ,  0.283281 ,  0.2835096,  0.2832939,\n",
        "        0.3266138,  0.3264748,  0.3263777,  0.3267405,  0.3264565,\n",
        "        0.3265142,  0.3267571,  0.3265885,  0.3312571,  0.3520284,\n",
        "        0.3729552,  0.3980377,  0.42248  ,  0.4454717,  0.4654125,\n",
        "        0.4907729,  0.521005 ,  0.5578333,  0.5960068,  0.6346634,\n",
        "        0.673836 ,  0.7122782,  0.7500079,  0.7893349,  0.831228 ,\n",
        "        0.8722977,  0.9047628,  0.9417201,  0.9793683,  1.013614 ,\n",
        "        1.048675 ,  1.081764 ,  1.114303 ,  1.146607 ,  1.176259 ,\n",
        "        1.206987 ,  1.237729 ,  1.26391  ,  1.291225 ,  1.318834 ,\n",
        "        1.342371 ,  1.36691  ,  1.390023 ,  1.414035 ,  1.440999 ,\n",
        "        1.467266 ,  1.489321 ,  1.51304  ,  1.533422 ,  1.552699 ,\n",
        "        1.573018 ,  1.58898  ,  1.607556 ,  1.62879  ,  1.646733 ,\n",
        "        1.666358 ,  1.6854   ,  1.701707 ,  1.720068 ,  1.737154 ])"
       ]
      }
     ],
     "prompt_number": 5
    },
    {
     "cell_type": "code",
     "collapsed": false,
     "input": [
      "np.round(94.6)"
     ],
     "language": "python",
     "metadata": {},
     "outputs": [
      {
       "output_type": "pyout",
       "prompt_number": 69,
       "text": [
        "95.0"
       ]
      }
     ],
     "prompt_number": 69
    },
    {
     "cell_type": "code",
     "collapsed": false,
     "input": [],
     "language": "python",
     "metadata": {},
     "outputs": []
    }
   ],
   "metadata": {}
  }
 ]
}