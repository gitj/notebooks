{
 "metadata": {
  "name": "",
  "signature": "sha256:8d1c991afd5329d97bfa66e5ff9d4f78598473c439431c5962b536b5bb64b770"
 },
 "nbformat": 3,
 "nbformat_minor": 0,
 "worksheets": [
  {
   "cells": [
    {
     "cell_type": "code",
     "collapsed": false,
     "input": [
      "run /home/gjones/kid_readout/kid_readout/analysis/time_constant_from_rtl.py"
     ],
     "language": "python",
     "metadata": {},
     "outputs": [],
     "prompt_number": 1
    },
    {
     "cell_type": "code",
     "collapsed": false,
     "input": [
      "import glob"
     ],
     "language": "python",
     "metadata": {},
     "outputs": [],
     "prompt_number": 2
    },
    {
     "cell_type": "code",
     "collapsed": false,
     "input": [
      "import kid_readout.utils.starcryo_temps"
     ],
     "language": "python",
     "metadata": {},
     "outputs": [
      {
       "output_type": "stream",
       "stream": "stdout",
       "text": [
        "updated file list\n"
       ]
      }
     ],
     "prompt_number": 3
    },
    {
     "cell_type": "code",
     "collapsed": false,
     "input": [
      "fns = glob.glob('/home/data2/rtl/2014*.npz')\n",
      "fns.sort()"
     ],
     "language": "python",
     "metadata": {},
     "outputs": [],
     "prompt_number": 4
    },
    {
     "cell_type": "code",
     "collapsed": false,
     "input": [
      "taus = []\n",
      "temps = []\n",
      "load1s = []\n",
      "load2s = []\n",
      "packgs = []\n",
      "for fn in fns:\n",
      "    tau,fit = get_time_constant_from_file(fn,debug=False,fine_fold=True,filter_cutoff=200e3)\n",
      "    d = np.load(fn)\n",
      "    packg,_,load1,load2 = kid_readout.utils.starcryo_temps.get_temperatures_at(d['time'][()])\n",
      "    print packg,load1,load2\n",
      "    temps.append(packg)\n",
      "    load1s.append(load1)\n",
      "    load2s.append(load2)\n",
      "    packgs.append(packg)\n",
      "    taus.append(tau)\n",
      "taus = np.array(taus)\n",
      "temps = np.array(temps)\n",
      "load1s = np.array(load1s)\n",
      "load2s = np.array(load2s)\n",
      "packgs = np.array(packgs)"
     ],
     "language": "python",
     "metadata": {},
     "outputs": [
      {
       "output_type": "stream",
       "stream": "stdout",
       "text": [
        "5366 5231 0.699481865285\n",
        "(0.994879297778-0.101070187751j)"
       ]
      },
      {
       "output_type": "stream",
       "stream": "stdout",
       "text": [
        "\n",
        "(0.999999940537-0.000344856178567j)\n",
        "initial guess: Parameters([('tau', <Parameter 'tau', 9.9990234375000009e-05, bounds=[0:0.099990234375000014]>), ('amp', <Parameter 'amp', 0.4959932775474461, bounds=[-0.50426242548107025:0.50426242548107025]>), ('offset', <Parameter 'offset', 0.0082812852057079899, bounds=[-0.50425028820898643:1.0085369882342243]>), ('t_on', <Parameter 't_on', 0.0025000000000000001, bounds=[0.0:0.0099990234375000007]>), ('t_rise', <Parameter 't_rise', 9.9990234375000015e-06, bounds=[0:0.099990234375000014]>)])\n",
        "0.183874129288"
       ]
      },
      {
       "output_type": "stream",
       "stream": "stdout",
       "text": [
        " 3.57042869558 6.184\n",
        "4302"
       ]
      },
      {
       "output_type": "stream",
       "stream": "stdout",
       "text": [
        " 4166 0.704663212435\n",
        "(0.999916841303-0.0128961419993j)"
       ]
      },
      {
       "output_type": "stream",
       "stream": "stdout",
       "text": [
        "\n",
        "(0.999999999162+4.09328710318e-05j)\n",
        "initial guess: Parameters([('tau', <Parameter 'tau', 9.9990234375000009e-05, bounds=[0:0.099990234375000014]>), ('amp', <Parameter 'amp', 0.56275093629815331, bounds=[-0.57277739813800344:0.57277739813800344]>), ('offset', <Parameter 'offset', 0.010040007479171982, bounds=[-0.57276385249868156:1.1455683419153289]>), ('t_on', <Parameter 't_on', 0.0025000000000000001, bounds=[0.0:0.0099990234375000007]>), ('t_rise', <Parameter 't_rise', 9.9990234375000015e-06, bounds=[0:0.099990234375000014]>)])\n",
        "0.155108453755"
       ]
      },
      {
       "output_type": "stream",
       "stream": "stdout",
       "text": [
        " 3.557 6.183\n",
        "2090"
       ]
      },
      {
       "output_type": "stream",
       "stream": "stdout",
       "text": [
        " 1953 0.709844559585\n",
        "(0.967272133124-0.253741247102j)"
       ]
      },
      {
       "output_type": "stream",
       "stream": "stdout",
       "text": [
        "\n",
        "(0.999999657157-0.000828061165266j)\n",
        "initial guess: Parameters([('tau', <Parameter 'tau', 9.9990234375000009e-05, bounds=[0:0.099990234375000014]>), ('amp', <Parameter 'amp', 0.34176912105422746, bounds=[-0.3465484742404375:0.3465484742404375]>), ('offset', <Parameter 'offset', 0.0047972790167300789, bounds=[-0.34653054840991743:0.69311487431139507]>), ('t_on', <Parameter 't_on', 0.0025000000000000001, bounds=[0.0:0.0099990234375000007]>), ('t_rise', <Parameter 't_rise', 9.9990234375000015e-06, bounds=[0:0.099990234375000014]>)])\n",
        "0.215797442876"
       ]
      },
      {
       "output_type": "stream",
       "stream": "stdout",
       "text": [
        " 3.455 6.175\n",
        "7098"
       ]
      },
      {
       "output_type": "stream",
       "stream": "stdout",
       "text": [
        " 6963 0.699481865285\n",
        "(0.951250556455-0.308419160956j)"
       ]
      },
      {
       "output_type": "stream",
       "stream": "stdout",
       "text": [
        "\n",
        "(0.999999587344-0.000908466583511j)\n",
        "initial guess: Parameters([('tau', <Parameter 'tau', 9.9990234375000009e-05, bounds=[0:0.099990234375000014]>), ('amp', <Parameter 'amp', 0.28121861830533473, bounds=[-0.28514856548471423:0.28514856548471423]>), ('offset', <Parameter 'offset', 0.0039414688630717903, bounds=[-0.28513704380102195:0.5703086526531207]>), ('t_on', <Parameter 't_on', 0.0025000000000000001, bounds=[0.0:0.0099990234375000007]>), ('t_rise', <Parameter 't_rise', 9.9990234375000015e-06, bounds=[0:0.099990234375000014]>)])\n",
        "0.250071252675"
       ]
      },
      {
       "output_type": "stream",
       "stream": "stdout",
       "text": [
        " 3.40259828062 6.169\n",
        "3174"
       ]
      },
      {
       "output_type": "stream",
       "stream": "stdout",
       "text": [
        " 3034 0.725388601036\n",
        "(0.948188094384-0.317709517748j)"
       ]
      },
      {
       "output_type": "stream",
       "stream": "stdout",
       "text": [
        "\n",
        "(0.999999573636-0.000923432366577j)\n",
        "initial guess: Parameters([('tau', <Parameter 'tau', 9.9990234375000009e-05, bounds=[0:0.099990234375000014]>), ('amp', <Parameter 'amp', 0.272940202692593, bounds=[-0.27668181341043463:0.27668181341043463]>), ('offset', <Parameter 'offset', 0.0037518790336845973, bounds=[-0.27667154509459163:0.5533738951367122]>), ('t_on', <Parameter 't_on', 0.0025000000000000001, bounds=[0.0:0.0099990234375000007]>), ('t_rise', <Parameter 't_rise', 9.9990234375000015e-06, bounds=[0:0.099990234375000014]>)])\n",
        "0.252637603227"
       ]
      },
      {
       "output_type": "stream",
       "stream": "stdout",
       "text": [
        " 3.382 6.153\n",
        "1783"
       ]
      },
      {
       "output_type": "stream",
       "stream": "stdout",
       "text": [
        " 1648 0.699481865285\n",
        "(0.987209964767+0.159425485616j)"
       ]
      },
      {
       "output_type": "stream",
       "stream": "stdout",
       "text": [
        "\n",
        "(0.999999898307+0.000450983481385j)\n",
        "initial guess: Parameters([('tau', <Parameter 'tau', 9.9990234375000009e-05, bounds=[0:0.099990234375000014]>), ('amp', <Parameter 'amp', 0.56197159773965455, bounds=[-0.56998933520501716:0.56998933520501716]>), ('offset', <Parameter 'offset', 0.0080248963709485619, bounds=[-0.56998217629943115:1.1399858293156204]>), ('t_on', <Parameter 't_on', 0.0025000000000000001, bounds=[0.0:0.0099990234375000007]>), ('t_rise', <Parameter 't_rise', 9.9990234375000015e-06, bounds=[0:0.099990234375000014]>)])\n",
        "0.286879266802"
       ]
      },
      {
       "output_type": "stream",
       "stream": "stdout",
       "text": [
        " 3.383 6.153\n",
        "8332"
       ]
      },
      {
       "output_type": "stream",
       "stream": "stdout",
       "text": [
        " 3700 24.0\n",
        "(0.991400748825+0.130860823893j)"
       ]
      },
      {
       "output_type": "stream",
       "stream": "stdout",
       "text": [
        "\n",
        "(0.992855269338+0.119324826199j)\n",
        "initial guess: Parameters([('tau', <Parameter 'tau', 9.9990234375000009e-05, bounds=[0:0.099990234375000014]>), ('amp', <Parameter 'amp', 0.0016796961941592465, bounds=[-0.0022720104868241705:0.0022720104868241705]>), ('offset', <Parameter 'offset', 0.00059339601248111038, bounds=[-0.0022709287670079842:0.0045451026934645276]>), ('t_on', <Parameter 't_on', 0.0025000000000000001, bounds=[0.0:0.0099990234375000007]>), ('t_rise', <Parameter 't_rise', 9.9990234375000015e-06, bounds=[0:0.099990234375000014]>)])\n",
        "0.755919176812"
       ]
      },
      {
       "output_type": "stream",
       "stream": "stdout",
       "text": [
        " 3.636 6.15833644562\n",
        "4525"
       ]
      },
      {
       "output_type": "stream",
       "stream": "stdout",
       "text": [
        " 4388 0.709844559585\n",
        "(0.942056670281-0.335453767276j)"
       ]
      },
      {
       "output_type": "stream",
       "stream": "stdout",
       "text": [
        "\n",
        "(0.999999464848-0.00103455489442j)\n",
        "initial guess: Parameters([('tau', <Parameter 'tau', 9.9990234375000009e-05, bounds=[0:0.099990234375000014]>), ('amp', <Parameter 'amp', 0.25274606971910651, bounds=[-0.25605669683304172:0.25605669683304172]>), ('offset', <Parameter 'offset', 0.0033182871565757611, bounds=[-0.25604903679040114:0.51212105370872396]>), ('t_on', <Parameter 't_on', 0.0025000000000000001, bounds=[0.0:0.0099990234375000007]>), ('t_rise', <Parameter 't_rise', 9.9990234375000015e-06, bounds=[0:0.099990234375000014]>)])\n",
        "0.230124843466"
       ]
      },
      {
       "output_type": "stream",
       "stream": "stdout",
       "text": [
        " 3.395 6.169\n",
        "2546"
       ]
      },
      {
       "output_type": "stream",
       "stream": "stdout",
       "text": [
        " 2409 0.709844559585\n",
        "(0.983111686604-0.183006589126j)"
       ]
      },
      {
       "output_type": "stream",
       "stream": "stdout",
       "text": [
        "\n",
        "(0.999999736627+0.000725772989448j)\n",
        "initial guess: Parameters([('tau', <Parameter 'tau', 9.9990234375000009e-05, bounds=[0:0.099990234375000014]>), ('amp', <Parameter 'amp', 0.37145337992162686, bounds=[-0.37845295223817804:0.37845295223817804]>), ('offset', <Parameter 'offset', 0.0070302860729792496, bounds=[-0.37842223848175:0.75693661823278413]>), ('t_on', <Parameter 't_on', 0.0025000000000000001, bounds=[0.0:0.0099990234375000007]>), ('t_rise', <Parameter 't_rise', 9.9990234375000015e-06, bounds=[0:0.099990234375000014]>)])\n",
        "0.281944156812"
       ]
      },
      {
       "output_type": "stream",
       "stream": "stdout",
       "text": [
        " 3.4116955358 6.191\n",
        "1654"
       ]
      },
      {
       "output_type": "stream",
       "stream": "stdout",
       "text": [
        " 1522 0.683937823834\n",
        "(0.999970443831+0.00768839800016j)"
       ]
      },
      {
       "output_type": "stream",
       "stream": "stdout",
       "text": [
        "\n",
        "(0.830548776217-0.556945895329j)\n",
        "initial guess: Parameters([('tau', <Parameter 'tau', 9.9990234375000009e-05, bounds=[0:0.099990234375000014]>), ('amp', <Parameter 'amp', 0.075693527237217242, bounds=[-0.078018709281976947:0.078018709281976947]>), ('offset', <Parameter 'offset', 0.0023407287665230345, bounds=[-0.078003162560213612:0.15605296528571722]>), ('t_on', <Parameter 't_on', 0.0025000000000000001, bounds=[0.0:0.0099990234375000007]>), ('t_rise', <Parameter 't_rise', 9.9990234375000015e-06, bounds=[0:0.099990234375000014]>)])\n",
        "0.283836694332 3.415 6.193\n",
        "6908"
       ]
      },
      {
       "output_type": "stream",
       "stream": "stdout",
       "text": [
        " 6776 0.683937823834\n",
        "(0.894387532593-0.447292903523j)"
       ]
      },
      {
       "output_type": "stream",
       "stream": "stdout",
       "text": [
        "\n",
        "(0.999975384003-0.00701650823324j)\n",
        "initial guess: Parameters([('tau', <Parameter 'tau', 9.9990234375000009e-05, bounds=[0:0.099990234375000014]>), ('amp', <Parameter 'amp', 0.12837189626612933, bounds=[-0.13117139674642792:0.13117139674642792]>), ('offset', <Parameter 'offset', 0.0028243003588205918, bounds=[-0.13114659686790592:0.26236759337137783]>), ('t_on', <Parameter 't_on', 0.0025000000000000001, bounds=[0.0:0.0099990234375000007]>), ('t_rise', <Parameter 't_rise', 9.9990234375000015e-06, bounds=[0:0.099990234375000014]>)])\n",
        "0.294184901952 3.486 6.218\n",
        "6140"
       ]
      },
      {
       "output_type": "stream",
       "stream": "stdout",
       "text": [
        " 6005 0.699481865285\n",
        "(0.998865977052+0.0476105018725j)\n",
        "(0.78575811337-0.618533901474j)"
       ]
      },
      {
       "output_type": "stream",
       "stream": "stdout",
       "text": [
        "\n",
        "initial guess: Parameters([('tau', <Parameter 'tau', 9.9990234375000009e-05, bounds=[0:0.099990234375000014]>), ('amp', <Parameter 'amp', 0.069184177084134449, bounds=[-0.071054766055905008:0.071054766055905008]>), ('offset', <Parameter 'offset', 0.0018844304263151326, bounds=[-0.071040924601360439:0.14212337356635457]>), ('t_on', <Parameter 't_on', 0.0025000000000000001, bounds=[0.0:0.0099990234375000007]>), ('t_rise', <Parameter 't_rise', 9.9990234375000015e-06, bounds=[0:0.099990234375000014]>)])\n",
        "0.192397865634 3.488 6.215\n",
        "5605"
       ]
      },
      {
       "output_type": "stream",
       "stream": "stdout",
       "text": [
        " 5470 0.699481865285\n",
        "(0.99999179087+0.00405193699049j)"
       ]
      },
      {
       "output_type": "stream",
       "stream": "stdout",
       "text": [
        "\n",
        "(0.99999999878+4.93977580961e-05j)\n",
        "initial guess: Parameters([('tau', <Parameter 'tau', 9.9990234375000009e-05, bounds=[0:0.099990234375000014]>), ('amp', <Parameter 'amp', 0.40163181983052376, bounds=[-0.40683051859276753:0.40683051859276753]>), ('offset', <Parameter 'offset', 0.0052542583218325514, bounds=[-0.40677495903317873:0.81371659674512387]>), ('t_on', <Parameter 't_on', 0.0025000000000000001, bounds=[0.0:0.0099990234375000007]>), ('t_rise', <Parameter 't_rise', 9.9990234375000015e-06, bounds=[0:0.099990234375000014]>)])\n",
        "0.304573280729"
       ]
      },
      {
       "output_type": "stream",
       "stream": "stdout",
       "text": [
        " 3.567 6.199\n",
        "6565"
       ]
      },
      {
       "output_type": "stream",
       "stream": "stdout",
       "text": [
        " 6429 0.704663212435\n",
        "(0.950028806966-0.312162242969j)"
       ]
      },
      {
       "output_type": "stream",
       "stream": "stdout",
       "text": [
        "\n",
        "(0.999994206033-0.00340410051918j)\n",
        "initial guess: Parameters([('tau', <Parameter 'tau', 9.9990234375000009e-05, bounds=[0:0.099990234375000014]>), ('amp', <Parameter 'amp', 0.32929617284355439, bounds=[-0.33374101542868007:0.33374101542868007]>), ('offset', <Parameter 'offset', 0.0044827695397372802, bounds=[-0.33370308847406849:0.66751995781197171]>), ('t_on', <Parameter 't_on', 0.0025000000000000001, bounds=[0.0:0.0099990234375000007]>), ('t_rise', <Parameter 't_rise', 9.9990234375000015e-06, bounds=[0:0.099990234375000014]>)])\n",
        "0.323555691907 3.571 6.196\n",
        "4740"
       ]
      },
      {
       "output_type": "stream",
       "stream": "stdout",
       "text": [
        " 4603 0.709844559585\n",
        "(0.916068530549+0.401021754195j)"
       ]
      },
      {
       "output_type": "stream",
       "stream": "stdout",
       "text": [
        "\n",
        "(0.999511942471+0.0312390277999j)\n",
        "initial guess: Parameters([('tau', <Parameter 'tau', 9.9990234375000009e-05, bounds=[0:0.099990234375000014]>), ('amp', <Parameter 'amp', 0.047308515393012188, bounds=[-0.048403085497965008:0.048403085497965008]>), ('offset', <Parameter 'offset', 0.0011059891800947832, bounds=[-0.048391666422823047:0.096817590071071977]>), ('t_on', <Parameter 't_on', 0.0025000000000000001, bounds=[0.0:0.0099990234375000007]>), ('t_rise', <Parameter 't_rise', 9.9990234375000015e-06, bounds=[0:0.099990234375000014]>)])\n",
        "0.344067842974"
       ]
      },
      {
       "output_type": "stream",
       "stream": "stdout",
       "text": [
        " 3.575 6.195\n",
        "3461"
       ]
      },
      {
       "output_type": "stream",
       "stream": "stdout",
       "text": [
        " 3324 0.709844559585\n",
        "(0.907910731885+0.419163575383j)"
       ]
      },
      {
       "output_type": "stream",
       "stream": "stdout",
       "text": [
        "\n",
        "(0.998786771304+0.0492441414547j)\n",
        "initial guess: Parameters([('tau', <Parameter 'tau', 9.9990234375000009e-05, bounds=[0:0.099990234375000014]>), ('amp', <Parameter 'amp', 0.039347410690723922, bounds=[-0.040468181454363587:0.040468181454363587]>), ('offset', <Parameter 'offset', 0.001128059985220546, bounds=[-0.040460892232782708:0.080943652130308047]>), ('t_on', <Parameter 't_on', 0.0025000000000000001, bounds=[0.0:0.0099990234375000007]>), ('t_rise', <Parameter 't_rise', 9.9990234375000015e-06, bounds=[0:0.099990234375000014]>)])\n",
        "0.347156305797"
       ]
      },
      {
       "output_type": "stream",
       "stream": "stdout",
       "text": [
        " 3.576 6.195\n",
        "3755"
       ]
      },
      {
       "output_type": "stream",
       "stream": "stdout",
       "text": [
        " 3621 0.694300518135\n",
        "(0.986457573074-0.164016634903j)"
       ]
      },
      {
       "output_type": "stream",
       "stream": "stdout",
       "text": [
        "\n",
        "(0.999986033084-0.005285228123j)\n",
        "initial guess: Parameters([('tau', <Parameter 'tau', 9.9990234375000009e-05, bounds=[0:0.099990234375000014]>), ('amp', <Parameter 'amp', 0.15236642143932777, bounds=[-0.15500627660758795:0.15500627660758795]>), ('offset', <Parameter 'offset', 0.0026819610578424666, bounds=[-0.15496417071800567:0.31005465910475816]>), ('t_on', <Parameter 't_on', 0.0025000000000000001, bounds=[0.0:0.0099990234375000007]>), ('t_rise', <Parameter 't_rise', 9.9990234375000015e-06, bounds=[0:0.099990234375000014]>)])\n",
        "0.35243892591"
       ]
      },
      {
       "output_type": "stream",
       "stream": "stdout",
       "text": [
        " 3.576 6.194\n",
        "7764"
       ]
      },
      {
       "output_type": "stream",
       "stream": "stdout",
       "text": [
        " 7628 0.704663212435\n",
        "(0.99989303909+0.0146256753156j)"
       ]
      },
      {
       "output_type": "stream",
       "stream": "stdout",
       "text": [
        "\n",
        "(0.999999862893+0.000523653773612j)\n",
        "initial guess: Parameters([('tau', <Parameter 'tau', 9.9990234375000009e-05, bounds=[0:0.099990234375000014]>), ('amp', <Parameter 'amp', 0.105092311426795, bounds=[-0.10701844201603231:0.10701844201603231]>), ('offset', <Parameter 'offset', 0.0019304581692883497, bounds=[-0.10701411443598127:0.21404121161211564]>), ('t_on', <Parameter 't_on', 0.0025000000000000001, bounds=[0.0:0.0099990234375000007]>), ('t_rise', <Parameter 't_rise', 9.9990234375000015e-06, bounds=[0:0.099990234375000014]>)])\n",
        "0.354780813173"
       ]
      },
      {
       "output_type": "stream",
       "stream": "stdout",
       "text": [
        " 3.577 6.195\n",
        "1062"
       ]
      },
      {
       "output_type": "stream",
       "stream": "stdout",
       "text": [
        " 927 0.699481865285\n",
        "(0.606404763467-0.795156124824j)"
       ]
      },
      {
       "output_type": "stream",
       "stream": "stdout",
       "text": [
        "\n",
        "(0.99922663801-0.0393208073622j)\n",
        "initial guess: Parameters([('tau', <Parameter 'tau', 9.9990234375000009e-05, bounds=[0:0.099990234375000014]>), ('amp', <Parameter 'amp', 0.31748585180404504, bounds=[-0.322547837576386:0.322547837576386]>), ('offset', <Parameter 'offset', 0.0051164902851504159, bounds=[-0.32249333306357653:0.64515017966558141]>), ('t_on', <Parameter 't_on', 0.0025000000000000001, bounds=[0.0:0.0099990234375000007]>), ('t_rise', <Parameter 't_rise', 9.9990234375000015e-06, bounds=[0:0.099990234375000014]>)])\n",
        "0.363289991872"
       ]
      },
      {
       "output_type": "stream",
       "stream": "stdout",
       "text": [
        " 3.57875676799 6.195\n",
        "5244"
       ]
      },
      {
       "output_type": "stream",
       "stream": "stdout",
       "text": [
        " 5109 0.699481865285\n",
        "(0.725986672266-0.687708769533j)"
       ]
      },
      {
       "output_type": "stream",
       "stream": "stdout",
       "text": [
        "\n",
        "(0.999590537022-0.0286139528088j)\n",
        "initial guess: Parameters([('tau', <Parameter 'tau', 9.9990234375000009e-05, bounds=[0:0.099990234375000014]>), ('amp', <Parameter 'amp', 0.27835932646438816, bounds=[-0.28280619813221297:0.28280619813221297]>), ('offset', <Parameter 'offset', 0.0044685298602541827, bounds=[-0.28278453993978359:0.56563405445685533]>), ('t_on', <Parameter 't_on', 0.0025000000000000001, bounds=[0.0:0.0099990234375000007]>), ('t_rise', <Parameter 't_rise', 9.9990234375000015e-06, bounds=[0:0.099990234375000014]>)])\n",
        "0.363648266726"
       ]
      },
      {
       "output_type": "stream",
       "stream": "stdout",
       "text": [
        " 3.579 6.195\n",
        "7108"
       ]
      },
      {
       "output_type": "stream",
       "stream": "stdout",
       "text": [
        " 6971 0.709844559585\n",
        "(0.878263285279-0.478177374759j)"
       ]
      },
      {
       "output_type": "stream",
       "stream": "stdout",
       "text": [
        "\n",
        "(0.99869604003-0.0510511471734j)\n",
        "initial guess: Parameters([('tau', <Parameter 'tau', 9.9990234375000009e-05, bounds=[0:0.099990234375000014]>), ('amp', <Parameter 'amp', 0.17099521508699608, bounds=[-0.17532598374012734:0.17532598374012734]>), ('offset', <Parameter 'offset', 0.0043478687138657889, bounds=[-0.17530888367939282:0.3506690675409892]>), ('t_on', <Parameter 't_on', 0.0025000000000000001, bounds=[0.0:0.0099990234375000007]>), ('t_rise', <Parameter 't_rise', 9.9990234375000015e-06, bounds=[0:0.099990234375000014]>)])\n",
        "0.373813296518"
       ]
      },
      {
       "output_type": "stream",
       "stream": "stdout",
       "text": [
        " 3.58 6.195\n",
        "846"
       ]
      },
      {
       "output_type": "stream",
       "stream": "stdout",
       "text": [
        " 711 0.699481865285\n",
        "(0.927982328841-0.372624203935j)"
       ]
      },
      {
       "output_type": "stream",
       "stream": "stdout",
       "text": [
        "\n",
        "(0.999331622246-0.0365555574323j)\n",
        "initial guess: Parameters([('tau', <Parameter 'tau', 9.9990234375000009e-05, bounds=[0:0.099990234375000014]>), ('amp', <Parameter 'amp', 0.14934259233965347, bounds=[-0.15299015196118654:0.15299015196118654]>), ('offset', <Parameter 'offset', 0.0036670584551529314, bounds=[-0.15297065312756666:0.30599980275599292]>), ('t_on', <Parameter 't_on', 0.0025000000000000001, bounds=[0.0:0.0099990234375000007]>), ('t_rise', <Parameter 't_rise', 9.9990234375000015e-06, bounds=[0:0.099990234375000014]>)])\n",
        "0.374276521552"
       ]
      },
      {
       "output_type": "stream",
       "stream": "stdout",
       "text": [
        " 3.58 6.195\n",
        "2150"
       ]
      },
      {
       "output_type": "stream",
       "stream": "stdout",
       "text": [
        " 3399 -6.47150259067\n",
        "(0.999999752543+0.000703500870629j)"
       ]
      },
      {
       "output_type": "stream",
       "stream": "stdout",
       "text": [
        "\n",
        "(0.999999774113+0.000672141343577j)\n",
        "initial guess: Parameters([('tau', <Parameter 'tau', 9.9990234375000009e-05, bounds=[0:0.099990234375000014]>), ('amp', <Parameter 'amp', 0.004475042410059556, bounds=[-0.0062976008734922963:0.0062976008734922963]>), ('offset', <Parameter 'offset', 0.0018409240981362616, bounds=[-0.0062792352387887745:0.012613567381688114]>), ('t_on', <Parameter 't_on', 0.0025000000000000001, bounds=[0.0:0.0099990234375000007]>), ('t_rise', <Parameter 't_rise', 9.9990234375000015e-06, bounds=[0:0.099990234375000014]>)])\n",
        "0.390076724963"
       ]
      },
      {
       "output_type": "stream",
       "stream": "stdout",
       "text": [
        " 3.583 6.194\n",
        "3499"
       ]
      },
      {
       "output_type": "stream",
       "stream": "stdout",
       "text": [
        " 3366 0.689119170984\n",
        "(0.999998923876+0.00146705411775j)"
       ]
      },
      {
       "output_type": "stream",
       "stream": "stdout",
       "text": [
        "\n",
        "(0.99999996394+0.00026855029753j)\n",
        "initial guess: Parameters([('tau', <Parameter 'tau', 9.9990234375000009e-05, bounds=[0:0.099990234375000014]>), ('amp', <Parameter 'amp', 0.056743780447521701, bounds=[-0.058847608853429607:0.058847608853429607]>), ('offset', <Parameter 'offset', 0.0021411218675425176, bounds=[-0.058810315391794994:0.11773251116849383]>), ('t_on', <Parameter 't_on', 0.0025000000000000001, bounds=[0.0:0.0099990234375000007]>), ('t_rise', <Parameter 't_rise', 9.9990234375000015e-06, bounds=[0:0.099990234375000014]>)])\n",
        "0.390734168413"
       ]
      },
      {
       "output_type": "stream",
       "stream": "stdout",
       "text": [
        " 3.583 6.194\n",
        "4821"
       ]
      },
      {
       "output_type": "stream",
       "stream": "stdout",
       "text": [
        " 551 22.1243523316\n",
        "(0.999289824831+0.0376808437891j)"
       ]
      },
      {
       "output_type": "stream",
       "stream": "stdout",
       "text": [
        "\n",
        "(0.999843895982-0.0176687200169j)\n",
        "initial guess: Parameters([('tau', <Parameter 'tau', 9.9990234375000009e-05, bounds=[0:0.099990234375000014]>), ('amp', <Parameter 'amp', 0.0027146995697088496, bounds=[-0.0038320579633299035:0.0038320579633299035]>), ('offset', <Parameter 'offset', 0.0011281353209801406, bounds=[-0.0038212810359708168:0.0076748928540188938]>), ('t_on', <Parameter 't_on', 0.0025000000000000001, bounds=[0.0:0.0099990234375000007]>), ('t_rise', <Parameter 't_rise', 9.9990234375000015e-06, bounds=[0:0.099990234375000014]>)])\n",
        "0.416693135691"
       ]
      },
      {
       "output_type": "stream",
       "stream": "stdout",
       "text": [
        " 3.587 6.193\n",
        "9933"
       ]
      },
      {
       "output_type": "stream",
       "stream": "stdout",
       "text": [
        " 4549 27.896373057\n",
        "(0.999673725563-0.0255429524191j)"
       ]
      },
      {
       "output_type": "stream",
       "stream": "stdout",
       "text": [
        "\n",
        "(0.999238529205+0.0390174544657j)\n",
        "initial guess: Parameters([('tau', <Parameter 'tau', 9.9990234375000009e-05, bounds=[0:0.099990234375000014]>), ('amp', <Parameter 'amp', 0.003435678966116705, bounds=[-0.0044455723677089345:0.0044455723677089345]>), ('offset', <Parameter 'offset', 0.0010302308958556891, bounds=[-0.0044252348734454749:0.0089114822296813279]>), ('t_on', <Parameter 't_on', 0.0025000000000000001, bounds=[0.0:0.0099990234375000007]>), ('t_rise', <Parameter 't_rise', 9.9990234375000015e-06, bounds=[0:0.099990234375000014]>)])\n",
        "0.416787587052"
       ]
      },
      {
       "output_type": "stream",
       "stream": "stdout",
       "text": [
        " 3.587 6.193\n",
        "3073"
       ]
      },
      {
       "output_type": "stream",
       "stream": "stdout",
       "text": [
        " 2935 0.715025906736\n",
        "(0.317691802421-0.948194030077j)"
       ]
      },
      {
       "output_type": "stream",
       "stream": "stdout",
       "text": [
        "\n",
        "(0.999989732095-0.00453163365487j)\n",
        "initial guess: Parameters([('tau', <Parameter 'tau', 9.9990234375000009e-05, bounds=[0:0.099990234375000014]>), ('amp', <Parameter 'amp', 1.2205974964420083, bounds=[-1.2383179238967434:1.2383179238967434]>), ('offset', <Parameter 'offset', 0.017740450704234245, bounds=[-1.2382979006472443:2.4766558710429862]>), ('t_on', <Parameter 't_on', 0.0025000000000000001, bounds=[0.0:0.0099990234375000007]>), ('t_rise', <Parameter 't_rise', 9.9990234375000015e-06, bounds=[0:0.099990234375000014]>)])\n",
        "0.184149110327"
       ]
      },
      {
       "output_type": "stream",
       "stream": "stdout",
       "text": [
        " 3.58440660901 6.177\n",
        "5530"
       ]
      },
      {
       "output_type": "stream",
       "stream": "stdout",
       "text": [
        " 5398 0.683937823834\n",
        "(0.0831896198305+0.996533736083j)"
       ]
      },
      {
       "output_type": "stream",
       "stream": "stdout",
       "text": [
        "\n",
        "(0.998945812431+0.0459049433785j)\n",
        "initial guess: Parameters([('tau', <Parameter 'tau', 9.9990234375000009e-05, bounds=[0:0.099990234375000014]>), ('amp', <Parameter 'amp', 1.2801857134878671, bounds=[-1.2995186135681516:1.2995186135681516]>), ('offset', <Parameter 'offset', 0.019494976734382476, bounds=[-1.2993565369140536:2.5991993037904013]>), ('t_on', <Parameter 't_on', 0.0025000000000000001, bounds=[0.0:0.0099990234375000007]>), ('t_rise', <Parameter 't_rise', 9.9990234375000015e-06, bounds=[0:0.099990234375000014]>)])\n",
        "0.183952533291"
       ]
      },
      {
       "output_type": "stream",
       "stream": "stdout",
       "text": [
        " 3.558 6.176\n",
        "2994"
       ]
      },
      {
       "output_type": "stream",
       "stream": "stdout",
       "text": [
        " 2856 0.715025906736\n",
        "(0.0981924331737+0.995167446246j)"
       ]
      },
      {
       "output_type": "stream",
       "stream": "stdout",
       "text": [
        "\n",
        "(0.998955037505+0.0457037530465j)\n",
        "initial guess: Parameters([('tau', <Parameter 'tau', 9.9990234375000009e-05, bounds=[0:0.099990234375000014]>), ('amp', <Parameter 'amp', 1.2934071076529912, bounds=[-1.3147782009965521:1.3147782009965521]>), ('offset', <Parameter 'offset', 0.021376179461354186, bounds=[-1.3147731148787587:2.6295614881108973]>), ('t_on', <Parameter 't_on', 0.0025000000000000001, bounds=[0.0:0.0099990234375000007]>), ('t_rise', <Parameter 't_rise', 9.9990234375000015e-06, bounds=[0:0.099990234375000014]>)])\n",
        "0.183854275999"
       ]
      },
      {
       "output_type": "stream",
       "stream": "stdout",
       "text": [
        " 3.545 6.177\n",
        "2339"
       ]
      },
      {
       "output_type": "stream",
       "stream": "stdout",
       "text": [
        " 2624 -1.47668393782\n",
        "(0.250114908156+0.96821616012j)"
       ]
      },
      {
       "output_type": "stream",
       "stream": "stdout",
       "text": [
        "\n",
        "(0.982883232008+0.184229618244j)\n",
        "initial guess: Parameters([('tau', <Parameter 'tau', 9.9990234375000009e-05, bounds=[0:0.099990234375000014]>), ('amp', <Parameter 'amp', 0.28130736471731588, bounds=[-0.30527621461350268:0.30527621461350268]>), ('offset', <Parameter 'offset', 0.023990017422639179, bounds=[-0.30525504708705031:0.61057359675345779]>), ('t_on', <Parameter 't_on', 0.0025000000000000001, bounds=[0.0:0.0099990234375000007]>), ('t_rise', <Parameter 't_rise', 9.9990234375000015e-06, bounds=[0:0.099990234375000014]>)])\n",
        "0.183691822837"
       ]
      },
      {
       "output_type": "stream",
       "stream": "stdout",
       "text": [
        " 3.53306041522 6.177\n",
        "2506"
       ]
      },
      {
       "output_type": "stream",
       "stream": "stdout",
       "text": [
        " 2372 0.694300518135\n",
        "(0.111750094097+0.993736341526j)"
       ]
      },
      {
       "output_type": "stream",
       "stream": "stdout",
       "text": [
        "\n",
        "(0.999743882229+0.0226311720049j)\n",
        "initial guess: Parameters([('tau', <Parameter 'tau', 9.9990234375000009e-05, bounds=[0:0.099990234375000014]>), ('amp', <Parameter 'amp', 1.2973511642528635, bounds=[-1.3186567738916595:1.3186567738916595]>), ('offset', <Parameter 'offset', 0.021332343281860046, bounds=[-1.3186300402485955:2.6373402814263827]>), ('t_on', <Parameter 't_on', 0.0025000000000000001, bounds=[0.0:0.0099990234375000007]>), ('t_rise', <Parameter 't_rise', 9.9990234375000015e-06, bounds=[0:0.099990234375000014]>)])\n",
        "0.183540484961"
       ]
      },
      {
       "output_type": "stream",
       "stream": "stdout",
       "text": [
        " 3.522 6.17640340099\n",
        "5633"
       ]
      },
      {
       "output_type": "stream",
       "stream": "stdout",
       "text": [
        " 5499 0.694300518135\n",
        "(0.164623869505+0.986356417118j)"
       ]
      },
      {
       "output_type": "stream",
       "stream": "stdout",
       "text": [
        "\n",
        "(0.99992618527+0.0121500622068j)\n",
        "initial guess: Parameters([('tau', <Parameter 'tau', 9.9990234375000009e-05, bounds=[0:0.099990234375000014]>), ('amp', <Parameter 'amp', 1.2924602934295772, bounds=[-1.3133236573202434:1.3133236573202434]>), ('offset', <Parameter 'offset', 0.020940425314932964, bounds=[-1.3132465958959765:2.6267243760647538]>), ('t_on', <Parameter 't_on', 0.0025000000000000001, bounds=[0.0:0.0099990234375000007]>), ('t_rise', <Parameter 't_rise', 9.9990234375000015e-06, bounds=[0:0.099990234375000014]>)])\n",
        "0.183351447928"
       ]
      },
      {
       "output_type": "stream",
       "stream": "stdout",
       "text": [
        " 3.512 6.177\n",
        "2536"
       ]
      },
      {
       "output_type": "stream",
       "stream": "stdout",
       "text": [
        " 2405 0.678756476684\n",
        "(0.21451242317+0.976721260292j)"
       ]
      },
      {
       "output_type": "stream",
       "stream": "stdout",
       "text": [
        "\n",
        "(0.999946988422+0.0102966181304j)\n",
        "initial guess: Parameters([('tau', <Parameter 'tau', 9.9990234375000009e-05, bounds=[0:0.099990234375000014]>), ('amp', <Parameter 'amp', 1.2728785126330961, bounds=[-1.2940186955009811:1.2940186955009811]>), ('offset', <Parameter 'offset', 0.021216237944453716, bounds=[-1.2939426404244123:2.5881134460785313]>), ('t_on', <Parameter 't_on', 0.0025000000000000001, bounds=[0.0:0.0099990234375000007]>), ('t_rise', <Parameter 't_rise', 9.9990234375000015e-06, bounds=[0:0.099990234375000014]>)])\n",
        "0.183324169752"
       ]
      },
      {
       "output_type": "stream",
       "stream": "stdout",
       "text": [
        " 3.502 6.177\n",
        "7744"
       ]
      },
      {
       "output_type": "stream",
       "stream": "stdout",
       "text": [
        " 7613 0.678756476684\n",
        "(0.206958071946+0.978349812928j)"
       ]
      },
      {
       "output_type": "stream",
       "stream": "stdout",
       "text": [
        "\n",
        "(0.999954473167+0.00954209588512j)\n",
        "initial guess: Parameters([('tau', <Parameter 'tau', 9.9990234375000009e-05, bounds=[0:0.099990234375000014]>), ('amp', <Parameter 'amp', 1.2595218690513499, bounds=[-1.2806027210572744:1.2806027210572744]>), ('offset', <Parameter 'offset', 0.021195005707897903, bounds=[-1.2804885673553008:2.5613195958165225]>), ('t_on', <Parameter 't_on', 0.0025000000000000001, bounds=[0.0:0.0099990234375000007]>), ('t_rise', <Parameter 't_rise', 9.9990234375000015e-06, bounds=[0:0.099990234375000014]>)])\n",
        "0.18333991063"
       ]
      },
      {
       "output_type": "stream",
       "stream": "stdout",
       "text": [
        " 3.493 6.177\n",
        "2702"
       ]
      },
      {
       "output_type": "stream",
       "stream": "stdout",
       "text": [
        " 2560 0.735751295337\n",
        "(0.223009319841+0.974816312576j)"
       ]
      },
      {
       "output_type": "stream",
       "stream": "stdout",
       "text": [
        "\n",
        "(0.999959385101+0.00901266605497j)\n",
        "initial guess: Parameters([('tau', <Parameter 'tau', 9.9990234375000009e-05, bounds=[0:0.099990234375000014]>), ('amp', <Parameter 'amp', 1.2808710382135544, bounds=[-1.3014983789726113:1.3014983789726113]>), ('offset', <Parameter 'offset', 0.020765617247273632, bounds=[-1.3013601024843946:2.6031350344334392]>), ('t_on', <Parameter 't_on', 0.0025000000000000001, bounds=[0.0:0.0099990234375000007]>), ('t_rise', <Parameter 't_rise', 9.9990234375000015e-06, bounds=[0:0.099990234375000014]>)])\n",
        "0.183258711195"
       ]
      },
      {
       "output_type": "stream",
       "stream": "stdout",
       "text": [
        " 3.485 6.178\n",
        "2203"
       ]
      },
      {
       "output_type": "stream",
       "stream": "stdout",
       "text": [
        " 2068 0.699481865285\n",
        "(0.364301655777-0.931281001416j)"
       ]
      },
      {
       "output_type": "stream",
       "stream": "stdout",
       "text": [
        "\n",
        "(0.999983093717-0.00581483281157j)\n",
        "initial guess: Parameters([('tau', <Parameter 'tau', 9.9990234375000009e-05, bounds=[0:0.099990234375000014]>), ('amp', <Parameter 'amp', 1.1963440810912005, bounds=[-1.2164855549618356:1.2164855549618356]>), ('offset', <Parameter 'offset', 0.020200955955207028, bounds=[-1.2164260728772638:2.4330305920082429]>), ('t_on', <Parameter 't_on', 0.0025000000000000001, bounds=[0.0:0.0099990234375000007]>), ('t_rise', <Parameter 't_rise', 9.9990234375000015e-06, bounds=[0:0.099990234375000014]>)])\n",
        "0.183351831587"
       ]
      },
      {
       "output_type": "stream",
       "stream": "stdout",
       "text": [
        " 3.477 6.178\n",
        "3570"
       ]
      },
      {
       "output_type": "stream",
       "stream": "stdout",
       "text": [
        " 3428 0.735751295337\n",
        "(0.305701012933-0.952127560095j)"
       ]
      },
      {
       "output_type": "stream",
       "stream": "stdout",
       "text": [
        "\n",
        "(0.999983676459-0.00571373918605j)\n",
        "initial guess: Parameters([('tau', <Parameter 'tau', 9.9990234375000009e-05, bounds=[0:0.099990234375000014]>), ('amp', <Parameter 'amp', 1.2070131362627288, bounds=[-1.2258803994805467:1.2258803994805467]>), ('offset', <Parameter 'offset', 0.018948966732913963, bounds=[-1.2257986959654508:2.4518425024761896]>), ('t_on', <Parameter 't_on', 0.0025000000000000001, bounds=[0.0:0.0099990234375000007]>), ('t_rise', <Parameter 't_rise', 9.9990234375000015e-06, bounds=[0:0.099990234375000014]>)])\n",
        "0.183066128801"
       ]
      },
      {
       "output_type": "stream",
       "stream": "stdout",
       "text": [
        " 3.47 6.1771519402\n",
        "3064"
       ]
      },
      {
       "output_type": "stream",
       "stream": "stdout",
       "text": [
        " 2926 0.715025906736\n",
        "(0.322034360142-0.946727981464j)"
       ]
      },
      {
       "output_type": "stream",
       "stream": "stdout",
       "text": [
        "\n",
        "(0.999980806284-0.00619572940876j)\n",
        "initial guess: Parameters([('tau', <Parameter 'tau', 9.9990234375000009e-05, bounds=[0:0.099990234375000014]>), ('amp', <Parameter 'amp', 1.2304891719381654, bounds=[-1.2498583365520681:1.2498583365520681]>), ('offset', <Parameter 'offset', 0.01945158979097978, bounds=[-1.2497759113749911:2.4997990982812133]>), ('t_on', <Parameter 't_on', 0.0025000000000000001, bounds=[0.0:0.0099990234375000007]>), ('t_rise', <Parameter 't_rise', 9.9990234375000015e-06, bounds=[0:0.099990234375000014]>)])\n",
        "0.183024146675 3.464 6.178\n",
        "4996"
       ]
      },
      {
       "output_type": "stream",
       "stream": "stdout",
       "text": [
        " 4862 0.694300518135\n",
        "(0.364529742592-0.931191745435j)"
       ]
      },
      {
       "output_type": "stream",
       "stream": "stdout",
       "text": [
        "\n",
        "(0.999986485339-0.00519895556652j)\n",
        "initial guess: Parameters([('tau', <Parameter 'tau', 9.9990234375000009e-05, bounds=[0:0.099990234375000014]>), ('amp', <Parameter 'amp', 1.1912253659872658, bounds=[-1.2101798330418443:1.2101798330418443]>), ('offset', <Parameter 'offset', 0.019068691219886441, bounds=[-1.2100656088765362:2.4204738902489966]>), ('t_on', <Parameter 't_on', 0.0025000000000000001, bounds=[0.0:0.0099990234375000007]>), ('t_rise', <Parameter 't_rise', 9.9990234375000015e-06, bounds=[0:0.099990234375000014]>)])\n",
        "0.183059019187"
       ]
      },
      {
       "output_type": "stream",
       "stream": "stdout",
       "text": [
        " 3.47616160402 6.178\n",
        "5168"
       ]
      },
      {
       "output_type": "stream",
       "stream": "stdout",
       "text": [
        " 5032 0.704663212435\n",
        "(0.350795942964-0.936451924233j)"
       ]
      },
      {
       "output_type": "stream",
       "stream": "stdout",
       "text": [
        "\n",
        "(0.999981957328-0.00600708065199j)\n",
        "initial guess: Parameters([('tau', <Parameter 'tau', 9.9990234375000009e-05, bounds=[0:0.099990234375000014]>), ('amp', <Parameter 'amp', 1.2141165702345971, bounds=[-1.2338174862831073:1.2338174862831073]>), ('offset', <Parameter 'offset', 0.019725935150612588, bounds=[-1.233792467181005:2.4676599916683166]>), ('t_on', <Parameter 't_on', 0.0025000000000000001, bounds=[0.0:0.0099990234375000007]>), ('t_rise', <Parameter 't_rise', 9.9990234375000015e-06, bounds=[0:0.099990234375000014]>)])\n",
        "0.183198923875"
       ]
      },
      {
       "output_type": "stream",
       "stream": "stdout",
       "text": [
        " 3.49663074059 6.179\n",
        "5906"
       ]
      },
      {
       "output_type": "stream",
       "stream": "stdout",
       "text": [
        " 5774 0.683937823834\n",
        "(0.259592684577+0.965718198086j)"
       ]
      },
      {
       "output_type": "stream",
       "stream": "stdout",
       "text": [
        "\n",
        "(0.999967764469+0.00802932267665j)\n",
        "initial guess: Parameters([('tau', <Parameter 'tau', 9.9990234375000009e-05, bounds=[0:0.099990234375000014]>), ('amp', <Parameter 'amp', 1.277299175587632, bounds=[-1.2985346189827109:1.2985346189827109]>), ('offset', <Parameter 'offset', 0.021266310550256157, bounds=[-1.2985037518275337:2.5971001051205991]>), ('t_on', <Parameter 't_on', 0.0025000000000000001, bounds=[0.0:0.0099990234375000007]>), ('t_rise', <Parameter 't_rise', 9.9990234375000015e-06, bounds=[0:0.099990234375000014]>)])\n",
        "0.182958236826"
       ]
      },
      {
       "output_type": "stream",
       "stream": "stdout",
       "text": [
        " 3.515133991 6.179\n",
        "6728"
       ]
      },
      {
       "output_type": "stream",
       "stream": "stdout",
       "text": [
        " 6592 0.704663212435\n",
        "(0.15905222791+0.987270170114j)"
       ]
      },
      {
       "output_type": "stream",
       "stream": "stdout",
       "text": [
        "\n",
        "(0.999917581745+0.0128386026352j)\n",
        "initial guess: Parameters([('tau', <Parameter 'tau', 9.9990234375000009e-05, bounds=[0:0.099990234375000014]>), ('amp', <Parameter 'amp', 1.2931102497634188, bounds=[-1.3139313750392545:1.3139313750392545]>), ('offset', <Parameter 'offset', 0.020909836148867871, bounds=[-1.3138426641662224:2.6279514609515413]>), ('t_on', <Parameter 't_on', 0.0025000000000000001, bounds=[0.0:0.0099990234375000007]>), ('t_rise', <Parameter 't_rise', 9.9990234375000015e-06, bounds=[0:0.099990234375000014]>)])\n",
        "0.183061832285"
       ]
      },
      {
       "output_type": "stream",
       "stream": "stdout",
       "text": [
        " 3.53263954501 6.179\n",
        "2353"
       ]
      },
      {
       "output_type": "stream",
       "stream": "stdout",
       "text": [
        " 2218 0.699481865285\n",
        "(0.094576781577+0.995517570104j)"
       ]
      },
      {
       "output_type": "stream",
       "stream": "stdout",
       "text": [
        "\n",
        "(0.998504641555+0.0546669991217j)\n",
        "initial guess: Parameters([('tau', <Parameter 'tau', 9.9990234375000009e-05, bounds=[0:0.099990234375000014]>), ('amp', <Parameter 'amp', 1.3050689601455505, bounds=[-1.3259658355478723:1.3259658355478723]>), ('offset', <Parameter 'offset', 0.021007798743723879, bounds=[-1.3258549122064702:2.6520425944371464]>), ('t_on', <Parameter 't_on', 0.0025000000000000001, bounds=[0.0:0.0099990234375000007]>), ('t_rise', <Parameter 't_rise', 9.9990234375000015e-06, bounds=[0:0.099990234375000014]>)])\n",
        "0.182774009325"
       ]
      },
      {
       "output_type": "stream",
       "stream": "stdout",
       "text": [
        " 3.549 6.179\n",
        "4782"
       ]
      },
      {
       "output_type": "stream",
       "stream": "stdout",
       "text": [
        " 4644 0.715025906736\n",
        "(0.137084444066+0.990559364801j)"
       ]
      },
      {
       "output_type": "stream",
       "stream": "stdout",
       "text": [
        "\n",
        "(0.999813090912+0.0193334746225j)\n",
        "initial guess: Parameters([('tau', <Parameter 'tau', 9.9990234375000009e-05, bounds=[0:0.099990234375000014]>), ('amp', <Parameter 'amp', 1.2943086765663825, bounds=[-1.3156439192066445:1.3156439192066445]>), ('offset', <Parameter 'offset', 0.021469452629543705, bounds=[-1.3155097092173627:2.6314220484025705]>), ('t_on', <Parameter 't_on', 0.0025000000000000001, bounds=[0.0:0.0099990234375000007]>), ('t_rise', <Parameter 't_rise', 9.9990234375000015e-06, bounds=[0:0.099990234375000014]>)])\n",
        "0.182896796513"
       ]
      },
      {
       "output_type": "stream",
       "stream": "stdout",
       "text": [
        " 3.564 6.179\n",
        "1975"
       ]
      },
      {
       "output_type": "stream",
       "stream": "stdout",
       "text": [
        " 1840 0.699481865285\n",
        "(0.119727093037+0.992806840827j)"
       ]
      },
      {
       "output_type": "stream",
       "stream": "stdout",
       "text": [
        "\n",
        "(0.999788611977+0.0205604319235j)\n",
        "initial guess: Parameters([('tau', <Parameter 'tau', 9.9990234375000009e-05, bounds=[0:0.099990234375000014]>), ('amp', <Parameter 'amp', 1.3019274263100811, bounds=[-1.3227907025355679:1.3227907025355679]>), ('offset', <Parameter 'offset', 0.02089870166795841, bounds=[-1.3227552770930961:2.6456168305136076]>), ('t_on', <Parameter 't_on', 0.0025000000000000001, bounds=[0.0:0.0099990234375000007]>), ('t_rise', <Parameter 't_rise', 9.9990234375000015e-06, bounds=[0:0.099990234375000014]>)])\n",
        "0.182900990253"
       ]
      },
      {
       "output_type": "stream",
       "stream": "stdout",
       "text": [
        " 3.578 6.179\n",
        "2366"
       ]
      },
      {
       "output_type": "stream",
       "stream": "stdout",
       "text": [
        " 2225 0.730569948187\n",
        "(0.0954657769896+0.995432712655j)"
       ]
      },
      {
       "output_type": "stream",
       "stream": "stdout",
       "text": [
        "\n",
        "(0.999166244115+0.0408266655633j)\n",
        "initial guess: Parameters([('tau', <Parameter 'tau', 9.9990234375000009e-05, bounds=[0:0.099990234375000014]>), ('amp', <Parameter 'amp', 1.2843346820917425, bounds=[-1.3050684509667014:1.3050684509667014]>), ('offset', <Parameter 'offset', 0.020791890860558715, bounds=[-1.3050103289811017:2.6101950239190028]>), ('t_on', <Parameter 't_on', 0.0025000000000000001, bounds=[0.0:0.0099990234375000007]>), ('t_rise', <Parameter 't_rise', 9.9990234375000015e-06, bounds=[0:0.099990234375000014]>)])\n",
        "0.182912793236"
       ]
      },
      {
       "output_type": "stream",
       "stream": "stdout",
       "text": [
        " 3.59061978722 6.18\n",
        "5812"
       ]
      },
      {
       "output_type": "stream",
       "stream": "stdout",
       "text": [
        " 5673 0.720207253886\n",
        "(0.0915030573019+0.995804795381j)"
       ]
      },
      {
       "output_type": "stream",
       "stream": "stdout",
       "text": [
        "\n",
        "(0.998874465217+0.0474320855175j)\n",
        "initial guess: Parameters([('tau', <Parameter 'tau', 9.9990234375000009e-05, bounds=[0:0.099990234375000014]>), ('amp', <Parameter 'amp', 1.2807667913666032, bounds=[-1.3011366562992206:1.3011366562992206]>), ('offset', <Parameter 'offset', 0.020556591956667543, bounds=[-1.3009499292751705:2.6024600396224913]>), ('t_on', <Parameter 't_on', 0.0025000000000000001, bounds=[0.0:0.0099990234375000007]>), ('t_rise', <Parameter 't_rise', 9.9990234375000015e-06, bounds=[0:0.099990234375000014]>)])\n",
        "0.182814682616"
       ]
      },
      {
       "output_type": "stream",
       "stream": "stdout",
       "text": [
        " 3.60213186002 6.18\n",
        "6073"
       ]
      },
      {
       "output_type": "stream",
       "stream": "stdout",
       "text": [
        " 5934 0.720207253886\n",
        "(0.202362131504-0.979310761573j)"
       ]
      },
      {
       "output_type": "stream",
       "stream": "stdout",
       "text": [
        "\n",
        "(0.981721865316-0.190321252517j)\n",
        "initial guess: Parameters([('tau', <Parameter 'tau', 9.9990234375000009e-05, bounds=[0:0.099990234375000014]>), ('amp', <Parameter 'amp', 1.3013951682882614, bounds=[-1.3222780416930058:1.3222780416930058]>), ('offset', <Parameter 'offset', 0.021009484719609631, bounds=[-1.3221514303781405:2.6446826947008768]>), ('t_on', <Parameter 't_on', 0.0025000000000000001, bounds=[0.0:0.0099990234375000007]>), ('t_rise', <Parameter 't_rise', 9.9990234375000015e-06, bounds=[0:0.099990234375000014]>)])\n",
        "0.183004733025"
       ]
      },
      {
       "output_type": "stream",
       "stream": "stdout",
       "text": [
        " 3.61363972301 6.179\n",
        "2522"
       ]
      },
      {
       "output_type": "stream",
       "stream": "stdout",
       "text": [
        " 2386 0.704663212435\n",
        "(0.877427622453-0.47970904448j)"
       ]
      },
      {
       "output_type": "stream",
       "stream": "stdout",
       "text": [
        "\n",
        "(0.483897074509-0.87512491753j)\n",
        "initial guess: Parameters([('tau', <Parameter 'tau', 9.9990234375000009e-05, bounds=[0:0.099990234375000014]>), ('amp', <Parameter 'amp', 1.2914972824080595, bounds=[-1.3116353215638306:1.3116353215638306]>), ('offset', <Parameter 'offset', 0.020162579560615873, bounds=[-1.3116107811589857:2.6232951835325062]>), ('t_on', <Parameter 't_on', 0.0025000000000000001, bounds=[0.0:0.0099990234375000007]>), ('t_rise', <Parameter 't_rise', 9.9990234375000015e-06, bounds=[0:0.099990234375000014]>)])\n",
        "0.18293566201"
       ]
      },
      {
       "output_type": "stream",
       "stream": "stdout",
       "text": [
        " 3.624 6.179\n",
        "1987"
       ]
      },
      {
       "output_type": "stream",
       "stream": "stdout",
       "text": [
        " 1851 0.704663212435\n",
        "(0.100635106496-0.994923401745j)"
       ]
      },
      {
       "output_type": "stream",
       "stream": "stdout",
       "text": [
        "\n",
        "(0.998334945612-0.0576830683051j)\n",
        "initial guess: Parameters([('tau', <Parameter 'tau', 9.9990234375000009e-05, bounds=[0:0.099990234375000014]>), ('amp', <Parameter 'amp', 1.2802927531219386, bounds=[-1.3024981675013891:1.3024981675013891]>), ('offset', <Parameter 'offset', 0.022232144211644163, bounds=[-1.3024714376691955:2.6050230648349721]>), ('t_on', <Parameter 't_on', 0.0025000000000000001, bounds=[0.0:0.0099990234375000007]>), ('t_rise', <Parameter 't_rise', 9.9990234375000015e-06, bounds=[0:0.099990234375000014]>)])\n",
        "0.183067940149"
       ]
      },
      {
       "output_type": "stream",
       "stream": "stdout",
       "text": [
        " 3.633 6.179\n",
        "3874"
       ]
      },
      {
       "output_type": "stream",
       "stream": "stdout",
       "text": [
        " 3742 0.683937823834\n",
        "(0.163804965004-0.986492743734j)"
       ]
      },
      {
       "output_type": "stream",
       "stream": "stdout",
       "text": [
        "\n",
        "(0.999855415058-0.0170043811671j)\n",
        "initial guess: Parameters([('tau', <Parameter 'tau', 9.9990234375000009e-05, bounds=[0:0.099990234375000014]>), ('amp', <Parameter 'amp', 1.2577191119308229, bounds=[-1.2779523977457752:1.2779523977457752]>), ('offset', <Parameter 'offset', 0.020419267406445785, bounds=[-1.2777664161542817:2.5560907770830439]>), ('t_on', <Parameter 't_on', 0.0025000000000000001, bounds=[0.0:0.0099990234375000007]>), ('t_rise', <Parameter 't_rise', 9.9990234375000015e-06, bounds=[0:0.099990234375000014]>)])\n",
        "0.182781527524"
       ]
      },
      {
       "output_type": "stream",
       "stream": "stdout",
       "text": [
        " 3.642 6.179\n",
        "2546"
       ]
      },
      {
       "output_type": "stream",
       "stream": "stdout",
       "text": [
        " 2406 0.725388601036\n",
        "(0.203692779702-0.979034857141j)"
       ]
      },
      {
       "output_type": "stream",
       "stream": "stdout",
       "text": [
        "\n",
        "(0.999923500693-0.0123690243201j)\n",
        "initial guess: Parameters([('tau', <Parameter 'tau', 9.9990234375000009e-05, bounds=[0:0.099990234375000014]>), ('amp', <Parameter 'amp', 1.2493394049816513, bounds=[-1.2691389278123677:1.2691389278123677]>), ('offset', <Parameter 'offset', 0.019813540051100868, bounds=[-1.2691249105919833:2.5382918728451198]>), ('t_on', <Parameter 't_on', 0.0025000000000000001, bounds=[0.0:0.0099990234375000007]>), ('t_rise', <Parameter 't_rise', 9.9990234375000015e-06, bounds=[0:0.099990234375000014]>)])\n",
        "0.182864055704"
       ]
      },
      {
       "output_type": "stream",
       "stream": "stdout",
       "text": [
        " 3.65 6.179\n",
        "3616"
       ]
      },
      {
       "output_type": "stream",
       "stream": "stdout",
       "text": [
        " 3488 0.663212435233\n",
        "(0.250385833285-0.968146132818j)"
       ]
      },
      {
       "output_type": "stream",
       "stream": "stdout",
       "text": [
        "\n",
        "(0.999918403024-0.0127744782561j)\n",
        "initial guess: Parameters([('tau', <Parameter 'tau', 9.9990234375000009e-05, bounds=[0:0.099990234375000014]>), ('amp', <Parameter 'amp', 1.2052331211687328, bounds=[-1.2264392166242375:1.2264392166242375]>), ('offset', <Parameter 'offset', 0.021299719518860335, bounds=[-1.2263455925608819:2.4529720573118308]>), ('t_on', <Parameter 't_on', 0.0025000000000000001, bounds=[0.0:0.0099990234375000007]>), ('t_rise', <Parameter 't_rise', 9.9990234375000015e-06, bounds=[0:0.099990234375000014]>)])\n",
        "0.182776176683"
       ]
      },
      {
       "output_type": "stream",
       "stream": "stdout",
       "text": [
        " 3.658 6.18\n",
        "5680"
       ]
      },
      {
       "output_type": "stream",
       "stream": "stdout",
       "text": [
        " 5536 0.746113989637\n",
        "(0.208209011203-0.978084356103j)"
       ]
      },
      {
       "output_type": "stream",
       "stream": "stdout",
       "text": [
        "\n",
        "(0.999952960522-0.00969931663425j)\n",
        "initial guess: Parameters([('tau', <Parameter 'tau', 9.9990234375000009e-05, bounds=[0:0.099990234375000014]>), ('amp', <Parameter 'amp', 1.227215964982566, bounds=[-1.246587899102825:1.246587899102825]>), ('offset', <Parameter 'offset', 0.019532920181805496, bounds=[-1.2464269130412784:2.4933367842671963]>), ('t_on', <Parameter 't_on', 0.0025000000000000001, bounds=[0.0:0.0099990234375000007]>), ('t_rise', <Parameter 't_rise', 9.9990234375000015e-06, bounds=[0:0.099990234375000014]>)])\n",
        "0.182870555769"
       ]
      },
      {
       "output_type": "stream",
       "stream": "stdout",
       "text": [
        " 3.665 6.18\n",
        "7367"
       ]
      },
      {
       "output_type": "stream",
       "stream": "stdout",
       "text": [
        " 7225 0.735751295337\n",
        "(0.195762957447-0.980651245087j)"
       ]
      },
      {
       "output_type": "stream",
       "stream": "stdout",
       "text": [
        "\n",
        "(0.99991925136-0.0127079014443j)\n",
        "initial guess: Parameters([('tau', <Parameter 'tau', 9.9990234375000009e-05, bounds=[0:0.099990234375000014]>), ('amp', <Parameter 'amp', 1.2356355716429239, bounds=[-1.2558040469067302:1.2558040469067302]>), ('offset', <Parameter 'offset', 0.020279873568042693, bounds=[-1.2556926486024937:2.5117194921176971]>), ('t_on', <Parameter 't_on', 0.0025000000000000001, bounds=[0.0:0.0099990234375000007]>), ('t_rise', <Parameter 't_rise', 9.9990234375000015e-06, bounds=[0:0.099990234375000014]>)])\n",
        "0.182776199322"
       ]
      },
      {
       "output_type": "stream",
       "stream": "stdout",
       "text": [
        " 3.67216143322 6.18\n",
        "1835"
       ]
      },
      {
       "output_type": "stream",
       "stream": "stdout",
       "text": [
        " 1698 0.709844559585\n",
        "(0.264288928106-0.964443550697j)"
       ]
      },
      {
       "output_type": "stream",
       "stream": "stdout",
       "text": [
        "\n",
        "(0.999950064079-0.0099934652641j)\n",
        "initial guess: Parameters([('tau', <Parameter 'tau', 9.9990234375000009e-05, bounds=[0:0.099990234375000014]>), ('amp', <Parameter 'amp', 1.2409495466761573, bounds=[-1.2606071903776055:1.2606071903776055]>), ('offset', <Parameter 'offset', 0.019807347985637606, bounds=[-1.2604574860934161:2.5213640850394006]>), ('t_on', <Parameter 't_on', 0.0025000000000000001, bounds=[0.0:0.0099990234375000007]>), ('t_rise', <Parameter 't_rise', 9.9990234375000015e-06, bounds=[0:0.099990234375000014]>)])\n",
        "0.18281379941"
       ]
      },
      {
       "output_type": "stream",
       "stream": "stdout",
       "text": [
        " 3.67868557801 6.18\n",
        "1435"
       ]
      },
      {
       "output_type": "stream",
       "stream": "stdout",
       "text": [
        " 1298 0.709844559585\n",
        "(0.309595927908-0.95086821454j)"
       ]
      },
      {
       "output_type": "stream",
       "stream": "stdout",
       "text": [
        "\n",
        "(0.999978138509-0.00661229942694j)\n",
        "initial guess: Parameters([('tau', <Parameter 'tau', 9.9990234375000009e-05, bounds=[0:0.099990234375000014]>), ('amp', <Parameter 'amp', 1.2025204715536715, bounds=[-1.222245679799641:1.222245679799641]>), ('offset', <Parameter 'offset', 0.019844824680883392, bounds=[-1.2221260633647273:2.4446109760341956]>), ('t_on', <Parameter 't_on', 0.0025000000000000001, bounds=[0.0:0.0099990234375000007]>), ('t_rise', <Parameter 't_rise', 9.9990234375000015e-06, bounds=[0:0.099990234375000014]>)])\n",
        "0.182910553966"
       ]
      },
      {
       "output_type": "stream",
       "stream": "stdout",
       "text": [
        " 3.685 6.181\n",
        "4080"
       ]
      },
      {
       "output_type": "stream",
       "stream": "stdout",
       "text": [
        " 3934 0.756476683938\n",
        "(0.334284514639-0.942472208223j)"
       ]
      },
      {
       "output_type": "stream",
       "stream": "stdout",
       "text": [
        "\n",
        "(0.999966232617-0.00821788449095j)\n",
        "initial guess: Parameters([('tau', <Parameter 'tau', 9.9990234375000009e-05, bounds=[0:0.099990234375000014]>), ('amp', <Parameter 'amp', 1.1515007455462638, bounds=[-1.1710552606670686:1.1710552606670686]>), ('offset', <Parameter 'offset', 0.019678172143318594, bounds=[-1.1709316036445547:2.3422341783566507]>), ('t_on', <Parameter 't_on', 0.0025000000000000001, bounds=[0.0:0.0099990234375000007]>), ('t_rise', <Parameter 't_rise', 9.9990234375000015e-06, bounds=[0:0.099990234375000014]>)])\n",
        "0.18286869317"
       ]
      },
      {
       "output_type": "stream",
       "stream": "stdout",
       "text": [
        " 3.69 6.181\n",
        "3293"
       ]
      },
      {
       "output_type": "stream",
       "stream": "stdout",
       "text": [
        " 3156 0.709844559585\n",
        "(0.307613739956+0.951511317321j)"
       ]
      },
      {
       "output_type": "stream",
       "stream": "stdout",
       "text": [
        "\n",
        "(0.999976028729+0.0069240137708j)\n",
        "initial guess: Parameters([('tau', <Parameter 'tau', 9.9990234375000009e-05, bounds=[0:0.099990234375000014]>), ('amp', <Parameter 'amp', 1.260854448124157, bounds=[-1.2811757535701531:1.2811757535701531]>), ('offset', <Parameter 'offset', 0.020368197935314886, bounds=[-1.2811288610808342:2.5623983996296253]>), ('t_on', <Parameter 't_on', 0.0025000000000000001, bounds=[0.0:0.0099990234375000007]>), ('t_rise', <Parameter 't_rise', 9.9990234375000015e-06, bounds=[0:0.099990234375000014]>)])\n",
        "0.182834708902"
       ]
      },
      {
       "output_type": "stream",
       "stream": "stdout",
       "text": [
        " 3.696 6.181\n",
        "3162"
       ]
      },
      {
       "output_type": "stream",
       "stream": "stdout",
       "text": [
        " 3025 0.709844559585\n",
        "(0.34148424674-0.939887498176j)"
       ]
      },
      {
       "output_type": "stream",
       "stream": "stdout",
       "text": [
        "\n",
        "(0.999969871067-0.0077625355895j)\n",
        "initial guess: Parameters([('tau', <Parameter 'tau', 9.9990234375000009e-05, bounds=[0:0.099990234375000014]>), ('amp', <Parameter 'amp', 1.2054250600553686, bounds=[-1.2253494842537396:1.2253494842537396]>), ('offset', <Parameter 'offset', 0.02000337229071119, bounds=[-1.2252705361613994:2.4507779165998196]>), ('t_on', <Parameter 't_on', 0.0025000000000000001, bounds=[0.0:0.0099990234375000007]>), ('t_rise', <Parameter 't_rise', 9.9990234375000015e-06, bounds=[0:0.099990234375000014]>)])\n",
        "0.182845915332"
       ]
      },
      {
       "output_type": "stream",
       "stream": "stdout",
       "text": [
        " 3.701 6.181\n",
        "5240"
       ]
      },
      {
       "output_type": "stream",
       "stream": "stdout",
       "text": [
        " 5104 0.704663212435\n",
        "(0.374836709998-0.927090848212j)"
       ]
      },
      {
       "output_type": "stream",
       "stream": "stdout",
       "text": [
        "\n",
        "(0.999965687316-0.00828397190481j)\n",
        "initial guess: Parameters([('tau', <Parameter 'tau', 9.9990234375000009e-05, bounds=[0:0.099990234375000014]>), ('amp', <Parameter 'amp', 1.1817011748556618, bounds=[-1.2012673206933768:1.2012673206933768]>), ('offset', <Parameter 'offset', 0.019668612648219338, bounds=[-1.2011648538828725:2.4026371081972577]>), ('t_on', <Parameter 't_on', 0.0025000000000000001, bounds=[0.0:0.0099990234375000007]>), ('t_rise', <Parameter 't_rise', 9.9990234375000015e-06, bounds=[0:0.099990234375000014]>)])\n",
        "0.182674366764"
       ]
      },
      {
       "output_type": "stream",
       "stream": "stdout",
       "text": [
        " 3.70437077899 6.182\n",
        "4030"
       ]
      },
      {
       "output_type": "stream",
       "stream": "stdout",
       "text": [
        " 3888 0.735751295337\n",
        "(0.238576358086+0.97112374153j)"
       ]
      },
      {
       "output_type": "stream",
       "stream": "stdout",
       "text": [
        "\n",
        "(0.998331708903+0.0577390595587j)\n",
        "initial guess: Parameters([('tau', <Parameter 'tau', 9.9990234375000009e-05, bounds=[0:0.099990234375000014]>), ('amp', <Parameter 'amp', 1.2414427348590189, bounds=[-1.2766168625118215:1.2766168625118215]>), ('offset', <Parameter 'offset', 0.035788905379358936, bounds=[-1.2760020847852651:2.5538485027501991]>), ('t_on', <Parameter 't_on', 0.0025000000000000001, bounds=[0.0:0.0099990234375000007]>), ('t_rise', <Parameter 't_rise', 9.9990234375000015e-06, bounds=[0:0.099990234375000014]>)])\n",
        "0.182950436017"
       ]
      },
      {
       "output_type": "stream",
       "stream": "stdout",
       "text": [
        " 3.73775467086 6.181\n",
        "1946"
       ]
      },
      {
       "output_type": "stream",
       "stream": "stdout",
       "text": [
        " 1801 0.751295336788\n",
        "(0.97708450247+0.212851767748j)"
       ]
      },
      {
       "output_type": "stream",
       "stream": "stdout",
       "text": [
        "\n",
        "(0.229698773172+0.973261770339j)\n",
        "initial guess: Parameters([('tau', <Parameter 'tau', 9.9990234375000009e-05, bounds=[0:0.099990234375000014]>), ('amp', <Parameter 'amp', 1.2320018609849186, bounds=[-1.2538951810371719:1.2538951810371719]>), ('offset', <Parameter 'offset', 0.021970735060915458, bounds=[-1.2538177660285097:2.507867777083006]>), ('t_on', <Parameter 't_on', 0.0025000000000000001, bounds=[0.0:0.0099990234375000007]>), ('t_rise', <Parameter 't_rise', 9.9990234375000015e-06, bounds=[0:0.099990234375000014]>)])\n",
        "0.182891349656"
       ]
      },
      {
       "output_type": "stream",
       "stream": "stdout",
       "text": [
        " 3.80089955921 6.182\n",
        "2134"
       ]
      },
      {
       "output_type": "stream",
       "stream": "stdout",
       "text": [
        " 2102 0.165803108808\n",
        "(0.999978006745+0.00663219617137j)"
       ]
      },
      {
       "output_type": "stream",
       "stream": "stdout",
       "text": [
        "\n",
        "(0.476437817195+0.879208170086j)\n",
        "initial guess: Parameters([('tau', <Parameter 'tau', 9.9990234375000009e-05, bounds=[0:0.099990234375000014]>), ('amp', <Parameter 'amp', 0.70403441184324622, bounds=[-0.72305975284097013:0.72305975284097013]>), ('offset', <Parameter 'offset', 0.019069453142286041, bounds=[-0.723015640696408:1.4461636178265023]>), ('t_on', <Parameter 't_on', 0.0025000000000000001, bounds=[0.0:0.0099990234375000007]>), ('t_rise', <Parameter 't_rise', 9.9990234375000015e-06, bounds=[0:0.099990234375000014]>)])\n",
        "0.182932092824"
       ]
      },
      {
       "output_type": "stream",
       "stream": "stdout",
       "text": [
        " 3.85898505998 6.182\n",
        "3863"
       ]
      },
      {
       "output_type": "stream",
       "stream": "stdout",
       "text": [
        " 3724 0.720207253886\n",
        "(0.315962655365+0.948771627113j)"
       ]
      },
      {
       "output_type": "stream",
       "stream": "stdout",
       "text": [
        "\n",
        "(0.999977323229+0.00673446568505j)\n",
        "initial guess: Parameters([('tau', <Parameter 'tau', 9.9990234375000009e-05, bounds=[0:0.099990234375000014]>), ('amp', <Parameter 'amp', 1.2246569483489524, bounds=[-1.2433707284557032:1.2433707284557032]>), ('offset', <Parameter 'offset', 0.018751331703292243, bounds=[-1.2433331768591616:2.486779008507948]>), ('t_on', <Parameter 't_on', 0.0025000000000000001, bounds=[0.0:0.0099990234375000007]>), ('t_rise', <Parameter 't_rise', 9.9990234375000015e-06, bounds=[0:0.099990234375000014]>)])\n",
        "0.18302148581"
       ]
      },
      {
       "output_type": "stream",
       "stream": "stdout",
       "text": [
        " 3.912055968 6.183\n",
        "3667"
       ]
      },
      {
       "output_type": "stream",
       "stream": "stdout",
       "text": [
        " 3524 0.740932642487\n",
        "(0.202374642417+0.979308176269j)"
       ]
      },
      {
       "output_type": "stream",
       "stream": "stdout",
       "text": [
        "\n",
        "(0.999890619066+0.0147901962396j)\n",
        "initial guess: Parameters([('tau', <Parameter 'tau', 9.9990234375000009e-05, bounds=[0:0.099990234375000014]>), ('amp', <Parameter 'amp', 1.2419622510416635, bounds=[-1.2622034507044282:1.2622034507044282]>), ('offset', <Parameter 'offset', 0.020301587854016406, bounds=[-1.2621430625131764:2.5244672896001079]>), ('t_on', <Parameter 't_on', 0.0025000000000000001, bounds=[0.0:0.0099990234375000007]>), ('t_rise', <Parameter 't_rise', 9.9990234375000015e-06, bounds=[0:0.099990234375000014]>)])\n",
        "0.183161051672"
       ]
      },
      {
       "output_type": "stream",
       "stream": "stdout",
       "text": [
        " 3.96011886845 6.183\n",
        "3404"
       ]
      },
      {
       "output_type": "stream",
       "stream": "stdout",
       "text": [
        " 3263 0.730569948187\n",
        "(0.819066387937+0.573698746862j)"
       ]
      },
      {
       "output_type": "stream",
       "stream": "stdout",
       "text": [
        "\n",
        "(0.577694661675+0.816252949687j)\n",
        "initial guess: Parameters([('tau', <Parameter 'tau', 9.9990234375000009e-05, bounds=[0:0.099990234375000014]>), ('amp', <Parameter 'amp', 1.2435327679309618, bounds=[-1.2623158173007663:1.2623158173007663]>), ('offset', <Parameter 'offset', 0.0189781344467705, bounds=[-1.2621207322238002:2.5248267196784986]>), ('t_on', <Parameter 't_on', 0.0025000000000000001, bounds=[0.0:0.0099990234375000007]>), ('t_rise', <Parameter 't_rise', 9.9990234375000015e-06, bounds=[0:0.099990234375000014]>)])\n",
        "0.183055385304"
       ]
      },
      {
       "output_type": "stream",
       "stream": "stdout",
       "text": [
        " 4.00458983841 6.182\n",
        "7939"
       ]
      },
      {
       "output_type": "stream",
       "stream": "stdout",
       "text": [
        " 7805 0.694300518135\n",
        "(0.152498006014-0.98830377828j)"
       ]
      },
      {
       "output_type": "stream",
       "stream": "stdout",
       "text": [
        "\n",
        "(0.99972575666-0.0234181867537j)\n",
        "initial guess: Parameters([('tau', <Parameter 'tau', 9.9990234375000009e-05, bounds=[0:0.099990234375000014]>), ('amp', <Parameter 'amp', 1.2369445509530668, bounds=[-1.2566723692359969:1.2566723692359969]>), ('offset', <Parameter 'offset', 0.019933529511524158, bounds=[-1.2564666580074029:2.5135504497005878]>), ('t_on', <Parameter 't_on', 0.0025000000000000001, bounds=[0.0:0.0099990234375000007]>), ('t_rise', <Parameter 't_rise', 9.9990234375000015e-06, bounds=[0:0.099990234375000014]>)])\n",
        "0.183224591266"
       ]
      },
      {
       "output_type": "stream",
       "stream": "stdout",
       "text": [
        " 4.04523908043 6.183\n",
        "585"
       ]
      },
      {
       "output_type": "stream",
       "stream": "stdout",
       "text": [
        " 454 0.678756476684\n",
        "(0.255017899599-0.966936332384j)"
       ]
      },
      {
       "output_type": "stream",
       "stream": "stdout",
       "text": [
        "\n",
        "(0.99994261241-0.01071316418j)\n",
        "initial guess: Parameters([('tau', <Parameter 'tau', 9.9990234375000009e-05, bounds=[0:0.099990234375000014]>), ('amp', <Parameter 'amp', 1.1656650357096474, bounds=[-1.1837399456284479:1.1837399456284479]>), ('offset', <Parameter 'offset', 0.018165950297677355, bounds=[-1.1836489052495709:2.3675709316357727]>), ('t_on', <Parameter 't_on', 0.0025000000000000001, bounds=[0.0:0.0099990234375000007]>), ('t_rise', <Parameter 't_rise', 9.9990234375000015e-06, bounds=[0:0.099990234375000014]>)])\n",
        "0.183147876066"
       ]
      },
      {
       "output_type": "stream",
       "stream": "stdout",
       "text": [
        " 4.08266124182 6.183\n",
        "2576"
       ]
      },
      {
       "output_type": "stream",
       "stream": "stdout",
       "text": [
        " 2438 0.715025906736\n",
        "(0.310491410375-0.950576185313j)"
       ]
      },
      {
       "output_type": "stream",
       "stream": "stdout",
       "text": [
        "\n",
        "(0.999967158795-0.0081044019707j)\n",
        "initial guess: Parameters([('tau', <Parameter 'tau', 9.9990234375000009e-05, bounds=[0:0.099990234375000014]>), ('amp', <Parameter 'amp', 1.1799684142563367, bounds=[-1.1971533064212816:1.1971533064212816]>), ('offset', <Parameter 'offset', 0.017330005084044954, bounds=[-1.1970081935021815:2.3944517257616633]>), ('t_on', <Parameter 't_on', 0.0025000000000000001, bounds=[0.0:0.0099990234375000007]>), ('t_rise', <Parameter 't_rise', 9.9990234375000015e-06, bounds=[0:0.099990234375000014]>)])\n",
        "0.183000919375"
       ]
      },
      {
       "output_type": "stream",
       "stream": "stdout",
       "text": [
        " 4.12828777761 6.182\n",
        "3933"
       ]
      },
      {
       "output_type": "stream",
       "stream": "stdout",
       "text": [
        " 3797 0.704663212435\n",
        "(0.46638595547-0.884581336305j)"
       ]
      },
      {
       "output_type": "stream",
       "stream": "stdout",
       "text": [
        "\n",
        "(0.999984451848-0.00557638431175j)\n",
        "initial guess: Parameters([('tau', <Parameter 'tau', 9.9990234375000009e-05, bounds=[0:0.099990234375000014]>), ('amp', <Parameter 'amp', 1.0813037448615188, bounds=[-1.0974314527355051:1.0974314527355051]>), ('offset', <Parameter 'offset', 0.016175583952597605, bounds=[-1.0973835766568938:2.1949107815496216]>), ('t_on', <Parameter 't_on', 0.0025000000000000001, bounds=[0.0:0.0099990234375000007]>), ('t_rise', <Parameter 't_rise', 9.9990234375000015e-06, bounds=[0:0.099990234375000014]>)])\n",
        "0.183272560335"
       ]
      },
      {
       "output_type": "stream",
       "stream": "stdout",
       "text": [
        " 4.19577031755 6.182\n",
        "3111"
       ]
      },
      {
       "output_type": "stream",
       "stream": "stdout",
       "text": [
        " 2974 0.709844559585\n",
        "(0.588059121768-0.808817945712j)"
       ]
      },
      {
       "output_type": "stream",
       "stream": "stdout",
       "text": [
        "\n",
        "(0.999989376559-0.00460942172222j)\n",
        "initial guess: Parameters([('tau', <Parameter 'tau', 9.9990234375000009e-05, bounds=[0:0.099990234375000014]>), ('amp', <Parameter 'amp', 0.99418854373526966, bounds=[-1.0096908001843181:1.0096908001843181]>), ('offset', <Parameter 'offset', 0.01562531255755243, bounds=[-1.0095677440758142:2.0195046564771402]>), ('t_on', <Parameter 't_on', 0.0025000000000000001, bounds=[0.0:0.0099990234375000007]>), ('t_rise', <Parameter 't_rise', 9.9990234375000015e-06, bounds=[0:0.099990234375000014]>)])\n",
        "0.183274485192 4.25375721521 6.183\n",
        "807"
       ]
      },
      {
       "output_type": "stream",
       "stream": "stdout",
       "text": [
        " 669 0.715025906736\n",
        "(0.248957152301-0.968514499798j)"
       ]
      },
      {
       "output_type": "stream",
       "stream": "stdout",
       "text": [
        "\n",
        "(0.999792531761-0.0203689330772j)\n",
        "initial guess: Parameters([('tau', <Parameter 'tau', 9.9990234375000009e-05, bounds=[0:0.099990234375000014]>), ('amp', <Parameter 'amp', 1.1840666328251137, bounds=[-1.2038359732662054:1.2038359732662054]>), ('offset', <Parameter 'offset', 0.01981039483679253, bounds=[-1.2037949188705046:2.4077130009281116]>), ('t_on', <Parameter 't_on', 0.0025000000000000001, bounds=[0.0:0.0099990234375000007]>), ('t_rise', <Parameter 't_rise', 9.9990234375000015e-06, bounds=[0:0.099990234375000014]>)])\n",
        "0.183488924069"
       ]
      },
      {
       "output_type": "stream",
       "stream": "stdout",
       "text": [
        " 4.30534214401 6.182\n",
        "6208"
       ]
      },
      {
       "output_type": "stream",
       "stream": "stdout",
       "text": [
        " 6075 0.689119170984\n",
        "(0.390375715942-0.920655636165j)"
       ]
      },
      {
       "output_type": "stream",
       "stream": "stdout",
       "text": [
        "\n",
        "(0.999944252948-0.0105589297226j)\n",
        "initial guess: Parameters([('tau', <Parameter 'tau', 9.9990234375000009e-05, bounds=[0:0.099990234375000014]>), ('amp', <Parameter 'amp', 1.0901324661281413, bounds=[-1.109409296066411:1.109409296066411]>), ('offset', <Parameter 'offset', 0.019338145995456156, bounds=[-1.1093479800092245:2.2188799081900088]>), ('t_on', <Parameter 't_on', 0.0025000000000000001, bounds=[0.0:0.0099990234375000007]>), ('t_rise', <Parameter 't_rise', 9.9990234375000015e-06, bounds=[0:0.099990234375000014]>)])\n",
        "0.183280274305"
       ]
      },
      {
       "output_type": "stream",
       "stream": "stdout",
       "text": [
        " 4.3534349277 6.182\n",
        "1760"
       ]
      },
      {
       "output_type": "stream",
       "stream": "stdout",
       "text": [
        " 3617 -9.62176165803\n",
        "(0.991215196963+0.132258963063j)"
       ]
      },
      {
       "output_type": "stream",
       "stream": "stdout",
       "text": [
        "\n",
        "(0.996598407664+0.0824112482759j)\n",
        "initial guess: Parameters([('tau', <Parameter 'tau', 9.9990234375000009e-05, bounds=[0:0.099990234375000014]>), ('amp', <Parameter 'amp', 0.095852587948154225, bounds=[-0.13269089528599295:0.13269089528599295]>), ('offset', <Parameter 'offset', 0.037316436677577322, bounds=[-0.13221276594625436:0.26585991991172453]>), ('t_on', <Parameter 't_on', 0.0025000000000000001, bounds=[0.0:0.0099990234375000007]>), ('t_rise', <Parameter 't_rise', 9.9990234375000015e-06, bounds=[0:0.099990234375000014]>)])\n",
        "0.183693447108"
       ]
      },
      {
       "output_type": "stream",
       "stream": "stdout",
       "text": [
        " 4.39740310841 6.183\n",
        "1258"
       ]
      },
      {
       "output_type": "stream",
       "stream": "stdout",
       "text": [
        " 1119 0.720207253886\n",
        "(0.226419899088+0.974029788711j)"
       ]
      },
      {
       "output_type": "stream",
       "stream": "stdout",
       "text": [
        "\n",
        "(0.981328799206+0.192337692221j)\n",
        "initial guess: Parameters([('tau', <Parameter 'tau', 9.9990234375000009e-05, bounds=[0:0.099990234375000014]>), ('amp', <Parameter 'amp', 1.0483194334995556, bounds=[-1.0680937591330819:1.0680937591330819]>), ('offset', <Parameter 'offset', 0.019891907648034095, bounds=[-1.0679761771185741:2.1363051002806719]>), ('t_on', <Parameter 't_on', 0.0025000000000000001, bounds=[0.0:0.0099990234375000007]>), ('t_rise', <Parameter 't_rise', 9.9990234375000015e-06, bounds=[0:0.099990234375000014]>)])\n",
        "0.183376376838 4.44117533474 6.183\n",
        "7568"
       ]
      },
      {
       "output_type": "stream",
       "stream": "stdout",
       "text": [
        " 5476 10.8393782383\n",
        "(0.997972554034+0.0636457492281j)"
       ]
      },
      {
       "output_type": "stream",
       "stream": "stdout",
       "text": [
        "\n",
        "(0.793504561708+0.608564302723j)\n",
        "initial guess: Parameters([('tau', <Parameter 'tau', 9.9990234375000009e-05, bounds=[0:0.099990234375000014]>), ('amp', <Parameter 'amp', 0.0022150202791591462, bounds=[-0.0028249899769185434:0.0028249899769185434]>), ('offset', <Parameter 'offset', 0.00061710664698750944, bounds=[-0.0028178530276904315:0.0056571169030651992]>), ('t_on', <Parameter 't_on', 0.0025000000000000001, bounds=[0.0:0.0099990234375000007]>), ('t_rise', <Parameter 't_rise', 9.9990234375000015e-06, bounds=[0:0.099990234375000014]>)])\n",
        "0.183691375469"
       ]
      },
      {
       "output_type": "stream",
       "stream": "stdout",
       "text": [
        " 4.54996965416 6.184\n",
        "2195"
       ]
      },
      {
       "output_type": "stream",
       "stream": "stdout",
       "text": [
        " 2059 0.704663212435\n",
        "(0.218264241652-0.975889707301j)"
       ]
      },
      {
       "output_type": "stream",
       "stream": "stdout",
       "text": [
        "\n",
        "(0.979850064808-0.199734449946j)\n",
        "initial guess: Parameters([('tau', <Parameter 'tau', 9.9990234375000009e-05, bounds=[0:0.099990234375000014]>), ('amp', <Parameter 'amp', 1.7286035164017266, bounds=[-1.7554536152037401:1.7554536152037401]>), ('offset', <Parameter 'offset', 0.026954470740215786, bounds=[-1.7553492432655378:3.5110116023456825]>), ('t_on', <Parameter 't_on', 0.0025000000000000001, bounds=[0.0:0.0099990234375000007]>), ('t_rise', <Parameter 't_rise', 9.9990234375000015e-06, bounds=[0:0.099990234375000014]>)])\n",
        "0.18389173485"
       ]
      },
      {
       "output_type": "stream",
       "stream": "stdout",
       "text": [
        " 4.77492592053 6.184\n",
        "4502"
       ]
      },
      {
       "output_type": "stream",
       "stream": "stdout",
       "text": [
        " 4363 0.720207253886\n",
        "(0.40621574923-0.913777196628j)"
       ]
      },
      {
       "output_type": "stream",
       "stream": "stdout",
       "text": [
        "\n",
        "(0.999929767146-0.0118516148541j)\n",
        "initial guess: Parameters([('tau', <Parameter 'tau', 9.9990234375000009e-05, bounds=[0:0.099990234375000014]>), ('amp', <Parameter 'amp', 1.5080559309959647, bounds=[-1.5311738874068599:1.5311738874068599]>), ('offset', <Parameter 'offset', 0.023287156315051523, bounds=[-1.5310046875027035:3.0625169747178762]>), ('t_on', <Parameter 't_on', 0.0025000000000000001, bounds=[0.0:0.0099990234375000007]>), ('t_rise', <Parameter 't_rise', 9.9990234375000015e-06, bounds=[0:0.099990234375000014]>)])\n",
        "0.184094125202 5.09200552692 6.184\n",
        "878"
       ]
      },
      {
       "output_type": "stream",
       "stream": "stdout",
       "text": [
        " 741 0.709844559585\n",
        "(0.400339711787-0.91636680165j)"
       ]
      },
      {
       "output_type": "stream",
       "stream": "stdout",
       "text": [
        "\n",
        "(0.999516019908-0.0311082938678j)\n",
        "initial guess: Parameters([('tau', <Parameter 'tau', 9.9990234375000009e-05, bounds=[0:0.099990234375000014]>), ('amp', <Parameter 'amp', 1.4573435839213462, bounds=[-1.4885790074819227:1.4885790074819227]>), ('offset', <Parameter 'offset', 0.031596919278530748, bounds=[-1.4882175117639684:2.9775195106818]>), ('t_on', <Parameter 't_on', 0.0025000000000000001, bounds=[0.0:0.0099990234375000007]>), ('t_rise', <Parameter 't_rise', 9.9990234375000015e-06, bounds=[0:0.099990234375000014]>)])\n",
        "0.184280451493"
       ]
      },
      {
       "output_type": "stream",
       "stream": "stdout",
       "text": [
        " 5.42954584498 6.185776895\n",
        "3208"
       ]
      },
      {
       "output_type": "stream",
       "stream": "stdout",
       "text": [
        " 3070 0.715025906736\n",
        "(0.178147552715-0.984003785288j)"
       ]
      },
      {
       "output_type": "stream",
       "stream": "stdout",
       "text": [
        "\n",
        "(0.999294482393-0.0375571226048j)\n",
        "initial guess: Parameters([('tau', <Parameter 'tau', 9.9990234375000009e-05, bounds=[0:0.099990234375000014]>), ('amp', <Parameter 'amp', 1.4979462121693237, bounds=[-1.5187694458079444:1.5187694458079444]>), ('offset', <Parameter 'offset', 0.021033793812980265, bounds=[-1.5185588856335848:3.0377494517902486]>), ('t_on', <Parameter 't_on', 0.0025000000000000001, bounds=[0.0:0.0099990234375000007]>), ('t_rise', <Parameter 't_rise', 9.9990234375000015e-06, bounds=[0:0.099990234375000014]>)])\n",
        "0.184623463477 5.71495084791 6.186\n",
        "7478"
       ]
      },
      {
       "output_type": "stream",
       "stream": "stdout",
       "text": [
        " 7341 0.709844559585\n",
        "(0.194667334611+0.980869323017j)"
       ]
      },
      {
       "output_type": "stream",
       "stream": "stdout",
       "text": [
        "\n",
        "(0.999734398822+0.0230462971538j)\n",
        "initial guess: Parameters([('tau', <Parameter 'tau', 9.9990234375000009e-05, bounds=[0:0.099990234375000014]>), ('amp', <Parameter 'amp', 1.4327653420067468, bounds=[-1.4518725885997952:1.4518725885997952]>), ('offset', <Parameter 'offset', 0.019233855276440247, bounds=[-1.4517459799164034:2.9038717858829823]>), ('t_on', <Parameter 't_on', 0.0025000000000000001, bounds=[0.0:0.0099990234375000007]>), ('t_rise', <Parameter 't_rise', 9.9990234375000015e-06, bounds=[0:0.099990234375000014]>)])\n",
        "0.184721611427"
       ]
      },
      {
       "output_type": "stream",
       "stream": "stdout",
       "text": [
        " 5.95896077428 6.186\n",
        "1941"
       ]
      },
      {
       "output_type": "stream",
       "stream": "stdout",
       "text": [
        " 1804 0.709844559585\n",
        "(0.119875029095-0.992788989363j)"
       ]
      },
      {
       "output_type": "stream",
       "stream": "stdout",
       "text": [
        "\n",
        "(0.998194828338-0.0600590099754j)\n",
        "initial guess: Parameters([('tau', <Parameter 'tau', 9.9990234375000009e-05, bounds=[0:0.099990234375000014]>), ('amp', <Parameter 'amp', 1.4227745125930162, bounds=[-1.4402900753243031:1.4402900753243031]>), ('offset', <Parameter 'offset', 0.017658013105463558, bounds=[-1.4401476249501264:2.8807226010227831]>), ('t_on', <Parameter 't_on', 0.0025000000000000001, bounds=[0.0:0.0099990234375000007]>), ('t_rise', <Parameter 't_rise', 9.9990234375000015e-06, bounds=[0:0.099990234375000014]>)])\n",
        "0.185011926118"
       ]
      },
      {
       "output_type": "stream",
       "stream": "stdout",
       "text": [
        " 6.17031365747 6.187\n",
        "2141"
       ]
      },
      {
       "output_type": "stream",
       "stream": "stdout",
       "text": [
        " 2006 0.699481865285\n",
        "(0.231054682228-0.972940765833j)"
       ]
      },
      {
       "output_type": "stream",
       "stream": "stdout",
       "text": [
        "\n",
        "(0.999882813269-0.0153088121523j)\n",
        "initial guess: Parameters([('tau', <Parameter 'tau', 9.9990234375000009e-05, bounds=[0:0.099990234375000014]>), ('amp', <Parameter 'amp', 1.3682628070808769, bounds=[-1.3842759040302748:1.3842759040302748]>), ('offset', <Parameter 'offset', 0.016053857801812343, bounds=[-1.3842351431778603:2.7685925689129638]>), ('t_on', <Parameter 't_on', 0.0025000000000000001, bounds=[0.0:0.0099990234375000007]>), ('t_rise', <Parameter 't_rise', 9.9990234375000015e-06, bounds=[0:0.099990234375000014]>)])\n",
        "0.185212932037"
       ]
      },
      {
       "output_type": "stream",
       "stream": "stdout",
       "text": [
        " 6.35615706897 6.187\n",
        "2673"
       ]
      },
      {
       "output_type": "stream",
       "stream": "stdout",
       "text": [
        " 2536 0.709844559585\n",
        "(0.274111153335+0.961698016852j)"
       ]
      },
      {
       "output_type": "stream",
       "stream": "stdout",
       "text": [
        "\n",
        "(0.96686424204+0.255291083793j)\n",
        "initial guess: Parameters([('tau', <Parameter 'tau', 9.9990234375000009e-05, bounds=[0:0.099990234375000014]>), ('amp', <Parameter 'amp', 1.3640178938597289, bounds=[-1.3821708937855282:1.3821708937855282]>), ('offset', <Parameter 'offset', 0.018172838300465208, bounds=[-1.3821510554108623:2.764361625945722]>), ('t_on', <Parameter 't_on', 0.0025000000000000001, bounds=[0.0:0.0099990234375000007]>), ('t_rise', <Parameter 't_rise', 9.9990234375000015e-06, bounds=[0:0.099990234375000014]>)])\n",
        "0.185627766991"
       ]
      },
      {
       "output_type": "stream",
       "stream": "stdout",
       "text": [
        " 6.60614919945 6.188\n",
        "3529"
       ]
      },
      {
       "output_type": "stream",
       "stream": "stdout",
       "text": [
        " 3392 0.709844559585\n",
        "(0.180628721849+0.983551353435j)"
       ]
      },
      {
       "output_type": "stream",
       "stream": "stdout",
       "text": [
        "\n",
        "(0.990430255187+0.138014164529j)\n",
        "initial guess: Parameters([('tau', <Parameter 'tau', 9.9990234375000009e-05, bounds=[0:0.099990234375000014]>), ('amp', <Parameter 'amp', 1.3152500174608779, bounds=[-1.332981764127982:1.332981764127982]>), ('offset', <Parameter 'offset', 0.017773522290885014, bounds=[-1.332939988504201:2.6660053038797447]>), ('t_on', <Parameter 't_on', 0.0025000000000000001, bounds=[0.0:0.0099990234375000007]>), ('t_rise', <Parameter 't_rise', 9.9990234375000015e-06, bounds=[0:0.099990234375000014]>)])\n",
        "0.186233918172"
       ]
      },
      {
       "output_type": "stream",
       "stream": "stdout",
       "text": [
        " 6.9395452168 6.188\n",
        "2311"
       ]
      },
      {
       "output_type": "stream",
       "stream": "stdout",
       "text": [
        " 2177 0.694300518135\n",
        "(0.174677734109+0.984625659429j)"
       ]
      },
      {
       "output_type": "stream",
       "stream": "stdout",
       "text": [
        "\n",
        "(0.990225953328+0.139472439413j)\n",
        "initial guess: Parameters([('tau', <Parameter 'tau', 9.9990234375000009e-05, bounds=[0:0.099990234375000014]>), ('amp', <Parameter 'amp', 1.2691934929294193, bounds=[-1.2843275459281684:1.2843275459281684]>), ('offset', <Parameter 'offset', 0.015235747837856421, bounds=[-1.2842258510890612:2.5687567866954444]>), ('t_on', <Parameter 't_on', 0.0025000000000000001, bounds=[0.0:0.0099990234375000007]>), ('t_rise', <Parameter 't_rise', 9.9990234375000015e-06, bounds=[0:0.099990234375000014]>)])\n",
        "0.186637821314"
       ]
      },
      {
       "output_type": "stream",
       "stream": "stdout",
       "text": [
        " 7.24599663019 6.189\n",
        "1610"
       ]
      },
      {
       "output_type": "stream",
       "stream": "stdout",
       "text": [
        " 1471 0.720207253886\n",
        "(0.212763650783+0.977103694039j)"
       ]
      },
      {
       "output_type": "stream",
       "stream": "stdout",
       "text": [
        "\n",
        "(0.999495667302+0.0317554884135j)\n",
        "initial guess: Parameters([('tau', <Parameter 'tau', 9.9990234375000009e-05, bounds=[0:0.099990234375000014]>), ('amp', <Parameter 'amp', 1.2196680959821729, bounds=[-1.2352011813140686:1.2352011813140686]>), ('offset', <Parameter 'offset', 0.015580104873524505, bounds=[-1.23515416177244:2.470449382169766]>), ('t_on', <Parameter 't_on', 0.0025000000000000001, bounds=[0.0:0.0099990234375000007]>), ('t_rise', <Parameter 't_rise', 9.9990234375000015e-06, bounds=[0:0.099990234375000014]>)])\n",
        "0.187037107391"
       ]
      },
      {
       "output_type": "stream",
       "stream": "stdout",
       "text": [
        " 7.51451412783 6.189\n",
        "3886"
       ]
      },
      {
       "output_type": "stream",
       "stream": "stdout",
       "text": [
        " 3750 0.704663212435\n",
        "(0.244815519512-0.969569678469j)"
       ]
      },
      {
       "output_type": "stream",
       "stream": "stdout",
       "text": [
        "\n",
        "(0.999569533815-0.0293384912623j)\n",
        "initial guess: Parameters([('tau', <Parameter 'tau', 9.9990234375000009e-05, bounds=[0:0.099990234375000014]>), ('amp', <Parameter 'amp', 1.1715410993772728, bounds=[-1.186399961924363:1.186399961924363]>), ('offset', <Parameter 'offset', 0.015015375183974427, bounds=[-1.1862434492874789:2.3729564364856102]>), ('t_on', <Parameter 't_on', 0.0025000000000000001, bounds=[0.0:0.0099990234375000007]>), ('t_rise', <Parameter 't_rise', 9.9990234375000015e-06, bounds=[0:0.099990234375000014]>)])\n",
        "0.187115766665"
       ]
      },
      {
       "output_type": "stream",
       "stream": "stdout",
       "text": [
        " 7.74858620319 6.189\n",
        "1537"
       ]
      },
      {
       "output_type": "stream",
       "stream": "stdout",
       "text": [
        " 1401 0.704663212435\n",
        "(0.180273659722+0.983616494174j)"
       ]
      },
      {
       "output_type": "stream",
       "stream": "stdout",
       "text": [
        "\n",
        "(0.997378949837+0.0723548921832j)\n",
        "initial guess: Parameters([('tau', <Parameter 'tau', 9.9990234375000009e-05, bounds=[0:0.099990234375000014]>), ('amp', <Parameter 'amp', 1.1875110768181754, bounds=[-1.203281502159415:1.203281502159415]>), ('offset', <Parameter 'offset', 0.015811057693130032, bounds=[-1.2032408698075245:2.4066036366707202]>), ('t_on', <Parameter 't_on', 0.0025000000000000001, bounds=[0.0:0.0099990234375000007]>), ('t_rise', <Parameter 't_rise', 9.9990234375000015e-06, bounds=[0:0.099990234375000014]>)])\n",
        "0.187571029744"
       ]
      },
      {
       "output_type": "stream",
       "stream": "stdout",
       "text": [
        " 7.95461217284 6.19\n",
        "2735"
       ]
      },
      {
       "output_type": "stream",
       "stream": "stdout",
       "text": [
        " 2596 0.720207253886\n",
        "(0.510984852897-0.85958971615j)"
       ]
      },
      {
       "output_type": "stream",
       "stream": "stdout",
       "text": [
        "\n",
        "(0.917752855393-0.397151981512j)\n",
        "initial guess: Parameters([('tau', <Parameter 'tau', 9.9990234375000009e-05, bounds=[0:0.099990234375000014]>), ('amp', <Parameter 'amp', 1.1410863265111355, bounds=[-1.1779614222858199:1.1779614222858199]>), ('offset', <Parameter 'offset', 0.037436306645276571, bounds=[-1.1774002114152278:2.3564840554422322]>), ('t_on', <Parameter 't_on', 0.0025000000000000001, bounds=[0.0:0.0099990234375000007]>), ('t_rise', <Parameter 't_rise', 9.9990234375000015e-06, bounds=[0:0.099990234375000014]>)])\n",
        "0.187918402292"
       ]
      },
      {
       "output_type": "stream",
       "stream": "stdout",
       "text": [
        " 8.14831699595 6.191\n",
        "2078"
       ]
      },
      {
       "output_type": "stream",
       "stream": "stdout",
       "text": [
        " 1942 0.704663212435\n",
        "(0.348848954496-0.93717896207j)"
       ]
      },
      {
       "output_type": "stream",
       "stream": "stdout",
       "text": [
        "\n",
        "(0.998999935772-0.0447116128855j)\n",
        "initial guess: Parameters([('tau', <Parameter 'tau', 9.9990234375000009e-05, bounds=[0:0.099990234375000014]>), ('amp', <Parameter 'amp', 1.0780270979568767, bounds=[-1.095865091627779:1.095865091627779]>), ('offset', <Parameter 'offset', 0.018071939029230408, bounds=[-1.095631146269451:2.1919641286138862]>), ('t_on', <Parameter 't_on', 0.0025000000000000001, bounds=[0.0:0.0099990234375000007]>), ('t_rise', <Parameter 't_rise', 9.9990234375000015e-06, bounds=[0:0.099990234375000014]>)])\n",
        "0.188213867913 8.33114872952 6.192\n",
        "4101"
       ]
      },
      {
       "output_type": "stream",
       "stream": "stdout",
       "text": [
        " 3965 0.704663212435\n",
        "(0.240564433403+0.970633171379j)"
       ]
      },
      {
       "output_type": "stream",
       "stream": "stdout",
       "text": [
        "\n",
        "(0.999390172933+0.0349182222519j)\n",
        "initial guess: Parameters([('tau', <Parameter 'tau', 9.9990234375000009e-05, bounds=[0:0.099990234375000014]>), ('amp', <Parameter 'amp', 1.0994595618957297, bounds=[-1.1132387366678733:1.1132387366678733]>), ('offset', <Parameter 'offset', 0.013891884412211786, bounds=[-1.1131260270278052:2.2265901829758148]>), ('t_on', <Parameter 't_on', 0.0025000000000000001, bounds=[0.0:0.0099990234375000007]>), ('t_rise', <Parameter 't_rise', 9.9990234375000015e-06, bounds=[0:0.099990234375000014]>)])\n",
        "0.188337974124"
       ]
      },
      {
       "output_type": "stream",
       "stream": "stdout",
       "text": [
        " 8.4969979589 6.192\n",
        "1366"
       ]
      },
      {
       "output_type": "stream",
       "stream": "stdout",
       "text": [
        " 1230 0.704663212435\n",
        "(0.429036804197-0.903287009009j)"
       ]
      },
      {
       "output_type": "stream",
       "stream": "stdout",
       "text": [
        "\n",
        "(0.99988484791-0.0151753391832j)\n",
        "initial guess: Parameters([('tau', <Parameter 'tau', 9.9990234375000009e-05, bounds=[0:0.099990234375000014]>), ('amp', <Parameter 'amp', 0.97813147212566798, bounds=[-0.99042996939069239:0.99042996939069239]>), ('offset', <Parameter 'offset', 0.012379717591317219, bounds=[-0.99034874906439962:1.9809411591076775]>), ('t_on', <Parameter 't_on', 0.0025000000000000001, bounds=[0.0:0.0099990234375000007]>), ('t_rise', <Parameter 't_rise', 9.9990234375000015e-06, bounds=[0:0.099990234375000014]>)])\n",
        "0.188568120205"
       ]
      },
      {
       "output_type": "stream",
       "stream": "stdout",
       "text": [
        " 8.64871940079 6.191\n",
        "3900"
       ]
      },
      {
       "output_type": "stream",
       "stream": "stdout",
       "text": [
        " 3762 0.715025906736\n",
        "(0.441142254188-0.897437190877j)"
       ]
      },
      {
       "output_type": "stream",
       "stream": "stdout",
       "text": [
        "\n",
        "(0.999655812011-0.0262346624439j)\n",
        "initial guess: Parameters([('tau', <Parameter 'tau', 9.9990234375000009e-05, bounds=[0:0.099990234375000014]>), ('amp', <Parameter 'amp', 0.98246334188442141, bounds=[-0.99753373220509167:0.99753373220509167]>), ('offset', <Parameter 'offset', 0.01509203749826484, bounds=[-0.99751208502749711:1.9950891115877778]>), ('t_on', <Parameter 't_on', 0.0025000000000000001, bounds=[0.0:0.0099990234375000007]>), ('t_rise', <Parameter 't_rise', 9.9990234375000015e-06, bounds=[0:0.099990234375000014]>)])\n",
        "0.189012674964"
       ]
      },
      {
       "output_type": "stream",
       "stream": "stdout",
       "text": [
        " 8.7873979311 6.192\n",
        "4074"
       ]
      },
      {
       "output_type": "stream",
       "stream": "stdout",
       "text": [
        " 3937 0.709844559585\n",
        "(0.422130536918-0.906535057127j)"
       ]
      },
      {
       "output_type": "stream",
       "stream": "stdout",
       "text": [
        "\n",
        "(0.999519908571-0.0309830981404j)\n",
        "initial guess: Parameters([('tau', <Parameter 'tau', 9.9990234375000009e-05, bounds=[0:0.099990234375000014]>), ('amp', <Parameter 'amp', 0.99489468434022499, bounds=[-1.0103518858463054:1.0103518858463054]>), ('offset', <Parameter 'offset', 0.015485938881173292, bounds=[-1.0103231484712125:2.0207325090677037]>), ('t_on', <Parameter 't_on', 0.0025000000000000001, bounds=[0.0:0.0099990234375000007]>), ('t_rise', <Parameter 't_rise', 9.9990234375000015e-06, bounds=[0:0.099990234375000014]>)])\n",
        "0.189346259126"
       ]
      },
      {
       "output_type": "stream",
       "stream": "stdout",
       "text": [
        " 8.91501343765 6.191\n",
        "2025"
       ]
      },
      {
       "output_type": "stream",
       "stream": "stdout",
       "text": [
        " 1887 0.715025906736\n",
        "(0.390315537933-0.920681150479j)"
       ]
      },
      {
       "output_type": "stream",
       "stream": "stdout",
       "text": [
        "\n",
        "(0.999775640057-0.0211818212007j)\n",
        "initial guess: Parameters([('tau', <Parameter 'tau', 9.9990234375000009e-05, bounds=[0:0.099990234375000014]>), ('amp', <Parameter 'amp', 0.97892092447910595, bounds=[-0.99142712437561997:0.99142712437561997]>), ('offset', <Parameter 'offset', 0.012660205856133842, bounds=[-0.99127311841600019:1.9830082547108598]>), ('t_on', <Parameter 't_on', 0.0025000000000000001, bounds=[0.0:0.0099990234375000007]>), ('t_rise', <Parameter 't_rise', 9.9990234375000015e-06, bounds=[0:0.099990234375000014]>)])\n",
        "0.189828817837"
       ]
      },
      {
       "output_type": "stream",
       "stream": "stdout",
       "text": [
        " 9.03257166219 6.192\n",
        "2538"
       ]
      },
      {
       "output_type": "stream",
       "stream": "stdout",
       "text": [
        " 2402 0.704663212435\n",
        "(0.315573672049-0.948901078885j)"
       ]
      },
      {
       "output_type": "stream",
       "stream": "stdout",
       "text": [
        "\n",
        "(0.999319415068-0.0368877576958j)\n",
        "initial guess: Parameters([('tau', <Parameter 'tau', 9.9990234375000009e-05, bounds=[0:0.099990234375000014]>), ('amp', <Parameter 'amp', 1.0027581150374492, bounds=[-1.0161656857850199:1.0161656857850199]>), ('offset', <Parameter 'offset', 0.013480797378903278, bounds=[-1.0160924591536873:2.0324045982013725]>), ('t_on', <Parameter 't_on', 0.0025000000000000001, bounds=[0.0:0.0099990234375000007]>), ('t_rise', <Parameter 't_rise', 9.9990234375000015e-06, bounds=[0:0.099990234375000014]>)])\n",
        "0.189924871046"
       ]
      },
      {
       "output_type": "stream",
       "stream": "stdout",
       "text": [
        " 9.14826258488 6.192\n",
        "3523"
       ]
      },
      {
       "output_type": "stream",
       "stream": "stdout",
       "text": [
        " 3386 0.709844559585\n",
        "(0.250303740523-0.968167360264j)"
       ]
      },
      {
       "output_type": "stream",
       "stream": "stdout",
       "text": [
        "\n",
        "(0.999332384768-0.0365347061679j)\n",
        "initial guess: Parameters([('tau', <Parameter 'tau', 9.9990234375000009e-05, bounds=[0:0.099990234375000014]>), ('amp', <Parameter 'amp', 1.0031923073801761, bounds=[-1.0153317835301487:1.0153317835301487]>), ('offset', <Parameter 'offset', 0.012408152673517327, bounds=[-1.0150631070066041:2.0309322435838419]>), ('t_on', <Parameter 't_on', 0.0025000000000000001, bounds=[0.0:0.0099990234375000007]>), ('t_rise', <Parameter 't_rise', 9.9990234375000015e-06, bounds=[0:0.099990234375000014]>)])\n",
        "0.190245139872"
       ]
      },
      {
       "output_type": "stream",
       "stream": "stdout",
       "text": [
        " 9.26236080723 6.192\n",
        "4633"
       ]
      },
      {
       "output_type": "stream",
       "stream": "stdout",
       "text": [
        " 4495 0.715025906736\n",
        "(0.217698401244-0.976016089056j)"
       ]
      },
      {
       "output_type": "stream",
       "stream": "stdout",
       "text": [
        "\n",
        "(0.987199020959-0.159493238159j)\n",
        "initial guess: Parameters([('tau', <Parameter 'tau', 9.9990234375000009e-05, bounds=[0:0.099990234375000014]>), ('amp', <Parameter 'amp', 0.99665971946831233, bounds=[-1.0096219195037917:1.0096219195037917]>), ('offset', <Parameter 'offset', 0.013007892466115131, bounds=[-1.0095762270731559:2.0192895314382193]>), ('t_on', <Parameter 't_on', 0.0025000000000000001, bounds=[0.0:0.0099990234375000007]>), ('t_rise', <Parameter 't_rise', 9.9990234375000015e-06, bounds=[0:0.099990234375000014]>)])\n",
        "0.19057781135 9.36852616806 6.193\n",
        "1350"
       ]
      },
      {
       "output_type": "stream",
       "stream": "stdout",
       "text": [
        " 1212 0.715025906736\n",
        "(0.429253285152-0.903184154637j)"
       ]
      },
      {
       "output_type": "stream",
       "stream": "stdout",
       "text": [
        "\n",
        "(0.999647699949-0.0265419665091j)\n",
        "initial guess: Parameters([('tau', <Parameter 'tau', 9.9990234375000009e-05, bounds=[0:0.099990234375000014]>), ('amp', <Parameter 'amp', 0.90840587822806362, bounds=[-0.92037656034228388:0.92037656034228388]>), ('offset', <Parameter 'offset', 0.012095553463516207, bounds=[-0.92025168899298793:1.8408779920338638]>), ('t_on', <Parameter 't_on', 0.0025000000000000001, bounds=[0.0:0.0099990234375000007]>), ('t_rise', <Parameter 't_rise', 9.9990234375000015e-06, bounds=[0:0.099990234375000014]>)])\n",
        "0.191169118947"
       ]
      },
      {
       "output_type": "stream",
       "stream": "stdout",
       "text": [
        " 9.46799765921 6.193\n",
        "7747"
       ]
      },
      {
       "output_type": "stream",
       "stream": "stdout",
       "text": [
        " 7611 0.704663212435\n",
        "(0.293697935054-0.955898280648j)"
       ]
      },
      {
       "output_type": "stream",
       "stream": "stdout",
       "text": [
        "\n",
        "(0.999178722116-0.0405201341379j)\n",
        "initial guess: Parameters([('tau', <Parameter 'tau', 9.9990234375000009e-05, bounds=[0:0.099990234375000014]>), ('amp', <Parameter 'amp', 0.96034107350856246, bounds=[-0.9731340515164616:0.9731340515164616]>), ('offset', <Parameter 'offset', 0.012860011740882643, bounds=[-0.97306701778347804:1.9463351367659067]>), ('t_on', <Parameter 't_on', 0.0025000000000000001, bounds=[0.0:0.0099990234375000007]>), ('t_rise', <Parameter 't_rise', 9.9990234375000015e-06, bounds=[0:0.099990234375000014]>)])\n",
        "0.191248883006 9.56163430495 6.193\n",
        "7773"
       ]
      },
      {
       "output_type": "stream",
       "stream": "stdout",
       "text": [
        " 7639 0.694300518135\n",
        "(0.757286328861-0.653083008599j)"
       ]
      },
      {
       "output_type": "stream",
       "stream": "stdout",
       "text": [
        "\n",
        "(0.671302062604-0.741183877822j)\n",
        "initial guess: Parameters([('tau', <Parameter 'tau', 9.9990234375000009e-05, bounds=[0:0.099990234375000014]>), ('amp', <Parameter 'amp', 0.95914217341231134, bounds=[-0.97254303897350425:0.97254303897350425]>), ('offset', <Parameter 'offset', 0.013617234601268999, bounds=[-0.9723266699334282:1.9453024469870845]>), ('t_on', <Parameter 't_on', 0.0025000000000000001, bounds=[0.0:0.0099990234375000007]>), ('t_rise', <Parameter 't_rise', 9.9990234375000015e-06, bounds=[0:0.099990234375000014]>)])\n",
        "0.191605091714"
       ]
      },
      {
       "output_type": "stream",
       "stream": "stdout",
       "text": [
        " 9.6492333158 6.193\n",
        "5502"
       ]
      },
      {
       "output_type": "stream",
       "stream": "stdout",
       "text": [
        " 5365 0.709844559585\n",
        "(0.38774087038-0.92176841855j)"
       ]
      },
      {
       "output_type": "stream",
       "stream": "stdout",
       "text": [
        "\n",
        "(0.999702170552-0.0244043068629j)\n",
        "initial guess: Parameters([('tau', <Parameter 'tau', 9.9990234375000009e-05, bounds=[0:0.099990234375000014]>), ('amp', <Parameter 'amp', 0.89097831012710127, bounds=[-0.90257960846158936:0.90257960846158936]>), ('offset', <Parameter 'offset', 0.011677200179860995, bounds=[-0.90250370661621648:1.8052351187685516]>), ('t_on', <Parameter 't_on', 0.0025000000000000001, bounds=[0.0:0.0099990234375000007]>), ('t_rise', <Parameter 't_rise', 9.9990234375000015e-06, bounds=[0:0.099990234375000014]>)])\n",
        "0.191869127209"
       ]
      },
      {
       "output_type": "stream",
       "stream": "stdout",
       "text": [
        " 9.73158797398 6.194\n",
        "7867"
       ]
      },
      {
       "output_type": "stream",
       "stream": "stdout",
       "text": [
        " 7731 0.704663212435\n",
        "(0.254684221663-0.967024274378j)"
       ]
      },
      {
       "output_type": "stream",
       "stream": "stdout",
       "text": [
        "\n",
        "(0.998428633792-0.0560380515749j)\n",
        "initial guess: Parameters([('tau', <Parameter 'tau', 9.9990234375000009e-05, bounds=[0:0.099990234375000014]>), ('amp', <Parameter 'amp', 0.93386990412180626, bounds=[-0.9462160786717948:0.9462160786717948]>), ('offset', <Parameter 'offset', 0.012425815909283216, bounds=[-0.94613643731250008:1.8925117987028843]>), ('t_on', <Parameter 't_on', 0.0025000000000000001, bounds=[0.0:0.0099990234375000007]>), ('t_rise', <Parameter 't_rise', 9.9990234375000015e-06, bounds=[0:0.099990234375000014]>)])\n",
        "0.192187460518"
       ]
      },
      {
       "output_type": "stream",
       "stream": "stdout",
       "text": [
        " 9.80949546719 6.195\n",
        "6554"
       ]
      },
      {
       "output_type": "stream",
       "stream": "stdout",
       "text": [
        " 6416 0.715025906736\n",
        "(0.391996217883+0.919966828296j)"
       ]
      },
      {
       "output_type": "stream",
       "stream": "stdout",
       "text": [
        "\n",
        "(0.929805229858+0.368051945421j)\n",
        "initial guess: Parameters([('tau', <Parameter 'tau', 9.9990234375000009e-05, bounds=[0:0.099990234375000014]>), ('amp', <Parameter 'amp', 0.95463925421115192, bounds=[-0.96610998665667236:0.96610998665667236]>), ('offset', <Parameter 'offset', 0.011580204815781025, bounds=[-0.96600051428641176:1.9323294456836053]>), ('t_on', <Parameter 't_on', 0.0025000000000000001, bounds=[0.0:0.0099990234375000007]>), ('t_rise', <Parameter 't_rise', 9.9990234375000015e-06, bounds=[0:0.099990234375000014]>)])\n",
        "0.192464345352"
       ]
      },
      {
       "output_type": "stream",
       "stream": "stdout",
       "text": [
        " 9.88312237144 6.195\n",
        "2619"
       ]
      },
      {
       "output_type": "stream",
       "stream": "stdout",
       "text": [
        " 2481 0.715025906736\n",
        "(0.268954481146-0.963152888731j)"
       ]
      },
      {
       "output_type": "stream",
       "stream": "stdout",
       "text": [
        "\n",
        "(0.998915238642-0.0465655023498j)\n",
        "initial guess: Parameters([('tau', <Parameter 'tau', 9.9990234375000009e-05, bounds=[0:0.099990234375000014]>), ('amp', <Parameter 'amp', 0.93185257367322161, bounds=[-0.94424956002921112:0.94424956002921112]>), ('offset', <Parameter 'offset', 0.012451278213838627, bounds=[-0.94419526817136201:1.8885534119162712]>), ('t_on', <Parameter 't_on', 0.0025000000000000001, bounds=[0.0:0.0099990234375000007]>), ('t_rise', <Parameter 't_rise', 9.9990234375000015e-06, bounds=[0:0.099990234375000014]>)])\n",
        "0.192800863774"
       ]
      },
      {
       "output_type": "stream",
       "stream": "stdout",
       "text": [
        " 9.95281251183 6.195\n",
        "7152"
       ]
      },
      {
       "output_type": "stream",
       "stream": "stdout",
       "text": [
        " 7014 0.715025906736\n",
        "(0.486853375624-0.873483709432j)"
       ]
      },
      {
       "output_type": "stream",
       "stream": "stdout",
       "text": [
        "\n",
        "(0.999729950273-0.0232384708369j)\n",
        "initial guess: Parameters([('tau', <Parameter 'tau', 9.9990234375000009e-05, bounds=[0:0.099990234375000014]>), ('amp', <Parameter 'amp', 0.83458861077013091, bounds=[-0.84693878190339789:0.84693878190339789]>), ('offset', <Parameter 'offset', 0.012379201214756056, bounds=[-0.84690975182190875:1.6939065938882849]>), ('t_on', <Parameter 't_on', 0.0025000000000000001, bounds=[0.0:0.0099990234375000007]>), ('t_rise', <Parameter 't_rise', 9.9990234375000015e-06, bounds=[0:0.099990234375000014]>)])\n",
        "0.193250912761"
       ]
      },
      {
       "output_type": "stream",
       "stream": "stdout",
       "text": [
        " 10.0192587916 6.195\n",
        "5968"
       ]
      },
      {
       "output_type": "stream",
       "stream": "stdout",
       "text": [
        " 5832 0.704663212435\n",
        "(0.329723237414-0.944077638073j)"
       ]
      },
      {
       "output_type": "stream",
       "stream": "stdout",
       "text": [
        "\n",
        "(0.999360526587-0.0357566483371j)\n",
        "initial guess: Parameters([('tau', <Parameter 'tau', 9.9990234375000009e-05, bounds=[0:0.099990234375000014]>), ('amp', <Parameter 'amp', 0.90459640706865319, bounds=[-0.9165765224240674:0.9165765224240674]>), ('offset', <Parameter 'offset', 0.01199604231331603, bounds=[-0.91656059546616553:1.8331689718060367]>), ('t_on', <Parameter 't_on', 0.0025000000000000001, bounds=[0.0:0.0099990234375000007]>), ('t_rise', <Parameter 't_rise', 9.9990234375000015e-06, bounds=[0:0.099990234375000014]>)])\n",
        "0.193504381891"
       ]
      },
      {
       "output_type": "stream",
       "stream": "stdout",
       "text": [
        " 10.0823143508 6.196\n",
        "3456"
       ]
      },
      {
       "output_type": "stream",
       "stream": "stdout",
       "text": [
        " 3319 0.709844559585\n",
        "(0.449081458856+0.893490818818j)"
       ]
      },
      {
       "output_type": "stream",
       "stream": "stdout",
       "text": [
        "\n",
        "(0.903028889293+0.429579823901j)\n",
        "initial guess: Parameters([('tau', <Parameter 'tau', 9.9990234375000009e-05, bounds=[0:0.099990234375000014]>), ('amp', <Parameter 'amp', 0.94797401195484676, bounds=[-0.95961786388472392:0.95961786388472392]>), ('offset', <Parameter 'offset', 0.011746500168697663, bounds=[-0.95951521564590336:1.9193383760082683]>), ('t_on', <Parameter 't_on', 0.0025000000000000001, bounds=[0.0:0.0099990234375000007]>), ('t_rise', <Parameter 't_rise', 9.9990234375000015e-06, bounds=[0:0.099990234375000014]>)])\n",
        "0.194022449078"
       ]
      },
      {
       "output_type": "stream",
       "stream": "stdout",
       "text": [
        " 10.1461237592 6.197\n",
        "3961"
       ]
      },
      {
       "output_type": "stream",
       "stream": "stdout",
       "text": [
        " 3824 0.709844559585\n",
        "(0.240506656996-0.97064748902j)"
       ]
      },
      {
       "output_type": "stream",
       "stream": "stdout",
       "text": [
        "\n",
        "(0.98113693896-0.193314011412j)\n",
        "initial guess: Parameters([('tau', <Parameter 'tau', 9.9990234375000009e-05, bounds=[0:0.099990234375000014]>), ('amp', <Parameter 'amp', 0.967051728577351, bounds=[-0.97844793538032793:0.97844793538032793]>), ('offset', <Parameter 'offset', 0.011427473638387276, bounds=[-0.9784166685449176:1.9569271375960662]>), ('t_on', <Parameter 't_on', 0.0025000000000000001, bounds=[0.0:0.0099990234375000007]>), ('t_rise', <Parameter 't_rise', 9.9990234375000015e-06, bounds=[0:0.099990234375000014]>)])\n",
        "0.206125531643"
       ]
      },
      {
       "output_type": "stream",
       "stream": "stdout",
       "text": [
        " 10.2055909328 6.197\n",
        "4787"
       ]
      },
      {
       "output_type": "stream",
       "stream": "stdout",
       "text": [
        " 3390 7.23834196891\n",
        "(0.999983190278-0.00579820333086j)"
       ]
      },
      {
       "output_type": "stream",
       "stream": "stdout",
       "text": [
        "\n",
        "(0.999998000473-0.00199976249525j)\n",
        "initial guess: Parameters([('tau', <Parameter 'tau', 9.9990234375000009e-05, bounds=[0:0.099990234375000014]>), ('amp', <Parameter 'amp', 0.023446397661378376, bounds=[-0.034032014674692246:0.034032014674692246]>), ('offset', <Parameter 'offset', 0.010672521632736973, bounds=[-0.033945110055269144:0.068150933968807587]>), ('t_on', <Parameter 't_on', 0.0063017578125000003, bounds=[0.0:0.0099990234375000007]>), ('t_rise', <Parameter 't_rise', 9.9990234375000015e-06, bounds=[0:0.099990234375000014]>)])\n",
        "0.20758613668"
       ]
      },
      {
       "output_type": "stream",
       "stream": "stdout",
       "text": [
        " 10.1636595936 6.197\n"
       ]
      }
     ],
     "prompt_number": 5
    },
    {
     "cell_type": "code",
     "collapsed": false,
     "input": [
      "import pandas as pd"
     ],
     "language": "python",
     "metadata": {},
     "outputs": [],
     "prompt_number": 6
    },
    {
     "cell_type": "code",
     "collapsed": false,
     "input": [
      "df = pd.DataFrame(dict(filename=fns,tau = taus, primary_load_temperature=load1s,\n",
      "                       secondary_load_temperature=load2s, primary_package_temperature=temps,\n",
      "                       ))"
     ],
     "language": "python",
     "metadata": {},
     "outputs": [],
     "prompt_number": 7
    },
    {
     "cell_type": "code",
     "collapsed": false,
     "input": [
      "df.shape"
     ],
     "language": "python",
     "metadata": {},
     "outputs": [
      {
       "metadata": {},
       "output_type": "pyout",
       "prompt_number": 8,
       "text": [
        "(112, 5)"
       ]
      }
     ],
     "prompt_number": 8
    },
    {
     "cell_type": "code",
     "collapsed": false,
     "input": [
      "import kid_readout.analysis.archive"
     ],
     "language": "python",
     "metadata": {},
     "outputs": [
      {
       "output_type": "stream",
       "stream": "stderr",
       "text": [
        "/home/local/lib/python2.7/site-packages/matplotlib/__init__.py:1155: UserWarning:  This call to matplotlib.use() has no effect\n",
        "because the backend has already been chosen;\n",
        "matplotlib.use() must be called *before* pylab, matplotlib.pyplot,\n",
        "or matplotlib.backends is imported for the first time.\n",
        "\n",
        "  warnings.warn(_use_error_msg)\n"
       ]
      }
     ],
     "prompt_number": 9
    },
    {
     "cell_type": "code",
     "collapsed": false,
     "input": [
      "kid_readout.analysis.archive.save_archive(df,'/home/data/archive/2014-rtl-timeconstants-fine-fold.npy')"
     ],
     "language": "python",
     "metadata": {},
     "outputs": [],
     "prompt_number": 10
    },
    {
     "cell_type": "code",
     "collapsed": false,
     "input": [
      "taus = np.array(taus)\n",
      "temps = np.array(temps)\n",
      "load1s = np.array(load1s)"
     ],
     "language": "python",
     "metadata": {},
     "outputs": []
    },
    {
     "cell_type": "code",
     "collapsed": false,
     "input": [
      "tau,fit = get_time_constant_from_file(fns[-8],debug=True)"
     ],
     "language": "python",
     "metadata": {},
     "outputs": [
      {
       "output_type": "stream",
       "stream": "stdout",
       "text": [
        "7870 7729 0.730569948187\n",
        "initial guess: Parameters([('tau', <Parameter 'tau', 9.9990234375000009e-05, bounds=[0:0.099990234375000014]>), ('amp', <Parameter 'amp', 0.044283258371636394, bounds=[-0.045595278414141939:0.045595278414141939]>), ('offset', <Parameter 'offset', 0.0013261148788350626, bounds=[-0.04558118357781242:0.09120465166461339]>), ('t_on', <Parameter 't_on', 0.0075429687500000002, bounds=[0.0:0.0099990234375000007]>), ('t_rise', <Parameter 't_rise', 9.9990234375000015e-06, bounds=[0:0.099990234375000014]>)])\n"
       ]
      },
      {
       "metadata": {},
       "output_type": "display_data",
       "png": "[encoded data removed]",
       "text": [
        "<matplotlib.figure.Figure at 0x1443c950>"
       ]
      }
     ],
     "prompt_number": 162
    },
    {
     "cell_type": "code",
     "collapsed": false,
     "input": [
      "legend?"
     ],
     "language": "python",
     "metadata": {},
     "outputs": [],
     "prompt_number": 170
    },
    {
     "cell_type": "code",
     "collapsed": false,
     "input": [
      "pk = fit.y_data.argmax()\n",
      "plot((fit.x_data[pk-50:pk+150]-fit.x_data[pk])*1e6,fit.y_data[pk-50:pk+150],'.',label='data')\n",
      "plot((fit.x_data[pk-50:pk+150]-fit.x_data[pk])*1e6,fit.model()[pk-50:pk+150],'r',lw=2,label='fit')\n",
      "xlabel('Time [$\\mu$s]')\n",
      "ylabel('Response [arb]')\n",
      "legend(loc='upper right',numpoints=4)\n",
      "savefig('/home/gjones/paper_plots/2015-01-08-mmw-pulse.png')"
     ],
     "language": "python",
     "metadata": {},
     "outputs": [
      {
       "metadata": {},
       "output_type": "display_data",
       "png": "[encoded data removed]",
       "text": [
        "<matplotlib.figure.Figure at 0x20f82cd0>"
       ]
      }
     ],
     "prompt_number": 173
    },
    {
     "cell_type": "code",
     "collapsed": false,
     "input": [
      "def tauth(T,taumax,nstar,Tc=1.46):\n",
      "    nqpth = 2*(1.72e10/1.6e-19)*np.sqrt(2*np.pi*1.38e-23**2*T**Tc*1.76)*np.exp(-1.76*Tc/T)\n",
      "    return taumax/(1+nqpth/nstar)"
     ],
     "language": "python",
     "metadata": {},
     "outputs": [],
     "prompt_number": 152
    },
    {
     "cell_type": "code",
     "collapsed": false,
     "input": [
      "plot(T,tauth(T,100e-6,400))"
     ],
     "language": "python",
     "metadata": {},
     "outputs": [
      {
       "metadata": {},
       "output_type": "pyout",
       "prompt_number": 91,
       "text": [
        "[<matplotlib.lines.Line2D at 0x16331a10>]"
       ]
      },
      {
       "metadata": {},
       "output_type": "display_data",
       "png": "[encoded data removed]",
       "text": [
        "<matplotlib.figure.Figure at 0x2621d810>"
       ]
      }
     ],
     "prompt_number": 91
    },
    {
     "cell_type": "code",
     "collapsed": false,
     "input": [
      "plt.rcParams['font.size']=16"
     ],
     "language": "python",
     "metadata": {},
     "outputs": [],
     "prompt_number": 114
    },
    {
     "cell_type": "code",
     "collapsed": false,
     "input": [
      "semilogy(np.array(temps),np.array(taus)*1e6,'o',label='load temp sweep')\n",
      "semilogy(temps[load1s<4],taus[load1s<4]*1e6,'ro',label='bath temp sweep')\n",
      "T = np.linspace(0.1,0.5,1000)\n",
      "semilogy(T,1e6*150e-9/(np.sqrt(np.pi)*(3.8)**2.5*np.sqrt(T/1.46)*np.exp(-1.76*1.5/T)))\n",
      "plot(T,tauth(T,90,350,Tc=1.5),label='taumax=90,nstar=350')\n",
      "ylim(1,200)\n",
      "xlim(0.1,0.4)\n",
      "grid()\n",
      "legend(loc='lower left',prop=dict(size='small'))\n",
      "xlabel('Bath Temp [K]')\n",
      "ylabel(r'$\\tau$ [$\\mu$s]')\n",
      "title('Response time constant to mm-wave pulse')"
     ],
     "language": "python",
     "metadata": {},
     "outputs": [
      {
       "metadata": {},
       "output_type": "pyout",
       "prompt_number": 130,
       "text": [
        "<matplotlib.text.Text at 0x61ed310>"
       ]
      },
      {
       "metadata": {},
       "output_type": "display_data",
       "png": "[encoded data removed]",
       "text": [
        "<matplotlib.figure.Figure at 0x26c20bd0>"
       ]
      }
     ],
     "prompt_number": 130
    },
    {
     "cell_type": "code",
     "collapsed": false,
     "input": [
      "#semilogy(np.array(temps),np.array(taus)*1e6,'o',label='load temp sweep')\n",
      "figure(figsize=(8,4))\n",
      "subplots_adjust(wspace=0.3)\n",
      "subplot(121)\n",
      "semilogy(temps[load1s<3.6]*1000,taus[load1s<3.6]*1e6,'ro',label='data')\n",
      "T = np.linspace(0.1,0.5,1000)\n",
      "#semilogy(T,1e6*150e-9/(np.sqrt(np.pi)*(3.8)**2.5*np.sqrt(T/1.46)*np.exp(-1.76*1.5/T)))\n",
      "plot(T*1000,tauth(T,90,350,Tc=1.5),label='fit')\n",
      "ax = gca()\n",
      "ax.xaxis.set_major_locator(plt.MultipleLocator(100))\n",
      "ylim(1,200)\n",
      "xlim(100,400)\n",
      "#grid()\n",
      "legend(loc='lower left')#,prop=dict(size='small'))\n",
      "xlabel('Bath Temp [mK]')\n",
      "ylabel(r'$\\tau$ [$\\mu$s]')\n",
      "#title('Response time constant to mm-wave pulse')\n",
      "subplot(122)\n",
      "pk = fit.y_data.argmax()\n",
      "plot((fit.x_data[pk-50:pk+150]-fit.x_data[pk])*1e6,100*fit.y_data[pk-50:pk+150],'r.',label='data')\n",
      "plot((fit.x_data[pk-50:pk+150]-fit.x_data[pk])*1e6,100*fit.model()[pk-50:pk+150],'b',lw=2,label='fit')\n",
      "xlabel('Time [$\\mu$s]')\n",
      "ylabel('Response [arb]')\n",
      "legend(loc='upper right',numpoints=4)\n",
      "savefig('/home/gjones/paper_plots/2015-01-08-bath_sweep_and_mmw-pulse.png',bbox_inches='tight')"
     ],
     "language": "python",
     "metadata": {},
     "outputs": [
      {
       "metadata": {},
       "output_type": "display_data",
       "png": "[encoded data removed]",
       "text": [
        "<matplotlib.figure.Figure at 0x1bb5aad0>"
       ]
      }
     ],
     "prompt_number": 194
    },
    {
     "cell_type": "code",
     "collapsed": false,
     "input": [
      "1.76*1.5/1.46"
     ],
     "language": "python",
     "metadata": {},
     "outputs": [
      {
       "metadata": {},
       "output_type": "pyout",
       "prompt_number": 106,
       "text": [
        "1.808219178082192"
       ]
      }
     ],
     "prompt_number": 106
    },
    {
     "cell_type": "code",
     "collapsed": false,
     "input": [
      "1.9*2"
     ],
     "language": "python",
     "metadata": {},
     "outputs": [
      {
       "metadata": {},
       "output_type": "pyout",
       "prompt_number": 73,
       "text": [
        "3.8"
       ]
      }
     ],
     "prompt_number": 73
    },
    {
     "cell_type": "code",
     "collapsed": false,
     "input": [
      "plot(load1s)"
     ],
     "language": "python",
     "metadata": {},
     "outputs": [
      {
       "metadata": {},
       "output_type": "pyout",
       "prompt_number": 66,
       "text": [
        "[<matplotlib.lines.Line2D at 0x26c235d0>]"
       ]
      },
      {
       "metadata": {},
       "output_type": "display_data",
       "png": "[encoded data removed]",
       "text": [
        "<matplotlib.figure.Figure at 0x510ac10>"
       ]
      }
     ],
     "prompt_number": 66
    },
    {
     "cell_type": "code",
     "collapsed": false,
     "input": [
      "taus = np.array(taus)\n",
      "temps = np.array(temps)\n",
      "load1s = np.array(load1s)"
     ],
     "language": "python",
     "metadata": {},
     "outputs": [],
     "prompt_number": 67
    },
    {
     "cell_type": "code",
     "collapsed": false,
     "input": [
      "plot(taus[taus<400e-6])"
     ],
     "language": "python",
     "metadata": {},
     "outputs": [
      {
       "metadata": {},
       "output_type": "pyout",
       "prompt_number": 68,
       "text": [
        "[<matplotlib.lines.Line2D at 0x2620a2d0>]"
       ]
      },
      {
       "metadata": {},
       "output_type": "display_data",
       "png": "[encoded data removed]",
       "text": [
        "<matplotlib.figure.Figure at 0x2127bd90>"
       ]
      }
     ],
     "prompt_number": 68
    },
    {
     "cell_type": "code",
     "collapsed": false,
     "input": [],
     "language": "python",
     "metadata": {},
     "outputs": [],
     "prompt_number": 68
    },
    {
     "cell_type": "code",
     "collapsed": false,
     "input": [
      "plot(temps)"
     ],
     "language": "python",
     "metadata": {},
     "outputs": [
      {
       "metadata": {},
       "output_type": "pyout",
       "prompt_number": 69,
       "text": [
        "[<matplotlib.lines.Line2D at 0x2664a810>]"
       ]
      },
      {
       "metadata": {},
       "output_type": "display_data",
       "png": "[encoded data removed]",
       "text": [
        "<matplotlib.figure.Figure at 0x26642990>"
       ]
      }
     ],
     "prompt_number": 69
    },
    {
     "cell_type": "code",
     "collapsed": false,
     "input": [
      "mask = (abs(temps-0.2)<0.02) & (taus<400e-6) & (taus>2e-6)"
     ],
     "language": "python",
     "metadata": {},
     "outputs": [],
     "prompt_number": 70
    },
    {
     "cell_type": "code",
     "collapsed": false,
     "input": [
      "loglog(load1s[mask],1e6*np.array(taus[mask]),'.')\n",
      "T = np.linspace(1,12)\n",
      "p = np.polyfit(np.log10(load1s[mask]),np.log10(np.array(taus[mask])),1)\n",
      "print p\n",
      "loglog(T,1e6*10**np.polyval(p,np.log10(T)),label='$T_{bb}^{\\,-1.25}$')\n",
      "ylim(10,200)\n",
      "xlim(1,12)\n",
      "grid()\n",
      "print 1e6*10**np.polyval(p,np.log10(1.5))\n",
      "legend(loc='lower left',prop=dict(size='large'))\n",
      "xlabel('Load Temp [K]')\n",
      "ylabel(r'$\\tau$ [$\\mu$s]')\n",
      "title('Response time constant to mm-wave pulse')"
     ],
     "language": "python",
     "metadata": {},
     "outputs": [
      {
       "output_type": "stream",
       "stream": "stdout",
       "text": [
        "[-1.26692613 -3.40181492]\n",
        "237.18676992\n"
       ]
      },
      {
       "metadata": {},
       "output_type": "pyout",
       "prompt_number": 122,
       "text": [
        "<matplotlib.text.Text at 0x632d790>"
       ]
      },
      {
       "metadata": {},
       "output_type": "display_data",
       "png": "[encoded data removed]",
       "text": [
        "<matplotlib.figure.Figure at 0x634a2d0>"
       ]
      }
     ],
     "prompt_number": 122
    },
    {
     "cell_type": "code",
     "collapsed": false,
     "input": [
      "plot(load1s[mask],1e6*np.array(taus[mask]),'.')\n",
      "T = np.linspace(1,12)\n",
      "p = np.polyfit(np.log10(load1s[mask]),np.log10(np.array(taus[mask])),1)\n",
      "print p\n",
      "plot(T,1e6*10**np.polyval(p,np.log10(T)),label='$T_{bb}^{\\,-1.25}$')\n",
      "ylim(10,150)\n",
      "xlim(1,12)\n",
      "grid()\n",
      "print 1e6*10**np.polyval(p,np.log10(1.5))\n",
      "legend(loc='upper right',prop=dict(size='large'))\n",
      "xlabel('Load Temp [K]')\n",
      "ylabel(r'$\\tau$ [$\\mu$s]')\n",
      "title('Response time constant to mm-wave pulse')"
     ],
     "language": "python",
     "metadata": {},
     "outputs": [
      {
       "output_type": "stream",
       "stream": "stdout",
       "text": [
        "[-1.26692613 -3.40181492]\n",
        "237.18676992\n"
       ]
      },
      {
       "metadata": {},
       "output_type": "pyout",
       "prompt_number": 127,
       "text": [
        "<matplotlib.text.Text at 0x23c6a850>"
       ]
      },
      {
       "metadata": {},
       "output_type": "display_data",
       "png": "[encoded data removed]",
       "text": [
        "<matplotlib.figure.Figure at 0x1476f050>"
       ]
      }
     ],
     "prompt_number": 127
    },
    {
     "cell_type": "code",
     "collapsed": true,
     "input": [
      "d = np.load('/home/data2/rtl/2014-09-29_10-56-06.npz')"
     ],
     "language": "python",
     "metadata": {},
     "outputs": [],
     "prompt_number": 74
    },
    {
     "cell_type": "code",
     "collapsed": false,
     "input": [
      "d.keys()"
     ],
     "language": "python",
     "metadata": {},
     "outputs": [
      {
       "metadata": {},
       "output_type": "pyout",
       "prompt_number": 75,
       "text": [
        "['center_freq',\n",
        " 'start_time',\n",
        " 'time',\n",
        " 'sample_rate',\n",
        " 'gain',\n",
        " 'sweep_freq',\n",
        " 'data',\n",
        " 'sweep_mag']"
       ]
      }
     ],
     "prompt_number": 75
    },
    {
     "cell_type": "code",
     "collapsed": false,
     "input": [
      "plot(d['sweep_freq'],10*np.log10(d['sweep_mag']),'.')\n",
      "ax = gca()\n",
      "ax.axvline(d['center_freq'][()])"
     ],
     "language": "python",
     "metadata": {},
     "outputs": [
      {
       "metadata": {},
       "output_type": "pyout",
       "prompt_number": 77,
       "text": [
        "<matplotlib.lines.Line2D at 0x14bffd10>"
       ]
      },
      {
       "metadata": {},
       "output_type": "display_data",
       "png": "[encoded data removed]",
       "text": [
        "<matplotlib.figure.Figure at 0x14bde490>"
       ]
      }
     ],
     "prompt_number": 77
    },
    {
     "cell_type": "code",
     "collapsed": false,
     "input": [
      "fns = glob.glob('/home/data2/rtl/2014-09-29*.npz')\n",
      "fns.sort()"
     ],
     "language": "python",
     "metadata": {},
     "outputs": [],
     "prompt_number": 32
    },
    {
     "cell_type": "code",
     "collapsed": false,
     "input": [
      "kid_readout.utils.starcryo_temps._filecache = {}"
     ],
     "language": "python",
     "metadata": {},
     "outputs": [],
     "prompt_number": 33
    },
    {
     "cell_type": "code",
     "collapsed": false,
     "input": [
      "taus = []\n",
      "temps = []\n",
      "f0s = []\n",
      "for fn in fns:\n",
      "    tau,fit = get_time_constant_from_file(fn,debug=False)\n",
      "    d = np.load(fn)\n",
      "    packg,_,load1,load2 = kid_readout.utils.starcryo_temps.get_temperatures_at(d['time'][()])\n",
      "    f0 = d['center_freq'][()]\n",
      "    f0s.append(f0)\n",
      "    print packg,load1,load2\n",
      "    temps.append(load2)\n",
      "    taus.append(tau)"
     ],
     "language": "python",
     "metadata": {},
     "outputs": [
      {
       "output_type": "stream",
       "stream": "stdout",
       "text": [
        "3077 2946 0.678756476684\n",
        "initial guess:"
       ]
      },
      {
       "output_type": "stream",
       "stream": "stdout",
       "text": [
        " Parameters([('tau', <Parameter 'tau', 9.9990234375000009e-05, bounds=[0:0.099990234375000014]>), ('amp', <Parameter 'amp', 0.045730200120595574, bounds=[-0.049161825064819017:0.049161825064819017]>), ('offset', <Parameter 'offset', 0.059909238419418073, bounds=[0.0073157884103756121:0.15480126360483265]>), ('t_on', <Parameter 't_on', 0.0028681640624999998, bounds=[0.0:0.0099990234375000007]>), ('t_rise', <Parameter 't_rise', 9.9990234375000015e-06, bounds=[0:0.099990234375000014]>)])\n",
        "0.184149110327"
       ]
      },
      {
       "output_type": "stream",
       "stream": "stdout",
       "text": [
        " 6.177 3.58440660901\n",
        "5533"
       ]
      },
      {
       "output_type": "stream",
       "stream": "stdout",
       "text": [
        " 5400 0.689119170984\n",
        "initial guess:"
       ]
      },
      {
       "output_type": "stream",
       "stream": "stdout",
       "text": [
        " Parameters([('tau', <Parameter 'tau', 9.9990234375000009e-05, bounds=[0:0.099990234375000014]>), ('amp', <Parameter 'amp', 0.036839291056499961, bounds=[-0.041049534873728644:0.041049534873728644]>), ('offset', <Parameter 'offset', 0.059041295498096315, bounds=[0.013781516807138988:0.13693012142832492]>), ('t_on', <Parameter 't_on', 0.0052675781250000001, bounds=[0.0:0.0099990234375000007]>), ('t_rise', <Parameter 't_rise', 9.9990234375000015e-06, bounds=[0:0.099990234375000014]>)])\n",
        "0.183952533291 6.176 3.558\n",
        "3000"
       ]
      },
      {
       "output_type": "stream",
       "stream": "stdout",
       "text": [
        " 2854 0.756476683938\n",
        "initial guess:"
       ]
      },
      {
       "output_type": "stream",
       "stream": "stdout",
       "text": [
        " Parameters([('tau', <Parameter 'tau', 9.9990234375000009e-05, bounds=[0:0.099990234375000014]>), ('amp', <Parameter 'amp', 0.031195964353521857, bounds=[-0.03523544119615022:0.03523544119615022]>), ('offset', <Parameter 'offset', 0.056465414201072373, bounds=[0.017190496162293789:0.12289681975074446]>), ('t_on', <Parameter 't_on', 0.0027832031250000001, bounds=[0.0:0.0099990234375000007]>), ('t_rise', <Parameter 't_rise', 9.9990234375000015e-06, bounds=[0:0.099990234375000014]>)])\n",
        "0.183854275999"
       ]
      },
      {
       "output_type": "stream",
       "stream": "stdout",
       "text": [
        " 6.177 3.545\n",
        "2336"
       ]
      },
      {
       "output_type": "stream",
       "stream": "stdout",
       "text": [
        " 2625 -1.49740932642\n",
        "initial guess:"
       ]
      },
      {
       "output_type": "stream",
       "stream": "stdout",
       "text": [
        " Parameters([('tau', <Parameter 'tau', 9.9990234375000009e-05, bounds=[0:0.099990234375000014]>), ('amp', <Parameter 'amp', 0.0081927864147598797, bounds=[-0.012081480357056071:0.012081480357056071]>), ('offset', <Parameter 'offset', 0.055188761253223452, bounds=[0.03921858695387119:0.075463028025039403]>), ('t_on', <Parameter 't_on', 0.0026044921874999998, bounds=[0.0:0.0099990234375000007]>), ('t_rise', <Parameter 't_rise', 9.9990234375000015e-06, bounds=[0:0.099990234375000014]>)])\n",
        "0.183691822837"
       ]
      },
      {
       "output_type": "stream",
       "stream": "stdout",
       "text": [
        " 6.177 3.53306041522\n",
        "2525"
       ]
      },
      {
       "output_type": "stream",
       "stream": "stdout",
       "text": [
        " 2371 0.79792746114\n",
        "initial guess:"
       ]
      },
      {
       "output_type": "stream",
       "stream": "stdout",
       "text": [
        " Parameters([('tau', <Parameter 'tau', 9.9990234375000009e-05, bounds=[0:0.099990234375000014]>), ('amp', <Parameter 'amp', 0.027673134977666269, bounds=[-0.031764920876505731:0.031764920876505731]>), ('offset', <Parameter 'offset', 0.054395544484625372, bounds=[0.018538837709280179:0.11383360033879737]>), ('t_on', <Parameter 't_on', 0.0023066406250000001, bounds=[0.0:0.0099990234375000007]>), ('t_rise', <Parameter 't_rise', 9.9990234375000015e-06, bounds=[0:0.099990234375000014]>)])\n",
        "0.183540484961 6.17640340099 3.522\n",
        "5634"
       ]
      },
      {
       "output_type": "stream",
       "stream": "stdout",
       "text": [
        " 5513 0.626943005181\n",
        "initial guess:"
       ]
      },
      {
       "output_type": "stream",
       "stream": "stdout",
       "text": [
        " Parameters([('tau', <Parameter 'tau', 9.9990234375000009e-05, bounds=[0:0.099990234375000014]>), ('amp', <Parameter 'amp', 0.025045801738070556, bounds=[-0.029083397609738174:0.029083397609738174]>), ('offset', <Parameter 'offset', 0.054662847846349907, bounds=[0.021541854364944116:0.10879204719415864]>), ('t_on', <Parameter 't_on', 0.0053779296874999997, bounds=[0.0:0.0099990234375000007]>), ('t_rise', <Parameter 't_rise', 9.9990234375000015e-06, bounds=[0:0.099990234375000014]>)])\n",
        "0.183351447928 6.177 3.512\n",
        "2537"
       ]
      },
      {
       "output_type": "stream",
       "stream": "stdout",
       "text": [
        " 2405 0.683937823834\n",
        "initial guess:"
       ]
      },
      {
       "output_type": "stream",
       "stream": "stdout",
       "text": [
        " Parameters([('tau', <Parameter 'tau', 9.9990234375000009e-05, bounds=[0:0.099990234375000014]>), ('amp', <Parameter 'amp', 0.025628538055135291, bounds=[-0.030332179788816541:0.030332179788816541]>), ('offset', <Parameter 'offset', 0.054915697009987885, bounds=[0.019879875487490095:0.11087641485393972]>), ('t_on', <Parameter 't_on', 0.0023466796875, bounds=[0.0:0.0099990234375000007]>), ('t_rise', <Parameter 't_rise', 9.9990234375000015e-06, bounds=[0:0.099990234375000014]>)])\n",
        "0.183324169752"
       ]
      },
      {
       "output_type": "stream",
       "stream": "stdout",
       "text": [
        " 6.177 3.502\n",
        "7747"
       ]
      },
      {
       "output_type": "stream",
       "stream": "stdout",
       "text": [
        " 7610 0.709844559585\n",
        "initial guess:"
       ]
      },
      {
       "output_type": "stream",
       "stream": "stdout",
       "text": [
        " Parameters([('tau', <Parameter 'tau', 9.9990234375000009e-05, bounds=[0:0.099990234375000014]>), ('amp', <Parameter 'amp', 0.025477403749412521, bounds=[-0.028912064043684023:0.028912064043684023]>), ('offset', <Parameter 'offset', 0.05428410924769219, bounds=[0.021937384909736665:0.10867357704078873]>), ('t_on', <Parameter 't_on', 0.0074257812500000001, bounds=[0.0:0.0099990234375000007]>), ('t_rise', <Parameter 't_rise', 9.9990234375000015e-06, bounds=[0:0.099990234375000014]>)])\n",
        "0.18333991063"
       ]
      },
      {
       "output_type": "stream",
       "stream": "stdout",
       "text": [
        " 6.177 3.493\n",
        "2699"
       ]
      },
      {
       "output_type": "stream",
       "stream": "stdout",
       "text": [
        " 2562 0.709844559585\n",
        "initial guess:"
       ]
      },
      {
       "output_type": "stream",
       "stream": "stdout",
       "text": [
        " Parameters([('tau', <Parameter 'tau', 9.9990234375000009e-05, bounds=[0:0.099990234375000014]>), ('amp', <Parameter 'amp', 0.024562836557647058, bounds=[-0.029100960414616829:0.029100960414616829]>), ('offset', <Parameter 'offset', 0.054515610082843793, bounds=[0.020876525811257193:0.10817940705510767]>), ('t_on', <Parameter 't_on', 0.0024970703124999999, bounds=[0.0:0.0099990234375000007]>), ('t_rise', <Parameter 't_rise', 9.9990234375000015e-06, bounds=[0:0.099990234375000014]>)])\n",
        "0.183258711195 6.178 3.485\n",
        "2209"
       ]
      },
      {
       "output_type": "stream",
       "stream": "stdout",
       "text": [
        " 2070 0.720207253886\n",
        "initial guess:"
       ]
      },
      {
       "output_type": "stream",
       "stream": "stdout",
       "text": [
        " Parameters([('tau', <Parameter 'tau', 9.9990234375000009e-05, bounds=[0:0.099990234375000014]>), ('amp', <Parameter 'amp', 0.042137042980471801, bounds=[-0.045973628691799634:0.045973628691799634]>), ('offset', <Parameter 'offset', 0.054642986944392402, bounds=[0.0048327725412649347:0.14275365861666384]>), ('t_on', <Parameter 't_on', 0.0020156250000000001, bounds=[0.0:0.0099990234375000007]>), ('t_rise', <Parameter 't_rise', 9.9990234375000015e-06, bounds=[0:0.099990234375000014]>)])\n",
        "0.183351831587"
       ]
      },
      {
       "output_type": "stream",
       "stream": "stdout",
       "text": [
        " 6.178 3.477\n",
        "3563"
       ]
      },
      {
       "output_type": "stream",
       "stream": "stdout",
       "text": [
        " 3429 0.694300518135\n",
        "initial guess:"
       ]
      },
      {
       "output_type": "stream",
       "stream": "stdout",
       "text": [
        " Parameters([('tau', <Parameter 'tau', 9.9990234375000009e-05, bounds=[0:0.099990234375000014]>), ('amp', <Parameter 'amp', 0.040704034725812986, bounds=[-0.044012730769319795:0.044012730769319795]>), ('offset', <Parameter 'offset', 0.053345487572861748, bounds=[0.0060240607600351437:0.13806225306799452]>), ('t_on', <Parameter 't_on', 0.0033437499999999999, bounds=[0.0:0.0099990234375000007]>), ('t_rise', <Parameter 't_rise', 9.9990234375000015e-06, bounds=[0:0.099990234375000014]>)])\n",
        "0.183066128801"
       ]
      },
      {
       "output_type": "stream",
       "stream": "stdout",
       "text": [
        " 6.1771519402 3.47\n",
        "3068"
       ]
      },
      {
       "output_type": "stream",
       "stream": "stdout",
       "text": [
        " 2927 0.730569948187\n",
        "initial guess:"
       ]
      },
      {
       "output_type": "stream",
       "stream": "stdout",
       "text": [
        " Parameters([('tau', <Parameter 'tau', 9.9990234375000009e-05, bounds=[0:0.099990234375000014]>), ('amp', <Parameter 'amp', 0.041356117718323572, bounds=[-0.045124008091398812:0.045124008091398812]>), ('offset', <Parameter 'offset', 0.053682509088731657, bounds=[0.0047906106242576046:0.14016263489845404]>), ('t_on', <Parameter 't_on', 0.0028544921875, bounds=[0.0:0.0099990234375000007]>), ('t_rise', <Parameter 't_rise', 9.9990234375000015e-06, bounds=[0:0.099990234375000014]>)])\n",
        "0.183024146675"
       ]
      },
      {
       "output_type": "stream",
       "stream": "stdout",
       "text": [
        " 6.178 3.464\n",
        "5002"
       ]
      },
      {
       "output_type": "stream",
       "stream": "stdout",
       "text": [
        " 4867 0.699481865285\n",
        "initial guess:"
       ]
      },
      {
       "output_type": "stream",
       "stream": "stdout",
       "text": [
        " Parameters([('tau', <Parameter 'tau', 9.9990234375000009e-05, bounds=[0:0.099990234375000014]>), ('amp', <Parameter 'amp', 0.042127311790806185, bounds=[-0.045373666079396358:0.045373666079396358]>), ('offset', <Parameter 'offset', 0.054263844471153136, bounds=[0.0056438241031666059:0.14176482234135568]>), ('t_on', <Parameter 't_on', 0.0047441406249999997, bounds=[0.0:0.0099990234375000007]>), ('t_rise', <Parameter 't_rise', 9.9990234375000015e-06, bounds=[0:0.099990234375000014]>)])\n",
        "0.183059019187 6.178 3.47616160402\n",
        "5167"
       ]
      },
      {
       "output_type": "stream",
       "stream": "stdout",
       "text": [
        " 5034 0.689119170984\n",
        "initial guess:"
       ]
      },
      {
       "output_type": "stream",
       "stream": "stdout",
       "text": [
        " Parameters([('tau', <Parameter 'tau', 9.9990234375000009e-05, bounds=[0:0.099990234375000014]>), ('amp', <Parameter 'amp', 0.042453565190591028, bounds=[-0.046202007653711311:0.046202007653711311]>), ('offset', <Parameter 'offset', 0.054200619846904288, bounds=[0.0042501697300726948:0.14285619269120664]>), ('t_on', <Parameter 't_on', 0.0049140625, bounds=[0.0:0.0099990234375000007]>), ('t_rise', <Parameter 't_rise', 9.9990234375000015e-06, bounds=[0:0.099990234375000014]>)])\n",
        "0.183198923875 6.179 3.49663074059\n",
        "5906"
       ]
      },
      {
       "output_type": "stream",
       "stream": "stdout",
       "text": [
        " 5778 0.663212435233\n",
        "initial guess:"
       ]
      },
      {
       "output_type": "stream",
       "stream": "stdout",
       "text": [
        " Parameters([('tau', <Parameter 'tau', 9.9990234375000009e-05, bounds=[0:0.099990234375000014]>), ('amp', <Parameter 'amp', 0.023684459622439431, bounds=[-0.028750893905414257:0.028750893905414257]>), ('offset', <Parameter 'offset', 0.055489649238697737, bounds=[0.021672321050308654:0.10792500276655143]>), ('t_on', <Parameter 't_on', 0.0056376953124999997, bounds=[0.0:0.0099990234375000007]>), ('t_rise', <Parameter 't_rise', 9.9990234375000015e-06, bounds=[0:0.099990234375000014]>)])\n",
        "0.182958236826"
       ]
      },
      {
       "output_type": "stream",
       "stream": "stdout",
       "text": [
        " 6.179 3.515133991\n",
        "6729"
       ]
      },
      {
       "output_type": "stream",
       "stream": "stdout",
       "text": [
        " 6597 0.683937823834\n",
        "initial guess:"
       ]
      },
      {
       "output_type": "stream",
       "stream": "stdout",
       "text": [
        " Parameters([('tau', <Parameter 'tau', 9.9990234375000009e-05, bounds=[0:0.099990234375000014]>), ('amp', <Parameter 'amp', 0.02744340907067111, bounds=[-0.031056835037101452:0.031056835037101452]>), ('offset', <Parameter 'offset', 0.053813211116904403, bounds=[0.019142950113372609:0.11231345522467696]>), ('t_on', <Parameter 't_on', 0.0064423828125000004, bounds=[0.0:0.0099990234375000007]>), ('t_rise', <Parameter 't_rise', 9.9990234375000015e-06, bounds=[0:0.099990234375000014]>)])\n",
        "0.183061832285 6.179 3.53263954501\n",
        "2352"
       ]
      },
      {
       "output_type": "stream",
       "stream": "stdout",
       "text": [
        " 2235 0.60621761658\n",
        "initial guess:"
       ]
      },
      {
       "output_type": "stream",
       "stream": "stdout",
       "text": [
        " Parameters([('tau', <Parameter 'tau', 9.9990234375000009e-05, bounds=[0:0.099990234375000014]>), ('amp', <Parameter 'amp', 0.030152077627983394, bounds=[-0.034520898190339877:0.034520898190339877]>), ('offset', <Parameter 'offset', 0.052667801843010197, bounds=[0.013778083090313836:0.11734077766133347]>), ('t_on', <Parameter 't_on', 0.002177734375, bounds=[0.0:0.0099990234375000007]>), ('t_rise', <Parameter 't_rise', 9.9990234375000015e-06, bounds=[0:0.099990234375000014]>)])\n",
        "0.182774009325 6.179 3.549\n",
        "4784"
       ]
      },
      {
       "output_type": "stream",
       "stream": "stdout",
       "text": [
        " 4645 0.720207253886\n",
        "initial guess:"
       ]
      },
      {
       "output_type": "stream",
       "stream": "stdout",
       "text": [
        " Parameters([('tau', <Parameter 'tau', 9.9990234375000009e-05, bounds=[0:0.099990234375000014]>), ('amp', <Parameter 'amp', 0.029080752668298036, bounds=[-0.032564244638612905:0.032564244638612905]>), ('offset', <Parameter 'offset', 0.053311901150780071, bounds=[0.017264164541852298:0.11495689845769101]>), ('t_on', <Parameter 't_on', 0.0045302734375000002, bounds=[0.0:0.0099990234375000007]>), ('t_rise', <Parameter 't_rise', 9.9990234375000015e-06, bounds=[0:0.099990234375000014]>)])\n",
        "0.182896796513"
       ]
      },
      {
       "output_type": "stream",
       "stream": "stdout",
       "text": [
        " 6.179 3.564\n",
        "1976"
       ]
      },
      {
       "output_type": "stream",
       "stream": "stdout",
       "text": [
        " 1844 0.683937823834\n",
        "initial guess:"
       ]
      },
      {
       "output_type": "stream",
       "stream": "stdout",
       "text": [
        " Parameters([('tau', <Parameter 'tau', 9.9990234375000009e-05, bounds=[0:0.099990234375000014]>), ('amp', <Parameter 'amp', 0.028677040878586087, bounds=[-0.032065465855137962:0.032065465855137962]>), ('offset', <Parameter 'offset', 0.053014339935350895, bounds=[0.017560449103661058:0.11375684666907494]>), ('t_on', <Parameter 't_on', 0.0017998046875, bounds=[0.0:0.0099990234375000007]>), ('t_rise', <Parameter 't_rise', 9.9990234375000015e-06, bounds=[0:0.099990234375000014]>)])\n",
        "0.182900990253"
       ]
      },
      {
       "output_type": "stream",
       "stream": "stdout",
       "text": [
        " 6.179 3.578\n",
        "2367"
       ]
      },
      {
       "output_type": "stream",
       "stream": "stdout",
       "text": [
        " 2237 0.673575129534\n",
        "initial guess:"
       ]
      },
      {
       "output_type": "stream",
       "stream": "stdout",
       "text": [
        " Parameters([('tau', <Parameter 'tau', 9.9990234375000009e-05, bounds=[0:0.099990234375000014]>), ('amp', <Parameter 'amp', 0.029973515629910408, bounds=[-0.034052675834789867:0.034052675834789867]>), ('offset', <Parameter 'offset', 0.052762182672587823, bounds=[0.014630346632918498:0.1167883741372881]>), ('t_on', <Parameter 't_on', 0.0021787109374999999, bounds=[0.0:0.0099990234375000007]>), ('t_rise', <Parameter 't_rise', 9.9990234375000015e-06, bounds=[0:0.099990234375000014]>)])\n",
        "0.182912793236"
       ]
      },
      {
       "output_type": "stream",
       "stream": "stdout",
       "text": [
        " 6.18 3.59061978722\n",
        "5810"
       ]
      },
      {
       "output_type": "stream",
       "stream": "stdout",
       "text": [
        " 5673 0.709844559585\n",
        "initial guess:"
       ]
      },
      {
       "output_type": "stream",
       "stream": "stdout",
       "text": [
        " Parameters([('tau', <Parameter 'tau', 9.9990234375000009e-05, bounds=[0:0.099990234375000014]>), ('amp', <Parameter 'amp', 0.0315220621798784, bounds=[-0.035528063540940118:0.035528063540940118]>), ('offset', <Parameter 'offset', 0.052859361382437776, bounds=[0.013325296480435941:0.1199094871032563]>), ('t_on', <Parameter 't_on', 0.0055410156250000004, bounds=[0.0:0.0099990234375000007]>), ('t_rise', <Parameter 't_rise', 9.9990234375000015e-06, bounds=[0:0.099990234375000014]>)])\n",
        "0.182814682616"
       ]
      },
      {
       "output_type": "stream",
       "stream": "stdout",
       "text": [
        " 6.18 3.60213186002\n",
        "6072"
       ]
      },
      {
       "output_type": "stream",
       "stream": "stdout",
       "text": [
        " 5945 0.658031088083\n",
        "initial guess:"
       ]
      },
      {
       "output_type": "stream",
       "stream": "stdout",
       "text": [
        " Parameters([('tau', <Parameter 'tau', 9.9990234375000009e-05, bounds=[0:0.099990234375000014]>), ('amp', <Parameter 'amp', 0.032677992099086894, bounds=[-0.036347403664440017:0.036347403664440017]>), ('offset', <Parameter 'offset', 0.052632733426653255, bounds=[0.012615918196860115:0.12165812919018017]>), ('t_on', <Parameter 't_on', 0.0058027343750000002, bounds=[0.0:0.0099990234375000007]>), ('t_rise', <Parameter 't_rise', 9.9990234375000015e-06, bounds=[0:0.099990234375000014]>)])\n",
        "0.183004733025 6.179 3.61363972301\n",
        "2524"
       ]
      },
      {
       "output_type": "stream",
       "stream": "stdout",
       "text": [
        " 2394 0.673575129534\n",
        "initial guess:"
       ]
      },
      {
       "output_type": "stream",
       "stream": "stdout",
       "text": [
        " Parameters([('tau', <Parameter 'tau', 9.9990234375000009e-05, bounds=[0:0.099990234375000014]>), ('amp', <Parameter 'amp', 0.031258412899439252, bounds=[-0.034313545056437918:0.034313545056437918]>), ('offset', <Parameter 'offset', 0.052423978666924755, bounds=[0.015055301453488171:0.11799593662280192]>), ('t_on', <Parameter 't_on', 0.0023369140624999998, bounds=[0.0:0.0099990234375000007]>), ('t_rise', <Parameter 't_rise', 9.9990234375000015e-06, bounds=[0:0.099990234375000014]>)])\n",
        "0.18293566201"
       ]
      },
      {
       "output_type": "stream",
       "stream": "stdout",
       "text": [
        " 6.179 3.624\n",
        "1986"
       ]
      },
      {
       "output_type": "stream",
       "stream": "stdout",
       "text": [
        " 1852 0.694300518135\n",
        "initial guess:"
       ]
      },
      {
       "output_type": "stream",
       "stream": "stdout",
       "text": [
        " Parameters([('tau', <Parameter 'tau', 9.9990234375000009e-05, bounds=[0:0.099990234375000014]>), ('amp', <Parameter 'amp', 0.033566720348163562, bounds=[-0.037487832565191267:0.037487832565191267]>), ('offset', <Parameter 'offset', 0.053096364056676185, bounds=[0.011687419274457211:0.12415091697003101]>), ('t_on', <Parameter 't_on', 0.0018046875000000001, bounds=[0.0:0.0099990234375000007]>), ('t_rise', <Parameter 't_rise', 9.9990234375000015e-06, bounds=[0:0.099990234375000014]>)])\n",
        "0.183067940149 6.179 3.633\n",
        "3878"
       ]
      },
      {
       "output_type": "stream",
       "stream": "stdout",
       "text": [
        " 3746 0.683937823834\n",
        "initial guess:"
       ]
      },
      {
       "output_type": "stream",
       "stream": "stdout",
       "text": [
        " Parameters([('tau', <Parameter 'tau', 9.9990234375000009e-05, bounds=[0:0.099990234375000014]>), ('amp', <Parameter 'amp', 0.036622142941973058, bounds=[-0.04026562483374687:0.04026562483374687]>), ('offset', <Parameter 'offset', 0.052929013034197524, bounds=[0.0090199063086768422:0.12981678080991746]>), ('t_on', <Parameter 't_on', 0.0036513671874999999, bounds=[0.0:0.0099990234375000007]>), ('t_rise', <Parameter 't_rise', 9.9990234375000015e-06, bounds=[0:0.099990234375000014]>)])\n",
        "0.182781527524"
       ]
      },
      {
       "output_type": "stream",
       "stream": "stdout",
       "text": [
        " 6.179 3.642\n",
        "2541"
       ]
      },
      {
       "output_type": "stream",
       "stream": "stdout",
       "text": [
        " 2403 0.715025906736\n",
        "initial guess:"
       ]
      },
      {
       "output_type": "stream",
       "stream": "stdout",
       "text": [
        " Parameters([('tau', <Parameter 'tau', 9.9990234375000009e-05, bounds=[0:0.099990234375000014]>), ('amp', <Parameter 'amp', 0.037268579881369432, bounds=[-0.040495072359848526:0.040495072359848526]>), ('offset', <Parameter 'offset', 0.052720233936161834, bounds=[0.0089986690978342138:0.1304838861773798]>), ('t_on', <Parameter 't_on', 0.0023486328124999998, bounds=[0.0:0.0099990234375000007]>), ('t_rise', <Parameter 't_rise', 9.9990234375000015e-06, bounds=[0:0.099990234375000014]>)])\n",
        "0.182864055704"
       ]
      },
      {
       "output_type": "stream",
       "stream": "stdout",
       "text": [
        " 6.179 3.65\n",
        "3615"
       ]
      },
      {
       "output_type": "stream",
       "stream": "stdout",
       "text": [
        " 3490 0.647668393782\n",
        "initial guess:"
       ]
      },
      {
       "output_type": "stream",
       "stream": "stdout",
       "text": [
        " Parameters([('tau', <Parameter 'tau', 9.9990234375000009e-05, bounds=[0:0.099990234375000014]>), ('amp', <Parameter 'amp', 0.038064175557338126, bounds=[-0.042124251766263866:0.042124251766263866]>), ('offset', <Parameter 'offset', 0.05337432024349896, bounds=[0.0071899922683093531:0.13356274756710096]>), ('t_on', <Parameter 't_on', 0.0034042968750000002, bounds=[0.0:0.0099990234375000007]>), ('t_rise', <Parameter 't_rise', 9.9990234375000015e-06, bounds=[0:0.099990234375000014]>)])\n",
        "0.182776176683 6.18 3.658\n",
        "5681"
       ]
      },
      {
       "output_type": "stream",
       "stream": "stdout",
       "text": [
        " 5540 0.730569948187\n",
        "initial guess:"
       ]
      },
      {
       "output_type": "stream",
       "stream": "stdout",
       "text": [
        " Parameters([('tau', <Parameter 'tau', 9.9990234375000009e-05, bounds=[0:0.099990234375000014]>), ('amp', <Parameter 'amp', 0.038567611427832313, bounds=[-0.041998845048503507:0.041998845048503507]>), ('offset', <Parameter 'offset', 0.05269596121178706, bounds=[0.0072658825426123591:0.13326241768812289]>), ('t_on', <Parameter 't_on', 0.0054013671874999997, bounds=[0.0:0.0099990234375000007]>), ('t_rise', <Parameter 't_rise', 9.9990234375000015e-06, bounds=[0:0.099990234375000014]>)])\n",
        "0.182870555769 6.18 3.665\n",
        "7367"
       ]
      },
      {
       "output_type": "stream",
       "stream": "stdout",
       "text": [
        " 7226 0.730569948187\n",
        "initial guess:"
       ]
      },
      {
       "output_type": "stream",
       "stream": "stdout",
       "text": [
        " Parameters([('tau', <Parameter 'tau', 9.9990234375000009e-05, bounds=[0:0.099990234375000014]>), ('amp', <Parameter 'amp', 0.03701100526295556, bounds=[-0.041049265592328583:0.041049265592328583]>), ('offset', <Parameter 'offset', 0.052858438051182899, bounds=[0.0077709121294812916:0.13091870890646704]>), ('t_on', <Parameter 't_on', 0.0070527343750000004, bounds=[0.0:0.0099990234375000007]>), ('t_rise', <Parameter 't_rise', 9.9990234375000015e-06, bounds=[0:0.099990234375000014]>)])\n",
        "0.182776199322 6.18 3.67216143322\n",
        "1838"
       ]
      },
      {
       "output_type": "stream",
       "stream": "stdout",
       "text": [
        " 1700 0.715025906736\n",
        "initial guess:"
       ]
      },
      {
       "output_type": "stream",
       "stream": "stdout",
       "text": [
        " Parameters([('tau', <Parameter 'tau', 9.9990234375000009e-05, bounds=[0:0.099990234375000014]>), ('amp', <Parameter 'amp', 0.040463751211811519, bounds=[-0.044005479415936008:0.044005479415936008]>), ('offset', <Parameter 'offset', 0.053434410761076953, bounds=[0.005887203141016456:0.13790364138882449]>), ('t_on', <Parameter 't_on', 0.0016591796875000001, bounds=[0.0:0.0099990234375000007]>), ('t_rise', <Parameter 't_rise', 9.9990234375000015e-06, bounds=[0:0.099990234375000014]>)])\n",
        "0.18281379941"
       ]
      },
      {
       "output_type": "stream",
       "stream": "stdout",
       "text": [
        " 6.18 3.67868557801\n",
        "1436"
       ]
      },
      {
       "output_type": "stream",
       "stream": "stdout",
       "text": [
        " 1313 0.637305699482\n",
        "initial guess:"
       ]
      },
      {
       "output_type": "stream",
       "stream": "stdout",
       "text": [
        " Parameters([('tau', <Parameter 'tau', 9.9990234375000009e-05, bounds=[0:0.099990234375000014]>), ('amp', <Parameter 'amp', 0.039654088279045888, bounds=[-0.043474084064584979:0.043474084064584979]>), ('offset', <Parameter 'offset', 0.054106582359200309, bounds=[0.0068125025090762376:0.13723475470283117]>), ('t_on', <Parameter 't_on', 0.0012773437500000001, bounds=[0.0:0.0099990234375000007]>), ('t_rise', <Parameter 't_rise', 9.9990234375000015e-06, bounds=[0:0.099990234375000014]>)])\n",
        "0.182910553966 6.181 3.685\n",
        "4079"
       ]
      },
      {
       "output_type": "stream",
       "stream": "stdout",
       "text": [
        " 3940 0.720207253886\n",
        "initial guess:"
       ]
      },
      {
       "output_type": "stream",
       "stream": "stdout",
       "text": [
        " Parameters([('tau', <Parameter 'tau', 9.9990234375000009e-05, bounds=[0:0.099990234375000014]>), ('amp', <Parameter 'amp', 0.0404952001084663, bounds=[-0.044754230414476896:0.044754230414476896]>), ('offset', <Parameter 'offset', 0.054636089540371677, bounds=[0.0056228288198841847:0.13988552006331487]>), ('t_on', <Parameter 't_on', 0.0038398437499999999, bounds=[0.0:0.0099990234375000007]>), ('t_rise', <Parameter 't_rise', 9.9990234375000015e-06, bounds=[0:0.099990234375000014]>)])\n",
        "0.18286869317 6.181 3.69\n",
        "3293"
       ]
      },
      {
       "output_type": "stream",
       "stream": "stdout",
       "text": [
        " 3159 0.694300518135\n",
        "initial guess:"
       ]
      },
      {
       "output_type": "stream",
       "stream": "stdout",
       "text": [
        " Parameters([('tau', <Parameter 'tau', 9.9990234375000009e-05, bounds=[0:0.099990234375000014]>), ('amp', <Parameter 'amp', 0.020917399306330631, bounds=[-0.026069049968990607:0.026069049968990607]>), ('offset', <Parameter 'offset', 0.056080428017507192, bounds=[0.024859727385856609:0.10306687729282843]>), ('t_on', <Parameter 't_on', 0.0030849609374999998, bounds=[0.0:0.0099990234375000007]>), ('t_rise', <Parameter 't_rise', 9.9990234375000015e-06, bounds=[0:0.099990234375000014]>)])\n",
        "0.182834708902"
       ]
      },
      {
       "output_type": "stream",
       "stream": "stdout",
       "text": [
        " 6.181 3.696\n",
        "3164"
       ]
      },
      {
       "output_type": "stream",
       "stream": "stdout",
       "text": [
        " 3027 0.709844559585\n",
        "initial guess:"
       ]
      },
      {
       "output_type": "stream",
       "stream": "stdout",
       "text": [
        " Parameters([('tau', <Parameter 'tau', 9.9990234375000009e-05, bounds=[0:0.099990234375000014]>), ('amp', <Parameter 'amp', 0.042065731529271726, bounds=[-0.045783838132705035:0.045783838132705035]>), ('offset', <Parameter 'offset', 0.054332179153603853, bounds=[0.0048302344174655093:0.1421817488155806]>), ('t_on', <Parameter 't_on', 0.0029521484375000001, bounds=[0.0:0.0099990234375000007]>), ('t_rise', <Parameter 't_rise', 9.9990234375000015e-06, bounds=[0:0.099990234375000014]>)])\n",
        "0.182845915332 6.181 3.701\n",
        "5243"
       ]
      },
      {
       "output_type": "stream",
       "stream": "stdout",
       "text": [
        " 5107 0.704663212435\n",
        "initial guess:"
       ]
      },
      {
       "output_type": "stream",
       "stream": "stdout",
       "text": [
        " Parameters([('tau', <Parameter 'tau', 9.9990234375000009e-05, bounds=[0:0.099990234375000014]>), ('amp', <Parameter 'amp', 0.042237514145667926, bounds=[-0.046151468897132723:0.046151468897132723]>), ('offset', <Parameter 'offset', 0.054962828347692727, bounds=[0.0048974046990952064:0.14335181139049338]>), ('t_on', <Parameter 't_on', 0.0049833984374999998, bounds=[0.0:0.0099990234375000007]>), ('t_rise', <Parameter 't_rise', 9.9990234375000015e-06, bounds=[0:0.099990234375000014]>)])\n",
        "0.182674366764 6.182 3.70437077899\n",
        "4031"
       ]
      },
      {
       "output_type": "stream",
       "stream": "stdout",
       "text": [
        " 3888 0.740932642487\n",
        "initial guess:"
       ]
      },
      {
       "output_type": "stream",
       "stream": "stdout",
       "text": [
        " Parameters([('tau', <Parameter 'tau', 9.9990234375000009e-05, bounds=[0:0.099990234375000014]>), ('amp', <Parameter 'amp', 0.024467753441227973, bounds=[-0.028647641435617793:0.028647641435617793]>), ('offset', <Parameter 'offset', 0.054393595529737125, bounds=[0.021566066099729511:0.10750899040658289]>), ('t_on', <Parameter 't_on', 0.0037910156250000001, bounds=[0.0:0.0099990234375000007]>), ('t_rise', <Parameter 't_rise', 9.9990234375000015e-06, bounds=[0:0.099990234375000014]>)])\n",
        "0.182950436017"
       ]
      },
      {
       "output_type": "stream",
       "stream": "stdout",
       "text": [
        " 6.181 3.73775467086\n",
        "1953"
       ]
      },
      {
       "output_type": "stream",
       "stream": "stdout",
       "text": [
        " 1801 0.787564766839\n",
        "initial guess:"
       ]
      },
      {
       "output_type": "stream",
       "stream": "stdout",
       "text": [
        " Parameters([('tau', <Parameter 'tau', 9.9990234375000009e-05, bounds=[0:0.099990234375000014]>), ('amp', <Parameter 'amp', 0.031089353387293711, bounds=[-0.034993325051234869:0.034993325051234869]>), ('offset', <Parameter 'offset', 0.053311476650530001, bounds=[0.014414179935353974:0.11939415508905858]>), ('t_on', <Parameter 't_on', 0.00175390625, bounds=[0.0:0.0099990234375000007]>), ('t_rise', <Parameter 't_rise', 9.9990234375000015e-06, bounds=[0:0.099990234375000014]>)])\n",
        "0.182891349656 6.182 3.80089955921\n",
        "2540"
       ]
      },
      {
       "output_type": "stream",
       "stream": "stdout",
       "text": [
        " 1196 6.96373056995\n",
        "initial guess:"
       ]
      },
      {
       "output_type": "stream",
       "stream": "stdout",
       "text": [
        " Parameters([('tau', <Parameter 'tau', 9.9990234375000009e-05, bounds=[0:0.099990234375000014]>), ('amp', <Parameter 'amp', 0.0041668424467888251, bounds=[-0.0081243798110534962:0.0081243798110534962]>), ('offset', <Parameter 'offset', 0.060782200750185901, bounds=[0.048700283574867734:0.073073423008028215]>), ('t_on', <Parameter 't_on', 0.0092050781250000002, bounds=[0.0:0.0099990234375000007]>), ('t_rise', <Parameter 't_rise', 9.9990234375000015e-06, bounds=[0:0.099990234375000014]>)])\n",
        "0.182932092824"
       ]
      },
      {
       "output_type": "stream",
       "stream": "stdout",
       "text": [
        " 6.182 3.85898505998\n",
        "3866"
       ]
      },
      {
       "output_type": "stream",
       "stream": "stdout",
       "text": [
        " 3722 0.746113989637\n",
        "initial guess:"
       ]
      },
      {
       "output_type": "stream",
       "stream": "stdout",
       "text": [
        " Parameters([('tau', <Parameter 'tau', 9.9990234375000009e-05, bounds=[0:0.099990234375000014]>), ('amp', <Parameter 'amp', 0.018663865847161398, bounds=[-0.023856512032210814:0.023856512032210814]>), ('offset', <Parameter 'offset', 0.056698297782767026, bounds=[0.027649139565506797:0.099218675662139239]>), ('t_on', <Parameter 't_on', 0.0036298828125000001, bounds=[0.0:0.0099990234375000007]>), ('t_rise', <Parameter 't_rise', 9.9990234375000015e-06, bounds=[0:0.099990234375000014]>)])\n",
        "0.18302148581"
       ]
      },
      {
       "output_type": "stream",
       "stream": "stdout",
       "text": [
        " 6.183 3.912055968\n",
        "3666"
       ]
      },
      {
       "output_type": "stream",
       "stream": "stdout",
       "text": [
        " 3534 0.683937823834\n",
        "initial guess:"
       ]
      },
      {
       "output_type": "stream",
       "stream": "stdout",
       "text": [
        " Parameters([('tau', <Parameter 'tau', 9.9990234375000009e-05, bounds=[0:0.099990234375000014]>), ('amp', <Parameter 'amp', 0.025966344827155111, bounds=[-0.030510600272705586:0.030510600272705586]>), ('offset', <Parameter 'offset', 0.055126850563294513, bounds=[0.020071994845038452:0.1116037956631552]>), ('t_on', <Parameter 't_on', 0.0034423828124999999, bounds=[0.0:0.0099990234375000007]>), ('t_rise', <Parameter 't_rise', 9.9990234375000015e-06, bounds=[0:0.099990234375000014]>)])\n",
        "0.183161051672"
       ]
      },
      {
       "output_type": "stream",
       "stream": "stdout",
       "text": [
        " 6.183 3.96011886845\n",
        "3405"
       ]
      },
      {
       "output_type": "stream",
       "stream": "stdout",
       "text": [
        " 3263 0.735751295337\n",
        "initial guess:"
       ]
      },
      {
       "output_type": "stream",
       "stream": "stdout",
       "text": [
        " Parameters([('tau', <Parameter 'tau', 9.9990234375000009e-05, bounds=[0:0.099990234375000014]>), ('amp', <Parameter 'amp', 0.03245966871689708, bounds=[-0.037613071171535291:0.037613071171535291]>), ('offset', <Parameter 'offset', 0.053322541329510295, bounds=[0.010556067703336794:0.12339528121794266]>), ('t_on', <Parameter 't_on', 0.003181640625, bounds=[0.0:0.0099990234375000007]>), ('t_rise', <Parameter 't_rise', 9.9990234375000015e-06, bounds=[0:0.099990234375000014]>)])\n",
        "0.183055385304"
       ]
      },
      {
       "output_type": "stream",
       "stream": "stdout",
       "text": [
        " 6.182 4.00458983841\n",
        "7938"
       ]
      },
      {
       "output_type": "stream",
       "stream": "stdout",
       "text": [
        " 7809 0.668393782383\n",
        "initial guess:"
       ]
      },
      {
       "output_type": "stream",
       "stream": "stdout",
       "text": [
        " Parameters([('tau', <Parameter 'tau', 9.9990234375000009e-05, bounds=[0:0.099990234375000014]>), ('amp', <Parameter 'amp', 0.033615976202316787, bounds=[-0.037757996629905408:0.037757996629905408]>), ('offset', <Parameter 'offset', 0.054279220641777572, bounds=[0.012379203584283544:0.12565319347399978]>), ('t_on', <Parameter 't_on', 0.0076210937500000003, bounds=[0.0:0.0099990234375000007]>), ('t_rise', <Parameter 't_rise', 9.9990234375000015e-06, bounds=[0:0.099990234375000014]>)])\n",
        "0.183224591266 6.183 4.04523908043\n",
        "585"
       ]
      },
      {
       "output_type": "stream",
       "stream": "stdout",
       "text": [
        " 453 0.683937823834\n",
        "initial guess:"
       ]
      },
      {
       "output_type": "stream",
       "stream": "stdout",
       "text": [
        " Parameters([('tau', <Parameter 'tau', 9.9990234375000009e-05, bounds=[0:0.099990234375000014]>), ('amp', <Parameter 'amp', 0.037920435020061351, bounds=[-0.042268085549479466:0.042268085549479466]>), ('offset', <Parameter 'offset', 0.054249784524899501, bounds=[0.0076340484460019203:0.13443830509444032]>), ('t_on', <Parameter 't_on', 0.00043847656250000001, bounds=[0.0:0.0099990234375000007]>), ('t_rise', <Parameter 't_rise', 9.9990234375000015e-06, bounds=[0:0.099990234375000014]>)])\n",
        "0.183147876066"
       ]
      },
      {
       "output_type": "stream",
       "stream": "stdout",
       "text": [
        " 6.183 4.08266124182\n",
        "2577"
       ]
      },
      {
       "output_type": "stream",
       "stream": "stdout",
       "text": [
        " 2444 0.689119170984\n",
        "initial guess:"
       ]
      },
      {
       "output_type": "stream",
       "stream": "stdout",
       "text": [
        " Parameters([('tau', <Parameter 'tau', 9.9990234375000009e-05, bounds=[0:0.099990234375000014]>), ('amp', <Parameter 'amp', 0.038604210849858378, bounds=[-0.042380419587193158:0.042380419587193158]>), ('offset', <Parameter 'offset', 0.054911854005399954, bounds=[0.0087552256808720169:0.1358964844424515]>), ('t_on', <Parameter 't_on', 0.0023818359375000001, bounds=[0.0:0.0099990234375000007]>), ('t_rise', <Parameter 't_rise', 9.9990234375000015e-06, bounds=[0:0.099990234375000014]>)])\n",
        "0.183000919375"
       ]
      },
      {
       "output_type": "stream",
       "stream": "stdout",
       "text": [
        " 6.182 4.12828777761\n",
        "3936"
       ]
      },
      {
       "output_type": "stream",
       "stream": "stdout",
       "text": [
        " 3800 0.704663212435\n",
        "initial guess:"
       ]
      },
      {
       "output_type": "stream",
       "stream": "stdout",
       "text": [
        " Parameters([('tau', <Parameter 'tau', 9.9990234375000009e-05, bounds=[0:0.099990234375000014]>), ('amp', <Parameter 'amp', 0.042504743481276364, bounds=[-0.04698306383457871:0.04698306383457871]>), ('offset', <Parameter 'offset', 0.057235681025098573, bounds=[0.0057742968372175157:0.14672348834095364]>), ('t_on', <Parameter 't_on', 0.003705078125, bounds=[0.0:0.0099990234375000007]>), ('t_rise', <Parameter 't_rise', 9.9990234375000015e-06, bounds=[0:0.099990234375000014]>)])\n",
        "0.183272560335"
       ]
      },
      {
       "output_type": "stream",
       "stream": "stdout",
       "text": [
        " 6.182 4.19577031755\n",
        "3113"
       ]
      },
      {
       "output_type": "stream",
       "stream": "stdout",
       "text": [
        " 2987 0.652849740933\n",
        "initial guess:"
       ]
      },
      {
       "output_type": "stream",
       "stream": "stdout",
       "text": [
        " Parameters([('tau', <Parameter 'tau', 9.9990234375000009e-05, bounds=[0:0.099990234375000014]>), ('amp', <Parameter 'amp', 0.042531456038160644, bounds=[-0.046494540096640016:0.046494540096640016]>), ('offset', <Parameter 'offset', 0.061566291757406279, bounds=[0.01110866760228689:0.15059228789220694]>), ('t_on', <Parameter 't_on', 0.0029091796875000001, bounds=[0.0:0.0099990234375000007]>), ('t_rise', <Parameter 't_rise', 9.9990234375000015e-06, bounds=[0:0.099990234375000014]>)])\n",
        "0.183274485192 6.183 4.25375721521\n",
        "807"
       ]
      },
      {
       "output_type": "stream",
       "stream": "stdout",
       "text": [
        " 675 0.683937823834\n",
        "initial guess:"
       ]
      },
      {
       "output_type": "stream",
       "stream": "stdout",
       "text": [
        " Parameters([('tau', <Parameter 'tau', 9.9990234375000009e-05, bounds=[0:0.099990234375000014]>), ('amp', <Parameter 'amp', 0.037140995831466177, bounds=[-0.046131462749505463:0.046131462749505463]>), ('offset', <Parameter 'offset', 0.054284351183724079, bounds=[-0.00083757848382066957:0.13755680976469573]>), ('t_on', <Parameter 't_on', 0.00065722656250000004, bounds=[0.0:0.0099990234375000007]>), ('t_rise', <Parameter 't_rise', 9.9990234375000015e-06, bounds=[0:0.099990234375000014]>)])\n",
        "0.183488924069 6.182 4.30534214401\n",
        "6211"
       ]
      },
      {
       "output_type": "stream",
       "stream": "stdout",
       "text": [
        " 6072 0.720207253886\n",
        "initial guess:"
       ]
      },
      {
       "output_type": "stream",
       "stream": "stdout",
       "text": [
        " Parameters([('tau', <Parameter 'tau', 9.9990234375000009e-05, bounds=[0:0.099990234375000014]>), ('amp', <Parameter 'amp', 0.04052237633571578, bounds=[-0.046577620487874602:0.046577620487874602]>), ('offset', <Parameter 'offset', 0.056287736468442227, bounds=[0.0036548718284088039:0.14338773329203261]>), ('t_on', <Parameter 't_on', 0.0059248046875000002, bounds=[0.0:0.0099990234375000007]>), ('t_rise', <Parameter 't_rise', 9.9990234375000015e-06, bounds=[0:0.099990234375000014]>)])\n",
        "0.183280274305 6.182 4.3534349277\n",
        "4384"
       ]
      },
      {
       "output_type": "stream",
       "stream": "stdout",
       "text": [
        " 230 21.5233160622\n",
        "initial guess:"
       ]
      },
      {
       "output_type": "stream",
       "stream": "stdout",
       "text": [
        " Parameters([('tau', <Parameter 'tau', 9.9990234375000009e-05, bounds=[0:0.099990234375000014]>), ('amp', <Parameter 'amp', 0.0042078525296610006, bounds=[-0.0080116456836175354:0.0080116456836175354]>), ('offset', <Parameter 'offset', 0.029939980246374155, bounds=[0.018124541408800085:0.042159478459652691]>), ('t_on', <Parameter 't_on', 0.0013691406249999999, bounds=[0.0:0.0099990234375000007]>), ('t_rise', <Parameter 't_rise', 9.9990234375000015e-06, bounds=[0:0.099990234375000014]>)])\n",
        "0.183693447108"
       ]
      },
      {
       "output_type": "stream",
       "stream": "stdout",
       "text": [
        " 6.183 4.39740310841\n",
        "1296"
       ]
      },
      {
       "output_type": "stream",
       "stream": "stdout",
       "text": [
        " 1121 0.906735751295\n",
        "initial guess:"
       ]
      },
      {
       "output_type": "stream",
       "stream": "stdout",
       "text": [
        " Parameters([('tau', <Parameter 'tau', 9.9990234375000009e-05, bounds=[0:0.099990234375000014]>), ('amp', <Parameter 'amp', 0.0095168881821406162, bounds=[-0.012784592239065841:0.012784592239065841]>), ('offset', <Parameter 'offset', 0.037871406532347704, bounds=[0.021819110236356638:0.060172886953554161]>), ('t_on', <Parameter 't_on', 0.0010830078125, bounds=[0.0:0.0099990234375000007]>), ('t_rise', <Parameter 't_rise', 9.9990234375000015e-06, bounds=[0:0.099990234375000014]>)])\n",
        "0.183376376838 6.183 4.44117533474\n",
        "391"
       ]
      },
      {
       "output_type": "stream",
       "stream": "stdout",
       "text": [
        " 7178 -35.1658031088\n",
        "initial guess:"
       ]
      },
      {
       "output_type": "stream",
       "stream": "stdout",
       "text": [
        " Parameters([('tau', <Parameter 'tau', 9.9990234375000009e-05, bounds=[0:0.099990234375000014]>), ('amp', <Parameter 'amp', -0.002854022412458912, bounds=[-0.0056854492090527842:0.0056854492090527842]>), ('offset', <Parameter 'offset', 1.0417791128165272, bounds=[1.0332396411950155:1.0502959888221739]>), ('t_on', <Parameter 't_on', 0.0015996093749999999, bounds=[0.0:0.0099990234375000007]>), ('t_rise', <Parameter 't_rise', 9.9990234375000015e-06, bounds=[0:0.099990234375000014]>)])\n",
        "0.183691375469"
       ]
      },
      {
       "output_type": "stream",
       "stream": "stdout",
       "text": [
        " 6.184 4.54996965416\n",
        "2196"
       ]
      },
      {
       "output_type": "stream",
       "stream": "stdout",
       "text": [
        " 2061 0.699481865285\n",
        "initial guess:"
       ]
      },
      {
       "output_type": "stream",
       "stream": "stdout",
       "text": [
        " Parameters([('tau', <Parameter 'tau', 9.9990234375000009e-05, bounds=[0:0.099990234375000014]>), ('amp', <Parameter 'amp', 0.034428961220461393, bounds=[-0.039434124384714858:0.039434124384714858]>), ('offset', <Parameter 'offset', 0.039725932656515972, bounds=[-0.0047133548924523511:0.11358901826169222]>), ('t_on', <Parameter 't_on', 0.0020068359375000002, bounds=[0.0:0.0099990234375000007]>), ('t_rise', <Parameter 't_rise', 9.9990234375000015e-06, bounds=[0:0.099990234375000014]>)])\n",
        "0.18389173485"
       ]
      },
      {
       "output_type": "stream",
       "stream": "stdout",
       "text": [
        " 6.184 4.77492592053\n",
        "4501"
       ]
      },
      {
       "output_type": "stream",
       "stream": "stdout",
       "text": [
        " 4362 0.720207253886\n",
        "initial guess:"
       ]
      },
      {
       "output_type": "stream",
       "stream": "stdout",
       "text": [
        " Parameters([('tau', <Parameter 'tau', 9.9990234375000009e-05, bounds=[0:0.099990234375000014]>), ('amp', <Parameter 'amp', 0.041546003192799365, bounds=[-0.045763608082305111:0.045763608082305111]>), ('offset', <Parameter 'offset', 0.043237016794889983, bounds=[-0.0067441961769208747:0.13054662806999445]>), ('t_on', <Parameter 't_on', 0.0042617187499999999, bounds=[0.0:0.0099990234375000007]>), ('t_rise', <Parameter 't_rise', 9.9990234375000015e-06, bounds=[0:0.099990234375000014]>)])\n",
        "0.184094125202"
       ]
      },
      {
       "output_type": "stream",
       "stream": "stdout",
       "text": [
        " 6.184 5.09200552692\n",
        "882"
       ]
      },
      {
       "output_type": "stream",
       "stream": "stdout",
       "text": [
        " 742 0.725388601036\n",
        "initial guess:"
       ]
      },
      {
       "output_type": "stream",
       "stream": "stdout",
       "text": [
        " Parameters([('tau', <Parameter 'tau', 9.9990234375000009e-05, bounds=[0:0.099990234375000014]>), ('amp', <Parameter 'amp', 0.040254222747675414, bounds=[-0.045567173906946874:0.045567173906946874]>), ('offset', <Parameter 'offset', 0.043463053777688956, bounds=[-0.0074170712885293782:0.12928445043231124]>), ('t_on', <Parameter 't_on', 0.00071777343749999999, bounds=[0.0:0.0099990234375000007]>), ('t_rise', <Parameter 't_rise', 9.9990234375000015e-06, bounds=[0:0.099990234375000014]>)])\n",
        "0.184280451493"
       ]
      },
      {
       "output_type": "stream",
       "stream": "stdout",
       "text": [
        " 6.185776895 5.42954584498\n",
        "3212"
       ]
      },
      {
       "output_type": "stream",
       "stream": "stdout",
       "text": [
        " 3070 0.735751295337\n",
        "initial guess:"
       ]
      },
      {
       "output_type": "stream",
       "stream": "stdout",
       "text": [
        " Parameters([('tau', <Parameter 'tau', 9.9990234375000009e-05, bounds=[0:0.099990234375000014]>), ('amp', <Parameter 'amp', 0.033561727060101895, bounds=[-0.037273017866793427:0.037273017866793427]>), ('offset', <Parameter 'offset', 0.043070431397691789, bounds=[0.0020861227242068292:0.1139051763245871]>), ('t_on', <Parameter 't_on', 0.0029931640624999999, bounds=[0.0:0.0099990234375000007]>), ('t_rise', <Parameter 't_rise', 9.9990234375000015e-06, bounds=[0:0.099990234375000014]>)])\n",
        "0.184623463477 6.186 5.71495084791\n",
        "7479"
       ]
      },
      {
       "output_type": "stream",
       "stream": "stdout",
       "text": [
        " 7338 0.730569948187\n",
        "initial guess:"
       ]
      },
      {
       "output_type": "stream",
       "stream": "stdout",
       "text": [
        " Parameters([('tau', <Parameter 'tau', 9.9990234375000009e-05, bounds=[0:0.099990234375000014]>), ('amp', <Parameter 'amp', 0.023387852869916487, bounds=[-0.027212611883927269:0.027212611883927269]>), ('offset', <Parameter 'offset', 0.04451084293137389, bounds=[0.013473472033435838:0.095111307685217639]>), ('t_on', <Parameter 't_on', 0.0071650390624999998, bounds=[0.0:0.0099990234375000007]>), ('t_rise', <Parameter 't_rise', 9.9990234375000015e-06, bounds=[0:0.099990234375000014]>)])\n",
        "0.184721611427"
       ]
      },
      {
       "output_type": "stream",
       "stream": "stdout",
       "text": [
        " 6.186 5.95896077428\n",
        "1942"
       ]
      },
      {
       "output_type": "stream",
       "stream": "stdout",
       "text": [
        " 1812 0.673575129534\n",
        "initial guess:"
       ]
      },
      {
       "output_type": "stream",
       "stream": "stdout",
       "text": [
        " Parameters([('tau', <Parameter 'tau', 9.9990234375000009e-05, bounds=[0:0.099990234375000014]>), ('amp', <Parameter 'amp', 0.029130679131855665, bounds=[-0.033350023935826548:0.033350023935826548]>), ('offset', <Parameter 'offset', 0.043518010347764681, bounds=[0.0059486416079672505:0.10599871341544689]>), ('t_on', <Parameter 't_on', 0.0017646484374999999, bounds=[0.0:0.0099990234375000007]>), ('t_rise', <Parameter 't_rise', 9.9990234375000015e-06, bounds=[0:0.099990234375000014]>)])\n",
        "0.185011926118"
       ]
      },
      {
       "output_type": "stream",
       "stream": "stdout",
       "text": [
        " 6.187 6.17031365747\n",
        "2141"
       ]
      },
      {
       "output_type": "stream",
       "stream": "stdout",
       "text": [
        " 2008 0.689119170984\n",
        "initial guess:"
       ]
      },
      {
       "output_type": "stream",
       "stream": "stdout",
       "text": [
        " Parameters([('tau', <Parameter 'tau', 9.9990234375000009e-05, bounds=[0:0.099990234375000014]>), ('amp', <Parameter 'amp', 0.03331901923530322, bounds=[-0.036827829939606843:0.036827829939606843]>), ('offset', <Parameter 'offset', 0.043585646084955763, bounds=[0.0032490054410452968:0.11373249525986583]>), ('t_on', <Parameter 't_on', 0.0019550781249999998, bounds=[0.0:0.0099990234375000007]>), ('t_rise', <Parameter 't_rise', 9.9990234375000015e-06, bounds=[0:0.099990234375000014]>)])\n",
        "0.185212932037"
       ]
      },
      {
       "output_type": "stream",
       "stream": "stdout",
       "text": [
        " 6.187 6.35615706897\n",
        "2674"
       ]
      },
      {
       "output_type": "stream",
       "stream": "stdout",
       "text": [
        " 2536 0.715025906736\n",
        "initial guess:"
       ]
      },
      {
       "output_type": "stream",
       "stream": "stdout",
       "text": [
        " Parameters([('tau', <Parameter 'tau', 9.9990234375000009e-05, bounds=[0:0.099990234375000014]>), ('amp', <Parameter 'amp', 0.027117041184242283, bounds=[-0.031123094598688117:0.031123094598688117]>), ('offset', <Parameter 'offset', 0.045338728326710223, bounds=[0.010209580313576272:0.10357886410964062]>), ('t_on', <Parameter 't_on', 0.0024746093749999998, bounds=[0.0:0.0099990234375000007]>), ('t_rise', <Parameter 't_rise', 9.9990234375000015e-06, bounds=[0:0.099990234375000014]>)])\n",
        "0.185627766991"
       ]
      },
      {
       "output_type": "stream",
       "stream": "stdout",
       "text": [
        " 6.188 6.60614919945\n",
        "3538"
       ]
      },
      {
       "output_type": "stream",
       "stream": "stdout",
       "text": [
        " 3396 0.735751295337\n",
        "initial guess:"
       ]
      },
      {
       "output_type": "stream",
       "stream": "stdout",
       "text": [
        " Parameters([('tau', <Parameter 'tau', 9.9990234375000009e-05, bounds=[0:0.099990234375000014]>), ('amp', <Parameter 'amp', 0.024736260168108259, bounds=[-0.028336324173456856:0.028336324173456856]>), ('offset', <Parameter 'offset', 0.046026378512079621, bounds=[0.014089990333274169:0.099098962853644737]>), ('t_on', <Parameter 't_on', 0.0033076171875, bounds=[0.0:0.0099990234375000007]>), ('t_rise', <Parameter 't_rise', 9.9990234375000015e-06, bounds=[0:0.099990234375000014]>)])\n",
        "0.186233918172"
       ]
      },
      {
       "output_type": "stream",
       "stream": "stdout",
       "text": [
        " 6.188 6.9395452168\n",
        "2312"
       ]
      },
      {
       "output_type": "stream",
       "stream": "stdout",
       "text": [
        " 2178 0.694300518135\n",
        "initial guess:"
       ]
      },
      {
       "output_type": "stream",
       "stream": "stdout",
       "text": [
        " Parameters([('tau', <Parameter 'tau', 9.9990234375000009e-05, bounds=[0:0.099990234375000014]>), ('amp', <Parameter 'amp', 0.024370367141951885, bounds=[-0.027303895800539248:0.027303895800539248]>), ('offset', <Parameter 'offset', 0.045960852427828172, bounds=[0.015723427968701562:0.097635115370319298]>), ('t_on', <Parameter 't_on', 0.0021230468749999999, bounds=[0.0:0.0099990234375000007]>), ('t_rise', <Parameter 't_rise', 9.9990234375000015e-06, bounds=[0:0.099990234375000014]>)])\n",
        "0.186637821314"
       ]
      },
      {
       "output_type": "stream",
       "stream": "stdout",
       "text": [
        " 6.189 7.24599663019\n",
        "3990"
       ]
      },
      {
       "output_type": "stream",
       "stream": "stdout",
       "text": [
        " 1480 13.0051813472\n",
        "initial guess:"
       ]
      },
      {
       "output_type": "stream",
       "stream": "stdout",
       "text": [
        " Parameters([('tau', <Parameter 'tau', 9.9990234375000009e-05, bounds=[0:0.099990234375000014]>), ('amp', <Parameter 'amp', -0.0045695432624392809, bounds=[-0.0088206492752673921:0.0088206492752673921]>), ('offset', <Parameter 'offset', 0.048425645226131721, bounds=[0.035035452688425048:0.061497400514227224]>), ('t_on', <Parameter 't_on', 0.0062265625000000003, bounds=[0.0:0.0099990234375000007]>), ('t_rise', <Parameter 't_rise', 9.9990234375000015e-06, bounds=[0:0.099990234375000014]>)])\n",
        "0.187037107391"
       ]
      },
      {
       "output_type": "stream",
       "stream": "stdout",
       "text": [
        " 6.189 7.51451412783\n",
        "3887"
       ]
      },
      {
       "output_type": "stream",
       "stream": "stdout",
       "text": [
        " 3754 0.689119170984\n",
        "initial guess:"
       ]
      },
      {
       "output_type": "stream",
       "stream": "stdout",
       "text": [
        " Parameters([('tau', <Parameter 'tau', 9.9990234375000009e-05, bounds=[0:0.099990234375000014]>), ('amp', <Parameter 'amp', 0.029592056902271666, bounds=[-0.033298453374533958:0.033298453374533958]>), ('offset', <Parameter 'offset', 0.047771442039810069, bounds=[0.010766592193013819:0.11066195231661569]>), ('t_on', <Parameter 't_on', 0.0036601562500000002, bounds=[0.0:0.0099990234375000007]>), ('t_rise', <Parameter 't_rise', 9.9990234375000015e-06, bounds=[0:0.099990234375000014]>)])\n",
        "0.187115766665"
       ]
      },
      {
       "output_type": "stream",
       "stream": "stdout",
       "text": [
        " 6.189 7.74858620319\n",
        "1535"
       ]
      },
      {
       "output_type": "stream",
       "stream": "stdout",
       "text": [
        " 1400 0.699481865285\n",
        "initial guess:"
       ]
      },
      {
       "output_type": "stream",
       "stream": "stdout",
       "text": [
        " Parameters([('tau', <Parameter 'tau', 9.9990234375000009e-05, bounds=[0:0.099990234375000014]>), ('amp', <Parameter 'amp', 0.02069648512879204, bounds=[-0.025442028997932166:0.025442028997932166]>), ('offset', <Parameter 'offset', 0.048858057717257534, bounds=[0.018670484850185243:0.094996571843981747]>), ('t_on', <Parameter 't_on', 0.0013632812499999999, bounds=[0.0:0.0099990234375000007]>), ('t_rise', <Parameter 't_rise', 9.9990234375000015e-06, bounds=[0:0.099990234375000014]>)])\n",
        "0.187571029744"
       ]
      },
      {
       "output_type": "stream",
       "stream": "stdout",
       "text": [
        " 6.19 7.95461217284\n",
        "2734"
       ]
      },
      {
       "output_type": "stream",
       "stream": "stdout",
       "text": [
        " 2599 0.699481865285\n",
        "initial guess:"
       ]
      },
      {
       "output_type": "stream",
       "stream": "stdout",
       "text": [
        " Parameters([('tau', <Parameter 'tau', 9.9990234375000009e-05, bounds=[0:0.099990234375000014]>), ('amp', <Parameter 'amp', 0.029909015354251917, bounds=[-0.037240004194382059:0.037240004194382059]>), ('offset', <Parameter 'offset', 0.047772300661984457, bounds=[0.0032013076274722552:0.11492132021061843]>), ('t_on', <Parameter 't_on', 0.0025361328125, bounds=[0.0:0.0099990234375000007]>), ('t_rise', <Parameter 't_rise', 9.9990234375000015e-06, bounds=[0:0.099990234375000014]>)])\n",
        "0.187918402292"
       ]
      },
      {
       "output_type": "stream",
       "stream": "stdout",
       "text": [
        " 6.191 8.14831699595\n",
        "2080"
       ]
      },
      {
       "output_type": "stream",
       "stream": "stdout",
       "text": [
        " 1943 0.709844559585\n",
        "initial guess:"
       ]
      },
      {
       "output_type": "stream",
       "stream": "stdout",
       "text": [
        " Parameters([('tau', <Parameter 'tau', 9.9990234375000009e-05, bounds=[0:0.099990234375000014]>), ('amp', <Parameter 'amp', 0.030220136902568459, bounds=[-0.034287551278198478:0.034287551278198478]>), ('offset', <Parameter 'offset', 0.049658052588022347, bounds=[0.011303086934193851:0.11416574076878928]>), ('t_on', <Parameter 't_on', 0.0018945312499999999, bounds=[0.0:0.0099990234375000007]>), ('t_rise', <Parameter 't_rise', 9.9990234375000015e-06, bounds=[0:0.099990234375000014]>)])\n",
        "0.188213867913"
       ]
      },
      {
       "output_type": "stream",
       "stream": "stdout",
       "text": [
        " 6.192 8.33114872952\n",
        "4101"
       ]
      },
      {
       "output_type": "stream",
       "stream": "stdout",
       "text": [
        " 3966 0.699481865285\n",
        "initial guess:"
       ]
      },
      {
       "output_type": "stream",
       "stream": "stdout",
       "text": [
        " Parameters([('tau', <Parameter 'tau', 9.9990234375000009e-05, bounds=[0:0.099990234375000014]>), ('amp', <Parameter 'amp', 0.016249753078438463, bounds=[-0.019732568707021926:0.019732568707021926]>), ('offset', <Parameter 'offset', 0.050606382281908745, bounds=[0.027390997946303355:0.086588704067369127]>), ('t_on', <Parameter 't_on', 0.0038691406250000002, bounds=[0.0:0.0099990234375000007]>), ('t_rise', <Parameter 't_rise', 9.9990234375000015e-06, bounds=[0:0.099990234375000014]>)])\n",
        "0.188337974124"
       ]
      },
      {
       "output_type": "stream",
       "stream": "stdout",
       "text": [
        " 6.192 8.4969979589\n",
        "1368"
       ]
      },
      {
       "output_type": "stream",
       "stream": "stdout",
       "text": [
        " 1233 0.699481865285\n",
        "initial guess:"
       ]
      },
      {
       "output_type": "stream",
       "stream": "stdout",
       "text": [
        " Parameters([('tau', <Parameter 'tau', 9.9990234375000009e-05, bounds=[0:0.099990234375000014]>), ('amp', <Parameter 'amp', 0.032598844861542006, bounds=[-0.036442166354134005:0.036442166354134005]>), ('offset', <Parameter 'offset', 0.052155296493816769, bounds=[0.011869808647090765:0.12119630770949277]>), ('t_on', <Parameter 't_on', 0.00119921875, bounds=[0.0:0.0099990234375000007]>), ('t_rise', <Parameter 't_rise', 9.9990234375000015e-06, bounds=[0:0.099990234375000014]>)])\n",
        "0.188568120205"
       ]
      },
      {
       "output_type": "stream",
       "stream": "stdout",
       "text": [
        " 6.191 8.64871940079\n",
        "3901"
       ]
      },
      {
       "output_type": "stream",
       "stream": "stdout",
       "text": [
        " 3765 0.704663212435\n",
        "initial guess:"
       ]
      },
      {
       "output_type": "stream",
       "stream": "stdout",
       "text": [
        " Parameters([('tau', <Parameter 'tau', 9.9990234375000009e-05, bounds=[0:0.099990234375000014]>), ('amp', <Parameter 'amp', 0.031972050705062031, bounds=[-0.036406817834936538:0.036406817834936538]>), ('offset', <Parameter 'offset', 0.052981896632482837, bounds=[0.012140311667671794:0.1213607651724814]>), ('t_on', <Parameter 't_on', 0.0036728515625000001, bounds=[0.0:0.0099990234375000007]>), ('t_rise', <Parameter 't_rise', 9.9990234375000015e-06, bounds=[0:0.099990234375000014]>)])\n",
        "0.189012674964"
       ]
      },
      {
       "output_type": "stream",
       "stream": "stdout",
       "text": [
        " 6.192 8.7873979311\n",
        "4075"
       ]
      },
      {
       "output_type": "stream",
       "stream": "stdout",
       "text": [
        " 3938 0.709844559585\n",
        "initial guess:"
       ]
      },
      {
       "output_type": "stream",
       "stream": "stdout",
       "text": [
        " Parameters([('tau', <Parameter 'tau', 9.9990234375000009e-05, bounds=[0:0.099990234375000014]>), ('amp', <Parameter 'amp', 0.031585869178756151, bounds=[-0.036374134891670379:0.036374134891670379]>), ('offset', <Parameter 'offset', 0.053014180503001176, bounds=[0.01185177989841657:0.12097418457342771]>), ('t_on', <Parameter 't_on', 0.0038408203124999998, bounds=[0.0:0.0099990234375000007]>), ('t_rise', <Parameter 't_rise', 9.9990234375000015e-06, bounds=[0:0.099990234375000014]>)])\n",
        "0.189346259126 6.191 8.91501343765\n",
        "2026"
       ]
      },
      {
       "output_type": "stream",
       "stream": "stdout",
       "text": [
        " 1895 0.678756476684\n",
        "initial guess:"
       ]
      },
      {
       "output_type": "stream",
       "stream": "stdout",
       "text": [
        " Parameters([('tau', <Parameter 'tau', 9.9990234375000009e-05, bounds=[0:0.099990234375000014]>), ('amp', <Parameter 'amp', 0.029370360424387024, bounds=[-0.033050213522236901:0.033050213522236901]>), ('offset', <Parameter 'offset', 0.052703224307335206, bounds=[0.015973157687248427:0.11512379825395913]>), ('t_on', <Parameter 't_on', 0.0018437499999999999, bounds=[0.0:0.0099990234375000007]>), ('t_rise', <Parameter 't_rise', 9.9990234375000015e-06, bounds=[0:0.099990234375000014]>)])\n",
        "0.189828817837"
       ]
      },
      {
       "output_type": "stream",
       "stream": "stdout",
       "text": [
        " 6.192 9.03257166219\n",
        "2537"
       ]
      },
      {
       "output_type": "stream",
       "stream": "stdout",
       "text": [
        " 2402 0.699481865285\n",
        "initial guess:"
       ]
      },
      {
       "output_type": "stream",
       "stream": "stdout",
       "text": [
        " Parameters([('tau', <Parameter 'tau', 9.9990234375000009e-05, bounds=[0:0.099990234375000014]>), ('amp', <Parameter 'amp', 0.027904363624405487, bounds=[-0.03182678406002911:0.03182678406002911]>), ('offset', <Parameter 'offset', 0.051936485199432655, bounds=[0.016187280703779922:0.11166763288386725]>), ('t_on', <Parameter 't_on', 0.0023427734375, bounds=[0.0:0.0099990234375000007]>), ('t_rise', <Parameter 't_rise', 9.9990234375000015e-06, bounds=[0:0.099990234375000014]>)])\n",
        "0.189924871046"
       ]
      },
      {
       "output_type": "stream",
       "stream": "stdout",
       "text": [
        " 6.192 9.14826258488\n",
        "3522"
       ]
      },
      {
       "output_type": "stream",
       "stream": "stdout",
       "text": [
        " 3391 0.678756476684\n",
        "initial guess:"
       ]
      },
      {
       "output_type": "stream",
       "stream": "stdout",
       "text": [
        " Parameters([('tau', <Parameter 'tau', 9.9990234375000009e-05, bounds=[0:0.099990234375000014]>), ('amp', <Parameter 'amp', 0.025036045442843047, bounds=[-0.028485543675291297:0.028485543675291297]>), ('offset', <Parameter 'offset', 0.051343154758728693, bounds=[0.019408112850989145:0.10486474387686304]>), ('t_on', <Parameter 't_on', 0.0033046874999999999, bounds=[0.0:0.0099990234375000007]>), ('t_rise', <Parameter 't_rise', 9.9990234375000015e-06, bounds=[0:0.099990234375000014]>)])\n",
        "0.190245139872"
       ]
      },
      {
       "output_type": "stream",
       "stream": "stdout",
       "text": [
        " 6.192 9.26236080723\n",
        "4638"
       ]
      },
      {
       "output_type": "stream",
       "stream": "stdout",
       "text": [
        " 4496 0.735751295337\n",
        "initial guess:"
       ]
      },
      {
       "output_type": "stream",
       "stream": "stdout",
       "text": [
        " Parameters([('tau', <Parameter 'tau', 9.9990234375000009e-05, bounds=[0:0.099990234375000014]>), ('amp', <Parameter 'amp', 0.020072284771513627, bounds=[-0.023832541214375287:0.023832541214375287]>), ('offset', <Parameter 'offset', 0.051690989186629552, bounds=[0.024098191529392604:0.095595815172518472]>), ('t_on', <Parameter 't_on', 0.0043857421874999997, bounds=[0.0:0.0099990234375000007]>), ('t_rise', <Parameter 't_rise', 9.9990234375000015e-06, bounds=[0:0.099990234375000014]>)])\n",
        "0.19057781135"
       ]
      },
      {
       "output_type": "stream",
       "stream": "stdout",
       "text": [
        " 6.193 9.36852616806\n",
        "1351"
       ]
      },
      {
       "output_type": "stream",
       "stream": "stdout",
       "text": [
        " 1212 0.720207253886\n",
        "initial guess:"
       ]
      },
      {
       "output_type": "stream",
       "stream": "stdout",
       "text": [
        " Parameters([('tau', <Parameter 'tau', 9.9990234375000009e-05, bounds=[0:0.099990234375000014]>), ('amp', <Parameter 'amp', 0.030550894737958821, bounds=[-0.034267984014732432:0.034267984014732432]>), ('offset', <Parameter 'offset', 0.054848352840340932, bounds=[0.016863279548834889:0.11966723159303219]>), ('t_on', <Parameter 't_on', 0.0011787109375000001, bounds=[0.0:0.0099990234375000007]>), ('t_rise', <Parameter 't_rise', 9.9990234375000015e-06, bounds=[0:0.099990234375000014]>)])\n",
        "0.191169118947"
       ]
      },
      {
       "output_type": "stream",
       "stream": "stdout",
       "text": [
        " 6.193 9.46799765921\n",
        "7747"
       ]
      },
      {
       "output_type": "stream",
       "stream": "stdout",
       "text": [
        " 7611 0.704663212435\n",
        "initial guess:"
       ]
      },
      {
       "output_type": "stream",
       "stream": "stdout",
       "text": [
        " Parameters([('tau', <Parameter 'tau', 9.9990234375000009e-05, bounds=[0:0.099990234375000014]>), ('amp', <Parameter 'amp', 0.027211428576191583, bounds=[-0.031018565411982724:0.031018565411982724]>), ('offset', <Parameter 'offset', 0.053413501888444369, bounds=[0.018587799640670505:0.11164349587661868]>), ('t_on', <Parameter 't_on', 0.0074296874999999997, bounds=[0.0:0.0099990234375000007]>), ('t_rise', <Parameter 't_rise', 9.9990234375000015e-06, bounds=[0:0.099990234375000014]>)])\n",
        "0.191248883006"
       ]
      },
      {
       "output_type": "stream",
       "stream": "stdout",
       "text": [
        " 6.193 9.56163430495\n",
        "7773"
       ]
      },
      {
       "output_type": "stream",
       "stream": "stdout",
       "text": [
        " 7635 0.715025906736\n",
        "initial guess:"
       ]
      },
      {
       "output_type": "stream",
       "stream": "stdout",
       "text": [
        " Parameters([('tau', <Parameter 'tau', 9.9990234375000009e-05, bounds=[0:0.099990234375000014]>), ('amp', <Parameter 'amp', 0.019183455336142567, bounds=[-0.022632683533246649:0.022632683533246649]>), ('offset', <Parameter 'offset', 0.052795200442385372, bounds=[0.026713288712034641:0.094611339311774595]>), ('t_on', <Parameter 't_on', 0.0074521484375000002, bounds=[0.0:0.0099990234375000007]>), ('t_rise', <Parameter 't_rise', 9.9990234375000015e-06, bounds=[0:0.099990234375000014]>)])\n",
        "0.191605091714"
       ]
      },
      {
       "output_type": "stream",
       "stream": "stdout",
       "text": [
        " 6.193 9.6492333158\n",
        "5503"
       ]
      },
      {
       "output_type": "stream",
       "stream": "stdout",
       "text": [
        " 5368 0.699481865285\n",
        "initial guess:"
       ]
      },
      {
       "output_type": "stream",
       "stream": "stdout",
       "text": [
        " Parameters([('tau', <Parameter 'tau', 9.9990234375000009e-05, bounds=[0:0.099990234375000014]>), ('amp', <Parameter 'amp', 0.028533252694358135, bounds=[-0.031899668943744214:0.031899668943744214]>), ('offset', <Parameter 'offset', 0.054760597359062066, bounds=[0.019494512165931774:0.11519351899716442]>), ('t_on', <Parameter 't_on', 0.0052382812499999999, bounds=[0.0:0.0099990234375000007]>), ('t_rise', <Parameter 't_rise', 9.9990234375000015e-06, bounds=[0:0.099990234375000014]>)])\n",
        "0.191869127209"
       ]
      },
      {
       "output_type": "stream",
       "stream": "stdout",
       "text": [
        " 6.194 9.73158797398\n",
        "7870"
       ]
      },
      {
       "output_type": "stream",
       "stream": "stdout",
       "text": [
        " 7729 0.730569948187\n",
        "initial guess:"
       ]
      },
      {
       "output_type": "stream",
       "stream": "stdout",
       "text": [
        " Parameters([('tau', <Parameter 'tau', 9.9990234375000009e-05, bounds=[0:0.099990234375000014]>), ('amp', <Parameter 'amp', 0.024047949978181882, bounds=[-0.028041943071114364:0.028041943071114364]>), ('offset', <Parameter 'offset', 0.053196871618542488, bounds=[0.021160935454495641:0.10528676466783873]>), ('t_on', <Parameter 't_on', 0.0075429687500000002, bounds=[0.0:0.0099990234375000007]>), ('t_rise', <Parameter 't_rise', 9.9990234375000015e-06, bounds=[0:0.099990234375000014]>)])\n",
        "0.192187460518"
       ]
      },
      {
       "output_type": "stream",
       "stream": "stdout",
       "text": [
        " 6.195 9.80949546719\n",
        "6552"
       ]
      },
      {
       "output_type": "stream",
       "stream": "stdout",
       "text": [
        " 6414 0.715025906736\n",
        "initial guess:"
       ]
      },
      {
       "output_type": "stream",
       "stream": "stdout",
       "text": [
        " Parameters([('tau', <Parameter 'tau', 9.9990234375000009e-05, bounds=[0:0.099990234375000014]>), ('amp', <Parameter 'amp', 0.018074747343831743, bounds=[-0.021657099867639674:0.021657099867639674]>), ('offset', <Parameter 'offset', 0.052761926384818733, bounds=[0.027522473993371127:0.092493773596290157]>), ('t_on', <Parameter 't_on', 0.0062626953125000002, bounds=[0.0:0.0099990234375000007]>), ('t_rise', <Parameter 't_rise', 9.9990234375000015e-06, bounds=[0:0.099990234375000014]>)])\n",
        "0.192464345352"
       ]
      },
      {
       "output_type": "stream",
       "stream": "stdout",
       "text": [
        " 6.195 9.88312237144\n"
       ]
      }
     ],
     "prompt_number": 34
    },
    {
     "cell_type": "code",
     "collapsed": false,
     "input": [
      "tau"
     ],
     "language": "python",
     "metadata": {},
     "outputs": [
      {
       "metadata": {},
       "output_type": "pyout",
       "prompt_number": 89,
       "text": [
        "4.545038020217168e-05"
       ]
      }
     ],
     "prompt_number": 89
    },
    {
     "cell_type": "code",
     "collapsed": false,
     "input": [
      "fit.result.params"
     ],
     "language": "python",
     "metadata": {},
     "outputs": [
      {
       "metadata": {},
       "output_type": "pyout",
       "prompt_number": 79,
       "text": [
        "Parameters([('tau', <Parameter 'tau', value=5.7398824267988413e-05 +/- 4.23e-07, bounds=[0:0.099990234375000014]>), ('amp', <Parameter 'amp', value=0.043895014543266407 +/- 0.000212, bounds=[-0.044012730769319795:0.044012730769319795]>), ('offset', <Parameter 'offset', value=0.053076153236758072 +/- 8.67e-06, bounds=[0.0060240607600351437:0.13806225306799452]>), ('t_on', <Parameter 't_on', value=0.0033349607674136913 +/- 9.62e-08, bounds=[0.0:0.0099990234375000007]>), ('t_rise', <Parameter 't_rise', value=7.9295402083525226e-06 +/- 1.58e-07, bounds=[0:0.099990234375000014]>)])"
       ]
      }
     ],
     "prompt_number": 79
    },
    {
     "cell_type": "code",
     "collapsed": false,
     "input": [
      "11.25+4.99+12.0"
     ],
     "language": "python",
     "metadata": {},
     "outputs": [
      {
       "metadata": {},
       "output_type": "pyout",
       "prompt_number": 80,
       "text": [
        "28.240000000000002"
       ]
      }
     ],
     "prompt_number": 80
    },
    {
     "cell_type": "code",
     "collapsed": false,
     "input": [
      "28.24+9.47+6.17+8.36+4.99+9.27+5.56+439.62+416.20"
     ],
     "language": "python",
     "metadata": {},
     "outputs": [
      {
       "metadata": {},
       "output_type": "pyout",
       "prompt_number": 83,
       "text": [
        "927.88"
       ]
      }
     ],
     "prompt_number": 83
    },
    {
     "cell_type": "code",
     "collapsed": false,
     "input": [
      "5.56+9.27+4.99+8.36+6.17+9.47+11.25+4.99+12.00"
     ],
     "language": "python",
     "metadata": {},
     "outputs": [
      {
       "metadata": {},
       "output_type": "pyout",
       "prompt_number": 82,
       "text": [
        "72.06"
       ]
      }
     ],
     "prompt_number": 82
    },
    {
     "cell_type": "code",
     "collapsed": false,
     "input": [
      "semilogy(np.array(temps),np.array(taus)*1e6,'o')\n",
      "ylim(1,200)\n",
      "#xlim(0.1,0.5)\n",
      "grid()"
     ],
     "language": "python",
     "metadata": {},
     "outputs": [
      {
       "metadata": {},
       "output_type": "display_data",
       "png": "[encoded data removed]",
       "text": [
        "<matplotlib.figure.Figure at 0x1512a950>"
       ]
      }
     ],
     "prompt_number": 35
    },
    {
     "cell_type": "code",
     "collapsed": false,
     "input": [
      "plot(f0s)"
     ],
     "language": "python",
     "metadata": {},
     "outputs": [
      {
       "metadata": {},
       "output_type": "pyout",
       "prompt_number": 36,
       "text": [
        "[<matplotlib.lines.Line2D at 0xa0d5150>]"
       ]
      },
      {
       "metadata": {},
       "output_type": "display_data",
       "png": "[encoded data removed]",
       "text": [
        "<matplotlib.figure.Figure at 0x15253610>"
       ]
      }
     ],
     "prompt_number": 36
    },
    {
     "cell_type": "code",
     "collapsed": false,
     "input": [
      "plot(np.array(taus)*1e6)\n",
      "ylim(0,100)"
     ],
     "language": "python",
     "metadata": {},
     "outputs": [
      {
       "metadata": {},
       "output_type": "pyout",
       "prompt_number": 37,
       "text": [
        "(0, 100)"
       ]
      },
      {
       "metadata": {},
       "output_type": "display_data",
       "png": "[encoded data removed]",
       "text": [
        "<matplotlib.figure.Figure at 0xa0b4dd0>"
       ]
      }
     ],
     "prompt_number": 37
    },
    {
     "cell_type": "code",
     "collapsed": false,
     "input": [
      "plot(temps)"
     ],
     "language": "python",
     "metadata": {},
     "outputs": [
      {
       "metadata": {},
       "output_type": "pyout",
       "prompt_number": 31,
       "text": [
        "[<matplotlib.lines.Line2D at 0x150bae10>]"
       ]
      },
      {
       "metadata": {},
       "output_type": "display_data",
       "png": "[encoded data removed]",
       "text": [
        "<matplotlib.figure.Figure at 0x10092150>"
       ]
      }
     ],
     "prompt_number": 31
    },
    {
     "cell_type": "code",
     "collapsed": false,
     "input": [
      "ls -lhtr /home/heather/SRS/20140912-130952.txt"
     ],
     "language": "python",
     "metadata": {},
     "outputs": [
      {
       "output_type": "stream",
       "stream": "stdout",
       "text": [
        "-rw-rw-r--. 1 gjones gjones 51M Sep 29 12:54 /home/heather/SRS/20140912-130952.txt\r\n"
       ]
      }
     ],
     "prompt_number": 99
    },
    {
     "cell_type": "code",
     "collapsed": false,
     "input": [
      "tau, fit = get_time_constant_from_file('/home/data2/rtl/2014-09-29_14-29-33.npz',debug=True)"
     ],
     "language": "python",
     "metadata": {},
     "outputs": [
      {
       "output_type": "stream",
       "stream": "stdout",
       "text": [
        "3457 3323 0.694300518135\n",
        "initial guess:"
       ]
      },
      {
       "output_type": "stream",
       "stream": "stdout",
       "text": [
        " Parameters([('tau', <Parameter 'tau', 9.9990234375000009e-05, bounds=[0:0.099990234375000014]>), ('amp', <Parameter 'amp', 0.016995972450236943, bounds=[-0.021043429209143191:0.021043429209143191]>), ('offset', <Parameter 'offset', 0.053603499775599694, bounds=[0.028512613807550255:0.091642901434979829]>), ('t_on', <Parameter 't_on', 0.0032382812499999998, bounds=[0.0:0.0099990234375000007]>), ('t_rise', <Parameter 't_rise', 9.9990234375000015e-06, bounds=[0:0.099990234375000014]>)])\n"
       ]
      },
      {
       "metadata": {},
       "output_type": "display_data",
       "png": "[encoded data removed]",
       "text": [
        "<matplotlib.figure.Figure at 0x55badd0>"
       ]
      }
     ],
     "prompt_number": 38
    },
    {
     "cell_type": "code",
     "collapsed": false,
     "input": [
      "tau"
     ],
     "language": "python",
     "metadata": {},
     "outputs": [
      {
       "metadata": {},
       "output_type": "pyout",
       "prompt_number": 39,
       "text": [
        "9.9788108797924656e-06"
       ]
      }
     ],
     "prompt_number": 39
    },
    {
     "cell_type": "code",
     "collapsed": false,
     "input": [
      "14e3/86.0"
     ],
     "language": "python",
     "metadata": {},
     "outputs": [
      {
       "metadata": {},
       "output_type": "pyout",
       "prompt_number": 40,
       "text": [
        "162.7906976744186"
       ]
      }
     ],
     "prompt_number": 40
    },
    {
     "cell_type": "code",
     "collapsed": false,
     "input": [],
     "language": "python",
     "metadata": {},
     "outputs": []
    }
   ],
   "metadata": {}
  }
 ]
}