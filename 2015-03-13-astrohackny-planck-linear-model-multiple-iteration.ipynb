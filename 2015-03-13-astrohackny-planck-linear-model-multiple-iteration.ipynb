{
 "metadata": {
  "name": "",
  "signature": "sha256:397273dda4ee29cacb992bb9db8c2bf2e64418ec1112b9eceddbc1863f9e7fae"
 },
 "nbformat": 3,
 "nbformat_minor": 0,
 "worksheets": [
  {
   "cells": [
    {
     "cell_type": "code",
     "collapsed": false,
     "input": [
      "rcParams['image.cmap'] = 'hot'"
     ],
     "language": "python",
     "metadata": {},
     "outputs": [],
     "prompt_number": 1
    },
    {
     "cell_type": "code",
     "collapsed": false,
     "input": [
      "num_input_chan = 3 #latent maps\n",
      "num_output_chan = 9 #data maps\n",
      "num_pix = 100"
     ],
     "language": "python",
     "metadata": {},
     "outputs": [],
     "prompt_number": 2
    },
    {
     "cell_type": "code",
     "collapsed": false,
     "input": [
      "# make results reproducable\n",
      "np.random.seed(1)"
     ],
     "language": "python",
     "metadata": {},
     "outputs": [],
     "prompt_number": 3
    },
    {
     "cell_type": "code",
     "collapsed": false,
     "input": [
      "# create a random \"A\" matrix to test\n",
      "\n",
      "a = np.random.randn(num_output_chan,num_input_chan)"
     ],
     "language": "python",
     "metadata": {},
     "outputs": [],
     "prompt_number": 4
    },
    {
     "cell_type": "code",
     "collapsed": false,
     "input": [
      "def ymodel(a, latent_variables):\n",
      "    num_pix = latent_variables.shape[0]\n",
      "    output = np.empty((num_pix,a.shape[0]))\n",
      "    for k in range(num_pix):\n",
      "        output[k,:] = np.dot(a,latent_variables[k,:])\n",
      "    return output"
     ],
     "language": "python",
     "metadata": {},
     "outputs": [],
     "prompt_number": 5
    },
    {
     "cell_type": "code",
     "collapsed": false,
     "input": [
      "# Create a silly example of latent variable maps that will generate the output maps when acted on by \"A\"\n",
      "\n",
      "xn= np.arange(1,1+num_input_chan)[None,:]*np.arange(1,1+num_pix)[:,None]"
     ],
     "language": "python",
     "metadata": {},
     "outputs": [],
     "prompt_number": 6
    },
    {
     "cell_type": "code",
     "collapsed": false,
     "input": [
      "xn.shape"
     ],
     "language": "python",
     "metadata": {},
     "outputs": [
      {
       "metadata": {},
       "output_type": "pyout",
       "prompt_number": 7,
       "text": [
        "(100, 3)"
       ]
      }
     ],
     "prompt_number": 7
    },
    {
     "cell_type": "code",
     "collapsed": false,
     "input": [
      "imshow(xn,aspect='auto',interpolation='nearest')"
     ],
     "language": "python",
     "metadata": {},
     "outputs": [
      {
       "metadata": {},
       "output_type": "pyout",
       "prompt_number": 8,
       "text": [
        "<matplotlib.image.AxesImage at 0x7f172ca39210>"
       ]
      },
      {
       "metadata": {},
       "output_type": "display_data",
       "png": "[encoded data removed]",
       "text": [
        "<matplotlib.figure.Figure at 0x7f172d56ef50>"
       ]
      }
     ],
     "prompt_number": 8
    },
    {
     "cell_type": "code",
     "collapsed": false,
     "input": [
      "noisefree_observation = ymodel(a,xn)"
     ],
     "language": "python",
     "metadata": {},
     "outputs": [],
     "prompt_number": 9
    },
    {
     "cell_type": "code",
     "collapsed": false,
     "input": [
      "noisefree_observation.shape"
     ],
     "language": "python",
     "metadata": {},
     "outputs": [
      {
       "metadata": {},
       "output_type": "pyout",
       "prompt_number": 10,
       "text": [
        "(100, 9)"
       ]
      }
     ],
     "prompt_number": 10
    },
    {
     "cell_type": "code",
     "collapsed": false,
     "input": [
      "imshow(ymodel(a,xn),aspect='auto',interpolation='nearest')"
     ],
     "language": "python",
     "metadata": {},
     "outputs": [
      {
       "metadata": {},
       "output_type": "pyout",
       "prompt_number": 11,
       "text": [
        "<matplotlib.image.AxesImage at 0x7f172c91a650>"
       ]
      },
      {
       "metadata": {},
       "output_type": "display_data",
       "png": "[encoded data removed]",
       "text": [
        "<matplotlib.figure.Figure at 0x7f172c9de310>"
       ]
      }
     ],
     "prompt_number": 11
    },
    {
     "cell_type": "code",
     "collapsed": false,
     "input": [
      "imshow(a,aspect='auto',interpolation='nearest')"
     ],
     "language": "python",
     "metadata": {},
     "outputs": [
      {
       "metadata": {},
       "output_type": "pyout",
       "prompt_number": 12,
       "text": [
        "<matplotlib.image.AxesImage at 0x7f172c8541d0>"
       ]
      },
      {
       "metadata": {},
       "output_type": "display_data",
       "png": "[encoded data removed]",
       "text": [
        "<matplotlib.figure.Figure at 0x7f172c8d2ed0>"
       ]
      }
     ],
     "prompt_number": 12
    },
    {
     "cell_type": "code",
     "collapsed": false,
     "input": [
      "noise_level = 10\n",
      "observation = noisefree_observation + np.random.randn(num_pix,num_output_chan)*noise_level"
     ],
     "language": "python",
     "metadata": {},
     "outputs": [],
     "prompt_number": 13
    },
    {
     "cell_type": "code",
     "collapsed": false,
     "input": [
      "# Define the objective function for the A matrix\n",
      "# a_flat is the flattened version of the proposed A matrix. xhat is the current best guess of the latent maps\n",
      "# observation is the observed data\n",
      "# Currently this returns the sum of squared errors since that's what the basic scipy optimizer seems to work best with\n",
      "def objective_a(a_flat, xhat, observation, a_dimensions):\n",
      "    a = a_flat.reshape(a_dimensions)\n",
      "    ym = ymodel(a,xhat)\n",
      "    residual = (np.abs((ym - observation).flatten())**2).sum()\n",
      "    #print residual#.shape\n",
      "    return residual"
     ],
     "language": "python",
     "metadata": {},
     "outputs": [],
     "prompt_number": 14
    },
    {
     "cell_type": "code",
     "collapsed": false,
     "input": [
      "import scipy.optimize"
     ],
     "language": "python",
     "metadata": {},
     "outputs": [],
     "prompt_number": 15
    },
    {
     "cell_type": "code",
     "collapsed": false,
     "input": [
      "#we initially just use some of the observed maps as guesses for the latent maps. These would be Planck channels dominated by CMB, by dust, etc.\n",
      "xhat = observation[:,[0,4,6]]"
     ],
     "language": "python",
     "metadata": {},
     "outputs": [],
     "prompt_number": 16
    },
    {
     "cell_type": "code",
     "collapsed": false,
     "input": [
      "def update_xhat(a,observation):\n",
      "    num_input_chan = a.shape[1]\n",
      "    num_pix = observation.shape[0]\n",
      "    ainv = np.linalg.pinv(a)\n",
      "    newx = np.empty((num_pix,num_input_chan))\n",
      "    for k in range(num_pix):\n",
      "        newx[k,:] = np.dot(ainv,observation[k,:])\n",
      "    return newx"
     ],
     "language": "python",
     "metadata": {},
     "outputs": [],
     "prompt_number": 17
    },
    {
     "cell_type": "code",
     "collapsed": false,
     "input": [
      "def solve_linear_model(observation,latent_guess,a_guess=None,num_updates=10,debug=True):\n",
      "    num_pix = observation.shape[0]\n",
      "    num_output_chan = observation.shape[1]\n",
      "    num_input_chan = latent_guess.shape[1]\n",
      "    if a_guess is None:\n",
      "        a_guess = np.ones((num_output_chan,num_input_chan))\n",
      "    xhats = np.empty((num_updates,num_pix,num_input_chan))\n",
      "    a_mats = np.empty((num_updates,num_output_chan,num_input_chan))\n",
      "    output_maps = np.empty((num_updates,num_pix,num_output_chan))\n",
      "    \n",
      "    for loop in range(num_updates):\n",
      "        if loop == 0:\n",
      "            xhat = latent_guess\n",
      "        else:\n",
      "            xhat = xhats[loop-1,:,:]\n",
      "        newa = scipy.optimize.fmin(objective_a,\n",
      "                           x0=a_guess.flatten(),\n",
      "                           args=(xhat,observation,(num_output_chan,num_input_chan)))\n",
      "        newa = newa.reshape((num_output_chan,num_input_chan))\n",
      "        new_xhat = update_xhat(newa,observation)\n",
      "        output_maps[loop,:,:] = ymodel(newa,xhat)\n",
      "        a_mats[loop,:,:] = newa\n",
      "        xhats[loop,:,:] = new_xhat\n",
      "    return a_mats,xhats,output_maps"
     ],
     "language": "python",
     "metadata": {},
     "outputs": [],
     "prompt_number": 18
    },
    {
     "cell_type": "code",
     "collapsed": false,
     "input": [
      "a_mats,xhats,output_maps = solve_linear_model(observation,xhat)"
     ],
     "language": "python",
     "metadata": {},
     "outputs": [
      {
       "output_type": "stream",
       "stream": "stdout",
       "text": [
        "Warning: Maximum number of function evaluations has been exceeded.\n",
        "Warning: Maximum number of function evaluations has been exceeded."
       ]
      },
      {
       "output_type": "stream",
       "stream": "stdout",
       "text": [
        "\n",
        "Warning: Maximum number of function evaluations has been exceeded."
       ]
      },
      {
       "output_type": "stream",
       "stream": "stdout",
       "text": [
        "\n",
        "Warning: Maximum number of function evaluations has been exceeded."
       ]
      },
      {
       "output_type": "stream",
       "stream": "stdout",
       "text": [
        "\n",
        "Warning: Maximum number of function evaluations has been exceeded."
       ]
      },
      {
       "output_type": "stream",
       "stream": "stdout",
       "text": [
        "\n",
        "Warning: Maximum number of function evaluations has been exceeded."
       ]
      },
      {
       "output_type": "stream",
       "stream": "stdout",
       "text": [
        "\n",
        "Warning: Maximum number of function evaluations has been exceeded."
       ]
      },
      {
       "output_type": "stream",
       "stream": "stdout",
       "text": [
        "\n",
        "Warning: Maximum number of function evaluations has been exceeded."
       ]
      },
      {
       "output_type": "stream",
       "stream": "stdout",
       "text": [
        "\n",
        "Warning: Maximum number of function evaluations has been exceeded."
       ]
      },
      {
       "output_type": "stream",
       "stream": "stdout",
       "text": [
        "\n",
        "Warning: Maximum number of function evaluations has been exceeded."
       ]
      },
      {
       "output_type": "stream",
       "stream": "stdout",
       "text": [
        "\n"
       ]
      }
     ],
     "prompt_number": 19
    },
    {
     "cell_type": "code",
     "collapsed": false,
     "input": [
      "newx = xhats[-1,:,:]"
     ],
     "language": "python",
     "metadata": {},
     "outputs": [],
     "prompt_number": 20
    },
    {
     "cell_type": "code",
     "collapsed": false,
     "input": [
      "fig,axs = plt.subplots(1,2)\n",
      "axs[0].imshow(newx,aspect='auto',interpolation='nearest')\n",
      "axs[1].imshow(xn,aspect='auto',interpolation='nearest')"
     ],
     "language": "python",
     "metadata": {},
     "outputs": [
      {
       "metadata": {},
       "output_type": "pyout",
       "prompt_number": 21,
       "text": [
        "<matplotlib.image.AxesImage at 0x7f171fabd1d0>"
       ]
      },
      {
       "metadata": {},
       "output_type": "display_data",
       "png": "[encoded data removed]",
       "text": [
        "<matplotlib.figure.Figure at 0x7f172c812a50>"
       ]
      }
     ],
     "prompt_number": 21
    },
    {
     "cell_type": "code",
     "collapsed": false,
     "input": [
      "current_map_estimate = output_maps[-1,:,:]"
     ],
     "language": "python",
     "metadata": {},
     "outputs": [],
     "prompt_number": 22
    },
    {
     "cell_type": "code",
     "collapsed": false,
     "input": [
      "fig,axs = plt.subplots(1,3,figsize=(12,6))\n",
      "axs[0].imshow(current_map_estimate,aspect='auto',interpolation='nearest')\n",
      "axs[1].imshow(observation,aspect='auto',interpolation='nearest')\n",
      "axs[2].imshow(noisefree_observation,aspect='auto',interpolation='nearest')\n"
     ],
     "language": "python",
     "metadata": {},
     "outputs": [
      {
       "metadata": {},
       "output_type": "pyout",
       "prompt_number": 23,
       "text": [
        "<matplotlib.image.AxesImage at 0x7f171f80f2d0>"
       ]
      },
      {
       "metadata": {},
       "output_type": "display_data",
       "png": "[encoded data removed]",
       "text": [
        "<matplotlib.figure.Figure at 0x7f171ff44590>"
       ]
      }
     ],
     "prompt_number": 23
    },
    {
     "cell_type": "code",
     "collapsed": false,
     "input": [
      "fig,axs = plt.subplots(1,2)\n",
      "axs[0].imshow(a,aspect='auto',interpolation='nearest')\n",
      "axs[1].imshow(a_mats[-1,:,:],aspect='auto',interpolation='nearest')"
     ],
     "language": "python",
     "metadata": {},
     "outputs": [
      {
       "metadata": {},
       "output_type": "pyout",
       "prompt_number": 24,
       "text": [
        "<matplotlib.image.AxesImage at 0x7f171f7d4290>"
       ]
      },
      {
       "metadata": {},
       "output_type": "display_data",
       "png": "[encoded data removed]",
       "text": [
        "<matplotlib.figure.Figure at 0x7f171f994410>"
       ]
      }
     ],
     "prompt_number": 24
    },
    {
     "cell_type": "code",
     "collapsed": false,
     "input": [
      "fig,axs = plt.subplots(1,3,figsize=(12,6))\n",
      "axs[0].imshow(current_map_estimate-observation,aspect='auto',interpolation='nearest')\n",
      "axs[1].imshow(observation-noisefree_observation,aspect='auto',interpolation='nearest')\n",
      "axs[2].imshow(current_map_estimate-noisefree_observation,aspect='auto',interpolation='nearest')\n",
      "for ax in axs:\n",
      "    ax.images[0].set_clim(-3*noise_level,3*noise_level)"
     ],
     "language": "python",
     "metadata": {},
     "outputs": [
      {
       "metadata": {},
       "output_type": "display_data",
       "png": "[encoded data removed]",
       "text": [
        "<matplotlib.figure.Figure at 0x7f171ff447d0>"
       ]
      }
     ],
     "prompt_number": 28
    },
    {
     "cell_type": "code",
     "collapsed": false,
     "input": [
      "aflat = a.flatten()\n",
      "aflat.sort()\n",
      "arecov = a_mats[-1,:,:].flatten()\n",
      "arecov.sort()"
     ],
     "language": "python",
     "metadata": {},
     "outputs": [],
     "prompt_number": 26
    },
    {
     "cell_type": "code",
     "collapsed": false,
     "input": [
      "plot(aflat)\n",
      "plot(arecov)"
     ],
     "language": "python",
     "metadata": {},
     "outputs": [
      {
       "metadata": {},
       "output_type": "pyout",
       "prompt_number": 27,
       "text": [
        "[<matplotlib.lines.Line2D at 0x7f171ff445d0>]"
       ]
      },
      {
       "metadata": {},
       "output_type": "display_data",
       "png": "[encoded data removed]",
       "text": [
        "<matplotlib.figure.Figure at 0x7f171f645250>"
       ]
      }
     ],
     "prompt_number": 27
    },
    {
     "cell_type": "code",
     "collapsed": false,
     "input": [],
     "language": "python",
     "metadata": {},
     "outputs": [],
     "prompt_number": 27
    }
   ],
   "metadata": {}
  }
 ]
}