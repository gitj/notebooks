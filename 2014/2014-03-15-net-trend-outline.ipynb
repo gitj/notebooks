{
 "metadata": {
  "name": ""
 },
 "nbformat": 3,
 "nbformat_minor": 0,
 "worksheets": [
  {
   "cells": [
    {
     "cell_type": "code",
     "collapsed": false,
     "input": [
      "run /home/gjones/workspace/kid_readout/analysis/process_net_sweeps.py"
     ],
     "language": "python",
     "metadata": {},
     "outputs": [
      {
       "output_type": "stream",
       "stream": "stderr",
       "text": [
        "/home/local/lib/python2.7/site-packages/matplotlib/__init__.py:1155: UserWarning:  This call to matplotlib.use() has no effect\n",
        "because the backend has already been chosen;\n",
        "matplotlib.use() must be called *before* pylab, matplotlib.pyplot,\n",
        "or matplotlib.backends is imported for the first time.\n",
        "\n",
        "  warnings.warn(_use_error_msg)\n"
       ]
      }
     ],
     "prompt_number": 1
    },
    {
     "cell_type": "code",
     "collapsed": false,
     "input": [
      "pkls = glob.glob('/home/data/noise_2014-03-*.pkl')"
     ],
     "language": "python",
     "metadata": {},
     "outputs": [],
     "prompt_number": 2
    },
    {
     "cell_type": "code",
     "collapsed": false,
     "input": [
      "pkls.sort()"
     ],
     "language": "python",
     "metadata": {},
     "outputs": [],
     "prompt_number": 3
    },
    {
     "cell_type": "code",
     "collapsed": false,
     "input": [
      "res0 = []\n",
      "for pkl in pkls:\n",
      "    print pkl\n",
      "    nms = load_net_pkl(pkl)\n",
      "    if nms[0].atten == 10.0:\n",
      "        res0.append(nms[0])"
     ],
     "language": "python",
     "metadata": {},
     "outputs": [
      {
       "output_type": "stream",
       "stream": "stdout",
       "text": [
        "/home/data/noise_2014-03-01_150116.pkl\n",
        "Start: 3.299 K, End: 3.299 K, difference 0.000 K"
       ]
      },
      {
       "output_type": "stream",
       "stream": "stdout",
       "text": [
        "\n",
        "/home/data/noise_2014-03-01_150242.pkl\n",
        "Start: 3.299 K, End: 3.299 K, difference 0.000 K"
       ]
      },
      {
       "output_type": "stream",
       "stream": "stdout",
       "text": [
        "\n",
        "/home/data/noise_2014-03-01_150411.pkl\n",
        "Start: 3.298 K, End: 3.298 K, difference 0.000 K"
       ]
      },
      {
       "output_type": "stream",
       "stream": "stdout",
       "text": [
        "\n",
        "/home/data/noise_2014-03-01_150548.pkl\n",
        "Start: 3.299 K, End: 3.299 K, difference 0.000 K\n",
        "/home/data/noise_2014-03-01_150721.pkl\n",
        "Start: 3.299 K, End: 3.299 K, difference 0.000 K"
       ]
      },
      {
       "output_type": "stream",
       "stream": "stdout",
       "text": [
        "\n",
        "/home/data/noise_2014-03-01_150903.pkl\n",
        "Start: 3.299 K, End: 3.299 K, difference 0.000 K"
       ]
      },
      {
       "output_type": "stream",
       "stream": "stdout",
       "text": [
        "\n",
        "/home/data/noise_2014-03-01_151049.pkl\n",
        "Start: 3.299 K, End: 3.299 K, difference 0.000 K\n",
        "/home/data/noise_2014-03-01_151230.pkl\n",
        "Start: 3.299 K, End: 3.299 K, difference 0.000 K"
       ]
      },
      {
       "output_type": "stream",
       "stream": "stdout",
       "text": [
        "\n",
        "/home/data/noise_2014-03-01_152549.pkl\n",
        "Start: 3.299 K, End: 3.299 K, difference 0.000 K"
       ]
      },
      {
       "output_type": "stream",
       "stream": "stdout",
       "text": [
        "\n",
        "/home/data/noise_2014-03-01_152951.pkl\n",
        "Start: 3.299 K, End: 3.299 K, difference 0.000 K"
       ]
      },
      {
       "output_type": "stream",
       "stream": "stdout",
       "text": [
        "\n",
        "/home/data/noise_2014-03-01_153356.pkl\n",
        "Start: 3.299 K, End: 3.299 K, difference 0.000 K"
       ]
      },
      {
       "output_type": "stream",
       "stream": "stdout",
       "text": [
        "\n",
        "/home/data/noise_2014-03-01_153804.pkl\n",
        "Start: 3.299 K, End: 3.299 K, difference 0.000 K"
       ]
      },
      {
       "output_type": "stream",
       "stream": "stdout",
       "text": [
        "\n",
        "/home/data/noise_2014-03-01_154217.pkl\n",
        "Start: 3.298 K, End: 3.298 K, difference 0.000 K"
       ]
      },
      {
       "output_type": "stream",
       "stream": "stdout",
       "text": [
        "\n",
        "/home/data/noise_2014-03-01_161404.pkl\n",
        "Start: 3.324 K, End: 3.324 K, difference 0.000 K"
       ]
      },
      {
       "output_type": "stream",
       "stream": "stdout",
       "text": [
        "\n",
        "/home/data/noise_2014-03-01_161809.pkl\n",
        "Start: 3.322 K, End: 3.322 K, difference 0.000 K"
       ]
      },
      {
       "output_type": "stream",
       "stream": "stdout",
       "text": [
        "\n",
        "/home/data/noise_2014-03-01_162219.pkl\n",
        "Start: 3.323 K, End: 3.323 K, difference 0.000 K"
       ]
      },
      {
       "output_type": "stream",
       "stream": "stdout",
       "text": [
        "\n",
        "/home/data/noise_2014-03-01_162631.pkl\n",
        "Start: 3.322 K, End: 3.322 K, difference 0.000 K"
       ]
      },
      {
       "output_type": "stream",
       "stream": "stdout",
       "text": [
        "\n",
        "/home/data/noise_2014-03-01_163046.pkl\n",
        "Start: 3.322 K, End: 3.322 K, difference 0.000 K"
       ]
      },
      {
       "output_type": "stream",
       "stream": "stdout",
       "text": [
        "\n",
        "/home/data/noise_2014-03-01_165758.pkl\n",
        "Start: 3.345 K, End: 3.345 K, difference 0.000 K\n",
        "/home/data/noise_2014-03-01_170209.pkl\n",
        "Start: 3.346 K, End: 3.346 K, difference 0.000 K"
       ]
      },
      {
       "output_type": "stream",
       "stream": "stdout",
       "text": [
        "\n",
        "/home/data/noise_2014-03-01_170623.pkl\n",
        "Start: 3.346 K, End: 3.346 K, difference 0.000 K"
       ]
      },
      {
       "output_type": "stream",
       "stream": "stdout",
       "text": [
        "\n",
        "/home/data/noise_2014-03-01_171033.pkl\n",
        "Start: 3.345 K, End: 3.345 K, difference 0.000 K"
       ]
      },
      {
       "output_type": "stream",
       "stream": "stdout",
       "text": [
        "\n",
        "/home/data/noise_2014-03-01_171447.pkl\n",
        "Start: 3.344 K, End: 3.344 K, difference 0.000 K\n",
        "/home/data/noise_2014-03-01_174536.pkl\n",
        "Start: 3.393 K, End: 3.393 K, difference 0.000 K"
       ]
      },
      {
       "output_type": "stream",
       "stream": "stdout",
       "text": [
        "\n",
        "/home/data/noise_2014-03-01_174944.pkl\n",
        "Start: 3.392 K, End: 3.392 K, difference 0.000 K"
       ]
      },
      {
       "output_type": "stream",
       "stream": "stdout",
       "text": [
        "\n",
        "/home/data/noise_2014-03-01_175356.pkl\n",
        "Start: 3.393 K, End: 3.393 K, difference 0.000 K"
       ]
      },
      {
       "output_type": "stream",
       "stream": "stdout",
       "text": [
        "\n",
        "/home/data/noise_2014-03-01_175808.pkl\n",
        "Start: 3.392 K, End: 3.392 K, difference 0.000 K"
       ]
      },
      {
       "output_type": "stream",
       "stream": "stdout",
       "text": [
        "\n",
        "/home/data/noise_2014-03-01_180224.pkl\n",
        "Start: 3.391 K, End: 3.391 K, difference 0.000 K"
       ]
      },
      {
       "output_type": "stream",
       "stream": "stdout",
       "text": [
        "\n",
        "/home/data/noise_2014-03-01_192106.pkl\n",
        "Start: 3.296 K, End: 3.308 K, difference 0.012 K"
       ]
      },
      {
       "output_type": "stream",
       "stream": "stdout",
       "text": [
        "\n",
        "/home/data/noise_2014-03-01_193103.pkl\n",
        "Start: 3.284 K, End: 3.284 K, difference 0.000 K"
       ]
      },
      {
       "output_type": "stream",
       "stream": "stdout",
       "text": [
        "\n",
        "/home/data/noise_2014-03-01_193754.pkl\n",
        "Start: 3.282 K, End: 3.305 K, difference 0.023 K"
       ]
      },
      {
       "output_type": "stream",
       "stream": "stdout",
       "text": [
        "\n",
        "/home/data/noise_2014-03-01_195704.pkl\n",
        "Start: 3.305 K, End: 3.328 K, difference 0.023 K"
       ]
      },
      {
       "output_type": "stream",
       "stream": "stdout",
       "text": [
        "\n",
        "/home/data/noise_2014-03-01_201504.pkl\n",
        "Start: 3.330 K, End: 3.378 K, difference 0.048 K"
       ]
      },
      {
       "output_type": "stream",
       "stream": "stdout",
       "text": [
        "\n",
        "/home/data/noise_2014-03-01_203253.pkl\n",
        "Start: 3.380 K, End: 3.476 K, difference 0.097 K"
       ]
      },
      {
       "output_type": "stream",
       "stream": "stdout",
       "text": [
        "\n",
        "/home/data/noise_2014-03-01_205110.pkl\n",
        "Start: 3.477 K, End: 3.670 K, difference 0.192 K"
       ]
      },
      {
       "output_type": "stream",
       "stream": "stdout",
       "text": [
        "\n",
        "/home/data/noise_2014-03-01_210944.pkl\n",
        "Start: 3.673 K, End: 4.011 K, difference 0.338 K"
       ]
      },
      {
       "output_type": "stream",
       "stream": "stdout",
       "text": [
        "\n",
        "/home/data/noise_2014-03-01_212848.pkl\n",
        "Start: 4.020 K, End: 4.609 K, difference 0.589 K"
       ]
      },
      {
       "output_type": "stream",
       "stream": "stdout",
       "text": [
        "\n",
        "/home/data/noise_2014-03-01_214806.pkl\n",
        "Start: 4.629 K, End: 5.599 K, difference 0.970 K"
       ]
      },
      {
       "output_type": "stream",
       "stream": "stdout",
       "text": [
        "\n",
        "/home/data/noise_2014-03-01_220748.pkl\n",
        "Start: 5.640 K, End: 7.080 K, difference 1.440 K"
       ]
      },
      {
       "output_type": "stream",
       "stream": "stdout",
       "text": [
        "\n",
        "/home/data/noise_2014-03-01_222543.pkl\n",
        "Start: 7.171 K, End: 9.280 K, difference 2.109 K"
       ]
      },
      {
       "output_type": "stream",
       "stream": "stdout",
       "text": [
        "\n",
        "/home/data/noise_2014-03-02_013752.pkl\n",
        "Start: 3.280 K, End: 3.378 K, difference 0.098 K"
       ]
      },
      {
       "output_type": "stream",
       "stream": "stdout",
       "text": [
        "\n",
        "/home/data/noise_2014-03-02_015704.pkl\n",
        "Start: 3.381 K, End: 3.478 K, difference 0.097 K"
       ]
      },
      {
       "output_type": "stream",
       "stream": "stdout",
       "text": [
        "\n",
        "/home/data/noise_2014-03-02_021653.pkl\n",
        "Start: 3.479 K, End: 3.672 K, difference 0.193 K"
       ]
      },
      {
       "output_type": "stream",
       "stream": "stdout",
       "text": [
        "\n",
        "/home/data/noise_2014-03-02_023646.pkl\n",
        "Start: 3.676 K, End: 4.016 K, difference 0.340 K"
       ]
      },
      {
       "output_type": "stream",
       "stream": "stdout",
       "text": [
        "\n",
        "/home/data/noise_2014-03-02_025703.pkl\n",
        "Start: 4.023 K, End: 4.619 K, difference 0.596 K"
       ]
      },
      {
       "output_type": "stream",
       "stream": "stdout",
       "text": [
        "\n",
        "/home/data/noise_2014-03-02_031743.pkl\n",
        "Start: 4.635 K, End: 5.617 K, difference 0.982 K"
       ]
      },
      {
       "output_type": "stream",
       "stream": "stdout",
       "text": [
        "\n",
        "/home/data/noise_2014-03-02_033849.pkl\n",
        "Start: 5.652 K, End: 7.153 K, difference 1.502 K"
       ]
      },
      {
       "output_type": "stream",
       "stream": "stdout",
       "text": [
        "\n",
        "/home/data/noise_2014-03-02_040016.pkl\n",
        "Start: 7.220 K, End: 9.338 K, difference 2.118 K"
       ]
      },
      {
       "output_type": "stream",
       "stream": "stdout",
       "text": [
        "\n",
        "/home/data/noise_2014-03-02_083802.pkl\n",
        "Start: 3.282 K, End: 3.304 K, difference 0.022 K"
       ]
      },
      {
       "output_type": "stream",
       "stream": "stdout",
       "text": [
        "\n",
        "/home/data/noise_2014-03-02_085710.pkl\n",
        "Start: 3.304 K, End: 3.379 K, difference 0.075 K"
       ]
      },
      {
       "output_type": "stream",
       "stream": "stdout",
       "text": [
        "\n",
        "/home/data/noise_2014-03-02_091638.pkl\n",
        "Start: 3.380 K, End: 3.503 K, difference 0.123 K"
       ]
      },
      {
       "output_type": "stream",
       "stream": "stdout",
       "text": [
        "\n",
        "/home/data/noise_2014-03-02_093622.pkl\n",
        "Start: 3.506 K, End: 3.674 K, difference 0.169 K"
       ]
      },
      {
       "output_type": "stream",
       "stream": "stdout",
       "text": [
        "\n",
        "/home/data/noise_2014-03-02_095646.pkl\n",
        "Start: 3.677 K, End: 3.870 K, difference 0.193 K"
       ]
      },
      {
       "output_type": "stream",
       "stream": "stdout",
       "text": [
        "\n",
        "/home/data/noise_2014-03-02_101727.pkl\n",
        "Start: 3.875 K, End: 4.104 K, difference 0.229 K"
       ]
      },
      {
       "output_type": "stream",
       "stream": "stdout",
       "text": [
        "\n",
        "/home/data/noise_2014-03-02_103644.pkl\n",
        "Start: 4.110 K, End: 4.358 K, difference 0.248 K"
       ]
      },
      {
       "output_type": "stream",
       "stream": "stdout",
       "text": [
        "\n",
        "/home/data/noise_2014-03-02_105602.pkl\n",
        "Start: 4.367 K, End: 4.634 K, difference 0.267 K"
       ]
      },
      {
       "output_type": "stream",
       "stream": "stdout",
       "text": [
        "\n",
        "/home/data/noise_2014-03-02_111553.pkl\n",
        "Start: 4.644 K, End: 4.938 K, difference 0.294 K"
       ]
      },
      {
       "output_type": "stream",
       "stream": "stdout",
       "text": [
        "\n",
        "/home/data/noise_2014-03-02_144155.pkl\n",
        "Start: 3.281 K, End: 3.381 K, difference 0.100 K"
       ]
      },
      {
       "output_type": "stream",
       "stream": "stdout",
       "text": [
        "\n",
        "/home/data/noise_2014-03-02_150116.pkl\n",
        "Start: 3.383 K, End: 3.480 K, difference 0.097 K"
       ]
      },
      {
       "output_type": "stream",
       "stream": "stdout",
       "text": [
        "\n",
        "/home/data/noise_2014-03-02_152049.pkl\n",
        "Start: 3.483 K, End: 3.580 K, difference 0.097 K"
       ]
      },
      {
       "output_type": "stream",
       "stream": "stdout",
       "text": [
        "\n",
        "/home/data/noise_2014-03-02_154045.pkl\n",
        "Start: 3.581 K, End: 3.677 K, difference 0.096 K"
       ]
      },
      {
       "output_type": "stream",
       "stream": "stdout",
       "text": [
        "\n",
        "/home/data/noise_2014-03-02_160101.pkl\n",
        "Start: 3.679 K, End: 3.768 K, difference 0.089 K"
       ]
      },
      {
       "output_type": "stream",
       "stream": "stdout",
       "text": [
        "\n",
        "/home/data/noise_2014-03-02_162142.pkl\n",
        "Start: 3.769 K, End: 3.856 K, difference 0.087 K"
       ]
      },
      {
       "output_type": "stream",
       "stream": "stdout",
       "text": [
        "\n",
        "/home/data/noise_2014-03-02_164254.pkl\n",
        "Start: 3.858 K, End: 3.941 K, difference 0.083 K"
       ]
      },
      {
       "output_type": "stream",
       "stream": "stdout",
       "text": [
        "\n",
        "/home/data/noise_2014-03-02_170221.pkl\n",
        "Start: 3.945 K, End: 4.030 K, difference 0.085 K"
       ]
      },
      {
       "output_type": "stream",
       "stream": "stdout",
       "text": [
        "\n",
        "/home/data/noise_2014-03-02_172211.pkl\n",
        "Start: 4.033 K, End: 4.116 K, difference 0.083 K"
       ]
      },
      {
       "output_type": "stream",
       "stream": "stdout",
       "text": [
        "\n",
        "/home/data/noise_2014-03-02_191654.pkl\n",
        "Start: 3.282 K, End: 3.382 K, difference 0.099 K"
       ]
      },
      {
       "output_type": "stream",
       "stream": "stdout",
       "text": [
        "\n",
        "/home/data/noise_2014-03-02_193805.pkl\n",
        "Start: 3.381 K, End: 3.481 K, difference 0.100 K"
       ]
      },
      {
       "output_type": "stream",
       "stream": "stdout",
       "text": [
        "\n",
        "/home/data/noise_2014-03-02_195930.pkl\n",
        "Start: 3.482 K, End: 3.581 K, difference 0.099 K"
       ]
      },
      {
       "output_type": "stream",
       "stream": "stdout",
       "text": [
        "\n",
        "/home/data/noise_2014-03-02_202110.pkl\n",
        "Start: 3.582 K, End: 3.680 K, difference 0.098 K"
       ]
      },
      {
       "output_type": "stream",
       "stream": "stdout",
       "text": [
        "\n",
        "/home/data/noise_2014-03-02_204317.pkl\n",
        "Start: 3.680 K, End: 3.769 K, difference 0.088 K"
       ]
      },
      {
       "output_type": "stream",
       "stream": "stdout",
       "text": [
        "\n",
        "/home/data/noise_2014-03-02_210550.pkl\n",
        "Start: 3.771 K, End: 3.858 K, difference 0.087 K"
       ]
      },
      {
       "output_type": "stream",
       "stream": "stdout",
       "text": [
        "\n",
        "/home/data/noise_2014-03-02_212850.pkl\n",
        "Start: 3.859 K, End: 3.944 K, difference 0.085 K"
       ]
      },
      {
       "output_type": "stream",
       "stream": "stdout",
       "text": [
        "\n",
        "/home/data/noise_2014-03-02_215022.pkl\n",
        "Start: 3.945 K, End: 4.032 K, difference 0.087 K"
       ]
      },
      {
       "output_type": "stream",
       "stream": "stdout",
       "text": [
        "\n",
        "/home/data/noise_2014-03-02_221212.pkl\n",
        "Start: 4.033 K, End: 4.118 K, difference 0.085 K"
       ]
      },
      {
       "output_type": "stream",
       "stream": "stdout",
       "text": [
        "\n",
        "/home/data/noise_2014-03-02_223435.pkl\n",
        "Start: 4.119 K, End: 4.206 K, difference 0.087 K"
       ]
      },
      {
       "output_type": "stream",
       "stream": "stdout",
       "text": [
        "\n",
        "/home/data/noise_2014-03-03_001041.pkl\n",
        "Start: 4.212 K, End: 3.412 K, difference -0.800 K"
       ]
      },
      {
       "output_type": "stream",
       "stream": "stdout",
       "text": [
        "\n",
        "/home/data/noise_2014-03-03_003205.pkl\n",
        "Start: 3.397 K, End: 3.484 K, difference 0.087 K"
       ]
      },
      {
       "output_type": "stream",
       "stream": "stdout",
       "text": [
        "\n",
        "/home/data/noise_2014-03-03_005332.pkl\n",
        "Start: 3.485 K, End: 3.583 K, difference 0.098 K"
       ]
      },
      {
       "output_type": "stream",
       "stream": "stdout",
       "text": [
        "\n",
        "/home/data/noise_2014-03-03_011526.pkl\n",
        "Start: 3.584 K, End: 3.682 K, difference 0.098 K"
       ]
      },
      {
       "output_type": "stream",
       "stream": "stdout",
       "text": [
        "\n",
        "/home/data/noise_2014-03-03_013753.pkl\n",
        "Start: 3.682 K, End: 3.773 K, difference 0.091 K"
       ]
      },
      {
       "output_type": "stream",
       "stream": "stdout",
       "text": [
        "\n",
        "/home/data/noise_2014-03-03_020042.pkl\n",
        "Start: 3.773 K, End: 3.858 K, difference 0.085 K"
       ]
      },
      {
       "output_type": "stream",
       "stream": "stdout",
       "text": [
        "\n",
        "/home/data/noise_2014-03-03_022147.pkl\n",
        "Start: 3.860 K, End: 3.946 K, difference 0.086 K"
       ]
      },
      {
       "output_type": "stream",
       "stream": "stdout",
       "text": [
        "\n",
        "/home/data/noise_2014-03-03_024316.pkl\n",
        "Start: 3.948 K, End: 4.033 K, difference 0.085 K"
       ]
      },
      {
       "output_type": "stream",
       "stream": "stdout",
       "text": [
        "\n",
        "/home/data/noise_2014-03-03_030507.pkl\n",
        "Start: 4.034 K, End: 4.120 K, difference 0.086 K"
       ]
      },
      {
       "output_type": "stream",
       "stream": "stdout",
       "text": [
        "\n",
        "/home/data/noise_2014-03-03_032732.pkl\n",
        "Start: 4.123 K, End: 4.207 K, difference 0.084 K"
       ]
      },
      {
       "output_type": "stream",
       "stream": "stdout",
       "text": [
        "\n",
        "/home/data/noise_2014-03-05_215259.pkl\n",
        "Start: 3.277 K, End: 3.652 K, difference 0.375 K"
       ]
      },
      {
       "output_type": "stream",
       "stream": "stdout",
       "text": [
        "\n",
        "/home/data/noise_2014-03-05_224530.pkl\n",
        "Start: 3.654 K, End: 3.654 K, difference 0.000 K\n",
        "/home/data/noise_2014-03-05_230135.pkl\n",
        "Start: 3.655 K, End: 3.655 K, difference 0.000 K"
       ]
      },
      {
       "output_type": "stream",
       "stream": "stdout",
       "text": [
        "\n",
        "/home/data/noise_2014-03-05_235433.pkl\n",
        "Start: 3.655 K, End: 3.293 K, difference -0.362 K"
       ]
      },
      {
       "output_type": "stream",
       "stream": "stdout",
       "text": [
        "\n",
        "/home/data/noise_2014-03-06_004622.pkl\n",
        "Start: 3.291 K, End: 3.650 K, difference 0.359 K"
       ]
      },
      {
       "output_type": "stream",
       "stream": "stdout",
       "text": [
        "\n",
        "/home/data/noise_2014-03-06_013833.pkl\n",
        "Start: 3.653 K, End: 3.290 K, difference -0.363 K"
       ]
      },
      {
       "output_type": "stream",
       "stream": "stdout",
       "text": [
        "\n",
        "/home/data/noise_2014-03-06_023122.pkl\n",
        "Start: 3.288 K, End: 3.653 K, difference 0.365 K"
       ]
      },
      {
       "output_type": "stream",
       "stream": "stdout",
       "text": [
        "\n",
        "/home/data/noise_2014-03-06_032437.pkl\n",
        "Start: 3.653 K, End: 3.290 K, difference -0.363 K"
       ]
      },
      {
       "output_type": "stream",
       "stream": "stdout",
       "text": [
        "\n",
        "/home/data/noise_2014-03-06_081955.pkl\n",
        "Start: 3.277 K, End: 3.641 K, difference 0.364 K"
       ]
      },
      {
       "output_type": "stream",
       "stream": "stdout",
       "text": [
        "\n",
        "/home/data/noise_2014-03-06_090050.pkl\n",
        "Start: 3.643 K, End: 3.282 K, difference -0.361 K"
       ]
      },
      {
       "output_type": "stream",
       "stream": "stdout",
       "text": [
        "\n",
        "/home/data/noise_2014-03-06_094002.pkl\n",
        "Start: 3.282 K, End: 3.641 K, difference 0.359 K"
       ]
      },
      {
       "output_type": "stream",
       "stream": "stdout",
       "text": [
        "\n",
        "/home/data/noise_2014-03-06_102012.pkl\n",
        "Start: 3.642 K, End: 3.285 K, difference -0.357 K"
       ]
      },
      {
       "output_type": "stream",
       "stream": "stdout",
       "text": [
        "\n",
        "/home/data/noise_2014-03-06_110017.pkl\n",
        "Start: 3.285 K, End: 3.578 K, difference 0.293 K"
       ]
      },
      {
       "output_type": "stream",
       "stream": "stdout",
       "text": [
        "\n",
        "/home/data/noise_2014-03-06_115419.pkl\n",
        "Start: 3.655 K, End: 3.656 K, difference 0.001 K"
       ]
      },
      {
       "output_type": "stream",
       "stream": "stdout",
       "text": [
        "\n",
        "/home/data/noise_2014-03-06_144332.pkl\n",
        "Start: 3.309 K, End: 3.662 K, difference 0.353 K"
       ]
      },
      {
       "output_type": "stream",
       "stream": "stdout",
       "text": [
        "\n",
        "/home/data/noise_2014-03-06_151458.pkl\n",
        "Start: 3.668 K, End: 3.311 K, difference -0.357 K"
       ]
      },
      {
       "output_type": "stream",
       "stream": "stdout",
       "text": [
        "\n",
        "/home/data/noise_2014-03-06_162413.pkl\n",
        "Start: 3.298 K, End: 3.607 K, difference 0.309 K"
       ]
      },
      {
       "output_type": "stream",
       "stream": "stdout",
       "text": [
        "\n",
        "/home/data/noise_2014-03-06_190907.pkl\n",
        "Start: 3.281 K, End: 3.371 K, difference 0.090 K"
       ]
      },
      {
       "output_type": "stream",
       "stream": "stdout",
       "text": [
        "\n",
        "/home/data/noise_2014-03-06_194038.pkl\n",
        "Start: 3.371 K, End: 3.278 K, difference -0.093 K"
       ]
      },
      {
       "output_type": "stream",
       "stream": "stdout",
       "text": [
        "\n",
        "/home/data/noise_2014-03-06_201224.pkl\n",
        "Start: 3.275 K, End: 3.366 K, difference 0.091 K"
       ]
      },
      {
       "output_type": "stream",
       "stream": "stdout",
       "text": [
        "\n",
        "/home/data/noise_2014-03-06_204448.pkl\n",
        "Start: 3.364 K, End: 3.273 K, difference -0.091 K"
       ]
      },
      {
       "output_type": "stream",
       "stream": "stdout",
       "text": [
        "\n",
        "/home/data/noise_2014-03-06_211519.pkl\n",
        "Start: 3.271 K, End: 3.362 K, difference 0.091 K"
       ]
      },
      {
       "output_type": "stream",
       "stream": "stdout",
       "text": [
        "\n",
        "/home/data/noise_2014-03-06_214642.pkl\n",
        "Start: 3.363 K, End: 3.272 K, difference -0.091 K"
       ]
      },
      {
       "output_type": "stream",
       "stream": "stdout",
       "text": [
        "\n",
        "/home/data/noise_2014-03-06_221826.pkl\n",
        "Start: 3.271 K, End: 3.363 K, difference 0.092 K"
       ]
      },
      {
       "output_type": "stream",
       "stream": "stdout",
       "text": [
        "\n",
        "/home/data/noise_2014-03-06_225029.pkl\n",
        "Start: 3.364 K, End: 3.291 K, difference -0.073 K"
       ]
      },
      {
       "output_type": "stream",
       "stream": "stdout",
       "text": [
        "\n",
        "/home/data/noise_2014-03-07_002848.pkl\n",
        "Start: 3.269 K, End: 3.361 K, difference 0.092 K"
       ]
      },
      {
       "output_type": "stream",
       "stream": "stdout",
       "text": [
        "\n",
        "/home/data/noise_2014-03-07_010038.pkl\n",
        "Start: 3.368 K, End: 3.278 K, difference -0.090 K"
       ]
      },
      {
       "output_type": "stream",
       "stream": "stdout",
       "text": [
        "\n",
        "/home/data/noise_2014-03-07_013250.pkl\n",
        "Start: 3.277 K, End: 3.363 K, difference 0.086 K"
       ]
      },
      {
       "output_type": "stream",
       "stream": "stdout",
       "text": [
        "\n",
        "/home/data/noise_2014-03-07_020528.pkl\n",
        "Start: 3.365 K, End: 3.277 K, difference -0.088 K"
       ]
      },
      {
       "output_type": "stream",
       "stream": "stdout",
       "text": [
        "\n",
        "/home/data/noise_2014-03-07_023613.pkl\n",
        "Start: 3.274 K, End: 3.364 K, difference 0.090 K"
       ]
      },
      {
       "output_type": "stream",
       "stream": "stdout",
       "text": [
        "\n",
        "/home/data/noise_2014-03-07_030741.pkl\n",
        "Start: 3.365 K, End: 3.273 K, difference -0.092 K"
       ]
      },
      {
       "output_type": "stream",
       "stream": "stdout",
       "text": [
        "\n",
        "/home/data/noise_2014-03-07_033929.pkl\n",
        "Start: 3.271 K, End: 3.361 K, difference 0.090 K"
       ]
      },
      {
       "output_type": "stream",
       "stream": "stdout",
       "text": [
        "\n",
        "/home/data/noise_2014-03-07_041127.pkl\n",
        "Start: 3.363 K, End: 3.272 K, difference -0.091 K"
       ]
      },
      {
       "output_type": "stream",
       "stream": "stdout",
       "text": [
        "\n",
        "/home/data/noise_2014-03-07_165730.pkl\n",
        "Start: 3.288 K, End: 3.380 K, difference 0.092 K"
       ]
      },
      {
       "output_type": "stream",
       "stream": "stdout",
       "text": [
        "\n",
        "/home/data/noise_2014-03-07_171933.pkl\n",
        "Start: 3.382 K, End: 3.293 K, difference -0.089 K"
       ]
      },
      {
       "output_type": "stream",
       "stream": "stdout",
       "text": [
        "\n",
        "/home/data/noise_2014-03-07_174151.pkl\n",
        "Start: 3.292 K, End: 3.383 K, difference 0.091 K"
       ]
      },
      {
       "output_type": "stream",
       "stream": "stdout",
       "text": [
        "\n",
        "/home/data/noise_2014-03-07_180437.pkl\n",
        "Start: 3.375 K, End: 3.289 K, difference -0.086 K"
       ]
      },
      {
       "output_type": "stream",
       "stream": "stdout",
       "text": [
        "\n",
        "/home/data/noise_2014-03-07_182605.pkl\n",
        "Start: 3.286 K, End: 3.376 K, difference 0.090 K"
       ]
      },
      {
       "output_type": "stream",
       "stream": "stdout",
       "text": [
        "\n",
        "/home/data/noise_2014-03-07_184747.pkl\n",
        "Start: 3.380 K, End: 3.291 K, difference -0.089 K"
       ]
      },
      {
       "output_type": "stream",
       "stream": "stdout",
       "text": [
        "\n",
        "/home/data/noise_2014-03-07_190947.pkl\n",
        "Start: 3.291 K, End: 3.380 K, difference 0.089 K"
       ]
      },
      {
       "output_type": "stream",
       "stream": "stdout",
       "text": [
        "\n",
        "/home/data/noise_2014-03-07_193210.pkl\n",
        "Start: 3.381 K, End: 3.292 K, difference -0.089 K"
       ]
      },
      {
       "output_type": "stream",
       "stream": "stdout",
       "text": [
        "\n",
        "/home/data/noise_2014-03-07_211413.pkl\n",
        "Start: 3.274 K, End: 5.100 K, difference 1.826 K"
       ]
      },
      {
       "output_type": "stream",
       "stream": "stdout",
       "text": [
        "\n",
        "/home/data/noise_2014-03-07_213930.pkl\n",
        "Start: 5.148 K, End: 5.131 K, difference -0.018 K"
       ]
      },
      {
       "output_type": "stream",
       "stream": "stdout",
       "text": [
        "\n",
        "/home/data/noise_2014-03-07_220459.pkl\n",
        "Start: 5.132 K, End: 5.192 K, difference 0.060 K"
       ]
      },
      {
       "output_type": "stream",
       "stream": "stdout",
       "text": [
        "\n",
        "/home/data/noise_2014-03-07_223054.pkl\n",
        "Start: 5.194 K, End: 5.142 K, difference -0.052 K"
       ]
      },
      {
       "output_type": "stream",
       "stream": "stdout",
       "text": [
        "\n",
        "/home/data/noise_2014-03-07_225505.pkl\n",
        "Start: 5.140 K, End: 5.193 K, difference 0.053 K"
       ]
      },
      {
       "output_type": "stream",
       "stream": "stdout",
       "text": [
        "\n",
        "/home/data/noise_2014-03-07_232009.pkl\n",
        "Start: 5.196 K, End: 5.141 K, difference -0.054 K"
       ]
      },
      {
       "output_type": "stream",
       "stream": "stdout",
       "text": [
        "\n",
        "/home/data/noise_2014-03-07_234548.pkl\n",
        "Start: 5.142 K, End: 5.194 K, difference 0.052 K"
       ]
      },
      {
       "output_type": "stream",
       "stream": "stdout",
       "text": [
        "\n",
        "/home/data/noise_2014-03-08_001128.pkl\n",
        "Start: 5.198 K, End: 5.145 K, difference -0.053 K"
       ]
      },
      {
       "output_type": "stream",
       "stream": "stdout",
       "text": [
        "\n",
        "/home/data/noise_2014-03-08_040236.pkl\n",
        "Start: 3.283 K, End: 3.283 K, difference 0.000 K"
       ]
      },
      {
       "output_type": "stream",
       "stream": "stdout",
       "text": [
        "\n",
        "/home/data/noise_2014-03-08_042711.pkl\n",
        "Start: 3.284 K, End: 3.374 K, difference 0.090 K"
       ]
      },
      {
       "output_type": "stream",
       "stream": "stdout",
       "text": [
        "\n",
        "/home/data/noise_2014-03-08_045159.pkl\n",
        "Start: 3.377 K, End: 3.286 K, difference -0.091 K"
       ]
      },
      {
       "output_type": "stream",
       "stream": "stdout",
       "text": [
        "\n",
        "/home/data/noise_2014-03-08_051557.pkl\n",
        "Start: 3.285 K, End: 3.376 K, difference 0.091 K"
       ]
      },
      {
       "output_type": "stream",
       "stream": "stdout",
       "text": [
        "\n",
        "/home/data/noise_2014-03-08_054020.pkl\n",
        "Start: 3.377 K, End: 3.288 K, difference -0.089 K"
       ]
      },
      {
       "output_type": "stream",
       "stream": "stdout",
       "text": [
        "\n",
        "/home/data/noise_2014-03-08_060511.pkl\n",
        "Start: 3.286 K, End: 3.378 K, difference 0.092 K"
       ]
      },
      {
       "output_type": "stream",
       "stream": "stdout",
       "text": [
        "\n",
        "/home/data/noise_2014-03-08_111542.pkl\n",
        "Start: 3.284 K, End: 3.373 K, difference 0.089 K"
       ]
      },
      {
       "output_type": "stream",
       "stream": "stdout",
       "text": [
        "\n",
        "/home/data/noise_2014-03-08_114002.pkl\n",
        "Start: 3.378 K, End: 3.287 K, difference -0.091 K"
       ]
      },
      {
       "output_type": "stream",
       "stream": "stdout",
       "text": [
        "\n",
        "/home/data/noise_2014-03-08_120450.pkl\n",
        "Start: 3.287 K, End: 3.389 K, difference 0.102 K"
       ]
      },
      {
       "output_type": "stream",
       "stream": "stdout",
       "text": [
        "\n",
        "/home/data/noise_2014-03-08_122849.pkl\n",
        "Start: 3.390 K, End: 3.304 K, difference -0.086 K"
       ]
      },
      {
       "output_type": "stream",
       "stream": "stdout",
       "text": [
        "\n",
        "/home/data/noise_2014-03-08_125311.pkl\n",
        "Start: 3.304 K, End: 3.383 K, difference 0.079 K"
       ]
      },
      {
       "output_type": "stream",
       "stream": "stdout",
       "text": [
        "\n",
        "/home/data/noise_2014-03-08_131822.pkl\n",
        "Start: 3.385 K, End: 3.299 K, difference -0.086 K"
       ]
      },
      {
       "output_type": "stream",
       "stream": "stdout",
       "text": [
        "\n",
        "/home/data/noise_2014-03-09_164941.pkl\n",
        "Start: 3.314 K, End: 3.409 K, difference 0.095 K"
       ]
      },
      {
       "output_type": "stream",
       "stream": "stdout",
       "text": [
        "\n",
        "/home/data/noise_2014-03-09_171357.pkl\n",
        "Start: 3.410 K, End: 3.309 K, difference -0.101 K"
       ]
      },
      {
       "output_type": "stream",
       "stream": "stdout",
       "text": [
        "\n",
        "/home/data/noise_2014-03-09_173845.pkl\n",
        "Start: 3.307 K, End: 3.408 K, difference 0.101 K"
       ]
      },
      {
       "output_type": "stream",
       "stream": "stdout",
       "text": [
        "\n",
        "/home/data/noise_2014-03-09_180240.pkl\n",
        "Start: 3.409 K, End: 3.319 K, difference -0.090 K"
       ]
      },
      {
       "output_type": "stream",
       "stream": "stdout",
       "text": [
        "\n",
        "/home/data/noise_2014-03-09_182710.pkl\n",
        "Start: 3.317 K, End: 3.405 K, difference 0.088 K"
       ]
      },
      {
       "output_type": "stream",
       "stream": "stdout",
       "text": [
        "\n",
        "/home/data/noise_2014-03-09_185204.pkl\n",
        "Start: 3.406 K, End: 3.315 K, difference -0.091 K"
       ]
      },
      {
       "output_type": "stream",
       "stream": "stdout",
       "text": [
        "\n",
        "/home/data/noise_2014-03-09_193953.pkl\n",
        "Start: 3.311 K, End: 3.400 K, difference 0.089 K"
       ]
      },
      {
       "output_type": "stream",
       "stream": "stdout",
       "text": [
        "\n",
        "/home/data/noise_2014-03-09_212446.pkl\n",
        "Start: 3.300 K, End: 3.392 K, difference 0.092 K"
       ]
      },
      {
       "output_type": "stream",
       "stream": "stdout",
       "text": [
        "\n",
        "/home/data/noise_2014-03-09_215238.pkl\n",
        "Start: 3.393 K, End: 3.301 K, difference -0.091 K"
       ]
      },
      {
       "output_type": "stream",
       "stream": "stdout",
       "text": [
        "\n",
        "/home/data/noise_2014-03-09_222021.pkl\n",
        "Start: 3.302 K, End: 3.390 K, difference 0.088 K"
       ]
      },
      {
       "output_type": "stream",
       "stream": "stdout",
       "text": [
        "\n",
        "/home/data/noise_2014-03-09_224714.pkl\n",
        "Start: 3.391 K, End: 3.301 K, difference -0.090 K"
       ]
      },
      {
       "output_type": "stream",
       "stream": "stdout",
       "text": [
        "\n",
        "/home/data/noise_2014-03-09_231447.pkl\n",
        "Start: 3.300 K, End: 3.391 K, difference 0.091 K"
       ]
      },
      {
       "output_type": "stream",
       "stream": "stdout",
       "text": [
        "\n",
        "/home/data/noise_2014-03-09_234308.pkl\n",
        "Start: 3.392 K, End: 3.298 K, difference -0.094 K"
       ]
      },
      {
       "output_type": "stream",
       "stream": "stdout",
       "text": [
        "\n",
        "/home/data/noise_2014-03-10_022510.pkl\n",
        "Start: 5.145 K, End: 5.432 K, difference 0.287 K"
       ]
      },
      {
       "output_type": "stream",
       "stream": "stdout",
       "text": [
        "\n",
        "/home/data/noise_2014-03-10_025532.pkl\n",
        "Start: 5.440 K, End: 5.162 K, difference -0.278 K"
       ]
      },
      {
       "output_type": "stream",
       "stream": "stdout",
       "text": [
        "\n",
        "/home/data/noise_2014-03-10_032618.pkl\n",
        "Start: 5.153 K, End: 5.436 K, difference 0.283 K"
       ]
      },
      {
       "output_type": "stream",
       "stream": "stdout",
       "text": [
        "\n",
        "/home/data/noise_2014-03-10_035744.pkl\n",
        "Start: 5.444 K, End: 5.163 K, difference -0.281 K"
       ]
      },
      {
       "output_type": "stream",
       "stream": "stdout",
       "text": [
        "\n",
        "/home/data/noise_2014-03-10_042829.pkl\n",
        "Start: 5.155 K, End: 5.435 K, difference 0.280 K"
       ]
      },
      {
       "output_type": "stream",
       "stream": "stdout",
       "text": [
        "\n",
        "/home/data/noise_2014-03-10_045956.pkl\n",
        "Start: 5.442 K, End: 5.176 K, difference -0.266 K"
       ]
      },
      {
       "output_type": "stream",
       "stream": "stdout",
       "text": [
        "\n",
        "/home/data/noise_2014-03-10_064821.pkl\n",
        "Start: 5.147 K, End: 5.276 K, difference 0.129 K"
       ]
      },
      {
       "output_type": "stream",
       "stream": "stdout",
       "text": [
        "\n",
        "/home/data/noise_2014-03-10_071900.pkl\n",
        "Start: 5.284 K, End: 5.147 K, difference -0.137 K"
       ]
      },
      {
       "output_type": "stream",
       "stream": "stdout",
       "text": [
        "\n",
        "/home/data/noise_2014-03-10_074949.pkl\n",
        "Start: 5.145 K, End: 5.285 K, difference 0.140 K"
       ]
      },
      {
       "output_type": "stream",
       "stream": "stdout",
       "text": [
        "\n",
        "/home/data/noise_2014-03-10_082002.pkl\n",
        "Start: 5.289 K, End: 5.148 K, difference -0.141 K"
       ]
      },
      {
       "output_type": "stream",
       "stream": "stdout",
       "text": [
        "\n",
        "/home/data/noise_2014-03-10_085054.pkl\n",
        "Start: 5.144 K, End: 5.287 K, difference 0.143 K"
       ]
      },
      {
       "output_type": "stream",
       "stream": "stdout",
       "text": [
        "\n",
        "/home/data/noise_2014-03-10_092227.pkl\n",
        "Start: 5.291 K, End: 5.154 K, difference -0.137 K"
       ]
      },
      {
       "output_type": "stream",
       "stream": "stdout",
       "text": [
        "\n",
        "/home/data/noise_2014-03-10_162346.pkl\n",
        "Start: 3.390 K, End: 3.422 K, difference 0.032 K"
       ]
      },
      {
       "output_type": "stream",
       "stream": "stdout",
       "text": [
        "\n",
        "/home/data/noise_2014-03-10_163901.pkl\n",
        "Start: 5.760 K, End: 5.760 K, difference 0.000 K\n",
        "/home/data/noise_2014-03-11_120111.pkl"
       ]
      },
      {
       "output_type": "stream",
       "stream": "stdout",
       "text": [
        "\n",
        "Start: 3.316 K, End: 3.410 K, difference 0.094 K"
       ]
      },
      {
       "output_type": "stream",
       "stream": "stdout",
       "text": [
        "\n",
        "/home/data/noise_2014-03-11_132421.pkl\n",
        "Start: 3.423 K, End: 3.336 K, difference -0.087 K"
       ]
      },
      {
       "output_type": "stream",
       "stream": "stdout",
       "text": [
        "\n",
        "/home/data/noise_2014-03-14_154530.pkl\n",
        "Start: 5.170 K, End: 5.170 K, difference 0.000 K"
       ]
      },
      {
       "output_type": "stream",
       "stream": "stdout",
       "text": [
        "\n",
        "/home/data/noise_2014-03-14_171422.pkl\n",
        "Start: 5.309 K, End: 5.101 K, difference -0.208 K"
       ]
      },
      {
       "output_type": "stream",
       "stream": "stdout",
       "text": [
        "\n",
        "/home/data/noise_2014-03-14_175148.pkl\n",
        "Start: 5.087 K, End: 5.295 K, difference 0.209 K"
       ]
      },
      {
       "output_type": "stream",
       "stream": "stdout",
       "text": [
        "\n",
        "/home/data/noise_2014-03-14_182836.pkl\n",
        "Start: 5.299 K, End: 5.153 K, difference -0.146 K"
       ]
      },
      {
       "output_type": "stream",
       "stream": "stdout",
       "text": [
        "\n",
        "/home/data/noise_2014-03-14_190615.pkl\n",
        "Start: 5.151 K, End: 5.290 K, difference 0.139 K"
       ]
      },
      {
       "output_type": "stream",
       "stream": "stdout",
       "text": [
        "\n",
        "/home/data/noise_2014-03-14_211416.pkl\n",
        "Start: 5.293 K, End: 5.204 K, difference -0.089 K"
       ]
      },
      {
       "output_type": "stream",
       "stream": "stdout",
       "text": [
        "\n",
        "/home/data/noise_2014-03-14_220316.pkl\n",
        "Start: 5.203 K, End: 5.292 K, difference 0.089 K"
       ]
      },
      {
       "output_type": "stream",
       "stream": "stdout",
       "text": [
        "\n",
        "/home/data/noise_2014-03-14_225149.pkl\n",
        "Start: 5.294 K, End: 5.207 K, difference -0.087 K"
       ]
      },
      {
       "output_type": "stream",
       "stream": "stdout",
       "text": [
        "\n",
        "/home/data/noise_2014-03-14_233950.pkl\n",
        "Start: 5.205 K, End: 5.278 K, difference 0.073 K"
       ]
      },
      {
       "output_type": "stream",
       "stream": "stdout",
       "text": [
        "\n",
        "/home/data/noise_2014-03-15_012143.pkl\n",
        "Start: 5.287 K, End: 5.196 K, difference -0.091 K"
       ]
      },
      {
       "output_type": "stream",
       "stream": "stdout",
       "text": [
        "\n",
        "/home/data/noise_2014-03-15_020103.pkl\n",
        "Start: 5.194 K, End: 5.282 K, difference 0.088 K"
       ]
      },
      {
       "output_type": "stream",
       "stream": "stdout",
       "text": [
        "\n",
        "/home/data/noise_2014-03-15_023953.pkl\n",
        "Start: 5.284 K, End: 5.197 K, difference -0.087 K"
       ]
      },
      {
       "output_type": "stream",
       "stream": "stdout",
       "text": [
        "\n",
        "/home/data/noise_2014-03-15_031827.pkl\n",
        "Start: 5.196 K, End: 5.284 K, difference 0.088 K"
       ]
      },
      {
       "output_type": "stream",
       "stream": "stdout",
       "text": [
        "\n",
        "/home/data/noise_2014-03-15_142253.pkl\n",
        "Start: 8.535 K, End: 8.607 K, difference 0.072 K"
       ]
      },
      {
       "output_type": "stream",
       "stream": "stdout",
       "text": [
        "\n",
        "/home/data/noise_2014-03-15_150400.pkl\n",
        "Start: 8.611 K, End: 8.556 K, difference -0.055 K"
       ]
      },
      {
       "output_type": "stream",
       "stream": "stdout",
       "text": [
        "\n",
        "/home/data/noise_2014-03-15_154458.pkl\n",
        "Start: 8.555 K, End: 8.623 K, difference 0.068 K"
       ]
      },
      {
       "output_type": "stream",
       "stream": "stdout",
       "text": [
        "\n",
        "/home/data/noise_2014-03-15_162619.pkl\n",
        "Start: 8.628 K, End: 8.573 K, difference -0.055 K"
       ]
      },
      {
       "output_type": "stream",
       "stream": "stdout",
       "text": [
        "\n"
       ]
      }
     ],
     "prompt_number": 26
    },
    {
     "cell_type": "code",
     "collapsed": false,
     "input": [
      "[nm.index for nm in res0]"
     ],
     "language": "python",
     "metadata": {},
     "outputs": [
      {
       "metadata": {},
       "output_type": "pyout",
       "prompt_number": 4,
       "text": [
        "[0, 0, 0, 0, 0, 0, 0, 0, 0, 0, 0, 0, 0, 0, 0, 0, 0, 0, 0, 0, 0, 0, 0, 0, 0]"
       ]
      }
     ],
     "prompt_number": 4
    },
    {
     "cell_type": "code",
     "collapsed": false,
     "input": [
      "for nm in res0:\n",
      "    semilogx(nm.pca_fr,np.sqrt(nm.pca_evals[1,:])*nm.f0*1e6)\n",
      "ylim(0.05,0.2)\n",
      "xlim(10,10000)"
     ],
     "language": "python",
     "metadata": {},
     "outputs": [
      {
       "metadata": {},
       "output_type": "pyout",
       "prompt_number": 10,
       "text": [
        "(10, 10000)"
       ]
      },
      {
       "metadata": {},
       "output_type": "display_data",
       "png": "[encoded data removed]",
       "text": [
        "<matplotlib.figure.Figure at 0x574f850>"
       ]
      }
     ],
     "prompt_number": 10
    },
    {
     "cell_type": "code",
     "collapsed": false,
     "input": [
      "T = np.array([nm.ts_temp for nm in res0])\n",
      "Tphys = np.array([nm.end_temp for nm in res0])"
     ],
     "language": "python",
     "metadata": {},
     "outputs": [],
     "prompt_number": 84
    },
    {
     "cell_type": "code",
     "collapsed": false,
     "input": [
      "f0s= np.array([nm.params['f_0'].value for nm in res0])\n",
      "f0errs= np.array([nm.params['f_0'].stderr for nm in res0])"
     ],
     "language": "python",
     "metadata": {},
     "outputs": [],
     "prompt_number": 85
    },
    {
     "cell_type": "code",
     "collapsed": false,
     "input": [
      "plot(Tphys,f0s,'.')"
     ],
     "language": "python",
     "metadata": {},
     "outputs": [
      {
       "metadata": {},
       "output_type": "pyout",
       "prompt_number": 86,
       "text": [
        "[<matplotlib.lines.Line2D at 0x24a861d0>]"
       ]
      },
      {
       "metadata": {},
       "output_type": "display_data",
       "png": "[encoded data removed]",
       "text": [
        "<matplotlib.figure.Figure at 0x1c8e5290>"
       ]
      }
     ],
     "prompt_number": 86
    },
    {
     "cell_type": "code",
     "collapsed": false,
     "input": [
      "plot(f0errs)\n",
      "ylim(0,1e-4)"
     ],
     "language": "python",
     "metadata": {},
     "outputs": [
      {
       "metadata": {},
       "output_type": "pyout",
       "prompt_number": 87,
       "text": [
        "(0, 0.0001)"
       ]
      },
      {
       "metadata": {},
       "output_type": "display_data",
       "png": "[encoded data removed]",
       "text": [
        "<matplotlib.figure.Figure at 0x1a515250>"
       ]
      }
     ],
     "prompt_number": 87
    },
    {
     "cell_type": "code",
     "collapsed": false,
     "input": [
      "df0=(f0s-f0s[T<5.5].min())*1e6\n",
      "msk = (f0errs < 0.00005) & (Tphys < 0.22) & (Tphys > 0.18)\n",
      "df0 = df0[msk]\n",
      "f0s = f0s[msk]\n",
      "f0errs = f0errs[msk]\n",
      "T = T[msk]\n",
      "Tphys = Tphys[msk]"
     ],
     "language": "python",
     "metadata": {},
     "outputs": [],
     "prompt_number": 88
    },
    {
     "cell_type": "code",
     "collapsed": false,
     "input": [
      "pp = np.polyfit(T[T<4],df0[T<4],1)\n",
      "print pp"
     ],
     "language": "python",
     "metadata": {},
     "outputs": [
      {
       "output_type": "stream",
       "stream": "stdout",
       "text": [
        "[ -3993.5410061   23208.07682647]\n"
       ]
      }
     ],
     "prompt_number": 89
    },
    {
     "cell_type": "code",
     "collapsed": false,
     "input": [
      "plot(T,df0,'.')\n",
      "Tm = np.linspace(3,7.5,100)\n",
      "plot(Tm,np.polyval(pp,Tm))\n",
      "#ylim(15000,20000)\n",
      "#xlim(3,4)"
     ],
     "language": "python",
     "metadata": {},
     "outputs": [
      {
       "metadata": {},
       "output_type": "pyout",
       "prompt_number": 90,
       "text": [
        "[<matplotlib.lines.Line2D at 0x24a74e10>]"
       ]
      },
      {
       "metadata": {},
       "output_type": "display_data",
       "png": "[encoded data removed]",
       "text": [
        "<matplotlib.figure.Figure at 0x24a74750>"
       ]
      }
     ],
     "prompt_number": 90
    },
    {
     "cell_type": "code",
     "collapsed": false,
     "input": [
      "plot(Tphys,df0,'.')"
     ],
     "language": "python",
     "metadata": {},
     "outputs": [
      {
       "metadata": {},
       "output_type": "pyout",
       "prompt_number": 91,
       "text": [
        "[<matplotlib.lines.Line2D at 0x1c752bd0>]"
       ]
      },
      {
       "metadata": {},
       "output_type": "display_data",
       "png": "[encoded data removed]",
       "text": [
        "<matplotlib.figure.Figure at 0x24a761d0>"
       ]
      }
     ],
     "prompt_number": 91
    },
    {
     "cell_type": "code",
     "collapsed": false,
     "input": [
      "figure(figsize=(12,12))\n",
      "ax = subplot(211)\n",
      "ax2 = subplot(212)\n",
      "for k,nm in enumerate(res0):\n",
      "    if ~msk[k]:\n",
      "        continue\n",
      "    idx = (nm.pca_fr > 150)&(nm.pca_fr < 240)\n",
      "    dev = (np.sqrt(nm.pca_evals[1,idx])*nm.f0*1e6).mean()\n",
      "    amp = (np.sqrt(nm.pca_evals[1,-200:-10])*nm.f0*1e6).mean()\n",
      "    ax.plot(nm.ts_temp,dev,'b.')\n",
      "    ax.plot(nm.ts_temp,amp,'r.')\n",
      "    ax.plot(nm.ts_temp,dev-amp,'g.')\n",
      "    ax2.plot(nm.ts_temp,dev*1e6/abs(pp[0]),'b.')\n",
      "ax.set_ylim(0,0.2)\n",
      "ax2.set_ylim(0,50)\n",
      "ax2.grid()\n",
      "ax.grid()"
     ],
     "language": "python",
     "metadata": {},
     "outputs": [
      {
       "metadata": {},
       "output_type": "display_data",
       "png": "[encoded data removed]",
       "text": [
        "<matplotlib.figure.Figure at 0x12e89610>"
       ]
      }
     ],
     "prompt_number": 95
    },
    {
     "cell_type": "code",
     "collapsed": false,
     "input": [
      "np.unique([nm.atten for nm in res0])"
     ],
     "language": "python",
     "metadata": {},
     "outputs": [
      {
       "metadata": {},
       "output_type": "pyout",
       "prompt_number": 93,
       "text": [
        "array([ 10.], dtype=float32)"
       ]
      }
     ],
     "prompt_number": 93
    },
    {
     "cell_type": "code",
     "collapsed": false,
     "input": [
      "nm"
     ],
     "language": "python",
     "metadata": {},
     "outputs": [],
     "prompt_number": "*"
    },
    {
     "cell_type": "code",
     "collapsed": false,
     "input": [],
     "language": "python",
     "metadata": {},
     "outputs": []
    }
   ],
   "metadata": {}
  }
 ]
}