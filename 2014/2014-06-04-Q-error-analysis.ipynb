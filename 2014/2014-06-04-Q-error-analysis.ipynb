{
 "metadata": {
  "name": "",
  "signature": "sha256:520bb7c1e868c5e259831bd7253ad42acc1dd96187f9d780af9a6ea168eb9646"
 },
 "nbformat": 3,
 "nbformat_minor": 0,
 "worksheets": [
  {
   "cells": [
    {
     "cell_type": "code",
     "collapsed": false,
     "input": [
      "import kid_readout.analysis.khalil\n",
      "import kid_readout.analysis.resonator"
     ],
     "language": "python",
     "metadata": {},
     "outputs": [],
     "prompt_number": 1
    },
    {
     "cell_type": "code",
     "collapsed": false,
     "input": [
      "Q = 1e5*(1+0.01*np.random.randn(10000))\n",
      "Qer = 2e5*(1+0.01*np.random.randn(10000))\n",
      "Qei = 1e4*(1+0.02*np.random.randn(10000))\n",
      "dQ = Q.std()\n",
      "dQer = Qer.std()\n",
      "dQei = Qei.std()\n",
      "Qi = 1/(1/Q-Qer/(Qer**2-Qei**2))\n",
      "Qi2 = 1/(1/Q - np.real(1/(Qer+1j*Qei)))\n"
     ],
     "language": "python",
     "metadata": {},
     "outputs": [],
     "prompt_number": 14
    },
    {
     "cell_type": "code",
     "collapsed": false,
     "input": [
      "blah=hist(Qi,bins=100)\n",
      "blah = hist(Qi2,bins=100)\n",
      "print Qi.mean(), Qi.std(),Qi.std()/Qi.mean()\n",
      "print Qi2.mean(), Qi2.std(),Qi2.std()/Qi2.mean()"
     ],
     "language": "python",
     "metadata": {},
     "outputs": [
      {
       "output_type": "stream",
       "stream": "stdout",
       "text": [
        "200736.151939 4499.06174505 0.0224128125481\n",
        "199730.826816 4441.10743185 0.0222354631113\n"
       ]
      },
      {
       "metadata": {},
       "output_type": "display_data",
       "png": "[encoded data removed]",
       "text": [
        "<matplotlib.figure.Figure at 0x43fa310>"
       ]
      }
     ],
     "prompt_number": 15
    },
    {
     "cell_type": "code",
     "collapsed": false,
     "input": [
      "kid_readout.analysis.khalil.qi_error(Q.mean(),dQ,Qer.mean(),dQer,Qei.mean(),dQei)\n",
      "\n"
     ],
     "language": "python",
     "metadata": {},
     "outputs": [
      {
       "metadata": {},
       "output_type": "pyout",
       "prompt_number": 16,
       "text": [
        "4500.6779494253169"
       ]
      }
     ],
     "prompt_number": 16
    },
    {
     "cell_type": "code",
     "collapsed": false,
     "input": [
      "plot(Qi-Qi2)"
     ],
     "language": "python",
     "metadata": {},
     "outputs": [
      {
       "metadata": {},
       "output_type": "pyout",
       "prompt_number": 17,
       "text": [
        "[<matplotlib.lines.Line2D at 0x5092150>]"
       ]
      },
      {
       "metadata": {},
       "output_type": "display_data",
       "png": "[encoded data removed]",
       "text": [
        "<matplotlib.figure.Figure at 0x5992750>"
       ]
      }
     ],
     "prompt_number": 17
    },
    {
     "cell_type": "code",
     "collapsed": false,
     "input": [
      "4*20+2*9"
     ],
     "language": "python",
     "metadata": {},
     "outputs": [
      {
       "metadata": {},
       "output_type": "pyout",
       "prompt_number": 18,
       "text": [
        "98"
       ]
      }
     ],
     "prompt_number": 18
    },
    {
     "cell_type": "code",
     "collapsed": false,
     "input": [
      "(98-8)/98."
     ],
     "language": "python",
     "metadata": {},
     "outputs": [
      {
       "metadata": {},
       "output_type": "pyout",
       "prompt_number": 20,
       "text": [
        "0.9183673469387755"
       ]
      }
     ],
     "prompt_number": 20
    },
    {
     "cell_type": "code",
     "collapsed": false,
     "input": [],
     "language": "python",
     "metadata": {},
     "outputs": []
    },
    {
     "cell_type": "code",
     "collapsed": false,
     "input": [],
     "language": "python",
     "metadata": {},
     "outputs": []
    },
    {
     "cell_type": "code",
     "collapsed": false,
     "input": [
      "params = kid_readout.analysis.khalil.create_model(a=.6,Q_e=2e5,Q=1.8e5)"
     ],
     "language": "python",
     "metadata": {},
     "outputs": [],
     "prompt_number": 122
    },
    {
     "cell_type": "code",
     "collapsed": false,
     "input": [
      "params.items()"
     ],
     "language": "python",
     "metadata": {},
     "outputs": [
      {
       "metadata": {},
       "output_type": "pyout",
       "prompt_number": 123,
       "text": [
        "[('f_0', <Parameter 'f_0', 100000000.0, bounds=[None:None]>),\n",
        " ('Q', <Parameter 'Q', 180000.0, bounds=[None:None]>),\n",
        " ('Q_e_real', <Parameter 'Q_e_real', array(200000.0), bounds=[None:None]>),\n",
        " ('Q_e_imag', <Parameter 'Q_e_imag', array(0.0), bounds=[None:None]>),\n",
        " ('A_mag', <Parameter 'A_mag', 1.0, bounds=[None:None]>),\n",
        " ('A_phase', <Parameter 'A_phase', 0, bounds=[None:None]>),\n",
        " ('phi', <Parameter 'phi', 0.0, bounds=[None:None]>),\n",
        " ('delay', <Parameter 'delay', 0.0, bounds=[None:None]>),\n",
        " ('f_phi', <Parameter 'f_phi', 0, bounds=[None:None]>),\n",
        " ('a', <Parameter 'a', 0.6, bounds=[None:None]>)]"
       ]
      }
     ],
     "prompt_number": 123
    },
    {
     "cell_type": "code",
     "collapsed": false,
     "input": [
      "ff = np.linspace(-1e4,1e4,20000)+100e6\n",
      "s21 = np.zeros(ff.shape,dtype='complex')\n",
      "rr = kid_readout.analysis.resonator.Resonator(ff,s21,\n",
      "                        model=kid_readout.analysis.khalil.bifurcation_s21,\n",
      "                        guess=kid_readout.analysis.khalil.bifurcation_guess)\n",
      "\n"
     ],
     "language": "python",
     "metadata": {},
     "outputs": [],
     "prompt_number": 124
    },
    {
     "cell_type": "code",
     "collapsed": false,
     "input": [
      "rr.result.params = params"
     ],
     "language": "python",
     "metadata": {},
     "outputs": [],
     "prompt_number": 125
    },
    {
     "cell_type": "code",
     "collapsed": false,
     "input": [
      "rr.Q_i"
     ],
     "language": "python",
     "metadata": {},
     "outputs": [
      {
       "metadata": {},
       "output_type": "pyout",
       "prompt_number": 126,
       "text": [
        "1800000.0000000005"
       ]
      }
     ],
     "prompt_number": 126
    },
    {
     "cell_type": "code",
     "collapsed": false,
     "input": [
      "ff[np.abs(np.diff(rr.model())).argmax()]"
     ],
     "language": "python",
     "metadata": {},
     "outputs": [
      {
       "metadata": {},
       "output_type": "pyout",
       "prompt_number": 127,
       "text": [
        "99999592.479623988"
       ]
      }
     ],
     "prompt_number": 127
    },
    {
     "cell_type": "code",
     "collapsed": false,
     "input": [
      "m = rr.model()\n",
      "m0 = rr.model(x=rr.f_0-200)"
     ],
     "language": "python",
     "metadata": {},
     "outputs": [],
     "prompt_number": 76
    },
    {
     "cell_type": "code",
     "collapsed": false,
     "input": [
      "plot(m.real,m.imag,'.-')\n",
      "plot(m0.real,m0.imag,'x',mew=2,markersize=10)"
     ],
     "language": "python",
     "metadata": {},
     "outputs": [
      {
       "metadata": {},
       "output_type": "pyout",
       "prompt_number": 77,
       "text": [
        "[<matplotlib.lines.Line2D at 0x6f49fd0>]"
       ]
      },
      {
       "metadata": {},
       "output_type": "display_data",
       "png": "[encoded data removed]",
       "text": [
        "<matplotlib.figure.Figure at 0x6c88750>"
       ]
      }
     ],
     "prompt_number": 77
    },
    {
     "cell_type": "code",
     "collapsed": false,
     "input": [],
     "language": "python",
     "metadata": {},
     "outputs": [],
     "prompt_number": 75
    },
    {
     "cell_type": "code",
     "collapsed": false,
     "input": [
      "rr.f_0"
     ],
     "language": "python",
     "metadata": {},
     "outputs": [
      {
       "metadata": {},
       "output_type": "pyout",
       "prompt_number": 53,
       "text": [
        "100000000.0"
       ]
      }
     ],
     "prompt_number": 53
    },
    {
     "cell_type": "code",
     "collapsed": false,
     "input": [
      "import sympy"
     ],
     "language": "python",
     "metadata": {},
     "outputs": [],
     "prompt_number": 128
    },
    {
     "cell_type": "code",
     "collapsed": false,
     "input": [
      "x0 = sympy.Symbol('x0')"
     ],
     "language": "python",
     "metadata": {},
     "outputs": [],
     "prompt_number": 130
    },
    {
     "cell_type": "code",
     "collapsed": false,
     "input": [
      "x = sympy.Symbol('x')\n",
      "Q = sympy.Symbol('Q')\n",
      "a = sympy.Symbol('a')"
     ],
     "language": "python",
     "metadata": {},
     "outputs": [],
     "prompt_number": 131
    },
    {
     "cell_type": "code",
     "collapsed": false,
     "input": [
      "s1,s2,s3 = sympy.solve(Q*x-Q*x0+a/(1+4*Q*Q*x*x),x)"
     ],
     "language": "python",
     "metadata": {},
     "outputs": [],
     "prompt_number": 137
    },
    {
     "cell_type": "code",
     "collapsed": false,
     "input": [
      "sympy.solve(sympy.diff(s2,x0),x0)"
     ],
     "language": "python",
     "metadata": {},
     "outputs": [
      {
       "ename": "NotImplementedError",
       "evalue": "multiple generators [x0, (-x0**3/27 + sqrt(x0**4/(108*Q**2) - a*x0**3/(108*Q**3) + x0**2/(216*Q**4) - a*x0/(48*Q**5) + a**2/(64*Q**6) + 1/(1728*Q**6)) - x0/(12*Q**2) + a/(8*Q**3))**(1/3), sqrt(x0**4/(108*Q**2) - a*x0**3/(108*Q**3) + x0**2/(216*Q**4) - a*x0/(48*Q**5) + a**2/(64*Q**6) + 1/(1728*Q**6))]\nNo algorithms are implemented to solve equation -2*x0/(9*(-1/2 - sqrt(3)*I/2)*(-x0**3/27 + sqrt((-x0**2/9 + 1/(12*Q**2))**3 + (-2*x0**3/27 + x0/(12*Q**2) + (-Q*x0 + a)/(4*Q**3))**2/4) + x0/(24*Q**2) + (-Q*x0 + a)/(8*Q**3))**(1/3)) + (-x0**2/9 + 1/(12*Q**2))*(x0**2/27 - (-x0*(-x0**2/9 + 1/(12*Q**2))**2/3 + (-4*x0**2/9 - 1/(3*Q**2))*(-2*x0**3/27 + x0/(12*Q**2) + (-Q*x0 + a)/(4*Q**3))/8)/(3*sqrt((-x0**2/9 + 1/(12*Q**2))**3 + (-2*x0**3/27 + x0/(12*Q**2) + (-Q*x0 + a)/(4*Q**3))**2/4)) + 1/(36*Q**2))/((-1/2 - sqrt(3)*I/2)*(-x0**3/27 + sqrt((-x0**2/9 + 1/(12*Q**2))**3 + (-2*x0**3/27 + x0/(12*Q**2) + (-Q*x0 + a)/(4*Q**3))**2/4) + x0/(24*Q**2) + (-Q*x0 + a)/(8*Q**3))**(4/3)) - (-1/2 - sqrt(3)*I/2)*(-x0**2/27 + (-x0*(-x0**2/9 + 1/(12*Q**2))**2/3 + (-4*x0**2/9 - 1/(3*Q**2))*(-2*x0**3/27 + x0/(12*Q**2) + (-Q*x0 + a)/(4*Q**3))/8)/(3*sqrt((-x0**2/9 + 1/(12*Q**2))**3 + (-2*x0**3/27 + x0/(12*Q**2) + (-Q*x0 + a)/(4*Q**3))**2/4)) - 1/(36*Q**2))/(-x0**3/27 + sqrt((-x0**2/9 + 1/(12*Q**2))**3 + (-2*x0**3/27 + x0/(12*Q**2) + (-Q*x0 + a)/(4*Q**3))**2/4) + x0/(24*Q**2) + (-Q*x0 + a)/(8*Q**3))**(2/3) + 1/3",
       "output_type": "pyerr",
       "traceback": [
        "\u001b[1;31m---------------------------------------------------------------------------\u001b[0m\n\u001b[1;31mNotImplementedError\u001b[0m                       Traceback (most recent call last)",
        "\u001b[1;32m<ipython-input-142-e188fb946683>\u001b[0m in \u001b[0;36m<module>\u001b[1;34m()\u001b[0m\n\u001b[1;32m----> 1\u001b[1;33m \u001b[0msympy\u001b[0m\u001b[1;33m.\u001b[0m\u001b[0msolve\u001b[0m\u001b[1;33m(\u001b[0m\u001b[0msympy\u001b[0m\u001b[1;33m.\u001b[0m\u001b[0mdiff\u001b[0m\u001b[1;33m(\u001b[0m\u001b[0ms2\u001b[0m\u001b[1;33m,\u001b[0m\u001b[0mx0\u001b[0m\u001b[1;33m)\u001b[0m\u001b[1;33m,\u001b[0m\u001b[0mx0\u001b[0m\u001b[1;33m)\u001b[0m\u001b[1;33m\u001b[0m\u001b[0m\n\u001b[0m",
        "\u001b[1;32m/home/local/lib/python2.7/site-packages/sympy/solvers/solvers.pyc\u001b[0m in \u001b[0;36msolve\u001b[1;34m(f, *symbols, **flags)\u001b[0m\n\u001b[0;32m    898\u001b[0m     \u001b[1;31m###########################################################################\u001b[0m\u001b[1;33m\u001b[0m\u001b[1;33m\u001b[0m\u001b[0m\n\u001b[0;32m    899\u001b[0m     \u001b[1;32mif\u001b[0m \u001b[0mbare_f\u001b[0m\u001b[1;33m:\u001b[0m\u001b[1;33m\u001b[0m\u001b[0m\n\u001b[1;32m--> 900\u001b[1;33m         \u001b[0msolution\u001b[0m \u001b[1;33m=\u001b[0m \u001b[0m_solve\u001b[0m\u001b[1;33m(\u001b[0m\u001b[0mf\u001b[0m\u001b[1;33m[\u001b[0m\u001b[1;36m0\u001b[0m\u001b[1;33m]\u001b[0m\u001b[1;33m,\u001b[0m \u001b[1;33m*\u001b[0m\u001b[0msymbols\u001b[0m\u001b[1;33m,\u001b[0m \u001b[1;33m**\u001b[0m\u001b[0mflags\u001b[0m\u001b[1;33m)\u001b[0m\u001b[1;33m\u001b[0m\u001b[0m\n\u001b[0m\u001b[0;32m    901\u001b[0m     \u001b[1;32melse\u001b[0m\u001b[1;33m:\u001b[0m\u001b[1;33m\u001b[0m\u001b[0m\n\u001b[0;32m    902\u001b[0m         \u001b[0msolution\u001b[0m \u001b[1;33m=\u001b[0m \u001b[0m_solve_system\u001b[0m\u001b[1;33m(\u001b[0m\u001b[0mf\u001b[0m\u001b[1;33m,\u001b[0m \u001b[0msymbols\u001b[0m\u001b[1;33m,\u001b[0m \u001b[1;33m**\u001b[0m\u001b[0mflags\u001b[0m\u001b[1;33m)\u001b[0m\u001b[1;33m\u001b[0m\u001b[0m\n",
        "\u001b[1;32m/home/local/lib/python2.7/site-packages/sympy/solvers/solvers.pyc\u001b[0m in \u001b[0;36m_solve\u001b[1;34m(f, *symbols, **flags)\u001b[0m\n\u001b[0;32m   1400\u001b[0m     \u001b[1;32mif\u001b[0m \u001b[0mresult\u001b[0m \u001b[1;32mis\u001b[0m \u001b[0mFalse\u001b[0m\u001b[1;33m:\u001b[0m\u001b[1;33m\u001b[0m\u001b[0m\n\u001b[0;32m   1401\u001b[0m         raise NotImplementedError(msg +\n\u001b[1;32m-> 1402\u001b[1;33m         \"\\nNo algorithms are implemented to solve equation %s\" % f)\n\u001b[0m\u001b[0;32m   1403\u001b[0m \u001b[1;33m\u001b[0m\u001b[0m\n\u001b[0;32m   1404\u001b[0m     \u001b[1;32mif\u001b[0m \u001b[0mflags\u001b[0m\u001b[1;33m.\u001b[0m\u001b[0mget\u001b[0m\u001b[1;33m(\u001b[0m\u001b[1;34m'simplify'\u001b[0m\u001b[1;33m,\u001b[0m \u001b[0mTrue\u001b[0m\u001b[1;33m)\u001b[0m\u001b[1;33m:\u001b[0m\u001b[1;33m\u001b[0m\u001b[0m\n",
        "\u001b[1;31mNotImplementedError\u001b[0m: multiple generators [x0, (-x0**3/27 + sqrt(x0**4/(108*Q**2) - a*x0**3/(108*Q**3) + x0**2/(216*Q**4) - a*x0/(48*Q**5) + a**2/(64*Q**6) + 1/(1728*Q**6)) - x0/(12*Q**2) + a/(8*Q**3))**(1/3), sqrt(x0**4/(108*Q**2) - a*x0**3/(108*Q**3) + x0**2/(216*Q**4) - a*x0/(48*Q**5) + a**2/(64*Q**6) + 1/(1728*Q**6))]\nNo algorithms are implemented to solve equation -2*x0/(9*(-1/2 - sqrt(3)*I/2)*(-x0**3/27 + sqrt((-x0**2/9 + 1/(12*Q**2))**3 + (-2*x0**3/27 + x0/(12*Q**2) + (-Q*x0 + a)/(4*Q**3))**2/4) + x0/(24*Q**2) + (-Q*x0 + a)/(8*Q**3))**(1/3)) + (-x0**2/9 + 1/(12*Q**2))*(x0**2/27 - (-x0*(-x0**2/9 + 1/(12*Q**2))**2/3 + (-4*x0**2/9 - 1/(3*Q**2))*(-2*x0**3/27 + x0/(12*Q**2) + (-Q*x0 + a)/(4*Q**3))/8)/(3*sqrt((-x0**2/9 + 1/(12*Q**2))**3 + (-2*x0**3/27 + x0/(12*Q**2) + (-Q*x0 + a)/(4*Q**3))**2/4)) + 1/(36*Q**2))/((-1/2 - sqrt(3)*I/2)*(-x0**3/27 + sqrt((-x0**2/9 + 1/(12*Q**2))**3 + (-2*x0**3/27 + x0/(12*Q**2) + (-Q*x0 + a)/(4*Q**3))**2/4) + x0/(24*Q**2) + (-Q*x0 + a)/(8*Q**3))**(4/3)) - (-1/2 - sqrt(3)*I/2)*(-x0**2/27 + (-x0*(-x0**2/9 + 1/(12*Q**2))**2/3 + (-4*x0**2/9 - 1/(3*Q**2))*(-2*x0**3/27 + x0/(12*Q**2) + (-Q*x0 + a)/(4*Q**3))/8)/(3*sqrt((-x0**2/9 + 1/(12*Q**2))**3 + (-2*x0**3/27 + x0/(12*Q**2) + (-Q*x0 + a)/(4*Q**3))**2/4)) - 1/(36*Q**2))/(-x0**3/27 + sqrt((-x0**2/9 + 1/(12*Q**2))**3 + (-2*x0**3/27 + x0/(12*Q**2) + (-Q*x0 + a)/(4*Q**3))**2/4) + x0/(24*Q**2) + (-Q*x0 + a)/(8*Q**3))**(2/3) + 1/3"
       ]
      }
     ],
     "prompt_number": 142
    },
    {
     "cell_type": "code",
     "collapsed": false,
     "input": [],
     "language": "python",
     "metadata": {},
     "outputs": [],
     "prompt_number": 141
    },
    {
     "cell_type": "code",
     "collapsed": false,
     "input": [],
     "language": "python",
     "metadata": {},
     "outputs": []
    }
   ],
   "metadata": {}
  }
 ]
}