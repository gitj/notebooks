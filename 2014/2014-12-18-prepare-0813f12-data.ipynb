{
 "metadata": {
  "name": "",
  "signature": "sha256:d7392723da610b83f94b060591dbc90b47107b8ab32251f10b647603ae76b4d4"
 },
 "nbformat": 3,
 "nbformat_minor": 0,
 "worksheets": [
  {
   "cells": [
    {
     "cell_type": "code",
     "collapsed": false,
     "input": [
      "import pandas as pd"
     ],
     "language": "python",
     "metadata": {},
     "outputs": [],
     "prompt_number": 1
    },
    {
     "cell_type": "code",
     "collapsed": false,
     "input": [
      "import kid_readout.analysis.archive"
     ],
     "language": "python",
     "metadata": {},
     "outputs": [
      {
       "output_type": "stream",
       "stream": "stdout",
       "text": [
        "updated file list\n"
       ]
      },
      {
       "output_type": "stream",
       "stream": "stderr",
       "text": [
        "/home/local/lib/python2.7/site-packages/matplotlib/__init__.py:1155: UserWarning:  This call to matplotlib.use() has no effect\n",
        "because the backend has already been chosen;\n",
        "matplotlib.use() must be called *before* pylab, matplotlib.pyplot,\n",
        "or matplotlib.backends is imported for the first time.\n",
        "\n",
        "  warnings.warn(_use_error_msg)\n"
       ]
      }
     ],
     "prompt_number": 2
    },
    {
     "cell_type": "code",
     "collapsed": false,
     "input": [
      "import glob"
     ],
     "language": "python",
     "metadata": {},
     "outputs": [],
     "prompt_number": 3
    },
    {
     "cell_type": "code",
     "collapsed": false,
     "input": [
      "hpd = pd.concat([kid_readout.analysis.archive.load_archive(x) for x in glob.glob('/home/gjones/detmnt/archive/2014-12*.npy')]\n",
      "               ,ignore_index=True)"
     ],
     "language": "python",
     "metadata": {},
     "outputs": [],
     "prompt_number": 4
    },
    {
     "cell_type": "code",
     "collapsed": false,
     "input": [
      "hpd = kid_readout.analysis.archive.add_noise_summary(hpd)"
     ],
     "language": "python",
     "metadata": {},
     "outputs": [],
     "prompt_number": 5
    },
    {
     "cell_type": "code",
     "collapsed": false,
     "input": [
      "hpd = kid_readout.analysis.archive.add_noise_fits(hpd)"
     ],
     "language": "python",
     "metadata": {},
     "outputs": []
    },
    {
     "cell_type": "code",
     "collapsed": false,
     "input": [
      "hpd.shape"
     ],
     "language": "python",
     "metadata": {},
     "outputs": [
      {
       "metadata": {},
       "output_type": "pyout",
       "prompt_number": 6,
       "text": [
        "(6304, 93)"
       ]
      }
     ],
     "prompt_number": 6
    },
    {
     "cell_type": "code",
     "collapsed": false,
     "input": [
      "hpddark = hpd[hpd.optical_state=='dark']\n",
      "hpdled = hpd[hpd.optical_state=='light']"
     ],
     "language": "python",
     "metadata": {},
     "outputs": [],
     "prompt_number": 7
    },
    {
     "cell_type": "code",
     "collapsed": false,
     "input": [
      "plot(hpddark.sweep_epoch,hpddark.sweep_primary_package_temperature,'.')\n",
      "plot(hpdled.sweep_epoch,hpdled.sweep_primary_package_temperature,'.')\n"
     ],
     "language": "python",
     "metadata": {},
     "outputs": [
      {
       "metadata": {},
       "output_type": "pyout",
       "prompt_number": 8,
       "text": [
        "[<matplotlib.lines.Line2D at 0x3e1833d0>]"
       ]
      },
      {
       "metadata": {},
       "output_type": "display_data",
       "png": "[encoded data removed]",
       "text": [
        "<matplotlib.figure.Figure at 0x1bd4b210>"
       ]
      }
     ],
     "prompt_number": 8
    },
    {
     "cell_type": "code",
     "collapsed": false,
     "input": [
      "sc1 = kid_readout.analysis.archive.load_archive('/home/data/archive/STAR_Cryo_4x5_0813f12_Al_horn_package_AR_chip_fully_taped.npy')"
     ],
     "language": "python",
     "metadata": {},
     "outputs": [],
     "prompt_number": 9
    },
    {
     "cell_type": "code",
     "collapsed": false,
     "input": [
      "sc1 = sc1[sc1.sweep_primary_load_temperature<15]"
     ],
     "language": "python",
     "metadata": {},
     "outputs": [],
     "prompt_number": 10
    },
    {
     "cell_type": "code",
     "collapsed": false,
     "input": [
      "sc1 = kid_readout.analysis.archive.add_noise_summary(sc1)"
     ],
     "language": "python",
     "metadata": {},
     "outputs": [],
     "prompt_number": 11
    },
    {
     "cell_type": "code",
     "collapsed": false,
     "input": [
      "sc1 = kid_readout.analysis.archive.add_noise_fits(sc1)"
     ],
     "language": "python",
     "metadata": {},
     "outputs": [],
     "prompt_number": 12
    },
    {
     "cell_type": "code",
     "collapsed": false,
     "input": [
      "sc1.optical_load.value_counts()"
     ],
     "language": "python",
     "metadata": {},
     "outputs": [
      {
       "metadata": {},
       "output_type": "pyout",
       "prompt_number": 13,
       "text": [
        "light    8520\n",
        "dark     1900\n",
        "dtype: int64"
       ]
      }
     ],
     "prompt_number": 13
    },
    {
     "cell_type": "code",
     "collapsed": false,
     "input": [
      "sc1load = sc1[sc1.optical_load=='light']"
     ],
     "language": "python",
     "metadata": {},
     "outputs": [],
     "prompt_number": 14
    },
    {
     "cell_type": "code",
     "collapsed": false,
     "input": [
      "sc1dark = sc1[(sc1.optical_load=='dark') & (sc1.sweep_primary_load_temperature<4.01)]\n",
      "sc1darkload = sc1[(sc1.optical_load=='dark') & (sc1.sweep_primary_load_temperature>4.01)]"
     ],
     "language": "python",
     "metadata": {},
     "outputs": [],
     "prompt_number": 15
    },
    {
     "cell_type": "code",
     "collapsed": false,
     "input": [
      "plot(sc1dark.sweep_primary_load_temperature)\n",
      "ylim(3.9,4.2)"
     ],
     "language": "python",
     "metadata": {},
     "outputs": [
      {
       "metadata": {},
       "output_type": "pyout",
       "prompt_number": 16,
       "text": [
        "(3.9, 4.2)"
       ]
      },
      {
       "metadata": {},
       "output_type": "display_data",
       "png": "[encoded data removed]",
       "text": [
        "<matplotlib.figure.Figure at 0x21969f50>"
       ]
      }
     ],
     "prompt_number": 16
    },
    {
     "cell_type": "code",
     "collapsed": false,
     "input": [
      "plot(sc1.sweep_primary_package_temperature)"
     ],
     "language": "python",
     "metadata": {},
     "outputs": [
      {
       "metadata": {},
       "output_type": "pyout",
       "prompt_number": 17,
       "text": [
        "[<matplotlib.lines.Line2D at 0x500b0610>]"
       ]
      },
      {
       "metadata": {},
       "output_type": "display_data",
       "png": "[encoded data removed]",
       "text": [
        "<matplotlib.figure.Figure at 0x3e171b90>"
       ]
      }
     ],
     "prompt_number": 17
    },
    {
     "cell_type": "code",
     "collapsed": false,
     "input": [
      "plot(sc1.sweep_primary_load_temperature)"
     ],
     "language": "python",
     "metadata": {},
     "outputs": [
      {
       "metadata": {},
       "output_type": "pyout",
       "prompt_number": 18,
       "text": [
        "[<matplotlib.lines.Line2D at 0x90879c90>]"
       ]
      },
      {
       "metadata": {},
       "output_type": "display_data",
       "png": "[encoded data removed]",
       "text": [
        "<matplotlib.figure.Figure at 0x497742d0>"
       ]
      }
     ],
     "prompt_number": 18
    },
    {
     "cell_type": "code",
     "collapsed": false,
     "input": [
      "sc2nps = ['/home/data/archive/mmw_noise_steps_2014-10-14_111614_mmwnoisestep.npy',\n",
      "'/home/data/archive/mmw_noise_steps_2014-10-15_114055_mmwnoisestep.npy',\n",
      "'/home/data/archive/mmw_noise_steps_2014-10-01_104437_mmwnoisestep.npy',\n",
      "'/home/data/archive/mmw_noise_steps_2014-10-17_114422_mmwnoisestep.npy',\n",
      "'/home/data/archive/mmw_noise_steps_2014-09-30_113742_mmwnoisestep.npy',\n",
      "'/home/data/archive/mmw_noise_steps_2014-10-18_124317_mmwnoisestep.npy',\n",
      "'/home/data/archive/mmw_noise_steps_2014-10-29_120929_mmwcwstep.npy',\n",
      "'/home/data/archive/mmw_noise_steps_2014-10-28_110145_mmwcwstep.npy',\n",
      "'/home/data/archive/mmw_noise_steps_2014-09-24_112644_mmwnoisestep.npy',\n",
      "'/home/data/archive/mmw_noise_steps_2014-11-04_143712_mmwcwstep.npy',\n",
      "'/home/data/archive/mmw_noise_steps_2014-11-03_165108_mmwcwstep.npy',\n",
      "'/home/data/archive/mmw_noise_steps_2014-10-30_121023_mmwnoisestep.npy',\n",
      "'/home/data/archive/mmw_noise_steps_2014-10-22_124915_mmwnoisestep.npy',\n",
      "'/home/data/archive/mmw_noise_steps_2014-10-24_123812_mmwcwstep.npy',\n",
      "'/home/data/archive/mmw_noise_steps_2014-09-29_163530_mmwnoisestep.npy']"
     ],
     "language": "python",
     "metadata": {},
     "outputs": [],
     "prompt_number": 19
    },
    {
     "cell_type": "code",
     "collapsed": false,
     "input": [
      "sc2 = pd.concat([kid_readout.analysis.archive.load_archive(x) for x in sc2nps],ignore_index=True)"
     ],
     "language": "python",
     "metadata": {},
     "outputs": [],
     "prompt_number": 20
    },
    {
     "cell_type": "code",
     "collapsed": false,
     "input": [
      "sc2 = kid_readout.analysis.archive.add_noise_summary(sc2)"
     ],
     "language": "python",
     "metadata": {},
     "outputs": [],
     "prompt_number": 21
    },
    {
     "cell_type": "code",
     "collapsed": false,
     "input": [
      "sc2 = kid_readout.analysis.archive.add_noise_fits(sc2)"
     ],
     "language": "python",
     "metadata": {},
     "outputs": [],
     "prompt_number": 22
    },
    {
     "cell_type": "code",
     "collapsed": false,
     "input": [
      "sc2.shape"
     ],
     "language": "python",
     "metadata": {},
     "outputs": [
      {
       "metadata": {},
       "output_type": "pyout",
       "prompt_number": 23,
       "text": [
        "(9744, 101)"
       ]
      }
     ],
     "prompt_number": 23
    },
    {
     "cell_type": "code",
     "collapsed": false,
     "input": [
      "plot((sc2.sweep_epoch-sc2.sweep_epoch.min())/86400,sc2.sweep_primary_load_temperature,'.')\n",
      "ylim(-1,9)"
     ],
     "language": "python",
     "metadata": {},
     "outputs": [
      {
       "metadata": {},
       "output_type": "pyout",
       "prompt_number": 24,
       "text": [
        "(-1, 9)"
       ]
      },
      {
       "metadata": {},
       "output_type": "display_data",
       "png": "[encoded data removed]",
       "text": [
        "<matplotlib.figure.Figure at 0x5873dd0>"
       ]
      }
     ],
     "prompt_number": 24
    },
    {
     "cell_type": "code",
     "collapsed": false,
     "input": [
      "plot([datetime.datetime.fromtimestamp(x) for x in sc2.sweep_epoch],sc2.sweep_primary_load_temperature,'.')\n",
      "ylim(-1,9)\n",
      "f = gcf()\n",
      "f.autofmt_xdate()"
     ],
     "language": "python",
     "metadata": {},
     "outputs": [
      {
       "metadata": {},
       "output_type": "display_data",
       "png": "[encoded data removed]",
       "text": [
        "<matplotlib.figure.Figure at 0x593c1bd0>"
       ]
      }
     ],
     "prompt_number": 25
    },
    {
     "cell_type": "code",
     "collapsed": false,
     "input": [
      "import time"
     ],
     "language": "python",
     "metadata": {},
     "outputs": [],
     "prompt_number": 26
    },
    {
     "cell_type": "code",
     "collapsed": false,
     "input": [
      "sc2a = sc2[sc2.sweep_epoch < time.mktime(time.strptime('2014-10-08','%Y-%m-%d'))]"
     ],
     "language": "python",
     "metadata": {},
     "outputs": [],
     "prompt_number": 27
    },
    {
     "cell_type": "code",
     "collapsed": false,
     "input": [
      "sc2b = sc2[(sc2.sweep_epoch > time.mktime(time.strptime('2014-10-08','%Y-%m-%d')))\n",
      "        &(sc2.sweep_epoch < time.mktime(time.strptime('2014-10-22','%Y-%m-%d')))]"
     ],
     "language": "python",
     "metadata": {},
     "outputs": [],
     "prompt_number": 28
    },
    {
     "cell_type": "code",
     "collapsed": false,
     "input": [
      "sc2c = sc2[sc2.sweep_epoch > time.mktime(time.strptime('2014-10-22','%Y-%m-%d'))]"
     ],
     "language": "python",
     "metadata": {},
     "outputs": [],
     "prompt_number": 29
    },
    {
     "cell_type": "code",
     "collapsed": false,
     "input": [
      "sc2a.shape"
     ],
     "language": "python",
     "metadata": {},
     "outputs": [
      {
       "metadata": {},
       "output_type": "pyout",
       "prompt_number": 68,
       "text": [
        "(1856, 101)"
       ]
      }
     ],
     "prompt_number": 68
    },
    {
     "cell_type": "code",
     "collapsed": false,
     "input": [
      "len(np.unique(sc2a.columns))"
     ],
     "language": "python",
     "metadata": {},
     "outputs": [
      {
       "metadata": {},
       "output_type": "pyout",
       "prompt_number": 70,
       "text": [
        "101"
       ]
      }
     ],
     "prompt_number": 70
    },
    {
     "cell_type": "code",
     "collapsed": false,
     "input": [
      "#del sc2a['index']\n",
      "del sc2b['index']\n",
      "del sc2c['index']"
     ],
     "language": "python",
     "metadata": {},
     "outputs": [],
     "prompt_number": 79
    },
    {
     "cell_type": "code",
     "collapsed": false,
     "input": [
      "kid_readout.analysis.archive.save_archive(sc2a,'/home/gjones/2015-01-21-sc2a-temporary-storage.npy')\n",
      "kid_readout.analysis.archive.save_archive(sc2b,'/home/gjones/2015-01-21-sc2b-temporary-storage.npy')\n",
      "kid_readout.analysis.archive.save_archive(sc2c,'/home/gjones/2015-01-21-sc2c-temporary-storage.npy')"
     ],
     "language": "python",
     "metadata": {},
     "outputs": [],
     "prompt_number": 80
    },
    {
     "cell_type": "code",
     "collapsed": false,
     "input": [
      "plot(sc2a.sweep_epoch,sc2a.sweep_primary_load_temperature,'.')\n",
      "plot(sc2b.sweep_epoch,sc2b.sweep_primary_load_temperature,'.')\n",
      "plot(sc2c.sweep_epoch,sc2c.sweep_primary_load_temperature,'.')\n"
     ],
     "language": "python",
     "metadata": {},
     "outputs": [
      {
       "metadata": {},
       "output_type": "pyout",
       "prompt_number": 30,
       "text": [
        "[<matplotlib.lines.Line2D at 0xaddb3a90>]"
       ]
      },
      {
       "metadata": {},
       "output_type": "display_data",
       "png": "[encoded data removed]",
       "text": [
        "<matplotlib.figure.Figure at 0xdec3fb90>"
       ]
      }
     ],
     "prompt_number": 30
    },
    {
     "cell_type": "code",
     "collapsed": false,
     "input": [
      "plot(r0.f_0,'.')"
     ],
     "language": "python",
     "metadata": {},
     "outputs": [
      {
       "metadata": {},
       "output_type": "pyout",
       "prompt_number": 57,
       "text": [
        "[<matplotlib.lines.Line2D at 0xdae08b10>]"
       ]
      },
      {
       "metadata": {},
       "output_type": "display_data",
       "png": "[encoded data removed]",
       "text": [
        "<matplotlib.figure.Figure at 0xdbe50990>"
       ]
      }
     ],
     "prompt_number": 57
    },
    {
     "cell_type": "code",
     "collapsed": false,
     "input": [
      "r0 = sc2[sc2.resonator_id==12]\n",
      "for k,row in r0.iterrows():\n",
      "    plot(row.sweep_freqs_MHz,20*np.log10(row.sweep_s21)+row.atten)\n",
      "#ylim(6,8)"
     ],
     "language": "python",
     "metadata": {},
     "outputs": [
      {
       "metadata": {},
       "output_type": "display_data",
       "png": "[encoded data removed]",
       "text": [
        "<matplotlib.figure.Figure at 0xdc644f50>"
       ]
      }
     ],
     "prompt_number": 64
    },
    {
     "cell_type": "code",
     "collapsed": false,
     "input": [
      "plot(sc2.sweep_primary_package_temperature)"
     ],
     "language": "python",
     "metadata": {},
     "outputs": [
      {
       "metadata": {},
       "output_type": "pyout",
       "prompt_number": 31,
       "text": [
        "[<matplotlib.lines.Line2D at 0xdea420d0>]"
       ]
      },
      {
       "metadata": {},
       "output_type": "display_data",
       "png": "[encoded data removed]",
       "text": [
        "<matplotlib.figure.Figure at 0x106a06a10>"
       ]
      }
     ],
     "prompt_number": 31
    },
    {
     "cell_type": "code",
     "collapsed": false,
     "input": [
      "ctemp = kid_readout.analysis.archive.get_constant_package_temperature_data(sc2)"
     ],
     "language": "python",
     "metadata": {},
     "outputs": [],
     "prompt_number": 32
    },
    {
     "cell_type": "code",
     "collapsed": false,
     "input": [
      "plot(ctemp.sweep_primary_load_temperature)"
     ],
     "language": "python",
     "metadata": {},
     "outputs": [
      {
       "metadata": {},
       "output_type": "pyout",
       "prompt_number": 33,
       "text": [
        "[<matplotlib.lines.Line2D at 0xdea57610>]"
       ]
      },
      {
       "metadata": {},
       "output_type": "display_data",
       "png": "[encoded data removed]",
       "text": [
        "<matplotlib.figure.Figure at 0x3e179d10>"
       ]
      }
     ],
     "prompt_number": 33
    },
    {
     "cell_type": "code",
     "collapsed": false,
     "input": [
      "semilogy(ctemp.zbd_voltage)"
     ],
     "language": "python",
     "metadata": {},
     "outputs": [
      {
       "metadata": {},
       "output_type": "pyout",
       "prompt_number": 34,
       "text": [
        "[<matplotlib.lines.Line2D at 0xf7d1b710>]"
       ]
      },
      {
       "metadata": {},
       "output_type": "display_data",
       "png": "[encoded data removed]",
       "text": [
        "<matplotlib.figure.Figure at 0xdea67410>"
       ]
      }
     ],
     "prompt_number": 34
    },
    {
     "cell_type": "code",
     "collapsed": false,
     "input": [
      "dsets = [hpddark,hpdled,sc1dark,sc1load,sc2a,sc2b,sc2c]"
     ],
     "language": "python",
     "metadata": {},
     "outputs": [],
     "prompt_number": 35
    },
    {
     "cell_type": "code",
     "collapsed": false,
     "input": [
      "for dset in dsets:\n",
      "    r0 = dset[dset.resonator_id==2]\n",
      "    if 'optical_state' in r0.columns:\n",
      "        if r0.optical_state.iloc[0] =='light':\n",
      "            sym = 'x'\n",
      "        else:\n",
      "            sym = '.'\n",
      "    else:\n",
      "        if r0.optical_load.iloc[0] =='light':\n",
      "            sym = 'x'\n",
      "        else:\n",
      "            sym = '.'\n",
      "    plot(r0.sweep_epoch,r0.f_0,sym)\n",
      "#ylim(77.48,77.53)\n",
      "ylim(86.27,86.32)"
     ],
     "language": "python",
     "metadata": {},
     "outputs": [
      {
       "metadata": {},
       "output_type": "pyout",
       "prompt_number": 36,
       "text": [
        "(86.27, 86.32)"
       ]
      },
      {
       "metadata": {},
       "output_type": "display_data",
       "png": "[encoded data removed]",
       "text": [
        "<matplotlib.figure.Figure at 0xdc401290>"
       ]
      }
     ],
     "prompt_number": 36
    },
    {
     "cell_type": "code",
     "collapsed": false,
     "input": [
      "for dset in dsets:\n",
      "    r0 = dset[dset.resonator_id==2]\n",
      "    if 'optical_state' in r0.columns:\n",
      "        if r0.optical_state.iloc[0] =='light':\n",
      "            sym = 'x'\n",
      "        else:\n",
      "            sym = '.'\n",
      "    else:\n",
      "        if r0.optical_load.iloc[0] =='light':\n",
      "            sym = 'x'\n",
      "        else:\n",
      "            sym = '.'\n",
      "    semilogy(r0.sweep_epoch,r0.Q_err,sym)\n",
      "ylim(10,1e4)"
     ],
     "language": "python",
     "metadata": {},
     "outputs": [
      {
       "metadata": {},
       "output_type": "pyout",
       "prompt_number": 49,
       "text": [
        "(10, 10000.0)"
       ]
      },
      {
       "metadata": {},
       "output_type": "display_data",
       "png": "[encoded data removed]",
       "text": [
        "<matplotlib.figure.Figure at 0x92fbb150>"
       ]
      }
     ],
     "prompt_number": 49
    },
    {
     "cell_type": "code",
     "collapsed": false,
     "input": [
      "for dset in dsets:\n",
      "    r0 = dset[dset.resonator_id==0]\n",
      "    if 'optical_state' in r0.columns:\n",
      "        if r0.optical_state.iloc[0] =='light':\n",
      "            sym = 'x'\n",
      "        else:\n",
      "            sym = '.'\n",
      "    else:\n",
      "        if r0.optical_load.iloc[0] =='light':\n",
      "            sym = 'x'\n",
      "        else:\n",
      "            sym = '.'\n",
      "    plot(r0.sweep_primary_package_temperature,r0.f_0,sym)\n",
      "ylim(77.48,77.53)"
     ],
     "language": "python",
     "metadata": {},
     "outputs": [
      {
       "metadata": {},
       "output_type": "pyout",
       "prompt_number": 37,
       "text": [
        "(77.48, 77.53)"
       ]
      },
      {
       "metadata": {},
       "output_type": "display_data",
       "png": "[encoded data removed]",
       "text": [
        "<matplotlib.figure.Figure at 0x92fb6dd0>"
       ]
      }
     ],
     "prompt_number": 37
    },
    {
     "cell_type": "code",
     "collapsed": false,
     "input": [
      "for dset in dsets:\n",
      "    r0 = dset[dset.resonator_id==0]\n",
      "    if 'optical_state' in r0.columns:\n",
      "        if r0.optical_state.iloc[0] =='light':\n",
      "            sym = 'x'\n",
      "        else:\n",
      "            sym = '.'\n",
      "    else:\n",
      "        if r0.optical_load.iloc[0] =='light':\n",
      "            sym = 'x'\n",
      "        else:\n",
      "            sym = '.'\n",
      "    plot(r0.sweep_primary_load_temperature,r0.f_0,sym)\n",
      "ylim(77.48,77.53)\n",
      "xlim(-1,12)"
     ],
     "language": "python",
     "metadata": {},
     "outputs": [
      {
       "metadata": {},
       "output_type": "pyout",
       "prompt_number": 38,
       "text": [
        "(-1, 12)"
       ]
      },
      {
       "metadata": {},
       "output_type": "display_data",
       "png": "[encoded data removed]",
       "text": [
        "<matplotlib.figure.Figure at 0xdbeb71d0>"
       ]
      }
     ],
     "prompt_number": 38
    },
    {
     "cell_type": "code",
     "collapsed": false,
     "input": [
      "for dset in dsets:\n",
      "    r0 = dset[dset.resonator_id==0]\n",
      "    if 'optical_state' in r0.columns:\n",
      "        if r0.optical_state.iloc[0] =='light':\n",
      "            sym = 'x'\n",
      "        else:\n",
      "            sym = '.'\n",
      "    else:\n",
      "        if r0.optical_load.iloc[0] =='light':\n",
      "            sym = 'x'\n",
      "        else:\n",
      "            sym = '.'\n",
      "    plot(r0.sweep_primary_load_temperature,1-r0.f_0/ sc1dark[sc1dark.resonator_id==0].f_0.max(),sym)\n",
      "ylim(0,1e-3)\n",
      "xlim(-1,12)"
     ],
     "language": "python",
     "metadata": {},
     "outputs": [
      {
       "metadata": {},
       "output_type": "pyout",
       "prompt_number": 39,
       "text": [
        "(-1, 12)"
       ]
      },
      {
       "metadata": {},
       "output_type": "display_data",
       "png": "[encoded data removed]",
       "text": [
        "<matplotlib.figure.Figure at 0xdc1422d0>"
       ]
      }
     ],
     "prompt_number": 39
    },
    {
     "cell_type": "code",
     "collapsed": false,
     "input": [
      "r0 = sc1load[sc1load.resonator_id==0]"
     ],
     "language": "python",
     "metadata": {},
     "outputs": [],
     "prompt_number": 40
    },
    {
     "cell_type": "code",
     "collapsed": false,
     "input": [
      "errorbar(r0.sweep_primary_load_temperature,r0.f_0,yerr=r0.f_0_err,linestyle='')\n",
      "ylim(77.4,77.7)"
     ],
     "language": "python",
     "metadata": {},
     "outputs": [
      {
       "metadata": {},
       "output_type": "pyout",
       "prompt_number": 41,
       "text": [
        "(77.4, 77.7)"
       ]
      },
      {
       "metadata": {},
       "output_type": "display_data",
       "png": "[encoded data removed]",
       "text": [
        "<matplotlib.figure.Figure at 0xdc12a610>"
       ]
      }
     ],
     "prompt_number": 41
    },
    {
     "cell_type": "code",
     "collapsed": false,
     "input": [
      "good = r0[(r0.f_0_err/r0.f_0<1e-5) & (r0.f_0_err>0)]"
     ],
     "language": "python",
     "metadata": {},
     "outputs": [],
     "prompt_number": 42
    },
    {
     "cell_type": "code",
     "collapsed": false,
     "input": [
      "errorbar(good.sweep_primary_load_temperature,good.f_0,yerr=good.f_0_err,linestyle='')\n",
      "#ylim(77.4,77.7)"
     ],
     "language": "python",
     "metadata": {},
     "outputs": [
      {
       "metadata": {},
       "output_type": "pyout",
       "prompt_number": 43,
       "text": [
        "<Container object of 3 artists>"
       ]
      },
      {
       "metadata": {},
       "output_type": "display_data",
       "png": "[encoded data removed]",
       "text": [
        "<matplotlib.figure.Figure at 0xdea67950>"
       ]
      }
     ],
     "prompt_number": 43
    },
    {
     "cell_type": "code",
     "collapsed": false,
     "input": [
      "sc1dark.atten.value_counts()"
     ],
     "language": "python",
     "metadata": {},
     "outputs": []
    },
    {
     "cell_type": "code",
     "collapsed": false,
     "input": [
      "for dset in dsets:\n",
      "    r0 = dset[dset.resonator_id==0]\n",
      "    if 'optical_state' in r0.columns:\n",
      "        if r0.optical_state.iloc[0] =='light':\n",
      "            sym = 'x'\n",
      "        else:\n",
      "            sym = '.'\n",
      "    else:\n",
      "        if r0.optical_load.iloc[0] =='light':\n",
      "            sym = 'x'\n",
      "        else:\n",
      "            sym = '.'\n",
      "    plot(r0.sweep_epoch,r0.Q_e_imag,sym)\n",
      "ylim(20000,60000)"
     ],
     "language": "python",
     "metadata": {},
     "outputs": []
    },
    {
     "cell_type": "code",
     "collapsed": false,
     "input": [
      "for dset in dsets:\n",
      "    r0 = dset[dset.resonator_id==0]\n",
      "    if 'optical_state' in r0.columns:\n",
      "        if r0.optical_state.iloc[0] =='light':\n",
      "            sym = 'x'\n",
      "        else:\n",
      "            sym = '.'\n",
      "    else:\n",
      "        if r0.optical_load.iloc[0] =='light':\n",
      "            sym = 'x'\n",
      "        else:\n",
      "            sym = '.'\n",
      "    plot(r0.sweep_epoch,r0.Q,sym)\n",
      "ylim(20000,100000)"
     ],
     "language": "python",
     "metadata": {},
     "outputs": []
    },
    {
     "cell_type": "code",
     "collapsed": false,
     "input": [
      "for dset in dsets:\n",
      "    r0 = dset[dset.resonator_id==3]\n",
      "    if 'optical_state' in r0.columns:\n",
      "        if r0.optical_state.iloc[0] =='light':\n",
      "            sym = 'x'\n",
      "        else:\n",
      "            sym = '.'\n",
      "    else:\n",
      "        if r0.optical_load.iloc[0] =='light':\n",
      "            sym = 'x'\n",
      "        else:\n",
      "            sym = '.'\n",
      "    semilogy(r0.sweep_primary_package_temperature,r0.Q,sym)\n",
      "ylim(5e3,500000)\n",
      "T=np.linspace(0.05,0.5,100)\n",
      "km = kid_readout.analysis.kid_eqns.DarkKIDModelFractional()\n",
      "km.params['nqp0'].value = 80\n",
      "km.Qc=1.5e5\n",
      "km.params['Tc'].value=1.6\n",
      "semilogy(T,km.Qr(T))"
     ],
     "language": "python",
     "metadata": {},
     "outputs": []
    },
    {
     "cell_type": "code",
     "collapsed": false,
     "input": [
      "for dset in dsets:\n",
      "    r0 = dset[dset.resonator_id==3]\n",
      "    if 'optical_state' in r0.columns:\n",
      "        if r0.optical_state.iloc[0] =='light':\n",
      "            sym = 'x'\n",
      "        else:\n",
      "            sym = '.'\n",
      "    else:\n",
      "        if r0.optical_load.iloc[0] =='light':\n",
      "            sym = 'x'\n",
      "        else:\n",
      "            sym = '.'\n",
      "    semilogy(r0.sweep_primary_package_temperature,r0.Q_i,sym)\n",
      "ylim(5e3,2000000)\n",
      "T=np.linspace(0.05,0.5,100)\n",
      "km = kid_readout.analysis.kid_eqns.DarkKIDModelFractional()\n",
      "for nqp in [50,100,500,1000,2000]:\n",
      "    km.params['nqp0'].value = nqp\n",
      "    km.Qc=1.5e5\n",
      "    km.params['Tc'].value=1.6\n",
      "    semilogy(T,km.Qi(T))"
     ],
     "language": "python",
     "metadata": {},
     "outputs": []
    },
    {
     "cell_type": "code",
     "collapsed": false,
     "input": [
      "np.median(r0.Q_e_real)"
     ],
     "language": "python",
     "metadata": {},
     "outputs": []
    },
    {
     "cell_type": "code",
     "collapsed": false,
     "input": [
      "np.median(r0.Q_e_imag)"
     ],
     "language": "python",
     "metadata": {},
     "outputs": []
    },
    {
     "cell_type": "code",
     "collapsed": false,
     "input": [
      "semilogy(T,km.tau_qp(T))"
     ],
     "language": "python",
     "metadata": {},
     "outputs": []
    },
    {
     "cell_type": "code",
     "collapsed": false,
     "input": [
      "km.Qi??"
     ],
     "language": "python",
     "metadata": {},
     "outputs": []
    },
    {
     "cell_type": "code",
     "collapsed": false,
     "input": [
      "s1,s2 = kid_readout.analysis.kid_eqns.s1s2(T,1.6,100e6)"
     ],
     "language": "python",
     "metadata": {},
     "outputs": []
    },
    {
     "cell_type": "code",
     "collapsed": false,
     "input": [
      "semilogy(T,s1)"
     ],
     "language": "python",
     "metadata": {},
     "outputs": []
    },
    {
     "cell_type": "code",
     "collapsed": false,
     "input": [
      "1.76*1.6/1.46"
     ],
     "language": "python",
     "metadata": {},
     "outputs": []
    },
    {
     "cell_type": "code",
     "collapsed": false,
     "input": [
      "km.params"
     ],
     "language": "python",
     "metadata": {},
     "outputs": []
    },
    {
     "cell_type": "code",
     "collapsed": false,
     "input": [
      "import kid_readout.analysis.kid_eqns"
     ],
     "language": "python",
     "metadata": {},
     "outputs": []
    },
    {
     "cell_type": "code",
     "collapsed": false,
     "input": [
      "class qpmodel(kid_readout.analysis.kid_eqns.DarkKIDModelFractional):\n",
      "    "
     ],
     "language": "python",
     "metadata": {},
     "outputs": []
    },
    {
     "cell_type": "code",
     "collapsed": false,
     "input": [
      "km = kid_readout.analysis.kid_eqns.DarkKIDModelFractional()"
     ],
     "language": "python",
     "metadata": {},
     "outputs": []
    },
    {
     "cell_type": "code",
     "collapsed": false,
     "input": [
      "km.params['nqp0'].value=50"
     ],
     "language": "python",
     "metadata": {},
     "outputs": []
    },
    {
     "cell_type": "code",
     "collapsed": false,
     "input": [
      "T=np.linspace(0.05,0.5,100)\n",
      "semilogy(T,km.Qi(T))"
     ],
     "language": "python",
     "metadata": {},
     "outputs": []
    },
    {
     "cell_type": "code",
     "collapsed": false,
     "input": [
      "for dset in dsets:\n",
      "    r0 = dset[dset.resonator_id==12]\n",
      "    if 'optical_state' in r0.columns:\n",
      "        if r0.optical_state.iloc[0] =='light':\n",
      "            sym = 'x'\n",
      "        else:\n",
      "            sym = '.'\n",
      "    else:\n",
      "        if r0.optical_load.iloc[0] =='light':\n",
      "            sym = 'x'\n",
      "        else:\n",
      "            sym = '.'\n",
      "    semilogy(r0.sweep_primary_package_temperature,r0.Q_i,sym)\n",
      "ylim(1e3,1e7)"
     ],
     "language": "python",
     "metadata": {},
     "outputs": []
    },
    {
     "cell_type": "code",
     "collapsed": false,
     "input": [
      "for dset in dsets:\n",
      "    r0 = dset[dset.resonator_id==3]\n",
      "    if 'optical_state' in r0.columns:\n",
      "        if r0.optical_state.iloc[0] =='light':\n",
      "            sym = 'x'\n",
      "        else:\n",
      "            sym = '.'\n",
      "    else:\n",
      "        if r0.optical_load.iloc[0] =='light':\n",
      "            sym = 'x'\n",
      "        else:\n",
      "            sym = '.'\n",
      "    semilogy(r0.sweep_primary_load_temperature,r0.Q_i,sym)\n",
      "ylim(1e3,1e7)"
     ],
     "language": "python",
     "metadata": {},
     "outputs": []
    },
    {
     "cell_type": "code",
     "collapsed": false,
     "input": [
      "for dset in dsets:\n",
      "    r0 = dset[dset.resonator_id==3]\n",
      "    if 'optical_state' in r0.columns:\n",
      "        if r0.optical_state.iloc[0] =='light':\n",
      "            sym = 'x'\n",
      "        else:\n",
      "            sym = '.'\n",
      "    else:\n",
      "        if r0.optical_load.iloc[0] =='light':\n",
      "            sym = 'x'\n",
      "        else:\n",
      "            sym = '.'\n",
      "    if 'zbd_voltage' in r0.columns:\n",
      "        if np.any(np.isfinite(r0.zbd_voltage)):\n",
      "            \n",
      "            loglog(r0.zbd_voltage,r0.Q_i,sym)\n",
      "ylim(1e3,1e7)"
     ],
     "language": "python",
     "metadata": {},
     "outputs": []
    },
    {
     "cell_type": "code",
     "collapsed": false,
     "input": [
      "for dset in dsets:\n",
      "    r0 = dset[dset.resonator_id==3]\n",
      "    if 'optical_state' in r0.columns:\n",
      "        if r0.optical_state.iloc[0] =='light':\n",
      "            sym = 'x'\n",
      "        else:\n",
      "            sym = '.'\n",
      "    else:\n",
      "        if r0.optical_load.iloc[0] =='light':\n",
      "            sym = 'x'\n",
      "        else:\n",
      "            sym = '.'\n",
      "    plot(r0.f_0,1/r0.Q_i,sym)\n",
      "ylim(1e-7,1e-4)\n",
      "xlim(92.0,92.3)"
     ],
     "language": "python",
     "metadata": {},
     "outputs": []
    },
    {
     "cell_type": "code",
     "collapsed": false,
     "input": [
      "for dset in dsets:\n",
      "    r0 = dset[dset.resonator_id==2]\n",
      "    if 'optical_state' in r0.columns:\n",
      "        if r0.optical_state.iloc[0] =='light':\n",
      "            sym = 'x'\n",
      "        else:\n",
      "            sym = '.'\n",
      "    else:\n",
      "        if r0.optical_load.iloc[0] =='light':\n",
      "            sym = 'x'\n",
      "        else:\n",
      "            sym = '.'\n",
      "    plot(r0.f_0,1/r0.Q_i,sym)\n",
      "ylim(1e-7,1e-5)\n",
      "xlim(86.28,86.32)"
     ],
     "language": "python",
     "metadata": {},
     "outputs": []
    },
    {
     "cell_type": "code",
     "collapsed": false,
     "input": [
      "for dset in dsets:\n",
      "    r0 = dset[dset.resonator_id==3]\n",
      "    if 'optical_state' in r0.columns:\n",
      "        if r0.optical_state.iloc[0] =='light':\n",
      "            sym = 'x'\n",
      "        else:\n",
      "            sym = '.'\n",
      "    else:\n",
      "        if r0.optical_load.iloc[0] =='light':\n",
      "            sym = 'x'\n",
      "        else:\n",
      "            sym = '.'\n",
      "    semilogy(dset.f_0_err/dset.f_0,sym,alpha=0.1)"
     ],
     "language": "python",
     "metadata": {},
     "outputs": []
    },
    {
     "cell_type": "code",
     "collapsed": false,
     "input": [
      "for k,dset in enumerate(dsets):\n",
      "    r0 = dset[dset.resonator_id==1]\n",
      "    if 'optical_state' in r0.columns:\n",
      "        if r0.optical_state.iloc[0] =='light':\n",
      "            sym = 'x'\n",
      "        else:\n",
      "            sym = '.'\n",
      "    else:\n",
      "        if r0.optical_load.iloc[0] =='light':\n",
      "            sym = 'x'\n",
      "        else:\n",
      "            sym = '.'\n",
      "    plot(r0.power_dbm,1/r0.Q_i,sym)\n",
      "ylim(1e-7,3e-6)"
     ],
     "language": "python",
     "metadata": {},
     "outputs": []
    },
    {
     "cell_type": "code",
     "collapsed": false,
     "input": [
      "for k,dset in enumerate(dsets):\n",
      "    r0 = dset[dset.resonator_id==1]\n",
      "    if 'optical_state' in r0.columns:\n",
      "        if r0.optical_state.iloc[0] =='light':\n",
      "            sym = 'x'\n",
      "        else:\n",
      "            sym = '.'\n",
      "    else:\n",
      "        if r0.optical_load.iloc[0] =='light':\n",
      "            sym = 'x'\n",
      "        else:\n",
      "            sym = '.'\n",
      "    semilogy(r0.power_dbm,r0.A_mag,sym)\n",
      "ylim(1e-2,1)"
     ],
     "language": "python",
     "metadata": {},
     "outputs": []
    },
    {
     "cell_type": "code",
     "collapsed": false,
     "input": [
      "for k,dset in enumerate(dsets):\n",
      "    r0 = dset[dset.resonator_id==1]\n",
      "    r0 = dset\n",
      "    if 'optical_state' in r0.columns:\n",
      "        if r0.optical_state.iloc[0] =='light':\n",
      "            sym = 'x'\n",
      "        else:\n",
      "            sym = '.'\n",
      "    else:\n",
      "        if r0.optical_load.iloc[0] =='light':\n",
      "            sym = 'x'\n",
      "        else:\n",
      "            sym = '.'\n",
      "    if k < 2:\n",
      "        sym = 'x'\n",
      "    else:\n",
      "        sym = '.'\n",
      "    semilogy(r0.f_0,10**(r0.power_dbm/10)/(r0.A_mag**2*r0.nfft/16384.),sym)\n",
      "\n",
      "ylim(1e-8,1e-7)"
     ],
     "language": "python",
     "metadata": {},
     "outputs": []
    },
    {
     "cell_type": "code",
     "collapsed": false,
     "input": [
      "for dset in dsets:\n",
      "    h,b = np.histogram(dset.delay*16384/dset.nfft,bins=np.linspace(-65.32,-55.298,1000))\n",
      "    semilogy(b[:-1],h)\n",
      "#ylim(-70,-50)"
     ],
     "language": "python",
     "metadata": {},
     "outputs": []
    },
    {
     "cell_type": "code",
     "collapsed": false,
     "input": [
      "for k,dset in enumerate(dsets):\n",
      "    r0 = dset[dset.resonator_id==1]\n",
      "    if 'optical_state' in r0.columns:\n",
      "        if r0.optical_state.iloc[0] =='light':\n",
      "            sym = 'x'\n",
      "        else:\n",
      "            sym = '.'\n",
      "    else:\n",
      "        if r0.optical_load.iloc[0] =='light':\n",
      "            sym = 'x'\n",
      "        else:\n",
      "            sym = '.'\n",
      "    plot(r0.sweep_epoch,10**(r0.power_dbm/10)/r0.A_mag**2,sym)\n",
      "ylim(0,5e-8)"
     ],
     "language": "python",
     "metadata": {},
     "outputs": []
    },
    {
     "cell_type": "code",
     "collapsed": false,
     "input": [
      "1.72e10*1.76*1.46*1.38e-23/1.6e-19"
     ],
     "language": "python",
     "metadata": {},
     "outputs": []
    },
    {
     "cell_type": "code",
     "collapsed": false,
     "input": [
      ".65*.1/(2*_)"
     ],
     "language": "python",
     "metadata": {},
     "outputs": []
    },
    {
     "cell_type": "code",
     "collapsed": false,
     "input": [
      "1/_"
     ],
     "language": "python",
     "metadata": {},
     "outputs": []
    },
    {
     "cell_type": "code",
     "collapsed": false,
     "input": [
      "1e-6/_161"
     ],
     "language": "python",
     "metadata": {},
     "outputs": []
    },
    {
     "cell_type": "code",
     "collapsed": false,
     "input": [
      "_*1870"
     ],
     "language": "python",
     "metadata": {},
     "outputs": []
    },
    {
     "cell_type": "code",
     "collapsed": false,
     "input": [
      "_*300e-6"
     ],
     "language": "python",
     "metadata": {},
     "outputs": []
    },
    {
     "cell_type": "code",
     "collapsed": false,
     "input": [
      "1/(117*300e-6)"
     ],
     "language": "python",
     "metadata": {},
     "outputs": []
    },
    {
     "cell_type": "code",
     "collapsed": false,
     "input": [
      "r0 = sc1[sc1.resonator_id==0]"
     ],
     "language": "python",
     "metadata": {},
     "outputs": []
    },
    {
     "cell_type": "code",
     "collapsed": false,
     "input": [
      "semilogy(r0.Q_i,'.')\n",
      "ylim(1,1e7)\n",
      "xlim(200,250)"
     ],
     "language": "python",
     "metadata": {},
     "outputs": []
    },
    {
     "cell_type": "code",
     "collapsed": false,
     "input": [
      "semilogy(r0.f_0_err/r0.f_0,'.')"
     ],
     "language": "python",
     "metadata": {},
     "outputs": []
    },
    {
     "cell_type": "code",
     "collapsed": false,
     "input": [
      "idx = 200\n",
      "plot(r0.sweep_freqs_MHz.iloc[idx],20*np.log10(abs(r0.sweep_s21.iloc[idx])))"
     ],
     "language": "python",
     "metadata": {},
     "outputs": []
    },
    {
     "cell_type": "code",
     "collapsed": false,
     "input": [
      "a = hpddark[(hpddark.resonator_id==2) & (hpddark.atten==37)].sort(['sweep_primary_package_temperature'])\n",
      "b = sc1dark[(sc1dark.resonator_id==2) & (sc1dark.atten==36)].sort(['sweep_primary_package_temperature'])"
     ],
     "language": "python",
     "metadata": {},
     "outputs": []
    },
    {
     "cell_type": "code",
     "collapsed": false,
     "input": [
      "a[a.atten==37].power_dbm.iloc[0]"
     ],
     "language": "python",
     "metadata": {},
     "outputs": []
    },
    {
     "cell_type": "code",
     "collapsed": false,
     "input": [
      "b[b.atten==36].power_dbm.iloc[0]"
     ],
     "language": "python",
     "metadata": {},
     "outputs": []
    },
    {
     "cell_type": "code",
     "collapsed": false,
     "input": [
      "plot(a.f_0,1/a.Q_i,'.-')\n",
      "plot(b.f_0,1/b.Q_i,'.-')\n",
      "ylim(1e-7,1e-5)\n",
      "xlim(77.4,77.6)"
     ],
     "language": "python",
     "metadata": {},
     "outputs": []
    },
    {
     "cell_type": "code",
     "collapsed": false,
     "input": [
      "plot(a.sweep_primary_package_temperature,a.f_0,'.-')\n",
      "plot(b.sweep_primary_package_temperature,b.f_0,'.-')\n",
      "ylim(77.45,77.55)"
     ],
     "language": "python",
     "metadata": {},
     "outputs": []
    },
    {
     "cell_type": "code",
     "collapsed": false,
     "input": [
      "plot(a.sweep_primary_package_temperature,1/a.Q_i,'.-')\n",
      "plot(b.sweep_primary_package_temperature,1/b.Q_i,'.-')\n",
      "#ylim(77.45,77.55)\n",
      "ylim(1e-7,1e-5)"
     ],
     "language": "python",
     "metadata": {},
     "outputs": []
    },
    {
     "cell_type": "code",
     "collapsed": false,
     "input": [
      "def delta(nqp,N0=1.72e10/1.6e-19,delta0=1.76*1.46*1.38e-23):\n",
      "    return (delta0*N0+np.sqrt(delta0**2 * N0**2 - 2*nqp*delta0*N0))/(2*N0)"
     ],
     "language": "python",
     "metadata": {},
     "outputs": []
    },
    {
     "cell_type": "code",
     "collapsed": false,
     "input": [
      "nqp = np.linspace(1,1e8,1000)\n",
      "plot(nqp,delta(nqp)/(1.76*1.46*1.38e-23))"
     ],
     "language": "python",
     "metadata": {},
     "outputs": []
    },
    {
     "cell_type": "code",
     "collapsed": false,
     "input": [
      "N0=1.72e10/1.6e-19\n",
      "delta0=1.76*1.46*1.38e-23\n",
      "print N0*delta0"
     ],
     "language": "python",
     "metadata": {},
     "outputs": []
    },
    {
     "cell_type": "code",
     "collapsed": false,
     "input": [
      "import scipy.special"
     ],
     "language": "python",
     "metadata": {},
     "outputs": []
    },
    {
     "cell_type": "code",
     "collapsed": false,
     "input": [
      "def s1(T,f0=150e6,Tc=1.46):\n",
      "    delta0 = 1.76*Tc*1.38e-23\n",
      "    xi = 6.626e-34*f0/(2*1.38e-23*T)\n",
      "    return ((delta0/(1.38e-23*T)-xi*np.cosh(xi)/np.sinh(xi)\n",
      "            +xi*scipy.special.k1(xi)/scipy.special.k0(xi)) / \n",
      "            (delta0/(1.38e-23*T)+0.5))"
     ],
     "language": "python",
     "metadata": {},
     "outputs": []
    },
    {
     "cell_type": "code",
     "collapsed": false,
     "input": [
      "def s2(T,f0=150e6,Tc=1.46):\n",
      "    delta0 = 1.76*Tc*1.38e-23\n",
      "    xi = 6.626e-34*f0/(2*1.38e-23*T)\n",
      "    return ((delta0/(1.38e-23*T)+xi\n",
      "            -xi*scipy.special.i1(xi)/scipy.special.i0(xi)) / \n",
      "            (delta0/(1.38e-23*T)+0.5))"
     ],
     "language": "python",
     "metadata": {},
     "outputs": []
    },
    {
     "cell_type": "code",
     "collapsed": false,
     "input": [
      "T = np.linspace(0.05,1)"
     ],
     "language": "python",
     "metadata": {},
     "outputs": []
    },
    {
     "cell_type": "code",
     "collapsed": false,
     "input": [
      "xi0 = 6.626e-34*100e6/(2*1.38e-23*0.1)"
     ],
     "language": "python",
     "metadata": {},
     "outputs": []
    },
    {
     "cell_type": "code",
     "collapsed": false,
     "input": [
      "xi0"
     ],
     "language": "python",
     "metadata": {},
     "outputs": []
    },
    {
     "cell_type": "code",
     "collapsed": false,
     "input": [
      "print 6.626e-34*6e9/(2*1.38e-23*0.1)"
     ],
     "language": "python",
     "metadata": {},
     "outputs": []
    },
    {
     "cell_type": "code",
     "collapsed": false,
     "input": [
      "plot(T,s1(T,f0=100e6))\n",
      "plot(T,s1(T,f0=6e9))\n",
      "plot(T,s2(T,f0=100e6))\n",
      "plot(T,s2(T,f0=6e9))\n"
     ],
     "language": "python",
     "metadata": {},
     "outputs": []
    },
    {
     "cell_type": "code",
     "collapsed": false,
     "input": [
      "import kid_readout.analysis.khalil"
     ],
     "language": "python",
     "metadata": {},
     "outputs": []
    },
    {
     "cell_type": "code",
     "collapsed": false,
     "input": [
      "loglog(sc1.Q_i,\n",
      "         kid_readout.analysis.khalil.qi_error(sc1.Q, sc1.Q_err, sc1.Q_e_real, sc1.Q_e_real_err, sc1.Q_e_imag,sc1.Q_e_imag_err)/sc1.Q_i,\n",
      "         '.',alpha=0.1)\n",
      "xlim(1e4,1e7)"
     ],
     "language": "python",
     "metadata": {},
     "outputs": []
    },
    {
     "cell_type": "code",
     "collapsed": false,
     "input": [
      "r0 = hpdled[(hpdled.resonator_id==0) & (np.abs(hpdled.sweep_primary_package_temperature-.162) < 0.003)&(hpdled.atten==45)\n",
      "            &(hpdled.Q_i>0)]"
     ],
     "language": "python",
     "metadata": {},
     "outputs": []
    },
    {
     "cell_type": "code",
     "collapsed": false,
     "input": [
      "plot(r0.f_0,r0.zbd_voltage,'.')"
     ],
     "language": "python",
     "metadata": {},
     "outputs": []
    },
    {
     "cell_type": "code",
     "collapsed": false,
     "input": [
      "plot(r0.timestream_modulation_duty_cycle)"
     ],
     "language": "python",
     "metadata": {},
     "outputs": []
    },
    {
     "cell_type": "code",
     "collapsed": false,
     "input": [
      "plot(r0.sweep_primary_package_temperature)"
     ],
     "language": "python",
     "metadata": {},
     "outputs": []
    },
    {
     "cell_type": "code",
     "collapsed": false,
     "input": [
      "r0a = hpddark[(hpddark.resonator_id==0) & (hpddark.atten==37)]\n",
      "r0b = sc1dark[(sc1dark.resonator_id==0) & (sc1dark.atten==36)]"
     ],
     "language": "python",
     "metadata": {},
     "outputs": []
    },
    {
     "cell_type": "code",
     "collapsed": false,
     "input": [
      "plot(r0a.sweep_primary_package_temperature,r0a.f_0,'.')\n",
      "plot(r0b.sweep_primary_package_temperature,r0b.f_0,'.')\n",
      "#ylim(103.4,103.55)"
     ],
     "language": "python",
     "metadata": {},
     "outputs": []
    },
    {
     "cell_type": "code",
     "collapsed": false,
     "input": [
      "r0a['segment']=1\n",
      "r0b['segment']=2\n",
      "testset = pd.concat((r0a,r0b),ignore_index=True)\n",
      "testset['Q_i_err'] = kid_readout.analysis.khalil.qi_error(testset.Q, testset.Q_err,\n",
      "                                                          testset.Q_e_real, testset.Q_e_real_err,\n",
      "                                                          testset.Q_e_imag, testset.Q_e_imag_err\n",
      "                                                          )\n",
      "testset = testset[(testset.f_0_err>0) & (testset.Q_i_err>0) & (testset.sweep_primary_package_temperature < 0.45)\n",
      "                  &(testset.sweep_primary_package_temperature>0.1)\n",
      "                  &(testset.Q_i < 2e6)\n",
      "                  &(testset.Q_i>0)]"
     ],
     "language": "python",
     "metadata": {},
     "outputs": []
    },
    {
     "cell_type": "code",
     "collapsed": false,
     "input": [
      "testset.Q_i_err.min()"
     ],
     "language": "python",
     "metadata": {},
     "outputs": []
    },
    {
     "cell_type": "code",
     "collapsed": false,
     "input": [
      "testset.atten.value_counts()"
     ],
     "language": "python",
     "metadata": {},
     "outputs": []
    },
    {
     "cell_type": "code",
     "collapsed": false,
     "input": [
      "testset.f_0_err.min()"
     ],
     "language": "python",
     "metadata": {},
     "outputs": []
    },
    {
     "cell_type": "code",
     "collapsed": false,
     "input": [
      "import kid_readout.analysis.global_kid_model\n",
      "reload(kid_readout.analysis.global_kid_model)"
     ],
     "language": "python",
     "metadata": {},
     "outputs": []
    },
    {
     "cell_type": "code",
     "collapsed": false,
     "input": [
      "km = kid_readout.analysis.global_kid_model.DarkMultisegment(testset,Cg=1.12*2.7e-11,qi_err_scale=1e-4, sigma_n=1.25e7)\n",
      "km.params['Cg'].vary = True\n",
      "km.params['Cg'].min=2.6e-11\n",
      "km.params['Cg'].max = 4e-11"
     ],
     "language": "python",
     "metadata": {},
     "outputs": []
    },
    {
     "cell_type": "code",
     "collapsed": false,
     "input": [
      "import lmfit"
     ],
     "language": "python",
     "metadata": {},
     "outputs": []
    },
    {
     "cell_type": "code",
     "collapsed": false,
     "input": [
      "km.params"
     ],
     "language": "python",
     "metadata": {},
     "outputs": []
    },
    {
     "cell_type": "code",
     "collapsed": false,
     "input": [
      "km.f0_qi(np.array([0.1]),np.array([1]))"
     ],
     "language": "python",
     "metadata": {},
     "outputs": []
    },
    {
     "cell_type": "code",
     "collapsed": false,
     "input": [
      "res = lmfit.minimize(km.f0_qi_resid,km.params,method='lbfsgb')"
     ],
     "language": "python",
     "metadata": {},
     "outputs": []
    },
    {
     "cell_type": "code",
     "collapsed": false,
     "input": [
      "lmfit.report_fit(km.params)"
     ],
     "language": "python",
     "metadata": {},
     "outputs": []
    },
    {
     "cell_type": "code",
     "collapsed": false,
     "input": [
      "res.message"
     ],
     "language": "python",
     "metadata": {},
     "outputs": []
    },
    {
     "cell_type": "code",
     "collapsed": false,
     "input": [
      "res.nfev"
     ],
     "language": "python",
     "metadata": {},
     "outputs": []
    },
    {
     "cell_type": "code",
     "collapsed": false,
     "input": [
      "res.success"
     ],
     "language": "python",
     "metadata": {},
     "outputs": []
    },
    {
     "cell_type": "code",
     "collapsed": false,
     "input": [
      "res.values"
     ],
     "language": "python",
     "metadata": {},
     "outputs": []
    },
    {
     "cell_type": "code",
     "collapsed": false,
     "input": [
      "(res.params['delta_meV'].value*1.6e-19/1e3)/(1.76*1.38e-23)"
     ],
     "language": "python",
     "metadata": {},
     "outputs": []
    },
    {
     "cell_type": "code",
     "collapsed": false,
     "input": [
      "1/(1.25e7*2e-8)"
     ],
     "language": "python",
     "metadata": {},
     "outputs": []
    },
    {
     "cell_type": "code",
     "collapsed": false,
     "input": [
      "res.params['delta_meV']"
     ],
     "language": "python",
     "metadata": {},
     "outputs": []
    },
    {
     "cell_type": "code",
     "collapsed": false,
     "input": [
      "#km.params['chi_L_1'].value=1e-2\n",
      "f0,qi  = km.f0_qi(testset.sweep_primary_package_temperature,testset.segment.values)"
     ],
     "language": "python",
     "metadata": {},
     "outputs": []
    },
    {
     "cell_type": "code",
     "collapsed": false,
     "input": [
      "plot(f0,1/qi,'.')\n",
      "plot(testset.f_0*1e6,1/testset.Q_i,'x')\n",
      "yscale('log')"
     ],
     "language": "python",
     "metadata": {},
     "outputs": []
    },
    {
     "cell_type": "code",
     "collapsed": false,
     "input": [
      "semilogy(testset.sweep_primary_package_temperature,qi,'.')\n",
      "semilogy(testset.sweep_primary_package_temperature,testset.Q_i,'x')"
     ],
     "language": "python",
     "metadata": {},
     "outputs": []
    },
    {
     "cell_type": "code",
     "collapsed": false,
     "input": [
      "loglog(testset.Q_i,testset.Q_e_real/testset.Q_e_real_err,'.')"
     ],
     "language": "python",
     "metadata": {},
     "outputs": []
    },
    {
     "cell_type": "code",
     "collapsed": false,
     "input": [
      "semilogy(testset.Q_i_err)"
     ],
     "language": "python",
     "metadata": {},
     "outputs": []
    },
    {
     "cell_type": "code",
     "collapsed": false,
     "input": [
      "semilogy(testset.sweep_primary_package_temperature,qi,'.')\n",
      "errorbar(testset.sweep_primary_package_temperature,testset.Q_i,yerr=testset.Q_i_err,linestyle='')"
     ],
     "language": "python",
     "metadata": {},
     "outputs": []
    },
    {
     "cell_type": "code",
     "collapsed": false,
     "input": [
      "plot(testset.sweep_primary_package_temperature,f0/1e6,'.')\n",
      "errorbar(testset.sweep_primary_package_temperature,testset.f_0,yerr=testset.f_0_err*1e2,linestyle='')\n",
      "ylim(77.3,77.55)"
     ],
     "language": "python",
     "metadata": {},
     "outputs": []
    },
    {
     "cell_type": "code",
     "collapsed": false,
     "input": [
      "resid = (km.f0_qi_resid(km.params))\n",
      "f0resid = resid[:len(resid)/2]\n",
      "qiresid = resid[len(resid)/2:]\n",
      "semilogy(testset.sweep_primary_package_temperature,abs(f0resid/(testset.f_0_err*1e6)),'.')\n",
      "semilogy(testset.sweep_primary_package_temperature,abs(qiresid/(testset.Q_i_err*km.qi_err_scale)),'.')\n"
     ],
     "language": "python",
     "metadata": {},
     "outputs": []
    },
    {
     "cell_type": "code",
     "collapsed": false,
     "input": [
      "semilogy(testset.sweep_primary_package_temperature,km.qi_err_scale*testset.Q_i_err/testset.Q_i,'.')\n",
      "semilogy(testset.sweep_primary_package_temperature,testset.f_0_err/testset.f_0,'.')"
     ],
     "language": "python",
     "metadata": {},
     "outputs": []
    },
    {
     "cell_type": "code",
     "collapsed": false,
     "input": [
      "plot(testset.sweep_primary_package_temperature)"
     ],
     "language": "python",
     "metadata": {},
     "outputs": []
    },
    {
     "cell_type": "code",
     "collapsed": false,
     "input": [
      "testset[18:22].atten"
     ],
     "language": "python",
     "metadata": {},
     "outputs": []
    },
    {
     "cell_type": "code",
     "collapsed": false,
     "input": [
      "testset.power_dbm.value_counts()"
     ],
     "language": "python",
     "metadata": {},
     "outputs": []
    },
    {
     "cell_type": "code",
     "collapsed": false,
     "input": [
      "testset.atten.value_counts()"
     ],
     "language": "python",
     "metadata": {},
     "outputs": []
    },
    {
     "cell_type": "code",
     "collapsed": false,
     "input": [
      "plot(testset.atten,testset.power_dbm,'.')"
     ],
     "language": "python",
     "metadata": {},
     "outputs": []
    },
    {
     "cell_type": "code",
     "collapsed": false,
     "input": [
      "testset[testset.atten==36].segment"
     ],
     "language": "python",
     "metadata": {},
     "outputs": []
    },
    {
     "cell_type": "code",
     "collapsed": false,
     "input": [
      "r0 = hpddark[(hpddark.resonator_id>0) & (np.abs(hpddark.sweep_primary_package_temperature-0.162) < 0.02)]"
     ],
     "language": "python",
     "metadata": {},
     "outputs": []
    },
    {
     "cell_type": "code",
     "collapsed": false,
     "input": [
      "semilogy(r0.power_dbm, r0.noise_fit_device_noise,'.')\n",
      "#semilogy(r0.power_dbm, r0.noise_fit_amplifier_noise,'.')\n",
      "a = np.linspace(-118,-100,1000)\n",
      "semilogy(a,1e-23/np.sqrt(10**(a/10)))\n",
      "ylim(5e-19,1e-17)"
     ],
     "language": "python",
     "metadata": {},
     "outputs": []
    },
    {
     "cell_type": "code",
     "collapsed": false,
     "input": [
      "r0a = hpddark[(hpddark.resonator_id==0) & (hpddark.atten==37)]\n",
      "r0b = sc1dark[(sc1dark.resonator_id==0) & (sc1dark.atten==36)]\n",
      "r0c = sc2a[(sc2a.resonator_id==0) & (sc2a.sweep_primary_package_temperature>0.2) & (sc2a.sweep_primary_load_temperature<5.0)\n",
      "           &(sc2a.timestream_modulation_duty_cycle==1) &(sc2a.f_0<77.6)\n",
      "           &(sc2a.sweep_epoch < time.mktime(time.strptime('2014-09-28','%Y-%m-%d')))]\n",
      "r0a['segment']=1\n",
      "r0b['segment']=2\n",
      "r0c['segment']=3\n",
      "testset = pd.concat((r0a,r0b,r0c),ignore_index=True)\n",
      "testset['Q_i_err'] = kid_readout.analysis.khalil.qi_error(testset.Q, testset.Q_err,\n",
      "                                                          testset.Q_e_real, testset.Q_e_real_err,\n",
      "                                                          testset.Q_e_imag, testset.Q_e_imag_err\n",
      "                                                          )\n",
      "testset = testset[(testset.f_0_err>0) & (testset.Q_i_err>0) & (testset.sweep_primary_package_temperature < 0.45)\n",
      "                  &(testset.sweep_primary_package_temperature>0.1)\n",
      "                  &(testset.Q_i < 2e6)\n",
      "                  &(testset.Q_i>0)]"
     ],
     "language": "python",
     "metadata": {},
     "outputs": []
    },
    {
     "cell_type": "code",
     "collapsed": false,
     "input": [
      "plot(testset.sweep_primary_package_temperature,testset.Q_i,'.')\n",
      "plot(r0c.sweep_primary_package_temperature,r0c.Q_i,'.')\n",
      "#xlim(0.16,0.165)"
     ],
     "language": "python",
     "metadata": {},
     "outputs": []
    },
    {
     "cell_type": "code",
     "collapsed": false,
     "input": [
      "plot(testset.sweep_primary_package_temperature,testset.f_0,'.')"
     ],
     "language": "python",
     "metadata": {},
     "outputs": []
    },
    {
     "cell_type": "code",
     "collapsed": false,
     "input": [
      "km = kid_readout.analysis.global_kid_model.DarkMultisegment(testset,Cg=1.12*2.7e-11,qi_err_scale=1e-2, sigma_n=1.25e7)\n",
      "km.params['Cg'].vary = True\n",
      "km.params['Cg'].min=2.6e-11\n",
      "km.params['Cg'].max = 4e-11"
     ],
     "language": "python",
     "metadata": {},
     "outputs": []
    },
    {
     "cell_type": "code",
     "collapsed": false,
     "input": [
      "res = lmfit.minimize(km.f0_qi_resid,km.params,method='anneal')"
     ],
     "language": "python",
     "metadata": {},
     "outputs": []
    },
    {
     "cell_type": "code",
     "collapsed": false,
     "input": [
      "lmfit.report_fit(res)"
     ],
     "language": "python",
     "metadata": {},
     "outputs": []
    },
    {
     "cell_type": "code",
     "collapsed": false,
     "input": [
      "f0,qi  = km.f0_qi(testset.sweep_primary_package_temperature,testset.segment.values)"
     ],
     "language": "python",
     "metadata": {},
     "outputs": []
    },
    {
     "cell_type": "code",
     "collapsed": false,
     "input": [
      "semilogy(testset.sweep_primary_package_temperature,qi,'.')\n",
      "errorbar(testset.sweep_primary_package_temperature,testset.Q_i,yerr=testset.Q_i_err,linestyle='',marker='x')"
     ],
     "language": "python",
     "metadata": {},
     "outputs": []
    },
    {
     "cell_type": "code",
     "collapsed": false,
     "input": [
      "plot(f0,1/qi,'.')\n",
      "plot(r0a.f_0*1e6,1/r0a.Q_i,'x')\n",
      "plot(r0b.f_0*1e6,1/r0b.Q_i,'x')\n",
      "#plot(r0c.f_0*1e6,1/r0c.Q_i,'x')\n",
      "plot(testset.f_0*1e6,1/testset.Q_i,'v')\n",
      "xlim(77.35e6,77.55e6)\n",
      "ylim(0,4e-5)"
     ],
     "language": "python",
     "metadata": {},
     "outputs": []
    },
    {
     "cell_type": "code",
     "collapsed": false,
     "input": [
      "plot(testset.Q_err,'.')\n"
     ],
     "language": "python",
     "metadata": {},
     "outputs": []
    },
    {
     "cell_type": "code",
     "collapsed": false,
     "input": [
      "plot(r0c.sweep_epoch,'.')"
     ],
     "language": "python",
     "metadata": {},
     "outputs": []
    },
    {
     "cell_type": "code",
     "collapsed": false,
     "input": [
      "plot(sc2a.sweep_epoch,sc2a.sweep_primary_load_temperature,'.')\n",
      "plot(sc2b.sweep_epoch,sc2b.sweep_primary_load_temperature,'.')\n",
      "ax = gca()\n",
      "ax.axvline(time.mktime(time.strptime('2014-09-28','%Y-%m-%d')))"
     ],
     "language": "python",
     "metadata": {},
     "outputs": []
    },
    {
     "cell_type": "code",
     "collapsed": false,
     "input": [
      "(~np.isfinite(sc2a.sweep_primary_load_temperature)).sum()"
     ],
     "language": "python",
     "metadata": {},
     "outputs": []
    },
    {
     "cell_type": "code",
     "collapsed": false,
     "input": [
      "for k,row in r0b.iterrows():\n",
      "    plot(row.sweep_freqs_MHz,abs(row.sweep_s21),'.-')\n",
      "xlim(77.45,77.6)"
     ],
     "language": "python",
     "metadata": {},
     "outputs": []
    },
    {
     "cell_type": "code",
     "collapsed": false,
     "input": [],
     "language": "python",
     "metadata": {},
     "outputs": []
    }
   ],
   "metadata": {}
  }
 ]
}