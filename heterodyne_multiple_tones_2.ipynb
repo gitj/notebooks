{
 "metadata": {
  "name": "heterodyne_multiple_tones_2"
 },
 "nbformat": 3,
 "nbformat_minor": 0,
 "worksheets": [
  {
   "cells": [
    {
     "cell_type": "heading",
     "level": 1,
     "metadata": {},
     "source": [
      "Multiple tones tutorial #2"
     ]
    },
    {
     "cell_type": "heading",
     "level": 3,
     "metadata": {},
     "source": [
      "Setup"
     ]
    },
    {
     "cell_type": "markdown",
     "metadata": {},
     "source": [
      "Let's set things up as before:"
     ]
    },
    {
     "cell_type": "code",
     "collapsed": false,
     "input": [
      "import time\n",
      "from kid_readout.utils import roach_interface"
     ],
     "language": "python",
     "metadata": {},
     "outputs": [],
     "prompt_number": 1
    },
    {
     "cell_type": "code",
     "collapsed": false,
     "input": [
      "ri = roach_interface.RoachHeterodyne()"
     ],
     "language": "python",
     "metadata": {},
     "outputs": [],
     "prompt_number": 2
    },
    {
     "cell_type": "code",
     "collapsed": false,
     "input": [
      "ri.initialize()"
     ],
     "language": "python",
     "metadata": {},
     "outputs": [
      {
       "output_type": "stream",
       "stream": "stdout",
       "text": [
        "Deprogramming\n",
        "Programming"
       ]
      },
      {
       "output_type": "stream",
       "stream": "stdout",
       "text": [
        " iq2xpfb14mcr4_2013_Aug_02_1446.bof\n",
        "Requested sampling rate 512.0 MHz. Estimated sampling rate 512.9 MHz"
       ]
      },
      {
       "output_type": "stream",
       "stream": "stdout",
       "text": [
        "\n"
       ]
      }
     ],
     "prompt_number": 3
    },
    {
     "cell_type": "code",
     "collapsed": false,
     "input": [
      "ri.set_dac_attenuator(57)"
     ],
     "language": "python",
     "metadata": {},
     "outputs": [],
     "prompt_number": 4
    },
    {
     "cell_type": "code",
     "collapsed": false,
     "input": [
      "ri.set_adc_attenuator(20)"
     ],
     "language": "python",
     "metadata": {},
     "outputs": [],
     "prompt_number": 5
    },
    {
     "cell_type": "code",
     "collapsed": false,
     "input": [
      "freqs=ri.set_tone_freqs(np.linspace(1,220,256),nsamp=2**20)"
     ],
     "language": "python",
     "metadata": {},
     "outputs": [
      {
       "output_type": "stream",
       "stream": "stdout",
       "text": [
        "\n"
       ]
      }
     ],
     "prompt_number": 6
    },
    {
     "cell_type": "markdown",
     "metadata": {},
     "source": [
      "As always, take a look to make sure things seem ok:"
     ]
    },
    {
     "cell_type": "code",
     "collapsed": false,
     "input": [
      "x,y = ri.get_raw_adc()"
     ],
     "language": "python",
     "metadata": {},
     "outputs": [],
     "prompt_number": 7
    },
    {
     "cell_type": "code",
     "collapsed": false,
     "input": [
      "x.ptp() # check the peak to peak values quickly, if you get > 4000, the ADC is likely overloaded"
     ],
     "language": "python",
     "metadata": {},
     "outputs": [
      {
       "output_type": "pyout",
       "prompt_number": 9,
       "text": [
        "2034.0"
       ]
      }
     ],
     "prompt_number": 9
    },
    {
     "cell_type": "code",
     "collapsed": false,
     "input": [
      "psd(x+1j*y,NFFT=4096,Fs=512.0)"
     ],
     "language": "python",
     "metadata": {},
     "outputs": [
      {
       "output_type": "pyout",
       "prompt_number": 10,
       "text": [
        "(array([ 1.41668994,  0.21861778,  0.3211296 , ...,  4.10170468,\n",
        "        4.67319844,  1.93677961]),\n",
        " array([-256.   , -255.875, -255.75 , ...,  255.625,  255.75 ,  255.875]))"
       ]
      },
      {
       "output_type": "display_data",
       "png": "[encoded data removed]"
      }
     ],
     "prompt_number": 10
    },
    {
     "cell_type": "markdown",
     "metadata": {},
     "source": [
      "Now let's do the same basic sweep we did last time, but add some synchronization to see if the phase looks better"
     ]
    },
    {
     "cell_type": "code",
     "collapsed": false,
     "input": [
      "tones = []\n",
      "data = []\n",
      "for k in range(len(ri.tone_bins)/4):\n",
      "    ri.select_fft_bins(range(k*4,(k+1)*4))\n",
      "    ri._sync() ### This is new\n",
      "    time.sleep(0.1) #sleep for a moment for the data to become fresh. could do this smarter, but this works\n",
      "    d,addr = ri.get_data(2)\n",
      "    data.append(d)\n",
      "    tones.append(ri.tone_bins[ri.readout_selection])\n",
      "data = np.concatenate(data,axis=1)  #stack all the data into one numpy array with axes time,channel\n",
      "tones = np.concatenate(tones) #stack the tones into one long array\n",
      "davg = data.mean(0) #compute the average of the data along the time axis for convenience"
     ],
     "language": "python",
     "metadata": {},
     "outputs": [
      {
       "output_type": "stream",
       "stream": "stdout",
       "text": [
        "\r",
        " got 0"
       ]
      },
      {
       "output_type": "stream",
       "stream": "stdout",
       "text": [
        " \r",
        " got 1"
       ]
      },
      {
       "output_type": "stream",
       "stream": "stdout",
       "text": [
        " \r",
        "read 2 in 0.1 seconds, 123494.45 samples per second, idle 22.50 per read\n",
        "0\n",
        "\r",
        " got 0"
       ]
      },
      {
       "output_type": "stream",
       "stream": "stdout",
       "text": [
        " \r",
        " got 1"
       ]
      },
      {
       "output_type": "stream",
       "stream": "stdout",
       "text": [
        " \r",
        "read 2 in 0.1 seconds, 124534.22 samples per second, idle 12.00 per read\n",
        "0\n",
        "\r",
        " got 0"
       ]
      },
      {
       "output_type": "stream",
       "stream": "stdout",
       "text": [
        " \r",
        " got 1"
       ]
      },
      {
       "output_type": "stream",
       "stream": "stdout",
       "text": [
        " \r",
        "read 2 in 0.1 seconds, 123971.22 samples per second, idle 13.50 per read\n",
        "0\n",
        "\r",
        " got 0"
       ]
      },
      {
       "output_type": "stream",
       "stream": "stdout",
       "text": [
        " \r",
        " got 1"
       ]
      },
      {
       "output_type": "stream",
       "stream": "stdout",
       "text": [
        " \r",
        "read 2 in 0.1 seconds, 123841.64 samples per second, idle 14.00 per read\n",
        "0\n",
        "\r",
        " got 0"
       ]
      },
      {
       "output_type": "stream",
       "stream": "stdout",
       "text": [
        " \r",
        " got 1"
       ]
      },
      {
       "output_type": "stream",
       "stream": "stdout",
       "text": [
        " \r",
        "read 2 in 0.1 seconds, 122951.35 samples per second, idle 14.00 per read\n",
        "0\n",
        "\r",
        " got 0"
       ]
      },
      {
       "output_type": "stream",
       "stream": "stdout",
       "text": [
        " \r",
        " got 1"
       ]
      },
      {
       "output_type": "stream",
       "stream": "stdout",
       "text": [
        " \r",
        "read 2 in 0.1 seconds, 124098.83 samples per second, idle 14.00 per read\n",
        "0\n",
        "\r",
        " got 0"
       ]
      },
      {
       "output_type": "stream",
       "stream": "stdout",
       "text": [
        " \r",
        " got 1"
       ]
      },
      {
       "output_type": "stream",
       "stream": "stdout",
       "text": [
        " \r",
        "read 2 in 0.1 seconds, 123658.46 samples per second, idle 12.50 per read\n",
        "0\n",
        "\r",
        " got 0"
       ]
      },
      {
       "output_type": "stream",
       "stream": "stdout",
       "text": [
        " \r",
        " got 1"
       ]
      },
      {
       "output_type": "stream",
       "stream": "stdout",
       "text": [
        " \r",
        "read 2 in 0.1 seconds, 124496.32 samples per second, idle 45.50 per read\n",
        "0\n",
        "\r",
        " got 0"
       ]
      },
      {
       "output_type": "stream",
       "stream": "stdout",
       "text": [
        " \r",
        " got 1"
       ]
      },
      {
       "output_type": "stream",
       "stream": "stdout",
       "text": [
        " \r",
        "read 2 in 0.1 seconds, 123920.25 samples per second, idle 35.00 per read\n",
        "0\n",
        "\r",
        " got 0"
       ]
      },
      {
       "output_type": "stream",
       "stream": "stdout",
       "text": [
        " \r",
        " got 1"
       ]
      },
      {
       "output_type": "stream",
       "stream": "stdout",
       "text": [
        " \r",
        "read 2 in 0.1 seconds, 121930.38 samples per second, idle 16.00 per read\n",
        "0\n",
        "\r",
        " got 0"
       ]
      },
      {
       "output_type": "stream",
       "stream": "stdout",
       "text": [
        " \r",
        " got 1"
       ]
      },
      {
       "output_type": "stream",
       "stream": "stdout",
       "text": [
        " \r",
        "read 2 in 0.1 seconds, 125292.59 samples per second, idle 11.50 per read\n",
        "0\n",
        "\r",
        " got 0"
       ]
      },
      {
       "output_type": "stream",
       "stream": "stdout",
       "text": [
        " \r",
        " got 1"
       ]
      },
      {
       "output_type": "stream",
       "stream": "stdout",
       "text": [
        " \r",
        "read 2 in 0.1 seconds, 124066.56 samples per second, idle 13.00 per read\n",
        "0\n",
        "\r",
        " got 0"
       ]
      },
      {
       "output_type": "stream",
       "stream": "stdout",
       "text": [
        " \r",
        " got 1"
       ]
      },
      {
       "output_type": "stream",
       "stream": "stdout",
       "text": [
        " \r",
        "read 2 in 0.1 seconds, 124447.62 samples per second, idle 30.00 per read\n",
        "0\n",
        "\r",
        " got 0"
       ]
      },
      {
       "output_type": "stream",
       "stream": "stdout",
       "text": [
        " \r",
        " got 1"
       ]
      },
      {
       "output_type": "stream",
       "stream": "stdout",
       "text": [
        " \r",
        "read 2 in 0.1 seconds, 124398.06 samples per second, idle 43.00 per read\n",
        "0\n",
        "\r",
        " got 0"
       ]
      },
      {
       "output_type": "stream",
       "stream": "stdout",
       "text": [
        " \r",
        " got 1"
       ]
      },
      {
       "output_type": "stream",
       "stream": "stdout",
       "text": [
        " \r",
        "read 2 in 0.1 seconds, 122914.40 samples per second, idle 42.50 per read\n",
        "0\n",
        "\r",
        " got 0"
       ]
      },
      {
       "output_type": "stream",
       "stream": "stdout",
       "text": [
        " \r",
        " got 1"
       ]
      },
      {
       "output_type": "stream",
       "stream": "stdout",
       "text": [
        " \r",
        "read 2 in 0.1 seconds, 123193.37 samples per second, idle 18.50 per read\n",
        "0\n",
        "\r",
        " got 0"
       ]
      },
      {
       "output_type": "stream",
       "stream": "stdout",
       "text": [
        " \r",
        " got 1"
       ]
      },
      {
       "output_type": "stream",
       "stream": "stdout",
       "text": [
        " \r",
        "read 2 in 0.1 seconds, 124272.08 samples per second, idle 17.00 per read\n",
        "0\n",
        "\r",
        " got 0"
       ]
      },
      {
       "output_type": "stream",
       "stream": "stdout",
       "text": [
        " \r",
        " got 1"
       ]
      },
      {
       "output_type": "stream",
       "stream": "stdout",
       "text": [
        " \r",
        "read 2 in 0.1 seconds, 124781.15 samples per second, idle 19.00 per read\n",
        "0\n",
        "\r",
        " got 0"
       ]
      },
      {
       "output_type": "stream",
       "stream": "stdout",
       "text": [
        " \r",
        " got 1"
       ]
      },
      {
       "output_type": "stream",
       "stream": "stdout",
       "text": [
        " \r",
        "read 2 in 0.1 seconds, 125883.83 samples per second, idle 23.00 per read\n",
        "0\n",
        "\r",
        " got 0"
       ]
      },
      {
       "output_type": "stream",
       "stream": "stdout",
       "text": [
        " \r",
        " got 1"
       ]
      },
      {
       "output_type": "stream",
       "stream": "stdout",
       "text": [
        " \r",
        "read 2 in 0.1 seconds, 125850.63 samples per second, idle 30.50 per read\n",
        "0\n",
        "\r",
        " got 0"
       ]
      },
      {
       "output_type": "stream",
       "stream": "stdout",
       "text": [
        " \r",
        " got 1"
       ]
      },
      {
       "output_type": "stream",
       "stream": "stdout",
       "text": [
        " \r",
        "read 2 in 0.1 seconds, 123380.93 samples per second, idle 15.50 per read\n",
        "0\n",
        "\r",
        " got 0"
       ]
      },
      {
       "output_type": "stream",
       "stream": "stdout",
       "text": [
        " \r",
        " got 1"
       ]
      },
      {
       "output_type": "stream",
       "stream": "stdout",
       "text": [
        " \r",
        "read 2 in 0.1 seconds, 124348.98 samples per second, idle 45.00 per read\n",
        "0\n",
        "\r",
        " got 0"
       ]
      },
      {
       "output_type": "stream",
       "stream": "stdout",
       "text": [
        " \r",
        " got 1"
       ]
      },
      {
       "output_type": "stream",
       "stream": "stdout",
       "text": [
        " \r",
        "read 2 in 0.1 seconds, 123025.31 samples per second, idle 19.00 per read\n",
        "0\n",
        "\r",
        " got 0"
       ]
      },
      {
       "output_type": "stream",
       "stream": "stdout",
       "text": [
        " \r",
        " got 1"
       ]
      },
      {
       "output_type": "stream",
       "stream": "stdout",
       "text": [
        " \r",
        "read 2 in 0.1 seconds, 124400.31 samples per second, idle 21.50 per read\n",
        "0\n",
        "\r",
        " got 0"
       ]
      },
      {
       "output_type": "stream",
       "stream": "stdout",
       "text": [
        " \r",
        " got 1"
       ]
      },
      {
       "output_type": "stream",
       "stream": "stdout",
       "text": [
        " \r",
        "read 2 in 0.1 seconds, 124661.18 samples per second, idle 16.50 per read\n",
        "0\n",
        "\r",
        " got 0"
       ]
      },
      {
       "output_type": "stream",
       "stream": "stdout",
       "text": [
        " \r",
        " got 1"
       ]
      },
      {
       "output_type": "stream",
       "stream": "stdout",
       "text": [
        " \r",
        "read 2 in 0.1 seconds, 123892.54 samples per second, idle 18.00 per read\n",
        "0\n",
        "\r",
        " got 0"
       ]
      },
      {
       "output_type": "stream",
       "stream": "stdout",
       "text": [
        " \r",
        " got 1"
       ]
      },
      {
       "output_type": "stream",
       "stream": "stdout",
       "text": [
        " \r",
        "read 2 in 0.1 seconds, 125545.75 samples per second, idle 18.50 per read\n",
        "0\n",
        "\r",
        " got 0"
       ]
      },
      {
       "output_type": "stream",
       "stream": "stdout",
       "text": [
        " \r",
        " got 1"
       ]
      },
      {
       "output_type": "stream",
       "stream": "stdout",
       "text": [
        " \r",
        "read 2 in 0.1 seconds, 124811.52 samples per second, idle 28.50 per read\n",
        "0\n",
        "\r",
        " got 0"
       ]
      },
      {
       "output_type": "stream",
       "stream": "stdout",
       "text": [
        " \r",
        " got 1"
       ]
      },
      {
       "output_type": "stream",
       "stream": "stdout",
       "text": [
        " \r",
        "read 2 in 0.1 seconds, 124763.94 samples per second, idle 45.00 per read\n",
        "0\n",
        "\r",
        " got 0"
       ]
      },
      {
       "output_type": "stream",
       "stream": "stdout",
       "text": [
        " \r",
        " got 1"
       ]
      },
      {
       "output_type": "stream",
       "stream": "stdout",
       "text": [
        " \r",
        "read 2 in 0.1 seconds, 123353.02 samples per second, idle 17.50 per read\n",
        "0\n",
        "\r",
        " got 0"
       ]
      },
      {
       "output_type": "stream",
       "stream": "stdout",
       "text": [
        " \r",
        " got 1"
       ]
      },
      {
       "output_type": "stream",
       "stream": "stdout",
       "text": [
        " \r",
        "read 2 in 0.1 seconds, 122008.32 samples per second, idle 19.50 per read\n",
        "0\n",
        "\r",
        " got 0"
       ]
      },
      {
       "output_type": "stream",
       "stream": "stdout",
       "text": [
        " \r",
        " got 1"
       ]
      },
      {
       "output_type": "stream",
       "stream": "stdout",
       "text": [
        " \r",
        "read 2 in 0.1 seconds, 121968.47 samples per second, idle 19.00 per read\n",
        "0\n",
        "\r",
        " got 0"
       ]
      },
      {
       "output_type": "stream",
       "stream": "stdout",
       "text": [
        " \r",
        " got 1"
       ]
      },
      {
       "output_type": "stream",
       "stream": "stdout",
       "text": [
        " \r",
        "read 2 in 0.1 seconds, 124821.04 samples per second, idle 27.50 per read\n",
        "0\n",
        "\r",
        " got 0"
       ]
      },
      {
       "output_type": "stream",
       "stream": "stdout",
       "text": [
        " \r",
        " got 1"
       ]
      },
      {
       "output_type": "stream",
       "stream": "stdout",
       "text": [
        " \r",
        "read 2 in 0.1 seconds, 123226.94 samples per second, idle 20.00 per read\n",
        "0\n",
        "\r",
        " got 0"
       ]
      },
      {
       "output_type": "stream",
       "stream": "stdout",
       "text": [
        " \r",
        " got 1"
       ]
      },
      {
       "output_type": "stream",
       "stream": "stdout",
       "text": [
        " \r",
        "read 2 in 0.1 seconds, 123828.69 samples per second, idle 17.50 per read\n",
        "0\n",
        "\r",
        " got 0"
       ]
      },
      {
       "output_type": "stream",
       "stream": "stdout",
       "text": [
        " \r",
        " got 1"
       ]
      },
      {
       "output_type": "stream",
       "stream": "stdout",
       "text": [
        " \r",
        "read 2 in 0.1 seconds, 123926.06 samples per second, idle 26.50 per read\n",
        "0\n",
        "\r",
        " got 0"
       ]
      },
      {
       "output_type": "stream",
       "stream": "stdout",
       "text": [
        " \r",
        " got 1"
       ]
      },
      {
       "output_type": "stream",
       "stream": "stdout",
       "text": [
        " \r",
        "read 2 in 0.1 seconds, 122754.12 samples per second, idle 42.00 per read\n",
        "0\n",
        "\r",
        " got 0"
       ]
      },
      {
       "output_type": "stream",
       "stream": "stdout",
       "text": [
        " \r",
        " got 1"
       ]
      },
      {
       "output_type": "stream",
       "stream": "stdout",
       "text": [
        " \r",
        "read 2 in 0.1 seconds, 122362.00 samples per second, idle 13.00 per read\n",
        "0\n",
        "\r",
        " got 0"
       ]
      },
      {
       "output_type": "stream",
       "stream": "stdout",
       "text": [
        " \r",
        " got 1"
       ]
      },
      {
       "output_type": "stream",
       "stream": "stdout",
       "text": [
        " \r",
        "read 2 in 0.1 seconds, 123865.75 samples per second, idle 19.50 per read\n",
        "0\n",
        "\r",
        " got 0"
       ]
      },
      {
       "output_type": "stream",
       "stream": "stdout",
       "text": [
        " \r",
        " got 1"
       ]
      },
      {
       "output_type": "stream",
       "stream": "stdout",
       "text": [
        " \r",
        "read 2 in 0.1 seconds, 123490.46 samples per second, idle 17.00 per read\n",
        "0\n",
        "\r",
        " got 0"
       ]
      },
      {
       "output_type": "stream",
       "stream": "stdout",
       "text": [
        " \r",
        " got 1"
       ]
      },
      {
       "output_type": "stream",
       "stream": "stdout",
       "text": [
        " \r",
        "read 2 in 0.1 seconds, 123247.28 samples per second, idle 17.00 per read\n",
        "0\n",
        "\r",
        " got 0"
       ]
      },
      {
       "output_type": "stream",
       "stream": "stdout",
       "text": [
        " \r",
        " got 1"
       ]
      },
      {
       "output_type": "stream",
       "stream": "stdout",
       "text": [
        " \r",
        "read 2 in 0.1 seconds, 125279.34 samples per second, idle 34.50 per read\n",
        "0\n",
        "\r",
        " got 0"
       ]
      },
      {
       "output_type": "stream",
       "stream": "stdout",
       "text": [
        " \r",
        " got 1"
       ]
      },
      {
       "output_type": "stream",
       "stream": "stdout",
       "text": [
        " \r",
        "read 2 in 0.1 seconds, 123974.35 samples per second, idle 45.00 per read\n",
        "0\n",
        "\r",
        " got 0"
       ]
      },
      {
       "output_type": "stream",
       "stream": "stdout",
       "text": [
        " \r",
        " got 1"
       ]
      },
      {
       "output_type": "stream",
       "stream": "stdout",
       "text": [
        " \r",
        "read 2 in 0.1 seconds, 124441.76 samples per second, idle 16.00 per read\n",
        "0\n",
        "\r",
        " got 0"
       ]
      },
      {
       "output_type": "stream",
       "stream": "stdout",
       "text": [
        " \r",
        " got 1"
       ]
      },
      {
       "output_type": "stream",
       "stream": "stdout",
       "text": [
        " \r",
        "read 2 in 0.1 seconds, 123716.34 samples per second, idle 15.00 per read\n",
        "0\n",
        "\r",
        " got 0"
       ]
      },
      {
       "output_type": "stream",
       "stream": "stdout",
       "text": [
        " \r",
        " got 1"
       ]
      },
      {
       "output_type": "stream",
       "stream": "stdout",
       "text": [
        " \r",
        "read 2 in 0.1 seconds, 123897.90 samples per second, idle 12.50 per read\n",
        "0\n",
        "\r",
        " got 0"
       ]
      },
      {
       "output_type": "stream",
       "stream": "stdout",
       "text": [
        " \r",
        " got 1"
       ]
      },
      {
       "output_type": "stream",
       "stream": "stdout",
       "text": [
        " \r",
        "read 2 in 0.1 seconds, 123379.16 samples per second, idle 19.50 per read\n",
        "0\n",
        "\r",
        " got 0"
       ]
      },
      {
       "output_type": "stream",
       "stream": "stdout",
       "text": [
        " \r",
        " got 1"
       ]
      },
      {
       "output_type": "stream",
       "stream": "stdout",
       "text": [
        " \r",
        "read 2 in 0.1 seconds, 124272.08 samples per second, idle 12.50 per read\n",
        "0\n",
        "\r",
        " got 0"
       ]
      },
      {
       "output_type": "stream",
       "stream": "stdout",
       "text": [
        " \r",
        " got 1"
       ]
      },
      {
       "output_type": "stream",
       "stream": "stdout",
       "text": [
        " \r",
        "read 2 in 0.1 seconds, 123119.65 samples per second, idle 17.50 per read\n",
        "0\n",
        "\r",
        " got 0"
       ]
      },
      {
       "output_type": "stream",
       "stream": "stdout",
       "text": [
        " \r",
        " got 1"
       ]
      },
      {
       "output_type": "stream",
       "stream": "stdout",
       "text": [
        " \r",
        "read 2 in 0.1 seconds, 125020.88 samples per second, idle 19.50 per read\n",
        "0\n",
        "\r",
        " got 0"
       ]
      },
      {
       "output_type": "stream",
       "stream": "stdout",
       "text": [
        " \r",
        " got 1"
       ]
      },
      {
       "output_type": "stream",
       "stream": "stdout",
       "text": [
        " \r",
        "read 2 in 0.1 seconds, 124767.56 samples per second, idle 45.00 per read\n",
        "0\n",
        "\r",
        " got 0"
       ]
      },
      {
       "output_type": "stream",
       "stream": "stdout",
       "text": [
        " \r",
        " got 1"
       ]
      },
      {
       "output_type": "stream",
       "stream": "stdout",
       "text": [
        " \r",
        "read 2 in 0.1 seconds, 124173.72 samples per second, idle 19.00 per read\n",
        "0\n",
        "\r",
        " got 0"
       ]
      },
      {
       "output_type": "stream",
       "stream": "stdout",
       "text": [
        " \r",
        " got 1"
       ]
      },
      {
       "output_type": "stream",
       "stream": "stdout",
       "text": [
        " \r",
        "read 2 in 0.1 seconds, 123951.99 samples per second, idle 37.00 per read\n",
        "0\n",
        "\r",
        " got 0"
       ]
      },
      {
       "output_type": "stream",
       "stream": "stdout",
       "text": [
        " \r",
        " got 1"
       ]
      },
      {
       "output_type": "stream",
       "stream": "stdout",
       "text": [
        " \r",
        "read 2 in 0.1 seconds, 122554.03 samples per second, idle 28.00 per read\n",
        "0\n",
        "\r",
        " got 0"
       ]
      },
      {
       "output_type": "stream",
       "stream": "stdout",
       "text": [
        " \r",
        " got 1"
       ]
      },
      {
       "output_type": "stream",
       "stream": "stdout",
       "text": [
        " \r",
        "read 2 in 0.1 seconds, 124560.86 samples per second, idle 21.00 per read\n",
        "0\n",
        "\r",
        " got 0"
       ]
      },
      {
       "output_type": "stream",
       "stream": "stdout",
       "text": [
        " \r",
        " got 1"
       ]
      },
      {
       "output_type": "stream",
       "stream": "stdout",
       "text": [
        " \r",
        "read 2 in 0.1 seconds, 125764.03 samples per second, idle 23.00 per read\n",
        "0\n",
        "\r",
        " got 0"
       ]
      },
      {
       "output_type": "stream",
       "stream": "stdout",
       "text": [
        " \r",
        " got 1"
       ]
      },
      {
       "output_type": "stream",
       "stream": "stdout",
       "text": [
        " \r",
        "read 2 in 0.1 seconds, 124748.99 samples per second, idle 45.00 per read\n",
        "0\n",
        "\r",
        " got 0"
       ]
      },
      {
       "output_type": "stream",
       "stream": "stdout",
       "text": [
        " \r",
        " got 1"
       ]
      },
      {
       "output_type": "stream",
       "stream": "stdout",
       "text": [
        " \r",
        "read 2 in 0.1 seconds, 124575.76 samples per second, idle 45.00 per read\n",
        "0\n",
        "\r",
        " got 0"
       ]
      },
      {
       "output_type": "stream",
       "stream": "stdout",
       "text": [
        " \r",
        " got 1"
       ]
      },
      {
       "output_type": "stream",
       "stream": "stdout",
       "text": [
        " \r",
        "read 2 in 0.1 seconds, 122927.16 samples per second, idle 20.50 per read\n",
        "0\n",
        "\r",
        " got 0"
       ]
      },
      {
       "output_type": "stream",
       "stream": "stdout",
       "text": [
        " \r",
        " got 1"
       ]
      },
      {
       "output_type": "stream",
       "stream": "stdout",
       "text": [
        " \r",
        "read 2 in 0.1 seconds, 121492.78 samples per second, idle 21.50 per read\n",
        "0\n",
        "\r",
        " got 0"
       ]
      },
      {
       "output_type": "stream",
       "stream": "stdout",
       "text": [
        " \r",
        " got 1"
       ]
      },
      {
       "output_type": "stream",
       "stream": "stdout",
       "text": [
        " \r",
        "read 2 in 0.1 seconds, 123019.58 samples per second, idle 18.00 per read\n",
        "0\n",
        "\r",
        " got 0"
       ]
      },
      {
       "output_type": "stream",
       "stream": "stdout",
       "text": [
        " \r",
        " got 1"
       ]
      },
      {
       "output_type": "stream",
       "stream": "stdout",
       "text": [
        " \r",
        "read 2 in 0.1 seconds, 123578.40 samples per second, idle 13.50 per read\n",
        "0\n",
        "\r",
        " got 0"
       ]
      },
      {
       "output_type": "stream",
       "stream": "stdout",
       "text": [
        " \r",
        " got 1"
       ]
      },
      {
       "output_type": "stream",
       "stream": "stdout",
       "text": [
        " \r",
        "read 2 in 0.1 seconds, 123337.97 samples per second, idle 23.50 per read\n",
        "0\n",
        "\r",
        " got 0"
       ]
      },
      {
       "output_type": "stream",
       "stream": "stdout",
       "text": [
        " \r",
        " got 1"
       ]
      },
      {
       "output_type": "stream",
       "stream": "stdout",
       "text": [
        " \r",
        "read 2 in 0.1 seconds, 123083.92 samples per second, idle 25.00 per read\n",
        "0\n"
       ]
      }
     ],
     "prompt_number": 11
    },
    {
     "cell_type": "code",
     "collapsed": false,
     "input": [
      "freqs = ri.fs*tones/ri.tone_nsamp  # convert the tone locations to frequencies"
     ],
     "language": "python",
     "metadata": {},
     "outputs": [],
     "prompt_number": 12
    },
    {
     "cell_type": "markdown",
     "metadata": {},
     "source": [
      "First a sanity check, looking at the amplitude again:"
     ]
    },
    {
     "cell_type": "code",
     "collapsed": false,
     "input": [
      "plot(freqs,20*np.log10(np.abs(davg)))  # plot the transmission in dB power\n",
      "xlabel('MHz')\n",
      "ylabel('dB')\n",
      "grid()"
     ],
     "language": "python",
     "metadata": {},
     "outputs": [
      {
       "output_type": "display_data",
       "png": "[encoded data removed]"
      }
     ],
     "prompt_number": 13
    },
    {
     "cell_type": "code",
     "collapsed": false,
     "input": [
      "plot(freqs,np.real(davg))\n",
      "plot(freqs,np.imag(davg))"
     ],
     "language": "python",
     "metadata": {},
     "outputs": [
      {
       "output_type": "pyout",
       "prompt_number": 15,
       "text": [
        "[<matplotlib.lines.Line2D at 0x2cb60d0>]"
       ]
      },
      {
       "output_type": "display_data",
       "png": "[encoded data removed]"
      }
     ],
     "prompt_number": 15
    },
    {
     "cell_type": "markdown",
     "metadata": {},
     "source": [
      "That looks a lot more promising!\n",
      "\n",
      "Take a look at the phase:"
     ]
    },
    {
     "cell_type": "code",
     "collapsed": false,
     "input": [
      "plot(freqs,np.angle(davg))"
     ],
     "language": "python",
     "metadata": {},
     "outputs": [
      {
       "output_type": "pyout",
       "prompt_number": 18,
       "text": [
        "[<matplotlib.lines.Line2D at 0x34ae550>]"
       ]
      },
      {
       "output_type": "display_data",
       "png": "[encoded data removed]"
      }
     ],
     "prompt_number": 18
    },
    {
     "cell_type": "markdown",
     "metadata": {},
     "source": [
      "And unwrap it:"
     ]
    },
    {
     "cell_type": "code",
     "collapsed": false,
     "input": [
      "plot(freqs,np.unwrap(np.angle(davg)))"
     ],
     "language": "python",
     "metadata": {},
     "outputs": [
      {
       "output_type": "pyout",
       "prompt_number": 19,
       "text": [
        "[<matplotlib.lines.Line2D at 0x2aa8190>]"
       ]
      },
      {
       "output_type": "display_data",
       "png": "[encoded data removed]"
      }
     ],
     "prompt_number": 19
    },
    {
     "cell_type": "markdown",
     "metadata": {},
     "source": [
      "To determine the cable delay, we can estimate the slope:"
     ]
    },
    {
     "cell_type": "code",
     "collapsed": false,
     "input": [
      "unwrapped_phase = np.unwrap(np.angle(davg))\n",
      "median_phase_diff = np.median(np.diff(unwrapped_phase))\n",
      "frequency_step_mhz = np.diff(freqs).mean() #mean not needed here, but it works\n",
      "step_radians_per_second = frequency_step_mhz * 2 * np.pi * 1e6\n",
      "radians_per_mhz = median_phase_diff/frequency_step_mhz\n",
      "print radians_per_mhz\n",
      "delay = median_phase_diff/step_radians_per_second # this should be seconds\n",
      "print \"Cable delay in seconds: \",delay"
     ],
     "language": "python",
     "metadata": {},
     "outputs": [
      {
       "output_type": "stream",
       "stream": "stdout",
       "text": [
        "-0.591400365034\n",
        "Cable delay in seconds:  -9.41242914415e-08\n"
       ]
      }
     ],
     "prompt_number": 23
    },
    {
     "cell_type": "markdown",
     "metadata": {},
     "source": [
      "We can also estimate the delay from the FFT of davg:"
     ]
    },
    {
     "cell_type": "code",
     "collapsed": false,
     "input": [
      "txx,t = psd(davg,Fs=1/(frequency_step_mhz*1e6))"
     ],
     "language": "python",
     "metadata": {},
     "outputs": [
      {
       "output_type": "display_data",
       "png": "[encoded data removed]"
      }
     ],
     "prompt_number": 26
    },
    {
     "cell_type": "code",
     "collapsed": false,
     "input": [
      "t[txx.argmax()]"
     ],
     "language": "python",
     "metadata": {},
     "outputs": [
      {
       "output_type": "pyout",
       "prompt_number": 27,
       "text": [
        "-9.0967465753424679e-08"
       ]
      }
     ],
     "prompt_number": 27
    },
    {
     "cell_type": "markdown",
     "metadata": {},
     "source": [
      "Now let's try to correct the cable delay:"
     ]
    },
    {
     "cell_type": "code",
     "collapsed": false,
     "input": [
      "dcorr = davg*np.exp(-1j*radians_per_mhz*freqs)"
     ],
     "language": "python",
     "metadata": {},
     "outputs": [],
     "prompt_number": 28
    },
    {
     "cell_type": "code",
     "collapsed": false,
     "input": [
      "plot(freqs,np.angle(dcorr))"
     ],
     "language": "python",
     "metadata": {},
     "outputs": [
      {
       "output_type": "pyout",
       "prompt_number": 29,
       "text": [
        "[<matplotlib.lines.Line2D at 0x2f7ae90>]"
       ]
      },
      {
       "output_type": "display_data",
       "png": "[encoded data removed]"
      }
     ],
     "prompt_number": 29
    },
    {
     "cell_type": "markdown",
     "metadata": {},
     "source": [
      "This looks more plausible, but I think the little jaggies are because we haven't sampled the phase gradient finely enough, so it may be much steeper (longer cable delay) and aliased. \n",
      "\n",
      "Let's look at the response on a very fine scale.\n",
      "\n",
      "The finest scale that makes sense is a single step in the tone frequency bins: ri.fs/nsamp. There will be nsamp/nfft tone bins across a single FFT bin, so let's do a fine scan across two FFT bins, using every other tone freq.\n",
      "\n",
      "In this case, the tones are all in a single FFT bin, so we need to reload the waveform for each measurement."
     ]
    },
    {
     "cell_type": "code",
     "collapsed": false,
     "input": [
      "ffine = []\n",
      "dfine = []\n",
      "fftbins = []\n",
      "for k in range(64):\n",
      "    actualf = ri.set_tone_freqs(np.array([k+2**17])*512.0/2**19,nsamp=2**20)\n",
      "    fftbins.append(ri.fft_bins)\n",
      "    ffine.append(actualf)\n",
      "    ri._sync()\n",
      "    time.sleep(.1)\n",
      "    da,addr = ri.get_data(2)\n",
      "    dfine.append(da)\n",
      "dfine = np.concatenate(dfine,axis=1)\n",
      "ffine = np.concatenate(ffine)\n",
      "dfavg = dfine.mean(0)\n",
      "fftbins = np.concatenate(fftbins)"
     ],
     "language": "python",
     "metadata": {},
     "outputs": [
      {
       "output_type": "stream",
       "stream": "stdout",
       "text": [
        "\n",
        "\r",
        " got 0"
       ]
      },
      {
       "output_type": "stream",
       "stream": "stdout",
       "text": [
        " \r",
        " got 1"
       ]
      },
      {
       "output_type": "stream",
       "stream": "stdout",
       "text": [
        " \r",
        "read 2 in 0.3 seconds, 31167.13 samples per second, idle 127.00 per read\n",
        "0\n"
       ]
      },
      {
       "output_type": "stream",
       "stream": "stdout",
       "text": [
        "\n",
        "\r",
        " got 0"
       ]
      },
      {
       "output_type": "stream",
       "stream": "stdout",
       "text": [
        " \r",
        " got 1"
       ]
      },
      {
       "output_type": "stream",
       "stream": "stdout",
       "text": [
        " \r",
        "read 2 in 0.3 seconds, 31105.93 samples per second, idle 204.00 per read\n",
        "0\n"
       ]
      },
      {
       "output_type": "stream",
       "stream": "stdout",
       "text": [
        "\n",
        "\r",
        " got 0"
       ]
      },
      {
       "output_type": "stream",
       "stream": "stdout",
       "text": [
        " \r",
        " got 1"
       ]
      },
      {
       "output_type": "stream",
       "stream": "stdout",
       "text": [
        " \r",
        "read 2 in 0.3 seconds, 31171.52 samples per second, idle 120.50 per read\n",
        "0\n"
       ]
      },
      {
       "output_type": "stream",
       "stream": "stdout",
       "text": [
        "\n",
        "\r",
        " got 0"
       ]
      },
      {
       "output_type": "stream",
       "stream": "stdout",
       "text": [
        " \r",
        " got 1"
       ]
      },
      {
       "output_type": "stream",
       "stream": "stdout",
       "text": [
        " \r",
        "read 2 in 0.3 seconds, 31155.52 samples per second, idle 120.00 per read\n",
        "0\n"
       ]
      },
      {
       "output_type": "stream",
       "stream": "stdout",
       "text": [
        "\n",
        "\r",
        " got 0"
       ]
      },
      {
       "output_type": "stream",
       "stream": "stdout",
       "text": [
        " \r",
        " got 1"
       ]
      },
      {
       "output_type": "stream",
       "stream": "stdout",
       "text": [
        " \r",
        "read 2 in 0.3 seconds, 31055.72 samples per second, idle 218.00 per read\n",
        "0\n"
       ]
      },
      {
       "output_type": "stream",
       "stream": "stdout",
       "text": [
        "\n",
        "\r",
        " got 0"
       ]
      },
      {
       "output_type": "stream",
       "stream": "stdout",
       "text": [
        " \r",
        " got 1"
       ]
      },
      {
       "output_type": "stream",
       "stream": "stdout",
       "text": [
        " \r",
        "read 2 in 0.3 seconds, 31110.92 samples per second, idle 151.00 per read\n",
        "0\n"
       ]
      },
      {
       "output_type": "stream",
       "stream": "stdout",
       "text": [
        "\n",
        "\r",
        " got 0"
       ]
      },
      {
       "output_type": "stream",
       "stream": "stdout",
       "text": [
        " \r",
        " got 1"
       ]
      },
      {
       "output_type": "stream",
       "stream": "stdout",
       "text": [
        " \r",
        "read 2 in 0.3 seconds, 31209.88 samples per second, idle 123.00 per read\n",
        "0\n"
       ]
      },
      {
       "output_type": "stream",
       "stream": "stdout",
       "text": [
        "\n",
        "\r",
        " got 0"
       ]
      },
      {
       "output_type": "stream",
       "stream": "stdout",
       "text": [
        " \r",
        " got 1"
       ]
      },
      {
       "output_type": "stream",
       "stream": "stdout",
       "text": [
        " \r",
        "read 2 in 0.3 seconds, 31250.70 samples per second, idle 211.50 per read\n",
        "0\n"
       ]
      },
      {
       "output_type": "stream",
       "stream": "stdout",
       "text": [
        "\n",
        "\r",
        " got 0"
       ]
      },
      {
       "output_type": "stream",
       "stream": "stdout",
       "text": [
        " \r",
        " got 1"
       ]
      },
      {
       "output_type": "stream",
       "stream": "stdout",
       "text": [
        " \r",
        "read 2 in 0.3 seconds, 31252.86 samples per second, idle 209.00 per read\n",
        "0\n"
       ]
      },
      {
       "output_type": "stream",
       "stream": "stdout",
       "text": [
        "\n",
        "\r",
        " got 0"
       ]
      },
      {
       "output_type": "stream",
       "stream": "stdout",
       "text": [
        " \r",
        " got 1"
       ]
      },
      {
       "output_type": "stream",
       "stream": "stdout",
       "text": [
        " \r",
        "read 2 in 0.3 seconds, 31024.43 samples per second, idle 138.50 per read\n",
        "0\n"
       ]
      },
      {
       "output_type": "stream",
       "stream": "stdout",
       "text": [
        "\n",
        "\r",
        " got 0"
       ]
      },
      {
       "output_type": "stream",
       "stream": "stdout",
       "text": [
        " \r",
        " got 1"
       ]
      },
      {
       "output_type": "stream",
       "stream": "stdout",
       "text": [
        " \r",
        "read 2 in 0.3 seconds, 31135.98 samples per second, idle 132.50 per read\n",
        "0\n"
       ]
      },
      {
       "output_type": "stream",
       "stream": "stdout",
       "text": [
        "\n",
        "\r",
        " got 0"
       ]
      },
      {
       "output_type": "stream",
       "stream": "stdout",
       "text": [
        " \r",
        " got 1"
       ]
      },
      {
       "output_type": "stream",
       "stream": "stdout",
       "text": [
        " \r",
        "read 2 in 0.3 seconds, 31170.33 samples per second, idle 129.50 per read\n",
        "0\n"
       ]
      },
      {
       "output_type": "stream",
       "stream": "stdout",
       "text": [
        "\n",
        "\r",
        " got 0"
       ]
      },
      {
       "output_type": "stream",
       "stream": "stdout",
       "text": [
        " \r",
        " got 1"
       ]
      },
      {
       "output_type": "stream",
       "stream": "stdout",
       "text": [
        " \r",
        "read 2 in 0.3 seconds, 31048.87 samples per second, idle 219.00 per read\n",
        "0\n"
       ]
      },
      {
       "output_type": "stream",
       "stream": "stdout",
       "text": [
        "\n",
        "\r",
        " got 0"
       ]
      },
      {
       "output_type": "stream",
       "stream": "stdout",
       "text": [
        " \r",
        " got 1"
       ]
      },
      {
       "output_type": "stream",
       "stream": "stdout",
       "text": [
        " \r",
        "read 2 in 0.3 seconds, 31103.34 samples per second, idle 120.00 per read\n",
        "0\n"
       ]
      },
      {
       "output_type": "stream",
       "stream": "stdout",
       "text": [
        "\n",
        "\r",
        " got 0"
       ]
      },
      {
       "output_type": "stream",
       "stream": "stdout",
       "text": [
        " \r",
        " got 1"
       ]
      },
      {
       "output_type": "stream",
       "stream": "stdout",
       "text": [
        " \r",
        "read 2 in 0.3 seconds, 31097.94 samples per second, idle 123.50 per read\n",
        "0\n"
       ]
      },
      {
       "output_type": "stream",
       "stream": "stdout",
       "text": [
        "\n",
        "\r",
        " got 0"
       ]
      },
      {
       "output_type": "stream",
       "stream": "stdout",
       "text": [
        " \r",
        " got 1"
       ]
      },
      {
       "output_type": "stream",
       "stream": "stdout",
       "text": [
        " \r",
        "read 2 in 0.3 seconds, 31331.40 samples per second, idle 164.00 per read\n",
        "0\n"
       ]
      },
      {
       "output_type": "stream",
       "stream": "stdout",
       "text": [
        "\n",
        "\r",
        " got 0"
       ]
      },
      {
       "output_type": "stream",
       "stream": "stdout",
       "text": [
        " \r",
        " got 1"
       ]
      },
      {
       "output_type": "stream",
       "stream": "stdout",
       "text": [
        " \r",
        "read 2 in 0.3 seconds, 31100.98 samples per second, idle 120.00 per read\n",
        "0\n"
       ]
      },
      {
       "output_type": "stream",
       "stream": "stdout",
       "text": [
        "\n",
        "\r",
        " got 0"
       ]
      },
      {
       "output_type": "stream",
       "stream": "stdout",
       "text": [
        " \r",
        " got 1"
       ]
      },
      {
       "output_type": "stream",
       "stream": "stdout",
       "text": [
        " \r",
        "read 2 in 0.3 seconds, 31141.40 samples per second, idle 127.50 per read\n",
        "0\n"
       ]
      },
      {
       "output_type": "stream",
       "stream": "stdout",
       "text": [
        "\n",
        "\r",
        " got 0"
       ]
      },
      {
       "output_type": "stream",
       "stream": "stdout",
       "text": [
        " \r",
        " got 1"
       ]
      },
      {
       "output_type": "stream",
       "stream": "stdout",
       "text": [
        " \r",
        "read 2 in 0.3 seconds, 31148.88 samples per second, idle 145.00 per read\n",
        "0\n"
       ]
      },
      {
       "output_type": "stream",
       "stream": "stdout",
       "text": [
        "\n",
        "\r",
        " got 0"
       ]
      },
      {
       "output_type": "stream",
       "stream": "stdout",
       "text": [
        " \r",
        " got 1"
       ]
      },
      {
       "output_type": "stream",
       "stream": "stdout",
       "text": [
        " \r",
        "read 2 in 0.3 seconds, 31044.64 samples per second, idle 154.50 per read\n",
        "0\n"
       ]
      },
      {
       "output_type": "stream",
       "stream": "stdout",
       "text": [
        "\n",
        "\r",
        " got 0"
       ]
      },
      {
       "output_type": "stream",
       "stream": "stdout",
       "text": [
        " \r",
        " got 1"
       ]
      },
      {
       "output_type": "stream",
       "stream": "stdout",
       "text": [
        " \r",
        "read 2 in 0.3 seconds, 31097.32 samples per second, idle 121.50 per read\n",
        "0\n"
       ]
      },
      {
       "output_type": "stream",
       "stream": "stdout",
       "text": [
        "\n",
        "\r",
        " got 0"
       ]
      },
      {
       "output_type": "stream",
       "stream": "stdout",
       "text": [
        " \r",
        " got 1"
       ]
      },
      {
       "output_type": "stream",
       "stream": "stdout",
       "text": [
        " \r",
        "read 2 in 0.3 seconds, 31095.91 samples per second, idle 153.00 per read\n",
        "0\n"
       ]
      },
      {
       "output_type": "stream",
       "stream": "stdout",
       "text": [
        "\n",
        "\r",
        " got 0"
       ]
      },
      {
       "output_type": "stream",
       "stream": "stdout",
       "text": [
        " \r",
        " got 1"
       ]
      },
      {
       "output_type": "stream",
       "stream": "stdout",
       "text": [
        " \r",
        "read 2 in 0.3 seconds, 31221.05 samples per second, idle 202.50 per read\n",
        "0\n"
       ]
      },
      {
       "output_type": "stream",
       "stream": "stdout",
       "text": [
        "\n",
        "\r",
        " got 0"
       ]
      },
      {
       "output_type": "stream",
       "stream": "stdout",
       "text": [
        " \r",
        " got 1"
       ]
      },
      {
       "output_type": "stream",
       "stream": "stdout",
       "text": [
        " \r",
        "read 2 in 0.3 seconds, 31132.54 samples per second, idle 123.50 per read\n",
        "0\n"
       ]
      },
      {
       "output_type": "stream",
       "stream": "stdout",
       "text": [
        "\n",
        "\r",
        " got 0"
       ]
      },
      {
       "output_type": "stream",
       "stream": "stdout",
       "text": [
        " \r",
        " got 1"
       ]
      },
      {
       "output_type": "stream",
       "stream": "stdout",
       "text": [
        " \r",
        "read 2 in 0.3 seconds, 31084.57 samples per second, idle 122.00 per read\n",
        "0\n"
       ]
      },
      {
       "output_type": "stream",
       "stream": "stdout",
       "text": [
        "\n",
        "\r",
        " got 0"
       ]
      },
      {
       "output_type": "stream",
       "stream": "stdout",
       "text": [
        " \r",
        " got 1"
       ]
      },
      {
       "output_type": "stream",
       "stream": "stdout",
       "text": [
        " \r",
        "read 2 in 0.3 seconds, 31199.08 samples per second, idle 120.00 per read\n",
        "0\n"
       ]
      },
      {
       "output_type": "stream",
       "stream": "stdout",
       "text": [
        "\n",
        "\r",
        " got 0"
       ]
      },
      {
       "output_type": "stream",
       "stream": "stdout",
       "text": [
        " \r",
        " got 1"
       ]
      },
      {
       "output_type": "stream",
       "stream": "stdout",
       "text": [
        " \r",
        "read 2 in 0.3 seconds, 31035.72 samples per second, idle 195.00 per read\n",
        "0\n"
       ]
      },
      {
       "output_type": "stream",
       "stream": "stdout",
       "text": [
        "\n",
        "\r",
        " got 0"
       ]
      },
      {
       "output_type": "stream",
       "stream": "stdout",
       "text": [
        " \r",
        " got 1"
       ]
      },
      {
       "output_type": "stream",
       "stream": "stdout",
       "text": [
        " \r",
        "read 2 in 0.3 seconds, 31124.14 samples per second, idle 134.00 per read\n",
        "0\n"
       ]
      },
      {
       "output_type": "stream",
       "stream": "stdout",
       "text": [
        "\n",
        "\r",
        " got 0"
       ]
      },
      {
       "output_type": "stream",
       "stream": "stdout",
       "text": [
        " \r",
        " got 1"
       ]
      },
      {
       "output_type": "stream",
       "stream": "stdout",
       "text": [
        " \r",
        "read 2 in 0.3 seconds, 31098.16 samples per second, idle 123.50 per read\n",
        "0\n"
       ]
      },
      {
       "output_type": "stream",
       "stream": "stdout",
       "text": [
        "\n",
        "\r",
        " got 0"
       ]
      },
      {
       "output_type": "stream",
       "stream": "stdout",
       "text": [
        " \r",
        " got 1"
       ]
      },
      {
       "output_type": "stream",
       "stream": "stdout",
       "text": [
        " \r",
        "read 2 in 0.3 seconds, 31332.94 samples per second, idle 178.00 per read\n",
        "0\n"
       ]
      },
      {
       "output_type": "stream",
       "stream": "stdout",
       "text": [
        "\n",
        "\r",
        " got 0"
       ]
      },
      {
       "output_type": "stream",
       "stream": "stdout",
       "text": [
        " \r",
        " got 1"
       ]
      },
      {
       "output_type": "stream",
       "stream": "stdout",
       "text": [
        " \r",
        "read 2 in 0.3 seconds, 31109.37 samples per second, idle 118.50 per read\n",
        "0\n"
       ]
      },
      {
       "output_type": "stream",
       "stream": "stdout",
       "text": [
        "\n",
        "\r",
        " got 0"
       ]
      },
      {
       "output_type": "stream",
       "stream": "stdout",
       "text": [
        " \r",
        " got 1"
       ]
      },
      {
       "output_type": "stream",
       "stream": "stdout",
       "text": [
        " \r",
        "read 2 in 0.3 seconds, 31190.64 samples per second, idle 134.00 per read\n",
        "0\n"
       ]
      },
      {
       "output_type": "stream",
       "stream": "stdout",
       "text": [
        "\n",
        "\r",
        " got 0"
       ]
      },
      {
       "output_type": "stream",
       "stream": "stdout",
       "text": [
        " \r",
        " got 1"
       ]
      },
      {
       "output_type": "stream",
       "stream": "stdout",
       "text": [
        " \r",
        "read 2 in 0.3 seconds, 31195.85 samples per second, idle 135.00 per read\n",
        "0\n"
       ]
      },
      {
       "output_type": "stream",
       "stream": "stdout",
       "text": [
        "\n",
        "\r",
        " got 0"
       ]
      },
      {
       "output_type": "stream",
       "stream": "stdout",
       "text": [
        " \r",
        " got 1"
       ]
      },
      {
       "output_type": "stream",
       "stream": "stdout",
       "text": [
        " \r",
        "read 2 in 0.3 seconds, 31143.91 samples per second, idle 155.50 per read\n",
        "0\n"
       ]
      },
      {
       "output_type": "stream",
       "stream": "stdout",
       "text": [
        "\n",
        "\r",
        " got 0"
       ]
      },
      {
       "output_type": "stream",
       "stream": "stdout",
       "text": [
        " \r",
        " got 1"
       ]
      },
      {
       "output_type": "stream",
       "stream": "stdout",
       "text": [
        " \r",
        "read 2 in 0.3 seconds, 31170.07 samples per second, idle 121.00 per read\n",
        "0\n"
       ]
      },
      {
       "output_type": "stream",
       "stream": "stdout",
       "text": [
        "\n",
        "\r",
        " got 0"
       ]
      },
      {
       "output_type": "stream",
       "stream": "stdout",
       "text": [
        " \r",
        " got 1"
       ]
      },
      {
       "output_type": "stream",
       "stream": "stdout",
       "text": [
        " \r",
        "read 2 in 0.3 seconds, 31058.42 samples per second, idle 134.50 per read\n",
        "0\n"
       ]
      },
      {
       "output_type": "stream",
       "stream": "stdout",
       "text": [
        "\n",
        "\r",
        " got 0"
       ]
      },
      {
       "output_type": "stream",
       "stream": "stdout",
       "text": [
        " \r",
        " got 1"
       ]
      },
      {
       "output_type": "stream",
       "stream": "stdout",
       "text": [
        " \r",
        "read 2 in 0.3 seconds, 31241.89 samples per second, idle 204.50 per read\n",
        "0\n"
       ]
      },
      {
       "output_type": "stream",
       "stream": "stdout",
       "text": [
        "\n",
        "\r",
        " got 0"
       ]
      },
      {
       "output_type": "stream",
       "stream": "stdout",
       "text": [
        " \r",
        " got 1"
       ]
      },
      {
       "output_type": "stream",
       "stream": "stdout",
       "text": [
        " \r",
        "read 2 in 0.3 seconds, 31104.64 samples per second, idle 136.50 per read\n",
        "0\n"
       ]
      },
      {
       "output_type": "stream",
       "stream": "stdout",
       "text": [
        "\n",
        "\r",
        " got 0"
       ]
      },
      {
       "output_type": "stream",
       "stream": "stdout",
       "text": [
        " \r",
        " got 1"
       ]
      },
      {
       "output_type": "stream",
       "stream": "stdout",
       "text": [
        " \r",
        "read 2 in 0.3 seconds, 31073.84 samples per second, idle 124.50 per read\n",
        "0\n"
       ]
      },
      {
       "output_type": "stream",
       "stream": "stdout",
       "text": [
        "\n",
        "\r",
        " got 0"
       ]
      },
      {
       "output_type": "stream",
       "stream": "stdout",
       "text": [
        " \r",
        " got 1"
       ]
      },
      {
       "output_type": "stream",
       "stream": "stdout",
       "text": [
        " \r",
        "read 2 in 0.3 seconds, 31087.89 samples per second, idle 129.00 per read\n",
        "0\n"
       ]
      },
      {
       "output_type": "stream",
       "stream": "stdout",
       "text": [
        "\n",
        "\r",
        " got 0"
       ]
      },
      {
       "output_type": "stream",
       "stream": "stdout",
       "text": [
        " \r",
        " got 1"
       ]
      },
      {
       "output_type": "stream",
       "stream": "stdout",
       "text": [
        " \r",
        "read 2 in 0.3 seconds, 31085.53 samples per second, idle 207.00 per read\n",
        "0\n"
       ]
      },
      {
       "output_type": "stream",
       "stream": "stdout",
       "text": [
        "\n",
        "\r",
        " got 0"
       ]
      },
      {
       "output_type": "stream",
       "stream": "stdout",
       "text": [
        " \r",
        " got 1"
       ]
      },
      {
       "output_type": "stream",
       "stream": "stdout",
       "text": [
        " \r",
        "read 2 in 0.3 seconds, 31179.21 samples per second, idle 125.50 per read\n",
        "0\n"
       ]
      },
      {
       "output_type": "stream",
       "stream": "stdout",
       "text": [
        "\n",
        "\r",
        " got 0"
       ]
      },
      {
       "output_type": "stream",
       "stream": "stdout",
       "text": [
        " \r",
        " got 1"
       ]
      },
      {
       "output_type": "stream",
       "stream": "stdout",
       "text": [
        " \r",
        "read 2 in 0.3 seconds, 31282.45 samples per second, idle 126.00 per read\n",
        "0\n"
       ]
      },
      {
       "output_type": "stream",
       "stream": "stdout",
       "text": [
        "\n",
        "\r",
        " got 0"
       ]
      },
      {
       "output_type": "stream",
       "stream": "stdout",
       "text": [
        " \r",
        " got 1"
       ]
      },
      {
       "output_type": "stream",
       "stream": "stdout",
       "text": [
        " \r",
        "read 2 in 0.3 seconds, 31040.40 samples per second, idle 219.00 per read\n",
        "0\n"
       ]
      },
      {
       "output_type": "stream",
       "stream": "stdout",
       "text": [
        "\n",
        "\r",
        " got 0"
       ]
      },
      {
       "output_type": "stream",
       "stream": "stdout",
       "text": [
        " \r",
        " got 1"
       ]
      },
      {
       "output_type": "stream",
       "stream": "stdout",
       "text": [
        " \r",
        "read 2 in 0.3 seconds, 31148.43 samples per second, idle 122.00 per read\n",
        "0\n"
       ]
      },
      {
       "output_type": "stream",
       "stream": "stdout",
       "text": [
        "\n",
        "\r",
        " got 0"
       ]
      },
      {
       "output_type": "stream",
       "stream": "stdout",
       "text": [
        " \r",
        " got 1"
       ]
      },
      {
       "output_type": "stream",
       "stream": "stdout",
       "text": [
        " \r",
        "read 2 in 0.3 seconds, 31155.29 samples per second, idle 124.00 per read\n",
        "0\n"
       ]
      },
      {
       "output_type": "stream",
       "stream": "stdout",
       "text": [
        "\n",
        "\r",
        " got 0"
       ]
      },
      {
       "output_type": "stream",
       "stream": "stdout",
       "text": [
        " \r",
        " got 1"
       ]
      },
      {
       "output_type": "stream",
       "stream": "stdout",
       "text": [
        " \r",
        "read 2 in 0.3 seconds, 31258.01 samples per second, idle 164.50 per read\n",
        "0\n"
       ]
      },
      {
       "output_type": "stream",
       "stream": "stdout",
       "text": [
        "\n",
        "\r",
        " got 0"
       ]
      },
      {
       "output_type": "stream",
       "stream": "stdout",
       "text": [
        " \r",
        " got 1"
       ]
      },
      {
       "output_type": "stream",
       "stream": "stdout",
       "text": [
        " \r",
        "read 2 in 0.3 seconds, 31180.31 samples per second, idle 181.50 per read\n",
        "0\n"
       ]
      },
      {
       "output_type": "stream",
       "stream": "stdout",
       "text": [
        "\n",
        "\r",
        " got 0"
       ]
      },
      {
       "output_type": "stream",
       "stream": "stdout",
       "text": [
        " \r",
        " got 1"
       ]
      },
      {
       "output_type": "stream",
       "stream": "stdout",
       "text": [
        " \r",
        "read 2 in 0.3 seconds, 31200.13 samples per second, idle 126.50 per read\n",
        "0\n"
       ]
      },
      {
       "output_type": "stream",
       "stream": "stdout",
       "text": [
        "\n",
        "\r",
        " got 0"
       ]
      },
      {
       "output_type": "stream",
       "stream": "stdout",
       "text": [
        " \r",
        " got 1"
       ]
      },
      {
       "output_type": "stream",
       "stream": "stdout",
       "text": [
        " \r",
        "read 2 in 0.3 seconds, 31197.50 samples per second, idle 195.00 per read\n",
        "0\n"
       ]
      },
      {
       "output_type": "stream",
       "stream": "stdout",
       "text": [
        "\n",
        "\r",
        " got 0"
       ]
      },
      {
       "output_type": "stream",
       "stream": "stdout",
       "text": [
        " \r",
        " got 1"
       ]
      },
      {
       "output_type": "stream",
       "stream": "stdout",
       "text": [
        " \r",
        "read 2 in 0.3 seconds, 31254.76 samples per second, idle 182.00 per read\n",
        "0\n"
       ]
      },
      {
       "output_type": "stream",
       "stream": "stdout",
       "text": [
        "\n",
        "\r",
        " got 0"
       ]
      },
      {
       "output_type": "stream",
       "stream": "stdout",
       "text": [
        " \r",
        " got 1"
       ]
      },
      {
       "output_type": "stream",
       "stream": "stdout",
       "text": [
        " \r",
        "read 2 in 0.3 seconds, 31022.44 samples per second, idle 169.50 per read\n",
        "0\n"
       ]
      },
      {
       "output_type": "stream",
       "stream": "stdout",
       "text": [
        "\n",
        "\r",
        " got 0"
       ]
      },
      {
       "output_type": "stream",
       "stream": "stdout",
       "text": [
        " \r",
        " got 1"
       ]
      },
      {
       "output_type": "stream",
       "stream": "stdout",
       "text": [
        " \r",
        "read 2 in 0.3 seconds, 31324.69 samples per second, idle 121.50 per read\n",
        "0\n"
       ]
      },
      {
       "output_type": "stream",
       "stream": "stdout",
       "text": [
        "\n",
        "\r",
        " got 0"
       ]
      },
      {
       "output_type": "stream",
       "stream": "stdout",
       "text": [
        " \r",
        " got 1"
       ]
      },
      {
       "output_type": "stream",
       "stream": "stdout",
       "text": [
        " \r",
        "read 2 in 0.3 seconds, 31175.90 samples per second, idle 125.00 per read\n",
        "0\n"
       ]
      },
      {
       "output_type": "stream",
       "stream": "stdout",
       "text": [
        "\n",
        "\r",
        " got 0"
       ]
      },
      {
       "output_type": "stream",
       "stream": "stdout",
       "text": [
        " \r",
        " got 1"
       ]
      },
      {
       "output_type": "stream",
       "stream": "stdout",
       "text": [
        " \r",
        "read 2 in 0.3 seconds, 31538.49 samples per second, idle 220.50 per read\n",
        "0\n"
       ]
      },
      {
       "output_type": "stream",
       "stream": "stdout",
       "text": [
        "\n",
        "\r",
        " got 0"
       ]
      },
      {
       "output_type": "stream",
       "stream": "stdout",
       "text": [
        " \r",
        " got 1"
       ]
      },
      {
       "output_type": "stream",
       "stream": "stdout",
       "text": [
        " \r",
        "read 2 in 0.3 seconds, 31182.69 samples per second, idle 121.50 per read\n",
        "0\n"
       ]
      },
      {
       "output_type": "stream",
       "stream": "stdout",
       "text": [
        "\n",
        "\r",
        " got 0"
       ]
      },
      {
       "output_type": "stream",
       "stream": "stdout",
       "text": [
        " \r",
        " got 1"
       ]
      },
      {
       "output_type": "stream",
       "stream": "stdout",
       "text": [
        " \r",
        "read 2 in 0.3 seconds, 31124.84 samples per second, idle 125.00 per read\n",
        "0\n"
       ]
      },
      {
       "output_type": "stream",
       "stream": "stdout",
       "text": [
        "\n",
        "\r",
        " got 0"
       ]
      },
      {
       "output_type": "stream",
       "stream": "stdout",
       "text": [
        " \r",
        " got 1"
       ]
      },
      {
       "output_type": "stream",
       "stream": "stdout",
       "text": [
        " \r",
        "read 2 in 0.3 seconds, 31002.48 samples per second, idle 141.50 per read\n",
        "0\n"
       ]
      },
      {
       "output_type": "stream",
       "stream": "stdout",
       "text": [
        "\n",
        "\r",
        " got 0"
       ]
      },
      {
       "output_type": "stream",
       "stream": "stdout",
       "text": [
        " \r",
        " got 1"
       ]
      },
      {
       "output_type": "stream",
       "stream": "stdout",
       "text": [
        " \r",
        "read 2 in 0.3 seconds, 31194.07 samples per second, idle 125.50 per read\n",
        "0\n"
       ]
      },
      {
       "output_type": "stream",
       "stream": "stdout",
       "text": [
        "\n",
        "\r",
        " got 0"
       ]
      },
      {
       "output_type": "stream",
       "stream": "stdout",
       "text": [
        " \r",
        " got 1"
       ]
      },
      {
       "output_type": "stream",
       "stream": "stdout",
       "text": [
        " \r",
        "read 2 in 0.3 seconds, 31097.35 samples per second, idle 139.50 per read\n",
        "0\n"
       ]
      },
      {
       "output_type": "stream",
       "stream": "stdout",
       "text": [
        "\n",
        "\r",
        " got 0"
       ]
      },
      {
       "output_type": "stream",
       "stream": "stdout",
       "text": [
        " \r",
        " got 1"
       ]
      },
      {
       "output_type": "stream",
       "stream": "stdout",
       "text": [
        " \r",
        "read 2 in 0.3 seconds, 31133.02 samples per second, idle 120.00 per read\n",
        "0\n"
       ]
      },
      {
       "output_type": "stream",
       "stream": "stdout",
       "text": [
        "\n",
        "\r",
        " got 0"
       ]
      },
      {
       "output_type": "stream",
       "stream": "stdout",
       "text": [
        " \r",
        " got 1"
       ]
      },
      {
       "output_type": "stream",
       "stream": "stdout",
       "text": [
        " \r",
        "read 2 in 0.3 seconds, 31113.28 samples per second, idle 220.50 per read\n",
        "0\n"
       ]
      },
      {
       "output_type": "stream",
       "stream": "stdout",
       "text": [
        "\n",
        "\r",
        " got 0"
       ]
      },
      {
       "output_type": "stream",
       "stream": "stdout",
       "text": [
        " \r",
        " got 1"
       ]
      },
      {
       "output_type": "stream",
       "stream": "stdout",
       "text": [
        " \r",
        "read 2 in 0.3 seconds, 31170.92 samples per second, idle 126.00 per read\n",
        "0\n"
       ]
      },
      {
       "output_type": "stream",
       "stream": "stdout",
       "text": [
        "\n",
        "\r",
        " got 0"
       ]
      },
      {
       "output_type": "stream",
       "stream": "stdout",
       "text": [
        " \r",
        " got 1"
       ]
      },
      {
       "output_type": "stream",
       "stream": "stdout",
       "text": [
        " \r",
        "read 2 in 0.3 seconds, 31217.96 samples per second, idle 121.50 per read\n",
        "0\n"
       ]
      }
     ],
     "prompt_number": 30
    },
    {
     "cell_type": "markdown",
     "metadata": {},
     "source": [
      "First, let's look at the magnitude of the power response on a dB scale"
     ]
    },
    {
     "cell_type": "code",
     "collapsed": false,
     "input": [
      "plot(ffine,20*np.log10(np.abs(dfavg)))\n",
      "xlabel('MHz')\n",
      "ylabel('dB')"
     ],
     "language": "python",
     "metadata": {},
     "outputs": [
      {
       "output_type": "pyout",
       "prompt_number": 40,
       "text": [
        "<matplotlib.text.Text at 0x30e9490>"
       ]
      },
      {
       "output_type": "display_data",
       "png": "[encoded data removed]"
      }
     ],
     "prompt_number": 40
    },
    {
     "cell_type": "markdown",
     "metadata": {},
     "source": [
      "Let's highlight which FFT bin each data point came from"
     ]
    },
    {
     "cell_type": "code",
     "collapsed": false,
     "input": [
      "set(fftbins)"
     ],
     "language": "python",
     "metadata": {},
     "outputs": [
      {
       "output_type": "pyout",
       "prompt_number": 35,
       "text": [
        "set([4096, 4097, 4098])"
       ]
      }
     ],
     "prompt_number": 35
    },
    {
     "cell_type": "code",
     "collapsed": false,
     "input": [
      "for b in set(fftbins):\n",
      "    msk = fftbins==b\n",
      "    plot(ffine[msk],20*np.log10(np.abs(dfavg[msk])),'--.')\n",
      "xlabel('MHz')\n",
      "ylabel('dB')\n",
      "title('FFT bin response')\n",
      "grid()"
     ],
     "language": "python",
     "metadata": {},
     "outputs": [
      {
       "output_type": "display_data",
       "png": "[encoded data removed]"
      }
     ],
     "prompt_number": 42
    },
    {
     "cell_type": "markdown",
     "metadata": {},
     "source": [
      "What you can see here is the \"scalloping\" Daniel and others were concerned about. Fortunately, this is digitally applied and mathematically known, so we'll be able to correct for it. \n",
      "\n",
      "Now if you look back at the wide magnitude plot, you can see that the \"scruff\" has a peak to peak variation in line with what we see here, about 0.7 dB\n",
      "\n",
      "Next, let's have a look at the phase."
     ]
    },
    {
     "cell_type": "code",
     "collapsed": false,
     "input": [
      "plot(ffine,np.angle(dfavg))\n",
      "plot(ffine,np.unwrap(np.angle(dfavg)))"
     ],
     "language": "python",
     "metadata": {},
     "outputs": [
      {
       "output_type": "pyout",
       "prompt_number": 50,
       "text": [
        "[<matplotlib.lines.Line2D at 0x3e13f50>]"
       ]
      },
      {
       "output_type": "display_data",
       "png": "[encoded data removed]"
      }
     ],
     "prompt_number": 50
    },
    {
     "cell_type": "code",
     "collapsed": false,
     "input": [
      "unwrapped_phase_fine = np.unwrap(np.angle(dfavg))\n",
      "median_phase_diff_fine = np.median(np.diff(unwrapped_phase_fine))\n",
      "frequency_step_mhz_fine = np.diff(ffine).mean() #mean not needed here, but it works\n",
      "step_radians_per_second_fine = frequency_step_mhz_fine * 2 * np.pi * 1e6\n",
      "radians_per_mhz_fine = median_phase_diff_fine/frequency_step_mhz_fine\n",
      "print radians_per_mhz_fine\n",
      "delay_fine = median_phase_diff_fine/step_radians_per_second_fine # this should be seconds\n",
      "print \"Cable delay in seconds: \",delay_fine"
     ],
     "language": "python",
     "metadata": {},
     "outputs": [
      {
       "output_type": "stream",
       "stream": "stdout",
       "text": [
        "197.006821895\n",
        "Cable delay in seconds:  3.13546095275e-05\n"
       ]
      }
     ],
     "prompt_number": 44
    },
    {
     "cell_type": "markdown",
     "metadata": {},
     "source": [
      "So this cable delay is much longer than what we got before. Note that the cable delay is unphysical in that 31 us would imply a length of some 31000 ft of cable! Instead, it's probably mostly composed of simple FPGA clock cycles in the processing, of the order of:"
     ]
    },
    {
     "cell_type": "code",
     "collapsed": false,
     "input": [
      "delay_fine*ri.fs*1e6/2. # approximate number of FPGA cycles represented by the cable delay"
     ],
     "language": "python",
     "metadata": {},
     "outputs": [
      {
       "output_type": "pyout",
       "prompt_number": 52,
       "text": [
        "8026.7800390332932"
       ]
      }
     ],
     "prompt_number": 52
    },
    {
     "cell_type": "markdown",
     "metadata": {},
     "source": [
      "So now let's correct the data again using this better cable delay estimate, and compare the two resulting phase plots"
     ]
    },
    {
     "cell_type": "code",
     "collapsed": false,
     "input": [
      "dcorr2 = davg*np.exp(-1j*radians_per_mhz_fine*freqs)"
     ],
     "language": "python",
     "metadata": {},
     "outputs": [],
     "prompt_number": 46
    },
    {
     "cell_type": "code",
     "collapsed": false,
     "input": [
      "plot(np.unwrap(np.angle(dcorr2)),label='fine cable delay')\n",
      "plot(np.unwrap(np.angle(dcorr)),label='coarse cable delay')\n",
      "legend(loc='lower left')\n",
      "ylabel('radians')\n",
      "xlabel('MHz')"
     ],
     "language": "python",
     "metadata": {},
     "outputs": [
      {
       "output_type": "pyout",
       "prompt_number": 54,
       "text": [
        "<matplotlib.text.Text at 0x4054e10>"
       ]
      },
      {
       "output_type": "display_data",
       "png": "[encoded data removed]"
      }
     ],
     "prompt_number": 54
    },
    {
     "cell_type": "markdown",
     "metadata": {},
     "source": [
      "Looks much nicer. Interestingly, there is some overall slope still, so we should refine the estimate."
     ]
    },
    {
     "cell_type": "code",
     "collapsed": false,
     "input": [
      "txx,t = psd(dcorr2,Fs=1/(frequency_step_mhz*1e6))\n",
      "xlabel('time (s)')"
     ],
     "language": "python",
     "metadata": {},
     "outputs": [
      {
       "output_type": "pyout",
       "prompt_number": 58,
       "text": [
        "<matplotlib.text.Text at 0x55d4750>"
       ]
      },
      {
       "output_type": "display_data",
       "png": "[encoded data removed]"
      }
     ],
     "prompt_number": 58
    },
    {
     "cell_type": "code",
     "collapsed": false,
     "input": [
      "t[txx.argmax()]"
     ],
     "language": "python",
     "metadata": {},
     "outputs": [
      {
       "output_type": "pyout",
       "prompt_number": 59,
       "text": [
        "-9.096746575342362e-09"
       ]
      }
     ],
     "prompt_number": 59
    },
    {
     "cell_type": "code",
     "collapsed": false,
     "input": [
      "tweak = t[txx.argmax()]*(2*np.pi*1e6)\n",
      "print tweak #radians/MHz"
     ],
     "language": "python",
     "metadata": {},
     "outputs": [
      {
       "output_type": "stream",
       "stream": "stdout",
       "text": [
        "-0.0571565444253\n"
       ]
      }
     ],
     "prompt_number": 65
    },
    {
     "cell_type": "code",
     "collapsed": false,
     "input": [
      "dcorr3 = davg*np.exp(-1j*(radians_per_mhz_fine+tweak)*freqs)"
     ],
     "language": "python",
     "metadata": {},
     "outputs": [],
     "prompt_number": 66
    },
    {
     "cell_type": "code",
     "collapsed": false,
     "input": [
      "plot(freqs,np.unwrap(np.angle(dcorr3)))\n",
      "xlabel('MHz')\n",
      "ylabel('radians')"
     ],
     "language": "python",
     "metadata": {},
     "outputs": [
      {
       "output_type": "pyout",
       "prompt_number": 70,
       "text": [
        "<matplotlib.text.Text at 0x643ec50>"
       ]
      },
      {
       "output_type": "display_data",
       "png": "[encoded data removed]"
      }
     ],
     "prompt_number": 70
    },
    {
     "cell_type": "markdown",
     "metadata": {},
     "source": [
      "This looks about as good as we can guess. Note that the system will have some phase response other than cable delay (the slope around 200 MHz is likely from the low pass filters).\n",
      "\n",
      "We can see the phase of the two resonances clearly.\n",
      "\n",
      "Another way to see that we can't reliably say what the cable delay is any more accurately, take a look at the width of the peak in the delay spectrum:"
     ]
    },
    {
     "cell_type": "code",
     "collapsed": false,
     "input": [
      "txx,t = psd(dcorr3,Fs=1/(frequency_step_mhz*1e6))\n",
      "xlabel('time (s)')"
     ],
     "language": "python",
     "metadata": {},
     "outputs": [
      {
       "output_type": "pyout",
       "prompt_number": 72,
       "text": [
        "<matplotlib.text.Text at 0x6b978d0>"
       ]
      },
      {
       "output_type": "display_data",
       "png": "[encoded data removed]"
      }
     ],
     "prompt_number": 72
    },
    {
     "cell_type": "code",
     "collapsed": false,
     "input": [
      "t[txx.argmax()]"
     ],
     "language": "python",
     "metadata": {},
     "outputs": [
      {
       "output_type": "pyout",
       "prompt_number": 73,
       "text": [
        "0.0"
       ]
      }
     ],
     "prompt_number": 73
    },
    {
     "cell_type": "markdown",
     "metadata": {},
     "source": [
      "Now let's plot the amplitude and phase together"
     ]
    },
    {
     "cell_type": "code",
     "collapsed": false,
     "input": [
      "subplot(2,1,1)\n",
      "plot(freqs,20*np.log10(np.abs(dcorr3)))\n",
      "ylabel('dB')\n",
      "grid()\n",
      "title('System Response')\n",
      "subplot(2,1,2)\n",
      "plot(freqs,np.unwrap(np.angle(dcorr3)))\n",
      "ylabel('radians')\n",
      "xlabel('MHz')\n",
      "grid()"
     ],
     "language": "python",
     "metadata": {},
     "outputs": [
      {
       "output_type": "display_data",
       "png": "[encoded data removed]"
      }
     ],
     "prompt_number": 79
    },
    {
     "cell_type": "code",
     "collapsed": false,
     "input": [
      "plot(freqs,dcorr3.real)\n",
      "plot(freqs,dcorr3.imag)"
     ],
     "language": "python",
     "metadata": {},
     "outputs": [
      {
       "output_type": "pyout",
       "prompt_number": 84,
       "text": [
        "[<matplotlib.lines.Line2D at 0x8285a50>]"
       ]
      },
      {
       "output_type": "display_data",
       "png": "[encoded data removed]"
      }
     ],
     "prompt_number": 84
    },
    {
     "cell_type": "code",
     "collapsed": false,
     "input": [],
     "language": "python",
     "metadata": {},
     "outputs": []
    }
   ],
   "metadata": {}
  }
 ]
}