{
 "metadata": {
  "name": ""
 },
 "nbformat": 3,
 "nbformat_minor": 0,
 "worksheets": [
  {
   "cells": [
    {
     "cell_type": "code",
     "collapsed": false,
     "input": [
      "import kid_readout.analysis.kid_eqns\n",
      "import lmfit"
     ],
     "language": "python",
     "metadata": {},
     "outputs": [],
     "prompt_number": 13
    },
    {
     "cell_type": "code",
     "collapsed": false,
     "input": [
      "import kid_readout.analysis.archive"
     ],
     "language": "python",
     "metadata": {},
     "outputs": [
      {
       "output_type": "stream",
       "stream": "stdout",
       "text": [
        "get_temperature_at: updated cache\n"
       ]
      }
     ],
     "prompt_number": 2
    },
    {
     "cell_type": "code",
     "collapsed": false,
     "input": [
      "sc3x3 = kid_readout.analysis.archive.load_archive('/home/data/archive/StarCryo_3x3_0813f5_HPD_Dark_1.npy')"
     ],
     "language": "python",
     "metadata": {},
     "outputs": [],
     "prompt_number": 3
    },
    {
     "cell_type": "code",
     "collapsed": false,
     "input": [
      "r0 = sc3x3[(sc3x3.ridx==3) & (sc3x3.atten == 33.5) & (sc3x3.Q_err < 6000) & (sc3x3.Q_i>1000)]"
     ],
     "language": "python",
     "metadata": {},
     "outputs": [],
     "prompt_number": 109
    },
    {
     "cell_type": "code",
     "collapsed": false,
     "input": [
      "for m in np.unique(sc3x3.atten):\n",
      "    print m, len(sc3x3[sc3x3.ridx==0][sc3x3.atten == m])"
     ],
     "language": "python",
     "metadata": {},
     "outputs": [
      {
       "output_type": "stream",
       "stream": "stdout",
       "text": [
        "21.5 1\n",
        "23.5 1\n",
        "25.5 1\n",
        "27.5 1\n",
        "29.5 1\n",
        "31.5 1\n",
        "33.5 40\n",
        "35.5 40\n",
        "37.5 39\n",
        "40.5 39\n",
        "43.5 39\n",
        "46.5 39\n",
        "49.5 1\n"
       ]
      }
     ],
     "prompt_number": 110
    },
    {
     "cell_type": "code",
     "collapsed": false,
     "input": [
      "plot(r0.start_temp,r0.f_0)"
     ],
     "language": "python",
     "metadata": {},
     "outputs": [
      {
       "metadata": {},
       "output_type": "pyout",
       "prompt_number": 111,
       "text": [
        "[<matplotlib.lines.Line2D at 0xb29a790>]"
       ]
      },
      {
       "metadata": {},
       "output_type": "display_data",
       "png": "[encoded data removed]",
       "text": [
        "<matplotlib.figure.Figure at 0xb0f0250>"
       ]
      }
     ],
     "prompt_number": 111
    },
    {
     "cell_type": "code",
     "collapsed": false,
     "input": [
      "km = kid_readout.analysis.kid_eqns.DarkKIDModel(f0_nom=r0.f_0.max()*1e6,cap = 28.55e-12, Lg = 29e-9)\n",
      "km2 = kid_readout.analysis.kid_eqns.DarkKIDModel(f0_nom=r0.f_0.max()*1e6,cap = 28.55e-12, Lg = 29e-9)\n",
      "km.params['F_TLS'].vary = False\n",
      "#km.params['nqp0'].value = 0\n",
      "#km.params['nqp0'].vary = False\n",
      "km.params['delta_loss'].value = 0\n",
      "km.params['delta_loss'].vary = False\n",
      "km.params['delta_0'].value =  0\n",
      "km.params['delta_0'].vary = False\n",
      "km.params['T_star'].vary = False"
     ],
     "language": "python",
     "metadata": {},
     "outputs": [],
     "prompt_number": 134
    },
    {
     "cell_type": "code",
     "collapsed": false,
     "input": [
      "km.fit_f0_qi(r0.start_temp,r0.f_0*1e6,r0.Q_i,r0.f_0_err*1e6*2,r0.Q_err)"
     ],
     "language": "python",
     "metadata": {},
     "outputs": [],
     "prompt_number": 135
    },
    {
     "cell_type": "code",
     "collapsed": false,
     "input": [
      "#km.fit_f0(r0.start_temp,r0.f_0*1e6)"
     ],
     "language": "python",
     "metadata": {},
     "outputs": [],
     "prompt_number": 136
    },
    {
     "cell_type": "code",
     "collapsed": false,
     "input": [
      "km.Lk(0.1)/1e-9, km.alpha(0.1)"
     ],
     "language": "python",
     "metadata": {},
     "outputs": [
      {
       "metadata": {},
       "output_type": "pyout",
       "prompt_number": 137,
       "text": [
        "(42.244306972488886, 0.59294993196862167)"
       ]
      }
     ],
     "prompt_number": 137
    },
    {
     "cell_type": "code",
     "collapsed": false,
     "input": [
      "lmfit.report_fit(km.params)"
     ],
     "language": "python",
     "metadata": {},
     "outputs": [
      {
       "output_type": "stream",
       "stream": "stdout",
       "text": [
        "[[Variables]]\n",
        "     F_TLS:         fixed\n",
        "     T_star:        fixed\n",
        "     Tc:             1.546948 +/- 0.006413 (0.41%) initial =  1.460000\n",
        "     delta_0:       fixed\n",
        "     delta_loss:    fixed\n",
        "     nqp0:           452.653018 +/- 11.606270 (2.56%) initial =  5000.000000\n",
        "     sigman:         249971.453017 +/- 1045.876351 (0.42%) initial =  500000.000000\n",
        "[[Correlations]] (unreported correlations are <  0.100)\n",
        "    C(Tc, sigman)                = -1.000 \n",
        "    C(Tc, nqp0)                  =  0.309 \n",
        "    C(nqp0, sigman)              = -0.308 \n"
       ]
      }
     ],
     "prompt_number": 138
    },
    {
     "cell_type": "code",
     "collapsed": false,
     "input": [
      "T = np.linspace(0.001,0.5,100)"
     ],
     "language": "python",
     "metadata": {},
     "outputs": [],
     "prompt_number": 142
    },
    {
     "cell_type": "code",
     "collapsed": false,
     "input": [
      "plot(T,(km.f_res(T)*(1+km.tls_shift(T)))/(r0.f_0.max()*1e6))\n",
      "plot(r0.start_temp,r0.f_0*1e6/(r0.f_0.max()*1e6),'.')\n",
      "ylim(0.999,1.0001)"
     ],
     "language": "python",
     "metadata": {},
     "outputs": [
      {
       "metadata": {},
       "output_type": "pyout",
       "prompt_number": 143,
       "text": [
        "(0.999, 1.0001)"
       ]
      },
      {
       "metadata": {},
       "output_type": "display_data",
       "png": "[encoded data removed]",
       "text": [
        "<matplotlib.figure.Figure at 0xb2b3690>"
       ]
      }
     ],
     "prompt_number": 143
    },
    {
     "cell_type": "code",
     "collapsed": false,
     "input": [
      "msk = r0.start_temp < 0.25\n",
      "pp = np.polyfit(r0.start_temp[msk],r0.Q_i[msk],1)\n",
      "print pp\n",
      "pp2 = np.polyfit(r0.start_temp[~msk],np.log(r0.Q_i[~msk]),1)\n",
      "print pp2"
     ],
     "language": "python",
     "metadata": {},
     "outputs": [
      {
       "output_type": "stream",
       "stream": "stdout",
       "text": [
        "[ 770818.17413392   83174.52621096]\n",
        "[-14.81903286  16.39684106]\n"
       ]
      }
     ],
     "prompt_number": 119
    },
    {
     "cell_type": "code",
     "collapsed": false,
     "input": [
      "km2.params['nqp0'].value = 0\n",
      "km2.params['delta_0'].value = 0\n",
      "km2.params['delta_loss'].value = 0\n",
      "km2.params['sigman'].value = km.params['sigman'].value\n",
      "km2.params['Tc'].value = 1.5\n"
     ],
     "language": "python",
     "metadata": {},
     "outputs": [],
     "prompt_number": 120
    },
    {
     "cell_type": "code",
     "collapsed": false,
     "input": [
      "semilogy(T,km.total_Qi(T))\n",
      "semilogy(T,km.Qi(T))\n",
      "semilogy(T,np.polyval(pp,T),'--')\n",
      "semilogy(T,1/km.delta_tls(T),'k')\n",
      "semilogy(T,1/(6e-4*np.tanh(km.xi(T))),lw=2)\n",
      "semilogy(T,km2.total_Qi(T))\n",
      "#semilogy(T,1/km.params['delta_loss']*np.ones_like(T))\n",
      "semilogy(r0.start_temp,r0.Q_i,'.')\n",
      "semilogy(T,1/(1/km2.Qi(T)+6e-4*np.tanh(km.xi(T))))\n",
      "semilogy(T,1/(1/km2.Qi(T)+1/np.polyval(pp,T)))\n",
      "semilogy(T,np.exp(np.polyval(pp2,T)))\n",
      "semilogy(T,1/(1/(np.exp(np.polyval(pp2,T)))+1/np.polyval(pp,T)))\n",
      "yscale('linear')\n",
      "ylim(1000,5e5)\n",
      "#xlim(0,0.3)\n",
      "grid()"
     ],
     "language": "python",
     "metadata": {},
     "outputs": [
      {
       "metadata": {},
       "output_type": "display_data",
       "png": "[encoded data removed]",
       "text": [
        "<matplotlib.figure.Figure at 0xb42da90>"
       ]
      }
     ],
     "prompt_number": 144
    },
    {
     "cell_type": "code",
     "collapsed": false,
     "input": [
      "semilogy(r0.start_temp,1/r0.Q_i,'.')"
     ],
     "language": "python",
     "metadata": {},
     "outputs": [
      {
       "metadata": {},
       "output_type": "pyout",
       "prompt_number": 122,
       "text": [
        "[<matplotlib.lines.Line2D at 0x8ad8a90>]"
       ]
      },
      {
       "metadata": {},
       "output_type": "display_data",
       "png": "[encoded data removed]",
       "text": [
        "<matplotlib.figure.Figure at 0x46aaa10>"
       ]
      }
     ],
     "prompt_number": 122
    },
    {
     "cell_type": "code",
     "collapsed": false,
     "input": [
      "5e4/0.05"
     ],
     "language": "python",
     "metadata": {},
     "outputs": []
    },
    {
     "cell_type": "code",
     "collapsed": false,
     "input": [
      "lmfit.report_fit(km.params)"
     ],
     "language": "python",
     "metadata": {},
     "outputs": []
    },
    {
     "cell_type": "code",
     "collapsed": false,
     "input": [
      "1/(2*np.pi*np.sqrt(km.cap*km.Lg))"
     ],
     "language": "python",
     "metadata": {},
     "outputs": []
    },
    {
     "cell_type": "code",
     "collapsed": false,
     "input": [
      "km.Lk(0.1)/1e-9"
     ],
     "language": "python",
     "metadata": {},
     "outputs": []
    },
    {
     "cell_type": "code",
     "collapsed": false,
     "input": [
      "errorbar(r0.start_temp,r0.Q_i,r0.Q_err)\n",
      "ylim(1000,5e5)"
     ],
     "language": "python",
     "metadata": {},
     "outputs": []
    },
    {
     "cell_type": "code",
     "collapsed": false,
     "input": [
      "plot(r0.start_temp,r0.Q_err)\n",
      "ylim(0,10000)"
     ],
     "language": "python",
     "metadata": {},
     "outputs": []
    },
    {
     "cell_type": "code",
     "collapsed": false,
     "input": [
      "#plot(T,km.xi(T))\n",
      "T2 = np.logspace(-4,0,1000)\n",
      "plot(T2,1/np.tanh(km.xi(T2)))"
     ],
     "language": "python",
     "metadata": {},
     "outputs": [
      {
       "metadata": {},
       "output_type": "pyout",
       "prompt_number": 165,
       "text": [
        "[<matplotlib.lines.Line2D at 0x1564c950>]"
       ]
      },
      {
       "metadata": {},
       "output_type": "display_data",
       "png": "[encoded data removed]",
       "text": [
        "<matplotlib.figure.Figure at 0x1562e450>"
       ]
      }
     ],
     "prompt_number": 165
    },
    {
     "cell_type": "code",
     "collapsed": false,
     "input": [
      "plot(T,1e4/np.tanh(km.xi(T)))"
     ],
     "language": "python",
     "metadata": {},
     "outputs": []
    },
    {
     "cell_type": "code",
     "collapsed": false,
     "input": [
      "plot(T,km.tls_shift(T))"
     ],
     "language": "python",
     "metadata": {},
     "outputs": []
    },
    {
     "cell_type": "code",
     "collapsed": false,
     "input": [
      "6.626e-34*200e6/1.38e-23"
     ],
     "language": "python",
     "metadata": {},
     "outputs": [
      {
       "metadata": {},
       "output_type": "pyout",
       "prompt_number": 133,
       "text": [
        "0.009602898550724638"
       ]
      }
     ],
     "prompt_number": 133
    },
    {
     "cell_type": "code",
     "collapsed": false,
     "input": [],
     "language": "python",
     "metadata": {},
     "outputs": []
    }
   ],
   "metadata": {}
  }
 ]
}