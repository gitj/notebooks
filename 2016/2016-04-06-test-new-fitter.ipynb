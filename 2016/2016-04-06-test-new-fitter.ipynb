{
 "cells": [
  {
   "cell_type": "code",
   "execution_count": 1,
   "metadata": {
    "collapsed": false
   },
   "outputs": [
    {
     "name": "stdout",
     "output_type": "stream",
     "text": [
      "Populating the interactive namespace from numpy and matplotlib\n"
     ]
    }
   ],
   "source": [
    "%pylab inline"
   ]
  },
  {
   "cell_type": "code",
   "execution_count": 2,
   "metadata": {
    "collapsed": true
   },
   "outputs": [],
   "source": [
    "from kid_readout.analysis.resonator.helpers import *"
   ]
  },
  {
   "cell_type": "code",
   "execution_count": 3,
   "metadata": {
    "collapsed": true
   },
   "outputs": [],
   "source": [
    "from kid_readout.analysis.resonator import lmfit_models"
   ]
  },
  {
   "cell_type": "code",
   "execution_count": 4,
   "metadata": {
    "collapsed": true
   },
   "outputs": [],
   "source": [
    "cable = lmfit_models.GeneralCableModel()"
   ]
  },
  {
   "cell_type": "code",
   "execution_count": 5,
   "metadata": {
    "collapsed": false
   },
   "outputs": [],
   "source": [
    "params = cable.make_params(delay=1e-6,phi=1,f_min=100.0e6,A_mag=1.0,A_slope=10e-6)"
   ]
  },
  {
   "cell_type": "code",
   "execution_count": 6,
   "metadata": {
    "collapsed": false
   },
   "outputs": [
    {
     "data": {
      "image/png": "[encoded data removed]",
      "text/plain": [
       "<matplotlib.figure.Figure at 0x7f02afcccd90>"
      ]
     },
     "metadata": {},
     "output_type": "display_data"
    }
   ],
   "source": [
    "plot_ri((cable.eval(f=np.linspace(100e6,101e6,100),params=params))+complex_gaussian((100,)))"
   ]
  },
  {
   "cell_type": "code",
   "execution_count": 7,
   "metadata": {
    "collapsed": true
   },
   "outputs": [],
   "source": [
    "f=np.linspace(100e6,101e6,100)\n",
    "truth = cable.eval(f=np.linspace(100e6,101e6,100),params=params)"
   ]
  },
  {
   "cell_type": "code",
   "execution_count": 8,
   "metadata": {
    "collapsed": true
   },
   "outputs": [],
   "source": [
    "measurements = truth + complex_gaussian((1000,100))"
   ]
  },
  {
   "cell_type": "code",
   "execution_count": 9,
   "metadata": {
    "collapsed": true
   },
   "outputs": [],
   "source": [
    "import kid_readout.analysis.lmfit_fitter"
   ]
  },
  {
   "cell_type": "code",
   "execution_count": 10,
   "metadata": {
    "collapsed": false
   },
   "outputs": [],
   "source": [
    "k = 0\n",
    "fitter = kid_readout.analysis.lmfit_fitter.FitterWithAttributeAccess(f=f,data=measurements[k,:],model=lmfit_models.GeneralCableModel)"
   ]
  },
  {
   "cell_type": "code",
   "execution_count": 12,
   "metadata": {
    "collapsed": true
   },
   "outputs": [],
   "source": [
    "fitter.fit()"
   ]
  },
  {
   "cell_type": "code",
   "execution_count": 22,
   "metadata": {
    "collapsed": false
   },
   "outputs": [
    {
     "data": {
      "text/plain": [
       "Parameters([('delay',\n",
       "             <Parameter 'delay', 1.0220909558913542e-06, bounds=[-inf:inf]>),\n",
       "            ('phi',\n",
       "             <Parameter 'phi', 1.0955879409297393, bounds=[-3.141592653589793:3.141592653589793]>),\n",
       "            ('f_min',\n",
       "             <Parameter 'f_min', value=100000000.0 (fixed), bounds=[-inf:inf]>),\n",
       "            ('A_mag', <Parameter 'A_mag', 1.3208745306418919, bounds=[0:inf]>),\n",
       "            ('A_slope',\n",
       "             <Parameter 'A_slope', 7.4390052259532526e-06, bounds=[-inf:inf]>)])"
      ]
     },
     "execution_count": 22,
     "metadata": {},
     "output_type": "execute_result"
    }
   ],
   "source": [
    "fitter.model.guess(f=f,data=measurements[k,:])"
   ]
  },
  {
   "cell_type": "code",
   "execution_count": 19,
   "metadata": {
    "collapsed": false,
    "scrolled": true
   },
   "outputs": [
    {
     "data": {
      "text/plain": [
       "['A_mag',\n",
       " 'A_mag_error',\n",
       " 'A_slope',\n",
       " 'A_slope_error',\n",
       " '__class__',\n",
       " '__delattr__',\n",
       " '__doc__',\n",
       " '__format__',\n",
       " '__get__',\n",
       " '__getattribute__',\n",
       " '__hash__',\n",
       " '__init__',\n",
       " '__new__',\n",
       " '__reduce__',\n",
       " '__reduce_ex__',\n",
       " '__repr__',\n",
       " '__self__',\n",
       " '__self_class__',\n",
       " '__setattr__',\n",
       " '__sizeof__',\n",
       " '__str__',\n",
       " '__subclasshook__',\n",
       " '__thisclass__',\n",
       " '_current_params',\n",
       " '_current_params',\n",
       " '_data',\n",
       " '_data',\n",
       " '_model',\n",
       " '_model',\n",
       " 'asteval',\n",
       " 'asteval',\n",
       " 'axes_style',\n",
       " 'axes_style',\n",
       " 'best_style',\n",
       " 'best_style',\n",
       " 'current_result',\n",
       " 'current_result',\n",
       " 'data_style',\n",
       " 'data_style',\n",
       " 'delay',\n",
       " 'delay_error',\n",
       " 'f_min',\n",
       " 'f_min_error',\n",
       " 'init_style',\n",
       " 'init_style',\n",
       " 'kwargs',\n",
       " 'kwargs',\n",
       " 'namefinder',\n",
       " 'namefinder',\n",
       " 'phi',\n",
       " 'phi_error']"
      ]
     },
     "execution_count": 19,
     "metadata": {},
     "output_type": "execute_result"
    }
   ],
   "source": [
    "dir(fitter)"
   ]
  },
  {
   "cell_type": "code",
   "execution_count": 23,
   "metadata": {
    "collapsed": false
   },
   "outputs": [
    {
     "data": {
      "image/png": "[encoded data removed]",
      "text/plain": [
       "<matplotlib.figure.Figure at 0x7f02ac0ae650>"
      ]
     },
     "metadata": {},
     "output_type": "display_data"
    }
   ],
   "source": [
    "fitter.plot()"
   ]
  },
  {
   "cell_type": "code",
   "execution_count": null,
   "metadata": {
    "collapsed": true
   },
   "outputs": [],
   "source": []
  }
 ],
 "metadata": {
  "kernelspec": {
   "display_name": "Python 2",
   "language": "python",
   "name": "python2"
  },
  "language_info": {
   "codemirror_mode": {
    "name": "ipython",
    "version": 2
   },
   "file_extension": ".py",
   "mimetype": "text/x-python",
   "name": "python",
   "nbconvert_exporter": "python",
   "pygments_lexer": "ipython2",
   "version": "2.7.11"
  }
 },
 "nbformat": 4,
 "nbformat_minor": 0
}
