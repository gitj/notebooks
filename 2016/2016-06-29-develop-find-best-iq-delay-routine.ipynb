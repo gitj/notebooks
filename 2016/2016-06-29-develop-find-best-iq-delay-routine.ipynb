{
 "cells": [
  {
   "cell_type": "code",
   "execution_count": 1,
   "metadata": {
    "collapsed": false
   },
   "outputs": [
    {
     "name": "stderr",
     "output_type": "stream",
     "text": [
      "/home/gjones/miniconda2/envs/readout/lib/python2.7/site-packages/matplotlib/font_manager.py:273: UserWarning: Matplotlib is building the font cache using fc-list. This may take a moment.\n",
      "  warnings.warn('Matplotlib is building the font cache using fc-list. This may take a moment.')\n"
     ]
    },
    {
     "name": "stdout",
     "output_type": "stream",
     "text": [
      "Populating the interactive namespace from numpy and matplotlib\n"
     ]
    }
   ],
   "source": [
    "%pylab inline"
   ]
  },
  {
   "cell_type": "code",
   "execution_count": 2,
   "metadata": {
    "collapsed": false
   },
   "outputs": [
    {
     "name": "stderr",
     "output_type": "stream",
     "text": [
      "INFO: 2016-06-29 11:27:36,612 - kid_readout.<module>:13  kid_readout logging setup with default stream handler\n"
     ]
    }
   ],
   "source": [
    "from kid_readout.interactive import *"
   ]
  },
  {
   "cell_type": "code",
   "execution_count": 100,
   "metadata": {
    "collapsed": true
   },
   "outputs": [],
   "source": [
    "import time"
   ]
  },
  {
   "cell_type": "code",
   "execution_count": 114,
   "metadata": {
    "collapsed": true
   },
   "outputs": [],
   "source": [
    "logger.setLevel(logging.INFO)"
   ]
  },
  {
   "cell_type": "code",
   "execution_count": 4,
   "metadata": {
    "collapsed": false
   },
   "outputs": [
    {
     "name": "stderr",
     "output_type": "stream",
     "text": [
      "DEBUG: 2016-06-29 11:27:39,328 - kid_readout.roach.interface.__init__:65  Creating FpgaClient\n",
      "DEBUG: 2016-06-29 11:27:39,329 - kid_readout.roach.interface.__init__:69  Waiting for connection to ROACH\n",
      "DEBUG: 2016-06-29 11:27:39,330 - kid_readout.roach.interface.__init__:74  ROACH is connected\n",
      "INFO: 2016-06-29 11:27:40,184 - kid_readout.roach.interface.initialize:411  Loaded ROACH state from /data/readout/r2kid_config.npz\n",
      "DEBUG: 2016-06-29 11:27:40,188 - kid_readout.roach.interface.initialize:420  Programmed boffile crc: -18100485\n",
      "DEBUG: 2016-06-29 11:27:40,221 - kid_readout.roach.r2heterodyne.initialize:55  Stopped tap interface\n",
      "DEBUG: 2016-06-29 11:27:40,287 - kid_readout.roach.r2heterodyne.initialize:59  Started tap interface\n",
      "DEBUG: 2016-06-29 11:27:40,289 - kid_readout.roach.r2heterodyne.initialize:61  Checking QDR calibration\n",
      "DEBUG: 2016-06-29 11:27:40,358 - kid_readout.roach.r2heterodyne.initialize:66  QDR is calibrated\n"
     ]
    },
    {
     "name": "stdout",
     "output_type": "stream",
     "text": [
      "CPU times: user 819 ms, sys: 57 ms, total: 876 ms\n",
      "Wall time: 1.33 s\n"
     ]
    }
   ],
   "source": [
    "%time ri = hardware_tools.r2_with_mk1()"
   ]
  },
  {
   "cell_type": "code",
   "execution_count": 10,
   "metadata": {
    "collapsed": true
   },
   "outputs": [],
   "source": [
    "ri.set_loopback(False)"
   ]
  },
  {
   "cell_type": "code",
   "execution_count": 83,
   "metadata": {
    "collapsed": false
   },
   "outputs": [],
   "source": [
    "ri.iq_delay=-1"
   ]
  },
  {
   "cell_type": "code",
   "execution_count": 127,
   "metadata": {
    "collapsed": true
   },
   "outputs": [],
   "source": [
    "ri.set_lo(1810.)"
   ]
  },
  {
   "cell_type": "code",
   "execution_count": 120,
   "metadata": {
    "collapsed": false
   },
   "outputs": [
    {
     "data": {
      "text/plain": [
       "array([-220., -190., -160., -130., -100.,  -70.,  -40.,  -10.,   12.,\n",
       "         42.,   72.,  102.,  132.,  162.,  192.,  222.])"
      ]
     },
     "execution_count": 120,
     "metadata": {},
     "output_type": "execute_result"
    }
   ],
   "source": [
    "ri.set_tone_baseband_freqs(np.hstack((np.linspace(-220,-10,8),np.linspace(10,220,8)+2)),nsamp=2**16)"
   ]
  },
  {
   "cell_type": "code",
   "execution_count": 108,
   "metadata": {
    "collapsed": false
   },
   "outputs": [
    {
     "data": {
      "text/plain": [
       "(1, 16)"
      ]
     },
     "execution_count": 108,
     "metadata": {},
     "output_type": "execute_result"
    }
   ],
   "source": [
    "ri.tone_baseband_frequencies.shape"
   ]
  },
  {
   "cell_type": "code",
   "execution_count": 109,
   "metadata": {
    "collapsed": true
   },
   "outputs": [],
   "source": [
    "ri.set_dac_atten(20)"
   ]
  },
  {
   "cell_type": "code",
   "execution_count": 152,
   "metadata": {
    "collapsed": true
   },
   "outputs": [],
   "source": [
    "def find_best_iq_delay_adc(ri,iq_delay_range=np.arange(-4,4), do_plot=False):\n",
    "    tone_baseband_frequencies = ri.tone_baseband_frequencies\n",
    "    total_rejections = []\n",
    "    for iq_delay in iq_delay_range:\n",
    "        ri.iq_delay = iq_delay\n",
    "        ri.set_tone_baseband_freqs(tone_baseband_frequencies,ri.tone_nsamp)\n",
    "#        time.sleep(0.1)\n",
    "        x,y = ri.get_raw_adc()\n",
    "        pxx,fr = mlab.psd(x+1j*y,Fs=ri.fs,NFFT=512)\n",
    "        rejections = []\n",
    "        for idx,tone in enumerate(tone_baseband_frequencies[0,:]):\n",
    "            signal = dB(pxx[np.argmin(np.abs(fr-tone))],as_power=False)\n",
    "            image = dB(pxx[np.argmin(np.abs(fr+tone))],as_power=False)\n",
    "            rejection = signal-image\n",
    "            logger.debug(\"\\nAt iq_delay: %d, tone: %.1f MHz, signal: %.1f dB, image %.1f dB, rejection %.1f dB\" % \n",
    "                       (iq_delay, tone, signal, image, rejection))\n",
    "            rejections.append(rejection)\n",
    "        total_rejections.append(np.median(rejections))\n",
    "    best = np.argmax(total_rejections)\n",
    "    logger.info(\"Best delay is %d with median rejection %.1f dB\" % (iq_delay_range[best],total_rejections[best]))\n",
    "    if do_plot:\n",
    "        plt.plot(iq_delay_range,total_rejections)\n",
    "    return iq_delay_range[best], total_rejections[best]"
   ]
  },
  {
   "cell_type": "code",
   "execution_count": 153,
   "metadata": {
    "collapsed": true
   },
   "outputs": [],
   "source": [
    "ri.set_loopback(False)"
   ]
  },
  {
   "cell_type": "code",
   "execution_count": 155,
   "metadata": {
    "collapsed": true
   },
   "outputs": [],
   "source": [
    "import valon_synth"
   ]
  },
  {
   "cell_type": "code",
   "execution_count": 156,
   "metadata": {
    "collapsed": false
   },
   "outputs": [
    {
     "data": {
      "text/plain": [
       "'/home/gjones/miniconda2/envs/readout/lib/python2.7/site-packages/valon_synth/__init__.pyc'"
      ]
     },
     "execution_count": 156,
     "metadata": {},
     "output_type": "execute_result"
    }
   ],
   "source": [
    "valon_synth.__file__"
   ]
  },
  {
   "cell_type": "code",
   "execution_count": 154,
   "metadata": {
    "collapsed": false
   },
   "outputs": [
    {
     "name": "stderr",
     "output_type": "stream",
     "text": [
      "INFO: 2016-06-29 13:24:31,079 - kid_readout.find_best_iq_delay_adc:20  Best delay is 0 with median rejection 19.1 dB\n"
     ]
    },
    {
     "name": "stdout",
     "output_type": "stream",
     "text": [
      "CPU times: user 310 ms, sys: 40 ms, total: 350 ms\n",
      "Wall time: 948 ms\n"
     ]
    },
    {
     "data": {
      "text/plain": [
       "0"
      ]
     },
     "execution_count": 154,
     "metadata": {},
     "output_type": "execute_result"
    },
    {
     "data": {
      "image/png": "[encoded data removed]",
      "text/plain": [
       "<matplotlib.figure.Figure at 0x7f2b59cf19d0>"
      ]
     },
     "metadata": {},
     "output_type": "display_data"
    }
   ],
   "source": [
    "%time find_best_iq_delay_adc(ri,[-1,0,1])"
   ]
  },
  {
   "cell_type": "code",
   "execution_count": 133,
   "metadata": {
    "collapsed": true
   },
   "outputs": [],
   "source": [
    "x,y = ri.get_raw_adc()"
   ]
  },
  {
   "cell_type": "code",
   "execution_count": 143,
   "metadata": {
    "collapsed": true
   },
   "outputs": [],
   "source": [
    "hx,b = np.histogram(x,bins=np.arange(-2048,2048,16))\n",
    "hy,b = np.histogram(y,bins=np.arange(-2048,2048,16))\n"
   ]
  },
  {
   "cell_type": "code",
   "execution_count": 144,
   "metadata": {
    "collapsed": false
   },
   "outputs": [
    {
     "data": {
      "text/plain": [
       "[<matplotlib.lines.Line2D at 0x7f2b59c86290>]"
      ]
     },
     "execution_count": 144,
     "metadata": {},
     "output_type": "execute_result"
    },
    {
     "data": {
      "image/png": "[encoded data removed]",
      "text/plain": [
       "<matplotlib.figure.Figure at 0x7f2b59b4b610>"
      ]
     },
     "metadata": {},
     "output_type": "display_data"
    }
   ],
   "source": [
    "plot(b[:-1],hx)\n",
    "plot(b[:-1],hy)\n",
    "#xlim(-100,100)"
   ]
  },
  {
   "cell_type": "code",
   "execution_count": 94,
   "metadata": {
    "collapsed": false
   },
   "outputs": [],
   "source": [
    "pxx,fr = mlab.psd(x+1j*y,Fs=512.,NFFT=512)"
   ]
  },
  {
   "cell_type": "code",
   "execution_count": 99,
   "metadata": {
    "collapsed": false
   },
   "outputs": [
    {
     "data": {
      "text/plain": [
       "17.548255444561278"
      ]
     },
     "execution_count": 99,
     "metadata": {},
     "output_type": "execute_result"
    }
   ],
   "source": [
    "10*np.log10(pxx[np.argmin(np.abs(fr-65))]/pxx[np.argmin(np.abs(fr+65))])"
   ]
  },
  {
   "cell_type": "code",
   "execution_count": 98,
   "metadata": {
    "collapsed": false
   },
   "outputs": [
    {
     "data": {
      "text/plain": [
       "-21.962146372515669"
      ]
     },
     "execution_count": 98,
     "metadata": {},
     "output_type": "execute_result"
    }
   ],
   "source": [
    "10*np.log10(pxx[np.argmin(np.abs(fr-130))]/pxx[np.argmin(np.abs(fr+130))])"
   ]
  },
  {
   "cell_type": "code",
   "execution_count": 93,
   "metadata": {
    "collapsed": false
   },
   "outputs": [
    {
     "data": {
      "text/plain": [
       "[<matplotlib.lines.Line2D at 0x7f2b599661d0>]"
      ]
     },
     "execution_count": 93,
     "metadata": {},
     "output_type": "execute_result"
    },
    {
     "data": {
      "image/png": "[encoded data removed]",
      "text/plain": [
       "<matplotlib.figure.Figure at 0x7f2b598cb710>"
      ]
     },
     "metadata": {},
     "output_type": "display_data"
    }
   ],
   "source": [
    "plot(x[:100])"
   ]
  },
  {
   "cell_type": "code",
   "execution_count": null,
   "metadata": {
    "collapsed": true
   },
   "outputs": [],
   "source": []
  }
 ],
 "metadata": {
  "kernelspec": {
   "display_name": "Python 2",
   "language": "python",
   "name": "python2"
  },
  "language_info": {
   "codemirror_mode": {
    "name": "ipython",
    "version": 2
   },
   "file_extension": ".py",
   "mimetype": "text/x-python",
   "name": "python",
   "nbconvert_exporter": "python",
   "pygments_lexer": "ipython2",
   "version": "2.7.11"
  }
 },
 "nbformat": 4,
 "nbformat_minor": 0
}
