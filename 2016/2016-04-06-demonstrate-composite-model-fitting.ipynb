{
 "cells": [
  {
   "cell_type": "code",
   "execution_count": 1,
   "metadata": {
    "collapsed": false
   },
   "outputs": [
    {
     "name": "stdout",
     "output_type": "stream",
     "text": [
      "Populating the interactive namespace from numpy and matplotlib\n"
     ]
    }
   ],
   "source": [
    "%pylab inline"
   ]
  },
  {
   "cell_type": "code",
   "execution_count": 2,
   "metadata": {
    "collapsed": true
   },
   "outputs": [],
   "source": [
    "from kid_readout.measurement.io import readoutnc"
   ]
  },
  {
   "cell_type": "code",
   "execution_count": 3,
   "metadata": {
    "collapsed": true
   },
   "outputs": [],
   "source": [
    "rnc = readoutnc.ReadoutNetCDF('/artemis/readout/2016-03-01_103311_cw_noise_test.nc')"
   ]
  },
  {
   "cell_type": "code",
   "execution_count": 4,
   "metadata": {
    "collapsed": false
   },
   "outputs": [],
   "source": [
    "fr,s21,err = rnc.sweep_20160301103524.select_by_index(7)"
   ]
  },
  {
   "cell_type": "code",
   "execution_count": 5,
   "metadata": {
    "collapsed": false
   },
   "outputs": [
    {
     "data": {
      "text/plain": [
       "1108.58984375"
      ]
     },
     "execution_count": 5,
     "metadata": {},
     "output_type": "execute_result"
    }
   ],
   "source": [
    "fr.mean()"
   ]
  },
  {
   "cell_type": "code",
   "execution_count": 6,
   "metadata": {
    "collapsed": false
   },
   "outputs": [
    {
     "data": {
      "text/plain": [
       "[<matplotlib.lines.Line2D at 0x7f722a8a5a50>]"
      ]
     },
     "execution_count": 6,
     "metadata": {},
     "output_type": "execute_result"
    },
    {
     "data": {
      "image/png": "[encoded data removed]",
      "text/plain": [
       "<matplotlib.figure.Figure at 0x7f7255fc4410>"
      ]
     },
     "metadata": {},
     "output_type": "display_data"
    }
   ],
   "source": [
    "plot(fr,np.abs(s21))"
   ]
  },
  {
   "cell_type": "code",
   "execution_count": 7,
   "metadata": {
    "collapsed": true
   },
   "outputs": [],
   "source": [
    "import kid_readout.analysis.resonator.lmfit_resonator as resonator"
   ]
  },
  {
   "cell_type": "code",
   "execution_count": 8,
   "metadata": {
    "collapsed": true
   },
   "outputs": [],
   "source": [
    "from kid_readout.analysis.resonator import lmfit_models"
   ]
  },
  {
   "cell_type": "code",
   "execution_count": 9,
   "metadata": {
    "collapsed": false
   },
   "outputs": [],
   "source": [
    "model = ((lmfit_models.GeneralCableModel()\n",
    "                                                       * lmfit_models.LinearResonatorModel(prefix='bg_'))\n",
    "                                                      * lmfit_models.LinearResonatorModel())"
   ]
  },
  {
   "cell_type": "code",
   "execution_count": 10,
   "metadata": {
    "collapsed": false
   },
   "outputs": [],
   "source": [
    "res = resonator.CollidingLinearResonatorsWithCable(frequency=fr*1e6,s21=s21,errors=err)"
   ]
  },
  {
   "cell_type": "code",
   "execution_count": 11,
   "metadata": {
    "collapsed": true
   },
   "outputs": [],
   "source": [
    "res.fit()"
   ]
  },
  {
   "cell_type": "code",
   "execution_count": 13,
   "metadata": {
    "collapsed": true
   },
   "outputs": [],
   "source": [
    "res.fit()"
   ]
  },
  {
   "cell_type": "code",
   "execution_count": 14,
   "metadata": {
    "collapsed": false
   },
   "outputs": [
    {
     "data": {
      "text/plain": [
       "Parameters([('delay',\n",
       "             <Parameter 'delay', -3.1299454785247621e-05, bounds=[-inf:inf]>),\n",
       "            ('phi',\n",
       "             <Parameter 'phi', 1.7682890205581314, bounds=[-3.141592653589793:3.141592653589793]>),\n",
       "            ('f_min',\n",
       "             <Parameter 'f_min', value=1107585937.5 (fixed), bounds=[-inf:inf]>),\n",
       "            ('A_mag',\n",
       "             <Parameter 'A_mag', 0.98249640686523287, bounds=[0:inf]>),\n",
       "            ('A_slope',\n",
       "             <Parameter 'A_slope', -6.5173348749623353e-09, bounds=[-inf:inf]>),\n",
       "            ('bg_f_0',\n",
       "             <Parameter 'bg_f_0', 1109092894.8933589, bounds=[1107585937.5:1109593750.0]>),\n",
       "            ('bg_Q',\n",
       "             <Parameter 'bg_Q', 30255.147775339119, bounds=[55.238910505836579:141964.0]>),\n",
       "            ('bg_Q_e_real',\n",
       "             <Parameter 'bg_Q_e_real', 88681.71150522797, bounds=[0:10000000.0]>),\n",
       "            ('bg_Q_e_imag',\n",
       "             <Parameter 'bg_Q_e_imag', 8624.6449450682849, bounds=[-10000000.0:10000000.0]>),\n",
       "            ('fg_f_0',\n",
       "             <Parameter 'fg_f_0', 1108486149.6404414, bounds=[1107585937.5:1109593750.0]>),\n",
       "            ('fg_Q',\n",
       "             <Parameter 'fg_Q', 10471.540426060639, bounds=[55.238910505836579:141964.0]>),\n",
       "            ('fg_Q_e_real',\n",
       "             <Parameter 'fg_Q_e_real', 116653.60833593263, bounds=[0:10000000.0]>),\n",
       "            ('fg_Q_e_imag',\n",
       "             <Parameter 'fg_Q_e_imag', 32221.501712383702, bounds=[-10000000.0:10000000.0]>)])"
      ]
     },
     "execution_count": 14,
     "metadata": {},
     "output_type": "execute_result"
    }
   ],
   "source": [
    "res.current_params"
   ]
  },
  {
   "cell_type": "code",
   "execution_count": 15,
   "metadata": {
    "collapsed": false
   },
   "outputs": [
    {
     "data": {
      "text/plain": [
       "<lmfit.Model: ((Model(general_cable) * Model(linear_resonator, prefix='bg_')) * Model(linear_resonator, prefix='fg_'))>"
      ]
     },
     "execution_count": 15,
     "metadata": {},
     "output_type": "execute_result"
    }
   ],
   "source": [
    "res.model"
   ]
  },
  {
   "cell_type": "code",
   "execution_count": 16,
   "metadata": {
    "collapsed": false
   },
   "outputs": [],
   "source": [
    "s21c = res.remove_background(fr,s21)"
   ]
  },
  {
   "cell_type": "code",
   "execution_count": 17,
   "metadata": {
    "collapsed": false
   },
   "outputs": [
    {
     "data": {
      "text/plain": [
       "[<matplotlib.lines.Line2D at 0x7f72203ea490>]"
      ]
     },
     "execution_count": 17,
     "metadata": {},
     "output_type": "execute_result"
    },
    {
     "data": {
      "image/png": "[encoded data removed]",
      "text/plain": [
       "<matplotlib.figure.Figure at 0x7f72205235d0>"
      ]
     },
     "metadata": {},
     "output_type": "display_data"
    }
   ],
   "source": [
    "plot(s21c)"
   ]
  },
  {
   "cell_type": "code",
   "execution_count": 18,
   "metadata": {
    "collapsed": false
   },
   "outputs": [
    {
     "data": {
      "text/plain": [
       "<lmfit.Model: Model(linear_resonator, prefix='fg_')>"
      ]
     },
     "execution_count": 18,
     "metadata": {},
     "output_type": "execute_result"
    }
   ],
   "source": [
    "res.model.right"
   ]
  },
  {
   "cell_type": "code",
   "execution_count": 19,
   "metadata": {
    "collapsed": false
   },
   "outputs": [
    {
     "data": {
      "text/plain": [
       "<lmfit.Model: Model(linear_resonator, prefix='bg_')>"
      ]
     },
     "execution_count": 19,
     "metadata": {},
     "output_type": "execute_result"
    }
   ],
   "source": [
    "res.model.left.right"
   ]
  },
  {
   "cell_type": "code",
   "execution_count": 20,
   "metadata": {
    "collapsed": false
   },
   "outputs": [
    {
     "data": {
      "text/plain": [
       "{'Q': 10471.540426060639,\n",
       " 'Q_e_imag': 32221.501712383702,\n",
       " 'Q_e_real': 116653.60833593263,\n",
       " 'f_0': 1108486149.6404414}"
      ]
     },
     "execution_count": 20,
     "metadata": {},
     "output_type": "execute_result"
    }
   ],
   "source": [
    "res.model.right.make_funcargs(params=res.current_params)"
   ]
  },
  {
   "cell_type": "code",
   "execution_count": 24,
   "metadata": {
    "collapsed": false
   },
   "outputs": [
    {
     "data": {
      "text/plain": [
       "{'Q': 30255.147775339119,\n",
       " 'Q_e_imag': 8624.6449450682849,\n",
       " 'Q_e_real': 88681.71150522797,\n",
       " 'f_0': 1109092894.8933589}"
      ]
     },
     "execution_count": 24,
     "metadata": {},
     "output_type": "execute_result"
    }
   ],
   "source": [
    "res.model.left.right.make_funcargs(params=res.current_params,strip=True)"
   ]
  },
  {
   "cell_type": "code",
   "execution_count": 27,
   "metadata": {
    "collapsed": false
   },
   "outputs": [],
   "source": [
    "s21c = res.remove_background(frequency=fr*1e6,s21_raw=s21)"
   ]
  },
  {
   "cell_type": "code",
   "execution_count": 29,
   "metadata": {
    "collapsed": false
   },
   "outputs": [
    {
     "data": {
      "text/plain": [
       "[<matplotlib.lines.Line2D at 0x7f722316b390>]"
      ]
     },
     "execution_count": 29,
     "metadata": {},
     "output_type": "execute_result"
    },
    {
     "data": {
      "image/png": "[encoded data removed]",
      "text/plain": [
       "<matplotlib.figure.Figure at 0x7f721eae2910>"
      ]
     },
     "metadata": {},
     "output_type": "display_data"
    }
   ],
   "source": [
    "plot(fr,np.abs(res.model.eval(f=fr*1e6,params=res.current_params)))\n",
    "plot(fr,np.abs(res.model.right.eval(f=fr*1e6,params=res.current_params)))\n",
    "plot(fr,np.abs(res.model.left.right.eval(f=fr*1e6,params=res.current_params)))\n",
    "\n",
    "plot(fr,np.abs(s21))\n",
    "#plot(fr,np.abs(s21c))\n"
   ]
  },
  {
   "cell_type": "code",
   "execution_count": 30,
   "metadata": {
    "collapsed": false
   },
   "outputs": [
    {
     "data": {
      "text/plain": [
       "[<matplotlib.lines.Line2D at 0x7f721e771610>]"
      ]
     },
     "execution_count": 30,
     "metadata": {},
     "output_type": "execute_result"
    },
    {
     "data": {
      "image/png": "[encoded data removed]",
      "text/plain": [
       "<matplotlib.figure.Figure at 0x7f7220418ad0>"
      ]
     },
     "metadata": {},
     "output_type": "display_data"
    }
   ],
   "source": [
    "plot(fr,np.abs(s21))\n",
    "plot(fr,np.abs(s21c))"
   ]
  },
  {
   "cell_type": "code",
   "execution_count": null,
   "metadata": {
    "collapsed": true
   },
   "outputs": [],
   "source": []
  }
 ],
 "metadata": {
  "kernelspec": {
   "display_name": "Python 2",
   "language": "python",
   "name": "python2"
  },
  "language_info": {
   "codemirror_mode": {
    "name": "ipython",
    "version": 2
   },
   "file_extension": ".py",
   "mimetype": "text/x-python",
   "name": "python",
   "nbconvert_exporter": "python",
   "pygments_lexer": "ipython2",
   "version": "2.7.11"
  }
 },
 "nbformat": 4,
 "nbformat_minor": 0
}
