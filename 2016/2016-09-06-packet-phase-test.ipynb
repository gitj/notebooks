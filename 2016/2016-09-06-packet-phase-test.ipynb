{
 "cells": [
  {
   "cell_type": "code",
   "execution_count": 1,
   "metadata": {
    "collapsed": false
   },
   "outputs": [
    {
     "name": "stderr",
     "output_type": "stream",
     "text": [
      "/home/gjones/miniconda2/envs/readout/lib/python2.7/site-packages/matplotlib/font_manager.py:273: UserWarning: Matplotlib is building the font cache using fc-list. This may take a moment.\n",
      "  warnings.warn('Matplotlib is building the font cache using fc-list. This may take a moment.')\n"
     ]
    },
    {
     "name": "stdout",
     "output_type": "stream",
     "text": [
      "Populating the interactive namespace from numpy and matplotlib\n"
     ]
    }
   ],
   "source": [
    "%pylab inline"
   ]
  },
  {
   "cell_type": "code",
   "execution_count": 2,
   "metadata": {
    "collapsed": false
   },
   "outputs": [
    {
     "name": "stderr",
     "output_type": "stream",
     "text": [
      "INFO     2016-09-06 14:30:48,238 - kid_readout.<module>:13  kid_readout logging setup with default stream handler\n"
     ]
    }
   ],
   "source": [
    "from kid_readout.interactive import *"
   ]
  },
  {
   "cell_type": "code",
   "execution_count": 3,
   "metadata": {
    "collapsed": true
   },
   "outputs": [],
   "source": [
    "from kid_readout.roach.tests.mock_valon import MockValon\n",
    "from kid_readout.roach import tools\n",
    "from kid_readout.roach import demodulator"
   ]
  },
  {
   "cell_type": "code",
   "execution_count": 4,
   "metadata": {
    "collapsed": false
   },
   "outputs": [
    {
     "name": "stderr",
     "output_type": "stream",
     "text": [
      "INFO     2016-09-06 14:30:51,542 - kid_readout.roach.interface.initialize:464  Reinitializing system\n",
      "INFO     2016-09-06 14:30:51,675 - kid_readout.roach.interface.initialize:471  Programming r2iq2xpfb14mcr18gb_2016_Jun_30_1104.bof\n",
      "INFO     2016-09-06 14:30:52,273 - kid_readout.roach.interface.set_fft_gain:307  Set FFT gain integer to 4.\n",
      "INFO     2016-09-06 14:30:54,288 - kid_readout.roach.interface.initialize:488  Requested sampling rate 512.0 MHz. Estimated sampling rate 513.0 MHz\n",
      "INFO     2016-09-06 14:30:57,696 - kid_readout.roach.r2heterodyne.initialize:72  Succesfully recalibrated QDR\n",
      "INFO     2016-09-06 14:30:57,778 - kid_readout.roach.interface.set_fft_gain:307  Set FFT gain integer to 0.\n"
     ]
    }
   ],
   "source": [
    "ri = Roach2Heterodyne(roachip=ROACH2_IP, adc_valon=ROACH2_VALON, host_ip=ROACH2_HOST_IP,\n",
    "                                  lo_valon=MockValon(), initialize=False)\n",
    "ri.initialize(use_config=False)\n",
    "ri.set_loopback(True)\n",
    "ri.set_fft_gain(0)"
   ]
  },
  {
   "cell_type": "code",
   "execution_count": 5,
   "metadata": {
    "collapsed": false
   },
   "outputs": [
    {
     "name": "stderr",
     "output_type": "stream",
     "text": [
      "INFO     2016-09-06 14:30:59,969 - kid_readout.roach.interface.set_fft_gain:307  Set FFT gain integer to 4.\n"
     ]
    }
   ],
   "source": [
    "ri.set_fft_gain(4)"
   ]
  },
  {
   "cell_type": "code",
   "execution_count": 6,
   "metadata": {
    "collapsed": false
   },
   "outputs": [],
   "source": [
    "nchan = 512\n",
    "nsamp = 2**18\n",
    "phases = tools.preset_phases(nchan)\n",
    "phases[1] = 0.0\n",
    "freqs = np.linspace(12.123, 252.3123,num=nchan)\n",
    "ri.set_tone_baseband_freqs(freqs,nsamp=nsamp, phases=phases)\n",
    "ri.select_fft_bins(range(nchan))\n",
    "ri.phase0=None\n",
    "gold_data,_ = ri.get_data(ri.blocks_per_second,demod=True)\n",
    "raw_data,raw_seqno = ri.get_data(ri.blocks_per_second,demod=False)\n",
    "stream_demod = demodulator.get_stream_demodulator_from_roach_state(ri.state,ri.active_state_arrays)\n",
    "demod_data = stream_demod.demodulate_stream(raw_data,raw_seqno-ri.phase0)"
   ]
  },
  {
   "cell_type": "code",
   "execution_count": 14,
   "metadata": {
    "collapsed": false
   },
   "outputs": [
    {
     "data": {
      "text/plain": [
       "(31252, 256)"
      ]
     },
     "execution_count": 14,
     "metadata": {},
     "output_type": "execute_result"
    }
   ],
   "source": [
    "gold_data.shape"
   ]
  },
  {
   "cell_type": "code",
   "execution_count": 46,
   "metadata": {
    "collapsed": false
   },
   "outputs": [
    {
     "data": {
      "text/plain": [
       "-16025.6"
      ]
     },
     "execution_count": 46,
     "metadata": {},
     "output_type": "execute_result"
    }
   ],
   "source": [
    "stream_demod.hardware_delay_samples"
   ]
  },
  {
   "cell_type": "code",
   "execution_count": 47,
   "metadata": {
    "collapsed": true
   },
   "outputs": [],
   "source": [
    "stream_demod.hardware_delay_samples = 0"
   ]
  },
  {
   "cell_type": "code",
   "execution_count": 7,
   "metadata": {
    "collapsed": true
   },
   "outputs": [],
   "source": [
    "dwave,period = stream_demod.create_demodulation_waveform(raw_data.shape,raw_seqno-ri.phase0)"
   ]
  },
  {
   "cell_type": "code",
   "execution_count": 208,
   "metadata": {
    "collapsed": false
   },
   "outputs": [
    {
     "data": {
      "image/png": "[encoded data removed]",
      "text/plain": [
       "<matplotlib.figure.Figure at 0x7f0cbc692390>"
      ]
     },
     "metadata": {},
     "output_type": "display_data"
    }
   ],
   "source": [
    "plot_ri(raw_data[:,1],'.')"
   ]
  },
  {
   "cell_type": "code",
   "execution_count": 8,
   "metadata": {
    "collapsed": true
   },
   "outputs": [],
   "source": [
    "err = np.abs(gold_data - demod_data).max(0)"
   ]
  },
  {
   "cell_type": "code",
   "execution_count": 9,
   "metadata": {
    "collapsed": false
   },
   "outputs": [
    {
     "data": {
      "text/plain": [
       "[<matplotlib.lines.Line2D at 0x7f93cdf5a150>]"
      ]
     },
     "execution_count": 9,
     "metadata": {},
     "output_type": "execute_result"
    },
    {
     "data": {
      "image/png": "[encoded data removed]",
      "text/plain": [
       "<matplotlib.figure.Figure at 0x7f9410558f90>"
      ]
     },
     "metadata": {},
     "output_type": "display_data"
    }
   ],
   "source": [
    "plot(np.abs(demod_data.real).max(0))"
   ]
  },
  {
   "cell_type": "code",
   "execution_count": null,
   "metadata": {
    "collapsed": true
   },
   "outputs": [],
   "source": []
  },
  {
   "cell_type": "code",
   "execution_count": 10,
   "metadata": {
    "collapsed": false,
    "scrolled": true
   },
   "outputs": [
    {
     "data": {
      "text/plain": [
       "[<matplotlib.lines.Line2D at 0x7f93cde5d890>]"
      ]
     },
     "execution_count": 10,
     "metadata": {},
     "output_type": "execute_result"
    },
    {
     "data": {
      "image/png": "[encoded data removed]",
      "text/plain": [
       "<matplotlib.figure.Figure at 0x7f93cdfd38d0>"
      ]
     },
     "metadata": {},
     "output_type": "display_data"
    }
   ],
   "source": [
    "plot(err,'.')"
   ]
  },
  {
   "cell_type": "code",
   "execution_count": 165,
   "metadata": {
    "collapsed": false
   },
   "outputs": [
    {
     "data": {
      "text/plain": [
       "array([ 1.00000991,  1.00107407,  1.00988204,  1.01801465,  1.04404304,\n",
       "        1.06288534,  1.06285105,  1.47645409,  1.01809636,  1.42821368])"
      ]
     },
     "execution_count": 165,
     "metadata": {},
     "output_type": "execute_result"
    }
   ],
   "source": [
    "err[:10]"
   ]
  },
  {
   "cell_type": "code",
   "execution_count": 166,
   "metadata": {
    "collapsed": false
   },
   "outputs": [
    {
     "data": {
      "text/plain": [
       "152"
      ]
     },
     "execution_count": 166,
     "metadata": {},
     "output_type": "execute_result"
    }
   ],
   "source": [
    "err.argmax()"
   ]
  },
  {
   "cell_type": "code",
   "execution_count": 144,
   "metadata": {
    "collapsed": false
   },
   "outputs": [
    {
     "data": {
      "text/plain": [
       "8.5119852354356091e-05"
      ]
     },
     "execution_count": 144,
     "metadata": {},
     "output_type": "execute_result"
    }
   ],
   "source": [
    "err[235]"
   ]
  },
  {
   "cell_type": "code",
   "execution_count": 11,
   "metadata": {
    "collapsed": false
   },
   "outputs": [
    {
     "data": {
      "image/png": "[encoded data removed]",
      "text/plain": [
       "<matplotlib.figure.Figure at 0x7f93cde74050>"
      ]
     },
     "metadata": {},
     "output_type": "display_data"
    }
   ],
   "source": [
    "plot_ri(gold_data[:,153],'.')\n",
    "plot_ri(demod_data[:,153],'.')"
   ]
  },
  {
   "cell_type": "code",
   "execution_count": 12,
   "metadata": {
    "collapsed": false
   },
   "outputs": [
    {
     "name": "stderr",
     "output_type": "stream",
     "text": [
      "/home/gjones/miniconda2/envs/readout/lib/python2.7/site-packages/numpy/core/numeric.py:482: ComplexWarning: Casting complex values to real discards the imaginary part\n",
      "  return array(a, dtype, copy=False, order=order)\n"
     ]
    },
    {
     "data": {
      "text/plain": [
       "[<matplotlib.lines.Line2D at 0x7f93cdd57dd0>]"
      ]
     },
     "execution_count": 12,
     "metadata": {},
     "output_type": "execute_result"
    },
    {
     "data": {
      "image/png": "[encoded data removed]",
      "text/plain": [
       "<matplotlib.figure.Figure at 0x7f93cdd57910>"
      ]
     },
     "metadata": {},
     "output_type": "display_data"
    }
   ],
   "source": [
    "plot(gold_data[:20,153])\n",
    "plot(demod_data[:20,153])\n"
   ]
  },
  {
   "cell_type": "code",
   "execution_count": 205,
   "metadata": {
    "collapsed": false
   },
   "outputs": [
    {
     "data": {
      "text/plain": [
       "dtype('complex128')"
      ]
     },
     "execution_count": 205,
     "metadata": {},
     "output_type": "execute_result"
    }
   ],
   "source": [
    "dwave.dtype"
   ]
  },
  {
   "cell_type": "code",
   "execution_count": 95,
   "metadata": {
    "collapsed": false
   },
   "outputs": [
    {
     "data": {
      "text/plain": [
       "dtype('complex64')"
      ]
     },
     "execution_count": 95,
     "metadata": {},
     "output_type": "execute_result"
    }
   ],
   "source": [
    "raw_data.dtype"
   ]
  },
  {
   "cell_type": "code",
   "execution_count": 172,
   "metadata": {
    "collapsed": false
   },
   "outputs": [
    {
     "data": {
      "text/plain": [
       "[<matplotlib.lines.Line2D at 0x7f0cbcbe9910>]"
      ]
     },
     "execution_count": 172,
     "metadata": {},
     "output_type": "execute_result"
    },
    {
     "data": {
      "image/png": "[encoded data removed]",
      "text/plain": [
       "<matplotlib.figure.Figure at 0x7f0cbcc82650>"
      ]
     },
     "metadata": {},
     "output_type": "display_data"
    }
   ],
   "source": [
    "#plot(raw_data[:20,153].real)\n",
    "plot(dwave.real[:20,3])"
   ]
  },
  {
   "cell_type": "code",
   "execution_count": 13,
   "metadata": {
    "collapsed": false
   },
   "outputs": [
    {
     "data": {
      "text/plain": [
       "[<matplotlib.lines.Line2D at 0x7f93cdc31d10>]"
      ]
     },
     "execution_count": 13,
     "metadata": {},
     "output_type": "execute_result"
    },
    {
     "data": {
      "image/png": "[encoded data removed]",
      "text/plain": [
       "<matplotlib.figure.Figure at 0x7f93cdc4a210>"
      ]
     },
     "metadata": {},
     "output_type": "display_data"
    }
   ],
   "source": [
    "plot(np.abs(raw_data).max(0))"
   ]
  },
  {
   "cell_type": "code",
   "execution_count": 14,
   "metadata": {
    "collapsed": false
   },
   "outputs": [
    {
     "data": {
      "image/png": "[encoded data removed]",
      "text/plain": [
       "<matplotlib.figure.Figure at 0x7f93cdd62890>"
      ]
     },
     "metadata": {},
     "output_type": "display_data"
    }
   ],
   "source": [
    "plot(dwave[:30,1]*raw_data[:30,1])\n",
    "plot(gold_data[:30,1])\n",
    "for k in range(8):\n",
    "    axvline(k*4)"
   ]
  },
  {
   "cell_type": "code",
   "execution_count": 151,
   "metadata": {
    "collapsed": false
   },
   "outputs": [
    {
     "data": {
      "image/png": "[encoded data removed]",
      "text/plain": [
       "<matplotlib.figure.Figure at 0x7f0cbd728590>"
      ]
     },
     "metadata": {},
     "output_type": "display_data"
    }
   ],
   "source": [
    "plot_ri(gold_data[1:,1]-demod_data[:-1,1],'.')\n",
    "#plot_ri(demod_data[:,1],'.')"
   ]
  },
  {
   "cell_type": "code",
   "execution_count": 152,
   "metadata": {
    "collapsed": false
   },
   "outputs": [
    {
     "data": {
      "text/plain": [
       "[<matplotlib.lines.Line2D at 0x7f0cbd44add0>]"
      ]
     },
     "execution_count": 152,
     "metadata": {},
     "output_type": "execute_result"
    },
    {
     "data": {
      "image/png": "[encoded data removed]",
      "text/plain": [
       "<matplotlib.figure.Figure at 0x7f0cbd529ad0>"
      ]
     },
     "metadata": {},
     "output_type": "display_data"
    }
   ],
   "source": [
    "plot(raw_data[:30,0].imag)"
   ]
  },
  {
   "cell_type": "code",
   "execution_count": 39,
   "metadata": {
    "collapsed": true
   },
   "outputs": [],
   "source": [
    "from kid_readout.roach.calculate import packet_phase, tone_offset_frequency, get_offset_frequencies_period"
   ]
  },
  {
   "cell_type": "code",
   "execution_count": 242,
   "metadata": {
    "collapsed": false
   },
   "outputs": [
    {
     "data": {
      "text/plain": [
       "<module 'kid_readout.roach.calculate' from '/home/gjones/kid_readout/kid_readout/roach/calculate.py'>"
      ]
     },
     "execution_count": 242,
     "metadata": {},
     "output_type": "execute_result"
    }
   ],
   "source": [
    "from kid_readout.roach import calculate\n",
    "reload(calculate)"
   ]
  },
  {
   "cell_type": "code",
   "execution_count": 243,
   "metadata": {
    "collapsed": false
   },
   "outputs": [],
   "source": [
    "offset_freq = tone_offset_frequency(stream_demod.tone_bins,stream_demod.tone_nsamp,stream_demod.fft_bins,stream_demod.nfft)"
   ]
  },
  {
   "cell_type": "code",
   "execution_count": 244,
   "metadata": {
    "collapsed": true
   },
   "outputs": [],
   "source": [
    "pph = calculate.packet_phase((raw_seqno-ri.phase0)[0],offset_freq,512,16,2**14)"
   ]
  },
  {
   "cell_type": "code",
   "execution_count": 245,
   "metadata": {
    "collapsed": false
   },
   "outputs": [
    {
     "data": {
      "text/plain": [
       "[<matplotlib.lines.Line2D at 0x7f0c58737890>]"
      ]
     },
     "execution_count": 245,
     "metadata": {},
     "output_type": "execute_result"
    },
    {
     "data": {
      "image/png": "[encoded data removed]",
      "text/plain": [
       "<matplotlib.figure.Figure at 0x7f0cbcc166d0>"
      ]
     },
     "metadata": {},
     "output_type": "display_data"
    }
   ],
   "source": [
    "plot(pph,'.')"
   ]
  },
  {
   "cell_type": "code",
   "execution_count": 213,
   "metadata": {
    "collapsed": false
   },
   "outputs": [
    {
     "data": {
      "text/plain": [
       "0.25"
      ]
     },
     "execution_count": 213,
     "metadata": {},
     "output_type": "execute_result"
    }
   ],
   "source": [
    "offset_freq[153]"
   ]
  },
  {
   "cell_type": "code",
   "execution_count": 214,
   "metadata": {
    "collapsed": false
   },
   "outputs": [
    {
     "data": {
      "text/plain": [
       "16"
      ]
     },
     "execution_count": 214,
     "metadata": {},
     "output_type": "execute_result"
    }
   ],
   "source": [
    "get_offset_frequencies_period(offset_freq)"
   ]
  },
  {
   "cell_type": "code",
   "execution_count": 217,
   "metadata": {
    "collapsed": false
   },
   "outputs": [],
   "source": [
    "pphase = packet_phase((raw_seqno-ri.phase0)[0],offset_freq,stream_demod.num_channels,stream_demod.nfft,stream_demod.tone_nsamp)"
   ]
  },
  {
   "cell_type": "code",
   "execution_count": 246,
   "metadata": {
    "collapsed": false
   },
   "outputs": [
    {
     "data": {
      "text/plain": [
       "[<matplotlib.lines.Line2D at 0x7f0c586f3390>]"
      ]
     },
     "execution_count": 246,
     "metadata": {},
     "output_type": "execute_result"
    },
    {
     "data": {
      "image/png": "[encoded data removed]",
      "text/plain": [
       "<matplotlib.figure.Figure at 0x7f0c586f6350>"
      ]
     },
     "metadata": {},
     "output_type": "display_data"
    }
   ],
   "source": [
    "plot(np.angle(pphase),'.')"
   ]
  },
  {
   "cell_type": "code",
   "execution_count": 223,
   "metadata": {
    "collapsed": false
   },
   "outputs": [
    {
     "data": {
      "text/plain": [
       "512"
      ]
     },
     "execution_count": 223,
     "metadata": {},
     "output_type": "execute_result"
    }
   ],
   "source": [
    "stream_demod.num_channels"
   ]
  },
  {
   "cell_type": "code",
   "execution_count": 227,
   "metadata": {
    "collapsed": false
   },
   "outputs": [
    {
     "data": {
      "text/plain": [
       "16"
      ]
     },
     "execution_count": 227,
     "metadata": {},
     "output_type": "execute_result"
    }
   ],
   "source": [
    "2**18/(1024*2**13 / 512)"
   ]
  },
  {
   "cell_type": "code",
   "execution_count": 228,
   "metadata": {
    "collapsed": false
   },
   "outputs": [
    {
     "data": {
      "text/plain": [
       "16"
      ]
     },
     "execution_count": 228,
     "metadata": {},
     "output_type": "execute_result"
    }
   ],
   "source": [
    "2**18/2**14"
   ]
  },
  {
   "cell_type": "code",
   "execution_count": 229,
   "metadata": {
    "collapsed": false
   },
   "outputs": [
    {
     "data": {
      "text/plain": [
       "15625.0"
      ]
     },
     "execution_count": 229,
     "metadata": {},
     "output_type": "execute_result"
    }
   ],
   "source": [
    "ri.blocks_per_second"
   ]
  },
  {
   "cell_type": "code",
   "execution_count": 230,
   "metadata": {
    "collapsed": false
   },
   "outputs": [
    {
     "data": {
      "text/plain": [
       "array([-0.0625,  0.    ,  0.    ,  0.0625,  0.125 ,  0.125 ,  0.1875,\n",
       "        0.25  ,  0.25  ,  0.3125])"
      ]
     },
     "execution_count": 230,
     "metadata": {},
     "output_type": "execute_result"
    }
   ],
   "source": [
    "offset_freq[:10]"
   ]
  },
  {
   "cell_type": "code",
   "execution_count": 249,
   "metadata": {
    "collapsed": false
   },
   "outputs": [
    {
     "data": {
      "image/png": "[encoded data removed]",
      "text/plain": [
       "<matplotlib.figure.Figure at 0x7f0c587bdf90>"
      ]
     },
     "metadata": {},
     "output_type": "display_data"
    }
   ],
   "source": [
    "for k in range(32):\n",
    "    d,sno = ri.get_data(2048,demod=False)\n",
    "    #ppha = (packet_phase(sno[0]-ri.phase0,offset_freq,512,2**14,2**18)[0])\n",
    "    ppha = np.exp(1j*calculate.packet_phase((sno[0]-ri.phase0),offset_freq,512,16,2**14))\n",
    "    plot_ri(d[0,1]*ppha[1],'.')\n",
    "#    plot_ri(ppha*1500,'x')"
   ]
  },
  {
   "cell_type": "code",
   "execution_count": 238,
   "metadata": {
    "collapsed": false
   },
   "outputs": [
    {
     "data": {
      "text/plain": [
       "dtype('uint32')"
      ]
     },
     "execution_count": 238,
     "metadata": {},
     "output_type": "execute_result"
    }
   ],
   "source": [
    "raw_seqno.dtype"
   ]
  },
  {
   "cell_type": "code",
   "execution_count": 239,
   "metadata": {
    "collapsed": false
   },
   "outputs": [
    {
     "data": {
      "text/plain": [
       "array([686735360, 686751744, 686768128, ..., 942686208, 942702592,\n",
       "       942718976], dtype=uint32)"
      ]
     },
     "execution_count": 239,
     "metadata": {},
     "output_type": "execute_result"
    }
   ],
   "source": [
    "raw_seqno-ri.phase0"
   ]
  },
  {
   "cell_type": "code",
   "execution_count": 221,
   "metadata": {
    "collapsed": false
   },
   "outputs": [
    {
     "data": {
      "text/plain": [
       "array([16384, 16384, 16384, 16384, 16384, 16384, 16384, 16384, 16384], dtype=uint32)"
      ]
     },
     "execution_count": 221,
     "metadata": {},
     "output_type": "execute_result"
    }
   ],
   "source": [
    "np.diff(raw_seqno[:10])"
   ]
  },
  {
   "cell_type": "code",
   "execution_count": 240,
   "metadata": {
    "collapsed": false
   },
   "outputs": [
    {
     "data": {
      "text/plain": [
       "2"
      ]
     },
     "execution_count": 240,
     "metadata": {},
     "output_type": "execute_result"
    }
   ],
   "source": [
    "1024//512"
   ]
  },
  {
   "cell_type": "code",
   "execution_count": null,
   "metadata": {
    "collapsed": true
   },
   "outputs": [],
   "source": []
  },
  {
   "cell_type": "code",
   "execution_count": 186,
   "metadata": {
    "collapsed": false
   },
   "outputs": [],
   "source": [
    "wc = stream_demod.compute_pfb_response(offset_freq)"
   ]
  },
  {
   "cell_type": "code",
   "execution_count": 197,
   "metadata": {
    "collapsed": false
   },
   "outputs": [
    {
     "data": {
      "text/plain": [
       "array([  12.3125    ,   12.78125   ,   13.25      ,   13.72070312,\n",
       "         14.18945312,   14.65820312,   15.12890625,   15.59765625,\n",
       "         16.06640625,   16.53515625,   17.00585938,   17.47460938,\n",
       "         17.94335938,   18.4140625 ,   18.8828125 ,   19.3515625 ,\n",
       "         19.8203125 ,   20.29101562,   20.75976562,   21.22851562,\n",
       "         21.69726562,   22.16796875,   22.63671875,   23.10546875,\n",
       "         23.57617188,   24.04492188,   24.51367188,   24.98242188,\n",
       "         25.453125  ,   25.921875  ,   26.390625  ,   26.86132812,\n",
       "         27.33007812,   27.79882812,   28.26757812,   28.73828125,\n",
       "         29.20703125,   29.67578125,   30.14648438,   30.61523438,\n",
       "         31.08398438,   31.55273438,   32.0234375 ,   32.4921875 ,\n",
       "         32.9609375 ,   33.4296875 ,   33.90039062,   34.36914062,\n",
       "         34.83789062,   35.30859375,   35.77734375,   36.24609375,\n",
       "         36.71484375,   37.18554688,   37.65429688,   38.12304688,\n",
       "         38.59375   ,   39.0625    ,   39.53125   ,   40.        ,\n",
       "         40.47070312,   40.93945312,   41.40820312,   41.87890625,\n",
       "         42.34765625,   42.81640625,   43.28515625,   43.75585938,\n",
       "         44.22460938,   44.69335938,   45.16210938,   45.6328125 ,\n",
       "         46.1015625 ,   46.5703125 ,   47.04101562,   47.50976562,\n",
       "         47.97851562,   48.44726562,   48.91796875,   49.38671875,\n",
       "         49.85546875,   50.32617188,   50.79492188,   51.26367188,\n",
       "         51.73242188,   52.203125  ,   52.671875  ,   53.140625  ,\n",
       "         53.61132812,   54.08007812,   54.54882812,   55.01757812,\n",
       "         55.48828125,   55.95703125,   56.42578125,   56.89453125,\n",
       "         57.36523438,   57.83398438,   58.30273438,   58.7734375 ,\n",
       "         59.2421875 ,   59.7109375 ,   60.1796875 ,   60.65039062,\n",
       "         61.11914062,   61.58789062,   62.05859375,   62.52734375,\n",
       "         62.99609375,   63.46484375,   63.93554688,   64.40429688,\n",
       "         64.87304688,   65.34375   ,   65.8125    ,   66.28125   ,\n",
       "         66.75      ,   67.22070312,   67.68945312,   68.15820312,\n",
       "         68.62695312,   69.09765625,   69.56640625,   70.03515625,\n",
       "         70.50585938,   70.97460938,   71.44335938,   71.91210938,\n",
       "         72.3828125 ,   72.8515625 ,   73.3203125 ,   73.79101562,\n",
       "         74.25976562,   74.72851562,   75.19726562,   75.66796875,\n",
       "         76.13671875,   76.60546875,   77.07617188,   77.54492188,\n",
       "         78.01367188,   78.48242188,   78.953125  ,   79.421875  ,\n",
       "         79.890625  ,   80.359375  ,   80.83007812,   81.29882812,\n",
       "         81.76757812,   82.23828125,   82.70703125,   83.17578125,\n",
       "         83.64453125,   84.11523438,   84.58398438,   85.05273438,\n",
       "         85.5234375 ,   85.9921875 ,   86.4609375 ,   86.9296875 ,\n",
       "         87.40039062,   87.86914062,   88.33789062,   88.80859375,\n",
       "         89.27734375,   89.74609375,   90.21484375,   90.68554688,\n",
       "         91.15429688,   91.62304688,   92.09179688,   92.5625    ,\n",
       "         93.03125   ,   93.5       ,   93.97070312,   94.43945312,\n",
       "         94.90820312,   95.37695312,   95.84765625,   96.31640625,\n",
       "         96.78515625,   97.25585938,   97.72460938,   98.19335938,\n",
       "         98.66210938,   99.1328125 ,   99.6015625 ,  100.0703125 ,\n",
       "        100.54101562,  101.00976562,  101.47851562,  101.94726562,\n",
       "        102.41796875,  102.88671875,  103.35546875,  103.82421875,\n",
       "        104.29492188,  104.76367188,  105.23242188,  105.703125  ,\n",
       "        106.171875  ,  106.640625  ,  107.109375  ,  107.58007812,\n",
       "        108.04882812,  108.51757812,  108.98828125,  109.45703125,\n",
       "        109.92578125,  110.39453125,  110.86523438,  111.33398438,\n",
       "        111.80273438,  112.2734375 ,  112.7421875 ,  113.2109375 ,\n",
       "        113.6796875 ,  114.15039062,  114.61914062,  115.08789062,\n",
       "        115.55664062,  116.02734375,  116.49609375,  116.96484375,\n",
       "        117.43554688,  117.90429688,  118.37304688,  118.84179688,\n",
       "        119.3125    ,  119.78125   ,  120.25      ,  120.72070312,\n",
       "        121.18945312,  121.65820312,  122.12695312,  122.59765625,\n",
       "        123.06640625,  123.53515625,  124.00585938,  124.47460938,\n",
       "        124.94335938,  125.41210938,  125.8828125 ,  126.3515625 ,\n",
       "        126.8203125 ,  127.2890625 ,  127.75976562,  128.22851562,\n",
       "        128.69726562,  129.16796875,  129.63671875,  130.10546875,\n",
       "        130.57421875,  131.04492188,  131.51367188,  131.98242188,\n",
       "        132.453125  ,  132.921875  ,  133.390625  ,  133.859375  ,\n",
       "        134.33007812,  134.79882812,  135.26757812,  135.73828125,\n",
       "        136.20703125,  136.67578125,  137.14453125,  137.61523438,\n",
       "        138.08398438,  138.55273438,  139.02148438,  139.4921875 ,\n",
       "        139.9609375 ,  140.4296875 ,  140.90039062,  141.36914062,\n",
       "        141.83789062,  142.30664062,  142.77734375,  143.24609375,\n",
       "        143.71484375,  144.18554688,  144.65429688,  145.12304688,\n",
       "        145.59179688,  146.0625    ,  146.53125   ,  147.        ,\n",
       "        147.47070312,  147.93945312,  148.40820312,  148.87695312,\n",
       "        149.34765625,  149.81640625,  150.28515625,  150.75390625,\n",
       "        151.22460938,  151.69335938,  152.16210938,  152.6328125 ,\n",
       "        153.1015625 ,  153.5703125 ,  154.0390625 ,  154.50976562,\n",
       "        154.97851562,  155.44726562,  155.91796875,  156.38671875,\n",
       "        156.85546875,  157.32421875,  157.79492188,  158.26367188,\n",
       "        158.73242188,  159.203125  ,  159.671875  ,  160.140625  ,\n",
       "        160.609375  ,  161.08007812,  161.54882812,  162.01757812,\n",
       "        162.48632812,  162.95703125,  163.42578125,  163.89453125,\n",
       "        164.36523438,  164.83398438,  165.30273438,  165.77148438,\n",
       "        166.2421875 ,  166.7109375 ,  167.1796875 ,  167.65039062,\n",
       "        168.11914062,  168.58789062,  169.05664062,  169.52734375,\n",
       "        169.99609375,  170.46484375,  170.93554688,  171.40429688,\n",
       "        171.87304688,  172.34179688,  172.8125    ,  173.28125   ,\n",
       "        173.75      ,  174.21875   ,  174.68945312,  175.15820312,\n",
       "        175.62695312,  176.09765625,  176.56640625,  177.03515625,\n",
       "        177.50390625,  177.97460938,  178.44335938,  178.91210938,\n",
       "        179.3828125 ,  179.8515625 ,  180.3203125 ,  180.7890625 ,\n",
       "        181.25976562,  181.72851562,  182.19726562,  182.66796875,\n",
       "        183.13671875,  183.60546875,  184.07421875,  184.54492188,\n",
       "        185.01367188,  185.48242188,  185.95117188,  186.421875  ,\n",
       "        186.890625  ,  187.359375  ,  187.83007812,  188.29882812,\n",
       "        188.76757812,  189.23632812,  189.70703125,  190.17578125,\n",
       "        190.64453125,  191.11523438,  191.58398438,  192.05273438,\n",
       "        192.52148438,  192.9921875 ,  193.4609375 ,  193.9296875 ,\n",
       "        194.40039062,  194.86914062,  195.33789062,  195.80664062,\n",
       "        196.27734375,  196.74609375,  197.21484375,  197.68359375,\n",
       "        198.15429688,  198.62304688,  199.09179688,  199.5625    ,\n",
       "        200.03125   ,  200.5       ,  200.96875   ,  201.43945312,\n",
       "        201.90820312,  202.37695312,  202.84765625,  203.31640625,\n",
       "        203.78515625,  204.25390625,  204.72460938,  205.19335938,\n",
       "        205.66210938,  206.1328125 ,  206.6015625 ,  207.0703125 ,\n",
       "        207.5390625 ,  208.00976562,  208.47851562,  208.94726562,\n",
       "        209.41601562,  209.88671875,  210.35546875,  210.82421875,\n",
       "        211.29492188,  211.76367188,  212.23242188,  212.70117188,\n",
       "        213.171875  ,  213.640625  ,  214.109375  ,  214.58007812,\n",
       "        215.04882812,  215.51757812,  215.98632812,  216.45703125,\n",
       "        216.92578125,  217.39453125,  217.86523438,  218.33398438,\n",
       "        218.80273438,  219.27148438,  219.7421875 ,  220.2109375 ,\n",
       "        220.6796875 ,  221.1484375 ,  221.61914062,  222.08789062,\n",
       "        222.55664062,  223.02734375,  223.49609375,  223.96484375,\n",
       "        224.43359375,  224.90429688,  225.37304688,  225.84179688,\n",
       "        226.3125    ,  226.78125   ,  227.25      ,  227.71875   ,\n",
       "        228.18945312,  228.65820312,  229.12695312,  229.59765625,\n",
       "        230.06640625,  230.53515625,  231.00390625,  231.47460938,\n",
       "        231.94335938,  232.41210938,  232.88085938,  233.3515625 ,\n",
       "        233.8203125 ,  234.2890625 ,  234.75976562,  235.22851562,\n",
       "        235.69726562,  236.16601562,  236.63671875,  237.10546875,\n",
       "        237.57421875,  238.04492188,  238.51367188,  238.98242188,\n",
       "        239.45117188,  239.921875  ,  240.390625  ,  240.859375  ,\n",
       "        241.33007812,  241.79882812,  242.26757812,  242.73632812,\n",
       "        243.20703125,  243.67578125,  244.14453125,  244.61328125,\n",
       "        245.08398438,  245.55273438,  246.02148438,  246.4921875 ,\n",
       "        246.9609375 ,  247.4296875 ,  247.8984375 ,  248.36914062,\n",
       "        248.83789062,  249.30664062,  249.77734375,  250.24609375,\n",
       "        250.71484375,  251.18359375,  251.65429688,  252.12304688])"
      ]
     },
     "execution_count": 197,
     "metadata": {},
     "output_type": "execute_result"
    }
   ],
   "source": [
    "512*stream_demod.tone_bins/float(stream_demod.tone_nsamp)"
   ]
  },
  {
   "cell_type": "code",
   "execution_count": 195,
   "metadata": {
    "collapsed": false
   },
   "outputs": [
    {
     "data": {
      "text/plain": [
       "array([ 0.,  0.,  0.,  1.,  1.,  1.,  2.,  2.,  2.,  2.,  3.,  3.,  3.,\n",
       "        4.,  4.,  4.,  4.,  5.,  5.,  5.,  5.,  6.,  6.,  6.,  7.,  7.,\n",
       "        7.,  7.,  8., -8.,  8., -7., -7., -7., -7., -6., -6., -6., -5.,\n",
       "       -5., -5., -5., -4., -4., -4., -4., -3., -3., -3., -2., -2., -2.,\n",
       "       -2., -1., -1., -1.,  0.,  0.,  0.,  0.,  1.,  1.,  1.,  2.,  2.,\n",
       "        2.,  2.,  3.,  3.,  3.,  3.,  4.,  4.,  4.,  5.,  5.,  5.,  5.,\n",
       "        6.,  6.,  6.,  7.,  7.,  7.,  7.,  8., -8.,  8., -7., -7., -7.,\n",
       "       -7., -6., -6., -6., -6., -5., -5., -5., -4., -4., -4., -4., -3.,\n",
       "       -3., -3., -2., -2., -2., -2., -1., -1., -1.,  0.,  0.,  0.,  0.,\n",
       "        1.,  1.,  1.,  1.,  2.,  2.,  2.,  3.,  3.,  3.,  3.,  4.,  4.,\n",
       "        4.,  5.,  5.,  5.,  5.,  6.,  6.,  6.,  7.,  7.,  7.,  7.,  8.,\n",
       "       -8.,  8., -8., -7., -7., -7., -6., -6., -6., -6., -5., -5., -5.,\n",
       "       -4., -4., -4., -4., -3., -3., -3., -2., -2., -2., -2., -1., -1.,\n",
       "       -1., -1.,  0.,  0.,  0.,  1.,  1.,  1.,  1.,  2.,  2.,  2.,  3.,\n",
       "        3.,  3.,  3.,  4.,  4.,  4.,  5.,  5.,  5.,  5.,  6.,  6.,  6.,\n",
       "        6.,  7.,  7.,  7.,  8., -8.,  8., -8., -7., -7., -7., -6., -6.,\n",
       "       -6., -6., -5., -5., -5., -4., -4., -4., -4., -3., -3., -3., -3.,\n",
       "       -2., -2., -2., -1., -1., -1., -1.,  0.,  0.,  0.,  1.,  1.,  1.,\n",
       "        1.,  2.,  2.,  2.,  3.,  3.,  3.,  3.,  4.,  4.,  4.,  4.,  5.,\n",
       "        5.,  5.,  6.,  6.,  6.,  6.,  7.,  7.,  7.,  8., -8.,  8., -8.,\n",
       "       -7., -7., -7., -6., -6., -6., -6., -5., -5., -5., -5., -4., -4.,\n",
       "       -4., -3., -3., -3., -3., -2., -2., -2., -1., -1., -1., -1.,  0.,\n",
       "        0.,  0.,  1.,  1.,  1.,  1.,  2.,  2.,  2.,  2.,  3.,  3.,  3.,\n",
       "        4.,  4.,  4.,  4.,  5.,  5.,  5.,  6.,  6.,  6.,  6.,  7.,  7.,\n",
       "        7.,  8., -8.,  8., -8., -7., -7., -7., -7., -6., -6., -6., -5.,\n",
       "       -5., -5., -5., -4., -4., -4., -3., -3., -3., -3., -2., -2., -2.,\n",
       "       -1., -1., -1., -1.,  0.,  0.,  0.,  0.,  1.,  1.,  1.,  2.,  2.,\n",
       "        2.,  2.,  3.,  3.,  3.,  4.,  4.,  4.,  4.,  5.,  5.,  5.,  6.,\n",
       "        6.,  6.,  6.,  7.,  7.,  7.,  7., -8.,  8., -8., -7., -7., -7.,\n",
       "       -7., -6., -6., -6., -5., -5., -5., -5., -4., -4., -4., -3., -3.,\n",
       "       -3., -3., -2., -2., -2., -2., -1., -1., -1.,  0.,  0.,  0.,  0.,\n",
       "        1.,  1.,  1.,  2.,  2.,  2.,  2.,  3.,  3.,  3.,  4.,  4.,  4.,\n",
       "        4.,  5.,  5.,  5.,  5.,  6.,  6.,  6.,  7.,  7.,  7.,  7., -8.,\n",
       "        8., -8., -7., -7., -7., -7., -6., -6., -6., -5., -5., -5., -5.,\n",
       "       -4., -4., -4., -4., -3., -3., -3., -2., -2., -2., -2., -1., -1.,\n",
       "       -1.,  0.,  0.,  0.,  0.,  1.,  1.,  1.,  2.,  2.,  2.,  2.,  3.,\n",
       "        3.,  3.,  3.,  4.,  4.,  4.,  5.,  5.,  5.,  5.,  6.,  6.,  6.,\n",
       "        7.,  7.,  7.,  7., -8.,  8., -8., -7., -7., -7., -7., -6., -6.,\n",
       "       -6., -6., -5., -5., -5., -4., -4., -4., -4., -3., -3., -3., -2.,\n",
       "       -2., -2., -2., -1., -1.])"
      ]
     },
     "execution_count": 195,
     "metadata": {},
     "output_type": "execute_result"
    }
   ],
   "source": [
    "offset_freq*16"
   ]
  },
  {
   "cell_type": "code",
   "execution_count": 38,
   "metadata": {
    "collapsed": false
   },
   "outputs": [
    {
     "data": {
      "image/png": "[encoded data removed]",
      "text/plain": [
       "<matplotlib.figure.Figure at 0x7f0ccd4ab050>"
      ]
     },
     "metadata": {},
     "output_type": "display_data"
    }
   ],
   "source": [
    "#plot_ri(raw_data[:,1],'.')\n",
    "plot_ri(dwave[:,1],'.')"
   ]
  },
  {
   "cell_type": "code",
   "execution_count": 56,
   "metadata": {
    "collapsed": false
   },
   "outputs": [
    {
     "data": {
      "image/png": "[encoded data removed]",
      "text/plain": [
       "<matplotlib.figure.Figure at 0x7f0ccd498810>"
      ]
     },
     "metadata": {},
     "output_type": "display_data"
    }
   ],
   "source": [
    "plot_ri(demod_data[:,58],'.')\n",
    "plot_ri(gold_data[:,58],'.')"
   ]
  },
  {
   "cell_type": "code",
   "execution_count": 57,
   "metadata": {
    "collapsed": false
   },
   "outputs": [
    {
     "data": {
      "image/png": "[encoded data removed]",
      "text/plain": [
       "<matplotlib.figure.Figure at 0x7f0ccdc10090>"
      ]
     },
     "metadata": {},
     "output_type": "display_data"
    }
   ],
   "source": [
    "plot_ri(demod_data[:,58]-gold_data[:,58],'.')\n"
   ]
  },
  {
   "cell_type": "code",
   "execution_count": null,
   "metadata": {
    "collapsed": true
   },
   "outputs": [],
   "source": []
  }
 ],
 "metadata": {
  "kernelspec": {
   "display_name": "Python 2",
   "language": "python",
   "name": "python2"
  },
  "language_info": {
   "codemirror_mode": {
    "name": "ipython",
    "version": 2
   },
   "file_extension": ".py",
   "mimetype": "text/x-python",
   "name": "python",
   "nbconvert_exporter": "python",
   "pygments_lexer": "ipython2",
   "version": "2.7.11"
  }
 },
 "nbformat": 4,
 "nbformat_minor": 0
}
