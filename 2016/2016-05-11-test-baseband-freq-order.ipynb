{
 "cells": [
  {
   "cell_type": "code",
   "execution_count": 1,
   "metadata": {
    "collapsed": false
   },
   "outputs": [
    {
     "name": "stderr",
     "output_type": "stream",
     "text": [
      "/home/gjones/miniconda2/envs/readout/lib/python2.7/site-packages/matplotlib/font_manager.py:273: UserWarning: Matplotlib is building the font cache using fc-list. This may take a moment.\n",
      "  warnings.warn('Matplotlib is building the font cache using fc-list. This may take a moment.')\n"
     ]
    },
    {
     "name": "stdout",
     "output_type": "stream",
     "text": [
      "Populating the interactive namespace from numpy and matplotlib\n"
     ]
    }
   ],
   "source": [
    "%pylab inline"
   ]
  },
  {
   "cell_type": "code",
   "execution_count": 2,
   "metadata": {
    "collapsed": false
   },
   "outputs": [
    {
     "name": "stderr",
     "output_type": "stream",
     "text": [
      "INFO: 2016-05-12 10:56:22,399 - kid_readout.<module>:13  kid_readout logging setup with default stream handler\n",
      "/home/gjones/kid_readout/kid_readout/equipment/lockin_controller.py:5: UserWarning: This module is deprecated use ColumbiaCMB/equipment/srs/lockin\n",
      "  warnings.warn(\"This module is deprecated use ColumbiaCMB/equipment/srs/lockin\")\n",
      "INFO: 2016-05-12 10:56:22,887 - kid_readout.roach.interface.initialize:391  Loaded ROACH state from /data/readout/roach_config.npz\n"
     ]
    }
   ],
   "source": [
    "import time\n",
    "import sys\n",
    "\n",
    "import numpy as np\n",
    "\n",
    "from kid_readout.roach import analog, hardware_tools\n",
    "from kid_readout.interactive import *\n",
    "from kid_readout.measurement.acquire import acquire,legacy_acquire\n",
    "from kid_readout.measurement.acquire import hardware\n",
    "from kid_readout.measurement import mmw_source_sweep, core, basic\n",
    "\n",
    "logger.setLevel(logging.DEBUG)\n",
    "# fg = FunctionGenerator()\n",
    "\n",
    "ifboard = analog.Baseband()\n",
    "\n",
    "setup = hardware.Hardware(ifboard)\n",
    "\n",
    "\n",
    "ri = baseband.RoachBaseband(adc_valon=ROACH1_VALON)\n",
    "\n",
    "f0s = np.array([104.293,\n",
    "                110.995,\n",
    "                141.123,\n",
    "                145.652,\n",
    "                170.508,\n",
    "                193.611,\n",
    "                195.439,\n",
    "                201.111])\n",
    "\n",
    "current_f0s = f0s\n",
    "nsamp = 2**20\n",
    "step = 1\n",
    "nstep = 48\n",
    "offset_bins = legacy_acquire.offset_integers[20]\n",
    "offsets = offset_bins * 512.0 / nsamp"
   ]
  },
  {
   "cell_type": "code",
   "execution_count": 3,
   "metadata": {
    "collapsed": false
   },
   "outputs": [
    {
     "data": {
      "text/plain": [
       "'192.168.1.1'"
      ]
     },
     "execution_count": 3,
     "metadata": {},
     "output_type": "execute_result"
    }
   ],
   "source": [
    "ri.host_ip"
   ]
  },
  {
   "cell_type": "code",
   "execution_count": 5,
   "metadata": {
    "collapsed": false
   },
   "outputs": [
    {
     "name": "stderr",
     "output_type": "stream",
     "text": [
      "INFO: 2016-05-12 10:56:32,271 - kid_readout.roach.interface._load_dram:472  Writing 1024.0 kB to DRAM/QDR\n",
      "DEBUG: 2016-05-12 10:56:32,273 - kid_readout.roach.interface._load_dram:486  bank_offset= 0  start_offset=0  start_offset_bytes=0\n",
      "DEBUG: 2016-05-12 10:56:32,273 - kid_readout.roach.interface._load_dram:488  writing DRAM bank 0\n",
      "DEBUG: 2016-05-12 10:56:33,385 - kid_readout.roach.interface._load_dram_ssh:516  \n"
     ]
    },
    {
     "data": {
      "text/plain": [
       "array([ 128.09960938,  129.09960938,  130.09960938,  131.09960938,\n",
       "        132.09960938,  133.09960938,  134.09960938,  135.09960938])"
      ]
     },
     "execution_count": 5,
     "metadata": {},
     "output_type": "execute_result"
    }
   ],
   "source": [
    "ri.set_tone_freqs(128.1+np.arange(8),nsamp=2**18)"
   ]
  },
  {
   "cell_type": "code",
   "execution_count": 6,
   "metadata": {
    "collapsed": true
   },
   "outputs": [],
   "source": [
    "ri.set_debug(1)"
   ]
  },
  {
   "cell_type": "code",
   "execution_count": 7,
   "metadata": {
    "collapsed": false
   },
   "outputs": [
    {
     "data": {
      "text/plain": [
       "3.814697265625"
      ]
     },
     "execution_count": 7,
     "metadata": {},
     "output_type": "execute_result"
    }
   ],
   "source": [
    "ri.blocks_per_second_per_channel"
   ]
  },
  {
   "cell_type": "code",
   "execution_count": 8,
   "metadata": {
    "collapsed": false
   },
   "outputs": [
    {
     "data": {
      "text/plain": [
       "30.517578125"
      ]
     },
     "execution_count": 8,
     "metadata": {},
     "output_type": "execute_result"
    }
   ],
   "source": [
    "ri.blocks_per_second"
   ]
  },
  {
   "cell_type": "code",
   "execution_count": 9,
   "metadata": {
    "collapsed": false
   },
   "outputs": [],
   "source": [
    "swa = ri.get_measurement(0,demod=False)"
   ]
  },
  {
   "cell_type": "code",
   "execution_count": 10,
   "metadata": {
    "collapsed": false
   },
   "outputs": [
    {
     "data": {
      "text/plain": [
       "array([65587, 66099, 66611, 67123, 67635, 68147, 68659, 69171])"
      ]
     },
     "execution_count": 10,
     "metadata": {},
     "output_type": "execute_result"
    }
   ],
   "source": [
    "swa.tone_bin"
   ]
  },
  {
   "cell_type": "code",
   "execution_count": 11,
   "metadata": {
    "collapsed": false
   },
   "outputs": [
    {
     "data": {
      "text/plain": [
       "array([  1.28099609e+08,   1.29099609e+08,   1.30099609e+08,\n",
       "         1.31099609e+08,   1.32099609e+08,   1.33099609e+08,\n",
       "         1.34099609e+08,   1.35099609e+08])"
      ]
     },
     "execution_count": 11,
     "metadata": {},
     "output_type": "execute_result"
    }
   ],
   "source": [
    "swa.frequency"
   ]
  },
  {
   "cell_type": "code",
   "execution_count": 12,
   "metadata": {
    "collapsed": false
   },
   "outputs": [
    {
     "data": {
      "text/plain": [
       "array([0, 1, 2, 3, 4, 5, 6, 7])"
      ]
     },
     "execution_count": 12,
     "metadata": {},
     "output_type": "execute_result"
    }
   ],
   "source": [
    "swa.tone_index"
   ]
  },
  {
   "cell_type": "code",
   "execution_count": 22,
   "metadata": {
    "collapsed": false
   },
   "outputs": [
    {
     "data": {
      "text/plain": [
       "array([ 128.09375,  129.09375,  130.09375,  131.09375,  132.09375,\n",
       "        133.09375,  134.09375,  135.09375])"
      ]
     },
     "execution_count": 22,
     "metadata": {},
     "output_type": "execute_result"
    }
   ],
   "source": [
    "256*swa.filterbank_bin/2**14."
   ]
  },
  {
   "cell_type": "code",
   "execution_count": 25,
   "metadata": {
    "collapsed": false
   },
   "outputs": [
    {
     "data": {
      "text/plain": [
       "0.0"
      ]
     },
     "execution_count": 25,
     "metadata": {},
     "output_type": "execute_result"
    }
   ],
   "source": [
    "ri.set_modulation_output('low')"
   ]
  },
  {
   "cell_type": "code",
   "execution_count": 14,
   "metadata": {
    "collapsed": false
   },
   "outputs": [
    {
     "data": {
      "text/plain": [
       "array([ 128.09960938,  129.09960938,  130.09960938,  131.09960938,\n",
       "        132.09960938,  133.09960938,  134.09960938,  135.09960938])"
      ]
     },
     "execution_count": 14,
     "metadata": {},
     "output_type": "execute_result"
    }
   ],
   "source": [
    "swa.frequency_MHz"
   ]
  },
  {
   "cell_type": "code",
   "execution_count": 15,
   "metadata": {
    "collapsed": false
   },
   "outputs": [
    {
     "data": {
      "text/plain": [
       "array([ 0.+16378.j,  0.+16314.j,  0.+16250.j,  0.+16186.j,  0.+16122.j,\n",
       "        0.+16058.j,  0.+15994.j,  0.+15930.j], dtype=complex64)"
      ]
     },
     "execution_count": 15,
     "metadata": {},
     "output_type": "execute_result"
    }
   ],
   "source": [
    "swa.s21_point"
   ]
  },
  {
   "cell_type": "code",
   "execution_count": 16,
   "metadata": {
    "collapsed": false
   },
   "outputs": [
    {
     "data": {
      "text/plain": [
       "array([ 0.+16378.j,  0.+16314.j,  0.+16250.j,  0.+16186.j,  0.+16122.j,\n",
       "        0.+16058.j,  0.+15994.j,  0.+15930.j])"
      ]
     },
     "execution_count": 16,
     "metadata": {},
     "output_type": "execute_result"
    }
   ],
   "source": [
    "swa.s21_raw.mean(1,dtype='complex')"
   ]
  },
  {
   "cell_type": "code",
   "execution_count": 17,
   "metadata": {
    "collapsed": false
   },
   "outputs": [
    {
     "data": {
      "text/plain": [
       "array([ 0.+16378.j,  0.+16314.j,  0.+16250.j,  0.+16186.j,  0.+16122.j,\n",
       "        0.+16058.j,  0.+15994.j,  0.+15930.j], dtype=complex64)"
      ]
     },
     "execution_count": 17,
     "metadata": {},
     "output_type": "execute_result"
    }
   ],
   "source": [
    "swa.s21_raw[:,0]"
   ]
  },
  {
   "cell_type": "code",
   "execution_count": 18,
   "metadata": {
    "collapsed": false
   },
   "outputs": [
    {
     "data": {
      "text/plain": [
       "(8, 512)"
      ]
     },
     "execution_count": 18,
     "metadata": {},
     "output_type": "execute_result"
    }
   ],
   "source": [
    "swa.s21_raw.shape"
   ]
  },
  {
   "cell_type": "code",
   "execution_count": 19,
   "metadata": {
    "collapsed": false
   },
   "outputs": [
    {
     "data": {
      "text/plain": [
       "array([15930, 15994, 16058, 16122, 16186, 16250, 16314, 16378])"
      ]
     },
     "execution_count": 19,
     "metadata": {},
     "output_type": "execute_result"
    }
   ],
   "source": [
    "ri.fpga_fft_readout_indexes"
   ]
  },
  {
   "cell_type": "code",
   "execution_count": 32,
   "metadata": {
    "collapsed": true
   },
   "outputs": [],
   "source": [
    "np.mean?"
   ]
  },
  {
   "cell_type": "code",
   "execution_count": 34,
   "metadata": {
    "collapsed": true
   },
   "outputs": [],
   "source": [
    "np.average??"
   ]
  },
  {
   "cell_type": "code",
   "execution_count": 39,
   "metadata": {
    "collapsed": true
   },
   "outputs": [],
   "source": [
    "from kid_readout.interactive import *"
   ]
  },
  {
   "cell_type": "code",
   "execution_count": 40,
   "metadata": {
    "collapsed": false
   },
   "outputs": [
    {
     "data": {
      "text/plain": [
       "[<logging.NullHandler at 0x7f9e76c2e7d0>,\n",
       " <logging.StreamHandler at 0x7f9e6ba3c410>]"
      ]
     },
     "execution_count": 40,
     "metadata": {},
     "output_type": "execute_result"
    }
   ],
   "source": [
    "logger.handlers"
   ]
  },
  {
   "cell_type": "code",
   "execution_count": 41,
   "metadata": {
    "collapsed": true
   },
   "outputs": [],
   "source": [
    "logger.setLevel(logging.INFO)"
   ]
  },
  {
   "cell_type": "code",
   "execution_count": 42,
   "metadata": {
    "collapsed": true
   },
   "outputs": [],
   "source": [
    "logger.debug(\"Hi\")"
   ]
  },
  {
   "cell_type": "code",
   "execution_count": 43,
   "metadata": {
    "collapsed": false
   },
   "outputs": [
    {
     "name": "stderr",
     "output_type": "stream",
     "text": [
      "INFO: 2016-05-12 09:24:35,408 - kid_readout.<module>:1  Hi\n"
     ]
    }
   ],
   "source": [
    "logger.info(\"Hi\")"
   ]
  },
  {
   "cell_type": "code",
   "execution_count": 44,
   "metadata": {
    "collapsed": false
   },
   "outputs": [
    {
     "data": {
      "text/plain": [
       "(1, 8)"
      ]
     },
     "execution_count": 44,
     "metadata": {},
     "output_type": "execute_result"
    }
   ],
   "source": [
    "ri.fft_bins.shape"
   ]
  },
  {
   "cell_type": "code",
   "execution_count": 45,
   "metadata": {
    "collapsed": true
   },
   "outputs": [],
   "source": [
    "ri.r.blindwrite?"
   ]
  },
  {
   "cell_type": "code",
   "execution_count": null,
   "metadata": {
    "collapsed": true
   },
   "outputs": [],
   "source": []
  }
 ],
 "metadata": {
  "kernelspec": {
   "display_name": "Python 2",
   "language": "python",
   "name": "python2"
  },
  "language_info": {
   "codemirror_mode": {
    "name": "ipython",
    "version": 2
   },
   "file_extension": ".py",
   "mimetype": "text/x-python",
   "name": "python",
   "nbconvert_exporter": "python",
   "pygments_lexer": "ipython2",
   "version": "2.7.11"
  }
 },
 "nbformat": 4,
 "nbformat_minor": 0
}
