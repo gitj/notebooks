{
 "cells": [
  {
   "cell_type": "code",
   "execution_count": 1,
   "metadata": {
    "collapsed": false
   },
   "outputs": [
    {
     "name": "stdout",
     "output_type": "stream",
     "text": [
      "Populating the interactive namespace from numpy and matplotlib\n"
     ]
    }
   ],
   "source": [
    "%pylab inline"
   ]
  },
  {
   "cell_type": "code",
   "execution_count": 2,
   "metadata": {
    "collapsed": true
   },
   "outputs": [],
   "source": [
    "f0 = np.load('/data/readout/resonances/2016-10-04-JPL-8x8-LF-2_firstcooldown_resonances.npy')"
   ]
  },
  {
   "cell_type": "code",
   "execution_count": 18,
   "metadata": {
    "collapsed": false
   },
   "outputs": [],
   "source": [
    "d = np.diff(f0)\n",
    "msk = np.flatnonzero(d<20e3)"
   ]
  },
  {
   "cell_type": "code",
   "execution_count": 21,
   "metadata": {
    "collapsed": false
   },
   "outputs": [
    {
     "data": {
      "text/plain": [
       "array([  1.36658000e+08,   1.36670000e+08])"
      ]
     },
     "execution_count": 21,
     "metadata": {},
     "output_type": "execute_result"
    }
   ],
   "source": [
    "f0[msk]"
   ]
  },
  {
   "cell_type": "code",
   "execution_count": 23,
   "metadata": {
    "collapsed": false
   },
   "outputs": [
    {
     "data": {
      "text/plain": [
       "array([35, 36])"
      ]
     },
     "execution_count": 23,
     "metadata": {},
     "output_type": "execute_result"
    }
   ],
   "source": [
    "msk"
   ]
  },
  {
   "cell_type": "code",
   "execution_count": 24,
   "metadata": {
    "collapsed": false
   },
   "outputs": [
    {
     "data": {
      "text/plain": [
       "(135682000.0, 136658000.0)"
      ]
     },
     "execution_count": 24,
     "metadata": {},
     "output_type": "execute_result"
    }
   ],
   "source": [
    "f0[34],f0[35]"
   ]
  },
  {
   "cell_type": "code",
   "execution_count": 26,
   "metadata": {
    "collapsed": false
   },
   "outputs": [
    {
     "data": {
      "text/plain": [
       "(136670000.0, 136681000.0, 136896316.39438018)"
      ]
     },
     "execution_count": 26,
     "metadata": {},
     "output_type": "execute_result"
    }
   ],
   "source": [
    "f0[36],f0[37],f0[38]"
   ]
  },
  {
   "cell_type": "code",
   "execution_count": 22,
   "metadata": {
    "collapsed": false,
    "scrolled": true
   },
   "outputs": [
    {
     "data": {
      "text/plain": [
       "array([  1.36670000e+08,   1.36681000e+08])"
      ]
     },
     "execution_count": 22,
     "metadata": {},
     "output_type": "execute_result"
    }
   ],
   "source": [
    "f0[msk+1]"
   ]
  },
  {
   "cell_type": "code",
   "execution_count": 14,
   "metadata": {
    "collapsed": false
   },
   "outputs": [
    {
     "data": {
      "text/plain": [
       "136.640625"
      ]
     },
     "execution_count": 14,
     "metadata": {},
     "output_type": "execute_result"
    }
   ],
   "source": [
    "(1-15831/16384.+.5)*256"
   ]
  },
  {
   "cell_type": "code",
   "execution_count": 15,
   "metadata": {
    "collapsed": false
   },
   "outputs": [
    {
     "data": {
      "text/plain": [
       "array([  1.17216804e+08,   1.19600579e+08,   1.21189005e+08,\n",
       "         1.21735000e+08,   1.21836000e+08,   1.23100340e+08,\n",
       "         1.23732000e+08,   1.25130000e+08,   1.25501000e+08,\n",
       "         1.25872000e+08,   1.26025937e+08,   1.26226000e+08,\n",
       "         1.26270916e+08,   1.27873000e+08,   1.28038000e+08,\n",
       "         1.28693046e+08,   1.29331000e+08,   1.29429000e+08,\n",
       "         1.29551000e+08,   1.30209000e+08,   1.30430060e+08,\n",
       "         1.31324214e+08,   1.31430000e+08,   1.31634000e+08,\n",
       "         1.31972000e+08,   1.32230000e+08,   1.33185000e+08,\n",
       "         1.33279000e+08,   1.33522882e+08,   1.33791000e+08,\n",
       "         1.34358000e+08,   1.34598923e+08,   1.34769056e+08,\n",
       "         1.35220000e+08,   1.35682000e+08,   1.36658000e+08,\n",
       "         1.36670000e+08,   1.36681000e+08,   1.36896316e+08,\n",
       "         1.37205000e+08,   1.37303000e+08,   1.37924000e+08,\n",
       "         1.37962000e+08,   1.38636413e+08,   1.38709000e+08,\n",
       "         1.38772000e+08,   1.38807990e+08,   1.38856000e+08,\n",
       "         1.38946000e+08,   1.38967708e+08,   1.39394000e+08,\n",
       "         1.39992000e+08,   1.40080000e+08,   1.40210000e+08,\n",
       "         1.40311000e+08,   1.40747098e+08,   1.40838000e+08,\n",
       "         1.41128000e+08,   1.41311000e+08,   1.42159751e+08,\n",
       "         1.42457000e+08,   1.42483207e+08,   1.43037513e+08,\n",
       "         1.43210000e+08,   1.43351000e+08,   1.43884000e+08,\n",
       "         1.44166000e+08,   1.44640782e+08,   1.44687000e+08,\n",
       "         1.44773000e+08,   1.44813000e+08,   1.46280000e+08,\n",
       "         1.46398000e+08,   1.46430000e+08,   1.46508233e+08,\n",
       "         1.46753000e+08,   1.47843000e+08,   1.47881000e+08,\n",
       "         1.48809145e+08,   1.49495000e+08,   1.49663000e+08,\n",
       "         1.49840000e+08,   1.49918000e+08,   1.50867000e+08,\n",
       "         1.50990000e+08,   1.51168000e+08,   1.51290000e+08,\n",
       "         1.51715878e+08,   1.52047000e+08,   1.52927000e+08,\n",
       "         1.53001000e+08,   1.53118184e+08,   1.53534000e+08,\n",
       "         1.54275447e+08,   1.55286000e+08,   1.55640000e+08,\n",
       "         1.55840000e+08,   1.55991794e+08,   1.58884987e+08,\n",
       "         1.58993000e+08,   1.60219733e+08,   1.61515000e+08,\n",
       "         1.61768859e+08,   1.62594696e+08,   1.63307000e+08,\n",
       "         1.65618261e+08])"
      ]
     },
     "execution_count": 15,
     "metadata": {},
     "output_type": "execute_result"
    }
   ],
   "source": [
    "f0"
   ]
  },
  {
   "cell_type": "code",
   "execution_count": 11,
   "metadata": {
    "collapsed": false
   },
   "outputs": [
    {
     "data": {
      "text/plain": [
       "array([   11000.        ,    12000.        ,    21708.38156384,\n",
       "          26206.96706647,    32000.        ,    35990.45543915,\n",
       "          38000.        ,    38000.        ,    40000.        ,\n",
       "          44915.76044145,    46217.90811741,    48009.54456085,\n",
       "          63000.        ,    72586.56393579,    74000.        ,\n",
       "          78000.        ,    78233.07598701,    86000.        ,\n",
       "          88000.        ,    90000.        ,    90901.5961768 ,\n",
       "          94000.        ,    98000.        ,    98000.        ,\n",
       "         101000.        ,   101000.        ,   105785.80682659,\n",
       "         108012.69928432,   117183.80727038,   118000.        ,\n",
       "         122000.        ,   122000.        ,   123000.        ,\n",
       "         130000.        ,   141000.        ,   151794.0284273 ,\n",
       "         153937.36105558,   165000.        ,   168000.        ,\n",
       "         170133.27295366,   172486.62352619,   177000.        ,\n",
       "         178000.        ,   183000.        ,   200000.        ,\n",
       "         200062.63894442,   204000.        ,   215316.39438018,\n",
       "         221060.06320372,   240922.66116256,   243882.32579093,\n",
       "         244766.92401299,   253859.07518622,   258000.        ,\n",
       "         268117.67420907,   282000.        ,   290000.        ,\n",
       "         297249.40250742,   308683.60561982,   331121.95387322,\n",
       "         338000.        ,   354000.        ,   371000.        ,\n",
       "         371000.        ,   415816.19272962,   425878.04612678,\n",
       "         426291.61843616,   436098.4038232 ,   450944.06588379,\n",
       "         462000.        ,   474782.09188259,   533000.        ,\n",
       "         545995.34127498,   554306.40940735,   567000.        ,\n",
       "         598000.        ,   621000.        ,   631659.76028259,\n",
       "         637953.72202596,   655046.27797404,   658000.        ,\n",
       "         674413.43606421,   685854.61990938,   712303.79074296,\n",
       "         741446.64920351,   825837.13407081,   848750.59749258,\n",
       "         880000.        ,   894154.12996969,   928145.38009062,\n",
       "         949000.        ,   955000.        ,   976000.        ,\n",
       "        1010553.35079649,  1090000.        ,  1226732.57622814,\n",
       "        1264340.23971741,  1295267.42377186,  1398000.        ,\n",
       "        1467000.        ,  1588425.53190717,  1602084.23955855,\n",
       "        2311261.41138405,  2383774.98391916,  2893193.27228838])"
      ]
     },
     "execution_count": 11,
     "metadata": {},
     "output_type": "execute_result"
    }
   ],
   "source": [
    "d"
   ]
  },
  {
   "cell_type": "code",
   "execution_count": 7,
   "metadata": {
    "collapsed": false
   },
   "outputs": [
    {
     "data": {
      "text/plain": [
       "array([  1.36670000e+08,   1.36681000e+08])"
      ]
     },
     "execution_count": 7,
     "metadata": {},
     "output_type": "execute_result"
    }
   ],
   "source": [
    "f0[36:38]"
   ]
  },
  {
   "cell_type": "code",
   "execution_count": 8,
   "metadata": {
    "collapsed": false
   },
   "outputs": [
    {
     "data": {
      "text/plain": [
       "136670000.0"
      ]
     },
     "execution_count": 8,
     "metadata": {},
     "output_type": "execute_result"
    }
   ],
   "source": [
    "f0[36]"
   ]
  },
  {
   "cell_type": "code",
   "execution_count": null,
   "metadata": {
    "collapsed": true
   },
   "outputs": [],
   "source": []
  }
 ],
 "metadata": {
  "kernelspec": {
   "display_name": "Python 2",
   "language": "python",
   "name": "python2"
  },
  "language_info": {
   "codemirror_mode": {
    "name": "ipython",
    "version": 2
   },
   "file_extension": ".py",
   "mimetype": "text/x-python",
   "name": "python",
   "nbconvert_exporter": "python",
   "pygments_lexer": "ipython2",
   "version": "2.7.11"
  }
 },
 "nbformat": 4,
 "nbformat_minor": 0
}
