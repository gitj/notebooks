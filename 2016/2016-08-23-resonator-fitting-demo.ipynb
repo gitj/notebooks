{
 "cells": [
  {
   "cell_type": "code",
   "execution_count": 1,
   "metadata": {
    "collapsed": false
   },
   "outputs": [
    {
     "name": "stderr",
     "output_type": "stream",
     "text": [
      "/home/gjones/miniconda2/envs/readout/lib/python2.7/site-packages/matplotlib/font_manager.py:273: UserWarning: Matplotlib is building the font cache using fc-list. This may take a moment.\n",
      "  warnings.warn('Matplotlib is building the font cache using fc-list. This may take a moment.')\n"
     ]
    },
    {
     "name": "stdout",
     "output_type": "stream",
     "text": [
      "Populating the interactive namespace from numpy and matplotlib\n"
     ]
    }
   ],
   "source": [
    "%pylab inline"
   ]
  },
  {
   "cell_type": "code",
   "execution_count": 2,
   "metadata": {
    "collapsed": false
   },
   "outputs": [
    {
     "name": "stderr",
     "output_type": "stream",
     "text": [
      "INFO     2016-08-23 13:29:59,124 - kid_readout.<module>:13  kid_readout logging setup with default stream handler\n"
     ]
    }
   ],
   "source": [
    "from kid_readout.interactive import *"
   ]
  },
  {
   "cell_type": "code",
   "execution_count": 6,
   "metadata": {
    "collapsed": true
   },
   "outputs": [],
   "source": [
    "ncf = NCFile('/data/readout/2016-08-22_181539_scan_lo_790.0_MHz.nc')"
   ]
  },
  {
   "cell_type": "code",
   "execution_count": 7,
   "metadata": {
    "collapsed": true
   },
   "outputs": [],
   "source": [
    "swa = ncf.SweepArray0"
   ]
  },
  {
   "cell_type": "code",
   "execution_count": 8,
   "metadata": {
    "collapsed": false
   },
   "outputs": [
    {
     "data": {
      "text/plain": [
       "[<matplotlib.lines.Line2D at 0x7f419d9eced0>]"
      ]
     },
     "execution_count": 8,
     "metadata": {},
     "output_type": "execute_result"
    },
    {
     "data": {
      "image/png": "[encoded data removed]",
      "text/plain": [
       "<matplotlib.figure.Figure at 0x7f41b006b6d0>"
      ]
     },
     "metadata": {},
     "output_type": "display_data"
    }
   ],
   "source": [
    "plot(swa.frequency_MHz,dB(swa.s21_point))"
   ]
  },
  {
   "cell_type": "code",
   "execution_count": 9,
   "metadata": {
    "collapsed": true
   },
   "outputs": [],
   "source": [
    "from kid_readout.analysis.resonator import find_resonators"
   ]
  },
  {
   "cell_type": "code",
   "execution_count": 10,
   "metadata": {
    "collapsed": false
   },
   "outputs": [
    {
     "name": "stderr",
     "output_type": "stream",
     "text": [
      "INFO     2016-08-23 13:32:53,432 - kid_readout.analysis.resonator.find_resonators.find_resonators:31  Found possible resonator collision at 879234731.1  879747117.3\n",
      "INFO     2016-08-23 13:33:13,042 - kid_readout.analysis.resonator.find_resonators.find_resonators:31  Found possible resonator collision at 967911941.1  968083804.6\n",
      "INFO     2016-08-23 13:33:14,024 - kid_readout.analysis.resonator.find_resonators.find_resonators:31  Found possible resonator collision at 972116544.7  971807158.4\n",
      "INFO     2016-08-23 13:33:14,874 - kid_readout.analysis.resonator.find_resonators.find_resonators:31  Found possible resonator collision at 971807553.9  972117270.5\n"
     ]
    }
   ],
   "source": [
    "res = find_resonators.find_resonators(swa.frequency,swa.s21_point,swa.s21_point_error)"
   ]
  },
  {
   "cell_type": "code",
   "execution_count": 20,
   "metadata": {
    "collapsed": false
   },
   "outputs": [
    {
     "name": "stdout",
     "output_type": "stream",
     "text": [
      "found duplicate of  791640625.028 distance 31250.028196\n",
      "found duplicate of  796999927.081 distance 3893.45068157\n",
      "found duplicate of  798748473.014 distance 29.0021237135\n",
      "found duplicate of  799998833.542 distance 40.007240057\n",
      "found duplicate of  799998822.186 distance 51.3628730774\n",
      "found duplicate of  799998818.068 distance 55.4806411266\n",
      "found duplicate of  799998593.951 distance 279.598174572\n",
      "found duplicate of  799998614.143 distance 259.40659976\n",
      "found duplicate of  809278889.087 distance 41984.9856877\n",
      "found duplicate of  811875704.04 distance 13.4426259995\n",
      "found duplicate of  813660037.626 distance 10.7954243422\n",
      "found duplicate of  816359374.656 distance 31249.6725603\n",
      "found duplicate of  817250000.0 distance 31249.9999973\n",
      "found duplicate of  817997685.876 distance 399.952748775\n",
      "found duplicate of  819999028.754 distance 190.097675085\n",
      "found duplicate of  819999049.742 distance 211.085270047\n",
      "found duplicate of  819974311.86 distance 24526.7959641\n",
      "found duplicate of  819999756.564 distance 917.907440543\n",
      "found duplicate of  823254103.735 distance 46.096690774\n",
      "found duplicate of  825080331.17 distance 1233.99794972\n",
      "found duplicate of  825080348.522 distance 1216.6462549\n",
      "found duplicate of  825080339.225 distance 1225.94268\n",
      "found duplicate of  828406247.158 distance 1136.09517467\n",
      "found duplicate of  830435054.955 distance 4.15296781063\n",
      "found duplicate of  830435102.491 distance 51.6889054775\n",
      "found duplicate of  830435099.249 distance 48.44634974\n",
      "found duplicate of  830434997.945 distance 52.8573564291\n",
      "found duplicate of  830434989.316 distance 61.4862834215\n",
      "found duplicate of  833750305.674 distance 988.486449242\n",
      "found duplicate of  838063517.346 distance 2090.65928245\n",
      "found duplicate of  838063514.797 distance 2093.20900989\n",
      "found duplicate of  838070771.631 distance 5163.62483692\n",
      "found duplicate of  839387806.24 distance 321.018672943\n",
      "found duplicate of  839387816.757 distance 331.536039829\n",
      "found duplicate of  839389691.677 distance 2206.45619166\n",
      "found duplicate of  839389727.648 distance 2242.42734647\n",
      "found duplicate of  841661880.218 distance 4266.2291199\n",
      "found duplicate of  841661974.285 distance 4360.29667401\n",
      "found duplicate of  849062368.52 distance 13192.4468347\n",
      "found duplicate of  849062336.763 distance 13160.6895338\n",
      "found duplicate of  849061964.631 distance 12788.5576689\n",
      "found duplicate of  849084372.903 distance 35196.8301071\n",
      "found duplicate of  849091940.693 distance 42764.6195097\n",
      "found duplicate of  850156203.3 distance 1394.10861671\n",
      "found duplicate of  854885684.88 distance 127.347751379\n",
      "found duplicate of  858266787.789 distance 93.5706351995\n",
      "found duplicate of  859031250.052 distance 31248.5965792\n",
      "found duplicate of  865170115.78 distance 103.174213409\n",
      "found duplicate of  865170111.342 distance 98.7359057665\n",
      "found duplicate of  865172098.792 distance 2086.18599224\n",
      "found duplicate of  865171875.0 distance 1862.39437699\n",
      "found duplicate of  869652466.346 distance 32.8771418333\n",
      "found duplicate of  869652462.723 distance 36.5005034208\n",
      "found duplicate of  872831591.759 distance 617.16611445\n",
      "found duplicate of  872831645.489 distance 670.896292329\n",
      "found duplicate of  872831659.489 distance 684.896544933\n",
      "found duplicate of  879227978.129 distance 41.1323543787\n",
      "found duplicate of  879227551.374 distance 467.88734746\n",
      "found duplicate of  879227568.241 distance 451.020760894\n",
      "found duplicate of  879227833.527 distance 185.734804869\n",
      "found duplicate of  879266083.516 distance 26094.4323397\n",
      "found duplicate of  881096576.899 distance 288.433915615\n",
      "found duplicate of  883412290.661 distance 32327.4416378\n",
      "found duplicate of  883459059.197 distance 14441.0946397\n",
      "found duplicate of  883463015.339 distance 18397.2366428\n",
      "found duplicate of  883467238.554 distance 22620.4513574\n",
      "found duplicate of  888125808.076 distance 426.919738412\n",
      "found duplicate of  888125843.358 distance 462.201018453\n",
      "found duplicate of  893339103.562 distance 21257.8368492\n",
      "found duplicate of  893360417.412 distance 56.0133445263\n",
      "found duplicate of  895536416.214 distance 15.9577146769\n",
      "found duplicate of  897994162.875 distance 2.34928238392\n",
      "found duplicate of  897994221.093 distance 60.5677338839\n",
      "found duplicate of  909965937.867 distance 2.43274068832\n",
      "found duplicate of  915442724.863 distance 9.45176553726\n",
      "found duplicate of  919864826.498 distance 778.968215823\n",
      "found duplicate of  919865820.641 distance 215.174092531\n",
      "found duplicate of  922774533.823 distance 570.952017903\n",
      "found duplicate of  930925168.866 distance 672.500545621\n",
      "found duplicate of  930922593.544 distance 3247.82226503\n",
      "found duplicate of  951673797.194 distance 3.85903429985\n",
      "found duplicate of  957083332.943 distance 3.29559922218\n",
      "found duplicate of  959391144.09 distance 8.7205491066\n",
      "found duplicate of  959390724.782 distance 428.028465986\n",
      "found duplicate of  959391013.929 distance 138.881613731\n",
      "found duplicate of  959381953.355 distance 9199.45551515\n",
      "found duplicate of  962063767.946 distance 380.29474175\n",
      "found duplicate of  962069378.493 distance 5990.84174812\n",
      "found duplicate of  963143179.205 distance 6235.6454128\n",
      "found duplicate of  972138337.96 distance 9.7918753624\n",
      "found duplicate of  972139368.7 distance 1040.53199041\n",
      "found duplicate of  975242278.981 distance 223.946017146\n",
      "found duplicate of  979807436.766 distance 493.241974354\n",
      "found duplicate of  979807429.174 distance 485.650868773\n",
      "found duplicate of  981508645.462 distance 6980.02227759\n",
      "found duplicate of  989058474.925 distance 3944.74204946\n",
      "found duplicate of  993897494.382 distance 0.869086384773\n",
      "found duplicate of  998614538.912 distance 1.31611347198\n",
      "found duplicate of  1000033998.09 distance 42.5056416988\n",
      "found duplicate of  1002637714.22 distance 8313.17507374\n",
      "found duplicate of  1006774679.02 distance 818.653778911\n"
     ]
    }
   ],
   "source": [
    "res = find_resonators.remove_duplicates(res)"
   ]
  },
  {
   "cell_type": "code",
   "execution_count": 21,
   "metadata": {
    "collapsed": false
   },
   "outputs": [
    {
     "data": {
      "text/plain": [
       "117"
      ]
     },
     "execution_count": 21,
     "metadata": {},
     "output_type": "execute_result"
    }
   ],
   "source": [
    "len(res)"
   ]
  },
  {
   "cell_type": "code",
   "execution_count": 28,
   "metadata": {
    "collapsed": true
   },
   "outputs": [],
   "source": [
    "res1 = res[101]"
   ]
  },
  {
   "cell_type": "code",
   "execution_count": 33,
   "metadata": {
    "collapsed": false
   },
   "outputs": [
    {
     "data": {
      "text/plain": [
       "[<matplotlib.lines.Line2D at 0x7f419c3f4fd0>]"
      ]
     },
     "execution_count": 33,
     "metadata": {},
     "output_type": "execute_result"
    },
    {
     "data": {
      "image/png": "[encoded data removed]",
      "text/plain": [
       "<matplotlib.figure.Figure at 0x7f419c490150>"
      ]
     },
     "metadata": {},
     "output_type": "display_data"
    }
   ],
   "source": [
    "plot(res1.frequency,dB(res1.data),'.-')"
   ]
  },
  {
   "cell_type": "code",
   "execution_count": 34,
   "metadata": {
    "collapsed": false
   },
   "outputs": [
    {
     "data": {
      "text/plain": [
       "Parameters([('delay',\n",
       "             <Parameter 'delay', -3.5799651820357889e-07, bounds=[-inf:inf]>),\n",
       "            ('phi',\n",
       "             <Parameter 'phi', -2.657147055222655, bounds=[-3.141592653589793:3.141592653589793]>),\n",
       "            ('f_min',\n",
       "             <Parameter 'f_min', value=972578125.0 (fixed), bounds=[-inf:inf]>),\n",
       "            ('A_mag', <Parameter 'A_mag', 66.099682837421099, bounds=[0:inf]>),\n",
       "            ('A_slope',\n",
       "             <Parameter 'A_slope', 3.4674720553029637e-10, bounds=[-inf:inf]>),\n",
       "            ('f_0',\n",
       "             <Parameter 'f_0', 973576796.21184409, bounds=[972578125.0:974546875.0]>),\n",
       "            ('Q',\n",
       "             <Parameter 'Q', 9462.4611036527422, bounds=[49.450793650793656:62308.0]>),\n",
       "            ('Q_e_real',\n",
       "             <Parameter 'Q_e_real', 9442.2423268462953, bounds=[1:10000000.0]>),\n",
       "            ('Q_e_imag',\n",
       "             <Parameter 'Q_e_imag', 2228.1578415632248, bounds=[-10000000.0:10000000.0]>)])"
      ]
     },
     "execution_count": 34,
     "metadata": {},
     "output_type": "execute_result"
    }
   ],
   "source": [
    "# current fit parameters:\n",
    "res1.current_params"
   ]
  },
  {
   "cell_type": "code",
   "execution_count": 35,
   "metadata": {
    "collapsed": true
   },
   "outputs": [],
   "source": [
    "#evaluate the model at a set of frequencies\n",
    "model_s21 = res1.model.eval(params=res1.current_params, # you have to tell it what parameters to use\n",
    "                            f=res1.frequency)"
   ]
  },
  {
   "cell_type": "code",
   "execution_count": 37,
   "metadata": {
    "collapsed": false
   },
   "outputs": [
    {
     "data": {
      "text/plain": [
       "[<matplotlib.lines.Line2D at 0x7f419c3d7d50>]"
      ]
     },
     "execution_count": 37,
     "metadata": {},
     "output_type": "execute_result"
    },
    {
     "data": {
      "image/png": "[encoded data removed]",
      "text/plain": [
       "<matplotlib.figure.Figure at 0x7f419c3ca650>"
      ]
     },
     "metadata": {},
     "output_type": "display_data"
    }
   ],
   "source": [
    "plot(res1.frequency,dB(model_s21))\n",
    "plot(res1.frequency,dB(res1.data),'r.')"
   ]
  },
  {
   "cell_type": "code",
   "execution_count": 41,
   "metadata": {
    "collapsed": false
   },
   "outputs": [],
   "source": [
    "#lets trim away some of the excess points"
   ]
  },
  {
   "cell_type": "code",
   "execution_count": 45,
   "metadata": {
    "collapsed": true
   },
   "outputs": [],
   "source": [
    "mask = abs(res1.frequency-res1.f_0) < 200e3 # Take 400 kHz  centered on the resonance"
   ]
  },
  {
   "cell_type": "code",
   "execution_count": 40,
   "metadata": {
    "collapsed": true
   },
   "outputs": [],
   "source": [
    "from kid_readout.analysis.resonator import lmfit_resonator"
   ]
  },
  {
   "cell_type": "code",
   "execution_count": 46,
   "metadata": {
    "collapsed": true
   },
   "outputs": [],
   "source": [
    "new_res = lmfit_resonator.LinearResonatorWithCable(res1.frequency[mask], res1.data[mask], res1.errors[mask])"
   ]
  },
  {
   "cell_type": "code",
   "execution_count": 49,
   "metadata": {
    "collapsed": true
   },
   "outputs": [],
   "source": [
    "new_model_s21 = new_res.model.eval(params=new_res.current_params, # you have to tell it what parameters to use\n",
    "                            f=new_res.frequency)"
   ]
  },
  {
   "cell_type": "code",
   "execution_count": 52,
   "metadata": {
    "collapsed": false
   },
   "outputs": [
    {
     "data": {
      "text/plain": [
       "[<matplotlib.lines.Line2D at 0x7f419cceb350>]"
      ]
     },
     "execution_count": 52,
     "metadata": {},
     "output_type": "execute_result"
    },
    {
     "data": {
      "image/png": "[encoded data removed]",
      "text/plain": [
       "<matplotlib.figure.Figure at 0x7f419cceb6d0>"
      ]
     },
     "metadata": {},
     "output_type": "display_data"
    }
   ],
   "source": [
    "plot(new_res.frequency/1e6,dB(new_model_s21))\n",
    "plot(new_res.frequency/1e6,dB(new_res.data),'r.')"
   ]
  },
  {
   "cell_type": "code",
   "execution_count": 53,
   "metadata": {
    "collapsed": false
   },
   "outputs": [
    {
     "data": {
      "image/png": "[encoded data removed]",
      "text/plain": [
       "<matplotlib.figure.Figure at 0x7f419e07cbd0>"
      ]
     },
     "metadata": {},
     "output_type": "display_data"
    }
   ],
   "source": [
    "plot_ri(new_model_s21)\n",
    "plot_ri(new_res.data,'r.')"
   ]
  },
  {
   "cell_type": "code",
   "execution_count": 55,
   "metadata": {
    "collapsed": false
   },
   "outputs": [
    {
     "data": {
      "text/plain": [
       "9462.4611036527422"
      ]
     },
     "execution_count": 55,
     "metadata": {},
     "output_type": "execute_result"
    }
   ],
   "source": [
    "res1.Q"
   ]
  },
  {
   "cell_type": "code",
   "execution_count": 56,
   "metadata": {
    "collapsed": false
   },
   "outputs": [
    {
     "data": {
      "text/plain": [
       "9566.2894580348529"
      ]
     },
     "execution_count": 56,
     "metadata": {},
     "output_type": "execute_result"
    }
   ],
   "source": [
    "new_res.Q"
   ]
  },
  {
   "cell_type": "code",
   "execution_count": 57,
   "metadata": {
    "collapsed": false
   },
   "outputs": [
    {
     "data": {
      "text/plain": [
       "973576796.21184409"
      ]
     },
     "execution_count": 57,
     "metadata": {},
     "output_type": "execute_result"
    }
   ],
   "source": [
    "res1.f_0"
   ]
  },
  {
   "cell_type": "code",
   "execution_count": 58,
   "metadata": {
    "collapsed": false
   },
   "outputs": [
    {
     "data": {
      "text/plain": [
       "973577861.66552234"
      ]
     },
     "execution_count": 58,
     "metadata": {},
     "output_type": "execute_result"
    }
   ],
   "source": [
    "new_res.f_0"
   ]
  },
  {
   "cell_type": "code",
   "execution_count": 59,
   "metadata": {
    "collapsed": false
   },
   "outputs": [
    {
     "data": {
      "text/plain": [
       "(186563.55725511286, 178065.71593363836)"
      ]
     },
     "execution_count": 59,
     "metadata": {},
     "output_type": "execute_result"
    }
   ],
   "source": [
    "res1.Q_i, new_res.Q_i"
   ]
  },
  {
   "cell_type": "code",
   "execution_count": null,
   "metadata": {
    "collapsed": true
   },
   "outputs": [],
   "source": []
  }
 ],
 "metadata": {
  "kernelspec": {
   "display_name": "Python 2",
   "language": "python",
   "name": "python2"
  },
  "language_info": {
   "codemirror_mode": {
    "name": "ipython",
    "version": 2
   },
   "file_extension": ".py",
   "mimetype": "text/x-python",
   "name": "python",
   "nbconvert_exporter": "python",
   "pygments_lexer": "ipython2",
   "version": "2.7.11"
  }
 },
 "nbformat": 4,
 "nbformat_minor": 0
}
