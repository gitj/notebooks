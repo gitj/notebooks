{
 "cells": [
  {
   "cell_type": "code",
   "execution_count": 1,
   "metadata": {
    "collapsed": false
   },
   "outputs": [
    {
     "name": "stdout",
     "output_type": "stream",
     "text": [
      "Populating the interactive namespace from numpy and matplotlib\n"
     ]
    }
   ],
   "source": [
    "%pylab inline"
   ]
  },
  {
   "cell_type": "code",
   "execution_count": 2,
   "metadata": {
    "collapsed": false
   },
   "outputs": [
    {
     "name": "stderr",
     "output_type": "stream",
     "text": [
      "INFO     2016-08-26 15:49:34,010 - kid_readout.<module>:13  kid_readout logging setup with default stream handler\n"
     ]
    }
   ],
   "source": [
    "from kid_readout.interactive import *"
   ]
  },
  {
   "cell_type": "code",
   "execution_count": 3,
   "metadata": {
    "collapsed": true
   },
   "outputs": [],
   "source": [
    "ncf = NCFile('/artemis/readout/2016-08-19_130149_scan_lo_790.0_MHz.nc')"
   ]
  },
  {
   "cell_type": "code",
   "execution_count": 5,
   "metadata": {
    "collapsed": true
   },
   "outputs": [],
   "source": [
    "swa = ncf.SweepArray0"
   ]
  },
  {
   "cell_type": "code",
   "execution_count": 4,
   "metadata": {
    "collapsed": true
   },
   "outputs": [],
   "source": [
    "import kid_readout.analysis.resonator.find_resonators"
   ]
  },
  {
   "cell_type": "code",
   "execution_count": 6,
   "metadata": {
    "collapsed": false
   },
   "outputs": [
    {
     "name": "stderr",
     "output_type": "stream",
     "text": [
      "INFO     2016-08-26 15:50:48,892 - kid_readout.analysis.resonator.find_resonators.find_resonators:31  Found possible resonator collision at 790375000.0  790375000.0\n",
      "INFO     2016-08-26 15:52:26,076 - kid_readout.analysis.resonator.find_resonators.find_resonators:31  Found possible resonator collision at 838467852.4  838108708.7\n",
      "INFO     2016-08-26 15:52:28,135 - kid_readout.analysis.resonator.find_resonators.find_resonators:31  Found possible resonator collision at 838468032.9  839431094.8\n",
      "INFO     2016-08-26 15:55:15,461 - kid_readout.analysis.resonator.find_resonators.find_resonators:31  Found possible resonator collision at 940202187.0  939998242.0\n",
      "INFO     2016-08-26 15:55:23,687 - kid_readout.analysis.resonator.find_resonators.find_resonators:31  Found possible resonator collision at 939998208.3  940273318.8\n",
      "INFO     2016-08-26 15:55:35,094 - kid_readout.analysis.resonator.find_resonators.find_resonators:31  Found possible resonator collision at 963188722.1  963977933.0\n"
     ]
    }
   ],
   "source": [
    "res = kid_readout.analysis.resonator.find_resonators.find_resonators(swa.frequency,swa.s21_point,swa.s21_point_error)"
   ]
  },
  {
   "cell_type": "code",
   "execution_count": 7,
   "metadata": {
    "collapsed": false,
    "scrolled": true
   },
   "outputs": [
    {
     "name": "stdout",
     "output_type": "stream",
     "text": [
      "found duplicate of  795254259.24 distance 720.091445923\n",
      "found duplicate of  803122523.051 distance 3120.11813641\n",
      "found duplicate of  803122446.546 distance 3196.62273133\n",
      "found duplicate of  805750445.476 distance 335.480021119\n",
      "found duplicate of  808499999.736 distance 31249.7359915\n",
      "found duplicate of  812725764.799 distance 488.601280928\n",
      "found duplicate of  817129102.837 distance 36789.8126589\n",
      "found duplicate of  819743467.294 distance 336.490825057\n",
      "found duplicate of  825117398.925 distance 9.53642165661\n",
      "found duplicate of  825117315.305 distance 74.0832368135\n",
      "found duplicate of  828447355.488 distance 2.89219260216\n",
      "found duplicate of  828447412.655 distance 60.0586745739\n",
      "found duplicate of  828447412.398 distance 59.801774025\n",
      "found duplicate of  838469538.336 distance 7.53048324585\n",
      "found duplicate of  839429819.187 distance 176.183432341\n",
      "found duplicate of  839431062.833 distance 1419.83012331\n",
      "found duplicate of  839431128.785 distance 1485.78196001\n",
      "found duplicate of  839431166.652 distance 1523.64841843\n",
      "found duplicate of  841706162.853 distance 223.264324903\n",
      "found duplicate of  841706165.202 distance 220.914828062\n",
      "found duplicate of  849076022.803 distance 2099.5666517\n",
      "found duplicate of  849088603.211 distance 14679.9741256\n",
      "found duplicate of  849087358.92 distance 13435.6829891\n",
      "found duplicate of  849100109.08 distance 26185.8430542\n",
      "found duplicate of  849117314.637 distance 43391.4007781\n",
      "found duplicate of  850198705.613 distance 822.041996956\n",
      "found duplicate of  858909552.225 distance 9.43011128902\n",
      "found duplicate of  858909574.049 distance 31.2541279793\n",
      "found duplicate of  858909088.674 distance 454.120961428\n",
      "found duplicate of  859031256.211 distance 31256.1846358\n",
      "found duplicate of  865213067.68 distance 64.8713592291\n",
      "found duplicate of  869696162.454 distance 40.8851714134\n",
      "found duplicate of  869696279.36 distance 76.020395875\n",
      "found duplicate of  869696280.684 distance 77.3443533182\n",
      "found duplicate of  869696279.436 distance 76.0960768461\n",
      "found duplicate of  869696272.328 distance 68.9885435104\n",
      "found duplicate of  872875628.59 distance 32.5199085474\n",
      "found duplicate of  872875653.277 distance 57.2068843842\n",
      "found duplicate of  879272982.314 distance 306.756666064\n",
      "found duplicate of  879272969.307 distance 319.763687611\n",
      "found duplicate of  879272921.856 distance 367.214473128\n",
      "found duplicate of  879272945.159 distance 343.911668062\n",
      "found duplicate of  879272879.87 distance 409.200341225\n",
      "found duplicate of  881138050.901 distance 5.23586022854\n",
      "found duplicate of  881138024.742 distance 31.3943457603\n",
      "found duplicate of  883517018.734 distance 27373.5374918\n",
      "found duplicate of  883516976.233 distance 27331.0364282\n",
      "found duplicate of  883520360.559 distance 30715.3632162\n",
      "found duplicate of  883520753.338 distance 31108.1419504\n",
      "found duplicate of  883523819.659 distance 34174.4630378\n",
      "found duplicate of  883524467.39 distance 34822.1943979\n",
      "found duplicate of  886230548.011 distance 12.3446297646\n",
      "found duplicate of  888172915.373 distance 462.860247135\n",
      "found duplicate of  889960685.181 distance 238.9460814\n",
      "found duplicate of  893399165.885 distance 13.8387373686\n",
      "found duplicate of  895585449.044 distance 2.47140908241\n",
      "found duplicate of  898042438.499 distance 0.919857621193\n",
      "found duplicate of  899999995.612 distance 179.981435061\n",
      "found duplicate of  899999756.117 distance 59.513684988\n",
      "found duplicate of  903536007.709 distance 32.2314682007\n",
      "found duplicate of  904683661.27 distance 37.2867962122\n",
      "found duplicate of  909976208.798 distance 468.482403278\n",
      "found duplicate of  914115973.88 distance 8.40125727654\n",
      "found duplicate of  919844666.776 distance 36454.3793246\n",
      "found duplicate of  928316057.742 distance 5104.071787\n",
      "found duplicate of  930975119.911 distance 9255.08857107\n",
      "found duplicate of  936687500.004 distance 15625.0007859\n",
      "found duplicate of  939979964.514 distance 71.6409932375\n",
      "found duplicate of  956187500.0 distance 15624.9999993\n",
      "found duplicate of  962115136.719 distance 4245.8610245\n",
      "found duplicate of  964984375.0 distance 15625.0000005\n",
      "found duplicate of  972147362.855 distance 2619.00533593\n",
      "found duplicate of  972112358.52 distance 37623.3398477\n",
      "found duplicate of  980999999.997 distance 46874.9966955\n",
      "found duplicate of  989114726.19 distance 2305.72503829\n",
      "found duplicate of  993953669.825 distance 1.59450876713\n",
      "found duplicate of  995330911.469 distance 0.112539291382\n",
      "found duplicate of  1000384599.84 distance 1860.87277603\n",
      "found duplicate of  1002688942.74 distance 926.446903825\n",
      "found duplicate of  1002694789.72 distance 6773.42597747\n",
      "found duplicate of  1007885451.34 distance 58.2417030334\n",
      "found duplicate of  1007886184.31 distance 674.731854081\n",
      "found duplicate of  1010949466.21 distance 128.94491303\n",
      "790375000.0 failed low range\n",
      "792515625.246 failed shallow\n",
      "795253539.149 failed high Qer\n",
      "795168850.906 failed shallow\n",
      "797836129.789 failed shallow\n",
      "798843749.926 failed shallow\n",
      "798984399.22 failed shallow\n",
      "799046906.261 failed shallow\n",
      "802413810.228 failed shallow\n",
      "803125643.169 failed high Qer\n",
      "805750109.996 failed high Qe\n",
      "808468750.0 failed shallow\n",
      "809281579.252 failed high Qer\n",
      "809998548.706 failed shallow\n",
      "810968750.0 failed shallow\n",
      "812725276.198 failed shallow\n",
      "814466624.875 failed shallow\n",
      "817092313.024 failed high Qer\n",
      "816140628.447 failed shallow\n",
      "819743130.803 failed high Qer\n",
      "822350041.576 failed high Qe\n",
      "821713800.798 failed shallow\n",
      "821537820.686 failed shallow\n",
      "825117389.388 828447352.596 831453125.0 failed low Qe\n",
      "830171875.0 failed low Q\n",
      "830990716.627 failed shallow\n",
      "835578125.0 failed shallow\n",
      "837633858.697 failed low Qe\n",
      "838469530.806 838792815.651 failed shallow\n",
      "839429643.003 841706386.117 844984392.233 failed low Q\n",
      "845046875.0 failed low Qe\n",
      "847859355.77 failed shallow\n",
      "849073923.237 850197883.571 850265625.0 failed low range\n",
      "851109375.178 failed shallow\n",
      "853984375.0 failed shallow\n",
      "854826872.807 853843887.455 failed low Qe\n",
      "854643551.547 failed low Qe\n",
      "855890625.0 failed high range\n",
      "858909542.795 859000000.026 failed shallow\n",
      "861777107.903 failed low Q\n",
      "864093360.407 failed shallow\n",
      "865213002.809 866719958.992 869696203.34 872328125.0 failed shallow\n",
      "872875596.07 878867769.349 failed shallow\n",
      "879273289.071 881138056.137 883489645.196 886230535.666 888172452.512 889960924.127 failed high Qe\n",
      "893399179.724 895585451.515 898042437.579 899999815.631 failed high Qe\n",
      "903535975.478 904683623.983 909976677.28 failed high Qe\n",
      "914115982.281 915486356.647 919910461.718 failed low Qe\n",
      "918987856.949 failed low Qe\n",
      "919808212.396 failed low Qe\n",
      "919592619.108 920277949.667 922822525.884 927674043.562 failed high Qe\n",
      "928624424.048 failed shallow\n",
      "928321161.814 930984375.0 failed high range\n",
      "930653660.029 936671875.003 failed low range\n",
      "939980036.155 failed high Qe\n",
      "950181372.836 failed shallow\n",
      "951721655.394 956171875.0 failed low Qe\n",
      "957126557.532 960421875.0 failed high range\n",
      "960291301.753 failed low Qe\n",
      "962110890.858 963193283.758 964968750.0 failed high range\n",
      "965921875.0 failed low range\n",
      "967796017.059 failed low Q\n",
      "967972039.93 970003601.832 failed high Qe\n",
      "972149981.86 973338403.635 failed low Q\n",
      "974328125.002 failed low range\n",
      "975140625.0 failed low Qe\n",
      "978890625.745 failed low range\n",
      "980953125.0 failed high range\n",
      "981273891.749 failed low Q\n",
      "989117031.915 990962861.162 993953668.23 995330911.581 998671966.706 1000386460.72 failed shallow\n",
      "1002688016.29 1003568826.49 1003365797.79 failed low Q\n",
      "1006830411.67 1007695352.48 1007885509.58 1010949595.16 1013307967.17\n"
     ]
    }
   ],
   "source": [
    "unires = [r for r in kid_readout.analysis.resonator.find_resonators.remove_duplicates(res) \n",
    "          if kid_readout.analysis.resonator.find_resonators.validate_resonator(r)]"
   ]
  },
  {
   "cell_type": "code",
   "execution_count": 8,
   "metadata": {
    "collapsed": true
   },
   "outputs": [],
   "source": [
    "r0 = unires[0]"
   ]
  },
  {
   "cell_type": "code",
   "execution_count": 9,
   "metadata": {
    "collapsed": false
   },
   "outputs": [
    {
     "data": {
      "text/plain": [
       "825117389.38837922"
      ]
     },
     "execution_count": 9,
     "metadata": {},
     "output_type": "execute_result"
    }
   ],
   "source": [
    "r0.f_0"
   ]
  },
  {
   "cell_type": "code",
   "execution_count": 11,
   "metadata": {
    "collapsed": true
   },
   "outputs": [],
   "source": [
    "sa = swa.stream_arrays[0]"
   ]
  },
  {
   "cell_type": "code",
   "execution_count": 37,
   "metadata": {
    "collapsed": false
   },
   "outputs": [
    {
     "data": {
      "text/plain": [
       "StateDict({u'magnetic_shield': u'on', u'other': StateDict({}), u'cryostat': u'starcryo'})"
      ]
     },
     "execution_count": 37,
     "metadata": {},
     "output_type": "execute_result"
    }
   ],
   "source": [
    "swa."
   ]
  },
  {
   "cell_type": "code",
   "execution_count": 81,
   "metadata": {
    "collapsed": false
   },
   "outputs": [],
   "source": [
    "def get_measurement_for_resonator(swa,r0,number=0,cryostat='starcryo',\n",
    "                                 frequency_span_below=400e3,\n",
    "                                 frequency_span_above=200e3):\n",
    "    streams = []\n",
    "    for sa in swa.stream_arrays:\n",
    "        valid_index = np.flatnonzero(( (sa.frequency-r0.f_0) < frequency_span_above) &\n",
    "                                     ( -(sa.frequency-r0.f_0) >frequency_span_below))\n",
    "        for index in valid_index:\n",
    "            streams.append(sa.stream(index))\n",
    "    meas = basic.SingleSweep(measurement.core.MeasurementList(streams),state=swa.state,number=number)\n",
    "    try:\n",
    "        temperature.add_temperature(meas,cryostat)\n",
    "    except ValueError:\n",
    "        print 'couldnt add temperature',number\n",
    "    return meas"
   ]
  },
  {
   "cell_type": "code",
   "execution_count": 80,
   "metadata": {
    "collapsed": false
   },
   "outputs": [
    {
     "data": {
      "text/plain": [
       "MeasurementList([])"
      ]
     },
     "execution_count": 80,
     "metadata": {},
     "output_type": "execute_result"
    }
   ],
   "source": [
    "m0.streams"
   ]
  },
  {
   "cell_type": "code",
   "execution_count": null,
   "metadata": {
    "collapsed": false,
    "scrolled": true
   },
   "outputs": [],
   "source": [
    "measurements = []\n",
    "for k,r in enumerate(unires):\n",
    "    for filename in files:\n",
    "        ncf = NCFile(filename)\n",
    "        swa = ncf.SweepArray0\n",
    "        measurements.append(get_measurement_for_resonator(swa,r,number=k))\n",
    "        del swa\n",
    "        ncf.close()\n",
    "        \n",
    "df = pandas.concat([m.to_dataframe() for m in measurements],ignore_index=True)"
   ]
  },
  {
   "cell_type": "code",
   "execution_count": 74,
   "metadata": {
    "collapsed": true
   },
   "outputs": [],
   "source": [
    "m0 = measurements[0]"
   ]
  },
  {
   "cell_type": "code",
   "execution_count": 61,
   "metadata": {
    "collapsed": false
   },
   "outputs": [
    {
     "data": {
      "text/plain": [
       "0.1895611843223572"
      ]
     },
     "execution_count": 61,
     "metadata": {},
     "output_type": "execute_result"
    }
   ],
   "source": [
    "m0.state.temperature.primary_package"
   ]
  },
  {
   "cell_type": "code",
   "execution_count": 40,
   "metadata": {
    "collapsed": true
   },
   "outputs": [],
   "source": [
    "import pandas"
   ]
  },
  {
   "cell_type": "code",
   "execution_count": null,
   "metadata": {
    "collapsed": false
   },
   "outputs": [],
   "source": [
    "df = pandas.concat([m.to_dataframe() for m in measurements],ignore_index=True)"
   ]
  },
  {
   "cell_type": "code",
   "execution_count": null,
   "metadata": {
    "collapsed": true
   },
   "outputs": [],
   "source": []
  },
  {
   "cell_type": "code",
   "execution_count": null,
   "metadata": {
    "collapsed": false
   },
   "outputs": [],
   "source": [
    "df.shape"
   ]
  },
  {
   "cell_type": "code",
   "execution_count": null,
   "metadata": {
    "collapsed": true
   },
   "outputs": [],
   "source": [
    "plot(df.)"
   ]
  },
  {
   "cell_type": "code",
   "execution_count": 44,
   "metadata": {
    "collapsed": false
   },
   "outputs": [
    {
     "data": {
      "text/plain": [
       "201"
      ]
     },
     "execution_count": 44,
     "metadata": {},
     "output_type": "execute_result"
    }
   ],
   "source": [
    "len(res)"
   ]
  },
  {
   "cell_type": "code",
   "execution_count": 46,
   "metadata": {
    "collapsed": false
   },
   "outputs": [
    {
     "data": {
      "text/plain": [
       "[<matplotlib.lines.Line2D at 0x7f84e4624050>]"
      ]
     },
     "execution_count": 46,
     "metadata": {},
     "output_type": "execute_result"
    },
    {
     "data": {
      "image/png": "[encoded data removed]",
      "text/plain": [
       "<matplotlib.figure.Figure at 0x7f84e527bf50>"
      ]
     },
     "metadata": {},
     "output_type": "display_data"
    }
   ],
   "source": [
    "plot(df.res_f_0,df.res_Q_i,'.')"
   ]
  },
  {
   "cell_type": "code",
   "execution_count": 28,
   "metadata": {
    "collapsed": false
   },
   "outputs": [],
   "source": [
    "rmeas = basic.SingleSweep(streams)"
   ]
  },
  {
   "cell_type": "code",
   "execution_count": 29,
   "metadata": {
    "collapsed": false
   },
   "outputs": [
    {
     "data": {
      "text/plain": [
       "825117444.0256722"
      ]
     },
     "execution_count": 29,
     "metadata": {},
     "output_type": "execute_result"
    }
   ],
   "source": [
    "rmeas.resonator.f_0"
   ]
  },
  {
   "cell_type": "code",
   "execution_count": 30,
   "metadata": {
    "collapsed": false
   },
   "outputs": [
    {
     "data": {
      "text/plain": [
       "[<matplotlib.lines.Line2D at 0x7f84e56f6350>]"
      ]
     },
     "execution_count": 30,
     "metadata": {},
     "output_type": "execute_result"
    },
    {
     "data": {
      "image/png": "[encoded data removed]",
      "text/plain": [
       "<matplotlib.figure.Figure at 0x7f84e57fbe10>"
      ]
     },
     "metadata": {},
     "output_type": "display_data"
    }
   ],
   "source": [
    "plot(rmeas.frequency,dB(rmeas.s21_point))"
   ]
  },
  {
   "cell_type": "code",
   "execution_count": 32,
   "metadata": {
    "collapsed": false
   },
   "outputs": [],
   "source": [
    "df = rmeas.to_dataframe()"
   ]
  },
  {
   "cell_type": "code",
   "execution_count": null,
   "metadata": {
    "collapsed": true
   },
   "outputs": [],
   "source": [
    "resonator_0_data = df[df.number==0]\n",
    "plot(resonator_0_data.temperature,resonator_0_data.res_f_0,'.')\n",
    "for k,row in resonator_0_data.iterrows():\n",
    "    "
   ]
  },
  {
   "cell_type": "code",
   "execution_count": 36,
   "metadata": {
    "collapsed": false
   },
   "outputs": [
    {
     "data": {
      "image/png": "[encoded data removed]",
      "text/plain": [
       "<matplotlib.figure.Figure at 0x7f84e54263d0>"
      ]
     },
     "metadata": {},
     "output_type": "display_data"
    }
   ],
   "source": [
    "for k,row in df.iterrows():\n",
    "    plot(row.res_model_frequency,dB(row.res_model_s21))\n",
    "    plot(row.res_frequency_data,dB(row.res_s21_data),'r.')"
   ]
  },
  {
   "cell_type": "code",
   "execution_count": 14,
   "metadata": {
    "collapsed": false
   },
   "outputs": [
    {
     "data": {
      "text/plain": [
       "[<matplotlib.lines.Line2D at 0x7f84e5a525d0>]"
      ]
     },
     "execution_count": 14,
     "metadata": {},
     "output_type": "execute_result"
    },
    {
     "data": {
      "image/png": "[encoded data removed]",
      "text/plain": [
       "<matplotlib.figure.Figure at 0x7f84e5e2f290>"
      ]
     },
     "metadata": {},
     "output_type": "display_data"
    }
   ],
   "source": [
    "plot(sa.frequency[:10],dB(sa.s21_point)[:10],'.')"
   ]
  },
  {
   "cell_type": "code",
   "execution_count": 10,
   "metadata": {
    "collapsed": false
   },
   "outputs": [
    {
     "data": {
      "text/plain": [
       "MeasurementList([<kid_readout.measurement.basic.StreamArray object at 0x7f84f8a4e410>, <kid_readout.measurement.basic.StreamArray object at 0x7f84f890ce90>, <kid_readout.measurement.basic.StreamArray object at 0x7f84f890cdd0>, <kid_readout.measurement.basic.StreamArray object at 0x7f84f888c110>, <kid_readout.measurement.basic.StreamArray object at 0x7f84f888c390>, <kid_readout.measurement.basic.StreamArray object at 0x7f84f888c610>, <kid_readout.measurement.basic.StreamArray object at 0x7f84f888c890>, <kid_readout.measurement.basic.StreamArray object at 0x7f84f888cb10>, <kid_readout.measurement.basic.StreamArray object at 0x7f84f888cd90>, <kid_readout.measurement.basic.StreamArray object at 0x7f84f889a050>, <kid_readout.measurement.basic.StreamArray object at 0x7f84f889a2d0>, <kid_readout.measurement.basic.StreamArray object at 0x7f84f889a550>, <kid_readout.measurement.basic.StreamArray object at 0x7f84f889a7d0>, <kid_readout.measurement.basic.StreamArray object at 0x7f84f889aa50>, <kid_readout.measurement.basic.StreamArray object at 0x7f84f889acd0>, <kid_readout.measurement.basic.StreamArray object at 0x7f84f889af50>, <kid_readout.measurement.basic.StreamArray object at 0x7f84f88a6210>, <kid_readout.measurement.basic.StreamArray object at 0x7f84f88a6490>, <kid_readout.measurement.basic.StreamArray object at 0x7f84f88a6710>, <kid_readout.measurement.basic.StreamArray object at 0x7f84f88a6990>, <kid_readout.measurement.basic.StreamArray object at 0x7f84f88a6c10>, <kid_readout.measurement.basic.StreamArray object at 0x7f84f88a6e90>, <kid_readout.measurement.basic.StreamArray object at 0x7f84f88b0150>, <kid_readout.measurement.basic.StreamArray object at 0x7f84f88b03d0>, <kid_readout.measurement.basic.StreamArray object at 0x7f84f88b0650>, <kid_readout.measurement.basic.StreamArray object at 0x7f84f88b08d0>, <kid_readout.measurement.basic.StreamArray object at 0x7f84f88b0b50>, <kid_readout.measurement.basic.StreamArray object at 0x7f84f88b0dd0>, <kid_readout.measurement.basic.StreamArray object at 0x7f84f88b7090>, <kid_readout.measurement.basic.StreamArray object at 0x7f84f88b7310>, <kid_readout.measurement.basic.StreamArray object at 0x7f84f88b7590>, <kid_readout.measurement.basic.StreamArray object at 0x7f84f88b7810>, <kid_readout.measurement.basic.StreamArray object at 0x7f84f88b7a90>, <kid_readout.measurement.basic.StreamArray object at 0x7f84f88b7d10>, <kid_readout.measurement.basic.StreamArray object at 0x7f84f88b7f90>, <kid_readout.measurement.basic.StreamArray object at 0x7f84f88a2250>, <kid_readout.measurement.basic.StreamArray object at 0x7f84f88a24d0>, <kid_readout.measurement.basic.StreamArray object at 0x7f84f88a2750>, <kid_readout.measurement.basic.StreamArray object at 0x7f84f88a29d0>, <kid_readout.measurement.basic.StreamArray object at 0x7f84f88a2c50>, <kid_readout.measurement.basic.StreamArray object at 0x7f84f88a2ed0>, <kid_readout.measurement.basic.StreamArray object at 0x7f84f8842190>, <kid_readout.measurement.basic.StreamArray object at 0x7f84f8842410>, <kid_readout.measurement.basic.StreamArray object at 0x7f84f8842690>, <kid_readout.measurement.basic.StreamArray object at 0x7f84f8842910>, <kid_readout.measurement.basic.StreamArray object at 0x7f84f8842b90>, <kid_readout.measurement.basic.StreamArray object at 0x7f84f8842e10>, <kid_readout.measurement.basic.StreamArray object at 0x7f84f884d0d0>, <kid_readout.measurement.basic.StreamArray object at 0x7f84f884d350>, <kid_readout.measurement.basic.StreamArray object at 0x7f84f884d5d0>, <kid_readout.measurement.basic.StreamArray object at 0x7f84f884d850>, <kid_readout.measurement.basic.StreamArray object at 0x7f84f884dad0>, <kid_readout.measurement.basic.StreamArray object at 0x7f84f884dd50>, <kid_readout.measurement.basic.StreamArray object at 0x7f84f884dfd0>, <kid_readout.measurement.basic.StreamArray object at 0x7f84f8857290>, <kid_readout.measurement.basic.StreamArray object at 0x7f84f8857510>, <kid_readout.measurement.basic.StreamArray object at 0x7f84f8857790>, <kid_readout.measurement.basic.StreamArray object at 0x7f84f8857a10>, <kid_readout.measurement.basic.StreamArray object at 0x7f84f8857c90>, <kid_readout.measurement.basic.StreamArray object at 0x7f84f8857f10>, <kid_readout.measurement.basic.StreamArray object at 0x7f84f885b1d0>, <kid_readout.measurement.basic.StreamArray object at 0x7f84f885b450>, <kid_readout.measurement.basic.StreamArray object at 0x7f84f885b6d0>, <kid_readout.measurement.basic.StreamArray object at 0x7f84f885b950>])"
      ]
     },
     "execution_count": 10,
     "metadata": {},
     "output_type": "execute_result"
    }
   ],
   "source": [
    "for streamarray in swa.stream_arrays"
   ]
  },
  {
   "cell_type": "code",
   "execution_count": null,
   "metadata": {
    "collapsed": true
   },
   "outputs": [],
   "source": []
  }
 ],
 "metadata": {
  "kernelspec": {
   "display_name": "Python 2",
   "language": "python",
   "name": "python2"
  },
  "language_info": {
   "codemirror_mode": {
    "name": "ipython",
    "version": 2
   },
   "file_extension": ".py",
   "mimetype": "text/x-python",
   "name": "python",
   "nbconvert_exporter": "python",
   "pygments_lexer": "ipython2",
   "version": "2.7.11"
  }
 },
 "nbformat": 4,
 "nbformat_minor": 0
}
