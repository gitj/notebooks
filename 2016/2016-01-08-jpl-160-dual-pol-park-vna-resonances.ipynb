{
 "cells": [
  {
   "cell_type": "code",
   "execution_count": 1,
   "metadata": {
    "collapsed": false
   },
   "outputs": [
    {
     "name": "stdout",
     "output_type": "stream",
     "text": [
      "Populating the interactive namespace from numpy and matplotlib\n"
     ]
    }
   ],
   "source": [
    "%pylab inline"
   ]
  },
  {
   "cell_type": "code",
   "execution_count": 2,
   "metadata": {
    "collapsed": true
   },
   "outputs": [],
   "source": [
    "all_1_2 = np.array([1201.36, # MHz, 3 dB deep, width 600 kHz?, bad Q # no response to mmw seen\n",
    "\n",
    "1269.15, #1 dB deep, width ~500 kHz, bad Q #no response to mmw seen\n",
    "\n",
    "1433.5, #0.5 dB deep\n",
    "1445.54, # ~0.3 dB deep #responds to mmw\n",
    "1452.3, # ~0.5 dB deep # repsonds to mmw\n",
    "1453.75, # < 1dB deep, ~150 kHz #responds to mmw\n",
    "1465.3, # ~ 1 dB deep, ~200 kHz? wide\n",
    "1494.9, # ~ 1 dB deep, \n",
    "1502.66, # ~ 0.5 dB deep, \n",
    "1503.675, # ~ 1 dB deep, ~150 kHz\n",
    "1507.36, # <0.5 dB deep\n",
    "1517.385, # <0.5 dB deep\n",
    "1524.36, # < 0.5 dB deep #responds to mmw\n",
    "1529.026, # MHz, 1.5 dB deep, width 150 kHz, Q around 10000? # responds to mmw\n",
    "1531.97, # MHz, < 0.5 dB deep #responds to mmw\n",
    "1537.0, # < 0.3 dB deep\n",
    "1544.3, # ~1 dB\n",
    "1557.4, # 1.2 dB, 200 kHz wide # responsds to mmw (1557.275 (on) → 1557.46 MHz (off))\n",
    "1561.24, # 0.5 dB # responds to mmw\n",
    "1588.15, # 8 dB deep, > 1 MHz wide # no obvious response to mmw\n",
    "1601.5, # 3 dB deep, wide\n",
    "1611.45, # 1 dB deep, #responds to mmw\n",
    "\n",
    "1688.8, # 0.5 dB deep # no mmw response seen\n",
    "\n",
    "1801.7, # 1 dB deep, ~1 MHz wide # no mmw response seen\n",
    "\n",
    "1910.73, # 5 dB deep, ~200 kHz wide, Q~10000 #responds slightly to mmw\n",
    "\n",
    "1964.6, # 0.7 dB deep\n",
    "\n",
    "1984.731, # 4 dB deep, ~300 kHz wide\n",
    "                    ])"
   ]
  },
  {
   "cell_type": "code",
   "execution_count": 4,
   "metadata": {
    "collapsed": false
   },
   "outputs": [
    {
     "data": {
      "image/png": "[encoded data removed]",
      "text/plain": [
       "<matplotlib.figure.Figure at 0x411a390>"
      ]
     },
     "metadata": {},
     "output_type": "display_data"
    }
   ],
   "source": [
    "plot(all_1_2,'o')\n",
    "grid()"
   ]
  },
  {
   "cell_type": "code",
   "execution_count": 5,
   "metadata": {
    "collapsed": true
   },
   "outputs": [],
   "source": [
    "mask_1p4_1p62 = (all_1_2 > 1400) & (all_1_2 < 1620)\n",
    "resonator_set_1400_1620 = all_1_2[mask_1p4_1p62]"
   ]
  },
  {
   "cell_type": "code",
   "execution_count": 6,
   "metadata": {
    "collapsed": false
   },
   "outputs": [
    {
     "data": {
      "text/plain": [
       "1518.1383000000001"
      ]
     },
     "execution_count": 6,
     "metadata": {},
     "output_type": "execute_result"
    }
   ],
   "source": [
    "resonator_set_1400_1620.mean()"
   ]
  },
  {
   "cell_type": "code",
   "execution_count": 23,
   "metadata": {
    "collapsed": false
   },
   "outputs": [
    {
     "data": {
      "image/png": "[encoded data removed]",
      "text/plain": [
       "<matplotlib.figure.Figure at 0x47b3810>"
      ]
     },
     "metadata": {},
     "output_type": "display_data"
    }
   ],
   "source": [
    "plot(np.diff(resonator_set_1400_1620),'o')\n",
    "for k in range(5):\n",
    "    gca().axhline(6.5*k)"
   ]
  },
  {
   "cell_type": "code",
   "execution_count": 8,
   "metadata": {
    "collapsed": false,
    "scrolled": true
   },
   "outputs": [
    {
     "data": {
      "text/plain": [
       "177.95000000000005"
      ]
     },
     "execution_count": 8,
     "metadata": {},
     "output_type": "execute_result"
    }
   ],
   "source": [
    "(resonator_set_1400_1620 - resonator_set_1400_1620.mean()).ptp()"
   ]
  },
  {
   "cell_type": "code",
   "execution_count": 10,
   "metadata": {
    "collapsed": false
   },
   "outputs": [
    {
     "data": {
      "text/plain": [
       "1433.5"
      ]
     },
     "execution_count": 10,
     "metadata": {},
     "output_type": "execute_result"
    }
   ],
   "source": [
    "resonator_set_1400_1620.min()"
   ]
  },
  {
   "cell_type": "code",
   "execution_count": 12,
   "metadata": {
    "collapsed": true
   },
   "outputs": [],
   "source": [
    "#np.save('/data/readout/resonances/2016-01-08-jpl-160-dual-pol-park-1400-1620.npy',resonator_set_1400_1620)"
   ]
  },
  {
   "cell_type": "code",
   "execution_count": 13,
   "metadata": {
    "collapsed": false
   },
   "outputs": [
    {
     "data": {
      "text/plain": [
       "20"
      ]
     },
     "execution_count": 13,
     "metadata": {},
     "output_type": "execute_result"
    }
   ],
   "source": [
    "len(resonator_set_1400_1620)"
   ]
  },
  {
   "cell_type": "code",
   "execution_count": 14,
   "metadata": {
    "collapsed": false
   },
   "outputs": [
    {
     "data": {
      "text/plain": [
       "27"
      ]
     },
     "execution_count": 14,
     "metadata": {},
     "output_type": "execute_result"
    }
   ],
   "source": [
    "len(all_1_2)"
   ]
  },
  {
   "cell_type": "code",
   "execution_count": 15,
   "metadata": {
    "collapsed": false
   },
   "outputs": [
    {
     "data": {
      "text/plain": [
       "array([ 12.04 ,   6.76 ,   1.45 ,  11.55 ,  29.6  ,   7.76 ,   1.015,\n",
       "         3.685,  10.025,   6.975,   4.666,   2.944,   5.03 ,   7.3  ,\n",
       "        13.1  ,   3.84 ,  26.91 ,  13.35 ,   9.95 ])"
      ]
     },
     "execution_count": 15,
     "metadata": {},
     "output_type": "execute_result"
    }
   ],
   "source": [
    "np.diff(resonator_set_1400_1620)"
   ]
  },
  {
   "cell_type": "code",
   "execution_count": 19,
   "metadata": {
    "collapsed": false
   },
   "outputs": [
    {
     "data": {
      "text/plain": [
       "array([ 1445.54 ,  1452.3  ,  1453.75 ,  1465.3  ,  1494.9  ,  1503.675,\n",
       "        1507.36 ,  1517.385,  1524.36 ,  1529.026,  1531.97 ,  1537.   ,\n",
       "        1544.3  ,  1557.4  ,  1561.24 ,  1588.15 ])"
      ]
     },
     "execution_count": 19,
     "metadata": {},
     "output_type": "execute_result"
    }
   ],
   "source": [
    "resonator_set_1400_1620[[1,2,3,4,5,7,8,9,10,11,12,13,14,15,16,17]]"
   ]
  },
  {
   "cell_type": "code",
   "execution_count": 24,
   "metadata": {
    "collapsed": false
   },
   "outputs": [
    {
     "data": {
      "text/plain": [
       "array([ 1.        ,  1.0047619 ,  1.00952381,  1.01428571,  1.01904762,\n",
       "        1.02380952,  1.02857143,  1.03333333,  1.03809524,  1.04285714,\n",
       "        1.04761905,  1.05238095,  1.05714286,  1.06190476,  1.06666667,\n",
       "        1.07142857,  1.07619048,  1.08095238,  1.08571429,  1.09047619,\n",
       "        1.0952381 ,  1.1       ])"
      ]
     },
     "execution_count": 24,
     "metadata": {},
     "output_type": "execute_result"
    }
   ],
   "source": [
    "np.linspace(1,1.1,22)"
   ]
  },
  {
   "cell_type": "code",
   "execution_count": null,
   "metadata": {
    "collapsed": true
   },
   "outputs": [],
   "source": []
  }
 ],
 "metadata": {
  "kernelspec": {
   "display_name": "Python 2",
   "language": "python",
   "name": "python2"
  },
  "language_info": {
   "codemirror_mode": {
    "name": "ipython",
    "version": 2
   },
   "file_extension": ".py",
   "mimetype": "text/x-python",
   "name": "python",
   "nbconvert_exporter": "python",
   "pygments_lexer": "ipython2",
   "version": "2.7.6"
  }
 },
 "nbformat": 4,
 "nbformat_minor": 0
}
