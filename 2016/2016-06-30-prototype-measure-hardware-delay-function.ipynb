{
 "cells": [
  {
   "cell_type": "code",
   "execution_count": 1,
   "metadata": {
    "collapsed": false
   },
   "outputs": [
    {
     "name": "stderr",
     "output_type": "stream",
     "text": [
      "/home/gjones/miniconda2/envs/readout/lib/python2.7/site-packages/matplotlib/font_manager.py:273: UserWarning: Matplotlib is building the font cache using fc-list. This may take a moment.\n",
      "  warnings.warn('Matplotlib is building the font cache using fc-list. This may take a moment.')\n"
     ]
    },
    {
     "name": "stdout",
     "output_type": "stream",
     "text": [
      "Populating the interactive namespace from numpy and matplotlib\n"
     ]
    }
   ],
   "source": [
    "%pylab inline"
   ]
  },
  {
   "cell_type": "code",
   "execution_count": 2,
   "metadata": {
    "collapsed": false
   },
   "outputs": [
    {
     "name": "stderr",
     "output_type": "stream",
     "text": [
      "INFO     2016-06-30 15:35:23,757 - kid_readout.<module>:13  kid_readout logging setup with default stream handler\n"
     ]
    }
   ],
   "source": [
    "from kid_readout.interactive import *"
   ]
  },
  {
   "cell_type": "code",
   "execution_count": 3,
   "metadata": {
    "collapsed": false
   },
   "outputs": [
    {
     "name": "stderr",
     "output_type": "stream",
     "text": [
      "INFO     2016-06-30 15:35:25,247 - kid_readout.roach.interface.initialize:417  Loaded ROACH state from /data/readout/r2kid_config.npz\n"
     ]
    }
   ],
   "source": [
    "ri = hardware_tools.r2_with_mk1()"
   ]
  },
  {
   "cell_type": "code",
   "execution_count": 7,
   "metadata": {
    "collapsed": false
   },
   "outputs": [
    {
     "data": {
      "text/plain": [
       "array([ 24,  48,  72,  96, 120, 144, 168, 192])"
      ]
     },
     "execution_count": 7,
     "metadata": {},
     "output_type": "execute_result"
    }
   ],
   "source": [
    "np.arange(1,9)*24"
   ]
  },
  {
   "cell_type": "code",
   "execution_count": 23,
   "metadata": {
    "collapsed": false
   },
   "outputs": [
    {
     "data": {
      "text/plain": [
       "True"
      ]
     },
     "execution_count": 23,
     "metadata": {},
     "output_type": "execute_result"
    }
   ],
   "source": [
    "ri.is_roach2"
   ]
  },
  {
   "cell_type": "code",
   "execution_count": 19,
   "metadata": {
    "collapsed": false
   },
   "outputs": [],
   "source": [
    "def measure_hardware_delay(ri,frequencies=np.arange(1,9)*24,num_tone_samples=2**16,num_points=16,make_plots=False):\n",
    "    offsets = np.arange(-num_points//2,num_points//2+1)*ri.fs/float(num_tone_samples)\n",
    "    sa = acquire.run_sweep(ri,ri.lo_frequency+frequencies[None,:]+offsets[:,None],num_tone_samples=num_tone_samples,verbose=True)\n",
    "    print np.median(np.abs(sa.s21_point))\n",
    "    local_delays = []\n",
    "    for k in range(frequencies.shape[0]):\n",
    "        swp = sa.sweep(k)\n",
    "        deltaf = swp.frequency-swp.frequency.min() \n",
    "        phase = np.unwrap(np.angle(swp.s21_point))\n",
    "        rad_per_Hz,offset = np.polyfit(deltaf,phase,1)\n",
    "        local_delays.append(rad_per_Hz/(2*np.pi))\n",
    "        if make_plots:\n",
    "            plot(deltaf,phase-offset,'.')\n",
    "            plot(deltaf,rad_per_Hz*deltaf)\n",
    "            xlabel('Offset Frequency (Hz)')\n",
    "            ylabel('Phase (rad)')\n",
    "    local_delays = np.array(local_delays)\n",
    "    if make_plots:\n",
    "        figure()\n",
    "        plot(frequencies,local_delays*1e9,'o')\n",
    "        axhline(np.median(local_delays*1e9),linestyle='--',color='r')\n",
    "        xlabel('Measurement Frequency (MHz)')\n",
    "        ylabel('Delay (ns)')\n",
    "    logger.debug(\"median local delay: %.1f ns\" % (np.median(local_delays)*1e9))\n",
    "    frequency = sa.frequency\n",
    "    deltaf = frequency - frequency.min()\n",
    "    phase = np.unwrap(np.angle(sa.s21_point*np.exp(-1j*np.median(local_delays)*2*np.pi*deltaf)))\n",
    "    rad_per_Hz,offset = np.polyfit(deltaf,phase,1)\n",
    "    if make_plots:\n",
    "        figure()\n",
    "        plot(frequency/1e6,phase,'.')\n",
    "        plot(frequency/1e6,offset+rad_per_Hz*deltaf)\n",
    "        xlabel('Frequency (MHz)')\n",
    "        ylabel('Phase (rad)')\n",
    "    total_delay = np.median(local_delays) + rad_per_Hz/(2*np.pi)\n",
    "    logger.debug(\"residual delay %.1f ns global delay = %.1f ns\" % (1e9*rad_per_Hz/(2*np.pi), 1e9*total_delay))\n",
    "    return total_delay\n"
   ]
  },
  {
   "cell_type": "code",
   "execution_count": 5,
   "metadata": {
    "collapsed": true
   },
   "outputs": [],
   "source": [
    "logger.setLevel(logging.DEBUG)"
   ]
  },
  {
   "cell_type": "code",
   "execution_count": 9,
   "metadata": {
    "collapsed": true
   },
   "outputs": [],
   "source": [
    "ri.set_loopback(False)\n",
    "ri.set_fft_gain(8)"
   ]
  },
  {
   "cell_type": "code",
   "execution_count": 14,
   "metadata": {
    "collapsed": false
   },
   "outputs": [],
   "source": [
    "ri.demodulator.hardware_delay_samples=-16025.6-223.82740770179902"
   ]
  },
  {
   "cell_type": "code",
   "execution_count": 8,
   "metadata": {
    "collapsed": true
   },
   "outputs": [],
   "source": [
    "#ri.demodulator.hardware_delay_samples=-16360"
   ]
  },
  {
   "cell_type": "code",
   "execution_count": 16,
   "metadata": {
    "collapsed": false
   },
   "outputs": [
    {
     "data": {
      "text/plain": [
       "-19.926603882815446"
      ]
     },
     "execution_count": 16,
     "metadata": {},
     "output_type": "execute_result"
    }
   ],
   "source": [
    "_*512e6"
   ]
  },
  {
   "cell_type": "code",
   "execution_count": 22,
   "metadata": {
    "collapsed": false
   },
   "outputs": [
    {
     "name": "stdout",
     "output_type": "stream",
     "text": [
      " Measuring bank\n",
      "0 1 2 3 4 5 6 7 8 9 10 11 12 13 14 15 16"
     ]
    },
    {
     "name": "stderr",
     "output_type": "stream",
     "text": [
      "DEBUG    2016-06-30 15:43:50,067 - kid_readout.measure_hardware_delay:24  median local delay: -44.5 ns\n",
      "DEBUG    2016-06-30 15:43:50,107 - kid_readout.measure_hardware_delay:36  residual delay 0.8 ns global delay = -43.7 ns\n"
     ]
    },
    {
     "name": "stdout",
     "output_type": "stream",
     "text": [
      " 661.718\n"
     ]
    },
    {
     "data": {
      "text/plain": [
       "-4.3690844073264241e-08"
      ]
     },
     "execution_count": 22,
     "metadata": {},
     "output_type": "execute_result"
    },
    {
     "data": {
      "image/png": "[encoded data removed]",
      "text/plain": [
       "<matplotlib.figure.Figure at 0x7f35480e3e90>"
      ]
     },
     "metadata": {},
     "output_type": "display_data"
    },
    {
     "data": {
      "image/png": "[encoded data removed]",
      "text/plain": [
       "<matplotlib.figure.Figure at 0x7f354804b350>"
      ]
     },
     "metadata": {},
     "output_type": "display_data"
    },
    {
     "data": {
      "image/png": "[encoded data removed]",
      "text/plain": [
       "<matplotlib.figure.Figure at 0x7f3532b21750>"
      ]
     },
     "metadata": {},
     "output_type": "display_data"
    }
   ],
   "source": [
    "measure_hardware_delay(ri,frequencies=np.linspace(-180,190,8),make_plots=True)"
   ]
  },
  {
   "cell_type": "code",
   "execution_count": null,
   "metadata": {
    "collapsed": true
   },
   "outputs": [],
   "source": []
  }
 ],
 "metadata": {
  "kernelspec": {
   "display_name": "Python 2",
   "language": "python",
   "name": "python2"
  },
  "language_info": {
   "codemirror_mode": {
    "name": "ipython",
    "version": 2
   },
   "file_extension": ".py",
   "mimetype": "text/x-python",
   "name": "python",
   "nbconvert_exporter": "python",
   "pygments_lexer": "ipython2",
   "version": "2.7.11"
  }
 },
 "nbformat": 4,
 "nbformat_minor": 0
}
