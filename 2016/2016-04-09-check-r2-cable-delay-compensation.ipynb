{
 "cells": [
  {
   "cell_type": "code",
   "execution_count": 1,
   "metadata": {
    "collapsed": false
   },
   "outputs": [
    {
     "name": "stderr",
     "output_type": "stream",
     "text": [
      "/home/gjones/miniconda2/envs/readout/lib/python2.7/site-packages/matplotlib/font_manager.py:273: UserWarning: Matplotlib is building the font cache using fc-list. This may take a moment.\n",
      "  warnings.warn('Matplotlib is building the font cache using fc-list. This may take a moment.')\n"
     ]
    },
    {
     "name": "stdout",
     "output_type": "stream",
     "text": [
      "Populating the interactive namespace from numpy and matplotlib\n"
     ]
    }
   ],
   "source": [
    "%pylab inline"
   ]
  },
  {
   "cell_type": "code",
   "execution_count": 2,
   "metadata": {
    "collapsed": false
   },
   "outputs": [
    {
     "name": "stderr",
     "output_type": "stream",
     "text": [
      "/home/gjones/miniconda2/envs/readout/lib/python2.7/site-packages/lmfit/ui/__init__.py:33: UserWarning: lmfit.Fitter will use basic mode, not IPython: need ipywidgets.\n",
      "  warnings.warn(_ipy_msg3)\n"
     ]
    }
   ],
   "source": [
    "from kid_readout import *"
   ]
  },
  {
   "cell_type": "code",
   "execution_count": 3,
   "metadata": {
    "collapsed": false
   },
   "outputs": [
    {
     "name": "stdout",
     "output_type": "stream",
     "text": [
      "Loaded ROACH state from /data/readout/r2kid_config.npz\n",
      "ROACH configuration does not match saved state\n",
      "Reinitializing system\n",
      "Deprogramming\n",
      "Programming r2iq2xpfb14mcr12gb_2016_Feb_20_0948.bof\n",
      "Requested sampling rate 512.0 MHz. Estimated sampling rate 513.1 MHz\n",
      "--- === Trying with OUT DELAYS to 30 === ---\n",
      "Eye for QDR qdr0 (0 is pass, 1 is fail):\n",
      "\tTap step  0:  11111111111111111111110111111101\n",
      "\tTap step  1:  11111111111111110100000101010101\n",
      "\tTap step  2:  11111111111111010000000100000000\n",
      "\tTap step  3:  11111011111111000000000000000000\n",
      "\tTap step  4:  01000001000001000000000000000000\n",
      "\tTap step  5:  00000000000000000000000000000000\n",
      "\tTap step  6:  00000000000000000000000000000000\n",
      "\tTap step  7:  00000000000000000000000000000000\n",
      "\tTap step  8:  00000000000000000000000000000000\n",
      "\tTap step  9:  00000000000000000000000000000000\n",
      "\tTap step 10:  00000000000000000000000000000000\n",
      "\tTap step 11:  00000000000000000000000000000000\n",
      "\tTap step 12:  00000000000000000000000000000000\n",
      "\tTap step 13:  00000000000000000000000000000000\n",
      "\tTap step 14:  00000000000000000000000000000000\n",
      "\tTap step 15:  00000000000000000000000000000000\n",
      "\tTap step 16:  00000000000000000000000000000000\n",
      "\tTap step 17:  00000000000000000000000000000000\n",
      "\tTap step 18:  00000000000000000000000000000000\n",
      "\tTap step 19:  00000000000000000000000000000000\n",
      "\tTap step 20:  00000000000000000000000000000000\n",
      "\tTap step 21:  00000000000000000000000000000000\n",
      "\tTap step 22:  00000000000000000000000000000000\n",
      "\tTap step 23:  00000000000000000000001000101110\n",
      "\tTap step 24:  00000000000000011001111010101111\n",
      "\tTap step 25:  00000000000000111111111010111111\n",
      "\tTap step 26:  00000000000000111111111111111111\n",
      "\tTap step 27:  10100100101000111111111111111111\n",
      "\tTap step 28:  10110110101111111111111111111111\n",
      "\tTap step 29:  11110111111111111111111111111111\n",
      "\tTap step 30:  11111111111111111111111111111111\n",
      "\tTap step 31:  11111111111111111111111111111111\n",
      "Using in delays: [ 12.  11.  12.  11.  13.  11.  13.  12.  14.  11.  12.  12.  12.  12.  13.\n",
      "  12.  13.  13.  16.  15.  15.  15.  16.  15.  16.  15.  14.  16.  15.  15.\n",
      "  16.  15.  13.  13.  13.  13.]\n"
     ]
    }
   ],
   "source": [
    "ri = r2heterodyne.Roach2Heterodyne(adc_valon='/dev/ttyUSB4',lo_valon=None)"
   ]
  },
  {
   "cell_type": "code",
   "execution_count": 4,
   "metadata": {
    "collapsed": true
   },
   "outputs": [],
   "source": [
    "ri.set_lo(1000.)"
   ]
  },
  {
   "cell_type": "code",
   "execution_count": 5,
   "metadata": {
    "collapsed": true
   },
   "outputs": [],
   "source": [
    "from kid_readout.measurement.acquire import acquire"
   ]
  },
  {
   "cell_type": "code",
   "execution_count": 6,
   "metadata": {
    "collapsed": true
   },
   "outputs": [],
   "source": [
    "ri.set_loopback(True)"
   ]
  },
  {
   "cell_type": "code",
   "execution_count": 7,
   "metadata": {
    "collapsed": false
   },
   "outputs": [
    {
     "data": {
      "text/plain": [
       "True"
      ]
     },
     "execution_count": 7,
     "metadata": {},
     "output_type": "execute_result"
    }
   ],
   "source": [
    "ri.loopback"
   ]
  },
  {
   "cell_type": "code",
   "execution_count": 8,
   "metadata": {
    "collapsed": true
   },
   "outputs": [],
   "source": [
    "ri.set_fft_gain(0)"
   ]
  },
  {
   "cell_type": "code",
   "execution_count": 30,
   "metadata": {
    "collapsed": false,
    "scrolled": true
   },
   "outputs": [],
   "source": [
    "sa = acquire.run_sweep(ri,np.linspace(900,900.1,16)[:,None],length_seconds=1,num_tone_samples=2**17)"
   ]
  },
  {
   "cell_type": "code",
   "execution_count": 31,
   "metadata": {
    "collapsed": false
   },
   "outputs": [
    {
     "data": {
      "text/plain": [
       "array([ 900.        ,  900.0078125 ,  900.01171875,  900.01953125,\n",
       "        900.02734375,  900.03515625,  900.0390625 ,  900.046875  ,\n",
       "        900.0546875 ,  900.05859375,  900.06640625,  900.07421875,\n",
       "        900.078125  ,  900.0859375 ,  900.09375   ,  900.1015625 ])"
      ]
     },
     "execution_count": 31,
     "metadata": {},
     "output_type": "execute_result"
    }
   ],
   "source": [
    "sa.frequency_MHz_stack"
   ]
  },
  {
   "cell_type": "code",
   "execution_count": 11,
   "metadata": {
    "collapsed": true
   },
   "outputs": [],
   "source": [
    "from kid_readout.measurement import basic"
   ]
  },
  {
   "cell_type": "code",
   "execution_count": 32,
   "metadata": {
    "collapsed": false
   },
   "outputs": [],
   "source": [
    "swp = sa.sweep(0)"
   ]
  },
  {
   "cell_type": "code",
   "execution_count": 33,
   "metadata": {
    "collapsed": false
   },
   "outputs": [
    {
     "data": {
      "text/plain": [
       "[<matplotlib.lines.Line2D at 0x7fb46901d150>]"
      ]
     },
     "execution_count": 33,
     "metadata": {},
     "output_type": "execute_result"
    },
    {
     "data": {
      "image/png": "[encoded data removed]",
      "text/plain": [
       "<matplotlib.figure.Figure at 0x7fb4740a9650>"
      ]
     },
     "metadata": {},
     "output_type": "display_data"
    }
   ],
   "source": [
    "plot(swp.frequency_MHz_stack,np.unwrap(np.angle(swp.s21_points)))"
   ]
  },
  {
   "cell_type": "code",
   "execution_count": 34,
   "metadata": {
    "collapsed": false
   },
   "outputs": [
    {
     "data": {
      "image/png": "[encoded data removed]",
      "text/plain": [
       "<matplotlib.figure.Figure at 0x7fb4690405d0>"
      ]
     },
     "metadata": {},
     "output_type": "display_data"
    }
   ],
   "source": [
    "plot_ri(swp.s21_points,'.')"
   ]
  },
  {
   "cell_type": "code",
   "execution_count": 35,
   "metadata": {
    "collapsed": true
   },
   "outputs": [],
   "source": [
    "from kid_readout.analysis import lmfit_fitter"
   ]
  },
  {
   "cell_type": "code",
   "execution_count": 36,
   "metadata": {
    "collapsed": true
   },
   "outputs": [],
   "source": [
    "from kid_readout.analysis.resonator import lmfit_models"
   ]
  },
  {
   "cell_type": "code",
   "execution_count": 37,
   "metadata": {
    "collapsed": false
   },
   "outputs": [],
   "source": [
    "fit = lmfit_fitter.FitterWithAttributeAccess(swp.s21_points,f=swp.frequency_stack,model=lmfit_models.GeneralCableModel)"
   ]
  },
  {
   "cell_type": "code",
   "execution_count": 38,
   "metadata": {
    "collapsed": true
   },
   "outputs": [],
   "source": [
    "fit.fit()"
   ]
  },
  {
   "cell_type": "code",
   "execution_count": 39,
   "metadata": {
    "collapsed": false
   },
   "outputs": [
    {
     "data": {
      "text/plain": [
       "Parameters([('delay',\n",
       "             <Parameter 'delay', -6.5298698523034229e-07, bounds=[-inf:inf]>),\n",
       "            ('phi',\n",
       "             <Parameter 'phi', 0.54981953510951209, bounds=[-3.141592653589793:3.141592653589793]>),\n",
       "            ('f_min',\n",
       "             <Parameter 'f_min', value=900000000.0 (fixed), bounds=[-inf:inf]>),\n",
       "            ('A_mag', <Parameter 'A_mag', 6801.0807716344534, bounds=[0:inf]>),\n",
       "            ('A_slope',\n",
       "             <Parameter 'A_slope', -1.303641832683554e-10, bounds=[-inf:inf]>)])"
      ]
     },
     "execution_count": 39,
     "metadata": {},
     "output_type": "execute_result"
    }
   ],
   "source": [
    "fit.current_params"
   ]
  },
  {
   "cell_type": "code",
   "execution_count": 40,
   "metadata": {
    "collapsed": false
   },
   "outputs": [
    {
     "data": {
      "text/plain": [
       "-3.13e-05"
      ]
     },
     "execution_count": 40,
     "metadata": {},
     "output_type": "execute_result"
    }
   ],
   "source": [
    "ri.hardware_delay_estimate"
   ]
  },
  {
   "cell_type": "code",
   "execution_count": 41,
   "metadata": {
    "collapsed": false
   },
   "outputs": [
    {
     "data": {
      "image/png": "[encoded data removed]",
      "text/plain": [
       "<matplotlib.figure.Figure at 0x7fb4690b2e90>"
      ]
     },
     "metadata": {},
     "output_type": "display_data"
    }
   ],
   "source": [
    "fit.plot()"
   ]
  },
  {
   "cell_type": "code",
   "execution_count": 45,
   "metadata": {
    "collapsed": false
   },
   "outputs": [
    {
     "ename": "AttributeError",
     "evalue": "'GeneralCableModel' object has no attribute 'remove_background'",
     "output_type": "error",
     "traceback": [
      "\u001b[1;31m---------------------------------------------------------------------------\u001b[0m",
      "\u001b[1;31mAttributeError\u001b[0m                            Traceback (most recent call last)",
      "\u001b[1;32m<ipython-input-45-a4b3bf1cfe55>\u001b[0m in \u001b[0;36m<module>\u001b[1;34m()\u001b[0m\n\u001b[1;32m----> 1\u001b[1;33m \u001b[0mfit\u001b[0m\u001b[1;33m.\u001b[0m\u001b[0mmodel\u001b[0m\u001b[1;33m.\u001b[0m\u001b[0mremove_background\u001b[0m\u001b[1;33m\u001b[0m\u001b[0m\n\u001b[0m",
      "\u001b[1;31mAttributeError\u001b[0m: 'GeneralCableModel' object has no attribute 'remove_background'"
     ]
    }
   ],
   "source": []
  },
  {
   "cell_type": "code",
   "execution_count": 42,
   "metadata": {
    "collapsed": false
   },
   "outputs": [
    {
     "data": {
      "text/plain": [
       "[<matplotlib.lines.Line2D at 0x7fb468fbde90>]"
      ]
     },
     "execution_count": 42,
     "metadata": {},
     "output_type": "execute_result"
    },
    {
     "data": {
      "image/png": "[encoded data removed]",
      "text/plain": [
       "<matplotlib.figure.Figure at 0x7fb474119190>"
      ]
     },
     "metadata": {},
     "output_type": "display_data"
    }
   ],
   "source": [
    "plot(swp.frequency_MHz_stack,np.abs(swp.s21_points))"
   ]
  },
  {
   "cell_type": "code",
   "execution_count": 23,
   "metadata": {
    "collapsed": false
   },
   "outputs": [
    {
     "data": {
      "text/plain": [
       "(16, 2048)"
      ]
     },
     "execution_count": 23,
     "metadata": {},
     "output_type": "execute_result"
    }
   ],
   "source": [
    "swp.s21_raw_stack.shape"
   ]
  },
  {
   "cell_type": "code",
   "execution_count": 24,
   "metadata": {
    "collapsed": true
   },
   "outputs": [],
   "source": [
    "ff = np.abs(np.fft.fft(swp.s21_raw_stack,axis=1))"
   ]
  },
  {
   "cell_type": "code",
   "execution_count": 25,
   "metadata": {
    "collapsed": false
   },
   "outputs": [
    {
     "data": {
      "text/plain": [
       "(16, 2048)"
      ]
     },
     "execution_count": 25,
     "metadata": {},
     "output_type": "execute_result"
    }
   ],
   "source": [
    "ff.shape"
   ]
  },
  {
   "cell_type": "code",
   "execution_count": 26,
   "metadata": {
    "collapsed": false
   },
   "outputs": [
    {
     "data": {
      "text/plain": [
       "array([[ 13928662.65463056,         0.        ,         0.        , ...,\n",
       "                0.        ,         0.        ,         0.        ],\n",
       "       [ 13928921.98547688,         0.        ,         0.        , ...,\n",
       "                0.        ,         0.        ,         0.        ],\n",
       "       [ 13927505.23948037,         0.        ,         0.        , ...,\n",
       "                0.        ,         0.        ,         0.        ],\n",
       "       ..., \n",
       "       [ 13929868.48509005,         0.        ,         0.        , ...,\n",
       "                0.        ,         0.        ,         0.        ],\n",
       "       [ 13928601.42179297,         0.        ,         0.        , ...,\n",
       "                0.        ,         0.        ,         0.        ],\n",
       "       [ 13928806.17506414,         0.        ,         0.        , ...,\n",
       "                0.        ,         0.        ,         0.        ]])"
      ]
     },
     "execution_count": 26,
     "metadata": {},
     "output_type": "execute_result"
    }
   ],
   "source": [
    "ff"
   ]
  },
  {
   "cell_type": "code",
   "execution_count": 27,
   "metadata": {
    "collapsed": false
   },
   "outputs": [
    {
     "data": {
      "text/plain": [
       "[<matplotlib.lines.Line2D at 0x7fb4691ce690>]"
      ]
     },
     "execution_count": 27,
     "metadata": {},
     "output_type": "execute_result"
    },
    {
     "data": {
      "image/png": "[encoded data removed]",
      "text/plain": [
       "<matplotlib.figure.Figure at 0x7fb4692b6410>"
      ]
     },
     "metadata": {},
     "output_type": "display_data"
    }
   ],
   "source": [
    "plot(swp.s21_raw_stack[0].imag)"
   ]
  },
  {
   "cell_type": "code",
   "execution_count": 28,
   "metadata": {
    "collapsed": false
   },
   "outputs": [
    {
     "data": {
      "text/plain": [
       "[(2048,),\n",
       " (2048,),\n",
       " (2048,),\n",
       " (2048,),\n",
       " (2048,),\n",
       " (2048,),\n",
       " (2048,),\n",
       " (2048,),\n",
       " (2048,),\n",
       " (2048,),\n",
       " (2048,),\n",
       " (2048,),\n",
       " (2048,),\n",
       " (2048,),\n",
       " (2048,),\n",
       " (2048,)]"
      ]
     },
     "execution_count": 28,
     "metadata": {},
     "output_type": "execute_result"
    }
   ],
   "source": [
    "[stream.s21_raw.shape for stream in swp.streams]"
   ]
  },
  {
   "cell_type": "code",
   "execution_count": 29,
   "metadata": {
    "collapsed": false
   },
   "outputs": [
    {
     "data": {
      "text/plain": [
       "[<matplotlib.lines.Line2D at 0x7fb469180ad0>,\n",
       " <matplotlib.lines.Line2D at 0x7fb469180bd0>,\n",
       " <matplotlib.lines.Line2D at 0x7fb469180d90>,\n",
       " <matplotlib.lines.Line2D at 0x7fb469180e90>,\n",
       " <matplotlib.lines.Line2D at 0x7fb469180f90>,\n",
       " <matplotlib.lines.Line2D at 0x7fb46910b0d0>,\n",
       " <matplotlib.lines.Line2D at 0x7fb46910b1d0>,\n",
       " <matplotlib.lines.Line2D at 0x7fb46910b2d0>,\n",
       " <matplotlib.lines.Line2D at 0x7fb46910b3d0>,\n",
       " <matplotlib.lines.Line2D at 0x7fb46910b4d0>,\n",
       " <matplotlib.lines.Line2D at 0x7fb46910b5d0>,\n",
       " <matplotlib.lines.Line2D at 0x7fb46910b6d0>,\n",
       " <matplotlib.lines.Line2D at 0x7fb46910b7d0>,\n",
       " <matplotlib.lines.Line2D at 0x7fb46910b8d0>,\n",
       " <matplotlib.lines.Line2D at 0x7fb4691c09d0>,\n",
       " <matplotlib.lines.Line2D at 0x7fb46910bad0>]"
      ]
     },
     "execution_count": 29,
     "metadata": {},
     "output_type": "execute_result"
    },
    {
     "data": {
      "image/png": "[encoded data removed]",
      "text/plain": [
       "<matplotlib.figure.Figure at 0x7fb46933ebd0>"
      ]
     },
     "metadata": {},
     "output_type": "display_data"
    }
   ],
   "source": [
    "plot((ff.T),'o')"
   ]
  },
  {
   "cell_type": "code",
   "execution_count": null,
   "metadata": {
    "collapsed": true
   },
   "outputs": [],
   "source": []
  }
 ],
 "metadata": {
  "kernelspec": {
   "display_name": "Python 2",
   "language": "python",
   "name": "python2"
  },
  "language_info": {
   "codemirror_mode": {
    "name": "ipython",
    "version": 2
   },
   "file_extension": ".py",
   "mimetype": "text/x-python",
   "name": "python",
   "nbconvert_exporter": "python",
   "pygments_lexer": "ipython2",
   "version": "2.7.11"
  }
 },
 "nbformat": 4,
 "nbformat_minor": 0
}
