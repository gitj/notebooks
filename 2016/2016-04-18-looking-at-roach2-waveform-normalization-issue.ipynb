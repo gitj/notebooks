{
 "cells": [
  {
   "cell_type": "code",
   "execution_count": 1,
   "metadata": {
    "collapsed": false
   },
   "outputs": [
    {
     "name": "stderr",
     "output_type": "stream",
     "text": [
      "/home/gjones/miniconda2/envs/readout/lib/python2.7/site-packages/matplotlib/font_manager.py:273: UserWarning: Matplotlib is building the font cache using fc-list. This may take a moment.\n",
      "  warnings.warn('Matplotlib is building the font cache using fc-list. This may take a moment.')\n"
     ]
    },
    {
     "name": "stdout",
     "output_type": "stream",
     "text": [
      "Populating the interactive namespace from numpy and matplotlib\n"
     ]
    }
   ],
   "source": [
    "%pylab inline"
   ]
  },
  {
   "cell_type": "code",
   "execution_count": 2,
   "metadata": {
    "collapsed": true
   },
   "outputs": [],
   "source": [
    "from kid_readout import *\n",
    "from kid_readout.roach import attenuator"
   ]
  },
  {
   "cell_type": "code",
   "execution_count": 3,
   "metadata": {
    "collapsed": true
   },
   "outputs": [],
   "source": [
    "r2 = roach.r2heterodyne.Roach2Heterodyne(roachip='r2kid',attenuator=attenuator.Attenuator(),adc_valon='/dev/ttyUSB4',lo_valon='/dev/ttyUSB3',initialize=False)"
   ]
  },
  {
   "cell_type": "code",
   "execution_count": 4,
   "metadata": {
    "collapsed": true
   },
   "outputs": [],
   "source": [
    "r1 = roach.heterodyne.RoachHeterodyne(adc_valon='/dev/ttyUSB0')"
   ]
  },
  {
   "cell_type": "code",
   "execution_count": 5,
   "metadata": {
    "collapsed": false
   },
   "outputs": [],
   "source": [
    "r1.iq_delay = 0"
   ]
  },
  {
   "cell_type": "code",
   "execution_count": 6,
   "metadata": {
    "collapsed": true
   },
   "outputs": [],
   "source": [
    "low_group = np.array([ 1119.07673511,  1126.0153982 ,  1133.70131753,  1135.31245427,\n",
    "        1143.21576741,  1148.0169738 ,  1159.41786884,  1160.26943775, 1162.33,\n",
    "        1176.56747357,  1177.70848608,  1181.33728799,  1186.05472363,\n",
    "        1190.29108718,  1193.62180971,  1203.87755917,  1205.8392229 ,\n",
    "        1207.88046178,  1220.05286255,  1221.41371349,  1235.26613658, 1243.71])\n",
    "\n",
    "to_add = 32 - len(low_group)\n",
    "low_group = np.hstack((low_group,np.arange(to_add)+low_group.max()+2.))\n",
    "low_group_lo = 1110.0\n",
    "\n",
    "high_group = np.array([1576.67969747,  1599.40494104,  1605.60503541,\n",
    "        1609.7742154 ,\n",
    "        1623.02,\n",
    "                       1628.5448411 ,  1648.17537644,  1649.22774551,\n",
    "        1650.36575278,  1662.37845567,  1664.1706628 ,  1681.28526333,\n",
    "        1682.17350834,  1684.44471064,  1702.0820426 ,  1706.79635917,\n",
    "        1714.66047719,\n",
    "                       1720.7, 1724.39938475,  1752.05587464,  1767.515093])\n",
    "\n",
    "to_add = 32 - len(high_group)\n",
    "high_group = np.hstack((high_group,np.arange(to_add)+high_group.max()+2.))\n",
    "high_group_lo = 1570.0\n",
    "\n",
    "nsamp = 2**15\n",
    "step = 1\n",
    "nstep = 16\n",
    "offset_bins = np.arange(-(nstep + 1), (nstep + 1)) * step\n",
    "offsets = offset_bins * 512.0 / nsamp"
   ]
  },
  {
   "cell_type": "code",
   "execution_count": 7,
   "metadata": {
    "collapsed": true
   },
   "outputs": [],
   "source": [
    "r1.set_lo(low_group_lo)\n",
    "r2.set_lo(low_group_lo)"
   ]
  },
  {
   "cell_type": "code",
   "execution_count": 8,
   "metadata": {
    "collapsed": true
   },
   "outputs": [],
   "source": [
    "r1.set_loopback(True)\n",
    "r2.set_loopback(True)\n",
    "r1.set_fft_gain(2)\n",
    "r2.set_fft_gain(2)"
   ]
  },
  {
   "cell_type": "code",
   "execution_count": 9,
   "metadata": {
    "collapsed": false
   },
   "outputs": [
    {
     "name": "stdout",
     "output_type": "stream",
     "text": [
      "bank_offset= 0 start_offset= 0 start_offset_bytes= 0\n",
      "writing DRAM bank 0\n",
      "\n",
      "bank_offset= 0 start_offset= 0 start_offset_bytes= 0\n",
      "writing DRAM bank 0\n",
      "\n",
      "bank_offset= 0 start_offset= 0 start_offset_bytes= 0\n",
      "writing DRAM bank 0\n",
      "\n",
      "bank_offset= 0 start_offset= 0 start_offset_bytes= 0\n",
      "writing DRAM bank 0\n",
      "\n",
      "bank_offset= 0 start_offset= 0 start_offset_bytes= 0\n",
      "writing DRAM bank 0\n",
      "\n",
      "bank_offset= 0 start_offset= 0 start_offset_bytes= 0\n",
      "writing DRAM bank 0\n",
      "\n",
      "bank_offset= 0 start_offset= 0 start_offset_bytes= 0\n",
      "writing DRAM bank 0\n",
      "\n",
      "bank_offset= 0 start_offset= 0 start_offset_bytes= 0\n",
      "writing DRAM bank 0\n",
      "\n",
      "bank_offset= 0 start_offset= 0 start_offset_bytes= 0\n",
      "writing DRAM bank 0\n",
      "\n",
      "bank_offset= 0 start_offset= 0 start_offset_bytes= 0\n",
      "writing DRAM bank 0\n",
      "\n",
      "detected mcnt overflow None 993901 0 65536 0 320 993901\n",
      "bank_offset= 0 start_offset= 0 start_offset_bytes= 0\n",
      "writing DRAM bank 0\n",
      "\n",
      "bank_offset= 0 start_offset= 0 start_offset_bytes= 0\n",
      "writing DRAM bank 0\n",
      "\n",
      "bank_offset= 0 start_offset= 0 start_offset_bytes= 0\n",
      "writing DRAM bank 0\n",
      "\n",
      "bank_offset= 0 start_offset= 0 start_offset_bytes= 0\n",
      "writing DRAM bank 0\n",
      "\n",
      "bank_offset= 0 start_offset= 0 start_offset_bytes= 0\n",
      "writing DRAM bank 0\n",
      "\n",
      "bank_offset= 0 start_offset= 0 start_offset_bytes= 0\n",
      "writing DRAM bank 0\n",
      "\n"
     ]
    },
    {
     "data": {
      "image/png": "[encoded data removed]",
      "text/plain": [
       "<matplotlib.figure.Figure at 0x7f3190574b90>"
      ]
     },
     "metadata": {},
     "output_type": "display_data"
    }
   ],
   "source": [
    "ri = r1\n",
    "for k in range(8):\n",
    "    #ri.phases=None\n",
    "    ri.set_tone_freqs(low_group+1,nsamp=nsamp)\n",
    "    ri.set_tone_freqs(low_group,nsamp=nsamp)\n",
    "    ri.select_fft_bins(range(32))\n",
    "    ri._sync()\n",
    "    meas = ri.get_measurement(0.2,demod=False)\n",
    "    plot_ri(meas.s21_raw[3,:].mean(),'o')"
   ]
  },
  {
   "cell_type": "code",
   "execution_count": 19,
   "metadata": {
    "collapsed": false
   },
   "outputs": [
    {
     "data": {
      "text/plain": [
       "0.0005054203415081975"
      ]
     },
     "execution_count": 19,
     "metadata": {},
     "output_type": "execute_result"
    }
   ],
   "source": [
    "ri.wavenorm"
   ]
  },
  {
   "cell_type": "code",
   "execution_count": 21,
   "metadata": {
    "collapsed": false
   },
   "outputs": [
    {
     "data": {
      "text/plain": [
       "dtype('complex64')"
      ]
     },
     "execution_count": 21,
     "metadata": {},
     "output_type": "execute_result"
    }
   ],
   "source": [
    "meas.s21_raw.dtype"
   ]
  },
  {
   "cell_type": "code",
   "execution_count": 20,
   "metadata": {
    "collapsed": false
   },
   "outputs": [
    {
     "name": "stdout",
     "output_type": "stream",
     "text": [
      "bank_offset= 0 start_offset= 0 start_offset_bytes= 0\n",
      "writing DRAM bank 0\n",
      "\n",
      "bank_offset= 0 start_offset= 0 start_offset_bytes= 0\n",
      "writing DRAM bank 0\n",
      "\n",
      "bank_offset= 0 start_offset= 0 start_offset_bytes= 0\n",
      "writing DRAM bank 0\n",
      "\n",
      "bank_offset= 0 start_offset= 0 start_offset_bytes= 0\n",
      "writing DRAM bank 0\n",
      "\n",
      "bank_offset= 0 start_offset= 0 start_offset_bytes= 0\n",
      "writing DRAM bank 0\n",
      "\n",
      "bank_offset= 0 start_offset= 0 start_offset_bytes= 0\n",
      "writing DRAM bank 0\n",
      "\n",
      "bank_offset= 0 start_offset= 0 start_offset_bytes= 0\n",
      "writing DRAM bank 0\n",
      "\n",
      "bank_offset= 0 start_offset= 0 start_offset_bytes= 0\n",
      "writing DRAM bank 0\n",
      "\n",
      "bank_offset= 0 start_offset= 0 start_offset_bytes= 0\n",
      "writing DRAM bank 0\n",
      "\n",
      "bank_offset= 0 start_offset= 0 start_offset_bytes= 0\n",
      "writing DRAM bank 0\n",
      "\n",
      "bank_offset= 0 start_offset= 0 start_offset_bytes= 0\n",
      "writing DRAM bank 0\n",
      "\n",
      "bank_offset= 0 start_offset= 0 start_offset_bytes= 0\n",
      "writing DRAM bank 0\n",
      "\n",
      "bank_offset= 0 start_offset= 0 start_offset_bytes= 0\n",
      "writing DRAM bank 0\n",
      "\n",
      "bank_offset= 0 start_offset= 0 start_offset_bytes= 0\n",
      "writing DRAM bank 0\n",
      "\n",
      "bank_offset= 0 start_offset= 0 start_offset_bytes= 0\n",
      "writing DRAM bank 0\n",
      "\n",
      "bank_offset= 0 start_offset= 0 start_offset_bytes= 0\n",
      "writing DRAM bank 0\n",
      "\n"
     ]
    },
    {
     "data": {
      "image/png": "[encoded data removed]",
      "text/plain": [
       "<matplotlib.figure.Figure at 0x7f3190434750>"
      ]
     },
     "metadata": {},
     "output_type": "display_data"
    }
   ],
   "source": [
    "ri = r1\n",
    "m0 = 1\n",
    "for k in range(16):\n",
    "#    ri.set_tone_freqs(low_group+1,nsamp=nsamp)\n",
    "    ri.phases[3] = k*2*np.pi/8.\n",
    "    ri.set_tone_freqs(low_group,nsamp=nsamp)\n",
    "    ri.select_fft_bins(range(32))\n",
    "    ri._sync()\n",
    "    time.sleep(1)\n",
    "    meas = ri.get_measurement(0.2,demod=False)\n",
    "    if k == 0:\n",
    "        m0 = meas.s21_raw[3,:].mean()\n",
    "    plot_ri(meas.s21_raw[3,:].mean()*np.exp(-1j*k*2*np.pi/8.)*ri.wavenorm/(m0),'o')"
   ]
  },
  {
   "cell_type": "code",
   "execution_count": 24,
   "metadata": {
    "collapsed": false
   },
   "outputs": [
    {
     "data": {
      "image/png": "[encoded data removed]",
      "text/plain": [
       "<matplotlib.figure.Figure at 0x7f3184037a10>"
      ]
     },
     "metadata": {},
     "output_type": "display_data"
    }
   ],
   "source": [
    "ri = r2\n",
    "m0 = 1\n",
    "for k in range(16):\n",
    "#    ri.set_tone_freqs(low_group+1,nsamp=nsamp)\n",
    "    ri.phases[3] = k*2*np.pi/8.\n",
    "    ri.set_tone_freqs(low_group,nsamp=nsamp)\n",
    "    ri.select_fft_bins(range(32))\n",
    "    ri._sync()\n",
    "    time.sleep(1)\n",
    "    meas = ri.get_measurement(0.2,demod=False)\n",
    "    if k == 0:\n",
    "        m0 = meas.s21_raw[3,:].mean()\n",
    "    plot_ri(meas.s21_raw[3,:].mean()*np.exp(-1j*k*2*np.pi/8.)*ri.wavenorm/(m0),'o')"
   ]
  },
  {
   "cell_type": "code",
   "execution_count": 9,
   "metadata": {
    "collapsed": true
   },
   "outputs": [],
   "source": [
    "from kid_readout.measurement import basic,core"
   ]
  },
  {
   "cell_type": "code",
   "execution_count": 51,
   "metadata": {
    "collapsed": true
   },
   "outputs": [],
   "source": [
    "def run_sweep(ri, tone_banks, num_tone_samples, length_seconds=1, state=None, description='', random_phase=False, constant_normalization=False, **kwargs):\n",
    "    stream_arrays = core.MeasurementList()\n",
    "    normfact = None\n",
    "    for n, tone_bank in enumerate(tone_banks):\n",
    "        if random_phase:\n",
    "            ri.phases=None\n",
    "        ri.set_tone_freqs(tone_bank, nsamp=num_tone_samples, normfact=normfact)\n",
    "        if constant_normalization and n==0:\n",
    "            #wn = (2.0 / normfact) * len(bins) / float(nsamp)\n",
    "            normfact = (2)/(ri.wavenorm * num_tone_samples)\n",
    "            print normfact\n",
    "#        print ri.q_iwave.std()\n",
    "        ri.select_fft_bins(np.arange(tone_bank.size))\n",
    "        ri._sync()\n",
    "        \n",
    "        stream_arrays.append(ri.get_measurement(num_seconds=length_seconds, **kwargs))\n",
    "    return basic.SweepArray(stream_arrays, state=state, description=description)"
   ]
  },
  {
   "cell_type": "code",
   "execution_count": 13,
   "metadata": {
    "collapsed": false
   },
   "outputs": [
    {
     "name": "stdout",
     "output_type": "stream",
     "text": [
      "bank_offset= 0 start_offset= 0 start_offset_bytes= 0\n",
      "writing DRAM bank 0\n",
      "\n",
      "7400.58698763\n",
      "bank_offset= 0 start_offset= 0 start_offset_bytes= 0\n",
      "writing DRAM bank 0\n",
      "\n",
      "7400.59058097\n",
      "bank_offset= 0 start_offset= 0 start_offset_bytes= 0\n",
      "writing DRAM bank 0\n",
      "\n",
      "7400.58512156\n",
      "bank_offset= 0 start_offset= 0 start_offset_bytes= 0\n",
      "writing DRAM bank 0\n",
      "\n",
      "7400.58352047\n",
      "bank_offset= 0 start_offset= 0 start_offset_bytes= 0\n",
      "writing DRAM bank 0\n",
      "\n",
      "7400.58780509\n",
      "bank_offset= 0 start_offset= 0 start_offset_bytes= 0\n",
      "writing DRAM bank 0\n",
      "\n",
      "7400.58633964\n",
      "bank_offset= 0 start_offset= 0 start_offset_bytes= 0\n",
      "writing DRAM bank 0\n",
      "\n",
      "7400.58239012\n",
      "bank_offset= 0 start_offset= 0 start_offset_bytes= 0\n",
      "writing DRAM bank 0\n",
      "\n",
      "7400.58374685\n",
      "bank_offset= 0 start_offset= 0 start_offset_bytes= 0\n",
      "writing DRAM bank 0\n",
      "\n",
      "7400.58613996\n",
      "bank_offset= 0 start_offset= 0 start_offset_bytes= 0\n",
      "writing DRAM bank 0\n",
      "\n",
      "7400.58450722\n",
      "bank_offset= 0 start_offset= 0 start_offset_bytes= 0\n",
      "writing DRAM bank 0\n",
      "\n",
      "7400.58631354\n",
      "bank_offset= 0 start_offset= 0 start_offset_bytes= 0\n",
      "writing DRAM bank 0\n",
      "\n",
      "7400.58648891\n",
      "bank_offset= 0 start_offset= 0 start_offset_bytes= 0\n",
      "writing DRAM bank 0\n",
      "\n",
      "7400.58638777\n",
      "bank_offset= 0 start_offset= 0 start_offset_bytes= 0\n",
      "writing DRAM bank 0\n",
      "\n",
      "7400.58654852\n",
      "bank_offset= 0 start_offset= 0 start_offset_bytes= 0\n",
      "writing DRAM bank 0\n",
      "\n",
      "7400.58665556\n",
      "bank_offset= 0 start_offset= 0 start_offset_bytes= 0\n",
      "writing DRAM bank 0\n",
      "\n",
      "7400.59001186\n",
      "bank_offset= 0 start_offset= 0 start_offset_bytes= 0\n",
      "writing DRAM bank 0\n",
      "\n",
      "7400.58775208\n",
      "bank_offset= 0 start_offset= 0 start_offset_bytes= 0\n",
      "writing DRAM bank 0\n",
      "\n",
      "7400.58644472\n",
      "bank_offset= 0 start_offset= 0 start_offset_bytes= 0\n",
      "writing DRAM bank 0\n",
      "\n",
      "7400.58717877\n",
      "bank_offset= 0 start_offset= 0 start_offset_bytes= 0\n",
      "writing DRAM bank 0\n",
      "\n",
      "7400.58743688\n",
      "bank_offset= 0 start_offset= 0 start_offset_bytes= 0\n",
      "writing DRAM bank 0\n",
      "\n",
      "7400.58695775\n",
      "bank_offset= 0 start_offset= 0 start_offset_bytes= 0\n",
      "writing DRAM bank 0\n",
      "\n",
      "7400.58422164\n",
      "bank_offset= 0 start_offset= 0 start_offset_bytes= 0\n",
      "writing DRAM bank 0\n",
      "\n",
      "7400.58429478\n",
      "bank_offset= 0 start_offset= 0 start_offset_bytes= 0\n",
      "writing DRAM bank 0\n",
      "\n",
      "7400.59002134\n",
      "bank_offset= 0 start_offset= 0 start_offset_bytes= 0\n",
      "writing DRAM bank 0\n",
      "\n",
      "7400.58302682\n",
      "bank_offset= 0 start_offset= 0 start_offset_bytes= 0\n",
      "writing DRAM bank 0\n",
      "\n",
      "7400.58483022\n",
      "bank_offset= 0 start_offset= 0 start_offset_bytes= 0\n",
      "writing DRAM bank 0\n",
      "\n",
      "7400.58419154\n",
      "bank_offset= 0 start_offset= 0 start_offset_bytes= 0\n",
      "writing DRAM bank 0\n",
      "\n",
      "7400.58348748\n",
      "bank_offset= 0 start_offset= 0 start_offset_bytes= 0\n",
      "writing DRAM bank 0\n",
      "\n",
      "7400.58600394\n",
      "bank_offset= 0 start_offset= 0 start_offset_bytes= 0\n",
      "writing DRAM bank 0\n",
      "\n",
      "7400.58582916\n",
      "bank_offset= 0 start_offset= 0 start_offset_bytes= 0\n",
      "writing DRAM bank 0\n",
      "\n",
      "7400.58743266\n",
      "bank_offset= 0 start_offset= 0 start_offset_bytes= 0\n",
      "writing DRAM bank 0\n",
      "\n",
      "7400.5853531\n",
      "bank_offset= 0 start_offset= 0 start_offset_bytes= 0\n",
      "writing DRAM bank 0\n",
      "\n",
      "7400.58830271\n",
      "bank_offset= 0 start_offset= 0 start_offset_bytes= 0\n",
      "writing DRAM bank 0\n",
      "\n",
      "7400.59022783\n"
     ]
    }
   ],
   "source": [
    "swa1_same = run_sweep(r1,np.add.outer(offsets,low_group),nsamp,length_seconds=.2)"
   ]
  },
  {
   "cell_type": "code",
   "execution_count": 14,
   "metadata": {
    "collapsed": false
   },
   "outputs": [
    {
     "name": "stdout",
     "output_type": "stream",
     "text": [
      "7108.2421097\n",
      "7108.2420552\n",
      "7108.24177286\n",
      "7108.24292991\n",
      "7108.2439332\n",
      "7108.24332836\n",
      "7108.24221688\n",
      "7108.24360981\n",
      "7108.24140643\n",
      "7108.24124054\n",
      "7108.2432067\n",
      "7108.23797603\n",
      "7108.2402481\n",
      "7108.24162635\n",
      "7108.24249607\n",
      "7108.24167016\n",
      "7108.24469407\n",
      "7108.24327907\n",
      "7108.24335272\n",
      "7108.24280548\n",
      "7108.24213248\n",
      "7108.242132\n",
      "7108.24237166\n",
      "7108.23929428\n",
      "7108.24240733\n",
      "7108.24104602\n",
      "7108.24242954\n",
      "7108.24253238\n",
      "7108.24031107\n",
      "7108.24123588\n",
      "7108.24167137\n",
      "7108.24151868\n",
      "7108.24195851\n",
      "got bad packet\n",
      "7108.24470889\n"
     ]
    }
   ],
   "source": [
    "swa2_same = run_sweep(r2,np.add.outer(offsets,low_group),nsamp,length_seconds=.2)"
   ]
  },
  {
   "cell_type": "code",
   "execution_count": 15,
   "metadata": {
    "collapsed": false
   },
   "outputs": [
    {
     "data": {
      "text/plain": [
       "[<matplotlib.lines.Line2D at 0x7fd03476ea50>]"
      ]
     },
     "execution_count": 15,
     "metadata": {},
     "output_type": "execute_result"
    },
    {
     "data": {
      "image/png": "[encoded data removed]",
      "text/plain": [
       "<matplotlib.figure.Figure at 0x7fd03482ac10>"
      ]
     },
     "metadata": {},
     "output_type": "display_data"
    }
   ],
   "source": [
    "swp = swa1_same.sweep(2)\n",
    "plot(swp.frequency_MHz_stack,20*np.log10(np.abs(swp.s21_points)))\n",
    "swp = swa2_same.sweep(2)\n",
    "plot(swp.frequency_MHz_stack,20*np.log10(np.abs(swp.s21_points)))\n"
   ]
  },
  {
   "cell_type": "code",
   "execution_count": 16,
   "metadata": {
    "collapsed": false
   },
   "outputs": [
    {
     "data": {
      "image/png": "[encoded data removed]",
      "text/plain": [
       "<matplotlib.figure.Figure at 0x7fd0347bda10>"
      ]
     },
     "metadata": {},
     "output_type": "display_data"
    }
   ],
   "source": [
    "swp = swa1_same.sweep(2)\n",
    "plot_ri(swp.s21_points)\n",
    "swp = swa2_same.sweep(2)\n",
    "plot_ri(swp.s21_points)"
   ]
  },
  {
   "cell_type": "code",
   "execution_count": 17,
   "metadata": {
    "collapsed": false
   },
   "outputs": [
    {
     "name": "stdout",
     "output_type": "stream",
     "text": [
      "bank_offset= 0 start_offset= 0 start_offset_bytes= 0\n",
      "writing DRAM bank 0\n",
      "\n",
      "6850.77802381\n",
      "bank_offset= 0 start_offset= 0 start_offset_bytes= 0\n",
      "writing DRAM bank 0\n",
      "\n",
      "7270.11871175\n",
      "bank_offset= 0 start_offset= 0 start_offset_bytes= 0\n",
      "writing DRAM bank 0\n",
      "\n",
      "7421.24280129\n",
      "bank_offset= 0 start_offset= 0 start_offset_bytes= 0\n",
      "writing DRAM bank 0\n",
      "\n",
      "6256.45502241\n",
      "bank_offset= 0 start_offset= 0 start_offset_bytes= 0\n",
      "writing DRAM bank 0\n",
      "\n",
      "6675.01691683\n",
      "bank_offset= 0 start_offset= 0 start_offset_bytes= 0\n",
      "writing DRAM bank 0\n",
      "\n",
      "7322.06834568\n",
      "bank_offset= 0 start_offset= 0 start_offset_bytes= 0\n",
      "writing DRAM bank 0\n",
      "\n",
      "6840.77495739\n",
      "bank_offset= 0 start_offset= 0 start_offset_bytes= 0\n",
      "writing DRAM bank 0\n",
      "\n",
      "7301.69226594\n",
      "bank_offset= 0 start_offset= 0 start_offset_bytes= 0\n",
      "writing DRAM bank 0\n",
      "\n",
      "7037.96156838\n",
      "bank_offset= 0 start_offset= 0 start_offset_bytes= 0\n",
      "writing DRAM bank 0\n",
      "\n",
      "7129.31215116\n",
      "bank_offset= 0 start_offset= 0 start_offset_bytes= 0\n",
      "writing DRAM bank 0\n",
      "\n",
      "7087.67206453\n",
      "bank_offset= 0 start_offset= 0 start_offset_bytes= 0\n",
      "writing DRAM bank 0\n",
      "\n",
      "7366.98615786\n",
      "bank_offset= 0 start_offset= 0 start_offset_bytes= 0\n",
      "writing DRAM bank 0\n",
      "\n",
      "7757.92807182\n",
      "bank_offset= 0 start_offset= 0 start_offset_bytes= 0\n",
      "writing DRAM bank 0\n",
      "\n",
      "7145.74737038\n",
      "bank_offset= 0 start_offset= 0 start_offset_bytes= 0\n",
      "writing DRAM bank 0\n",
      "\n",
      "7592.32297389\n",
      "bank_offset= 0 start_offset= 0 start_offset_bytes= 0\n",
      "writing DRAM bank 0\n",
      "\n",
      "6542.64145846\n",
      "bank_offset= 0 start_offset= 0 start_offset_bytes= 0\n",
      "writing DRAM bank 0\n",
      "\n",
      "7659.78851975\n",
      "bank_offset= 0 start_offset= 0 start_offset_bytes= 0\n",
      "writing DRAM bank 0\n",
      "\n",
      "7828.96719859\n",
      "bank_offset= 0 start_offset= 0 start_offset_bytes= 0\n",
      "writing DRAM bank 0\n",
      "\n",
      "7569.26143597\n",
      "bank_offset= 0 start_offset= 0 start_offset_bytes= 0\n",
      "writing DRAM bank 0\n",
      "\n",
      "7525.57426016\n",
      "bank_offset= 0 start_offset= 0 start_offset_bytes= 0\n",
      "writing DRAM bank 0\n",
      "\n",
      "7357.98407391\n",
      "bank_offset= 0 start_offset= 0 start_offset_bytes= 0\n",
      "writing DRAM bank 0\n",
      "\n",
      "6335.87453378\n",
      "bank_offset= 0 start_offset= 0 start_offset_bytes= 0\n",
      "writing DRAM bank 0\n",
      "\n",
      "7021.30826365\n",
      "bank_offset= 0 start_offset= 0 start_offset_bytes= 0\n",
      "writing DRAM bank 0\n",
      "\n",
      "6817.88562023\n",
      "bank_offset= 0 start_offset= 0 start_offset_bytes= 0\n",
      "writing DRAM bank 0\n",
      "\n",
      "6924.8181126\n",
      "bank_offset= 0 start_offset= 0 start_offset_bytes= 0\n",
      "writing DRAM bank 0\n",
      "\n",
      "7482.97870516\n",
      "bank_offset= 0 start_offset= 0 start_offset_bytes= 0\n",
      "writing DRAM bank 0\n",
      "\n",
      "7631.91047066\n",
      "bank_offset= 0 start_offset= 0 start_offset_bytes= 0\n",
      "writing DRAM bank 0\n",
      "\n",
      "6149.80530893\n",
      "bank_offset= 0 start_offset= 0 start_offset_bytes= 0\n",
      "writing DRAM bank 0\n",
      "\n",
      "7294.56758381\n",
      "detected mcnt overflow None 813680 0 65536 0 272 813680\n",
      "bank_offset= 0 start_offset= 0 start_offset_bytes= 0\n",
      "writing DRAM bank 0\n",
      "\n",
      "7287.78539608\n",
      "bank_offset= 0 start_offset= 0 start_offset_bytes= 0\n",
      "writing DRAM bank 0\n",
      "\n",
      "6901.74289574\n",
      "bank_offset= 0 start_offset= 0 start_offset_bytes= 0\n",
      "writing DRAM bank 0\n",
      "\n",
      "6233.25723371\n",
      "bank_offset= 0 start_offset= 0 start_offset_bytes= 0\n",
      "writing DRAM bank 0\n",
      "\n",
      "7188.73715563\n",
      "bank_offset= 0 start_offset= 0 start_offset_bytes= 0\n",
      "writing DRAM bank 0\n",
      "\n",
      "7317.224575\n"
     ]
    }
   ],
   "source": [
    "swa1_rand = run_sweep(r1,np.add.outer(offsets,low_group),nsamp,length_seconds=.2,random_phase=True)"
   ]
  },
  {
   "cell_type": "code",
   "execution_count": 18,
   "metadata": {
    "collapsed": false
   },
   "outputs": [
    {
     "name": "stdout",
     "output_type": "stream",
     "text": [
      "7569.88393106\n",
      "6927.15033816\n",
      "7374.00548405\n",
      "7256.93251733\n",
      "7680.90458226\n",
      "7349.22059676\n",
      "6867.85431941\n",
      "7122.1135617\n",
      "7435.14511757\n",
      "got bad packet\n",
      "7555.79893511\n",
      "got weird packet (94,)\n",
      "8203.59628322\n",
      "7690.10140396\n",
      "7596.71653026\n",
      "6962.20024158\n",
      "7311.44772521\n",
      "6966.86081508\n",
      "7229.57647429\n",
      "6282.42148443\n",
      "7462.53150881\n",
      "7668.61672812\n",
      "7161.65151091\n",
      "7084.14488946\n",
      "7056.05963111\n",
      "got bad packet\n",
      "7345.69244214\n",
      "7224.04703439\n",
      "6928.61127089\n",
      "7091.73047635\n",
      "7505.05002702\n",
      "6951.99841476\n",
      "7438.7696543\n",
      "7328.98600685\n",
      "7427.89837581\n",
      "7146.83599559\n",
      "6598.57344596\n"
     ]
    }
   ],
   "source": [
    "swa2_rand = run_sweep(r2,np.add.outer(offsets,low_group),nsamp,length_seconds=.2,random_phase=True)"
   ]
  },
  {
   "cell_type": "code",
   "execution_count": 19,
   "metadata": {
    "collapsed": false
   },
   "outputs": [
    {
     "data": {
      "text/plain": [
       "[<matplotlib.lines.Line2D at 0x7fd03437fe10>]"
      ]
     },
     "execution_count": 19,
     "metadata": {},
     "output_type": "execute_result"
    },
    {
     "data": {
      "image/png": "[encoded data removed]",
      "text/plain": [
       "<matplotlib.figure.Figure at 0x7fd03446a690>"
      ]
     },
     "metadata": {},
     "output_type": "display_data"
    }
   ],
   "source": [
    "swp = swa1_rand.sweep(2)\n",
    "plot(swp.frequency_MHz_stack,20*np.log10(np.abs(swp.s21_points)))\n",
    "swp = swa2_rand.sweep(2)\n",
    "plot(swp.frequency_MHz_stack,20*np.log10(np.abs(swp.s21_points)))\n"
   ]
  },
  {
   "cell_type": "code",
   "execution_count": 20,
   "metadata": {
    "collapsed": false
   },
   "outputs": [
    {
     "data": {
      "image/png": "[encoded data removed]",
      "text/plain": [
       "<matplotlib.figure.Figure at 0x7fd03433a6d0>"
      ]
     },
     "metadata": {},
     "output_type": "display_data"
    }
   ],
   "source": [
    "swp = swa1_rand.sweep(2)\n",
    "plot_ri(swp.s21_points)\n",
    "swp = swa2_rand.sweep(2)\n",
    "plot_ri(swp.s21_points)"
   ]
  },
  {
   "cell_type": "code",
   "execution_count": 52,
   "metadata": {
    "collapsed": false
   },
   "outputs": [
    {
     "name": "stdout",
     "output_type": "stream",
     "text": [
      "bank_offset= 0 start_offset= 0 start_offset_bytes= 0\n",
      "writing DRAM bank 0\n",
      "\n",
      "0.107586335778\n",
      "ratio of current wavenorm to optimal: 0.860013667013\n",
      "bank_offset= 0 start_offset= 0 start_offset_bytes= 0\n",
      "writing DRAM bank 0\n",
      "\n",
      "ratio of current wavenorm to optimal: 0.986844399706\n",
      "bank_offset= 0 start_offset= 0 start_offset_bytes= 0\n",
      "writing DRAM bank 0\n",
      "\n",
      "ratio of current wavenorm to optimal: 0.862041804751\n",
      "bank_offset= 0 start_offset= 0 start_offset_bytes= 0\n",
      "writing DRAM bank 0\n",
      "\n",
      "ratio of current wavenorm to optimal: 0.909269497713\n",
      "bank_offset= 0 start_offset= 0 start_offset_bytes= 0\n",
      "writing DRAM bank 0\n",
      "\n",
      "ratio of current wavenorm to optimal: 0.987032524343\n",
      "bank_offset= 0 start_offset= 0 start_offset_bytes= 0\n",
      "writing DRAM bank 0\n",
      "\n",
      "ratio of current wavenorm to optimal: 1.12481468669\n",
      "bank_offset= 0 start_offset= 0 start_offset_bytes= 0\n",
      "writing DRAM bank 0\n",
      "\n",
      "ratio of current wavenorm to optimal: 0.872591755145\n",
      "bank_offset= 0 start_offset= 0 start_offset_bytes= 0\n",
      "writing DRAM bank 0\n",
      "\n",
      "ratio of current wavenorm to optimal: 0.947201214267\n",
      "bank_offset= 0 start_offset= 0 start_offset_bytes= 0\n",
      "writing DRAM bank 0\n",
      "\n",
      "ratio of current wavenorm to optimal: 0.929039756238\n",
      "bank_offset= 0 start_offset= 0 start_offset_bytes= 0\n",
      "writing DRAM bank 0\n",
      "\n",
      "ratio of current wavenorm to optimal: 0.903737237603\n",
      "bank_offset= 0 start_offset= 0 start_offset_bytes= 0\n",
      "writing DRAM bank 0\n",
      "\n",
      "ratio of current wavenorm to optimal: 0.985821915749\n",
      "bank_offset= 0 start_offset= 0 start_offset_bytes= 0\n",
      "writing DRAM bank 0\n",
      "\n",
      "ratio of current wavenorm to optimal: 0.894633780397\n",
      "bank_offset= 0 start_offset= 0 start_offset_bytes= 0\n",
      "writing DRAM bank 0\n",
      "\n",
      "ratio of current wavenorm to optimal: 0.902775129496\n",
      "bank_offset= 0 start_offset= 0 start_offset_bytes= 0\n",
      "writing DRAM bank 0\n",
      "\n",
      "detected mcnt overflow None 158316 0 65536 0 400 158316\n",
      "ratio of current wavenorm to optimal: 0.985387783987\n",
      "bank_offset= 0 start_offset= 0 start_offset_bytes= 0\n",
      "writing DRAM bank 0\n",
      "\n",
      "ratio of current wavenorm to optimal: 1.00000717212\n",
      "bank_offset= 0 start_offset= 0 start_offset_bytes= 0\n",
      "writing DRAM bank 0\n",
      "\n",
      "ratio of current wavenorm to optimal: 0.918678694485\n",
      "bank_offset= 0 start_offset= 0 start_offset_bytes= 0\n",
      "writing DRAM bank 0\n",
      "\n",
      "ratio of current wavenorm to optimal: 0.899168576404\n",
      "bank_offset= 0 start_offset= 0 start_offset_bytes= 0\n",
      "writing DRAM bank 0\n",
      "\n",
      "ratio of current wavenorm to optimal: 0.962299143783\n",
      "bank_offset= 0 start_offset= 0 start_offset_bytes= 0\n",
      "writing DRAM bank 0\n",
      "\n",
      "ratio of current wavenorm to optimal: 1.02516775457\n",
      "bank_offset= 0 start_offset= 0 start_offset_bytes= 0\n",
      "writing DRAM bank 0\n",
      "\n",
      "ratio of current wavenorm to optimal: 1.04043436482\n",
      "bank_offset= 0 start_offset= 0 start_offset_bytes= 0\n",
      "writing DRAM bank 0\n",
      "\n",
      "ratio of current wavenorm to optimal: 0.959172332601\n",
      "bank_offset= 0 start_offset= 0 start_offset_bytes= 0\n",
      "writing DRAM bank 0\n",
      "\n",
      "ratio of current wavenorm to optimal: 0.975183121884\n",
      "bank_offset= 0 start_offset= 0 start_offset_bytes= 0\n",
      "writing DRAM bank 0\n",
      "\n",
      "ratio of current wavenorm to optimal: 0.91370603068\n",
      "bank_offset= 0 start_offset= 0 start_offset_bytes= 0\n",
      "writing DRAM bank 0\n",
      "\n",
      "ratio of current wavenorm to optimal: 0.898207510164\n",
      "bank_offset= 0 start_offset= 0 start_offset_bytes= 0\n",
      "writing DRAM bank 0\n",
      "\n",
      "ratio of current wavenorm to optimal: 1.04747501914\n",
      "bank_offset= 0 start_offset= 0 start_offset_bytes= 0\n",
      "writing DRAM bank 0\n",
      "\n",
      "ratio of current wavenorm to optimal: 0.902318931201\n",
      "bank_offset= 0 start_offset= 0 start_offset_bytes= 0\n",
      "writing DRAM bank 0\n",
      "\n",
      "ratio of current wavenorm to optimal: 1.10505857698\n",
      "bank_offset= 0 start_offset= 0 start_offset_bytes= 0\n",
      "writing DRAM bank 0\n",
      "\n",
      "ratio of current wavenorm to optimal: 0.973516528783\n",
      "bank_offset= 0 start_offset= 0 start_offset_bytes= 0\n",
      "writing DRAM bank 0\n",
      "\n",
      "ratio of current wavenorm to optimal: 1.00546515342\n",
      "bank_offset= 0 start_offset= 0 start_offset_bytes= 0\n",
      "writing DRAM bank 0\n",
      "\n",
      "ratio of current wavenorm to optimal: 0.879111630748\n",
      "bank_offset= 0 start_offset= 0 start_offset_bytes= 0\n",
      "writing DRAM bank 0\n",
      "\n",
      "ratio of current wavenorm to optimal: 0.9660297653\n",
      "bank_offset= 0 start_offset= 0 start_offset_bytes= 0\n",
      "writing DRAM bank 0\n",
      "\n",
      "ratio of current wavenorm to optimal: 0.962603602351\n",
      "bank_offset= 0 start_offset= 0 start_offset_bytes= 0\n",
      "writing DRAM bank 0\n",
      "\n",
      "ratio of current wavenorm to optimal: 1.04182236629\n",
      "bank_offset= 0 start_offset= 0 start_offset_bytes= 0\n",
      "writing DRAM bank 0\n",
      "\n"
     ]
    }
   ],
   "source": [
    "swa1_rand_const = run_sweep(r1,np.add.outer(offsets,low_group),nsamp,length_seconds=.2,random_phase=True,constant_normalization=True)"
   ]
  },
  {
   "cell_type": "code",
   "execution_count": 53,
   "metadata": {
    "collapsed": false
   },
   "outputs": [
    {
     "name": "stdout",
     "output_type": "stream",
     "text": [
      "0.116111681527\n",
      "ratio of current wavenorm to optimal: 1.00008703713\n",
      "ratio of current wavenorm to optimal: 0.972079575183\n",
      "ratio of current wavenorm to optimal: 0.994231060217\n",
      "got bad packet\n",
      "ratio of current wavenorm to optimal: 1.03240720096\n",
      "ratio of current wavenorm to optimal: 0.992135728669\n",
      "ratio of current wavenorm to optimal: 1.09045090009\n",
      "ratio of current wavenorm to optimal: 0.957841992368\n",
      "ratio of current wavenorm to optimal: 0.972125618622\n",
      "ratio of current wavenorm to optimal: 1.08595577381\n",
      "ratio of current wavenorm to optimal: 0.981858556595\n",
      "ratio of current wavenorm to optimal: 1.02278142666\n",
      "ratio of current wavenorm to optimal: 0.983625216177\n",
      "ratio of current wavenorm to optimal: 1.02507422268\n",
      "ratio of current wavenorm to optimal: 1.10661716777\n",
      "ratio of current wavenorm to optimal: 1.00777562634\n",
      "ratio of current wavenorm to optimal: 1.09117642717\n",
      "ratio of current wavenorm to optimal: 1.00495474198\n",
      "ratio of current wavenorm to optimal: 0.963289230602\n",
      "ratio of current wavenorm to optimal: 0.945666802401\n",
      "ratio of current wavenorm to optimal: 1.06271238082\n",
      "ratio of current wavenorm to optimal: 1.14820472882\n",
      "ratio of current wavenorm to optimal: 1.00718672106\n",
      "ratio of current wavenorm to optimal: 1.19230188135\n",
      "ratio of current wavenorm to optimal: 0.967456689031\n",
      "ratio of current wavenorm to optimal: 0.953023241646\n",
      "ratio of current wavenorm to optimal: 1.17508194261\n",
      "ratio of current wavenorm to optimal: 1.02900411999\n",
      "ratio of current wavenorm to optimal: 0.978663581208\n",
      "ratio of current wavenorm to optimal: 1.00414796244\n",
      "ratio of current wavenorm to optimal: 1.11092108032\n",
      "ratio of current wavenorm to optimal: 1.01041214948\n",
      "got weird packet (424,)\n",
      "ratio of current wavenorm to optimal: 1.03034695254\n",
      "ratio of current wavenorm to optimal: 1.02497972548\n"
     ]
    }
   ],
   "source": [
    "swa2_rand_const = run_sweep(r2,np.add.outer(offsets,low_group),nsamp,length_seconds=.2,random_phase=True,constant_normalization=True)"
   ]
  },
  {
   "cell_type": "code",
   "execution_count": 54,
   "metadata": {
    "collapsed": false
   },
   "outputs": [
    {
     "data": {
      "text/plain": [
       "[<matplotlib.lines.Line2D at 0x7fd0293cd2d0>]"
      ]
     },
     "execution_count": 54,
     "metadata": {},
     "output_type": "execute_result"
    },
    {
     "data": {
      "image/png": "[encoded data removed]",
      "text/plain": [
       "<matplotlib.figure.Figure at 0x7fd034165490>"
      ]
     },
     "metadata": {},
     "output_type": "display_data"
    }
   ],
   "source": [
    "swp = swa1_rand_const.sweep(2)\n",
    "plot(swp.frequency_MHz_stack,20*np.log10(np.abs(swp.s21_points)))\n",
    "swp = swa2_rand_const.sweep(2)\n",
    "plot(swp.frequency_MHz_stack,20*np.log10(np.abs(swp.s21_points)))\n"
   ]
  },
  {
   "cell_type": "code",
   "execution_count": 55,
   "metadata": {
    "collapsed": false
   },
   "outputs": [
    {
     "data": {
      "image/png": "[encoded data removed]",
      "text/plain": [
       "<matplotlib.figure.Figure at 0x7fd02943ab50>"
      ]
     },
     "metadata": {},
     "output_type": "display_data"
    }
   ],
   "source": [
    "swp = swa1_rand_const.sweep(2)\n",
    "plot_ri(swp.s21_points)\n",
    "swp = swa2_rand_const.sweep(2)\n",
    "plot_ri(swp.s21_points)"
   ]
  },
  {
   "cell_type": "code",
   "execution_count": 33,
   "metadata": {
    "collapsed": true
   },
   "outputs": [],
   "source": [
    "x,y = r1.get_raw_adc()"
   ]
  },
  {
   "cell_type": "code",
   "execution_count": 34,
   "metadata": {
    "collapsed": false
   },
   "outputs": [
    {
     "data": {
      "text/plain": [
       "[<matplotlib.lines.Line2D at 0x7fd03420f610>]"
      ]
     },
     "execution_count": 34,
     "metadata": {},
     "output_type": "execute_result"
    },
    {
     "data": {
      "image/png": "[encoded data removed]",
      "text/plain": [
       "<matplotlib.figure.Figure at 0x7fd0341e8a50>"
      ]
     },
     "metadata": {},
     "output_type": "display_data"
    }
   ],
   "source": [
    "plot(x)"
   ]
  },
  {
   "cell_type": "code",
   "execution_count": 35,
   "metadata": {
    "collapsed": true
   },
   "outputs": [],
   "source": [
    "x,y = r2.get_raw_adc()"
   ]
  },
  {
   "cell_type": "code",
   "execution_count": 40,
   "metadata": {
    "collapsed": false
   },
   "outputs": [
    {
     "data": {
      "text/plain": [
       "[<matplotlib.lines.Line2D at 0x7fd0297c0690>]"
      ]
     },
     "execution_count": 40,
     "metadata": {},
     "output_type": "execute_result"
    },
    {
     "data": {
      "image/png": "[encoded data removed]",
      "text/plain": [
       "<matplotlib.figure.Figure at 0x7fd034045050>"
      ]
     },
     "metadata": {},
     "output_type": "display_data"
    }
   ],
   "source": [
    "plot(x[:100])"
   ]
  },
  {
   "cell_type": "code",
   "execution_count": 44,
   "metadata": {
    "collapsed": false
   },
   "outputs": [
    {
     "data": {
      "text/plain": [
       "[<matplotlib.lines.Line2D at 0x7fd0295a10d0>]"
      ]
     },
     "execution_count": 44,
     "metadata": {},
     "output_type": "execute_result"
    },
    {
     "data": {
      "image/png": "[encoded data removed]",
      "text/plain": [
       "<matplotlib.figure.Figure at 0x7fd029599390>"
      ]
     },
     "metadata": {},
     "output_type": "display_data"
    }
   ],
   "source": [
    "plot(r1.q_iwave)\n",
    "plot(r2.q_iwave,'.')"
   ]
  },
  {
   "cell_type": "code",
   "execution_count": 50,
   "metadata": {
    "collapsed": false
   },
   "outputs": [
    {
     "data": {
      "text/plain": [
       "61549.0"
      ]
     },
     "execution_count": 50,
     "metadata": {},
     "output_type": "execute_result"
    }
   ],
   "source": [
    "r2.q_iwave.astype('float').ptp()"
   ]
  },
  {
   "cell_type": "code",
   "execution_count": 38,
   "metadata": {
    "collapsed": false
   },
   "outputs": [
    {
     "data": {
      "text/plain": [
       "array([ 2.53717818,  0.49448362,  2.90109445,  2.02263277,  4.75857346,\n",
       "        0.98859704,  2.6441725 ,  5.06334538,  2.50205746,  4.0867192 ,\n",
       "        5.27997561,  4.57532612,  1.99357503,  1.83767284,  6.0752197 ,\n",
       "        0.35492406,  2.62451043,  3.2516237 ,  2.53376496,  0.20822708,\n",
       "        0.86066951,  3.03267712,  2.52121262,  4.38363248,  1.94616174,\n",
       "        3.00010508,  3.70316948,  4.05743815,  0.49455317,  1.77651146,\n",
       "        1.33576919,  2.26122877])"
      ]
     },
     "execution_count": 38,
     "metadata": {},
     "output_type": "execute_result"
    }
   ],
   "source": [
    "r2.phases"
   ]
  },
  {
   "cell_type": "code",
   "execution_count": 39,
   "metadata": {
    "collapsed": false
   },
   "outputs": [
    {
     "data": {
      "text/plain": [
       "array([ 2.49219157,  4.35024074,  4.86830568,  4.45655096,  2.35514047,\n",
       "        5.6768045 ,  3.68178873,  2.72721911,  2.40125745,  3.52673475,\n",
       "        4.8946273 ,  3.8204063 ,  4.14780187,  4.26461795,  5.87763632,\n",
       "        6.18886864,  2.33411365,  1.80806148,  5.69750316,  5.28741055,\n",
       "        4.3834338 ,  1.23792397,  5.63187988,  5.3565881 ,  0.52299059,\n",
       "        4.70149211,  4.62931991,  4.26378705,  3.55278577,  4.24673263,\n",
       "        4.90456274,  5.83043689])"
      ]
     },
     "execution_count": 39,
     "metadata": {},
     "output_type": "execute_result"
    }
   ],
   "source": [
    "r1.phases"
   ]
  },
  {
   "cell_type": "code",
   "execution_count": null,
   "metadata": {
    "collapsed": true
   },
   "outputs": [],
   "source": []
  }
 ],
 "metadata": {
  "kernelspec": {
   "display_name": "Python 2",
   "language": "python",
   "name": "python2"
  },
  "language_info": {
   "codemirror_mode": {
    "name": "ipython",
    "version": 2
   },
   "file_extension": ".py",
   "mimetype": "text/x-python",
   "name": "python",
   "nbconvert_exporter": "python",
   "pygments_lexer": "ipython2",
   "version": "2.7.11"
  }
 },
 "nbformat": 4,
 "nbformat_minor": 0
}
