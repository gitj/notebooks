{
 "cells": [
  {
   "cell_type": "code",
   "execution_count": 1,
   "metadata": {
    "collapsed": false
   },
   "outputs": [
    {
     "name": "stderr",
     "output_type": "stream",
     "text": [
      "/home/gjones/miniconda2/envs/readout/lib/python2.7/site-packages/matplotlib/font_manager.py:273: UserWarning: Matplotlib is building the font cache using fc-list. This may take a moment.\n",
      "  warnings.warn('Matplotlib is building the font cache using fc-list. This may take a moment.')\n"
     ]
    },
    {
     "name": "stdout",
     "output_type": "stream",
     "text": [
      "Populating the interactive namespace from numpy and matplotlib\n"
     ]
    }
   ],
   "source": [
    "%pylab inline"
   ]
  },
  {
   "cell_type": "code",
   "execution_count": 2,
   "metadata": {
    "collapsed": false
   },
   "outputs": [],
   "source": [
    "from kid_readout import *\n",
    "from kid_readout.roach import attenuator"
   ]
  },
  {
   "cell_type": "code",
   "execution_count": 3,
   "metadata": {
    "collapsed": false
   },
   "outputs": [],
   "source": [
    "ri = roach.r2heterodyne.Roach2Heterodyne(roachip='r2kid',attenuator=attenuator.Attenuator(),adc_valon='/dev/ttyUSB4',lo_valon='/dev/ttyUSB3',initialize=False)"
   ]
  },
  {
   "cell_type": "code",
   "execution_count": 4,
   "metadata": {
    "collapsed": false
   },
   "outputs": [
    {
     "name": "stdout",
     "output_type": "stream",
     "text": [
      "Loaded ROACH state from /data/readout/r2kid_config.npz\n",
      "ROACH configuration does not match saved state\n",
      "Reinitializing system\n",
      "Deprogramming\n",
      "Programming r2iq2xpfb14mcr12gb_2016_Feb_20_0948.bof\n",
      "Requested sampling rate 512.0 MHz. Estimated sampling rate 513.0 MHz\n",
      "--- === Trying with OUT DELAYS to 29 === ---\n",
      "Eye for QDR qdr0 (0 is pass, 1 is fail):\n",
      "\tTap step  0:  11111111111111111111111111111111\n",
      "\tTap step  1:  11111111111111110111110111110101\n",
      "\tTap step  2:  11111111111111010100000101000101\n",
      "\tTap step  3:  11111111111111000000000100000000\n",
      "\tTap step  4:  01011001011111000000000000000000\n",
      "\tTap step  5:  01000001000001000000000000000000\n",
      "\tTap step  6:  00000000000000000000000000000000\n",
      "\tTap step  7:  00000000000000000000000000000000\n",
      "\tTap step  8:  00000000000000000000000000000000\n",
      "\tTap step  9:  00000000000000000000000000000000\n",
      "\tTap step 10:  00000000000000000000000000000000\n",
      "\tTap step 11:  00000000000000000000000000000000\n",
      "\tTap step 12:  00000000000000000000000000000000\n",
      "\tTap step 13:  00000000000000000000000000000000\n",
      "\tTap step 14:  00000000000000000000000000000000\n",
      "\tTap step 15:  00000000000000000000000000000000\n",
      "\tTap step 16:  00000000000000000000000000000000\n",
      "\tTap step 17:  00000000000000000000000000000000\n",
      "\tTap step 18:  00000000000000000000000000000000\n",
      "\tTap step 19:  00000000000000000000000000000000\n",
      "\tTap step 20:  00000000000000000000000000000000\n",
      "\tTap step 21:  00000000000000000000000000000000\n",
      "\tTap step 22:  00000000000000000000000000000000\n",
      "\tTap step 23:  00000000000000000000000000000000\n",
      "\tTap step 24:  00000000000000000000001000101110\n",
      "\tTap step 25:  00000000000000111101111010101111\n",
      "\tTap step 26:  00000000000000111111111110111111\n",
      "\tTap step 27:  00000100000000111111111111111111\n",
      "\tTap step 28:  10100100100000111111111111111111\n",
      "\tTap step 29:  10110111101111111111111111111111\n",
      "\tTap step 30:  11111111111111111111111111111111\n",
      "\tTap step 31:  11111111111111111111111111111111\n",
      "Using in delays: [ 13.  12.  13.  12.  13.  12.  14.  13.  14.  12.  13.  13.  13.  13.  13.\n",
      "  12.  13.  13.  17.  16.  16.  16.  17.  15.  17.  16.  15.  17.  16.  15.\n",
      "  17.  15.  13.  13.  13.  13.]\n"
     ]
    }
   ],
   "source": [
    "ri.initialize()"
   ]
  },
  {
   "cell_type": "code",
   "execution_count": 5,
   "metadata": {
    "collapsed": true
   },
   "outputs": [],
   "source": [
    "ri.set_dac_atten(20)"
   ]
  },
  {
   "cell_type": "code",
   "execution_count": 6,
   "metadata": {
    "collapsed": true
   },
   "outputs": [],
   "source": [
    "low_group = np.array([ 1119.07673511,  1126.0153982 ,  1133.70131753,  1135.31245427,\n",
    "        1143.21576741,  1148.0169738 ,  1159.41786884,  1160.26943775, 1162.33,\n",
    "        1176.56747357,  1177.70848608,  1181.33728799,  1186.05472363,\n",
    "        1190.29108718,  1193.62180971,  1203.87755917,  1205.8392229 ,\n",
    "        1207.88046178,  1220.05286255,  1221.41371349,  1235.26613658, 1243.71])\n",
    "\n",
    "to_add = 32 - len(low_group)\n",
    "low_group = np.hstack((low_group,np.arange(to_add)+low_group.max()+2.))\n",
    "low_group_lo = 1110.0\n",
    "\n",
    "high_group = np.array([1576.67969747,  1599.40494104,  1605.60503541,\n",
    "        1609.7742154 ,\n",
    "        1623.02,\n",
    "                       1628.5448411 ,  1648.17537644,  1649.22774551,\n",
    "        1650.36575278,  1662.37845567,  1664.1706628 ,  1681.28526333,\n",
    "        1682.17350834,  1684.44471064,  1702.0820426 ,  1706.79635917,\n",
    "        1714.66047719,\n",
    "                       1720.7, 1724.39938475,  1752.05587464,  1767.515093])\n",
    "\n",
    "to_add = 32 - len(high_group)\n",
    "high_group = np.hstack((high_group,np.arange(to_add)+high_group.max()+2.))\n",
    "high_group_lo = 1570.0\n",
    "\n",
    "nsamp = 2**18\n",
    "step = 1\n",
    "nstep = 16\n",
    "offset_bins = np.arange(-(nstep + 1), (nstep + 1)) * step\n",
    "offsets = offset_bins * 512.0 / nsamp"
   ]
  },
  {
   "cell_type": "code",
   "execution_count": 7,
   "metadata": {
    "collapsed": true
   },
   "outputs": [],
   "source": [
    "ri.set_lo(low_group_lo)"
   ]
  },
  {
   "cell_type": "code",
   "execution_count": 8,
   "metadata": {
    "collapsed": false
   },
   "outputs": [
    {
     "data": {
      "text/plain": [
       "array([-0.03320312, -0.03125   , -0.02929688, -0.02734375, -0.02539062,\n",
       "       -0.0234375 , -0.02148438, -0.01953125, -0.01757812, -0.015625  ,\n",
       "       -0.01367188, -0.01171875, -0.00976562, -0.0078125 , -0.00585938,\n",
       "       -0.00390625, -0.00195312,  0.        ,  0.00195312,  0.00390625,\n",
       "        0.00585938,  0.0078125 ,  0.00976562,  0.01171875,  0.01367188,\n",
       "        0.015625  ,  0.01757812,  0.01953125,  0.02148438,  0.0234375 ,\n",
       "        0.02539062,  0.02734375,  0.02929688,  0.03125   ])"
      ]
     },
     "execution_count": 8,
     "metadata": {},
     "output_type": "execute_result"
    }
   ],
   "source": [
    "offsets"
   ]
  },
  {
   "cell_type": "code",
   "execution_count": 8,
   "metadata": {
    "collapsed": false
   },
   "outputs": [
    {
     "ename": "TypeError",
     "evalue": "object of type 'NoneType' has no len()",
     "output_type": "error",
     "traceback": [
      "\u001b[1;31m---------------------------------------------------------------------------\u001b[0m",
      "\u001b[1;31mTypeError\u001b[0m                                 Traceback (most recent call last)",
      "\u001b[1;32m<ipython-input-8-b8f91c9cfb77>\u001b[0m in \u001b[0;36m<module>\u001b[1;34m()\u001b[0m\n\u001b[1;32m----> 1\u001b[1;33m \u001b[0mri\u001b[0m\u001b[1;33m.\u001b[0m\u001b[0mblocks_per_second\u001b[0m\u001b[1;33m\u001b[0m\u001b[0m\n\u001b[0m",
      "\u001b[1;32m/home/gjones/kid_readout/kid_readout/roach/heterodyne.py\u001b[0m in \u001b[0;36mblocks_per_second\u001b[1;34m(self)\u001b[0m\n\u001b[0;32m    344\u001b[0m     \u001b[1;33m@\u001b[0m\u001b[0mproperty\u001b[0m\u001b[1;33m\u001b[0m\u001b[0m\n\u001b[0;32m    345\u001b[0m     \u001b[1;32mdef\u001b[0m \u001b[0mblocks_per_second\u001b[0m\u001b[1;33m(\u001b[0m\u001b[0mself\u001b[0m\u001b[1;33m)\u001b[0m\u001b[1;33m:\u001b[0m\u001b[1;33m\u001b[0m\u001b[0m\n\u001b[1;32m--> 346\u001b[1;33m         \u001b[1;32mreturn\u001b[0m \u001b[0mself\u001b[0m\u001b[1;33m.\u001b[0m\u001b[0mblocks_per_second_per_channel\u001b[0m\u001b[1;33m*\u001b[0m\u001b[0mlen\u001b[0m\u001b[1;33m(\u001b[0m\u001b[0mself\u001b[0m\u001b[1;33m.\u001b[0m\u001b[0mreadout_selection\u001b[0m\u001b[1;33m)\u001b[0m\u001b[1;33m\u001b[0m\u001b[0m\n\u001b[0m\u001b[0;32m    347\u001b[0m \u001b[1;33m\u001b[0m\u001b[0m\n\u001b[0;32m    348\u001b[0m     \u001b[1;32mdef\u001b[0m \u001b[0mget_data\u001b[0m\u001b[1;33m(\u001b[0m\u001b[0mself\u001b[0m\u001b[1;33m,\u001b[0m \u001b[0mnread\u001b[0m\u001b[1;33m=\u001b[0m\u001b[1;36m2\u001b[0m\u001b[1;33m,\u001b[0m \u001b[0mdemod\u001b[0m\u001b[1;33m=\u001b[0m\u001b[0mTrue\u001b[0m\u001b[1;33m)\u001b[0m\u001b[1;33m:\u001b[0m\u001b[1;33m\u001b[0m\u001b[0m\n",
      "\u001b[1;31mTypeError\u001b[0m: object of type 'NoneType' has no len()"
     ]
    }
   ],
   "source": [
    "ri.blocks_per_second"
   ]
  },
  {
   "cell_type": "code",
   "execution_count": 9,
   "metadata": {
    "collapsed": false
   },
   "outputs": [
    {
     "data": {
      "text/plain": [
       "122.0703125"
      ]
     },
     "execution_count": 9,
     "metadata": {},
     "output_type": "execute_result"
    }
   ],
   "source": [
    "(512e6/2**14.)/256."
   ]
  },
  {
   "cell_type": "code",
   "execution_count": 10,
   "metadata": {
    "collapsed": false
   },
   "outputs": [
    {
     "data": {
      "text/plain": [
       "976.0"
      ]
     },
     "execution_count": 10,
     "metadata": {},
     "output_type": "execute_result"
    }
   ],
   "source": [
    "122*(256/32.)"
   ]
  },
  {
   "cell_type": "code",
   "execution_count": 11,
   "metadata": {
    "collapsed": false
   },
   "outputs": [
    {
     "data": {
      "text/plain": [
       "31248.0"
      ]
     },
     "execution_count": 11,
     "metadata": {},
     "output_type": "execute_result"
    }
   ],
   "source": [
    "3906*256/32."
   ]
  },
  {
   "cell_type": "code",
   "execution_count": 12,
   "metadata": {
    "collapsed": false
   },
   "outputs": [
    {
     "data": {
      "text/plain": [
       "(34, 32)"
      ]
     },
     "execution_count": 12,
     "metadata": {},
     "output_type": "execute_result"
    }
   ],
   "source": [
    "np.add.outer(offsets,low_group).shape"
   ]
  },
  {
   "cell_type": "code",
   "execution_count": 9,
   "metadata": {
    "collapsed": true
   },
   "outputs": [],
   "source": [
    "from kid_readout.measurement import basic,core"
   ]
  },
  {
   "cell_type": "code",
   "execution_count": 44,
   "metadata": {
    "collapsed": true
   },
   "outputs": [],
   "source": [
    "def run_sweep(ri, tone_banks, num_tone_samples, length_seconds=1, state=None, description='', **kwargs):\n",
    "    stream_arrays = core.MeasurementList()\n",
    "    for n, tone_bank in enumerate(tone_banks):\n",
    "        #ri.phases=None\n",
    "        ri.set_tone_freqs(tone_bank, nsamp=num_tone_samples)\n",
    "        ri.select_fft_bins(np.arange(tone_bank.size))\n",
    "        ri._sync()\n",
    "        \n",
    "        stream_arrays.append(ri.get_measurement(num_seconds=length_seconds, **kwargs))\n",
    "    return basic.SweepArray(stream_arrays, state=state, description=description)"
   ]
  },
  {
   "cell_type": "code",
   "execution_count": 45,
   "metadata": {
    "collapsed": false,
    "scrolled": true
   },
   "outputs": [
    {
     "name": "stdout",
     "output_type": "stream",
     "text": [
      "got bad packet\n",
      "got weird packet (113,)\n"
     ]
    }
   ],
   "source": [
    "swa = run_sweep(ri,np.add.outer(offsets,low_group),nsamp,length_seconds=.2)"
   ]
  },
  {
   "cell_type": "code",
   "execution_count": 23,
   "metadata": {
    "collapsed": false
   },
   "outputs": [],
   "source": [
    "swp = swa.sweep(15)"
   ]
  },
  {
   "cell_type": "code",
   "execution_count": 51,
   "metadata": {
    "collapsed": false
   },
   "outputs": [
    {
     "data": {
      "text/plain": [
       "(8192,)"
      ]
     },
     "execution_count": 51,
     "metadata": {},
     "output_type": "execute_result"
    }
   ],
   "source": [
    "swp.streams[0].s21_raw.shape"
   ]
  },
  {
   "cell_type": "code",
   "execution_count": 24,
   "metadata": {
    "collapsed": false
   },
   "outputs": [
    {
     "data": {
      "text/plain": [
       "[<matplotlib.lines.Line2D at 0x7f34d48abc90>]"
      ]
     },
     "execution_count": 24,
     "metadata": {},
     "output_type": "execute_result"
    },
    {
     "data": {
      "image/png": "[encoded data removed]",
      "text/plain": [
       "<matplotlib.figure.Figure at 0x7f34d4701090>"
      ]
     },
     "metadata": {},
     "output_type": "display_data"
    }
   ],
   "source": [
    "pxx,fr = mlab.psd(swp.streams[16].s21_raw)\n",
    "loglog(fr,pxx)"
   ]
  },
  {
   "cell_type": "code",
   "execution_count": 53,
   "metadata": {
    "collapsed": false
   },
   "outputs": [
    {
     "data": {
      "text/plain": [
       "'r2iq2xpfb14mcr12gb_2016_Feb_20_0948.bof'"
      ]
     },
     "execution_count": 53,
     "metadata": {},
     "output_type": "execute_result"
    }
   ],
   "source": [
    "ri.boffile"
   ]
  },
  {
   "cell_type": "code",
   "execution_count": 25,
   "metadata": {
    "collapsed": false
   },
   "outputs": [
    {
     "data": {
      "text/plain": [
       "[<matplotlib.lines.Line2D at 0x7f350c825390>]"
      ]
     },
     "execution_count": 25,
     "metadata": {},
     "output_type": "execute_result"
    },
    {
     "data": {
      "image/png": "[encoded data removed]",
      "text/plain": [
       "<matplotlib.figure.Figure at 0x7f34d46d8110>"
      ]
     },
     "metadata": {},
     "output_type": "display_data"
    }
   ],
   "source": [
    "plot(swp.frequency_MHz_stack,20*np.log10(np.abs(swp.s21_points)))"
   ]
  },
  {
   "cell_type": "code",
   "execution_count": 26,
   "metadata": {
    "collapsed": false
   },
   "outputs": [
    {
     "data": {
      "image/png": "[encoded data removed]",
      "text/plain": [
       "<matplotlib.figure.Figure at 0x7f34d42fe9d0>"
      ]
     },
     "metadata": {},
     "output_type": "display_data"
    }
   ],
   "source": [
    "plot_ri(swp.s21_points,'.')"
   ]
  },
  {
   "cell_type": "code",
   "execution_count": null,
   "metadata": {
    "collapsed": true
   },
   "outputs": [],
   "source": []
  },
  {
   "cell_type": "code",
   "execution_count": 119,
   "metadata": {
    "collapsed": false
   },
   "outputs": [],
   "source": [
    "meas = ri.get_measurement(.2)"
   ]
  },
  {
   "cell_type": "code",
   "execution_count": 41,
   "metadata": {
    "collapsed": true
   },
   "outputs": [],
   "source": [
    "meas2 = ri.get_measurement(.2)"
   ]
  },
  {
   "cell_type": "code",
   "execution_count": 46,
   "metadata": {
    "collapsed": true
   },
   "outputs": [],
   "source": [
    "meas3 = ri.get_measurement(.2)"
   ]
  },
  {
   "cell_type": "code",
   "execution_count": 28,
   "metadata": {
    "collapsed": false
   },
   "outputs": [
    {
     "data": {
      "text/plain": [
       "(32, 8192)"
      ]
     },
     "execution_count": 28,
     "metadata": {},
     "output_type": "execute_result"
    }
   ],
   "source": [
    "meas.s21_raw.shape"
   ]
  },
  {
   "cell_type": "code",
   "execution_count": 110,
   "metadata": {
    "collapsed": false
   },
   "outputs": [
    {
     "data": {
      "image/png": "[encoded data removed]",
      "text/plain": [
       "<matplotlib.figure.Figure at 0x7f34c8481910>"
      ]
     },
     "metadata": {},
     "output_type": "display_data"
    }
   ],
   "source": [
    "for k in range(8):\n",
    "    #ri.phases=None\n",
    "    ri.set_tone_freqs(low_group+1,nsamp=nsamp)\n",
    "    ri.set_tone_freqs(low_group,nsamp=nsamp)\n",
    "    ri.select_fft_bins(range(32))\n",
    "    ri._sync()\n",
    "    meas = ri.get_measurement(0.2,demod=False)\n",
    "    plot_ri(meas.s21_raw[3,:].mean(),'o')"
   ]
  },
  {
   "cell_type": "code",
   "execution_count": 55,
   "metadata": {
    "collapsed": false
   },
   "outputs": [],
   "source": [
    "ri.set_loopback(True)"
   ]
  },
  {
   "cell_type": "code",
   "execution_count": 118,
   "metadata": {
    "collapsed": true
   },
   "outputs": [],
   "source": [
    "ri.set_fft_gain(2)"
   ]
  },
  {
   "cell_type": "code",
   "execution_count": null,
   "metadata": {
    "collapsed": true
   },
   "outputs": [],
   "source": []
  },
  {
   "cell_type": "code",
   "execution_count": 120,
   "metadata": {
    "collapsed": false
   },
   "outputs": [
    {
     "data": {
      "text/plain": [
       "[<matplotlib.lines.Line2D at 0x7f34c84f3f50>]"
      ]
     },
     "execution_count": 120,
     "metadata": {},
     "output_type": "execute_result"
    },
    {
     "data": {
      "image/png": "[encoded data removed]",
      "text/plain": [
       "<matplotlib.figure.Figure at 0x7f34c848d350>"
      ]
     },
     "metadata": {},
     "output_type": "display_data"
    }
   ],
   "source": [
    "plot(np.abs(meas.s21_raw).mean(1))"
   ]
  },
  {
   "cell_type": "code",
   "execution_count": 122,
   "metadata": {
    "collapsed": false
   },
   "outputs": [
    {
     "name": "stdout",
     "output_type": "stream",
     "text": [
      "3.95779459442\n",
      "3.9613231872\n",
      "4.00509356418\n",
      "4.32788018269\n",
      "got bad packet\n",
      "0.743240538686\n",
      "0.265673421968\n",
      "4.16276838976\n",
      "2.45491989465\n"
     ]
    },
    {
     "data": {
      "image/png": "[encoded data removed]",
      "text/plain": [
       "<matplotlib.figure.Figure at 0x7f34bbc6ecd0>"
      ]
     },
     "metadata": {},
     "output_type": "display_data"
    }
   ],
   "source": [
    "for k in range(8):\n",
    "    ri.set_tone_freqs(low_group+1,nsamp=nsamp)\n",
    "    ri.phases=None\n",
    "    ri.set_tone_freqs(low_group,nsamp=nsamp)\n",
    "    ri.select_fft_bins(range(32))\n",
    "    ri._sync()\n",
    "    meas = ri.get_measurement(0.2,demod=False)\n",
    "    print ri.phases[3]\n",
    "    #plot_ri(meas.s21_raw[3,:].mean(),'o')\n",
    "    \n",
    "    plot_ri(meas.s21_raw[3,:].mean()*np.exp(-1j*ri.phases[3]),'.')\n",
    "#    plot(k,np.mod(np.angle(meas.s21_raw[3,:].mean())-ri.phases[3],2*np.pi),'.')"
   ]
  },
  {
   "cell_type": "code",
   "execution_count": 84,
   "metadata": {
    "collapsed": false
   },
   "outputs": [
    {
     "data": {
      "text/plain": [
       "dtype('complex64')"
      ]
     },
     "execution_count": 84,
     "metadata": {},
     "output_type": "execute_result"
    }
   ],
   "source": [
    "meas.s21_raw.dtype"
   ]
  },
  {
   "cell_type": "code",
   "execution_count": 88,
   "metadata": {
    "collapsed": false
   },
   "outputs": [
    {
     "data": {
      "text/plain": [
       "array([ 1.09330595,  1.18112487,  2.66701679,  0.02614463,  2.87692968,\n",
       "        0.9577549 ,  5.78497351,  2.06547121,  2.42045547,  2.51654903,\n",
       "        6.09688942,  5.23093864,  2.84906998,  5.73376217,  3.09920198,\n",
       "        5.3480101 ,  5.71728711,  5.35622995,  3.42224892,  2.25864379,\n",
       "        3.43848066,  2.07394199,  3.94779782,  1.98562729,  0.38614691,\n",
       "        0.05488682,  0.70687581,  3.3220785 ,  4.05385946,  4.1348855 ,\n",
       "        5.52497782,  4.01813075])"
      ]
     },
     "execution_count": 88,
     "metadata": {},
     "output_type": "execute_result"
    }
   ],
   "source": [
    "ri.phases"
   ]
  },
  {
   "cell_type": "code",
   "execution_count": 92,
   "metadata": {
    "collapsed": false
   },
   "outputs": [
    {
     "data": {
      "text/plain": [
       "[<matplotlib.lines.Line2D at 0x7f34c91c6110>]"
      ]
     },
     "execution_count": 92,
     "metadata": {},
     "output_type": "execute_result"
    },
    {
     "data": {
      "image/png": "[encoded data removed]",
      "text/plain": [
       "<matplotlib.figure.Figure at 0x7f34c93b1250>"
      ]
     },
     "metadata": {},
     "output_type": "display_data"
    }
   ],
   "source": [
    "plot(ri.phases,'.-')\n",
    "plot(-np.angle(meas.s21_raw.mean(1)),'.-')"
   ]
  },
  {
   "cell_type": "code",
   "execution_count": 109,
   "metadata": {
    "collapsed": false
   },
   "outputs": [
    {
     "data": {
      "text/plain": [
       "[<matplotlib.lines.Line2D at 0x7f34c8864b50>]"
      ]
     },
     "execution_count": 109,
     "metadata": {},
     "output_type": "execute_result"
    },
    {
     "data": {
      "image/png": "[encoded data removed]",
      "text/plain": [
       "<matplotlib.figure.Figure at 0x7f34c84d2210>"
      ]
     },
     "metadata": {},
     "output_type": "display_data"
    }
   ],
   "source": [
    "plot(meas.s21_raw[3,:50],'.')"
   ]
  },
  {
   "cell_type": "code",
   "execution_count": 69,
   "metadata": {
    "collapsed": false
   },
   "outputs": [
    {
     "data": {
      "image/png": "[encoded data removed]",
      "text/plain": [
       "<matplotlib.figure.Figure at 0x7f34d41955d0>"
      ]
     },
     "metadata": {},
     "output_type": "display_data"
    }
   ],
   "source": [
    "plot_ri(meas.s21_raw[3,:],'.')\n",
    "#plot_ri(meas2.s21_raw[1,:],'.')\n",
    "#plot_ri(meas3.s21_raw[1,:],'.')\n"
   ]
  },
  {
   "cell_type": "code",
   "execution_count": 65,
   "metadata": {
    "collapsed": false
   },
   "outputs": [
    {
     "data": {
      "text/plain": [
       "(16, 32)"
      ]
     },
     "execution_count": 65,
     "metadata": {},
     "output_type": "execute_result"
    }
   ],
   "source": [
    "d.shape"
   ]
  },
  {
   "cell_type": "code",
   "execution_count": 30,
   "metadata": {
    "collapsed": true
   },
   "outputs": [],
   "source": [
    "ri.set_dac_atten(30)"
   ]
  },
  {
   "cell_type": "code",
   "execution_count": 57,
   "metadata": {
    "collapsed": true
   },
   "outputs": [],
   "source": [
    "x,y = ri.get_raw_adc()"
   ]
  },
  {
   "cell_type": "code",
   "execution_count": 58,
   "metadata": {
    "collapsed": false
   },
   "outputs": [
    {
     "data": {
      "image/png": "[encoded data removed]",
      "text/plain": [
       "<matplotlib.figure.Figure at 0x7f34c93e7bd0>"
      ]
     },
     "metadata": {},
     "output_type": "display_data"
    }
   ],
   "source": [
    "_=psd(x+1j*y)"
   ]
  },
  {
   "cell_type": "code",
   "execution_count": 59,
   "metadata": {
    "collapsed": false
   },
   "outputs": [
    {
     "data": {
      "text/plain": [
       "424.23299774354371"
      ]
     },
     "execution_count": 59,
     "metadata": {},
     "output_type": "execute_result"
    }
   ],
   "source": [
    "x.std()"
   ]
  },
  {
   "cell_type": "code",
   "execution_count": 60,
   "metadata": {
    "collapsed": false
   },
   "outputs": [
    {
     "data": {
      "text/plain": [
       "2993.0"
      ]
     },
     "execution_count": 60,
     "metadata": {},
     "output_type": "execute_result"
    }
   ],
   "source": [
    "x.ptp()"
   ]
  },
  {
   "cell_type": "code",
   "execution_count": 30,
   "metadata": {
    "collapsed": false
   },
   "outputs": [
    {
     "data": {
      "text/plain": [
       "64.0"
      ]
     },
     "execution_count": 30,
     "metadata": {},
     "output_type": "execute_result"
    }
   ],
   "source": [
    "(20/2.5)**2"
   ]
  },
  {
   "cell_type": "code",
   "execution_count": null,
   "metadata": {
    "collapsed": true
   },
   "outputs": [],
   "source": []
  }
 ],
 "metadata": {
  "kernelspec": {
   "display_name": "Python 2",
   "language": "python",
   "name": "python2"
  },
  "language_info": {
   "codemirror_mode": {
    "name": "ipython",
    "version": 2
   },
   "file_extension": ".py",
   "mimetype": "text/x-python",
   "name": "python",
   "nbconvert_exporter": "python",
   "pygments_lexer": "ipython2",
   "version": "2.7.13"
  }
 },
 "nbformat": 4,
 "nbformat_minor": 0
}
