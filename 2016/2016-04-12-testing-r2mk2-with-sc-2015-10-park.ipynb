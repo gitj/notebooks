{
 "cells": [
  {
   "cell_type": "code",
   "execution_count": 1,
   "metadata": {
    "collapsed": false
   },
   "outputs": [
    {
     "name": "stderr",
     "output_type": "stream",
     "text": [
      "/home/gjones/miniconda2/envs/readout/lib/python2.7/site-packages/matplotlib/font_manager.py:273: UserWarning: Matplotlib is building the font cache using fc-list. This may take a moment.\n",
      "  warnings.warn('Matplotlib is building the font cache using fc-list. This may take a moment.')\n"
     ]
    },
    {
     "name": "stdout",
     "output_type": "stream",
     "text": [
      "Populating the interactive namespace from numpy and matplotlib\n"
     ]
    }
   ],
   "source": [
    "%pylab inline"
   ]
  },
  {
   "cell_type": "code",
   "execution_count": 2,
   "metadata": {
    "collapsed": false
   },
   "outputs": [],
   "source": [
    "from kid_readout import *\n",
    "from kid_readout.roach import attenuator"
   ]
  },
  {
   "cell_type": "code",
   "execution_count": 3,
   "metadata": {
    "collapsed": false
   },
   "outputs": [],
   "source": [
    "ri = roach.r2heterodyne.Roach2Heterodyne(roachip='r2kid',attenuator=attenuator.Attenuator(),adc_valon='/dev/ttyUSB4',lo_valon='/dev/ttyUSB3',initialize=False)"
   ]
  },
  {
   "cell_type": "code",
   "execution_count": 12,
   "metadata": {
    "collapsed": true
   },
   "outputs": [],
   "source": [
    "ri.set_dac_atten(0)"
   ]
  },
  {
   "cell_type": "code",
   "execution_count": 58,
   "metadata": {
    "collapsed": true
   },
   "outputs": [],
   "source": [
    "low_group = np.array([ 1119.07673511,  1126.0153982 ,  1133.70131753,  1135.31245427,\n",
    "        1143.21576741,  1148.0169738 ,  1159.41786884,  1160.26943775, 1162.33,\n",
    "        1176.56747357,  1177.70848608,  1181.33728799,  1186.05472363,\n",
    "        1190.29108718,  1193.62180971,  1203.87755917,  1205.8392229 ,\n",
    "        1207.88046178,  1220.05286255,  1221.41371349,  1235.26613658, 1243.71])\n",
    "\n",
    "to_add = 32 - len(low_group)\n",
    "low_group = np.hstack((low_group,np.arange(to_add)+low_group.max()+2.))\n",
    "low_group_lo = 1110.0\n",
    "\n",
    "high_group = np.array([1576.67969747,  1599.40494104,  1605.60503541,\n",
    "        1609.7742154 ,\n",
    "        1623.02,\n",
    "                       1628.5448411 ,  1648.17537644,  1649.22774551,\n",
    "        1650.36575278,  1662.37845567,  1664.1706628 ,  1681.28526333,\n",
    "        1682.17350834,  1684.44471064,  1702.0820426 ,  1706.79635917,\n",
    "        1714.66047719,\n",
    "                       1720.7, 1724.39938475,  1752.05587464,  1767.515093])\n",
    "\n",
    "to_add = 32 - len(high_group)\n",
    "high_group = np.hstack((high_group,np.arange(to_add)+high_group.max()+2.))\n",
    "high_group_lo = 1570.0\n",
    "\n",
    "nsamp = 2**18\n",
    "step = 1\n",
    "nstep = 16\n",
    "offset_bins = np.arange(-(nstep + 1), (nstep + 1)) * step\n",
    "offsets = offset_bins * 512.0 / nsamp"
   ]
  },
  {
   "cell_type": "code",
   "execution_count": 6,
   "metadata": {
    "collapsed": true
   },
   "outputs": [],
   "source": [
    "ri.set_lo(low_group_lo)"
   ]
  },
  {
   "cell_type": "code",
   "execution_count": 19,
   "metadata": {
    "collapsed": false
   },
   "outputs": [
    {
     "data": {
      "text/plain": [
       "array([-0.3828125, -0.375    , -0.3671875, -0.359375 , -0.3515625,\n",
       "       -0.34375  , -0.3359375, -0.328125 , -0.3203125, -0.3125   ,\n",
       "       -0.3046875, -0.296875 , -0.2890625, -0.28125  , -0.2734375,\n",
       "       -0.265625 , -0.2578125, -0.25     , -0.2421875, -0.234375 ,\n",
       "       -0.2265625, -0.21875  , -0.2109375, -0.203125 , -0.1953125,\n",
       "       -0.1875   , -0.1796875, -0.171875 , -0.1640625, -0.15625  ,\n",
       "       -0.1484375, -0.140625 , -0.1328125, -0.125    , -0.1171875,\n",
       "       -0.109375 , -0.1015625, -0.09375  , -0.0859375, -0.078125 ,\n",
       "       -0.0703125, -0.0625   , -0.0546875, -0.046875 , -0.0390625,\n",
       "       -0.03125  , -0.0234375, -0.015625 , -0.0078125,  0.       ,\n",
       "        0.0078125,  0.015625 ,  0.0234375,  0.03125  ,  0.0390625,\n",
       "        0.046875 ,  0.0546875,  0.0625   ,  0.0703125,  0.078125 ,\n",
       "        0.0859375,  0.09375  ,  0.1015625,  0.109375 ,  0.1171875,\n",
       "        0.125    ,  0.1328125,  0.140625 ,  0.1484375,  0.15625  ,\n",
       "        0.1640625,  0.171875 ,  0.1796875,  0.1875   ,  0.1953125,\n",
       "        0.203125 ,  0.2109375,  0.21875  ,  0.2265625,  0.234375 ,\n",
       "        0.2421875,  0.25     ,  0.2578125,  0.265625 ,  0.2734375,\n",
       "        0.28125  ,  0.2890625,  0.296875 ,  0.3046875,  0.3125   ,\n",
       "        0.3203125,  0.328125 ,  0.3359375,  0.34375  ,  0.3515625,\n",
       "        0.359375 ,  0.3671875,  0.375    ])"
      ]
     },
     "execution_count": 19,
     "metadata": {},
     "output_type": "execute_result"
    }
   ],
   "source": [
    "offsets"
   ]
  },
  {
   "cell_type": "code",
   "execution_count": 7,
   "metadata": {
    "collapsed": false
   },
   "outputs": [
    {
     "data": {
      "text/plain": [
       "122.0703125"
      ]
     },
     "execution_count": 7,
     "metadata": {},
     "output_type": "execute_result"
    }
   ],
   "source": [
    "ri.blocks_per_second"
   ]
  },
  {
   "cell_type": "code",
   "execution_count": 57,
   "metadata": {
    "collapsed": false
   },
   "outputs": [
    {
     "data": {
      "text/plain": [
       "122.0703125"
      ]
     },
     "execution_count": 57,
     "metadata": {},
     "output_type": "execute_result"
    }
   ],
   "source": [
    "(512e6/2**14.)/256."
   ]
  },
  {
   "cell_type": "code",
   "execution_count": 46,
   "metadata": {
    "collapsed": false
   },
   "outputs": [
    {
     "data": {
      "text/plain": [
       "976.0"
      ]
     },
     "execution_count": 46,
     "metadata": {},
     "output_type": "execute_result"
    }
   ],
   "source": [
    "122*(256/32.)"
   ]
  },
  {
   "cell_type": "code",
   "execution_count": 56,
   "metadata": {
    "collapsed": false
   },
   "outputs": [
    {
     "data": {
      "text/plain": [
       "31248.0"
      ]
     },
     "execution_count": 56,
     "metadata": {},
     "output_type": "execute_result"
    }
   ],
   "source": [
    "3906*256/32."
   ]
  },
  {
   "cell_type": "code",
   "execution_count": 47,
   "metadata": {
    "collapsed": false
   },
   "outputs": [
    {
     "data": {
      "text/plain": [
       "(98, 32)"
      ]
     },
     "execution_count": 47,
     "metadata": {},
     "output_type": "execute_result"
    }
   ],
   "source": [
    "np.add.outer(offsets,low_group).shape"
   ]
  },
  {
   "cell_type": "code",
   "execution_count": 63,
   "metadata": {
    "collapsed": false
   },
   "outputs": [
    {
     "name": "stdout",
     "output_type": "stream",
     "text": [
      "got bad packet\n",
      "got bad packet\n"
     ]
    }
   ],
   "source": [
    "swa = acquire.run_sweep(ri,np.add.outer(offsets,low_group),nsamp,length_seconds=2)"
   ]
  },
  {
   "cell_type": "code",
   "execution_count": 64,
   "metadata": {
    "collapsed": true
   },
   "outputs": [],
   "source": [
    "swp = swa.sweep(2)"
   ]
  },
  {
   "cell_type": "code",
   "execution_count": 65,
   "metadata": {
    "collapsed": false
   },
   "outputs": [
    {
     "data": {
      "text/plain": [
       "(2048,)"
      ]
     },
     "execution_count": 65,
     "metadata": {},
     "output_type": "execute_result"
    }
   ],
   "source": [
    "swp.streams[0].s21_raw.shape"
   ]
  },
  {
   "cell_type": "code",
   "execution_count": 66,
   "metadata": {
    "collapsed": false
   },
   "outputs": [
    {
     "data": {
      "image/png": "[encoded data removed]",
      "text/plain": [
       "<matplotlib.figure.Figure at 0x7f840d3f17d0>"
      ]
     },
     "metadata": {},
     "output_type": "display_data"
    }
   ],
   "source": [
    "_=psd(swp.streams[0].s21_raw)"
   ]
  },
  {
   "cell_type": "code",
   "execution_count": 52,
   "metadata": {
    "collapsed": false
   },
   "outputs": [
    {
     "data": {
      "text/plain": [
       "'r2iq2xpfb14mcr12gb_2016_Feb_20_0948.bof'"
      ]
     },
     "execution_count": 52,
     "metadata": {},
     "output_type": "execute_result"
    }
   ],
   "source": [
    "ri.boffile"
   ]
  },
  {
   "cell_type": "code",
   "execution_count": 61,
   "metadata": {
    "collapsed": false
   },
   "outputs": [
    {
     "data": {
      "text/plain": [
       "[<matplotlib.lines.Line2D at 0x7f840d24ff10>]"
      ]
     },
     "execution_count": 61,
     "metadata": {},
     "output_type": "execute_result"
    },
    {
     "data": {
      "image/png": "[encoded data removed]",
      "text/plain": [
       "<matplotlib.figure.Figure at 0x7f840d0ac350>"
      ]
     },
     "metadata": {},
     "output_type": "display_data"
    }
   ],
   "source": [
    "plot(swp.frequency_MHz_stack,20*np.log10(np.abs(swp.s21_points)))"
   ]
  },
  {
   "cell_type": "code",
   "execution_count": 62,
   "metadata": {
    "collapsed": false
   },
   "outputs": [
    {
     "data": {
      "image/png": "[encoded data removed]",
      "text/plain": [
       "<matplotlib.figure.Figure at 0x7f840d035f50>"
      ]
     },
     "metadata": {},
     "output_type": "display_data"
    }
   ],
   "source": [
    "plot_ri(swp.s21_points)"
   ]
  },
  {
   "cell_type": "code",
   "execution_count": 30,
   "metadata": {
    "collapsed": true
   },
   "outputs": [],
   "source": [
    "ri.set_dac_atten(30)"
   ]
  },
  {
   "cell_type": "code",
   "execution_count": 42,
   "metadata": {
    "collapsed": true
   },
   "outputs": [],
   "source": [
    "x,y = ri.get_raw_adc()"
   ]
  },
  {
   "cell_type": "code",
   "execution_count": 43,
   "metadata": {
    "collapsed": false
   },
   "outputs": [
    {
     "data": {
      "image/png": "[encoded data removed]",
      "text/plain": [
       "<matplotlib.figure.Figure at 0x7f840d8db550>"
      ]
     },
     "metadata": {},
     "output_type": "display_data"
    }
   ],
   "source": [
    "_=psd(x+1j*y)"
   ]
  },
  {
   "cell_type": "code",
   "execution_count": 44,
   "metadata": {
    "collapsed": false
   },
   "outputs": [
    {
     "data": {
      "text/plain": [
       "6.5855899913690354"
      ]
     },
     "execution_count": 44,
     "metadata": {},
     "output_type": "execute_result"
    }
   ],
   "source": [
    "x.std()"
   ]
  },
  {
   "cell_type": "code",
   "execution_count": 35,
   "metadata": {
    "collapsed": false
   },
   "outputs": [
    {
     "data": {
      "text/plain": [
       "1363.0"
      ]
     },
     "execution_count": 35,
     "metadata": {},
     "output_type": "execute_result"
    }
   ],
   "source": [
    "x.ptp()"
   ]
  },
  {
   "cell_type": "code",
   "execution_count": 30,
   "metadata": {
    "collapsed": false
   },
   "outputs": [
    {
     "data": {
      "text/plain": [
       "64.0"
      ]
     },
     "execution_count": 30,
     "metadata": {},
     "output_type": "execute_result"
    }
   ],
   "source": [
    "(20/2.5)**2"
   ]
  },
  {
   "cell_type": "code",
   "execution_count": null,
   "metadata": {
    "collapsed": true
   },
   "outputs": [],
   "source": []
  }
 ],
 "metadata": {
  "kernelspec": {
   "display_name": "Python 2",
   "language": "python",
   "name": "python2"
  },
  "language_info": {
   "codemirror_mode": {
    "name": "ipython",
    "version": 2
   },
   "file_extension": ".py",
   "mimetype": "text/x-python",
   "name": "python",
   "nbconvert_exporter": "python",
   "pygments_lexer": "ipython2",
   "version": "2.7.11"
  }
 },
 "nbformat": 4,
 "nbformat_minor": 0
}
