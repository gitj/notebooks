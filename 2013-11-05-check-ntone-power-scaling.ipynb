{
 "metadata": {
  "name": "2013-11-05-check-ntone-power-scaling"
 },
 "nbformat": 3,
 "nbformat_minor": 0,
 "worksheets": [
  {
   "cells": [
    {
     "cell_type": "code",
     "collapsed": false,
     "input": [],
     "language": "python",
     "metadata": {},
     "outputs": []
    }
   ],
   "metadata": {}
  }
 ]
}