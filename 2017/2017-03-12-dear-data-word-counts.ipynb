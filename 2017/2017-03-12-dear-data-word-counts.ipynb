{
 "cells": [
  {
   "cell_type": "code",
   "execution_count": 1,
   "metadata": {
    "collapsed": false
   },
   "outputs": [
    {
     "name": "stdout",
     "output_type": "stream",
     "text": [
      "Populating the interactive namespace from numpy and matplotlib\n"
     ]
    }
   ],
   "source": [
    "%pylab inline"
   ]
  },
  {
   "cell_type": "code",
   "execution_count": 2,
   "metadata": {
    "collapsed": true
   },
   "outputs": [],
   "source": [
    "import json"
   ]
  },
  {
   "cell_type": "code",
   "execution_count": 4,
   "metadata": {
    "collapsed": true
   },
   "outputs": [],
   "source": [
    "hangouts = json.load(open('/home/gjones/Takeout/Hangouts/Hangouts.json'))"
   ]
  },
  {
   "cell_type": "code",
   "execution_count": 5,
   "metadata": {
    "collapsed": false
   },
   "outputs": [
    {
     "data": {
      "text/plain": [
       "[u'continuation_end_timestamp', u'conversation_state']"
      ]
     },
     "execution_count": 5,
     "metadata": {},
     "output_type": "execute_result"
    }
   ],
   "source": [
    "hangouts.keys()"
   ]
  },
  {
   "cell_type": "code",
   "execution_count": 114,
   "metadata": {
    "collapsed": true
   },
   "outputs": [],
   "source": [
    "gaia_ids = {}\n",
    "for conversation in hangouts['conversation_state']:\n",
    "    for participant in conversation['conversation_state']['conversation']['participant_data']:\n",
    "        try:\n",
    "            gaia_id=participant['id']['gaia_id']\n",
    "            name = participant['fallback_name']\n",
    "            if gaia_id not in gaia_ids:\n",
    "                gaia_ids[gaia_id] = name\n",
    "                gaia_ids[name] = gaia_id\n",
    "        except KeyError:\n",
    "            pass\n"
   ]
  },
  {
   "cell_type": "code",
   "execution_count": 117,
   "metadata": {
    "collapsed": false
   },
   "outputs": [
    {
     "data": {
      "text/plain": [
       "{u'100664605187225385196': u'Rama Srinivasan',\n",
       " u'100882729762281224679': u'Bernadette Heyburn',\n",
       " u'101641183764354939669': u'Kaushal Buch',\n",
       " u'101947368488130578091': u'Claire Walton',\n",
       " u'102487417074694322789': u'hmccarick@gmail.com',\n",
       " u'102795510476282088531': u'Weiwei Zhu',\n",
       " u'103711585427315865201': u'Raajen Patel',\n",
       " u'103737347766647518054': u'Mark Wagner',\n",
       " u'104521624617198072679': u'Diva Jones',\n",
       " u'104521752555378422925': u'glenn.caltech@gmail.com',\n",
       " u'104786595709615733654': u'Daniel Chapman',\n",
       " u'105888541453997279343': u'Andrea Manzo',\n",
       " u'106246582169809309994': u'Sam Thomsen',\n",
       " u'107483561634597693507': u'Arthi Srinivasan',\n",
       " u'107939362453967657440': u'Nate Sheetz',\n",
       " u'107988880168676933045': u'BRADLEY DOBER',\n",
       " u'108087508423266363782': u'Emmanuel Fonseca',\n",
       " u'108845657525171660307': u'Aaron Esser-Kahn',\n",
       " u'108845914750751944082': u'Sean Bryan',\n",
       " u'109156619592688036943': u'George Che',\n",
       " u'109609613262437806784': u'Sarah Blood',\n",
       " u'110036363762514098886': u'alberto vecchio',\n",
       " u'110573846715310868883': u'Ryan Shannon',\n",
       " u'111148451500558438899': u'Rolando Paz',\n",
       " u'111807647197946436776': u'Tony Mroczkowski',\n",
       " u'112067544442359257147': u'Chris Russell',\n",
       " u'112219157717148071951': u'Glenda Bilderback',\n",
       " u'112317031722673753975': u'Andrew Siemion',\n",
       " u'112880983570720598578': u'Heather McCarrick',\n",
       " u'114058798944876771136': u'Nathan Garver-Daniels',\n",
       " u'114598340022156140705': u'Joy Didier',\n",
       " u'115693486620826290121': u'Jayanth Chennamangalam',\n",
       " u'115753786262670018010': u'Stephen Taylor',\n",
       " u'115965660995905947269': u'Rurik Alejandro Primiani',\n",
       " u'116430532002807124284': u'Robert Ferdman',\n",
       " u'116472920587156688300': u'Lawrence Toomey',\n",
       " u'116702085755446089928': u'Justin Ellis',\n",
       " u'116804437501729482313': u'Abbey Major',\n",
       " u'116943052712824737591': u'Andrew Seymour',\n",
       " u'117163526923680680831': u'Daniel Flanigan',\n",
       " u'Aaron Esser-Kahn': u'108845657525171660307',\n",
       " u'Abbey Major': u'116804437501729482313',\n",
       " u'Andrea Manzo': u'105888541453997279343',\n",
       " u'Andrew Seymour': u'116943052712824737591',\n",
       " u'Andrew Siemion': u'112317031722673753975',\n",
       " u'Arthi Srinivasan': u'107483561634597693507',\n",
       " u'BRADLEY DOBER': u'107988880168676933045',\n",
       " u'Bernadette Heyburn': u'100882729762281224679',\n",
       " u'Chris Russell': u'112067544442359257147',\n",
       " u'Claire Walton': u'101947368488130578091',\n",
       " u'Daniel Chapman': u'104786595709615733654',\n",
       " u'Daniel Flanigan': u'117163526923680680831',\n",
       " u'Diva Jones': u'104521624617198072679',\n",
       " u'Emmanuel Fonseca': u'108087508423266363782',\n",
       " u'George Che': u'109156619592688036943',\n",
       " u'Glenda Bilderback': u'112219157717148071951',\n",
       " u'Heather McCarrick': u'112880983570720598578',\n",
       " u'Jayanth Chennamangalam': u'115693486620826290121',\n",
       " u'Joy Didier': u'114598340022156140705',\n",
       " u'Justin Ellis': u'116702085755446089928',\n",
       " u'Kaushal Buch': u'101641183764354939669',\n",
       " u'Lawrence Toomey': u'116472920587156688300',\n",
       " u'Mark Wagner': u'103737347766647518054',\n",
       " u'Nate Sheetz': u'107939362453967657440',\n",
       " u'Nathan Garver-Daniels': u'114058798944876771136',\n",
       " u'Raajen Patel': u'103711585427315865201',\n",
       " u'Rama Srinivasan': u'100664605187225385196',\n",
       " u'Robert Ferdman': u'116430532002807124284',\n",
       " u'Rolando Paz': u'111148451500558438899',\n",
       " u'Rurik Alejandro Primiani': u'115965660995905947269',\n",
       " u'Ryan Shannon': u'110573846715310868883',\n",
       " u'Sam Thomsen': u'106246582169809309994',\n",
       " u'Sarah Blood': u'109609613262437806784',\n",
       " u'Sean Bryan': u'108845914750751944082',\n",
       " u'Stephen Taylor': u'115753786262670018010',\n",
       " u'Tony Mroczkowski': u'111807647197946436776',\n",
       " u'Weiwei Zhu': u'102795510476282088531',\n",
       " u'alberto vecchio': u'110036363762514098886',\n",
       " u'glenn.caltech@gmail.com': u'104521752555378422925',\n",
       " u'hmccarick@gmail.com': u'102487417074694322789'}"
      ]
     },
     "execution_count": 117,
     "metadata": {},
     "output_type": "execute_result"
    }
   ],
   "source": [
    "gaia_ids"
   ]
  },
  {
   "cell_type": "code",
   "execution_count": 121,
   "metadata": {
    "collapsed": false
   },
   "outputs": [
    {
     "name": "stdout",
     "output_type": "stream",
     "text": [
      "unknown id 100671441518354514895\n"
     ]
    }
   ],
   "source": [
    "corpi = []\n",
    "for conversation in hangouts['conversation_state']:\n",
    "    by_sender = {}\n",
    "    for event in conversation['conversation_state']['event']:\n",
    "        try:\n",
    "            text = '\\n'.join([segment['text'] for segment in event['chat_message']['message_content']['segment']])\n",
    "            gaia_id = event['sender_id']['gaia_id']\n",
    "            timestamp = int(event['timestamp'])\n",
    "        except KeyError:\n",
    "            continue\n",
    "        if gaia_id not in gaia_ids:\n",
    "            print (\"unknown id\", gaia_id)\n",
    "            continue\n",
    "        so_far = by_sender.get(gaia_ids[gaia_id],[])\n",
    "        so_far.append(dict(text=text,timestamp=timestamp))\n",
    "        by_sender[gaia_ids[gaia_id]] = so_far\n",
    "    if by_sender:\n",
    "        corpi.append(by_sender)\n",
    "            "
   ]
  },
  {
   "cell_type": "code",
   "execution_count": 122,
   "metadata": {
    "collapsed": false
   },
   "outputs": [
    {
     "data": {
      "text/plain": [
       "22"
      ]
     },
     "execution_count": 122,
     "metadata": {},
     "output_type": "execute_result"
    }
   ],
   "source": [
    "len(corpi)"
   ]
  },
  {
   "cell_type": "code",
   "execution_count": 123,
   "metadata": {
    "collapsed": true
   },
   "outputs": [],
   "source": [
    "import pandas as pd"
   ]
  },
  {
   "cell_type": "code",
   "execution_count": 124,
   "metadata": {
    "collapsed": true
   },
   "outputs": [],
   "source": [
    "rows = []\n",
    "for cid,conv in enumerate(corpi):\n",
    "    for sender,data in conv.items():\n",
    "        for message in data:\n",
    "            rows.append((cid,sender,message['timestamp'],message['text']))\n",
    "df = pd.DataFrame(rows,columns=['cid', 'sender', 'timestamp', 'text'])"
   ]
  },
  {
   "cell_type": "code",
   "execution_count": 125,
   "metadata": {
    "collapsed": false
   },
   "outputs": [
    {
     "data": {
      "text/plain": [
       "(105952, 4)"
      ]
     },
     "execution_count": 125,
     "metadata": {},
     "output_type": "execute_result"
    }
   ],
   "source": [
    "df.shape"
   ]
  },
  {
   "cell_type": "code",
   "execution_count": 128,
   "metadata": {
    "collapsed": false
   },
   "outputs": [
    {
     "data": {
      "text/plain": [
       "[<matplotlib.lines.Line2D at 0x7f3b4c04e190>]"
      ]
     },
     "execution_count": 128,
     "metadata": {},
     "output_type": "execute_result"
    },
    {
     "data": {
      "image/png": "[encoded data removed]",
      "text/plain": [
       "<matplotlib.figure.Figure at 0x7f3b47fc32d0>"
      ]
     },
     "metadata": {},
     "output_type": "display_data"
    }
   ],
   "source": [
    "plot(df[df.sender=='Arthi Srinivasan'].cid)"
   ]
  },
  {
   "cell_type": "code",
   "execution_count": 130,
   "metadata": {
    "collapsed": false
   },
   "outputs": [
    {
     "data": {
      "text/plain": [
       "[<matplotlib.lines.Line2D at 0x7f3b4c098dd0>]"
      ]
     },
     "execution_count": 130,
     "metadata": {},
     "output_type": "execute_result"
    },
    {
     "data": {
      "image/png": "[encoded data removed]",
      "text/plain": [
       "<matplotlib.figure.Figure at 0x7f3b47f9e090>"
      ]
     },
     "metadata": {},
     "output_type": "display_data"
    }
   ],
   "source": [
    "plot(df[df.sender=='glenn.caltech@gmail.com'].cid,'.')"
   ]
  },
  {
   "cell_type": "code",
   "execution_count": 131,
   "metadata": {
    "collapsed": true
   },
   "outputs": [],
   "source": [
    "wife = df[df.cid==13]"
   ]
  },
  {
   "cell_type": "code",
   "execution_count": 152,
   "metadata": {
    "collapsed": true
   },
   "outputs": [],
   "source": [
    "from_wife = wife[wife.sender=='Arthi Srinivasan']"
   ]
  },
  {
   "cell_type": "code",
   "execution_count": 153,
   "metadata": {
    "collapsed": false
   },
   "outputs": [
    {
     "data": {
      "text/plain": [
       "(49709, 4)"
      ]
     },
     "execution_count": 153,
     "metadata": {},
     "output_type": "execute_result"
    }
   ],
   "source": [
    "from_wife.shape"
   ]
  },
  {
   "cell_type": "code",
   "execution_count": 154,
   "metadata": {
    "collapsed": true
   },
   "outputs": [],
   "source": [
    "to_wife = wife[wife.sender=='glenn.caltech@gmail.com']"
   ]
  },
  {
   "cell_type": "code",
   "execution_count": 155,
   "metadata": {
    "collapsed": false
   },
   "outputs": [
    {
     "data": {
      "text/plain": [
       "(36929, 4)"
      ]
     },
     "execution_count": 155,
     "metadata": {},
     "output_type": "execute_result"
    }
   ],
   "source": [
    "to_wife.shape"
   ]
  },
  {
   "cell_type": "code",
   "execution_count": 168,
   "metadata": {
    "collapsed": true
   },
   "outputs": [],
   "source": [
    "import time"
   ]
  },
  {
   "cell_type": "code",
   "execution_count": 169,
   "metadata": {
    "collapsed": false
   },
   "outputs": [
    {
     "data": {
      "text/plain": [
       "999878.08373580768"
      ]
     },
     "execution_count": 169,
     "metadata": {},
     "output_type": "execute_result"
    }
   ],
   "source": [
    "ts.max()/time.time()"
   ]
  },
  {
   "cell_type": "code",
   "execution_count": 173,
   "metadata": {
    "collapsed": false
   },
   "outputs": [
    {
     "name": "stdout",
     "output_type": "stream",
     "text": [
      "Fri May 15 13:38:48 2015\n"
     ]
    }
   ],
   "source": [
    "ts = to_wife.timestamp.values\n",
    "ts.sort()\n",
    "print(time.ctime(ts[np.diff(ts/1e6).argmax()]/1e6))"
   ]
  },
  {
   "cell_type": "code",
   "execution_count": 176,
   "metadata": {
    "collapsed": false
   },
   "outputs": [
    {
     "data": {
      "text/plain": [
       "17.806328322440386"
      ]
     },
     "execution_count": 176,
     "metadata": {},
     "output_type": "execute_result"
    }
   ],
   "source": [
    "np.diff(ts/1e6).max()/86400."
   ]
  },
  {
   "cell_type": "code",
   "execution_count": 177,
   "metadata": {
    "collapsed": false
   },
   "outputs": [
    {
     "name": "stdout",
     "output_type": "stream",
     "text": [
      "Tue Jun  2 08:59:55 2015\n"
     ]
    }
   ],
   "source": [
    "print(time.ctime(ts[np.diff(ts/1e6).argmax()+1]/1e6))"
   ]
  },
  {
   "cell_type": "code",
   "execution_count": 132,
   "metadata": {
    "collapsed": false,
    "scrolled": true
   },
   "outputs": [
    {
     "data": {
      "text/plain": [
       "(86638, 4)"
      ]
     },
     "execution_count": 132,
     "metadata": {},
     "output_type": "execute_result"
    }
   ],
   "source": [
    "wife.shape"
   ]
  },
  {
   "cell_type": "code",
   "execution_count": 156,
   "metadata": {
    "collapsed": true
   },
   "outputs": [],
   "source": [
    "to_wife_corpus = ('\\n'.join([row.text for k,row in to_wife.iterrows()])).lower().split()"
   ]
  },
  {
   "cell_type": "code",
   "execution_count": 288,
   "metadata": {
    "collapsed": true
   },
   "outputs": [],
   "source": [
    "from_wife_corpus = ('\\n'.join([row.text for k,row in from_wife.iterrows()])).lower().split()"
   ]
  },
  {
   "cell_type": "code",
   "execution_count": 289,
   "metadata": {
    "collapsed": false
   },
   "outputs": [
    {
     "data": {
      "text/plain": [
       "347512"
      ]
     },
     "execution_count": 289,
     "metadata": {},
     "output_type": "execute_result"
    }
   ],
   "source": [
    "len(from_wife_corpus)"
   ]
  },
  {
   "cell_type": "code",
   "execution_count": 157,
   "metadata": {
    "collapsed": false
   },
   "outputs": [
    {
     "data": {
      "text/plain": [
       "207296"
      ]
     },
     "execution_count": 157,
     "metadata": {},
     "output_type": "execute_result"
    }
   ],
   "source": [
    "len(to_wife_corpus)"
   ]
  },
  {
   "cell_type": "code",
   "execution_count": 306,
   "metadata": {
    "collapsed": false
   },
   "outputs": [
    {
     "data": {
      "text/plain": [
       "Arthi Srinivasan            49709\n",
       "glenn.caltech@gmail.com     45553\n",
       "Daniel Flanigan              6996\n",
       "Heather McCarrick            2484\n",
       "Mark Wagner                   447\n",
       "Sean Bryan                    238\n",
       "BRADLEY DOBER                 234\n",
       "Andrew Siemion                 95\n",
       "Jayanth Chennamangalam         66\n",
       "Tony Mroczkowski               34\n",
       "Rurik Alejandro Primiani       19\n",
       "Glenda Bilderback              16\n",
       "Diva Jones                     14\n",
       "Raajen Patel                   10\n",
       "Joy Didier                      9\n",
       "Rama Srinivasan                 9\n",
       "Kaushal Buch                    6\n",
       "Daniel Chapman                  4\n",
       "Bernadette Heyburn              4\n",
       "Aaron Esser-Kahn                2\n",
       "Claire Walton                   1\n",
       "Rolando Paz                     1\n",
       "Nate Sheetz                     1\n",
       "Name: sender, dtype: int64"
      ]
     },
     "execution_count": 306,
     "metadata": {},
     "output_type": "execute_result"
    }
   ],
   "source": [
    "df.sender.value_counts()"
   ]
  },
  {
   "cell_type": "code",
   "execution_count": 180,
   "metadata": {
    "collapsed": false,
    "scrolled": false
   },
   "outputs": [
    {
     "data": {
      "text/plain": [
       "(-1.0250401751889771,\n",
       " 1.000000000001442,\n",
       " -1.0247493445195832,\n",
       " 1.0193365382676962)"
      ]
     },
     "execution_count": 180,
     "metadata": {},
     "output_type": "execute_result"
    },
    {
     "data": {
      "image/png": "[encoded data removed]",
      "text/plain": [
       "<matplotlib.figure.Figure at 0x7f3b45cab5d0>"
      ]
     },
     "metadata": {},
     "output_type": "display_data"
    }
   ],
   "source": [
    "df.sender.value_counts().plot.pie()\n",
    "axis('equal')"
   ]
  },
  {
   "cell_type": "code",
   "execution_count": 83,
   "metadata": {
    "collapsed": true
   },
   "outputs": [],
   "source": [
    "from collections import Counter"
   ]
  },
  {
   "cell_type": "code",
   "execution_count": 227,
   "metadata": {
    "collapsed": true
   },
   "outputs": [],
   "source": [
    "to_wife_corpus = [x.strip(',.:;!?') for x in to_wife_corpus]"
   ]
  },
  {
   "cell_type": "code",
   "execution_count": 290,
   "metadata": {
    "collapsed": true
   },
   "outputs": [],
   "source": [
    "from_wife_corpus = [x.strip(',.:;!?') for x in from_wife_corpus]"
   ]
  },
  {
   "cell_type": "code",
   "execution_count": 228,
   "metadata": {
    "collapsed": false
   },
   "outputs": [],
   "source": [
    "words_counts = dict(Counter(to_wife_corpus))"
   ]
  },
  {
   "cell_type": "code",
   "execution_count": 229,
   "metadata": {
    "collapsed": true
   },
   "outputs": [],
   "source": [
    "words = words_counts.keys()\n",
    "counts = words_counts.values()"
   ]
  },
  {
   "cell_type": "code",
   "execution_count": 230,
   "metadata": {
    "collapsed": true
   },
   "outputs": [],
   "source": [
    "order = np.argsort(counts)"
   ]
  },
  {
   "cell_type": "code",
   "execution_count": 207,
   "metadata": {
    "collapsed": false
   },
   "outputs": [
    {
     "data": {
      "text/plain": [
       "17541"
      ]
     },
     "execution_count": 207,
     "metadata": {},
     "output_type": "execute_result"
    }
   ],
   "source": [
    "len(words)"
   ]
  },
  {
   "cell_type": "code",
   "execution_count": 188,
   "metadata": {
    "collapsed": true
   },
   "outputs": [],
   "source": [
    "import urllib"
   ]
  },
  {
   "cell_type": "code",
   "execution_count": 190,
   "metadata": {
    "collapsed": false
   },
   "outputs": [
    {
     "data": {
      "text/plain": [
       "('common_10000.txt', <httplib.HTTPMessage instance at 0x7f3b45ec9e60>)"
      ]
     },
     "execution_count": 190,
     "metadata": {},
     "output_type": "execute_result"
    }
   ],
   "source": [
    "urllib.urlretrieve('https://raw.githubusercontent.com/first20hours/google-10000-english/master/google-10000-english-usa.txt',\n",
    "              'common_10000.txt')"
   ]
  },
  {
   "cell_type": "code",
   "execution_count": 210,
   "metadata": {
    "collapsed": true
   },
   "outputs": [],
   "source": [
    "common_words = open('common_10000.txt').read().split()"
   ]
  },
  {
   "cell_type": "code",
   "execution_count": 231,
   "metadata": {
    "collapsed": true
   },
   "outputs": [],
   "source": [
    "to_wife_less_common = [x for x in to_wife_corpus if x not in set(common_words[:100])]"
   ]
  },
  {
   "cell_type": "code",
   "execution_count": 291,
   "metadata": {
    "collapsed": true
   },
   "outputs": [],
   "source": [
    "from_wife_less_common = [x for x in from_wife_corpus if x not in set(common_words[:100])]"
   ]
  },
  {
   "cell_type": "code",
   "execution_count": 363,
   "metadata": {
    "collapsed": false
   },
   "outputs": [
    {
     "data": {
      "text/plain": [
       "15155"
      ]
     },
     "execution_count": 363,
     "metadata": {},
     "output_type": "execute_result"
    }
   ],
   "source": [
    "len(set(to_wife_corpus))"
   ]
  },
  {
   "cell_type": "code",
   "execution_count": 364,
   "metadata": {
    "collapsed": false
   },
   "outputs": [
    {
     "data": {
      "text/plain": [
       "20213"
      ]
     },
     "execution_count": 364,
     "metadata": {},
     "output_type": "execute_result"
    }
   ],
   "source": [
    "len(set(from_wife_corpus))"
   ]
  },
  {
   "cell_type": "code",
   "execution_count": 365,
   "metadata": {
    "collapsed": false
   },
   "outputs": [
    {
     "data": {
      "text/plain": [
       "347512"
      ]
     },
     "execution_count": 365,
     "metadata": {},
     "output_type": "execute_result"
    }
   ],
   "source": [
    "len(from_wife_corpus)"
   ]
  },
  {
   "cell_type": "code",
   "execution_count": 366,
   "metadata": {
    "collapsed": false
   },
   "outputs": [
    {
     "data": {
      "text/plain": [
       "207296"
      ]
     },
     "execution_count": 366,
     "metadata": {},
     "output_type": "execute_result"
    }
   ],
   "source": [
    "len(to_wife_corpus)"
   ]
  },
  {
   "cell_type": "code",
   "execution_count": 371,
   "metadata": {
    "collapsed": false
   },
   "outputs": [],
   "source": [
    "words_counts = dict(Counter(to_wife_less_common))\n",
    "words = words_counts.keys()\n",
    "counts = words_counts.values()\n",
    "order = np.argsort(counts)\n",
    "#for idx,k in enumerate(order[-100:][::-1]):\n",
    "#    print (idx,words[k],counts[k])\n",
    "#ger_vocab = np.array(counts)[order[::-1]]\n",
    "#x = np.arange(1,len(order)+1)\n",
    "#loglog(x,np.array(counts)[order[::-1]])\n",
    "#loglog(x,300/(x/100.)**1.2)\n",
    "#grid()"
   ]
  },
  {
   "cell_type": "code",
   "execution_count": 351,
   "metadata": {
    "collapsed": false
   },
   "outputs": [],
   "source": [
    "taj = list(set([x for x in from_wife_less_common if \"taj\" in x]) | set([x for x in to_wife_less_common if \"taj\" in x]) | {'st','shark'}\n",
    "       | set([x for x in to_wife_less_common if \"hark\" in x]) | set([x for x in from_wife_less_common if \"hark\" in x]))\n",
    "taj = set([x for x in taj if 'http' not in x])"
   ]
  },
  {
   "cell_type": "code",
   "execution_count": 352,
   "metadata": {
    "collapsed": false
   },
   "outputs": [
    {
     "data": {
      "text/plain": [
       "{u'\"shark',\n",
       " u'\"taj',\n",
       " u'(taj',\n",
       " u\"(taj's)\",\n",
       " u'babyshark',\n",
       " u'fatshark',\n",
       " u'pre-sweettaj',\n",
       " 'shark',\n",
       " u'shark\"s',\n",
       " u\"shark's\",\n",
       " u'shark)',\n",
       " u'shark:-(',\n",
       " u'shark>',\n",
       " u'sharkcake',\n",
       " u'sharking',\n",
       " u'sharkkkkk',\n",
       " u'sharks',\n",
       " u\"sharks'\",\n",
       " u'sharkshoes',\n",
       " u'sharkw',\n",
       " u'sharkxoxo',\n",
       " u'sharky',\n",
       " 'st',\n",
       " u'sweeattaj',\n",
       " u'sweeetshark',\n",
       " u'sweeettaj',\n",
       " u'sweetshark',\n",
       " u'sweetshark!>!>',\n",
       " u'sweettaj',\n",
       " u\"sweettaj's\",\n",
       " u'sweetttaj',\n",
       " u'swettaj',\n",
       " u'swetttaj',\n",
       " u'swweettaj',\n",
       " u'taj',\n",
       " u'taj!\"',\n",
       " u'taj\"',\n",
       " u\"taj's\",\n",
       " u'taj-style',\n",
       " u'taj...\"',\n",
       " u'tajbeads',\n",
       " u'tajbowl',\n",
       " u'taje',\n",
       " u'taji',\n",
       " u\"tajj's\",\n",
       " u'tajs',\n",
       " u'toshark'}"
      ]
     },
     "execution_count": 352,
     "metadata": {},
     "output_type": "execute_result"
    }
   ],
   "source": [
    "taj"
   ]
  },
  {
   "cell_type": "code",
   "execution_count": 372,
   "metadata": {
    "collapsed": false
   },
   "outputs": [
    {
     "name": "stdout",
     "output_type": "stream",
     "text": [
      "0 whir 2329\n",
      "1 ) 2213\n",
      "2 ok 1946\n",
      "3 yeah 1728\n",
      "4 just 1434\n",
      "5 wife 1332\n",
      "6 lol 1259\n",
      "7 ger 1246\n",
      "8 good 920\n",
      "9 clyde 885\n",
      "10 him 853\n",
      "11 think 788\n",
      "12 it's 755\n",
      "13 got 734\n",
      "14 yes 710\n",
      "15 too 689\n",
      "16 oh 658\n",
      "17 did 628\n",
      "18 going 609\n",
      "19 go 591\n",
      "20 should 552\n",
      "21 says 538\n",
      "22 taj 535\n",
      "23 want 528\n",
      "24 then 520\n",
      "25 don't 511\n",
      "26 maybe 509\n",
      "27 xo 498\n",
      "28 well 498\n",
      "29 claude 498\n",
      "30 had 492\n",
      "31 i'm 474\n",
      "32 very 469\n",
      "33 didn't 457\n",
      "34 i'll 455\n",
      "35 -) 450\n",
      "36 know 424\n",
      "37 he's 420\n",
      "38 hiwife 390\n",
      "39 that's 382\n",
      "40 st 375\n",
      "41 bit 371\n",
      "42 she 361\n",
      "43 work 361\n",
      "44 really 355\n",
      "45 shark 354\n",
      "46 said 350\n",
      "47 back 344\n",
      "48 lunch 331\n",
      "49 today 329\n",
      "50 still 329\n",
      "51 could 328\n",
      "52 im 328\n",
      "53 mean 322\n",
      "54 sure 318\n",
      "55 off 314\n",
      "56 might 314\n",
      "57 much 311\n",
      "58 them 307\n",
      "59 gonna 304\n",
      "60 cool 297\n",
      "61 love 293\n",
      "62 her 292\n",
      "63 put 286\n",
      "64 guess 285\n",
      "65 leaving 284\n",
      "66 after 280\n",
      "67 morning 278\n",
      "68 something 263\n",
      "69 try 262\n",
      "70 mow 261\n",
      "71 because 258\n",
      "72 way 257\n",
      "73 whirf 254\n",
      "74 w/ 252\n",
      "75 right 252\n",
      "76 getting 249\n",
      "77 take 249\n",
      "78 since 243\n",
      "79 why 243\n",
      "80 leave 236\n",
      "81 nice 231\n",
      "82 soon 230\n",
      "83 need 224\n",
      "84 around 222\n",
      "85 train 215\n",
      "86 last 214\n",
      "87 probably 214\n",
      "88 before 214\n",
      "89 little 213\n",
      "90 late 212\n",
      "91 packing 209\n",
      "92 dunno 201\n",
      "93 into 199\n",
      "94 over 197\n",
      "95 make 196\n",
      "96 mom 196\n",
      "97 ( 195\n",
      "98 pizza 194\n",
      "99 night 192\n"
     ]
    }
   ],
   "source": [
    "words_counts = dict(Counter(to_wife_less_common))\n",
    "words = words_counts.keys()\n",
    "counts = words_counts.values()\n",
    "ger_taj_counts = {}\n",
    "for k in taj:\n",
    "    try:\n",
    "        ger_taj_counts[k] = words_counts[k]\n",
    "    except KeyError:\n",
    "        pass\n",
    "for idx,k in enumerate(order[-100:][::-1]):\n",
    "    print (idx,words[k],counts[k])\n",
    "#ger_vocab = np.array(counts)[order[::-1]]\n",
    "#x = np.arange(1,len(order)+1)\n",
    "#loglog(x,np.array(counts)[order[::-1]])\n",
    "#loglog(x,300/(x/100.)**1.2)\n",
    "#grid()"
   ]
  },
  {
   "cell_type": "code",
   "execution_count": 362,
   "metadata": {
    "collapsed": false
   },
   "outputs": [
    {
     "data": {
      "text/plain": [
       "{u'\"taj': 3,\n",
       " u'(taj': 1,\n",
       " 'shark': 354,\n",
       " u\"shark's\": 18,\n",
       " u'shark)': 1,\n",
       " u'sharking': 2,\n",
       " u'sharks': 4,\n",
       " u'sharkw': 1,\n",
       " u'sharky': 1,\n",
       " 'st': 375,\n",
       " u'sweeettaj': 1,\n",
       " u'sweetshark': 1,\n",
       " u'sweettaj': 18,\n",
       " u\"sweettaj's\": 1,\n",
       " u'taj': 535,\n",
       " u'taj!\"': 1,\n",
       " u'taj\"': 1,\n",
       " u\"taj's\": 21,\n",
       " u'taji': 2,\n",
       " u'tajs': 1,\n",
       " u'toshark': 1}"
      ]
     },
     "execution_count": 362,
     "metadata": {},
     "output_type": "execute_result"
    }
   ],
   "source": [
    "ger_taj_counts"
   ]
  },
  {
   "cell_type": "code",
   "execution_count": 357,
   "metadata": {
    "collapsed": false
   },
   "outputs": [
    {
     "data": {
      "image/png": "[encoded data removed]",
      "text/plain": [
       "<matplotlib.figure.Figure at 0x7f3b3840e4d0>"
      ]
     },
     "metadata": {},
     "output_type": "display_data"
    }
   ],
   "source": [
    "plt.pie(ger_taj_counts.values(),labels=ger_taj_counts.keys());"
   ]
  },
  {
   "cell_type": "code",
   "execution_count": 358,
   "metadata": {
    "collapsed": false
   },
   "outputs": [],
   "source": [
    "words_counts = dict(Counter(from_wife_less_common))\n",
    "words = words_counts.keys()\n",
    "counts = words_counts.values()\n",
    "order = np.argsort(counts)\n",
    "wife_taj_counts = {}\n",
    "for k in taj:\n",
    "    try:\n",
    "        wife_taj_counts[k] = words_counts[k]\n",
    "    except KeyError:\n",
    "        pass\n",
    "#x = np.arange(1,len(order)+1)\n",
    "#loglog(x,np.array(counts)[order[::-1]])\n",
    "#wife_vocab=np.array(counts)[order[::-1]]\n",
    "#loglog(x,300/(x/100.)**1.2)\n",
    "#grid()\n",
    "#for idx,k in enumerate(order[-100:][::-1]):\n",
    "#    print (idx,words[k],counts[k])"
   ]
  },
  {
   "cell_type": "code",
   "execution_count": 361,
   "metadata": {
    "collapsed": false
   },
   "outputs": [
    {
     "data": {
      "text/plain": [
       "{u'\"shark': 2,\n",
       " u'\"taj': 2,\n",
       " u\"(taj's)\": 1,\n",
       " u'babyshark': 1,\n",
       " u'fatshark': 1,\n",
       " u'pre-sweettaj': 1,\n",
       " 'shark': 1537,\n",
       " u'shark\"s': 2,\n",
       " u\"shark's\": 169,\n",
       " u'shark:-(': 1,\n",
       " u'shark>': 1,\n",
       " u'sharkcake': 1,\n",
       " u'sharking': 2,\n",
       " u'sharkkkkk': 1,\n",
       " u'sharks': 37,\n",
       " u\"sharks'\": 1,\n",
       " u'sharkshoes': 1,\n",
       " u'sharkxoxo': 1,\n",
       " 'st': 909,\n",
       " u'sweeattaj': 1,\n",
       " u'sweeetshark': 1,\n",
       " u'sweeettaj': 4,\n",
       " u'sweetshark': 53,\n",
       " u'sweetshark!>!>': 1,\n",
       " u'sweettaj': 1011,\n",
       " u\"sweettaj's\": 30,\n",
       " u'sweetttaj': 1,\n",
       " u'swettaj': 2,\n",
       " u'swetttaj': 1,\n",
       " u'swweettaj': 1,\n",
       " u'taj': 811,\n",
       " u'taj\"': 1,\n",
       " u\"taj's\": 54,\n",
       " u'taj-style': 1,\n",
       " u'taj...\"': 1,\n",
       " u'tajbeads': 1,\n",
       " u'tajbowl': 1,\n",
       " u'taje': 1,\n",
       " u'taji': 3,\n",
       " u\"tajj's\": 1,\n",
       " u'tajs': 4}"
      ]
     },
     "execution_count": 361,
     "metadata": {},
     "output_type": "execute_result"
    }
   ],
   "source": [
    "wife_taj_counts"
   ]
  },
  {
   "cell_type": "code",
   "execution_count": 360,
   "metadata": {
    "collapsed": false
   },
   "outputs": [
    {
     "data": {
      "image/png": "[encoded data removed]",
      "text/plain": [
       "<matplotlib.figure.Figure at 0x7f3b386ff490>"
      ]
     },
     "metadata": {},
     "output_type": "display_data"
    }
   ],
   "source": [
    "plt.pie(wife_taj_counts.values(),labels=wife_taj_counts.keys());"
   ]
  },
  {
   "cell_type": "code",
   "execution_count": 329,
   "metadata": {
    "collapsed": false
   },
   "outputs": [
    {
     "data": {
      "image/png": "[encoded data removed]",
      "text/plain": [
       "<matplotlib.figure.Figure at 0x7f3b37a6a890>"
      ]
     },
     "metadata": {},
     "output_type": "display_data"
    }
   ],
   "source": [
    "x = np.arange(1,len(ger_vocab)+1)\n",
    "loglog(x,ger_vocab)\n",
    "x = np.arange(1,len(wife_vocab)+1)\n",
    "loglog(x,wife_vocab)\n",
    "grid()"
   ]
  },
  {
   "cell_type": "code",
   "execution_count": 233,
   "metadata": {
    "collapsed": false,
    "scrolled": false
   },
   "outputs": [
    {
     "name": "stdout",
     "output_type": "stream",
     "text": [
      "0 night 192\n",
      "1 pizza 194\n",
      "2 ( 195\n",
      "3 mom 196\n",
      "4 make 196\n",
      "5 over 197\n",
      "6 into 199\n",
      "7 dunno 201\n",
      "8 packing 209\n",
      "9 late 212\n",
      "10 little 213\n",
      "11 before 214\n",
      "12 probably 214\n",
      "13 last 214\n",
      "14 train 215\n",
      "15 around 222\n",
      "16 need 224\n",
      "17 soon 230\n",
      "18 nice 231\n",
      "19 leave 236\n",
      "20 why 243\n",
      "21 since 243\n",
      "22 take 249\n",
      "23 getting 249\n",
      "24 right 252\n",
      "25 w/ 252\n",
      "26 whirf 254\n",
      "27 way 257\n",
      "28 because 258\n",
      "29 mow 261\n",
      "30 try 262\n",
      "31 something 263\n",
      "32 morning 278\n",
      "33 after 280\n",
      "34 leaving 284\n",
      "35 guess 285\n",
      "36 put 286\n",
      "37 her 292\n",
      "38 love 293\n",
      "39 cool 297\n",
      "40 gonna 304\n",
      "41 them 307\n",
      "42 much 311\n",
      "43 might 314\n",
      "44 off 314\n",
      "45 sure 318\n",
      "46 mean 322\n",
      "47 im 328\n",
      "48 could 328\n",
      "49 still 329\n",
      "50 today 329\n",
      "51 lunch 331\n",
      "52 back 344\n",
      "53 said 350\n",
      "54 shark 354\n",
      "55 really 355\n",
      "56 work 361\n",
      "57 she 361\n",
      "58 bit 371\n",
      "59 st 375\n",
      "60 that's 382\n",
      "61 hiwife 390\n",
      "62 he's 420\n",
      "63 know 424\n",
      "64 -) 450\n",
      "65 i'll 455\n",
      "66 didn't 457\n",
      "67 very 469\n",
      "68 i'm 474\n",
      "69 had 492\n",
      "70 claude 498\n",
      "71 well 498\n",
      "72 xo 498\n",
      "73 maybe 509\n",
      "74 don't 511\n",
      "75 then 520\n",
      "76 want 528\n",
      "77 taj 535\n",
      "78 says 538\n",
      "79 should 552\n",
      "80 go 591\n",
      "81 going 609\n",
      "82 did 628\n",
      "83 oh 658\n",
      "84 too 689\n",
      "85 yes 710\n",
      "86 got 734\n",
      "87 it's 755\n",
      "88 think 788\n",
      "89 him 853\n",
      "90 clyde 885\n",
      "91 good 920\n",
      "92 ger 1246\n",
      "93 lol 1259\n",
      "94 wife 1332\n",
      "95 just 1434\n",
      "96 yeah 1728\n",
      "97 ok 1946\n",
      "98 ) 2213\n",
      "99 whir 2329\n"
     ]
    }
   ],
   "source": [
    "for idx,k in enumerate(order[-100:]):\n",
    "    print (idx,words[k],counts[k])"
   ]
  },
  {
   "cell_type": "code",
   "execution_count": 234,
   "metadata": {
    "collapsed": false,
    "scrolled": false
   },
   "outputs": [
    {
     "name": "stdout",
     "output_type": "stream",
     "text": [
      "0 urb-profeshs 1\n",
      "1 ginos 1\n",
      "2 modifier 1\n",
      "3 meatball 1\n",
      "4 physics/arthi 1\n",
      "5 45-55 1\n",
      "6 tommee 1\n",
      "7 chainsmoking 1\n",
      "8 (ending 1\n",
      "9 thousands 1\n",
      "10 edible 1\n",
      "11 few,mins 1\n",
      "12 somethinng 1\n",
      "13 ttr 1\n",
      "14 hundi-sticks 1\n",
      "15 yjm 1\n",
      "16 significantly 1\n",
      "17 weather's 1\n",
      "18 uppma 1\n",
      "19 prone 1\n",
      "20 groggily 1\n",
      "21 monitas 1\n",
      "22 misspell 1\n",
      "23 geeks 1\n",
      "24 earmarked 1\n",
      "25 momsi 1\n",
      "26 lists 1\n",
      "27 givving 1\n",
      "28 manipulation 1\n",
      "29 liste 1\n",
      "30 muertos 1\n",
      "31 downfall 1\n",
      "32 judt 1\n",
      "33 slightest 1\n",
      "34 halal 1\n",
      "35 goodie 1\n",
      "36 ceef 1\n",
      "37 constrained 1\n",
      "38 guv-nah 1\n",
      "39 thte 1\n",
      "40 cashier 1\n",
      "41 enumerating 1\n",
      "42 african 1\n",
      "43 conductor 1\n",
      "44 overmuch 1\n",
      "45 dismay 1\n",
      "46 smeared 1\n",
      "47 overhearing 1\n",
      "48 harrimans 1\n",
      "49 ~10^3 1\n",
      "50 scrambled 1\n",
      "51 lowered 1\n",
      "52 propels 1\n",
      "53 francie's 1\n",
      "54 choke 1\n",
      "55 brigning 1\n",
      "56 santas 1\n",
      "57 robocon 1\n",
      "58 bastard 1\n",
      "59 cases 1\n",
      "60 robocamp 1\n",
      "61 sprinkled 1\n",
      "62 lateralx 1\n",
      "63 gagopa 1\n",
      "64 detector 1\n",
      "65 blades 1\n",
      "66 qtip 1\n",
      "67 dimming 1\n",
      "68 nytimes 1\n",
      "69 waayy 1\n",
      "70 empanada 1\n",
      "71 hiiii 1\n",
      "72 walkup 1\n",
      "73 diaperbag 1\n",
      "74 fiish 1\n",
      "75 noooooo 1\n",
      "76 levt 1\n",
      "77 armor 1\n",
      "78 tuscon 1\n",
      "79 activist 1\n",
      "80 dogs\" 1\n",
      "81 back-alley 1\n",
      "82 lukewarm 1\n",
      "83 firesafety 1\n",
      "84 surpriseed 1\n",
      "85 uncatholic 1\n",
      "86 terminated 1\n",
      "87 $1450 1\n",
      "88 caregivers 1\n",
      "89 attending 1\n",
      "90 grooving 1\n",
      "91 lotta 1\n",
      "92 4-ger 1\n",
      "93 flys 1\n",
      "94 harrasing 1\n",
      "95 shaking 1\n",
      "96 dickling 1\n",
      "97 unwind 1\n",
      "98 ankles 1\n",
      "99 him!!!\" 1\n"
     ]
    }
   ],
   "source": [
    "for idx,k in enumerate(order[:100]):\n",
    "    print (idx,words[k],counts[k])"
   ]
  },
  {
   "cell_type": "code",
   "execution_count": 236,
   "metadata": {
    "collapsed": false
   },
   "outputs": [
    {
     "data": {
      "image/png": "[encoded data removed]",
      "text/plain": [
       "<matplotlib.figure.Figure at 0x7f3b44b40610>"
      ]
     },
     "metadata": {},
     "output_type": "display_data"
    }
   ],
   "source": [
    "plt.pie(np.array(counts)[order[-100:]]);"
   ]
  },
  {
   "cell_type": "code",
   "execution_count": 225,
   "metadata": {
    "collapsed": false
   },
   "outputs": [
    {
     "data": {
      "text/plain": [
       "[<matplotlib.lines.Line2D at 0x7f3b455f5c10>]"
      ]
     },
     "execution_count": 225,
     "metadata": {},
     "output_type": "execute_result"
    },
    {
     "data": {
      "image/png": "[encoded data removed]",
      "text/plain": [
       "<matplotlib.figure.Figure at 0x7f3b455f5450>"
      ]
     },
     "metadata": {},
     "output_type": "display_data"
    }
   ],
   "source": [
    "loglog(np.array(counts)[order[::-1]])"
   ]
  },
  {
   "cell_type": "code",
   "execution_count": 162,
   "metadata": {
    "collapsed": false
   },
   "outputs": [
    {
     "data": {
      "text/plain": [
       "[<matplotlib.lines.Line2D at 0x7f3b47d3a650>]"
      ]
     },
     "execution_count": 162,
     "metadata": {},
     "output_type": "execute_result"
    },
    {
     "data": {
      "image/png": "[encoded data removed]",
      "text/plain": [
       "<matplotlib.figure.Figure at 0x7f3b47fdf710>"
      ]
     },
     "metadata": {},
     "output_type": "display_data"
    }
   ],
   "source": [
    "loglog(np.array(counts)[order[::-1]])"
   ]
  },
  {
   "cell_type": "code",
   "execution_count": 237,
   "metadata": {
    "collapsed": false
   },
   "outputs": [
    {
     "data": {
      "text/plain": [
       "Index([u'cid', u'sender', u'timestamp', u'text'], dtype='object')"
      ]
     },
     "execution_count": 237,
     "metadata": {},
     "output_type": "execute_result"
    }
   ],
   "source": [
    "wife.columns"
   ]
  },
  {
   "cell_type": "code",
   "execution_count": 238,
   "metadata": {
    "collapsed": false
   },
   "outputs": [
    {
     "data": {
      "text/plain": [
       "(86638, 4)"
      ]
     },
     "execution_count": 238,
     "metadata": {},
     "output_type": "execute_result"
    }
   ],
   "source": [
    "wife.shape"
   ]
  },
  {
   "cell_type": "code",
   "execution_count": 243,
   "metadata": {
    "collapsed": false
   },
   "outputs": [
    {
     "name": "stderr",
     "output_type": "stream",
     "text": [
      "/data/home/gjones/anaconda/envs/pmc/lib/python2.7/site-packages/ipykernel/__main__.py:1: SettingWithCopyWarning: \n",
      "A value is trying to be set on a copy of a slice from a DataFrame\n",
      "\n",
      "See the caveats in the documentation: http://pandas.pydata.org/pandas-docs/stable/indexing.html#indexing-view-versus-copy\n",
      "  if __name__ == '__main__':\n"
     ]
    }
   ],
   "source": [
    "wife.sort_values(['timestamp'],inplace=True)"
   ]
  },
  {
   "cell_type": "code",
   "execution_count": 252,
   "metadata": {
    "collapsed": true
   },
   "outputs": [],
   "source": [
    "last_timestamp = 0\n",
    "documents = []\n",
    "document = ''\n",
    "for k,row in wife.iterrows():\n",
    "    if (row.timestamp - last_timestamp)/1e6 > 10*60:\n",
    "        if document:\n",
    "            documents.append(document)\n",
    "        document = row.text\n",
    "    else:\n",
    "        document = document + '\\n' + row.text\n",
    "    last_timestamp = row.timestamp\n",
    "documents.append(document)"
   ]
  },
  {
   "cell_type": "code",
   "execution_count": 253,
   "metadata": {
    "collapsed": false
   },
   "outputs": [
    {
     "data": {
      "text/plain": [
       "9453"
      ]
     },
     "execution_count": 253,
     "metadata": {},
     "output_type": "execute_result"
    }
   ],
   "source": [
    "len(documents)"
   ]
  },
  {
   "cell_type": "code",
   "execution_count": 373,
   "metadata": {
    "collapsed": false,
    "scrolled": false
   },
   "outputs": [
    {
     "name": "stdout",
     "output_type": "stream",
     "text": [
      "Extracting tf-idf features for NMF...\n",
      "done in 0.855s.\n",
      "Extracting tf features for LDA...\n",
      "done in 0.850s.\n",
      "Fitting the NMF model with tf-idf features, n_samples=10000 and n_features=2000...\n",
      "done in 2.640s.\n",
      "\n",
      "Topics in NMF model:\n",
      "Topic #0:\n",
      "like did think just ll know going want dont maybe time oh whirf really don need said guess mom today\n",
      "Topic #1:\n",
      "leaving finally yay sorry im minutes hopefully ok shortly long xo ugh prob mtg caught xoxo mow store dinner subway\n",
      "Topic #2:\n",
      "clyde says sweetdonald billionaire box alligators eww does sbc wants hunting bag sweetbabyclyde eyebrows going billionaires alligator lisa billionairefest getting\n",
      "Topic #3:\n",
      "higer mewth mow 96th yoga mrs nice love walk hiwife nevins cheese hows gym doing sushi busy gave train bagel\n",
      "Topic #4:\n",
      "home way headed come head ll bring dinner going time late walking pizza coming start tonight pls 30 need cool\n",
      "Topic #5:\n",
      "ger poor whirf sweet job snack robot needs whats bear leave excited wants remember love did make miss doesn din\n",
      "Topic #6:\n",
      "ok leave pack ll dinner late sweetger pick meet try want 30 ready let start dr milk bit stay tonight\n",
      "Topic #7:\n",
      "96 whir 42 72 trains delays 14 train walk waiting mewth slow sorry hot 23 napping going whirf rainy minutes\n",
      "Topic #8:\n",
      "xo way headed going pack ready love ok yea gym fun getting leaving kiss coffee gate gerp yay pizza starting\n",
      "Topic #9:\n",
      "claude mow says terence tao mrs francoisling idward dwight terrence kitty wants did lemma phds khekhekhe fields medal courant know\n",
      "Topic #10:\n",
      "packing start minutes order txt forget zoj fix xoox pizza trying bringing caught brad ok yay stop nachos shortly sweetger\n",
      "Topic #11:\n",
      "shark remember wonder kiss bed hows pick poor sweet cute woke likes morning shoes playground yesterday did roommate playing mood\n",
      "Topic #12:\n",
      "hiwife gonna gym office 96th higer busy new hotel shower did thinking definitely yum miss bike walked chicken finishing robot\n",
      "Topic #13:\n",
      "whir yes oh miss mow remember 72 jelly soup today zane gym knew yummy cold sweetger data 96th bday lot\n",
      "Topic #14:\n",
      "xoxo swsh pick headed fun sweetshark im kiss love xoox ok getting tonight luck studying yay train text time evening\n",
      "Topic #15:\n",
      "lol like cute said remember yes read poop eww yesterday haha morning really book wanted pancakes kept butt pic funny\n",
      "Topic #16:\n",
      "sweettaj aww says wants cookie little butt maybe levain cookies yes sweetballz baby time really ms awww whirf choc bear\n",
      "Topic #17:\n",
      "heading north home yay early thinking columbia target start mins moment donut sweetger meet brad library packed probably sweetwife giant\n",
      "Topic #18:\n",
      "lunch pizza yum eating whats chinese rice ate gonna brought today heating eat forgot bring having chix gers habis yummy\n",
      "Topic #19:\n",
      "st napping pick wall roommate mom says sleeping aww looks roommates gonna cute getting little remember miss omg bath fun\n",
      "Topic #20:\n",
      "soon head leave hopefully going gonna coming ll yay mins hot try probably guess minutes store leaving wake nap worries\n",
      "Topic #21:\n",
      "wife poor yes whirf love nevins mad does mrs friends gerp robot bike make z1 zane doesn busy bear eeawn\n",
      "Topic #22:\n",
      "work late headed finally nice feel miss brought love xoox working stay gym want yep tmrw email ugh monday tonight\n",
      "Topic #23:\n",
      "taj liam did yesterday aww sleeping daycare happy playground book said morning night slept playing wanted poor asleep saying likes\n",
      "Topic #24:\n",
      "got just train woke cool ate bed didn caught coffee bike brad poor subway went finally cheese chinese waiting eggs\n",
      "Topic #25:\n",
      "yeah sleep lot poor asleep fine aww crib slept night bed man left daycare guess morning definitely didn thats hopefully\n",
      "Topic #26:\n",
      "hi sweetger miss mow love say sweetwife hows shower 15 daycare nevins tiny headed yay sweet mewth pick bathroom helicopter\n",
      "Topic #27:\n",
      "good dropoff morning cool pretty mood sounds crying did night hows playing liam job feel bit snack love sorry bed\n",
      "Topic #28:\n",
      "im gonna going leave head pick dinner try sure make start whirf glad late laura meeting din meet hungry dont\n",
      "Topic #29:\n",
      "hoyt fulton coming 42 14 meet 72 chambers train nevins mrs atlantic wall z1 straight walk stuck assuming stop mind\n",
      "\n",
      "Fitting LDA models with tf features, n_samples=10000 and n_features=2000...\n",
      "done in 19.366s.\n",
      "\n",
      "Topics in LDA model:\n",
      "Topic #0:\n",
      "clyde says wife whir ger lol just yes like got know oh love going really box does whirf did im\n",
      "Topic #1:\n",
      "taj liam dropoff shield sahar uncle milo sterling kendra pouch shouting ruby coughing jones zara elmo glenn huxley nancy moozika\n",
      "Topic #2:\n",
      "soup yummy 15 14 eggplant haircut march bum updated broc yrs sat years whir sign sucks spicy wondering page tea\n",
      "Topic #3:\n",
      "check did daycare nap milk bottle stroller playground yeah asleep drop crib say lol music tell rent didn ll dropped\n",
      "Topic #4:\n",
      "thanks set fb post thing normal 2016 posted answer wtf zara speech figure bjorn change sippy private wall physics basic\n",
      "Topic #5:\n",
      "whir idward higer snack 96 roommates mow breakfast syrup roommate pancakes snax 42 72 corn crackers scruddle snacks fruit miss\n",
      "Topic #6:\n",
      "mrs shoes nevins hair cheerios said z1 bb slow did wearing shirt shorts zane barry wife came wear dry higer\n",
      "Topic #7:\n",
      "lunch pizza ate having whats cranky zane slice hungry 96th heating second wirebonding slices breakfast tub quite lunches small yellow\n",
      "Topic #8:\n",
      "pretty forgot wow abbie huxley warm mama stick snow seater roger waking tock hotel feeding pulled super machine chopper hello\n",
      "Topic #9:\n",
      "ok yeah st just good think going know oh im cool want ll got said sure train maybe fine dont\n",
      "Topic #10:\n",
      "mom google card weeks bday car birthday gift cried knows channa email came pic granny mood moms carrier time james\n",
      "Topic #11:\n",
      "home ok leave dinner gonna going im ll come way xo head time make heading pack try dont beer forget\n",
      "Topic #12:\n",
      "ger lol like whir did yes just sweettaj wife yeah think going good whirf oh time baby really dont maybe\n",
      "Topic #13:\n",
      "kiss hoyt face sweetbabyclyde bite big kissing past emoji small llama kisses sheets pumpkin spit fyi library held biting gf\n",
      "Topic #14:\n",
      "hiwife inside ordered robomethod leonard classpass minward carrots dosa walked fave cart rojo stairs pool sooo whichever strange thought truck\n",
      "Topic #15:\n",
      "hi butt cake aww got fish sweetger apple bagel store norm today eww skidward swim piece stix son dropped bc\n",
      "Topic #16:\n",
      "ok xo leaving xoxo soon im packing love yay leave headed fun dinner tonight heading minutes ready sorry sweetger mins\n",
      "Topic #17:\n",
      "rice yum chinese hope beans blog tofu chix mail spicy bowl holy salad eat taking pasta post stop chili potato\n",
      "Topic #18:\n",
      "nancy chc muk tinward stickies moozika jesse shield zara bday stopped dropoff fb wife tube happy like maria wall work\n",
      "Topic #19:\n",
      "claude says mow terence tao did dwight just know mrs wants francoisling kitty clock cookie lol going cat khekhekhe does\n",
      "Topic #20:\n",
      "shark remember cute said bbyk crying sweet lot like brought looks aww sweetshark toys good luke mouth boots banana shouting\n",
      "Topic #21:\n",
      "trains moozika flight jesse comment delayed comments ignoring north 96th im ok bit sorry higer sharks wife leaving 90 crowded\n",
      "Topic #22:\n",
      "cheese eating forget clothes cream sleeping nice aids hearing probably bathroom key tonight ice sleeps psp foods quiche socks dipe\n",
      "Topic #23:\n",
      "sandwich shower schedule otf app matt squishy placenta blood draw tech enema said chc xo ok interesting did subway lol\n",
      "Topic #24:\n",
      "com http www bath new amazon nose https html news naked sharks chair dentist science sign jones 2015 internet columbia\n",
      "Topic #25:\n",
      "sweetdonald lisa omg peas elmo obsessed stirf subway pajamas zoo paying worth donald sweetbill billionaires sweetmark fresh monopoly toupee pigeon\n",
      "Topic #26:\n",
      "diaper evening house toilet diapers presumably boris dipes hazel suck bland phew burn plans aids gonna time start sweetbabyclyde got\n",
      "Topic #27:\n",
      "habis screaming especially burger swinging mamaroo claudia levain counting selling motion sweetross swaddle pull dinner yadi want don rojo hill\n",
      "Topic #28:\n",
      "sbc boy yadi played song line roll kati thai eyebs piano singalong rolls mini mah insane aga lo game sticky\n",
      "Topic #29:\n",
      "night ll really sleep work bed want did just like maybe whirf guess late think bit didn today early got\n",
      "\n"
     ]
    }
   ],
   "source": [
    "\n",
    "from sklearn.feature_extraction.text import TfidfVectorizer, CountVectorizer\n",
    "from sklearn.decomposition import NMF, LatentDirichletAllocation\n",
    "from sklearn.datasets import fetch_20newsgroups\n",
    "\n",
    "n_samples = 10000\n",
    "n_features = 2000\n",
    "n_topics = 30\n",
    "n_top_words = 20\n",
    "\n",
    "\n",
    "def print_top_words(model, feature_names, n_top_words):\n",
    "    for topic_idx, topic in enumerate(model.components_):\n",
    "        print(\"Topic #%d:\" % topic_idx)\n",
    "        print(\" \".join([feature_names[i]\n",
    "                        for i in topic.argsort()[:-n_top_words - 1:-1]]))\n",
    "    print()\n",
    "\n",
    "\n",
    "# Load the 20 newsgroups dataset and vectorize it. We use a few heuristics\n",
    "# to filter out useless terms early on: the posts are stripped of headers,\n",
    "# footers and quoted replies, and common English words, words occurring in\n",
    "# only one document or in at least 95% of the documents are removed.\n",
    "\n",
    "#print(\"Loading dataset...\")\n",
    "t0 = time.time()\n",
    "#dataset = fetch_20newsgroups(shuffle=True, random_state=1,\n",
    "#                             remove=('headers', 'footers', 'quotes'))\n",
    "#data_samples = dataset.data[:n_samples]\n",
    "#print(\"done in %0.3fs.\" % (time() - t0))\n",
    "data_samples = documents#[:n_samples]\n",
    "\n",
    "# Use tf-idf features for NMF.\n",
    "print(\"Extracting tf-idf features for NMF...\")\n",
    "tfidf_vectorizer = TfidfVectorizer(max_df=0.95, min_df=2,ngram_range=(1,1),\n",
    "                                   max_features=n_features,\n",
    "                                   stop_words='english')\n",
    "t0 = time.time()\n",
    "tfidf = tfidf_vectorizer.fit_transform(data_samples)\n",
    "print(\"done in %0.3fs.\" % (time.time() - t0))\n",
    "\n",
    "# Use tf (raw term count) features for LDA.\n",
    "print(\"Extracting tf features for LDA...\")\n",
    "tf_vectorizer = CountVectorizer(max_df=0.95, min_df=2,ngram_range=(1,1),\n",
    "                                max_features=n_features,\n",
    "                                stop_words='english')\n",
    "t0 = time.time()\n",
    "tf = tf_vectorizer.fit_transform(data_samples)\n",
    "print(\"done in %0.3fs.\" % (time.time() - t0))\n",
    "\n",
    "# Fit the NMF model\n",
    "print(\"Fitting the NMF model with tf-idf features, \"\n",
    "      \"n_samples=%d and n_features=%d...\"\n",
    "      % (n_samples, n_features))\n",
    "t0 = time.time()\n",
    "nmf = NMF(n_components=n_topics, random_state=1,\n",
    "          alpha=.1, l1_ratio=.5).fit(tfidf)\n",
    "print(\"done in %0.3fs.\" % (time.time() - t0))\n",
    "\n",
    "print(\"\\nTopics in NMF model:\")\n",
    "tfidf_feature_names = tfidf_vectorizer.get_feature_names()\n",
    "print_top_words(nmf, tfidf_feature_names, n_top_words)\n",
    "\n",
    "print(\"Fitting LDA models with tf features, \"\n",
    "      \"n_samples=%d and n_features=%d...\"\n",
    "      % (n_samples, n_features))\n",
    "lda = LatentDirichletAllocation(n_topics=n_topics, max_iter=5,\n",
    "                                learning_method='online',\n",
    "                                learning_offset=50.,\n",
    "                                random_state=0)\n",
    "t0 = time.time()\n",
    "lda.fit(tf)\n",
    "print(\"done in %0.3fs.\" % (time.time() - t0))\n",
    "\n",
    "print(\"\\nTopics in LDA model:\")\n",
    "tf_feature_names = tf_vectorizer.get_feature_names()\n",
    "print_top_words(lda, tf_feature_names, n_top_words)"
   ]
  },
  {
   "cell_type": "code",
   "execution_count": 310,
   "metadata": {
    "collapsed": false
   },
   "outputs": [
    {
     "data": {
      "text/plain": [
       "9453"
      ]
     },
     "execution_count": 310,
     "metadata": {},
     "output_type": "execute_result"
    }
   ],
   "source": [
    "len(documents)"
   ]
  },
  {
   "cell_type": "code",
   "execution_count": 265,
   "metadata": {
    "collapsed": false
   },
   "outputs": [
    {
     "name": "stdout",
     "output_type": "stream",
     "text": [
      "higer\n",
      "just for funsies\n",
      "i got an iced coffee\n",
      "hiwife\n",
      "mow???\n",
      "ger and wife should have had a little breakfast adventure!\n",
      "yes that's true\n",
      "but ger was selfish\n",
      "and thought only of himself\n",
      "ger was in such a rush to get to glitter time at robot camp\n",
      "thats why i should have married clyde\n",
      "clyde patiently followed me into gregory's coffee\n",
      "and follwed me to the milk counter\n"
     ]
    }
   ],
   "source": [
    "print(documents[-8002])"
   ]
  },
  {
   "cell_type": "code",
   "execution_count": 280,
   "metadata": {
    "collapsed": true
   },
   "outputs": [],
   "source": [
    "ts = wife.timestamp.values/1e6\n",
    "ts.sort()\n",
    "tbc = np.diff(ts)"
   ]
  },
  {
   "cell_type": "code",
   "execution_count": 279,
   "metadata": {
    "collapsed": false
   },
   "outputs": [
    {
     "data": {
      "text/plain": [
       "(86638,)"
      ]
     },
     "execution_count": 279,
     "metadata": {},
     "output_type": "execute_result"
    }
   ],
   "source": [
    "ts.shape"
   ]
  },
  {
   "cell_type": "code",
   "execution_count": 287,
   "metadata": {
    "collapsed": false
   },
   "outputs": [
    {
     "data": {
      "text/plain": [
       "<matplotlib.lines.Line2D at 0x7f3b3b7ac890>"
      ]
     },
     "execution_count": 287,
     "metadata": {},
     "output_type": "execute_result"
    },
    {
     "data": {
      "image/png": "[encoded data removed]",
      "text/plain": [
       "<matplotlib.figure.Figure at 0x7f3b3bf95a50>"
      ]
     },
     "metadata": {},
     "output_type": "display_data"
    }
   ],
   "source": [
    "_=plt.hist(np.log10(tbc),histtype='step',bins=100,log=True)\n",
    "grid()\n",
    "axvline(np.log10(12*3600))\n",
    "axvline(np.log10(60*3600))\n"
   ]
  },
  {
   "cell_type": "code",
   "execution_count": 284,
   "metadata": {
    "collapsed": false
   },
   "outputs": [
    {
     "data": {
      "text/plain": [
       "<matplotlib.lines.Line2D at 0x7f3b3bb00550>"
      ]
     },
     "execution_count": 284,
     "metadata": {},
     "output_type": "execute_result"
    },
    {
     "data": {
      "image/png": "[encoded data removed]",
      "text/plain": [
       "<matplotlib.figure.Figure at 0x7f3b3c84f6d0>"
      ]
     },
     "metadata": {},
     "output_type": "display_data"
    }
   ],
   "source": [
    "segsize=365*86400\n",
    "end = ts.min()\n",
    "while True:\n",
    "    start = end\n",
    "    if start > ts.max():\n",
    "        break\n",
    "    end = start + segsize\n",
    "    startidx,stopidx = np.searchsorted(ts,(start,end))\n",
    "    _=plt.hist(np.log10(tbc[startidx:stopidx]),histtype='step',bins=100,log=True)\n",
    "axvline(np.log10(12*3600))\n",
    "axvline(np.log10(60*3600))\n"
   ]
  },
  {
   "cell_type": "code",
   "execution_count": 273,
   "metadata": {
    "collapsed": true
   },
   "outputs": [],
   "source": [
    "tbc_order =np.argsort(tbc)"
   ]
  },
  {
   "cell_type": "code",
   "execution_count": 409,
   "metadata": {
    "collapsed": false
   },
   "outputs": [
    {
     "name": "stdout",
     "output_type": "stream",
     "text": [
      "Thu Dec 29 21:47:18 2016 Mon Jan  2 12:54:34 2017\n",
      "Fri Mar  4 15:46:24 2016 Tue Mar  8 08:15:44 2016\n",
      "Fri Jan 16 16:13:25 2015 Tue Jan 20 09:08:10 2015\n",
      "Fri Aug 29 14:01:00 2014 Tue Sep  2 08:07:05 2014\n",
      "Thu Dec 25 12:36:24 2014 Mon Dec 29 08:12:45 2014\n",
      "Thu Jul  2 11:24:24 2015 Mon Jul  6 09:19:15 2015\n",
      "Wed Jun  4 19:21:17 2014 Sun Jun  8 23:04:33 2014\n",
      "Thu Sep  1 16:58:51 2016 Tue Sep  6 08:05:16 2016\n",
      "Thu Jul  3 17:34:23 2014 Tue Jul  8 09:02:35 2014\n",
      "Wed Mar 11 14:55:26 2015 Mon Mar 16 06:58:34 2015\n",
      "Wed Jun  3 17:32:01 2015 Mon Jun  8 20:24:27 2015\n",
      "Wed Nov 27 18:19:01 2013 Tue Dec  3 09:37:23 2013\n",
      "Fri Dec 19 17:51:04 2014 Thu Dec 25 11:55:57 2014\n",
      "Wed Jul 20 16:57:18 2016 Tue Jul 26 15:01:09 2016\n",
      "Mon Nov 23 13:57:03 2015 Mon Nov 30 07:06:24 2015\n",
      "Mon Dec 23 18:20:43 2013 Mon Dec 30 16:20:38 2013\n",
      "Mon Jun  8 20:24:51 2015 Tue Jun 16 08:59:38 2015\n",
      "Wed Jan 21 17:06:20 2015 Thu Jan 29 09:21:21 2015\n",
      "Fri Nov 21 18:11:06 2014 Mon Dec  1 07:15:07 2014\n",
      "Fri May 15 14:21:41 2015 Tue Jun  2 08:59:55 2015\n"
     ]
    }
   ],
   "source": [
    "for idx in tbc_order[-20:]:\n",
    "    print(time.ctime(ts[idx]), time.ctime(ts[idx+1]))"
   ]
  },
  {
   "cell_type": "code",
   "execution_count": 309,
   "metadata": {
    "collapsed": false
   },
   "outputs": [
    {
     "data": {
      "text/plain": [
       "'Fri Mar 10 09:20:48 2017'"
      ]
     },
     "execution_count": 309,
     "metadata": {},
     "output_type": "execute_result"
    }
   ],
   "source": [
    "time.ctime(ts.max())"
   ]
  },
  {
   "cell_type": "code",
   "execution_count": null,
   "metadata": {
    "collapsed": true
   },
   "outputs": [],
   "source": []
  }
 ],
 "metadata": {
  "kernelspec": {
   "display_name": "Python 2",
   "language": "python",
   "name": "python2"
  },
  "language_info": {
   "codemirror_mode": {
    "name": "ipython",
    "version": 2
   },
   "file_extension": ".py",
   "mimetype": "text/x-python",
   "name": "python",
   "nbconvert_exporter": "python",
   "pygments_lexer": "ipython2",
   "version": "2.7.13"
  }
 },
 "nbformat": 4,
 "nbformat_minor": 2
}
