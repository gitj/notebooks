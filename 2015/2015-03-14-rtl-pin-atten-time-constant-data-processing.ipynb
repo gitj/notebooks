{
 "metadata": {
  "name": "",
  "signature": "sha256:9a48e456696270879ecaeb708d9e40d07949a329ece3905649eebfd2a21736cb"
 },
 "nbformat": 3,
 "nbformat_minor": 0,
 "worksheets": [
  {
   "cells": [
    {
     "cell_type": "code",
     "collapsed": false,
     "input": [
      "run -i /home/gjones/kid_readout/kid_readout/analysis/time_constant_from_rtl.py"
     ],
     "language": "python",
     "metadata": {},
     "outputs": [
      {
       "output_type": "stream",
       "stream": "stdout",
       "text": [
        "updated file list\n",
        "no temperatures available\n"
       ]
      }
     ],
     "prompt_number": 1
    },
    {
     "cell_type": "code",
     "collapsed": false,
     "input": [
      "r = process_time_constant_rtl_file('/home/data2/rtl/2015-03-11_12-29-37_pin_atten.npz')"
     ],
     "language": "python",
     "metadata": {},
     "outputs": [
      {
       "output_type": "stream",
       "stream": "stdout",
       "text": [
        "(0.999725798866-0.0234163848863j)\n",
        "(0.999999999201-3.99642965238e-05j)\n",
        "initial guess: Parameters([('tau', <Parameter 'tau', 1.99609375e-05, bounds=[0:0.019960937500000001]>), ('amp', <Parameter 'amp', 0.070812426871693257, bounds=[-0.077025895273884246:0.077025895273884246]>), ('offset', <Parameter 'offset', 0.0062308855895993227, bounds=[-0.077008478086475915:0.15406920773517682]>), ('t_on', <Parameter 't_on', 0.00050000000000000001, bounds=[0.0:0.00199609375]>), ('t_rise', <Parameter 't_rise', 1.9960937499999998e-06, bounds=[0:0.019960937500000001]>)])\n"
       ]
      }
     ],
     "prompt_number": 3
    },
    {
     "cell_type": "code",
     "collapsed": false,
     "input": [
      "r.primary_load_temperature"
     ],
     "language": "python",
     "metadata": {},
     "outputs": [
      {
       "metadata": {},
       "output_type": "pyout",
       "prompt_number": 4,
       "text": [
        "0    1.474686\n",
        "Name: primary_load_temperature, dtype: float64"
       ]
      }
     ],
     "prompt_number": 4
    },
    {
     "cell_type": "code",
     "collapsed": false,
     "input": [
      "import glob"
     ],
     "language": "python",
     "metadata": {},
     "outputs": [],
     "prompt_number": 2
    },
    {
     "cell_type": "code",
     "collapsed": false,
     "input": [
      "files = glob.glob('/home/data2/rtl/2015-03*.npz')\n",
      "files.sort()"
     ],
     "language": "python",
     "metadata": {},
     "outputs": [],
     "prompt_number": 3
    },
    {
     "cell_type": "code",
     "collapsed": false,
     "input": [
      "all_data = []\n",
      "for fn in files:\n",
      "    try:\n",
      "        r = process_time_constant_rtl_file(fn)\n",
      "        all_data.append(r)\n",
      "    except Exception, e:\n",
      "        print fn, e"
     ],
     "language": "python",
     "metadata": {},
     "outputs": [
      {
       "output_type": "stream",
       "stream": "stdout",
       "text": [
        "(0.999940778478-0.0108829930057j)\n",
        "(0.999998425401-0.0017745973322j)\n",
        "initial guess: Parameters([('tau', <Parameter 'tau', 9.9990234375000009e-05, bounds=[0:0.099990234375000014]>), ('amp', <Parameter 'amp', -0.0022822372954976627, bounds=[-0.0039874772357708799:0.0039874772357708799]>), ('offset', <Parameter 'offset', 0.002349970094532073, bounds=[-0.0039197444367364692:0.0080426872705761706]>), ('t_on', <Parameter 't_on', 0.0045947265625000001, bounds=[0.0:0.0099990234375000007]>), ('t_rise', <Parameter 't_rise', 9.9990234375000015e-06, bounds=[0:0.099990234375000014]>)])\n",
        "(0.999485433941-0.0320759620264j)"
       ]
      },
      {
       "output_type": "stream",
       "stream": "stdout",
       "text": [
        "\n",
        "(0.99944898613-0.0331922298812j)\n",
        "initial guess: Parameters([('tau', <Parameter 'tau', 9.9990234375000009e-05, bounds=[0:0.099990234375000014]>), ('amp', <Parameter 'amp', 0.22868254181110637, bounds=[-0.31868846428671121:0.31868846428671121]>), ('offset', <Parameter 'offset', 0.090791704723005948, bounds=[-0.3179026820393101:0.63816271082082354]>), ('t_on', <Parameter 't_on', 0.0025000000000000001, bounds=[0.0:0.0099990234375000007]>), ('t_rise', <Parameter 't_rise', 9.9990234375000015e-06, bounds=[0:0.099990234375000014]>)])\n",
        "(0.999609085536-0.0279584712471j)"
       ]
      },
      {
       "output_type": "stream",
       "stream": "stdout",
       "text": [
        "\n",
        "(0.99978738203-0.0206201535882j)\n",
        "initial guess: Parameters([('tau', <Parameter 'tau', 9.9990234375000009e-05, bounds=[0:0.099990234375000014]>), ('amp', <Parameter 'amp', 0.20733631946938941, bounds=[-0.2972426722379487:0.2972426722379487]>), ('offset', <Parameter 'offset', 0.091278127703646003, bounds=[-0.29587089730286198:0.59585711941098407]>), ('t_on', <Parameter 't_on', 0.0025000000000000001, bounds=[0.0:0.0099990234375000007]>), ('t_rise', <Parameter 't_rise', 9.9990234375000015e-06, bounds=[0:0.099990234375000014]>)])\n",
        "(0.99996934506-0.00783000256357j)"
       ]
      },
      {
       "output_type": "stream",
       "stream": "stdout",
       "text": [
        "\n",
        "(0.999674317619+0.0255197706313j)\n",
        "initial guess: Parameters([('tau', <Parameter 'tau', 9.9990234375000009e-05, bounds=[0:0.099990234375000014]>), ('amp', <Parameter 'amp', 0.22577100315234991, bounds=[-0.32038059597569923:0.32038059597569923]>), ('offset', <Parameter 'offset', 0.0949791870938482, bounds=[-0.32001100170520036:0.64113078622189734]>), ('t_on', <Parameter 't_on', 0.0025000000000000001, bounds=[0.0:0.0099990234375000007]>), ('t_rise', <Parameter 't_rise', 9.9990234375000015e-06, bounds=[0:0.099990234375000014]>)])\n",
        "(0.999007718744+0.0445373763201j)"
       ]
      },
      {
       "output_type": "stream",
       "stream": "stdout",
       "text": [
        "\n",
        "(0.999575106776+0.0291480001717j)\n",
        "initial guess: Parameters([('tau', <Parameter 'tau', 9.9990234375000009e-05, bounds=[0:0.099990234375000014]>), ('amp', <Parameter 'amp', 0.29597747040504785, bounds=[-0.40326298258334209:0.40326298258334209]>), ('offset', <Parameter 'offset', 0.10801815164181153, bounds=[-0.40253034311982477:0.80725860463020149]>), ('t_on', <Parameter 't_on', 0.0025000000000000001, bounds=[0.0:0.0099990234375000007]>), ('t_rise', <Parameter 't_rise', 9.9990234375000015e-06, bounds=[0:0.099990234375000014]>)])\n",
        "(0.384440954066-0.923149583132j)"
       ]
      },
      {
       "output_type": "stream",
       "stream": "stdout",
       "text": [
        "\n",
        "(0.999898480939-0.0142487829712j)\n",
        "initial guess: Parameters([('tau', <Parameter 'tau', 9.9990234375000009e-05, bounds=[0:0.099990234375000014]>), ('amp', <Parameter 'amp', 4.6728473269178306, bounds=[-4.7866522403320326:4.7866522403320326]>), ('offset', <Parameter 'offset', 0.11401387646331165, bounds=[-4.7864432772829231:9.5735134437131748]>), ('t_on', <Parameter 't_on', 0.0025000000000000001, bounds=[0.0:0.0099990234375000007]>), ('t_rise', <Parameter 't_rise', 9.9990234375000015e-06, bounds=[0:0.099990234375000014]>)])\n",
        "(0.207934683696-0.978142713164j)"
       ]
      },
      {
       "output_type": "stream",
       "stream": "stdout",
       "text": [
        "\n",
        "(0.999975497529-0.00700031013397j)\n",
        "initial guess: Parameters([('tau', <Parameter 'tau', 9.9990234375000009e-05, bounds=[0:0.099990234375000014]>), ('amp', <Parameter 'amp', 2.1953708513665369, bounds=[-2.2588136914536956:2.2588136914536956]>), ('offset', <Parameter 'offset', 0.063497061869235732, bounds=[-2.2587594696716184:4.5176816046894679]>), ('t_on', <Parameter 't_on', 0.0025000000000000001, bounds=[0.0:0.0099990234375000007]>), ('t_rise', <Parameter 't_rise', 9.9990234375000015e-06, bounds=[0:0.099990234375000014]>)])\n",
        "(0.630737293624-0.775996434548j)"
       ]
      },
      {
       "output_type": "stream",
       "stream": "stdout",
       "text": [
        "\n",
        "(0.849022366727-0.528356906644j)\n",
        "initial guess: Parameters([('tau', <Parameter 'tau', 9.9990234375000009e-05, bounds=[0:0.099990234375000014]>), ('amp', <Parameter 'amp', 0.15524652039205142, bounds=[-0.17084194579096082:0.17084194579096082]>), ('offset', <Parameter 'offset', 0.015786674881909983, bounds=[-0.17065069630796023:0.34187514106492223]>), ('t_on', <Parameter 't_on', 0.0025000000000000001, bounds=[0.0:0.0099990234375000007]>), ('t_rise', <Parameter 't_rise', 9.9990234375000015e-06, bounds=[0:0.099990234375000014]>)])\n",
        "(0.2609303086-0.965357640491j)"
       ]
      },
      {
       "output_type": "stream",
       "stream": "stdout",
       "text": [
        "\n",
        "(0.987577369964-0.157133504811j)\n",
        "initial guess: Parameters([('tau', <Parameter 'tau', 9.9990234375000009e-05, bounds=[0:0.099990234375000014]>), ('amp', <Parameter 'amp', 0.31080258969481905, bounds=[-0.33019364075255758:0.33019364075255758]>), ('offset', <Parameter 'offset', 0.019539260117042635, bounds=[-0.33004543169325345:0.66053549056441929]>), ('t_on', <Parameter 't_on', 0.0025000000000000001, bounds=[0.0:0.0099990234375000007]>), ('t_rise', <Parameter 't_rise', 9.9990234375000015e-06, bounds=[0:0.099990234375000014]>)])\n",
        "(0.189202639107+0.98193806391j)"
       ]
      },
      {
       "output_type": "stream",
       "stream": "stdout",
       "text": [
        "\n",
        "(0.987663869074+0.156588894008j)\n",
        "initial guess: Parameters([('tau', <Parameter 'tau', 9.9990234375000009e-05, bounds=[0:0.099990234375000014]>), ('amp', <Parameter 'amp', 0.26909554067058994, bounds=[-0.28194071288603895:0.28194071288603895]>), ('offset', <Parameter 'offset', 0.012915145795953403, bounds=[-0.28187073930553458:0.56395139935258221]>), ('t_on', <Parameter 't_on', 0.0025000000000000001, bounds=[0.0:0.0099990234375000007]>), ('t_rise', <Parameter 't_rise', 9.9990234375000015e-06, bounds=[0:0.099990234375000014]>)])\n",
        "(0.111744501599-0.993736970411j)"
       ]
      },
      {
       "output_type": "stream",
       "stream": "stdout",
       "text": [
        "\n",
        "(0.999803763873-0.0198099405861j)\n",
        "initial guess: Parameters([('tau', <Parameter 'tau', 9.9990234375000009e-05, bounds=[0:0.099990234375000014]>), ('amp', <Parameter 'amp', 0.25585675113707995, bounds=[-0.26555272156383819:0.26555272156383819]>), ('offset', <Parameter 'offset', 0.0097195497762584647, bounds=[-0.26552914221433799:0.53112902247717653]>), ('t_on', <Parameter 't_on', 0.0025000000000000001, bounds=[0.0:0.0099990234375000007]>), ('t_rise', <Parameter 't_rise', 9.9990234375000015e-06, bounds=[0:0.099990234375000014]>)])\n",
        "(0.139904163361+0.990165049411j)"
       ]
      },
      {
       "output_type": "stream",
       "stream": "stdout",
       "text": [
        "\n",
        "(0.999872219572+0.0159857601487j)\n",
        "initial guess: Parameters([('tau', <Parameter 'tau', 9.9990234375000009e-05, bounds=[0:0.099990234375000014]>), ('amp', <Parameter 'amp', 0.24829179120115025, bounds=[-0.25805988538949742:0.25805988538949742]>), ('offset', <Parameter 'offset', 0.0097847135010727497, bounds=[-0.25804326607677186:0.51613639009172041]>), ('t_on', <Parameter 't_on', 0.0025000000000000001, bounds=[0.0:0.0099990234375000007]>), ('t_rise', <Parameter 't_rise', 9.9990234375000015e-06, bounds=[0:0.099990234375000014]>)])\n",
        "(0.22606426769-0.974112389242j)"
       ]
      },
      {
       "output_type": "stream",
       "stream": "stdout",
       "text": [
        "\n",
        "(0.991314257201-0.131514423051j)\n",
        "initial guess: Parameters([('tau', <Parameter 'tau', 9.9990234375000009e-05, bounds=[0:0.099990234375000014]>), ('amp', <Parameter 'amp', 0.12561371788943018, bounds=[-0.1331124252798524:0.1331124252798524]>), ('offset', <Parameter 'offset', 0.0075611418198074983, bounds=[-0.13304999085046712:0.26628728498909005]>), ('t_on', <Parameter 't_on', 0.0025000000000000001, bounds=[0.0:0.0099990234375000007]>), ('t_rise', <Parameter 't_rise', 9.9990234375000015e-06, bounds=[0:0.099990234375000014]>)])\n",
        "(0.114404299262-0.993434273775j)"
       ]
      },
      {
       "output_type": "stream",
       "stream": "stdout",
       "text": [
        "\n",
        "(0.999804645227-0.0197654087198j)\n",
        "initial guess: Parameters([('tau', <Parameter 'tau', 9.9990234375000009e-05, bounds=[0:0.099990234375000014]>), ('amp', <Parameter 'amp', 0.25739340572763331, bounds=[-0.26723884165290768:0.26723884165290768]>), ('offset', <Parameter 'offset', 0.0098563352559699058, bounds=[-0.26722794232221214:0.53448858263651089]>), ('t_on', <Parameter 't_on', 0.0025000000000000001, bounds=[0.0:0.0099990234375000007]>), ('t_rise', <Parameter 't_rise', 9.9990234375000015e-06, bounds=[0:0.099990234375000014]>)])\n",
        "(0.154734898716-0.987956026916j)"
       ]
      },
      {
       "output_type": "stream",
       "stream": "stdout",
       "text": [
        "\n",
        "(0.998158896272-0.0606532587106j)\n",
        "initial guess: Parameters([('tau', <Parameter 'tau', 9.9990234375000009e-05, bounds=[0:0.099990234375000014]>), ('amp', <Parameter 'amp', 0.12802510437707823, bounds=[-0.13441278513155899:0.13441278513155899]>), ('offset', <Parameter 'offset', 0.0064111962895855605, bounds=[-0.1343892695964542:0.26884908579822275]>), ('t_on', <Parameter 't_on', 0.0025000000000000001, bounds=[0.0:0.0099990234375000007]>), ('t_rise', <Parameter 't_rise', 9.9990234375000015e-06, bounds=[0:0.099990234375000014]>)])\n",
        "(0.207304123699-0.97827654592j)"
       ]
      },
      {
       "output_type": "stream",
       "stream": "stdout",
       "text": [
        "\n",
        "(0.991833357084-0.127540549532j)\n",
        "initial guess: Parameters([('tau', <Parameter 'tau', 9.9990234375000009e-05, bounds=[0:0.099990234375000014]>), ('amp', <Parameter 'amp', 0.13696287310481797, bounds=[-0.14402487906026248:0.14402487906026248]>), ('offset', <Parameter 'offset', 0.0071021132878315435, bounds=[-0.14398477172787547:0.28808986545291199]>), ('t_on', <Parameter 't_on', 0.0025000000000000001, bounds=[0.0:0.0099990234375000007]>), ('t_rise', <Parameter 't_rise', 9.9990234375000015e-06, bounds=[0:0.099990234375000014]>)])\n",
        "(0.309737127191-0.950822229462j)"
       ]
      },
      {
       "output_type": "stream",
       "stream": "stdout",
       "text": [
        "\n",
        "(0.99770561914-0.0677015327488j)\n",
        "initial guess: Parameters([('tau', <Parameter 'tau', 9.9960937500000006e-05, bounds=[0:0.099960937500000013]>), ('amp', <Parameter 'amp', 0.055319150600604751, bounds=[-0.060855062013837072:0.060855062013837072]>), ('offset', <Parameter 'offset', 0.005610558943640531, bounds=[-0.060780414483428864:0.12178477155808234]>), ('t_on', <Parameter 't_on', 0.0025000000000000001, bounds=[0.0:0.0099960937500000006]>), ('t_rise', <Parameter 't_rise', 9.9960937500000003e-06, bounds=[0:0.099960937500000013]>)])\n",
        "(0.235256501697+0.97193331994j)"
       ]
      },
      {
       "output_type": "stream",
       "stream": "stdout",
       "text": [
        "\n",
        "(0.998929357702+0.0462616290287j)\n",
        "initial guess: Parameters([('tau', <Parameter 'tau', 9.9960937500000006e-05, bounds=[0:0.099960937500000013]>), ('amp', <Parameter 'amp', 0.054840347342609758, bounds=[-0.059983528573910816:0.059983528573910816]>), ('offset', <Parameter 'offset', 0.0051820098778499711, bounds=[-0.059944699927361907:0.12000588579437055]>), ('t_on', <Parameter 't_on', 0.0025000000000000001, bounds=[0.0:0.0099960937500000006]>), ('t_rise', <Parameter 't_rise', 9.9960937500000003e-06, bounds=[0:0.099960937500000013]>)])\n",
        "(0.209959740993-0.97771003225j)"
       ]
      },
      {
       "output_type": "stream",
       "stream": "stdout",
       "text": [
        "\n",
        "(0.999614558676-0.0277620979479j)\n",
        "initial guess: Parameters([('tau', <Parameter 'tau', 9.9960937500000006e-05, bounds=[0:0.099960937500000013]>), ('amp', <Parameter 'amp', 0.046819461067950041, bounds=[-0.050709843682751596:0.050709843682751596]>), ('offset', <Parameter 'offset', 0.003900814519090693, bounds=[-0.050699411778462461:0.10143011926979233]>), ('t_on', <Parameter 't_on', 0.0025000000000000001, bounds=[0.0:0.0099960937500000006]>), ('t_rise', <Parameter 't_rise', 9.9960937500000003e-06, bounds=[0:0.099960937500000013]>)])\n",
        "(0.214695464827-0.976681041785j)"
       ]
      },
      {
       "output_type": "stream",
       "stream": "stdout",
       "text": [
        "\n",
        "(0.999287607941-0.0377395894919j)\n",
        "initial guess: Parameters([('tau', <Parameter 'tau', 9.9960937500000006e-05, bounds=[0:0.099960937500000013]>), ('amp', <Parameter 'amp', 0.043125543209387718, bounds=[-0.047816353147189919:0.047816353147189919]>), ('offset', <Parameter 'offset', 0.0047417483437896361, bounds=[-0.04776541474120248:0.095683644700367276]>), ('t_on', <Parameter 't_on', 0.0025000000000000001, bounds=[0.0:0.0099960937500000006]>), ('t_rise', <Parameter 't_rise', 9.9960937500000003e-06, bounds=[0:0.099960937500000013]>)])\n",
        "(0.264964772242+0.964258092769j)"
       ]
      },
      {
       "output_type": "stream",
       "stream": "stdout",
       "text": [
        "\n",
        "(0.999934404436+0.0114536817642j)\n",
        "initial guess: Parameters([('tau', <Parameter 'tau', 9.9960937500000006e-05, bounds=[0:0.099960937500000013]>), ('amp', <Parameter 'amp', 0.15686930657183085, bounds=[-0.16060159909183094:0.16060159909183094]>), ('offset', <Parameter 'offset', 0.0037505267104907883, bounds=[-0.16058336490134026:0.32122143237415257]>), ('t_on', <Parameter 't_on', 0.0025000000000000001, bounds=[0.0:0.0099960937500000006]>), ('t_rise', <Parameter 't_rise', 9.9960937500000003e-06, bounds=[0:0.099960937500000013]>)])\n",
        "(0.157647954245-0.987495378482j)"
       ]
      },
      {
       "output_type": "stream",
       "stream": "stdout",
       "text": [
        "\n",
        "(0.998559897125-0.0536482232065j)\n",
        "initial guess: Parameters([('tau', <Parameter 'tau', 9.9960937500000006e-05, bounds=[0:0.099960937500000013]>), ('amp', <Parameter 'amp', 0.15140966744947121, bounds=[-0.15460935226481723:0.15460935226481723]>), ('offset', <Parameter 'offset', 0.003221152295502884, bounds=[-0.15458788478466037:0.30924017200979131]>), ('t_on', <Parameter 't_on', 0.0025000000000000001, bounds=[0.0:0.0099960937500000006]>), ('t_rise', <Parameter 't_rise', 9.9960937500000003e-06, bounds=[0:0.099960937500000013]>)])\n",
        "(0.28701669757-0.957925579216j)"
       ]
      },
      {
       "output_type": "stream",
       "stream": "stdout",
       "text": [
        "\n",
        "(0.999550322476-0.0299858773246j)\n",
        "initial guess: Parameters([('tau', <Parameter 'tau', 9.9960937500000006e-05, bounds=[0:0.099960937500000013]>), ('amp', <Parameter 'amp', 0.13929300156854277, bounds=[-0.14180627208364957:0.14180627208364957]>), ('offset', <Parameter 'offset', 0.0025538113529633339, bounds=[-0.14176573124579303:0.28365308500515568]>), ('t_on', <Parameter 't_on', 0.0025000000000000001, bounds=[0.0:0.0099960937500000006]>), ('t_rise', <Parameter 't_rise', 9.9960937500000003e-06, bounds=[0:0.099960937500000013]>)])\n",
        "(0.432652500802-0.901560765312j)"
       ]
      },
      {
       "output_type": "stream",
       "stream": "stdout",
       "text": [
        "\n",
        "(0.996930903752-0.0782864812349j)\n",
        "initial guess: Parameters([('tau', <Parameter 'tau', 9.9960937500000006e-05, bounds=[0:0.099960937500000013]>), ('amp', <Parameter 'amp', 0.096106474663399263, bounds=[-0.097517347786737082:0.097517347786737082]>), ('offset', <Parameter 'offset', 0.0014633850262059122, bounds=[-0.097464835883868992:0.19508720747634226]>), ('t_on', <Parameter 't_on', 0.0025000000000000001, bounds=[0.0:0.0099960937500000006]>), ('t_rise', <Parameter 't_rise', 9.9960937500000003e-06, bounds=[0:0.099960937500000013]>)])\n",
        "(0.364662270609-0.931139854369j)"
       ]
      },
      {
       "output_type": "stream",
       "stream": "stdout",
       "text": [
        "\n",
        "(0.999877952132-0.0156230867918j)\n",
        "initial guess: Parameters([('tau', <Parameter 'tau', 9.9960937500000006e-05, bounds=[0:0.099960937500000013]>), ('amp', <Parameter 'amp', 0.15001534649320611, bounds=[-0.15333634583710706:0.15333634583710706]>), ('offset', <Parameter 'offset', 0.003332450324111618, bounds=[-0.1533248948568964:0.30668414265442479]>), ('t_on', <Parameter 't_on', 0.0025000000000000001, bounds=[0.0:0.0099960937500000006]>), ('t_rise', <Parameter 't_rise', 9.9960937500000003e-06, bounds=[0:0.099960937500000013]>)])\n",
        "(0.348231639467-0.937408515683j)"
       ]
      },
      {
       "output_type": "stream",
       "stream": "stdout",
       "text": [
        "\n",
        "(0.999941767304-0.0107917561982j)\n",
        "initial guess: Parameters([('tau', <Parameter 'tau', 9.9960937500000006e-05, bounds=[0:0.099960937500000013]>), ('amp', <Parameter 'amp', 0.15051911925719433, bounds=[-0.15422309562678527:0.15422309562678527]>), ('offset', <Parameter 'offset', 0.0037281452424049351, bounds=[-0.15419892675397126:0.30847036012638451]>), ('t_on', <Parameter 't_on', 0.0025000000000000001, bounds=[0.0:0.0099960937500000006]>), ('t_rise', <Parameter 't_rise', 9.9960937500000003e-06, bounds=[0:0.099960937500000013]>)])\n",
        "(0.342783718198-0.939414350826j)"
       ]
      },
      {
       "output_type": "stream",
       "stream": "stdout",
       "text": [
        "\n",
        "(0.999914582388-0.013070115829j)\n",
        "initial guess: Parameters([('tau', <Parameter 'tau', 9.9960937500000006e-05, bounds=[0:0.099960937500000013]>), ('amp', <Parameter 'amp', 0.15196310209491506, bounds=[-0.15574666869766451:0.15574666869766451]>), ('offset', <Parameter 'offset', 0.0037985637248938871, bounds=[-0.15573167157552006:0.31150833451747351]>), ('t_on', <Parameter 't_on', 0.0025000000000000001, bounds=[0.0:0.0099960937500000006]>), ('t_rise', <Parameter 't_rise', 9.9960937500000003e-06, bounds=[0:0.099960937500000013]>)])\n",
        "(0.160311325375-0.98706650179j)"
       ]
      },
      {
       "output_type": "stream",
       "stream": "stdout",
       "text": [
        "\n",
        "(0.999153637182-0.0411340407208j)\n",
        "initial guess: Parameters([('tau', <Parameter 'tau', 9.9960937500000006e-05, bounds=[0:0.099960937500000013]>), ('amp', <Parameter 'amp', 0.15705545442912269, bounds=[-0.16083276229844515:0.16083276229844515]>), ('offset', <Parameter 'offset', 0.003805614885246539, bounds=[-0.16080445528252107:0.3216938316128144]>), ('t_on', <Parameter 't_on', 0.0025000000000000001, bounds=[0.0:0.0099960937500000006]>), ('t_rise', <Parameter 't_rise', 9.9960937500000003e-06, bounds=[0:0.099960937500000013]>)])\n",
        "(0.163587755521-0.986528786323j)"
       ]
      },
      {
       "output_type": "stream",
       "stream": "stdout",
       "text": [
        "\n",
        "(0.999549442088-0.0300152098484j)\n",
        "initial guess: Parameters([('tau', <Parameter 'tau', 9.9960937500000006e-05, bounds=[0:0.099960937500000013]>), ('amp', <Parameter 'amp', 0.15693912767717935, bounds=[-0.16119479821249513:0.16119479821249513]>), ('offset', <Parameter 'offset', 0.004303526263043438, bounds=[-0.16114694248476746:0.32243745215271791]>), ('t_on', <Parameter 't_on', 0.0025000000000000001, bounds=[0.0:0.0099960937500000006]>), ('t_rise', <Parameter 't_rise', 9.9960937500000003e-06, bounds=[0:0.099960937500000013]>)])\n",
        "(0.131298233858+0.991342914327j)"
       ]
      },
      {
       "output_type": "stream",
       "stream": "stdout",
       "text": [
        "\n",
        "(0.999405690545+0.0344712301315j)\n",
        "initial guess: Parameters([('tau', <Parameter 'tau', 9.9960937500000006e-05, bounds=[0:0.099960937500000013]>), ('amp', <Parameter 'amp', 0.15806928063803977, bounds=[-0.1621740905030796:0.1621740905030796]>), ('offset', <Parameter 'offset', 0.0041497174826107801, bounds=[-0.16212918288550865:0.32439308862373017]>), ('t_on', <Parameter 't_on', 0.0025000000000000001, bounds=[0.0:0.0099960937500000006]>), ('t_rise', <Parameter 't_rise', 9.9960937500000003e-06, bounds=[0:0.099960937500000013]>)])\n",
        "(0.118927211301+0.992902975326j)"
       ]
      },
      {
       "output_type": "stream",
       "stream": "stdout",
       "text": [
        "\n",
        "(0.999171099761+0.0407076577915j)\n",
        "initial guess: Parameters([('tau', <Parameter 'tau', 9.9960937500000006e-05, bounds=[0:0.099960937500000013]>), ('amp', <Parameter 'amp', 0.1572153511773732, bounds=[-0.16102538354896451:0.16102538354896451]>), ('offset', <Parameter 'offset', 0.003824174935949662, bounds=[-0.16101124098460615:0.3220649096622874]>), ('t_on', <Parameter 't_on', 0.0025000000000000001, bounds=[0.0:0.0099960937500000006]>), ('t_rise', <Parameter 't_rise', 9.9960937500000003e-06, bounds=[0:0.099960937500000013]>)])\n",
        "(0.139048064443+0.990285633428j)"
       ]
      },
      {
       "output_type": "stream",
       "stream": "stdout",
       "text": [
        "\n",
        "(0.998519286402+0.0543988481792j)\n",
        "initial guess: Parameters([('tau', <Parameter 'tau', 9.9960937500000006e-05, bounds=[0:0.099960937500000013]>), ('amp', <Parameter 'amp', 0.15959567073506051, bounds=[-0.16326918817634054:0.16326918817634054]>), ('offset', <Parameter 'offset', 0.0037130444309124962, bounds=[-0.16322966118670806:0.32657790334231351]>), ('t_on', <Parameter 't_on', 0.0025000000000000001, bounds=[0.0:0.0099960937500000006]>), ('t_rise', <Parameter 't_rise', 9.9960937500000003e-06, bounds=[0:0.099960937500000013]>)])\n",
        "(0.126449622031+0.991973030424j)"
       ]
      },
      {
       "output_type": "stream",
       "stream": "stdout",
       "text": [
        "\n",
        "(0.999096784473+0.042492531772j)\n",
        "initial guess: Parameters([('tau', <Parameter 'tau', 9.9960937500000006e-05, bounds=[0:0.099960937500000013]>), ('amp', <Parameter 'amp', 0.15713839302209498, bounds=[-0.16070089320114334:0.16070089320114334]>), ('offset', <Parameter 'offset', 0.0036165041189192759, bounds=[-0.16064688926127241:0.3214557903421576]>), ('t_on', <Parameter 't_on', 0.0025000000000000001, bounds=[0.0:0.0099960937500000006]>), ('t_rise', <Parameter 't_rise', 9.9960937500000003e-06, bounds=[0:0.099960937500000013]>)])\n",
        "(0.121731760162+0.99256303506j)"
       ]
      },
      {
       "output_type": "stream",
       "stream": "stdout",
       "text": [
        "\n",
        "(0.999002690255+0.0446500264567j)\n",
        "initial guess: Parameters([('tau', <Parameter 'tau', 9.9960937500000006e-05, bounds=[0:0.099960937500000013]>), ('amp', <Parameter 'amp', 0.15843569911956878, bounds=[-0.16193551532904477:0.16193551532904477]>), ('offset', <Parameter 'offset', 0.0035350237208968461, bounds=[-0.16190030781762391:0.32390623816951036]>), ('t_on', <Parameter 't_on', 0.0025000000000000001, bounds=[0.0:0.0099960937500000006]>), ('t_rise', <Parameter 't_rise', 9.9960937500000003e-06, bounds=[0:0.099960937500000013]>)])\n",
        "(0.117290796344+0.993097613074j)"
       ]
      },
      {
       "output_type": "stream",
       "stream": "stdout",
       "text": [
        "\n",
        "(0.998863279034+0.0476670724687j)\n",
        "initial guess: Parameters([('tau', <Parameter 'tau', 9.9960937500000006e-05, bounds=[0:0.099960937500000013]>), ('amp', <Parameter 'amp', 0.15671342304665944, bounds=[-0.1608742272009025:0.1608742272009025]>), ('offset', <Parameter 'offset', 0.0041919062740677637, bounds=[-0.16084312508107779:0.32177955652162971]>), ('t_on', <Parameter 't_on', 0.0025000000000000001, bounds=[0.0:0.0099960937500000006]>), ('t_rise', <Parameter 't_rise', 9.9960937500000003e-06, bounds=[0:0.099960937500000013]>)])\n",
        "(0.115596078968+0.99329630349j)"
       ]
      },
      {
       "output_type": "stream",
       "stream": "stdout",
       "text": [
        "\n",
        "(0.998929756198+0.0462530234982j)\n",
        "initial guess: Parameters([('tau', <Parameter 'tau', 9.9960937500000006e-05, bounds=[0:0.099960937500000013]>), ('amp', <Parameter 'amp', 0.15761476436380331, bounds=[-0.16119536566957746:0.16119536566957746]>), ('offset', <Parameter 'offset', 0.0035827846126658346, bounds=[-0.16119318236268576:0.32239291464604658]>), ('t_on', <Parameter 't_on', 0.0025000000000000001, bounds=[0.0:0.0099960937500000006]>), ('t_rise', <Parameter 't_rise', 9.9960937500000003e-06, bounds=[0:0.099960937500000013]>)])\n",
        "(0.12196032908+0.992534975772j)"
       ]
      },
      {
       "output_type": "stream",
       "stream": "stdout",
       "text": [
        "\n",
        "(0.999034658638+0.0439289294226j)\n",
        "initial guess: Parameters([('tau', <Parameter 'tau', 9.9960937500000006e-05, bounds=[0:0.099960937500000013]>), ('amp', <Parameter 'amp', 0.15753280437626793, bounds=[-0.16119084771415088:0.16119084771415088]>), ('offset', <Parameter 'offset', 0.0036915022513608043, bounds=[-0.16115738880067301:0.32241515434177959]>), ('t_on', <Parameter 't_on', 0.0025000000000000001, bounds=[0.0:0.0099960937500000006]>), ('t_rise', <Parameter 't_rise', 9.9960937500000003e-06, bounds=[0:0.099960937500000013]>)])\n",
        "(0.115056493407+0.993358949889j)"
       ]
      },
      {
       "output_type": "stream",
       "stream": "stdout",
       "text": [
        "\n",
        "(0.998939241183+0.0460477189968j)\n",
        "initial guess: Parameters([('tau', <Parameter 'tau', 9.9960937500000006e-05, bounds=[0:0.099960937500000013]>), ('amp', <Parameter 'amp', 0.15836126393800354, bounds=[-0.16212537673573693:0.16212537673573693]>), ('offset', <Parameter 'offset', 0.0037900617753966722, bounds=[-0.16209942775807365:0.32427670244913714]>), ('t_on', <Parameter 't_on', 0.0025000000000000001, bounds=[0.0:0.0099960937500000006]>), ('t_rise', <Parameter 't_rise', 9.9960937500000003e-06, bounds=[0:0.099960937500000013]>)])\n",
        "(0.120306835101+0.992736755353j)"
       ]
      },
      {
       "output_type": "stream",
       "stream": "stdout",
       "text": [
        "\n",
        "(0.998761759289+0.0497488510687j)\n",
        "initial guess: Parameters([('tau', <Parameter 'tau', 9.9960937500000006e-05, bounds=[0:0.099960937500000013]>), ('amp', <Parameter 'amp', 0.15731856700449715, bounds=[-0.16108047953925334:0.16108047953925334]>), ('offset', <Parameter 'offset', 0.0037833668887150215, bounds=[-0.1610590251852945:0.32218241343246551]>), ('t_on', <Parameter 't_on', 0.0025000000000000001, bounds=[0.0:0.0099960937500000006]>), ('t_rise', <Parameter 't_rise', 9.9960937500000003e-06, bounds=[0:0.099960937500000013]>)])\n",
        "(0.11889754451+0.992906528284j)"
       ]
      },
      {
       "output_type": "stream",
       "stream": "stdout",
       "text": [
        "\n",
        "(0.99824071235+0.0592914851141j)\n",
        "initial guess: Parameters([('tau', <Parameter 'tau', 9.9960937500000006e-05, bounds=[0:0.099960937500000013]>), ('amp', <Parameter 'amp', 0.15667128403182498, bounds=[-0.16046382485148306:0.16046382485148306]>), ('offset', <Parameter 'offset', 0.0038016201475808641, bounds=[-0.16045474552356026:0.32093672903088888]>), ('t_on', <Parameter 't_on', 0.0025000000000000001, bounds=[0.0:0.0099960937500000006]>), ('t_rise', <Parameter 't_rise', 9.9960937500000003e-06, bounds=[0:0.099960937500000013]>)])\n",
        "(0.117961251868+0.993018198755j)"
       ]
      },
      {
       "output_type": "stream",
       "stream": "stdout",
       "text": [
        "\n",
        "(0.998995235649+0.0448165053282j)\n",
        "initial guess: Parameters([('tau', <Parameter 'tau', 9.9960937500000006e-05, bounds=[0:0.099960937500000013]>), ('amp', <Parameter 'amp', 0.15877272347335525, bounds=[-0.16265885644849484:0.16265885644849484]>), ('offset', <Parameter 'offset', 0.0039274038252461365, bounds=[-0.16261758559838829:0.32535898374709626]>), ('t_on', <Parameter 't_on', 0.0025000000000000001, bounds=[0.0:0.0099960937500000006]>), ('t_rise', <Parameter 't_rise', 9.9960937500000003e-06, bounds=[0:0.099960937500000013]>)])\n",
        "(0.121782856034+0.99255676713j)"
       ]
      },
      {
       "output_type": "stream",
       "stream": "stdout",
       "text": [
        "\n",
        "(0.997213897821+0.0745951874606j)\n",
        "initial guess: Parameters([('tau', <Parameter 'tau', 9.9960937500000006e-05, bounds=[0:0.099960937500000013]>), ('amp', <Parameter 'amp', 0.15702114230741432, bounds=[-0.16061084655554025:0.16061084655554025]>), ('offset', <Parameter 'offset', 0.003593209830409741, bounds=[-0.16060734097325646:0.3212251986933643]>), ('t_on', <Parameter 't_on', 0.0025000000000000001, bounds=[0.0:0.0099960937500000006]>), ('t_rise', <Parameter 't_rise', 9.9960937500000003e-06, bounds=[0:0.099960937500000013]>)])\n",
        "(0.188648941761-0.982044590012j)"
       ]
      },
      {
       "output_type": "stream",
       "stream": "stdout",
       "text": [
        "\n",
        "(0.99975357991-0.0221986363832j)\n",
        "initial guess: Parameters([('tau', <Parameter 'tau', 9.9960937500000006e-05, bounds=[0:0.099960937500000013]>), ('amp', <Parameter 'amp', 0.15508171894000436, bounds=[-0.15891484209540255:0.15891484209540255]>), ('offset', <Parameter 'offset', 0.0038447914936206398, bounds=[-0.15890317375718011:0.31784135252902757]>), ('t_on', <Parameter 't_on', 0.0025000000000000001, bounds=[0.0:0.0099960937500000006]>), ('t_rise', <Parameter 't_rise', 9.9960937500000003e-06, bounds=[0:0.099960937500000013]>)])\n",
        "(0.198000017258-0.980202016508j)"
       ]
      },
      {
       "output_type": "stream",
       "stream": "stdout",
       "text": [
        "\n",
        "(0.99969614962-0.024649714712j)\n",
        "initial guess: Parameters([('tau', <Parameter 'tau', 9.9960937500000006e-05, bounds=[0:0.099960937500000013]>), ('amp', <Parameter 'amp', 0.15709960316632204, bounds=[-0.16070814556732033:0.16070814556732033]>), ('offset', <Parameter 'offset', 0.0036540830247027778, bounds=[-0.16066260494361584:0.32146183175834514]>), ('t_on', <Parameter 't_on', 0.0025000000000000001, bounds=[0.0:0.0099960937500000006]>), ('t_rise', <Parameter 't_rise', 9.9960937500000003e-06, bounds=[0:0.099960937500000013]>)])\n",
        "(0.190265519994-0.981732668246j)"
       ]
      },
      {
       "output_type": "stream",
       "stream": "stdout",
       "text": [
        "\n",
        "(0.999723729186-0.023504580441j)\n",
        "initial guess: Parameters([('tau', <Parameter 'tau', 9.9960937500000006e-05, bounds=[0:0.099960937500000013]>), ('amp', <Parameter 'amp', 0.15669706133494038, bounds=[-0.16052001741771205:0.16052001741771205]>), ('offset', <Parameter 'offset', 0.0038666123040031692, bounds=[-0.16047636119648054:0.32108369105665557]>), ('t_on', <Parameter 't_on', 0.0025000000000000001, bounds=[0.0:0.0099960937500000006]>), ('t_rise', <Parameter 't_rise', 9.9960937500000003e-06, bounds=[0:0.099960937500000013]>)])\n",
        "(0.268187944152+0.9633666107j)"
       ]
      },
      {
       "output_type": "stream",
       "stream": "stdout",
       "text": [
        "\n",
        "(0.999919420639+0.0126945747877j)\n",
        "initial guess: Parameters([('tau', <Parameter 'tau', 9.9960937500000006e-05, bounds=[0:0.099960937500000013]>), ('amp', <Parameter 'amp', 0.15158638799596674, bounds=[-0.15500668861786515:0.15500668861786515]>), ('offset', <Parameter 'offset', 0.0034560035092015629, bounds=[-0.15497098573056201:0.31004908012303345]>), ('t_on', <Parameter 't_on', 0.0025000000000000001, bounds=[0.0:0.0099960937500000006]>), ('t_rise', <Parameter 't_rise', 9.9960937500000003e-06, bounds=[0:0.099960937500000013]>)])\n",
        "(0.201803011083-0.979426130302j)"
       ]
      },
      {
       "output_type": "stream",
       "stream": "stdout",
       "text": [
        "\n",
        "(0.99952290537-0.030886269443j)\n",
        "initial guess: Parameters([('tau', <Parameter 'tau', 9.9960937500000006e-05, bounds=[0:0.099960937500000013]>), ('amp', <Parameter 'amp', 0.15757882156825784, bounds=[-0.16142324369184347:0.16142324369184347]>), ('offset', <Parameter 'offset', 0.0038834043511739151, bounds=[-0.16138426146425519:0.32288546961127518]>), ('t_on', <Parameter 't_on', 0.0025000000000000001, bounds=[0.0:0.0099960937500000006]>), ('t_rise', <Parameter 't_rise', 9.9960937500000003e-06, bounds=[0:0.099960937500000013]>)])\n",
        "(0.267197816091+0.963641700569j)"
       ]
      },
      {
       "output_type": "stream",
       "stream": "stdout",
       "text": [
        "\n",
        "(0.99988535215+0.0151420789953j)\n",
        "initial guess: Parameters([('tau', <Parameter 'tau', 9.9960937500000006e-05, bounds=[0:0.099960937500000013]>), ('amp', <Parameter 'amp', 0.15258175821991929, bounds=[-0.15600257356217809:0.15600257356217809]>), ('offset', <Parameter 'offset', 0.0034396756146869607, bounds=[-0.15598371328974991:0.31202400739678438]>), ('t_on', <Parameter 't_on', 0.0025000000000000001, bounds=[0.0:0.0099960937500000006]>), ('t_rise', <Parameter 't_rise', 9.9960937500000003e-06, bounds=[0:0.099960937500000013]>)])\n",
        "(0.999993339964+0.00364966119066j)"
       ]
      },
      {
       "output_type": "stream",
       "stream": "stdout",
       "text": [
        "\n",
        "(0.277472216043+0.960733662013j)\n",
        "initial guess: Parameters([('tau', <Parameter 'tau', 9.9960937500000006e-05, bounds=[0:0.099960937500000013]>), ('amp', <Parameter 'amp', 0.15246977880452386, bounds=[-0.15601540900448399:0.15601540900448399]>), ('offset', <Parameter 'offset', 0.0035606246775530077, bounds=[-0.15600041452689112:0.31204581248656083]>), ('t_on', <Parameter 't_on', 0.0025000000000000001, bounds=[0.0:0.0099960937500000006]>), ('t_rise', <Parameter 't_rise', 9.9960937500000003e-06, bounds=[0:0.099960937500000013]>)])\n",
        "(0.992391234641+0.123124479323j)"
       ]
      },
      {
       "output_type": "stream",
       "stream": "stdout",
       "text": [
        "\n",
        "(0.371845907035+0.928294469132j)\n",
        "initial guess: Parameters([('tau', <Parameter 'tau', 9.9960937500000006e-05, bounds=[0:0.099960937500000013]>), ('amp', <Parameter 'amp', 0.14756897300359276, bounds=[-0.15169823074655209:0.15169823074655209]>), ('offset', <Parameter 'offset', 0.0041524997528277537, bounds=[-0.15167498873668367:0.30341970350297259]>), ('t_on', <Parameter 't_on', 0.0025000000000000001, bounds=[0.0:0.0099960937500000006]>), ('t_rise', <Parameter 't_rise', 9.9960937500000003e-06, bounds=[0:0.099960937500000013]>)])\n",
        "(0.263633324042+0.964622968032j)"
       ]
      },
      {
       "output_type": "stream",
       "stream": "stdout",
       "text": [
        "\n",
        "(0.99988822592+0.0149511091952j)\n",
        "initial guess: Parameters([('tau', <Parameter 'tau', 9.9960937500000006e-05, bounds=[0:0.099960937500000013]>), ('amp', <Parameter 'amp', 0.15200493929300504, bounds=[-0.15594040283583074:0.15594040283583074]>), ('offset', <Parameter 'offset', 0.0040007818616820965, bounds=[-0.15587508451697435:0.31194612399051791]>), ('t_on', <Parameter 't_on', 0.0025000000000000001, bounds=[0.0:0.0099960937500000006]>), ('t_rise', <Parameter 't_rise', 9.9960937500000003e-06, bounds=[0:0.099960937500000013]>)])\n",
        "(0.262472092168+0.964939584033j)"
       ]
      },
      {
       "output_type": "stream",
       "stream": "stdout",
       "text": [
        "\n",
        "(0.999895894001+0.0144291773579j)\n",
        "initial guess: Parameters([('tau', <Parameter 'tau', 9.9960937500000006e-05, bounds=[0:0.099960937500000013]>), ('amp', <Parameter 'amp', 0.15221123828258021, bounds=[-0.15557387303313588:0.15557387303313588]>), ('offset', <Parameter 'offset', 0.0033899744039983756, bounds=[-0.15554653337969318:0.31117508571971447]>), ('t_on', <Parameter 't_on', 0.0025000000000000001, bounds=[0.0:0.0099960937500000006]>), ('t_rise', <Parameter 't_rise', 9.9960937500000003e-06, bounds=[0:0.099960937500000013]>)])\n",
        "(0.20252910923-0.979276242903j)"
       ]
      },
      {
       "output_type": "stream",
       "stream": "stdout",
       "text": [
        "\n",
        "(0.999808462948-0.019571341729j)\n",
        "initial guess: Parameters([('tau', <Parameter 'tau', 9.9960937500000006e-05, bounds=[0:0.099960937500000013]>), ('amp', <Parameter 'amp', 0.15748776124624012, bounds=[-0.16119614772882418:0.16119614772882418]>), ('offset', <Parameter 'offset', 0.0037297024269133546, bounds=[-0.16117483178449488:0.32241361140197766]>), ('t_on', <Parameter 't_on', 0.0025000000000000001, bounds=[0.0:0.0099960937500000006]>), ('t_rise', <Parameter 't_rise', 9.9960937500000003e-06, bounds=[0:0.099960937500000013]>)])\n",
        "(0.216317802136-0.976323004174j)"
       ]
      },
      {
       "output_type": "stream",
       "stream": "stdout",
       "text": [
        "\n",
        "(0.999846594659-0.0175153404012j)\n",
        "initial guess: Parameters([('tau', <Parameter 'tau', 9.9960937500000006e-05, bounds=[0:0.099960937500000013]>), ('amp', <Parameter 'amp', 0.15304865268839721, bounds=[-0.15661368004113954:0.15661368004113954]>), ('offset', <Parameter 'offset', 0.0036237325143067085, bounds=[-0.15655497487957518:0.31328606524384345]>), ('t_on', <Parameter 't_on', 0.0025000000000000001, bounds=[0.0:0.0099960937500000006]>), ('t_rise', <Parameter 't_rise', 9.9960937500000003e-06, bounds=[0:0.099960937500000013]>)])\n",
        "(0.214762216366-0.976666365972j)"
       ]
      },
      {
       "output_type": "stream",
       "stream": "stdout",
       "text": [
        "\n",
        "(0.999838138877-0.0179915548841j)\n",
        "initial guess: Parameters([('tau', <Parameter 'tau', 9.9960937500000006e-05, bounds=[0:0.099960937500000013]>), ('amp', <Parameter 'amp', 0.15305584952789247, bounds=[-0.15657745488109087:0.15657745488109087]>), ('offset', <Parameter 'offset', 0.0035337252515238228, bounds=[-0.15656533498276545:0.31316702966050713]>), ('t_on', <Parameter 't_on', 0.0025000000000000001, bounds=[0.0:0.0099960937500000006]>), ('t_rise', <Parameter 't_rise', 9.9960937500000003e-06, bounds=[0:0.099960937500000013]>)])\n",
        "(0.217919039526-0.975966849956j)"
       ]
      },
      {
       "output_type": "stream",
       "stream": "stdout",
       "text": [
        "\n",
        "(0.999839062121-0.0179401744073j)\n",
        "initial guess: Parameters([('tau', <Parameter 'tau', 9.9960937500000006e-05, bounds=[0:0.099960937500000013]>), ('amp', <Parameter 'amp', 0.15449185991199912, bounds=[-0.15794518082524545:0.15794518082524545]>), ('offset', <Parameter 'offset', 0.0034554263593690126, bounds=[-0.15794307537912275:0.31589246709661356]>), ('t_on', <Parameter 't_on', 0.0025000000000000001, bounds=[0.0:0.0099960937500000006]>), ('t_rise', <Parameter 't_rise', 9.9960937500000003e-06, bounds=[0:0.099960937500000013]>)])\n",
        "(0.220582753933-0.975368263102j)"
       ]
      },
      {
       "output_type": "stream",
       "stream": "stdout",
       "text": [
        "\n",
        "(0.999867183846-0.0162976890135j)\n",
        "initial guess: Parameters([('tau', <Parameter 'tau', 9.9960937500000006e-05, bounds=[0:0.099960937500000013]>), ('amp', <Parameter 'amp', 0.15582067016703999, bounds=[-0.15924792635929635:0.15924792635929635]>), ('offset', <Parameter 'offset', 0.0034406035102226644, bounds=[-0.15923457904133007:0.31850920003655903]>), ('t_on', <Parameter 't_on', 0.0025000000000000001, bounds=[0.0:0.0099960937500000006]>), ('t_rise', <Parameter 't_rise', 9.9960937500000003e-06, bounds=[0:0.099960937500000013]>)])\n",
        "(0.224625354504-0.974445201186j)"
       ]
      },
      {
       "output_type": "stream",
       "stream": "stdout",
       "text": [
        "\n",
        "(0.999839509417-0.0179152284103j)\n",
        "initial guess: Parameters([('tau', <Parameter 'tau', 9.9960937500000006e-05, bounds=[0:0.099960937500000013]>), ('amp', <Parameter 'amp', 0.1556477523605117, bounds=[-0.1591503756468787:0.1591503756468787]>), ('offset', <Parameter 'offset', 0.0035320606400301921, bounds=[-0.1591209382932155:0.31833018864742058]>), ('t_on', <Parameter 't_on', 0.0025000000000000001, bounds=[0.0:0.0099960937500000006]>), ('t_rise', <Parameter 't_rise', 9.9960937500000003e-06, bounds=[0:0.099960937500000013]>)])\n",
        "(0.229756846542-0.973248062658j)"
       ]
      },
      {
       "output_type": "stream",
       "stream": "stdout",
       "text": [
        "\n",
        "(0.99984775808-0.0174488011629j)\n",
        "initial guess: Parameters([('tau', <Parameter 'tau', 9.9960937500000006e-05, bounds=[0:0.099960937500000013]>), ('amp', <Parameter 'amp', 0.15433729027117735, bounds=[-0.15782625570472938:0.15782625570472938]>), ('offset', <Parameter 'offset', 0.0035225172195456518, bounds=[-0.15779270391873576:0.31568606319545239]>), ('t_on', <Parameter 't_on', 0.0025000000000000001, bounds=[0.0:0.0099960937500000006]>), ('t_rise', <Parameter 't_rise', 9.9960937500000003e-06, bounds=[0:0.099960937500000013]>)])\n",
        "(0.224322217822-0.974515029433j)"
       ]
      },
      {
       "output_type": "stream",
       "stream": "stdout",
       "text": [
        "\n",
        "(0.999874736458-0.0158275516896j)\n",
        "initial guess: Parameters([('tau', <Parameter 'tau', 9.9960937500000006e-05, bounds=[0:0.099960937500000013]>), ('amp', <Parameter 'amp', 0.15658809382278197, bounds=[-0.16003764692628039:0.16003764692628039]>), ('offset', <Parameter 'offset', 0.003486866596548701, bounds=[-0.16000033343323011:0.32011260734561109]>), ('t_on', <Parameter 't_on', 0.0025000000000000001, bounds=[0.0:0.0099960937500000006]>), ('t_rise', <Parameter 't_rise', 9.9960937500000003e-06, bounds=[0:0.099960937500000013]>)])\n",
        "(0.229612788633-0.973282059475j)"
       ]
      },
      {
       "output_type": "stream",
       "stream": "stdout",
       "text": [
        "\n",
        "(0.999858366014-0.0168299706442j)\n",
        "initial guess: Parameters([('tau', <Parameter 'tau', 9.9960937500000006e-05, bounds=[0:0.099960937500000013]>), ('amp', <Parameter 'amp', 0.15554637834554064, bounds=[-0.15909023282037082:0.15909023282037082]>), ('offset', <Parameter 'offset', 0.0036008876192273886, bounds=[-0.15903319967597362:0.31823749878513885]>), ('t_on', <Parameter 't_on', 0.0025000000000000001, bounds=[0.0:0.0099960937500000006]>), ('t_rise', <Parameter 't_rise', 9.9960937500000003e-06, bounds=[0:0.099960937500000013]>)])\n",
        "(0.228061674021-0.973646687892j)"
       ]
      },
      {
       "output_type": "stream",
       "stream": "stdout",
       "text": [
        "\n",
        "(0.999853286742-0.0171290685821j)\n",
        "initial guess: Parameters([('tau', <Parameter 'tau', 9.9960937500000006e-05, bounds=[0:0.099960937500000013]>), ('amp', <Parameter 'amp', 0.15483965847753928, bounds=[-0.15830290251062257:0.15830290251062257]>), ('offset', <Parameter 'offset', 0.0034759587514231307, bounds=[-0.15829018779228274:0.31661851973958499]>), ('t_on', <Parameter 't_on', 0.0025000000000000001, bounds=[0.0:0.0099960937500000006]>), ('t_rise', <Parameter 't_rise', 9.9960937500000003e-06, bounds=[0:0.099960937500000013]>)])\n",
        "(0.234782097832-0.972048026868j)"
       ]
      },
      {
       "output_type": "stream",
       "stream": "stdout",
       "text": [
        "\n",
        "(0.999869235968-0.0161713006668j)\n",
        "initial guess: Parameters([('tau', <Parameter 'tau', 9.9960937500000006e-05, bounds=[0:0.099960937500000013]>), ('amp', <Parameter 'amp', 0.15426656510756367, bounds=[-0.15773571390149357:0.15773571390149357]>), ('offset', <Parameter 'offset', 0.0034910886116114358, bounds=[-0.15771377408381204:0.31549336762066871]>), ('t_on', <Parameter 't_on', 0.0025000000000000001, bounds=[0.0:0.0099960937500000006]>), ('t_rise', <Parameter 't_rise', 9.9960937500000003e-06, bounds=[0:0.099960937500000013]>)])\n",
        "(0.233786936826-0.972287852526j)"
       ]
      },
      {
       "output_type": "stream",
       "stream": "stdout",
       "text": [
        "\n",
        "(0.999857626167-0.0168738672332j)\n",
        "initial guess: Parameters([('tau', <Parameter 'tau', 9.9960937500000006e-05, bounds=[0:0.099960937500000013]>), ('amp', <Parameter 'amp', 0.15755509635997683, bounds=[-0.16194281638791955:0.16194281638791955]>), ('offset', <Parameter 'offset', 0.0044088894005468665, bounds=[-0.16192164701531539:0.32390680214844325]>), ('t_on', <Parameter 't_on', 0.0025000000000000001, bounds=[0.0:0.0099960937500000006]>), ('t_rise', <Parameter 't_rise', 9.9960937500000003e-06, bounds=[0:0.099960937500000013]>)])\n",
        "(0.245001644207-0.969522663137j)"
       ]
      },
      {
       "output_type": "stream",
       "stream": "stdout",
       "text": [
        "\n",
        "(0.999879952312-0.0154945462855j)\n",
        "initial guess: Parameters([('tau', <Parameter 'tau', 9.9960937500000006e-05, bounds=[0:0.099960937500000013]>), ('amp', <Parameter 'amp', 0.15377676055775649, bounds=[-0.15711345581613309:0.15711345581613309]>), ('offset', <Parameter 'offset', 0.0033619583043612718, bounds=[-0.1570881927701484:0.31425217467825084]>), ('t_on', <Parameter 't_on', 0.0025000000000000001, bounds=[0.0:0.0099960937500000006]>), ('t_rise', <Parameter 't_rise', 9.9960937500000003e-06, bounds=[0:0.099960937500000013]>)])\n",
        "(0.242117342869-0.970246974889j)"
       ]
      },
      {
       "output_type": "stream",
       "stream": "stdout",
       "text": [
        "\n",
        "(0.99984911321-0.0173709761566j)\n",
        "initial guess: Parameters([('tau', <Parameter 'tau', 9.9960937500000006e-05, bounds=[0:0.099960937500000013]>), ('amp', <Parameter 'amp', 0.15406986407811571, bounds=[-0.15776927657090548:0.15776927657090548]>), ('offset', <Parameter 'offset', 0.0037169720081779802, bounds=[-0.15775171705551727:0.31555611265719918]>), ('t_on', <Parameter 't_on', 0.0025000000000000001, bounds=[0.0:0.0099960937500000006]>), ('t_rise', <Parameter 't_rise', 9.9960937500000003e-06, bounds=[0:0.099960937500000013]>)])\n",
        "(0.249124120625-0.96847156516j)"
       ]
      },
      {
       "output_type": "stream",
       "stream": "stdout",
       "text": [
        "\n",
        "(0.999879016783-0.0155547997847j)\n",
        "initial guess: Parameters([('tau', <Parameter 'tau', 9.9960937500000006e-05, bounds=[0:0.099960937500000013]>), ('amp', <Parameter 'amp', 0.15337344354439758, bounds=[-0.15683548803943476:0.15683548803943476]>), ('offset', <Parameter 'offset', 0.0034842693672653469, bounds=[-0.15681326316720659:0.31369320095109765]>), ('t_on', <Parameter 't_on', 0.0025000000000000001, bounds=[0.0:0.0099960937500000006]>), ('t_rise', <Parameter 't_rise', 9.9960937500000003e-06, bounds=[0:0.099960937500000013]>)])\n",
        "(0.24220854235-0.970224212238j)"
       ]
      },
      {
       "output_type": "stream",
       "stream": "stdout",
       "text": [
        "\n",
        "(0.999837184541-0.0180445118565j)\n",
        "initial guess: Parameters([('tau', <Parameter 'tau', 9.9960937500000006e-05, bounds=[0:0.099960937500000013]>), ('amp', <Parameter 'amp', 0.15714934086746699, bounds=[-0.16159994456362478:0.16159994456362478]>), ('offset', <Parameter 'offset', 0.0044767689093891368, bounds=[-0.16157377935039344:0.32322605434048091]>), ('t_on', <Parameter 't_on', 0.0025000000000000001, bounds=[0.0:0.0099960937500000006]>), ('t_rise', <Parameter 't_rise', 9.9960937500000003e-06, bounds=[0:0.099960937500000013]>)])\n",
        "(0.250165159422-0.968203177547j)"
       ]
      },
      {
       "output_type": "stream",
       "stream": "stdout",
       "text": [
        "\n",
        "(0.999857148471-0.0169021493417j)\n",
        "initial guess: Parameters([('tau', <Parameter 'tau', 9.9960937500000006e-05, bounds=[0:0.099960937500000013]>), ('amp', <Parameter 'amp', 0.15139245660959269, bounds=[-0.1547893092820502:0.1547893092820502]>), ('offset', <Parameter 'offset', 0.0034232222911864973, bounds=[-0.15476293966332122:0.30960498818282939]>), ('t_on', <Parameter 't_on', 0.0025000000000000001, bounds=[0.0:0.0099960937500000006]>), ('t_rise', <Parameter 't_rise', 9.9960937500000003e-06, bounds=[0:0.099960937500000013]>)])\n",
        "(0.252195011597-0.967676431523j)"
       ]
      },
      {
       "output_type": "stream",
       "stream": "stdout",
       "text": [
        "\n",
        "(0.999876829032-0.0156948005804j)\n",
        "initial guess: Parameters([('tau', <Parameter 'tau', 9.9960937500000006e-05, bounds=[0:0.099960937500000013]>), ('amp', <Parameter 'amp', 0.15438451725127822, bounds=[-0.15802002287985281:0.15802002287985281]>), ('offset', <Parameter 'offset', 0.0036817059705109615, bounds=[-0.15797382253791645:0.31608624610164199]>), ('t_on', <Parameter 't_on', 0.0025000000000000001, bounds=[0.0:0.0099960937500000006]>), ('t_rise', <Parameter 't_rise', 9.9960937500000003e-06, bounds=[0:0.099960937500000013]>)])\n",
        "(0.253854577176-0.967242396531j)"
       ]
      },
      {
       "output_type": "stream",
       "stream": "stdout",
       "text": [
        "\n",
        "(0.999875501545-0.0157791447626j)\n",
        "initial guess: Parameters([('tau', <Parameter 'tau', 9.9960937500000006e-05, bounds=[0:0.099960937500000013]>), ('amp', <Parameter 'amp', 0.15425221716003373, bounds=[-0.15860721833769378:0.15860721833769378]>), ('offset', <Parameter 'offset', 0.0043721601921542117, bounds=[-0.15859005932319961:0.31723159568988174]>), ('t_on', <Parameter 't_on', 0.0025000000000000001, bounds=[0.0:0.0099960937500000006]>), ('t_rise', <Parameter 't_rise', 9.9960937500000003e-06, bounds=[0:0.099960937500000013]>)])\n",
        "(0.250399274359-0.968142656534j)"
       ]
      },
      {
       "output_type": "stream",
       "stream": "stdout",
       "text": [
        "\n",
        "(0.999856383883-0.0169473186036j)\n",
        "initial guess: Parameters([('tau', <Parameter 'tau', 9.9960937500000006e-05, bounds=[0:0.099960937500000013]>), ('amp', <Parameter 'amp', 0.15331714310212857, bounds=[-0.15702929166805149:0.15702929166805149]>), ('offset', <Parameter 'offset', 0.0037546703505351208, bounds=[-0.15698676988343929:0.31410110512071521]>), ('t_on', <Parameter 't_on', 0.0025000000000000001, bounds=[0.0:0.0099960937500000006]>), ('t_rise', <Parameter 't_rise', 9.9960937500000003e-06, bounds=[0:0.099960937500000013]>)])\n",
        "(0.260977722042-0.965344823676j)"
       ]
      },
      {
       "output_type": "stream",
       "stream": "stdout",
       "text": [
        "\n",
        "(0.999898726946-0.0142315091196j)\n",
        "initial guess: Parameters([('tau', <Parameter 'tau', 9.9960937500000006e-05, bounds=[0:0.099960937500000013]>), ('amp', <Parameter 'amp', 0.1531262769015852, bounds=[-0.15637915718013787:0.15637915718013787]>), ('offset', <Parameter 'offset', 0.0032872263151730529, bounds=[-0.15634481114351748:0.31279266039689613]>), ('t_on', <Parameter 't_on', 0.0025000000000000001, bounds=[0.0:0.0099960937500000006]>), ('t_rise', <Parameter 't_rise', 9.9960937500000003e-06, bounds=[0:0.099960937500000013]>)])\n",
        "(0.251010302464-0.967984415193j)"
       ]
      },
      {
       "output_type": "stream",
       "stream": "stdout",
       "text": [
        "\n",
        "(0.999866109884-0.0163634441844j)\n",
        "initial guess: Parameters([('tau', <Parameter 'tau', 9.9960937500000006e-05, bounds=[0:0.099960937500000013]>), ('amp', <Parameter 'amp', 0.15328559100423003, bounds=[-0.15666697246231456:0.15666697246231456]>), ('offset', <Parameter 'offset', 0.0034397547228571337, bounds=[-0.15660859919754197:0.31339231818940172]>), ('t_on', <Parameter 't_on', 0.0025000000000000001, bounds=[0.0:0.0099960937500000006]>), ('t_rise', <Parameter 't_rise', 9.9960937500000003e-06, bounds=[0:0.099960937500000013]>)])\n",
        "(0.262482272397-0.964936814863j)"
       ]
      },
      {
       "output_type": "stream",
       "stream": "stdout",
       "text": [
        "\n",
        "(0.999881087856-0.015421094253j)\n",
        "initial guess: Parameters([('tau', <Parameter 'tau', 9.9960937500000006e-05, bounds=[0:0.099960937500000013]>), ('amp', <Parameter 'amp', 0.15392317056148291, bounds=[-0.15714095118929916:0.15714095118929916]>), ('offset', <Parameter 'offset', 0.0032317626064871014, bounds=[-0.1571269692106283:0.31429588435726918]>), ('t_on', <Parameter 't_on', 0.0025000000000000001, bounds=[0.0:0.0099960937500000006]>), ('t_rise', <Parameter 't_rise', 9.9960937500000003e-06, bounds=[0:0.099960937500000013]>)])\n",
        "(0.279792556717-0.960060479973j)"
       ]
      },
      {
       "output_type": "stream",
       "stream": "stdout",
       "text": [
        "\n",
        "(0.999907080327-0.0136319738895j)\n",
        "initial guess: Parameters([('tau', <Parameter 'tau', 9.9960937500000006e-05, bounds=[0:0.099960937500000013]>), ('amp', <Parameter 'amp', 0.15153715293983261, bounds=[-0.15470384666414599:0.15470384666414599]>), ('offset', <Parameter 'offset', 0.0031768426022113633, bounds=[-0.154693697786248:0.30941784220618995]>), ('t_on', <Parameter 't_on', 0.0025000000000000001, bounds=[0.0:0.0099960937500000006]>), ('t_rise', <Parameter 't_rise', 9.9960937500000003e-06, bounds=[0:0.099960937500000013]>)])\n",
        "(0.33068063728+0.943742717126j)"
       ]
      },
      {
       "output_type": "stream",
       "stream": "stdout",
       "text": [
        "\n",
        "(0.999966631975+0.00816914538261j)\n",
        "initial guess: Parameters([('tau', <Parameter 'tau', 9.9960937500000006e-05, bounds=[0:0.099960937500000013]>), ('amp', <Parameter 'amp', 0.14462242679374956, bounds=[-0.148160600155512:0.148160600155512]>), ('offset', <Parameter 'offset', 0.003562480823285385, bounds=[-0.14813629269398904:0.29634550777254698]>), ('t_on', <Parameter 't_on', 0.0025000000000000001, bounds=[0.0:0.0099960937500000006]>), ('t_rise', <Parameter 't_rise', 9.9960937500000003e-06, bounds=[0:0.099960937500000013]>)])\n",
        "(0.998732666826+0.0503295163427j)"
       ]
      },
      {
       "output_type": "stream",
       "stream": "stdout",
       "text": [
        "\n",
        "(0.34103373835+0.940051056756j)\n",
        "initial guess: Parameters([('tau', <Parameter 'tau', 9.9960937500000006e-05, bounds=[0:0.099960937500000013]>), ('amp', <Parameter 'amp', 0.14407930228179028, bounds=[-0.14700564296938565:0.14700564296938565]>), ('offset', <Parameter 'offset', 0.002958804599292761, bounds=[-0.14697317905768825:0.29404374985046866]>), ('t_on', <Parameter 't_on', 0.0025000000000000001, bounds=[0.0:0.0099960937500000006]>), ('t_rise', <Parameter 't_rise', 9.9960937500000003e-06, bounds=[0:0.099960937500000013]>)])\n",
        "(0.243989554687+0.96977785972j)"
       ]
      },
      {
       "output_type": "stream",
       "stream": "stdout",
       "text": [
        "\n",
        "(0.999820710146+0.0189353522172j)\n",
        "initial guess: Parameters([('tau', <Parameter 'tau', 9.9960937500000006e-05, bounds=[0:0.099960937500000013]>), ('amp', <Parameter 'amp', 0.146220731574081, bounds=[-0.14924060197538946:0.14924060197538946]>), ('offset', <Parameter 'offset', 0.0030226014307637048, bounds=[-0.14923787094593421:0.29848393498023418]>), ('t_on', <Parameter 't_on', 0.0025000000000000001, bounds=[0.0:0.0099960937500000006]>), ('t_rise', <Parameter 't_rise', 9.9960937500000003e-06, bounds=[0:0.099960937500000013]>)])\n",
        "(0.99461338536-0.103654298817j)"
       ]
      },
      {
       "output_type": "stream",
       "stream": "stdout",
       "text": [
        "\n",
        "(0.14014808797+0.990130553734j)\n",
        "initial guess: Parameters([('tau', <Parameter 'tau', 9.9960937500000006e-05, bounds=[0:0.099960937500000013]>), ('amp', <Parameter 'amp', 0.14640938327903807, bounds=[-0.14934172459829367:0.14934172459829367]>), ('offset', <Parameter 'offset', 0.0029360858731568599, bounds=[-0.14933798004439242:0.29868719375048858]>), ('t_on', <Parameter 't_on', 0.0025000000000000001, bounds=[0.0:0.0099960937500000006]>), ('t_rise', <Parameter 't_rise', 9.9960937500000003e-06, bounds=[0:0.099960937500000013]>)])\n",
        "(0.14138350581+0.989954900127j)"
       ]
      },
      {
       "output_type": "stream",
       "stream": "stdout",
       "text": [
        "\n",
        "(0.997601823033+0.069214179763j)\n",
        "initial guess: Parameters([('tau', <Parameter 'tau', 9.9960937500000006e-05, bounds=[0:0.099960937500000013]>), ('amp', <Parameter 'amp', 0.14756991119730289, bounds=[-0.15041904402913345:0.15041904402913345]>), ('offset', <Parameter 'offset', 0.0028563304974377479, bounds=[-0.15041184636352625:0.30084528572387409]>), ('t_on', <Parameter 't_on', 0.0025000000000000001, bounds=[0.0:0.0099960937500000006]>), ('t_rise', <Parameter 't_rise', 9.9960937500000003e-06, bounds=[0:0.099960937500000013]>)])\n",
        "(0.14559016-0.989344988015j)"
       ]
      },
      {
       "output_type": "stream",
       "stream": "stdout",
       "text": [
        "\n",
        "(0.996179423097-0.0873301608684j)\n",
        "initial guess: Parameters([('tau', <Parameter 'tau', 9.9960937500000006e-05, bounds=[0:0.099960937500000013]>), ('amp', <Parameter 'amp', 0.14403440448683955, bounds=[-0.14721878260731563:0.14721878260731563]>), ('offset', <Parameter 'offset', 0.0032076502304850514, bounds=[-0.14719551049730667:0.29446083732464023]>), ('t_on', <Parameter 't_on', 0.0025000000000000001, bounds=[0.0:0.0099960937500000006]>), ('t_rise', <Parameter 't_rise', 9.9960937500000003e-06, bounds=[0:0.099960937500000013]>)])\n",
        "(0.228933657183-0.973442027349j)"
       ]
      },
      {
       "output_type": "stream",
       "stream": "stdout",
       "text": [
        "\n",
        "(0.999680720708-0.0252676996154j)\n",
        "initial guess: Parameters([('tau', <Parameter 'tau', 9.9960937500000006e-05, bounds=[0:0.099960937500000013]>), ('amp', <Parameter 'amp', 0.14139670178405667, bounds=[-0.14413783697123991:0.14413783697123991]>), ('offset', <Parameter 'offset', 0.0027499146449138289, bounds=[-0.14412905751350932:0.28828445340021042]>), ('t_on', <Parameter 't_on', 0.0025000000000000001, bounds=[0.0:0.0099960937500000006]>), ('t_rise', <Parameter 't_rise', 9.9960937500000003e-06, bounds=[0:0.099960937500000013]>)])\n",
        "(0.306702886769+0.951805305326j)"
       ]
      },
      {
       "output_type": "stream",
       "stream": "stdout",
       "text": [
        "\n",
        "(0.958401687875+0.28542285241j)\n",
        "initial guess: Parameters([('tau', <Parameter 'tau', 9.9960937500000006e-05, bounds=[0:0.099960937500000013]>), ('amp', <Parameter 'amp', 0.14193029769519444, bounds=[-0.14459609123390343:0.14459609123390343]>), ('offset', <Parameter 'offset', 0.0027108705153849415, bounds=[-0.14455101425722749:0.28923725944448281]>), ('t_on', <Parameter 't_on', 0.0025000000000000001, bounds=[0.0:0.0099960937500000006]>), ('t_rise', <Parameter 't_rise', 9.9960937500000003e-06, bounds=[0:0.099960937500000013]>)])\n",
        "(0.251134375494-0.967952233039j)"
       ]
      },
      {
       "output_type": "stream",
       "stream": "stdout",
       "text": [
        "\n",
        "(0.999489014356-0.0319642015661j)\n",
        "initial guess: Parameters([('tau', <Parameter 'tau', 9.9960937500000006e-05, bounds=[0:0.099960937500000013]>), ('amp', <Parameter 'amp', 0.13623065688142438, bounds=[-0.13858366826124086:0.13858366826124086]>), ('offset', <Parameter 'offset', 0.0023953625023596325, bounds=[-0.13854131713869769:0.27720968764502485]>), ('t_on', <Parameter 't_on', 0.0025000000000000001, bounds=[0.0:0.0099960937500000006]>), ('t_rise', <Parameter 't_rise', 9.9960937500000003e-06, bounds=[0:0.099960937500000013]>)])\n",
        "(0.179756430321+0.983711149555j)"
       ]
      },
      {
       "output_type": "stream",
       "stream": "stdout",
       "text": [
        "\n",
        "(0.996412797245+0.0846258677171j)\n",
        "initial guess: Parameters([('tau', <Parameter 'tau', 9.9960937500000006e-05, bounds=[0:0.099960937500000013]>), ('amp', <Parameter 'amp', 0.13299512649037432, bounds=[-0.13536375379125895:0.13536375379125895]>), ('offset', <Parameter 'offset', 0.0024123995687870478, bounds=[-0.13531998152335653:0.27077127985042032]>), ('t_on', <Parameter 't_on', 0.0025000000000000001, bounds=[0.0:0.0099960937500000006]>), ('t_rise', <Parameter 't_rise', 9.9960937500000003e-06, bounds=[0:0.099960937500000013]>)])\n",
        "(0.296628950923-0.954992809122j)"
       ]
      },
      {
       "output_type": "stream",
       "stream": "stdout",
       "text": [
        "\n",
        "(0.999417323058-0.0341323068682j)\n",
        "initial guess: Parameters([('tau', <Parameter 'tau', 9.9960937500000006e-05, bounds=[0:0.099960937500000013]>), ('amp', <Parameter 'amp', 0.1250765433556319, bounds=[-0.12716427314697948:0.12716427314697948]>), ('offset', <Parameter 'offset', 0.0021291508374116359, bounds=[-0.12712285210091542:0.25436996734002304]>), ('t_on', <Parameter 't_on', 0.0025000000000000001, bounds=[0.0:0.0099960937500000006]>), ('t_rise', <Parameter 't_rise', 9.9960937500000003e-06, bounds=[0:0.099960937500000013]>)])\n",
        "(0.984785759407-0.173772863445j)"
       ]
      },
      {
       "output_type": "stream",
       "stream": "stdout",
       "text": [
        "\n",
        "(0.999976031107-0.00692367036326j)\n",
        "initial guess: Parameters([('tau', <Parameter 'tau', 9.9960937500000006e-05, bounds=[0:0.099960937500000013]>), ('amp', <Parameter 'amp', 0.027510905994788001, bounds=[-0.028141068739845971:0.028141068739845971]>), ('offset', <Parameter 'offset', 0.0006312715733308048, bounds=[-0.028139959911573136:0.056283246307964774]>), ('t_on', <Parameter 't_on', 0.0025000000000000001, bounds=[0.0:0.0099960937500000006]>), ('t_rise', <Parameter 't_rise', 9.9960937500000003e-06, bounds=[0:0.099960937500000013]>)])\n",
        "(0.514505182339-0.857487269495j)"
       ]
      },
      {
       "output_type": "stream",
       "stream": "stdout",
       "text": [
        "\n",
        "(0.990274151345-0.139129814121j)\n",
        "initial guess: Parameters([('tau', <Parameter 'tau', 9.9960937500000006e-05, bounds=[0:0.099960937500000013]>), ('amp', <Parameter 'amp', 0.048304368026416911, bounds=[-0.049158220912344508:0.049158220912344508]>), ('offset', <Parameter 'offset', 0.0008612857487067891, bounds=[-0.049150788049565318:0.098323874687468199]>), ('t_on', <Parameter 't_on', 0.0025000000000000001, bounds=[0.0:0.0099960937500000006]>), ('t_rise', <Parameter 't_rise', 9.9960937500000003e-06, bounds=[0:0.099960937500000013]>)])\n",
        "(0.999990777641+0.00429472143393j)"
       ]
      },
      {
       "output_type": "stream",
       "stream": "stdout",
       "text": [
        "\n",
        "(0.727223860479+0.686400361852j)\n",
        "initial guess: Parameters([('tau', <Parameter 'tau', 9.9960937500000006e-05, bounds=[0:0.099960937500000013]>), ('amp', <Parameter 'amp', 0.040983054809093498, bounds=[-0.04181841190144777:0.04181841190144777]>), ('offset', <Parameter 'offset', 0.00084558895434069044, bounds=[-0.041808180039461351:0.083647055664881953]>), ('t_on', <Parameter 't_on', 0.0025000000000000001, bounds=[0.0:0.0099960937500000006]>), ('t_rise', <Parameter 't_rise', 9.9960937500000003e-06, bounds=[0:0.099960937500000013]>)])\n",
        "(0.604106456912-0.79690362574j)"
       ]
      },
      {
       "output_type": "stream",
       "stream": "stdout",
       "text": [
        "\n",
        "(0.954437319358-0.29841146663j)\n",
        "initial guess: Parameters([('tau', <Parameter 'tau', 9.9960937500000006e-05, bounds=[0:0.099960937500000013]>), ('amp', <Parameter 'amp', 0.030822202375643371, bounds=[-0.03150384510049687:0.03150384510049687]>), ('offset', <Parameter 'offset', 0.00069962010285736474, bounds=[-0.031485867722493004:0.063025667578997607]>), ('t_on', <Parameter 't_on', 0.0025000000000000001, bounds=[0.0:0.0099960937500000006]>), ('t_rise', <Parameter 't_rise', 9.9960937500000003e-06, bounds=[0:0.099960937500000013]>)])\n",
        "(0.995275029255-0.0970959120745j)"
       ]
      },
      {
       "output_type": "stream",
       "stream": "stdout",
       "text": [
        "\n",
        "(0.867890323266-0.496755862353j)\n",
        "initial guess: Parameters([('tau', <Parameter 'tau', 9.9960937500000006e-05, bounds=[0:0.099960937500000013]>), ('amp', <Parameter 'amp', 0.025558056427017844, bounds=[-0.026389269260244905:0.026389269260244905]>), ('offset', <Parameter 'offset', 0.00083712170993262313, bounds=[-0.026383360383539344:0.052784447397195372]>), ('t_on', <Parameter 't_on', 0.0025000000000000001, bounds=[0.0:0.0099960937500000006]>), ('t_rise', <Parameter 't_rise', 9.9960937500000003e-06, bounds=[0:0.099960937500000013]>)])\n",
        "(0.782116939706-0.623131681609j)"
       ]
      },
      {
       "output_type": "stream",
       "stream": "stdout",
       "text": [
        "\n",
        "(0.963123461114-0.269059842138j)\n",
        "initial guess: Parameters([('tau', <Parameter 'tau', 9.9960937500000006e-05, bounds=[0:0.099960937500000013]>), ('amp', <Parameter 'amp', 0.016991180627187345, bounds=[-0.017559064712552256:0.017559064712552256]>), ('offset', <Parameter 'offset', 0.00057439951036658955, bounds=[-0.017552549287550578:0.03512464485010619]>), ('t_on', <Parameter 't_on', 0.0025000000000000001, bounds=[0.0:0.0099960937500000006]>), ('t_rise', <Parameter 't_rise', 9.9960937500000003e-06, bounds=[0:0.099960937500000013]>)])\n",
        "(0.978131053322+0.20798952504j)"
       ]
      },
      {
       "output_type": "stream",
       "stream": "stdout",
       "text": [
        "\n",
        "(0.422984350518+0.906136987004j)\n",
        "initial guess: Parameters([('tau', <Parameter 'tau', 9.9960937500000006e-05, bounds=[0:0.099960937500000013]>), ('amp', <Parameter 'amp', 0.013810065657625737, bounds=[-0.015744570803098133:0.015744570803098133]>), ('offset', <Parameter 'offset', 0.0019566273864290531, bounds=[-0.015722448562141476:0.031511263847152922]>), ('t_on', <Parameter 't_on', 0.0025000000000000001, bounds=[0.0:0.0099960937500000006]>), ('t_rise', <Parameter 't_rise', 9.9960937500000003e-06, bounds=[0:0.099960937500000013]>)])\n",
        "(0.98382001927-0.179159620682j)"
       ]
      },
      {
       "output_type": "stream",
       "stream": "stdout",
       "text": [
        "\n",
        "(0.537846442169-0.843042824918j)\n",
        "initial guess: Parameters([('tau', <Parameter 'tau', 9.9960937500000006e-05, bounds=[0:0.099960937500000013]>), ('amp', <Parameter 'amp', 0.0045982008121352022, bounds=[-0.0064174675638591968:0.0064174675638591968]>), ('offset', <Parameter 'offset', 0.0018535521072198032, bounds=[-0.0063831822083633884:0.012869220483214202]>), ('t_on', <Parameter 't_on', 0.0025000000000000001, bounds=[0.0:0.0099960937500000006]>), ('t_rise', <Parameter 't_rise', 9.9960937500000003e-06, bounds=[0:0.099960937500000013]>)])\n",
        "(0.999965538695-0.00830189275454j)"
       ]
      },
      {
       "output_type": "stream",
       "stream": "stdout",
       "text": [
        "\n",
        "(0.999688998769-0.0249380380146j)\n",
        "initial guess: Parameters([('tau', <Parameter 'tau', 9.9960937500000006e-05, bounds=[0:0.099960937500000013]>), ('amp', <Parameter 'amp', 0.010866369505709223, bounds=[-0.011350144585144131:0.011350144585144131]>), ('offset', <Parameter 'offset', 0.00049091507889732452, bounds=[-0.011343004585681713:0.02270742916975068]>), ('t_on', <Parameter 't_on', 0.0025000000000000001, bounds=[0.0:0.0099960937500000006]>), ('t_rise', <Parameter 't_rise', 9.9960937500000003e-06, bounds=[0:0.099960937500000013]>)])\n",
        "(0.244639364364-0.969614140472j)"
       ]
      },
      {
       "output_type": "stream",
       "stream": "stdout",
       "text": [
        "\n",
        "(0.999800348106-0.0199815896826j)\n",
        "initial guess: Parameters([('tau', <Parameter 'tau', 9.9960937500000006e-05, bounds=[0:0.099960937500000013]>), ('amp', <Parameter 'amp', 0.16366098335835882, bounds=[-0.16782157154688443:0.16782157154688443]>), ('offset', <Parameter 'offset', 0.0042062255589389256, bounds=[-0.1677759341764711:0.33568878046418216]>), ('t_on', <Parameter 't_on', 0.0025000000000000001, bounds=[0.0:0.0099960937500000006]>), ('t_rise', <Parameter 't_rise', 9.9960937500000003e-06, bounds=[0:0.099960937500000013]>)])\n",
        "(0.237883758195-0.971293630982j)"
       ]
      },
      {
       "output_type": "stream",
       "stream": "stdout",
       "text": [
        "\n",
        "(0.987089288492-0.160170960368j)\n",
        "initial guess: Parameters([('tau', <Parameter 'tau', 9.9960937500000006e-05, bounds=[0:0.099960937500000013]>), ('amp', <Parameter 'amp', 0.18932007441705373, bounds=[-0.19623638844121108:0.19623638844121108]>), ('offset', <Parameter 'offset', 0.006957351887322917, bounds=[-0.19619535057804552:0.39251381474558772]>), ('t_on', <Parameter 't_on', 0.0025000000000000001, bounds=[0.0:0.0099960937500000006]>), ('t_rise', <Parameter 't_rise', 9.9960937500000003e-06, bounds=[0:0.099960937500000013]>)])\n",
        "(0.451663777492+0.892188226834j)"
       ]
      },
      {
       "output_type": "stream",
       "stream": "stdout",
       "text": [
        "\n",
        "(0.956636484253+0.291284460616j)\n",
        "initial guess: Parameters([('tau', <Parameter 'tau', 9.9960937500000006e-05, bounds=[0:0.099960937500000013]>), ('amp', <Parameter 'amp', 0.17879710453984873, bounds=[-0.18899160681622743:0.18899160681622743]>), ('offset', <Parameter 'offset', 0.01023811608486367, bounds=[-0.18894799300774245:0.37802682744093985]>), ('t_on', <Parameter 't_on', 0.0025000000000000001, bounds=[0.0:0.0099960937500000006]>), ('t_rise', <Parameter 't_rise', 9.9960937500000003e-06, bounds=[0:0.099960937500000013]>)])\n",
        "(0.233477287764-0.972362255591j)"
       ]
      },
      {
       "output_type": "stream",
       "stream": "stdout",
       "text": [
        "\n",
        "(0.997218328977-0.0745359265882j)\n",
        "initial guess: Parameters([('tau', <Parameter 'tau', 9.9960937500000006e-05, bounds=[0:0.099960937500000013]>), ('amp', <Parameter 'amp', 0.18699065446938282, bounds=[-0.1939270268205199:0.1939270268205199]>), ('offset', <Parameter 'offset', 0.0070729997169951282, bounds=[-0.19379039945466187:0.38799068100689782]>), ('t_on', <Parameter 't_on', 0.0025000000000000001, bounds=[0.0:0.0099960937500000006]>), ('t_rise', <Parameter 't_rise', 9.9960937500000003e-06, bounds=[0:0.099960937500000013]>)])\n",
        "(0.315173746411+0.949033987575j)"
       ]
      },
      {
       "output_type": "stream",
       "stream": "stdout",
       "text": [
        "\n",
        "(0.96480855177+0.262953338886j)\n",
        "initial guess: Parameters([('tau', <Parameter 'tau', 9.9960937500000006e-05, bounds=[0:0.099960937500000013]>), ('amp', <Parameter 'amp', 0.18505705655264429, bounds=[-0.19187563573364144:0.19187563573364144]>), ('offset', <Parameter 'offset', 0.0069204226737525467, bounds=[-0.19177379224088606:0.38385311496003827]>), ('t_on', <Parameter 't_on', 0.0025000000000000001, bounds=[0.0:0.0099960937500000006]>), ('t_rise', <Parameter 't_rise', 9.9960937500000003e-06, bounds=[0:0.099960937500000013]>)])\n",
        "(0.505405784216-0.86288179566j)"
       ]
      },
      {
       "output_type": "stream",
       "stream": "stdout",
       "text": [
        "\n",
        "(0.999621251651-0.0275200517421j)\n",
        "initial guess: Parameters([('tau', <Parameter 'tau', 9.9960937500000006e-05, bounds=[0:0.099960937500000013]>), ('amp', <Parameter 'amp', 0.16960174549020712, bounds=[-0.17582933109243892:0.17582933109243892]>), ('offset', <Parameter 'offset', 0.0063185979616631359, bounds=[-0.17573831873300758:0.35174967454430917]>), ('t_on', <Parameter 't_on', 0.0025000000000000001, bounds=[0.0:0.0099960937500000006]>), ('t_rise', <Parameter 't_rise', 9.9960937500000003e-06, bounds=[0:0.099960937500000013]>)])\n",
        "(0.268240364685+0.963352016012j)"
       ]
      },
      {
       "output_type": "stream",
       "stream": "stdout",
       "text": [
        "\n",
        "(0.997837135582+0.0657347005262j)\n",
        "initial guess: Parameters([('tau', <Parameter 'tau', 9.9960937500000006e-05, bounds=[0:0.099960937500000013]>), ('amp', <Parameter 'amp', 0.17781832956282886, bounds=[-0.1842167777952925:0.1842167777952925]>), ('offset', <Parameter 'offset', 0.0064640596957554804, bounds=[-0.18415116633200065:0.36849916705387686]>), ('t_on', <Parameter 't_on', 0.0025000000000000001, bounds=[0.0:0.0099960937500000006]>), ('t_rise', <Parameter 't_rise', 9.9960937500000003e-06, bounds=[0:0.099960937500000013]>)])\n",
        "(0.999977886625-0.00665028278795j)"
       ]
      },
      {
       "output_type": "stream",
       "stream": "stdout",
       "text": [
        "\n",
        "(0.241888618772+0.970304022515j)\n",
        "initial guess: Parameters([('tau', <Parameter 'tau', 9.9960937500000006e-05, bounds=[0:0.099960937500000013]>), ('amp', <Parameter 'amp', 0.18239011287210374, bounds=[-0.18860821333280448:0.18860821333280448]>), ('offset', <Parameter 'offset', 0.0062572293250182974, bounds=[-0.18856908446848691:0.37725555552992651]>), ('t_on', <Parameter 't_on', 0.0025000000000000001, bounds=[0.0:0.0099960937500000006]>), ('t_rise', <Parameter 't_rise', 9.9960937500000003e-06, bounds=[0:0.099960937500000013]>)])\n",
        "(0.486745869461-0.873543621442j)"
       ]
      },
      {
       "output_type": "stream",
       "stream": "stdout",
       "text": [
        "\n",
        "(0.999525273582-0.0308095353856j)\n",
        "initial guess: Parameters([('tau', <Parameter 'tau', 9.9960937500000006e-05, bounds=[0:0.099960937500000013]>), ('amp', <Parameter 'amp', 0.169019455556184, bounds=[-0.17499457463718654:0.17499457463718654]>), ('offset', <Parameter 'offset', 0.0060897001694848636, bounds=[-0.1748799935487042:0.35010373036285541]>), ('t_on', <Parameter 't_on', 0.0025000000000000001, bounds=[0.0:0.0099960937500000006]>), ('t_rise', <Parameter 't_rise', 9.9960937500000003e-06, bounds=[0:0.099960937500000013]>)])\n",
        "(0.999992400794+0.00389850664887j)"
       ]
      },
      {
       "output_type": "stream",
       "stream": "stdout",
       "text": [
        "\n",
        "(0.38058763382+0.924744858317j)\n",
        "initial guess: Parameters([('tau', <Parameter 'tau', 9.9960937500000006e-05, bounds=[0:0.099960937500000013]>), ('amp', <Parameter 'amp', 0.16546415957213034, bounds=[-0.17111847403234409:0.17111847403234409]>), ('offset', <Parameter 'offset', 0.0056809060488194237, bounds=[-0.17109188244373841:0.34226353965329387]>), ('t_on', <Parameter 't_on', 0.0025000000000000001, bounds=[0.0:0.0099960937500000006]>), ('t_rise', <Parameter 't_rise', 9.9960937500000003e-06, bounds=[0:0.099960937500000013]>)])\n",
        "(0.350687893168-0.9364923927j)"
       ]
      },
      {
       "output_type": "stream",
       "stream": "stdout",
       "text": [
        "\n",
        "(0.955834437826-0.293905643815j)\n",
        "initial guess: Parameters([('tau', <Parameter 'tau', 9.9960937500000006e-05, bounds=[0:0.099960937500000013]>), ('amp', <Parameter 'amp', 0.1812377547644361, bounds=[-0.1875257501428477:0.1875257501428477]>), ('offset', <Parameter 'offset', 0.0063944076120016052, bounds=[-0.18741933790925769:0.37515791251928543]>), ('t_on', <Parameter 't_on', 0.0025000000000000001, bounds=[0.0:0.0099960937500000006]>), ('t_rise', <Parameter 't_rise', 9.9960937500000003e-06, bounds=[0:0.099960937500000013]>)])\n",
        "(0.376148817522+0.926559262582j)"
       ]
      },
      {
       "output_type": "stream",
       "stream": "stdout",
       "text": [
        "\n",
        "(0.998757702255+0.0498302336478j)\n",
        "initial guess: Parameters([('tau', <Parameter 'tau', 9.9960937500000006e-05, bounds=[0:0.099960937500000013]>), ('amp', <Parameter 'amp', 0.16328650519738772, bounds=[-0.16898858142394191:0.16898858142394191]>), ('offset', <Parameter 'offset', 0.0057873407988560293, bounds=[-0.16890331685164006:0.33806242742018566]>), ('t_on', <Parameter 't_on', 0.0025000000000000001, bounds=[0.0:0.0099960937500000006]>), ('t_rise', <Parameter 't_rise', 9.9960937500000003e-06, bounds=[0:0.099960937500000013]>)])\n",
        "(0.258258308075-0.966075900905j)"
       ]
      },
      {
       "output_type": "stream",
       "stream": "stdout",
       "text": [
        "\n",
        "(0.994699290972-0.102826652869j)\n",
        "initial guess: Parameters([('tau', <Parameter 'tau', 9.9960937500000006e-05, bounds=[0:0.099960937500000013]>), ('amp', <Parameter 'amp', 0.17674213492754734, bounds=[-0.18227811836126362:0.18227811836126362]>), ('offset', <Parameter 'offset', 0.0056394206875586845, bounds=[-0.18217468110742122:0.36465967397636967]>), ('t_on', <Parameter 't_on', 0.0025000000000000001, bounds=[0.0:0.0099960937500000006]>), ('t_rise', <Parameter 't_rise', 9.9960937500000003e-06, bounds=[0:0.099960937500000013]>)])\n",
        "(0.508404652437+0.861118290004j)"
       ]
      },
      {
       "output_type": "stream",
       "stream": "stdout",
       "text": [
        "\n",
        "(0.883512851839+0.468406917792j)\n",
        "initial guess: Parameters([('tau', <Parameter 'tau', 9.9960937500000006e-05, bounds=[0:0.099960937500000013]>), ('amp', <Parameter 'amp', 0.17796311130796091, bounds=[-0.18360877571052137:0.18360877571052137]>), ('offset', <Parameter 'offset', 0.0057246637337098711, bounds=[-0.18352977637937196:0.36729655075219214]>), ('t_on', <Parameter 't_on', 0.0025000000000000001, bounds=[0.0:0.0099960937500000006]>), ('t_rise', <Parameter 't_rise', 9.9960937500000003e-06, bounds=[0:0.099960937500000013]>)])\n",
        "(0.999895652675+0.0144458907988j)"
       ]
      },
      {
       "output_type": "stream",
       "stream": "stdout",
       "text": [
        "\n",
        "(0.34771321783+0.937600937578j)\n",
        "initial guess: Parameters([('tau', <Parameter 'tau', 9.9960937500000006e-05, bounds=[0:0.099960937500000013]>), ('amp', <Parameter 'amp', 0.16694846890048895, bounds=[-0.17224613039128464:0.17224613039128464]>), ('offset', <Parameter 'offset', 0.0053753755961750572, bounds=[-0.17216841628590526:0.34456997488794866]>), ('t_on', <Parameter 't_on', 0.0025000000000000001, bounds=[0.0:0.0099960937500000006]>), ('t_rise', <Parameter 't_rise', 9.9960937500000003e-06, bounds=[0:0.099960937500000013]>)])\n",
        "(0.460154212929+0.887839005859j)"
       ]
      },
      {
       "output_type": "stream",
       "stream": "stdout",
       "text": [
        "\n",
        "(0.91299045146+0.407980925465j)\n",
        "initial guess: Parameters([('tau', <Parameter 'tau', 9.9960937500000006e-05, bounds=[0:0.099960937500000013]>), ('amp', <Parameter 'amp', 0.16933791267220025, bounds=[-0.1745565645617709:0.1745565645617709]>), ('offset', <Parameter 'offset', 0.0052424943165023784, bounds=[-0.1745327221348392:0.34913697155047352]>), ('t_on', <Parameter 't_on', 0.0025000000000000001, bounds=[0.0:0.0099960937500000006]>), ('t_rise', <Parameter 't_rise', 9.9960937500000003e-06, bounds=[0:0.099960937500000013]>)])\n",
        "(0.632529084985-0.774536607688j)"
       ]
      },
      {
       "output_type": "stream",
       "stream": "stdout",
       "text": [
        "\n",
        "(0.809829176955-0.586665751644j)\n",
        "initial guess: Parameters([('tau', <Parameter 'tau', 9.9960937500000006e-05, bounds=[0:0.099960937500000013]>), ('amp', <Parameter 'amp', 0.16450412568962655, bounds=[-0.16951723618668466:0.16951723618668466]>), ('offset', <Parameter 'offset', 0.0051202640311193755, bounds=[-0.16941008265262339:0.33914162590743058]>), ('t_on', <Parameter 't_on', 0.0025000000000000001, bounds=[0.0:0.0099960937500000006]>), ('t_rise', <Parameter 't_rise', 9.9960937500000003e-06, bounds=[0:0.099960937500000013]>)])\n",
        "(0.347798328931-0.937569369376j)"
       ]
      },
      {
       "output_type": "stream",
       "stream": "stdout",
       "text": [
        "\n",
        "(0.995642338129-0.0932541394563j)\n",
        "initial guess: Parameters([('tau', <Parameter 'tau', 9.9960937500000006e-05, bounds=[0:0.099960937500000013]>), ('amp', <Parameter 'amp', 0.16421083674728718, bounds=[-0.16890717737061994:0.16890717737061994]>), ('offset', <Parameter 'offset', 0.0047385816343707239, bounds=[-0.168864936359582:0.33785659575227783]>), ('t_on', <Parameter 't_on', 0.0025000000000000001, bounds=[0.0:0.0099960937500000006]>), ('t_rise', <Parameter 't_rise', 9.9960937500000003e-06, bounds=[0:0.099960937500000013]>)])\n",
        "(0.336854580862-0.941556685151j)"
       ]
      },
      {
       "output_type": "stream",
       "stream": "stdout",
       "text": [
        "\n",
        "(0.987311994828-0.158792395503j)\n",
        "initial guess: Parameters([('tau', <Parameter 'tau', 9.9960937500000006e-05, bounds=[0:0.099960937500000013]>), ('amp', <Parameter 'amp', 0.16000110260469283, bounds=[-0.16458228802002567:0.16458228802002567]>), ('offset', <Parameter 'offset', 0.0046653630202062989, bounds=[-0.16449811041515222:0.32924875364492479]>), ('t_on', <Parameter 't_on', 0.0025000000000000001, bounds=[0.0:0.0099960937500000006]>), ('t_rise', <Parameter 't_rise', 9.9960937500000003e-06, bounds=[0:0.099960937500000013]>)])\n",
        "(0.353065176385-0.935598728742j)"
       ]
      },
      {
       "output_type": "stream",
       "stream": "stdout",
       "text": [
        "\n",
        "(0.990845774437-0.134998708442j)\n",
        "initial guess: Parameters([('tau', <Parameter 'tau', 9.9960937500000006e-05, bounds=[0:0.099960937500000013]>), ('amp', <Parameter 'amp', 0.15625510445245486, bounds=[-0.16072381012509823:0.16072381012509823]>), ('offset', <Parameter 'offset', 0.0045547588211780916, bounds=[-0.16063775697656352:0.32153367339873118]>), ('t_on', <Parameter 't_on', 0.0025000000000000001, bounds=[0.0:0.0099960937500000006]>), ('t_rise', <Parameter 't_rise', 9.9960937500000003e-06, bounds=[0:0.099960937500000013]>)])\n",
        "(0.365869129596-0.930666309699j)"
       ]
      },
      {
       "output_type": "stream",
       "stream": "stdout",
       "text": [
        "\n",
        "(0.993186963822-0.116531776325j)\n",
        "initial guess: Parameters([('tau', <Parameter 'tau', 9.9960937500000006e-05, bounds=[0:0.099960937500000013]>), ('amp', <Parameter 'amp', 0.15580539467870272, bounds=[-0.16019334533394872:0.16019334533394872]>), ('offset', <Parameter 'offset', 0.0044336963383825858, bounds=[-0.16014759965081213:0.32043243635103402]>), ('t_on', <Parameter 't_on', 0.0025000000000000001, bounds=[0.0:0.0099960937500000006]>), ('t_rise', <Parameter 't_rise', 9.9960937500000003e-06, bounds=[0:0.099960937500000013]>)])\n",
        "(0.467439096039-0.884025277633j)"
       ]
      },
      {
       "output_type": "stream",
       "stream": "stdout",
       "text": [
        "\n",
        "(0.99711079795-0.0759608887002j)\n",
        "initial guess: Parameters([('tau', <Parameter 'tau', 9.9960937500000006e-05, bounds=[0:0.099960937500000013]>), ('amp', <Parameter 'amp', 0.14772498858756605, bounds=[-0.15181958932870387:0.15181958932870387]>), ('offset', <Parameter 'offset', 0.0041350681258006507, bounds=[-0.15177912194404106:0.30367964604207054]>), ('t_on', <Parameter 't_on', 0.0025000000000000001, bounds=[0.0:0.0099960937500000006]>), ('t_rise', <Parameter 't_rise', 9.9960937500000003e-06, bounds=[0:0.099960937500000013]>)])\n",
        "(0.400842411115-0.916147019561j)"
       ]
      },
      {
       "output_type": "stream",
       "stream": "stdout",
       "text": [
        "\n",
        "(0.964228061165-0.265074038832j)\n",
        "initial guess: Parameters([('tau', <Parameter 'tau', 9.9960937500000006e-05, bounds=[0:0.099960937500000013]>), ('amp', <Parameter 'amp', 0.15214466436794466, bounds=[-0.15638466748746482:0.15638466748746482]>), ('offset', <Parameter 'offset', 0.0042798612840255577, bounds=[-0.15634480932295944:0.312809193139435]>), ('t_on', <Parameter 't_on', 0.0025000000000000001, bounds=[0.0:0.0099960937500000006]>), ('t_rise', <Parameter 't_rise', 9.9960937500000003e-06, bounds=[0:0.099960937500000013]>)])\n",
        "(0.725106794737-0.688636432543j)"
       ]
      },
      {
       "output_type": "stream",
       "stream": "stdout",
       "text": [
        "\n",
        "(0.741854606608-0.67056076731j)\n",
        "initial guess: Parameters([('tau', <Parameter 'tau', 9.9960937500000006e-05, bounds=[0:0.099960937500000013]>), ('amp', <Parameter 'amp', 0.14445264222955639, bounds=[-0.14841515769836411:0.14841515769836411]>), ('offset', <Parameter 'offset', 0.0039768959602827407, bounds=[-0.14840077720688907:0.29684469588820328]>), ('t_on', <Parameter 't_on', 0.0025000000000000001, bounds=[0.0:0.0099960937500000006]>), ('t_rise', <Parameter 't_rise', 9.9960937500000003e-06, bounds=[0:0.099960937500000013]>)])\n",
        "(0.707097433875-0.707116128375j)"
       ]
      },
      {
       "output_type": "stream",
       "stream": "stdout",
       "text": [
        "\n",
        "(0.798821281987-0.601568416263j)\n",
        "initial guess: Parameters([('tau', <Parameter 'tau', 9.9960937500000006e-05, bounds=[0:0.099960937500000013]>), ('amp', <Parameter 'amp', 0.1482989005355102, bounds=[-0.15321265287751654:0.15321265287751654]>), ('offset', <Parameter 'offset', 0.0050554815736892789, bounds=[-0.15307092364583358:0.306567034986716]>), ('t_on', <Parameter 't_on', 0.0025000000000000001, bounds=[0.0:0.0099960937500000006]>), ('t_rise', <Parameter 't_rise', 9.9960937500000003e-06, bounds=[0:0.099960937500000013]>)])\n",
        "(0.4011506303+0.916012102436j)"
       ]
      },
      {
       "output_type": "stream",
       "stream": "stdout",
       "text": [
        "\n",
        "(0.97500197172+0.222196208658j)\n",
        "initial guess: Parameters([('tau', <Parameter 'tau', 9.9960937500000006e-05, bounds=[0:0.099960937500000013]>), ('amp', <Parameter 'amp', 0.13769870539949519, bounds=[-0.14136873701610353:0.14136873701610353]>), ('offset', <Parameter 'offset', 0.003713029500340951, bounds=[-0.14132573913237093:0.28278047191593969]>), ('t_on', <Parameter 't_on', 0.0025000000000000001, bounds=[0.0:0.0099960937500000006]>), ('t_rise', <Parameter 't_rise', 9.9960937500000003e-06, bounds=[0:0.099960937500000013]>)])\n",
        "(0.788782955901-0.614671821771j)"
       ]
      },
      {
       "output_type": "stream",
       "stream": "stdout",
       "text": [
        "\n",
        "(0.684354645859-0.729149311658j)\n",
        "initial guess: Parameters([('tau', <Parameter 'tau', 9.9960937500000006e-05, bounds=[0:0.099960937500000013]>), ('amp', <Parameter 'amp', 0.14905721209037723, bounds=[-0.15318789635334831:0.15318789635334831]>), ('offset', <Parameter 'offset', 0.0041997518245753835, bounds=[-0.15311882879174402:0.30644486026830092]>), ('t_on', <Parameter 't_on', 0.0025000000000000001, bounds=[0.0:0.0099960937500000006]>), ('t_rise', <Parameter 't_rise', 9.9960937500000003e-06, bounds=[0:0.099960937500000013]>)])\n",
        "(0.702192728278+0.711986918668j)"
       ]
      },
      {
       "output_type": "stream",
       "stream": "stdout",
       "text": [
        "\n",
        "(0.810654414649+0.585524909812j)\n",
        "initial guess: Parameters([('tau', <Parameter 'tau', 9.9960937500000006e-05, bounds=[0:0.099960937500000013]>), ('amp', <Parameter 'amp', 0.13369020159788686, bounds=[-0.13822810323966267:0.13822810323966267]>), ('offset', <Parameter 'offset', 0.004625896735628003, bounds=[-0.13814010814581049:0.27654420157317749]>), ('t_on', <Parameter 't_on', 0.0025000000000000001, bounds=[0.0:0.0099960937500000006]>), ('t_rise', <Parameter 't_rise', 9.9960937500000003e-06, bounds=[0:0.099960937500000013]>)])\n",
        "(0.419716219283-0.907655383541j)"
       ]
      },
      {
       "output_type": "stream",
       "stream": "stdout",
       "text": [
        "\n",
        "(0.976699356498-0.21461213157j)\n",
        "initial guess: Parameters([('tau', <Parameter 'tau', 9.9960937500000006e-05, bounds=[0:0.099960937500000013]>), ('amp', <Parameter 'amp', 0.13890074218379514, bounds=[-0.14238685434831247:0.14238685434831247]>), ('offset', <Parameter 'offset', 0.0036000816556620505, bounds=[-0.14227288485716774:0.28488767818776967]>), ('t_on', <Parameter 't_on', 0.0025000000000000001, bounds=[0.0:0.0099960937500000006]>), ('t_rise', <Parameter 't_rise', 9.9960937500000003e-06, bounds=[0:0.099960937500000013]>)])\n",
        "(0.589942227465+0.807445458377j)"
       ]
      },
      {
       "output_type": "stream",
       "stream": "stdout",
       "text": [
        "\n",
        "(0.867908988115+0.496723251268j)\n",
        "initial guess: Parameters([('tau', <Parameter 'tau', 9.9960937500000006e-05, bounds=[0:0.099960937500000013]>), ('amp', <Parameter 'amp', 0.13554309568115716, bounds=[-0.13904049976330538:0.13904049976330538]>), ('offset', <Parameter 'offset', 0.0035867953210397181, bounds=[-0.13895110852441386:0.27817039076550226]>), ('t_on', <Parameter 't_on', 0.0025000000000000001, bounds=[0.0:0.0099960937500000006]>), ('t_rise', <Parameter 't_rise', 9.9960937500000003e-06, bounds=[0:0.099960937500000013]>)])\n",
        "(0.730556283932+0.682852484808j)"
       ]
      },
      {
       "output_type": "stream",
       "stream": "stdout",
       "text": [
        "\n",
        "(0.757317523565+0.653046834845j)\n",
        "initial guess: Parameters([('tau', <Parameter 'tau', 9.9960937500000006e-05, bounds=[0:0.099960937500000013]>), ('amp', <Parameter 'amp', 0.13704732131253036, bounds=[-0.1405777453421119:0.1405777453421119]>), ('offset', <Parameter 'offset', 0.0035652900328808578, bounds=[-0.14054287933881257:0.28119035668752312]>), ('t_on', <Parameter 't_on', 0.0025000000000000001, bounds=[0.0:0.0099960937500000006]>), ('t_rise', <Parameter 't_rise', 9.9960937500000003e-06, bounds=[0:0.099960937500000013]>)])\n",
        "(0.80683244479+0.590780336533j)"
       ]
      },
      {
       "output_type": "stream",
       "stream": "stdout",
       "text": [
        "\n",
        "(0.671317378106+0.74117000604j)\n",
        "initial guess: Parameters([('tau', <Parameter 'tau', 9.9960937500000006e-05, bounds=[0:0.099960937500000013]>), ('amp', <Parameter 'amp', 0.13701543633749352, bounds=[-0.14065900743625778:0.14065900743625778]>), ('offset', <Parameter 'offset', 0.0037901526398984101, bounds=[-0.14051242589512364:0.28146459641364974]>), ('t_on', <Parameter 't_on', 0.0025000000000000001, bounds=[0.0:0.0099960937500000006]>), ('t_rise', <Parameter 't_rise', 9.9960937500000003e-06, bounds=[0:0.099960937500000013]>)])\n",
        "(0.499605125678-0.866253264581j)"
       ]
      },
      {
       "output_type": "stream",
       "stream": "stdout",
       "text": [
        "\n",
        "(0.949832988337-0.312757564683j)\n",
        "initial guess: Parameters([('tau', <Parameter 'tau', 9.9960937500000006e-05, bounds=[0:0.099960937500000013]>), ('amp', <Parameter 'amp', 0.13225563152524966, bounds=[-0.13601445890071015:0.13601445890071015]>), ('offset', <Parameter 'offset', 0.0038001586329440007, bounds=[-0.13597312764322664:0.27207024905890381]>), ('t_on', <Parameter 't_on', 0.0025000000000000001, bounds=[0.0:0.0099960937500000006]>), ('t_rise', <Parameter 't_rise', 9.9960937500000003e-06, bounds=[0:0.099960937500000013]>)])\n",
        "(0.476998868224-0.878903908123j)"
       ]
      },
      {
       "output_type": "stream",
       "stream": "stdout",
       "text": [
        "\n",
        "(0.976672919944-0.214732408938j)\n",
        "initial guess: Parameters([('tau', <Parameter 'tau', 9.9960937500000006e-05, bounds=[0:0.099960937500000013]>), ('amp', <Parameter 'amp', 0.13108683993696388, bounds=[-0.13472964305745511:0.13472964305745511]>), ('offset', <Parameter 'offset', 0.0036865567528321826, bounds=[-0.13468588942511414:0.26950303974725121]>), ('t_on', <Parameter 't_on', 0.0025000000000000001, bounds=[0.0:0.0099960937500000006]>), ('t_rise', <Parameter 't_rise', 9.9960937500000003e-06, bounds=[0:0.099960937500000013]>)])\n",
        "(0.737832153519-0.674984231841j)"
       ]
      },
      {
       "output_type": "stream",
       "stream": "stdout",
       "text": [
        "\n",
        "(0.75676344451-0.653688831979j)\n",
        "initial guess: Parameters([('tau', <Parameter 'tau', 9.9960937500000006e-05, bounds=[0:0.099960937500000013]>), ('amp', <Parameter 'amp', 0.12825177192086634, bounds=[-0.1317928078266658:0.1317928078266658]>), ('offset', <Parameter 'offset', 0.0036024698187056567, bounds=[-0.13173137391375961:0.2636470495662378]>), ('t_on', <Parameter 't_on', 0.0025000000000000001, bounds=[0.0:0.0099960937500000006]>), ('t_rise', <Parameter 't_rise', 9.9960937500000003e-06, bounds=[0:0.099960937500000013]>)])\n",
        "(0.554581503925-0.832129410311j)"
       ]
      },
      {
       "output_type": "stream",
       "stream": "stdout",
       "text": [
        "\n",
        "(0.990077843707-0.140519975097j)\n",
        "initial guess: Parameters([('tau', <Parameter 'tau', 9.9960937500000006e-05, bounds=[0:0.099960937500000013]>), ('amp', <Parameter 'amp', 0.11840764601839369, bounds=[-0.12273255362326774:0.12273255362326774]>), ('offset', <Parameter 'offset', 0.0043645668300391401, bounds=[-0.12269289439810264:0.24550476647170055]>), ('t_on', <Parameter 't_on', 0.0025000000000000001, bounds=[0.0:0.0099960937500000006]>), ('t_rise', <Parameter 't_rise', 9.9960937500000003e-06, bounds=[0:0.099960937500000013]>)])\n",
        "(0.567176245089-0.823596446694j)"
       ]
      },
      {
       "output_type": "stream",
       "stream": "stdout",
       "text": [
        "\n",
        "(0.993590049301-0.113043416126j)\n",
        "initial guess: Parameters([('tau', <Parameter 'tau', 9.9960937500000006e-05, bounds=[0:0.099960937500000013]>), ('amp', <Parameter 'amp', 0.11906450070930399, bounds=[-0.12215667001187604:0.12215667001187604]>), ('offset', <Parameter 'offset', 0.0031471810266035945, bounds=[-0.12210165828784449:0.24436835174778362]>), ('t_on', <Parameter 't_on', 0.0025000000000000001, bounds=[0.0:0.0099960937500000006]>), ('t_rise', <Parameter 't_rise', 9.9960937500000003e-06, bounds=[0:0.099960937500000013]>)])\n",
        "(0.749730661858-0.661743103229j)"
       ]
      },
      {
       "output_type": "stream",
       "stream": "stdout",
       "text": [
        "\n",
        "(0.76044002062-0.649408172908j)\n",
        "initial guess: Parameters([('tau', <Parameter 'tau', 9.9960937500000006e-05, bounds=[0:0.099960937500000013]>), ('amp', <Parameter 'amp', 0.12631374915156512, bounds=[-0.12962645971619624:0.12962645971619624]>), ('offset', <Parameter 'offset', 0.0034133603390941124, bounds=[-0.12952580994173324:0.25935356920685548]>), ('t_on', <Parameter 't_on', 0.0025000000000000001, bounds=[0.0:0.0099960937500000006]>), ('t_rise', <Parameter 't_rise', 9.9960937500000003e-06, bounds=[0:0.099960937500000013]>)])\n",
        "(0.556786259661-0.830655801793j)"
       ]
      },
      {
       "output_type": "stream",
       "stream": "stdout",
       "text": [
        "\n",
        "(0.915939675331-0.401315974207j)\n",
        "initial guess: Parameters([('tau', <Parameter 'tau', 9.9960937500000006e-05, bounds=[0:0.099960937500000013]>), ('amp', <Parameter 'amp', 0.12404153570046939, bounds=[-0.12727277788126895:0.12727277788126895]>), ('offset', <Parameter 'offset', 0.0032991965340662677, bounds=[-0.12720482352800225:0.25461351011580458]>), ('t_on', <Parameter 't_on', 0.0025000000000000001, bounds=[0.0:0.0099960937500000006]>), ('t_rise', <Parameter 't_rise', 9.9960937500000003e-06, bounds=[0:0.099960937500000013]>)])\n",
        "(0.6277687959+0.778399857974j)"
       ]
      },
      {
       "output_type": "stream",
       "stream": "stdout",
       "text": [
        "\n",
        "(0.865714941895+0.500537350633j)\n",
        "initial guess: Parameters([('tau', <Parameter 'tau', 9.9960937500000006e-05, bounds=[0:0.099960937500000013]>), ('amp', <Parameter 'amp', 0.12407026495181331, bounds=[-0.12728415714285057:0.12728415714285057]>), ('offset', <Parameter 'offset', 0.0032639073981464719, bounds=[-0.12723414193574137:0.25461832949281038]>), ('t_on', <Parameter 't_on', 0.0025000000000000001, bounds=[0.0:0.0099960937500000006]>), ('t_rise', <Parameter 't_rise', 9.9960937500000003e-06, bounds=[0:0.099960937500000013]>)])\n",
        "(0.971639823273-0.236465756145j)"
       ]
      },
      {
       "output_type": "stream",
       "stream": "stdout",
       "text": [
        "\n",
        "(0.929808908481-0.368042652024j)\n",
        "initial guess: Parameters([('tau', <Parameter 'tau', 9.9960937500000006e-05, bounds=[0:0.099960937500000013]>), ('amp', <Parameter 'amp', 0.033799797267445933, bounds=[-0.03643912579662674:0.03643912579662674]>), ('offset', <Parameter 'offset', 0.0027345230837298776, bounds=[-0.036343931242077666:0.072973446147802545]>), ('t_on', <Parameter 't_on', 0.0025000000000000001, bounds=[0.0:0.0099960937500000006]>), ('t_rise', <Parameter 't_rise', 9.9960937500000003e-06, bounds=[0:0.099960937500000013]>)])\n",
        "(0.999996130752+0.00278181245939j)"
       ]
      },
      {
       "output_type": "stream",
       "stream": "stdout",
       "text": [
        "\n",
        "(0.999745400837-0.0225639868936j)\n",
        "initial guess: Parameters([('tau', <Parameter 'tau', 9.9960937500000006e-05, bounds=[0:0.099960937500000013]>), ('amp', <Parameter 'amp', 0.0058604015232152492, bounds=[-0.0086774781013161401:0.0086774781013161401]>), ('offset', <Parameter 'offset', 0.0028423723240936253, bounds=[-0.0086521823553234057:0.017380251948625015]>), ('t_on', <Parameter 't_on', 0.0028164062499999999, bounds=[0.0:0.0099960937500000006]>), ('t_rise', <Parameter 't_rise', 9.9960937500000003e-06, bounds=[0:0.099960937500000013]>)])\n",
        "(0.999996998741-0.0024500016471j)"
       ]
      },
      {
       "output_type": "stream",
       "stream": "stdout",
       "text": [
        "\n",
        "(0.999995385936-0.00303777987559j)\n",
        "initial guess: Parameters([('tau', <Parameter 'tau', 9.9960937500000006e-05, bounds=[0:0.099960937500000013]>), ('amp', <Parameter 'amp', 0.0079485388363040223, bounds=[-0.011390648275478215:0.011390648275478215]>), ('offset', <Parameter 'offset', 0.0034974098613300129, bounds=[-0.011335347853322394:0.022836596973112251]>), ('t_on', <Parameter 't_on', 0.0021250000000000002, bounds=[0.0:0.0099960937500000006]>), ('t_rise', <Parameter 't_rise', 9.9960937500000003e-06, bounds=[0:0.099960937500000013]>)])\n",
        "(0.999375734068-0.0353290554153j)"
       ]
      },
      {
       "output_type": "stream",
       "stream": "stdout",
       "text": [
        "\n",
        "(0.998525987983-0.0542756973561j)\n",
        "initial guess: Parameters([('tau', <Parameter 'tau', 9.9960937500000006e-05, bounds=[0:0.099960937500000013]>), ('amp', <Parameter 'amp', 0.012538285056022887, bounds=[-0.015894936710682532:0.015894936710682532]>), ('offset', <Parameter 'offset', 0.0033952201619963365, bounds=[-0.015856368203345839:0.031828441928701753]>), ('t_on', <Parameter 't_on', 0.0025000000000000001, bounds=[0.0:0.0099960937500000006]>), ('t_rise', <Parameter 't_rise', 9.9960937500000003e-06, bounds=[0:0.099960937500000013]>)])\n",
        "(0.998755437895-0.0498755979962j)"
       ]
      },
      {
       "output_type": "stream",
       "stream": "stdout",
       "text": [
        "\n",
        "(0.997459584849-0.0712346586497j)\n",
        "initial guess: Parameters([('tau', <Parameter 'tau', 9.9960937500000006e-05, bounds=[0:0.099960937500000013]>), ('amp', <Parameter 'amp', 0.010244750646948813, bounds=[-0.013094918757757357:0.013094918757757357]>), ('offset', <Parameter 'offset', 0.0028962468602480168, bounds=[-0.013048840008317885:0.026235916264954189]>), ('t_on', <Parameter 't_on', 0.0025000000000000001, bounds=[0.0:0.0099960937500000006]>), ('t_rise', <Parameter 't_rise', 9.9960937500000003e-06, bounds=[0:0.099960937500000013]>)])\n",
        "(0.999063435939-0.0432695154722j)"
       ]
      },
      {
       "output_type": "stream",
       "stream": "stdout",
       "text": [
        "\n",
        "(0.999399115214-0.0346613402793j)\n",
        "initial guess: Parameters([('tau', <Parameter 'tau', 9.9960937500000006e-05, bounds=[0:0.099960937500000013]>), ('amp', <Parameter 'amp', 0.017696648484807842, bounds=[-0.020481239452620814:0.020481239452620814]>), ('offset', <Parameter 'offset', 0.0028272917691865135, bounds=[-0.020438538651247274:0.041005179706615172]>), ('t_on', <Parameter 't_on', 0.0025000000000000001, bounds=[0.0:0.0099960937500000006]>), ('t_rise', <Parameter 't_rise', 9.9960937500000003e-06, bounds=[0:0.099960937500000013]>)])\n",
        "(0.894936932177-0.446192657297j)"
       ]
      },
      {
       "output_type": "stream",
       "stream": "stdout",
       "text": [
        "\n",
        "(0.893409464255-0.44924328507j)\n",
        "initial guess: Parameters([('tau', <Parameter 'tau', 9.9960937500000006e-05, bounds=[0:0.099960937500000013]>), ('amp', <Parameter 'amp', 0.018046987303131382, bounds=[-0.021453949921811252:0.021453949921811252]>), ('offset', <Parameter 'offset', 0.0035299580427500289, bounds=[-0.021330954497741094:0.043030895267692659]>), ('t_on', <Parameter 't_on', 0.0025000000000000001, bounds=[0.0:0.0099960937500000006]>), ('t_rise', <Parameter 't_rise', 9.9960937500000003e-06, bounds=[0:0.099960937500000013]>)])\n",
        "(0.929260453391-0.369425242457j)"
       ]
      },
      {
       "output_type": "stream",
       "stream": "stdout",
       "text": [
        "\n",
        "(0.71318291361-0.700977982346j)\n",
        "initial guess: Parameters([('tau', <Parameter 'tau', 9.9960937500000006e-05, bounds=[0:0.099960937500000013]>), ('amp', <Parameter 'amp', 0.025387195004636005, bounds=[-0.029114259580920759:0.029114259580920759]>), ('offset', <Parameter 'offset', 0.0038255871029847766, bounds=[-0.029015737054220739:0.058327041688541539]>), ('t_on', <Parameter 't_on', 0.0025000000000000001, bounds=[0.0:0.0099960937500000006]>), ('t_rise', <Parameter 't_rise', 9.9960937500000003e-06, bounds=[0:0.099960937500000013]>)])\n",
        "(0.802171914774-0.597093141099j)"
       ]
      },
      {
       "output_type": "stream",
       "stream": "stdout",
       "text": [
        "\n",
        "(0.746908165575-0.664927208194j)\n",
        "initial guess: Parameters([('tau', <Parameter 'tau', 9.9960937500000006e-05, bounds=[0:0.099960937500000013]>), ('amp', <Parameter 'amp', 0.03342786539131732, bounds=[-0.037999703232732787:0.037999703232732787]>), ('offset', <Parameter 'offset', 0.0046208411892819847, bounds=[-0.037950699884866268:0.076048409813332093]>), ('t_on', <Parameter 't_on', 0.0025000000000000001, bounds=[0.0:0.0099960937500000006]>), ('t_rise', <Parameter 't_rise', 9.9960937500000003e-06, bounds=[0:0.099960937500000013]>)])\n",
        "(0.701244817355-0.712920546858j)"
       ]
      },
      {
       "output_type": "stream",
       "stream": "stdout",
       "text": [
        "\n",
        "(0.783732971596-0.621097922419j)\n",
        "initial guess: Parameters([('tau', <Parameter 'tau', 9.9960937500000006e-05, bounds=[0:0.099960937500000013]>), ('amp', <Parameter 'amp', 0.049561335963221653, bounds=[-0.056784678065147212:0.056784678065147212]>), ('offset', <Parameter 'offset', 0.0073535882410182222, bounds=[-0.056654431926054551:0.11369960226938708]>), ('t_on', <Parameter 't_on', 0.0025000000000000001, bounds=[0.0:0.0099960937500000006]>), ('t_rise', <Parameter 't_rise', 9.9960937500000003e-06, bounds=[0:0.099960937500000013]>)])\n",
        "(0.66311082485-0.748521231473j)"
       ]
      },
      {
       "output_type": "stream",
       "stream": "stdout",
       "text": [
        "\n",
        "(0.91097832783-0.412454223186j)\n",
        "initial guess: Parameters([('tau', <Parameter 'tau', 9.9960937500000006e-05, bounds=[0:0.099960937500000013]>), ('amp', <Parameter 'amp', 0.025861497469643772, bounds=[-0.031015355106431886:0.031015355106431886]>), ('offset', <Parameter 'offset', 0.0052167750216405287, bounds=[-0.030952437721579469:0.062093627597716188]>), ('t_on', <Parameter 't_on', 0.0025000000000000001, bounds=[0.0:0.0099960937500000006]>), ('t_rise', <Parameter 't_rise', 9.9960937500000003e-06, bounds=[0:0.099960937500000013]>)])\n",
        "(0.983047162525-0.183352873584j)"
       ]
      },
      {
       "output_type": "stream",
       "stream": "stdout",
       "text": [
        "\n",
        "(0.856210521645-0.516627082744j)\n",
        "initial guess: Parameters([('tau', <Parameter 'tau', 9.9960937500000006e-05, bounds=[0:0.099960937500000013]>), ('amp', <Parameter 'amp', 0.015163892428642476, bounds=[-0.019696637255332071:0.019696637255332071]>), ('offset', <Parameter 'offset', 0.0045625248838290899, bounds=[-0.019666857198192576:0.039423054567803636]>), ('t_on', <Parameter 't_on', 0.0025000000000000001, bounds=[0.0:0.0099960937500000006]>), ('t_rise', <Parameter 't_rise', 9.9960937500000003e-06, bounds=[0:0.099960937500000013]>)])\n",
        "(0.190489956119-0.981689144596j)"
       ]
      },
      {
       "output_type": "stream",
       "stream": "stdout",
       "text": [
        "\n",
        "(0.999999403897-0.00109188142725j)\n",
        "initial guess: Parameters([('tau', <Parameter 'tau', 9.9960937500000006e-05, bounds=[0:0.099960937500000013]>), ('amp', <Parameter 'amp', -0.12049306952918898, bounds=[-0.20563170950322379:0.20563170950322379]>), ('offset', <Parameter 'offset', 0.12113414870193143, bounds=[-0.20499063033048134:0.41190449817919006]>), ('t_on', <Parameter 't_on', 0.00075781250000000002, bounds=[0.0:0.0099960937500000006]>), ('t_rise', <Parameter 't_rise', 9.9960937500000003e-06, bounds=[0:0.099960937500000013]>)])\n",
        "(0.996532449712-0.0832050279173j)"
       ]
      },
      {
       "output_type": "stream",
       "stream": "stdout",
       "text": [
        "\n",
        "(0.996162188816-0.0875265306825j)\n",
        "initial guess: Parameters([('tau', <Parameter 'tau', 9.9960937500000006e-05, bounds=[0:0.099960937500000013]>), ('amp', <Parameter 'amp', 0.0066413132047740955, bounds=[-0.0097543021229090261:0.0097543021229090261]>), ('offset', <Parameter 'offset', 0.0031699813198281931, bounds=[-0.0096973097212157636:0.019565596647511313]>), ('t_on', <Parameter 't_on', 0.0025000000000000001, bounds=[0.0:0.0099960937500000006]>), ('t_rise', <Parameter 't_rise', 9.9960937500000003e-06, bounds=[0:0.099960937500000013]>)])\n",
        "(0.999967522086-0.00805945241564j)"
       ]
      },
      {
       "output_type": "stream",
       "stream": "stdout",
       "text": [
        "\n",
        "(0.999990876522-0.0042716358598j)\n",
        "initial guess: Parameters([('tau', <Parameter 'tau', 1.99609375e-05, bounds=[0:0.019960937500000001]>), ('amp', <Parameter 'amp', 0.0031103611778158032, bounds=[-0.0044498378478447795:0.0044498378478447795]>), ('offset', <Parameter 'offset', 0.0013621177627207086, bounds=[-0.0044271967551530473:0.0089223167883812904]>), ('t_on', <Parameter 't_on', 0.00050000000000000001, bounds=[0.0:0.00199609375]>), ('t_rise', <Parameter 't_rise', 1.9960937499999998e-06, bounds=[0:0.019960937500000001]>)])\n",
        "(0.996421236915-0.084526437431j)"
       ]
      },
      {
       "output_type": "stream",
       "stream": "stdout",
       "text": [
        "\n",
        "(0.995730848881-0.0923042609379j)\n",
        "initial guess: Parameters([('tau', <Parameter 'tau', 1.99609375e-05, bounds=[0:0.019960937500000001]>), ('amp', <Parameter 'amp', 0.0022941156934201011, bounds=[-0.0035463621493640979:0.0035463621493640979]>), ('offset', <Parameter 'offset', 0.0013556856761262324, bounds=[-0.0034429229291818623:0.0071961635189104313]>), ('t_on', <Parameter 't_on', 0.00050000000000000001, bounds=[0.0:0.00199609375]>), ('t_rise', <Parameter 't_rise', 1.9960937499999998e-06, bounds=[0:0.019960937500000001]>)])\n",
        "(0.999723969768+0.0234943455038j)"
       ]
      },
      {
       "output_type": "stream",
       "stream": "stdout",
       "text": [
        "\n",
        "(0.999429920221+0.0337614360908j)\n",
        "initial guess: Parameters([('tau', <Parameter 'tau', 1.99609375e-05, bounds=[0:0.019960937500000001]>), ('amp', <Parameter 'amp', 0.0034502149766968515, bounds=[-0.0047683072065405376:0.0047683072065405376]>), ('offset', <Parameter 'offset', 0.0013472226336616604, bounds=[-0.0047391768027225632:0.0095657448168990494]>), ('t_on', <Parameter 't_on', 0.001984375, bounds=[0.0:0.00199609375]>), ('t_rise', <Parameter 't_rise', 1.9960937499999998e-06, bounds=[0:0.019960937500000001]>)])\n",
        "(0.995982102482+0.0895525071387j)"
       ]
      },
      {
       "output_type": "stream",
       "stream": "stdout",
       "text": [
        "\n",
        "(0.989355126489+0.145521248239j)\n",
        "initial guess: Parameters([('tau', <Parameter 'tau', 1.99609375e-05, bounds=[0:0.019960937500000001]>), ('amp', <Parameter 'amp', 0.0056057569006151831, bounds=[-0.0070136926970456193:0.0070136926970456193]>), ('offset', <Parameter 'offset', 0.0015068502913070767, bounds=[-0.0069147782021689794:0.014126299888967879]>), ('t_on', <Parameter 't_on', 0.00050000000000000001, bounds=[0.0:0.00199609375]>), ('t_rise', <Parameter 't_rise', 1.9960937499999998e-06, bounds=[0:0.019960937500000001]>)])\n",
        "(0.915391293433+0.402565249254j)"
       ]
      },
      {
       "output_type": "stream",
       "stream": "stdout",
       "text": [
        "\n",
        "(0.909714060449+0.415235268519j)\n",
        "initial guess: Parameters([('tau', <Parameter 'tau', 1.99609375e-05, bounds=[0:0.019960937500000001]>), ('amp', <Parameter 'amp', 0.0066900795416879929, bounds=[-0.0081546625822890295:0.0081546625822890295]>), ('offset', <Parameter 'offset', 0.0015251645247683907, bounds=[-0.0080940810981216752:0.016369906648745415]>), ('t_on', <Parameter 't_on', 0.00050000000000000001, bounds=[0.0:0.00199609375]>), ('t_rise', <Parameter 't_rise', 1.9960937499999998e-06, bounds=[0:0.019960937500000001]>)])\n",
        "(0.884387498978+0.466753416325j)"
       ]
      },
      {
       "output_type": "stream",
       "stream": "stdout",
       "text": [
        "\n",
        "(0.898569220408+0.438831808481j)\n",
        "initial guess: Parameters([('tau', <Parameter 'tau', 1.99609375e-05, bounds=[0:0.019960937500000001]>), ('amp', <Parameter 'amp', 0.0070193423919503242, bounds=[-0.0084303592215799906:0.0084303592215799906]>), ('offset', <Parameter 'offset', 0.0014706295427101301, bounds=[-0.0083707465084995273:0.016920331156240444]>), ('t_on', <Parameter 't_on', 0.00050000000000000001, bounds=[0.0:0.00199609375]>), ('t_rise', <Parameter 't_rise', 1.9960937499999998e-06, bounds=[0:0.019960937500000001]>)])\n",
        "(0.817452417585+0.575996132786j)"
       ]
      },
      {
       "output_type": "stream",
       "stream": "stdout",
       "text": [
        "\n",
        "(0.939264655859+0.343193686211j)\n",
        "initial guess: Parameters([('tau', <Parameter 'tau', 1.99609375e-05, bounds=[0:0.019960937500000001]>), ('amp', <Parameter 'amp', 0.0075744439935031202, bounds=[-0.0091124399420059558:0.0091124399420059558]>), ('offset', <Parameter 'offset', 0.0015987761893918573, bounds=[-0.0090516597011169337:0.018285660124900932]>), ('t_on', <Parameter 't_on', 0.00050000000000000001, bounds=[0.0:0.00199609375]>), ('t_rise', <Parameter 't_rise', 1.9960937499999998e-06, bounds=[0:0.019960937500000001]>)])\n",
        "(0.738964699579+0.673744144892j)"
       ]
      },
      {
       "output_type": "stream",
       "stream": "stdout",
       "text": [
        "\n",
        "(0.971470902703+0.237158776354j)\n",
        "initial guess: Parameters([('tau', <Parameter 'tau', 1.99609375e-05, bounds=[0:0.019960937500000001]>), ('amp', <Parameter 'amp', 0.010232694298819914, bounds=[-0.011845647891073978:0.011845647891073978]>), ('offset', <Parameter 'offset', 0.0016296456609615089, bounds=[-0.011828955822366533:0.0237079878508554]>), ('t_on', <Parameter 't_on', 0.00050000000000000001, bounds=[0.0:0.00199609375]>), ('t_rise', <Parameter 't_rise', 1.9960937499999998e-06, bounds=[0:0.019960937500000001]>)])\n",
        "(0.749502711306+0.66200127322j)"
       ]
      },
      {
       "output_type": "stream",
       "stream": "stdout",
       "text": [
        "\n",
        "(0.983574037729+0.180505158666j)\n",
        "initial guess: Parameters([('tau', <Parameter 'tau', 1.99609375e-05, bounds=[0:0.019960937500000001]>), ('amp', <Parameter 'amp', 0.0092341539408263909, bounds=[-0.010798927164665443:0.010798927164665443]>), ('offset', <Parameter 'offset', 0.0016433013378075096, bounds=[-0.010720399050696985:0.021676382443299343]>), ('t_on', <Parameter 't_on', 0.00050000000000000001, bounds=[0.0:0.00199609375]>), ('t_rise', <Parameter 't_rise', 1.9960937499999998e-06, bounds=[0:0.019960937500000001]>)])\n",
        "(0.750188562886+0.661223956095j)"
       ]
      },
      {
       "output_type": "stream",
       "stream": "stdout",
       "text": [
        "\n",
        "(0.98984418649+0.142156556203j)\n",
        "initial guess: Parameters([('tau', <Parameter 'tau', 1.99609375e-05, bounds=[0:0.019960937500000001]>), ('amp', <Parameter 'amp', 0.011019950038812691, bounds=[-0.012739006383802645:0.012739006383802645]>), ('offset', <Parameter 'offset', 0.0017549038521226059, bounds=[-0.012703158876669993:0.02551386027473794]>), ('t_on', <Parameter 't_on', 0.00050000000000000001, bounds=[0.0:0.00199609375]>), ('t_rise', <Parameter 't_rise', 1.9960937499999998e-06, bounds=[0:0.019960937500000001]>)])\n",
        "(0.78305864546+0.621947873837j)"
       ]
      },
      {
       "output_type": "stream",
       "stream": "stdout",
       "text": [
        "\n",
        "(0.993284453638+0.1156978572j)\n",
        "initial guess: Parameters([('tau', <Parameter 'tau', 1.99609375e-05, bounds=[0:0.019960937500000001]>), ('amp', <Parameter 'amp', 0.0087594548111142503, bounds=[-0.010423720314092139:0.010423720314092139]>), ('offset', <Parameter 'offset', 0.0017204293676736748, bounds=[-0.010367556449396352:0.020903604492880062]>), ('t_on', <Parameter 't_on', 0.00050000000000000001, bounds=[0.0:0.00199609375]>), ('t_rise', <Parameter 't_rise', 1.9960937499999998e-06, bounds=[0:0.019960937500000001]>)])\n",
        "(0.801669135497+0.597768012854j)"
       ]
      },
      {
       "output_type": "stream",
       "stream": "stdout",
       "text": [
        "\n",
        "(0.996253815512+0.0864773674322j)\n",
        "initial guess: Parameters([('tau', <Parameter 'tau', 1.99609375e-05, bounds=[0:0.019960937500000001]>), ('amp', <Parameter 'amp', 0.010800689157041563, bounds=[-0.012454558320229561:0.012454558320229561]>), ('offset', <Parameter 'offset', 0.0016788049974308999, bounds=[-0.01242962248598666:0.024934052474702022]>), ('t_on', <Parameter 't_on', 0.00050000000000000001, bounds=[0.0:0.00199609375]>), ('t_rise', <Parameter 't_rise', 1.9960937499999998e-06, bounds=[0:0.019960937500000001]>)])\n",
        "(0.829395301184+0.558662182695j)"
       ]
      },
      {
       "output_type": "stream",
       "stream": "stdout",
       "text": [
        "\n",
        "(0.987808684488+0.1556727428j)\n",
        "initial guess: Parameters([('tau', <Parameter 'tau', 1.99609375e-05, bounds=[0:0.019960937500000001]>), ('amp', <Parameter 'amp', 0.010434081694604278, bounds=[-0.012471772094224738:0.012471772094224738]>), ('offset', <Parameter 'offset', 0.0020880525071456197, bounds=[-0.012421409986699579:0.024993906295974637]>), ('t_on', <Parameter 't_on', 0.00050000000000000001, bounds=[0.0:0.00199609375]>), ('t_rise', <Parameter 't_rise', 1.9960937499999998e-06, bounds=[0:0.019960937500000001]>)])\n",
        "(0.81816516439+0.574983272608j)"
       ]
      },
      {
       "output_type": "stream",
       "stream": "stdout",
       "text": [
        "\n",
        "(0.995669854595+0.092959887326j)\n",
        "initial guess: Parameters([('tau', <Parameter 'tau', 1.99609375e-05, bounds=[0:0.019960937500000001]>), ('amp', <Parameter 'amp', 0.009021506084470169, bounds=[-0.01063307803692406:0.01063307803692406]>), ('offset', <Parameter 'offset', 0.001678097253690462, bounds=[-0.010566552735687488:0.021332681375084692]>), ('t_on', <Parameter 't_on', 0.00050000000000000001, bounds=[0.0:0.00199609375]>), ('t_rise', <Parameter 't_rise', 1.9960937499999998e-06, bounds=[0:0.019960937500000001]>)])\n",
        "(0.770553941641+0.637374790074j)"
       ]
      },
      {
       "output_type": "stream",
       "stream": "stdout",
       "text": [
        "\n",
        "(0.995444705463+0.0953406438316j)\n",
        "initial guess: Parameters([('tau', <Parameter 'tau', 1.99609375e-05, bounds=[0:0.019960937500000001]>), ('amp', <Parameter 'amp', 0.0094709342515505376, bounds=[-0.011172832656484241:0.011172832656484241]>), ('offset', <Parameter 'offset', 0.0017837081153325423, bounds=[-0.011091022946085402:0.022427475023367321]>), ('t_on', <Parameter 't_on', 0.00050000000000000001, bounds=[0.0:0.00199609375]>), ('t_rise', <Parameter 't_rise', 1.9960937499999998e-06, bounds=[0:0.019960937500000001]>)])\n",
        "(0.830196822772+0.55747038976j)"
       ]
      },
      {
       "output_type": "stream",
       "stream": "stdout",
       "text": [
        "\n",
        "(0.996585499944+0.0825671926429j)\n",
        "initial guess: Parameters([('tau', <Parameter 'tau', 1.99609375e-05, bounds=[0:0.019960937500000001]>), ('amp', <Parameter 'amp', 0.010352071491042352, bounds=[-0.012042718955728978:0.012042718955728978]>), ('offset', <Parameter 'offset', 0.0017258491649037135, bounds=[-0.01200751725551189:0.024120639611675043]>), ('t_on', <Parameter 't_on', 0.00050000000000000001, bounds=[0.0:0.00199609375]>), ('t_rise', <Parameter 't_rise', 1.9960937499999998e-06, bounds=[0:0.019960937500000001]>)])\n",
        "(0.800649348389+0.599133224687j)"
       ]
      },
      {
       "output_type": "stream",
       "stream": "stdout",
       "text": [
        "\n",
        "(0.993691135357+0.112151359839j)\n",
        "initial guess: Parameters([('tau', <Parameter 'tau', 1.99609375e-05, bounds=[0:0.019960937500000001]>), ('amp', <Parameter 'amp', 0.0091175591262805111, bounds=[-0.010878773360581438:0.010878773360581438]>), ('offset', <Parameter 'offset', 0.0017796731569980075, bounds=[-0.010860314437884357:0.021776005643859956]>), ('t_on', <Parameter 't_on', 0.00050000000000000001, bounds=[0.0:0.00199609375]>), ('t_rise', <Parameter 't_rise', 1.9960937499999998e-06, bounds=[0:0.019960937500000001]>)])\n",
        "(0.808136241599+0.588995598467j)"
       ]
      },
      {
       "output_type": "stream",
       "stream": "stdout",
       "text": [
        "\n",
        "(0.995562752532+0.0940999775251j)\n",
        "initial guess: Parameters([('tau', <Parameter 'tau', 1.99609375e-05, bounds=[0:0.019960937500000001]>), ('amp', <Parameter 'amp', 0.0094704909114132901, bounds=[-0.010977228076772651:0.010977228076772651]>), ('offset', <Parameter 'offset', 0.0015256308161056423, bounds=[-0.010958334426026371:0.021973349804291581]>), ('t_on', <Parameter 't_on', 0.00050000000000000001, bounds=[0.0:0.00199609375]>), ('t_rise', <Parameter 't_rise', 1.9960937499999998e-06, bounds=[0:0.019960937500000001]>)])\n",
        "(0.87904580052+0.476737328713j)"
       ]
      },
      {
       "output_type": "stream",
       "stream": "stdout",
       "text": [
        "\n",
        "(0.982659523542+0.185419148935j)\n",
        "initial guess: Parameters([('tau', <Parameter 'tau', 1.99609375e-05, bounds=[0:0.019960937500000001]>), ('amp', <Parameter 'amp', 0.0090817823486173087, bounds=[-0.011072571252229466:0.011072571252229466]>), ('offset', <Parameter 'offset', 0.0020708200111400296, bounds=[-0.010992540144701595:0.022225173611986802]>), ('t_on', <Parameter 't_on', 0.00050000000000000001, bounds=[0.0:0.00199609375]>), ('t_rise', <Parameter 't_rise', 1.9960937499999998e-06, bounds=[0:0.019960937500000001]>)])\n",
        "(0.814884433559+0.579623463934j)"
       ]
      },
      {
       "output_type": "stream",
       "stream": "stdout",
       "text": [
        "\n",
        "(0.994487608477+0.104854168188j)\n",
        "initial guess: Parameters([('tau', <Parameter 'tau', 1.99609375e-05, bounds=[0:0.019960937500000001]>), ('amp', <Parameter 'amp', 0.0086570252220161924, bounds=[-0.010180811938507291:0.010180811938507291]>), ('offset', <Parameter 'offset', 0.001528908538784571, bounds=[-0.010175690116213817:0.020366745699308055]>), ('t_on', <Parameter 't_on', 0.00050000000000000001, bounds=[0.0:0.00199609375]>), ('t_rise', <Parameter 't_rise', 1.9960937499999998e-06, bounds=[0:0.019960937500000001]>)])\n",
        "(0.999634936285+0.0270184040612j)"
       ]
      },
      {
       "output_type": "stream",
       "stream": "stdout",
       "text": [
        "\n",
        "(0.999903045306+0.0139247975874j)\n",
        "initial guess: Parameters([('tau', <Parameter 'tau', 1.99609375e-05, bounds=[0:0.019960937500000001]>), ('amp', <Parameter 'amp', 0.001833944150734156, bounds=[-0.0021841013791784412:0.0021841013791784412]>), ('offset', <Parameter 'offset', 0.00035921453869369366, bounds=[-0.0021750440689290327:0.0043772600686062908]>), ('t_on', <Parameter 't_on', 0.00050000000000000001, bounds=[0.0:0.00199609375]>), ('t_rise', <Parameter 't_rise', 1.9960937499999998e-06, bounds=[0:0.019960937500000001]>)])\n",
        "(0.997178314053-0.0750693678095j)"
       ]
      },
      {
       "output_type": "stream",
       "stream": "stdout",
       "text": [
        "\n",
        "(0.999833057544-0.0182717553068j)\n",
        "initial guess: Parameters([('tau', <Parameter 'tau', 1.99609375e-05, bounds=[0:0.019960937500000001]>), ('amp', <Parameter 'amp', 0.0040590199779506316, bounds=[-0.0044331235472043571:0.0044331235472043571]>), ('offset', <Parameter 'offset', 0.00043127814306656071, bounds=[-0.0043759489733915221:0.0089234216682215484]>), ('t_on', <Parameter 't_on', 0.00050000000000000001, bounds=[0.0:0.00199609375]>), ('t_rise', <Parameter 't_rise', 1.9960937499999998e-06, bounds=[0:0.019960937500000001]>)])\n",
        "(0.998874678348-0.0474275969697j)"
       ]
      },
      {
       "output_type": "stream",
       "stream": "stdout",
       "text": [
        "\n",
        "(0.999975189479-0.00704417678584j)\n",
        "initial guess: Parameters([('tau', <Parameter 'tau', 1.99609375e-05, bounds=[0:0.019960937500000001]>), ('amp', <Parameter 'amp', 0.0053192342628509606, bounds=[-0.0057809927623336472:0.0057809927623336472]>), ('offset', <Parameter 'offset', 0.00048928307889545839, bounds=[-0.0057534681829208749:0.011589510104080067]>), ('t_on', <Parameter 't_on', 0.00050000000000000001, bounds=[0.0:0.00199609375]>), ('t_rise', <Parameter 't_rise', 1.9960937499999998e-06, bounds=[0:0.019960937500000001]>)])\n",
        "(0.992739444839-0.120284640173j)"
       ]
      },
      {
       "output_type": "stream",
       "stream": "stdout",
       "text": [
        "\n",
        "(0.999962787581-0.00862690293062j)\n",
        "initial guess: Parameters([('tau', <Parameter 'tau', 1.99609375e-05, bounds=[0:0.019960937500000001]>), ('amp', <Parameter 'amp', 0.0085143851500327529, bounds=[-0.0091118592768787542:0.0091118592768787542]>), ('offset', <Parameter 'offset', 0.00062625171857321903, bounds=[-0.009083081685151536:0.018252496145484728]>), ('t_on', <Parameter 't_on', 0.00050000000000000001, bounds=[0.0:0.00199609375]>), ('t_rise', <Parameter 't_rise', 1.9960937499999998e-06, bounds=[0:0.019960937500000001]>)])\n",
        "(0.982744576945-0.184967825538j)"
       ]
      },
      {
       "output_type": "stream",
       "stream": "stdout",
       "text": [
        "\n",
        "(0.999961065231-0.00882428591737j)\n",
        "initial guess: Parameters([('tau', <Parameter 'tau', 1.99609375e-05, bounds=[0:0.019960937500000001]>), ('amp', <Parameter 'amp', 0.012805158462521154, bounds=[-0.013601110347195067:0.013601110347195067]>), ('offset', <Parameter 'offset', 0.00079923006734437135, bounds=[-0.01359783216452461:0.027205498877060592]>), ('t_on', <Parameter 't_on', 0.00050000000000000001, bounds=[0.0:0.00199609375]>), ('t_rise', <Parameter 't_rise', 1.9960937499999998e-06, bounds=[0:0.019960937500000001]>)])\n",
        "(0.973693799603-0.22786044987j)"
       ]
      },
      {
       "output_type": "stream",
       "stream": "stdout",
       "text": [
        "\n",
        "(0.99995408651-0.00958252948729j)\n",
        "initial guess: Parameters([('tau', <Parameter 'tau', 1.99609375e-05, bounds=[0:0.019960937500000001]>), ('amp', <Parameter 'amp', 0.017675095272805436, bounds=[-0.01878598435576357:0.01878598435576357]>), ('offset', <Parameter 'offset', 0.001135008346150798, bounds=[-0.018761865092570905:0.037596087974719805]>), ('t_on', <Parameter 't_on', 0.00050000000000000001, bounds=[0.0:0.00199609375]>), ('t_rise', <Parameter 't_rise', 1.9960937499999998e-06, bounds=[0:0.019960937500000001]>)])\n",
        "(0.956685921525-0.291122049244j)"
       ]
      },
      {
       "output_type": "stream",
       "stream": "stdout",
       "text": [
        "\n",
        "(0.999979304187-0.00643359914907j)\n",
        "initial guess: Parameters([('tau', <Parameter 'tau', 1.99609375e-05, bounds=[0:0.019960937500000001]>), ('amp', <Parameter 'amp', 0.02344701783533833, bounds=[-0.024805917973942847:0.024805917973942847]>), ('offset', <Parameter 'offset', 0.001383097967700262, bounds=[-0.0247817201448471:0.049636033776981441]>), ('t_on', <Parameter 't_on', 0.00050000000000000001, bounds=[0.0:0.00199609375]>), ('t_rise', <Parameter 't_rise', 1.9960937499999998e-06, bounds=[0:0.019960937500000001]>)])\n",
        "(0.935165056016-0.35421224994j)"
       ]
      },
      {
       "output_type": "stream",
       "stream": "stdout",
       "text": [
        "\n",
        "(0.999986884447-0.00512161438437j)\n",
        "initial guess: Parameters([('tau', <Parameter 'tau', 1.99609375e-05, bounds=[0:0.019960937500000001]>), ('amp', <Parameter 'amp', 0.032170277137920852, bounds=[-0.03415493538889678:0.03415493538889678]>), ('offset', <Parameter 'offset', 0.0020065298983632076, bounds=[-0.034133063741509498:0.068331742425180836]>), ('t_on', <Parameter 't_on', 0.00050000000000000001, bounds=[0.0:0.00199609375]>), ('t_rise', <Parameter 't_rise', 1.9960937499999998e-06, bounds=[0:0.019960937500000001]>)])\n",
        "(0.890638465105-0.454712133636j)"
       ]
      },
      {
       "output_type": "stream",
       "stream": "stdout",
       "text": [
        "\n",
        "(0.999986953373-0.00510813891938j)\n",
        "initial guess: Parameters([('tau', <Parameter 'tau', 1.99609375e-05, bounds=[0:0.019960937500000001]>), ('amp', <Parameter 'amp', 0.043309162568571001, bounds=[-0.045936840634922128:0.045936840634922128]>), ('offset', <Parameter 'offset', 0.0026682544868854982, bounds=[-0.045896264214387757:0.091914257690378628]>), ('t_on', <Parameter 't_on', 0.00050000000000000001, bounds=[0.0:0.00199609375]>), ('t_rise', <Parameter 't_rise', 1.9960937499999998e-06, bounds=[0:0.019960937500000001]>)])\n",
        "(0.827728049622-0.561129464445j)"
       ]
      },
      {
       "output_type": "stream",
       "stream": "stdout",
       "text": [
        "\n",
        "(0.999972729683-0.007385112766j)\n",
        "initial guess: Parameters([('tau', <Parameter 'tau', 1.99609375e-05, bounds=[0:0.019960937500000001]>), ('amp', <Parameter 'amp', 0.056326408960835787, bounds=[-0.05988490739989951:0.05988490739989951]>), ('offset', <Parameter 'offset', 0.0036163667756597215, bounds=[-0.059827039063303514:0.11982768313639502]>), ('t_on', <Parameter 't_on', 0.00050000000000000001, bounds=[0.0:0.00199609375]>), ('t_rise', <Parameter 't_rise', 1.9960937499999998e-06, bounds=[0:0.019960937500000001]>)])\n",
        "(0.693890720556-0.720080320469j)"
       ]
      },
      {
       "output_type": "stream",
       "stream": "stdout",
       "text": [
        "\n",
        "(0.999969278977-0.00783843749099j)\n",
        "initial guess: Parameters([('tau', <Parameter 'tau', 1.99609375e-05, bounds=[0:0.019960937500000001]>), ('amp', <Parameter 'amp', 0.069205580142207693, bounds=[-0.07409547765838384:0.07409547765838384]>), ('offset', <Parameter 'offset', 0.0049460098800248303, bounds=[-0.074039365294535156:0.14824706768061635]>), ('t_on', <Parameter 't_on', 0.00050000000000000001, bounds=[0.0:0.00199609375]>), ('t_rise', <Parameter 't_rise', 1.9960937499999998e-06, bounds=[0:0.019960937500000001]>)])\n",
        "(0.532880823513-0.846190302433j)"
       ]
      },
      {
       "output_type": "stream",
       "stream": "stdout",
       "text": [
        "\n",
        "(0.999954374019-0.00955248036632j)\n",
        "initial guess: Parameters([('tau', <Parameter 'tau', 1.99609375e-05, bounds=[0:0.019960937500000001]>), ('amp', <Parameter 'amp', 0.083468577083020551, bounds=[-0.089843381222446256:0.089843381222446256]>), ('offset', <Parameter 'offset', 0.0064537390846731678, bounds=[-0.089764446277198789:0.17976569739013998]>), ('t_on', <Parameter 't_on', 0.00050000000000000001, bounds=[0.0:0.00199609375]>), ('t_rise', <Parameter 't_rise', 1.9960937499999998e-06, bounds=[0:0.019960937500000001]>)])\n",
        "(0.389344546747-0.921092190781j)"
       ]
      },
      {
       "output_type": "stream",
       "stream": "stdout",
       "text": [
        "\n",
        "(0.999906178961-0.013697929593j)\n",
        "initial guess: Parameters([('tau', <Parameter 'tau', 1.99609375e-05, bounds=[0:0.019960937500000001]>), ('amp', <Parameter 'amp', 0.093418971937410444, bounds=[-0.10140402652937611:0.10140402652937611]>), ('offset', <Parameter 'offset', 0.00801773473374689, bounds=[-0.10137134638759487:0.20284073320053345]>), ('t_on', <Parameter 't_on', 0.00050000000000000001, bounds=[0.0:0.00199609375]>), ('t_rise', <Parameter 't_rise', 1.9960937499999998e-06, bounds=[0:0.019960937500000001]>)])\n",
        "(0.225149566511-0.97432421334j)"
       ]
      },
      {
       "output_type": "stream",
       "stream": "stdout",
       "text": [
        "\n",
        "(0.999767487869-0.0215631676815j)\n",
        "initial guess: Parameters([('tau', <Parameter 'tau', 1.99609375e-05, bounds=[0:0.019960937500000001]>), ('amp', <Parameter 'amp', 0.098297444723827065, bounds=[-0.1071736717990595:0.1071736717990595]>), ('offset', <Parameter 'offset', 0.0089963058783603545, bounds=[-0.10705359299593158:0.21446742240124692]>), ('t_on', <Parameter 't_on', 0.00050000000000000001, bounds=[0.0:0.00199609375]>), ('t_rise', <Parameter 't_rise', 1.9960937499999998e-06, bounds=[0:0.019960937500000001]>)])\n",
        "(0.161232670014-0.986916423067j)"
       ]
      },
      {
       "output_type": "stream",
       "stream": "stdout",
       "text": [
        "\n",
        "(0.997944103197-0.0640903026575j)\n",
        "initial guess: Parameters([('tau', <Parameter 'tau', 1.99609375e-05, bounds=[0:0.019960937500000001]>), ('amp', <Parameter 'amp', 0.098139784816927034, bounds=[-0.10809459427630609:0.10809459427630609]>), ('offset', <Parameter 'offset', 0.010000749461669938, bounds=[-0.10804865427401521:0.21623512855490307]>), ('t_on', <Parameter 't_on', 0.00050000000000000001, bounds=[0.0:0.00199609375]>), ('t_rise', <Parameter 't_rise', 1.9960937499999998e-06, bounds=[0:0.019960937500000001]>)])\n",
        "(0.170874758062-0.985292757031j)"
       ]
      },
      {
       "output_type": "stream",
       "stream": "stdout",
       "text": [
        "\n",
        "(0.991292232436-0.13168033229j)\n",
        "initial guess: Parameters([('tau', <Parameter 'tau', 1.99609375e-05, bounds=[0:0.019960937500000001]>), ('amp', <Parameter 'amp', 0.098141935138375658, bounds=[-0.10827580389805305:0.10827580389805305]>), ('offset', <Parameter 'offset', 0.010181191622221468, bounds=[-0.10822848103550899:0.21659893065865016]>), ('t_on', <Parameter 't_on', 0.00050000000000000001, bounds=[0.0:0.00199609375]>), ('t_rise', <Parameter 't_rise', 1.9960937499999998e-06, bounds=[0:0.019960937500000001]>)])\n",
        "(0.647888763865-0.761734960244j)"
       ]
      },
      {
       "output_type": "stream",
       "stream": "stdout",
       "text": [
        "\n",
        "(0.767287009279-0.641303863541j)\n",
        "initial guess: Parameters([('tau', <Parameter 'tau', 1.99609375e-05, bounds=[0:0.019960937500000001]>), ('amp', <Parameter 'amp', 0.095181362888110119, bounds=[-0.10537110373820924:0.10537110373820924]>), ('offset', <Parameter 'offset', 0.010208565906204437, bounds=[-0.10535227868210392:0.21076103253252379]>), ('t_on', <Parameter 't_on', 0.00050000000000000001, bounds=[0.0:0.00199609375]>), ('t_rise', <Parameter 't_rise', 1.9960937499999998e-06, bounds=[0:0.019960937500000001]>)])\n",
        "(0.400204329487+0.916425935174j)"
       ]
      },
      {
       "output_type": "stream",
       "stream": "stdout",
       "text": [
        "\n",
        "(0.921604643076+0.388129980626j)\n",
        "initial guess: Parameters([('tau', <Parameter 'tau', 1.99609375e-05, bounds=[0:0.019960937500000001]>), ('amp', <Parameter 'amp', 0.095467017877403734, bounds=[-0.10560548701790611:0.10560548701790611]>), ('offset', <Parameter 'offset', 0.010270457911823693, bounds=[-0.10547349824658478:0.21134296280713355]>), ('t_on', <Parameter 't_on', 0.00050000000000000001, bounds=[0.0:0.00199609375]>), ('t_rise', <Parameter 't_rise', 1.9960937499999998e-06, bounds=[0:0.019960937500000001]>)])\n",
        "(0.49102063656+0.871147940635j)"
       ]
      },
      {
       "output_type": "stream",
       "stream": "stdout",
       "text": [
        "\n",
        "(0.876752014305+0.480942725709j)\n",
        "initial guess: Parameters([('tau', <Parameter 'tau', 1.99609375e-05, bounds=[0:0.019960937500000001]>), ('amp', <Parameter 'amp', 0.094294773605611157, bounds=[-0.10451696882854911:0.10451696882854911]>), ('offset', <Parameter 'offset', 0.010266714610003447, bounds=[-0.10447244944148361:0.20907845704416372]>), ('t_on', <Parameter 't_on', 0.00050000000000000001, bounds=[0.0:0.00199609375]>), ('t_rise', <Parameter 't_rise', 1.9960937499999998e-06, bounds=[0:0.019960937500000001]>)])\n",
        "(0.303308863247+0.952892298991j)"
       ]
      },
      {
       "output_type": "stream",
       "stream": "stdout",
       "text": [
        "\n",
        "(0.957447444629+0.288607676221j)\n",
        "initial guess: Parameters([('tau', <Parameter 'tau', 1.99609375e-05, bounds=[0:0.019960937500000001]>), ('amp', <Parameter 'amp', 0.094734826879896636, bounds=[-0.10487310102523942:0.10487310102523942]>), ('offset', <Parameter 'offset', 0.010242459830071281, bounds=[-0.10476891534051092:0.20985038773520734]>), ('t_on', <Parameter 't_on', 0.00050000000000000001, bounds=[0.0:0.00199609375]>), ('t_rise', <Parameter 't_rise', 1.9960937499999998e-06, bounds=[0:0.019960937500000001]>)])\n",
        "(0.984536697081+0.175178457869j)"
       ]
      },
      {
       "output_type": "stream",
       "stream": "stdout",
       "text": [
        "\n",
        "(0.999383968883+0.0350953378551j)\n",
        "initial guess: Parameters([('tau', <Parameter 'tau', 1.99609375e-05, bounds=[0:0.019960937500000001]>), ('amp', <Parameter 'amp', 0.0026789914989542845, bounds=[-0.0028696455674682743:0.0028696455674682743]>), ('offset', <Parameter 'offset', 0.0001987867192601383, bounds=[-0.0028615129167221258:0.0057474237856826975]>), ('t_on', <Parameter 't_on', 0.00050000000000000001, bounds=[0.0:0.00199609375]>), ('t_rise', <Parameter 't_rise', 1.9960937499999998e-06, bounds=[0:0.019960937500000001]>)])\n",
        "(0.970098615918+0.2427110945j)"
       ]
      },
      {
       "output_type": "stream",
       "stream": "stdout",
       "text": [
        "\n",
        "(0.999806069031+0.0196932559127j)\n",
        "initial guess: Parameters([('tau', <Parameter 'tau', 1.99609375e-05, bounds=[0:0.019960937500000001]>), ('amp', <Parameter 'amp', 0.0053171751957433377, bounds=[-0.0055583426506443439:0.0055583426506443439]>), ('offset', <Parameter 'offset', 0.0002488446034666437, bounds=[-0.0055506655020787065:0.011124362449854326]>), ('t_on', <Parameter 't_on', 0.00050000000000000001, bounds=[0.0:0.00199609375]>), ('t_rise', <Parameter 't_rise', 1.9960937499999998e-06, bounds=[0:0.019960937500000001]>)])\n",
        "(0.981311926689+0.192423757727j)"
       ]
      },
      {
       "output_type": "stream",
       "stream": "stdout",
       "text": [
        "\n",
        "(0.99997478458+0.00710142268363j)\n",
        "initial guess: Parameters([('tau', <Parameter 'tau', 1.99609375e-05, bounds=[0:0.019960937500000001]>), ('amp', <Parameter 'amp', 0.0082502752930231661, bounds=[-0.0085736984169054002:0.0085736984169054002]>), ('offset', <Parameter 'offset', 0.00032641692877925294, bounds=[-0.0085707046120083816:0.017150390638707817]>), ('t_on', <Parameter 't_on', 0.00050000000000000001, bounds=[0.0:0.00199609375]>), ('t_rise', <Parameter 't_rise', 1.9960937499999998e-06, bounds=[0:0.019960937500000001]>)])\n",
        "(0.985128550317+0.171818914412j)"
       ]
      },
      {
       "output_type": "stream",
       "stream": "stdout",
       "text": [
        "\n",
        "(0.999994905663+0.00319196621285j)\n",
        "initial guess: Parameters([('tau', <Parameter 'tau', 1.99609375e-05, bounds=[0:0.019960937500000001]>), ('amp', <Parameter 'amp', 0.012604866511347719, bounds=[-0.013026424484932509:0.013026424484932509]>), ('offset', <Parameter 'offset', 0.00043132052511469089, bounds=[-0.013016661933402609:0.02606261152139492]>), ('t_on', <Parameter 't_on', 0.00050000000000000001, bounds=[0.0:0.00199609375]>), ('t_rise', <Parameter 't_rise', 1.9960937499999998e-06, bounds=[0:0.019960937500000001]>)])\n",
        "(0.989445016542+0.144908796283j)"
       ]
      },
      {
       "output_type": "stream",
       "stream": "stdout",
       "text": [
        "\n",
        "(0.999996131326+0.00278160610261j)\n",
        "initial guess: Parameters([('tau', <Parameter 'tau', 1.99609375e-05, bounds=[0:0.019960937500000001]>), ('amp', <Parameter 'amp', 0.017841654882450063, bounds=[-0.01844148520121304:0.01844148520121304]>), ('offset', <Parameter 'offset', 0.00061609848346642253, bounds=[-0.018425217036509595:0.036899238567129525]>), ('t_on', <Parameter 't_on', 0.00050000000000000001, bounds=[0.0:0.00199609375]>), ('t_rise', <Parameter 't_rise', 1.9960937499999998e-06, bounds=[0:0.019960937500000001]>)])\n",
        "(0.995273301841+0.0971136171799j)"
       ]
      },
      {
       "output_type": "stream",
       "stream": "stdout",
       "text": [
        "\n",
        "(0.999999403753+0.00109201325785j)\n",
        "initial guess: Parameters([('tau', <Parameter 'tau', 1.99609375e-05, bounds=[0:0.019960937500000001]>), ('amp', <Parameter 'amp', 0.025836999240336195, bounds=[-0.026601837346688847:0.026601837346688847]>), ('offset', <Parameter 'offset', 0.0007753125698812301, bounds=[-0.026591362883160271:0.053214149156906268]>), ('t_on', <Parameter 't_on', 0.00050000000000000001, bounds=[0.0:0.00199609375]>), ('t_rise', <Parameter 't_rise', 1.9960937499999998e-06, bounds=[0:0.019960937500000001]>)])\n",
        "(0.997877055054+0.0651259011265j)"
       ]
      },
      {
       "output_type": "stream",
       "stream": "stdout",
       "text": [
        "\n",
        "(0.999999784231+0.000656915465451j)\n",
        "initial guess: Parameters([('tau', <Parameter 'tau', 1.99609375e-05, bounds=[0:0.019960937500000001]>), ('amp', <Parameter 'amp', 0.036389872980810964, bounds=[-0.037444036982729766:0.037444036982729766]>), ('offset', <Parameter 'offset', 0.001068078803910645, bounds=[-0.037430122180737921:0.074901988767451383]>), ('t_on', <Parameter 't_on', 0.00050000000000000001, bounds=[0.0:0.00199609375]>), ('t_rise', <Parameter 't_rise', 1.9960937499999998e-06, bounds=[0:0.019960937500000001]>)])\n",
        "(0.999888420434-0.0149380949806j)"
       ]
      },
      {
       "output_type": "stream",
       "stream": "stdout",
       "text": [
        "\n",
        "(0.999999986415-0.0001648325088j)\n",
        "initial guess: Parameters([('tau', <Parameter 'tau', 1.99609375e-05, bounds=[0:0.019960937500000001]>), ('amp', <Parameter 'amp', 0.049552381617021739, bounds=[-0.051088909039398715:0.051088909039398715]>), ('offset', <Parameter 'offset', 0.0015536221270371342, bounds=[-0.051071814334738556:0.10219491278345759]>), ('t_on', <Parameter 't_on', 0.00050000000000000001, bounds=[0.0:0.00199609375]>), ('t_rise', <Parameter 't_rise', 1.9960937499999998e-06, bounds=[0:0.019960937500000001]>)])\n",
        "(0.997249459665-0.0741182514509j)"
       ]
      },
      {
       "output_type": "stream",
       "stream": "stdout",
       "text": [
        "\n",
        "(0.999999812456-0.000612444218293j)\n",
        "initial guess: Parameters([('tau', <Parameter 'tau', 1.99609375e-05, bounds=[0:0.019960937500000001]>), ('amp', <Parameter 'amp', 0.068313955992810996, bounds=[-0.070488243592834343:0.070488243592834343]>), ('offset', <Parameter 'offset', 0.0021835999643196307, bounds=[-0.070478931228538058:0.14098579954996499]>), ('t_on', <Parameter 't_on', 0.00050000000000000001, bounds=[0.0:0.00199609375]>), ('t_rise', <Parameter 't_rise', 1.9960937499999998e-06, bounds=[0:0.019960937500000001]>)])\n",
        "(0.988467134977-0.151435540976j)"
       ]
      },
      {
       "output_type": "stream",
       "stream": "stdout",
       "text": [
        "\n",
        "(0.999999503526-0.000996467630411j)\n",
        "initial guess: Parameters([('tau', <Parameter 'tau', 1.99609375e-05, bounds=[0:0.019960937500000001]>), ('amp', <Parameter 'amp', 0.091185899153676794, bounds=[-0.094412024006981288:0.094412024006981288]>), ('offset', <Parameter 'offset', 0.0032399450816623801, bounds=[-0.094398203778623402:0.18883786824232046]>), ('t_on', <Parameter 't_on', 0.00050000000000000001, bounds=[0.0:0.00199609375]>), ('t_rise', <Parameter 't_rise', 1.9960937499999998e-06, bounds=[0:0.019960937500000001]>)])\n",
        "(0.967154532311-0.254189123744j)"
       ]
      },
      {
       "output_type": "stream",
       "stream": "stdout",
       "text": [
        "\n",
        "(0.99999908889-0.00134989576709j)\n",
        "initial guess: Parameters([('tau', <Parameter 'tau', 1.99609375e-05, bounds=[0:0.019960937500000001]>), ('amp', <Parameter 'amp', 0.12293630175561709, bounds=[-0.12783369410268056:0.12783369410268056]>), ('offset', <Parameter 'offset', 0.0049475845021789413, bounds=[-0.12778350194756508:0.25571758036047659]>), ('t_on', <Parameter 't_on', 0.00050000000000000001, bounds=[0.0:0.00199609375]>), ('t_rise', <Parameter 't_rise', 1.9960937499999998e-06, bounds=[0:0.019960937500000001]>)])\n",
        "(0.92351661255-0.383558426247j)"
       ]
      },
      {
       "output_type": "stream",
       "stream": "stdout",
       "text": [
        "\n",
        "(0.999998617961-0.00166255087663j)\n",
        "initial guess: Parameters([('tau', <Parameter 'tau', 1.99609375e-05, bounds=[0:0.019960937500000001]>), ('amp', <Parameter 'amp', 0.16664603791327257, bounds=[-0.17441326643706379:0.17441326643706379]>), ('offset', <Parameter 'offset', 0.0078046010057632662, bounds=[-0.17437589395509173:0.34886390535609962]>), ('t_on', <Parameter 't_on', 0.00050000000000000001, bounds=[0.0:0.00199609375]>), ('t_rise', <Parameter 't_rise', 1.9960937499999998e-06, bounds=[0:0.019960937500000001]>)])\n",
        "(0.840920348848-0.541158910944j)"
       ]
      },
      {
       "output_type": "stream",
       "stream": "stdout",
       "text": [
        "\n",
        "(0.999998033772-0.00198304111782j)\n",
        "initial guess: Parameters([('tau', <Parameter 'tau', 1.99609375e-05, bounds=[0:0.019960937500000001]>), ('amp', <Parameter 'amp', 0.21727242698357319, bounds=[-0.22926551111138069:0.22926551111138069]>), ('offset', <Parameter 'offset', 0.012021486503569375, bounds=[-0.22923710873561881:0.45855942459852328]>), ('t_on', <Parameter 't_on', 0.00050000000000000001, bounds=[0.0:0.00199609375]>), ('t_rise', <Parameter 't_rise', 1.9960937499999998e-06, bounds=[0:0.019960937500000001]>)])\n",
        "(0.699951885019-0.714190001791j)"
       ]
      },
      {
       "output_type": "stream",
       "stream": "stdout",
       "text": [
        "\n",
        "(0.999995283586-0.00307128735966j)\n",
        "initial guess: Parameters([('tau', <Parameter 'tau', 1.99609375e-05, bounds=[0:0.019960937500000001]>), ('amp', <Parameter 'amp', 0.2778531016277998, bounds=[-0.29631082757766225:0.29631082757766225]>), ('offset', <Parameter 'offset', 0.018644626213697505, bounds=[-0.2961239273138272:0.59280855541915956]>), ('t_on', <Parameter 't_on', 0.00050000000000000001, bounds=[0.0:0.00199609375]>), ('t_rise', <Parameter 't_rise', 1.9960937499999998e-06, bounds=[0:0.019960937500000001]>)])\n",
        "(0.522014056743-0.852936881934j)"
       ]
      },
      {
       "output_type": "stream",
       "stream": "stdout",
       "text": [
        "\n",
        "(0.999995922509-0.00285568986383j)\n",
        "initial guess: Parameters([('tau', <Parameter 'tau', 1.99609375e-05, bounds=[0:0.019960937500000001]>), ('amp', <Parameter 'amp', 0.32389436289666873, bounds=[-0.34866788544471156:0.34866788544471156]>), ('offset', <Parameter 'offset', 0.024874732429169155, bounds=[-0.34856667556358523:0.69743698077054939]>), ('t_on', <Parameter 't_on', 0.00050000000000000001, bounds=[0.0:0.00199609375]>), ('t_rise', <Parameter 't_rise', 1.9960937499999998e-06, bounds=[0:0.019960937500000001]>)])\n",
        "(0.372970092426-0.927843365098j)"
       ]
      },
      {
       "output_type": "stream",
       "stream": "stdout",
       "text": [
        "\n",
        "(0.999994957852-0.00317557392757j)\n",
        "initial guess: Parameters([('tau', <Parameter 'tau', 1.99609375e-05, bounds=[0:0.019960937500000001]>), ('amp', <Parameter 'amp', 0.34652760585661257, bounds=[-0.37586321036699211:0.37586321036699211]>), ('offset', <Parameter 'offset', 0.029372165769155537, bounds=[-0.37582664910821612:0.75176298199276026]>), ('t_on', <Parameter 't_on', 0.00050000000000000001, bounds=[0.0:0.00199609375]>), ('t_rise', <Parameter 't_rise', 1.9960937499999998e-06, bounds=[0:0.019960937500000001]>)])\n",
        "(0.276713187844-0.96095255433j)"
       ]
      },
      {
       "output_type": "stream",
       "stream": "stdout",
       "text": [
        "\n",
        "(0.999990036868-0.00446387329424j)\n",
        "initial guess: Parameters([('tau', <Parameter 'tau', 1.99609375e-05, bounds=[0:0.019960937500000001]>), ('amp', <Parameter 'amp', 0.35486342827317191, bounds=[-0.38723217771753848:0.38723217771753848]>), ('offset', <Parameter 'offset', 0.032455471130663383, bounds=[-0.38714545603124167:0.77455107712137372]>), ('t_on', <Parameter 't_on', 0.00050000000000000001, bounds=[0.0:0.00199609375]>), ('t_rise', <Parameter 't_rise', 1.9960937499999998e-06, bounds=[0:0.019960937500000001]>)])\n",
        "(0.231495268788-0.972836029621j)"
       ]
      },
      {
       "output_type": "stream",
       "stream": "stdout",
       "text": [
        "\n",
        "(0.999987372938-0.00502533237355j)\n",
        "initial guess: Parameters([('tau', <Parameter 'tau', 1.99609375e-05, bounds=[0:0.019960937500000001]>), ('amp', <Parameter 'amp', 0.35463087758518824, bounds=[-0.38804011241720743:0.38804011241720743]>), ('offset', <Parameter 'offset', 0.033539094550822865, bounds=[-0.38791025269840373:0.77621008455321849]>), ('t_on', <Parameter 't_on', 0.00050000000000000001, bounds=[0.0:0.00199609375]>), ('t_rise', <Parameter 't_rise', 1.9960937499999998e-06, bounds=[0:0.019960937500000001]>)])\n",
        "(0.214423449559-0.976740796875j)"
       ]
      },
      {
       "output_type": "stream",
       "stream": "stdout",
       "text": [
        "\n",
        "(0.999988293705-0.00483864173131j)\n",
        "initial guess: Parameters([('tau', <Parameter 'tau', 1.99609375e-05, bounds=[0:0.019960937500000001]>), ('amp', <Parameter 'amp', 0.35138813312313211, bounds=[-0.38472549307469195:0.38472549307469195]>), ('offset', <Parameter 'offset', 0.033532862226081199, bounds=[-0.38452999080017058:0.76964648842390526]>), ('t_on', <Parameter 't_on', 0.00050000000000000001, bounds=[0.0:0.00199609375]>), ('t_rise', <Parameter 't_rise', 1.9960937499999998e-06, bounds=[0:0.019960937500000001]>)])\n",
        "(0.210890116276-0.977509774303j)"
       ]
      },
      {
       "output_type": "stream",
       "stream": "stdout",
       "text": [
        "\n",
        "(0.999979534802-0.00639765400419j)\n",
        "initial guess: Parameters([('tau', <Parameter 'tau', 1.99609375e-05, bounds=[0:0.019960937500000001]>), ('amp', <Parameter 'amp', 0.3463222859175536, bounds=[-0.3800642026803478:0.3800642026803478]>), ('offset', <Parameter 'offset', 0.033778659859101438, bounds=[-0.38002745958404055:0.76016514845700289]>), ('t_on', <Parameter 't_on', 0.00050000000000000001, bounds=[0.0:0.00199609375]>), ('t_rise', <Parameter 't_rise', 1.9960937499999998e-06, bounds=[0:0.019960937500000001]>)])\n",
        "(0.991548127026+0.129739399533j)"
       ]
      },
      {
       "output_type": "stream",
       "stream": "stdout",
       "text": [
        "\n",
        "(0.999598076179+0.0283493580152j)\n",
        "initial guess: Parameters([('tau', <Parameter 'tau', 1.99609375e-05, bounds=[0:0.019960937500000001]>), ('amp', <Parameter 'amp', 0.0029990191749266629, bounds=[-0.0031889212280751754:0.0031889212280751754]>), ('offset', <Parameter 'offset', 0.00020576415012312771, bounds=[-0.0031730591311005603:0.006393704553124966]>), ('t_on', <Parameter 't_on', 0.00050000000000000001, bounds=[0.0:0.00199609375]>), ('t_rise', <Parameter 't_rise', 1.9960937499999998e-06, bounds=[0:0.019960937500000001]>)])\n",
        "(0.956292904694+0.292410465667j)"
       ]
      },
      {
       "output_type": "stream",
       "stream": "stdout",
       "text": [
        "\n",
        "(0.997891748611+0.0649003702206j)\n",
        "initial guess: Parameters([('tau', <Parameter 'tau', 1.99609375e-05, bounds=[0:0.019960937500000001]>), ('amp', <Parameter 'amp', 0.0040932147694461348, bounds=[-0.004364984666667529:0.004364984666667529]>), ('offset', <Parameter 'offset', 0.00028088936795113786, bounds=[-0.0043558651959377855:0.0087390888040648016]>), ('t_on', <Parameter 't_on', 0.00050000000000000001, bounds=[0.0:0.00199609375]>), ('t_rise', <Parameter 't_rise', 1.9960937499999998e-06, bounds=[0:0.019960937500000001]>)])\n",
        "(0.98413753064+0.177407217403j)"
       ]
      },
      {
       "output_type": "stream",
       "stream": "stdout",
       "text": [
        "\n",
        "(0.999890431993+0.0148028378817j)\n",
        "initial guess: Parameters([('tau', <Parameter 'tau', 1.99609375e-05, bounds=[0:0.019960937500000001]>), ('amp', <Parameter 'amp', 0.0055279553339292777, bounds=[-0.0058018727695603439:0.0058018727695603439]>), ('offset', <Parameter 'offset', 0.00028076505928473585, bounds=[-0.0057950251459066744:0.011610593162774357]>), ('t_on', <Parameter 't_on', 0.00050000000000000001, bounds=[0.0:0.00199609375]>), ('t_rise', <Parameter 't_rise', 1.9960937499999998e-06, bounds=[0:0.019960937500000001]>)])\n",
        "(0.995469846071+0.0950777869031j)"
       ]
      },
      {
       "output_type": "stream",
       "stream": "stdout",
       "text": [
        "\n",
        "(0.999866522267+0.0163382266613j)\n",
        "initial guess: Parameters([('tau', <Parameter 'tau', 1.99609375e-05, bounds=[0:0.019960937500000001]>), ('amp', <Parameter 'amp', 0.0064255805745331634, bounds=[-0.0068570278763577389:0.0068570278763577389]>), ('offset', <Parameter 'offset', 0.00044856404762005979, bounds=[-0.0068399111305622543:0.013731172498510961]>), ('t_on', <Parameter 't_on', 0.00050000000000000001, bounds=[0.0:0.00199609375]>), ('t_rise', <Parameter 't_rise', 1.9960937499999998e-06, bounds=[0:0.019960937500000001]>)])\n",
        "(0.991439924948+0.130563682621j)"
       ]
      },
      {
       "output_type": "stream",
       "stream": "stdout",
       "text": [
        "\n",
        "(0.999947152963+0.0102806264668j)\n",
        "initial guess: Parameters([('tau', <Parameter 'tau', 1.99609375e-05, bounds=[0:0.019960937500000001]>), ('amp', <Parameter 'amp', 0.0086509409935181993, bounds=[-0.0091244083449202873:0.0091244083449202873]>), ('offset', <Parameter 'offset', 0.00048694555750617807, bounds=[-0.0091109301388161978:0.018262294895944664]>), ('t_on', <Parameter 't_on', 0.00050000000000000001, bounds=[0.0:0.00199609375]>), ('t_rise', <Parameter 't_rise', 1.9960937499999998e-06, bounds=[0:0.019960937500000001]>)])\n",
        "(0.996926894193+0.0783375237988j)"
       ]
      },
      {
       "output_type": "stream",
       "stream": "stdout",
       "text": [
        "\n",
        "(0.999982598451+0.00589938935306j)\n",
        "initial guess: Parameters([('tau', <Parameter 'tau', 1.99609375e-05, bounds=[0:0.019960937500000001]>), ('amp', <Parameter 'amp', 0.010293121850069606, bounds=[-0.010841964942564009:0.010841964942564009]>), ('offset', <Parameter 'offset', 0.00056261472779427213, bounds=[-0.010828193307264139:0.021697701520427888]>), ('t_on', <Parameter 't_on', 0.00050000000000000001, bounds=[0.0:0.00199609375]>), ('t_rise', <Parameter 't_rise', 1.9960937499999998e-06, bounds=[0:0.019960937500000001]>)])\n",
        "(0.998465652073-0.0553745576156j)"
       ]
      },
      {
       "output_type": "stream",
       "stream": "stdout",
       "text": [
        "\n",
        "(0.999973548326-0.00727342061146j)\n",
        "initial guess: Parameters([('tau', <Parameter 'tau', 1.99609375e-05, bounds=[0:0.019960937500000001]>), ('amp', <Parameter 'amp', 0.011859138000619353, bounds=[-0.012636564760816645:0.012636564760816645]>), ('offset', <Parameter 'offset', 0.0008162626785757905, bounds=[-0.012597728842438146:0.02531196544001179]>), ('t_on', <Parameter 't_on', 0.00050000000000000001, bounds=[0.0:0.00199609375]>), ('t_rise', <Parameter 't_rise', 1.9960937499999998e-06, bounds=[0:0.019960937500000001]>)])\n",
        "(0.99987083168-0.0160723351j)"
       ]
      },
      {
       "output_type": "stream",
       "stream": "stdout",
       "text": [
        "\n",
        "(0.999999873439-0.000503113130358j)\n",
        "initial guess: Parameters([('tau', <Parameter 'tau', 1.99609375e-05, bounds=[0:0.019960937500000001]>), ('amp', <Parameter 'amp', 0.014050412769153302, bounds=[-0.014657342672340559:0.014657342672340559]>), ('offset', <Parameter 'offset', 0.00062173936552720015, bounds=[-0.014642533210000615:0.029329494807021059]>), ('t_on', <Parameter 't_on', 0.00050000000000000001, bounds=[0.0:0.00199609375]>), ('t_rise', <Parameter 't_rise', 1.9960937499999998e-06, bounds=[0:0.019960937500000001]>)])\n",
        "(0.995805654347-0.0914937089138j)"
       ]
      },
      {
       "output_type": "stream",
       "stream": "stdout",
       "text": [
        "\n",
        "(0.999996728623-0.00255787877128j)\n",
        "initial guess: Parameters([('tau', <Parameter 'tau', 1.99609375e-05, bounds=[0:0.019960937500000001]>), ('amp', <Parameter 'amp', 0.016265671680032061, bounds=[-0.0170470927909371:0.0170470927909371]>), ('offset', <Parameter 'offset', 0.00078745061357574618, bounds=[-0.017041063288266392:0.034100215084544909]>), ('t_on', <Parameter 't_on', 0.00050000000000000001, bounds=[0.0:0.00199609375]>), ('t_rise', <Parameter 't_rise', 1.9960937499999998e-06, bounds=[0:0.019960937500000001]>)])\n",
        "(0.980325826573-0.197386103245j)"
       ]
      },
      {
       "output_type": "stream",
       "stream": "stdout",
       "text": [
        "\n",
        "(0.99998459652-0.00555038044598j)\n",
        "initial guess: Parameters([('tau', <Parameter 'tau', 1.99609375e-05, bounds=[0:0.019960937500000001]>), ('amp', <Parameter 'amp', 0.017116141677643089, bounds=[-0.018039781273081354:0.018039781273081354]>), ('offset', <Parameter 'offset', 0.00092938362430466926, bounds=[-0.01803403724421495:0.036085306575029112]>), ('t_on', <Parameter 't_on', 0.00050000000000000001, bounds=[0.0:0.00199609375]>), ('t_rise', <Parameter 't_rise', 1.9960937499999998e-06, bounds=[0:0.019960937500000001]>)])\n",
        "(0.956115009706-0.292991617995j)"
       ]
      },
      {
       "output_type": "stream",
       "stream": "stdout",
       "text": [
        "\n",
        "(0.999947854477-0.0102121656416j)\n",
        "initial guess: Parameters([('tau', <Parameter 'tau', 1.99609375e-05, bounds=[0:0.019960937500000001]>), ('amp', <Parameter 'amp', 0.018681487113296411, bounds=[-0.019807216646320795:0.019807216646320795]>), ('offset', <Parameter 'offset', 0.0011513851667917497, bounds=[-0.01978156101255343:0.039640088926408953]>), ('t_on', <Parameter 't_on', 0.00050000000000000001, bounds=[0.0:0.00199609375]>), ('t_rise', <Parameter 't_rise', 1.9960937499999998e-06, bounds=[0:0.019960937500000001]>)])\n",
        "(0.92048830736-0.390770106347j)"
       ]
      },
      {
       "output_type": "stream",
       "stream": "stdout",
       "text": [
        "\n",
        "(0.998490579566-0.0549232420587j)\n",
        "initial guess: Parameters([('tau', <Parameter 'tau', 1.99609375e-05, bounds=[0:0.019960937500000001]>), ('amp', <Parameter 'amp', 0.020083995779646643, bounds=[-0.022327429144024451:0.022327429144024451]>), ('offset', <Parameter 'offset', 0.0022883028998584953, bounds=[-0.022282559608543764:0.044699727823529586]>), ('t_on', <Parameter 't_on', 0.00050000000000000001, bounds=[0.0:0.00199609375]>), ('t_rise', <Parameter 't_rise', 1.9960937499999998e-06, bounds=[0:0.019960937500000001]>)])\n",
        "(0.801293460697-0.598271501781j)"
       ]
      },
      {
       "output_type": "stream",
       "stream": "stdout",
       "text": [
        "\n",
        "(0.998891181468-0.0470787381539j)\n",
        "initial guess: Parameters([('tau', <Parameter 'tau', 1.99609375e-05, bounds=[0:0.019960937500000001]>), ('amp', <Parameter 'amp', 0.017582002258182794, bounds=[-0.019352620278421055:0.019352620278421055]>), ('offset', <Parameter 'offset', 0.0018129447339341161, bounds=[-0.0193102935647252:0.038747567270537964]>), ('t_on', <Parameter 't_on', 0.00050000000000000001, bounds=[0.0:0.00199609375]>), ('t_rise', <Parameter 't_rise', 1.9960937499999998e-06, bounds=[0:0.019960937500000001]>)])\n",
        "(0.678984114712-0.734152962242j)"
       ]
      },
      {
       "output_type": "stream",
       "stream": "stdout",
       "text": [
        "\n",
        "(0.98861504267-0.150466931269j)\n",
        "initial guess: Parameters([('tau', <Parameter 'tau', 1.99609375e-05, bounds=[0:0.019960937500000001]>), ('amp', <Parameter 'amp', 0.016058263943317448, bounds=[-0.018078472226884489:0.018078472226884489]>), ('offset', <Parameter 'offset', 0.0020346532247302145, bounds=[-0.018064027285721315:0.036171389394932155]>), ('t_on', <Parameter 't_on', 0.00050000000000000001, bounds=[0.0:0.00199609375]>), ('t_rise', <Parameter 't_rise', 1.9960937499999998e-06, bounds=[0:0.019960937500000001]>)])\n",
        "(0.735336485726-0.67770218589j)"
       ]
      },
      {
       "output_type": "stream",
       "stream": "stdout",
       "text": [
        "\n",
        "(0.919250391798-0.393673363563j)\n",
        "initial guess: Parameters([('tau', <Parameter 'tau', 1.99609375e-05, bounds=[0:0.019960937500000001]>), ('amp', <Parameter 'amp', 0.010807502464757666, bounds=[-0.012789470133808557:0.012789470133808557]>), ('offset', <Parameter 'offset', 0.0020195128478442087, bounds=[-0.012751924955015238:0.025616485446410431]>), ('t_on', <Parameter 't_on', 0.00050000000000000001, bounds=[0.0:0.00199609375]>), ('t_rise', <Parameter 't_rise', 1.9960937499999998e-06, bounds=[0:0.019960937500000001]>)])\n",
        "(0.950142429049-0.311816235178j)"
       ]
      },
      {
       "output_type": "stream",
       "stream": "stdout",
       "text": [
        "\n",
        "(0.858060764333-0.513548171755j)\n",
        "initial guess: Parameters([('tau', <Parameter 'tau', 1.99609375e-05, bounds=[0:0.019960937500000001]>), ('amp', <Parameter 'amp', 0.006169082628950614, bounds=[-0.0077882383454472492:0.0077882383454472492]>), ('offset', <Parameter 'offset', 0.0016577538217392971, bounds=[-0.0077496402402045875:0.015615074796137159]>), ('t_on', <Parameter 't_on', 0.0010078125, bounds=[0.0:0.00199609375]>), ('t_rise', <Parameter 't_rise', 1.9960937499999998e-06, bounds=[0:0.019960937500000001]>)])\n",
        "(0.998814642973-0.0486755481064j)"
       ]
      },
      {
       "output_type": "stream",
       "stream": "stdout",
       "text": [
        "\n",
        "(0.997657002628-0.068414217136j)\n",
        "initial guess: Parameters([('tau', <Parameter 'tau', 1.99609375e-05, bounds=[0:0.019960937500000001]>), ('amp', <Parameter 'amp', 0.0032283795733141617, bounds=[-0.0046209035577919576:0.0046209035577919576]>), ('offset', <Parameter 'offset', 0.0014971493197466906, bounds=[-0.0045162782225230628:0.00934643245085281]>), ('t_on', <Parameter 't_on', 0.00050000000000000001, bounds=[0.0:0.00199609375]>), ('t_rise', <Parameter 't_rise', 1.9960937499999998e-06, bounds=[0:0.019960937500000001]>)])\n",
        "(0.999944457925-0.01053950027j)"
       ]
      },
      {
       "output_type": "stream",
       "stream": "stdout",
       "text": [
        "\n",
        "(0.999935688929-0.0113409878901j)\n",
        "initial guess: Parameters([('tau', <Parameter 'tau', 1.99609375e-05, bounds=[0:0.019960937500000001]>), ('amp', <Parameter 'amp', 0.0031542066536614996, bounds=[-0.0046237436736108421:0.0046237436736108421]>), ('offset', <Parameter 'offset', 0.0015276029553425467, bounds=[-0.0045656777382176378:0.0093055532826148875]>), ('t_on', <Parameter 't_on', 0.00050000000000000001, bounds=[0.0:0.00199609375]>), ('t_rise', <Parameter 't_rise', 1.9960937499999998e-06, bounds=[0:0.019960937500000001]>)])\n",
        "(0.999852890062-0.0171522078846j)"
       ]
      },
      {
       "output_type": "stream",
       "stream": "stdout",
       "text": [
        "\n",
        "(0.999882663602-0.0153185843939j)\n",
        "initial guess: Parameters([('tau', <Parameter 'tau', 1.99609375e-05, bounds=[0:0.019960937500000001]>), ('amp', <Parameter 'amp', 0.0041399900063735237, bounds=[-0.0057676952043874902:0.0057676952043874902]>), ('offset', <Parameter 'offset', 0.0016712259090510791, bounds=[-0.0057241744933503773:0.011578911119812093]>), ('t_on', <Parameter 't_on', 0.00050000000000000001, bounds=[0.0:0.00199609375]>), ('t_rise', <Parameter 't_rise', 1.9960937499999998e-06, bounds=[0:0.019960937500000001]>)])\n",
        "(0.996266243449+0.0863340730174j)"
       ]
      },
      {
       "output_type": "stream",
       "stream": "stdout",
       "text": [
        "\n",
        "(0.99576627487+0.091921302382j)\n",
        "initial guess: Parameters([('tau', <Parameter 'tau', 1.99609375e-05, bounds=[0:0.019960937500000001]>), ('amp', <Parameter 'amp', 0.003475905797111851, bounds=[-0.0047514513894092621:0.0047514513894092621]>), ('offset', <Parameter 'offset', 0.0014239652148858638, bounds=[-0.0046030317668208096:0.0096513224014069775]>), ('t_on', <Parameter 't_on', 0.00050000000000000001, bounds=[0.0:0.00199609375]>), ('t_rise', <Parameter 't_rise', 1.9960937499999998e-06, bounds=[0:0.019960937500000001]>)])\n",
        "(0.987165066614+0.159703260009j)"
       ]
      },
      {
       "output_type": "stream",
       "stream": "stdout",
       "text": [
        "\n",
        "(0.999901644005+0.0140250603216j)\n",
        "initial guess: Parameters([('tau', <Parameter 'tau', 1.99609375e-05, bounds=[0:0.019960937500000001]>), ('amp', <Parameter 'amp', 0.010037781728469653, bounds=[-0.010433429074745343:0.010433429074745343]>), ('offset', <Parameter 'offset', 0.00041785471484876449, bounds=[-0.010411221706172268:0.02088906551806376]>), ('t_on', <Parameter 't_on', 0.00050000000000000001, bounds=[0.0:0.00199609375]>), ('t_rise', <Parameter 't_rise', 1.9960937499999998e-06, bounds=[0:0.019960937500000001]>)])\n",
        "(0.985600303997+0.169091811632j)"
       ]
      },
      {
       "output_type": "stream",
       "stream": "stdout",
       "text": [
        "\n",
        "(0.999966311178+0.00820831955008j)\n",
        "initial guess: Parameters([('tau', <Parameter 'tau', 1.99609375e-05, bounds=[0:0.019960937500000001]>), ('amp', <Parameter 'amp', 0.011788471249129078, bounds=[-0.012239373949274886:0.012239373949274886]>), ('offset', <Parameter 'offset', 0.00046535859548247455, bounds=[-0.012224918053938218:0.024493203793886441]>), ('t_on', <Parameter 't_on', 0.00050000000000000001, bounds=[0.0:0.00199609375]>), ('t_rise', <Parameter 't_rise', 1.9960937499999998e-06, bounds=[0:0.019960937500000001]>)])\n",
        "(0.992111899232+0.125355412341j)"
       ]
      },
      {
       "output_type": "stream",
       "stream": "stdout",
       "text": [
        "\n",
        "(0.999994024328+0.00345706653534j)\n",
        "initial guess: Parameters([('tau', <Parameter 'tau', 1.99609375e-05, bounds=[0:0.019960937500000001]>), ('amp', <Parameter 'amp', 0.015424379119212052, bounds=[-0.015910760555167096:0.015910760555167096]>), ('offset', <Parameter 'offset', 0.00049419794362156092, bounds=[-0.015902944047500579:0.031829337618000705]>), ('t_on', <Parameter 't_on', 0.00050000000000000001, bounds=[0.0:0.00199609375]>), ('t_rise', <Parameter 't_rise', 1.9960937499999998e-06, bounds=[0:0.019960937500000001]>)])\n",
        "(0.996715111848+0.0809875658002j)"
       ]
      },
      {
       "output_type": "stream",
       "stream": "stdout",
       "text": [
        "\n",
        "(0.999998211981+0.00189104093025j)\n",
        "initial guess: Parameters([('tau', <Parameter 'tau', 1.99609375e-05, bounds=[0:0.019960937500000001]>), ('amp', <Parameter 'amp', 0.018532019051882724, bounds=[-0.019111640097427478:0.019111640097427478]>), ('offset', <Parameter 'offset', 0.00058815256703416798, bounds=[-0.019103108575938065:0.03823181171634437]>), ('t_on', <Parameter 't_on', 0.00050000000000000001, bounds=[0.0:0.00199609375]>), ('t_rise', <Parameter 't_rise', 1.9960937499999998e-06, bounds=[0:0.019960937500000001]>)])\n",
        "(0.997761075411+0.0668792672986j)"
       ]
      },
      {
       "output_type": "stream",
       "stream": "stdout",
       "text": [
        "\n",
        "(0.999999337949+0.00115069608524j)\n",
        "initial guess: Parameters([('tau', <Parameter 'tau', 1.99609375e-05, bounds=[0:0.019960937500000001]>), ('amp', <Parameter 'amp', 0.022648965363482015, bounds=[-0.023361500806770373:0.023361500806770373]>), ('offset', <Parameter 'offset', 0.00073859779677004048, bounds=[-0.023335438453288691:0.046749063967022428]>), ('t_on', <Parameter 't_on', 0.00050000000000000001, bounds=[0.0:0.00199609375]>), ('t_rise', <Parameter 't_rise', 1.9960937499999998e-06, bounds=[0:0.019960937500000001]>)])\n",
        "(0.999932207022-0.0116439409546j)"
       ]
      },
      {
       "output_type": "stream",
       "stream": "stdout",
       "text": [
        "\n",
        "(0.999999973928-0.000228350814771j)\n",
        "initial guess: Parameters([('tau', <Parameter 'tau', 1.99609375e-05, bounds=[0:0.019960937500000001]>), ('amp', <Parameter 'amp', 0.025892934472260595, bounds=[-0.02684282719380893:0.02684282719380893]>), ('offset', <Parameter 'offset', 0.00097052217534559213, bounds=[-0.026822197740011672:0.053706283841415119]>), ('t_on', <Parameter 't_on', 0.00050000000000000001, bounds=[0.0:0.00199609375]>), ('t_rise', <Parameter 't_rise', 1.9960937499999998e-06, bounds=[0:0.019960937500000001]>)])\n",
        "(0.998636488175-0.0522031079975j)"
       ]
      },
      {
       "output_type": "stream",
       "stream": "stdout",
       "text": [
        "\n",
        "(0.999999770668-0.000677247050037j)\n",
        "initial guess: Parameters([('tau', <Parameter 'tau', 1.99609375e-05, bounds=[0:0.019960937500000001]>), ('amp', <Parameter 'amp', 0.030097291428330369, bounds=[-0.031171540800135504:0.031171540800135504]>), ('offset', <Parameter 'offset', 0.0010956232896691519, bounds=[-0.031150166882271488:0.06236445551813502]>), ('t_on', <Parameter 't_on', 0.00050000000000000001, bounds=[0.0:0.00199609375]>), ('t_rise', <Parameter 't_rise', 1.9960937499999998e-06, bounds=[0:0.019960937500000001]>)])\n",
        "(0.993371337379-0.114949493576j)"
       ]
      },
      {
       "output_type": "stream",
       "stream": "stdout",
       "text": [
        "\n",
        "(0.999998410705-0.00178285946908j)\n",
        "initial guess: Parameters([('tau', <Parameter 'tau', 1.99609375e-05, bounds=[0:0.019960937500000001]>), ('amp', <Parameter 'amp', 0.035411169973233458, bounds=[-0.036763417549994924:0.036763417549994924]>), ('offset', <Parameter 'offset', 0.0013708440454769054, bounds=[-0.036744821081279487:0.073545431568705286]>), ('t_on', <Parameter 't_on', 0.00050000000000000001, bounds=[0.0:0.00199609375]>), ('t_rise', <Parameter 't_rise', 1.9960937499999998e-06, bounds=[0:0.019960937500000001]>)])\n",
        "(0.979324723661-0.202294551648j)"
       ]
      },
      {
       "output_type": "stream",
       "stream": "stdout",
       "text": [
        "\n",
        "(0.99999640919-0.00267985223194j)\n",
        "initial guess: Parameters([('tau', <Parameter 'tau', 1.99609375e-05, bounds=[0:0.019960937500000001]>), ('amp', <Parameter 'amp', 0.040388645689375627, bounds=[-0.042109118613617935:0.042109118613617935]>), ('offset', <Parameter 'offset', 0.0017292944318901113, bounds=[-0.04210029710597013:0.084227058734883675]>), ('t_on', <Parameter 't_on', 0.00050000000000000001, bounds=[0.0:0.00199609375]>), ('t_rise', <Parameter 't_rise', 1.9960937499999998e-06, bounds=[0:0.019960937500000001]>)])\n",
        "(0.951278478542-0.308333028173j)"
       ]
      },
      {
       "output_type": "stream",
       "stream": "stdout",
       "text": [
        "\n",
        "(0.99999610999-0.00278926584629j)\n",
        "initial guess: Parameters([('tau', <Parameter 'tau', 1.99609375e-05, bounds=[0:0.019960937500000001]>), ('amp', <Parameter 'amp', 0.045406106213573647, bounds=[-0.047571478835264691:0.047571478835264691]>), ('offset', <Parameter 'offset', 0.0021848587851004101, bounds=[-0.047551992671855323:0.095162443833938751]>), ('t_on', <Parameter 't_on', 0.00050000000000000001, bounds=[0.0:0.00199609375]>), ('t_rise', <Parameter 't_rise', 1.9960937499999998e-06, bounds=[0:0.019960937500000001]>)])\n",
        "(0.896335045327-0.443377363561j)"
       ]
      },
      {
       "output_type": "stream",
       "stream": "stdout",
       "text": [
        "\n",
        "(0.999984971599-0.00548238788422j)\n",
        "initial guess: Parameters([('tau', <Parameter 'tau', 1.99609375e-05, bounds=[0:0.019960937500000001]>), ('amp', <Parameter 'amp', 0.050799386651219657, bounds=[-0.053592807177501298:0.053592807177501298]>), ('offset', <Parameter 'offset', 0.0028334321827935462, bounds=[-0.053552795520989391:0.1072256260115145]>), ('t_on', <Parameter 't_on', 0.00050000000000000001, bounds=[0.0:0.00199609375]>), ('t_rise', <Parameter 't_rise', 1.9960937499999998e-06, bounds=[0:0.019960937500000001]>)])\n",
        "(0.795230207548-0.606307609224j)"
       ]
      },
      {
       "output_type": "stream",
       "stream": "stdout",
       "text": [
        "\n",
        "(0.999837349432-0.0180353730657j)\n",
        "initial guess: Parameters([('tau', <Parameter 'tau', 1.99609375e-05, bounds=[0:0.019960937500000001]>), ('amp', <Parameter 'amp', 0.051873130023353177, bounds=[-0.055640811638760154:0.055640811638760154]>), ('offset', <Parameter 'offset', 0.0038204983182423703, bounds=[-0.055587994935924763:0.11133443998035569]>), ('t_on', <Parameter 't_on', 0.00050000000000000001, bounds=[0.0:0.00199609375]>), ('t_rise', <Parameter 't_rise', 1.9960937499999998e-06, bounds=[0:0.019960937500000001]>)])\n",
        "(0.643387849352-0.765540381238j)"
       ]
      },
      {
       "output_type": "stream",
       "stream": "stdout",
       "text": [
        "\n",
        "(0.999873713591-0.0158920379122j)\n",
        "initial guess: Parameters([('tau', <Parameter 'tau', 1.99609375e-05, bounds=[0:0.019960937500000001]>), ('amp', <Parameter 'amp', 0.050940652529250896, bounds=[-0.054869215328694293:0.054869215328694293]>), ('offset', <Parameter 'offset', 0.0039897547955826543, bounds=[-0.054808023332555036:0.10979962265352784]>), ('t_on', <Parameter 't_on', 0.00050000000000000001, bounds=[0.0:0.00199609375]>), ('t_rise', <Parameter 't_rise', 1.9960937499999998e-06, bounds=[0:0.019960937500000001]>)])\n",
        "(0.456545855289-0.889699883117j)"
       ]
      },
      {
       "output_type": "stream",
       "stream": "stdout",
       "text": [
        "\n",
        "(0.998924324292-0.0463701880385j)\n",
        "initial guess: Parameters([('tau', <Parameter 'tau', 1.99609375e-05, bounds=[0:0.019960937500000001]>), ('amp', <Parameter 'amp', 0.04258646324582447, bounds=[-0.046625545872645099:0.046625545872645099]>), ('offset', <Parameter 'offset', 0.004069337263643431, bounds=[-0.046595291235822296:0.093281346382112995]>), ('t_on', <Parameter 't_on', 0.00050000000000000001, bounds=[0.0:0.00199609375]>), ('t_rise', <Parameter 't_rise', 1.9960937499999998e-06, bounds=[0:0.019960937500000001]>)])\n",
        "(0.338486859222-0.94097111865j)"
       ]
      },
      {
       "output_type": "stream",
       "stream": "stdout",
       "text": [
        "\n",
        "(0.990827932391-0.135129598509j)\n",
        "initial guess: Parameters([('tau', <Parameter 'tau', 1.99609375e-05, bounds=[0:0.019960937500000001]>), ('amp', <Parameter 'amp', 0.029449542411401693, bounds=[-0.033055561296103236:0.033055561296103236]>), ('offset', <Parameter 'offset', 0.0036529609127451002, bounds=[-0.033008619268059682:0.066158064620250034]>), ('t_on', <Parameter 't_on', 0.00050000000000000001, bounds=[0.0:0.00199609375]>), ('t_rise', <Parameter 't_rise', 1.9960937499999998e-06, bounds=[0:0.019960937500000001]>)])\n",
        "(0.621450035468-0.783453797883j)"
       ]
      },
      {
       "output_type": "stream",
       "stream": "stdout",
       "text": [
        "\n",
        "(0.857886219192-0.513839697689j)\n",
        "initial guess: Parameters([('tau', <Parameter 'tau', 1.99609375e-05, bounds=[0:0.019960937500000001]>), ('amp', <Parameter 'amp', 0.019770256300568872, bounds=[-0.022485427626116584:0.022485427626116584]>), ('offset', <Parameter 'offset', 0.0029012180095602225, bounds=[-0.022299380942104076:0.045156901936245677]>), ('t_on', <Parameter 't_on', 0.00050000000000000001, bounds=[0.0:0.00199609375]>), ('t_rise', <Parameter 't_rise', 1.9960937499999998e-06, bounds=[0:0.019960937500000001]>)])\n",
        "(0.991616321548+0.129217146074j)"
       ]
      },
      {
       "output_type": "stream",
       "stream": "stdout",
       "text": [
        "\n",
        "(0.788692500232+0.614787882181j)\n",
        "initial guess: Parameters([('tau', <Parameter 'tau', 1.99609375e-05, bounds=[0:0.019960937500000001]>), ('amp', <Parameter 'amp', 0.012974160528464328, bounds=[-0.015074198865812042:0.015074198865812042]>), ('offset', <Parameter 'offset', 0.0022312014379365385, bounds=[-0.014943035765223218:0.030279560832212907]>), ('t_on', <Parameter 't_on', 0.00050000000000000001, bounds=[0.0:0.00199609375]>), ('t_rise', <Parameter 't_rise', 1.9960937499999998e-06, bounds=[0:0.019960937500000001]>)])\n",
        "(0.999627958136-0.0272753609014j)"
       ]
      },
      {
       "output_type": "stream",
       "stream": "stdout",
       "text": [
        "\n",
        "(0.996866635242-0.0791006418574j)\n",
        "initial guess: Parameters([('tau', <Parameter 'tau', 1.99609375e-05, bounds=[0:0.019960937500000001]>), ('amp', <Parameter 'amp', 0.007260359560061015, bounds=[-0.0090313397653535923:0.0090313397653535923]>), ('offset', <Parameter 'offset', 0.0018184135214881205, bounds=[-0.0089839064491580491:0.018110112846902726]>), ('t_on', <Parameter 't_on', 0.00050000000000000001, bounds=[0.0:0.00199609375]>), ('t_rise', <Parameter 't_rise', 1.9960937499999998e-06, bounds=[0:0.019960937500000001]>)])\n",
        "(0.999769681753+0.0214612079596j)"
       ]
      },
      {
       "output_type": "stream",
       "stream": "stdout",
       "text": [
        "\n",
        "(0.999567082611+0.0294218857487j)\n",
        "initial guess: Parameters([('tau', <Parameter 'tau', 1.99609375e-05, bounds=[0:0.019960937500000001]>), ('amp', <Parameter 'amp', 0.0044007090611262005, bounds=[-0.0067013468353196723:0.0067013468353196723]>), ('offset', <Parameter 'offset', 0.0023972663714023536, bounds=[-0.0066047182381107905:0.013499322267848227]>), ('t_on', <Parameter 't_on', 0.00050000000000000001, bounds=[0.0:0.00199609375]>), ('t_rise', <Parameter 't_rise', 1.9960937499999998e-06, bounds=[0:0.019960937500000001]>)])\n",
        "(0.999488774236+0.031971708989j)"
       ]
      },
      {
       "output_type": "stream",
       "stream": "stdout",
       "text": [
        "\n",
        "(0.999355407175+0.0358994449953j)\n",
        "initial guess: Parameters([('tau', <Parameter 'tau', 1.99609375e-05, bounds=[0:0.019960937500000001]>), ('amp', <Parameter 'amp', 0.0037002904974543236, bounds=[-0.0050539097222972919:0.0050539097222972919]>), ('offset', <Parameter 'offset', 0.0014700961691372699, bounds=[-0.0049374327780029904:0.010224296388888885]>), ('t_on', <Parameter 't_on', 0.00050000000000000001, bounds=[0.0:0.00199609375]>), ('t_rise', <Parameter 't_rise', 1.9960937499999998e-06, bounds=[0:0.019960937500000001]>)])\n",
        "/home/data2/rtl/2015-03-10_16-14-49_pin_atten_character_4.000000_4.000000_turns.npz"
       ]
      },
      {
       "output_type": "stream",
       "stream": "stdout",
       "text": [
        " 'sample_rate is not a file in the archive'\n",
        "/home/data2/rtl/2015-03-10_16-20-41_pin_atten_character_4.000000_4.000000_turns.npz 'sample_rate is not a file in the archive'\n",
        "/home/data2/rtl/2015-03-10_16-47-06_pin_atten_character_5.000000_5.000000_turns.npz 'sample_rate is not a file in the archive'\n",
        "/home/data2/rtl/2015-03-10_16-56-00_pin_atten_character_6.000000_6.000000_turns.npz 'sample_rate is not a file in the archive'\n",
        "(0.756617013203-0.653858314417j)"
       ]
      },
      {
       "output_type": "stream",
       "stream": "stdout",
       "text": [
        "\n",
        "(0.907598989124-0.419838153271j)\n",
        "initial guess: Parameters([('tau', <Parameter 'tau', 1.99609375e-05, bounds=[0:0.019960937500000001]>), ('amp', <Parameter 'amp', 0.011989946678337277, bounds=[-0.013870054498119582:0.013870054498119582]>), ('offset', <Parameter 'offset', 0.0019270172752681091, bounds=[-0.013823145042633777:0.027787018451724967]>), ('t_on', <Parameter 't_on', 0.00050000000000000001, bounds=[0.0:0.00199609375]>), ('t_rise', <Parameter 't_rise', 1.9960937499999998e-06, bounds=[0:0.019960937500000001]>)])\n",
        "(0.585466597654+0.810696529555j)"
       ]
      },
      {
       "output_type": "stream",
       "stream": "stdout",
       "text": [
        "\n",
        "(0.96172199476+0.274027014719j)\n",
        "initial guess: Parameters([('tau', <Parameter 'tau', 1.99609375e-05, bounds=[0:0.019960937500000001]>), ('amp', <Parameter 'amp', 0.013425351551105186, bounds=[-0.015907628904006075:0.015907628904006075]>), ('offset', <Parameter 'offset', 0.0025952657165564507, bounds=[-0.015794640540350513:0.031928246171667715]>), ('t_on', <Parameter 't_on', 0.00050000000000000001, bounds=[0.0:0.00199609375]>), ('t_rise', <Parameter 't_rise', 1.9960937499999998e-06, bounds=[0:0.019960937500000001]>)])\n",
        "(0.603452546216-0.797398911753j)"
       ]
      },
      {
       "output_type": "stream",
       "stream": "stdout",
       "text": [
        "\n",
        "(0.952818453393-0.303540763117j)\n",
        "initial guess: Parameters([('tau', <Parameter 'tau', 1.99609375e-05, bounds=[0:0.019960937500000001]>), ('amp', <Parameter 'amp', 0.014600843292397487, bounds=[-0.016536496953371733:0.016536496953371733]>), ('offset', <Parameter 'offset', 0.0020357068509429706, bounds=[-0.016436443763403009:0.033173047096712191]>), ('t_on', <Parameter 't_on', 0.00050000000000000001, bounds=[0.0:0.00199609375]>), ('t_rise', <Parameter 't_rise', 1.9960937499999998e-06, bounds=[0:0.019960937500000001]>)])\n",
        "(0.556939061679+0.830553358657j)"
       ]
      },
      {
       "output_type": "stream",
       "stream": "stdout",
       "text": [
        "\n",
        "(0.995733431048+0.0922764016086j)\n",
        "initial guess: Parameters([('tau', <Parameter 'tau', 1.99609375e-05, bounds=[0:0.019960937500000001]>), ('amp', <Parameter 'amp', 0.016342792832531084, bounds=[-0.018974248154963985:0.018974248154963985]>), ('offset', <Parameter 'offset', 0.0027529080374524848, bounds=[-0.018852795439944402:0.03806994902494755]>), ('t_on', <Parameter 't_on', 0.00050000000000000001, bounds=[0.0:0.00199609375]>), ('t_rise', <Parameter 't_rise', 1.9960937499999998e-06, bounds=[0:0.019960937500000001]>)])\n",
        "(0.796044818525+0.605237678024j)"
       ]
      },
      {
       "output_type": "stream",
       "stream": "stdout",
       "text": [
        "\n",
        "(0.738414641558+0.674346956049j)\n",
        "initial guess: Parameters([('tau', <Parameter 'tau', 1.99609375e-05, bounds=[0:0.019960937500000001]>), ('amp', <Parameter 'amp', 0.017966884834247278, bounds=[-0.020316658459179588:0.020316658459179588]>), ('offset', <Parameter 'offset', 0.0023835455465268046, bounds=[-0.020282886537585094:0.040667088839953666]>), ('t_on', <Parameter 't_on', 0.00050000000000000001, bounds=[0.0:0.00199609375]>), ('t_rise', <Parameter 't_rise', 1.9960937499999998e-06, bounds=[0:0.019960937500000001]>)])\n",
        "(0.769548826953+0.638587975877j)"
       ]
      },
      {
       "output_type": "stream",
       "stream": "stdout",
       "text": [
        "\n",
        "(0.99945430369+0.0330317246925j)\n",
        "initial guess: Parameters([('tau', <Parameter 'tau', 1.99609375e-05, bounds=[0:0.019960937500000001]>), ('amp', <Parameter 'amp', 0.015590009064030847, bounds=[-0.017968491965979674:0.017968491965979674]>), ('offset', <Parameter 'offset', 0.002426603876156402, bounds=[-0.0179203709917721:0.035985104906166923]>), ('t_on', <Parameter 't_on', 0.00050000000000000001, bounds=[0.0:0.00199609375]>), ('t_rise', <Parameter 't_rise', 1.9960937499999998e-06, bounds=[0:0.019960937500000001]>)])\n",
        "(0.388618637843+0.921398694551j)"
       ]
      },
      {
       "output_type": "stream",
       "stream": "stdout",
       "text": [
        "\n",
        "(0.974815213415+0.223014124428j)\n",
        "initial guess: Parameters([('tau', <Parameter 'tau', 1.99609375e-05, bounds=[0:0.019960937500000001]>), ('amp', <Parameter 'amp', 0.030143569702209144, bounds=[-0.032771659804251743:0.032771659804251743]>), ('offset', <Parameter 'offset', 0.00266669704355905, bounds=[-0.032733052862735292:0.065581926550019931]>), ('t_on', <Parameter 't_on', 0.00050000000000000001, bounds=[0.0:0.00199609375]>), ('t_rise', <Parameter 't_rise', 1.9960937499999998e-06, bounds=[0:0.019960937500000001]>)])\n",
        "(0.878531342512+0.477684707965j)"
       ]
      },
      {
       "output_type": "stream",
       "stream": "stdout",
       "text": [
        "\n",
        "(0.99995914756+0.00903898280729j)\n",
        "initial guess: Parameters([('tau', <Parameter 'tau', 1.99609375e-05, bounds=[0:0.019960937500000001]>), ('amp', <Parameter 'amp', 0.02123936258390139, bounds=[-0.02420081472959729:0.02420081472959729]>), ('offset', <Parameter 'offset', 0.0029746960784421436, bounds=[-0.024187570796851045:0.048414873391940824]>), ('t_on', <Parameter 't_on', 0.00050000000000000001, bounds=[0.0:0.00199609375]>), ('t_rise', <Parameter 't_rise', 1.9960937499999998e-06, bounds=[0:0.019960937500000001]>)])\n",
        "(0.31483637915+0.949145960516j)"
       ]
      },
      {
       "output_type": "stream",
       "stream": "stdout",
       "text": [
        "\n",
        "(0.983903201803+0.178702236923j)\n",
        "initial guess: Parameters([('tau', <Parameter 'tau', 1.99609375e-05, bounds=[0:0.019960937500000001]>), ('amp', <Parameter 'amp', 0.040182917771588021, bounds=[-0.043090746856656474:0.043090746856656474]>), ('offset', <Parameter 'offset', 0.0029733056770896568, bounds=[-0.043025270264635269:0.086246970305334153]>), ('t_on', <Parameter 't_on', 0.00050000000000000001, bounds=[0.0:0.00199609375]>), ('t_rise', <Parameter 't_rise', 1.9960937499999998e-06, bounds=[0:0.019960937500000001]>)])\n",
        "(0.909319686745+0.416098194299j)"
       ]
      },
      {
       "output_type": "stream",
       "stream": "stdout",
       "text": [
        "\n",
        "(0.999992868517+0.00377662753869j)\n",
        "initial guess: Parameters([('tau', <Parameter 'tau', 1.99609375e-05, bounds=[0:0.019960937500000001]>), ('amp', <Parameter 'amp', 0.02322976765946641, bounds=[-0.026325576980434487:0.026325576980434487]>), ('offset', <Parameter 'offset', 0.0031452837167286708, bounds=[-0.026276102584673892:0.052700628356629572]>), ('t_on', <Parameter 't_on', 0.00050000000000000001, bounds=[0.0:0.00199609375]>), ('t_rise', <Parameter 't_rise', 1.9960937499999998e-06, bounds=[0:0.019960937500000001]>)])\n",
        "(0.263994973318-0.96452405572j)"
       ]
      },
      {
       "output_type": "stream",
       "stream": "stdout",
       "text": [
        "\n",
        "(0.99588404839-0.0906364284562j)\n",
        "initial guess: Parameters([('tau', <Parameter 'tau', 1.99609375e-05, bounds=[0:0.019960937500000001]>), ('amp', <Parameter 'amp', 0.053175495490313245, bounds=[-0.056414566569189167:0.056414566569189167]>), ('offset', <Parameter 'offset', 0.0032708436792817748, bounds=[-0.056382793968783318:0.11286090573878418]>), ('t_on', <Parameter 't_on', 0.00050000000000000001, bounds=[0.0:0.00199609375]>), ('t_rise', <Parameter 't_rise', 1.9960937499999998e-06, bounds=[0:0.019960937500000001]>)])\n",
        "(0.919505606758+0.393076887059j)"
       ]
      },
      {
       "output_type": "stream",
       "stream": "stdout",
       "text": [
        "\n",
        "(0.999996611404+0.00260330184064j)\n",
        "initial guess: Parameters([('tau', <Parameter 'tau', 1.99609375e-05, bounds=[0:0.019960937500000001]>), ('amp', <Parameter 'amp', 0.031406837602656723, bounds=[-0.035460349071279269:0.035460349071279269]>), ('offset', <Parameter 'offset', 0.0041106785756137472, bounds=[-0.035403181964288072:0.070977865249549743]>), ('t_on', <Parameter 't_on', 0.00050000000000000001, bounds=[0.0:0.00199609375]>), ('t_rise', <Parameter 't_rise', 1.9960937499999998e-06, bounds=[0:0.019960937500000001]>)])\n",
        "(0.972490056563-0.23294439226j)"
       ]
      },
      {
       "output_type": "stream",
       "stream": "stdout",
       "text": [
        "\n",
        "(0.277275288052-0.96079051548j)\n",
        "initial guess: Parameters([('tau', <Parameter 'tau', 1.99609375e-05, bounds=[0:0.019960937500000001]>), ('amp', <Parameter 'amp', 0.07289028163273234, bounds=[-0.076443659662792637:0.076443659662792637]>), ('offset', <Parameter 'offset', 0.0036366635888451754, bounds=[-0.076360374104007755:0.15297060488437014]>), ('t_on', <Parameter 't_on', 0.00050000000000000001, bounds=[0.0:0.00199609375]>), ('t_rise', <Parameter 't_rise', 1.9960937499999998e-06, bounds=[0:0.019960937500000001]>)])\n",
        "(0.959472489738+0.28180230914j)"
       ]
      },
      {
       "output_type": "stream",
       "stream": "stdout",
       "text": [
        "\n",
        "(0.999999582506+0.000913777032053j)\n",
        "initial guess: Parameters([('tau', <Parameter 'tau', 1.99609375e-05, bounds=[0:0.019960937500000001]>), ('amp', <Parameter 'amp', 0.034874163260744807, bounds=[-0.03909378519516802:0.03909378519516802]>), ('offset', <Parameter 'offset', 0.0042663418668947755, bounds=[-0.039047065262696454:0.078234290322807598]>), ('t_on', <Parameter 't_on', 0.00050000000000000001, bounds=[0.0:0.00199609375]>), ('t_rise', <Parameter 't_rise', 1.9960937499999998e-06, bounds=[0:0.019960937500000001]>)])\n",
        "(0.247660336121-0.968846921816j)"
       ]
      },
      {
       "output_type": "stream",
       "stream": "stdout",
       "text": [
        "\n",
        "(0.977404156123-0.211379080311j)\n",
        "initial guess: Parameters([('tau', <Parameter 'tau', 1.99609375e-05, bounds=[0:0.019960937500000001]>), ('amp', <Parameter 'amp', 0.094108739815486855, bounds=[-0.098008844707443366:0.098008844707443366]>), ('offset', <Parameter 'offset', 0.0039865570590413403, bounds=[-0.097922392540358533:0.19610414158197156]>), ('t_on', <Parameter 't_on', 0.00050000000000000001, bounds=[0.0:0.00199609375]>), ('t_rise', <Parameter 't_rise', 1.9960937499999998e-06, bounds=[0:0.019960937500000001]>)])\n",
        "(0.975918142028+0.21813706714j)"
       ]
      },
      {
       "output_type": "stream",
       "stream": "stdout",
       "text": [
        "\n",
        "(0.999999912393+0.000418585027341j)\n",
        "initial guess: Parameters([('tau', <Parameter 'tau', 1.99609375e-05, bounds=[0:0.019960937500000001]>), ('amp', <Parameter 'amp', 0.039221465048571394, bounds=[-0.043957784848010079:0.043957784848010079]>), ('offset', <Parameter 'offset', 0.0047828651394901901, bounds=[-0.043911239507958576:0.087962115036071653]>), ('t_on', <Parameter 't_on', 0.00050000000000000001, bounds=[0.0:0.00199609375]>), ('t_rise', <Parameter 't_rise', 1.9960937499999998e-06, bounds=[0:0.019960937500000001]>)])\n",
        "(0.212110506794+0.977245687075j)"
       ]
      },
      {
       "output_type": "stream",
       "stream": "stdout",
       "text": [
        "\n",
        "(0.998738053573+0.050222508346j)\n",
        "initial guess: Parameters([('tau', <Parameter 'tau', 1.99609375e-05, bounds=[0:0.019960937500000001]>), ('amp', <Parameter 'amp', 0.11659873916277295, bounds=[-0.12111494593484615:0.12111494593484615]>), ('offset', <Parameter 'offset', 0.0045920981947506646, bounds=[-0.12103905451216868:0.24230578329236976]>), ('t_on', <Parameter 't_on', 0.00050000000000000001, bounds=[0.0:0.00199609375]>), ('t_rise', <Parameter 't_rise', 1.9960937499999998e-06, bounds=[0:0.019960937500000001]>)])\n",
        "(0.986986515246+0.160803043261j)"
       ]
      },
      {
       "output_type": "stream",
       "stream": "stdout",
       "text": [
        "\n",
        "(0.999999864759+0.000520079625939j)\n",
        "initial guess: Parameters([('tau', <Parameter 'tau', 1.99609375e-05, bounds=[0:0.019960937500000001]>), ('amp', <Parameter 'amp', 0.042411412865445343, bounds=[-0.047507099056490983:0.047507099056490983]>), ('offset', <Parameter 'offset', 0.005119690371783908, bounds=[-0.047483094875752717:0.095038202293720231]>), ('t_on', <Parameter 't_on', 0.00050000000000000001, bounds=[0.0:0.00199609375]>), ('t_rise', <Parameter 't_rise', 1.9960937499999998e-06, bounds=[0:0.019960937500000001]>)])\n",
        "(0.287904242015+0.957659202133j)"
       ]
      },
      {
       "output_type": "stream",
       "stream": "stdout",
       "text": [
        "\n",
        "(0.963790810586+0.266659470917j)\n",
        "initial guess: Parameters([('tau', <Parameter 'tau', 1.99609375e-05, bounds=[0:0.019960937500000001]>), ('amp', <Parameter 'amp', 0.15034133362889035, bounds=[-0.15516474788552237:0.15516474788552237]>), ('offset', <Parameter 'offset', 0.0048770075765177208, bounds=[-0.15511115456563668:0.31038308909093043]>), ('t_on', <Parameter 't_on', 0.00050000000000000001, bounds=[0.0:0.00199609375]>), ('t_rise', <Parameter 't_rise', 1.9960937499999998e-06, bounds=[0:0.019960937500000001]>)])\n",
        "(0.99681274678+0.0797768629177j)"
       ]
      },
      {
       "output_type": "stream",
       "stream": "stdout",
       "text": [
        "\n",
        "(0.99999999251+0.000122396254882j)\n",
        "initial guess: Parameters([('tau', <Parameter 'tau', 1.99609375e-05, bounds=[0:0.019960937500000001]>), ('amp', <Parameter 'amp', 0.050203787733918689, bounds=[-0.055943835003076113:0.055943835003076113]>), ('offset', <Parameter 'offset', 0.0057486209854739545, bounds=[-0.055935261286759581:0.11189624372246876]>), ('t_on', <Parameter 't_on', 0.00050000000000000001, bounds=[0.0:0.00199609375]>), ('t_rise', <Parameter 't_rise', 1.9960937499999998e-06, bounds=[0:0.019960937500000001]>)])\n",
        "(0.17953797243+0.983751043941j)"
       ]
      },
      {
       "output_type": "stream",
       "stream": "stdout",
       "text": [
        "\n",
        "(0.998435177281+0.0559213444787j)\n",
        "initial guess: Parameters([('tau', <Parameter 'tau', 1.99609375e-05, bounds=[0:0.019960937500000001]>), ('amp', <Parameter 'amp', 0.17395469944367209, bounds=[-0.17902459393768766:0.17902459393768766]>), ('offset', <Parameter 'offset', 0.0050999450456837622, bounds=[-0.17899454338601947:0.35807923842704348]>), ('t_on', <Parameter 't_on', 0.00050000000000000001, bounds=[0.0:0.00199609375]>), ('t_rise', <Parameter 't_rise', 1.9960937499999998e-06, bounds=[0:0.019960937500000001]>)])\n",
        "(0.999763674011+0.0217392761551j)"
       ]
      },
      {
       "output_type": "stream",
       "stream": "stdout",
       "text": [
        "\n",
        "(0.999999999422+3.40041674593e-05j)\n",
        "initial guess: Parameters([('tau', <Parameter 'tau', 1.99609375e-05, bounds=[0:0.019960937500000001]>), ('amp', <Parameter 'amp', 0.054051512055650446, bounds=[-0.06014750797052508:0.06014750797052508]>), ('offset', <Parameter 'offset', 0.0061298225769080977, bounds=[-0.060113681308491616:0.12032884260308363]>), ('t_on', <Parameter 't_on', 0.00050000000000000001, bounds=[0.0:0.00199609375]>), ('t_rise', <Parameter 't_rise', 1.9960937499999998e-06, bounds=[0:0.019960937500000001]>)])\n",
        "(0.298349957065-0.954456548576j)"
       ]
      },
      {
       "output_type": "stream",
       "stream": "stdout",
       "text": [
        "\n",
        "(0.999643347867-0.0267053752065j)\n",
        "initial guess: Parameters([('tau', <Parameter 'tau', 1.99609375e-05, bounds=[0:0.019960937500000001]>), ('amp', <Parameter 'amp', 0.20086808066852277, bounds=[-0.20610230800902535:0.20610230800902535]>), ('offset', <Parameter 'offset', 0.0053282425042899166, bounds=[-0.206008292845238:0.41229863118183807]>), ('t_on', <Parameter 't_on', 0.00050000000000000001, bounds=[0.0:0.00199609375]>), ('t_rise', <Parameter 't_rise', 1.9960937499999998e-06, bounds=[0:0.019960937500000001]>)])\n",
        "(0.999729425071+0.0232610543125j)"
       ]
      },
      {
       "output_type": "stream",
       "stream": "stdout",
       "text": [
        "\n",
        "(0.999999999589+2.86791063277e-05j)\n",
        "initial guess: Parameters([('tau', <Parameter 'tau', 1.99609375e-05, bounds=[0:0.019960937500000001]>), ('amp', <Parameter 'amp', 0.062448392812983859, bounds=[-0.069369117621398191:0.069369117621398191]>), ('offset', <Parameter 'offset', 0.006936732966111003, bounds=[-0.069353109463701518:0.13875424340049305]>), ('t_on', <Parameter 't_on', 0.00050000000000000001, bounds=[0.0:0.00199609375]>), ('t_rise', <Parameter 't_rise', 1.9960937499999998e-06, bounds=[0:0.019960937500000001]>)])\n",
        "(0.261158252514-0.965295999755j)"
       ]
      },
      {
       "output_type": "stream",
       "stream": "stdout",
       "text": [
        "\n",
        "(0.998911334994-0.0466491674164j)\n",
        "initial guess: Parameters([('tau', <Parameter 'tau', 1.99609375e-05, bounds=[0:0.019960937500000001]>), ('amp', <Parameter 'amp', 0.23339184719155553, bounds=[-0.2390763209264018:0.2390763209264018]>), ('offset', <Parameter 'offset', 0.005731868877030275, bounds=[-0.23902892578421778:0.47820003699498759]>), ('t_on', <Parameter 't_on', 0.00050000000000000001, bounds=[0.0:0.00199609375]>), ('t_rise', <Parameter 't_rise', 1.9960937499999998e-06, bounds=[0:0.019960937500000001]>)])\n",
        "(0.999989777622+0.00452157613457j)"
       ]
      },
      {
       "output_type": "stream",
       "stream": "stdout",
       "text": [
        "\n",
        "(0.999999999696+2.4671846655e-05j)\n",
        "initial guess: Parameters([('tau', <Parameter 'tau', 1.99609375e-05, bounds=[0:0.019960937500000001]>), ('amp', <Parameter 'amp', 0.065547522225641711, bounds=[-0.072718509595010264:0.072718509595010264]>), ('offset', <Parameter 'offset', 0.007183194928065512, bounds=[-0.0727063020363133:0.14544922674871749]>), ('t_on', <Parameter 't_on', 0.00050000000000000001, bounds=[0.0:0.00199609375]>), ('t_rise', <Parameter 't_rise', 1.9960937499999998e-06, bounds=[0:0.019960937500000001]>)])\n",
        "(0.256057472901-0.966661559478j)"
       ]
      },
      {
       "output_type": "stream",
       "stream": "stdout",
       "text": [
        "\n",
        "(0.99909786902-0.0424670239171j)\n",
        "initial guess: Parameters([('tau', <Parameter 'tau', 1.99609375e-05, bounds=[0:0.019960937500000001]>), ('amp', <Parameter 'amp', 0.25222336041986387, bounds=[-0.25809044214571641:0.25809044214571641]>), ('offset', <Parameter 'offset', 0.0059248829849825949, bounds=[-0.25803264088658634:0.51623868555056296]>), ('t_on', <Parameter 't_on', 0.00050000000000000001, bounds=[0.0:0.00199609375]>), ('t_rise', <Parameter 't_rise', 1.9960937499999998e-06, bounds=[0:0.019960937500000001]>)])\n",
        "(0.999161342431-0.0409464502814j)"
       ]
      },
      {
       "output_type": "stream",
       "stream": "stdout",
       "text": [
        "\n",
        "(0.999999997461-7.12590621111e-05j)\n",
        "initial guess: Parameters([('tau', <Parameter 'tau', 1.99609375e-05, bounds=[0:0.019960937500000001]>), ('amp', <Parameter 'amp', 0.070077965397268557, bounds=[-0.077506778865724699:0.077506778865724699]>), ('offset', <Parameter 'offset', 0.0074421661431237178, bounds=[-0.077493426191057119:0.15502691040611699]>), ('t_on', <Parameter 't_on', 0.00050000000000000001, bounds=[0.0:0.00199609375]>), ('t_rise', <Parameter 't_rise', 1.9960937499999998e-06, bounds=[0:0.019960937500000001]>)])\n",
        "(0.217361418614-0.976091191282j)"
       ]
      },
      {
       "output_type": "stream",
       "stream": "stdout",
       "text": [
        "\n",
        "(0.983418776703-0.18134913738j)\n",
        "initial guess: Parameters([('tau', <Parameter 'tau', 1.99609375e-05, bounds=[0:0.019960937500000001]>), ('amp', <Parameter 'amp', 0.27166863048803397, bounds=[-0.2777673718241665:0.2777673718241665]>), ('offset', <Parameter 'offset', 0.0061609306619513473, bounds=[-0.27770518249834769:0.5555969329741518]>), ('t_on', <Parameter 't_on', 0.00050000000000000001, bounds=[0.0:0.00199609375]>), ('t_rise', <Parameter 't_rise', 1.9960937499999998e-06, bounds=[0:0.019960937500000001]>)])\n",
        "(0.996861964387-0.0791594843199j)"
       ]
      },
      {
       "output_type": "stream",
       "stream": "stdout",
       "text": [
        "\n",
        "(0.999999998651-5.194800307e-05j)\n",
        "initial guess: Parameters([('tau', <Parameter 'tau', 1.99609375e-05, bounds=[0:0.019960937500000001]>), ('amp', <Parameter 'amp', 0.071565356815610021, bounds=[-0.078979022025943646:0.078979022025943646]>), ('offset', <Parameter 'offset', 0.0074579607511549633, bounds=[-0.078934726485122314:0.15800233959270862]>), ('t_on', <Parameter 't_on', 0.00050000000000000001, bounds=[0.0:0.00199609375]>), ('t_rise', <Parameter 't_rise', 1.9960937499999998e-06, bounds=[0:0.019960937500000001]>)])\n",
        "(0.245660167618+0.969356014087j)"
       ]
      },
      {
       "output_type": "stream",
       "stream": "stdout",
       "text": [
        "\n",
        "(0.999120652117+0.0419275865358j)\n",
        "initial guess: Parameters([('tau', <Parameter 'tau', 1.99609375e-05, bounds=[0:0.019960937500000001]>), ('amp', <Parameter 'amp', 0.29474783960311202, bounds=[-0.30079982626742907:0.30079982626742907]>), ('offset', <Parameter 'offset', 0.0061284729083963801, bounds=[-0.30072334002334977:0.60167613877893744]>), ('t_on', <Parameter 't_on', 0.00050000000000000001, bounds=[0.0:0.00199609375]>), ('t_rise', <Parameter 't_rise', 1.9960937499999998e-06, bounds=[0:0.019960937500000001]>)])\n",
        "(0.993690013215-0.112161301866j)"
       ]
      },
      {
       "output_type": "stream",
       "stream": "stdout",
       "text": [
        "\n",
        "(0.999999987046-0.000160958082363j)\n",
        "initial guess: Parameters([('tau', <Parameter 'tau', 1.99609375e-05, bounds=[0:0.019960937500000001]>), ('amp', <Parameter 'amp', 0.07152312128322541, bounds=[-0.078889216066612228:0.078889216066612228]>), ('offset', <Parameter 'offset', 0.0073813823150438787, bounds=[-0.078873928534955159:0.15779371966488154]>), ('t_on', <Parameter 't_on', 0.00050000000000000001, bounds=[0.0:0.00199609375]>), ('t_rise', <Parameter 't_rise', 1.9960937499999998e-06, bounds=[0:0.019960937500000001]>)])\n",
        "(0.915402670156-0.402539378783j)"
       ]
      },
      {
       "output_type": "stream",
       "stream": "stdout",
       "text": [
        "\n",
        "(0.939722689274-0.341937519531j)\n",
        "initial guess: Parameters([('tau', <Parameter 'tau', 1.99609375e-05, bounds=[0:0.019960937500000001]>), ('amp', <Parameter 'amp', 0.005457423550561071, bounds=[-0.0069546548941872254:0.0069546548941872254]>), ('offset', <Parameter 'offset', 0.0015568565994777855, bounds=[-0.006895029638335594:0.013968935044226083]>), ('t_on', <Parameter 't_on', 0.00050000000000000001, bounds=[0.0:0.00199609375]>), ('t_rise', <Parameter 't_rise', 1.9960937499999998e-06, bounds=[0:0.019960937500000001]>)])\n",
        "(0.99940623754+0.0344553677264j)"
       ]
      },
      {
       "output_type": "stream",
       "stream": "stdout",
       "text": [
        "\n",
        "(0.99198899366+0.126324330429j)\n",
        "initial guess: Parameters([('tau', <Parameter 'tau', 1.99609375e-05, bounds=[0:0.019960937500000001]>), ('amp', <Parameter 'amp', 0.007502970520778288, bounds=[-0.0094337096805888979:0.0094337096805888979]>), ('offset', <Parameter 'offset', 0.0020506440051611223, bounds=[-0.0093138048352383856:0.018987324206528308]>), ('t_on', <Parameter 't_on', 0.00046093749999999998, bounds=[0.0:0.00199609375]>), ('t_rise', <Parameter 't_rise', 1.9960937499999998e-06, bounds=[0:0.019960937500000001]>)])\n",
        "(0.991382925965-0.130995778962j)"
       ]
      },
      {
       "output_type": "stream",
       "stream": "stdout",
       "text": [
        "\n",
        "(0.965533687375-0.260278117683j)\n",
        "initial guess: Parameters([('tau', <Parameter 'tau', 1.99609375e-05, bounds=[0:0.019960937500000001]>), ('amp', <Parameter 'amp', 0.0059874717000798086, bounds=[-0.007716195575482648:0.007716195575482648]>), ('offset', <Parameter 'offset', 0.0018366508532162698, bounds=[-0.0076082685976692176:0.015540318128778726]>), ('t_on', <Parameter 't_on', 0.00050000000000000001, bounds=[0.0:0.00199609375]>), ('t_rise', <Parameter 't_rise', 1.9960937499999998e-06, bounds=[0:0.019960937500000001]>)])\n",
        "(0.992043158554+0.125898258789j)"
       ]
      },
      {
       "output_type": "stream",
       "stream": "stdout",
       "text": [
        "\n",
        "(0.982777680095+0.184791859961j)\n",
        "initial guess: Parameters([('tau', <Parameter 'tau', 1.99609375e-05, bounds=[0:0.019960937500000001]>), ('amp', <Parameter 'amp', 0.0064175280907092149, bounds=[-0.0086698107987118224:0.0086698107987118224]>), ('offset', <Parameter 'offset', 0.0024181496890780699, bounds=[-0.0085039438176363596:0.017505488578499109]>), ('t_on', <Parameter 't_on', 0.00050000000000000001, bounds=[0.0:0.00199609375]>), ('t_rise', <Parameter 't_rise', 1.9960937499999998e-06, bounds=[0:0.019960937500000001]>)])\n",
        "(0.999454162441-0.0330359982229j)"
       ]
      },
      {
       "output_type": "stream",
       "stream": "stdout",
       "text": [
        "\n",
        "(0.996588045499-0.0825364620515j)\n",
        "initial guess: Parameters([('tau', <Parameter 'tau', 1.99609375e-05, bounds=[0:0.019960937500000001]>), ('amp', <Parameter 'amp', 0.0031041336297593703, bounds=[-0.0040190386815746265:0.0040190386815746265]>), ('offset', <Parameter 'offset', 0.00094994283297873293, bounds=[-0.0039840009004111498:0.0080731151443127307]>), ('t_on', <Parameter 't_on', 0.00050000000000000001, bounds=[0.0:0.00199609375]>), ('t_rise', <Parameter 't_rise', 1.9960937499999998e-06, bounds=[0:0.019960937500000001]>)])\n",
        "(0.821046454228+0.570861384225j)"
       ]
      },
      {
       "output_type": "stream",
       "stream": "stdout",
       "text": [
        "\n",
        "(0.842918682679+0.538040978356j)\n",
        "initial guess: Parameters([('tau', <Parameter 'tau', 1.99609375e-05, bounds=[0:0.019960937500000001]>), ('amp', <Parameter 'amp', 0.0043484025948019069, bounds=[-0.0053975945873165751:0.0053975945873165751]>), ('offset', <Parameter 'offset', 0.0010738270035222414, bounds=[-0.0053729595763090015:0.010819824185640724]>), ('t_on', <Parameter 't_on', 0.00050000000000000001, bounds=[0.0:0.00199609375]>), ('t_rise', <Parameter 't_rise', 1.9960937499999998e-06, bounds=[0:0.019960937500000001]>)])\n",
        "(0.997737175967-0.0672348696172j)"
       ]
      },
      {
       "output_type": "stream",
       "stream": "stdout",
       "text": [
        "\n",
        "(0.954323970517-0.298773759383j)\n",
        "initial guess: Parameters([('tau', <Parameter 'tau', 1.99609375e-05, bounds=[0:0.019960937500000001]>), ('amp', <Parameter 'amp', 0.0035176822553175738, bounds=[-0.0041398736733497124:0.0041398736733497124]>), ('offset', <Parameter 'offset', 0.00063713757952339322, bounds=[-0.004124927511858458:0.0082946935081906793]>), ('t_on', <Parameter 't_on', 0.00050000000000000001, bounds=[0.0:0.00199609375]>), ('t_rise', <Parameter 't_rise', 1.9960937499999998e-06, bounds=[0:0.019960937500000001]>)])\n",
        "(0.693718802365+0.720245946358j)"
       ]
      },
      {
       "output_type": "stream",
       "stream": "stdout",
       "text": [
        "\n",
        "(0.849514545441+0.527565196999j)\n",
        "initial guess: Parameters([('tau', <Parameter 'tau', 1.99609375e-05, bounds=[0:0.019960937500000001]>), ('amp', <Parameter 'amp', 0.0039925836585536752, bounds=[-0.0048800276668460058:0.0048800276668460058]>), ('offset', <Parameter 'offset', 0.00091797396563594435, bounds=[-0.0048494977095023921:0.0097905852910356254]>), ('t_on', <Parameter 't_on', 0.00050000000000000001, bounds=[0.0:0.00199609375]>), ('t_rise', <Parameter 't_rise', 1.9960937499999998e-06, bounds=[0:0.019960937500000001]>)])\n",
        "(0.819738844752-0.572737484721j)"
       ]
      },
      {
       "output_type": "stream",
       "stream": "stdout",
       "text": [
        "\n",
        "(0.798071853621-0.602562292596j)\n",
        "initial guess: Parameters([('tau', <Parameter 'tau', 1.99609375e-05, bounds=[0:0.019960937500000001]>), ('amp', <Parameter 'amp', 0.0036943196566520727, bounds=[-0.0044414227784924671:0.0044414227784924671]>), ('offset', <Parameter 'offset', 0.00076203231135109806, bounds=[-0.0044264935889817636:0.0088977747464956368]>), ('t_on', <Parameter 't_on', 0.00050000000000000001, bounds=[0.0:0.00199609375]>), ('t_rise', <Parameter 't_rise', 1.9960937499999998e-06, bounds=[0:0.019960937500000001]>)])\n",
        "(0.68398359671+0.729497388228j)"
       ]
      },
      {
       "output_type": "stream",
       "stream": "stdout",
       "text": [
        "\n",
        "(0.84002761096+0.542543650617j)\n",
        "initial guess: Parameters([('tau', <Parameter 'tau', 1.99609375e-05, bounds=[0:0.019960937500000001]>), ('amp', <Parameter 'amp', 0.0046002371358924484, bounds=[-0.005542945804662653:0.005542945804662653]>), ('offset', <Parameter 'offset', 0.0009654535047123726, bounds=[-0.0055202009687204852:0.011108636445267474]>), ('t_on', <Parameter 't_on', 0.00050000000000000001, bounds=[0.0:0.00199609375]>), ('t_rise', <Parameter 't_rise', 1.9960937499999998e-06, bounds=[0:0.019960937500000001]>)])\n",
        "(0.681640103869+0.731687616949j)"
       ]
      },
      {
       "output_type": "stream",
       "stream": "stdout",
       "text": [
        "\n",
        "(0.798810452973+0.601582795815j)\n",
        "initial guess: Parameters([('tau', <Parameter 'tau', 1.99609375e-05, bounds=[0:0.019960937500000001]>), ('amp', <Parameter 'amp', 0.0079119517405846218, bounds=[-0.0088788900087709201:0.0088788900087709201]>), ('offset', <Parameter 'offset', 0.0010044777548403874, bounds=[-0.0088413505221168302:0.017795319504195932]>), ('t_on', <Parameter 't_on', 0.00050000000000000001, bounds=[0.0:0.00199609375]>), ('t_rise', <Parameter 't_rise', 1.9960937499999998e-06, bounds=[0:0.019960937500000001]>)])\n",
        "(0.533895235635+0.845550635601j)"
       ]
      },
      {
       "output_type": "stream",
       "stream": "stdout",
       "text": [
        "\n",
        "(0.998705336698+0.0508689537071j)\n",
        "initial guess: Parameters([('tau', <Parameter 'tau', 1.99609375e-05, bounds=[0:0.019960937500000001]>), ('amp', <Parameter 'amp', 0.0090301515020515671, bounds=[-0.010141192210813617:0.010141192210813617]>), ('offset', <Parameter 'offset', 0.0011191641978955896, bounds=[-0.010133068721680077:0.020290507910760772]>), ('t_on', <Parameter 't_on', 0.00050000000000000001, bounds=[0.0:0.00199609375]>), ('t_rise', <Parameter 't_rise', 1.9960937499999998e-06, bounds=[0:0.019960937500000001]>)])\n",
        "(0.899890543956-0.436115820509j)"
       ]
      },
      {
       "output_type": "stream",
       "stream": "stdout",
       "text": [
        "\n",
        "(0.509469905871-0.860488474654j)\n",
        "initial guess: Parameters([('tau', <Parameter 'tau', 1.99609375e-05, bounds=[0:0.019960937500000001]>), ('amp', <Parameter 'amp', 0.010698937595123576, bounds=[-0.011791743581931132:0.011791743581931132]>), ('offset', <Parameter 'offset', 0.0011080152186646194, bounds=[-0.011776534350074069:0.023598696395719328]>), ('t_on', <Parameter 't_on', 0.00050000000000000001, bounds=[0.0:0.00199609375]>), ('t_rise', <Parameter 't_rise', 1.9960937499999998e-06, bounds=[0:0.019960937500000001]>)])\n",
        "(0.548939396801+0.835862152894j)"
       ]
      },
      {
       "output_type": "stream",
       "stream": "stdout",
       "text": [
        "\n",
        "(0.99943707815+0.0335488720867j)\n",
        "initial guess: Parameters([('tau', <Parameter 'tau', 1.99609375e-05, bounds=[0:0.019960937500000001]>), ('amp', <Parameter 'amp', 0.01158442413341839, bounds=[-0.013054543919535222:0.013054543919535222]>), ('offset', <Parameter 'offset', 0.0014727866221888597, bounds=[-0.013051877083463195:0.026111754675142471]>), ('t_on', <Parameter 't_on', 0.00050000000000000001, bounds=[0.0:0.00199609375]>), ('t_rise', <Parameter 't_rise', 1.9960937499999998e-06, bounds=[0:0.019960937500000001]>)])\n",
        "(0.271701552788+0.962381559576j)"
       ]
      },
      {
       "output_type": "stream",
       "stream": "stdout",
       "text": [
        "\n",
        "(0.994205635325+0.107494905406j)\n",
        "initial guess: Parameters([('tau', <Parameter 'tau', 1.99609375e-05, bounds=[0:0.019960937500000001]>), ('amp', <Parameter 'amp', 0.015915625450402076, bounds=[-0.01720984061756789:0.01720984061756789]>), ('offset', <Parameter 'offset', 0.0013373124510797666, bounds=[-0.017166743333653936:0.034462778519049733]>), ('t_on', <Parameter 't_on', 0.00050000000000000001, bounds=[0.0:0.00199609375]>), ('t_rise', <Parameter 't_rise', 1.9960937499999998e-06, bounds=[0:0.019960937500000001]>)])\n",
        "(0.721675297587+0.692231727713j)"
       ]
      },
      {
       "output_type": "stream",
       "stream": "stdout",
       "text": [
        "\n",
        "(0.999937683801+0.0111637141945j)\n",
        "initial guess: Parameters([('tau', <Parameter 'tau', 1.99609375e-05, bounds=[0:0.019960937500000001]>), ('amp', <Parameter 'amp', 0.014618651350630391, bounds=[-0.016258764672606063:0.016258764672606063]>), ('offset', <Parameter 'offset', 0.0016733333115109533, bounds=[-0.016225544683070782:0.032550749334747407]>), ('t_on', <Parameter 't_on', 0.00050000000000000001, bounds=[0.0:0.00199609375]>), ('t_rise', <Parameter 't_rise', 1.9960937499999998e-06, bounds=[0:0.019960937500000001]>)])\n",
        "(0.509423825523-0.860515755805j)"
       ]
      },
      {
       "output_type": "stream",
       "stream": "stdout",
       "text": [
        "\n",
        "(0.999777443093-0.0210965466989j)\n",
        "initial guess: Parameters([('tau', <Parameter 'tau', 1.99609375e-05, bounds=[0:0.019960937500000001]>), ('amp', <Parameter 'amp', 0.02196512619101651, bounds=[-0.023508536451060508:0.023508536451060508]>), ('offset', <Parameter 'offset', 0.0015479161804176655, bounds=[-0.02350403053068684:0.047021578822494685]>), ('t_on', <Parameter 't_on', 0.00050000000000000001, bounds=[0.0:0.00199609375]>), ('t_rise', <Parameter 't_rise', 1.9960937499999998e-06, bounds=[0:0.019960937500000001]>)])\n",
        "(0.487516331825+0.873113867834j)"
       ]
      },
      {
       "output_type": "stream",
       "stream": "stdout",
       "text": [
        "\n",
        "(0.999949861278+0.0100137370249j)\n",
        "initial guess: Parameters([('tau', <Parameter 'tau', 1.99609375e-05, bounds=[0:0.019960937500000001]>), ('amp', <Parameter 'amp', 0.028131064072683423, bounds=[-0.031187423569754718:0.031187423569754718]>), ('offset', <Parameter 'offset', 0.0030678743690722952, bounds=[-0.031175908697753718:0.062386362011510432]>), ('t_on', <Parameter 't_on', 0.00050000000000000001, bounds=[0.0:0.00199609375]>), ('t_rise', <Parameter 't_rise', 1.9960937499999998e-06, bounds=[0:0.019960937500000001]>)])\n",
        "(0.199859725526+0.979824520061j)"
       ]
      },
      {
       "output_type": "stream",
       "stream": "stdout",
       "text": [
        "\n",
        "(0.998412829424+0.0563189314699j)\n",
        "initial guess: Parameters([('tau', <Parameter 'tau', 1.99609375e-05, bounds=[0:0.019960937500000001]>), ('amp', <Parameter 'amp', 0.038589262218399367, bounds=[-0.040828779287840962:0.040828779287840962]>), ('offset', <Parameter 'offset', 0.0022684603590315579, bounds=[-0.040799835998251002:0.081686501865271877]>), ('t_on', <Parameter 't_on', 0.00050000000000000001, bounds=[0.0:0.00199609375]>), ('t_rise', <Parameter 't_rise', 1.9960937499999998e-06, bounds=[0:0.019960937500000001]>)])\n",
        "(0.87448660827+0.485049659268j)"
       ]
      },
      {
       "output_type": "stream",
       "stream": "stdout",
       "text": [
        "\n",
        "(0.999999119386+0.00132711223271j)\n",
        "initial guess: Parameters([('tau', <Parameter 'tau', 1.99609375e-05, bounds=[0:0.019960937500000001]>), ('amp', <Parameter 'amp', 0.026109943501747217, bounds=[-0.028652770972777328:0.028652770972777328]>), ('offset', <Parameter 'offset', 0.0025774968187921334, bounds=[-0.028618101625015307:0.057340211293316679]>), ('t_on', <Parameter 't_on', 0.00050000000000000001, bounds=[0.0:0.00199609375]>), ('t_rise', <Parameter 't_rise', 1.9960937499999998e-06, bounds=[0:0.019960937500000001]>)])\n",
        "(0.366851992664+0.930279321214j)"
       ]
      },
      {
       "output_type": "stream",
       "stream": "stdout",
       "text": [
        "\n",
        "(0.99989503989+0.0144882436371j)\n",
        "initial guess: Parameters([('tau', <Parameter 'tau', 1.99609375e-05, bounds=[0:0.019960937500000001]>), ('amp', <Parameter 'amp', 0.046522269610257898, bounds=[-0.048811914557130985:0.048811914557130985]>), ('offset', <Parameter 'offset', 0.0023183661355299103, bounds=[-0.048783193368474163:0.097652550302918792]>), ('t_on', <Parameter 't_on', 0.00050000000000000001, bounds=[0.0:0.00199609375]>), ('t_rise', <Parameter 't_rise', 1.9960937499999998e-06, bounds=[0:0.019960937500000001]>)])\n",
        "(0.934493452045+0.355980319799j)"
       ]
      },
      {
       "output_type": "stream",
       "stream": "stdout",
       "text": [
        "\n",
        "(0.999999614717+0.000877818609315j)\n",
        "initial guess: Parameters([('tau', <Parameter 'tau', 1.99609375e-05, bounds=[0:0.019960937500000001]>), ('amp', <Parameter 'amp', 0.027581623188897116, bounds=[-0.030294743804730229:0.030294743804730229]>), ('offset', <Parameter 'offset', 0.0027172209217485488, bounds=[-0.030290643498814794:0.060593587915375891]>), ('t_on', <Parameter 't_on', 0.00050000000000000001, bounds=[0.0:0.00199609375]>), ('t_rise', <Parameter 't_rise', 1.9960937499999998e-06, bounds=[0:0.019960937500000001]>)])\n",
        "(0.28778038659-0.957696428465j)"
       ]
      },
      {
       "output_type": "stream",
       "stream": "stdout",
       "text": [
        "\n",
        "(0.999857293325-0.0168935782127j)\n",
        "initial guess: Parameters([('tau', <Parameter 'tau', 1.99609375e-05, bounds=[0:0.019960937500000001]>), ('amp', <Parameter 'amp', 0.06693938837587142, bounds=[-0.069808613461344204:0.069808613461344204]>), ('offset', <Parameter 'offset', 0.0028965648911355195, bounds=[-0.069781273655681472:0.13964456672835113]>), ('t_on', <Parameter 't_on', 0.00050000000000000001, bounds=[0.0:0.00199609375]>), ('t_rise', <Parameter 't_rise', 1.9960937499999998e-06, bounds=[0:0.019960937500000001]>)])\n",
        "(0.922464895606+0.386080971268j)"
       ]
      },
      {
       "output_type": "stream",
       "stream": "stdout",
       "text": [
        "\n",
        "(0.999998977339+0.00143014742054j)\n",
        "initial guess: Parameters([('tau', <Parameter 'tau', 1.99609375e-05, bounds=[0:0.019960937500000001]>), ('amp', <Parameter 'amp', 0.041215787204241176, bounds=[-0.04529095728813607:0.04529095728813607]>), ('offset', <Parameter 'offset', 0.0040974696647970007, bounds=[-0.045268657707233963:0.090604214157174248]>), ('t_on', <Parameter 't_on', 0.00050000000000000001, bounds=[0.0:0.00199609375]>), ('t_rise', <Parameter 't_rise', 1.9960937499999998e-06, bounds=[0:0.019960937500000001]>)])\n",
        "(0.213107918802-0.977028666388j)"
       ]
      },
      {
       "output_type": "stream",
       "stream": "stdout",
       "text": [
        "\n",
        "(0.999811174254-0.0194323399703j)\n",
        "initial guess: Parameters([('tau', <Parameter 'tau', 1.99609375e-05, bounds=[0:0.019960937500000001]>), ('amp', <Parameter 'amp', 0.086204448516135235, bounds=[-0.089463016495149358:0.089463016495149358]>), ('offset', <Parameter 'offset', 0.0032698157397691068, bounds=[-0.08945176873439438:0.1789372807510537]>), ('t_on', <Parameter 't_on', 0.00050000000000000001, bounds=[0.0:0.00199609375]>), ('t_rise', <Parameter 't_rise', 1.9960937499999998e-06, bounds=[0:0.019960937500000001]>)])\n",
        "(0.949932084055+0.312456454058j)"
       ]
      },
      {
       "output_type": "stream",
       "stream": "stdout",
       "text": [
        "\n",
        "(0.999999798913+0.000634172640118j)\n",
        "initial guess: Parameters([('tau', <Parameter 'tau', 1.99609375e-05, bounds=[0:0.019960937500000001]>), ('amp', <Parameter 'amp', 0.044727587433463833, bounds=[-0.048905655360660626:0.048905655360660626]>), ('offset', <Parameter 'offset', 0.0042094719401613257, bounds=[-0.048874251347696095:0.097842714734285782]>), ('t_on', <Parameter 't_on', 0.00050000000000000001, bounds=[0.0:0.00199609375]>), ('t_rise', <Parameter 't_rise', 1.9960937499999998e-06, bounds=[0:0.019960937500000001]>)])\n",
        "(0.200511777076+0.979691291813j)"
       ]
      },
      {
       "output_type": "stream",
       "stream": "stdout",
       "text": [
        "\n",
        "(0.999346971505+0.0361335099788j)\n",
        "initial guess: Parameters([('tau', <Parameter 'tau', 1.99609375e-05, bounds=[0:0.019960937500000001]>), ('amp', <Parameter 'amp', 0.11437388944925993, bounds=[-0.1181040676978484:0.1181040676978484]>), ('offset', <Parameter 'offset', 0.0037471425318462413, bounds=[-0.11808710341459062:0.23622509967895455]>), ('t_on', <Parameter 't_on', 0.00050000000000000001, bounds=[0.0:0.00199609375]>), ('t_rise', <Parameter 't_rise', 1.9960937499999998e-06, bounds=[0:0.019960937500000001]>)])\n",
        "(0.985007729428+0.172510211197j)"
       ]
      },
      {
       "output_type": "stream",
       "stream": "stdout",
       "text": [
        "\n",
        "(0.999999926379+0.000383721214598j)\n",
        "initial guess: Parameters([('tau', <Parameter 'tau', 1.99609375e-05, bounds=[0:0.019960937500000001]>), ('amp', <Parameter 'amp', 0.044834381162719775, bounds=[-0.049161785513931355:0.049161785513931355]>), ('offset', <Parameter 'offset', 0.0043401510825801636, bounds=[-0.049149038782562771:0.098336317759231295]>), ('t_on', <Parameter 't_on', 0.00050000000000000001, bounds=[0.0:0.00199609375]>), ('t_rise', <Parameter 't_rise', 1.9960937499999998e-06, bounds=[0:0.019960937500000001]>)])\n",
        "(0.168380301929-0.985722107859j)"
       ]
      },
      {
       "output_type": "stream",
       "stream": "stdout",
       "text": [
        "\n",
        "(0.994025314224-0.10914978095j)\n",
        "initial guess: Parameters([('tau', <Parameter 'tau', 1.99609375e-05, bounds=[0:0.019960937500000001]>), ('amp', <Parameter 'amp', 0.14601902950603476, bounds=[-0.15018387788880652:0.15018387788880652]>), ('offset', <Parameter 'offset', 0.0041831627967226963, bounds=[-0.15016556347485557:0.30038607019156399]>), ('t_on', <Parameter 't_on', 0.00050000000000000001, bounds=[0.0:0.00199609375]>), ('t_rise', <Parameter 't_rise', 1.9960937499999998e-06, bounds=[0:0.019960937500000001]>)])\n",
        "(0.990577243088+0.13695519514j)"
       ]
      },
      {
       "output_type": "stream",
       "stream": "stdout",
       "text": [
        "\n",
        "(0.999999975566+0.000221062298527j)\n",
        "initial guess: Parameters([('tau', <Parameter 'tau', 1.99609375e-05, bounds=[0:0.019960937500000001]>), ('amp', <Parameter 'amp', 0.052951231628972369, bounds=[-0.057894343396810634:0.057894343396810634]>), ('offset', <Parameter 'offset', 0.0049516089060099846, bounds=[-0.057885846258638914:0.11579718393179299]>), ('t_on', <Parameter 't_on', 0.00050000000000000001, bounds=[0.0:0.00199609375]>), ('t_rise', <Parameter 't_rise', 1.9960937499999998e-06, bounds=[0:0.019960937500000001]>)])\n",
        "(0.268851338481+0.963181684729j)"
       ]
      },
      {
       "output_type": "stream",
       "stream": "stdout",
       "text": [
        "\n",
        "(0.970217619669+0.242234948933j)\n",
        "initial guess: Parameters([('tau', <Parameter 'tau', 1.99609375e-05, bounds=[0:0.019960937500000001]>), ('amp', <Parameter 'amp', 0.17805619221540803, bounds=[-0.18260409499536151:0.18260409499536151]>), ('offset', <Parameter 'offset', 0.0045732868282536646, bounds=[-0.18257871094706132:0.36523357403902323]>), ('t_on', <Parameter 't_on', 0.00050000000000000001, bounds=[0.0:0.00199609375]>), ('t_rise', <Parameter 't_rise', 1.9960937499999998e-06, bounds=[0:0.019960937500000001]>)])\n",
        "(0.996633501188+0.0819857567477j)"
       ]
      },
      {
       "output_type": "stream",
       "stream": "stdout",
       "text": [
        "\n",
        "(0.999999985157+0.000172296550332j)\n",
        "initial guess: Parameters([('tau', <Parameter 'tau', 1.99609375e-05, bounds=[0:0.019960937500000001]>), ('amp', <Parameter 'amp', 0.057415736978339925, bounds=[-0.062678873026910512:0.062678873026910512]>), ('offset', <Parameter 'offset', 0.005270558943500224, bounds=[-0.062671450131980874:0.12536516894875066]>), ('t_on', <Parameter 't_on', 0.00050000000000000001, bounds=[0.0:0.00199609375]>), ('t_rise', <Parameter 't_rise', 1.9960937499999998e-06, bounds=[0:0.019960937500000001]>)])\n",
        "(0.217123300999-0.976144186155j)"
       ]
      },
      {
       "output_type": "stream",
       "stream": "stdout",
       "text": [
        "\n",
        "(0.998706534132-0.0508454391378j)\n",
        "initial guess: Parameters([('tau', <Parameter 'tau', 1.99609375e-05, bounds=[0:0.019960937500000001]>), ('amp', <Parameter 'amp', 0.21452850185233352, bounds=[-0.21961387487309761:0.21961387487309761]>), ('offset', <Parameter 'offset', 0.0051068667104790877, bounds=[-0.21959238118338262:0.43924924343591021]>), ('t_on', <Parameter 't_on', 0.00050000000000000001, bounds=[0.0:0.00199609375]>), ('t_rise', <Parameter 't_rise', 1.9960937499999998e-06, bounds=[0:0.019960937500000001]>)])\n",
        "(0.999084513214+0.0427800824695j)"
       ]
      },
      {
       "output_type": "stream",
       "stream": "stdout",
       "text": [
        "\n",
        "(0.999999996465+8.40868204086e-05j)\n",
        "initial guess: Parameters([('tau', <Parameter 'tau', 1.99609375e-05, bounds=[0:0.019960937500000001]>), ('amp', <Parameter 'amp', 0.066444475643398629, bounds=[-0.07234911115987798:0.07234911115987798]>), ('offset', <Parameter 'offset', 0.0059176919934248139, bounds=[-0.072336054682932513:0.14471127879670143]>), ('t_on', <Parameter 't_on', 0.00050000000000000001, bounds=[0.0:0.00199609375]>), ('t_rise', <Parameter 't_rise', 1.9960937499999998e-06, bounds=[0:0.019960937500000001]>)])\n",
        "(0.205780601595-0.978598152465j)"
       ]
      },
      {
       "output_type": "stream",
       "stream": "stdout",
       "text": [
        "\n",
        "(0.998180817277-0.0602914257602j)\n",
        "initial guess: Parameters([('tau', <Parameter 'tau', 1.99609375e-05, bounds=[0:0.019960937500000001]>), ('amp', <Parameter 'amp', 0.24487885742998589, bounds=[-0.2502945141703628:0.2502945141703628]>), ('offset', <Parameter 'offset', 0.0054275048290091232, bounds=[-0.25028266608173061:0.5006008764293578]>), ('t_on', <Parameter 't_on', 0.00050000000000000001, bounds=[0.0:0.00199609375]>), ('t_rise', <Parameter 't_rise', 1.9960937499999998e-06, bounds=[0:0.019960937500000001]>)])\n",
        "(0.99994085443+0.0108760121744j)"
       ]
      },
      {
       "output_type": "stream",
       "stream": "stdout",
       "text": [
        "\n",
        "(0.999999999868+1.62663610508e-05j)\n",
        "initial guess: Parameters([('tau', <Parameter 'tau', 1.99609375e-05, bounds=[0:0.019960937500000001]>), ('amp', <Parameter 'amp', 0.068396895174255221, bounds=[-0.074580513926725003:0.074580513926725003]>), ('offset', <Parameter 'offset', 0.0061928844085345934, bounds=[-0.074571248270660195:0.14917029350951483]>), ('t_on', <Parameter 't_on', 0.00050000000000000001, bounds=[0.0:0.00199609375]>), ('t_rise', <Parameter 't_rise', 1.9960937499999998e-06, bounds=[0:0.019960937500000001]>)])\n",
        "(0.590542541305-0.80700650983j)"
       ]
      },
      {
       "output_type": "stream",
       "stream": "stdout",
       "text": [
        "\n",
        "(0.813634988376-0.581376044992j)\n",
        "initial guess: Parameters([('tau', <Parameter 'tau', 1.99609375e-05, bounds=[0:0.019960937500000001]>), ('amp', <Parameter 'amp', 0.260294883729, bounds=[-0.2659459031346309:0.2659459031346309]>), ('offset', <Parameter 'offset', 0.0056865922521816348, bounds=[-0.26591033028808014:0.53192737911581256]>), ('t_on', <Parameter 't_on', 0.00050000000000000001, bounds=[0.0:0.00199609375]>), ('t_rise', <Parameter 't_rise', 1.9960937499999998e-06, bounds=[0:0.019960937500000001]>)])\n",
        "(0.999725798866-0.0234163848863j)"
       ]
      },
      {
       "output_type": "stream",
       "stream": "stdout",
       "text": [
        "\n",
        "(0.999999999201-3.99642965238e-05j)\n",
        "initial guess: Parameters([('tau', <Parameter 'tau', 1.99609375e-05, bounds=[0:0.019960937500000001]>), ('amp', <Parameter 'amp', 0.070812426871693257, bounds=[-0.077025895273884246:0.077025895273884246]>), ('offset', <Parameter 'offset', 0.0062308855895993227, bounds=[-0.077008478086475915:0.15406920773517682]>), ('t_on', <Parameter 't_on', 0.00050000000000000001, bounds=[0.0:0.00199609375]>), ('t_rise', <Parameter 't_rise', 1.9960937499999998e-06, bounds=[0:0.019960937500000001]>)])\n"
       ]
      }
     ],
     "prompt_number": 4
    },
    {
     "cell_type": "code",
     "collapsed": false,
     "input": [
      "d = pd.concat(all_data,ignore_index=True)"
     ],
     "language": "python",
     "metadata": {},
     "outputs": [],
     "prompt_number": 5
    },
    {
     "cell_type": "code",
     "collapsed": false,
     "input": [
      "d.shape"
     ],
     "language": "python",
     "metadata": {},
     "outputs": [
      {
       "metadata": {},
       "output_type": "pyout",
       "prompt_number": 6,
       "text": [
        "(320, 34)"
       ]
      }
     ],
     "prompt_number": 6
    },
    {
     "cell_type": "code",
     "collapsed": false,
     "input": [
      "\n",
      "plot(d.primary_load_temperature)"
     ],
     "language": "python",
     "metadata": {},
     "outputs": [
      {
       "metadata": {},
       "output_type": "pyout",
       "prompt_number": 7,
       "text": [
        "[<matplotlib.lines.Line2D at 0x21334510>]"
       ]
      },
      {
       "metadata": {},
       "output_type": "display_data",
       "png": "[encoded data removed]",
       "text": [
        "<matplotlib.figure.Figure at 0x17ab0cd0>"
       ]
      }
     ],
     "prompt_number": 7
    },
    {
     "cell_type": "code",
     "collapsed": false,
     "input": [
      "\n",
      "import kid_readout.analysis.archive"
     ],
     "language": "python",
     "metadata": {},
     "outputs": [
      {
       "output_type": "stream",
       "stream": "stderr",
       "text": [
        "/home/local/lib/python2.7/site-packages/matplotlib/__init__.py:1155: UserWarning:  This call to matplotlib.use() has no effect\n",
        "because the backend has already been chosen;\n",
        "matplotlib.use() must be called *before* pylab, matplotlib.pyplot,\n",
        "or matplotlib.backends is imported for the first time.\n",
        "\n",
        "  warnings.warn(_use_error_msg)\n"
       ]
      }
     ],
     "prompt_number": 9
    },
    {
     "cell_type": "code",
     "collapsed": false,
     "input": [
      "kid_readout.analysis.archive.save_archive(d,'/home/data/archive/2015-03-14-rtl-archive.npy')"
     ],
     "language": "python",
     "metadata": {},
     "outputs": [],
     "prompt_number": 11
    },
    {
     "cell_type": "code",
     "collapsed": false,
     "input": [],
     "language": "python",
     "metadata": {},
     "outputs": []
    }
   ],
   "metadata": {}
  }
 ]
}