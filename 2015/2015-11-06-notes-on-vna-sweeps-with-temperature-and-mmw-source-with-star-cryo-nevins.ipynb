{
 "cells": [
  {
   "cell_type": "code",
   "execution_count": 1,
   "metadata": {
    "collapsed": false
   },
   "outputs": [
    {
     "name": "stdout",
     "output_type": "stream",
     "text": [
      "Populating the interactive namespace from numpy and matplotlib\n"
     ]
    }
   ],
   "source": [
    "%pylab inline"
   ]
  },
  {
   "cell_type": "code",
   "execution_count": null,
   "metadata": {
    "collapsed": true
   },
   "outputs": [],
   "source": [
    "\"\"\"\n",
    "1358.375 MHz\n",
    "300 mK 0.25 dB less deep, 25 kHz shift\n",
    "316 mK 0.27, -37.5\n",
    "320 mK 0.3, -50\n",
    "330 mK 0.33 -100\n",
    "\n",
    "\n",
    "1226.35 MHz 7,7 turns 153 GHz 220 mK\n",
    "6.0,6.0 turns: -75 kHz\n",
    "5.0,5.0 turns: -287 kHz\n",
    "4.0,4.0 turns: -600 kHz, 0.15 dB change in depth( depth is ~3dB\n",
    "3.0,3.0 turns: -962.5 kHz, 0.22 dB change in depth\n",
    "2.0,2.0 turns: -1125 kHz, 0.25 dB\n",
    "\n",
    "\n",
    "There is a responsive resonance type feature around 1972.4 MHz (200 mK))\n",
    "and at 2807.6 MHz. Very low Q, maybe 200-300, deeply coupled, 20+dB deep. ~3 Mhz shift at 2.0 turns, 1000 ppm, similar to other responsive devices..\n",
    "\n",
    "\"\"\""
   ]
  },
  {
   "cell_type": "code",
   "execution_count": 2,
   "metadata": {
    "collapsed": false
   },
   "outputs": [
    {
     "data": {
      "text/plain": [
       "140.35"
      ]
     },
     "execution_count": 2,
     "metadata": {},
     "output_type": "execute_result"
    }
   ],
   "source": [
    "2807/20."
   ]
  },
  {
   "cell_type": "code",
   "execution_count": 4,
   "metadata": {
    "collapsed": false
   },
   "outputs": [
    {
     "data": {
      "text/plain": [
       "1068.7566797292484"
      ]
     },
     "execution_count": 4,
     "metadata": {},
     "output_type": "execute_result"
    }
   ],
   "source": [
    "1e6*3/2807."
   ]
  },
  {
   "cell_type": "code",
   "execution_count": 5,
   "metadata": {
    "collapsed": false
   },
   "outputs": [
    {
     "data": {
      "text/plain": [
       "897.226753670473"
      ]
     },
     "execution_count": 5,
     "metadata": {},
     "output_type": "execute_result"
    }
   ],
   "source": [
    "1e6*1.1/1226"
   ]
  },
  {
   "cell_type": "code",
   "execution_count": null,
   "metadata": {
    "collapsed": true
   },
   "outputs": [],
   "source": []
  }
 ],
 "metadata": {
  "kernelspec": {
   "display_name": "Python 2",
   "language": "python",
   "name": "python2"
  },
  "language_info": {
   "codemirror_mode": {
    "name": "ipython",
    "version": 2
   },
   "file_extension": ".py",
   "mimetype": "text/x-python",
   "name": "python",
   "nbconvert_exporter": "python",
   "pygments_lexer": "ipython2",
   "version": "2.7.6"
  }
 },
 "nbformat": 4,
 "nbformat_minor": 0
}
