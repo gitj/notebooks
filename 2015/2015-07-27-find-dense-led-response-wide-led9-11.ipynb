{
 "cells": [
  {
   "cell_type": "code",
   "execution_count": 1,
   "metadata": {
    "collapsed": false
   },
   "outputs": [
    {
     "name": "stdout",
     "output_type": "stream",
     "text": [
      "Populating the interactive namespace from numpy and matplotlib\n"
     ]
    }
   ],
   "source": [
    "%pylab inline"
   ]
  },
  {
   "cell_type": "code",
   "execution_count": 2,
   "metadata": {
    "collapsed": true
   },
   "outputs": [],
   "source": [
    "import time"
   ]
  },
  {
   "cell_type": "code",
   "execution_count": 3,
   "metadata": {
    "collapsed": true
   },
   "outputs": [],
   "source": [
    "import kid_readout.roach.heterodyne"
   ]
  },
  {
   "cell_type": "code",
   "execution_count": 4,
   "metadata": {
    "collapsed": true
   },
   "outputs": [],
   "source": [
    "ri = kid_readout.roach.heterodyne.RoachHeterodyne()"
   ]
  },
  {
   "cell_type": "code",
   "execution_count": 5,
   "metadata": {
    "collapsed": true
   },
   "outputs": [],
   "source": [
    "import kid_readout.utils.sweeps"
   ]
  },
  {
   "cell_type": "code",
   "execution_count": 6,
   "metadata": {
    "collapsed": true
   },
   "outputs": [],
   "source": [
    "ri.set_fft_gain(4)\n",
    "ri.set_lo(1030.)\n",
    "ri.set_dac_atten(3)"
   ]
  },
  {
   "cell_type": "code",
   "execution_count": 7,
   "metadata": {
    "collapsed": false
   },
   "outputs": [
    {
     "data": {
      "text/plain": [
       "15625.0"
      ]
     },
     "execution_count": 7,
     "metadata": {},
     "output_type": "execute_result"
    }
   ],
   "source": [
    "512e6/2**15"
   ]
  },
  {
   "cell_type": "code",
   "execution_count": 8,
   "metadata": {
    "collapsed": false
   },
   "outputs": [
    {
     "data": {
      "text/plain": [
       "64.0"
      ]
     },
     "execution_count": 8,
     "metadata": {},
     "output_type": "execute_result"
    }
   ],
   "source": [
    "1e6/_"
   ]
  },
  {
   "cell_type": "code",
   "execution_count": 9,
   "metadata": {
    "collapsed": false
   },
   "outputs": [
    {
     "name": "stdout",
     "output_type": "stream",
     "text": [
      "bank_offset= 0 start_offset= 0 start_offset_bytes= 0\n",
      "writing DRAM bank 0\n",
      "\n"
     ]
    }
   ],
   "source": [
    "frq = kid_readout.utils.sweeps.prepare_sweep(ri,np.arange(-128,128)+1030,offsets=np.arange(-16,16)/32.,nsamp=2**15)"
   ]
  },
  {
   "cell_type": "code",
   "execution_count": 10,
   "metadata": {
    "collapsed": true
   },
   "outputs": [],
   "source": [
    "import kid_readout.equipment.agilent_33220"
   ]
  },
  {
   "cell_type": "code",
   "execution_count": 11,
   "metadata": {
    "collapsed": true
   },
   "outputs": [],
   "source": [
    "fg = kid_readout.equipment.agilent_33220.FunctionGenerator(addr=('192.168.1.145', 5025))"
   ]
  },
  {
   "cell_type": "code",
   "execution_count": 12,
   "metadata": {
    "collapsed": false
   },
   "outputs": [
    {
     "data": {
      "text/plain": [
       "'Agilent Technologies,33220A,MY44058488,2.07-2.06-22-2\\n'"
      ]
     },
     "execution_count": 12,
     "metadata": {},
     "output_type": "execute_result"
    }
   ],
   "source": [
    "fg.send_get('*IDN?')"
   ]
  },
  {
   "cell_type": "code",
   "execution_count": 13,
   "metadata": {
    "collapsed": false
   },
   "outputs": [
    {
     "name": "stdout",
     "output_type": "stream",
     "text": [
      "waveform ready, remember to enable output\n"
     ]
    }
   ],
   "source": [
    "fg.set_pulse(2**22/512e6,64e-6,high_level=10.0)"
   ]
  },
  {
   "cell_type": "code",
   "execution_count": 14,
   "metadata": {
    "collapsed": true
   },
   "outputs": [],
   "source": [
    "fg.enable_output(True)"
   ]
  },
  {
   "cell_type": "code",
   "execution_count": 10,
   "metadata": {
    "collapsed": true
   },
   "outputs": [],
   "source": [
    "import time"
   ]
  },
  {
   "cell_type": "code",
   "execution_count": 14,
   "metadata": {
    "collapsed": false,
    "scrolled": true
   },
   "outputs": [
    {
     "name": "stdout",
     "output_type": "stream",
     "text": [
      "830.0\n",
      "detected mcnt overflow None 16731 0 65536 0 2448 16731\n",
      "detected mcnt overflow None 786716 0 65536 0 1072 786716\n",
      "detected mcnt overflow None 721230 0 65536 0 2896 721230\n",
      "detected mcnt overflow None 770319 0 65536 0 1680 770319\n",
      "detected mcnt overflow None 770383 0 65536 0 480 770383\n",
      "detected mcnt overflow None 934209 0 65536 0 3568 934209\n",
      "detected mcnt overflow None 639362 0 65536 0 2400 639362\n",
      "detected mcnt overflow None 426306 0 65536 0 1152 426306\n",
      "detected mcnt overflow None 999796 0 65536 0 3120 999796\n",
      "detected mcnt overflow None 82229 0 65536 0 1872 82229\n",
      "detected mcnt overflow None 868726 0 65536 0 752 868726\n",
      "detected mcnt overflow None 131431 0 65536 0 3792 131431\n",
      "detected mcnt overflow None 377128 0 65536 0 2496 377128\n",
      "detected mcnt overflow None 524649 0 65536 0 1280 524649\n",
      "detected mcnt overflow None 491818 0 65536 0 64 491818\n",
      "processing...\n",
      "1030.0\n",
      "detected mcnt overflow None 950619 0 65536 0 2512 950619\n",
      "detected mcnt overflow None 459036 0 65536 0 1312 459036\n",
      "detected mcnt overflow None 131420 0 65536 0 80 131420\n",
      "detected mcnt overflow None 966990 0 65536 0 3200 966990\n",
      "detected mcnt overflow None 82191 0 65536 0 2000 82191\n",
      "detected mcnt overflow None 753999 0 65536 0 800 753999\n",
      "detected mcnt overflow None 573761 0 65536 0 4016 573761\n",
      "detected mcnt overflow None 442754 0 65536 0 2784 442754\n",
      "detected mcnt overflow None 1016130 0 65536 0 1696 1016130\n",
      "detected mcnt overflow None 753923 0 65536 0 544 753923\n",
      "detected mcnt overflow None 262516 0 65536 0 3888 262516\n",
      "detected mcnt overflow None 164149 0 65536 0 2656 164149\n",
      "detected mcnt overflow None 49526 0 65536 0 1520 49526\n",
      "detected mcnt overflow None 885047 0 65536 0 272 885047\n",
      "detected mcnt overflow None 180520 0 65536 0 3536 180520\n",
      "detected mcnt overflow None 33129 0 65536 0 2304 33129\n",
      "detected mcnt overflow None 82218 0 65536 0 944 82218\n",
      "processing...\n",
      "1230.0\n",
      "detected mcnt overflow None 737627 0 65536 0 3232 737627\n",
      "detected mcnt overflow None 147740 0 65536 0 2048 147740\n",
      "detected mcnt overflow None 967004 0 65536 0 944 967004\n",
      "detected mcnt overflow None 33102 0 65536 0 4080 33102\n",
      "detected mcnt overflow None 377103 0 65536 0 2704 377103\n",
      "detected mcnt overflow None 606543 0 65536 0 1568 606543\n",
      "detected mcnt overflow None 82192 0 65536 0 320 82192\n",
      "detected mcnt overflow None 803202 0 65536 0 3632 803202\n",
      "detected mcnt overflow None 885058 0 65536 0 2512 885058\n",
      "detected mcnt overflow None 573699 0 65536 0 1360 573699\n",
      "detected mcnt overflow None 229700 0 65536 0 192 229700\n",
      "detected mcnt overflow None 983349 0 65536 0 3520 983349\n",
      "detected mcnt overflow None 868726 0 65536 0 2192 868726\n",
      "detected mcnt overflow None 147767 0 65536 0 896 147767\n",
      "detected mcnt overflow None 164136 0 65536 0 3904 164136\n",
      "detected mcnt overflow None 885097 0 65536 0 2672 885097\n",
      "detected mcnt overflow None 327978 0 65536 0 1504 327978\n",
      "detected mcnt overflow None 98666 0 65536 0 144 98666\n",
      "processing...\n",
      "1430.0\n",
      "detected mcnt overflow None 393563 0 65536 0 3888 393563\n",
      "detected mcnt overflow None 901404 0 65536 0 2672 901404\n",
      "detected mcnt overflow None 426332 0 65536 0 1472 426332\n",
      "detected mcnt overflow None 491805 0 65536 0 352 491805\n",
      "detected mcnt overflow None 1032463 0 65536 0 3520 1032463\n",
      "detected mcnt overflow None 360783 0 65536 0 2416 360783\n",
      "detected mcnt overflow None 65808 0 65536 0 1184 65808\n",
      "detected mcnt overflow None 557393 0 65536 0 32 557393\n",
      "detected mcnt overflow None 164162 0 65536 0 3200 164162\n",
      "detected mcnt overflow None 213251 0 65536 0 2048 213251\n",
      "detected mcnt overflow None 852292 0 65536 0 864 852292\n",
      "detected mcnt overflow None 180533 0 65536 0 3936 180533\n",
      "detected mcnt overflow None 278902 0 65536 0 2688 278902\n",
      "detected mcnt overflow None 688439 0 65536 0 1360 688439\n",
      "detected mcnt overflow None 573815 0 65536 0 224 573815\n",
      "detected mcnt overflow None 983401 0 65536 0 3392 983401\n",
      "detected mcnt overflow None 803114 0 65536 0 2112 803114\n",
      "detected mcnt overflow None 672106 0 65536 0 1024 672106\n",
      "processing...\n",
      "1630.0\n",
      "detected mcnt overflow None 33052 0 65536 0 3552 33052\n",
      "detected mcnt overflow None 622940 0 65536 0 2320 622940\n",
      "detected mcnt overflow None 655645 0 65536 0 1056 655645\n",
      "detected mcnt overflow None 82191 0 65536 0 4048 82191\n",
      "detected mcnt overflow None 262479 0 65536 0 2864 262479\n",
      "detected mcnt overflow None 786704 0 65536 0 1680 786704\n",
      "detected mcnt overflow None 377169 0 65536 0 640 377169\n",
      "detected mcnt overflow None 377154 0 65536 0 3888 377154\n",
      "detected mcnt overflow None 688387 0 65536 0 2768 688387\n",
      "detected mcnt overflow None 508228 0 65536 0 1552 508228\n",
      "detected mcnt overflow None 459013 0 65536 0 384 459013\n",
      "detected mcnt overflow None 688502 0 65536 0 3520 688502\n",
      "detected mcnt overflow None 33079 0 65536 0 2304 33079\n",
      "detected mcnt overflow None 704887 0 65536 0 1136 704887\n",
      "detected mcnt overflow None 999722 0 65536 0 3040 999722\n",
      "detected mcnt overflow None 98666 0 65536 0 1728 98666\n",
      "processing...\n",
      "1830.0\n",
      "detected mcnt overflow None 1032540 0 65536 0 3008 1032540\n",
      "detected mcnt overflow None 114973 0 65536 0 1712 114973\n",
      "detected mcnt overflow None 934238 0 65536 0 416 934238\n",
      "detected mcnt overflow None 966991 0 65536 0 3392 966991\n",
      "detected mcnt overflow None 147728 0 65536 0 1952 147728\n",
      "detected mcnt overflow None 229713 0 65536 0 784 229713\n",
      "detected mcnt overflow None 322 0 65536 0 3664 322\n",
      "detected mcnt overflow None 966915 0 65536 0 2368 966915\n",
      "detected mcnt overflow None 672068 0 65536 0 928 672068\n",
      "detected mcnt overflow None 295221 0 65536 0 4016 295221\n",
      "detected mcnt overflow None 409974 0 65536 0 2816 409974\n",
      "detected mcnt overflow None 508215 0 65536 0 1536 508215\n",
      "detected mcnt overflow None 901495 0 65536 0 352 901495\n",
      "detected mcnt overflow None 131433 0 65536 0 3488 131433\n",
      "detected mcnt overflow None 229674 0 65536 0 2272 229674\n",
      "detected mcnt overflow None 590186 0 65536 0 992 590186\n",
      "processing...\n",
      "2030.0\n",
      "detected mcnt overflow None 786716 0 65536 0 3232 786716\n",
      "detected mcnt overflow None 213340 0 65536 0 2016 213340\n",
      "detected mcnt overflow None 393501 0 65536 0 848 393501\n",
      "detected mcnt overflow None 753935 0 65536 0 3888 753935\n",
      "detected mcnt overflow None 278863 0 65536 0 2672 278863\n",
      "detected mcnt overflow None 164112 0 65536 0 1424 164112\n",
      "detected mcnt overflow None 966993 0 65536 0 240 966993\n",
      "detected mcnt overflow None 246082 0 65536 0 3248 246082\n",
      "detected mcnt overflow None 622851 0 65536 0 1952 622851\n",
      "detected mcnt overflow None 704836 0 65536 0 704 704836\n",
      "detected mcnt overflow None 98613 0 65536 0 3696 98613\n",
      "detected mcnt overflow None 491894 0 65536 0 2512 491894\n",
      "detected mcnt overflow None 655671 0 65536 0 1264 655671\n",
      "detected mcnt overflow None 754039 0 65536 0 48 754039\n",
      "detected mcnt overflow None 1032553 0 65536 0 2944 1032553\n",
      "detected mcnt overflow None 295210 0 65536 0 1632 295210\n",
      "detected mcnt overflow None 606570 0 65536 0 368 606570\n",
      "processing...\n"
     ]
    }
   ],
   "source": [
    "for lo in [830.,1030.,1230.,1430.,1630.,1830.,2030.]:\n",
    "    print lo\n",
    "    ri.set_lo(lo)\n",
    "    swp = kid_readout.utils.sweeps.do_prepared_sweep(ri,nchan_per_step=32,reads_per_step=8)\n",
    "    print \"processing...\"\n",
    "    folds = []\n",
    "    frqs= []\n",
    "    for blk in swp.blocks:\n",
    "        if (blk.tone % 128) in [127,1]:\n",
    "            continue\n",
    "        fold = blk.data.reshape((-1,256)).mean(0)\n",
    "        frq = blk.fs*blk.tone*1.0/blk.nsamp\n",
    "        if blk.tone > blk.nsamp/2:\n",
    "            frq = frq-blk.fs\n",
    "        frq = frq + lo\n",
    "#        plot(frq,np.abs(fold).ptp(),'.')\n",
    "        frqs.append(frq)\n",
    "        folds.append(fold)\n",
    "    np.savez(('/data/detectors/2015-07-28-lo-%4.1f-led-4-3-redo.npz' % lo),frqs=np.array(frqs),folds=np.vstack(folds),epoch=time.time())\n",
    "    del swp"
   ]
  },
  {
   "cell_type": "code",
   "execution_count": null,
   "metadata": {
    "collapsed": true
   },
   "outputs": [],
   "source": []
  }
 ],
 "metadata": {
  "kernelspec": {
   "display_name": "Python 2",
   "language": "python",
   "name": "python2"
  },
  "language_info": {
   "codemirror_mode": {
    "name": "ipython",
    "version": 2
   },
   "file_extension": ".py",
   "mimetype": "text/x-python",
   "name": "python",
   "nbconvert_exporter": "python",
   "pygments_lexer": "ipython2",
   "version": "2.7.3"
  }
 },
 "nbformat": 4,
 "nbformat_minor": 0
}
