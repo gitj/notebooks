{
 "cells": [
  {
   "cell_type": "code",
   "execution_count": 1,
   "metadata": {
    "collapsed": false
   },
   "outputs": [
    {
     "name": "stdout",
     "output_type": "stream",
     "text": [
      "Populating the interactive namespace from numpy and matplotlib\n"
     ]
    }
   ],
   "source": [
    "%pylab inline"
   ]
  },
  {
   "cell_type": "code",
   "execution_count": 2,
   "metadata": {
    "collapsed": true
   },
   "outputs": [],
   "source": [
    "import pandas as pd"
   ]
  },
  {
   "cell_type": "code",
   "execution_count": 65,
   "metadata": {
    "collapsed": false
   },
   "outputs": [
    {
     "name": "stdout",
     "output_type": "stream",
     "text": [
      "! Anritsu VNA Master:                           Model: MS2034B\r",
      "\r\n",
      "! SN:                                  1324090\r",
      "\r\n",
      "! /bd0/vna/heat_switch_closed_high_power.s2p\r",
      "\r\n",
      "! Existing Calibration Information:\r",
      "\r\n",
      "! TYPE:                         Current Settings,       Active Cal Settings\r",
      "\r\n",
      "! TIME:             \t   11/23/2015 02:01:23 PM,    07/17/2015 01:48:34 PM\r",
      "\r\n",
      "! INTERNAL TEMP:    \t                   52.3 C,                    47.0 C\r",
      "\r\n",
      "! # POINTS:         \t                     4001,                      4001\r",
      "\r\n",
      "! START FREQ:       \t              500.000 kHz,                80.000 MHz\r",
      "\r\n",
      "! STOP FREQ:        \t                2.000 GHz,               220.000 MHz\r",
      "\r\n",
      "! SOURCE POWER:     \t                     High,                       Low\r",
      "\r\n",
      "! IFBW:             \t                   100 Hz,                    200 Hz\r",
      "\r\n",
      "! AVG FACTOR:       \t                       1 ,                        1 \r",
      "\r\n",
      "! REF PLANE 1:      \t                     2 cm,                      2 cm\r",
      "\r\n",
      "! REF PLANE 2:      \t                     0 mm,                      0 mm\r",
      "\r\n",
      "! CAL TYPE:         \t             Response S21,              Response S21\r",
      "\r\n",
      "! CAL METHOD:       \t                     SOLT,                      SOLT\r",
      "\r\n",
      "! CAL LINE TYPE:    \t                     Coax,                      Coax\r",
      "\r\n",
      "! DUT PORT 1:       \t                K-Conn(F),                 K-Conn(F)\r",
      "\r\n",
      "! DUT PORT 2:       \t                N-Conn(M),                 N-Conn(M)\r",
      "\r\n",
      "! CAL STATUS:       \t                      OFF,                        --\r",
      "\r\n",
      "# GHZ S DB R 50.0\r",
      "\r\n",
      "! FREQ.GHZ       S11DB        S11A       S21DB        S21A       S12DB        S12A       S22DB        S22A\r",
      "\r\n"
     ]
    }
   ],
   "source": [
    "!head -23 /data/readout/vna/2015-11-23/heat_switch_closed_high_power.s2p"
   ]
  },
  {
   "cell_type": "code",
   "execution_count": 81,
   "metadata": {
    "collapsed": false
   },
   "outputs": [],
   "source": [
    "blah = np.genfromtxt('/data/readout/vna/2015-11-23/coarse.s2p',skiprows=23,invalid_raise=False)"
   ]
  },
  {
   "cell_type": "code",
   "execution_count": 82,
   "metadata": {
    "collapsed": false
   },
   "outputs": [
    {
     "data": {
      "text/plain": [
       "(4001, 9)"
      ]
     },
     "execution_count": 82,
     "metadata": {},
     "output_type": "execute_result"
    }
   ],
   "source": [
    "blah.shape"
   ]
  },
  {
   "cell_type": "code",
   "execution_count": 83,
   "metadata": {
    "collapsed": true
   },
   "outputs": [],
   "source": [
    "freq = blah[:,0]\n",
    "s21 = blah[:,3]"
   ]
  },
  {
   "cell_type": "code",
   "execution_count": 84,
   "metadata": {
    "collapsed": true
   },
   "outputs": [],
   "source": [
    "resonances = np.array([\n",
    "    1138.86,\n",
    "        1144.88,\n",
    "        #1149.78,\n",
    "        1156.7,\n",
    "        1163.0,\n",
    "        1170.1,\n",
    "        #1173.6,\n",
    "        1178.9,\n",
    "        1185.0,\n",
    "        1195.0,\n",
    "        1204.4,\n",
    "        1208.5,\n",
    "        1258.9, #shallow\n",
    "        1272.4, #start of ~4 resonator complex\n",
    "        1273.7,\n",
    "        1274.2,\n",
    "        1274.8,\n",
    "        1291.8,\n",
    "        1292.7,\n",
    "        1293.8,\n",
    "        1301.9,\n",
    "        1315.6,\n",
    "        1324.5,\n",
    "        \n",
    "])"
   ]
  },
  {
   "cell_type": "code",
   "execution_count": 87,
   "metadata": {
    "collapsed": false
   },
   "outputs": [
    {
     "data": {
      "text/plain": [
       "(-60, -40)"
      ]
     },
     "execution_count": 87,
     "metadata": {},
     "output_type": "execute_result"
    },
    {
     "data": {
      "image/png": "[encoded data removed]",
      "text/plain": [
       "<matplotlib.figure.Figure at 0x4d68a10>"
      ]
     },
     "metadata": {},
     "output_type": "display_data"
    }
   ],
   "source": [
    "plot(freq,s21)\n",
    "xlim(1,2)\n",
    "ylim(-60,-40)"
   ]
  },
  {
   "cell_type": "code",
   "execution_count": 59,
   "metadata": {
    "collapsed": false
   },
   "outputs": [
    {
     "data": {
      "text/plain": [
       "(1.31, 1.35)"
      ]
     },
     "execution_count": 59,
     "metadata": {},
     "output_type": "execute_result"
    },
    {
     "data": {
      "image/png": "[encoded data removed]",
      "text/plain": [
       "<matplotlib.figure.Figure at 0x43b6890>"
      ]
     },
     "metadata": {},
     "output_type": "display_data"
    }
   ],
   "source": [
    "plot(freq,s21)\n",
    "for res in resonances:\n",
    "    if freq.min()*1000 < res < freq.max()*1000:\n",
    "        gca().axvline(res/1000)\n",
    "#xlim(1.000,1.500)\n",
    "xlim(1.31,1.35)"
   ]
  },
  {
   "cell_type": "code",
   "execution_count": null,
   "metadata": {
    "collapsed": true
   },
   "outputs": [],
   "source": []
  }
 ],
 "metadata": {
  "kernelspec": {
   "display_name": "Python 2",
   "language": "python",
   "name": "python2"
  },
  "language_info": {
   "codemirror_mode": {
    "name": "ipython",
    "version": 2
   },
   "file_extension": ".py",
   "mimetype": "text/x-python",
   "name": "python",
   "nbconvert_exporter": "python",
   "pygments_lexer": "ipython2",
   "version": "2.7.6"
  }
 },
 "nbformat": 4,
 "nbformat_minor": 0
}
