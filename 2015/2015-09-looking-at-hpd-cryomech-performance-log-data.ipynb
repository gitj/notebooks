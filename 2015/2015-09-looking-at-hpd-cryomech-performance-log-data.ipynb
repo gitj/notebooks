{
 "cells": [
  {
   "cell_type": "code",
   "execution_count": 1,
   "metadata": {
    "collapsed": false
   },
   "outputs": [
    {
     "name": "stdout",
     "output_type": "stream",
     "text": [
      "Populating the interactive namespace from numpy and matplotlib\n"
     ]
    }
   ],
   "source": [
    "%pylab inline"
   ]
  },
  {
   "cell_type": "code",
   "execution_count": 9,
   "metadata": {
    "collapsed": true
   },
   "outputs": [],
   "source": [
    "import glob\n",
    "import joblib\n",
    "import pandas as pd\n",
    "import netCDF4\n",
    "import sys"
   ]
  },
  {
   "cell_type": "code",
   "execution_count": 10,
   "metadata": {
    "collapsed": true
   },
   "outputs": [],
   "source": [
    "def nc_to_df(fn):\n",
    "    try:\n",
    "        nc = netCDF4.Dataset(fn)\n",
    "        cryo = nc.groups['cryomech'].variables\n",
    "        data_dict = {}\n",
    "        for key in ['time','temp_oil','temp_water_in','temp_water_out','motor_current','cpu_temp']:\n",
    "            data_dict[key] = cryo[key][::60]\n",
    "        df = pd.DataFrame(data_dict)\n",
    "        print fn,df.shape\n",
    "        sys.stdout.flush()\n",
    "    except Exception, e:\n",
    "        print fn,e\n",
    "        df = None\n",
    "    finally:\n",
    "        try:\n",
    "            nc.close()\n",
    "        except:\n",
    "            pass\n",
    "    return df"
   ]
  },
  {
   "cell_type": "code",
   "execution_count": 11,
   "metadata": {
    "collapsed": true
   },
   "outputs": [],
   "source": [
    "pp = joblib.Parallel(n_jobs=4,verbose=5)"
   ]
  },
  {
   "cell_type": "code",
   "execution_count": 25,
   "metadata": {
    "collapsed": false
   },
   "outputs": [
    {
     "name": "stdout",
     "output_type": "stream",
     "text": [
      "811\n"
     ]
    }
   ],
   "source": [
    "ncfiles=glob.glob('/data/adc/cooldown_logs/201[45]*.nc')\n",
    "ncfiles.sort()\n",
    "print len(ncfiles)"
   ]
  },
  {
   "cell_type": "code",
   "execution_count": 26,
   "metadata": {
    "collapsed": false
   },
   "outputs": [
    {
     "name": "stderr",
     "output_type": "stream",
     "text": [
      "[Parallel(n_jobs=4)]: Done   1 out of 570 | elapsed:    0.1s remaining:   49.0s\n",
      "[Parallel(n_jobs=4)]: Done 161 out of 811 | elapsed:    1.4s remaining:    5.7s\n",
      "[Parallel(n_jobs=4)]: Done 324 out of 811 | elapsed:    3.2s remaining:    4.7s\n",
      "[Parallel(n_jobs=4)]: Done 487 out of 811 | elapsed:    6.7s remaining:    4.5s\n",
      "[Parallel(n_jobs=4)]: Done 650 out of 811 | elapsed:   32.1s remaining:    7.9s\n",
      "[Parallel(n_jobs=4)]: Done 811 out of 811 | elapsed:  9.3min finished\n"
     ]
    },
    {
     "name": "stdout",
     "output_type": "stream",
     "text": [
      "/data/adc/cooldown_logs/2014-02-25_15-45-51.nc 'cryomech'\n",
      "/data/adc/cooldown_logs/2014-02-25_15-21-17.nc 'cryomech'\n",
      "/data/adc/cooldown_logs/2014-02-25_15-49-00.nc 'cryomech'\n",
      "/data/adc/cooldown_logs/2014-02-25_15-47-32.nc 'cryomech'\n",
      "/data/adc/cooldown_logs/2014-02-25_15-49-21.nc 'cryomech'\n",
      "/data/adc/cooldown_logs/2014-02-26_10-07-22.nc 'cryomech'\n",
      "/data/adc/cooldown_logs/2014-02-26_10-08-15.nc 'cryomech'\n",
      "/data/adc/cooldown_logs/2014-02-26_10-34-40.nc 'cryomech'\n",
      "/data/adc/cooldown_logs/2014-02-26_10-52-28.nc 'cryomech'\n",
      "/data/adc/cooldown_logs/2014-02-26_11-32-25.nc 'cryomech'\n",
      "/data/adc/cooldown_logs/2014-02-26_11-58-04.nc 'cryomech'\n",
      "/data/adc/cooldown_logs/2014-02-26_11-57-11.nc/data/adc/cooldown_logs/2014-02-26_12-18-48.nc 'cryomech'\n",
      "/data/adc/cooldown_logs/2014-02-26_12-17-57.nc 'cryomech'\n",
      "/data/adc/cooldown_logs/2014-02-26_12-24-45.nc 'cryomech'\n",
      " 'cryomech'\n",
      "/data/adc/cooldown_logs/2014-02-26_15-19-37.nc 'cryomech'\n",
      "/data/adc/cooldown_logs/2014-02-26_12-20-53.nc 'cryomech'\n",
      "/data/adc/cooldown_logs/2014-02-27_10-46-07.nc 'cryomech'\n",
      "/data/adc/cooldown_logs/2014-02-27_10-37-02.nc 'cryomech'\n",
      "/data/adc/cooldown_logs/2014-02-27_11-05-28.nc 'cryomech'\n",
      "/data/adc/cooldown_logs/2014-02-26_12-41-24.nc 'cryomech'\n",
      "/data/adc/cooldown_logs/2014-02-27_11-19-47.nc 'cryomech'\n",
      "/data/adc/cooldown_logs/2014-02-27_10-41-11.nc 'cryomech'\n",
      "/data/adc/cooldown_logs/2014-02-27_14-22-55.nc 'cryomech'\n",
      "/data/adc/cooldown_logs/2014-02-26_17-03-08.nc 'cryomech'\n",
      "/data/adc/cooldown_logs/2014-02-27_14-17-52.nc 'cryomech'\n",
      "/data/adc/cooldown_logs/2014-02-27_11-31-59.nc 'cryomech'\n",
      "/data/adc/cooldown_logs/2014-02-27_14-34-00.nc 'cryomech'\n",
      "/data/adc/cooldown_logs/2014-02-27_11-19-22.nc 'cryomech'\n",
      "/data/adc/cooldown_logs/2014-02-27_14-29-41.nc 'cryomech'\n",
      "/data/adc/cooldown_logs/2014-02-27_13-38-32.nc 'cryomech'\n",
      "/data/adc/cooldown_logs/2014-02-27_16-32-04.nc 'cryomech'\n",
      "/data/adc/cooldown_logs/2014-02-27_11-35-07.nc 'cryomech'\n",
      "/data/adc/cooldown_logs/2014-02-27_14-40-50.nc 'cryomech'\n",
      "/data/adc/cooldown_logs/2014-02-27_14-25-20.nc 'cryomech'\n",
      "/data/adc/cooldown_logs/2014-02-27_16-51-54.nc 'cryomech'\n",
      "/data/adc/cooldown_logs/2014-02-27_14-23-31.nc 'cryomech'\n",
      "/data/adc/cooldown_logs/2014-02-27_16-26-40.nc/data/adc/cooldown_logs/2014-02-27_16-04-54.nc 'cryomech'\n",
      "/data/adc/cooldown_logs/2014-02-27_16-51-59.nc 'cryomech'\n",
      "/data/adc/cooldown_logs/2014-02-27_16-01-46.nc 'cryomech'\n",
      " 'cryomech'\n",
      "/data/adc/cooldown_logs/2014-02-27_16-33-52.nc 'cryomech'\n",
      "/data/adc/cooldown_logs/2014-02-27_16-52-05.nc 'cryomech'\n",
      "/data/adc/cooldown_logs/2014-02-27_16-02-03.nc 'cryomech'\n",
      "/data/adc/cooldown_logs/2014-02-27_16-35-44.nc 'cryomech'\n",
      "/data/adc/cooldown_logs/2014-03-03_10-05-36.nc 'cryomech'\n",
      "/data/adc/cooldown_logs/2014-03-03_11-07-01.nc 'cryomech'\n",
      "/data/adc/cooldown_logs/2014-02-27_16-03-05.nc 'cryomech'\n",
      "/data/adc/cooldown_logs/2014-03-03_10-58-50.nc 'cryomech'\n",
      "/data/adc/cooldown_logs/2014-03-03_11-07-37.nc 'cryomech'\n",
      "/data/adc/cooldown_logs/2014-03-03_11-16-35.nc 'cryomech'\n",
      "/data/adc/cooldown_logs/2014-02-27_16-33-05.nc 'cryomech'\n",
      "/data/adc/cooldown_logs/2014-03-03_11-08-13.nc 'cryomech'\n",
      "/data/adc/cooldown_logs/2014-03-03_11-27-41.nc 'cryomech'\n",
      "/data/adc/cooldown_logs/2014-03-03_11-30-15.nc 'cryomech'\n",
      "/data/adc/cooldown_logs/2014-03-03_10-04-30.nc 'cryomech'\n",
      "/data/adc/cooldown_logs/2014-03-03_11-28-16.nc 'cryomech'\n",
      "/data/adc/cooldown_logs/2014-03-03_11-42-48.nc 'cryomech'\n",
      "/data/adc/cooldown_logs/2014-03-03_11-47-36.nc 'cryomech'\n",
      "/data/adc/cooldown_logs/2014-03-03_11-05-45.nc 'cryomech'\n",
      "/data/adc/cooldown_logs/2014-03-03_11-45-19.nc 'cryomech'\n",
      "/data/adc/cooldown_logs/2014-03-03_11-46-45.nc 'cryomech'\n",
      "/data/adc/cooldown_logs/2014-03-03_13-35-24.nc 'cryomech'\n",
      "/data/adc/cooldown_logs/2014-03-03_11-12-35.nc 'cryomech'\n",
      "/data/adc/cooldown_logs/2014-03-03_12-20-21.nc/data/adc/cooldown_logs/2014-03-03_11-57-51.nc 'cryomech'\n",
      "/data/adc/cooldown_logs/2014-03-03_14-24-08.nc 'cryomech'\n",
      "/data/adc/cooldown_logs/2014-03-03_11-30-13.nc 'cryomech'\n",
      "/data/adc/cooldown_logs/2014-03-03_13-36-49.nc/data/adc/cooldown_logs/2014-03-03_16-03-23.nc 'cryomech'\n",
      " 'cryomech'\n",
      "/data/adc/cooldown_logs/2014-03-03_15-43-48.nc 'cryomech'\n",
      " 'cryomech'\n",
      "/data/adc/cooldown_logs/2014-03-03_16-50-55.nc 'cryomech'\n",
      "/data/adc/cooldown_logs/2014-03-03_11-47-14.nc 'cryomech'\n",
      "/data/adc/cooldown_logs/2014-03-03_16-21-30.nc/data/adc/cooldown_logs/2014-03-03_13-39-11.nc 'cryomech'\n",
      "/data/adc/cooldown_logs/2014-03-04_10-13-12.nc 'cryomech'\n",
      "/data/adc/cooldown_logs/2014-03-03_13-37-12.nc 'cryomech'\n",
      "/data/adc/cooldown_logs/2014-03-03_16-41-33.nc 'cryomech'\n",
      "/data/adc/cooldown_logs/2014-03-04_13-19-35.nc 'cryomech'\n",
      "/data/adc/cooldown_logs/2014-03-04_11-59-43.nc 'cryomech'\n",
      "/data/adc/cooldown_logs/2014-03-03_16-52-04.nc 'cryomech'\n",
      " 'cryomech'\n",
      "/data/adc/cooldown_logs/2014-03-03_15-15-06.nc 'cryomech'\n",
      "/data/adc/cooldown_logs/2014-03-04_12-00-03.nc 'cryomech'\n",
      "/data/adc/cooldown_logs/2014-03-03_16-53-19.nc 'cryomech'\n",
      "/data/adc/cooldown_logs/2014-03-04_13-57-42.nc 'cryomech'\n",
      "/data/adc/cooldown_logs/2014-03-03_16-22-36.nc 'cryomech'\n",
      "/data/adc/cooldown_logs/2014-03-04_12-01-06.nc 'cryomech'\n",
      "/data/adc/cooldown_logs/2014-03-04_12-19-52.nc 'cryomech'\n",
      "/data/adc/cooldown_logs/2014-03-04_14-04-02.nc 'cryomech'\n",
      "/data/adc/cooldown_logs/2014-03-03_16-52-46.nc 'cryomech'\n",
      "/data/adc/cooldown_logs/2014-03-04_13-20-25.nc 'cryomech'\n",
      "/data/adc/cooldown_logs/2014-03-04_13-28-03.nc 'cryomech'\n",
      "/data/adc/cooldown_logs/2014-03-04_14-20-16.nc 'cryomech'\n",
      "/data/adc/cooldown_logs/2014-03-04_12-18-52.nc 'cryomech'\n",
      "/data/adc/cooldown_logs/2014-03-04_13-29-03.nc 'cryomech'\n",
      "/data/adc/cooldown_logs/2014-03-04_14-00-19.nc 'cryomech'\n",
      "/data/adc/cooldown_logs/2014-03-04_14-24-58.nc 'cryomech'\n",
      "/data/adc/cooldown_logs/2014-03-04_13-24-20.nc 'cryomech'\n",
      "/data/adc/cooldown_logs/2014-03-04_14-03-27.nc 'cryomech'\n",
      "/data/adc/cooldown_logs/2014-03-04_14-09-42.nc 'cryomech'\n",
      "/data/adc/cooldown_logs/2014-03-04_14-35-57.nc 'cryomech'\n",
      "/data/adc/cooldown_logs/2014-03-04_13-30-47.nc 'cryomech'\n",
      "/data/adc/cooldown_logs/2014-03-04_14-16-18.nc 'cryomech'\n",
      "/data/adc/cooldown_logs/2014-03-04_14-21-10.nc 'cryomech'\n",
      "/data/adc/cooldown_logs/2014-03-04_14-41-09.nc 'cryomech'\n",
      "/data/adc/cooldown_logs/2014-03-04_14-07-40.nc/data/adc/cooldown_logs/2014-03-04_14-18-49.nc 'cryomech'\n",
      "/data/adc/cooldown_logs/2014-03-04_14-27-43.nc 'cryomech'\n",
      "/data/adc/cooldown_logs/2014-03-04_14-54-19.nc 'cryomech'\n",
      " 'cryomech'\n",
      "/data/adc/cooldown_logs/2014-03-04_14-26-27.nc 'cryomech'\n",
      "/data/adc/cooldown_logs/2014-03-04_14-36-37.nc 'cryomech'\n",
      "/data/adc/cooldown_logs/2014-03-04_15-13-34.nc 'cryomech'\n",
      "/data/adc/cooldown_logs/2014-03-04_14-24-22.nc 'cryomech'\n",
      "/data/adc/cooldown_logs/2014-03-04_14-32-36.nc 'cryomech'\n",
      "/data/adc/cooldown_logs/2014-03-04_14-47-14.nc 'cryomech'\n",
      "/data/adc/cooldown_logs/2014-03-04_15-24-49.nc 'cryomech'\n",
      "/data/adc/cooldown_logs/2014-03-04_14-33-31.nc 'cryomech'\n",
      "/data/adc/cooldown_logs/2014-03-04_14-38-42.nc 'cryomech'\n",
      "/data/adc/cooldown_logs/2014-03-04_15-06-30.nc 'cryomech'\n",
      "/data/adc/cooldown_logs/2014-03-04_15-42-54.nc NetCDF: Unknown file format\n",
      "/data/adc/cooldown_logs/2014-03-04_14-40-08.nc 'cryomech'\n",
      "/data/adc/cooldown_logs/2014-03-04_14-51-53.nc 'cryomech'\n",
      "/data/adc/cooldown_logs/2014-03-04_15-14-02.nc 'cryomech'\n",
      "/data/adc/cooldown_logs/2014-03-04_15-44-48.nc NetCDF: Unknown file format\n",
      "/data/adc/cooldown_logs/2014-03-04_14-52-27.nc 'cryomech'\n",
      "/data/adc/cooldown_logs/2014-03-04_15-13-21.nc 'cryomech'\n",
      "/data/adc/cooldown_logs/2014-03-04_15-40-35.nc 'cryomech'\n",
      "/data/adc/cooldown_logs/2014-03-04_15-47-22.nc 'cryomech'\n",
      "/data/adc/cooldown_logs/2014-03-04_15-12-57.nc 'cryomech'\n",
      "/data/adc/cooldown_logs/2014-03-04_15-15-05.nc 'cryomech'\n",
      "/data/adc/cooldown_logs/2014-03-04_15-41-57.nc 'cryomech'\n",
      "/data/adc/cooldown_logs/2014-03-04_15-55-25.nc 'cryomech'\n",
      "/data/adc/cooldown_logs/2014-03-04_15-16-56.nc 'cryomech'\n",
      "/data/adc/cooldown_logs/2014-03-04_15-41-22.nc 'cryomech'\n",
      "/data/adc/cooldown_logs/2014-03-04_15-49-27.nc 'cryomech'\n",
      "/data/adc/cooldown_logs/2014-03-04_17-12-09.nc/data/adc/cooldown_logs/2014-03-04_15-42-22.nc 'cryomech'\n",
      "/data/adc/cooldown_logs/2014-03-04_15-48-32.nc 'cryomech'\n",
      "/data/adc/cooldown_logs/2014-03-04_17-04-18.nc 'cryomech'\n",
      " 'cryomech'\n",
      "/data/adc/cooldown_logs/2014-03-04_15-43-22.nc 'cryomech'\n",
      "/data/adc/cooldown_logs/2014-03-04_15-50-10.nc 'cryomech'\n",
      "/data/adc/cooldown_logs/2014-03-04_17-13-22.nc NetCDF: Unknown file format\n",
      "/data/adc/cooldown_logs/2014-03-04_17-16-55.nc 'cryomech'\n",
      "/data/adc/cooldown_logs/2014-03-04_15-52-47.nc 'cryomech'\n",
      "/data/adc/cooldown_logs/2014-03-04_15-54-06.nc 'cryomech'\n",
      "/data/adc/cooldown_logs/2014-03-04_17-15-24.nc/data/adc/cooldown_logs/2014-03-04_17-37-42.nc 'cryomech'\n",
      "/data/adc/cooldown_logs/2014-03-04_17-03-51.nc 'cryomech'\n",
      "/data/adc/cooldown_logs/2014-03-04_17-09-06.nc NetCDF: Unknown file format\n",
      " 'cryomech'\n",
      "/data/adc/cooldown_logs/2014-03-04_17-45-31.nc NetCDF: Unknown file format\n",
      "/data/adc/cooldown_logs/2014-03-04_17-04-53.nc NetCDF: Unknown file format\n",
      "/data/adc/cooldown_logs/2014-03-04_17-11-21.nc 'cryomech'\n",
      "/data/adc/cooldown_logs/2014-03-04_17-31-40.nc 'cryomech'\n",
      "/data/adc/cooldown_logs/2014-03-04_17-47-08.nc NetCDF: Unknown file format\n",
      "/data/adc/cooldown_logs/2014-03-04_17-08-21.nc NetCDF: Unknown file format\n",
      "/data/adc/cooldown_logs/2014-03-04_17-30-04.nc 'cryomech'\n",
      "/data/adc/cooldown_logs/2014-03-04_17-32-26.nc NetCDF: Unknown file format\n",
      "/data/adc/cooldown_logs/2014-03-04_17-47-44.nc 'cryomech'\n",
      "/data/adc/cooldown_logs/2014-03-04_17-10-23.nc 'cryomech'\n",
      "/data/adc/cooldown_logs/2014-03-04_17-31-54.nc 'cryomech'\n",
      "/data/adc/cooldown_logs/2014-03-04_17-32-51.nc NetCDF: Unknown file format\n",
      "/data/adc/cooldown_logs/2014-03-05_10-30-59.nc 'cryomech'\n",
      "/data/adc/cooldown_logs/2014-03-04_17-15-50.nc 'cryomech'\n",
      "/data/adc/cooldown_logs/2014-03-04_17-36-05.nc 'cryomech'\n",
      "/data/adc/cooldown_logs/2014-03-04_17-33-39.nc 'cryomech'\n",
      "/data/adc/cooldown_logs/2014-03-05_11-16-01.nc 'cryomech'\n",
      "/data/adc/cooldown_logs/2014-03-04_17-35-46.nc 'cryomech'\n",
      "/data/adc/cooldown_logs/2014-03-04_17-44-32.nc 'cryomech'\n",
      "/data/adc/cooldown_logs/2014-03-04_17-40-29.nc 'cryomech'\n",
      "/data/adc/cooldown_logs/2014-03-05_11-20-47.nc 'cryomech'\n",
      "/data/adc/cooldown_logs/2014-03-04_17-36-49.nc 'cryomech'\n",
      "/data/adc/cooldown_logs/2014-03-05_10-27-51.nc 'cryomech'\n",
      "/data/adc/cooldown_logs/2014-03-04_17-49-26.nc 'cryomech'\n",
      "/data/adc/cooldown_logs/2014-03-05_14-02-52.nc 'cryomech'\n",
      "/data/adc/cooldown_logs/2014-03-04_17-42-24.nc 'cryomech'\n",
      "/data/adc/cooldown_logs/2014-03-05_11-11-51.nc 'cryomech'\n",
      "/data/adc/cooldown_logs/2014-03-04_17-50-52.nc 'cryomech'\n",
      "/data/adc/cooldown_logs/2014-03-05_16-00-54.nc 'cryomech'\n",
      "/data/adc/cooldown_logs/2014-03-04_17-50-20.nc 'cryomech'\n",
      "/data/adc/cooldown_logs/2014-03-05_11-20-30.nc 'cryomech'\n",
      "/data/adc/cooldown_logs/2014-03-05_10-39-18.nc 'cryomech'\n",
      "/data/adc/cooldown_logs/2014-03-06_11-00-20.nc 'cryomech'\n",
      "/data/adc/cooldown_logs/2014-03-05_10-23-32.nc 'cryomech'\n",
      "/data/adc/cooldown_logs/2014-03-05_13-45-21.nc 'cryomech'\n",
      "/data/adc/cooldown_logs/2014-03-05_11-17-49.nc 'cryomech'\n",
      "/data/adc/cooldown_logs/2014-03-06_11-43-14.nc 'cryomech'\n",
      "/data/adc/cooldown_logs/2014-03-05_11-10-18.nc 'cryomech'\n",
      "/data/adc/cooldown_logs/2014-03-05_15-19-49.nc 'cryomech'\n",
      "/data/adc/cooldown_logs/2014-03-05_13-26-52.nc 'cryomech'\n",
      "/data/adc/cooldown_logs/2014-03-06_13-08-05.nc 'cryomech'\n",
      "/data/adc/cooldown_logs/2014-03-05_11-20-01.nc 'cryomech'\n",
      "/data/adc/cooldown_logs/2014-03-06_10-35-06.nc 'cryomech'\n",
      "/data/adc/cooldown_logs/2014-03-05_14-24-26.nc 'cryomech'\n",
      "/data/adc/cooldown_logs/2014-03-06_15-02-15.nc 'cryomech'\n",
      "/data/adc/cooldown_logs/2014-03-05_12-59-05.nc 'cryomech'\n",
      "/data/adc/cooldown_logs/2014-03-06_11-16-46.nc 'cryomech'\n",
      "/data/adc/cooldown_logs/2014-03-05_16-28-58.nc 'cryomech'\n",
      "/data/adc/cooldown_logs/2014-03-06_15-34-32.nc 'cryomech'\n",
      "/data/adc/cooldown_logs/2014-03-05_14-46-31.nc 'cryomech'\n",
      "/data/adc/cooldown_logs/2014-03-06_12-49-31.nc 'cryomech'\n",
      "/data/adc/cooldown_logs/2014-03-06_11-12-03.nc 'cryomech'\n",
      "/data/adc/cooldown_logs/2014-03-07_11-57-31.nc/data/adc/cooldown_logs/2014-03-05_16-38-57.nc 'cryomech'\n",
      "/data/adc/cooldown_logs/2014-03-06_15-14-11.nc 'cryomech'\n",
      "/data/adc/cooldown_logs/2014-03-06_12-15-50.nc 'cryomech'\n",
      " 'cryomech'\n",
      "/data/adc/cooldown_logs/2014-03-06_11-45-21.nc 'cryomech'\n",
      "/data/adc/cooldown_logs/2014-03-06_17-12-53.nc/data/adc/cooldown_logs/2014-03-06_14-35-16.nc 'cryomech'\n",
      "/data/adc/cooldown_logs/2014-03-07_14-04-50.nc 'cryomech'\n",
      "/data/adc/cooldown_logs/2014-03-06_14-31-31.nc 'cryomech'\n",
      " 'cryomech'\n",
      "/data/adc/cooldown_logs/2014-03-06_16-39-50.nc 'cryomech'\n",
      "/data/adc/cooldown_logs/2014-03-07_15-18-22.nc 'cryomech'\n",
      "/data/adc/cooldown_logs/2014-03-06_15-13-40.nc 'cryomech'\n",
      "/data/adc/cooldown_logs/2014-03-07_13-33-03.nc 'cryomech'\n",
      "/data/adc/cooldown_logs/2014-03-07_13-09-22.nc 'cryomech'\n",
      "/data/adc/cooldown_logs/2014-03-07_16-15-38.nc 'cryomech'\n",
      "/data/adc/cooldown_logs/2014-03-06_16-52-01.nc 'cryomech'\n",
      "/data/adc/cooldown_logs/2014-03-07_15-15-34.nc 'cryomech'\n",
      "/data/adc/cooldown_logs/2014-03-07_13-27-36.nc 'cryomech'\n",
      "/data/adc/cooldown_logs/2014-03-07_16-36-37.nc 'cryomech'\n",
      "/data/adc/cooldown_logs/2014-03-07_12-28-16.nc/data/adc/cooldown_logs/2014-03-07_15-16-01.nc/data/adc/cooldown_logs/2014-03-07_13-28-41.nc 'cryomech'\n",
      "/data/adc/cooldown_logs/2014-03-10_10-49-31.nc 'cryomech'\n",
      " 'cryomech'\n",
      " 'cryomech'\n",
      "/data/adc/cooldown_logs/2014-03-07_15-16-25.nc 'cryomech'\n",
      "/data/adc/cooldown_logs/2014-03-10_11-23-28.nc/data/adc/cooldown_logs/2014-03-07_14-15-44.nc 'cryomech'\n",
      "/data/adc/cooldown_logs/2014-03-07_15-32-26.nc 'cryomech'\n",
      "/data/adc/cooldown_logs/2014-03-07_15-23-39.nc 'cryomech'\n",
      " 'cryomech'\n",
      "/data/adc/cooldown_logs/2014-03-07_15-21-31.nc 'cryomech'\n",
      "/data/adc/cooldown_logs/2014-03-07_17-01-15.nc 'cryomech'\n",
      "/data/adc/cooldown_logs/2014-03-07_16-33-35.nc 'cryomech'\n",
      "/data/adc/cooldown_logs/2014-03-10_12-49-47.nc/data/adc/cooldown_logs/2014-03-07_15-30-42.nc 'cryomech'\n",
      "/data/adc/cooldown_logs/2014-03-10_10-53-47.nc 'cryomech'\n",
      "/data/adc/cooldown_logs/2014-03-07_17-01-27.nc 'cryomech'\n",
      " 'cryomech'\n",
      "/data/adc/cooldown_logs/2014-03-07_16-34-53.nc 'cryomech'\n",
      "/data/adc/cooldown_logs/2014-03-10_11-22-59.nc 'cryomech'\n",
      "/data/adc/cooldown_logs/2014-03-10_11-21-04.nc 'cryomech'\n",
      "/data/adc/cooldown_logs/2014-03-10_13-49-58.nc 'cryomech'\n",
      "/data/adc/cooldown_logs/2014-03-10_10-34-42.nc/data/adc/cooldown_logs/2014-03-10_11-35-17.nc 'cryomech'\n",
      "/data/adc/cooldown_logs/2014-03-10_11-22-08.nc 'cryomech'\n",
      "/data/adc/cooldown_logs/2014-03-10_14-50-58.nc 'cryomech'\n",
      " 'cryomech'\n",
      "/data/adc/cooldown_logs/2014-03-10_13-05-48.nc/data/adc/cooldown_logs/2014-03-10_11-32-38.nc/data/adc/cooldown_logs/2014-03-10_15-06-08.nc 'cryomech'\n",
      "/data/adc/cooldown_logs/2014-03-10_11-27-26.nc 'cryomech'\n",
      " 'cryomech'\n",
      " 'cryomech'\n",
      "/data/adc/cooldown_logs/2014-03-10_15-06-26.nc 'cryomech'\n",
      "/data/adc/cooldown_logs/2014-03-10_11-35-36.nc 'cryomech'\n",
      "/data/adc/cooldown_logs/2014-03-10_14-48-37.nc 'cryomech'\n",
      "/data/adc/cooldown_logs/2014-03-10_12-50-20.nc 'cryomech'\n",
      "/data/adc/cooldown_logs/2014-03-10_15-32-56.nc 'cryomech'\n",
      "/data/adc/cooldown_logs/2014-03-10_13-20-55.nc 'cryomech'\n",
      "/data/adc/cooldown_logs/2014-03-10_14-51-44.nc 'cryomech'\n",
      "/data/adc/cooldown_logs/2014-03-10_13-48-47.nc 'cryomech'\n",
      "/data/adc/cooldown_logs/2014-03-10_16-34-04.nc 'cryomech'\n",
      "/data/adc/cooldown_logs/2014-03-10_14-49-48.nc 'cryomech'\n",
      "/data/adc/cooldown_logs/2014-03-10_15-14-09.nc/data/adc/cooldown_logs/2014-03-10_14-44-51.nc 'cryomech'\n",
      "/data/adc/cooldown_logs/2014-03-10_16-46-37.nc 'cryomech'\n",
      "/data/adc/cooldown_logs/2014-03-10_14-58-34.nc 'cryomech'\n",
      " 'cryomech'\n",
      "/data/adc/cooldown_logs/2014-03-10_14-53-20.nc 'cryomech'\n",
      "/data/adc/cooldown_logs/2014-03-10_17-02-38.nc 'cryomech'\n",
      "/data/adc/cooldown_logs/2014-03-10_15-22-39.nc 'cryomech'\n",
      "/data/adc/cooldown_logs/2014-03-10_16-03-23.nc 'cryomech'\n",
      "/data/adc/cooldown_logs/2014-03-10_15-17-35.nc 'cryomech'\n",
      "/data/adc/cooldown_logs/2014-03-10_17-15-34.nc 'cryomech'\n",
      "/data/adc/cooldown_logs/2014-03-10_16-06-22.nc 'cryomech'\n",
      "/data/adc/cooldown_logs/2014-03-10_16-38-55.nc 'cryomech'\n",
      "/data/adc/cooldown_logs/2014-03-10_15-54-06.nc 'cryomech'\n",
      "/data/adc/cooldown_logs/2014-03-11_12-14-21.nc 'cryomech'\n",
      "/data/adc/cooldown_logs/2014-03-10_16-44-44.nc 'cryomech'\n",
      "/data/adc/cooldown_logs/2014-03-10_16-52-00.nc 'cryomech'\n",
      "/data/adc/cooldown_logs/2014-03-10_16-15-19.nc/data/adc/cooldown_logs/2014-03-11_14-10-45.nc 'cryomech'\n",
      "/data/adc/cooldown_logs/2014-03-10_16-45-48.nc 'cryomech'\n",
      "/data/adc/cooldown_logs/2014-03-11_10-21-13.nc 'cryomech'\n",
      " 'cryomech'\n",
      "/data/adc/cooldown_logs/2014-03-11_14-36-35.nc/data/adc/cooldown_logs/2014-03-10_16-51-14.nc 'cryomech'\n",
      "/data/adc/cooldown_logs/2014-03-11_13-13-48.nc 'cryomech'\n",
      "/data/adc/cooldown_logs/2014-03-10_16-47-44.nc 'cryomech'\n",
      " 'cryomech'\n",
      "/data/adc/cooldown_logs/2014-03-11_10-48-10.nc 'cryomech'\n",
      "/data/adc/cooldown_logs/2014-03-11_14-26-30.nc 'cryomech'\n",
      "/data/adc/cooldown_logs/2014-03-11_11-29-23.nc 'cryomech'\n",
      "/data/adc/cooldown_logs/2014-03-11_17-05-47.nc 'cryomech'\n",
      "/data/adc/cooldown_logs/2014-03-11_13-22-01.nc 'cryomech'\n",
      "/data/adc/cooldown_logs/2014-03-11_14-41-20.nc 'cryomech'\n",
      "/data/adc/cooldown_logs/2014-03-11_12-17-26.nc 'cryomech'\n",
      "/data/adc/cooldown_logs/2014-03-12_10-57-58.nc/data/adc/cooldown_logs/2014-03-11_14-31-00.nc 'cryomech'\n",
      "/data/adc/cooldown_logs/2014-03-12_10-37-49.nc 'cryomech'\n",
      "/data/adc/cooldown_logs/2014-03-11_14-21-29.nc 'cryomech'\n",
      "/data/adc/cooldown_logs/2014-03-11_14-52-26.nc 'cryomech'\n",
      "/data/adc/cooldown_logs/2014-03-12_11-17-56.nc 'cryomech'\n",
      " 'cryomech'\n",
      "/data/adc/cooldown_logs/2014-03-12_15-03-47.nc 'cryomech'\n",
      "/data/adc/cooldown_logs/2014-03-11_17-28-56.nc 'cryomech'\n",
      "/data/adc/cooldown_logs/2014-03-12_11-30-42.nc 'cryomech'\n",
      "/data/adc/cooldown_logs/2014-03-11_17-25-40.nc 'cryomech'\n",
      "/data/adc/cooldown_logs/2014-03-12_15-08-57.nc/data/adc/cooldown_logs/2014-03-12_11-09-21.nc 'cryomech'\n",
      "/data/adc/cooldown_logs/2014-03-12_15-04-39.nc 'cryomech'\n",
      "/data/adc/cooldown_logs/2014-03-12_11-03-16.nc 'cryomech'\n",
      "/data/adc/cooldown_logs/2014-03-12_11-26-54.nc 'cryomech'\n",
      "/data/adc/cooldown_logs/2014-03-12_15-09-36.nc 'cryomech'\n",
      " 'cryomech'\n",
      "/data/adc/cooldown_logs/2014-03-12_16-29-15.nc 'cryomech'\n",
      "/data/adc/cooldown_logs/2014-03-12_14-45-26.nc 'cryomech'\n",
      "/data/adc/cooldown_logs/2014-03-12_15-15-26.nc 'cryomech'\n",
      "/data/adc/cooldown_logs/2014-03-12_14-01-46.nc 'cryomech'\n",
      "/data/adc/cooldown_logs/2014-03-12_16-29-38.nc 'cryomech'\n",
      "/data/adc/cooldown_logs/2014-03-12_15-09-16.nc/data/adc/cooldown_logs/2014-03-12_16-32-00.nc 'cryomech'\n",
      "/data/adc/cooldown_logs/2014-03-12_15-05-15.nc/data/adc/cooldown_logs/2014-03-12_16-31-47.nc 'cryomech'\n",
      " 'cryomech'\n",
      "/data/adc/cooldown_logs/2014-03-12_17-34-28.nc 'cryomech'\n",
      "/data/adc/cooldown_logs/2014-03-12_16-35-41.nc 'cryomech'\n",
      "/data/adc/cooldown_logs/2014-03-12_15-20-45.nc 'cryomech'\n",
      " 'cryomech'\n",
      "/data/adc/cooldown_logs/2014-03-12_15-42-13.nc/data/adc/cooldown_logs/2014-03-12_17-33-17.nc/data/adc/cooldown_logs/2014-03-12_16-36-08.nc/data/adc/cooldown_logs/2014-03-12_17-47-27.nc 'cryomech'\n",
      " 'cryomech'\n",
      " 'cryomech'\n",
      " 'cryomech'\n",
      "/data/adc/cooldown_logs/2014-03-12_17-43-37.nc 'cryomech'\n",
      "/data/adc/cooldown_logs/2014-03-12_17-44-24.nc 'cryomech'\n",
      "/data/adc/cooldown_logs/2014-03-12_17-38-22.nc/data/adc/cooldown_logs/2014-03-13_11-04-24.nc 'cryomech'\n",
      "/data/adc/cooldown_logs/2014-03-12_17-48-01.nc 'cryomech'\n",
      "/data/adc/cooldown_logs/2014-03-12_17-54-16.nc 'cryomech'\n",
      " 'cryomech'\n",
      "/data/adc/cooldown_logs/2014-03-13_11-54-25.nc 'cryomech'\n",
      "/data/adc/cooldown_logs/2014-03-13_10-46-13.nc 'cryomech'\n",
      "/data/adc/cooldown_logs/2014-03-13_10-29-40.nc 'cryomech'\n",
      "/data/adc/cooldown_logs/2014-03-13_10-57-35.nc 'cryomech'\n",
      "/data/adc/cooldown_logs/2014-03-13_12-00-56.nc 'cryomech'\n",
      "/data/adc/cooldown_logs/2014-03-13_10-47-43.nc 'cryomech'\n",
      "/data/adc/cooldown_logs/2014-03-13_10-52-12.nc/data/adc/cooldown_logs/2014-03-13_11-53-36.nc 'cryomech'\n",
      "/data/adc/cooldown_logs/2014-03-13_12-24-44.nc 'cryomech'\n",
      "/data/adc/cooldown_logs/2014-03-13_11-53-22.nc 'cryomech'\n",
      " 'cryomech'\n",
      "/data/adc/cooldown_logs/2014-03-13_11-58-51.nc 'cryomech'\n",
      "/data/adc/cooldown_logs/2014-03-13_12-44-25.nc/data/adc/cooldown_logs/2014-03-13_12-00-43.nc 'cryomech'\n",
      "/data/adc/cooldown_logs/2014-03-13_11-58-35.nc 'cryomech'\n",
      "/data/adc/cooldown_logs/2014-03-13_12-17-22.nc 'cryomech'\n",
      " 'cryomech'\n",
      "/data/adc/cooldown_logs/2014-03-13_12-19-02.nc 'cryomech'\n",
      "/data/adc/cooldown_logs/2014-03-13_12-02-36.nc 'cryomech'\n",
      "/data/adc/cooldown_logs/2014-03-13_12-36-34.nc 'cryomech'\n",
      "/data/adc/cooldown_logs/2014-03-13_13-07-25.nc 'cryomech'\n",
      "/data/adc/cooldown_logs/2014-03-13_12-33-08.nc 'cryomech'\n",
      "/data/adc/cooldown_logs/2014-03-13_12-28-37.nc 'cryomech'\n",
      "/data/adc/cooldown_logs/2014-03-13_12-46-19.nc 'cryomech'\n",
      "/data/adc/cooldown_logs/2014-03-13_13-17-33.nc 'cryomech'\n",
      "/data/adc/cooldown_logs/2014-03-13_12-33-21.nc 'cryomech'\n",
      "/data/adc/cooldown_logs/2014-03-13_12-45-07.nc 'cryomech'\n",
      "/data/adc/cooldown_logs/2014-03-13_13-13-16.nc 'cryomech'\n",
      "/data/adc/cooldown_logs/2014-03-13_14-01-51.nc 'cryomech'\n",
      "/data/adc/cooldown_logs/2014-03-13_12-38-12.nc/data/adc/cooldown_logs/2014-03-13_12-47-53.nc 'cryomech'\n",
      "/data/adc/cooldown_logs/2014-03-13_13-54-41.nc 'cryomech'\n",
      "/data/adc/cooldown_logs/2014-03-17_12-13-58.nc 'cryomech'\n",
      "/data/adc/cooldown_logs/2014-03-13_13-51-45.nc 'cryomech'\n",
      "/data/adc/cooldown_logs/2014-03-14_16-55-21.nc 'cryomech'\n",
      " 'cryomech'\n",
      "/data/adc/cooldown_logs/2014-03-13_13-06-27.nc 'cryomech'\n",
      "/data/adc/cooldown_logs/2014-03-13_13-52-31.nc 'cryomech'\n",
      "/data/adc/cooldown_logs/2014-03-17_14-49-47.nc/data/adc/cooldown_logs/2014-03-17_15-03-00.nc 'cryomech'\n",
      "/data/adc/cooldown_logs/2014-03-13_13-14-48.nc/data/adc/cooldown_logs/2014-03-13_13-52-47.nc 'cryomech'\n",
      "/data/adc/cooldown_logs/2014-03-18_10-48-12.nc 'cryomech'\n",
      " 'cryomech'\n",
      "/data/adc/cooldown_logs/2014-03-17_15-25-21.nc 'cryomech'\n",
      " 'time'\n",
      "/data/adc/cooldown_logs/2014-03-13_14-03-57.nc 'cryomech'\n",
      "/data/adc/cooldown_logs/2014-03-13_14-06-54.nc 'cryomech'\n",
      "/data/adc/cooldown_logs/2014-03-17_15-28-15.nc 'cryomech'\n",
      "/data/adc/cooldown_logs/2014-03-19_12-59-08.nc 'cryomech'\n",
      "/data/adc/cooldown_logs/2014-03-14_16-56-26.nc 'cryomech'\n",
      "/data/adc/cooldown_logs/2014-03-17_12-15-07.nc/data/adc/cooldown_logs/2014-03-17_15-29-48.nc 'time'\n",
      "/data/adc/cooldown_logs/2014-03-19_15-15-51.nc (3, 6)\n",
      "/data/adc/cooldown_logs/2014-03-17_15-01-53.nc 'cryomech'\n",
      "/data/adc/cooldown_logs/2014-03-18_11-27-47.nc 'cryomech'\n",
      " 'cryomech'\n",
      "/data/adc/cooldown_logs/2014-03-17_15-03-49.nc 'cryomech'\n",
      "/data/adc/cooldown_logs/2014-03-18_11-28-44.nc 'time'\n",
      "/data/adc/cooldown_logs/2014-03-19_15-29-06.nc (8, 6)\n",
      "/data/adc/cooldown_logs/2014-03-17_15-22-07.nc 'cryomech'\n",
      "/data/adc/cooldown_logs/2014-03-18_10-51-47.nc/data/adc/cooldown_logs/2014-03-19_15-01-12.nc/data/adc/cooldown_logs/2014-03-17_15-23-10.nc 'time'\n",
      " 'time'\n",
      " (3, 6)\n",
      "/data/adc/cooldown_logs/2014-03-20_11-25-01.nc 'cryomech'\n",
      "/data/adc/cooldown_logs/2014-03-17_15-37-38.nc 'time'\n",
      "/data/adc/cooldown_logs/2014-03-19_12-59-36.nc/data/adc/cooldown_logs/2014-03-20_11-26-24.nc 'cryomech'\n",
      "/data/adc/cooldown_logs/2014-03-19_12-58-19.nc 'cryomech'\n",
      " (37, 6)\n",
      "/data/adc/cooldown_logs/2014-03-19_16-14-46.nc (16, 6)\n",
      "/data/adc/cooldown_logs/2014-03-20_11-26-48.nc 'cryomech'\n",
      "/data/adc/cooldown_logs/2014-03-19_14-50-49.nc/data/adc/cooldown_logs/2014-03-20_11-56-53.nc (4, 6)\n",
      "/data/adc/cooldown_logs/2014-03-20_15-22-19.nc (2, 6)\n",
      "/data/adc/cooldown_logs/2014-03-20_16-19-06.nc (20, 6)\n",
      " (68, 6)\n",
      "/data/adc/cooldown_logs/2014-03-19_16-03-18.nc (3, 6)\n",
      "/data/adc/cooldown_logs/2014-03-20_15-28-32.nc (12, 6)\n",
      "/data/adc/cooldown_logs/2014-03-20_17-56-10.nc (4, 6)\n",
      "/data/adc/cooldown_logs/2014-03-21_09-40-24.nc (1, 6)\n",
      "/data/adc/cooldown_logs/2014-03-20_11-25-10.nc 'cryomech'\n",
      "/data/adc/cooldown_logs/2014-03-20_17-53-43.nc (1, 6)\n",
      "/data/adc/cooldown_logs/2014-03-21_09-46-52.nc (3, 6)\n",
      "/data/adc/cooldown_logs/2014-03-21_09-55-13.nc (6, 6)\n",
      "/data/adc/cooldown_logs/2014-03-20_11-26-32.nc 'cryomech'\n",
      "/data/adc/cooldown_logs/2014-03-20_11-29-53.nc 'cryomech'\n",
      "/data/adc/cooldown_logs/2014-03-21_09-45-03.nc (1, 6)\n",
      "/data/adc/cooldown_logs/2014-03-21_10-25-05.nc (1, 6)\n",
      "/data/adc/cooldown_logs/2014-03-21_10-28-05.nc (3, 6)\n",
      "/data/adc/cooldown_logs/2014-03-20_11-33-02.nc (8, 6)\n",
      "/data/adc/cooldown_logs/2014-03-21_10-16-11.nc (1, 6)\n",
      "/data/adc/cooldown_logs/2014-03-21_10-45-02.nc (1, 6)\n",
      "/data/adc/cooldown_logs/2014-03-21_10-52-51.nc (1, 6)\n",
      "/data/adc/cooldown_logs/2014-03-20_16-12-42.nc (2, 6)\n",
      "/data/adc/cooldown_logs/2014-03-21_10-36-27.nc (3, 6)\n",
      "/data/adc/cooldown_logs/2014-03-21_11-10-50.nc (1, 6)\n",
      "/data/adc/cooldown_logs/2014-03-21_10-58-37.nc (5, 6)\n",
      "/data/adc/cooldown_logs/2014-03-20_17-19-56.nc (11, 6)\n",
      "/data/adc/cooldown_logs/2014-03-21_10-54-37.nc (1, 6)\n",
      "/data/adc/cooldown_logs/2014-03-21_14-09-41.nc (1, 6)\n",
      "/data/adc/cooldown_logs/2014-03-21_14-11-09.nc (2, 6)\n",
      "/data/adc/cooldown_logs/2014-03-21_09-37-55.nc (1, 6)\n",
      "/data/adc/cooldown_logs/2014-03-21_11-12-01.nc (1, 6)\n",
      "/data/adc/cooldown_logs/2014-03-21_14-18-27.nc (1, 6)\n",
      "/data/adc/cooldown_logs/2014-03-24_10-29-50.nc (2, 6)\n",
      "/data/adc/cooldown_logs/2014-03-21_09-45-26.nc (1, 6)\n"
     ]
    }
   ],
   "source": [
    "dfs = pp(joblib.delayed(nc_to_df)(x) for x in ncfiles)"
   ]
  },
  {
   "cell_type": "code",
   "execution_count": 28,
   "metadata": {
    "collapsed": false
   },
   "outputs": [
    {
     "data": {
      "text/plain": [
       "811"
      ]
     },
     "execution_count": 28,
     "metadata": {},
     "output_type": "execute_result"
    }
   ],
   "source": [
    "len(dfs)"
   ]
  },
  {
   "cell_type": "code",
   "execution_count": 29,
   "metadata": {
    "collapsed": true
   },
   "outputs": [],
   "source": [
    "df = pd.concat([x for x in dfs if x is not None])"
   ]
  },
  {
   "cell_type": "code",
   "execution_count": 30,
   "metadata": {
    "collapsed": false
   },
   "outputs": [
    {
     "data": {
      "text/plain": [
       "(221662, 6)"
      ]
     },
     "execution_count": 30,
     "metadata": {},
     "output_type": "execute_result"
    }
   ],
   "source": [
    "df.shape"
   ]
  },
  {
   "cell_type": "code",
   "execution_count": 46,
   "metadata": {
    "collapsed": false
   },
   "outputs": [
    {
     "data": {
      "text/plain": [
       "(5, 20)"
      ]
     },
     "execution_count": 46,
     "metadata": {},
     "output_type": "execute_result"
    },
    {
     "data": {
      "image/png": "[encoded data removed]",
      "text/plain": [
       "<matplotlib.figure.Figure at 0x7f9ce87dc150>"
      ]
     },
     "metadata": {},
     "output_type": "display_data"
    }
   ],
   "source": [
    "plot(df.time,df.temp_water_in,',')\n",
    "plot(df.time,df.temp_water_out,',')\n",
    "ylim(5,20)"
   ]
  },
  {
   "cell_type": "code",
   "execution_count": 39,
   "metadata": {
    "collapsed": false
   },
   "outputs": [
    {
     "data": {
      "text/plain": [
       "(-5, 20)"
      ]
     },
     "execution_count": 39,
     "metadata": {},
     "output_type": "execute_result"
    },
    {
     "data": {
      "image/png": "[encoded data removed]",
      "text/plain": [
       "<matplotlib.figure.Figure at 0x7f9ce923ca50>"
      ]
     },
     "metadata": {},
     "output_type": "display_data"
    }
   ],
   "source": [
    "plot([datetime.datetime.fromtimestamp(x) for x in df.time],df.temp_water_out-df.temp_water_in,',')\n",
    "ylim(-5,20)"
   ]
  },
  {
   "cell_type": "code",
   "execution_count": 41,
   "metadata": {
    "collapsed": false
   },
   "outputs": [
    {
     "data": {
      "text/plain": [
       "(-10, 10)"
      ]
     },
     "execution_count": 41,
     "metadata": {},
     "output_type": "execute_result"
    },
    {
     "data": {
      "image/png": "[encoded data removed]",
      "text/plain": [
       "<matplotlib.figure.Figure at 0x7f9ce92ae5d0>"
      ]
     },
     "metadata": {},
     "output_type": "display_data"
    }
   ],
   "source": [
    "plot(df.temp_oil-df.temp_water_out)\n",
    "ylim(-10,10)"
   ]
  },
  {
   "cell_type": "code",
   "execution_count": 22,
   "metadata": {
    "collapsed": true
   },
   "outputs": [],
   "source": [
    "import datetime"
   ]
  },
  {
   "cell_type": "code",
   "execution_count": 24,
   "metadata": {
    "collapsed": false
   },
   "outputs": [
    {
     "data": {
      "text/plain": [
       "[<matplotlib.lines.Line2D at 0x7f9cea64dbd0>]"
      ]
     },
     "execution_count": 24,
     "metadata": {},
     "output_type": "execute_result"
    },
    {
     "data": {
      "image/png": "[encoded data removed]",
      "text/plain": [
       "<matplotlib.figure.Figure at 0x7f9ceaaacbd0>"
      ]
     },
     "metadata": {},
     "output_type": "display_data"
    }
   ],
   "source": [
    "plot([datetime.datetime.fromtimestamp(x) for x in df.time],df.temp_oil)"
   ]
  },
  {
   "cell_type": "code",
   "execution_count": 38,
   "metadata": {
    "collapsed": false
   },
   "outputs": [
    {
     "data": {
      "text/plain": [
       "Index([u'cpu_temp', u'motor_current', u'temp_oil', u'temp_water_in', u'temp_water_out', u'time'], dtype='object')"
      ]
     },
     "execution_count": 38,
     "metadata": {},
     "output_type": "execute_result"
    }
   ],
   "source": [
    "df.columns"
   ]
  },
  {
   "cell_type": "code",
   "execution_count": null,
   "metadata": {
    "collapsed": true
   },
   "outputs": [],
   "source": []
  }
 ],
 "metadata": {
  "kernelspec": {
   "display_name": "Python 2",
   "language": "python",
   "name": "python2"
  },
  "language_info": {
   "codemirror_mode": {
    "name": "ipython",
    "version": 2
   },
   "file_extension": ".py",
   "mimetype": "text/x-python",
   "name": "python",
   "nbconvert_exporter": "python",
   "pygments_lexer": "ipython2",
   "version": "2.7.9"
  }
 },
 "nbformat": 4,
 "nbformat_minor": 0
}
