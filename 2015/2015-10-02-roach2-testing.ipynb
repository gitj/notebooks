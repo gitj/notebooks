{
 "cells": [
  {
   "cell_type": "code",
   "execution_count": 1,
   "metadata": {
    "collapsed": false
   },
   "outputs": [
    {
     "name": "stdout",
     "output_type": "stream",
     "text": [
      "Populating the interactive namespace from numpy and matplotlib\n"
     ]
    }
   ],
   "source": [
    "%pylab inline"
   ]
  },
  {
   "cell_type": "code",
   "execution_count": 2,
   "metadata": {
    "collapsed": true
   },
   "outputs": [],
   "source": [
    "from corr.katcp_wrapper import FpgaClient"
   ]
  },
  {
   "cell_type": "code",
   "execution_count": 3,
   "metadata": {
    "collapsed": true
   },
   "outputs": [],
   "source": [
    "r2 = FpgaClient('r2kid')"
   ]
  },
  {
   "cell_type": "code",
   "execution_count": 41,
   "metadata": {
    "collapsed": false
   },
   "outputs": [
    {
     "data": {
      "text/plain": [
       "['test1gberx_2015_Jul_26_1429.bof',\n",
       " 'basic_interrupt_2012_Jul_26_1450.bof',\n",
       " 'qdr_fpga_read_test_2015_Oct_01_1312.bof',\n",
       " 'qdr_dac_test_2015_Oct_01_1630.bof',\n",
       " 'qdr_fpga_read_test_2015_Oct_01_1420.bof',\n",
       " 'test1gberx_2015_Jul_25_1726.bof',\n",
       " 'r2test_2015_Jul_23_0846.bof',\n",
       " 'r2dac_2015_Jul_24_1439.bof',\n",
       " 'test1gbetx_2015_Jul_26_1948.bof',\n",
       " 'qdr_dac_test_2015_Oct_02_1524.bof',\n",
       " 'test1gbetx_2015_Jul_26_1556.bof',\n",
       " 'test1gberx_2015_Jul_25_1739.bof',\n",
       " 'test1gbetx_2015_Jul_26_1729.bof',\n",
       " 'r2dac_2015_Jul_24_1302.bof',\n",
       " 'test1gberx_2015_Jul_26_1458.bof',\n",
       " 'qdr_tst_r2_2x_2012_May_07_1216.bof',\n",
       " 'basic_interrupt_2012_Jun_28_1232.bof',\n",
       " 'test1leds_2015_Sep_17_1059.bof',\n",
       " 'test1gberx_2015_Jul_25_1613.bof',\n",
       " 'qdr_fpga_read_test_2015_Oct_01_1545.bof',\n",
       " 'basic_interrupt_2012_Jul_26_1528.bof',\n",
       " 'test1gberx_2015_Jul_26_1444.bof',\n",
       " 'test1gbetx_2015_Jul_26_1656.bof',\n",
       " 'digicom_r2_2500MHz.bof',\n",
       " 'test1gbetx_2015_Jul_26_2114.bof',\n",
       " 'r2b2xpfb14mcr17b_2015_Jul_25_1237.bof',\n",
       " 'test1gberx_2015_Jul_26_1359.bof',\n",
       " 'test1gbetx_2015_Jul_26_2056.bof',\n",
       " 'test1gbetx_2015_Jul_26_2158.bof']"
      ]
     },
     "execution_count": 41,
     "metadata": {},
     "output_type": "execute_result"
    }
   ],
   "source": [
    "r2.listbof()"
   ]
  },
  {
   "cell_type": "code",
   "execution_count": 42,
   "metadata": {
    "collapsed": false
   },
   "outputs": [
    {
     "data": {
      "text/plain": [
       "'ok'"
      ]
     },
     "execution_count": 42,
     "metadata": {},
     "output_type": "execute_result"
    }
   ],
   "source": [
    "r2.progdev( 'qdr_dac_test_2015_Oct_02_1524.bof')"
   ]
  },
  {
   "cell_type": "code",
   "execution_count": 43,
   "metadata": {
    "collapsed": false
   },
   "outputs": [
    {
     "data": {
      "text/plain": [
       "['adcsnap_bram',\n",
       " 'adcsnap_ctrl',\n",
       " 'adcsnap_status',\n",
       " 'bank',\n",
       " 'dacctrl',\n",
       " 'mask',\n",
       " 'qdr0_ctrl',\n",
       " 'qdr0_memory',\n",
       " 'qdr_en',\n",
       " 'snapshot_bram',\n",
       " 'snapshot_ctrl',\n",
       " 'snapshot_status',\n",
       " 'status',\n",
       " 'sys_board_id',\n",
       " 'sys_clkcounter',\n",
       " 'sys_rev',\n",
       " 'sys_rev_rcs',\n",
       " 'sys_scratchpad']"
      ]
     },
     "execution_count": 43,
     "metadata": {},
     "output_type": "execute_result"
    }
   ],
   "source": [
    "r2.listdev()"
   ]
  },
  {
   "cell_type": "code",
   "execution_count": 44,
   "metadata": {
    "collapsed": false
   },
   "outputs": [
    {
     "data": {
      "text/plain": [
       "256.75728"
      ]
     },
     "execution_count": 44,
     "metadata": {},
     "output_type": "execute_result"
    }
   ],
   "source": [
    "r2.est_brd_clk()"
   ]
  },
  {
   "cell_type": "code",
   "execution_count": 62,
   "metadata": {
    "collapsed": false
   },
   "outputs": [
    {
     "data": {
      "text/plain": [
       "6"
      ]
     },
     "execution_count": 62,
     "metadata": {},
     "output_type": "execute_result"
    }
   ],
   "source": [
    "r2.read_int('status')"
   ]
  },
  {
   "cell_type": "code",
   "execution_count": 8,
   "metadata": {
    "collapsed": true
   },
   "outputs": [],
   "source": [
    "import sys"
   ]
  },
  {
   "cell_type": "code",
   "execution_count": 9,
   "metadata": {
    "collapsed": true
   },
   "outputs": [],
   "source": [
    "sys.path.append('/home/readout/mlib_devel_soak/xps_sw_support/qdr/roach2')"
   ]
  },
  {
   "cell_type": "code",
   "execution_count": 10,
   "metadata": {
    "collapsed": true
   },
   "outputs": [],
   "source": [
    "import qdr"
   ]
  },
  {
   "cell_type": "code",
   "execution_count": 11,
   "metadata": {
    "collapsed": true
   },
   "outputs": [],
   "source": [
    "q = qdr.Qdr(r2,'qdr0')"
   ]
  },
  {
   "cell_type": "code",
   "execution_count": 115,
   "metadata": {
    "collapsed": false
   },
   "outputs": [
    {
     "name": "stdout",
     "output_type": "stream",
     "text": [
      "--- === Trying with OUT DELAYS to 31 === ---\n",
      "Eye for QDR qdr0 (0 is pass, 1 is fail):\n",
      "\tTap step  0:  11111111111111111111111111111111\n",
      "\tTap step  1:  11111111111111111111111111111111\n",
      "\tTap step  2:  11111111111111111111111111111111\n",
      "\tTap step  3:  11111111111111111111111111111111\n",
      "\tTap step  4:  11111111111111111111111111111111\n",
      "\tTap step  5:  11111111111111111111111111111111\n",
      "\tTap step  6:  11111111111111111111111111111111\n",
      "\tTap step  7:  11111111111111111111111111111111\n",
      "\tTap step  8:  11111111111111111111111111111111\n",
      "\tTap step  9:  11111111111111111111111111111111\n",
      "\tTap step 10:  11111111111111111111111111111111\n",
      "\tTap step 11:  11111111111111111111111111111111\n",
      "\tTap step 12:  11111111111111111111111111111111\n",
      "\tTap step 13:  11111111111111111111111111111111\n",
      "\tTap step 14:  11111111111111111111111111111111\n",
      "\tTap step 15:  11111111111111111111110111111111\n",
      "\tTap step 16:  11111111111111110110000111010001\n",
      "\tTap step 17:  11111111111111000000000101000000\n",
      "\tTap step 18:  11111011111111000000000001000000\n",
      "\tTap step 19:  11111011011011000000000000000000\n",
      "\tTap step 20:  01001000000010000000000000000000\n",
      "\tTap step 21:  00001000000000000000000000000000\n",
      "\tTap step 22:  00000000000000000000000000000000\n",
      "\tTap step 23:  00000000000000000000000000000000\n",
      "\tTap step 24:  00000000000000000000000000000000\n",
      "\tTap step 25:  00000000000000000000000000000000\n",
      "\tTap step 26:  00000000000000000000000000000000\n",
      "\tTap step 27:  00000000000000000000000000000000\n",
      "\tTap step 28:  00000000000000000000000000000000\n",
      "\tTap step 29:  00000000000000000000000000000000\n",
      "\tTap step 30:  00000000000000000000000000000000\n",
      "\tTap step 31:  00000000000000000000000000000000\n",
      "Using in delays: [ 24.  23.  23.  23.  24.  23.  25.  24.  24.  23.  23.  23.  23.  24.  24.\n",
      "  23.  24.  24.  25.  26.  25.  25.  25.  25.  25.  25.  24.  26.  25.  25.\n",
      "  26.  25.  24.  24.  24.  24.]\n"
     ]
    },
    {
     "data": {
      "text/plain": [
       "True"
      ]
     },
     "execution_count": 115,
     "metadata": {},
     "output_type": "execute_result"
    }
   ],
   "source": [
    "q.qdr_cal(verbosity=1)"
   ]
  },
  {
   "cell_type": "code",
   "execution_count": 20,
   "metadata": {
    "collapsed": true
   },
   "outputs": [],
   "source": [
    "q.clock_speed"
   ]
  },
  {
   "cell_type": "code",
   "execution_count": 22,
   "metadata": {
    "collapsed": false
   },
   "outputs": [],
   "source": [
    "q.qdr_cal_check??"
   ]
  },
  {
   "cell_type": "code",
   "execution_count": 23,
   "metadata": {
    "collapsed": false
   },
   "outputs": [
    {
     "data": {
      "text/plain": [
       "'qdr0_memory'"
      ]
     },
     "execution_count": 23,
     "metadata": {},
     "output_type": "execute_result"
    }
   ],
   "source": [
    "q.memory"
   ]
  },
  {
   "cell_type": "code",
   "execution_count": 145,
   "metadata": {
    "collapsed": true
   },
   "outputs": [],
   "source": [
    "ns = 2**16\n",
    "fwave = np.sin(np.arange(ns)*8892*np.pi/(1.0*ns))\n",
    "#fwave = np.linspace(-.5,.5,ns)\n",
    "qwave = np.round(fwave*(2**15-100)).astype('>i2')"
   ]
  },
  {
   "cell_type": "code",
   "execution_count": 170,
   "metadata": {
    "collapsed": false
   },
   "outputs": [
    {
     "data": {
      "text/plain": [
       "[<matplotlib.lines.Line2D at 0x51421d0>]"
      ]
     },
     "execution_count": 170,
     "metadata": {},
     "output_type": "execute_result"
    },
    {
     "data": {
      "image/png": "[encoded data removed]",
      "text/plain": [
       "<matplotlib.figure.Figure at 0x4555e10>"
      ]
     },
     "metadata": {},
     "output_type": "display_data"
    }
   ],
   "source": [
    "plot(qwave[:100])"
   ]
  },
  {
   "cell_type": "code",
   "execution_count": 146,
   "metadata": {
    "collapsed": true
   },
   "outputs": [],
   "source": [
    "mem = np.zeros((ns*2,),dtype='>i2')\n",
    "mem[2::4] = qwave[0::2]\n",
    "mem[3::4] = qwave[1::2]"
   ]
  },
  {
   "cell_type": "code",
   "execution_count": 147,
   "metadata": {
    "collapsed": true
   },
   "outputs": [],
   "source": [
    "r2.blindwrite(q.memory,mem.tostring())"
   ]
  },
  {
   "cell_type": "code",
   "execution_count": 144,
   "metadata": {
    "collapsed": true
   },
   "outputs": [],
   "source": [
    "r2.write_int('mask',2**15-1)"
   ]
  },
  {
   "cell_type": "code",
   "execution_count": 137,
   "metadata": {
    "collapsed": true
   },
   "outputs": [],
   "source": [
    "r2.write_int('qdr_en',3)"
   ]
  },
  {
   "cell_type": "code",
   "execution_count": 163,
   "metadata": {
    "collapsed": false
   },
   "outputs": [],
   "source": [
    "d = np.fromstring(r2.snapshot_get('snapshot',man_trig=True)['data'],dtype='>i2')"
   ]
  },
  {
   "cell_type": "code",
   "execution_count": 164,
   "metadata": {
    "collapsed": false
   },
   "outputs": [
    {
     "data": {
      "text/plain": [
       "array([-12502, -18149,      0, ...,  -6373,      0,      0], dtype=int16)"
      ]
     },
     "execution_count": 164,
     "metadata": {},
     "output_type": "execute_result"
    }
   ],
   "source": [
    "d"
   ]
  },
  {
   "cell_type": "code",
   "execution_count": 172,
   "metadata": {
    "collapsed": false
   },
   "outputs": [
    {
     "name": "stdout",
     "output_type": "stream",
     "text": [
      "-00030d6\n",
      "-00046e5\n",
      "00000000\n",
      "00000000\n",
      "-0005a3c\n",
      "-0006a1a\n",
      "00000000\n",
      "00000000\n",
      "-00075e5\n",
      "-0007d28\n",
      "00000000\n",
      "00000000\n",
      "-0007f9c\n",
      "-0007d28\n",
      "00000000\n",
      "00000000\n",
      "-00075e5\n",
      "-0006a1a\n",
      "00000000\n",
      "00000000\n"
     ]
    }
   ],
   "source": [
    "for nn in d[:20]:\n",
    "    print '%08x' % nn"
   ]
  },
  {
   "cell_type": "code",
   "execution_count": 166,
   "metadata": {
    "collapsed": true
   },
   "outputs": [],
   "source": [
    "r2.write_int('dacctrl',1)"
   ]
  },
  {
   "cell_type": "code",
   "execution_count": 167,
   "metadata": {
    "collapsed": false
   },
   "outputs": [
    {
     "data": {
      "text/plain": [
       "[<matplotlib.lines.Line2D at 0x4571550>]"
      ]
     },
     "execution_count": 167,
     "metadata": {},
     "output_type": "execute_result"
    },
    {
     "data": {
      "image/png": "[encoded data removed]",
      "text/plain": [
       "<matplotlib.figure.Figure at 0x4571450>"
      ]
     },
     "metadata": {},
     "output_type": "display_data"
    }
   ],
   "source": [
    "plot(d[:1000:4],'.-')\n",
    "plot(d[1:1000:4],'.')\n",
    "#ylim(0,10)"
   ]
  },
  {
   "cell_type": "code",
   "execution_count": 174,
   "metadata": {
    "collapsed": false
   },
   "outputs": [
    {
     "data": {
      "text/plain": [
       "[<matplotlib.lines.Line2D at 0x5516090>]"
      ]
     },
     "execution_count": 174,
     "metadata": {},
     "output_type": "execute_result"
    },
    {
     "data": {
      "image/png": "[encoded data removed]",
      "text/plain": [
       "<matplotlib.figure.Figure at 0x4d0b410>"
      ]
     },
     "metadata": {},
     "output_type": "display_data"
    }
   ],
   "source": [
    "plot(d[3:1000:4])"
   ]
  },
  {
   "cell_type": "code",
   "execution_count": 154,
   "metadata": {
    "collapsed": true
   },
   "outputs": [],
   "source": [
    "adc = np.fromstring(r2.snapshot_get('adcsnap')['data'],dtype='>i2').astype('float')\n",
    "x = np.zeros((adc.shape[0]/2,))\n",
    "x[::2] = adc[::4]\n",
    "x[1::2] = adc[1::4]"
   ]
  },
  {
   "cell_type": "code",
   "execution_count": 162,
   "metadata": {
    "collapsed": false
   },
   "outputs": [
    {
     "data": {
      "image/png": "[encoded data removed]",
      "text/plain": [
       "<matplotlib.figure.Figure at 0x8620950>"
      ]
     },
     "metadata": {},
     "output_type": "display_data"
    }
   ],
   "source": [
    "blah = psd(x,NFFT=2048)"
   ]
  },
  {
   "cell_type": "code",
   "execution_count": 159,
   "metadata": {
    "collapsed": false
   },
   "outputs": [
    {
     "data": {
      "text/plain": [
       "(8192,)"
      ]
     },
     "execution_count": 159,
     "metadata": {},
     "output_type": "execute_result"
    }
   ],
   "source": [
    "x.shape"
   ]
  },
  {
   "cell_type": "code",
   "execution_count": 156,
   "metadata": {
    "collapsed": false
   },
   "outputs": [
    {
     "data": {
      "text/plain": [
       "[<matplotlib.lines.Line2D at 0x7583710>]"
      ]
     },
     "execution_count": 156,
     "metadata": {},
     "output_type": "execute_result"
    },
    {
     "data": {
      "image/png": "[encoded data removed]",
      "text/plain": [
       "<matplotlib.figure.Figure at 0x7563910>"
      ]
     },
     "metadata": {},
     "output_type": "display_data"
    }
   ],
   "source": [
    "plot(x[:100])"
   ]
  },
  {
   "cell_type": "code",
   "execution_count": 153,
   "metadata": {
    "collapsed": false
   },
   "outputs": [
    {
     "data": {
      "text/plain": [
       "[<matplotlib.lines.Line2D at 0x70f1a50>]"
      ]
     },
     "execution_count": 153,
     "metadata": {},
     "output_type": "execute_result"
    },
    {
     "data": {
      "image/png": "[encoded data removed]",
      "text/plain": [
       "<matplotlib.figure.Figure at 0x6a74e50>"
      ]
     },
     "metadata": {},
     "output_type": "display_data"
    }
   ],
   "source": [
    "plot(adc[:100:4])\n",
    "plot(adc[1:100:4])\n"
   ]
  },
  {
   "cell_type": "code",
   "execution_count": 107,
   "metadata": {
    "collapsed": false
   },
   "outputs": [],
   "source": [
    "import valon_synth"
   ]
  },
  {
   "cell_type": "code",
   "execution_count": 108,
   "metadata": {
    "collapsed": true
   },
   "outputs": [],
   "source": [
    "v = valon_synth.Synthesizer('/dev/ttyUSB0')"
   ]
  },
  {
   "cell_type": "code",
   "execution_count": 114,
   "metadata": {
    "collapsed": false
   },
   "outputs": [
    {
     "data": {
      "text/plain": [
       "(440.0, 440.0)"
      ]
     },
     "execution_count": 114,
     "metadata": {},
     "output_type": "execute_result"
    }
   ],
   "source": [
    "v.get_frequencies()"
   ]
  },
  {
   "cell_type": "code",
   "execution_count": 113,
   "metadata": {
    "collapsed": false
   },
   "outputs": [
    {
     "data": {
      "text/plain": [
       "True"
      ]
     },
     "execution_count": 113,
     "metadata": {},
     "output_type": "execute_result"
    }
   ],
   "source": [
    "v.set_frequency_a(440.0,chan_spacing=2.0)\n",
    "v.set_frequency_b(440.0,chan_spacing=2.0)"
   ]
  },
  {
   "cell_type": "code",
   "execution_count": 111,
   "metadata": {
    "collapsed": false
   },
   "outputs": [
    {
     "data": {
      "text/plain": [
       "(True, True)"
      ]
     },
     "execution_count": 111,
     "metadata": {},
     "output_type": "execute_result"
    }
   ],
   "source": [
    "v.get_phase_locks()"
   ]
  },
  {
   "cell_type": "code",
   "execution_count": null,
   "metadata": {
    "collapsed": true
   },
   "outputs": [],
   "source": []
  }
 ],
 "metadata": {
  "kernelspec": {
   "display_name": "Python 2",
   "language": "python",
   "name": "python2"
  },
  "language_info": {
   "codemirror_mode": {
    "name": "ipython",
    "version": 2
   },
   "file_extension": ".py",
   "mimetype": "text/x-python",
   "name": "python",
   "nbconvert_exporter": "python",
   "pygments_lexer": "ipython2",
   "version": "2.7.6"
  }
 },
 "nbformat": 4,
 "nbformat_minor": 0
}
