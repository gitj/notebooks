{
 "cells": [
  {
   "cell_type": "code",
   "execution_count": 1,
   "metadata": {
    "collapsed": false
   },
   "outputs": [
    {
     "name": "stdout",
     "output_type": "stream",
     "text": [
      "Populating the interactive namespace from numpy and matplotlib\n"
     ]
    }
   ],
   "source": [
    "%pylab inline"
   ]
  },
  {
   "cell_type": "code",
   "execution_count": 2,
   "metadata": {
    "collapsed": true
   },
   "outputs": [],
   "source": [
    "f0 = np.load('/data/readout/resonances/current.npy')[range(11)+range(13,18)]"
   ]
  },
  {
   "cell_type": "code",
   "execution_count": 59,
   "metadata": {
    "collapsed": false
   },
   "outputs": [
    {
     "data": {
      "text/plain": [
       "<module 'kid_readout.utils.acquire' from '/home/gjones/kid_readout/kid_readout/utils/acquire.pyc'>"
      ]
     },
     "execution_count": 59,
     "metadata": {},
     "output_type": "execute_result"
    }
   ],
   "source": [
    "from kid_readout.roach import baseband\n",
    "from kid_readout.utils import acquire, data_file, sweeps\n",
    "reload(acquire)\n"
   ]
  },
  {
   "cell_type": "code",
   "execution_count": 5,
   "metadata": {
    "collapsed": false
   },
   "outputs": [
    {
     "name": "stdout",
     "output_type": "stream",
     "text": [
      "Loaded ROACH state from /data/readout/roach_config.npz\n"
     ]
    }
   ],
   "source": [
    "ri = baseband.RoachBaseband()"
   ]
  },
  {
   "cell_type": "code",
   "execution_count": 6,
   "metadata": {
    "collapsed": true
   },
   "outputs": [],
   "source": [
    "ri.set_dac_atten(31)"
   ]
  },
  {
   "cell_type": "code",
   "execution_count": 7,
   "metadata": {
    "collapsed": false
   },
   "outputs": [
    {
     "name": "stdout",
     "output_type": "stream",
     "text": [
      "bank_offset= 0 start_offset= 0 start_offset_bytes= 0\n",
      "writing DRAM bank 0\n",
      "\n",
      "writing DRAM bank 1\n",
      "\n",
      "writing DRAM bank 2\n",
      "\n",
      "writing DRAM bank 3\n",
      "\n",
      "detected mcnt overflow None 3973183 0 16384 0 32 3973183\n",
      "detected mcnt overflow None 565310 0 16384 0 96 565310\n",
      "detected mcnt overflow None 3973180 0 16384 0 192 3973180\n",
      "detected mcnt overflow None 565307 0 16384 0 256 565307\n",
      "detected mcnt overflow None 303162 0 16384 0 336 303162\n"
     ]
    }
   ],
   "source": [
    "coarse = acquire.sweep(ri, f0, 19)"
   ]
  },
  {
   "cell_type": "code",
   "execution_count": 11,
   "metadata": {
    "collapsed": true
   },
   "outputs": [],
   "source": [
    "coarse_res = acquire.fit_sweep_data(coarse,delay_estimate=coarse.hardware_delay_estimate)"
   ]
  },
  {
   "cell_type": "code",
   "execution_count": 12,
   "metadata": {
    "collapsed": true
   },
   "outputs": [],
   "source": [
    "r0 = coarse_res[0]"
   ]
  },
  {
   "cell_type": "code",
   "execution_count": 14,
   "metadata": {
    "collapsed": false
   },
   "outputs": [],
   "source": [
    "s21c = r0.normalize(r0.freq_data,r0.s21_data,remove_amplitude=False)"
   ]
  },
  {
   "cell_type": "code",
   "execution_count": 15,
   "metadata": {
    "collapsed": false
   },
   "outputs": [
    {
     "data": {
      "text/plain": [
       "[<matplotlib.lines.Line2D at 0x1490ddd0>]"
      ]
     },
     "execution_count": 15,
     "metadata": {},
     "output_type": "execute_result"
    },
    {
     "data": {
      "image/png": "[encoded data removed]",
      "text/plain": [
       "<matplotlib.figure.Figure at 0x1484aa90>"
      ]
     },
     "metadata": {},
     "output_type": "display_data"
    }
   ],
   "source": [
    "plot(s21c.real,s21c.imag,'.-')"
   ]
  },
  {
   "cell_type": "code",
   "execution_count": 16,
   "metadata": {
    "collapsed": true
   },
   "outputs": [],
   "source": [
    "coarse_f0 = [r.f_0 for r in coarse_res]"
   ]
  },
  {
   "cell_type": "code",
   "execution_count": 19,
   "metadata": {
    "collapsed": false
   },
   "outputs": [
    {
     "name": "stdout",
     "output_type": "stream",
     "text": [
      "bank_offset= 0 start_offset= 0 start_offset_bytes= 0\n",
      "writing DRAM bank 0\n",
      "\n",
      "writing DRAM bank 1\n",
      "\n",
      "writing DRAM bank 2\n",
      "\n",
      "writing DRAM bank 3\n",
      "\n",
      "detected mcnt overflow None 2138176 0 16384 0 176 2138176\n"
     ]
    }
   ],
   "source": [
    "fine = acquire.sweep(ri, np.array(coarse_f0), 21)"
   ]
  },
  {
   "cell_type": "code",
   "execution_count": 28,
   "metadata": {
    "collapsed": true
   },
   "outputs": [],
   "source": [
    "fine_res = acquire.fit_sweep_data(fine,delay_estimate=fine.hardware_delay_estimate,model=acquire.delayed_generic_s21,guess=acquire.delayed_generic_guess)"
   ]
  },
  {
   "cell_type": "code",
   "execution_count": 29,
   "metadata": {
    "collapsed": true
   },
   "outputs": [],
   "source": [
    "fine_f0 = [r.f_0 for r in fine_res]"
   ]
  },
  {
   "cell_type": "code",
   "execution_count": 30,
   "metadata": {
    "collapsed": true
   },
   "outputs": [],
   "source": [
    "r0 = fine_res[0]"
   ]
  },
  {
   "cell_type": "code",
   "execution_count": 31,
   "metadata": {
    "collapsed": true
   },
   "outputs": [],
   "source": [
    "s21c = r0.normalize(r0.freq_data,r0.s21_data,remove_amplitude=False)"
   ]
  },
  {
   "cell_type": "code",
   "execution_count": 32,
   "metadata": {
    "collapsed": false
   },
   "outputs": [
    {
     "data": {
      "text/plain": [
       "[<matplotlib.lines.Line2D at 0x18cf3750>]"
      ]
     },
     "execution_count": 32,
     "metadata": {},
     "output_type": "execute_result"
    },
    {
     "data": {
      "image/png": "[encoded data removed]",
      "text/plain": [
       "<matplotlib.figure.Figure at 0x3193750>"
      ]
     },
     "metadata": {},
     "output_type": "display_data"
    }
   ],
   "source": [
    "plot(s21c.real,s21c.imag,'.-')"
   ]
  },
  {
   "cell_type": "code",
   "execution_count": 35,
   "metadata": {
    "collapsed": false
   },
   "outputs": [
    {
     "name": "stdout",
     "output_type": "stream",
     "text": [
      "bank_offset= 3 start_offset= 130023424 start_offset_bytes= 58720256\n",
      "writing DRAM bank 3\n",
      "\n"
     ]
    },
    {
     "data": {
      "text/plain": [
       "array([  77.47119141,   84.63964844,   86.2590332 ,   92.24536133,\n",
       "        103.44116211,  109.28222656,  111.59960938,  116.08178711,\n",
       "        119.55517578,  133.84716797,  134.54223633,  134.99243164,\n",
       "        141.66650391,  149.95605469,  156.03540039,  159.61206055])"
      ]
     },
     "execution_count": 35,
     "metadata": {},
     "output_type": "execute_result"
    }
   ],
   "source": [
    "ri.add_tone_freqs(np.array(fine_f0))"
   ]
  },
  {
   "cell_type": "code",
   "execution_count": 52,
   "metadata": {
    "collapsed": true
   },
   "outputs": [],
   "source": [
    "import time"
   ]
  },
  {
   "cell_type": "code",
   "execution_count": 69,
   "metadata": {
    "collapsed": false
   },
   "outputs": [
    {
     "name": "stdout",
     "output_type": "stream",
     "text": [
      "bank_offset= 3 start_offset= 130023424 start_offset_bytes= 58720256\n",
      "writing DRAM bank 3\n",
      "\n",
      "detected mcnt overflow None 3186752 0 16384 0 160 3186752\n"
     ]
    }
   ],
   "source": [
    "ri.add_tone_freqs(np.array(fine_f0),overwrite_last=True)\n",
    "ri.select_bank(ri.tone_bins.shape[0]-1)\n",
    "ri._sync()\n",
    "#time.sleep(1)\n",
    "d,addr = ri.get_data_seconds(10)"
   ]
  },
  {
   "cell_type": "code",
   "execution_count": 70,
   "metadata": {
    "collapsed": false
   },
   "outputs": [
    {
     "data": {
      "image/png": "[encoded data removed]",
      "text/plain": [
       "<matplotlib.figure.Figure at 0x199b7e90>"
      ]
     },
     "metadata": {},
     "output_type": "display_data"
    }
   ],
   "source": [
    "blah = plot(d.real,d.imag,',')"
   ]
  },
  {
   "cell_type": "code",
   "execution_count": 71,
   "metadata": {
    "collapsed": false
   },
   "outputs": [
    {
     "data": {
      "image/png": "[encoded data removed]",
      "text/plain": [
       "<matplotlib.figure.Figure at 0x18e622d0>"
      ]
     },
     "metadata": {},
     "output_type": "display_data"
    }
   ],
   "source": [
    "blah = plot(d.imag)"
   ]
  },
  {
   "cell_type": "code",
   "execution_count": null,
   "metadata": {
    "collapsed": true
   },
   "outputs": [],
   "source": []
  },
  {
   "cell_type": "code",
   "execution_count": 126,
   "metadata": {
    "collapsed": true
   },
   "outputs": [],
   "source": [
    "ri.set_dac_atten(37)"
   ]
  },
  {
   "cell_type": "code",
   "execution_count": 127,
   "metadata": {
    "collapsed": false
   },
   "outputs": [
    {
     "name": "stdout",
     "output_type": "stream",
     "text": [
      "detected mcnt overflow None 3186752 0 16384 0 400 3186752\n",
      "detected mcnt overflow None 3186751 0 16384 0 288 3186751\n"
     ]
    }
   ],
   "source": [
    "fine2 = sweeps.do_prepared_sweep(ri,nchan_per_step=16)"
   ]
  },
  {
   "cell_type": "code",
   "execution_count": 128,
   "metadata": {
    "collapsed": true
   },
   "outputs": [],
   "source": [
    "fine_res2 = acquire.fit_sweep_data(fine2,delay_estimate=fine.hardware_delay_estimate,model=acquire.delayed_generic_s21,guess=acquire.delayed_generic_guess)"
   ]
  },
  {
   "cell_type": "code",
   "execution_count": 129,
   "metadata": {
    "collapsed": false
   },
   "outputs": [
    {
     "data": {
      "image/png": "[encoded data removed]",
      "text/plain": [
       "<matplotlib.figure.Figure at 0x6572f750>"
      ]
     },
     "metadata": {},
     "output_type": "display_data"
    }
   ],
   "source": [
    "for r0 in [fine_res2[0],fine_res[0]]:\n",
    "    s21c = r0.normalize(r0.freq_data,r0.s21_data,remove_amplitude=False)\n",
    "    plot(s21c.real,s21c.imag,'.-')\n",
    "    "
   ]
  },
  {
   "cell_type": "code",
   "execution_count": 130,
   "metadata": {
    "collapsed": true
   },
   "outputs": [],
   "source": [
    "fine2_f0 = [r.f_0 for r in fine_res2]"
   ]
  },
  {
   "cell_type": "code",
   "execution_count": 131,
   "metadata": {
    "collapsed": false
   },
   "outputs": [
    {
     "name": "stdout",
     "output_type": "stream",
     "text": [
      "bank_offset= 3 start_offset= 130023424 start_offset_bytes= 58720256\n",
      "writing DRAM bank 3\n",
      "\n",
      "detected mcnt overflow None 1089600 0 16384 0 7248 1089600\n"
     ]
    }
   ],
   "source": [
    "ri.add_tone_freqs(np.array(fine2_f0),overwrite_last=True)\n",
    "ri.select_bank(ri.tone_bins.shape[0]-1)\n",
    "ri._sync()\n",
    "#time.sleep(1)\n",
    "d,addr = ri.get_data_seconds(10)"
   ]
  },
  {
   "cell_type": "code",
   "execution_count": 132,
   "metadata": {
    "collapsed": true
   },
   "outputs": [],
   "source": [
    "df = data_file.DataFile(suffix='long_timestream')"
   ]
  },
  {
   "cell_type": "code",
   "execution_count": 133,
   "metadata": {
    "collapsed": true
   },
   "outputs": [],
   "source": [
    "df.log_hw_state(ri)"
   ]
  },
  {
   "cell_type": "code",
   "execution_count": 134,
   "metadata": {
    "collapsed": false
   },
   "outputs": [
    {
     "data": {
      "text/plain": [
       "'sweep_20150929141645'"
      ]
     },
     "execution_count": 134,
     "metadata": {},
     "output_type": "execute_result"
    }
   ],
   "source": [
    "df.add_sweep(fine2)"
   ]
  },
  {
   "cell_type": "code",
   "execution_count": 137,
   "metadata": {
    "collapsed": false
   },
   "outputs": [
    {
     "data": {
      "text/plain": [
       "2147.483648"
      ]
     },
     "execution_count": 137,
     "metadata": {},
     "output_type": "execute_result"
    }
   ],
   "source": [
    "2**25/(256e6/2**14)"
   ]
  },
  {
   "cell_type": "code",
   "execution_count": 138,
   "metadata": {
    "collapsed": false
   },
   "outputs": [
    {
     "name": "stdout",
     "output_type": "stream",
     "text": [
      "detected mcnt overflow None 1089600 0 16384 0 3440 1089600\n",
      "detected mcnt overflow None 1089600 0 32768 1 19824 1089600\n",
      "detected mcnt overflow None 1089600 0 49152 2 36208 1089600\n",
      "detected mcnt overflow None 1089600 0 65536 3 52592 1089600\n",
      "detected mcnt overflow None 1089600 0 81920 4 68976 1089600\n",
      "detected mcnt overflow None 1089600 0 98304 5 85360 1089600\n",
      "detected mcnt overflow None 1089600 0 114688 6 101744 1089600\n",
      "detected mcnt overflow None 1089600 0 131072 7 118128 1089600\n",
      "detected mcnt overflow None 1089600 0 147456 8 134512 1089600\n",
      "detected mcnt overflow None 1089600 0 163840 9 150896 1089600\n",
      "detected mcnt overflow None 1089600 0 180224 10 167280 1089600\n",
      "detected mcnt overflow None 1089600 0 196608 11 183664 1089600\n",
      "detected mcnt overflow None 1089600 0 212992 12 200048 1089600\n",
      "detected mcnt overflow None 1089600 0 229376 13 216432 1089600\n",
      "detected mcnt overflow None 1089600 0 245760 14 232816 1089600\n",
      "detected mcnt overflow None 1089600 0 262144 15 249200 1089600\n",
      "detected mcnt overflow None 1089600 0 278528 16 265584 1089600\n",
      "detected mcnt overflow None 1089600 0 294912 17 281968 1089600\n",
      "detected mcnt overflow None 1089600 0 311296 18 298352 1089600\n",
      "detected mcnt overflow None 1089600 0 327680 19 314736 1089600\n",
      "detected mcnt overflow None 1089600 0 344064 20 331120 1089600\n",
      "detected mcnt overflow None 1089600 0 360448 21 347504 1089600\n",
      "detected mcnt overflow None 1089600 0 376832 22 363888 1089600\n",
      "detected mcnt overflow None 1089600 0 393216 23 380272 1089600\n",
      "detected mcnt overflow None 1089600 0 409600 24 396656 1089600\n",
      "detected mcnt overflow None 1089600 0 425984 25 413040 1089600\n",
      "detected mcnt overflow None 1089600 0 442368 26 429424 1089600\n",
      "detected mcnt overflow None 1089600 0 458752 27 445808 1089600\n",
      "detected mcnt overflow None 1089600 0 475136 28 462192 1089600\n",
      "detected mcnt overflow None 1089600 0 491520 29 478576 1089600\n",
      "detected mcnt overflow None 1089600 0 507904 30 494960 1089600\n",
      "detected mcnt overflow None 1089600 0 524288 31 511344 1089600\n",
      "detected mcnt overflow None 1089600 0 540672 32 527728 1089600\n",
      "detected mcnt overflow None 1089600 0 557056 33 544112 1089600\n",
      "detected mcnt overflow None 1089600 0 573440 34 560496 1089600\n",
      "detected mcnt overflow None 1089600 0 589824 35 576880 1089600\n",
      "detected mcnt overflow None 1089600 0 606208 36 593264 1089600\n",
      "detected mcnt overflow None 1089600 0 622592 37 609648 1089600\n",
      "detected mcnt overflow None 1089600 0 638976 38 626032 1089600\n",
      "detected mcnt overflow None 1089600 0 655360 39 642416 1089600\n",
      "detected mcnt overflow None 1089600 0 671744 40 658800 1089600\n",
      "detected mcnt overflow None 1089600 0 688128 41 675184 1089600\n",
      "detected mcnt overflow None 1089600 0 704512 42 691568 1089600\n",
      "detected mcnt overflow None 1089600 0 720896 43 707952 1089600\n",
      "detected mcnt overflow None 1089600 0 737280 44 724336 1089600\n",
      "detected mcnt overflow None 1089600 0 753664 45 740720 1089600\n",
      "detected mcnt overflow None 1089600 0 770048 46 757104 1089600\n",
      "detected mcnt overflow None 1089600 0 786432 47 773488 1089600\n",
      "detected mcnt overflow None 1089600 0 802816 48 789872 1089600\n",
      "detected mcnt overflow None 1089600 0 819200 49 806256 1089600\n",
      "detected mcnt overflow None 1089600 0 835584 50 822640 1089600\n",
      "detected mcnt overflow None 1089600 0 851968 51 839024 1089600\n",
      "detected mcnt overflow None 1089600 0 868352 52 855408 1089600\n",
      "detected mcnt overflow None 1089600 0 884736 53 871792 1089600\n",
      "detected mcnt overflow None 1089600 0 901120 54 888176 1089600\n",
      "detected mcnt overflow None 1089600 0 917504 55 904560 1089600\n",
      "detected mcnt overflow None 1089600 0 933888 56 920944 1089600\n",
      "detected mcnt overflow None 1089600 0 950272 57 937328 1089600\n",
      "detected mcnt overflow None 1089600 0 966656 58 953712 1089600\n",
      "detected mcnt overflow None 1089600 0 983040 59 970096 1089600\n",
      "detected mcnt overflow None 1089600 0 999424 60 986480 1089600\n",
      "detected mcnt overflow None 1089600 0 1015808 61 1002864 1089600\n",
      "detected mcnt overflow None 1089600 0 1032192 62 1019248 1089600\n",
      "detected mcnt overflow None 1089600 0 1048576 63 1035632 1089600\n",
      "detected mcnt overflow None 1089600 0 1064960 64 1052016 1089600\n",
      "detected mcnt overflow None 1089600 0 1081344 65 1068400 1089600\n",
      "detected mcnt overflow None 1089600 0 1097728 66 1084784 1089600\n",
      "detected mcnt overflow None 1089600 0 1114112 67 1101168 1089600\n",
      "detected mcnt overflow None 1089600 0 1130496 68 1117552 1089600\n",
      "detected mcnt overflow None 1089600 0 1146880 69 1133936 1089600\n",
      "detected mcnt overflow None 1089600 0 1163264 70 1150320 1089600\n",
      "detected mcnt overflow None 1089600 0 1179648 71 1166704 1089600\n",
      "detected mcnt overflow None 1089600 0 1196032 72 1183088 1089600\n",
      "detected mcnt overflow None 1089600 0 1212416 73 1199472 1089600\n",
      "detected mcnt overflow None 1089600 0 1228800 74 1215856 1089600\n",
      "detected mcnt overflow None 1089600 0 1245184 75 1232240 1089600\n",
      "detected mcnt overflow None 1089600 0 1261568 76 1248624 1089600\n",
      "detected mcnt overflow None 1089600 0 1277952 77 1265008 1089600\n",
      "detected mcnt overflow None 1089600 0 1294336 78 1281392 1089600\n",
      "detected mcnt overflow None 1089600 0 1310720 79 1297776 1089600\n",
      "detected mcnt overflow None 1089600 0 1327104 80 1314160 1089600\n",
      "detected mcnt overflow None 1089600 0 1343488 81 1330544 1089600\n",
      "detected mcnt overflow None 1089600 0 1359872 82 1346928 1089600\n",
      "detected mcnt overflow None 1089600 0 1376256 83 1363312 1089600\n",
      "detected mcnt overflow None 1089600 0 1392640 84 1379696 1089600\n",
      "detected mcnt overflow None 1089600 0 1409024 85 1396080 1089600\n",
      "detected mcnt overflow None 1089600 0 1425408 86 1412464 1089600\n",
      "detected mcnt overflow None 1089600 0 1441792 87 1428848 1089600\n",
      "detected mcnt overflow None 1089600 0 1458176 88 1445232 1089600\n",
      "detected mcnt overflow None 1089600 0 1474560 89 1461616 1089600\n",
      "detected mcnt overflow None 1089600 0 1490944 90 1478000 1089600\n",
      "detected mcnt overflow None 1089600 0 1507328 91 1494384 1089600\n",
      "detected mcnt overflow None 1089600 0 1523712 92 1510768 1089600\n",
      "detected mcnt overflow None 1089600 0 1540096 93 1527152 1089600\n",
      "detected mcnt overflow None 1089600 0 1556480 94 1543536 1089600\n",
      "detected mcnt overflow None 1089600 0 1572864 95 1559920 1089600\n",
      "detected mcnt overflow None 1089600 0 1589248 96 1576304 1089600\n",
      "detected mcnt overflow None 1089600 0 1605632 97 1592688 1089600\n",
      "detected mcnt overflow None 1089600 0 1622016 98 1609072 1089600\n",
      "detected mcnt overflow None 1089600 0 1638400 99 1625456 1089600\n",
      "detected mcnt overflow None 1089600 0 1654784 100 1641840 1089600\n",
      "detected mcnt overflow None 1089600 0 1671168 101 1658224 1089600\n",
      "detected mcnt overflow None 1089600 0 1687552 102 1674608 1089600\n",
      "detected mcnt overflow None 1089600 0 1703936 103 1690992 1089600\n",
      "detected mcnt overflow None 1089600 0 1720320 104 1707376 1089600\n",
      "detected mcnt overflow None 1089600 0 1736704 105 1723760 1089600\n",
      "detected mcnt overflow None 1089600 0 1753088 106 1740144 1089600\n",
      "detected mcnt overflow None 1089600 0 1769472 107 1756528 1089600\n",
      "detected mcnt overflow None 1089600 0 1785856 108 1772912 1089600\n",
      "detected mcnt overflow None 1089600 0 1802240 109 1789296 1089600\n",
      "detected mcnt overflow None 1089600 0 1818624 110 1805680 1089600\n",
      "detected mcnt overflow None 1089600 0 1835008 111 1822064 1089600\n",
      "detected mcnt overflow None 1089600 0 1851392 112 1838448 1089600\n",
      "detected mcnt overflow None 1089600 0 1867776 113 1854832 1089600\n",
      "detected mcnt overflow None 1089600 0 1884160 114 1871216 1089600\n",
      "detected mcnt overflow None 1089600 0 1900544 115 1887600 1089600\n",
      "detected mcnt overflow None 1089600 0 1916928 116 1903984 1089600\n",
      "detected mcnt overflow None 1089600 0 1933312 117 1920368 1089600\n",
      "detected mcnt overflow None 1089600 0 1949696 118 1936752 1089600\n",
      "detected mcnt overflow None 1089600 0 1966080 119 1953136 1089600\n",
      "detected mcnt overflow None 1089600 0 1982464 120 1969520 1089600\n",
      "detected mcnt overflow None 1089600 0 1998848 121 1985904 1089600\n",
      "detected mcnt overflow None 1089600 0 2015232 122 2002288 1089600\n",
      "detected mcnt overflow None 1089600 0 2031616 123 2018672 1089600\n",
      "detected mcnt overflow None 1089600 0 2048000 124 2035056 1089600\n",
      "detected mcnt overflow None 1089600 0 2064384 125 2051440 1089600\n",
      "detected mcnt overflow None 1089600 0 2080768 126 2067824 1089600\n",
      "detected mcnt overflow None 1089600 0 2097152 127 2084208 1089600\n"
     ]
    }
   ],
   "source": [
    "d,addr = ri.get_data_seconds(1800)"
   ]
  },
  {
   "cell_type": "code",
   "execution_count": 139,
   "metadata": {
    "collapsed": false
   },
   "outputs": [
    {
     "data": {
      "text/plain": [
       "<netCDF4.Group at 0x14853650>"
      ]
     },
     "execution_count": 139,
     "metadata": {},
     "output_type": "execute_result"
    }
   ],
   "source": [
    "df.add_timestream_data(d,ri,time.time())"
   ]
  },
  {
   "cell_type": "code",
   "execution_count": 140,
   "metadata": {
    "collapsed": true
   },
   "outputs": [],
   "source": [
    "df.close()"
   ]
  },
  {
   "cell_type": "code",
   "execution_count": 141,
   "metadata": {
    "collapsed": false
   },
   "outputs": [
    {
     "data": {
      "text/plain": [
       "(33554432, 16)"
      ]
     },
     "execution_count": 141,
     "metadata": {},
     "output_type": "execute_result"
    }
   ],
   "source": [
    "d.shape"
   ]
  },
  {
   "cell_type": "code",
   "execution_count": 142,
   "metadata": {
    "collapsed": false
   },
   "outputs": [
    {
     "data": {
      "image/png": "[encoded data removed]",
      "text/plain": [
       "<matplotlib.figure.Figure at 0x65740390>"
      ]
     },
     "metadata": {},
     "output_type": "display_data"
    }
   ],
   "source": [
    "blah= plot(d[::1024,:].real)"
   ]
  },
  {
   "cell_type": "code",
   "execution_count": 144,
   "metadata": {
    "collapsed": false
   },
   "outputs": [
    {
     "data": {
      "text/plain": [
       "array([-0.00031637, -0.00036672, -0.0004066 , -0.00043177, -0.00057987,\n",
       "       -0.00060331, -0.00064455, -0.0006751 , -0.00071977, -0.00089003,\n",
       "       -0.00092247, -0.00089955, -0.00100471, -0.001067  , -0.00108559,\n",
       "       -0.00113808])"
      ]
     },
     "execution_count": 144,
     "metadata": {},
     "output_type": "execute_result"
    }
   ],
   "source": [
    "np.array(fine2_f0)-np.array(fine_f0)"
   ]
  },
  {
   "cell_type": "code",
   "execution_count": 145,
   "metadata": {
    "collapsed": true
   },
   "outputs": [],
   "source": [
    "np.save('/data/readout/resonances/0813f12_130mK_fits.npy',np.array(fine2_f0))"
   ]
  },
  {
   "cell_type": "code",
   "execution_count": null,
   "metadata": {
    "collapsed": true
   },
   "outputs": [],
   "source": []
  }
 ],
 "metadata": {
  "kernelspec": {
   "display_name": "Python 2",
   "language": "python",
   "name": "python2"
  },
  "language_info": {
   "codemirror_mode": {
    "name": "ipython",
    "version": 2
   },
   "file_extension": ".py",
   "mimetype": "text/x-python",
   "name": "python",
   "nbconvert_exporter": "python",
   "pygments_lexer": "ipython2",
   "version": "2.7.6"
  }
 },
 "nbformat": 4,
 "nbformat_minor": 0
}
