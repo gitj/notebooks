{
 "cells": [
  {
   "cell_type": "code",
   "execution_count": 1,
   "metadata": {
    "collapsed": false
   },
   "outputs": [
    {
     "name": "stdout",
     "output_type": "stream",
     "text": [
      "Populating the interactive namespace from numpy and matplotlib\n"
     ]
    }
   ],
   "source": [
    "%pylab inline"
   ]
  },
  {
   "cell_type": "code",
   "execution_count": 3,
   "metadata": {
    "collapsed": false
   },
   "outputs": [],
   "source": [
    "import valon_synth"
   ]
  },
  {
   "cell_type": "code",
   "execution_count": 4,
   "metadata": {
    "collapsed": true
   },
   "outputs": [],
   "source": [
    "v = valon_synth.Synthesizer('/dev/ttyUSB4')"
   ]
  },
  {
   "cell_type": "code",
   "execution_count": 5,
   "metadata": {
    "collapsed": false
   },
   "outputs": [
    {
     "data": {
      "text/plain": [
       "True"
      ]
     },
     "execution_count": 5,
     "metadata": {},
     "output_type": "execute_result"
    }
   ],
   "source": [
    "v.set_frequency_a(512.0,chan_spacing=2.0)"
   ]
  },
  {
   "cell_type": "code",
   "execution_count": 6,
   "metadata": {
    "collapsed": true
   },
   "outputs": [],
   "source": [
    "from corr.katcp_wrapper import FpgaClient"
   ]
  },
  {
   "cell_type": "code",
   "execution_count": 7,
   "metadata": {
    "collapsed": true
   },
   "outputs": [],
   "source": [
    "r2 = FpgaClient('r2kid')"
   ]
  },
  {
   "cell_type": "code",
   "execution_count": 9,
   "metadata": {
    "collapsed": false
   },
   "outputs": [
    {
     "data": {
      "text/plain": [
       "['r2qdr_sync_adc_clock_2015_Nov_12_1209.bof']"
      ]
     },
     "execution_count": 9,
     "metadata": {},
     "output_type": "execute_result"
    }
   ],
   "source": [
    "[x for x in r2.listbof() if x.startswith('r2qdr')]"
   ]
  },
  {
   "cell_type": "code",
   "execution_count": 10,
   "metadata": {
    "collapsed": false
   },
   "outputs": [
    {
     "data": {
      "text/plain": [
       "'ok'"
      ]
     },
     "execution_count": 10,
     "metadata": {},
     "output_type": "execute_result"
    }
   ],
   "source": [
    "r2.progdev(_9[0])"
   ]
  },
  {
   "cell_type": "code",
   "execution_count": 11,
   "metadata": {
    "collapsed": false
   },
   "outputs": [
    {
     "data": {
      "text/plain": [
       "256.495306"
      ]
     },
     "execution_count": 11,
     "metadata": {},
     "output_type": "execute_result"
    }
   ],
   "source": [
    "r2.est_brd_clk()"
   ]
  },
  {
   "cell_type": "code",
   "execution_count": 12,
   "metadata": {
    "collapsed": false
   },
   "outputs": [
    {
     "data": {
      "text/plain": [
       "['dacbram',\n",
       " 'dacctrl',\n",
       " 'dram_bank',\n",
       " 'dram_mask',\n",
       " 'i0_bram',\n",
       " 'i0_ctrl',\n",
       " 'i0_status',\n",
       " 'loopback',\n",
       " 'q0_bram',\n",
       " 'q0_ctrl',\n",
       " 'q0_status',\n",
       " 'qdr0_ctrl',\n",
       " 'qdr0_memory',\n",
       " 'qdr1_ctrl',\n",
       " 'qdr1_memory',\n",
       " 'qdr2_ctrl',\n",
       " 'qdr2_memory',\n",
       " 'qdr3_ctrl',\n",
       " 'qdr3_memory',\n",
       " 'qdr_en',\n",
       " 'snap0_bram',\n",
       " 'snap0_ctrl',\n",
       " 'snap0_status',\n",
       " 'snap1_bram',\n",
       " 'snap1_ctrl',\n",
       " 'snap1_status',\n",
       " 'snap2_bram',\n",
       " 'snap2_ctrl',\n",
       " 'snap2_status',\n",
       " 'snap3_bram',\n",
       " 'snap3_ctrl',\n",
       " 'snap3_status',\n",
       " 'status',\n",
       " 'sys_board_id',\n",
       " 'sys_clkcounter',\n",
       " 'sys_rev',\n",
       " 'sys_rev_rcs',\n",
       " 'sys_scratchpad']"
      ]
     },
     "execution_count": 12,
     "metadata": {},
     "output_type": "execute_result"
    }
   ],
   "source": [
    "r2.listdev()"
   ]
  },
  {
   "cell_type": "code",
   "execution_count": 13,
   "metadata": {
    "collapsed": true
   },
   "outputs": [],
   "source": [
    "import sys"
   ]
  },
  {
   "cell_type": "code",
   "execution_count": 14,
   "metadata": {
    "collapsed": true
   },
   "outputs": [],
   "source": [
    "sys.path.append('/home/readout/mlib_devel_soak/xps_sw_support/qdr/roach2')"
   ]
  },
  {
   "cell_type": "code",
   "execution_count": 15,
   "metadata": {
    "collapsed": true
   },
   "outputs": [],
   "source": [
    "import qdr"
   ]
  },
  {
   "cell_type": "code",
   "execution_count": 16,
   "metadata": {
    "collapsed": true
   },
   "outputs": [],
   "source": [
    "qdrs = [qdr.Qdr(r2,x) for x in ['qdr0','qdr1','qdr2','qdr3']]"
   ]
  },
  {
   "cell_type": "code",
   "execution_count": 23,
   "metadata": {
    "collapsed": false
   },
   "outputs": [
    {
     "name": "stdout",
     "output_type": "stream",
     "text": [
      "qdr0\n",
      "--- === Trying with OUT DELAYS to 31 === ---\n",
      "Eye for QDR qdr0 (0 is pass, 1 is fail):\n",
      "\tTap step  0:  11111111111111111110000111110001\n",
      "\tTap step  1:  11111011111111000000000100000000\n",
      "\tTap step  2:  11111001111111000000000000000000\n",
      "\tTap step  3:  01001000000010000000000000000000\n",
      "\tTap step  4:  00000000000000000000000000000000\n",
      "\tTap step  5:  00000000000000000000000000000000\n",
      "\tTap step  6:  00000000000000000000000000000000\n",
      "\tTap step  7:  00000000000000000000000000000000\n",
      "\tTap step  8:  00000000000000000000000000000000\n",
      "\tTap step  9:  00000000000000000000000000000000\n",
      "\tTap step 10:  00000000000000000000000000000000\n",
      "\tTap step 11:  00000000000000000000000000000000\n",
      "\tTap step 12:  00000000000000000000000000000000\n",
      "\tTap step 13:  00000000000000000000000000000000\n",
      "\tTap step 14:  00000000000000000000000000000000\n",
      "\tTap step 15:  00000000000000000000000000000000\n",
      "\tTap step 16:  00000000000000000000000000000000\n",
      "\tTap step 17:  00000000000000000000000000000000\n",
      "\tTap step 18:  00000000000000000000000000000000\n",
      "\tTap step 19:  00000000000000000000000000000000\n",
      "\tTap step 20:  00000000000000000000000000000000\n",
      "\tTap step 21:  00000000000000000000000000000000\n",
      "\tTap step 22:  00000000000000000000000000000000\n",
      "\tTap step 23:  00000000000000001001111000100110\n",
      "\tTap step 24:  00000000000000011001111010101111\n",
      "\tTap step 25:  00000000000000111111111110111111\n",
      "\tTap step 26:  00000000000000111111111111111111\n",
      "\tTap step 27:  00110100101100111111111111111111\n",
      "\tTap step 28:  10110111101111111111111111111111\n",
      "\tTap step 29:  11111111111111111111111111111111\n",
      "\tTap step 30:  11111111111111111111111111111111\n",
      "\tTap step 31:  11111111111111111111111111111111\n",
      "Using in delays: [ 12.  11.  11.  11.  12.  11.  13.  12.  13.  11.  11.  11.  11.  12.  12.\n",
      "  11.  12.  12.  15.  15.  14.  14.  15.  14.  15.  14.  13.  16.  14.  14.\n",
      "  16.  15.  12.  12.  12.  12.]\n",
      "qdr1\n",
      "--- === Trying with OUT DELAYS to 31 === ---\n",
      "Eye for QDR qdr1 (0 is pass, 1 is fail):\n",
      "\tTap step  0:  11111111111111111111111111111111\n",
      "\tTap step  1:  10101010111001111111100111101110\n",
      "\tTap step  2:  00000000011000101010000110100010\n",
      "\tTap step  3:  00000000000000000000000000000000\n",
      "\tTap step  4:  00000000000000000000000000000000\n",
      "\tTap step  5:  00000000000000000000000000000000\n",
      "\tTap step  6:  00000000000000000000000000000000\n",
      "\tTap step  7:  00000000000000000000000000000000\n",
      "\tTap step  8:  00000000000000000000000000000000\n",
      "\tTap step  9:  00000000000000000000000000000000\n",
      "\tTap step 10:  00000000000000000000000000000000\n",
      "\tTap step 11:  00000000000000000000000000000000\n",
      "\tTap step 12:  00000000000000000000000000000000\n",
      "\tTap step 13:  00000000000000000000000000000000\n",
      "\tTap step 14:  00000000000000000000000000000000\n",
      "\tTap step 15:  00000000000000000000000000000000\n",
      "\tTap step 16:  00000000000000000000000000000000\n",
      "\tTap step 17:  00000000000000000000000000000000\n",
      "\tTap step 18:  00000000000000000000000000000000\n",
      "\tTap step 19:  00000000000000000000000000000000\n",
      "\tTap step 20:  00000000000000000000000000000000\n",
      "\tTap step 21:  00000000000000000000000000000000\n",
      "\tTap step 22:  00000000000000000000000000000000\n",
      "\tTap step 23:  00010000000000000000000000000000\n",
      "\tTap step 24:  11010000000000000000001000000001\n",
      "\tTap step 25:  11011011100111011001101010011011\n",
      "\tTap step 26:  11111111101111111101111111111111\n",
      "\tTap step 27:  11111111101111111111111111111111\n",
      "\tTap step 28:  11111111111111111111111111111111\n",
      "\tTap step 29:  11111111111111111111111111111111\n",
      "\tTap step 30:  11111111111111111111111111111111\n",
      "\tTap step 31:  11111111111111111111111111111111\n",
      "Using in delays: [ 12.  13.  13.  13.  12.  14.  13.  13.  14.  12.  13.  13.  13.  14.  13.\n",
      "  13.  13.  14.  13.  12.  12.  14.  15.  13.  12.  13.  13.  13.  11.  13.\n",
      "  12.  12.  13.  13.  13.  13.]\n",
      "qdr2\n",
      "--- === Trying with OUT DELAYS to 31 === ---\n",
      "Eye for QDR qdr2 (0 is pass, 1 is fail):\n",
      "\tTap step  0:  11111111111111111111111111111111\n",
      "\tTap step  1:  11111111111111111111111111111111\n",
      "\tTap step  2:  11111111111111111111111111111111\n",
      "\tTap step  3:  11111111111111111111111111111001\n",
      "\tTap step  4:  11111100111111110110000111100000\n",
      "\tTap step  5:  01001000010101000000000000000000\n",
      "\tTap step  6:  01000000010101000000000000000000\n",
      "\tTap step  7:  00000000000000000000000000000000\n",
      "\tTap step  8:  00000000000000000000000000000000\n",
      "\tTap step  9:  00000000000000000000000000000000\n",
      "\tTap step 10:  00000000000000000000000000000000\n",
      "\tTap step 11:  00000000000000000000000000000000\n",
      "\tTap step 12:  00000000000000000000000000000000\n",
      "\tTap step 13:  00000000000000000000000000000000\n",
      "\tTap step 14:  00000000000000000000000000000000\n",
      "\tTap step 15:  00000000000000000000000000000000\n",
      "\tTap step 16:  00000000000000000000000000000000\n",
      "\tTap step 17:  00000000000000000000000000000000\n",
      "\tTap step 18:  00000000000000000000000000000000\n",
      "\tTap step 19:  00000000000000000000000000000000\n",
      "\tTap step 20:  00000000000000000000000000000000\n",
      "\tTap step 21:  00000000000000000000000000000000\n",
      "\tTap step 22:  00000000000000000000000000000000\n",
      "\tTap step 23:  00000000000000000000000000000000\n",
      "\tTap step 24:  00000000000000000000000000000110\n",
      "\tTap step 25:  00000000000000000000000000000110\n",
      "\tTap step 26:  00000000100000011001101100010111\n",
      "\tTap step 27:  00010011100010011101111111111111\n",
      "\tTap step 28:  00010111100010111111111111111111\n",
      "\tTap step 29:  01110111101110111111111111111111\n",
      "\tTap step 30:  11111111101111111111111111111111\n",
      "\tTap step 31:  11111111111111111111111111111111\n",
      "Using in delays: [ 14.  13.  13.  15.  14.  15.  15.  15.  15.  14.  15.  14.  14.  16.  15.\n",
      "  14.  15.  16.  18.  15.  17.  16.  18.  15.  15.  15.  16.  17.  15.  16.\n",
      "  17.  17.  15.  15.  15.  15.]\n",
      "qdr3\n",
      "--- === Trying with OUT DELAYS to 28 === ---\n",
      "Eye for QDR qdr3 (0 is pass, 1 is fail):\n",
      "\tTap step  0:  11111001111111111111111111111111\n",
      "\tTap step  1:  00000000000000111111111111111111\n",
      "\tTap step  2:  00000000000000111111111111111111\n",
      "\tTap step  3:  00000000000000111111101111111111\n",
      "\tTap step  4:  00000000000000101100000100100000\n",
      "\tTap step  5:  00000000000000000000000000000000\n",
      "\tTap step  6:  00000000000000000000000000000000\n",
      "\tTap step  7:  00000000000000000000000000000000\n",
      "\tTap step  8:  00000000000000000000000000000000\n",
      "\tTap step  9:  00000000000000000000000000000000\n",
      "\tTap step 10:  00000000000000000000000000000000\n",
      "\tTap step 11:  00000000000000000000000000000000\n",
      "\tTap step 12:  00000000000000000000000000000000\n",
      "\tTap step 13:  00000000000000000000000000000000\n",
      "\tTap step 14:  00000000000000000000000000000000\n",
      "\tTap step 15:  00000000000000000000000000000000\n",
      "\tTap step 16:  00000000000000000000000000000000\n",
      "\tTap step 17:  00000000000000000000000000000000\n",
      "\tTap step 18:  00000000000000000000000000000000\n",
      "\tTap step 19:  00000000000000000000000000000000\n",
      "\tTap step 20:  00000000000000000000000000000000\n",
      "\tTap step 21:  00000000000000000000000000000000\n",
      "\tTap step 22:  00000000000000000000000000000000\n",
      "\tTap step 23:  00000100000000000000000000000000\n",
      "\tTap step 24:  00110110000111000000000000000000\n",
      "\tTap step 25:  11111111100111000000000000000000\n",
      "\tTap step 26:  11111111111111000001010010001011\n",
      "\tTap step 27:  11111111111111000011110111001111\n",
      "\tTap step 28:  11111111111111111011111111111111\n",
      "\tTap step 29:  11111111111111111111111111111111\n",
      "\tTap step 30:  11111111111111111111111111111111\n",
      "\tTap step 31:  11111111111111111111111111111111\n",
      "Using in delays: [ 14.   14.   15.   14.   15.   16.   15.   14.   15.   15.   14.   15.\n",
      "  14.   15.   16.   16.   15.   16.   12.   12.   12.   13.   13.   12.\n",
      "  12.   11.   11.   12.   12.   12.   12.   12.   13.5  13.5  13.5  13.5]\n"
     ]
    }
   ],
   "source": [
    "for qdra in qdrs:\n",
    "    print qdra.name\n",
    "    qdra.qdr_cal(verbosity=1)"
   ]
  },
  {
   "cell_type": "code",
   "execution_count": 61,
   "metadata": {
    "collapsed": true
   },
   "outputs": [],
   "source": [
    "def load_qdr(qdrnum,qdrlen=2**14):\n",
    "    r2.write_int('qdr_en',0)\n",
    "    data = np.arange(qdrlen)\n",
    "    output = np.zeros((2*qdrlen,),dtype='>i2')\n",
    "    output[2::4] = data[::2]\n",
    "    output[3::4] = data[1::2]\n",
    "    r2.blindwrite(('qdr%d_memory' % qdrnum),(output).tostring())\n",
    "    r2.write_int('dram_mask',qdrlen-1)\n",
    "    r2.write_int('dram_bank',0)\n",
    "    "
   ]
  },
  {
   "cell_type": "code",
   "execution_count": 62,
   "metadata": {
    "collapsed": true
   },
   "outputs": [],
   "source": [
    "for qdrnum in range(4):\n",
    "    load_qdr(qdrnum)"
   ]
  },
  {
   "cell_type": "code",
   "execution_count": 26,
   "metadata": {
    "collapsed": false
   },
   "outputs": [
    {
     "data": {
      "text/plain": [
       "['dacbram',\n",
       " 'dacctrl',\n",
       " 'dram_bank',\n",
       " 'dram_mask',\n",
       " 'i0_bram',\n",
       " 'i0_ctrl',\n",
       " 'i0_status',\n",
       " 'loopback',\n",
       " 'q0_bram',\n",
       " 'q0_ctrl',\n",
       " 'q0_status',\n",
       " 'qdr0_ctrl',\n",
       " 'qdr0_memory',\n",
       " 'qdr1_ctrl',\n",
       " 'qdr1_memory',\n",
       " 'qdr2_ctrl',\n",
       " 'qdr2_memory',\n",
       " 'qdr3_ctrl',\n",
       " 'qdr3_memory',\n",
       " 'qdr_en',\n",
       " 'snap0_bram',\n",
       " 'snap0_ctrl',\n",
       " 'snap0_status',\n",
       " 'snap1_bram',\n",
       " 'snap1_ctrl',\n",
       " 'snap1_status',\n",
       " 'snap2_bram',\n",
       " 'snap2_ctrl',\n",
       " 'snap2_status',\n",
       " 'snap3_bram',\n",
       " 'snap3_ctrl',\n",
       " 'snap3_status',\n",
       " 'status',\n",
       " 'sys_board_id',\n",
       " 'sys_clkcounter',\n",
       " 'sys_rev',\n",
       " 'sys_rev_rcs',\n",
       " 'sys_scratchpad']"
      ]
     },
     "execution_count": 26,
     "metadata": {},
     "output_type": "execute_result"
    }
   ],
   "source": [
    "r2.listdev()"
   ]
  },
  {
   "cell_type": "code",
   "execution_count": 29,
   "metadata": {
    "collapsed": true
   },
   "outputs": [],
   "source": [
    "import time"
   ]
  },
  {
   "cell_type": "code",
   "execution_count": 75,
   "metadata": {
    "collapsed": true
   },
   "outputs": [],
   "source": [
    "def get_qdr_snaps():\n",
    "    r2.write_int('qdr_en',0)\n",
    "    data= []\n",
    "    for snap in range(4):\n",
    "        r2.write_int(('snap%d_ctrl' % snap),0)\n",
    "        r2.write_int(('snap%d_ctrl' % snap),1)\n",
    "    r2.write_int('qdr_en',1)\n",
    "    time.sleep(4)\n",
    "    for snap in range(4):\n",
    "        data.append(np.fromstring(r2.read(('snap%d_bram' % snap),8*2**12),dtype='>i2'))\n",
    "    return data"
   ]
  },
  {
   "cell_type": "code",
   "execution_count": 84,
   "metadata": {
    "collapsed": false
   },
   "outputs": [],
   "source": [
    "data = get_qdr_snaps()"
   ]
  },
  {
   "cell_type": "code",
   "execution_count": 85,
   "metadata": {
    "collapsed": false
   },
   "outputs": [
    {
     "data": {
      "text/plain": [
       "(-1000, 1000)"
      ]
     },
     "execution_count": 85,
     "metadata": {},
     "output_type": "execute_result"
    },
    {
     "data": {
      "image/png": "[encoded data removed]",
      "text/plain": [
       "<matplotlib.figure.Figure at 0x427a810>"
      ]
     },
     "metadata": {},
     "output_type": "display_data"
    }
   ],
   "source": [
    "d0 = data[0]\n",
    "for d in data:\n",
    "    plot(d-d0,'.')\n",
    "xlim(0,8192)\n",
    "ylim(-1000,1000)"
   ]
  },
  {
   "cell_type": "code",
   "execution_count": 86,
   "metadata": {
    "collapsed": false
   },
   "outputs": [
    {
     "name": "stdout",
     "output_type": "stream",
     "text": [
      "[15218 15219     0     0 15220 15221     0     0 15222 15223     0     0\n",
      " 15224 15225     0     0 15226 15227     0     0 15228 15229     0     0\n",
      " 15230 15231     0     0 15232 15233     0     0]\n",
      "[15218 15219     0     0 15220 15221     0     0 15222 15223     0     0\n",
      " 15224 15225     0     0 15226 15227     0     0 15228 15229     0     0\n",
      " 15230 15231     0     0 15232 15233     0     0]\n",
      "[15218 15219     0     0 15220 15221     0     0 15222 15223     0     0\n",
      " 15224 15225     0     0 15226 15227     0     0 15228 15229     0     0\n",
      " 15230 15231     0     0 15232 15233     0     0]\n",
      "[15218 15219     0     0 15220 15221     0     0 15222 15223     0     0\n",
      " 15224 15225     0     0 15226 15227     0     0 15228 15229     0     0\n",
      " 15230 15231     0     0 15232 15233     0     0]\n"
     ]
    }
   ],
   "source": [
    "for d in data:\n",
    "    print d[:32]"
   ]
  },
  {
   "cell_type": "code",
   "execution_count": null,
   "metadata": {
    "collapsed": true
   },
   "outputs": [],
   "source": []
  }
 ],
 "metadata": {
  "kernelspec": {
   "display_name": "Python 2",
   "language": "python",
   "name": "python2"
  },
  "language_info": {
   "codemirror_mode": {
    "name": "ipython",
    "version": 2
   },
   "file_extension": ".py",
   "mimetype": "text/x-python",
   "name": "python",
   "nbconvert_exporter": "python",
   "pygments_lexer": "ipython2",
   "version": "2.7.6"
  }
 },
 "nbformat": 4,
 "nbformat_minor": 0
}
