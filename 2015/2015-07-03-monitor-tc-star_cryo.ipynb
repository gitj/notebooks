{
 "cells": [
  {
   "cell_type": "code",
   "execution_count": 1,
   "metadata": {
    "collapsed": false
   },
   "outputs": [
    {
     "name": "stdout",
     "output_type": "stream",
     "text": [
      "Populating the interactive namespace from numpy and matplotlib\n"
     ]
    }
   ],
   "source": [
    "%pylab inline"
   ]
  },
  {
   "cell_type": "code",
   "execution_count": 2,
   "metadata": {
    "collapsed": true
   },
   "outputs": [],
   "source": [
    "import kid_readout.roach.heterodyne"
   ]
  },
  {
   "cell_type": "code",
   "execution_count": 3,
   "metadata": {
    "collapsed": true
   },
   "outputs": [],
   "source": [
    "ri = kid_readout.roach.heterodyne.RoachHeterodyne()"
   ]
  },
  {
   "cell_type": "code",
   "execution_count": 4,
   "metadata": {
    "collapsed": true
   },
   "outputs": [],
   "source": [
    "ri.set_fft_gain(4)"
   ]
  },
  {
   "cell_type": "code",
   "execution_count": 5,
   "metadata": {
    "collapsed": false
   },
   "outputs": [],
   "source": [
    "ri.set_lo(1000.)"
   ]
  },
  {
   "cell_type": "code",
   "execution_count": 6,
   "metadata": {
    "collapsed": false,
    "scrolled": true
   },
   "outputs": [
    {
     "name": "stdout",
     "output_type": "stream",
     "text": [
      "bank_offset= 0 start_offset= 0 start_offset_bytes= 0\n",
      "writing DRAM bank 0\n",
      "\n"
     ]
    },
    {
     "data": {
      "text/plain": [
       "array([ 945.1015625])"
      ]
     },
     "execution_count": 6,
     "metadata": {},
     "output_type": "execute_result"
    }
   ],
   "source": [
    "ri.set_tone_freqs(np.array([945.1]),2**16)"
   ]
  },
  {
   "cell_type": "code",
   "execution_count": 7,
   "metadata": {
    "collapsed": true
   },
   "outputs": [],
   "source": [
    "ri.set_dac_atten(20)"
   ]
  },
  {
   "cell_type": "code",
   "execution_count": 8,
   "metadata": {
    "collapsed": true
   },
   "outputs": [],
   "source": [
    "d,addr = ri.get_data(2)"
   ]
  },
  {
   "cell_type": "code",
   "execution_count": 9,
   "metadata": {
    "collapsed": false
   },
   "outputs": [
    {
     "data": {
      "image/png": "[encoded data removed]",
      "text/plain": [
       "<matplotlib.figure.Figure at 0x47d3f50>"
      ]
     },
     "metadata": {},
     "output_type": "display_data"
    }
   ],
   "source": [
    "blah = psd(d[:,0])"
   ]
  },
  {
   "cell_type": "code",
   "execution_count": 10,
   "metadata": {
    "collapsed": true
   },
   "outputs": [],
   "source": [
    "import time"
   ]
  },
  {
   "cell_type": "code",
   "execution_count": 11,
   "metadata": {
    "collapsed": true
   },
   "outputs": [],
   "source": [
    "epoch = []\n",
    "data = []"
   ]
  },
  {
   "cell_type": "code",
   "execution_count": 12,
   "metadata": {
    "collapsed": false
   },
   "outputs": [
    {
     "name": "stdout",
     "output_type": "stream",
     "text": [
      "1 (33235.1+3113.43j)\n",
      "2 (33235.5+3105.89j)\n",
      "3 (33235.7+3102.47j)\n",
      "4 (33236+3097.43j)\n",
      "5 (33236.2+3093.96j)\n",
      "6 (33236.8+3083.45j)\n",
      "7 (33237+3081.1j)\n",
      "8 (33237.5+3072.54j)\n",
      "9 (33237.4+3074.71j)\n",
      "10 (33237.2+3077.52j)\n",
      "11 (33237.5+3072.19j)\n",
      "12 (33237.5+3072.38j)\n",
      "13 (33237.8+3066.55j)\n",
      "14 (33237.8+3066.42j)\n",
      "15 (33237.4+3073.96j)\n",
      "16 (33237.2+3076.83j)\n",
      "17 (33237.1+3078.62j)\n",
      "18 (33236.9+3082.41j)\n",
      "19 (33236.6+3088.45j)\n",
      "20 (33236.6+3087.89j)\n",
      "21 (33236.7+3085.82j)\n",
      "22 (33236.8+3083.6j)\n",
      "23 (33236.7+3085.51j)\n",
      "24 (33236.7+3086.12j)\n",
      "25 (33236.7+3085.94j)\n",
      "26 (33236.5+3088.65j)\n",
      "27 (33236.7+3085.5j)\n",
      "28 (33236.7+3085.43j)\n",
      "29 (33236.6+3087.9j)\n",
      "30 (33236.5+3088.78j)\n",
      "31 (33236.9+3082.59j)\n",
      "32 (33237.6+3069.7j)\n",
      "33 (33237.8+3067.29j)\n",
      "34 (33238+3062.96j)\n",
      "35 (33237.6+3069.85j)\n",
      "36 (33238.1+3061.02j)\n",
      "37 (33238.2+3059.75j)\n",
      "38 (33238.3+3058.79j)\n",
      "39 (33238.5+3055.27j)\n",
      "40 (33238.2+3059.14j)\n",
      "41 (33238.5+3054.39j)\n",
      "42 (33238.8+3050.09j)\n",
      "43 (33239.3+3041.7j)\n",
      "44 (33239.3+3041.1j)\n",
      "45 (33239.6+3035.69j)\n",
      "46 (33239.7+3033.78j)\n",
      "47 (33240+3028.6j)\n",
      "48 (33240.2+3026.26j)\n",
      "49 (33240.3+3023.13j)\n",
      "50 (33240.5+3020.21j)\n",
      "51 (33240.9+3014.08j)\n",
      "52 (33241.4+3004.88j)\n",
      "53 (33241.7+2999.71j)\n",
      "54 (33241.4+3004.82j)\n",
      "55 (33241.4+3003.95j)\n",
      "56 (33241.2+3008.45j)\n",
      "57 (33241.3+3005.64j)\n",
      "58 (33241+3011.98j)\n",
      "59 (33240.8+3014.5j)\n",
      "60 (33240.6+3017.84j)\n",
      "61 (33240.5+3020.61j)\n",
      "62 (33240+3028.95j)\n",
      "63 (33239.8+3032.04j)\n",
      "64 (33239.7+3033.44j)\n",
      "65 (33239.6+3035.85j)\n",
      "66 (33239.4+3039.67j)\n",
      "67 (33239.2+3042.9j)\n",
      "68 (33239.5+3038.43j)\n",
      "69 (33239.8+3031.73j)\n",
      "70 (33240.2+3025.34j)\n",
      "71 (33240+3029.73j)\n",
      "72 (33240+3028.9j)\n",
      "73 (33239.7+3033.42j)\n",
      "74 (33240.1+3027.53j)\n",
      "75 (33240.1+3026.87j)\n",
      "76 (33240.1+3027.36j)\n",
      "77 (33240.4+3022.41j)\n",
      "78 (33240.4+3022.63j)\n",
      "79 (33240.1+3026.46j)\n",
      "80 (33240.1+3028.03j)\n",
      "81 (33240.4+3022.78j)\n",
      "82 (33240.9+3013.21j)\n",
      "83 (33241+3011.98j)\n",
      "84 (33241.4+3003.94j)\n",
      "85 (33241.3+3006.66j)\n",
      "86 (33241.3+3006.53j)\n",
      "87 (33241.7+2999.26j)\n",
      "88 (33242+2994.61j)\n",
      "89 (33242.2+2990.69j)\n",
      "90 (33242.4+2987.84j)\n",
      "91 (33242.2+2990.33j)\n",
      "92 (33242.2+2990.81j)\n",
      "93 (33242.4+2987.38j)\n",
      "94 (33242.2+2991.34j)\n",
      "95 (33242.5+2985.38j)\n",
      "96 (33242.7+2982.36j)\n",
      "97 (33242.7+2981.48j)\n",
      "98 (33242.9+2978.26j)\n",
      "99 (33243+2977.01j)\n",
      "100 (33243.5+2968.54j)\n",
      "101 (33243.2+2973.07j)\n",
      "102 (33243+2976.7j)\n",
      "103 (33243+2976.81j)\n",
      "104 (33243+2977.48j)\n",
      "105 (33242.8+2980.71j)\n",
      "106 (33242.9+2979.09j)\n",
      "107 (33242.6+2984.34j)\n",
      "108 (33242.6+2983.3j)\n",
      "109 (33242.3+2989.48j)\n",
      "110 (33242+2994.73j)\n",
      "111 (33241.7+2999.58j)\n",
      "112 (33241.3+3006.79j)\n",
      "113 (33241.4+3005.27j)\n",
      "114 (33241.3+3006.59j)\n",
      "115 (33241.1+3009.99j)\n",
      "116 (33240.9+3013.56j)\n",
      "117 (33241.2+3008.68j)\n",
      "118 (33241.1+3010.14j)\n",
      "119 (33241.4+3004.93j)\n",
      "120 (33241.6+3000.48j)\n",
      "121 (33241.4+3004.85j)\n",
      "122 (33241.6+3001.32j)\n",
      "123 (33241.6+3001.58j)\n",
      "124 (33241.6+3001.13j)\n",
      "125 (33241.4+3004.91j)\n",
      "126 (33241.6+3000.99j)\n",
      "127 (33241.4+3005.47j)\n",
      "128 (33241.5+3003.21j)\n",
      "129 (33242+2993.87j)\n",
      "130 (33241.9+2995.64j)\n",
      "131 (33242.4+2987.48j)\n",
      "132 (33242.4+2988.15j)\n",
      "133 (33242.6+2983.69j)\n",
      "134 (33242.4+2987.2j)\n",
      "135 (33242.5+2986.49j)\n",
      "136 (33242.7+2982.56j)\n",
      "137 (33242.7+2981.66j)\n",
      "138 (33242.4+2987.76j)\n",
      "139 (33242.5+2986.23j)\n",
      "140 (33242.5+2986.27j)\n",
      "141 (33242.7+2981.81j)\n",
      "142 (33242.9+2978.59j)\n",
      "143 (33243.3+2971.3j)\n",
      "144 (33243.4+2969.74j)\n",
      "145 (33243.4+2969.72j)\n",
      "146 (33243.6+2966.15j)\n",
      "147 (33243.8+2962.88j)\n",
      "148 (33243.4+2969.63j)\n",
      "149 (33243.7+2964.34j)\n",
      "150 (33244.1+2958.73j)\n",
      "151 (33244.2+2956.51j)\n",
      "152 (33244+2959.25j)\n",
      "153 (33244+2959.62j)\n",
      "154 (33244.6+2949.83j)\n",
      "155 (33244.6+2949.98j)\n",
      "156 (33245+2942.6j)\n",
      "157 (33245.1+2941.21j)\n",
      "158 (33244.9+2944.77j)\n",
      "159 (33245+2942.44j)\n",
      "160 (33245.1+2941.03j)\n",
      "161 (33245.1+2941j)\n",
      "162 (33244.9+2945.17j)\n",
      "163 (33244.7+2947.54j)\n",
      "164 (33244.6+2950.32j)\n",
      "165 (33244.2+2956.81j)\n",
      "166 (33244+2959.97j)\n",
      "167 (33243.9+2961.68j)\n",
      "168 (33243.5+2968.85j)\n",
      "169 (33243.4+2969.37j)\n",
      "170 (33243.3+2971.45j)\n",
      "171 (33243.4+2970.36j)\n",
      "172 (33243.3+2972.53j)\n",
      "173 (33243.2+2973.4j)\n",
      "174 (33243.5+2969.05j)\n",
      "175 (33243.4+2970.33j)\n",
      "176 (33243.7+2965.14j)\n",
      "177 (33243.5+2968.76j)\n",
      "178 (33243.3+2971.71j)\n",
      "179 (33243.5+2968.14j)\n",
      "180 (33243.3+2972.54j)\n",
      "181 (33243.6+2966.42j)\n",
      "182 (33243.5+2969.07j)\n",
      "183 (33243.7+2964.49j)\n",
      "184 (33243.8+2963.82j)\n",
      "185 (33243.9+2962j)\n",
      "186 (33244.2+2957.23j)\n",
      "187 (33244.1+2957.69j)\n",
      "188 (33244.4+2953.27j)\n",
      "189 (33244.4+2953.61j)\n",
      "190 (33244.5+2951.64j)\n",
      "191 (33244.6+2948.61j)\n",
      "192 (33244.5+2950.41j)\n",
      "193 (33244.9+2944.52j)\n",
      "194 (33245.5+2933.93j)\n",
      "195 (33245.2+2939.41j)\n",
      "196 (33245.7+2931.17j)\n",
      "197 (33245.6+2931.38j)\n",
      "198 (33245.4+2935.9j)\n",
      "199 (33245.4+2936.22j)\n",
      "200 (33245.5+2934.2j)\n",
      "201 (33245.7+2930.8j)\n",
      "202 (33245.8+2928.98j)\n",
      "203 (33245.9+2926.26j)\n",
      "204 (33245.8+2929.09j)\n",
      "205 (33245.9+2926.79j)\n",
      "206 (33246.5+2916.45j)\n",
      "207 (33246.4+2918.91j)\n",
      "208 (33246.4+2918.34j)\n",
      "209 (33246.8+2911.93j)\n",
      "210 (33247.1+2906.82j)\n",
      "211 (33247.4+2901.14j)\n",
      "212 (33247.5+2899.39j)\n",
      "213 (33247.4+2901.88j)\n",
      "214 (33247.1+2906.63j)\n",
      "215 (33247.1+2905.55j)\n",
      "216 (33247.2+2904.46j)\n",
      "217 (33247.3+2902.5j)\n",
      "218 (33247.3+2903.44j)\n",
      "219 (33247+2907.61j)\n",
      "220 (33246.7+2913.13j)\n",
      "221 (33246.1+2922.8j)\n",
      "222 (33245.9+2927.5j)\n",
      "223 (33245.9+2927.63j)\n",
      "224 (33245.4+2936.27j)\n",
      "225 (33245.7+2930.4j)\n",
      "226 (33245.6+2932.18j)\n",
      "detected mcnt overflow None 32431636 0 2048 0 16 32431636\n",
      "227 (33245.6+2932.81j)\n",
      "228 (33245.4+2935.73j)\n",
      "229 (33245.7+2931.25j)\n",
      "230 (33245.3+2936.97j)\n",
      "231 (33245.2+2938.56j)\n",
      "232 (33245.3+2937.63j)\n",
      "233 (33245.2+2938.5j)\n",
      "234 (33245.2+2939.17j)\n",
      "235 (33245.2+2939.68j)\n",
      "236 (33245.2+2938.26j)\n",
      "237 (33245.7+2930.59j)\n",
      "238 (33245.9+2926.9j)\n",
      "239 (33245.6+2932.74j)\n",
      "240 (33245.7+2930.4j)\n",
      "241 (33245.8+2928.12j)\n",
      "242 (33246.2+2922.11j)\n",
      "243 (33246.5+2915.81j)\n",
      "244 (33246.8+2912.15j)\n",
      "245 (33246.8+2912.24j)\n",
      "246 (33246.5+2917.01j)\n",
      "247 (33246.4+2919.02j)\n",
      "248 (33246.5+2915.92j)\n",
      "249 (33246.9+2909.57j)\n",
      "250 (33247.1+2906.37j)\n",
      "251 (33247.5+2899.98j)\n",
      "252 (33247.2+2904.51j)\n",
      "253 (33247.3+2903.69j)\n",
      "254 (33247.5+2899.48j)\n",
      "255 (33247.3+2902.68j)\n",
      "256 (33247.5+2898.87j)\n",
      "257 (33247.7+2896.04j)\n",
      "258 (33247.7+2895.17j)\n",
      "259 (33248.1+2888.36j)\n",
      "260 (33248.2+2887.35j)\n",
      "261 (33248.4+2883.39j)\n",
      "262 (33248.3+2885.35j)\n",
      "263 (33248.2+2887.41j)\n",
      "264 (33247.8+2893.38j)\n",
      "265 (33247.8+2893.98j)\n",
      "266 (33247.8+2893.58j)\n",
      "267 (33247.7+2896.49j)\n",
      "268 (33247.5+2900.17j)\n",
      "269 (33247.7+2895.35j)\n",
      "270 (33247.1+2907.16j)\n",
      "271 (33246.6+2914.09j)\n",
      "272 (33246.7+2913.66j)\n",
      "273 (33246.6+2915.59j)\n",
      "274 (33246.4+2918.98j)\n",
      "275 (33246.5+2916.23j)\n",
      "276 (33246.3+2920.66j)\n",
      "277 (33246+2924.9j)\n",
      "278 (33246.2+2922.5j)\n",
      "279 (33246+2924.7j)\n",
      "280 (33246+2925.23j)\n",
      "281 (33246.6+2914.76j)\n",
      "282 (33246.7+2912.84j)\n",
      "283 (33246.5+2916.43j)\n",
      "284 (33246.6+2914.83j)\n",
      "285 (33247.1+2906.05j)\n",
      "286 (33246.9+2909.52j)\n",
      "287 (33247+2907.26j)\n",
      "288 (33247.1+2906.66j)\n",
      "289 (33247.3+2902.38j)\n",
      "290 (33248.3+2886.24j)\n",
      "291 (33248.4+2884.13j)\n",
      "292 (33248.1+2889.44j)\n",
      "293 (33248.3+2885.93j)\n",
      "294 (33248.7+2879.25j)\n",
      "295 (33248.7+2878.93j)\n",
      "296 (33248.8+2877.33j)\n",
      "297 (33248.8+2876.13j)\n",
      "298 (33249.3+2869.01j)\n",
      "299 (33249.1+2871.23j)\n",
      "300 (33248.8+2876.84j)\n",
      "301 (33249.3+2868.79j)\n",
      "302 (33249.1+2871.31j)\n",
      "303 (33249.3+2867.54j)\n",
      "304 (33248.9+2874.56j)\n",
      "305 (33248.6+2880.37j)\n",
      "306 (33248.5+2882.51j)\n",
      "307 (33248.7+2878.79j)\n",
      "308 (33248.2+2886.82j)\n",
      "309 (33247.7+2895.73j)\n",
      "310 (33247.4+2900.98j)\n",
      "311 (33247.1+2905.98j)\n",
      "312 (33247+2908.43j)\n",
      "313 (33246.8+2912.17j)\n",
      "314 (33246.5+2915.86j)\n",
      "315 (33246.4+2918.88j)\n",
      "316 (33246.8+2912.25j)\n",
      "317 (33246.6+2915.1j)\n",
      "detected mcnt overflow None 32431636 0 2048 0 16 32431636\n",
      "318 (33246.8+2911.37j)\n",
      "319 (33246.9+2908.98j)\n",
      "320 (33247+2908.77j)\n",
      "321 (33247.3+2903.23j)\n",
      "322 (33247.6+2898.53j)\n",
      "323 (33247.6+2898.22j)\n",
      "324 (33247.8+2895j)\n",
      "325 (33247.7+2895.61j)\n",
      "326 (33248.1+2888.88j)\n",
      "327 (33248.1+2889.25j)\n",
      "328 (33248+2891.61j)\n",
      "329 (33248.3+2885.01j)\n",
      "330 (33248.3+2886.02j)\n",
      "331 (33248.3+2886.27j)\n",
      "332 (33248.5+2882.81j)\n",
      "333 (33248.8+2876.1j)\n",
      "334 (33249+2874.35j)\n",
      "335 (33249.3+2868.75j)\n",
      "336 (33249.4+2867.04j)\n",
      "337 (33249.7+2861.05j)\n",
      "338 (33249.7+2862.04j)\n",
      "339 (33249.8+2860.2j)\n",
      "340 (33249.6+2862.39j)\n",
      "341 (33249.7+2861.61j)\n",
      "342 (33249.5+2864.87j)\n",
      "343 (33249.5+2864.44j)\n",
      "344 (33249.4+2866.02j)\n",
      "345 (33249.2+2870.31j)\n",
      "346 (33249+2873.66j)\n",
      "347 (33248.6+2879.61j)\n",
      "348 (33248.6+2879.99j)\n",
      "349 (33248.7+2879.5j)\n",
      "detected mcnt overflow None 32431636 0 2048 0 16 32431636\n",
      "350 (33248.7+2878.51j)\n",
      "351 (33248.3+2885.62j)\n",
      "352 (33248.2+2886.93j)\n",
      "353 (33248.3+2885.06j)\n",
      "354 (33248.7+2878.64j)\n",
      "355 (33248.4+2883.58j)\n",
      "356 (33248.2+2886.47j)\n",
      "357 (33248.5+2882.35j)\n",
      "358 (33248.4+2883.17j)\n",
      "359 (33248.9+2875.67j)\n",
      "360 (33249+2872.93j)\n",
      "361 (33249.4+2865.82j)\n",
      "362 (33249.3+2867.68j)\n",
      "363 (33249.5+2864.52j)\n",
      "364 (33249.7+2861.52j)\n",
      "365 (33249.6+2862.98j)\n",
      "366 (33249.6+2863.4j)\n",
      "367 (33249.7+2861.45j)\n",
      "368 (33249.6+2863.85j)\n",
      "369 (33250.1+2855.16j)\n",
      "370 (33250.1+2854.48j)\n",
      "371 (33250.7+2843.36j)\n",
      "372 (33251.4+2832.07j)\n",
      "373 (33251.3+2834.29j)\n",
      "374 (33251.3+2833.97j)\n",
      "375 (33251.5+2829.61j)\n",
      "376 (33251.3+2833.48j)\n",
      "377 (33251.1+2836.6j)\n",
      "378 (33250.8+2841.78j)\n",
      "379 (33250.8+2842.34j)\n",
      "380 (33251+2839.47j)\n",
      "381 (33250.5+2847.91j)\n",
      "382 (33250.7+2844.43j)\n",
      "383 (33250.7+2844.82j)\n",
      "384 (33250.3+2851.81j)\n",
      "385 (33250+2855.53j)\n",
      "386 (33249.8+2859.18j)\n",
      "387 (33249.4+2866.92j)\n",
      "388 (33249.4+2865.73j)\n",
      "389 (33249.2+2870.35j)\n",
      "390 (33249.6+2862.94j)\n",
      "391 (33249.7+2860.65j)\n",
      "392 (33249.5+2864.12j)\n",
      "393 (33249.6+2862.86j)\n",
      "394 (33249.6+2863.47j)\n",
      "395 (33249.7+2861.5j)\n",
      "396 (33249.6+2863.27j)\n",
      "397 (33249.7+2861.6j)\n",
      "398 (33250.2+2852.17j)\n",
      "399 (33250.4+2850.12j)\n",
      "400 (33250.2+2852.96j)\n",
      "401 (33250.7+2844.53j)\n",
      "402 (33250.6+2845.87j)\n",
      "403 (33250.7+2844.84j)\n",
      "404 (33250.9+2840.62j)\n",
      "405 (33250.8+2842.57j)\n",
      "406 (33250.8+2842.87j)\n",
      "407 (33251.2+2836.23j)\n",
      "408 (33251.4+2832.3j)\n",
      "409 (33251.6+2827.85j)\n",
      "410 (33251.9+2822.9j)\n",
      "411 (33251.5+2830.18j)\n",
      "412 (33251.4+2831.57j)\n",
      "413 (33251.6+2828.85j)\n",
      "414 (33251.7+2826.83j)\n",
      "415 (33251.7+2827.1j)\n",
      "416 (33251.4+2832.62j)\n",
      "417 (33251.3+2833.61j)\n",
      "418 (33251.1+2837.21j)\n",
      "419 (33250.9+2840.54j)\n",
      "420 (33250.4+2849.48j)\n",
      "421 (33250.2+2853.28j)\n",
      "422 (33250.1+2853.98j)\n",
      "423 (33250+2856.35j)\n",
      "424 (33250.1+2853.64j)\n",
      "425 (33250.1+2854.89j)\n",
      "426 (33249.9+2858.79j)\n",
      "427 (33250.2+2853.07j)\n",
      "428 (33250.6+2846.25j)\n",
      "429 (33250.7+2843.92j)\n",
      "430 (33251+2839.7j)\n",
      "431 (33250.7+2844.12j)\n",
      "432 (33250.4+2848.98j)\n",
      "433 (33250.6+2845.65j)\n",
      "434 (33250.9+2841.35j)\n",
      "435 (33251.2+2835.73j)\n",
      "436 (33251+2839.52j)\n",
      "437 (33250.7+2844.36j)\n",
      "438 (33250.5+2847.77j)\n",
      "439 (33249.9+2857.27j)\n",
      "440 (33249.6+2862.69j)\n",
      "441 (33249.1+2871.32j)\n",
      "442 (33249+2873.74j)\n",
      "443 (33248.5+2882.8j)\n",
      "444 (33248.1+2888.66j)\n",
      "445 (33248.5+2882.66j)\n",
      "446 (33248.2+2887.56j)\n",
      "447 (33248.4+2883.37j)\n",
      "448 (33248.2+2887.91j)\n",
      "449 (33248.2+2888.03j)\n",
      "450 (33248.1+2889.39j)\n",
      "451 (33247.9+2892.4j)\n",
      "452 (33248.1+2888.59j)\n",
      "453 (33248+2890.86j)\n",
      "454 (33247.7+2895.91j)\n",
      "455 (33247.7+2896.41j)\n",
      "456 (33248.1+2888.65j)\n",
      "457 (33248.3+2885.83j)\n",
      "458 (33248.3+2885.16j)\n",
      "459 (33248.3+2885.58j)\n",
      "460 (33248+2891.22j)\n",
      "461 (33248.1+2889.89j)\n",
      "462 (33247.9+2892.65j)\n",
      "463 (33248.1+2889.38j)\n",
      "464 (33247.7+2895.19j)\n",
      "465 (33247.8+2894.47j)\n",
      "466 (33248.2+2887.91j)\n",
      "467 (33248+2890.18j)\n",
      "468 (33248+2891.1j)\n",
      "469 (33247.8+2894.36j)\n",
      "470 (33247.6+2898.34j)\n",
      "471 (33247.8+2894.97j)\n",
      "472 (33247.7+2895.87j)\n",
      "473 (33247.8+2894.49j)\n",
      "474 (33247.9+2892.21j)\n",
      "475 (33247.6+2897.85j)\n",
      "476 (33247.5+2899.6j)\n",
      "477 (33247.6+2897.27j)\n",
      "478 (33247.5+2899.5j)\n",
      "479 (33247.4+2901.57j)\n",
      "480 (33247.5+2899.34j)\n",
      "481 (33247.9+2892.25j)\n",
      "482 (33248+2890j)\n",
      "483 (33248+2890.7j)\n",
      "484 (33247.8+2894.89j)\n",
      "485 (33247.6+2897.52j)\n",
      "486 (33247.6+2896.88j)\n",
      "487 (33247.4+2901.36j)\n",
      "488 (33247.3+2902.8j)\n",
      "489 (33247.7+2895.52j)\n",
      "490 (33247.7+2895.48j)\n",
      "491 (33247.6+2897.64j)\n",
      "492 (33247.6+2897.46j)\n",
      "493 (33248+2889.98j)\n",
      "494 (33248+2890.05j)\n",
      "495 (33247.5+2899.09j)\n",
      "496 (33247.5+2899.36j)\n",
      "497 (33247.5+2898.67j)\n",
      "498 (33247.8+2894.25j)\n",
      "499 (33247.8+2894.81j)\n",
      "500 (33247.7+2895.18j)\n",
      "501 (33247.9+2892.33j)\n",
      "502 (33248.2+2887.13j)\n",
      "503 (33247.9+2892.03j)\n",
      "504 (33247.5+2900j)\n",
      "505 (33247.4+2900.32j)\n",
      "506 (33247.3+2903.03j)\n",
      "507 (33247.4+2901.67j)\n",
      "508 (33247.2+2904.38j)\n",
      "509 (33247.2+2904.37j)\n",
      "510 (33247+2907.26j)\n",
      "511 (33247.3+2903.16j)\n",
      "512 (33247.1+2906.37j)\n",
      "513 (33247.2+2905.13j)\n",
      "514 (33247.2+2905.16j)\n",
      "515 (33247.5+2899.86j)\n",
      "516 (33247.8+2894.65j)\n",
      "517 (33248.3+2885.65j)\n",
      "518 (33247.8+2893.53j)\n",
      "519 (33247+2908.06j)\n",
      "520 (33246.8+2911.6j)\n",
      "521 (33246.7+2913.79j)\n",
      "522 (33246.9+2909.5j)\n",
      "523 (33246.7+2913.99j)\n",
      "524 (33246.6+2914.17j)\n",
      "525 (33246.8+2911.78j)\n",
      "526 (33246.5+2916.01j)\n",
      "detected mcnt overflow None 32431636 0 2048 0 16 32431636\n",
      "527 (33246.5+2916.4j)\n",
      "528 (33246.5+2917.19j)\n",
      "529 (33246.5+2916.48j)\n",
      "530 (33246.5+2916.42j)\n",
      "531 (33246.3+2919.76j)\n",
      "532 (33246.2+2922.53j)\n",
      "533 (33246+2924.71j)\n",
      "534 (33246.2+2920.98j)\n",
      "535 (33245.8+2928.94j)\n",
      "536 (33246+2925.24j)\n",
      "537 (33246.4+2918.2j)\n",
      "538 (33246.3+2919.92j)\n",
      "539 (33246.1+2924.04j)\n",
      "540 (33245.9+2927.33j)\n",
      "541 (33245.6+2931.63j)\n",
      "542 (33245.4+2935.01j)\n",
      "543 (33245.5+2933.48j)\n",
      "544 (33245.8+2928.43j)\n",
      "545 (33245.9+2927.63j)\n",
      "546 (33246.1+2924.24j)\n",
      "547 (33246.3+2920.28j)\n",
      "548 (33246.5+2916.01j)\n",
      "549 (33246.4+2919.08j)\n",
      "550 (33246.4+2918.17j)\n",
      "551 (33246.2+2922.22j)\n",
      "552 (33246.2+2921.6j)\n",
      "553 (33245.9+2927.69j)\n",
      "554 (33245.4+2935.16j)\n",
      "555 (33245.6+2933.04j)\n",
      "556 (33245.9+2927.43j)\n",
      "557 (33245.6+2932.7j)\n",
      "558 (33245.6+2931.72j)\n",
      "559 (33246+2926.13j)\n",
      "560 (33246.4+2918.25j)\n",
      "561 (33246.6+2914.59j)\n",
      "562 (33246.2+2920.99j)\n",
      "563 (33246.1+2922.72j)\n",
      "564 (33246.4+2919.24j)\n",
      "565 (33245.7+2930.03j)\n",
      "566 (33245.7+2931.26j)\n",
      "567 (33246.1+2924.09j)\n",
      "568 (33246.1+2924.04j)\n",
      "569 (33246.2+2922.57j)\n",
      "570 (33246.3+2919.8j)\n",
      "571 (33246.4+2917.85j)\n",
      "572 (33246.3+2919.59j)\n",
      "573 (33246.5+2916.22j)\n",
      "574 (33246.4+2918.48j)\n",
      "575 (33246+2925.16j)\n",
      "576 (33246.2+2922.62j)\n",
      "577 (33246.3+2920.48j)\n",
      "578 (33246.1+2923.06j)\n",
      "579 (33246.7+2913.83j)\n",
      "580 (33246.9+2909.93j)\n",
      "581 (33246.8+2911.78j)\n",
      "582 (33246.7+2913.95j)\n",
      "583 (33246.6+2914.23j)\n",
      "584 (33246.5+2916.55j)\n",
      "585 (33246.2+2921.28j)\n",
      "586 (33246.4+2917.65j)\n",
      "587 (33247+2907.7j)\n",
      "588 (33247+2907.21j)\n",
      "589 (33247.2+2903.98j)\n",
      "590 (33247.7+2895.68j)\n",
      "591 (33247.4+2900.82j)\n",
      "592 (33247.6+2897.71j)\n",
      "593 (33248.1+2889.87j)\n",
      "594 (33248.7+2879.27j)\n",
      "595 (33248.5+2882.05j)\n",
      "596 (33248.3+2885.53j)\n",
      "597 (33248.6+2880.24j)\n",
      "598 (33249+2872.69j)\n",
      "599 (33249.2+2870.35j)\n",
      "600 (33249.5+2865.22j)\n",
      "601 (33249.6+2863.86j)\n",
      "602 (33249.1+2871.97j)\n",
      "603 (33249.2+2869.52j)\n",
      "604 (33249.8+2860.49j)\n",
      "605 (33249.7+2862.03j)\n",
      "606 (33250+2855.62j)\n",
      "607 (33250.6+2846.32j)\n",
      "608 (33250.8+2843.06j)\n",
      "609 (33251.8+2824.72j)\n",
      "610 (33252+2822j)\n",
      "611 (33253.1+2802.86j)\n",
      "612 (33253.2+2800.64j)\n",
      "613 (33253.4+2796.65j)\n",
      "614 (33253.5+2795.14j)\n",
      "615 (33254.1+2784.73j)\n",
      "616 (33254.2+2783.46j)\n",
      "617 (33254.3+2781.13j)\n",
      "detected mcnt overflow None 32431636 0 2048 0 16 32431636\n",
      "618 (33254.5+2778.72j)\n",
      "619 (33255.2+2767.05j)\n",
      "620 (33254.9+2771.74j)\n",
      "621 (33255.8+2755.97j)\n",
      "622 (33256+2752.93j)\n",
      "623 (33257+2736.02j)\n",
      "624 (33257.4+2728.21j)\n",
      "625 (33257.8+2721.17j)\n",
      "626 (33258.7+2706.17j)\n",
      "627 (33259.1+2698.44j)\n",
      "628 (33260.1+2681.67j)\n",
      "629 (33260.4+2676.23j)\n",
      "630 (33261+2666.61j)\n",
      "631 (33261.5+2657.42j)\n",
      "632 (33262.3+2644.17j)\n",
      "633 (33263.6+2621.58j)\n",
      "634 (33264+2613.6j)\n",
      "635 (33265+2596.75j)\n",
      "636 (33265.6+2586.21j)\n",
      "637 (33266.5+2570.79j)\n",
      "638 (33267.3+2556.64j)\n",
      "639 (33268.1+2543.92j)\n",
      "640 (33268.9+2529.5j)\n",
      "641 (33269.8+2513.53j)\n",
      "642 (33271+2494.21j)\n",
      "643 (33272.2+2472.18j)\n",
      "644 (33273.4+2451.92j)\n",
      "645 (33274.7+2429.02j)\n",
      "646 (33276+2406.87j)\n",
      "647 (33277.1+2387.88j)\n",
      "648 (33278.4+2366.21j)\n",
      "649 (33279.2+2351.09j)\n",
      "650 (33281.1+2318.62j)\n",
      "651 (33282.7+2291.72j)\n",
      "652 (33283.9+2271.23j)\n",
      "653 (33285.3+2245.76j)\n",
      "654 (33286.7+2222.95j)\n",
      "655 (33288.8+2186.73j)\n",
      "656 (33290.4+2157.7j)\n",
      "657 (33292.1+2129.86j)\n",
      "658 (33294.1+2094.29j)\n",
      "659 (33296.2+2058.94j)\n",
      "660 (33298.9+2011.91j)\n",
      "661 (33301.5+1967.01j)\n",
      "662 (33304.5+1915.49j)\n",
      "663 (33308.3+1848.52j)\n",
      "664 (33312.3+1779.49j)\n",
      "665 (33316.5+1708.31j)\n",
      "666 (33320.6+1637.3j)\n",
      "667 (33324.3+1573.43j)\n",
      "668 (33327.3+1520.81j)\n",
      "669 (33331.2+1454.25j)\n",
      "670 (33334.5+1396.08j)\n",
      "671 (33338+1336.36j)\n",
      "672 (33342+1266.39j)\n",
      "673 (33346.3+1193.46j)\n",
      "674 (33351.4+1104.49j)\n",
      "675 (33356.4+1017.8j)\n",
      "676 (33362+922.167j)\n",
      "677 (33368.2+814.249j)\n",
      "678 (33375.5+688.503j)\n",
      "679 (33383.8+545.035j)\n",
      "680 (33393.7+374.13j)\n",
      "681 (33405.8+165.127j)\n",
      "682 (33420.2-83.995j)\n",
      "683 (33430.9-267.416j)\n",
      "684 (33417.6-39.2099j)\n",
      "685 (33404.3+190.365j)\n",
      "686 (33392.6+393.906j)\n",
      "687 (33391.4+414.791j)\n",
      "688 (33385.3+518.858j)\n",
      "689 (33371.7+754.935j)\n",
      "690 (33372.8+735.615j)\n",
      "691 (33391.3+415.068j)\n",
      "692 (33408.4+120.61j)\n",
      "693 (33421-96.9577j)\n",
      "694 (33435-338.556j)\n",
      "695 (33448.1-565.383j)\n",
      "696 (33463.3-828.416j)\n",
      "697 (33482.7-1162.53j)\n",
      "698 (33506.3-1570.6j)\n",
      "699 (33532.5-2023.82j)\n",
      "700 (33562.6-2543.63j)\n",
      "701 (33595.9-3118.66j)\n",
      "702 (33623.5-3594.53j)\n",
      "703 (33671.7-4427.09j)\n",
      "704 (33659.3-5523.95j)\n",
      "705 (33448.3-6895.79j)\n",
      "706 (33042.3-8606.3j)\n",
      "707 (32768.2-9478.22j)\n",
      "708 (31828.4-12520.9j)\n",
      "709 (29031-17344.3j)\n",
      "710 (17599.7-18355.8j)\n",
      "711 (6006.44-8067.85j)\n",
      "712 (2651.34-2180.11j)\n",
      "713 (2343.99-1271.09j)\n",
      "714 (2336.52-1254.69j)\n",
      "715 (2332.71-1250.64j)\n",
      "716 (2330.42-1248.35j)\n",
      "717 (2328.71-1247.28j)\n",
      "718 (2327.63-1245.77j)\n",
      "719 (2327.14-1244.72j)\n",
      "720 (2326.46-1243.56j)\n",
      "721 (2326.01-1243.58j)\n",
      "722 (2325.22-1243.65j)\n",
      "723 (2324.53-1243.24j)\n",
      "724 (2324.17-1242.55j)\n",
      "725 (2323.88-1242.63j)\n",
      "726 (2323.65-1242.47j)\n",
      "727 (2323.17-1242.27j)\n"
     ]
    },
    {
     "ename": "KeyboardInterrupt",
     "evalue": "",
     "output_type": "error",
     "traceback": [
      "\u001b[1;31m---------------------------------------------------------------------------\u001b[0m",
      "\u001b[1;31mKeyboardInterrupt\u001b[0m                         Traceback (most recent call last)",
      "\u001b[1;32m<ipython-input-12-c13183c44ede>\u001b[0m in \u001b[0;36m<module>\u001b[1;34m()\u001b[0m\n\u001b[0;32m      4\u001b[0m     \u001b[0mdata\u001b[0m\u001b[1;33m.\u001b[0m\u001b[0mappend\u001b[0m\u001b[1;33m(\u001b[0m\u001b[0md\u001b[0m\u001b[1;33m)\u001b[0m\u001b[1;33m\u001b[0m\u001b[0m\n\u001b[0;32m      5\u001b[0m     \u001b[1;32mprint\u001b[0m \u001b[0mlen\u001b[0m\u001b[1;33m(\u001b[0m\u001b[0mdata\u001b[0m\u001b[1;33m)\u001b[0m\u001b[1;33m,\u001b[0m\u001b[0md\u001b[0m\u001b[1;33m.\u001b[0m\u001b[0mmean\u001b[0m\u001b[1;33m(\u001b[0m\u001b[1;33m)\u001b[0m\u001b[1;33m\u001b[0m\u001b[0m\n\u001b[1;32m----> 6\u001b[1;33m     \u001b[0mtime\u001b[0m\u001b[1;33m.\u001b[0m\u001b[0msleep\u001b[0m\u001b[1;33m(\u001b[0m\u001b[1;36m60\u001b[0m\u001b[1;33m)\u001b[0m\u001b[1;33m\u001b[0m\u001b[0m\n\u001b[0m\u001b[0;32m      7\u001b[0m \u001b[1;33m\u001b[0m\u001b[0m\n",
      "\u001b[1;31mKeyboardInterrupt\u001b[0m: "
     ]
    }
   ],
   "source": [
    "while True:\n",
    "    epoch.append(time.time())\n",
    "    d,addr = ri.get_data(2)\n",
    "    data.append(d)\n",
    "    print len(data),d.mean()\n",
    "    time.sleep(60)\n",
    "    "
   ]
  },
  {
   "cell_type": "code",
   "execution_count": 13,
   "metadata": {
    "collapsed": true
   },
   "outputs": [],
   "source": [
    "dmag = np.array([np.abs(d).mean() for d in data])\n",
    "t = np.array(epoch)\n",
    "t = t-t.min()"
   ]
  },
  {
   "cell_type": "code",
   "execution_count": 14,
   "metadata": {
    "collapsed": false
   },
   "outputs": [
    {
     "data": {
      "text/plain": [
       "[<matplotlib.lines.Line2D at 0x9732850>]"
      ]
     },
     "execution_count": 14,
     "metadata": {},
     "output_type": "execute_result"
    },
    {
     "data": {
      "image/png": "[encoded data removed]",
      "text/plain": [
       "<matplotlib.figure.Figure at 0x96e62d0>"
      ]
     },
     "metadata": {},
     "output_type": "display_data"
    }
   ],
   "source": [
    "plot(t,20*np.log10(dmag))"
   ]
  },
  {
   "cell_type": "code",
   "execution_count": 15,
   "metadata": {
    "collapsed": false
   },
   "outputs": [
    {
     "data": {
      "text/plain": [
       "<module 'kid_readout.utils.hpd_temps' from '/home/gjones/readout/kid_readout/kid_readout/utils/hpd_temps.pyc'>"
      ]
     },
     "execution_count": 15,
     "metadata": {},
     "output_type": "execute_result"
    }
   ],
   "source": [
    "import kid_readout.utils.hpd_temps\n",
    "reload(kid_readout.utils.hpd_temps)"
   ]
  },
  {
   "cell_type": "code",
   "execution_count": 16,
   "metadata": {
    "collapsed": false
   },
   "outputs": [
    {
     "name": "stdout",
     "output_type": "stream",
     "text": [
      "Warning: requested times may span more than one log file, so results may not be as intended\n",
      "log file is: /home/data/adc_mount/garbage_cooldown_logs/2015-07-01_08-39-53.nc, last requested time is Sat Jul  4 11:53:58 2015\n"
     ]
    }
   ],
   "source": [
    "package_temperature,_,load_temperature,_blah = kid_readout.utils.hpd_temps.get_temperatures_at(np.array(epoch))"
   ]
  },
  {
   "cell_type": "code",
   "execution_count": 20,
   "metadata": {
    "collapsed": false
   },
   "outputs": [
    {
     "data": {
      "image/png": "[encoded data removed]",
      "text/plain": [
       "<matplotlib.figure.Figure at 0x96ac790>"
      ]
     },
     "metadata": {},
     "output_type": "display_data"
    }
   ],
   "source": [
    "plot(package_temperature,dmag)\n",
    "xlim(1.35,1.45)\n",
    "grid()"
   ]
  },
  {
   "cell_type": "code",
   "execution_count": 29,
   "metadata": {
    "collapsed": true
   },
   "outputs": [],
   "source": [
    "np.savez('/data/detectors/2015-07-04-StarCryo-nevins-tc-measure.npz',package_temperature=package_temperature,\n",
    "        dmag = dmag, freq=945)"
   ]
  },
  {
   "cell_type": "code",
   "execution_count": 22,
   "metadata": {
    "collapsed": false
   },
   "outputs": [
    {
     "data": {
      "text/plain": [
       "[<matplotlib.lines.Line2D at 0x293056d0>]"
      ]
     },
     "execution_count": 22,
     "metadata": {},
     "output_type": "execute_result"
    },
    {
     "data": {
      "image/png": "[encoded data removed]",
      "text/plain": [
       "<matplotlib.figure.Figure at 0x6cb8350>"
      ]
     },
     "metadata": {},
     "output_type": "display_data"
    }
   ],
   "source": [
    "plot(np.diff(package_temperature),'.')"
   ]
  },
  {
   "cell_type": "code",
   "execution_count": 24,
   "metadata": {
    "collapsed": false
   },
   "outputs": [],
   "source": [
    "t,pkg,load = kid_readout.utils.hpd_temps._filecache['/home/data/adc_mount/garbage_cooldown_logs/2015-07-01_08-39-53.nc']"
   ]
  },
  {
   "cell_type": "code",
   "execution_count": 27,
   "metadata": {
    "collapsed": false
   },
   "outputs": [
    {
     "data": {
      "text/plain": [
       "[<matplotlib.lines.Line2D at 0x9b78750>]"
      ]
     },
     "execution_count": 27,
     "metadata": {},
     "output_type": "execute_result"
    },
    {
     "data": {
      "image/png": "[encoded data removed]",
      "text/plain": [
       "<matplotlib.figure.Figure at 0x9b78e90>"
      ]
     },
     "metadata": {},
     "output_type": "display_data"
    }
   ],
   "source": [
    "plot( np.diff (t),'.')"
   ]
  },
  {
   "cell_type": "code",
   "execution_count": 28,
   "metadata": {
    "collapsed": false
   },
   "outputs": [
    {
     "data": {
      "text/plain": [
       "dtype('float32')"
      ]
     },
     "execution_count": 28,
     "metadata": {},
     "output_type": "execute_result"
    }
   ],
   "source": [
    "t.dtype"
   ]
  },
  {
   "cell_type": "code",
   "execution_count": null,
   "metadata": {
    "collapsed": true
   },
   "outputs": [],
   "source": []
  }
 ],
 "metadata": {
  "kernelspec": {
   "display_name": "Python 2",
   "language": "python",
   "name": "python2"
  },
  "language_info": {
   "codemirror_mode": {
    "name": "ipython",
    "version": 2
   },
   "file_extension": ".py",
   "mimetype": "text/x-python",
   "name": "python",
   "nbconvert_exporter": "python",
   "pygments_lexer": "ipython2",
   "version": "2.7.3"
  }
 },
 "nbformat": 4,
 "nbformat_minor": 0
}
