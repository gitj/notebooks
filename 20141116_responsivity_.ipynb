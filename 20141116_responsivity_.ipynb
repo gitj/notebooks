{
 "metadata": {
  "name": "",
  "signature": "sha256:95798a63d615b069a98107e7d8cd14de67fdc603c75520b2d245d0d3bae43664"
 },
 "nbformat": 3,
 "nbformat_minor": 0,
 "worksheets": [
  {
   "cells": [
    {
     "cell_type": "code",
     "collapsed": false,
     "input": [
      "import glob \n",
      "from kid_readout.analysis.noise_archive import build_noise_archive"
     ],
     "language": "python",
     "metadata": {},
     "outputs": [
      {
       "output_type": "stream",
       "stream": "stdout",
       "text": [
        "updated file list\n"
       ]
      },
      {
       "output_type": "stream",
       "stream": "stderr",
       "text": [
        "/home/local/lib/python2.7/site-packages/matplotlib/__init__.py:1155: UserWarning:  This call to matplotlib.use() has no effect\n",
        "because the backend has already been chosen;\n",
        "matplotlib.use() must be called *before* pylab, matplotlib.pyplot,\n",
        "or matplotlib.backends is imported for the first time.\n",
        "\n",
        "  warnings.warn(_use_error_msg)\n"
       ]
      }
     ],
     "prompt_number": 1
    },
    {
     "cell_type": "code",
     "collapsed": false,
     "input": [
      "files = glob.glob('/home/data/noise_sweeps_2014-05*') \n",
      "files += glob.glob('/home/data/noise_sweeps_2014-06*') \n",
      "files.sort()\n",
      "sc5x4_0813f12_info = dict(files = files,\n",
      "                            index_to_resnum = range(20)\n",
      "                               )"
     ],
     "language": "python",
     "metadata": {},
     "outputs": [],
     "prompt_number": 2
    },
    {
     "cell_type": "code",
     "collapsed": false,
     "input": [
      "noise_archive = build_noise_archive(sc5x4_0813f12_info, force_rebuild=True)"
     ],
     "language": "python",
     "metadata": {},
     "outputs": [],
     "prompt_number": 3
    },
    {
     "cell_type": "code",
     "collapsed": false,
     "input": [
      "plot(noise_archive.sweep_primary_load_temperature, noise_archive.f_0_err, '.')\n",
      "ylim(0,.001)"
     ],
     "language": "python",
     "metadata": {},
     "outputs": [
      {
       "metadata": {},
       "output_type": "pyout",
       "prompt_number": 4,
       "text": [
        "(0, 0.001)"
       ]
      },
      {
       "metadata": {},
       "output_type": "display_data",
       "png": "[encoded data removed]",
       "text": [
        "<matplotlib.figure.Figure at 0x3ab6d90>"
       ]
      }
     ],
     "prompt_number": 4
    },
    {
     "cell_type": "code",
     "collapsed": false,
     "input": [
      "run /home/heather/kid_readout.git/apps/process_net_data/process_net_archive_v7.py\n"
     ],
     "language": "python",
     "metadata": {},
     "outputs": [],
     "prompt_number": 5
    },
    {
     "cell_type": "code",
     "collapsed": false,
     "input": [
      "default_settings = dict(fractional_f_0_err_limit = 1e-6,\n",
      "                        fractional_Q_err_limit = 0.06,\n",
      "                        valid_Q_range = (5000,1e6),\n",
      "                        max_package_temp_deviation = 0.04,\n",
      "                        )\n",
      "settings = dict(valid_load_temp_range = (3.8,6.0),\n",
      "                f_0_max_temp_limit = 12.0,\n",
      "                )\n",
      "\n",
      "all_settings = dict()\n",
      "all_settings.update(default_settings)\n",
      "all_settings.update(settings)"
     ],
     "language": "python",
     "metadata": {},
     "outputs": [],
     "prompt_number": 6
    },
    {
     "cell_type": "code",
     "collapsed": false,
     "input": [
      "dfr = refine_dataset(noise_archive, all_settings)"
     ],
     "language": "python",
     "metadata": {},
     "outputs": [
      {
       "output_type": "stream",
       "stream": "stdout",
       "text": [
        "-2962.22646678\n",
        "-605045.534715"
       ]
      },
      {
       "output_type": "stream",
       "stream": "stdout",
       "text": [
        "\n",
        "-2689950.55082\n",
        "-5557815.83504\n",
        "-4319.98999111\n",
        "-4345.03664754\n",
        "-4872.93871933\n",
        "-4786.41782328\n",
        "-5043.94370859\n",
        "-80887.8167696\n",
        "-6667.58766296\n",
        "-6277.80601216\n",
        "-6790.46782055\n",
        "-6024.91785543\n",
        "-5309.19828724\n",
        "-5649.44631791\n",
        "-5216.80065839\n",
        "-5742.14920077"
       ]
      },
      {
       "output_type": "stream",
       "stream": "stdout",
       "text": [
        "\n",
        "-5608.29825074\n"
       ]
      }
     ],
     "prompt_number": 7
    },
    {
     "cell_type": "code",
     "collapsed": false,
     "input": [
      "dd  = dfr[(dfr.atten==39.0)&\n",
      "         (dfr.resonator_index == 2)&\n",
      "         (dfr.timestream_duration > 6)&\n",
      "         (np.abs(dfr.sweep_primary_package_temperature - 0.2)<0.02)\n",
      "         &(dfr.optical_load != 'dark')\n",
      "         ]"
     ],
     "language": "python",
     "metadata": {},
     "outputs": [],
     "prompt_number": 8
    },
    {
     "cell_type": "code",
     "collapsed": false,
     "input": [
      "shift = ((dd.f_0 - max(dd.f_0))/max(dd.f_0))/1e-6\n",
      "qshift = dd.Q_i - max(dd.Q_i)\n",
      "load_temp = dd.sweep_primary_load_temperature"
     ],
     "language": "python",
     "metadata": {},
     "outputs": [],
     "prompt_number": 71
    },
    {
     "cell_type": "code",
     "collapsed": false,
     "input": [
      "fig, ax1 = plt.subplots()\n",
      "ax1.plot(load_temp, shift, '*', color = 'b')\n",
      "ax1.set_xlabel('Temp')\n",
      "ax1.set_ylabel('Freq Shift', color='b')\n",
      "\n",
      "\n",
      "ax2 = ax1.twinx()\n",
      "ax2.plot(load_temp, 1e6/dd.Q_i,'*', color = 'red')\n",
      "ax2.set_ylabel('Qi')\n",
      "\n",
      "plt.show()"
     ],
     "language": "python",
     "metadata": {},
     "outputs": [
      {
       "metadata": {},
       "output_type": "display_data",
       "png": "[encoded data removed]",
       "text": [
        "<matplotlib.figure.Figure at 0x611f6d0>"
       ]
      }
     ],
     "prompt_number": 10
    },
    {
     "cell_type": "markdown",
     "metadata": {},
     "source": [
      "theoretical crap"
     ]
    },
    {
     "cell_type": "code",
     "collapsed": false,
     "input": [
      "import scipy.integrate"
     ],
     "language": "python",
     "metadata": {},
     "outputs": [],
     "prompt_number": 11
    },
    {
     "cell_type": "code",
     "collapsed": false,
     "input": [
      "def Bnu(nu,T,emissivity=.92, nmodes = 2):\n",
      "    return nmodes*emissivity*6.626e-34*nu/(np.exp((6.626e-34/1.38e-23)*(nu/T))-1)"
     ],
     "language": "python",
     "metadata": {},
     "outputs": [],
     "prompt_number": 5
    },
    {
     "cell_type": "code",
     "collapsed": false,
     "input": [
      "def Pcross(T,low=120e9,high=170e9):\n",
      "    def _P(T):\n",
      "        return scipy.integrate.quad(Bnu,low,high,args=(T))[0]\n",
      "    totalP = (np.vectorize(_P)(T))\n",
      "    return totalP"
     ],
     "language": "python",
     "metadata": {},
     "outputs": [],
     "prompt_number": 6
    },
    {
     "cell_type": "code",
     "collapsed": false,
     "input": [
      "def P(T,low=120e9,high=170e9):\n",
      "    def _P(T):\n",
      "        return scipy.integrate.quad(Bnu,low,high,args=(T))[0]\n",
      "    totalP = (np.vectorize(_P)(T))\n",
      "    return totalP"
     ],
     "language": "python",
     "metadata": {},
     "outputs": [],
     "prompt_number": 7
    },
    {
     "cell_type": "code",
     "collapsed": false,
     "input": [
      "T = np.linspace(3.995,5.75,200)"
     ],
     "language": "python",
     "metadata": {},
     "outputs": [],
     "prompt_number": 8
    },
    {
     "cell_type": "code",
     "collapsed": false,
     "input": [
      "def Qnu(nu,T,emissivity=.99):\n",
      "    return emissivity/(np.exp((6.626e-34/1.38e-23)*(nu/T))-1)"
     ],
     "language": "python",
     "metadata": {},
     "outputs": [],
     "prompt_number": 9
    },
    {
     "cell_type": "code",
     "collapsed": false,
     "input": [
      "def Q(T):\n",
      "    def _Q(T):\n",
      "        return scipy.integrate.quad(Qnu,120e9,170e9,args=(T))[0]\n",
      "    return np.vectorize(_Q)(T)"
     ],
     "language": "python",
     "metadata": {},
     "outputs": [],
     "prompt_number": 10
    },
    {
     "cell_type": "code",
     "collapsed": false,
     "input": [
      "Delta = kid_eqns.kBeV*1.74*1.46\n"
     ],
     "language": "python",
     "metadata": {},
     "outputs": [
      {
       "ename": "NameError",
       "evalue": "name 'kid_eqns' is not defined",
       "output_type": "pyerr",
       "traceback": [
        "\u001b[1;31m---------------------------------------------------------------------------\u001b[0m\n\u001b[1;31mNameError\u001b[0m                                 Traceback (most recent call last)",
        "\u001b[1;32m<ipython-input-11-670bd6fa52c3>\u001b[0m in \u001b[0;36m<module>\u001b[1;34m()\u001b[0m\n\u001b[1;32m----> 1\u001b[1;33m \u001b[0mDelta\u001b[0m \u001b[1;33m=\u001b[0m \u001b[0mkid_eqns\u001b[0m\u001b[1;33m.\u001b[0m\u001b[0mkBeV\u001b[0m\u001b[1;33m*\u001b[0m\u001b[1;36m1.74\u001b[0m\u001b[1;33m*\u001b[0m\u001b[1;36m1.46\u001b[0m\u001b[1;33m\u001b[0m\u001b[0m\n\u001b[0m",
        "\u001b[1;31mNameError\u001b[0m: name 'kid_eqns' is not defined"
       ]
      }
     ],
     "prompt_number": 11
    },
    {
     "cell_type": "code",
     "collapsed": false,
     "input": [
      "Delta_eV = 6.24e18/Delta"
     ],
     "language": "python",
     "metadata": {},
     "outputs": [
      {
       "ename": "NameError",
       "evalue": "name 'Delta' is not defined",
       "output_type": "pyerr",
       "traceback": [
        "\u001b[1;31m---------------------------------------------------------------------------\u001b[0m\n\u001b[1;31mNameError\u001b[0m                                 Traceback (most recent call last)",
        "\u001b[1;32m<ipython-input-12-d5a9cf2bd4db>\u001b[0m in \u001b[0;36m<module>\u001b[1;34m()\u001b[0m\n\u001b[1;32m----> 1\u001b[1;33m \u001b[0mDelta_eV\u001b[0m \u001b[1;33m=\u001b[0m \u001b[1;36m6.24e18\u001b[0m\u001b[1;33m/\u001b[0m\u001b[0mDelta\u001b[0m\u001b[1;33m\u001b[0m\u001b[0m\n\u001b[0m",
        "\u001b[1;31mNameError\u001b[0m: name 'Delta' is not defined"
       ]
      }
     ],
     "prompt_number": 12
    },
    {
     "cell_type": "code",
     "collapsed": false,
     "input": [
      "Delta_eV, 150e9*6.24e-34"
     ],
     "language": "python",
     "metadata": {},
     "outputs": [
      {
       "ename": "NameError",
       "evalue": "name 'Delta_eV' is not defined",
       "output_type": "pyerr",
       "traceback": [
        "\u001b[1;31m---------------------------------------------------------------------------\u001b[0m\n\u001b[1;31mNameError\u001b[0m                                 Traceback (most recent call last)",
        "\u001b[1;32m<ipython-input-13-2ea6e3e332ec>\u001b[0m in \u001b[0;36m<module>\u001b[1;34m()\u001b[0m\n\u001b[1;32m----> 1\u001b[1;33m \u001b[0mDelta_eV\u001b[0m\u001b[1;33m,\u001b[0m \u001b[1;36m150e9\u001b[0m\u001b[1;33m*\u001b[0m\u001b[1;36m6.24e-34\u001b[0m\u001b[1;33m\u001b[0m\u001b[0m\n\u001b[0m",
        "\u001b[1;31mNameError\u001b[0m: name 'Delta_eV' is not defined"
       ]
      }
     ],
     "prompt_number": 13
    },
    {
     "cell_type": "code",
     "collapsed": false,
     "input": [
      "def nqp_optical(P,nstar=500,Vum=1800,tau_max=500e-6,nu=150e9):\n",
      "    Gamma = P/(Delta)\n",
      "    nqp = nstar*(np.sqrt(1+2*Gamma*tau_max/(nstar*Vum))-1)\n",
      "    return nqp"
     ],
     "language": "python",
     "metadata": {},
     "outputs": [],
     "prompt_number": 14
    },
    {
     "cell_type": "code",
     "collapsed": false,
     "input": [
      "from kid_readout.analysis import kid_eqns"
     ],
     "language": "python",
     "metadata": {},
     "outputs": [],
     "prompt_number": 56
    },
    {
     "cell_type": "code",
     "collapsed": false,
     "input": [
      "S1,S2 = kid_eqns.s1s2(Tphys=0.2,Tc=1.46,fread=86e6)"
     ],
     "language": "python",
     "metadata": {},
     "outputs": [],
     "prompt_number": 57
    },
    {
     "cell_type": "code",
     "collapsed": false,
     "input": [
      "S1, S2"
     ],
     "language": "python",
     "metadata": {},
     "outputs": [
      {
       "metadata": {},
       "output_type": "pyout",
       "prompt_number": 58,
       "text": [
        "(0.088108479614133262, 3.8306633585100109)"
       ]
      }
     ],
     "prompt_number": 58
    },
    {
     "cell_type": "code",
     "collapsed": false,
     "input": [
      "N0 = 1.72e10\n",
      "def deltaf(nqp,alpha=0.35,S2=3.8):\n",
      "    return alpha*S2*nqp/(4*N0*Delta)"
     ],
     "language": "python",
     "metadata": {},
     "outputs": [],
     "prompt_number": 59
    },
    {
     "cell_type": "code",
     "collapsed": false,
     "input": [
      "def deltafs1(nqp,alpha=0.35,S2=3.8):\n",
      "    return alpha*S1*nqp/(4*N0*Delta)"
     ],
     "language": "python",
     "metadata": {},
     "outputs": [],
     "prompt_number": 60
    },
    {
     "cell_type": "code",
     "collapsed": false,
     "input": [
      "eta_pb = .7\n",
      "eta = .7\n",
      "eta_cross = .3\n",
      "power = (P(T)*eta + Pcross(T)*eta_cross)*eta_pb"
     ],
     "language": "python",
     "metadata": {},
     "outputs": [],
     "prompt_number": 61
    },
    {
     "cell_type": "code",
     "collapsed": false,
     "input": [
      "blah  = (P(4)*eta + Pcross(4)*eta_cross)*eta_pb"
     ],
     "language": "python",
     "metadata": {},
     "outputs": [],
     "prompt_number": 62
    },
    {
     "cell_type": "code",
     "collapsed": false,
     "input": [
      "blah"
     ],
     "language": "python",
     "metadata": {},
     "outputs": [
      {
       "metadata": {},
       "output_type": "pyout",
       "prompt_number": 63,
       "text": [
        "7.1182416526549498e-13"
       ]
      }
     ],
     "prompt_number": 63
    },
    {
     "cell_type": "code",
     "collapsed": false,
     "input": [
      "response = -1e6*deltaf(nqp_optical(power,nstar=400,tau_max=500e-6))\n",
      "#response_nstar100 = -1e6*deltaf(nqp_optical(power,nstar=100,tau_max=400e-6))"
     ],
     "language": "python",
     "metadata": {},
     "outputs": [],
     "prompt_number": 64
    },
    {
     "cell_type": "code",
     "collapsed": false,
     "input": [
      "responses1 = 1e6*deltafs1(nqp_optical(power,nstar=400,tau_max=500e-6))\n",
      "#responses1_nstar100 = 1e6*deltafs1(nqp_optical(power,nstar=100,tau_max=400e-6))"
     ],
     "language": "python",
     "metadata": {},
     "outputs": [],
     "prompt_number": 65
    },
    {
     "cell_type": "code",
     "collapsed": false,
     "input": [
      "fig, ax1 = plt.subplots(figsize = (6.5,5))\n",
      "lns1 = ax1.plot(load_temp, shift, 'o', color = 'g', label = 'frequency shift')\n",
      "ax1.set_xlabel('Load Temperature [K]')\n",
      "ax1.set_ylabel('$\\delta f/f$ Change [ppm]')\n",
      "lns3 = ax1.plot(T,response - max(response), color = 'green', label = 'theoretical frequency shift')\n",
      "ax1.set_ylim(-80,0)\n",
      "#lns5 = ax1.plot(T,response_nstar100 - max(response_nstar100), color = 'green', linestyle = '--', label = 'theoretical $\\delta f/f$, $n^{*}=100$')\n",
      "\n",
      "ax2 = ax1.twinx()\n",
      "lns2 = ax2.plot(load_temp, 1e6/dd.Q_i,'*', color = 'red', label = '$Q_i$')\n",
      "ax2.set_ylabel('$10^{6}/Q_i$')\n",
      "ax2.set_ylim(0,6)\n",
      "lns4 = ax2.plot(T, (responses1 - min(responses1) + min(1e6/dd.Q_i)), color = 'red', label = 'theoretical $Q_i$ shift')\n",
      "#lns6 = ax2.plot(T, (responses1_nstar100 - min(responses1_nstar100) + min(1e6/dd.Q_i)), color = 'red', linestyle = '--', label = 'theoretical $\\delta Q_i$,$n^{*}=100$')\n",
      "\n",
      "lns = lns1 + lns2 + lns3 + lns4 \n",
      "labs = [l.get_label() for l in lns]\n",
      "ax1.legend(lns, labs, loc='lower center',prop={'size':10}, ncol = 2)\n",
      "ax1.set_xlim(3.5,6)\n",
      "subplots_adjust(bottom = .15) \n",
      "tight_layout()\n",
      "savefig('response.pdf')\n",
      "plt.show()\n",
      "\n",
      "print load_temp\n",
      "\n",
      "#look for range in omids thesis \n"
     ],
     "language": "python",
     "metadata": {},
     "outputs": [
      {
       "metadata": {},
       "output_type": "display_data",
       "png": "[encoded data removed]",
       "text": [
        "<matplotlib.figure.Figure at 0x4e6cad0>"
       ]
      },
      {
       "output_type": "stream",
       "stream": "stdout",
       "text": [
        "2       4.656000\n",
        "162     5.119873\n",
        "322     4.016000\n",
        "482     4.100000\n",
        "642     4.016000\n",
        "802     4.329000\n",
        "962     4.017000\n",
        "1122    4.202000\n",
        "1282    4.003000\n",
        "1442    4.079000\n",
        "1602    4.182000\n",
        "1762    4.311000\n",
        "1922    4.472000\n",
        "2082    4.666000\n",
        "2242    3.995000\n",
        "2402    5.630000\n",
        "8262    4.011000\n",
        "Name: sweep_primary_load_temperature, dtype: float64\n"
       ]
      }
     ],
     "prompt_number": 66
    },
    {
     "cell_type": "code",
     "collapsed": false,
     "input": [
      "fig, ax1 = plt.subplots(figsize = (5,4))\n",
      "lns1 = ax1.plot(load_temp, shift, 'o', color = 'g', label = 'frequency shift')\n",
      "ax1.set_xlabel('Load Temperature [K]')\n",
      "ax1.set_ylabel('$\\delta f/f$ Change [ppm]')\n",
      "lns3 = ax1.plot(T,response - max(response), color = 'green', label = 'theoretical frequency shift')\n",
      "ax1.set_ylim(-80,0)\n",
      "#lns5 = ax1.plot(T,response_nstar100 - max(response_nstar100), color = 'green', linestyle = '--', label = 'theoretical $\\delta f/f$, $n^{*}=100$')\n",
      "\n",
      "#ax2 = ax1.twinx()\n",
      "#lns2 = ax2.plot(load_temp, 1e6/dd.Q_i,'*', color = 'red', label = '$Q_i$')\n",
      "#ax2.set_ylabel('$10^{6}/Q_i$')\n",
      "#ax2.set_ylim(0,6)\n",
      "#lns4 = ax2.plot(T, (responses1 - min(responses1) + min(1e6/dd.Q_i)), color = 'red', label = 'theoretical $Q_i$ shift')\n",
      "#lns6 = ax2.plot(T, (responses1_nstar100 - min(responses1_nstar100) + min(1e6/dd.Q_i)), color = 'red', linestyle = '--', label = 'theoretical $\\delta Q_i$,$n^{*}=100$')\n",
      "\n",
      "lns = lns1 + lns3 \n",
      "labs = [l.get_label() for l in lns]\n",
      "ax1.legend(lns, labs, loc='lower left',prop={'size':11})\n",
      "ax1.set_xlim(3.5,6)\n",
      "subplots_adjust(bottom = .15) \n",
      "tight_layout()\n",
      "savefig('response.pdf')\n",
      "plt.show()"
     ],
     "language": "python",
     "metadata": {},
     "outputs": [
      {
       "metadata": {},
       "output_type": "display_data",
       "png": "[encoded data removed]",
       "text": [
        "<matplotlib.figure.Figure at 0x60ff350>"
       ]
      }
     ],
     "prompt_number": 30
    },
    {
     "cell_type": "code",
     "collapsed": false,
     "input": [
      "S2"
     ],
     "language": "python",
     "metadata": {},
     "outputs": [
      {
       "metadata": {},
       "output_type": "pyout",
       "prompt_number": 31,
       "text": [
        "3.8306633585100109"
       ]
      }
     ],
     "prompt_number": 31
    },
    {
     "cell_type": "code",
     "collapsed": false,
     "input": [
      "Delta"
     ],
     "language": "python",
     "metadata": {},
     "outputs": [
      {
       "metadata": {},
       "output_type": "pyout",
       "prompt_number": 32,
       "text": [
        "0.00021893902996254682"
       ]
      }
     ],
     "prompt_number": 32
    },
    {
     "cell_type": "code",
     "collapsed": false,
     "input": [],
     "language": "python",
     "metadata": {},
     "outputs": []
    }
   ],
   "metadata": {}
  }
 ]
}