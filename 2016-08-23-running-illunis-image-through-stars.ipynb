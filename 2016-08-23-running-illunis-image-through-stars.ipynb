{
 "cells": [
  {
   "cell_type": "code",
   "execution_count": 1,
   "metadata": {
    "collapsed": false
   },
   "outputs": [
    {
     "name": "stdout",
     "output_type": "stream",
     "text": [
      "Populating the interactive namespace from numpy and matplotlib\n"
     ]
    }
   ],
   "source": [
    "%pylab inline"
   ]
  },
  {
   "cell_type": "code",
   "execution_count": 2,
   "metadata": {
    "collapsed": false
   },
   "outputs": [
    {
     "ename": "ImportError",
     "evalue": "No module named pyfits",
     "output_type": "error",
     "traceback": [
      "\u001b[1;31m---------------------------------------------------------------------------\u001b[0m",
      "\u001b[1;31mImportError\u001b[0m                               Traceback (most recent call last)",
      "\u001b[1;32m<ipython-input-2-789e3b4b62f3>\u001b[0m in \u001b[0;36m<module>\u001b[1;34m()\u001b[0m\n\u001b[1;32m----> 1\u001b[1;33m \u001b[1;32mimport\u001b[0m \u001b[0mpyfits\u001b[0m\u001b[1;33m\u001b[0m\u001b[0m\n\u001b[0m",
      "\u001b[1;31mImportError\u001b[0m: No module named pyfits"
     ]
    }
   ],
   "source": [
    "import pyfits"
   ]
  },
  {
   "cell_type": "code",
   "execution_count": 4,
   "metadata": {
    "collapsed": false
   },
   "outputs": [],
   "source": [
    "import astropy.io.fits"
   ]
  },
  {
   "cell_type": "code",
   "execution_count": 5,
   "metadata": {
    "collapsed": true
   },
   "outputs": [],
   "source": [
    "im = np.load('/home/pmcroot/data1/2016-08-20_50mm_star_focus_test_650ms/2016-08-20_211254_focus_step_0008.npz')['image']"
   ]
  },
  {
   "cell_type": "code",
   "execution_count": 6,
   "metadata": {
    "collapsed": false
   },
   "outputs": [
    {
     "data": {
      "text/plain": [
       "(3232, 4864)"
      ]
     },
     "execution_count": 6,
     "metadata": {},
     "output_type": "execute_result"
    }
   ],
   "source": [
    "im.shape"
   ]
  },
  {
   "cell_type": "code",
   "execution_count": 8,
   "metadata": {
    "collapsed": true
   },
   "outputs": [],
   "source": [
    "header  = astropy.io.fits.Header()"
   ]
  },
  {
   "cell_type": "code",
   "execution_count": null,
   "metadata": {
    "collapsed": true
   },
   "outputs": [],
   "source": []
  },
  {
   "cell_type": "code",
   "execution_count": null,
   "metadata": {
    "collapsed": true
   },
   "outputs": [],
   "source": [
    "header['FOCUS']"
   ]
  },
  {
   "cell_type": "code",
   "execution_count": 9,
   "metadata": {
    "collapsed": true
   },
   "outputs": [],
   "source": [
    "hdu = astropy.io.fits.PrimaryHDU(im)"
   ]
  },
  {
   "cell_type": "code",
   "execution_count": 11,
   "metadata": {
    "collapsed": false
   },
   "outputs": [],
   "source": [
    "hdu.writeto('/home/gjones/illunis.fits')"
   ]
  },
  {
   "cell_type": "code",
   "execution_count": 12,
   "metadata": {
    "collapsed": true
   },
   "outputs": [],
   "source": [
    "lines = \"\"\"    21.080 solv - finder: found blob with id 0 pos 1368.50 -525.50 flux 78861.13 saturated 0\n",
    "    21.080 solv - finder: found blob with id 1 pos 794.50 -456.50 flux 57906.56 saturated 0\n",
    "    21.081 solv - finder: found blob with id 2 pos 89.50 99.50 flux 24964.53 saturated 0\n",
    "    21.081 solv - finder: found blob with id 3 pos 1189.50 -1107.50 flux 29958.59 saturated 0\n",
    "    21.081 solv - finder: found blob with id 4 pos -1172.50 948.50 flux 21900.09 saturated 0\n",
    "    21.081 solv - finder: found blob with id 5 pos 660.50 -32.50 flux 26652.92 saturated 0\n",
    "    21.081 solv - finder: found blob with id 6 pos -834.50 873.50 flux 13748.92 saturated 0\n",
    "    21.081 solv - finder: found blob with id 7 pos 1170.50 -439.50 flux 12135.81 saturated 0\n",
    "    21.081 solv - finder: found blob with id 8 pos -943.50 1145.50 flux 8099.22 saturated 0\n",
    "    21.081 solv - finder: found blob with id 9 pos -840.50 -440.50 flux 8259.22 saturated 0\n",
    "    21.081 solv - finder: found blob with id 10 pos -1004.50 1482.50 flux 7830.82 saturated 0\n",
    "    21.081 solv - finder: found blob with id 11 pos 1002.50 -402.50 flux 6823.47 saturated 0\n",
    "    21.081 solv - finder: found blob with id 12 pos 648.50 -869.50 flux 7904.37 saturated 0\n",
    "    21.081 solv - finder: found blob with id 13 pos -190.50 -486.50 flux 7465.49 saturated 0\n",
    "    21.081 solv - finder: found blob with id 14 pos 969.50 -387.50 flux 8136.80 saturated 0\n",
    "    21.082 solv - finder: found blob with id 15 pos -363.50 81.50 flux 65592.00 saturated 0\n",
    "    21.082 solv - finder: found blob with id 16 pos 1703.50 -483.50 flux 5796.03 saturated 0\n",
    "    21.082 solv - finder: found blob with id 17 pos -539.50 42.50 flux 159273.94 saturated 0\n",
    "    21.082 solv - finder: found blob with id 18 pos -539.50 -778.50 flux 5637.83 saturated 0\n",
    "    21.082 solv - finder: found blob with id 19 pos 1436.50 -1315.50 flux 5280.03 saturated 0\n",
    "    21.082 solv - finder: found blob with id 20 pos -997.50 1159.50 flux 4696.84 saturated 0\n",
    "    21.082 solv - finder: found blob with id 21 pos -794.50 332.50 flux 73665.93 saturated 0\n",
    "    21.082 solv - finder: found blob with id 22 pos -1265.50 202.50 flux 3486.85 saturated 0\n",
    "    21.082 solv - finder: found blob with id 23 pos -94.50 -233.50 flux 4079.10 saturated 0\n",
    "    21.082 solv - finder: found blob with id 24 pos -682.50 -341.50 flux 5791.50 saturated 0\n",
    "    21.082 solv - finder: found blob with id 25 pos 920.50 0.50 flux 5616.22 saturated 0\n",
    "    21.082 solv - finder: found blob with id 26 pos 1329.50 30.50 flux 4256.03 saturated 0\n",
    "    21.082 solv - finder: found blob with id 27 pos 982.50 -2.50 flux 5453.65 saturated 0\n",
    "    21.083 solv - finder: found blob with id 28 pos 2333.50 -114.50 flux 4333.16 saturated 0\n",
    "    21.083 solv - finder: found blob with id 29 pos -555.50 231.50 flux 67404.60 saturated 0\n",
    "    21.083 solv - finder: found blob with id 30 pos -303.50 36.50 flux 42545.33 saturated 0\n",
    "    21.083 solv - finder: found blob with id 31 pos -1401.50 -417.50 flux 4498.08 saturated 0\n",
    "    21.083 solv - finder: found blob with id 32 pos 1638.50 750.50 flux 25314.34 saturated 0\n",
    "    21.083 solv - finder: found blob with id 33 pos 161.50 -1299.50 flux 4386.95 saturated 0\n",
    "    21.083 solv - finder: found blob with id 34 pos -14.50 1065.50 flux 7128.16 saturated 0\n",
    "    21.083 solv - finder: found blob with id 35 pos 979.50 187.50 flux 3888.22 saturated 0\n",
    "    21.083 solv - finder: found blob with id 36 pos 651.50 685.50 flux 5072.09 saturated 0\n",
    "    21.083 solv - finder: found blob with id 37 pos -322.50 70.50 flux 12749.14 saturated 0\n",
    "    21.083 solv - finder: found blob with id 38 pos -1251.50 -361.50 flux 24336.20 saturated 0\n",
    "    21.083 solv - finder: found blob with id 39 pos -665.50 200.50 flux 4008.90 saturated 0\n",
    "    21.083 solv - finder: found blob with id 40 pos -1983.50 -1253.50 flux 2874.82 saturated 0\n",
    "    21.084 solv - finder: found blob with id 41 pos 900.50 329.50 flux 25488.58 saturated 0\n",
    "    21.084 solv - finder: found blob with id 42 pos -385.50 105.50 flux 6861.80 saturated 0\n",
    "    21.084 solv - finder: found blob with id 43 pos -15.50 1359.50 flux 4483.94 saturated 0\n",
    "    21.084 solv - finder: found blob with id 44 pos 1598.50 351.50 flux 31716.43 saturated 0\n",
    "    21.084 solv - finder: found blob with id 45 pos -9.50 1082.50 flux 3060.59 saturated 0\n",
    "    21.084 solv - finder: found blob with id 46 pos -5.50 1035.50 flux 6969.57 saturated 0\n",
    "    21.084 solv - finder: found blob with id 47 pos 1526.50 819.50 flux 7112.37 saturated 0\n",
    "    21.084 solv - finder: found blob with id 48 pos 1220.50 -300.50 flux 3621.27 saturated 0\n",
    "    21.084 solv - finder: found blob with id 49 pos 164.50 439.50 flux 4639.29 saturated 0\n",
    "    21.084 solv - finder: found blob with id 50 pos -679.50 -654.50 flux 2677.92 saturated 0\n",
    "    21.084 solv - finder: found blob with id 51 pos 33.50 1313.50 flux 4941.98 saturated 0\n",
    "    21.084 solv - finder: found blob with id 52 pos 214.50 416.50 flux 5144.71 saturated 0\n",
    "    21.084 solv - finder: found blob with id 53 pos 1045.50 -917.50 flux 4163.38 saturated 0\n",
    "    21.085 solv - finder: found blob with id 54 pos 84.50 905.50 flux 6453.46 saturated 0\n",
    "    21.085 solv - finder: found blob with id 55 pos 1771.50 226.50 flux 14216.41 saturated 0\n",
    "    21.085 solv - finder: found blob with id 56 pos -1839.50 -905.50 flux 3550.39 saturated 0\n",
    "    21.085 solv - finder: found blob with id 57 pos 1792.50 602.50 flux 5559.00 saturated 0\n",
    "    21.085 solv - finder: found blob with id 58 pos -679.50 216.50 flux 3290.76 saturated 0\n",
    "    21.085 solv - finder: found blob with id 59 pos -1352.50 1602.50 flux 37500.53 saturated 0\n",
    "    21.085 solv - finder: found blob with id 60 pos 2316.50 -1078.50 flux 3290.42 saturated 0\n",
    "    21.085 solv - finder: found blob with id 61 pos -1923.50 -885.50 flux 4005.86 saturated 0\n",
    "    21.085 solv - finder: found blob with id 62 pos -1559.50 365.50 flux 2158.33 saturated 0\n",
    "    21.085 solv - finder: found blob with id 63 pos 583.50 -78.50 flux 2659.13 saturated 0\n",
    "    21.085 solv - finder: found blob with id 64 pos 131.50 904.50 flux 2856.09 saturated 0\n",
    "    21.085 solv - finder: found blob with id 65 pos -85.50 1420.50 flux 3061.80 saturated 0\n",
    "    21.085 solv - finder: found blob with id 66 pos -802.50 -1068.50 flux 2824.66 saturated 0\n",
    "    21.086 solv - finder: found blob with id 67 pos -1222.50 808.50 flux 2045.05 saturated 0\n",
    "    21.086 solv - finder: found blob with id 68 pos -428.50 79.50 flux 6089.16 saturated 0\n",
    "    21.086 solv - finder: found blob with id 69 pos -1962.50 1594.50 flux 3321.88 saturated 0\n",
    "    21.086 solv - finder: found blob with id 70 pos 1368.50 195.50 flux 3208.47 saturated 0\n",
    "    21.086 solv - finder: found blob with id 71 pos -1727.50 -137.50 flux 2766.86 saturated 0\n",
    "    21.086 solv - finder: found blob with id 72 pos 2350.50 -8.50 flux 2451.26 saturated 0\n",
    "    21.086 solv - finder: found blob with id 73 pos 793.50 251.50 flux 3738.33 saturated 0\n",
    "    21.086 solv - finder: found blob with id 74 pos -2420.50 -376.50 flux 2797.69 saturated 0\n",
    "    21.086 solv - finder: found blob with id 75 pos 377.50 -543.50 flux 4666.49 saturated 0\n",
    "    21.086 solv - finder: found blob with id 76 pos -863.50 200.50 flux 2170.42 saturated 0\n",
    "    21.086 solv - finder: found blob with id 77 pos 23.50 230.50 flux 3580.19 saturated 0\n",
    "    21.086 solv - finder: found blob with id 78 pos -2321.50 -645.50 flux 3090.42 saturated 0\n",
    "    21.086 solv - finder: found blob with id 79 pos 718.50 506.50 flux 2735.38 saturated 0\n",
    "    21.087 solv - finder: found blob with id 80 pos -180.50 -912.50 flux 2538.42 saturated 0\n",
    "    21.087 solv - finder: found blob with id 81 pos 1785.50 614.50 flux 3410.91 saturated 0\n",
    "    21.087 solv - finder: found blob with id 82 pos -2192.50 -884.50 flux 2631.91 saturated 0\n",
    "    21.087 solv - finder: found blob with id 83 pos 281.50 -770.50 flux 2147.49 saturated 0\n",
    "    21.087 solv - finder: found blob with id 84 pos 1055.50 -416.50 flux 3876.31 saturated 0\n",
    "    21.087 solv - finder: found blob with id 85 pos 282.50 468.50 flux 4549.67 saturated 0\n",
    "    21.087 solv - finder: found blob with id 86 pos -1546.50 -1382.50 flux 1898.67 saturated 0\n",
    "    21.087 solv - finder: found blob with id 87 pos 0.50 509.50 flux 5664.39 saturated 0\n",
    "    21.087 solv - finder: found blob with id 88 pos 644.50 -1600.50 flux 2171.44 saturated 0\n",
    "    21.088 solv - finder: found blob with id 89 pos -235.50 -886.50 flux 2553.55 saturated 0\n",
    "    21.088 solv - finder: found blob with id 90 pos -1218.50 958.50 flux 2484.47 saturated 0\n",
    "    21.088 solv - finder: found blob with id 91 pos 1232.50 -1436.50 flux 2744.22 saturated 0\n",
    "    21.088 solv - finder: found blob with id 92 pos -732.50 -1450.50 flux 2702.26 saturated 0\n",
    "    21.088 solv - finder: found blob with id 93 pos -670.50 461.50 flux 2436.62 saturated 0\n",
    "    21.088 solv - finder: found blob with id 94 pos 1259.50 -556.50 flux 2528.59 saturated 0\n",
    "    21.088 solv - finder: found blob with id 95 pos -2382.50 -1246.50 flux 2405.71 saturated 0\n",
    "    21.088 solv - finder: found blob with id 96 pos 1428.50 825.50 flux 2013.52 saturated 0\n",
    "    21.088 solv - finder: found blob with id 97 pos -243.50 -624.50 flux 1867.22 saturated 0\n",
    "    21.088 solv - finder: found blob with id 98 pos -1224.50 -15.50 flux 2624.12 saturated 0\n",
    "    21.088 solv - finder: found blob with id 99 pos -2092.50 956.50 flux 2265.05 saturated 0\n",
    "\"\"\""
   ]
  },
  {
   "cell_type": "code",
   "execution_count": 18,
   "metadata": {
    "collapsed": false
   },
   "outputs": [
    {
     "name": "stdout",
     "output_type": "stream",
     "text": [
      "1368.50 -525.50\n",
      "794.50 -456.50\n",
      "89.50 99.50\n",
      "1189.50 -1107.50\n",
      "-1172.50 948.50\n",
      "660.50 -32.50\n",
      "-834.50 873.50\n",
      "1170.50 -439.50\n",
      "-943.50 1145.50\n",
      "-840.50 -440.50\n",
      "-1004.50 1482.50\n",
      "1002.50 -402.50\n",
      "648.50 -869.50\n",
      "-190.50 -486.50\n",
      "969.50 -387.50\n",
      "-363.50 81.50\n",
      "1703.50 -483.50\n",
      "-539.50 42.50\n",
      "-539.50 -778.50\n",
      "1436.50 -1315.50\n",
      "-997.50 1159.50\n",
      "-794.50 332.50\n",
      "-1265.50 202.50\n",
      "-94.50 -233.50\n",
      "-682.50 -341.50\n",
      "920.50 0.50\n",
      "1329.50 30.50\n",
      "982.50 -2.50\n",
      "2333.50 -114.50\n",
      "-555.50 231.50\n",
      "-303.50 36.50\n",
      "-1401.50 -417.50\n",
      "1638.50 750.50\n",
      "161.50 -1299.50\n",
      "-14.50 1065.50\n",
      "979.50 187.50\n",
      "651.50 685.50\n",
      "-322.50 70.50\n",
      "-1251.50 -361.50\n",
      "-665.50 200.50\n",
      "-1983.50 -1253.50\n",
      "900.50 329.50\n",
      "-385.50 105.50\n",
      "-15.50 1359.50\n",
      "1598.50 351.50\n",
      "-9.50 1082.50\n",
      "-5.50 1035.50\n",
      "1526.50 819.50\n",
      "1220.50 -300.50\n",
      "164.50 439.50\n",
      "-679.50 -654.50\n",
      "33.50 1313.50\n",
      "214.50 416.50\n",
      "1045.50 -917.50\n",
      "84.50 905.50\n",
      "1771.50 226.50\n",
      "-1839.50 -905.50\n",
      "1792.50 602.50\n",
      "-679.50 216.50\n",
      "-1352.50 1602.50\n",
      "2316.50 -1078.50\n",
      "-1923.50 -885.50\n",
      "-1559.50 365.50\n",
      "583.50 -78.50\n",
      "131.50 904.50\n",
      "-85.50 1420.50\n",
      "-802.50 -1068.50\n",
      "-1222.50 808.50\n",
      "-428.50 79.50\n",
      "-1962.50 1594.50\n",
      "1368.50 195.50\n",
      "-1727.50 -137.50\n",
      "2350.50 -8.50\n",
      "793.50 251.50\n",
      "-2420.50 -376.50\n",
      "377.50 -543.50\n",
      "-863.50 200.50\n",
      "23.50 230.50\n",
      "-2321.50 -645.50\n",
      "718.50 506.50\n",
      "-180.50 -912.50\n",
      "1785.50 614.50\n",
      "-2192.50 -884.50\n",
      "281.50 -770.50\n",
      "1055.50 -416.50\n",
      "282.50 468.50\n",
      "-1546.50 -1382.50\n",
      "0.50 509.50\n",
      "644.50 -1600.50\n",
      "-235.50 -886.50\n",
      "-1218.50 958.50\n",
      "1232.50 -1436.50\n",
      "-732.50 -1450.50\n",
      "-670.50 461.50\n",
      "1259.50 -556.50\n",
      "-2382.50 -1246.50\n",
      "1428.50 825.50\n",
      "-243.50 -624.50\n",
      "-1224.50 -15.50\n",
      "-2092.50 956.50\n"
     ]
    }
   ],
   "source": [
    "for line in lines.splitlines():\n",
    "    print ' '.join([(x) for x in line.split('pos')[1].split('flux')[0].split()])"
   ]
  },
  {
   "cell_type": "code",
   "execution_count": null,
   "metadata": {
    "collapsed": true
   },
   "outputs": [],
   "source": []
  }
 ],
 "metadata": {
  "kernelspec": {
   "display_name": "Python 2",
   "language": "python",
   "name": "python2"
  },
  "language_info": {
   "codemirror_mode": {
    "name": "ipython",
    "version": 2
   },
   "file_extension": ".py",
   "mimetype": "text/x-python",
   "name": "python",
   "nbconvert_exporter": "python",
   "pygments_lexer": "ipython2",
   "version": "2.7.12"
  }
 },
 "nbformat": 4,
 "nbformat_minor": 0
}
