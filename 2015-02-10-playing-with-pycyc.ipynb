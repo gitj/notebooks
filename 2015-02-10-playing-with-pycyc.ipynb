{
 "metadata": {
  "name": "",
  "signature": "sha256:d8e4a06dcb867780d5516a8caed367050a6a34184060c987b94900afc32fe37a"
 },
 "nbformat": 3,
 "nbformat_minor": 0,
 "worksheets": [
  {
   "cells": [
    {
     "cell_type": "code",
     "collapsed": false,
     "input": [
      "import sys"
     ],
     "language": "python",
     "metadata": {},
     "outputs": [],
     "prompt_number": 1
    },
    {
     "cell_type": "code",
     "collapsed": false,
     "input": [
      "sys.path.append('/Users/gjones/pycyc/')"
     ],
     "language": "python",
     "metadata": {},
     "outputs": [],
     "prompt_number": 2
    },
    {
     "cell_type": "code",
     "collapsed": false,
     "input": [
      "import simcyc"
     ],
     "language": "python",
     "metadata": {},
     "outputs": [
      {
       "output_type": "stream",
       "stream": "stdout",
       "text": [
        "pycyc.py: psrchive python libraries not found. You will not be able to load psrchive files.\n",
        "pycyc.py: psrchive python libraries not found. You will not be able to load psrchive files."
       ]
      },
      {
       "output_type": "stream",
       "stream": "stdout",
       "text": [
        "\n"
       ]
      }
     ],
     "prompt_number": 3
    },
    {
     "cell_type": "code",
     "collapsed": false,
     "input": [
      "t = np.linspace(0,128,2048)\n",
      "ht = np.exp(-(t-64)/6.)\n",
      "ht[t<64]=0\n",
      "ht = ht.astype('complex')"
     ],
     "language": "python",
     "metadata": {},
     "outputs": [],
     "prompt_number": 4
    },
    {
     "cell_type": "code",
     "collapsed": false,
     "input": [
      "plot(ht)"
     ],
     "language": "python",
     "metadata": {},
     "outputs": [
      {
       "output_type": "stream",
       "stream": "stderr",
       "text": [
        "C:\\Users\\gjones\\WinPython-64bit-2.7.6.4\\python-2.7.6.amd64\\lib\\site-packages\\numpy\\core\\numeric.py:460: ComplexWarning: Casting complex values to real discards the imaginary part\n",
        "  return array(a, dtype, copy=False, order=order)\n"
       ]
      },
      {
       "metadata": {},
       "output_type": "pyout",
       "prompt_number": 5,
       "text": [
        "[<matplotlib.lines.Line2D at 0x9fc6588>]"
       ]
      },
      {
       "metadata": {},
       "output_type": "display_data",
       "png": "[encoded data removed]",
       "text": [
        "<matplotlib.figure.Figure at 0x9de4630>"
       ]
      }
     ],
     "prompt_number": 5
    },
    {
     "cell_type": "code",
     "collapsed": false,
     "input": [
      "prof = simcyc.makeProfile(10,128)"
     ],
     "language": "python",
     "metadata": {},
     "outputs": [],
     "prompt_number": 6
    },
    {
     "cell_type": "code",
     "collapsed": false,
     "input": [
      "plot(prof)"
     ],
     "language": "python",
     "metadata": {},
     "outputs": [
      {
       "metadata": {},
       "output_type": "pyout",
       "prompt_number": 7,
       "text": [
        "[<matplotlib.lines.Line2D at 0xa0fca90>]"
       ]
      },
      {
       "metadata": {},
       "output_type": "display_data",
       "png": "[encoded data removed]",
       "text": [
        "<matplotlib.figure.Figure at 0x9de4668>"
       ]
      }
     ],
     "prompt_number": 7
    },
    {
     "cell_type": "code",
     "collapsed": false,
     "input": [
      "cs = simcyc.initSim(ht,prof=prof,ref_freq=1/1.5e-3,bw=1/t[1])"
     ],
     "language": "python",
     "metadata": {},
     "outputs": [],
     "prompt_number": 8
    },
    {
     "cell_type": "code",
     "collapsed": false,
     "input": [
      "cs.bw"
     ],
     "language": "python",
     "metadata": {},
     "outputs": [
      {
       "metadata": {},
       "output_type": "pyout",
       "prompt_number": 9,
       "text": [
        "15.9921875"
       ]
      }
     ],
     "prompt_number": 9
    },
    {
     "cell_type": "code",
     "collapsed": false,
     "input": [
      "cs.filename"
     ],
     "language": "python",
     "metadata": {},
     "outputs": [
      {
       "metadata": {},
       "output_type": "pyout",
       "prompt_number": 10,
       "text": [
        "'simfake_16.0MHz_1.5ms'"
       ]
      }
     ],
     "prompt_number": 10
    },
    {
     "cell_type": "code",
     "collapsed": false,
     "input": [
      "cs.initProfile()"
     ],
     "language": "python",
     "metadata": {},
     "outputs": [
      {
       "output_type": "stream",
       "stream": "stderr",
       "text": [
        "C:\\Users\\gjones\\WinPython-64bit-2.7.6.4\\python-2.7.6.amd64\\lib\\site-packages\\numpy\\fft\\fftpack.py:325: ComplexWarning: Casting complex values to real discards the imaginary part\n",
        "  a = asarray(a).astype(float)\n"
       ]
      }
     ],
     "prompt_number": 11
    },
    {
     "cell_type": "code",
     "collapsed": false,
     "input": [
      "cs.pp_meas = cs.pp_ref.copy()"
     ],
     "language": "python",
     "metadata": {},
     "outputs": [],
     "prompt_number": 12
    },
    {
     "cell_type": "code",
     "collapsed": false,
     "input": [
      "cs.s0 = cs.ph_ref.copy()"
     ],
     "language": "python",
     "metadata": {},
     "outputs": [],
     "prompt_number": 13
    },
    {
     "cell_type": "code",
     "collapsed": false,
     "input": [
      "cs.ph_ref[0]"
     ],
     "language": "python",
     "metadata": {},
     "outputs": [
      {
       "metadata": {},
       "output_type": "pyout",
       "prompt_number": 14,
       "text": [
        "0j"
       ]
      }
     ],
     "prompt_number": 14
    },
    {
     "cell_type": "code",
     "collapsed": false,
     "input": [
      "cs.plotdir='/Users/gjones/cycplots/'"
     ],
     "language": "python",
     "metadata": {},
     "outputs": [],
     "prompt_number": 15
    },
    {
     "cell_type": "code",
     "collapsed": false,
     "input": [
      "cs.loop(make_plots=True,plotdir=(cs.plotdir+'iterations'),plot_every=10 )"
     ],
     "language": "python",
     "metadata": {},
     "outputs": [
      {
       "output_type": "stream",
       "stream": "stdout",
       "text": [
        "initial filter: delta function at delay = 0\n",
        "onp not specified, so not using minimum phase\n",
        "max filter index = 0\n",
        "variance : 4.92085e-07\n",
        "nsamp    : 2.61748e+05\n",
        "dof      : 2.57525e+05\n",
        "min obj  : 1.26724e-01\n",
        "ftol     : 3.88312e-07\n",
        "scipytol : 1.74915e+09\n",
        "rindex 0\n",
        "merit= 3.9054667e+04  grad= 3.1468695e+03"
       ]
      },
      {
       "output_type": "stream",
       "stream": "stderr",
       "text": [
        "/Users/gjones/pycyc/pycyc.py:497: RuntimeWarning: divide by zero encountered in log10\n",
        "  im = ax1.imshow(np.log10(np.abs(self.cs[:,1:mlag])),aspect='auto',interpolation='nearest',extent=csextent)\n",
        "/Users/gjones/pycyc/pycyc.py:517: RuntimeWarning: divide by zero encountered in log10\n",
        "  im = ax2.imshow(np.log10(np.abs(cs_model[:,1:mlag])),aspect='auto',interpolation='nearest',extent=csextent)\n"
       ]
      },
      {
       "output_type": "stream",
       "stream": "stderr",
       "text": [
        "/Users/gjones/pycyc/pycyc.py:557: RuntimeWarning: divide by zero encountered in divide\n",
        "  im = ax3b.imshow(np.angle((self.cs[:,:mlag]/cs_model[:,:mlag])),cmap=plt.cm.hsv,aspect='auto',interpolation='nearest',extent=csextent)\n",
        "/Users/gjones/pycyc/pycyc.py:557: RuntimeWarning: invalid value encountered in divide\n",
        "  im = ax3b.imshow(np.angle((self.cs[:,:mlag]/cs_model[:,:mlag])),cmap=plt.cm.hsv,aspect='auto',interpolation='nearest',extent=csextent)\n",
        "/Users/gjones/pycyc/pycyc.py:570: RuntimeWarning: divide by zero encountered in log10\n",
        "  ax4.plot(t,np.roll(20*np.log10(np.abs(ht)),(ht.shape[0]/2)-self.rindex))\n"
       ]
      },
      {
       "output_type": "stream",
       "stream": "stdout",
       "text": [
        "\n",
        "rindex"
       ]
      },
      {
       "output_type": "stream",
       "stream": "stdout",
       "text": [
        " 0\n",
        "merit= 3.8998531e+04  grad= 3.1556484e+03"
       ]
      },
      {
       "output_type": "stream",
       "stream": "stdout",
       "text": [
        "\n",
        "rindex 0\n",
        "merit= 3.8773211e+04  grad= 3.1911404e+03"
       ]
      },
      {
       "output_type": "stream",
       "stream": "stdout",
       "text": [
        "\n",
        "rindex 0\n",
        "merit= 3.7859810e+04  grad= 3.3384134e+03"
       ]
      },
      {
       "output_type": "stream",
       "stream": "stdout",
       "text": [
        "\n",
        "rindex 0\n",
        "merit= 3.4033114e+04  grad= 3.9633607e+03"
       ]
      },
      {
       "output_type": "stream",
       "stream": "stdout",
       "text": [
        "\n",
        "rindex 0\n",
        "merit= 1.7894367e+04  grad= 3.9475124e+03"
       ]
      },
      {
       "output_type": "stream",
       "stream": "stdout",
       "text": [
        "\n",
        "rindex 0\n",
        "merit= 2.1810521e+05  grad= 1.3911345e+06"
       ]
      },
      {
       "output_type": "stream",
       "stream": "stdout",
       "text": [
        "\n",
        "rindex 0\n",
        "merit= 9.1744196e+03  grad= 7.1034669e+02"
       ]
      },
      {
       "output_type": "stream",
       "stream": "stdout",
       "text": [
        "\n",
        "rindex 0\n",
        "merit= 2.6133818e+04  grad= 5.4024566e+04"
       ]
      },
      {
       "output_type": "stream",
       "stream": "stdout",
       "text": [
        "\n",
        "rindex 0\n",
        "merit= 6.8802181e+03  grad= 9.5982031e+02"
       ]
      },
      {
       "output_type": "stream",
       "stream": "stdout",
       "text": [
        "\n",
        "rindex 0\n",
        "merit= 4.8054736e+03  grad= 7.0209774e+02"
       ]
      },
      {
       "output_type": "stream",
       "stream": "stdout",
       "text": [
        "\n",
        "rindex"
       ]
      },
      {
       "output_type": "stream",
       "stream": "stdout",
       "text": [
        " 0\n",
        "merit= 2.6939926e+03  grad= 1.0774365e+03"
       ]
      },
      {
       "output_type": "stream",
       "stream": "stdout",
       "text": [
        "\n",
        "rindex 0\n",
        "merit= 2.0073451e+03  grad= 2.3428683e+03"
       ]
      },
      {
       "output_type": "stream",
       "stream": "stdout",
       "text": [
        "\n",
        "rindex 0\n",
        "merit= 7.1881156e+02  grad= 1.0250816e+02"
       ]
      },
      {
       "output_type": "stream",
       "stream": "stdout",
       "text": [
        "\n",
        "rindex 0\n",
        "merit= 5.1144851e+02  grad= 5.5186563e+01"
       ]
      },
      {
       "output_type": "stream",
       "stream": "stdout",
       "text": [
        "\n",
        "rindex 0\n",
        "merit= 1.8407989e+02  grad= 1.6068255e+01"
       ]
      },
      {
       "output_type": "stream",
       "stream": "stdout",
       "text": [
        "\n",
        "rindex 0\n",
        "merit= 1.4398512e+02  grad= 5.6346135e+01"
       ]
      },
      {
       "output_type": "stream",
       "stream": "stdout",
       "text": [
        "\n",
        "rindex 0\n",
        "merit= 8.0678894e+01  grad= 3.8559653e+00"
       ]
      },
      {
       "output_type": "stream",
       "stream": "stdout",
       "text": [
        "\n",
        "rindex 0\n",
        "merit= 6.5103778e+01  grad= 1.6581011e+00"
       ]
      },
      {
       "output_type": "stream",
       "stream": "stdout",
       "text": [
        "\n",
        "rindex 0\n",
        "merit= 5.0746802e+01  grad= 1.6617835e+00"
       ]
      },
      {
       "output_type": "stream",
       "stream": "stdout",
       "text": [
        "\n",
        "rindex 0\n",
        "merit= 5.4830545e+01  grad= 1.9476397e+01"
       ]
      },
      {
       "output_type": "stream",
       "stream": "stdout",
       "text": [
        "\n",
        "rindex"
       ]
      },
      {
       "output_type": "stream",
       "stream": "stdout",
       "text": [
        " 0\n",
        "merit= 4.6221669e+01  grad= 3.1392770e+00"
       ]
      },
      {
       "output_type": "stream",
       "stream": "stdout",
       "text": [
        "\n",
        "rindex 0\n",
        "merit= 4.0350966e+01  grad= 7.7153221e-01"
       ]
      },
      {
       "output_type": "stream",
       "stream": "stdout",
       "text": [
        "\n",
        "rindex 0\n",
        "merit= 3.7006290e+01  grad= 3.3061744e-01"
       ]
      },
      {
       "output_type": "stream",
       "stream": "stdout",
       "text": [
        "\n",
        "rindex 0\n",
        "merit= 3.3848340e+01  grad= 2.8218241e-01"
       ]
      },
      {
       "output_type": "stream",
       "stream": "stdout",
       "text": [
        "\n",
        "rindex 0\n",
        "merit= 3.2493300e+01  grad= 1.8309283e+00"
       ]
      },
      {
       "output_type": "stream",
       "stream": "stdout",
       "text": [
        "\n",
        "rindex 0\n",
        "merit= 2.9962931e+01  grad= 1.8360592e-01"
       ]
      },
      {
       "output_type": "stream",
       "stream": "stdout",
       "text": [
        "\n",
        "rindex 0\n",
        "merit= 2.8843217e+01  grad= 1.2957237e-01"
       ]
      },
      {
       "output_type": "stream",
       "stream": "stdout",
       "text": [
        "\n",
        "rindex 0\n",
        "merit= 2.7410288e+01  grad= 2.0259654e-01"
       ]
      },
      {
       "output_type": "stream",
       "stream": "stdout",
       "text": [
        "\n",
        "rindex 0\n",
        "merit= 2.5931958e+01  grad= 1.6288343e-01"
       ]
      },
      {
       "output_type": "stream",
       "stream": "stdout",
       "text": [
        "\n",
        "rindex 0\n",
        "merit= 2.6501664e+01  grad= 1.2820397e+00"
       ]
      },
      {
       "output_type": "stream",
       "stream": "stdout",
       "text": [
        "\n",
        "rindex"
       ]
      },
      {
       "output_type": "stream",
       "stream": "stdout",
       "text": [
        " 0\n",
        "merit= 2.5375440e+01  grad= 2.2980159e-01"
       ]
      },
      {
       "output_type": "stream",
       "stream": "stdout",
       "text": [
        "\n",
        "rindex 0\n",
        "merit= 2.4682798e+01  grad= 5.8316659e-02"
       ]
      },
      {
       "output_type": "stream",
       "stream": "stdout",
       "text": [
        "\n",
        "rindex 0\n",
        "merit= 2.4326414e+01  grad= 5.1865705e-02"
       ]
      },
      {
       "output_type": "stream",
       "stream": "stdout",
       "text": [
        "\n",
        "rindex 0\n",
        "merit= 2.3722442e+01  grad= 9.5982789e-02"
       ]
      },
      {
       "output_type": "stream",
       "stream": "stdout",
       "text": [
        "\n",
        "rindex 0\n",
        "merit= 2.4111751e+01  grad= 9.5435832e-01"
       ]
      },
      {
       "output_type": "stream",
       "stream": "stdout",
       "text": [
        "\n",
        "rindex 0\n",
        "merit= 2.3546704e+01  grad= 1.1433863e-01"
       ]
      },
      {
       "output_type": "stream",
       "stream": "stdout",
       "text": [
        "\n",
        "rindex 0\n",
        "merit= 2.3318815e+01  grad= 4.0887312e-02"
       ]
      },
      {
       "output_type": "stream",
       "stream": "stdout",
       "text": [
        "\n",
        "rindex 0\n",
        "merit= 2.3102621e+01  grad= 2.4359853e-02"
       ]
      },
      {
       "output_type": "stream",
       "stream": "stdout",
       "text": [
        "\n",
        "rindex 0\n",
        "merit= 2.2877554e+01  grad= 3.6292794e-02"
       ]
      },
      {
       "output_type": "stream",
       "stream": "stdout",
       "text": [
        "\n",
        "rindex 0\n",
        "merit= 2.2626065e+01  grad= 7.3632088e-02"
       ]
      },
      {
       "output_type": "stream",
       "stream": "stdout",
       "text": [
        "\n",
        "rindex"
       ]
      },
      {
       "output_type": "stream",
       "stream": "stdout",
       "text": [
        " 0\n",
        "merit= 2.2412837e+01  grad= 5.1438529e-02"
       ]
      },
      {
       "output_type": "stream",
       "stream": "stdout",
       "text": [
        "\n",
        "rindex 0\n",
        "merit= 2.2257153e+01  grad= 3.6227390e-02"
       ]
      },
      {
       "output_type": "stream",
       "stream": "stdout",
       "text": [
        "\n",
        "rindex 0\n",
        "merit= 2.2106323e+01  grad= 3.3858186e-02"
       ]
      },
      {
       "output_type": "stream",
       "stream": "stdout",
       "text": [
        "\n",
        "rindex 0\n",
        "merit= 2.1995371e+01  grad= 3.3272023e-02"
       ]
      },
      {
       "output_type": "stream",
       "stream": "stdout",
       "text": [
        "\n",
        "rindex 0\n",
        "merit= 2.1783997e+01  grad= 2.0394139e-02"
       ]
      },
      {
       "output_type": "stream",
       "stream": "stdout",
       "text": [
        "\n",
        "rindex 0\n",
        "merit= 2.1816389e+01  grad= 2.3915851e-01"
       ]
      },
      {
       "output_type": "stream",
       "stream": "stdout",
       "text": [
        "\n",
        "rindex 0\n",
        "merit= 2.1708742e+01  grad= 4.8911392e-02"
       ]
      },
      {
       "output_type": "stream",
       "stream": "stdout",
       "text": [
        "\n",
        "rindex 0\n",
        "merit= 2.1602081e+01  grad= 2.2491666e-02"
       ]
      },
      {
       "output_type": "stream",
       "stream": "stdout",
       "text": [
        "\n",
        "rindex 0\n",
        "merit= 2.1465824e+01  grad= 1.9983911e-02"
       ]
      },
      {
       "output_type": "stream",
       "stream": "stdout",
       "text": [
        "\n",
        "rindex 0\n",
        "merit= 2.1298230e+01  grad= 4.0251447e-02"
       ]
      },
      {
       "output_type": "stream",
       "stream": "stdout",
       "text": [
        "\n",
        "rindex"
       ]
      },
      {
       "output_type": "stream",
       "stream": "stdout",
       "text": [
        " 0\n",
        "merit= 2.1109246e+01  grad= 4.6558004e-02"
       ]
      },
      {
       "output_type": "stream",
       "stream": "stdout",
       "text": [
        "\n",
        "rindex 0\n",
        "merit= 2.0968206e+01  grad= 1.6988039e-02"
       ]
      },
      {
       "output_type": "stream",
       "stream": "stdout",
       "text": [
        "\n",
        "rindex 0\n",
        "merit= 2.0859156e+01  grad= 1.4788553e-02"
       ]
      },
      {
       "output_type": "stream",
       "stream": "stdout",
       "text": [
        "\n",
        "rindex 0\n",
        "merit= 2.0737593e+01  grad= 3.1746751e-02"
       ]
      },
      {
       "output_type": "stream",
       "stream": "stdout",
       "text": [
        "\n",
        "rindex 0\n",
        "merit= 2.0576362e+01  grad= 2.8313032e-02"
       ]
      },
      {
       "output_type": "stream",
       "stream": "stdout",
       "text": [
        "\n",
        "rindex 0\n",
        "merit= 2.0428646e+01  grad= 1.4633271e-02"
       ]
      },
      {
       "output_type": "stream",
       "stream": "stdout",
       "text": [
        "\n",
        "rindex 0\n",
        "merit= 2.0294664e+01  grad= 1.9688241e-02"
       ]
      },
      {
       "output_type": "stream",
       "stream": "stdout",
       "text": [
        "\n",
        "rindex 0\n",
        "merit= 2.0232343e+01  grad= 7.1987055e-02"
       ]
      },
      {
       "output_type": "stream",
       "stream": "stdout",
       "text": [
        "\n",
        "rindex 0\n",
        "merit= 2.0137945e+01  grad= 1.9193388e-02"
       ]
      },
      {
       "output_type": "stream",
       "stream": "stdout",
       "text": [
        "\n",
        "rindex 0\n",
        "merit= 2.0051438e+01  grad= 1.4031323e-02"
       ]
      },
      {
       "output_type": "stream",
       "stream": "stdout",
       "text": [
        "\n",
        "rindex"
       ]
      },
      {
       "output_type": "stream",
       "stream": "stdout",
       "text": [
        " 0\n",
        "merit= 1.9984123e+01  grad= 1.8506051e-02"
       ]
      },
      {
       "output_type": "stream",
       "stream": "stdout",
       "text": [
        "\n",
        "rindex 0\n",
        "merit= 1.9872609e+01  grad= 1.8587810e-02"
       ]
      },
      {
       "output_type": "stream",
       "stream": "stdout",
       "text": [
        "\n",
        "rindex 0\n",
        "merit= 1.9730180e+01  grad= 2.0557980e-02"
       ]
      },
      {
       "output_type": "stream",
       "stream": "stdout",
       "text": [
        "\n",
        "rindex 0\n",
        "merit= 1.9636471e+01  grad= 2.6941444e-02"
       ]
      },
      {
       "output_type": "stream",
       "stream": "stdout",
       "text": [
        "\n",
        "rindex 0\n",
        "merit= 1.9574862e+01  grad= 6.9842693e-03"
       ]
      },
      {
       "output_type": "stream",
       "stream": "stdout",
       "text": [
        "\n",
        "rindex 0\n",
        "merit= 1.9515856e+01  grad= 1.1402050e-02"
       ]
      },
      {
       "output_type": "stream",
       "stream": "stdout",
       "text": [
        "\n",
        "rindex 0\n",
        "merit= 1.9457973e+01  grad= 2.1513679e-02"
       ]
      },
      {
       "output_type": "stream",
       "stream": "stdout",
       "text": [
        "\n",
        "rindex 0\n",
        "merit= 1.9394574e+01  grad= 1.6951532e-02"
       ]
      },
      {
       "output_type": "stream",
       "stream": "stdout",
       "text": [
        "\n",
        "rindex 0\n",
        "merit= 1.9342058e+01  grad= 9.2185360e-03"
       ]
      },
      {
       "output_type": "stream",
       "stream": "stdout",
       "text": [
        "\n",
        "rindex 0\n",
        "merit= 1.9294269e+01  grad= 1.2980656e-02"
       ]
      },
      {
       "output_type": "stream",
       "stream": "stdout",
       "text": [
        "\n",
        "rindex"
       ]
      },
      {
       "output_type": "stream",
       "stream": "stdout",
       "text": [
        " 0\n",
        "merit= 1.9243732e+01  grad= 1.0834153e-02"
       ]
      },
      {
       "output_type": "stream",
       "stream": "stdout",
       "text": [
        "\n",
        "rindex 0\n",
        "merit= 1.9199997e+01  grad= 1.2694534e-02"
       ]
      },
      {
       "output_type": "stream",
       "stream": "stdout",
       "text": [
        "\n",
        "rindex 0\n",
        "merit= 1.9160698e+01  grad= 9.1247629e-03"
       ]
      },
      {
       "output_type": "stream",
       "stream": "stdout",
       "text": [
        "\n",
        "rindex 0\n",
        "merit= 1.9121129e+01  grad= 1.3193787e-02"
       ]
      },
      {
       "output_type": "stream",
       "stream": "stdout",
       "text": [
        "\n",
        "rindex 0\n",
        "merit= 1.9082825e+01  grad= 1.0165467e-02"
       ]
      },
      {
       "output_type": "stream",
       "stream": "stdout",
       "text": [
        "\n",
        "rindex 0\n",
        "merit= 1.9036922e+01  grad= 1.7505162e-02"
       ]
      },
      {
       "output_type": "stream",
       "stream": "stdout",
       "text": [
        "\n",
        "rindex 0\n",
        "merit= 1.8999611e+01  grad= 8.4243895e-03"
       ]
      },
      {
       "output_type": "stream",
       "stream": "stdout",
       "text": [
        "\n",
        "rindex 0\n",
        "merit= 1.8980660e+01  grad= 5.0468819e-03"
       ]
      },
      {
       "output_type": "stream",
       "stream": "stdout",
       "text": [
        "\n",
        "rindex 0\n",
        "merit= 1.8940498e+01  grad= 2.8770063e-03"
       ]
      },
      {
       "output_type": "stream",
       "stream": "stdout",
       "text": [
        "\n",
        "rindex 0\n",
        "merit= 1.8897043e+01  grad= 7.1683752e-03"
       ]
      },
      {
       "output_type": "stream",
       "stream": "stdout",
       "text": [
        "\n",
        "rindex"
       ]
      },
      {
       "output_type": "stream",
       "stream": "stdout",
       "text": [
        " 0\n",
        "merit= 1.8857751e+01  grad= 8.9008255e-03"
       ]
      },
      {
       "output_type": "stream",
       "stream": "stdout",
       "text": [
        "\n",
        "rindex 0\n",
        "merit= 1.8828679e+01  grad= 4.0778960e-03"
       ]
      },
      {
       "output_type": "stream",
       "stream": "stdout",
       "text": [
        "\n",
        "rindex 0\n",
        "merit= 1.8806962e+01  grad= 3.1410294e-03"
       ]
      },
      {
       "output_type": "stream",
       "stream": "stdout",
       "text": [
        "\n",
        "rindex 0\n",
        "merit= 1.8771245e+01  grad= 5.6813165e-03"
       ]
      },
      {
       "output_type": "stream",
       "stream": "stdout",
       "text": [
        "\n",
        "rindex 0\n",
        "merit= 1.8742560e+01  grad= 1.6468647e-02"
       ]
      },
      {
       "output_type": "stream",
       "stream": "stdout",
       "text": [
        "\n",
        "rindex 0\n",
        "merit= 1.8711368e+01  grad= 3.6367109e-03"
       ]
      },
      {
       "output_type": "stream",
       "stream": "stdout",
       "text": [
        "\n",
        "rindex 0\n",
        "merit= 1.8699875e+01  grad= 3.8568725e-03"
       ]
      },
      {
       "output_type": "stream",
       "stream": "stdout",
       "text": [
        "\n",
        "rindex 0\n",
        "merit= 1.8686392e+01  grad= 3.6572956e-03"
       ]
      },
      {
       "output_type": "stream",
       "stream": "stdout",
       "text": [
        "\n",
        "rindex 0\n",
        "merit= 1.8667143e+01  grad= 2.6497527e-03"
       ]
      },
      {
       "output_type": "stream",
       "stream": "stdout",
       "text": [
        "\n",
        "rindex 0\n",
        "merit= 1.8662160e+01  grad= 5.8030691e-02"
       ]
      },
      {
       "output_type": "stream",
       "stream": "stdout",
       "text": [
        "\n",
        "rindex"
       ]
      },
      {
       "output_type": "stream",
       "stream": "stdout",
       "text": [
        " 0\n",
        "merit= 1.8637921e+01  grad= 1.5888979e-02"
       ]
      },
      {
       "output_type": "stream",
       "stream": "stdout",
       "text": [
        "\n",
        "rindex 0\n",
        "merit= 1.8612718e+01  grad= 2.7020526e-03"
       ]
      },
      {
       "output_type": "stream",
       "stream": "stdout",
       "text": [
        "\n",
        "rindex 0\n",
        "merit= 1.8604674e+01  grad= 1.8583266e-03"
       ]
      },
      {
       "output_type": "stream",
       "stream": "stdout",
       "text": [
        "\n",
        "rindex 0\n",
        "merit= 1.8573346e+01  grad= 2.2286260e-03"
       ]
      },
      {
       "output_type": "stream",
       "stream": "stdout",
       "text": [
        "\n",
        "rindex 0\n",
        "merit= 1.8574541e+01  grad= 2.9851884e-02"
       ]
      },
      {
       "output_type": "stream",
       "stream": "stdout",
       "text": [
        "\n",
        "rindex 0\n",
        "merit= 1.8563208e+01  grad= 7.2155492e-03"
       ]
      },
      {
       "output_type": "stream",
       "stream": "stdout",
       "text": [
        "\n",
        "rindex 0\n",
        "merit= 1.8548900e+01  grad= 3.2668031e-03"
       ]
      },
      {
       "output_type": "stream",
       "stream": "stdout",
       "text": [
        "\n",
        "rindex 0\n",
        "merit= 1.8527980e+01  grad= 1.4191632e-03"
       ]
      },
      {
       "output_type": "stream",
       "stream": "stdout",
       "text": [
        "\n",
        "rindex 0\n",
        "merit= 1.8513314e+01  grad= 2.1192114e-03"
       ]
      },
      {
       "output_type": "stream",
       "stream": "stdout",
       "text": [
        "\n",
        "rindex 0\n",
        "merit= 1.8494944e+01  grad= 2.7770352e-03"
       ]
      },
      {
       "output_type": "stream",
       "stream": "stdout",
       "text": [
        "\n",
        "rindex"
       ]
      },
      {
       "output_type": "stream",
       "stream": "stdout",
       "text": [
        " 0\n",
        "merit= 1.8482111e+01  grad= 1.6807742e-03"
       ]
      },
      {
       "output_type": "stream",
       "stream": "stdout",
       "text": [
        "\n",
        "rindex 0\n",
        "merit= 1.8470243e+01  grad= 1.8821606e-03"
       ]
      },
      {
       "output_type": "stream",
       "stream": "stdout",
       "text": [
        "\n",
        "rindex 0\n",
        "merit= 1.8459226e+01  grad= 7.0185682e-03"
       ]
      },
      {
       "output_type": "stream",
       "stream": "stdout",
       "text": [
        "\n",
        "rindex 0\n",
        "merit= 1.8448142e+01  grad= 1.8690528e-03"
       ]
      },
      {
       "output_type": "stream",
       "stream": "stdout",
       "text": [
        "\n",
        "rindex 0\n",
        "merit= 1.8441147e+01  grad= 1.3324488e-03"
       ]
      },
      {
       "output_type": "stream",
       "stream": "stdout",
       "text": [
        "\n",
        "rindex 0\n",
        "merit= 1.8428013e+01  grad= 1.5715986e-03"
       ]
      },
      {
       "output_type": "stream",
       "stream": "stdout",
       "text": [
        "\n",
        "rindex 0\n",
        "merit= 1.8415012e+01  grad= 2.2657013e-03"
       ]
      },
      {
       "output_type": "stream",
       "stream": "stdout",
       "text": [
        "\n",
        "rindex 0\n",
        "merit= 1.8406309e+01  grad= 4.1958714e-03"
       ]
      },
      {
       "output_type": "stream",
       "stream": "stdout",
       "text": [
        "\n",
        "rindex 0\n",
        "merit= 1.8396876e+01  grad= 8.6580172e-04"
       ]
      },
      {
       "output_type": "stream",
       "stream": "stdout",
       "text": [
        "\n",
        "rindex 0\n",
        "merit= 1.8391009e+01  grad= 9.9502800e-04"
       ]
      },
      {
       "output_type": "stream",
       "stream": "stdout",
       "text": [
        "\n",
        "rindex"
       ]
      },
      {
       "output_type": "stream",
       "stream": "stdout",
       "text": [
        " 0\n",
        "merit= 1.8383494e+01  grad= 1.3533069e-03"
       ]
      },
      {
       "output_type": "stream",
       "stream": "stdout",
       "text": [
        "\n",
        "rindex 0\n",
        "merit= 1.8380319e+01  grad= 8.8346003e-03"
       ]
      },
      {
       "output_type": "stream",
       "stream": "stdout",
       "text": [
        "\n",
        "rindex 0\n",
        "merit= 1.8368114e+01  grad= 1.0407379e-03"
       ]
      },
      {
       "output_type": "stream",
       "stream": "stdout",
       "text": [
        "\n",
        "rindex 0\n",
        "merit= 1.8363231e+01  grad= 6.6098842e-04"
       ]
      },
      {
       "output_type": "stream",
       "stream": "stdout",
       "text": [
        "\n",
        "rindex 0\n",
        "merit= 1.8356864e+01  grad= 1.9339637e-03"
       ]
      },
      {
       "output_type": "stream",
       "stream": "stdout",
       "text": [
        "\n",
        "rindex 0\n",
        "merit= 1.8352218e+01  grad= 4.5675816e-03"
       ]
      },
      {
       "output_type": "stream",
       "stream": "stdout",
       "text": [
        "\n",
        "rindex 0\n",
        "merit= 1.8346497e+01  grad= 1.1663036e-03"
       ]
      },
      {
       "output_type": "stream",
       "stream": "stdout",
       "text": [
        "\n",
        "rindex 0\n",
        "merit= 1.8341767e+01  grad= 7.3343622e-04"
       ]
      },
      {
       "output_type": "stream",
       "stream": "stdout",
       "text": [
        "\n",
        "rindex 0\n",
        "merit= 1.8338158e+01  grad= 9.2757560e-04"
       ]
      },
      {
       "output_type": "stream",
       "stream": "stdout",
       "text": [
        "\n",
        "rindex 0\n",
        "merit= 1.8330282e+01  grad= 1.6873382e-03"
       ]
      },
      {
       "output_type": "stream",
       "stream": "stdout",
       "text": [
        "\n",
        "rindex"
       ]
      },
      {
       "output_type": "stream",
       "stream": "stdout",
       "text": [
        " 0\n",
        "merit= 1.8324980e+01  grad= 3.1574114e-03"
       ]
      },
      {
       "output_type": "stream",
       "stream": "stdout",
       "text": [
        "\n",
        "rindex 0\n",
        "merit= 1.8319588e+01  grad= 7.3491422e-04"
       ]
      },
      {
       "output_type": "stream",
       "stream": "stdout",
       "text": [
        "\n",
        "rindex 0\n",
        "merit= 1.8315158e+01  grad= 8.1511415e-04"
       ]
      },
      {
       "output_type": "stream",
       "stream": "stdout",
       "text": [
        "\n",
        "rindex 0\n",
        "merit= 1.8311074e+01  grad= 9.7800351e-04"
       ]
      },
      {
       "output_type": "stream",
       "stream": "stdout",
       "text": [
        "\n",
        "rindex 0\n",
        "merit= 1.8305752e+01  grad= 3.8349039e-03"
       ]
      },
      {
       "output_type": "stream",
       "stream": "stdout",
       "text": [
        "\n",
        "rindex 0\n",
        "merit= 1.8299613e+01  grad= 5.5896923e-04"
       ]
      },
      {
       "output_type": "stream",
       "stream": "stdout",
       "text": [
        "\n",
        "rindex 0\n",
        "merit= 1.8296782e+01  grad= 4.5768488e-04"
       ]
      },
      {
       "output_type": "stream",
       "stream": "stdout",
       "text": [
        "\n",
        "rindex 0\n",
        "merit= 1.8292753e+01  grad= 7.9954231e-04"
       ]
      },
      {
       "output_type": "stream",
       "stream": "stdout",
       "text": [
        "\n",
        "rindex 0\n",
        "merit= 1.8291184e+01  grad= 5.0856351e-03"
       ]
      },
      {
       "output_type": "stream",
       "stream": "stdout",
       "text": [
        "\n",
        "rindex 0\n",
        "merit= 1.8286026e+01  grad= 7.2956222e-04"
       ]
      },
      {
       "output_type": "stream",
       "stream": "stdout",
       "text": [
        "\n",
        "rindex"
       ]
      },
      {
       "output_type": "stream",
       "stream": "stdout",
       "text": [
        " 0\n",
        "merit= 1.8283440e+01  grad= 3.5676096e-04"
       ]
      },
      {
       "output_type": "stream",
       "stream": "stdout",
       "text": [
        "\n",
        "rindex 0\n",
        "merit= 1.8281037e+01  grad= 6.0442336e-04"
       ]
      },
      {
       "output_type": "stream",
       "stream": "stdout",
       "text": [
        "\n",
        "rindex 0\n",
        "merit= 1.8276426e+01  grad= 8.1837807e-04"
       ]
      },
      {
       "output_type": "stream",
       "stream": "stdout",
       "text": [
        "\n",
        "rindex 0\n",
        "merit= 1.8269420e+01  grad= 3.2452462e-03"
       ]
      },
      {
       "output_type": "stream",
       "stream": "stdout",
       "text": [
        "\n",
        "rindex 0\n",
        "merit= 1.8264218e+01  grad= 1.4149872e-03"
       ]
      },
      {
       "output_type": "stream",
       "stream": "stdout",
       "text": [
        "\n",
        "rindex 0\n",
        "merit= 1.8260604e+01  grad= 2.9674603e-04"
       ]
      },
      {
       "output_type": "stream",
       "stream": "stdout",
       "text": [
        "\n",
        "rindex 0\n",
        "merit= 1.8258150e+01  grad= 3.9109785e-04"
       ]
      },
      {
       "output_type": "stream",
       "stream": "stdout",
       "text": [
        "\n",
        "rindex 0\n",
        "merit= 1.8255154e+01  grad= 8.7264878e-04"
       ]
      },
      {
       "output_type": "stream",
       "stream": "stdout",
       "text": [
        "\n",
        "rindex 0\n",
        "merit= 1.8251053e+01  grad= 2.1236881e-03"
       ]
      },
      {
       "output_type": "stream",
       "stream": "stdout",
       "text": [
        "\n",
        "rindex 0\n",
        "merit= 1.8247472e+01  grad= 1.3109537e-03"
       ]
      },
      {
       "output_type": "stream",
       "stream": "stdout",
       "text": [
        "\n",
        "rindex"
       ]
      },
      {
       "output_type": "stream",
       "stream": "stdout",
       "text": [
        " 0\n",
        "merit= 1.8244933e+01  grad= 4.3678699e-04"
       ]
      },
      {
       "output_type": "stream",
       "stream": "stdout",
       "text": [
        "\n",
        "rindex 0\n",
        "merit= 1.8242635e+01  grad= 4.2650123e-04"
       ]
      },
      {
       "output_type": "stream",
       "stream": "stdout",
       "text": [
        "\n",
        "rindex 0\n",
        "merit= 1.8239873e+01  grad= 6.2637595e-04"
       ]
      },
      {
       "output_type": "stream",
       "stream": "stdout",
       "text": [
        "\n",
        "rindex 0\n",
        "merit= 1.8235596e+01  grad= 1.9320670e-03"
       ]
      },
      {
       "output_type": "stream",
       "stream": "stdout",
       "text": [
        "\n",
        "rindex 0\n",
        "merit= 1.8232956e+01  grad= 1.5614765e-03"
       ]
      },
      {
       "output_type": "stream",
       "stream": "stdout",
       "text": [
        "\n",
        "rindex 0\n",
        "merit= 1.8230292e+01  grad= 3.0387816e-04"
       ]
      },
      {
       "output_type": "stream",
       "stream": "stdout",
       "text": [
        "\n",
        "rindex 0\n",
        "merit= 1.8228520e+01  grad= 3.0976543e-04"
       ]
      },
      {
       "output_type": "stream",
       "stream": "stdout",
       "text": [
        "\n",
        "rindex 0\n",
        "merit= 1.8226385e+01  grad= 5.5936982e-04"
       ]
      },
      {
       "output_type": "stream",
       "stream": "stdout",
       "text": [
        "\n",
        "rindex 0\n",
        "merit= 1.8221747e+01  grad= 8.4221496e-04"
       ]
      },
      {
       "output_type": "stream",
       "stream": "stdout",
       "text": [
        "\n",
        "rindex 0\n",
        "merit= 1.8232235e+01  grad= 1.8796143e-02"
       ]
      },
      {
       "output_type": "stream",
       "stream": "stdout",
       "text": [
        "\n",
        "rindex"
       ]
      },
      {
       "output_type": "stream",
       "stream": "stdout",
       "text": [
        " 0\n",
        "merit= 1.8219987e+01  grad= 1.8044761e-03"
       ]
      },
      {
       "output_type": "stream",
       "stream": "stdout",
       "text": [
        "\n",
        "rindex 0\n",
        "merit= 1.8216008e+01  grad= 5.9969503e-04"
       ]
      },
      {
       "output_type": "stream",
       "stream": "stdout",
       "text": [
        "\n",
        "rindex 0\n",
        "merit= 1.8212859e+01  grad= 3.0456145e-04"
       ]
      },
      {
       "output_type": "stream",
       "stream": "stdout",
       "text": [
        "\n",
        "rindex 0\n",
        "merit= 1.8210224e+01  grad= 5.9042284e-04"
       ]
      },
      {
       "output_type": "stream",
       "stream": "stdout",
       "text": [
        "\n",
        "rindex 0\n",
        "merit= 1.8208058e+01  grad= 8.7391238e-04"
       ]
      },
      {
       "output_type": "stream",
       "stream": "stdout",
       "text": [
        "\n",
        "rindex 0\n",
        "merit= 1.8205907e+01  grad= 3.9514836e-04"
       ]
      },
      {
       "output_type": "stream",
       "stream": "stdout",
       "text": [
        "\n",
        "rindex 0\n",
        "merit= 1.8202115e+01  grad= 5.1668958e-04"
       ]
      },
      {
       "output_type": "stream",
       "stream": "stdout",
       "text": [
        "\n",
        "rindex 0\n",
        "merit= 1.8199536e+01  grad= 7.6789410e-04"
       ]
      },
      {
       "output_type": "stream",
       "stream": "stdout",
       "text": [
        "\n",
        "rindex 0\n",
        "merit= 1.8195708e+01  grad= 1.6982339e-03"
       ]
      },
      {
       "output_type": "stream",
       "stream": "stdout",
       "text": [
        "\n",
        "rindex 0\n",
        "merit= 1.8192638e+01  grad= 8.0524233e-04"
       ]
      },
      {
       "output_type": "stream",
       "stream": "stdout",
       "text": [
        "\n",
        "rindex"
       ]
      },
      {
       "output_type": "stream",
       "stream": "stdout",
       "text": [
        " 0\n",
        "merit= 1.8190764e+01  grad= 4.2126845e-04"
       ]
      },
      {
       "output_type": "stream",
       "stream": "stdout",
       "text": [
        "\n",
        "rindex 0\n",
        "merit= 1.8188329e+01  grad= 7.2498960e-04"
       ]
      },
      {
       "output_type": "stream",
       "stream": "stdout",
       "text": [
        "\n",
        "rindex 0\n",
        "merit= 1.8186526e+01  grad= 6.7469186e-04"
       ]
      },
      {
       "output_type": "stream",
       "stream": "stdout",
       "text": [
        "\n",
        "rindex 0\n",
        "merit= 1.8184450e+01  grad= 4.0609017e-04"
       ]
      },
      {
       "output_type": "stream",
       "stream": "stdout",
       "text": [
        "\n",
        "rindex 0\n",
        "merit= 1.8181529e+01  grad= 3.7773453e-04"
       ]
      },
      {
       "output_type": "stream",
       "stream": "stdout",
       "text": [
        "\n",
        "rindex 0\n",
        "merit= 1.8178895e+01  grad= 5.3841413e-04"
       ]
      },
      {
       "output_type": "stream",
       "stream": "stdout",
       "text": [
        "\n",
        "rindex 0\n",
        "merit= 1.8174815e+01  grad= 7.7149199e-04"
       ]
      },
      {
       "output_type": "stream",
       "stream": "stdout",
       "text": [
        "\n",
        "rindex 0\n",
        "merit= 1.8171383e+01  grad= 4.2549832e-04"
       ]
      },
      {
       "output_type": "stream",
       "stream": "stdout",
       "text": [
        "\n",
        "rindex 0\n",
        "merit= 1.8169094e+01  grad= 1.0359935e-03"
       ]
      },
      {
       "output_type": "stream",
       "stream": "stdout",
       "text": [
        "\n",
        "rindex 0\n",
        "merit= 1.8167164e+01  grad= 4.7501518e-04"
       ]
      },
      {
       "output_type": "stream",
       "stream": "stdout",
       "text": [
        "\n",
        "rindex"
       ]
      },
      {
       "output_type": "stream",
       "stream": "stdout",
       "text": [
        " 0\n",
        "merit= 1.8164878e+01  grad= 4.3690096e-04"
       ]
      },
      {
       "output_type": "stream",
       "stream": "stdout",
       "text": [
        "\n",
        "rindex 0\n",
        "merit= 1.8160692e+01  grad= 4.7305133e-04"
       ]
      },
      {
       "output_type": "stream",
       "stream": "stdout",
       "text": [
        "\n",
        "rindex 0\n",
        "merit= 1.8161809e+01  grad= 5.4629515e-03"
       ]
      },
      {
       "output_type": "stream",
       "stream": "stdout",
       "text": [
        "\n",
        "rindex 0\n",
        "merit= 1.8159286e+01  grad= 1.1964543e-03"
       ]
      },
      {
       "output_type": "stream",
       "stream": "stdout",
       "text": [
        "\n",
        "rindex 0\n",
        "merit= 1.8157007e+01  grad= 4.2852775e-04"
       ]
      },
      {
       "output_type": "stream",
       "stream": "stdout",
       "text": [
        "\n",
        "rindex 0\n",
        "merit= 1.8154520e+01  grad= 2.7275182e-04"
       ]
      },
      {
       "output_type": "stream",
       "stream": "stdout",
       "text": [
        "\n",
        "rindex 0\n",
        "merit= 1.8151579e+01  grad= 4.8596458e-04"
       ]
      },
      {
       "output_type": "stream",
       "stream": "stdout",
       "text": [
        "\n",
        "rindex 0\n",
        "merit= 1.8147347e+01  grad= 6.0020485e-04"
       ]
      },
      {
       "output_type": "stream",
       "stream": "stdout",
       "text": [
        "\n",
        "rindex 0\n",
        "merit= 1.8148239e+01  grad= 7.2084595e-03"
       ]
      },
      {
       "output_type": "stream",
       "stream": "stdout",
       "text": [
        "\n",
        "rindex 0\n",
        "merit= 1.8144611e+01  grad= 1.7619273e-03"
       ]
      },
      {
       "output_type": "stream",
       "stream": "stdout",
       "text": [
        "\n",
        "rindex"
       ]
      },
      {
       "output_type": "stream",
       "stream": "stdout",
       "text": [
        " 0\n",
        "merit= 1.8139785e+01  grad= 5.3407349e-04"
       ]
      },
      {
       "output_type": "stream",
       "stream": "stdout",
       "text": [
        "\n",
        "rindex 0\n",
        "merit= 1.8136176e+01  grad= 2.5837323e-04"
       ]
      },
      {
       "output_type": "stream",
       "stream": "stdout",
       "text": [
        "\n",
        "rindex 0\n",
        "merit= 1.8132782e+01  grad= 6.2082425e-04"
       ]
      },
      {
       "output_type": "stream",
       "stream": "stdout",
       "text": [
        "\n",
        "rindex 0\n",
        "merit= 1.8130632e+01  grad= 1.2722200e-03"
       ]
      },
      {
       "output_type": "stream",
       "stream": "stdout",
       "text": [
        "\n",
        "rindex 0\n",
        "merit= 1.8127869e+01  grad= 4.1678569e-04"
       ]
      },
      {
       "output_type": "stream",
       "stream": "stdout",
       "text": [
        "\n",
        "rindex 0\n",
        "merit= 1.8124548e+01  grad= 3.5273224e-04"
       ]
      },
      {
       "output_type": "stream",
       "stream": "stdout",
       "text": [
        "\n",
        "rindex 0\n",
        "merit= 1.8122476e+01  grad= 2.4019146e-03"
       ]
      },
      {
       "output_type": "stream",
       "stream": "stdout",
       "text": [
        "\n",
        "rindex 0\n",
        "merit= 1.8119783e+01  grad= 6.3676284e-04"
       ]
      },
      {
       "output_type": "stream",
       "stream": "stdout",
       "text": [
        "\n",
        "rindex 0\n",
        "merit= 1.8117499e+01  grad= 2.9076229e-04"
       ]
      },
      {
       "output_type": "stream",
       "stream": "stdout",
       "text": [
        "\n",
        "rindex 0\n",
        "merit= 1.8115664e+01  grad= 4.7365212e-04"
       ]
      },
      {
       "output_type": "stream",
       "stream": "stdout",
       "text": [
        "\n",
        "rindex"
       ]
      },
      {
       "output_type": "stream",
       "stream": "stdout",
       "text": [
        " 0\n",
        "merit= 1.8112679e+01  grad= 5.7088564e-04"
       ]
      },
      {
       "output_type": "stream",
       "stream": "stdout",
       "text": [
        "\n",
        "rindex 0\n",
        "merit= 1.8113485e+01  grad= 3.9615849e-03"
       ]
      },
      {
       "output_type": "stream",
       "stream": "stdout",
       "text": [
        "\n",
        "rindex 0\n",
        "merit= 1.8110353e+01  grad= 1.2151951e-03"
       ]
      },
      {
       "output_type": "stream",
       "stream": "stdout",
       "text": [
        "\n",
        "rindex 0\n",
        "merit= 1.8106431e+01  grad= 3.7226958e-04"
       ]
      },
      {
       "output_type": "stream",
       "stream": "stdout",
       "text": [
        "\n",
        "rindex 0\n",
        "merit= 1.8103940e+01  grad= 5.0581187e-04"
       ]
      },
      {
       "output_type": "stream",
       "stream": "stdout",
       "text": [
        "\n",
        "rindex 0\n",
        "merit= 1.8101500e+01  grad= 1.3963456e-03"
       ]
      },
      {
       "output_type": "stream",
       "stream": "stdout",
       "text": [
        "\n",
        "rindex 0\n",
        "merit= 1.8098999e+01  grad= 5.7205326e-04"
       ]
      },
      {
       "output_type": "stream",
       "stream": "stdout",
       "text": [
        "\n",
        "rindex 0\n",
        "merit= 1.8095052e+01  grad= 4.0102106e-04"
       ]
      },
      {
       "output_type": "stream",
       "stream": "stdout",
       "text": [
        "\n",
        "rindex 0\n",
        "merit= 1.8092807e+01  grad= 5.3211198e-04"
       ]
      },
      {
       "output_type": "stream",
       "stream": "stdout",
       "text": [
        "\n",
        "rindex 0\n",
        "merit= 1.8089630e+01  grad= 1.4056426e-03"
       ]
      },
      {
       "output_type": "stream",
       "stream": "stdout",
       "text": [
        "\n",
        "rindex"
       ]
      },
      {
       "output_type": "stream",
       "stream": "stdout",
       "text": [
        " 0\n",
        "merit= 1.8086400e+01  grad= 9.3442944e-04"
       ]
      },
      {
       "output_type": "stream",
       "stream": "stdout",
       "text": [
        "\n",
        "rindex 0\n",
        "merit= 1.8084021e+01  grad= 4.1799328e-04"
       ]
      },
      {
       "output_type": "stream",
       "stream": "stdout",
       "text": [
        "\n",
        "rindex 0\n",
        "merit= 1.8080827e+01  grad= 5.1198266e-04"
       ]
      },
      {
       "output_type": "stream",
       "stream": "stdout",
       "text": [
        "\n",
        "rindex 0\n",
        "merit= 1.8078335e+01  grad= 5.5592081e-04"
       ]
      },
      {
       "output_type": "stream",
       "stream": "stdout",
       "text": [
        "\n",
        "rindex 0\n",
        "merit= 1.8097122e+01  grad= 2.7481661e-02"
       ]
      },
      {
       "output_type": "stream",
       "stream": "stdout",
       "text": [
        "\n",
        "rindex 0\n",
        "merit= 1.8076816e+01  grad= 1.3837565e-03"
       ]
      },
      {
       "output_type": "stream",
       "stream": "stdout",
       "text": [
        "\n",
        "rindex 0\n",
        "merit= 1.8073445e+01  grad= 4.6981219e-04"
       ]
      },
      {
       "output_type": "stream",
       "stream": "stdout",
       "text": [
        "\n",
        "rindex 0\n",
        "merit= 1.8070431e+01  grad= 3.6578921e-04"
       ]
      },
      {
       "output_type": "stream",
       "stream": "stdout",
       "text": [
        "\n",
        "rindex 0\n",
        "merit= 1.8065809e+01  grad= 7.5932907e-04"
       ]
      },
      {
       "output_type": "stream",
       "stream": "stdout",
       "text": [
        "\n",
        "rindex 0\n",
        "merit= 1.8063887e+01  grad= 2.2838684e-03"
       ]
      },
      {
       "output_type": "stream",
       "stream": "stdout",
       "text": [
        "\n",
        "rindex"
       ]
      },
      {
       "output_type": "stream",
       "stream": "stdout",
       "text": [
        " 0\n",
        "merit= 1.8059924e+01  grad= 7.0000602e-04"
       ]
      },
      {
       "output_type": "stream",
       "stream": "stdout",
       "text": [
        "\n",
        "rindex 0\n",
        "merit= 1.8057844e+01  grad= 4.0420739e-04"
       ]
      },
      {
       "output_type": "stream",
       "stream": "stdout",
       "text": [
        "\n",
        "rindex 0\n",
        "merit= 1.8056334e+01  grad= 4.0126951e-04"
       ]
      },
      {
       "output_type": "stream",
       "stream": "stdout",
       "text": [
        "\n",
        "rindex 0\n",
        "merit= 1.8053547e+01  grad= 1.1963574e-03"
       ]
      },
      {
       "output_type": "stream",
       "stream": "stdout",
       "text": [
        "\n",
        "rindex 0\n",
        "merit= 1.8050412e+01  grad= 7.8479760e-04"
       ]
      },
      {
       "output_type": "stream",
       "stream": "stdout",
       "text": [
        "\n",
        "rindex 0\n",
        "merit= 1.8047194e+01  grad= 5.2879333e-04"
       ]
      },
      {
       "output_type": "stream",
       "stream": "stdout",
       "text": [
        "\n",
        "rindex 0\n",
        "merit= 1.8047139e+01  grad= 4.8715760e-03"
       ]
      },
      {
       "output_type": "stream",
       "stream": "stdout",
       "text": [
        "\n",
        "rindex 0\n",
        "merit= 1.8044039e+01  grad= 9.5897207e-04"
       ]
      },
      {
       "output_type": "stream",
       "stream": "stdout",
       "text": [
        "\n",
        "rindex 0\n",
        "merit= 1.8041581e+01  grad= 3.4379421e-04"
       ]
      },
      {
       "output_type": "stream",
       "stream": "stdout",
       "text": [
        "\n",
        "rindex 0\n",
        "merit= 1.8039261e+01  grad= 3.1083405e-04"
       ]
      },
      {
       "output_type": "stream",
       "stream": "stdout",
       "text": [
        "\n",
        "rindex"
       ]
      },
      {
       "output_type": "stream",
       "stream": "stdout",
       "text": [
        " 0\n",
        "merit= 1.8034491e+01  grad= 4.9486802e-04"
       ]
      },
      {
       "output_type": "stream",
       "stream": "stdout",
       "text": [
        "\n",
        "rindex 0\n",
        "merit= 1.8031066e+01  grad= 1.0129418e-03"
       ]
      },
      {
       "output_type": "stream",
       "stream": "stdout",
       "text": [
        "\n",
        "rindex 0\n",
        "merit= 1.8027717e+01  grad= 4.8172734e-04"
       ]
      },
      {
       "output_type": "stream",
       "stream": "stdout",
       "text": [
        "\n",
        "rindex 0\n",
        "merit= 1.8024132e+01  grad= 4.7094485e-04"
       ]
      },
      {
       "output_type": "stream",
       "stream": "stdout",
       "text": [
        "\n",
        "rindex 0\n",
        "merit= 1.8020369e+01  grad= 7.0954382e-04"
       ]
      },
      {
       "output_type": "stream",
       "stream": "stdout",
       "text": [
        "\n",
        "rindex 0\n",
        "merit= 1.8018494e+01  grad= 2.3267365e-03"
       ]
      },
      {
       "output_type": "stream",
       "stream": "stdout",
       "text": [
        "\n",
        "rindex 0\n",
        "merit= 1.8014363e+01  grad= 4.3907867e-04"
       ]
      },
      {
       "output_type": "stream",
       "stream": "stdout",
       "text": [
        "\n",
        "rindex 0\n",
        "merit= 1.8012162e+01  grad= 6.6367894e-04"
       ]
      },
      {
       "output_type": "stream",
       "stream": "stdout",
       "text": [
        "\n",
        "rindex 0\n",
        "merit= 1.8009246e+01  grad= 4.9333076e-04"
       ]
      },
      {
       "output_type": "stream",
       "stream": "stdout",
       "text": [
        "\n",
        "rindex 0\n",
        "merit= 1.8005431e+01  grad= 5.6430555e-04"
       ]
      },
      {
       "output_type": "stream",
       "stream": "stdout",
       "text": [
        "\n",
        "rindex"
       ]
      },
      {
       "output_type": "stream",
       "stream": "stdout",
       "text": [
        " 0\n",
        "merit= 1.8001062e+01  grad= 1.0827575e-03"
       ]
      },
      {
       "output_type": "stream",
       "stream": "stdout",
       "text": [
        "\n",
        "rindex 0\n",
        "merit= 1.8000084e+01  grad= 3.3360803e-03"
       ]
      },
      {
       "output_type": "stream",
       "stream": "stdout",
       "text": [
        "\n",
        "rindex 0\n",
        "merit= 1.7995877e+01  grad= 3.3369445e-04"
       ]
      },
      {
       "output_type": "stream",
       "stream": "stdout",
       "text": [
        "\n",
        "rindex 0\n",
        "merit= 1.7994398e+01  grad= 3.1490725e-04"
       ]
      },
      {
       "output_type": "stream",
       "stream": "stdout",
       "text": [
        "\n",
        "rindex 0\n",
        "merit= 1.7991511e+01  grad= 7.1019056e-04"
       ]
      },
      {
       "output_type": "stream",
       "stream": "stdout",
       "text": [
        "\n",
        "rindex 0\n",
        "merit= 1.7987478e+01  grad= 8.0450750e-04"
       ]
      },
      {
       "output_type": "stream",
       "stream": "stdout",
       "text": [
        "\n",
        "rindex 0\n",
        "merit= 1.8002925e+01  grad= 2.9158104e-02"
       ]
      },
      {
       "output_type": "stream",
       "stream": "stdout",
       "text": [
        "\n",
        "rindex 0\n",
        "merit= 1.7985989e+01  grad= 2.2064915e-03"
       ]
      },
      {
       "output_type": "stream",
       "stream": "stdout",
       "text": [
        "\n",
        "rindex 0\n",
        "merit= 1.7982500e+01  grad= 5.5090850e-04"
       ]
      },
      {
       "output_type": "stream",
       "stream": "stdout",
       "text": [
        "\n",
        "rindex 0\n",
        "merit= 1.7980016e+01  grad= 4.6786988e-04"
       ]
      },
      {
       "output_type": "stream",
       "stream": "stdout",
       "text": [
        "\n",
        "rindex"
       ]
      },
      {
       "output_type": "stream",
       "stream": "stdout",
       "text": [
        " 0\n",
        "merit= 1.7975955e+01  grad= 5.3294547e-04"
       ]
      },
      {
       "output_type": "stream",
       "stream": "stdout",
       "text": [
        "\n",
        "rindex 0\n",
        "merit= 1.7973844e+01  grad= 4.2199812e-03"
       ]
      },
      {
       "output_type": "stream",
       "stream": "stdout",
       "text": [
        "\n",
        "rindex 0\n",
        "merit= 1.7968317e+01  grad= 4.6517290e-04"
       ]
      },
      {
       "output_type": "stream",
       "stream": "stdout",
       "text": [
        "\n",
        "rindex 0\n",
        "merit= 1.7967031e+01  grad= 2.7101056e-04"
       ]
      },
      {
       "output_type": "stream",
       "stream": "stdout",
       "text": [
        "\n",
        "rindex 0\n",
        "merit= 1.7963926e+01  grad= 4.0342010e-04"
       ]
      },
      {
       "output_type": "stream",
       "stream": "stdout",
       "text": [
        "\n",
        "rindex 0\n",
        "merit= 1.7960431e+01  grad= 1.4987049e-03"
       ]
      },
      {
       "output_type": "stream",
       "stream": "stdout",
       "text": [
        "\n",
        "rindex 0\n",
        "merit= 1.7956533e+01  grad= 5.2789890e-04"
       ]
      },
      {
       "output_type": "stream",
       "stream": "stdout",
       "text": [
        "\n",
        "rindex 0\n",
        "merit= 1.7953500e+01  grad= 4.0498851e-04"
       ]
      },
      {
       "output_type": "stream",
       "stream": "stdout",
       "text": [
        "\n",
        "rindex 0\n",
        "merit= 1.7950434e+01  grad= 9.3103049e-04"
       ]
      },
      {
       "output_type": "stream",
       "stream": "stdout",
       "text": [
        "\n",
        "rindex 0\n",
        "merit= 1.7947502e+01  grad= 7.3951265e-04"
       ]
      },
      {
       "output_type": "stream",
       "stream": "stdout",
       "text": [
        "\n",
        "rindex"
       ]
      },
      {
       "output_type": "stream",
       "stream": "stdout",
       "text": [
        " 0\n",
        "merit= 1.7942512e+01  grad= 7.3449245e-04"
       ]
      },
      {
       "output_type": "stream",
       "stream": "stdout",
       "text": [
        "\n",
        "rindex 0\n",
        "merit= 1.7937655e+01  grad= 5.8053234e-04"
       ]
      },
      {
       "output_type": "stream",
       "stream": "stdout",
       "text": [
        "\n",
        "rindex 0\n",
        "merit= 1.7935815e+01  grad= 4.1324166e-03"
       ]
      },
      {
       "output_type": "stream",
       "stream": "stdout",
       "text": [
        "\n",
        "rindex 0\n",
        "merit= 1.7930570e+01  grad= 6.2970057e-04"
       ]
      },
      {
       "output_type": "stream",
       "stream": "stdout",
       "text": [
        "\n",
        "rindex 0\n",
        "merit= 1.7928121e+01  grad= 3.3039069e-04"
       ]
      },
      {
       "output_type": "stream",
       "stream": "stdout",
       "text": [
        "\n",
        "rindex 0\n",
        "merit= 1.7925475e+01  grad= 6.2471329e-04"
       ]
      },
      {
       "output_type": "stream",
       "stream": "stdout",
       "text": [
        "\n",
        "rindex 0\n",
        "merit= 1.7922137e+01  grad= 2.5152634e-03"
       ]
      },
      {
       "output_type": "stream",
       "stream": "stdout",
       "text": [
        "\n",
        "rindex 0\n",
        "merit= 1.7917603e+01  grad= 6.9996864e-04"
       ]
      },
      {
       "output_type": "stream",
       "stream": "stdout",
       "text": [
        "\n",
        "rindex 0\n",
        "merit= 1.7914190e+01  grad= 3.6566283e-04"
       ]
      },
      {
       "output_type": "stream",
       "stream": "stdout",
       "text": [
        "\n",
        "rindex 0\n",
        "merit= 1.7911444e+01  grad= 6.5049919e-04"
       ]
      },
      {
       "output_type": "stream",
       "stream": "stdout",
       "text": [
        "\n",
        "rindex"
       ]
      },
      {
       "output_type": "stream",
       "stream": "stdout",
       "text": [
        " 0\n",
        "merit= 1.7910517e+01  grad= 5.9827075e-03"
       ]
      },
      {
       "output_type": "stream",
       "stream": "stdout",
       "text": [
        "\n",
        "rindex 0\n",
        "merit= 1.7905945e+01  grad= 7.5958219e-04"
       ]
      },
      {
       "output_type": "stream",
       "stream": "stdout",
       "text": [
        "\n",
        "rindex 0\n",
        "merit= 1.7903595e+01  grad= 2.9404999e-04"
       ]
      },
      {
       "output_type": "stream",
       "stream": "stdout",
       "text": [
        "\n",
        "rindex 0\n",
        "merit= 1.7901060e+01  grad= 7.1128885e-04"
       ]
      },
      {
       "output_type": "stream",
       "stream": "stdout",
       "text": [
        "\n",
        "rindex 0\n",
        "merit= 1.7898439e+01  grad= 6.7362743e-04"
       ]
      },
      {
       "output_type": "stream",
       "stream": "stdout",
       "text": [
        "\n",
        "rindex 0\n",
        "merit= 1.7896289e+01  grad= 3.3391625e-03"
       ]
      },
      {
       "output_type": "stream",
       "stream": "stdout",
       "text": [
        "\n",
        "rindex 0\n",
        "merit= 1.7891188e+01  grad= 4.7372193e-04"
       ]
      },
      {
       "output_type": "stream",
       "stream": "stdout",
       "text": [
        "\n",
        "rindex 0\n",
        "merit= 1.7889293e+01  grad= 3.3196216e-04"
       ]
      },
      {
       "output_type": "stream",
       "stream": "stdout",
       "text": [
        "\n",
        "rindex 0\n",
        "merit= 1.7886455e+01  grad= 3.5898857e-04"
       ]
      },
      {
       "output_type": "stream",
       "stream": "stdout",
       "text": [
        "\n",
        "rindex 0\n",
        "merit= 1.7885417e+01  grad= 3.8511824e-03"
       ]
      },
      {
       "output_type": "stream",
       "stream": "stdout",
       "text": [
        "\n",
        "rindex"
       ]
      },
      {
       "output_type": "stream",
       "stream": "stdout",
       "text": [
        " 0\n",
        "merit= 1.7879090e+01  grad= 3.9526668e-04"
       ]
      },
      {
       "output_type": "stream",
       "stream": "stdout",
       "text": [
        "\n",
        "rindex 0\n",
        "merit= 1.7877618e+01  grad= 2.6203457e-04"
       ]
      },
      {
       "output_type": "stream",
       "stream": "stdout",
       "text": [
        "\n",
        "rindex 0\n",
        "merit= 1.7874137e+01  grad= 1.0780159e-03"
       ]
      },
      {
       "output_type": "stream",
       "stream": "stdout",
       "text": [
        "\n",
        "rindex 0\n",
        "merit= 1.7871640e+01  grad= 7.5637187e-04"
       ]
      },
      {
       "output_type": "stream",
       "stream": "stdout",
       "text": [
        "\n",
        "rindex 0\n",
        "merit= 1.7870048e+01  grad= 2.6364490e-04"
       ]
      },
      {
       "output_type": "stream",
       "stream": "stdout",
       "text": [
        "\n",
        "rindex 0\n",
        "merit= 1.7868080e+01  grad= 2.3058003e-04"
       ]
      },
      {
       "output_type": "stream",
       "stream": "stdout",
       "text": [
        "\n",
        "rindex 0\n",
        "merit= 1.7865911e+01  grad= 3.5197536e-04"
       ]
      },
      {
       "output_type": "stream",
       "stream": "stdout",
       "text": [
        "\n",
        "rindex 0\n",
        "merit= 1.7863785e+01  grad= 1.9714825e-03"
       ]
      },
      {
       "output_type": "stream",
       "stream": "stdout",
       "text": [
        "\n",
        "rindex 0\n",
        "merit= 1.7860366e+01  grad= 2.9770210e-04"
       ]
      },
      {
       "output_type": "stream",
       "stream": "stdout",
       "text": [
        "\n",
        "rindex 0\n",
        "merit= 1.7858953e+01  grad= 1.9917197e-04"
       ]
      },
      {
       "output_type": "stream",
       "stream": "stdout",
       "text": [
        "\n",
        "rindex"
       ]
      },
      {
       "output_type": "stream",
       "stream": "stdout",
       "text": [
        " 0\n",
        "merit= 1.7857013e+01  grad= 2.7286163e-04"
       ]
      },
      {
       "output_type": "stream",
       "stream": "stdout",
       "text": [
        "\n",
        "rindex 0\n",
        "merit= 1.7855246e+01  grad= 7.4703027e-04"
       ]
      },
      {
       "output_type": "stream",
       "stream": "stdout",
       "text": [
        "\n",
        "rindex 0\n",
        "merit= 1.7853150e+01  grad= 4.1344504e-04"
       ]
      },
      {
       "output_type": "stream",
       "stream": "stdout",
       "text": [
        "\n",
        "rindex 0\n",
        "merit= 1.7851717e+01  grad= 2.5262574e-04"
       ]
      },
      {
       "output_type": "stream",
       "stream": "stdout",
       "text": [
        "\n",
        "rindex 0\n",
        "merit= 1.7850151e+01  grad= 3.3028557e-04"
       ]
      },
      {
       "output_type": "stream",
       "stream": "stdout",
       "text": [
        "\n",
        "rindex 0\n",
        "merit= 1.7848727e+01  grad= 9.9874528e-04"
       ]
      },
      {
       "output_type": "stream",
       "stream": "stdout",
       "text": [
        "\n",
        "rindex 0\n",
        "merit= 1.7846814e+01  grad= 3.1259839e-04"
       ]
      },
      {
       "output_type": "stream",
       "stream": "stdout",
       "text": [
        "\n",
        "rindex 0\n",
        "merit= 1.7845379e+01  grad= 1.5614093e-04"
       ]
      },
      {
       "output_type": "stream",
       "stream": "stdout",
       "text": [
        "\n",
        "rindex 0\n",
        "merit= 1.7844171e+01  grad= 1.7279101e-04"
       ]
      },
      {
       "output_type": "stream",
       "stream": "stdout",
       "text": [
        "\n",
        "rindex 0\n",
        "merit= 1.7842564e+01  grad= 4.3833272e-04"
       ]
      },
      {
       "output_type": "stream",
       "stream": "stdout",
       "text": [
        "\n",
        "rindex"
       ]
      },
      {
       "output_type": "stream",
       "stream": "stdout",
       "text": [
        " 0\n",
        "merit= 1.7841762e+01  grad= 1.0067291e-03"
       ]
      },
      {
       "output_type": "stream",
       "stream": "stdout",
       "text": [
        "\n",
        "rindex 0\n",
        "merit= 1.7840380e+01  grad= 1.6616256e-04"
       ]
      },
      {
       "output_type": "stream",
       "stream": "stdout",
       "text": [
        "\n",
        "rindex 0\n",
        "merit= 1.7839502e+01  grad= 1.6752295e-04"
       ]
      },
      {
       "output_type": "stream",
       "stream": "stdout",
       "text": [
        "\n",
        "rindex 0\n",
        "merit= 1.7838375e+01  grad= 2.7874995e-04"
       ]
      },
      {
       "output_type": "stream",
       "stream": "stdout",
       "text": [
        "\n",
        "rindex 0\n",
        "merit= 1.7836521e+01  grad= 3.7692578e-04"
       ]
      },
      {
       "output_type": "stream",
       "stream": "stdout",
       "text": [
        "\n",
        "rindex 0\n",
        "merit= 1.7837623e+01  grad= 2.9599815e-03"
       ]
      },
      {
       "output_type": "stream",
       "stream": "stdout",
       "text": [
        "\n",
        "rindex 0\n",
        "merit= 1.7835537e+01  grad= 4.2687346e-04"
       ]
      },
      {
       "output_type": "stream",
       "stream": "stdout",
       "text": [
        "\n",
        "rindex 0\n",
        "merit= 1.7834415e+01  grad= 1.3680135e-04"
       ]
      },
      {
       "output_type": "stream",
       "stream": "stdout",
       "text": [
        "\n",
        "rindex 0\n",
        "merit= 1.7833350e+01  grad= 2.1025899e-04"
       ]
      },
      {
       "output_type": "stream",
       "stream": "stdout",
       "text": [
        "\n",
        "rindex 0\n",
        "merit= 1.7832120e+01  grad= 2.8975959e-04"
       ]
      },
      {
       "output_type": "stream",
       "stream": "stdout",
       "text": [
        "\n",
        "rindex"
       ]
      },
      {
       "output_type": "stream",
       "stream": "stdout",
       "text": [
        " 0\n",
        "merit= 1.7830021e+01  grad= 2.7513033e-04"
       ]
      },
      {
       "output_type": "stream",
       "stream": "stdout",
       "text": [
        "\n",
        "rindex 0\n",
        "merit= 1.7829527e+01  grad= 1.1040838e-03"
       ]
      },
      {
       "output_type": "stream",
       "stream": "stdout",
       "text": [
        "\n",
        "rindex 0\n",
        "merit= 1.7827616e+01  grad= 1.1424924e-04"
       ]
      },
      {
       "output_type": "stream",
       "stream": "stdout",
       "text": [
        "\n",
        "rindex 0\n",
        "merit= 1.7826989e+01  grad= 1.0426155e-04"
       ]
      },
      {
       "output_type": "stream",
       "stream": "stdout",
       "text": [
        "\n",
        "rindex 0\n",
        "merit= 1.7825856e+01  grad= 2.2221867e-04"
       ]
      },
      {
       "output_type": "stream",
       "stream": "stdout",
       "text": [
        "\n",
        "rindex 0\n",
        "merit= 1.7824903e+01  grad= 8.0254473e-04"
       ]
      },
      {
       "output_type": "stream",
       "stream": "stdout",
       "text": [
        "\n",
        "rindex 0\n",
        "merit= 1.7823627e+01  grad= 1.9530100e-04"
       ]
      },
      {
       "output_type": "stream",
       "stream": "stdout",
       "text": [
        "\n",
        "rindex 0\n",
        "merit= 1.7822556e+01  grad= 1.2795653e-04"
       ]
      },
      {
       "output_type": "stream",
       "stream": "stdout",
       "text": [
        "\n",
        "rindex 0\n",
        "merit= 1.7821810e+01  grad= 1.8149663e-04"
       ]
      },
      {
       "output_type": "stream",
       "stream": "stdout",
       "text": [
        "\n",
        "rindex 0\n",
        "merit= 1.7821201e+01  grad= 1.5586321e-03"
       ]
      },
      {
       "output_type": "stream",
       "stream": "stdout",
       "text": [
        "\n",
        "rindex"
       ]
      },
      {
       "output_type": "stream",
       "stream": "stdout",
       "text": [
        " 0\n",
        "merit= 1.7819912e+01  grad= 2.0156804e-04"
       ]
      },
      {
       "output_type": "stream",
       "stream": "stdout",
       "text": [
        "\n",
        "rindex 0\n",
        "merit= 1.7819341e+01  grad= 9.3548264e-05"
       ]
      },
      {
       "output_type": "stream",
       "stream": "stdout",
       "text": [
        "\n",
        "rindex 0\n",
        "merit= 1.7818695e+01  grad= 1.5610543e-04"
       ]
      },
      {
       "output_type": "stream",
       "stream": "stdout",
       "text": [
        "\n",
        "rindex 0\n",
        "merit= 1.7817821e+01  grad= 2.0780307e-04"
       ]
      },
      {
       "output_type": "stream",
       "stream": "stdout",
       "text": [
        "\n",
        "rindex 0\n",
        "merit= 1.7816673e+01  grad= 7.2963488e-04"
       ]
      },
      {
       "output_type": "stream",
       "stream": "stdout",
       "text": [
        "\n",
        "rindex 0\n",
        "merit= 1.7815394e+01  grad= 1.8056914e-04"
       ]
      },
      {
       "output_type": "stream",
       "stream": "stdout",
       "text": [
        "\n",
        "rindex 0\n",
        "merit= 1.7814828e+01  grad= 9.7182491e-05"
       ]
      },
      {
       "output_type": "stream",
       "stream": "stdout",
       "text": [
        "\n",
        "rindex 0\n",
        "merit= 1.7813911e+01  grad= 2.1743691e-04"
       ]
      },
      {
       "output_type": "stream",
       "stream": "stdout",
       "text": [
        "\n",
        "rindex 0\n",
        "merit= 1.7813254e+01  grad= 3.7737591e-04"
       ]
      },
      {
       "output_type": "stream",
       "stream": "stdout",
       "text": [
        "\n",
        "rindex 0\n",
        "merit= 1.7812504e+01  grad= 1.6426695e-04"
       ]
      },
      {
       "output_type": "stream",
       "stream": "stdout",
       "text": [
        "\n",
        "rindex"
       ]
      },
      {
       "output_type": "stream",
       "stream": "stdout",
       "text": [
        " 0\n",
        "merit= 1.7811368e+01  grad= 1.1199503e-04"
       ]
      },
      {
       "output_type": "stream",
       "stream": "stdout",
       "text": [
        "\n",
        "rindex 0\n",
        "merit= 1.7810780e+01  grad= 1.5196309e-04"
       ]
      },
      {
       "output_type": "stream",
       "stream": "stdout",
       "text": [
        "\n",
        "rindex 0\n",
        "merit= 1.7809798e+01  grad= 2.5983180e-04"
       ]
      },
      {
       "output_type": "stream",
       "stream": "stdout",
       "text": [
        "\n",
        "rindex 0\n",
        "merit= 1.7809005e+01  grad= 2.8704949e-04"
       ]
      },
      {
       "output_type": "stream",
       "stream": "stdout",
       "text": [
        "\n",
        "rindex 0\n",
        "merit= 1.7808424e+01  grad= 1.4020176e-04"
       ]
      },
      {
       "output_type": "stream",
       "stream": "stdout",
       "text": [
        "\n",
        "rindex 0\n",
        "merit= 1.7807457e+01  grad= 1.0797579e-04"
       ]
      },
      {
       "output_type": "stream",
       "stream": "stdout",
       "text": [
        "\n",
        "rindex 0\n",
        "merit= 1.7806828e+01  grad= 1.4194350e-04"
       ]
      },
      {
       "output_type": "stream",
       "stream": "stdout",
       "text": [
        "\n",
        "rindex 0\n",
        "merit= 1.7805970e+01  grad= 4.0563156e-04"
       ]
      },
      {
       "output_type": "stream",
       "stream": "stdout",
       "text": [
        "\n",
        "rindex 0\n",
        "merit= 1.7805101e+01  grad= 1.6634468e-04"
       ]
      },
      {
       "output_type": "stream",
       "stream": "stdout",
       "text": [
        "\n",
        "rindex 0\n",
        "merit= 1.7804502e+01  grad= 9.9524349e-05"
       ]
      },
      {
       "output_type": "stream",
       "stream": "stdout",
       "text": [
        "\n",
        "rindex"
       ]
      },
      {
       "output_type": "stream",
       "stream": "stdout",
       "text": [
        " 0\n",
        "merit= 1.7803745e+01  grad= 1.2187082e-04"
       ]
      },
      {
       "output_type": "stream",
       "stream": "stdout",
       "text": [
        "\n",
        "rindex 0\n",
        "merit= 1.7802830e+01  grad= 1.5039815e-04"
       ]
      },
      {
       "output_type": "stream",
       "stream": "stdout",
       "text": [
        "\n",
        "rindex"
       ]
      },
      {
       "output_type": "stream",
       "stream": "stdout",
       "text": [
        " 0\n",
        "merit= 1.7801919e+01  grad= 1.8326171e-04"
       ]
      },
      {
       "output_type": "stream",
       "stream": "stdout",
       "text": [
        "\n",
        "rindex 0\n",
        "merit= 1.7801572e+01  grad= 3.7763081e-04"
       ]
      },
      {
       "output_type": "stream",
       "stream": "stdout",
       "text": [
        "\n",
        "rindex 0\n",
        "merit= 1.7801049e+01  grad= 8.3320200e-05"
       ]
      },
      {
       "output_type": "stream",
       "stream": "stdout",
       "text": [
        "\n",
        "rindex 0\n",
        "merit= 1.7800663e+01  grad= 8.2364065e-05"
       ]
      },
      {
       "output_type": "stream",
       "stream": "stdout",
       "text": [
        "\n",
        "rindex 0\n",
        "merit= 1.7800119e+01  grad= 1.0726669e-04"
       ]
      },
      {
       "output_type": "stream",
       "stream": "stdout",
       "text": [
        "\n",
        "rindex 0\n",
        "merit= 1.7799180e+01  grad= 1.0059150e-04"
       ]
      },
      {
       "output_type": "stream",
       "stream": "stdout",
       "text": [
        "\n",
        "rindex 0\n",
        "merit= 1.7802237e+01  grad= 4.7915506e-03"
       ]
      },
      {
       "output_type": "stream",
       "stream": "stdout",
       "text": [
        "\n",
        "rindex 0\n",
        "merit= 1.7798821e+01  grad= 3.0986158e-04"
       ]
      },
      {
       "output_type": "stream",
       "stream": "stdout",
       "text": [
        "\n",
        "rindex"
       ]
      },
      {
       "output_type": "stream",
       "stream": "stdout",
       "text": [
        " 0\n",
        "merit= 1.7798042e+01  grad= 9.3642723e-05"
       ]
      },
      {
       "output_type": "stream",
       "stream": "stdout",
       "text": [
        "\n",
        "rindex 0\n",
        "merit= 1.7797452e+01  grad= 8.2983179e-05"
       ]
      },
      {
       "output_type": "stream",
       "stream": "stdout",
       "text": [
        "\n",
        "rindex 0\n",
        "merit= 1.7796699e+01  grad= 3.0792270e-04"
       ]
      },
      {
       "output_type": "stream",
       "stream": "stdout",
       "text": [
        "\n",
        "rindex 0\n",
        "merit= 1.7796059e+01  grad= 2.2582107e-04"
       ]
      },
      {
       "output_type": "stream",
       "stream": "stdout",
       "text": [
        "\n",
        "rindex 0\n",
        "merit= 1.7795525e+01  grad= 8.9521318e-05"
       ]
      },
      {
       "output_type": "stream",
       "stream": "stdout",
       "text": [
        "\n",
        "rindex 0\n",
        "merit= 1.7794750e+01  grad= 9.7954357e-05"
       ]
      },
      {
       "output_type": "stream",
       "stream": "stdout",
       "text": [
        "\n",
        "rindex 0\n",
        "merit= 1.7794220e+01  grad= 1.2460430e-04"
       ]
      },
      {
       "output_type": "stream",
       "stream": "stdout",
       "text": [
        "\n",
        "rindex 0\n",
        "merit= 1.7793222e+01  grad= 5.3816766e-04"
       ]
      },
      {
       "output_type": "stream",
       "stream": "stdout",
       "text": [
        "\n",
        "rindex 0\n",
        "merit= 1.7792280e+01  grad= 1.6324378e-04"
       ]
      },
      {
       "output_type": "stream",
       "stream": "stdout",
       "text": [
        "\n",
        "rindex 0\n",
        "merit= 1.7791784e+01  grad= 6.9396328e-05"
       ]
      },
      {
       "output_type": "stream",
       "stream": "stdout",
       "text": [
        "\n",
        "rindex"
       ]
      },
      {
       "output_type": "stream",
       "stream": "stdout",
       "text": [
        " 0\n",
        "merit= 1.7791253e+01  grad= 8.0990711e-05"
       ]
      },
      {
       "output_type": "stream",
       "stream": "stdout",
       "text": [
        "\n",
        "rindex 0\n",
        "merit= 1.7790609e+01  grad= 1.4557406e-04"
       ]
      },
      {
       "output_type": "stream",
       "stream": "stdout",
       "text": [
        "\n",
        "rindex 0\n",
        "merit= 1.7789464e+01  grad= 1.7896513e-04"
       ]
      },
      {
       "output_type": "stream",
       "stream": "stdout",
       "text": [
        "\n",
        "rindex 0\n",
        "merit= 1.7788813e+01  grad= 1.1424598e-04"
       ]
      },
      {
       "output_type": "stream",
       "stream": "stdout",
       "text": [
        "\n",
        "rindex 0\n",
        "merit= 1.7788349e+01  grad= 7.3685366e-05"
       ]
      },
      {
       "output_type": "stream",
       "stream": "stdout",
       "text": [
        "\n",
        "rindex 0\n",
        "merit= 1.7787818e+01  grad= 1.0088821e-04"
       ]
      },
      {
       "output_type": "stream",
       "stream": "stdout",
       "text": [
        "\n",
        "rindex 0\n",
        "merit= 1.7787125e+01  grad= 2.3335747e-04"
       ]
      },
      {
       "output_type": "stream",
       "stream": "stdout",
       "text": [
        "\n",
        "rindex 0\n",
        "merit= 1.7786340e+01  grad= 2.2313106e-04"
       ]
      },
      {
       "output_type": "stream",
       "stream": "stdout",
       "text": [
        "\n",
        "rindex 0\n",
        "merit= 1.7785759e+01  grad= 8.8050848e-05"
       ]
      },
      {
       "output_type": "stream",
       "stream": "stdout",
       "text": [
        "\n",
        "rindex 0\n",
        "merit= 1.7785310e+01  grad= 9.0368321e-05"
       ]
      },
      {
       "output_type": "stream",
       "stream": "stdout",
       "text": [
        "\n",
        "rindex"
       ]
      },
      {
       "output_type": "stream",
       "stream": "stdout",
       "text": [
        " 0\n",
        "merit= 1.7784885e+01  grad= 1.9960438e-04"
       ]
      },
      {
       "output_type": "stream",
       "stream": "stdout",
       "text": [
        "\n",
        "rindex 0\n",
        "merit= 1.7784019e+01  grad= 1.3089046e-04"
       ]
      },
      {
       "output_type": "stream",
       "stream": "stdout",
       "text": [
        "\n",
        "rindex 0\n",
        "merit= 1.7783458e+01  grad= 6.1579562e-04"
       ]
      },
      {
       "output_type": "stream",
       "stream": "stdout",
       "text": [
        "\n",
        "rindex 0\n",
        "merit= 1.7782629e+01  grad= 8.1258679e-05"
       ]
      },
      {
       "output_type": "stream",
       "stream": "stdout",
       "text": [
        "\n",
        "rindex 0\n",
        "merit= 1.7782274e+01  grad= 7.7690228e-05"
       ]
      },
      {
       "output_type": "stream",
       "stream": "stdout",
       "text": [
        "\n",
        "rindex 0\n",
        "merit= 1.7781655e+01  grad= 1.4082342e-04"
       ]
      },
      {
       "output_type": "stream",
       "stream": "stdout",
       "text": [
        "\n",
        "rindex 0\n",
        "merit= 1.7781642e+01  grad= 1.3394975e-03"
       ]
      },
      {
       "output_type": "stream",
       "stream": "stdout",
       "text": [
        "\n",
        "rindex 0\n",
        "merit= 1.7781172e+01  grad= 3.4709008e-04"
       ]
      },
      {
       "output_type": "stream",
       "stream": "stdout",
       "text": [
        "\n",
        "rindex 0\n",
        "merit= 1.7780506e+01  grad= 1.4725950e-04"
       ]
      },
      {
       "output_type": "stream",
       "stream": "stdout",
       "text": [
        "\n",
        "rindex 0\n",
        "merit= 1.7779585e+01  grad= 7.4241663e-05"
       ]
      },
      {
       "output_type": "stream",
       "stream": "stdout",
       "text": [
        "\n",
        "rindex"
       ]
      },
      {
       "output_type": "stream",
       "stream": "stdout",
       "text": [
        " 0\n",
        "merit= 1.7778972e+01  grad= 9.5473754e-05"
       ]
      },
      {
       "output_type": "stream",
       "stream": "stdout",
       "text": [
        "\n",
        "rindex 0\n",
        "merit= 1.7777830e+01  grad= 2.5593130e-04"
       ]
      },
      {
       "output_type": "stream",
       "stream": "stdout",
       "text": [
        "\n",
        "rindex 0\n",
        "merit= 1.7777075e+01  grad= 4.1215533e-04"
       ]
      },
      {
       "output_type": "stream",
       "stream": "stdout",
       "text": [
        "\n",
        "rindex 0\n",
        "merit= 1.7776139e+01  grad= 7.5978077e-05"
       ]
      },
      {
       "output_type": "stream",
       "stream": "stdout",
       "text": [
        "\n",
        "rindex 0\n",
        "merit= 1.7775541e+01  grad= 8.4422884e-05"
       ]
      },
      {
       "output_type": "stream",
       "stream": "stdout",
       "text": [
        "\n",
        "rindex 0\n",
        "merit= 1.7774905e+01  grad= 1.3086322e-04"
       ]
      },
      {
       "output_type": "stream",
       "stream": "stdout",
       "text": [
        "\n",
        "rindex 0\n",
        "merit= 1.7774583e+01  grad= 8.9010448e-04"
       ]
      },
      {
       "output_type": "stream",
       "stream": "stdout",
       "text": [
        "\n",
        "rindex 0\n",
        "merit= 1.7773341e+01  grad= 9.5178689e-05"
       ]
      },
      {
       "output_type": "stream",
       "stream": "stdout",
       "text": [
        "\n",
        "rindex 0\n",
        "merit= 1.7772890e+01  grad= 6.5461231e-05"
       ]
      },
      {
       "output_type": "stream",
       "stream": "stdout",
       "text": [
        "\n",
        "rindex 0\n",
        "merit= 1.7772228e+01  grad= 9.2765542e-05"
       ]
      },
      {
       "output_type": "stream",
       "stream": "stdout",
       "text": [
        "\n",
        "rindex"
       ]
      },
      {
       "output_type": "stream",
       "stream": "stdout",
       "text": [
        " 0\n",
        "merit= 1.7771211e+01  grad= 1.2462943e-04"
       ]
      },
      {
       "output_type": "stream",
       "stream": "stdout",
       "text": [
        "\n",
        "rindex 0\n",
        "merit= 1.7773458e+01  grad= 3.9230534e-03"
       ]
      },
      {
       "output_type": "stream",
       "stream": "stdout",
       "text": [
        "\n",
        "rindex 0\n",
        "merit= 1.7770710e+01  grad= 3.8296663e-04"
       ]
      },
      {
       "output_type": "stream",
       "stream": "stdout",
       "text": [
        "\n",
        "rindex 0\n",
        "merit= 1.7769655e+01  grad= 1.0378060e-04"
       ]
      },
      {
       "output_type": "stream",
       "stream": "stdout",
       "text": [
        "\n",
        "rindex 0\n",
        "merit= 1.7768956e+01  grad= 7.8251594e-05"
       ]
      },
      {
       "output_type": "stream",
       "stream": "stdout",
       "text": [
        "\n",
        "rindex 0\n",
        "merit= 1.7768424e+01  grad= 6.3384413e-04"
       ]
      },
      {
       "output_type": "stream",
       "stream": "stdout",
       "text": [
        "\n",
        "rindex 0\n",
        "merit= 1.7767660e+01  grad= 1.5557467e-04"
       ]
      },
      {
       "output_type": "stream",
       "stream": "stdout",
       "text": [
        "\n",
        "rindex 0\n",
        "merit= 1.7767179e+01  grad= 1.1077601e-04"
       ]
      },
      {
       "output_type": "stream",
       "stream": "stdout",
       "text": [
        "\n",
        "rindex 0\n",
        "merit= 1.7766407e+01  grad= 1.5119764e-04"
       ]
      },
      {
       "output_type": "stream",
       "stream": "stdout",
       "text": [
        "\n",
        "rindex 0\n",
        "merit= 1.7765701e+01  grad= 4.6266784e-04"
       ]
      },
      {
       "output_type": "stream",
       "stream": "stdout",
       "text": [
        "\n",
        "rindex"
       ]
      },
      {
       "output_type": "stream",
       "stream": "stdout",
       "text": [
        " 0\n",
        "merit= 1.7764884e+01  grad= 1.7838173e-04"
       ]
      },
      {
       "output_type": "stream",
       "stream": "stdout",
       "text": [
        "\n",
        "rindex 0\n",
        "merit= 1.7764207e+01  grad= 1.0421790e-04"
       ]
      },
      {
       "output_type": "stream",
       "stream": "stdout",
       "text": [
        "\n",
        "rindex 0\n",
        "merit= 1.7763714e+01  grad= 1.3771073e-04"
       ]
      },
      {
       "output_type": "stream",
       "stream": "stdout",
       "text": [
        "\n",
        "rindex 0\n",
        "merit= 1.7763096e+01  grad= 1.2876750e-04"
       ]
      },
      {
       "output_type": "stream",
       "stream": "stdout",
       "text": [
        "\n",
        "rindex 0\n",
        "merit= 1.7762087e+01  grad= 2.0302156e-04"
       ]
      },
      {
       "output_type": "stream",
       "stream": "stdout",
       "text": [
        "\n",
        "rindex 0\n",
        "merit= 1.7761620e+01  grad= 5.1494099e-04"
       ]
      },
      {
       "output_type": "stream",
       "stream": "stdout",
       "text": [
        "\n",
        "rindex 0\n",
        "merit= 1.7760831e+01  grad= 9.3248575e-05"
       ]
      },
      {
       "output_type": "stream",
       "stream": "stdout",
       "text": [
        "\n",
        "rindex 0\n",
        "merit= 1.7760275e+01  grad= 7.4886885e-05"
       ]
      },
      {
       "output_type": "stream",
       "stream": "stdout",
       "text": [
        "\n",
        "rindex 0\n",
        "merit= 1.7759573e+01  grad= 1.0999581e-04"
       ]
      },
      {
       "output_type": "stream",
       "stream": "stdout",
       "text": [
        "\n",
        "rindex 0\n",
        "merit= 1.7758464e+01  grad= 1.5812651e-04"
       ]
      },
      {
       "output_type": "stream",
       "stream": "stdout",
       "text": [
        "\n",
        "rindex"
       ]
      },
      {
       "output_type": "stream",
       "stream": "stdout",
       "text": [
        " 0\n",
        "merit= 1.7758551e+01  grad= 1.0752703e-03"
       ]
      },
      {
       "output_type": "stream",
       "stream": "stdout",
       "text": [
        "\n",
        "rindex 0\n",
        "merit= 1.7757812e+01  grad= 2.2811544e-04"
       ]
      },
      {
       "output_type": "stream",
       "stream": "stdout",
       "text": [
        "\n",
        "rindex 0\n",
        "merit= 1.7757091e+01  grad= 7.1401508e-05"
       ]
      },
      {
       "output_type": "stream",
       "stream": "stdout",
       "text": [
        "\n",
        "rindex 0\n",
        "merit= 1.7756490e+01  grad= 1.0204086e-04"
       ]
      },
      {
       "output_type": "stream",
       "stream": "stdout",
       "text": [
        "\n",
        "rindex 0\n",
        "merit= 1.7755656e+01  grad= 1.7521299e-04"
       ]
      },
      {
       "output_type": "stream",
       "stream": "stdout",
       "text": [
        "\n",
        "rindex 0\n",
        "merit= 1.7754699e+01  grad= 2.6595619e-04"
       ]
      },
      {
       "output_type": "stream",
       "stream": "stdout",
       "text": [
        "\n",
        "rindex 0\n",
        "merit= 1.7753827e+01  grad= 1.4803212e-04"
       ]
      },
      {
       "output_type": "stream",
       "stream": "stdout",
       "text": [
        "\n",
        "rindex 0\n",
        "merit= 1.7753170e+01  grad= 1.0499005e-04"
       ]
      },
      {
       "output_type": "stream",
       "stream": "stdout",
       "text": [
        "\n",
        "rindex 0\n",
        "merit= 1.7752614e+01  grad= 1.1213368e-04"
       ]
      },
      {
       "output_type": "stream",
       "stream": "stdout",
       "text": [
        "\n",
        "rindex 0\n",
        "merit= 1.7751929e+01  grad= 6.7254500e-04"
       ]
      },
      {
       "output_type": "stream",
       "stream": "stdout",
       "text": [
        "\n",
        "rindex"
       ]
      },
      {
       "output_type": "stream",
       "stream": "stdout",
       "text": [
        " 0\n",
        "merit= 1.7750951e+01  grad= 1.3959508e-04"
       ]
      },
      {
       "output_type": "stream",
       "stream": "stdout",
       "text": [
        "\n",
        "rindex 0\n",
        "merit= 1.7750498e+01  grad= 7.3272709e-05"
       ]
      },
      {
       "output_type": "stream",
       "stream": "stdout",
       "text": [
        "\n",
        "rindex 0\n",
        "merit= 1.7749973e+01  grad= 1.2376538e-04"
       ]
      },
      {
       "output_type": "stream",
       "stream": "stdout",
       "text": [
        "\n",
        "rindex 0\n",
        "merit= 1.7749430e+01  grad= 7.8460816e-04"
       ]
      },
      {
       "output_type": "stream",
       "stream": "stdout",
       "text": [
        "\n",
        "rindex 0\n",
        "merit= 1.7748583e+01  grad= 1.8109359e-04"
       ]
      },
      {
       "output_type": "stream",
       "stream": "stdout",
       "text": [
        "\n",
        "rindex 0\n",
        "merit= 1.7747862e+01  grad= 8.5008737e-05"
       ]
      },
      {
       "output_type": "stream",
       "stream": "stdout",
       "text": [
        "\n",
        "rindex 0\n",
        "merit= 1.7747451e+01  grad= 1.1475305e-04"
       ]
      },
      {
       "output_type": "stream",
       "stream": "stdout",
       "text": [
        "\n",
        "rindex 0\n",
        "merit= 1.7746969e+01  grad= 6.0391941e-04"
       ]
      },
      {
       "output_type": "stream",
       "stream": "stdout",
       "text": [
        "\n",
        "rindex 0\n",
        "merit= 1.7746235e+01  grad= 6.4611397e-05"
       ]
      },
      {
       "output_type": "stream",
       "stream": "stdout",
       "text": [
        "\n",
        "rindex 0\n",
        "merit= 1.7745972e+01  grad= 4.7318729e-05"
       ]
      },
      {
       "output_type": "stream",
       "stream": "stdout",
       "text": [
        "\n",
        "rindex"
       ]
      },
      {
       "output_type": "stream",
       "stream": "stdout",
       "text": [
        " 0\n",
        "merit= 1.7745509e+01  grad= 9.8797433e-05"
       ]
      },
      {
       "output_type": "stream",
       "stream": "stdout",
       "text": [
        "\n",
        "rindex 0\n",
        "merit= 1.7744890e+01  grad= 1.7966928e-04"
       ]
      },
      {
       "output_type": "stream",
       "stream": "stdout",
       "text": [
        "\n",
        "rindex 0\n",
        "merit= 1.7744091e+01  grad= 9.4628557e-05"
       ]
      },
      {
       "output_type": "stream",
       "stream": "stdout",
       "text": [
        "\n",
        "rindex 0\n",
        "merit= 1.7743416e+01  grad= 1.7703807e-04"
       ]
      },
      {
       "output_type": "stream",
       "stream": "stdout",
       "text": [
        "\n",
        "rindex 0\n",
        "merit= 1.7742799e+01  grad= 8.9991657e-05"
       ]
      },
      {
       "output_type": "stream",
       "stream": "stdout",
       "text": [
        "\n",
        "rindex 0\n",
        "merit= 1.7742386e+01  grad= 8.1150602e-05"
       ]
      },
      {
       "output_type": "stream",
       "stream": "stdout",
       "text": [
        "\n",
        "rindex 0\n",
        "merit= 1.7741794e+01  grad= 5.2303746e-04"
       ]
      },
      {
       "output_type": "stream",
       "stream": "stdout",
       "text": [
        "\n",
        "rindex 0\n",
        "merit= 1.7740860e+01  grad= 6.3755303e-05"
       ]
      },
      {
       "output_type": "stream",
       "stream": "stdout",
       "text": [
        "\n",
        "rindex 0\n",
        "merit= 1.7740543e+01  grad= 6.0950011e-05"
       ]
      },
      {
       "output_type": "stream",
       "stream": "stdout",
       "text": [
        "\n",
        "rindex 0\n",
        "merit= 1.7740083e+01  grad= 1.4400719e-04"
       ]
      },
      {
       "output_type": "stream",
       "stream": "stdout",
       "text": [
        "\n",
        "rindex"
       ]
      },
      {
       "output_type": "stream",
       "stream": "stdout",
       "text": [
        " 0\n",
        "merit= 1.7739477e+01  grad= 4.7351795e-05"
       ]
      },
      {
       "output_type": "stream",
       "stream": "stdout",
       "text": [
        "\n",
        "rindex 0\n",
        "merit= 1.7738916e+01  grad= 1.0086209e-04"
       ]
      },
      {
       "output_type": "stream",
       "stream": "stdout",
       "text": [
        "\n",
        "rindex 0\n",
        "merit= 1.7738754e+01  grad= 6.3332451e-04"
       ]
      },
      {
       "output_type": "stream",
       "stream": "stdout",
       "text": [
        "\n",
        "rindex 0\n",
        "merit= 1.7738173e+01  grad= 8.9250410e-05"
       ]
      },
      {
       "output_type": "stream",
       "stream": "stdout",
       "text": [
        "\n",
        "rindex 0\n",
        "merit= 1.7737836e+01  grad= 5.4510837e-05"
       ]
      },
      {
       "output_type": "stream",
       "stream": "stdout",
       "text": [
        "\n",
        "rindex 0\n",
        "merit= 1.7737441e+01  grad= 9.2491481e-05"
       ]
      },
      {
       "output_type": "stream",
       "stream": "stdout",
       "text": [
        "\n",
        "rindex 0\n",
        "merit= 1.7736787e+01  grad= 1.0478598e-04"
       ]
      },
      {
       "output_type": "stream",
       "stream": "stdout",
       "text": [
        "\n",
        "rindex 0\n",
        "merit= 1.7736341e+01  grad= 8.0718557e-04"
       ]
      },
      {
       "output_type": "stream",
       "stream": "stdout",
       "text": [
        "\n",
        "rindex 0\n",
        "merit= 1.7735368e+01  grad= 1.5338734e-04"
       ]
      },
      {
       "output_type": "stream",
       "stream": "stdout",
       "text": [
        "\n",
        "rindex 0\n",
        "merit= 1.7735020e+01  grad= 4.6532556e-05"
       ]
      },
      {
       "output_type": "stream",
       "stream": "stdout",
       "text": [
        "\n",
        "rindex"
       ]
      },
      {
       "output_type": "stream",
       "stream": "stdout",
       "text": [
        " 0\n",
        "merit= 1.7734687e+01  grad= 4.5614043e-05"
       ]
      },
      {
       "output_type": "stream",
       "stream": "stdout",
       "text": [
        "\n",
        "rindex 0\n",
        "merit= 1.7734231e+01  grad= 2.5080591e-04"
       ]
      },
      {
       "output_type": "stream",
       "stream": "stdout",
       "text": [
        "\n",
        "rindex 0\n",
        "merit= 1.7733684e+01  grad= 9.4144520e-05"
       ]
      },
      {
       "output_type": "stream",
       "stream": "stdout",
       "text": [
        "\n",
        "rindex 0\n",
        "merit= 1.7733214e+01  grad= 5.0769868e-05"
       ]
      },
      {
       "output_type": "stream",
       "stream": "stdout",
       "text": [
        "\n",
        "rindex 0\n",
        "merit= 1.7732765e+01  grad= 6.3146527e-05"
       ]
      },
      {
       "output_type": "stream",
       "stream": "stdout",
       "text": [
        "\n",
        "rindex 0\n",
        "merit= 1.7732340e+01  grad= 1.2764916e-04"
       ]
      },
      {
       "output_type": "stream",
       "stream": "stdout",
       "text": [
        "\n",
        "rindex 0\n",
        "merit= 1.7731765e+01  grad= 2.2598452e-04"
       ]
      },
      {
       "output_type": "stream",
       "stream": "stdout",
       "text": [
        "\n",
        "rindex 0\n",
        "merit= 1.7731160e+01  grad= 7.3865959e-05"
       ]
      },
      {
       "output_type": "stream",
       "stream": "stdout",
       "text": [
        "\n",
        "rindex 0\n",
        "merit= 1.7730837e+01  grad= 6.0431105e-05"
       ]
      },
      {
       "output_type": "stream",
       "stream": "stdout",
       "text": [
        "\n",
        "rindex 0\n",
        "merit= 1.7730495e+01  grad= 7.0500478e-05"
       ]
      },
      {
       "output_type": "stream",
       "stream": "stdout",
       "text": [
        "\n",
        "rindex"
       ]
      },
      {
       "output_type": "stream",
       "stream": "stdout",
       "text": [
        " 0\n",
        "merit= 1.7730227e+01  grad= 3.2480590e-04"
       ]
      },
      {
       "output_type": "stream",
       "stream": "stdout",
       "text": [
        "\n",
        "rindex 0\n",
        "merit= 1.7729772e+01  grad= 4.5893113e-05"
       ]
      },
      {
       "output_type": "stream",
       "stream": "stdout",
       "text": [
        "\n",
        "rindex 0\n",
        "merit= 1.7729584e+01  grad= 3.8206454e-05"
       ]
      },
      {
       "output_type": "stream",
       "stream": "stdout",
       "text": [
        "\n",
        "rindex 0\n",
        "merit= 1.7729308e+01  grad= 6.4274570e-05"
       ]
      },
      {
       "output_type": "stream",
       "stream": "stdout",
       "text": [
        "\n",
        "rindex 0\n",
        "merit= 1.7728811e+01  grad= 1.1178259e-04"
       ]
      },
      {
       "output_type": "stream",
       "stream": "stdout",
       "text": [
        "\n",
        "rindex 0\n",
        "merit= 1.7728474e+01  grad= 3.1434753e-04"
       ]
      },
      {
       "output_type": "stream",
       "stream": "stdout",
       "text": [
        "\n",
        "rindex 0\n",
        "merit= 1.7728089e+01  grad= 6.5568306e-05"
       ]
      },
      {
       "output_type": "stream",
       "stream": "stdout",
       "text": [
        "\n",
        "rindex 0\n",
        "merit= 1.7727900e+01  grad= 5.3110731e-05"
       ]
      },
      {
       "output_type": "stream",
       "stream": "stdout",
       "text": [
        "\n",
        "rindex 0\n",
        "merit= 1.7727571e+01  grad= 5.5426114e-05"
       ]
      },
      {
       "output_type": "stream",
       "stream": "stdout",
       "text": [
        "\n",
        "rindex 0\n",
        "merit= 1.7727095e+01  grad= 1.1854012e-04"
       ]
      },
      {
       "output_type": "stream",
       "stream": "stdout",
       "text": [
        "\n",
        "rindex"
       ]
      },
      {
       "output_type": "stream",
       "stream": "stdout",
       "text": [
        " 0\n",
        "merit= 1.7726998e+01  grad= 3.0790839e-04"
       ]
      },
      {
       "output_type": "stream",
       "stream": "stdout",
       "text": [
        "\n",
        "rindex 0\n",
        "merit= 1.7726587e+01  grad= 4.0869591e-05"
       ]
      },
      {
       "output_type": "stream",
       "stream": "stdout",
       "text": [
        "\n",
        "rindex 0\n",
        "merit= 1.7726399e+01  grad= 3.1345562e-05"
       ]
      },
      {
       "output_type": "stream",
       "stream": "stdout",
       "text": [
        "\n",
        "rindex 0\n",
        "merit= 1.7726073e+01  grad= 5.8265755e-05"
       ]
      },
      {
       "output_type": "stream",
       "stream": "stdout",
       "text": [
        "\n",
        "rindex 0\n",
        "merit= 1.7725710e+01  grad= 1.6996727e-04"
       ]
      },
      {
       "output_type": "stream",
       "stream": "stdout",
       "text": [
        "\n",
        "rindex 0\n",
        "merit= 1.7725356e+01  grad= 6.6792955e-05"
       ]
      },
      {
       "output_type": "stream",
       "stream": "stdout",
       "text": [
        "\n",
        "rindex 0\n",
        "merit= 1.7725100e+01  grad= 3.0766739e-05"
       ]
      },
      {
       "output_type": "stream",
       "stream": "stdout",
       "text": [
        "\n",
        "rindex 0\n",
        "merit= 1.7724680e+01  grad= 5.0305392e-05"
       ]
      },
      {
       "output_type": "stream",
       "stream": "stdout",
       "text": [
        "\n",
        "rindex 0\n",
        "merit= 1.7724323e+01  grad= 4.8908242e-05"
       ]
      },
      {
       "output_type": "stream",
       "stream": "stdout",
       "text": [
        "\n",
        "rindex 0\n",
        "merit= 1.7724238e+01  grad= 3.9277555e-04"
       ]
      },
      {
       "output_type": "stream",
       "stream": "stdout",
       "text": [
        "\n",
        "rindex"
       ]
      },
      {
       "output_type": "stream",
       "stream": "stdout",
       "text": [
        " 0\n",
        "merit= 1.7723639e+01  grad= 3.5312028e-05"
       ]
      },
      {
       "output_type": "stream",
       "stream": "stdout",
       "text": [
        "\n",
        "rindex 0\n",
        "merit= 1.7723483e+01  grad= 2.8158205e-05"
       ]
      },
      {
       "output_type": "stream",
       "stream": "stdout",
       "text": [
        "\n",
        "rindex"
       ]
      },
      {
       "output_type": "stream",
       "stream": "stdout",
       "text": [
        " 0\n",
        "merit= 1.7723253e+01  grad= 5.2728534e-05"
       ]
      },
      {
       "output_type": "stream",
       "stream": "stdout",
       "text": [
        "\n",
        "rindex 0\n",
        "merit= 1.7722991e+01  grad= 2.3220372e-04"
       ]
      },
      {
       "output_type": "stream",
       "stream": "stdout",
       "text": [
        "\n",
        "rindex 0\n",
        "merit= 1.7722661e+01  grad= 6.2306142e-05"
       ]
      },
      {
       "output_type": "stream",
       "stream": "stdout",
       "text": [
        "\n",
        "rindex 0\n",
        "merit= 1.7722344e+01  grad= 3.7436126e-05"
       ]
      },
      {
       "output_type": "stream",
       "stream": "stdout",
       "text": [
        "\n",
        "rindex 0\n",
        "merit= 1.7722160e+01  grad= 4.9224518e-05"
       ]
      },
      {
       "output_type": "stream",
       "stream": "stdout",
       "text": [
        "\n",
        "rindex 0\n",
        "merit= 1.7721825e+01  grad= 2.6084088e-04"
       ]
      },
      {
       "output_type": "stream",
       "stream": "stdout",
       "text": [
        "\n",
        "rindex 0\n",
        "merit= 1.7721548e+01  grad= 2.5382372e-04"
       ]
      },
      {
       "output_type": "stream",
       "stream": "stdout",
       "text": [
        "\n",
        "rindex 0\n",
        "merit= 1.7721295e+01  grad= 3.9825583e-05"
       ]
      },
      {
       "output_type": "stream",
       "stream": "stdout",
       "text": [
        "\n",
        "rindex"
       ]
      },
      {
       "output_type": "stream",
       "stream": "stdout",
       "text": [
        " 0\n",
        "merit= 1.7721162e+01  grad= 2.7431423e-05"
       ]
      },
      {
       "output_type": "stream",
       "stream": "stdout",
       "text": [
        "\n",
        "rindex 0\n",
        "merit= 1.7720960e+01  grad= 5.8713304e-05"
       ]
      },
      {
       "output_type": "stream",
       "stream": "stdout",
       "text": [
        "\n",
        "rindex"
       ]
      },
      {
       "output_type": "stream",
       "stream": "stdout",
       "text": [
        " 0\n",
        "merit= 1.7720614e+01  grad= 7.5426404e-05"
       ]
      },
      {
       "output_type": "stream",
       "stream": "stdout",
       "text": [
        "\n",
        "rindex 0\n",
        "merit= 1.7720909e+01  grad= 1.1431404e-03"
       ]
      },
      {
       "output_type": "stream",
       "stream": "stdout",
       "text": [
        "\n",
        "rindex 0\n",
        "merit= 1.7720419e+01  grad= 2.5729030e-04"
       ]
      },
      {
       "output_type": "stream",
       "stream": "stdout",
       "text": [
        "\n",
        "rindex 0\n",
        "merit= 1.7720022e+01  grad= 8.3590273e-05"
       ]
      },
      {
       "output_type": "stream",
       "stream": "stdout",
       "text": [
        "\n",
        "rindex 0\n",
        "merit= 1.7719693e+01  grad= 2.8370344e-05"
       ]
      },
      {
       "output_type": "stream",
       "stream": "stdout",
       "text": [
        "\n",
        "rindex 0\n",
        "merit= 1.7719427e+01  grad= 5.6763613e-05"
       ]
      },
      {
       "output_type": "stream",
       "stream": "stdout",
       "text": [
        "\n",
        "rindex 0\n",
        "merit= 1.7719167e+01  grad= 8.7630551e-05"
       ]
      },
      {
       "output_type": "stream",
       "stream": "stdout",
       "text": [
        "\n",
        "rindex 0\n",
        "merit= 1.7718928e+01  grad= 1.3861806e-04"
       ]
      },
      {
       "output_type": "stream",
       "stream": "stdout",
       "text": [
        "\n",
        "rindex"
       ]
      },
      {
       "output_type": "stream",
       "stream": "stdout",
       "text": [
        " 0\n",
        "merit= 1.7718655e+01  grad= 3.5620501e-05"
       ]
      },
      {
       "output_type": "stream",
       "stream": "stdout",
       "text": [
        "\n",
        "rindex 0\n",
        "merit= 1.7718410e+01  grad= 4.8209142e-05"
       ]
      },
      {
       "output_type": "stream",
       "stream": "stdout",
       "text": [
        "\n",
        "rindex 0\n",
        "merit= 1.7718192e+01  grad= 6.0109964e-05"
       ]
      },
      {
       "output_type": "stream",
       "stream": "stdout",
       "text": [
        "\n",
        "rindex 0\n",
        "merit= 1.7717891e+01  grad= 1.3227113e-04"
       ]
      },
      {
       "output_type": "stream",
       "stream": "stdout",
       "text": [
        "\n",
        "rindex 0\n",
        "merit= 1.7717510e+01  grad= 3.8468503e-05"
       ]
      },
      {
       "output_type": "stream",
       "stream": "stdout",
       "text": [
        "\n",
        "rindex 0\n",
        "merit= 1.7717270e+01  grad= 3.7708950e-05"
       ]
      },
      {
       "output_type": "stream",
       "stream": "stdout",
       "text": [
        "\n",
        "rindex 0\n",
        "merit= 1.7717019e+01  grad= 6.6908283e-05"
       ]
      },
      {
       "output_type": "stream",
       "stream": "stdout",
       "text": [
        "\n",
        "rindex 0\n",
        "merit= 1.7716854e+01  grad= 8.2377665e-05"
       ]
      },
      {
       "output_type": "stream",
       "stream": "stdout",
       "text": [
        "\n",
        "rindex 0\n",
        "merit= 1.7716675e+01  grad= 4.7272272e-05"
       ]
      },
      {
       "output_type": "stream",
       "stream": "stdout",
       "text": [
        "\n",
        "rindex 0\n",
        "merit= 1.7716300e+01  grad= 5.3406572e-05"
       ]
      },
      {
       "output_type": "stream",
       "stream": "stdout",
       "text": [
        "\n",
        "rindex"
       ]
      },
      {
       "output_type": "stream",
       "stream": "stdout",
       "text": [
        " 0\n",
        "merit= 1.7716061e+01  grad= 6.6157285e-05"
       ]
      },
      {
       "output_type": "stream",
       "stream": "stdout",
       "text": [
        "\n",
        "rindex 0\n",
        "merit= 1.7715763e+01  grad= 2.0804511e-04"
       ]
      },
      {
       "output_type": "stream",
       "stream": "stdout",
       "text": [
        "\n",
        "rindex 0\n",
        "merit= 1.7715447e+01  grad= 6.1817175e-05"
       ]
      },
      {
       "output_type": "stream",
       "stream": "stdout",
       "text": [
        "\n",
        "rindex 0\n",
        "merit= 1.7715282e+01  grad= 3.1961104e-05"
       ]
      },
      {
       "output_type": "stream",
       "stream": "stdout",
       "text": [
        "\n",
        "rindex 0\n",
        "merit= 1.7715033e+01  grad= 5.5166662e-05"
       ]
      },
      {
       "output_type": "stream",
       "stream": "stdout",
       "text": [
        "\n",
        "rindex 0\n",
        "merit= 1.7714783e+01  grad= 6.7982640e-05"
       ]
      },
      {
       "output_type": "stream",
       "stream": "stdout",
       "text": [
        "\n",
        "rindex 0\n",
        "merit= 1.7714555e+01  grad= 3.6047680e-05"
       ]
      },
      {
       "output_type": "stream",
       "stream": "stdout",
       "text": [
        "\n",
        "rindex 0\n",
        "merit= 1.7714320e+01  grad= 5.0313253e-05"
       ]
      },
      {
       "output_type": "stream",
       "stream": "stdout",
       "text": [
        "\n",
        "rindex 0\n",
        "merit= 1.7714194e+01  grad= 1.8820002e-04"
       ]
      },
      {
       "output_type": "stream",
       "stream": "stdout",
       "text": [
        "\n",
        "rindex 0\n",
        "merit= 1.7713978e+01  grad= 5.2527410e-05"
       ]
      },
      {
       "output_type": "stream",
       "stream": "stdout",
       "text": [
        "\n",
        "rindex"
       ]
      },
      {
       "output_type": "stream",
       "stream": "stdout",
       "text": [
        " 0\n",
        "merit= 1.7713707e+01  grad= 2.3395245e-05"
       ]
      },
      {
       "output_type": "stream",
       "stream": "stdout",
       "text": [
        "\n",
        "rindex 0\n",
        "merit= 1.7713520e+01  grad= 4.0395673e-05"
       ]
      },
      {
       "output_type": "stream",
       "stream": "stdout",
       "text": [
        "\n",
        "rindex 0\n",
        "merit= 1.7713216e+01  grad= 5.6451064e-05"
       ]
      },
      {
       "output_type": "stream",
       "stream": "stdout",
       "text": [
        "\n",
        "rindex 0\n",
        "merit= 1.7713324e+01  grad= 5.4512587e-04"
       ]
      },
      {
       "output_type": "stream",
       "stream": "stdout",
       "text": [
        "\n",
        "rindex 0\n",
        "merit= 1.7712990e+01  grad= 9.6699936e-05"
       ]
      },
      {
       "output_type": "stream",
       "stream": "stdout",
       "text": [
        "\n",
        "rindex 0\n",
        "merit= 1.7712771e+01  grad= 2.5605620e-05"
       ]
      },
      {
       "output_type": "stream",
       "stream": "stdout",
       "text": [
        "\n",
        "rindex 0\n",
        "merit= 1.7712603e+01  grad= 3.4972993e-05"
       ]
      },
      {
       "output_type": "stream",
       "stream": "stdout",
       "text": [
        "\n",
        "rindex 0\n",
        "merit= 1.7712374e+01  grad= 5.3625690e-05"
       ]
      },
      {
       "output_type": "stream",
       "stream": "stdout",
       "text": [
        "\n",
        "rindex 0\n",
        "merit= 1.7711898e+01  grad= 8.4424464e-05"
       ]
      },
      {
       "output_type": "stream",
       "stream": "stdout",
       "text": [
        "\n",
        "rindex 0\n",
        "merit= 1.7712217e+01  grad= 7.0578606e-04"
       ]
      },
      {
       "output_type": "stream",
       "stream": "stdout",
       "text": [
        "\n",
        "rindex"
       ]
      },
      {
       "output_type": "stream",
       "stream": "stdout",
       "text": [
        " 0\n",
        "merit= 1.7711678e+01  grad= 1.1311244e-04"
       ]
      },
      {
       "output_type": "stream",
       "stream": "stdout",
       "text": [
        "\n",
        "rindex 0\n",
        "merit= 1.7711374e+01  grad= 3.1839676e-05"
       ]
      },
      {
       "output_type": "stream",
       "stream": "stdout",
       "text": [
        "\n",
        "rindex 0\n",
        "merit= 1.7711190e+01  grad= 2.9978515e-05"
       ]
      },
      {
       "output_type": "stream",
       "stream": "stdout",
       "text": [
        "\n",
        "rindex 0\n",
        "merit= 1.7710981e+01  grad= 5.9257408e-05"
       ]
      },
      {
       "output_type": "stream",
       "stream": "stdout",
       "text": [
        "\n",
        "rindex 0\n",
        "merit= 1.7710704e+01  grad= 4.5267684e-05"
       ]
      },
      {
       "output_type": "stream",
       "stream": "stdout",
       "text": [
        "\n",
        "rindex 0\n",
        "merit= 1.7710334e+01  grad= 9.6019170e-05"
       ]
      },
      {
       "output_type": "stream",
       "stream": "stdout",
       "text": [
        "\n",
        "rindex 0\n",
        "merit= 1.7709993e+01  grad= 4.2296311e-05"
       ]
      },
      {
       "output_type": "stream",
       "stream": "stdout",
       "text": [
        "\n",
        "rindex 0\n",
        "merit= 1.7709782e+01  grad= 3.1673230e-05"
       ]
      },
      {
       "output_type": "stream",
       "stream": "stdout",
       "text": [
        "\n",
        "rindex 0\n",
        "merit= 1.7709592e+01  grad= 8.2556980e-05"
       ]
      },
      {
       "output_type": "stream",
       "stream": "stdout",
       "text": [
        "\n",
        "rindex 0\n",
        "merit= 1.7709437e+01  grad= 4.7006742e-05"
       ]
      },
      {
       "output_type": "stream",
       "stream": "stdout",
       "text": [
        "\n",
        "rindex"
       ]
      },
      {
       "output_type": "stream",
       "stream": "stdout",
       "text": [
        " 0\n",
        "merit= 1.7709323e+01  grad= 3.4423916e-05"
       ]
      },
      {
       "output_type": "stream",
       "stream": "stdout",
       "text": [
        "\n",
        "rindex 0\n",
        "merit= 1.7708998e+01  grad= 3.4731786e-05"
       ]
      },
      {
       "output_type": "stream",
       "stream": "stdout",
       "text": [
        "\n",
        "rindex 0\n",
        "merit= 1.7708770e+01  grad= 1.2613160e-04"
       ]
      },
      {
       "output_type": "stream",
       "stream": "stdout",
       "text": [
        "\n",
        "rindex 0\n",
        "merit= 1.7708494e+01  grad= 4.7908399e-05"
       ]
      },
      {
       "output_type": "stream",
       "stream": "stdout",
       "text": [
        "\n",
        "rindex 0\n",
        "merit= 1.7708173e+01  grad= 2.7314481e-05"
       ]
      },
      {
       "output_type": "stream",
       "stream": "stdout",
       "text": [
        "\n",
        "rindex 0\n",
        "merit= 1.7708025e+01  grad= 1.1084121e-04"
       ]
      },
      {
       "output_type": "stream",
       "stream": "stdout",
       "text": [
        "\n",
        "rindex 0\n",
        "merit= 1.7707841e+01  grad= 6.5426653e-05"
       ]
      },
      {
       "output_type": "stream",
       "stream": "stdout",
       "text": [
        "\n",
        "rindex 0\n",
        "merit= 1.7707498e+01  grad= 2.9258051e-05"
       ]
      },
      {
       "output_type": "stream",
       "stream": "stdout",
       "text": [
        "\n",
        "rindex 0\n",
        "merit= 1.7707281e+01  grad= 9.6373159e-05"
       ]
      },
      {
       "output_type": "stream",
       "stream": "stdout",
       "text": [
        "\n",
        "rindex 0\n",
        "merit= 1.7707047e+01  grad= 6.7537000e-05"
       ]
      },
      {
       "output_type": "stream",
       "stream": "stdout",
       "text": [
        "\n",
        "rindex"
       ]
      },
      {
       "output_type": "stream",
       "stream": "stdout",
       "text": [
        " 0\n",
        "merit= 1.7706873e+01  grad= 3.9158950e-05"
       ]
      },
      {
       "output_type": "stream",
       "stream": "stdout",
       "text": [
        "\n",
        "rindex 0\n",
        "merit= 1.7706556e+01  grad= 2.9545098e-05"
       ]
      },
      {
       "output_type": "stream",
       "stream": "stdout",
       "text": [
        "\n",
        "rindex 0\n",
        "merit= 1.7706335e+01  grad= 6.5184450e-05"
       ]
      },
      {
       "output_type": "stream",
       "stream": "stdout",
       "text": [
        "\n",
        "rindex 0\n",
        "merit= 1.7706018e+01  grad= 5.8533885e-05"
       ]
      },
      {
       "output_type": "stream",
       "stream": "stdout",
       "text": [
        "\n",
        "rindex 0\n",
        "merit= 1.7705740e+01  grad= 6.4639993e-05"
       ]
      },
      {
       "output_type": "stream",
       "stream": "stdout",
       "text": [
        "\n",
        "rindex 0\n",
        "merit= 1.7705524e+01  grad= 3.5649845e-05"
       ]
      },
      {
       "output_type": "stream",
       "stream": "stdout",
       "text": [
        "\n",
        "rindex 0\n",
        "merit= 1.7705393e+01  grad= 2.7039029e-05"
       ]
      },
      {
       "output_type": "stream",
       "stream": "stdout",
       "text": [
        "\n",
        "rindex 0\n",
        "merit= 1.7705194e+01  grad= 2.6201530e-05"
       ]
      },
      {
       "output_type": "stream",
       "stream": "stdout",
       "text": [
        "\n",
        "rindex 0\n",
        "merit= 1.7704954e+01  grad= 1.2875183e-04"
       ]
      },
      {
       "output_type": "stream",
       "stream": "stdout",
       "text": [
        "\n",
        "rindex 0\n",
        "merit= 1.7704650e+01  grad= 3.0322065e-05"
       ]
      },
      {
       "output_type": "stream",
       "stream": "stdout",
       "text": [
        "\n",
        "rindex"
       ]
      },
      {
       "output_type": "stream",
       "stream": "stdout",
       "text": [
        " 0\n",
        "merit= 1.7704434e+01  grad= 2.4009458e-05"
       ]
      },
      {
       "output_type": "stream",
       "stream": "stdout",
       "text": [
        "\n",
        "rindex 0\n",
        "merit= 1.7704191e+01  grad= 3.1882613e-05"
       ]
      },
      {
       "output_type": "stream",
       "stream": "stdout",
       "text": [
        "\n",
        "rindex 0\n",
        "merit= 1.7704003e+01  grad= 2.9879480e-04"
       ]
      },
      {
       "output_type": "stream",
       "stream": "stdout",
       "text": [
        "\n",
        "rindex 0\n",
        "merit= 1.7703679e+01  grad= 4.1290571e-05"
       ]
      },
      {
       "output_type": "stream",
       "stream": "stdout",
       "text": [
        "\n",
        "rindex 0\n",
        "merit= 1.7703521e+01  grad= 2.5738143e-05"
       ]
      },
      {
       "output_type": "stream",
       "stream": "stdout",
       "text": [
        "\n",
        "rindex 0\n",
        "merit= 1.7703344e+01  grad= 2.6260833e-05"
       ]
      },
      {
       "output_type": "stream",
       "stream": "stdout",
       "text": [
        "\n",
        "rindex 0\n",
        "merit= 1.7703173e+01  grad= 5.0287998e-05"
       ]
      },
      {
       "output_type": "stream",
       "stream": "stdout",
       "text": [
        "\n",
        "rindex 0\n",
        "merit= 1.7702870e+01  grad= 3.3953499e-05"
       ]
      },
      {
       "output_type": "stream",
       "stream": "stdout",
       "text": [
        "\n",
        "rindex 0\n",
        "merit= 1.7702587e+01  grad= 2.6779848e-05"
       ]
      },
      {
       "output_type": "stream",
       "stream": "stdout",
       "text": [
        "\n",
        "rindex 0\n",
        "merit= 1.7702321e+01  grad= 6.8065162e-05"
       ]
      },
      {
       "output_type": "stream",
       "stream": "stdout",
       "text": [
        "\n",
        "rindex"
       ]
      },
      {
       "output_type": "stream",
       "stream": "stdout",
       "text": [
        " 0\n",
        "merit= 1.7702153e+01  grad= 7.2085335e-05"
       ]
      },
      {
       "output_type": "stream",
       "stream": "stdout",
       "text": [
        "\n",
        "rindex 0\n",
        "merit= 1.7701982e+01  grad= 3.0234724e-05"
       ]
      },
      {
       "output_type": "stream",
       "stream": "stdout",
       "text": [
        "\n",
        "rindex"
       ]
      },
      {
       "output_type": "stream",
       "stream": "stdout",
       "text": [
        " 0\n",
        "merit= 1.7701741e+01  grad= 2.3022668e-05"
       ]
      },
      {
       "output_type": "stream",
       "stream": "stdout",
       "text": [
        "\n",
        "rindex 0\n",
        "merit= 1.7701800e+01  grad= 4.0042348e-04"
       ]
      },
      {
       "output_type": "stream",
       "stream": "stdout",
       "text": [
        "\n",
        "rindex 0\n",
        "merit= 1.7701650e+01  grad= 7.7315181e-05"
       ]
      },
      {
       "output_type": "stream",
       "stream": "stdout",
       "text": [
        "\n",
        "rindex 0\n",
        "merit= 1.7701528e+01  grad= 3.9652495e-05"
       ]
      },
      {
       "output_type": "stream",
       "stream": "stdout",
       "text": [
        "\n",
        "rindex 0\n",
        "merit= 1.7701300e+01  grad= 2.0417168e-05"
       ]
      },
      {
       "output_type": "stream",
       "stream": "stdout",
       "text": [
        "\n",
        "rindex 0\n",
        "merit= 1.7701146e+01  grad= 5.0326030e-05"
       ]
      },
      {
       "output_type": "stream",
       "stream": "stdout",
       "text": [
        "\n",
        "rindex 0\n",
        "merit= 1.7700970e+01  grad= 5.1097840e-05"
       ]
      },
      {
       "output_type": "stream",
       "stream": "stdout",
       "text": [
        "\n",
        "rindex 0\n",
        "merit= 1.7700783e+01  grad= 2.9364131e-05"
       ]
      },
      {
       "output_type": "stream",
       "stream": "stdout",
       "text": [
        "\n",
        "rindex"
       ]
      },
      {
       "output_type": "stream",
       "stream": "stdout",
       "text": [
        " 0\n",
        "merit= 1.7700470e+01  grad= 4.6227683e-05"
       ]
      },
      {
       "output_type": "stream",
       "stream": "stdout",
       "text": [
        "\n",
        "rindex 0\n",
        "merit= 1.7700236e+01  grad= 4.8607133e-05"
       ]
      },
      {
       "output_type": "stream",
       "stream": "stdout",
       "text": [
        "\n",
        "rindex 0\n",
        "merit= 1.7700023e+01  grad= 3.2369218e-05"
       ]
      },
      {
       "output_type": "stream",
       "stream": "stdout",
       "text": [
        "\n",
        "rindex 0\n",
        "merit= 1.7699724e+01  grad= 5.0582701e-05"
       ]
      },
      {
       "output_type": "stream",
       "stream": "stdout",
       "text": [
        "\n",
        "rindex 0\n",
        "merit= 1.7699583e+01  grad= 6.2215020e-05"
       ]
      },
      {
       "output_type": "stream",
       "stream": "stdout",
       "text": [
        "\n",
        "rindex 0\n",
        "merit= 1.7699445e+01  grad= 2.4381064e-05"
       ]
      },
      {
       "output_type": "stream",
       "stream": "stdout",
       "text": [
        "\n",
        "rindex 0\n",
        "merit= 1.7699255e+01  grad= 2.6632795e-05"
       ]
      },
      {
       "output_type": "stream",
       "stream": "stdout",
       "text": [
        "\n",
        "rindex 0\n",
        "merit= 1.7699145e+01  grad= 8.4773777e-05"
       ]
      },
      {
       "output_type": "stream",
       "stream": "stdout",
       "text": [
        "\n",
        "rindex 0\n",
        "merit= 1.7699007e+01  grad= 2.6196872e-05"
       ]
      },
      {
       "output_type": "stream",
       "stream": "stdout",
       "text": [
        "\n",
        "rindex 0\n",
        "merit= 1.7698827e+01  grad= 2.7713077e-05"
       ]
      },
      {
       "output_type": "stream",
       "stream": "stdout",
       "text": [
        "\n",
        "rindex"
       ]
      },
      {
       "output_type": "stream",
       "stream": "stdout",
       "text": [
        " 0\n",
        "merit= 1.7698660e+01  grad= 4.1105985e-05"
       ]
      },
      {
       "output_type": "stream",
       "stream": "stdout",
       "text": [
        "\n",
        "rindex 0\n",
        "merit= 1.7698325e+01  grad= 4.1944147e-05"
       ]
      },
      {
       "output_type": "stream",
       "stream": "stdout",
       "text": [
        "\n",
        "rindex 0\n",
        "merit= 1.7698443e+01  grad= 4.0361697e-04"
       ]
      },
      {
       "output_type": "stream",
       "stream": "stdout",
       "text": [
        "\n",
        "rindex 0\n",
        "merit= 1.7698167e+01  grad= 8.8333846e-05"
       ]
      },
      {
       "output_type": "stream",
       "stream": "stdout",
       "text": [
        "\n",
        "rindex 0\n",
        "merit= 1.7697891e+01  grad= 2.4279793e-05"
       ]
      },
      {
       "output_type": "stream",
       "stream": "stdout",
       "text": [
        "\n",
        "rindex 0\n",
        "merit= 1.7697720e+01  grad= 3.8183620e-05"
       ]
      },
      {
       "output_type": "stream",
       "stream": "stdout",
       "text": [
        "\n",
        "rindex 0\n",
        "merit= 1.7697545e+01  grad= 4.1544285e-05"
       ]
      },
      {
       "output_type": "stream",
       "stream": "stdout",
       "text": [
        "\n",
        "rindex 0\n",
        "merit= 1.7697366e+01  grad= 3.8250810e-05"
       ]
      },
      {
       "output_type": "stream",
       "stream": "stdout",
       "text": [
        "\n",
        "rindex 0\n",
        "merit= 1.7697255e+01  grad= 1.5940940e-04"
       ]
      },
      {
       "output_type": "stream",
       "stream": "stdout",
       "text": [
        "\n",
        "rindex 0\n",
        "merit= 1.7697075e+01  grad= 2.3912553e-05"
       ]
      },
      {
       "output_type": "stream",
       "stream": "stdout",
       "text": [
        "\n",
        "rindex"
       ]
      },
      {
       "output_type": "stream",
       "stream": "stdout",
       "text": [
        " 0\n",
        "merit= 1.7696979e+01  grad= 2.0310276e-05"
       ]
      },
      {
       "output_type": "stream",
       "stream": "stdout",
       "text": [
        "\n",
        "rindex 0\n",
        "merit= 1.7696839e+01  grad= 2.4535651e-05"
       ]
      },
      {
       "output_type": "stream",
       "stream": "stdout",
       "text": [
        "\n",
        "rindex 0\n",
        "merit= 1.7696746e+01  grad= 1.4260172e-04"
       ]
      },
      {
       "output_type": "stream",
       "stream": "stdout",
       "text": [
        "\n",
        "rindex 0\n",
        "merit= 1.7696580e+01  grad= 2.5744588e-05"
       ]
      },
      {
       "output_type": "stream",
       "stream": "stdout",
       "text": [
        "\n",
        "rindex 0\n",
        "merit= 1.7696458e+01  grad= 1.6107047e-05"
       ]
      },
      {
       "output_type": "stream",
       "stream": "stdout",
       "text": [
        "\n",
        "rindex 0\n",
        "merit= 1.7696324e+01  grad= 2.6191266e-05"
       ]
      },
      {
       "output_type": "stream",
       "stream": "stdout",
       "text": [
        "\n",
        "rindex 0\n",
        "merit= 1.7696110e+01  grad= 3.1075671e-05"
       ]
      },
      {
       "output_type": "stream",
       "stream": "stdout",
       "text": [
        "\n",
        "rindex 0\n",
        "merit= 1.7696081e+01  grad= 2.3317866e-04"
       ]
      },
      {
       "output_type": "stream",
       "stream": "stdout",
       "text": [
        "\n",
        "rindex 0\n",
        "merit= 1.7695764e+01  grad= 1.4971054e-05"
       ]
      },
      {
       "output_type": "stream",
       "stream": "stdout",
       "text": [
        "\n",
        "rindex 0\n",
        "merit= 1.7695682e+01  grad= 1.0396120e-05"
       ]
      },
      {
       "output_type": "stream",
       "stream": "stdout",
       "text": [
        "\n",
        "rindex"
       ]
      },
      {
       "output_type": "stream",
       "stream": "stdout",
       "text": [
        " 0\n",
        "merit= 1.7695540e+01  grad= 1.9933813e-05"
       ]
      },
      {
       "output_type": "stream",
       "stream": "stdout",
       "text": [
        "\n",
        "rindex 0\n",
        "merit= 1.7695482e+01  grad= 2.0288511e-04"
       ]
      },
      {
       "output_type": "stream",
       "stream": "stdout",
       "text": [
        "\n",
        "rindex 0\n",
        "merit= 1.7695284e+01  grad= 2.9618054e-05"
       ]
      },
      {
       "output_type": "stream",
       "stream": "stdout",
       "text": [
        "\n",
        "rindex 0\n",
        "merit= 1.7695174e+01  grad= 1.2677285e-05"
       ]
      },
      {
       "output_type": "stream",
       "stream": "stdout",
       "text": [
        "\n",
        "rindex 0\n",
        "merit= 1.7695063e+01  grad= 2.0401204e-05"
       ]
      },
      {
       "output_type": "stream",
       "stream": "stdout",
       "text": [
        "\n",
        "rindex 0\n",
        "merit= 1.7694875e+01  grad= 2.5525684e-05"
       ]
      },
      {
       "output_type": "stream",
       "stream": "stdout",
       "text": [
        "\n",
        "rindex 0\n",
        "merit= 1.7694544e+01  grad= 5.7624082e-05"
       ]
      },
      {
       "output_type": "stream",
       "stream": "stdout",
       "text": [
        "\n",
        "rindex 0\n",
        "merit= 1.7694915e+01  grad= 4.7300413e-04"
       ]
      },
      {
       "output_type": "stream",
       "stream": "stdout",
       "text": [
        "\n",
        "rindex 0\n",
        "merit= 1.7694394e+01  grad= 5.1555011e-05"
       ]
      },
      {
       "output_type": "stream",
       "stream": "stdout",
       "text": [
        "\n",
        "rindex 0\n",
        "merit= 1.7694267e+01  grad= 1.6888136e-05"
       ]
      },
      {
       "output_type": "stream",
       "stream": "stdout",
       "text": [
        "\n",
        "rindex"
       ]
      },
      {
       "output_type": "stream",
       "stream": "stdout",
       "text": [
        " 0\n",
        "merit= 1.7694173e+01  grad= 1.3858837e-05"
       ]
      },
      {
       "output_type": "stream",
       "stream": "stdout",
       "text": [
        "\n",
        "rindex 0\n",
        "merit= 1.7694101e+01  grad= 1.8097359e-05"
       ]
      },
      {
       "output_type": "stream",
       "stream": "stdout",
       "text": [
        "\n",
        "rindex 0\n",
        "merit= 1.7693948e+01  grad= 1.8949161e-05"
       ]
      },
      {
       "output_type": "stream",
       "stream": "stdout",
       "text": [
        "\n",
        "rindex 0\n",
        "merit= 1.7693898e+01  grad= 1.3072679e-04"
       ]
      },
      {
       "output_type": "stream",
       "stream": "stdout",
       "text": [
        "\n",
        "rindex 0\n",
        "merit= 1.7693766e+01  grad= 1.7925954e-05"
       ]
      },
      {
       "output_type": "stream",
       "stream": "stdout",
       "text": [
        "\n",
        "rindex 0\n",
        "merit= 1.7693697e+01  grad= 1.0117982e-05"
       ]
      },
      {
       "output_type": "stream",
       "stream": "stdout",
       "text": [
        "\n",
        "rindex 0\n",
        "merit= 1.7693614e+01  grad= 1.3988846e-05"
       ]
      },
      {
       "output_type": "stream",
       "stream": "stdout",
       "text": [
        "\n",
        "rindex 0\n",
        "merit= 1.7693455e+01  grad= 2.3181086e-05"
       ]
      },
      {
       "output_type": "stream",
       "stream": "stdout",
       "text": [
        "\n",
        "rindex 0\n",
        "merit= 1.7693656e+01  grad= 3.7477012e-04"
       ]
      },
      {
       "output_type": "stream",
       "stream": "stdout",
       "text": [
        "\n",
        "rindex 0\n",
        "merit= 1.7693369e+01  grad= 4.6488006e-05"
       ]
      },
      {
       "output_type": "stream",
       "stream": "stdout",
       "text": [
        "\n",
        "rindex"
       ]
      },
      {
       "output_type": "stream",
       "stream": "stdout",
       "text": [
        " 0\n",
        "merit= 1.7693233e+01  grad= 1.4887920e-05"
       ]
      },
      {
       "output_type": "stream",
       "stream": "stdout",
       "text": [
        "\n",
        "rindex 0\n",
        "merit= 1.7693137e+01  grad= 1.4576392e-05"
       ]
      },
      {
       "output_type": "stream",
       "stream": "stdout",
       "text": [
        "\n",
        "rindex 0\n",
        "merit= 1.7693041e+01  grad= 2.7720459e-05"
       ]
      },
      {
       "output_type": "stream",
       "stream": "stdout",
       "text": [
        "\n",
        "rindex 0\n",
        "merit= 1.7692949e+01  grad= 1.3914773e-05"
       ]
      },
      {
       "output_type": "stream",
       "stream": "stdout",
       "text": [
        "\n",
        "rindex 0\n",
        "merit= 1.7692799e+01  grad= 1.5716567e-05"
       ]
      },
      {
       "output_type": "stream",
       "stream": "stdout",
       "text": [
        "\n",
        "rindex 0\n",
        "merit= 1.7692721e+01  grad= 6.9443144e-05"
       ]
      },
      {
       "output_type": "stream",
       "stream": "stdout",
       "text": [
        "\n",
        "rindex 0\n",
        "merit= 1.7692621e+01  grad= 2.2772058e-05"
       ]
      },
      {
       "output_type": "stream",
       "stream": "stdout",
       "text": [
        "\n",
        "rindex 0\n",
        "merit= 1.7692530e+01  grad= 1.1789399e-05"
       ]
      },
      {
       "output_type": "stream",
       "stream": "stdout",
       "text": [
        "\n",
        "rindex 0\n",
        "merit= 1.7692455e+01  grad= 1.5435784e-05"
       ]
      },
      {
       "output_type": "stream",
       "stream": "stdout",
       "text": [
        "\n",
        "rindex 0\n",
        "merit= 1.7692297e+01  grad= 2.5912655e-05"
       ]
      },
      {
       "output_type": "stream",
       "stream": "stdout",
       "text": [
        "\n",
        "rindex"
       ]
      },
      {
       "output_type": "stream",
       "stream": "stdout",
       "text": [
        " 0\n",
        "merit= 1.7692292e+01  grad= 1.7921085e-04"
       ]
      },
      {
       "output_type": "stream",
       "stream": "stdout",
       "text": [
        "\n",
        "rindex 0\n",
        "merit= 1.7692187e+01  grad= 4.5101773e-05"
       ]
      },
      {
       "output_type": "stream",
       "stream": "stdout",
       "text": [
        "\n",
        "rindex 0\n",
        "merit= 1.7692069e+01  grad= 1.4236334e-05"
       ]
      },
      {
       "output_type": "stream",
       "stream": "stdout",
       "text": [
        "\n",
        "rindex 0\n",
        "merit= 1.7691984e+01  grad= 1.4111039e-05"
       ]
      },
      {
       "output_type": "stream",
       "stream": "stdout",
       "text": [
        "\n",
        "rindex 0\n",
        "merit= 1.7691892e+01  grad= 4.3696876e-05"
       ]
      },
      {
       "output_type": "stream",
       "stream": "stdout",
       "text": [
        "\n",
        "rindex 0\n",
        "merit= 1.7691789e+01  grad= 1.8611484e-05"
       ]
      },
      {
       "output_type": "stream",
       "stream": "stdout",
       "text": [
        "\n",
        "rindex 0\n",
        "merit= 1.7691702e+01  grad= 1.1270995e-05"
       ]
      },
      {
       "output_type": "stream",
       "stream": "stdout",
       "text": [
        "\n",
        "rindex 0\n",
        "merit= 1.7691611e+01  grad= 1.6996966e-05"
       ]
      },
      {
       "output_type": "stream",
       "stream": "stdout",
       "text": [
        "\n",
        "rindex 0\n",
        "merit= 1.7691520e+01  grad= 4.9959970e-05"
       ]
      },
      {
       "output_type": "stream",
       "stream": "stdout",
       "text": [
        "\n",
        "rindex 0\n",
        "merit= 1.7691423e+01  grad= 1.4792037e-05"
       ]
      },
      {
       "output_type": "stream",
       "stream": "stdout",
       "text": [
        "\n",
        "rindex"
       ]
      },
      {
       "output_type": "stream",
       "stream": "stdout",
       "text": [
        " 0\n",
        "merit= 1.7691322e+01  grad= 1.3975265e-05"
       ]
      },
      {
       "output_type": "stream",
       "stream": "stdout",
       "text": [
        "\n",
        "rindex 0\n",
        "merit= 1.7691234e+01  grad= 2.6438294e-05"
       ]
      },
      {
       "output_type": "stream",
       "stream": "stdout",
       "text": [
        "\n",
        "rindex 0\n",
        "merit= 1.7691088e+01  grad= 1.6918212e-05"
       ]
      },
      {
       "output_type": "stream",
       "stream": "stdout",
       "text": [
        "\n",
        "rindex 0\n",
        "merit= 1.7690958e+01  grad= 3.0539417e-05"
       ]
      },
      {
       "output_type": "stream",
       "stream": "stdout",
       "text": [
        "\n",
        "rindex 0\n",
        "merit= 1.7690851e+01  grad= 2.2760668e-05"
       ]
      },
      {
       "output_type": "stream",
       "stream": "stdout",
       "text": [
        "\n",
        "rindex 0\n",
        "merit= 1.7690770e+01  grad= 1.4267168e-05"
       ]
      },
      {
       "output_type": "stream",
       "stream": "stdout",
       "text": [
        "\n",
        "rindex 0\n",
        "merit= 1.7690684e+01  grad= 1.5060200e-05"
       ]
      },
      {
       "output_type": "stream",
       "stream": "stdout",
       "text": [
        "\n",
        "rindex 0\n",
        "merit= 1.7690571e+01  grad= 2.2154154e-05"
       ]
      },
      {
       "output_type": "stream",
       "stream": "stdout",
       "text": [
        "\n",
        "rindex 0\n",
        "merit= 1.7690459e+01  grad= 2.8267672e-05"
       ]
      },
      {
       "output_type": "stream",
       "stream": "stdout",
       "text": [
        "\n",
        "rindex 0\n",
        "merit= 1.7690363e+01  grad= 1.1801143e-05"
       ]
      },
      {
       "output_type": "stream",
       "stream": "stdout",
       "text": [
        "\n",
        "rindex"
       ]
      },
      {
       "output_type": "stream",
       "stream": "stdout",
       "text": [
        " 0\n",
        "merit= 1.7690243e+01  grad= 2.0034685e-05"
       ]
      },
      {
       "output_type": "stream",
       "stream": "stdout",
       "text": [
        "\n",
        "rindex 0\n",
        "merit= 1.7690148e+01  grad= 3.3317119e-05"
       ]
      },
      {
       "output_type": "stream",
       "stream": "stdout",
       "text": [
        "\n",
        "rindex 0\n",
        "merit= 1.7690042e+01  grad= 1.3589886e-05"
       ]
      },
      {
       "output_type": "stream",
       "stream": "stdout",
       "text": [
        "\n",
        "rindex 0\n",
        "merit= 1.7689912e+01  grad= 1.1919356e-05"
       ]
      },
      {
       "output_type": "stream",
       "stream": "stdout",
       "text": [
        "\n",
        "rindex 0\n",
        "merit= 1.7689800e+01  grad= 1.7491209e-05"
       ]
      },
      {
       "output_type": "stream",
       "stream": "stdout",
       "text": [
        "\n",
        "rindex 0\n",
        "merit= 1.7689813e+01  grad= 1.5587012e-04"
       ]
      },
      {
       "output_type": "stream",
       "stream": "stdout",
       "text": [
        "\n",
        "rindex 0\n",
        "merit= 1.7689702e+01  grad= 3.0927146e-05"
       ]
      },
      {
       "output_type": "stream",
       "stream": "stdout",
       "text": [
        "\n",
        "rindex 0\n",
        "merit= 1.7689597e+01  grad= 9.1846608e-06"
       ]
      },
      {
       "output_type": "stream",
       "stream": "stdout",
       "text": [
        "\n",
        "rindex 0\n",
        "merit= 1.7689524e+01  grad= 9.6277715e-06"
       ]
      },
      {
       "output_type": "stream",
       "stream": "stdout",
       "text": [
        "\n",
        "rindex 0\n",
        "merit= 1.7689444e+01  grad= 7.2737365e-05"
       ]
      },
      {
       "output_type": "stream",
       "stream": "stdout",
       "text": [
        "\n",
        "rindex"
       ]
      },
      {
       "output_type": "stream",
       "stream": "stdout",
       "text": [
        " 0\n",
        "merit= 1.7689330e+01  grad= 1.4723359e-05"
       ]
      },
      {
       "output_type": "stream",
       "stream": "stdout",
       "text": [
        "\n",
        "rindex 0\n",
        "merit= 1.7689257e+01  grad= 1.3067986e-05"
       ]
      },
      {
       "output_type": "stream",
       "stream": "stdout",
       "text": [
        "\n",
        "rindex 0\n",
        "merit= 1.7689132e+01  grad= 1.5258381e-05"
       ]
      },
      {
       "output_type": "stream",
       "stream": "stdout",
       "text": [
        "\n",
        "rindex 0\n",
        "merit= 1.7688984e+01  grad= 1.6495881e-05"
       ]
      },
      {
       "output_type": "stream",
       "stream": "stdout",
       "text": [
        "\n",
        "rindex 0\n",
        "merit= 1.7688974e+01  grad= 1.9323600e-04"
       ]
      },
      {
       "output_type": "stream",
       "stream": "stdout",
       "text": [
        "\n",
        "rindex 0\n",
        "merit= 1.7688905e+01  grad= 5.2809066e-05"
       ]
      },
      {
       "output_type": "stream",
       "stream": "stdout",
       "text": [
        "\n",
        "rindex 0\n",
        "merit= 1.7688800e+01  grad= 1.2690926e-05"
       ]
      },
      {
       "output_type": "stream",
       "stream": "stdout",
       "text": [
        "\n",
        "rindex 0\n",
        "merit= 1.7688744e+01  grad= 7.9232614e-06"
       ]
      },
      {
       "output_type": "stream",
       "stream": "stdout",
       "text": [
        "\n",
        "rindex 0\n",
        "merit= 1.7688658e+01  grad= 1.0730583e-05"
       ]
      },
      {
       "output_type": "stream",
       "stream": "stdout",
       "text": [
        "\n",
        "rindex 0\n",
        "merit= 1.7688574e+01  grad= 5.2896161e-05"
       ]
      },
      {
       "output_type": "stream",
       "stream": "stdout",
       "text": [
        "\n",
        "rindex"
       ]
      },
      {
       "output_type": "stream",
       "stream": "stdout",
       "text": [
        " 0\n",
        "merit= 1.7688470e+01  grad= 1.8604957e-05"
       ]
      },
      {
       "output_type": "stream",
       "stream": "stdout",
       "text": [
        "\n",
        "rindex 0\n",
        "merit= 1.7688386e+01  grad= 1.3829349e-05"
       ]
      },
      {
       "output_type": "stream",
       "stream": "stdout",
       "text": [
        "\n",
        "rindex 0\n",
        "merit= 1.7688266e+01  grad= 2.0421885e-05"
       ]
      },
      {
       "output_type": "stream",
       "stream": "stdout",
       "text": [
        "\n",
        "rindex 0\n",
        "merit= 1.7688183e+01  grad= 7.2338838e-05"
       ]
      },
      {
       "output_type": "stream",
       "stream": "stdout",
       "text": [
        "\n",
        "rindex 0\n",
        "merit= 1.7688065e+01  grad= 1.3427672e-05"
       ]
      },
      {
       "output_type": "stream",
       "stream": "stdout",
       "text": [
        "\n",
        "rindex 0\n",
        "merit= 1.7687993e+01  grad= 9.2496920e-06"
       ]
      },
      {
       "output_type": "stream",
       "stream": "stdout",
       "text": [
        "\n",
        "rindex 0\n",
        "merit= 1.7687925e+01  grad= 1.8862410e-05"
       ]
      },
      {
       "output_type": "stream",
       "stream": "stdout",
       "text": [
        "\n",
        "rindex 0\n",
        "merit= 1.7687842e+01  grad= 5.3293289e-05"
       ]
      },
      {
       "output_type": "stream",
       "stream": "stdout",
       "text": [
        "\n",
        "rindex 0\n",
        "merit= 1.7687744e+01  grad= 1.6673208e-05"
       ]
      },
      {
       "output_type": "stream",
       "stream": "stdout",
       "text": [
        "\n",
        "rindex 0\n",
        "merit= 1.7687653e+01  grad= 1.1154512e-05"
       ]
      },
      {
       "output_type": "stream",
       "stream": "stdout",
       "text": [
        "\n",
        "rindex"
       ]
      },
      {
       "output_type": "stream",
       "stream": "stdout",
       "text": [
        " 0\n",
        "merit= 1.7687567e+01  grad= 1.5744164e-05"
       ]
      },
      {
       "output_type": "stream",
       "stream": "stdout",
       "text": [
        "\n",
        "rindex 0\n",
        "merit= 1.7687479e+01  grad= 5.0098525e-05"
       ]
      },
      {
       "output_type": "stream",
       "stream": "stdout",
       "text": [
        "\n",
        "rindex"
       ]
      },
      {
       "output_type": "stream",
       "stream": "stdout",
       "text": [
        " 0\n",
        "merit= 1.7687372e+01  grad= 1.2912984e-05"
       ]
      },
      {
       "output_type": "stream",
       "stream": "stdout",
       "text": [
        "\n",
        "rindex 0\n",
        "merit= 1.7687306e+01  grad= 9.5127866e-06"
       ]
      },
      {
       "output_type": "stream",
       "stream": "stdout",
       "text": [
        "\n",
        "rindex 0\n",
        "merit= 1.7687194e+01  grad= 1.8314817e-05"
       ]
      },
      {
       "output_type": "stream",
       "stream": "stdout",
       "text": [
        "\n",
        "rindex 0\n",
        "merit= 1.7687150e+01  grad= 6.2777238e-05"
       ]
      },
      {
       "output_type": "stream",
       "stream": "stdout",
       "text": [
        "\n",
        "rindex 0\n",
        "merit= 1.7687043e+01  grad= 1.2254303e-05"
       ]
      },
      {
       "output_type": "stream",
       "stream": "stdout",
       "text": [
        "\n",
        "rindex 0\n",
        "merit= 1.7686988e+01  grad= 1.0658727e-05"
       ]
      },
      {
       "output_type": "stream",
       "stream": "stdout",
       "text": [
        "\n",
        "rindex 0\n",
        "merit= 1.7686906e+01  grad= 2.4214907e-05"
       ]
      },
      {
       "output_type": "stream",
       "stream": "stdout",
       "text": [
        "\n",
        "rindex 0\n",
        "merit= 1.7686817e+01  grad= 4.3398744e-05"
       ]
      },
      {
       "output_type": "stream",
       "stream": "stdout",
       "text": [
        "\n",
        "rindex"
       ]
      },
      {
       "output_type": "stream",
       "stream": "stdout",
       "text": [
        " 0\n",
        "merit= 1.7686727e+01  grad= 1.2106426e-05"
       ]
      },
      {
       "output_type": "stream",
       "stream": "stdout",
       "text": [
        "\n",
        "rindex 0\n",
        "merit= 1.7686635e+01  grad= 1.2399895e-05"
       ]
      },
      {
       "output_type": "stream",
       "stream": "stdout",
       "text": [
        "\n",
        "rindex 0\n",
        "merit= 1.7686559e+01  grad= 1.6944924e-05"
       ]
      },
      {
       "output_type": "stream",
       "stream": "stdout",
       "text": [
        "\n",
        "rindex 0\n",
        "merit= 1.7686452e+01  grad= 7.6264000e-05"
       ]
      },
      {
       "output_type": "stream",
       "stream": "stdout",
       "text": [
        "\n",
        "rindex 0\n",
        "merit= 1.7686326e+01  grad= 1.7755134e-05"
       ]
      },
      {
       "output_type": "stream",
       "stream": "stdout",
       "text": [
        "\n",
        "rindex 0\n",
        "merit= 1.7686264e+01  grad= 1.8316206e-05"
       ]
      },
      {
       "output_type": "stream",
       "stream": "stdout",
       "text": [
        "\n",
        "rindex 0\n",
        "merit= 1.7686137e+01  grad= 1.6930808e-05"
       ]
      },
      {
       "output_type": "stream",
       "stream": "stdout",
       "text": [
        "\n",
        "rindex 0\n",
        "merit= 1.7685925e+01  grad= 1.5708869e-05"
       ]
      },
      {
       "output_type": "stream",
       "stream": "stdout",
       "text": [
        "\n",
        "rindex 0\n",
        "merit= 1.7686042e+01  grad= 1.6737613e-04"
       ]
      },
      {
       "output_type": "stream",
       "stream": "stdout",
       "text": [
        "\n",
        "rindex 0\n",
        "merit= 1.7685843e+01  grad= 2.6590780e-05"
       ]
      },
      {
       "output_type": "stream",
       "stream": "stdout",
       "text": [
        "\n",
        "rindex"
       ]
      },
      {
       "output_type": "stream",
       "stream": "stdout",
       "text": [
        " 0\n",
        "merit= 1.7685692e+01  grad= 1.0358280e-05"
       ]
      },
      {
       "output_type": "stream",
       "stream": "stdout",
       "text": [
        "\n",
        "rindex 0\n",
        "merit= 1.7685584e+01  grad= 3.1475278e-05"
       ]
      },
      {
       "output_type": "stream",
       "stream": "stdout",
       "text": [
        "\n",
        "rindex 0\n",
        "merit= 1.7685464e+01  grad= 3.3337107e-05"
       ]
      },
      {
       "output_type": "stream",
       "stream": "stdout",
       "text": [
        "\n",
        "rindex 0\n",
        "merit= 1.7685371e+01  grad= 1.1685463e-05"
       ]
      },
      {
       "output_type": "stream",
       "stream": "stdout",
       "text": [
        "\n",
        "rindex 0\n",
        "merit= 1.7685271e+01  grad= 8.5753876e-06"
       ]
      },
      {
       "output_type": "stream",
       "stream": "stdout",
       "text": [
        "\n",
        "rindex 0\n",
        "merit= 1.7685189e+01  grad= 1.6841708e-05"
       ]
      },
      {
       "output_type": "stream",
       "stream": "stdout",
       "text": [
        "\n",
        "rindex 0\n",
        "merit= 1.7685066e+01  grad= 2.1649813e-05"
       ]
      },
      {
       "output_type": "stream",
       "stream": "stdout",
       "text": [
        "\n",
        "rindex 0\n",
        "merit= 1.7684975e+01  grad= 2.6967065e-05"
       ]
      },
      {
       "output_type": "stream",
       "stream": "stdout",
       "text": [
        "\n",
        "rindex 0\n",
        "merit= 1.7684899e+01  grad= 1.1520912e-05"
       ]
      },
      {
       "output_type": "stream",
       "stream": "stdout",
       "text": [
        "\n",
        "rindex 0\n",
        "merit= 1.7684823e+01  grad= 1.4684416e-05"
       ]
      },
      {
       "output_type": "stream",
       "stream": "stdout",
       "text": [
        "\n",
        "rindex"
       ]
      },
      {
       "output_type": "stream",
       "stream": "stdout",
       "text": [
        " 0\n",
        "merit= 1.7684750e+01  grad= 2.7394005e-05"
       ]
      },
      {
       "output_type": "stream",
       "stream": "stdout",
       "text": [
        "\n",
        "rindex 0\n",
        "merit= 1.7684660e+01  grad= 1.6785882e-05"
       ]
      },
      {
       "output_type": "stream",
       "stream": "stdout",
       "text": [
        "\n",
        "rindex 0\n",
        "merit= 1.7684553e+01  grad= 1.7701205e-05"
       ]
      },
      {
       "output_type": "stream",
       "stream": "stdout",
       "text": [
        "\n",
        "rindex 0\n",
        "merit= 1.7684480e+01  grad= 3.6210957e-05"
       ]
      },
      {
       "output_type": "stream",
       "stream": "stdout",
       "text": [
        "\n",
        "rindex 0\n",
        "merit= 1.7684398e+01  grad= 1.5378272e-05"
       ]
      },
      {
       "output_type": "stream",
       "stream": "stdout",
       "text": [
        "\n",
        "rindex 0\n",
        "merit= 1.7684292e+01  grad= 1.2814333e-05"
       ]
      },
      {
       "output_type": "stream",
       "stream": "stdout",
       "text": [
        "\n",
        "rindex 0\n",
        "merit= 1.7684208e+01  grad= 1.1372447e-05"
       ]
      },
      {
       "output_type": "stream",
       "stream": "stdout",
       "text": [
        "\n",
        "rindex 0\n",
        "merit= 1.7684201e+01  grad= 2.4689844e-04"
       ]
      },
      {
       "output_type": "stream",
       "stream": "stdout",
       "text": [
        "\n",
        "rindex 0\n",
        "merit= 1.7684127e+01  grad= 7.2541786e-05"
       ]
      },
      {
       "output_type": "stream",
       "stream": "stdout",
       "text": [
        "\n",
        "rindex 0\n",
        "merit= 1.7683997e+01  grad= 1.6837533e-05"
       ]
      },
      {
       "output_type": "stream",
       "stream": "stdout",
       "text": [
        "\n",
        "rindex"
       ]
      },
      {
       "output_type": "stream",
       "stream": "stdout",
       "text": [
        " 0\n",
        "merit= 1.7683912e+01  grad= 9.7198210e-06"
       ]
      },
      {
       "output_type": "stream",
       "stream": "stdout",
       "text": [
        "\n",
        "rindex 0\n",
        "merit= 1.7683806e+01  grad= 1.4581005e-05"
       ]
      },
      {
       "output_type": "stream",
       "stream": "stdout",
       "text": [
        "\n",
        "rindex 0\n",
        "merit= 1.7683671e+01  grad= 1.6511132e-05"
       ]
      },
      {
       "output_type": "stream",
       "stream": "stdout",
       "text": [
        "\n",
        "rindex 0\n",
        "merit= 1.7683551e+01  grad= 7.2003117e-05"
       ]
      },
      {
       "output_type": "stream",
       "stream": "stdout",
       "text": [
        "\n",
        "rindex 0\n",
        "merit= 1.7683390e+01  grad= 1.3175373e-05"
       ]
      },
      {
       "output_type": "stream",
       "stream": "stdout",
       "text": [
        "\n",
        "rindex 0\n",
        "merit= 1.7683327e+01  grad= 6.6016888e-06"
       ]
      },
      {
       "output_type": "stream",
       "stream": "stdout",
       "text": [
        "\n",
        "rindex 0\n",
        "merit= 1.7683263e+01  grad= 1.5851736e-05"
       ]
      },
      {
       "output_type": "stream",
       "stream": "stdout",
       "text": [
        "\n",
        "rindex 0\n",
        "merit= 1.7683206e+01  grad= 2.6882702e-05"
       ]
      },
      {
       "output_type": "stream",
       "stream": "stdout",
       "text": [
        "\n",
        "rindex 0\n",
        "merit= 1.7683134e+01  grad= 1.5923933e-05"
       ]
      },
      {
       "output_type": "stream",
       "stream": "stdout",
       "text": [
        "\n",
        "rindex 0\n",
        "merit= 1.7682983e+01  grad= 1.7139141e-05"
       ]
      },
      {
       "output_type": "stream",
       "stream": "stdout",
       "text": [
        "\n",
        "rindex"
       ]
      },
      {
       "output_type": "stream",
       "stream": "stdout",
       "text": [
        " 0\n",
        "merit= 1.7682896e+01  grad= 3.2342980e-05"
       ]
      },
      {
       "output_type": "stream",
       "stream": "stdout",
       "text": [
        "\n",
        "rindex 0\n",
        "merit= 1.7682822e+01  grad= 1.5375298e-05"
       ]
      },
      {
       "output_type": "stream",
       "stream": "stdout",
       "text": [
        "\n",
        "rindex 0\n",
        "merit= 1.7682703e+01  grad= 9.6924696e-06"
       ]
      },
      {
       "output_type": "stream",
       "stream": "stdout",
       "text": [
        "\n",
        "rindex 0\n",
        "merit= 1.7682647e+01  grad= 2.6205002e-05"
       ]
      },
      {
       "output_type": "stream",
       "stream": "stdout",
       "text": [
        "\n",
        "rindex 0\n",
        "merit= 1.7682559e+01  grad= 2.1738235e-05"
       ]
      },
      {
       "output_type": "stream",
       "stream": "stdout",
       "text": [
        "\n",
        "rindex 0\n",
        "merit= 1.7682626e+01  grad= 2.7248584e-04"
       ]
      },
      {
       "output_type": "stream",
       "stream": "stdout",
       "text": [
        "\n",
        "rindex 0\n",
        "merit= 1.7682472e+01  grad= 5.8861299e-05"
       ]
      },
      {
       "output_type": "stream",
       "stream": "stdout",
       "text": [
        "\n",
        "rindex 0\n",
        "merit= 1.7682358e+01  grad= 1.0268648e-05"
       ]
      },
      {
       "output_type": "stream",
       "stream": "stdout",
       "text": [
        "\n",
        "rindex 0\n",
        "merit= 1.7682311e+01  grad= 8.9650410e-06"
       ]
      },
      {
       "output_type": "stream",
       "stream": "stdout",
       "text": [
        "\n",
        "rindex 0\n",
        "merit= 1.7682172e+01  grad= 2.9117042e-05"
       ]
      },
      {
       "output_type": "stream",
       "stream": "stdout",
       "text": [
        "\n",
        "rindex"
       ]
      },
      {
       "output_type": "stream",
       "stream": "stdout",
       "text": [
        " 0\n",
        "merit= 1.7682189e+01  grad= 1.3722321e-04"
       ]
      },
      {
       "output_type": "stream",
       "stream": "stdout",
       "text": [
        "\n",
        "rindex 0\n",
        "merit= 1.7682116e+01  grad= 2.4114527e-05"
       ]
      },
      {
       "output_type": "stream",
       "stream": "stdout",
       "text": [
        "\n",
        "rindex 0\n",
        "merit= 1.7682059e+01  grad= 1.2072637e-05"
       ]
      },
      {
       "output_type": "stream",
       "stream": "stdout",
       "text": [
        "\n",
        "rindex 0\n",
        "merit= 1.7681968e+01  grad= 8.3222264e-06"
       ]
      },
      {
       "output_type": "stream",
       "stream": "stdout",
       "text": [
        "\n",
        "rindex 0\n",
        "merit= 1.7681884e+01  grad= 1.3257947e-05"
       ]
      },
      {
       "output_type": "stream",
       "stream": "stdout",
       "text": [
        "\n",
        "rindex 0\n",
        "merit= 1.7681866e+01  grad= 1.3178588e-04"
       ]
      },
      {
       "output_type": "stream",
       "stream": "stdout",
       "text": [
        "\n",
        "rindex 0\n",
        "merit= 1.7681721e+01  grad= 1.1483731e-05"
       ]
      },
      {
       "output_type": "stream",
       "stream": "stdout",
       "text": [
        "\n",
        "rindex 0\n",
        "merit= 1.7681678e+01  grad= 6.5050514e-06"
       ]
      },
      {
       "output_type": "stream",
       "stream": "stdout",
       "text": [
        "\n",
        "rindex 0\n",
        "merit= 1.7681612e+01  grad= 1.4275210e-05"
       ]
      },
      {
       "output_type": "stream",
       "stream": "stdout",
       "text": [
        "\n",
        "rindex 0\n",
        "merit= 1.7681541e+01  grad= 1.3355044e-05"
       ]
      },
      {
       "output_type": "stream",
       "stream": "stdout",
       "text": [
        "\n",
        "rindex"
       ]
      },
      {
       "output_type": "stream",
       "stream": "stdout",
       "text": [
        " 0\n",
        "merit= 1.7681513e+01  grad= 6.3693735e-05"
       ]
      },
      {
       "output_type": "stream",
       "stream": "stdout",
       "text": [
        "\n",
        "rindex 0\n",
        "merit= 1.7681435e+01  grad= 9.8925045e-06"
       ]
      },
      {
       "output_type": "stream",
       "stream": "stdout",
       "text": [
        "\n",
        "rindex 0\n",
        "merit= 1.7681395e+01  grad= 7.6191443e-06"
       ]
      },
      {
       "output_type": "stream",
       "stream": "stdout",
       "text": [
        "\n",
        "rindex 0\n",
        "merit= 1.7681344e+01  grad= 1.3513158e-05"
       ]
      },
      {
       "output_type": "stream",
       "stream": "stdout",
       "text": [
        "\n",
        "rindex 0\n",
        "merit= 1.7681263e+01  grad= 1.7848354e-05"
       ]
      },
      {
       "output_type": "stream",
       "stream": "stdout",
       "text": [
        "\n",
        "rindex 0\n",
        "merit= 1.7681158e+01  grad= 3.9765424e-05"
       ]
      },
      {
       "output_type": "stream",
       "stream": "stdout",
       "text": [
        "\n",
        "rindex 0\n",
        "merit= 1.7681035e+01  grad= 1.5376113e-05"
       ]
      },
      {
       "output_type": "stream",
       "stream": "stdout",
       "text": [
        "\n",
        "rindex 0\n",
        "merit= 1.7680949e+01  grad= 9.2827350e-06"
       ]
      },
      {
       "output_type": "stream",
       "stream": "stdout",
       "text": [
        "\n",
        "rindex 0\n",
        "merit= 1.7680851e+01  grad= 2.4091075e-05"
       ]
      },
      {
       "output_type": "stream",
       "stream": "stdout",
       "text": [
        "\n",
        "rindex 0\n",
        "merit= 1.7680812e+01  grad= 4.2460464e-05"
       ]
      },
      {
       "output_type": "stream",
       "stream": "stdout",
       "text": [
        "\n",
        "rindex"
       ]
      },
      {
       "output_type": "stream",
       "stream": "stdout",
       "text": [
        " 0\n",
        "merit= 1.7680765e+01  grad= 1.2776669e-05"
       ]
      },
      {
       "output_type": "stream",
       "stream": "stdout",
       "text": [
        "\n",
        "rindex 0\n",
        "merit= 1.7680711e+01  grad= 7.1521534e-06"
       ]
      },
      {
       "output_type": "stream",
       "stream": "stdout",
       "text": [
        "\n",
        "rindex 0\n",
        "merit= 1.7680684e+01  grad= 8.6503766e-06"
       ]
      },
      {
       "output_type": "stream",
       "stream": "stdout",
       "text": [
        "\n",
        "rindex"
       ]
      },
      {
       "output_type": "stream",
       "stream": "stdout",
       "text": [
        " 0\n",
        "merit= 1.7680617e+01  grad= 2.4537880e-05"
       ]
      },
      {
       "output_type": "stream",
       "stream": "stdout",
       "text": [
        "\n",
        "rindex 0\n",
        "merit= 1.7680549e+01  grad= 4.9616616e-05"
       ]
      },
      {
       "output_type": "stream",
       "stream": "stdout",
       "text": [
        "\n",
        "rindex 0\n",
        "merit= 1.7680471e+01  grad= 9.3593113e-06"
       ]
      },
      {
       "output_type": "stream",
       "stream": "stdout",
       "text": [
        "\n",
        "rindex"
       ]
      },
      {
       "output_type": "stream",
       "stream": "stdout",
       "text": [
        " 0\n",
        "merit= 1.7680432e+01  grad= 7.3892870e-06"
       ]
      },
      {
       "output_type": "stream",
       "stream": "stdout",
       "text": [
        "\n",
        "rindex 0\n",
        "merit= 1.7680366e+01  grad= 8.6467339e-06"
       ]
      },
      {
       "output_type": "stream",
       "stream": "stdout",
       "text": [
        "\n",
        "rindex 0\n",
        "merit= 1.7680306e+01  grad= 8.4877294e-05"
       ]
      },
      {
       "output_type": "stream",
       "stream": "stdout",
       "text": [
        "\n",
        "rindex 0\n",
        "merit= 1.7680194e+01  grad= 8.9678889e-06"
       ]
      },
      {
       "output_type": "stream",
       "stream": "stdout",
       "text": [
        "\n",
        "rindex"
       ]
      },
      {
       "output_type": "stream",
       "stream": "stdout",
       "text": [
        " 0\n",
        "merit= 1.7680154e+01  grad= 4.7875432e-06"
       ]
      },
      {
       "output_type": "stream",
       "stream": "stdout",
       "text": [
        "\n",
        "rindex 0\n",
        "merit= 1.7680104e+01  grad= 6.1431350e-06"
       ]
      },
      {
       "output_type": "stream",
       "stream": "stdout",
       "text": [
        "\n",
        "rindex 0\n",
        "merit= 1.7680045e+01  grad= 3.3340287e-05"
       ]
      },
      {
       "output_type": "stream",
       "stream": "stdout",
       "text": [
        "\n",
        "rindex 0\n",
        "merit= 1.7679963e+01  grad= 1.2997403e-05"
       ]
      },
      {
       "output_type": "stream",
       "stream": "stdout",
       "text": [
        "\n",
        "rindex 0\n",
        "merit= 1.7679894e+01  grad= 8.1845154e-06"
       ]
      },
      {
       "output_type": "stream",
       "stream": "stdout",
       "text": [
        "\n",
        "rindex 0\n",
        "merit= 1.7679838e+01  grad= 1.3509867e-05"
       ]
      },
      {
       "output_type": "stream",
       "stream": "stdout",
       "text": [
        "\n",
        "rindex 0\n",
        "merit= 1.7679779e+01  grad= 1.2576125e-05"
       ]
      },
      {
       "output_type": "stream",
       "stream": "stdout",
       "text": [
        "\n",
        "rindex 0\n",
        "merit= 1.7679713e+01  grad= 1.0281573e-05"
       ]
      },
      {
       "output_type": "stream",
       "stream": "stdout",
       "text": [
        "\n",
        "rindex 0\n",
        "merit= 1.7679633e+01  grad= 1.9180763e-05"
       ]
      },
      {
       "output_type": "stream",
       "stream": "stdout",
       "text": [
        "\n",
        "rindex 0\n",
        "merit= 1.7679573e+01  grad= 1.8061411e-05"
       ]
      },
      {
       "output_type": "stream",
       "stream": "stdout",
       "text": [
        "\n",
        "rindex"
       ]
      },
      {
       "output_type": "stream",
       "stream": "stdout",
       "text": [
        " 0\n",
        "merit= 1.7679529e+01  grad= 8.1855730e-06"
       ]
      },
      {
       "output_type": "stream",
       "stream": "stdout",
       "text": [
        "\n",
        "rindex 0\n",
        "merit= 1.7679456e+01  grad= 6.8530719e-06"
       ]
      },
      {
       "output_type": "stream",
       "stream": "stdout",
       "text": [
        "\n",
        "rindex 0\n",
        "merit= 1.7679395e+01  grad= 1.0956423e-05"
       ]
      },
      {
       "output_type": "stream",
       "stream": "stdout",
       "text": [
        "\n",
        "rindex 0\n",
        "merit= 1.7679434e+01  grad= 2.0499758e-04"
       ]
      },
      {
       "output_type": "stream",
       "stream": "stdout",
       "text": [
        "\n",
        "rindex 0\n",
        "merit= 1.7679340e+01  grad= 4.0280803e-05"
       ]
      },
      {
       "output_type": "stream",
       "stream": "stdout",
       "text": [
        "\n",
        "rindex 0\n",
        "merit= 1.7679257e+01  grad= 9.8812970e-06"
       ]
      },
      {
       "output_type": "stream",
       "stream": "stdout",
       "text": [
        "\n",
        "rindex 0\n",
        "merit= 1.7679212e+01  grad= 5.4721694e-06"
       ]
      },
      {
       "output_type": "stream",
       "stream": "stdout",
       "text": [
        "\n",
        "rindex 0\n",
        "merit= 1.7679157e+01  grad= 6.8657480e-06"
       ]
      },
      {
       "output_type": "stream",
       "stream": "stdout",
       "text": [
        "\n",
        "rindex 0\n",
        "merit= 1.7679078e+01  grad= 1.0972557e-05"
       ]
      },
      {
       "output_type": "stream",
       "stream": "stdout",
       "text": [
        "\n",
        "rindex 0\n",
        "merit= 1.7679008e+01  grad= 3.1003804e-05"
       ]
      },
      {
       "output_type": "stream",
       "stream": "stdout",
       "text": [
        "\n",
        "rindex"
       ]
      },
      {
       "output_type": "stream",
       "stream": "stdout",
       "text": [
        " 0\n",
        "merit= 1.7678923e+01  grad= 7.9124286e-06"
       ]
      },
      {
       "output_type": "stream",
       "stream": "stdout",
       "text": [
        "\n",
        "rindex 0\n",
        "merit= 1.7678853e+01  grad= 9.0051688e-06"
       ]
      },
      {
       "output_type": "stream",
       "stream": "stdout",
       "text": [
        "\n",
        "rindex 0\n",
        "merit= 1.7678818e+01  grad= 2.9571317e-05"
       ]
      },
      {
       "output_type": "stream",
       "stream": "stdout",
       "text": [
        "\n",
        "rindex 0\n",
        "merit= 1.7678772e+01  grad= 1.2284592e-05"
       ]
      },
      {
       "output_type": "stream",
       "stream": "stdout",
       "text": [
        "\n",
        "rindex 0\n",
        "merit= 1.7678698e+01  grad= 7.8439099e-06"
       ]
      },
      {
       "output_type": "stream",
       "stream": "stdout",
       "text": [
        "\n",
        "rindex 0\n",
        "merit= 1.7678649e+01  grad= 1.2107746e-05"
       ]
      },
      {
       "output_type": "stream",
       "stream": "stdout",
       "text": [
        "\n",
        "rindex 0\n",
        "merit= 1.7678601e+01  grad= 3.5239309e-05"
       ]
      },
      {
       "output_type": "stream",
       "stream": "stdout",
       "text": [
        "\n",
        "rindex 0\n",
        "merit= 1.7678536e+01  grad= 9.8704120e-06"
       ]
      },
      {
       "output_type": "stream",
       "stream": "stdout",
       "text": [
        "\n",
        "rindex 0\n",
        "merit= 1.7678493e+01  grad= 9.6646003e-06"
       ]
      },
      {
       "output_type": "stream",
       "stream": "stdout",
       "text": [
        "\n",
        "rindex 0\n",
        "merit= 1.7678431e+01  grad= 1.2074330e-05"
       ]
      },
      {
       "output_type": "stream",
       "stream": "stdout",
       "text": [
        "\n",
        "rindex"
       ]
      },
      {
       "output_type": "stream",
       "stream": "stdout",
       "text": [
        " 0\n",
        "merit= 1.7678396e+01  grad= 5.8924763e-05"
       ]
      },
      {
       "output_type": "stream",
       "stream": "stdout",
       "text": [
        "\n",
        "rindex 0\n",
        "merit= 1.7678322e+01  grad= 1.1775437e-05"
       ]
      },
      {
       "output_type": "stream",
       "stream": "stdout",
       "text": [
        "\n",
        "rindex 0\n",
        "merit= 1.7678275e+01  grad= 8.6644111e-06"
       ]
      },
      {
       "output_type": "stream",
       "stream": "stdout",
       "text": [
        "\n",
        "rindex 0\n",
        "merit= 1.7678230e+01  grad= 9.5843621e-06"
       ]
      },
      {
       "output_type": "stream",
       "stream": "stdout",
       "text": [
        "\n",
        "rindex 0\n",
        "merit= 1.7678159e+01  grad= 9.9970710e-06"
       ]
      },
      {
       "output_type": "stream",
       "stream": "stdout",
       "text": [
        "\n",
        "rindex 0\n",
        "merit= 1.7678377e+01  grad= 3.2085225e-04"
       ]
      },
      {
       "output_type": "stream",
       "stream": "stdout",
       "text": [
        "\n",
        "rindex 0\n",
        "merit= 1.7678121e+01  grad= 2.9723629e-05"
       ]
      },
      {
       "output_type": "stream",
       "stream": "stdout",
       "text": [
        "\n",
        "rindex 0\n",
        "merit= 1.7678038e+01  grad= 1.0659347e-05"
       ]
      },
      {
       "output_type": "stream",
       "stream": "stdout",
       "text": [
        "\n",
        "rindex 0\n",
        "merit= 1.7677987e+01  grad= 1.3219305e-05"
       ]
      },
      {
       "output_type": "stream",
       "stream": "stdout",
       "text": [
        "\n",
        "rindex 0\n",
        "merit= 1.7677933e+01  grad= 1.0953622e-05"
       ]
      },
      {
       "output_type": "stream",
       "stream": "stdout",
       "text": [
        "\n",
        "rindex"
       ]
      },
      {
       "output_type": "stream",
       "stream": "stdout",
       "text": [
        " 0\n",
        "merit= 1.7677889e+01  grad= 8.2265041e-06"
       ]
      },
      {
       "output_type": "stream",
       "stream": "stdout",
       "text": [
        "\n",
        "rindex 0\n",
        "merit= 1.7677829e+01  grad= 7.9599922e-06"
       ]
      },
      {
       "output_type": "stream",
       "stream": "stdout",
       "text": [
        "\n",
        "rindex 0\n",
        "merit= 1.7677778e+01  grad= 1.2625949e-05"
       ]
      },
      {
       "output_type": "stream",
       "stream": "stdout",
       "text": [
        "\n",
        "rindex 0\n",
        "merit= 1.7677726e+01  grad= 8.8684674e-06"
       ]
      },
      {
       "output_type": "stream",
       "stream": "stdout",
       "text": [
        "\n",
        "rindex 0\n",
        "merit= 1.7677621e+01  grad= 1.8353395e-05"
       ]
      },
      {
       "output_type": "stream",
       "stream": "stdout",
       "text": [
        "\n",
        "rindex 0\n",
        "merit= 1.7677584e+01  grad= 4.8649401e-05"
       ]
      },
      {
       "output_type": "stream",
       "stream": "stdout",
       "text": [
        "\n",
        "rindex 0\n",
        "merit= 1.7677521e+01  grad= 8.6430392e-06"
       ]
      },
      {
       "output_type": "stream",
       "stream": "stdout",
       "text": [
        "\n",
        "rindex 0\n",
        "merit= 1.7677484e+01  grad= 4.6132480e-06"
       ]
      },
      {
       "output_type": "stream",
       "stream": "stdout",
       "text": [
        "\n",
        "rindex 0\n",
        "merit= 1.7677447e+01  grad= 6.4165673e-06"
       ]
      },
      {
       "output_type": "stream",
       "stream": "stdout",
       "text": [
        "\n",
        "rindex 0\n",
        "merit= 1.7677377e+01  grad= 1.2194839e-05"
       ]
      },
      {
       "output_type": "stream",
       "stream": "stdout",
       "text": [
        "\n",
        "rindex"
       ]
      },
      {
       "output_type": "stream",
       "stream": "stdout",
       "text": [
        " 0\n",
        "merit= 1.7677382e+01  grad= 7.7573526e-05"
       ]
      },
      {
       "output_type": "stream",
       "stream": "stdout",
       "text": [
        "\n",
        "rindex 0\n",
        "merit= 1.7677336e+01  grad= 1.6159033e-05"
       ]
      },
      {
       "output_type": "stream",
       "stream": "stdout",
       "text": [
        "\n",
        "rindex 0\n",
        "merit= 1.7677291e+01  grad= 5.0409802e-06"
       ]
      },
      {
       "output_type": "stream",
       "stream": "stdout",
       "text": [
        "\n",
        "rindex 0\n",
        "merit= 1.7677253e+01  grad= 6.7852712e-06"
       ]
      },
      {
       "output_type": "stream",
       "stream": "stdout",
       "text": [
        "\n",
        "rindex 0\n",
        "merit= 1.7677201e+01  grad= 2.2323894e-05"
       ]
      },
      {
       "output_type": "stream",
       "stream": "stdout",
       "text": [
        "\n",
        "rindex 0\n",
        "merit= 1.7677135e+01  grad= 1.2206755e-05"
       ]
      },
      {
       "output_type": "stream",
       "stream": "stdout",
       "text": [
        "\n",
        "rindex 0\n",
        "merit= 1.7677077e+01  grad= 1.8219769e-05"
       ]
      },
      {
       "output_type": "stream",
       "stream": "stdout",
       "text": [
        "\n",
        "rindex 0\n",
        "merit= 1.7677032e+01  grad= 8.7292982e-06"
       ]
      },
      {
       "output_type": "stream",
       "stream": "stdout",
       "text": [
        "\n",
        "rindex 0\n",
        "merit= 1.7677009e+01  grad= 6.6632280e-06"
       ]
      },
      {
       "output_type": "stream",
       "stream": "stdout",
       "text": [
        "\n",
        "rindex 0\n",
        "merit= 1.7676927e+01  grad= 9.2656201e-06"
       ]
      },
      {
       "output_type": "stream",
       "stream": "stdout",
       "text": [
        "\n",
        "rindex"
       ]
      },
      {
       "output_type": "stream",
       "stream": "stdout",
       "text": [
        " 0\n",
        "merit= 1.7676916e+01  grad= 5.6343273e-05"
       ]
      },
      {
       "output_type": "stream",
       "stream": "stdout",
       "text": [
        "\n",
        "rindex 0\n",
        "merit= 1.7676840e+01  grad= 7.0136345e-06"
       ]
      },
      {
       "output_type": "stream",
       "stream": "stdout",
       "text": [
        "\n",
        "rindex 0\n",
        "merit= 1.7676807e+01  grad= 5.0500291e-06"
       ]
      },
      {
       "output_type": "stream",
       "stream": "stdout",
       "text": [
        "\n",
        "rindex 0\n",
        "merit= 1.7676753e+01  grad= 8.3924153e-06"
       ]
      },
      {
       "output_type": "stream",
       "stream": "stdout",
       "text": [
        "\n",
        "rindex 0\n",
        "merit= 1.7676690e+01  grad= 3.9773494e-05"
       ]
      },
      {
       "output_type": "stream",
       "stream": "stdout",
       "text": [
        "\n",
        "rindex 0\n",
        "merit= 1.7676625e+01  grad= 1.2492722e-05"
       ]
      },
      {
       "output_type": "stream",
       "stream": "stdout",
       "text": [
        "\n",
        "rindex 0\n",
        "merit= 1.7676585e+01  grad= 5.2343251e-06"
       ]
      },
      {
       "output_type": "stream",
       "stream": "stdout",
       "text": [
        "\n",
        "rindex 0\n",
        "merit= 1.7676529e+01  grad= 8.2075630e-06"
       ]
      },
      {
       "output_type": "stream",
       "stream": "stdout",
       "text": [
        "\n",
        "rindex 0\n",
        "merit= 1.7676476e+01  grad= 1.5650849e-05"
       ]
      },
      {
       "output_type": "stream",
       "stream": "stdout",
       "text": [
        "\n",
        "rindex 0\n",
        "merit= 1.7676398e+01  grad= 1.7208650e-05"
       ]
      },
      {
       "output_type": "stream",
       "stream": "stdout",
       "text": [
        "\n",
        "rindex"
       ]
      },
      {
       "output_type": "stream",
       "stream": "stdout",
       "text": [
        " 0\n",
        "merit= 1.7676337e+01  grad= 2.0676959e-05"
       ]
      },
      {
       "output_type": "stream",
       "stream": "stdout",
       "text": [
        "\n",
        "rindex 0\n",
        "merit= 1.7676285e+01  grad= 6.5352131e-06"
       ]
      },
      {
       "output_type": "stream",
       "stream": "stdout",
       "text": [
        "\n",
        "rindex 0\n",
        "merit= 1.7676247e+01  grad= 6.8724370e-06"
       ]
      },
      {
       "output_type": "stream",
       "stream": "stdout",
       "text": [
        "\n",
        "rindex 0\n",
        "merit= 1.7676188e+01  grad= 1.4786812e-05"
       ]
      },
      {
       "output_type": "stream",
       "stream": "stdout",
       "text": [
        "\n",
        "rindex 0\n",
        "merit= 1.7676141e+01  grad= 3.0275768e-05"
       ]
      },
      {
       "output_type": "stream",
       "stream": "stdout",
       "text": [
        "\n",
        "rindex 0\n",
        "merit= 1.7676085e+01  grad= 7.2767927e-06"
       ]
      },
      {
       "output_type": "stream",
       "stream": "stdout",
       "text": [
        "\n",
        "rindex 0\n",
        "merit= 1.7676040e+01  grad= 8.0461880e-06"
       ]
      },
      {
       "output_type": "stream",
       "stream": "stdout",
       "text": [
        "\n",
        "rindex 0\n",
        "merit= 1.7675997e+01  grad= 1.0141375e-05"
       ]
      },
      {
       "output_type": "stream",
       "stream": "stdout",
       "text": [
        "\n",
        "rindex 0\n",
        "merit= 1.7675954e+01  grad= 7.0172421e-05"
       ]
      },
      {
       "output_type": "stream",
       "stream": "stdout",
       "text": [
        "\n",
        "rindex 0\n",
        "merit= 1.7675879e+01  grad= 8.2744236e-06"
       ]
      },
      {
       "output_type": "stream",
       "stream": "stdout",
       "text": [
        "\n",
        "rindex"
       ]
      },
      {
       "output_type": "stream",
       "stream": "stdout",
       "text": [
        " 0\n",
        "merit= 1.7675853e+01  grad= 5.5491949e-06"
       ]
      },
      {
       "output_type": "stream",
       "stream": "stdout",
       "text": [
        "\n",
        "rindex 0\n",
        "merit= 1.7675802e+01  grad= 9.5825907e-06"
       ]
      },
      {
       "output_type": "stream",
       "stream": "stdout",
       "text": [
        "\n",
        "rindex 0\n",
        "merit= 1.7675744e+01  grad= 1.1889000e-05"
       ]
      },
      {
       "output_type": "stream",
       "stream": "stdout",
       "text": [
        "\n",
        "rindex 0\n",
        "merit= 1.7675639e+01  grad= 3.0396670e-05"
       ]
      },
      {
       "output_type": "stream",
       "stream": "stdout",
       "text": [
        "\n",
        "rindex 0\n",
        "merit= 1.7675647e+01  grad= 5.2047478e-05"
       ]
      },
      {
       "output_type": "stream",
       "stream": "stdout",
       "text": [
        "\n",
        "rindex 0\n",
        "merit= 1.7675581e+01  grad= 1.0445445e-05"
       ]
      },
      {
       "output_type": "stream",
       "stream": "stdout",
       "text": [
        "\n",
        "rindex 0\n",
        "merit= 1.7675533e+01  grad= 4.3019701e-06"
       ]
      },
      {
       "output_type": "stream",
       "stream": "stdout",
       "text": [
        "\n",
        "rindex 0\n",
        "merit= 1.7675491e+01  grad= 7.2707764e-06"
       ]
      },
      {
       "output_type": "stream",
       "stream": "stdout",
       "text": [
        "\n",
        "rindex 0\n",
        "merit= 1.7675445e+01  grad= 3.2718654e-05"
       ]
      },
      {
       "output_type": "stream",
       "stream": "stdout",
       "text": [
        "\n",
        "rindex 0\n",
        "merit= 1.7675381e+01  grad= 1.8555119e-05"
       ]
      },
      {
       "output_type": "stream",
       "stream": "stdout",
       "text": [
        "\n",
        "rindex"
       ]
      },
      {
       "output_type": "stream",
       "stream": "stdout",
       "text": [
        " 0\n",
        "merit= 1.7675294e+01  grad= 9.6110729e-06"
       ]
      },
      {
       "output_type": "stream",
       "stream": "stdout",
       "text": [
        "\n",
        "rindex 0\n",
        "merit= 1.7675258e+01  grad= 1.3753166e-05"
       ]
      },
      {
       "output_type": "stream",
       "stream": "stdout",
       "text": [
        "\n",
        "rindex 0\n",
        "merit= 1.7675217e+01  grad= 9.4043846e-06"
       ]
      },
      {
       "output_type": "stream",
       "stream": "stdout",
       "text": [
        "\n",
        "rindex 0\n",
        "merit= 1.7675149e+01  grad= 1.2918341e-05"
       ]
      },
      {
       "output_type": "stream",
       "stream": "stdout",
       "text": [
        "\n",
        "rindex 0\n",
        "merit= 1.7675079e+01  grad= 1.8668700e-05"
       ]
      },
      {
       "output_type": "stream",
       "stream": "stdout",
       "text": [
        "\n",
        "rindex 0\n",
        "merit= 1.7675046e+01  grad= 4.3304707e-05"
       ]
      },
      {
       "output_type": "stream",
       "stream": "stdout",
       "text": [
        "\n",
        "rindex 0\n",
        "merit= 1.7674986e+01  grad= 7.0715978e-06"
       ]
      },
      {
       "output_type": "stream",
       "stream": "stdout",
       "text": [
        "\n",
        "rindex 0\n",
        "merit= 1.7674955e+01  grad= 6.0282249e-06"
       ]
      },
      {
       "output_type": "stream",
       "stream": "stdout",
       "text": [
        "\n",
        "rindex 0\n",
        "merit= 1.7674912e+01  grad= 9.0944810e-06"
       ]
      },
      {
       "output_type": "stream",
       "stream": "stdout",
       "text": [
        "\n",
        "rindex 0\n",
        "merit= 1.7674840e+01  grad= 1.1495553e-05"
       ]
      },
      {
       "output_type": "stream",
       "stream": "stdout",
       "text": [
        "\n",
        "rindex"
       ]
      },
      {
       "output_type": "stream",
       "stream": "stdout",
       "text": [
        " 0\n",
        "merit= 1.7674882e+01  grad= 1.2435659e-04"
       ]
      },
      {
       "output_type": "stream",
       "stream": "stdout",
       "text": [
        "\n",
        "rindex 0\n",
        "merit= 1.7674801e+01  grad= 2.1983353e-05"
       ]
      },
      {
       "output_type": "stream",
       "stream": "stdout",
       "text": [
        "\n",
        "rindex 0\n",
        "merit= 1.7674748e+01  grad= 5.8404955e-06"
       ]
      },
      {
       "output_type": "stream",
       "stream": "stdout",
       "text": [
        "\n",
        "rindex 0\n",
        "merit= 1.7674720e+01  grad= 7.1751215e-06"
       ]
      },
      {
       "output_type": "stream",
       "stream": "stdout",
       "text": [
        "\n",
        "rindex 0\n",
        "merit= 1.7674693e+01  grad= 6.3228065e-06"
       ]
      },
      {
       "output_type": "stream",
       "stream": "stdout",
       "text": [
        "\n",
        "rindex 0\n",
        "merit= 1.7674651e+01  grad= 5.8123321e-06"
       ]
      },
      {
       "output_type": "stream",
       "stream": "stdout",
       "text": [
        "\n",
        "rindex 0\n",
        "merit= 1.7674624e+01  grad= 4.0532751e-05"
       ]
      },
      {
       "output_type": "stream",
       "stream": "stdout",
       "text": [
        "\n",
        "rindex 0\n",
        "merit= 1.7674557e+01  grad= 5.9699051e-06"
       ]
      },
      {
       "output_type": "stream",
       "stream": "stdout",
       "text": [
        "\n",
        "rindex 0\n",
        "merit= 1.7674531e+01  grad= 3.8937904e-06"
       ]
      },
      {
       "output_type": "stream",
       "stream": "stdout",
       "text": [
        "\n",
        "rindex 0\n",
        "merit= 1.7674492e+01  grad= 7.9233087e-06"
       ]
      },
      {
       "output_type": "stream",
       "stream": "stdout",
       "text": [
        "\n",
        "rindex"
       ]
      },
      {
       "output_type": "stream",
       "stream": "stdout",
       "text": [
        " 0\n",
        "merit= 1.7674430e+01  grad= 1.2923438e-05"
       ]
      },
      {
       "output_type": "stream",
       "stream": "stdout",
       "text": [
        "\n",
        "rindex 0\n",
        "merit= 1.7674365e+01  grad= 1.8256431e-05"
       ]
      },
      {
       "output_type": "stream",
       "stream": "stdout",
       "text": [
        "\n",
        "rindex 0\n",
        "merit= 1.7674302e+01  grad= 9.4345324e-06"
       ]
      },
      {
       "output_type": "stream",
       "stream": "stdout",
       "text": [
        "\n",
        "rindex 0\n",
        "merit= 1.7674256e+01  grad= 1.2919262e-05"
       ]
      },
      {
       "output_type": "stream",
       "stream": "stdout",
       "text": [
        "\n",
        "rindex 0\n",
        "merit= 1.7674220e+01  grad= 9.5125615e-06"
       ]
      },
      {
       "output_type": "stream",
       "stream": "stdout",
       "text": [
        "\n",
        "rindex 0\n",
        "merit= 1.7674169e+01  grad= 3.2356161e-05"
       ]
      },
      {
       "output_type": "stream",
       "stream": "stdout",
       "text": [
        "\n",
        "rindex 0\n",
        "merit= 1.7674113e+01  grad= 5.6314733e-06"
       ]
      },
      {
       "output_type": "stream",
       "stream": "stdout",
       "text": [
        "\n",
        "rindex 0\n",
        "merit= 1.7674081e+01  grad= 5.9002863e-06"
       ]
      },
      {
       "output_type": "stream",
       "stream": "stdout",
       "text": [
        "\n",
        "rindex 0\n",
        "merit= 1.7674028e+01  grad= 5.4797553e-06"
       ]
      },
      {
       "output_type": "stream",
       "stream": "stdout",
       "text": [
        "\n",
        "rindex 0\n",
        "merit= 1.7673976e+01  grad= 3.6883792e-05"
       ]
      },
      {
       "output_type": "stream",
       "stream": "stdout",
       "text": [
        "\n",
        "rindex"
       ]
      },
      {
       "output_type": "stream",
       "stream": "stdout",
       "text": [
        " 0\n",
        "merit= 1.7673904e+01  grad= 8.7352459e-06"
       ]
      },
      {
       "output_type": "stream",
       "stream": "stdout",
       "text": [
        "\n",
        "rindex 0\n",
        "merit= 1.7673863e+01  grad= 5.0902727e-06"
       ]
      },
      {
       "output_type": "stream",
       "stream": "stdout",
       "text": [
        "\n",
        "rindex 0\n",
        "merit= 1.7673810e+01  grad= 4.7875555e-06"
       ]
      },
      {
       "output_type": "stream",
       "stream": "stdout",
       "text": [
        "\n",
        "rindex 0\n",
        "merit= 1.7673756e+01  grad= 1.6598655e-05"
       ]
      },
      {
       "output_type": "stream",
       "stream": "stdout",
       "text": [
        "\n",
        "rindex 0\n",
        "merit= 1.7673698e+01  grad= 1.0521837e-05"
       ]
      },
      {
       "output_type": "stream",
       "stream": "stdout",
       "text": [
        "\n",
        "rindex 0\n",
        "merit= 1.7673656e+01  grad= 4.8515523e-06"
       ]
      },
      {
       "output_type": "stream",
       "stream": "stdout",
       "text": [
        "\n",
        "rindex 0\n",
        "merit= 1.7673628e+01  grad= 1.8252224e-05"
       ]
      },
      {
       "output_type": "stream",
       "stream": "stdout",
       "text": [
        "\n",
        "rindex 0\n",
        "merit= 1.7673584e+01  grad= 5.1426210e-06"
       ]
      },
      {
       "output_type": "stream",
       "stream": "stdout",
       "text": [
        "\n",
        "rindex 0\n",
        "merit= 1.7673550e+01  grad= 7.5177614e-06"
       ]
      },
      {
       "output_type": "stream",
       "stream": "stdout",
       "text": [
        "\n",
        "rindex 0\n",
        "merit= 1.7673492e+01  grad= 9.9084719e-06"
       ]
      },
      {
       "output_type": "stream",
       "stream": "stdout",
       "text": [
        "\n",
        "rindex"
       ]
      },
      {
       "output_type": "stream",
       "stream": "stdout",
       "text": [
        " 0\n",
        "merit= 1.7673476e+01  grad= 2.9753009e-05"
       ]
      },
      {
       "output_type": "stream",
       "stream": "stdout",
       "text": [
        "\n",
        "rindex 0\n",
        "merit= 1.7673409e+01  grad= 5.2054072e-06"
       ]
      },
      {
       "output_type": "stream",
       "stream": "stdout",
       "text": [
        "\n",
        "rindex 0\n",
        "merit= 1.7673365e+01  grad= 3.0275815e-06"
       ]
      },
      {
       "output_type": "stream",
       "stream": "stdout",
       "text": [
        "\n",
        "rindex 0\n",
        "merit= 1.7673307e+01  grad= 9.6785516e-06"
       ]
      },
      {
       "output_type": "stream",
       "stream": "stdout",
       "text": [
        "\n",
        "rindex 0\n",
        "merit= 1.7673238e+01  grad= 2.2638790e-05"
       ]
      },
      {
       "output_type": "stream",
       "stream": "stdout",
       "text": [
        "\n",
        "rindex 0\n",
        "merit= 1.7673166e+01  grad= 1.8905122e-05"
       ]
      },
      {
       "output_type": "stream",
       "stream": "stdout",
       "text": [
        "\n",
        "rindex 0\n",
        "merit= 1.7673113e+01  grad= 6.1582692e-06"
       ]
      },
      {
       "output_type": "stream",
       "stream": "stdout",
       "text": [
        "\n",
        "rindex 0\n",
        "merit= 1.7673072e+01  grad= 6.7378933e-06"
       ]
      },
      {
       "output_type": "stream",
       "stream": "stdout",
       "text": [
        "\n",
        "rindex 0\n",
        "merit= 1.7673045e+01  grad= 9.0516237e-06"
       ]
      },
      {
       "output_type": "stream",
       "stream": "stdout",
       "text": [
        "\n",
        "rindex 0\n",
        "merit= 1.7673004e+01  grad= 7.9367325e-06"
       ]
      },
      {
       "output_type": "stream",
       "stream": "stdout",
       "text": [
        "\n",
        "rindex"
       ]
      },
      {
       "output_type": "stream",
       "stream": "stdout",
       "text": [
        " 0\n",
        "merit= 1.7672976e+01  grad= 1.6931247e-05"
       ]
      },
      {
       "output_type": "stream",
       "stream": "stdout",
       "text": [
        "\n",
        "rindex 0\n",
        "merit= 1.7672948e+01  grad= 6.0228885e-06"
       ]
      },
      {
       "output_type": "stream",
       "stream": "stdout",
       "text": [
        "\n",
        "rindex 0\n",
        "merit= 1.7672920e+01  grad= 6.1537481e-06"
       ]
      },
      {
       "output_type": "stream",
       "stream": "stdout",
       "text": [
        "\n",
        "rindex 0\n",
        "merit= 1.7672887e+01  grad= 8.8358421e-06"
       ]
      },
      {
       "output_type": "stream",
       "stream": "stdout",
       "text": [
        "\n",
        "rindex 0\n",
        "merit= 1.7672839e+01  grad= 1.6416818e-05"
       ]
      },
      {
       "output_type": "stream",
       "stream": "stdout",
       "text": [
        "\n",
        "rindex 0\n",
        "merit= 1.7672796e+01  grad= 7.8312608e-06"
       ]
      },
      {
       "output_type": "stream",
       "stream": "stdout",
       "text": [
        "\n",
        "rindex 0\n",
        "merit= 1.7672766e+01  grad= 6.0921589e-06"
       ]
      },
      {
       "output_type": "stream",
       "stream": "stdout",
       "text": [
        "\n",
        "rindex 0\n",
        "merit= 1.7672731e+01  grad= 1.0523366e-05"
       ]
      },
      {
       "output_type": "stream",
       "stream": "stdout",
       "text": [
        "\n",
        "rindex 0\n",
        "merit= 1.7672697e+01  grad= 1.2286580e-05"
       ]
      },
      {
       "output_type": "stream",
       "stream": "stdout",
       "text": [
        "\n",
        "rindex 0\n",
        "merit= 1.7672662e+01  grad= 5.4821682e-06"
       ]
      },
      {
       "output_type": "stream",
       "stream": "stdout",
       "text": [
        "\n",
        "rindex"
       ]
      },
      {
       "output_type": "stream",
       "stream": "stdout",
       "text": [
        " 0\n",
        "merit= 1.7672626e+01  grad= 5.1633591e-06"
       ]
      },
      {
       "output_type": "stream",
       "stream": "stdout",
       "text": [
        "\n",
        "rindex 0\n",
        "merit= 1.7672590e+01  grad= 9.7750897e-06"
       ]
      },
      {
       "output_type": "stream",
       "stream": "stdout",
       "text": [
        "\n",
        "rindex 0\n",
        "merit= 1.7672537e+01  grad= 1.1572412e-05"
       ]
      },
      {
       "output_type": "stream",
       "stream": "stdout",
       "text": [
        "\n",
        "rindex 0\n",
        "merit= 1.7672491e+01  grad= 5.4399747e-06"
       ]
      },
      {
       "output_type": "stream",
       "stream": "stdout",
       "text": [
        "\n",
        "rindex 0\n",
        "merit= 1.7672434e+01  grad= 5.9224936e-06"
       ]
      },
      {
       "output_type": "stream",
       "stream": "stdout",
       "text": [
        "\n",
        "rindex 0\n",
        "merit= 1.7672378e+01  grad= 5.5651662e-06"
       ]
      },
      {
       "output_type": "stream",
       "stream": "stdout",
       "text": [
        "\n",
        "rindex 0\n",
        "merit= 1.7672295e+01  grad= 1.6633049e-05"
       ]
      },
      {
       "output_type": "stream",
       "stream": "stdout",
       "text": [
        "\n",
        "rindex 0\n",
        "merit= 1.7672295e+01  grad= 5.0367926e-05"
       ]
      },
      {
       "output_type": "stream",
       "stream": "stdout",
       "text": [
        "\n",
        "rindex 0\n",
        "merit= 1.7672255e+01  grad= 8.5275029e-06"
       ]
      },
      {
       "output_type": "stream",
       "stream": "stdout",
       "text": [
        "\n",
        "rindex 0\n",
        "merit= 1.7672226e+01  grad= 3.0921151e-06"
       ]
      },
      {
       "output_type": "stream",
       "stream": "stdout",
       "text": [
        "\n",
        "rindex"
       ]
      },
      {
       "output_type": "stream",
       "stream": "stdout",
       "text": [
        " 0\n",
        "merit= 1.7672200e+01  grad= 4.6827731e-06"
       ]
      },
      {
       "output_type": "stream",
       "stream": "stdout",
       "text": [
        "\n",
        "rindex 0\n",
        "merit= 1.7672169e+01  grad= 2.0071863e-05"
       ]
      },
      {
       "output_type": "stream",
       "stream": "stdout",
       "text": [
        "\n",
        "rindex 0\n",
        "merit= 1.7672129e+01  grad= 7.2701507e-06"
       ]
      },
      {
       "output_type": "stream",
       "stream": "stdout",
       "text": [
        "\n",
        "rindex 0\n",
        "merit= 1.7672080e+01  grad= 4.4594588e-06"
       ]
      },
      {
       "output_type": "stream",
       "stream": "stdout",
       "text": [
        "\n",
        "rindex 0\n",
        "merit= 1.7672049e+01  grad= 1.9338978e-05"
       ]
      },
      {
       "output_type": "stream",
       "stream": "stdout",
       "text": [
        "\n",
        "rindex 0\n",
        "merit= 1.7672010e+01  grad= 1.2988400e-05"
       ]
      },
      {
       "output_type": "stream",
       "stream": "stdout",
       "text": [
        "\n",
        "rindex 0\n",
        "merit= 1.7671941e+01  grad= 5.9629688e-06"
       ]
      },
      {
       "output_type": "stream",
       "stream": "stdout",
       "text": [
        "\n",
        "rindex 0\n",
        "merit= 1.7671908e+01  grad= 1.6416781e-05"
       ]
      },
      {
       "output_type": "stream",
       "stream": "stdout",
       "text": [
        "\n",
        "rindex 0\n",
        "merit= 1.7671874e+01  grad= 6.5884237e-06"
       ]
      },
      {
       "output_type": "stream",
       "stream": "stdout",
       "text": [
        "\n",
        "rindex 0\n",
        "merit= 1.7671834e+01  grad= 5.1919758e-06"
       ]
      },
      {
       "output_type": "stream",
       "stream": "stdout",
       "text": [
        "\n",
        "rindex"
       ]
      },
      {
       "output_type": "stream",
       "stream": "stdout",
       "text": [
        " 0\n",
        "merit= 1.7671797e+01  grad= 6.5200529e-06"
       ]
      },
      {
       "output_type": "stream",
       "stream": "stdout",
       "text": [
        "\n",
        "rindex 0\n",
        "merit= 1.7671806e+01  grad= 9.8163012e-05"
       ]
      },
      {
       "output_type": "stream",
       "stream": "stdout",
       "text": [
        "\n",
        "rindex 0\n",
        "merit= 1.7671771e+01  grad= 2.2295740e-05"
       ]
      },
      {
       "output_type": "stream",
       "stream": "stdout",
       "text": [
        "\n",
        "rindex 0\n",
        "merit= 1.7671730e+01  grad= 7.3027467e-06"
       ]
      },
      {
       "output_type": "stream",
       "stream": "stdout",
       "text": [
        "\n",
        "rindex 0\n",
        "merit= 1.7671691e+01  grad= 4.5520608e-06"
       ]
      },
      {
       "output_type": "stream",
       "stream": "stdout",
       "text": [
        "\n",
        "rindex 0\n",
        "merit= 1.7671644e+01  grad= 6.0661949e-06"
       ]
      },
      {
       "output_type": "stream",
       "stream": "stdout",
       "text": [
        "\n",
        "rindex 0\n",
        "merit= 1.7671607e+01  grad= 1.7717696e-05"
       ]
      },
      {
       "output_type": "stream",
       "stream": "stdout",
       "text": [
        "\n",
        "rindex 0\n",
        "merit= 1.7671567e+01  grad= 4.5657710e-06"
       ]
      },
      {
       "output_type": "stream",
       "stream": "stdout",
       "text": [
        "\n",
        "rindex 0\n",
        "merit= 1.7671540e+01  grad= 3.8945324e-06"
       ]
      },
      {
       "output_type": "stream",
       "stream": "stdout",
       "text": [
        "\n",
        "rindex 0\n",
        "merit= 1.7671494e+01  grad= 8.5420232e-06"
       ]
      },
      {
       "output_type": "stream",
       "stream": "stdout",
       "text": [
        "\n",
        "rindex"
       ]
      },
      {
       "output_type": "stream",
       "stream": "stdout",
       "text": [
        " 0\n",
        "merit= 1.7671456e+01  grad= 1.2651727e-05"
       ]
      },
      {
       "output_type": "stream",
       "stream": "stdout",
       "text": [
        "\n",
        "rindex 0\n",
        "merit= 1.7671421e+01  grad= 4.8619377e-06"
       ]
      },
      {
       "output_type": "stream",
       "stream": "stdout",
       "text": [
        "\n",
        "rindex 0\n",
        "merit= 1.7671374e+01  grad= 5.1929086e-06"
       ]
      },
      {
       "output_type": "stream",
       "stream": "stdout",
       "text": [
        "\n",
        "rindex 0\n",
        "merit= 1.7671340e+01  grad= 1.4624381e-05"
       ]
      },
      {
       "output_type": "stream",
       "stream": "stdout",
       "text": [
        "\n",
        "rindex 0\n",
        "merit= 1.7671286e+01  grad= 1.0896036e-05"
       ]
      },
      {
       "output_type": "stream",
       "stream": "stdout",
       "text": [
        "\n",
        "rindex 0\n",
        "merit= 1.7671214e+01  grad= 1.5338355e-05"
       ]
      },
      {
       "output_type": "stream",
       "stream": "stdout",
       "text": [
        "\n",
        "rindex 0\n",
        "merit= 1.7671205e+01  grad= 5.8554816e-05"
       ]
      },
      {
       "output_type": "stream",
       "stream": "stdout",
       "text": [
        "\n",
        "rindex 0\n",
        "merit= 1.7671143e+01  grad= 5.3673654e-06"
       ]
      },
      {
       "output_type": "stream",
       "stream": "stdout",
       "text": [
        "\n",
        "rindex 0\n",
        "merit= 1.7671127e+01  grad= 3.8824847e-06"
       ]
      },
      {
       "output_type": "stream",
       "stream": "stdout",
       "text": [
        "\n",
        "rindex 0\n",
        "merit= 1.7671094e+01  grad= 8.8343118e-06"
       ]
      },
      {
       "output_type": "stream",
       "stream": "stdout",
       "text": [
        "\n",
        "rindex"
       ]
      },
      {
       "output_type": "stream",
       "stream": "stdout",
       "text": [
        " 0\n",
        "merit= 1.7671068e+01  grad= 1.9599145e-05"
       ]
      },
      {
       "output_type": "stream",
       "stream": "stdout",
       "text": [
        "\n",
        "rindex 0\n",
        "merit= 1.7671035e+01  grad= 7.1913106e-06"
       ]
      },
      {
       "output_type": "stream",
       "stream": "stdout",
       "text": [
        "\n",
        "rindex 0\n",
        "merit= 1.7670992e+01  grad= 5.4753301e-06"
       ]
      },
      {
       "output_type": "stream",
       "stream": "stdout",
       "text": [
        "\n",
        "rindex 0\n",
        "merit= 1.7670957e+01  grad= 6.5729714e-06"
       ]
      },
      {
       "output_type": "stream",
       "stream": "stdout",
       "text": [
        "\n",
        "rindex 0\n",
        "merit= 1.7670908e+01  grad= 2.9172099e-05"
       ]
      },
      {
       "output_type": "stream",
       "stream": "stdout",
       "text": [
        "\n",
        "rindex 0\n",
        "merit= 1.7670862e+01  grad= 6.5183562e-06"
       ]
      },
      {
       "output_type": "stream",
       "stream": "stdout",
       "text": [
        "\n",
        "rindex 0\n",
        "merit= 1.7670838e+01  grad= 3.3970536e-06"
       ]
      },
      {
       "output_type": "stream",
       "stream": "stdout",
       "text": [
        "\n",
        "rindex 0\n",
        "merit= 1.7670799e+01  grad= 5.3296217e-06"
       ]
      },
      {
       "output_type": "stream",
       "stream": "stdout",
       "text": [
        "\n",
        "rindex 0\n",
        "merit= 1.7670764e+01  grad= 1.9895723e-05"
       ]
      },
      {
       "output_type": "stream",
       "stream": "stdout",
       "text": [
        "\n",
        "rindex 0\n",
        "merit= 1.7670722e+01  grad= 6.5541844e-06"
       ]
      },
      {
       "output_type": "stream",
       "stream": "stdout",
       "text": [
        "\n",
        "rindex"
       ]
      },
      {
       "output_type": "stream",
       "stream": "stdout",
       "text": [
        " 0\n",
        "merit= 1.7670665e+01  grad= 7.0397736e-06"
       ]
      },
      {
       "output_type": "stream",
       "stream": "stdout",
       "text": [
        "\n",
        "rindex 0\n",
        "merit= 1.7670625e+01  grad= 1.3817159e-05"
       ]
      },
      {
       "output_type": "stream",
       "stream": "stdout",
       "text": [
        "\n",
        "rindex 0\n",
        "merit= 1.7670557e+01  grad= 1.1756928e-05"
       ]
      },
      {
       "output_type": "stream",
       "stream": "stdout",
       "text": [
        "\n",
        "rindex 0\n",
        "merit= 1.7670505e+01  grad= 2.8905989e-05"
       ]
      },
      {
       "output_type": "stream",
       "stream": "stdout",
       "text": [
        "\n",
        "rindex 0\n",
        "merit= 1.7670448e+01  grad= 7.0463813e-06"
       ]
      },
      {
       "output_type": "stream",
       "stream": "stdout",
       "text": [
        "\n",
        "rindex 0\n",
        "merit= 1.7670408e+01  grad= 5.7123593e-06"
       ]
      },
      {
       "output_type": "stream",
       "stream": "stdout",
       "text": [
        "\n",
        "rindex 0\n",
        "merit= 1.7670376e+01  grad= 8.2627401e-06"
       ]
      },
      {
       "output_type": "stream",
       "stream": "stdout",
       "text": [
        "\n",
        "rindex 0\n",
        "merit= 1.7670343e+01  grad= 2.4061743e-05"
       ]
      },
      {
       "output_type": "stream",
       "stream": "stdout",
       "text": [
        "\n",
        "rindex 0\n",
        "merit= 1.7670303e+01  grad= 4.7573965e-06"
       ]
      },
      {
       "output_type": "stream",
       "stream": "stdout",
       "text": [
        "\n",
        "rindex 0\n",
        "merit= 1.7670276e+01  grad= 4.8071169e-06"
       ]
      },
      {
       "output_type": "stream",
       "stream": "stdout",
       "text": [
        "\n",
        "rindex"
       ]
      },
      {
       "output_type": "stream",
       "stream": "stdout",
       "text": [
        " 0\n",
        "merit= 1.7670245e+01  grad= 7.6912003e-06"
       ]
      },
      {
       "output_type": "stream",
       "stream": "stdout",
       "text": [
        "\n",
        "rindex 0\n",
        "merit= 1.7670215e+01  grad= 4.0386637e-05"
       ]
      },
      {
       "output_type": "stream",
       "stream": "stdout",
       "text": [
        "\n",
        "rindex 0\n",
        "merit= 1.7670165e+01  grad= 6.7359033e-06"
       ]
      },
      {
       "output_type": "stream",
       "stream": "stdout",
       "text": [
        "\n",
        "rindex 0\n",
        "merit= 1.7670135e+01  grad= 5.5569156e-06"
       ]
      },
      {
       "output_type": "stream",
       "stream": "stdout",
       "text": [
        "\n",
        "rindex 0\n",
        "merit= 1.7670096e+01  grad= 8.1202752e-06"
       ]
      },
      {
       "output_type": "stream",
       "stream": "stdout",
       "text": [
        "\n",
        "rindex 0\n",
        "merit= 1.7670043e+01  grad= 6.8443973e-06"
       ]
      },
      {
       "output_type": "stream",
       "stream": "stdout",
       "text": [
        "\n",
        "rindex 0\n",
        "merit= 1.7670078e+01  grad= 1.2672139e-04"
       ]
      },
      {
       "output_type": "stream",
       "stream": "stdout",
       "text": [
        "\n",
        "rindex 0\n",
        "merit= 1.7670013e+01  grad= 2.4462532e-05"
       ]
      },
      {
       "output_type": "stream",
       "stream": "stdout",
       "text": [
        "\n",
        "rindex 0\n",
        "merit= 1.7669963e+01  grad= 7.2666493e-06"
       ]
      },
      {
       "output_type": "stream",
       "stream": "stdout",
       "text": [
        "\n",
        "rindex 0\n",
        "merit= 1.7669931e+01  grad= 6.8997997e-06"
       ]
      },
      {
       "output_type": "stream",
       "stream": "stdout",
       "text": [
        "\n",
        "rindex"
       ]
      },
      {
       "output_type": "stream",
       "stream": "stdout",
       "text": [
        " 0\n",
        "merit= 1.7669895e+01  grad= 6.5623302e-06"
       ]
      },
      {
       "output_type": "stream",
       "stream": "stdout",
       "text": [
        "\n",
        "rindex 0\n",
        "merit= 1.7669844e+01  grad= 6.7078001e-06"
       ]
      },
      {
       "output_type": "stream",
       "stream": "stdout",
       "text": [
        "\n",
        "rindex 0\n",
        "merit= 1.7669825e+01  grad= 5.7154402e-05"
       ]
      },
      {
       "output_type": "stream",
       "stream": "stdout",
       "text": [
        "\n",
        "rindex 0\n",
        "merit= 1.7669757e+01  grad= 6.7163367e-06"
       ]
      },
      {
       "output_type": "stream",
       "stream": "stdout",
       "text": [
        "\n",
        "rindex 0\n",
        "merit= 1.7669727e+01  grad= 4.8425000e-06"
       ]
      },
      {
       "output_type": "stream",
       "stream": "stdout",
       "text": [
        "\n",
        "rindex 0\n",
        "merit= 1.7669683e+01  grad= 7.3104182e-06"
       ]
      },
      {
       "output_type": "stream",
       "stream": "stdout",
       "text": [
        "\n",
        "rindex 0\n",
        "merit= 1.7669625e+01  grad= 1.0772591e-05"
       ]
      },
      {
       "output_type": "stream",
       "stream": "stdout",
       "text": [
        "\n",
        "rindex 0\n",
        "merit= 1.7669573e+01  grad= 1.4102920e-05"
       ]
      },
      {
       "output_type": "stream",
       "stream": "stdout",
       "text": [
        "\n",
        "rindex 0\n",
        "merit= 1.7669522e+01  grad= 5.3205401e-06"
       ]
      },
      {
       "output_type": "stream",
       "stream": "stdout",
       "text": [
        "\n",
        "rindex 0\n",
        "merit= 1.7669471e+01  grad= 8.6947397e-06"
       ]
      },
      {
       "output_type": "stream",
       "stream": "stdout",
       "text": [
        "\n"
       ]
      },
      {
       "output_type": "stream",
       "stream": "stderr",
       "text": [
        "/Users/gjones/pycyc/pycyc.py:571: RuntimeWarning: divide by zero encountered in log10\n",
        "  ax4.plot(t,np.roll(20*np.log10(np.convolve(np.ones((10,))/10.0,np.abs(ht),mode='same')),(ht.shape[0]/2)-self.rindex),linewidth=2,color='r',alpha=0.4)\n"
       ]
      }
     ],
     "prompt_number": 16
    },
    {
     "cell_type": "code",
     "collapsed": false,
     "input": [
      "import pycyc"
     ],
     "language": "python",
     "metadata": {},
     "outputs": [],
     "prompt_number": 18
    },
    {
     "cell_type": "code",
     "collapsed": false,
     "input": [
      "cs.tau = 6.0"
     ],
     "language": "python",
     "metadata": {},
     "outputs": [],
     "prompt_number": 20
    },
    {
     "cell_type": "code",
     "collapsed": false,
     "input": [
      "pycyc.plotSimulation(cs)"
     ],
     "language": "python",
     "metadata": {},
     "outputs": [
      {
       "output_type": "stream",
       "stream": "stderr",
       "text": [
        "/Users/gjones/pycyc/pycyc.py:679: RuntimeWarning: invalid value encountered in divide\n",
        "  im = ax4.imshow(np.angle(cs_model[:,:mlag]/cs0[:,:mlag]), cmap=plt.cm.hsv,\n",
        "/Users/gjones/pycyc/pycyc.py:691: RuntimeWarning: divide by zero encountered in log10\n",
        "  ax5.plot(t/1e3,np.fft.fftshift(20*np.log10(np.abs(ht0)/np.abs(ht0).max())),label='dB($|h(t)|^2$)')\n"
       ]
      },
      {
       "output_type": "stream",
       "stream": "stderr",
       "text": [
        "/Users/gjones/pycyc/pycyc.py:725: RuntimeWarning: divide by zero encountered in divide\n",
        "  im = ax6.imshow(np.angle(CS.cs[:,:mlag]/cs0[:,:mlag]), cmap=plt.cm.hsv,\n",
        "/Users/gjones/pycyc/pycyc.py:725: RuntimeWarning: invalid value encountered in divide\n",
        "  im = ax6.imshow(np.angle(CS.cs[:,:mlag]/cs0[:,:mlag]), cmap=plt.cm.hsv,\n",
        "/Users/gjones/pycyc/pycyc.py:733: RuntimeWarning: divide by zero encountered in log10\n",
        "  im = ax7.imshow(np.log10(np.abs(CS.cs[:,:mlag])),\n"
       ]
      }
     ],
     "prompt_number": 21
    },
    {
     "cell_type": "code",
     "collapsed": false,
     "input": [],
     "language": "python",
     "metadata": {},
     "outputs": []
    }
   ],
   "metadata": {}
  }
 ]
}