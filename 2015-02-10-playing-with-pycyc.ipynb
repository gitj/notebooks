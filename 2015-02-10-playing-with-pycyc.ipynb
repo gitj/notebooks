{
 "metadata": {
  "name": "",
  "signature": "sha256:d0db9ff4b8d94e4fefc65b51042c8f3557013912c3a871f3aa8e8420ec8ed7ee"
 },
 "nbformat": 3,
 "nbformat_minor": 0,
 "worksheets": [
  {
   "cells": [
    {
     "cell_type": "code",
     "collapsed": false,
     "input": [
      "import sys"
     ],
     "language": "python",
     "metadata": {},
     "outputs": [],
     "prompt_number": 1
    },
    {
     "cell_type": "code",
     "collapsed": false,
     "input": [
      "sys.path.append('/Users/gjones/pycyc/')"
     ],
     "language": "python",
     "metadata": {},
     "outputs": [],
     "prompt_number": 2
    },
    {
     "cell_type": "code",
     "collapsed": false,
     "input": [
      "import simcyc"
     ],
     "language": "python",
     "metadata": {},
     "outputs": [
      {
       "output_type": "stream",
       "stream": "stdout",
       "text": [
        "pycyc.py: psrchive python libraries not found. You will not be able to load psrchive files.\n",
        "pycyc.py: psrchive python libraries not found. You will not be able to load psrchive files."
       ]
      },
      {
       "output_type": "stream",
       "stream": "stdout",
       "text": [
        "\n"
       ]
      }
     ],
     "prompt_number": 3
    },
    {
     "cell_type": "code",
     "collapsed": false,
     "input": [
      "t = np.linspace(0,128,2048)\n",
      "ht = np.exp(-(t-64)/6.)\n",
      "ht[t<64]=0\n",
      "ht = ht.astype('complex')\n",
      "ht = ht*np.exp(1j*t*32.0)"
     ],
     "language": "python",
     "metadata": {},
     "outputs": [],
     "prompt_number": 90
    },
    {
     "cell_type": "code",
     "collapsed": false,
     "input": [
      "plot(abs(ht))"
     ],
     "language": "python",
     "metadata": {},
     "outputs": [
      {
       "metadata": {},
       "output_type": "pyout",
       "prompt_number": 91,
       "text": [
        "[<matplotlib.lines.Line2D at 0x15b55390>]"
       ]
      },
      {
       "metadata": {},
       "output_type": "display_data",
       "png": "[encoded data removed]",
       "text": [
        "<matplotlib.figure.Figure at 0x156f1080>"
       ]
      }
     ],
     "prompt_number": 91
    },
    {
     "cell_type": "code",
     "collapsed": false,
     "input": [
      "prof = simcyc.makeProfile(6,128)"
     ],
     "language": "python",
     "metadata": {},
     "outputs": [],
     "prompt_number": 92
    },
    {
     "cell_type": "code",
     "collapsed": false,
     "input": [
      "plot(prof)"
     ],
     "language": "python",
     "metadata": {},
     "outputs": [
      {
       "metadata": {},
       "output_type": "pyout",
       "prompt_number": 93,
       "text": [
        "[<matplotlib.lines.Line2D at 0x18361a90>]"
       ]
      },
      {
       "metadata": {},
       "output_type": "display_data",
       "png": "[encoded data removed]",
       "text": [
        "<matplotlib.figure.Figure at 0x15718f98>"
       ]
      }
     ],
     "prompt_number": 93
    },
    {
     "cell_type": "code",
     "collapsed": false,
     "input": [
      "cs = simcyc.initSim(ht,prof=prof,ref_freq=1/1.5e-3,bw=1/t[1],noise=1)"
     ],
     "language": "python",
     "metadata": {},
     "outputs": [],
     "prompt_number": 94
    },
    {
     "cell_type": "code",
     "collapsed": false,
     "input": [
      "cs.bw"
     ],
     "language": "python",
     "metadata": {},
     "outputs": [
      {
       "metadata": {},
       "output_type": "pyout",
       "prompt_number": 95,
       "text": [
        "15.9921875"
       ]
      }
     ],
     "prompt_number": 95
    },
    {
     "cell_type": "code",
     "collapsed": false,
     "input": [
      "cs.filename"
     ],
     "language": "python",
     "metadata": {},
     "outputs": [
      {
       "metadata": {},
       "output_type": "pyout",
       "prompt_number": 96,
       "text": [
        "'simfake_16.0MHz_1.5ms'"
       ]
      }
     ],
     "prompt_number": 96
    },
    {
     "cell_type": "code",
     "collapsed": false,
     "input": [
      "cs.initProfile()"
     ],
     "language": "python",
     "metadata": {},
     "outputs": [],
     "prompt_number": 97
    },
    {
     "cell_type": "code",
     "collapsed": false,
     "input": [
      "cs.pp_meas = cs.pp_ref.copy()"
     ],
     "language": "python",
     "metadata": {},
     "outputs": [],
     "prompt_number": 98
    },
    {
     "cell_type": "code",
     "collapsed": false,
     "input": [
      "cs.s0 = cs.ph_ref.copy()"
     ],
     "language": "python",
     "metadata": {},
     "outputs": [],
     "prompt_number": 99
    },
    {
     "cell_type": "code",
     "collapsed": false,
     "input": [
      "1/2."
     ],
     "language": "python",
     "metadata": {},
     "outputs": [
      {
       "metadata": {},
       "output_type": "pyout",
       "prompt_number": 103,
       "text": [
        "0.5"
       ]
      }
     ],
     "prompt_number": 103
    },
    {
     "cell_type": "code",
     "collapsed": false,
     "input": [
      "cs.ph_ref[0]"
     ],
     "language": "python",
     "metadata": {},
     "outputs": [
      {
       "metadata": {},
       "output_type": "pyout",
       "prompt_number": 100,
       "text": [
        "0j"
       ]
      }
     ],
     "prompt_number": 100
    },
    {
     "cell_type": "code",
     "collapsed": false,
     "input": [
      "cs.plotdir='/Users/gjones/cycplots/'"
     ],
     "language": "python",
     "metadata": {},
     "outputs": [],
     "prompt_number": 101
    },
    {
     "cell_type": "code",
     "collapsed": false,
     "input": [
      "cs.loop(make_plots=True,plotdir=(cs.plotdir+'iterations'),plot_every=10,maxfun=300 )"
     ],
     "language": "python",
     "metadata": {},
     "outputs": [
      {
       "output_type": "stream",
       "stream": "stdout",
       "text": [
        "initial filter: delta function at delay = 0\n",
        "onp not specified, so not using minimum phase\n",
        "max filter index = 0\n",
        "variance : 1.18775e-04\n",
        "nsamp    : 2.61748e+05\n",
        "dof      : 2.57525e+05\n",
        "min obj  : 3.05875e+01\n",
        "ftol     : 3.88312e-07\n",
        "scipytol : 1.74915e+09\n",
        "rindex 0\n",
        "merit= 2.5314283e+04  grad= 1.3473175e+03"
       ]
      },
      {
       "output_type": "stream",
       "stream": "stdout",
       "text": [
        "\n",
        "rindex"
       ]
      },
      {
       "output_type": "stream",
       "stream": "stdout",
       "text": [
        " 0\n",
        "merit= 2.5277550e+04  grad= 1.3513732e+03"
       ]
      },
      {
       "output_type": "stream",
       "stream": "stdout",
       "text": [
        "\n",
        "rindex 0\n",
        "merit= 2.5130069e+04  grad= 1.3677565e+03"
       ]
      },
      {
       "output_type": "stream",
       "stream": "stdout",
       "text": [
        "\n",
        "rindex 0\n",
        "merit= 2.4531588e+04  grad= 1.4355228e+03"
       ]
      },
      {
       "output_type": "stream",
       "stream": "stdout",
       "text": [
        "\n",
        "rindex 0\n",
        "merit= 2.2015728e+04  grad= 1.7193942e+03"
       ]
      },
      {
       "output_type": "stream",
       "stream": "stdout",
       "text": [
        "\n",
        "rindex 0\n",
        "merit= 1.1387796e+04  grad= 1.6479490e+03"
       ]
      },
      {
       "output_type": "stream",
       "stream": "stdout",
       "text": [
        "\n",
        "rindex 0\n",
        "merit= 1.5836207e+05  grad= 6.9927671e+05"
       ]
      },
      {
       "output_type": "stream",
       "stream": "stdout",
       "text": [
        "\n",
        "rindex 0\n",
        "merit= 6.0546479e+03  grad= 3.1878817e+02"
       ]
      },
      {
       "output_type": "stream",
       "stream": "stdout",
       "text": [
        "\n",
        "rindex 0\n",
        "merit= 1.7431960e+04  grad= 2.3493116e+04"
       ]
      },
      {
       "output_type": "stream",
       "stream": "stdout",
       "text": [
        "\n",
        "rindex 0\n",
        "merit= 4.4823017e+03  grad= 3.7233377e+02"
       ]
      },
      {
       "output_type": "stream",
       "stream": "stdout",
       "text": [
        "\n",
        "rindex 0\n",
        "merit= 3.0852899e+03  grad= 2.7429838e+02"
       ]
      },
      {
       "output_type": "stream",
       "stream": "stdout",
       "text": [
        "\n",
        "rindex"
       ]
      },
      {
       "output_type": "stream",
       "stream": "stdout",
       "text": [
        " 0\n",
        "merit= 1.4728756e+03  grad= 3.7884540e+02"
       ]
      },
      {
       "output_type": "stream",
       "stream": "stdout",
       "text": [
        "\n",
        "rindex 0\n",
        "merit= 1.4762922e+03  grad= 1.3705200e+03"
       ]
      },
      {
       "output_type": "stream",
       "stream": "stdout",
       "text": [
        "\n",
        "rindex 0\n",
        "merit= 6.9731315e+02  grad= 1.1586219e+02"
       ]
      },
      {
       "output_type": "stream",
       "stream": "stdout",
       "text": [
        "\n",
        "rindex 0\n",
        "merit= 3.6000959e+02  grad= 3.0169287e+01"
       ]
      },
      {
       "output_type": "stream",
       "stream": "stdout",
       "text": [
        "\n",
        "rindex 0\n",
        "merit= 1.4001540e+02  grad= 1.2388370e+01"
       ]
      },
      {
       "output_type": "stream",
       "stream": "stdout",
       "text": [
        "\n",
        "rindex 0\n",
        "merit= 1.0005467e+02  grad= 1.7026053e+01"
       ]
      },
      {
       "output_type": "stream",
       "stream": "stdout",
       "text": [
        "\n",
        "rindex 0\n",
        "merit= 7.1312277e+01  grad= 1.6426050e+00"
       ]
      },
      {
       "output_type": "stream",
       "stream": "stdout",
       "text": [
        "\n",
        "rindex 0\n",
        "merit= 6.1063819e+01  grad= 6.0449374e-01"
       ]
      },
      {
       "output_type": "stream",
       "stream": "stdout",
       "text": [
        "\n",
        "rindex 0\n",
        "merit= 5.5091117e+01  grad= 4.7445636e-01"
       ]
      },
      {
       "output_type": "stream",
       "stream": "stdout",
       "text": [
        "\n",
        "rindex 0\n",
        "merit= 5.8653225e+01  grad= 7.5746969e+00"
       ]
      },
      {
       "output_type": "stream",
       "stream": "stdout",
       "text": [
        "\n",
        "rindex"
       ]
      },
      {
       "output_type": "stream",
       "stream": "stdout",
       "text": [
        " 0\n",
        "merit= 5.3315828e+01  grad= 1.0585425e+00"
       ]
      },
      {
       "output_type": "stream",
       "stream": "stdout",
       "text": [
        "\n",
        "rindex 0\n",
        "merit= 5.0549353e+01  grad= 2.0886859e-01"
       ]
      },
      {
       "output_type": "stream",
       "stream": "stdout",
       "text": [
        "\n",
        "rindex 0\n",
        "merit= 4.9198936e+01  grad= 1.3290080e-01"
       ]
      },
      {
       "output_type": "stream",
       "stream": "stdout",
       "text": [
        "\n",
        "rindex 0\n",
        "merit= 4.7337507e+01  grad= 2.4933002e-01"
       ]
      },
      {
       "output_type": "stream",
       "stream": "stdout",
       "text": [
        "\n",
        "rindex 0\n",
        "merit= 4.6013440e+01  grad= 6.2069633e-01"
       ]
      },
      {
       "output_type": "stream",
       "stream": "stdout",
       "text": [
        "\n",
        "rindex 0\n",
        "merit= 4.4672803e+01  grad= 1.0786163e-01"
       ]
      },
      {
       "output_type": "stream",
       "stream": "stdout",
       "text": [
        "\n",
        "rindex 0\n",
        "merit= 4.3788493e+01  grad= 9.6575231e-02"
       ]
      },
      {
       "output_type": "stream",
       "stream": "stdout",
       "text": [
        "\n",
        "rindex 0\n",
        "merit= 4.2946483e+01  grad= 1.6286935e-01"
       ]
      },
      {
       "output_type": "stream",
       "stream": "stdout",
       "text": [
        "\n",
        "rindex 0\n",
        "merit= 4.1647926e+01  grad= 1.7485660e-01"
       ]
      },
      {
       "output_type": "stream",
       "stream": "stdout",
       "text": [
        "\n",
        "rindex 0\n",
        "merit= 4.0432640e+01  grad= 2.4695671e-01"
       ]
      },
      {
       "output_type": "stream",
       "stream": "stdout",
       "text": [
        "\n",
        "rindex"
       ]
      },
      {
       "output_type": "stream",
       "stream": "stdout",
       "text": [
        " 0\n",
        "merit= 3.9989496e+01  grad= 2.5348825e-01"
       ]
      },
      {
       "output_type": "stream",
       "stream": "stdout",
       "text": [
        "\n",
        "rindex 0\n",
        "merit= 3.9290374e+01  grad= 3.0558684e-02"
       ]
      },
      {
       "output_type": "stream",
       "stream": "stdout",
       "text": [
        "\n",
        "rindex 0\n",
        "merit= 3.9082822e+01  grad= 2.4451161e-02"
       ]
      },
      {
       "output_type": "stream",
       "stream": "stdout",
       "text": [
        "\n",
        "rindex 0\n",
        "merit= 3.8671882e+01  grad= 5.4026199e-02"
       ]
      },
      {
       "output_type": "stream",
       "stream": "stdout",
       "text": [
        "\n",
        "rindex 0\n",
        "merit= 3.8382660e+01  grad= 1.3537664e-01"
       ]
      },
      {
       "output_type": "stream",
       "stream": "stdout",
       "text": [
        "\n",
        "rindex 0\n",
        "merit= 3.8088245e+01  grad= 2.8036448e-02"
       ]
      },
      {
       "output_type": "stream",
       "stream": "stdout",
       "text": [
        "\n",
        "rindex 0\n",
        "merit= 3.7953920e+01  grad= 1.6597433e-02"
       ]
      },
      {
       "output_type": "stream",
       "stream": "stdout",
       "text": [
        "\n",
        "rindex 0\n",
        "merit= 3.7865387e+01  grad= 2.5182243e-02"
       ]
      },
      {
       "output_type": "stream",
       "stream": "stdout",
       "text": [
        "\n",
        "rindex 0\n",
        "merit= 3.7745205e+01  grad= 2.1901306e-02"
       ]
      },
      {
       "output_type": "stream",
       "stream": "stdout",
       "text": [
        "\n",
        "rindex 0\n",
        "merit= 3.7526580e+01  grad= 1.6768832e-02"
       ]
      },
      {
       "output_type": "stream",
       "stream": "stdout",
       "text": [
        "\n",
        "rindex"
       ]
      },
      {
       "output_type": "stream",
       "stream": "stdout",
       "text": [
        " 0\n",
        "merit= 3.7361753e+01  grad= 6.0379650e-02"
       ]
      },
      {
       "output_type": "stream",
       "stream": "stdout",
       "text": [
        "\n",
        "rindex 0\n",
        "merit= 3.7200617e+01  grad= 1.1601429e-02"
       ]
      },
      {
       "output_type": "stream",
       "stream": "stdout",
       "text": [
        "\n",
        "rindex"
       ]
      },
      {
       "output_type": "stream",
       "stream": "stdout",
       "text": [
        " 0\n",
        "merit= 3.7124470e+01  grad= 7.2059524e-03"
       ]
      },
      {
       "output_type": "stream",
       "stream": "stdout",
       "text": [
        "\n",
        "rindex 0\n",
        "merit= 3.7077658e+01  grad= 2.7881262e-02"
       ]
      },
      {
       "output_type": "stream",
       "stream": "stdout",
       "text": [
        "\n",
        "rindex 0\n",
        "merit= 3.7024630e+01  grad= 6.3001233e-03"
       ]
      },
      {
       "output_type": "stream",
       "stream": "stdout",
       "text": [
        "\n",
        "rindex 0\n",
        "merit= 3.6985538e+01  grad= 5.6978000e-03"
       ]
      },
      {
       "output_type": "stream",
       "stream": "stdout",
       "text": [
        "\n",
        "rindex 0\n",
        "merit= 3.6927899e+01  grad= 9.7960205e-03"
       ]
      },
      {
       "output_type": "stream",
       "stream": "stdout",
       "text": [
        "\n",
        "rindex 0\n",
        "merit= 3.6884036e+01  grad= 3.7437602e-02"
       ]
      },
      {
       "output_type": "stream",
       "stream": "stdout",
       "text": [
        "\n",
        "rindex 0\n",
        "merit= 3.6821350e+01  grad= 9.0321256e-03"
       ]
      },
      {
       "output_type": "stream",
       "stream": "stdout",
       "text": [
        "\n",
        "rindex 0\n",
        "merit= 3.6768705e+01  grad= 3.7993049e-03"
       ]
      },
      {
       "output_type": "stream",
       "stream": "stdout",
       "text": [
        "\n",
        "rindex"
       ]
      },
      {
       "output_type": "stream",
       "stream": "stdout",
       "text": [
        " 0\n",
        "merit= 3.6736045e+01  grad= 5.0753661e-03"
       ]
      },
      {
       "output_type": "stream",
       "stream": "stdout",
       "text": [
        "\n",
        "rindex 0\n",
        "merit= 3.6697945e+01  grad= 1.9283977e-02"
       ]
      },
      {
       "output_type": "stream",
       "stream": "stdout",
       "text": [
        "\n",
        "rindex 0\n",
        "merit= 3.6653739e+01  grad= 3.2102650e-03"
       ]
      },
      {
       "output_type": "stream",
       "stream": "stdout",
       "text": [
        "\n",
        "rindex 0\n",
        "merit= 3.6635774e+01  grad= 2.0948491e-03"
       ]
      },
      {
       "output_type": "stream",
       "stream": "stdout",
       "text": [
        "\n",
        "rindex 0\n",
        "merit= 3.6607279e+01  grad= 2.6475912e-03"
       ]
      },
      {
       "output_type": "stream",
       "stream": "stdout",
       "text": [
        "\n",
        "rindex 0\n",
        "merit= 3.6571956e+01  grad= 3.4376037e-03"
       ]
      },
      {
       "output_type": "stream",
       "stream": "stdout",
       "text": [
        "\n",
        "rindex 0\n",
        "merit= 3.6544442e+01  grad= 9.9299178e-03"
       ]
      },
      {
       "output_type": "stream",
       "stream": "stdout",
       "text": [
        "\n",
        "rindex 0\n",
        "merit= 3.6514173e+01  grad= 2.3769754e-03"
       ]
      },
      {
       "output_type": "stream",
       "stream": "stdout",
       "text": [
        "\n",
        "rindex 0\n",
        "merit= 3.6500544e+01  grad= 1.5312262e-03"
       ]
      },
      {
       "output_type": "stream",
       "stream": "stdout",
       "text": [
        "\n",
        "rindex 0\n",
        "merit= 3.6486069e+01  grad= 2.4497899e-03"
       ]
      },
      {
       "output_type": "stream",
       "stream": "stdout",
       "text": [
        "\n",
        "rindex"
       ]
      },
      {
       "output_type": "stream",
       "stream": "stdout",
       "text": [
        " 0\n",
        "merit= 3.6468956e+01  grad= 2.2311343e-03"
       ]
      },
      {
       "output_type": "stream",
       "stream": "stdout",
       "text": [
        "\n",
        "rindex 0\n",
        "merit= 3.6452735e+01  grad= 2.2101221e-03"
       ]
      },
      {
       "output_type": "stream",
       "stream": "stdout",
       "text": [
        "\n",
        "rindex 0\n",
        "merit= 3.6440677e+01  grad= 2.5412443e-03"
       ]
      },
      {
       "output_type": "stream",
       "stream": "stdout",
       "text": [
        "\n",
        "rindex 0\n",
        "merit= 3.6431056e+01  grad= 1.3195362e-03"
       ]
      },
      {
       "output_type": "stream",
       "stream": "stdout",
       "text": [
        "\n",
        "rindex 0\n",
        "merit= 3.6415360e+01  grad= 1.0875631e-03"
       ]
      },
      {
       "output_type": "stream",
       "stream": "stdout",
       "text": [
        "\n",
        "rindex 0\n",
        "merit= 3.6401284e+01  grad= 1.3529117e-03"
       ]
      },
      {
       "output_type": "stream",
       "stream": "stdout",
       "text": [
        "\n",
        "rindex 0\n",
        "merit= 3.6398169e+01  grad= 7.6676698e-03"
       ]
      },
      {
       "output_type": "stream",
       "stream": "stdout",
       "text": [
        "\n",
        "rindex 0\n",
        "merit= 3.6381136e+01  grad= 7.0749101e-04"
       ]
      },
      {
       "output_type": "stream",
       "stream": "stdout",
       "text": [
        "\n",
        "rindex 0\n",
        "merit= 3.6376035e+01  grad= 5.2336454e-04"
       ]
      },
      {
       "output_type": "stream",
       "stream": "stdout",
       "text": [
        "\n",
        "rindex 0\n",
        "merit= 3.6365864e+01  grad= 7.9515245e-04"
       ]
      },
      {
       "output_type": "stream",
       "stream": "stdout",
       "text": [
        "\n",
        "rindex"
       ]
      },
      {
       "output_type": "stream",
       "stream": "stdout",
       "text": [
        " 0\n",
        "merit= 3.6367812e+01  grad= 1.3607627e-02"
       ]
      },
      {
       "output_type": "stream",
       "stream": "stdout",
       "text": [
        "\n",
        "rindex 0\n",
        "merit= 3.6360847e+01  grad= 3.0591591e-03"
       ]
      },
      {
       "output_type": "stream",
       "stream": "stdout",
       "text": [
        "\n",
        "rindex 0\n",
        "merit= 3.6351969e+01  grad= 1.3046137e-03"
       ]
      },
      {
       "output_type": "stream",
       "stream": "stdout",
       "text": [
        "\n",
        "rindex 0\n",
        "merit= 3.6342913e+01  grad= 6.8107961e-04"
       ]
      },
      {
       "output_type": "stream",
       "stream": "stdout",
       "text": [
        "\n",
        "rindex 0\n",
        "merit= 3.6336853e+01  grad= 1.7741325e-03"
       ]
      },
      {
       "output_type": "stream",
       "stream": "stdout",
       "text": [
        "\n",
        "rindex 0\n",
        "merit= 3.6331041e+01  grad= 6.7463454e-04"
       ]
      },
      {
       "output_type": "stream",
       "stream": "stdout",
       "text": [
        "\n",
        "rindex 0\n",
        "merit= 3.6325771e+01  grad= 7.1525024e-04"
       ]
      },
      {
       "output_type": "stream",
       "stream": "stdout",
       "text": [
        "\n",
        "rindex 0\n",
        "merit= 3.6319112e+01  grad= 7.1964825e-04"
       ]
      },
      {
       "output_type": "stream",
       "stream": "stdout",
       "text": [
        "\n",
        "rindex 0\n",
        "merit= 3.6316370e+01  grad= 5.4556784e-03"
       ]
      },
      {
       "output_type": "stream",
       "stream": "stdout",
       "text": [
        "\n",
        "rindex 0\n",
        "merit= 3.6307334e+01  grad= 6.1127589e-04"
       ]
      },
      {
       "output_type": "stream",
       "stream": "stdout",
       "text": [
        "\n",
        "rindex"
       ]
      },
      {
       "output_type": "stream",
       "stream": "stdout",
       "text": [
        " 0\n",
        "merit= 3.6303488e+01  grad= 3.7201298e-04"
       ]
      },
      {
       "output_type": "stream",
       "stream": "stdout",
       "text": [
        "\n",
        "rindex 0\n",
        "merit= 3.6298339e+01  grad= 6.1944932e-04"
       ]
      },
      {
       "output_type": "stream",
       "stream": "stdout",
       "text": [
        "\n",
        "rindex 0\n",
        "merit= 3.6292099e+01  grad= 6.5364630e-04"
       ]
      },
      {
       "output_type": "stream",
       "stream": "stdout",
       "text": [
        "\n",
        "rindex 0\n",
        "merit= 3.6305440e+01  grad= 1.7113465e-02"
       ]
      },
      {
       "output_type": "stream",
       "stream": "stdout",
       "text": [
        "\n",
        "rindex 0\n",
        "merit= 3.6289235e+01  grad= 1.4496259e-03"
       ]
      },
      {
       "output_type": "stream",
       "stream": "stdout",
       "text": [
        "\n",
        "rindex 0\n",
        "merit= 3.6284279e+01  grad= 3.7891278e-04"
       ]
      },
      {
       "output_type": "stream",
       "stream": "stdout",
       "text": [
        "\n",
        "rindex 0\n",
        "merit= 3.6280865e+01  grad= 3.6889341e-04"
       ]
      },
      {
       "output_type": "stream",
       "stream": "stdout",
       "text": [
        "\n",
        "rindex 0\n",
        "merit= 3.6274567e+01  grad= 5.9968022e-04"
       ]
      },
      {
       "output_type": "stream",
       "stream": "stdout",
       "text": [
        "\n",
        "rindex 0\n",
        "merit= 3.6273498e+01  grad= 3.9942757e-03"
       ]
      },
      {
       "output_type": "stream",
       "stream": "stdout",
       "text": [
        "\n",
        "rindex 0\n",
        "merit= 3.6266583e+01  grad= 4.6685467e-04"
       ]
      },
      {
       "output_type": "stream",
       "stream": "stdout",
       "text": [
        "\n",
        "rindex"
       ]
      },
      {
       "output_type": "stream",
       "stream": "stdout",
       "text": [
        " 0\n",
        "merit= 3.6264016e+01  grad= 2.3355565e-04"
       ]
      },
      {
       "output_type": "stream",
       "stream": "stdout",
       "text": [
        "\n",
        "rindex 0\n",
        "merit= 3.6260911e+01  grad= 5.3136318e-04"
       ]
      },
      {
       "output_type": "stream",
       "stream": "stdout",
       "text": [
        "\n",
        "rindex 0\n",
        "merit= 3.6257372e+01  grad= 1.2952054e-03"
       ]
      },
      {
       "output_type": "stream",
       "stream": "stdout",
       "text": [
        "\n",
        "rindex 0\n",
        "merit= 3.6253108e+01  grad= 5.8587918e-04"
       ]
      },
      {
       "output_type": "stream",
       "stream": "stdout",
       "text": [
        "\n",
        "rindex 0\n",
        "merit= 3.6247858e+01  grad= 3.7693168e-04"
       ]
      },
      {
       "output_type": "stream",
       "stream": "stdout",
       "text": [
        "\n",
        "rindex 0\n",
        "merit= 3.6244900e+01  grad= 1.4219415e-03"
       ]
      },
      {
       "output_type": "stream",
       "stream": "stdout",
       "text": [
        "\n",
        "rindex 0\n",
        "merit= 3.6241794e+01  grad= 6.2909820e-04"
       ]
      },
      {
       "output_type": "stream",
       "stream": "stdout",
       "text": [
        "\n",
        "rindex 0\n",
        "merit= 3.6239167e+01  grad= 3.8289982e-04"
       ]
      },
      {
       "output_type": "stream",
       "stream": "stdout",
       "text": [
        "\n",
        "rindex 0\n",
        "merit= 3.6236491e+01  grad= 3.9190046e-04"
       ]
      },
      {
       "output_type": "stream",
       "stream": "stdout",
       "text": [
        "\n",
        "rindex 0\n",
        "merit= 3.6233865e+01  grad= 1.2845583e-03"
       ]
      },
      {
       "output_type": "stream",
       "stream": "stdout",
       "text": [
        "\n",
        "rindex"
       ]
      },
      {
       "output_type": "stream",
       "stream": "stdout",
       "text": [
        " 0\n",
        "merit= 3.6230713e+01  grad= 6.6691912e-04"
       ]
      },
      {
       "output_type": "stream",
       "stream": "stdout",
       "text": [
        "\n",
        "rindex 0\n",
        "merit= 3.6226689e+01  grad= 3.7977006e-04"
       ]
      },
      {
       "output_type": "stream",
       "stream": "stdout",
       "text": [
        "\n",
        "rindex 0\n",
        "merit= 3.6223018e+01  grad= 3.8389826e-04"
       ]
      },
      {
       "output_type": "stream",
       "stream": "stdout",
       "text": [
        "\n",
        "rindex 0\n",
        "merit= 3.6218329e+01  grad= 5.6080637e-04"
       ]
      },
      {
       "output_type": "stream",
       "stream": "stdout",
       "text": [
        "\n",
        "rindex 0\n",
        "merit= 3.6216721e+01  grad= 1.6654317e-03"
       ]
      },
      {
       "output_type": "stream",
       "stream": "stdout",
       "text": [
        "\n",
        "rindex 0\n",
        "merit= 3.6211734e+01  grad= 2.6352338e-04"
       ]
      },
      {
       "output_type": "stream",
       "stream": "stdout",
       "text": [
        "\n",
        "rindex 0\n",
        "merit= 3.6209768e+01  grad= 2.4052804e-04"
       ]
      },
      {
       "output_type": "stream",
       "stream": "stdout",
       "text": [
        "\n",
        "rindex 0\n",
        "merit= 3.6207328e+01  grad= 1.6958154e-03"
       ]
      },
      {
       "output_type": "stream",
       "stream": "stdout",
       "text": [
        "\n",
        "rindex 0\n",
        "merit= 3.6204090e+01  grad= 4.1940322e-04"
       ]
      },
      {
       "output_type": "stream",
       "stream": "stdout",
       "text": [
        "\n",
        "rindex 0\n",
        "merit= 3.6201349e+01  grad= 2.9763683e-04"
       ]
      },
      {
       "output_type": "stream",
       "stream": "stdout",
       "text": [
        "\n",
        "rindex"
       ]
      },
      {
       "output_type": "stream",
       "stream": "stdout",
       "text": [
        " 0\n",
        "merit= 3.6198827e+01  grad= 3.4870601e-04"
       ]
      },
      {
       "output_type": "stream",
       "stream": "stdout",
       "text": [
        "\n",
        "rindex 0\n",
        "merit= 3.6195010e+01  grad= 4.1789693e-04"
       ]
      },
      {
       "output_type": "stream",
       "stream": "stdout",
       "text": [
        "\n",
        "rindex 0\n",
        "merit= 3.6199997e+01  grad= 7.0431957e-03"
       ]
      },
      {
       "output_type": "stream",
       "stream": "stdout",
       "text": [
        "\n",
        "rindex 0\n",
        "merit= 3.6192685e+01  grad= 9.0753107e-04"
       ]
      },
      {
       "output_type": "stream",
       "stream": "stdout",
       "text": [
        "\n",
        "rindex 0\n",
        "merit= 3.6189064e+01  grad= 2.4788336e-04"
       ]
      },
      {
       "output_type": "stream",
       "stream": "stdout",
       "text": [
        "\n",
        "rindex 0\n",
        "merit= 3.6186718e+01  grad= 2.3068539e-04"
       ]
      },
      {
       "output_type": "stream",
       "stream": "stdout",
       "text": [
        "\n",
        "rindex 0\n",
        "merit= 3.6184296e+01  grad= 7.3394206e-04"
       ]
      },
      {
       "output_type": "stream",
       "stream": "stdout",
       "text": [
        "\n",
        "rindex 0\n",
        "merit= 3.6181687e+01  grad= 3.8964956e-04"
       ]
      },
      {
       "output_type": "stream",
       "stream": "stdout",
       "text": [
        "\n",
        "rindex 0\n",
        "merit= 3.6179321e+01  grad= 2.9368639e-04"
       ]
      },
      {
       "output_type": "stream",
       "stream": "stdout",
       "text": [
        "\n",
        "rindex 0\n",
        "merit= 3.6175925e+01  grad= 4.0818651e-04"
       ]
      },
      {
       "output_type": "stream",
       "stream": "stdout",
       "text": [
        "\n",
        "rindex"
       ]
      },
      {
       "output_type": "stream",
       "stream": "stdout",
       "text": [
        " 0\n",
        "merit= 3.6176261e+01  grad= 3.1191251e-03"
       ]
      },
      {
       "output_type": "stream",
       "stream": "stdout",
       "text": [
        "\n",
        "rindex 0\n",
        "merit= 3.6174274e+01  grad= 6.4440966e-04"
       ]
      },
      {
       "output_type": "stream",
       "stream": "stdout",
       "text": [
        "\n",
        "rindex 0\n",
        "merit= 3.6172193e+01  grad= 3.5538924e-04"
       ]
      },
      {
       "output_type": "stream",
       "stream": "stdout",
       "text": [
        "\n",
        "rindex 0\n",
        "merit= 3.6169239e+01  grad= 2.4549997e-04"
       ]
      },
      {
       "output_type": "stream",
       "stream": "stdout",
       "text": [
        "\n",
        "rindex 0\n",
        "merit= 3.6167587e+01  grad= 1.4730692e-03"
       ]
      },
      {
       "output_type": "stream",
       "stream": "stdout",
       "text": [
        "\n",
        "rindex 0\n",
        "merit= 3.6165049e+01  grad= 3.1694735e-04"
       ]
      },
      {
       "output_type": "stream",
       "stream": "stdout",
       "text": [
        "\n",
        "rindex 0\n",
        "merit= 3.6163071e+01  grad= 2.6490269e-04"
       ]
      },
      {
       "output_type": "stream",
       "stream": "stdout",
       "text": [
        "\n",
        "rindex 0\n",
        "merit= 3.6161159e+01  grad= 3.7296840e-04"
       ]
      },
      {
       "output_type": "stream",
       "stream": "stdout",
       "text": [
        "\n",
        "rindex 0\n",
        "merit= 3.6157420e+01  grad= 4.0503193e-04"
       ]
      },
      {
       "output_type": "stream",
       "stream": "stdout",
       "text": [
        "\n",
        "rindex 0\n",
        "merit= 3.6160060e+01  grad= 4.9549766e-03"
       ]
      },
      {
       "output_type": "stream",
       "stream": "stdout",
       "text": [
        "\n",
        "rindex"
       ]
      },
      {
       "output_type": "stream",
       "stream": "stdout",
       "text": [
        " 0\n",
        "merit= 3.6155299e+01  grad= 9.6070215e-04"
       ]
      },
      {
       "output_type": "stream",
       "stream": "stdout",
       "text": [
        "\n",
        "rindex 0\n",
        "merit= 3.6151458e+01  grad= 2.4202362e-04"
       ]
      },
      {
       "output_type": "stream",
       "stream": "stdout",
       "text": [
        "\n",
        "rindex 0\n",
        "merit= 3.6149439e+01  grad= 3.0158827e-04"
       ]
      },
      {
       "output_type": "stream",
       "stream": "stdout",
       "text": [
        "\n",
        "rindex 0\n",
        "merit= 3.6147587e+01  grad= 3.0790709e-04"
       ]
      },
      {
       "output_type": "stream",
       "stream": "stdout",
       "text": [
        "\n",
        "rindex 0\n",
        "merit= 3.6146022e+01  grad= 2.7828367e-04"
       ]
      },
      {
       "output_type": "stream",
       "stream": "stdout",
       "text": [
        "\n",
        "rindex 0\n",
        "merit= 3.6143566e+01  grad= 1.9894620e-04"
       ]
      },
      {
       "output_type": "stream",
       "stream": "stdout",
       "text": [
        "\n",
        "rindex 0\n",
        "merit= 3.6141123e+01  grad= 2.7839424e-04"
       ]
      },
      {
       "output_type": "stream",
       "stream": "stdout",
       "text": [
        "\n",
        "rindex 0\n",
        "merit= 3.6138534e+01  grad= 2.5187630e-04"
       ]
      },
      {
       "output_type": "stream",
       "stream": "stdout",
       "text": [
        "\n",
        "rindex 0\n",
        "merit= 3.6136718e+01  grad= 5.9012336e-04"
       ]
      },
      {
       "output_type": "stream",
       "stream": "stdout",
       "text": [
        "\n",
        "rindex 0\n",
        "merit= 3.6134488e+01  grad= 2.0808648e-04"
       ]
      },
      {
       "output_type": "stream",
       "stream": "stdout",
       "text": [
        "\n",
        "rindex"
       ]
      },
      {
       "output_type": "stream",
       "stream": "stdout",
       "text": [
        " 0\n",
        "merit= 3.6132422e+01  grad= 1.8572869e-04"
       ]
      },
      {
       "output_type": "stream",
       "stream": "stdout",
       "text": [
        "\n",
        "rindex 0\n",
        "merit= 3.6130433e+01  grad= 3.9200760e-04"
       ]
      },
      {
       "output_type": "stream",
       "stream": "stdout",
       "text": [
        "\n",
        "rindex 0\n",
        "merit= 3.6128535e+01  grad= 6.6409170e-04"
       ]
      },
      {
       "output_type": "stream",
       "stream": "stdout",
       "text": [
        "\n",
        "rindex 0\n",
        "merit= 3.6126500e+01  grad= 2.1705689e-04"
       ]
      },
      {
       "output_type": "stream",
       "stream": "stdout",
       "text": [
        "\n",
        "rindex 0\n",
        "merit= 3.6123743e+01  grad= 3.1047401e-04"
       ]
      },
      {
       "output_type": "stream",
       "stream": "stdout",
       "text": [
        "\n",
        "rindex 0\n",
        "merit= 3.6121815e+01  grad= 3.7307917e-04"
       ]
      },
      {
       "output_type": "stream",
       "stream": "stdout",
       "text": [
        "\n",
        "rindex 0\n",
        "merit= 3.6121942e+01  grad= 2.3943104e-03"
       ]
      },
      {
       "output_type": "stream",
       "stream": "stdout",
       "text": [
        "\n",
        "rindex 0\n",
        "merit= 3.6120236e+01  grad= 6.2567780e-04"
       ]
      },
      {
       "output_type": "stream",
       "stream": "stdout",
       "text": [
        "\n",
        "rindex 0\n",
        "merit= 3.6118425e+01  grad= 1.5106319e-04"
       ]
      },
      {
       "output_type": "stream",
       "stream": "stdout",
       "text": [
        "\n",
        "rindex 0\n",
        "merit= 3.6117133e+01  grad= 1.8034184e-04"
       ]
      },
      {
       "output_type": "stream",
       "stream": "stdout",
       "text": [
        "\n",
        "rindex"
       ]
      },
      {
       "output_type": "stream",
       "stream": "stdout",
       "text": [
        " 0\n",
        "merit= 3.6115211e+01  grad= 3.2093804e-04"
       ]
      },
      {
       "output_type": "stream",
       "stream": "stdout",
       "text": [
        "\n",
        "rindex 0\n",
        "merit= 3.6112426e+01  grad= 3.0700235e-04"
       ]
      },
      {
       "output_type": "stream",
       "stream": "stdout",
       "text": [
        "\n",
        "rindex 0\n",
        "merit= 3.6114439e+01  grad= 5.8695372e-03"
       ]
      },
      {
       "output_type": "stream",
       "stream": "stdout",
       "text": [
        "\n",
        "rindex 0\n",
        "merit= 3.6110955e+01  grad= 1.1422284e-03"
       ]
      },
      {
       "output_type": "stream",
       "stream": "stdout",
       "text": [
        "\n",
        "rindex 0\n",
        "merit= 3.6107757e+01  grad= 2.7613022e-04"
       ]
      },
      {
       "output_type": "stream",
       "stream": "stdout",
       "text": [
        "\n",
        "rindex 0\n",
        "merit= 3.6105599e+01  grad= 1.2505533e-04"
       ]
      },
      {
       "output_type": "stream",
       "stream": "stdout",
       "text": [
        "\n",
        "rindex 0\n",
        "merit= 3.6103482e+01  grad= 1.8195321e-04"
       ]
      },
      {
       "output_type": "stream",
       "stream": "stdout",
       "text": [
        "\n",
        "rindex 0\n",
        "merit= 3.6103169e+01  grad= 1.7996467e-03"
       ]
      },
      {
       "output_type": "stream",
       "stream": "stdout",
       "text": [
        "\n",
        "rindex 0\n",
        "merit= 3.6100984e+01  grad= 2.2721792e-04"
       ]
      },
      {
       "output_type": "stream",
       "stream": "stdout",
       "text": [
        "\n",
        "rindex 0\n",
        "merit= 3.6099916e+01  grad= 1.1780271e-04"
       ]
      },
      {
       "output_type": "stream",
       "stream": "stdout",
       "text": [
        "\n",
        "rindex"
       ]
      },
      {
       "output_type": "stream",
       "stream": "stdout",
       "text": [
        " 0\n",
        "merit= 3.6098363e+01  grad= 2.7683392e-04"
       ]
      },
      {
       "output_type": "stream",
       "stream": "stdout",
       "text": [
        "\n",
        "rindex 0\n",
        "merit= 3.6096485e+01  grad= 3.3870034e-04"
       ]
      },
      {
       "output_type": "stream",
       "stream": "stdout",
       "text": [
        "\n",
        "rindex 0\n",
        "merit= 3.6092827e+01  grad= 1.0654034e-03"
       ]
      },
      {
       "output_type": "stream",
       "stream": "stdout",
       "text": [
        "\n",
        "rindex 0\n",
        "merit= 3.6091111e+01  grad= 8.2064807e-04"
       ]
      },
      {
       "output_type": "stream",
       "stream": "stdout",
       "text": [
        "\n",
        "rindex 0\n",
        "merit= 3.6089164e+01  grad= 1.2922262e-04"
       ]
      },
      {
       "output_type": "stream",
       "stream": "stdout",
       "text": [
        "\n",
        "rindex 0\n",
        "merit= 3.6088390e+01  grad= 9.4121180e-05"
       ]
      },
      {
       "output_type": "stream",
       "stream": "stdout",
       "text": [
        "\n",
        "rindex 0\n",
        "merit= 3.6087400e+01  grad= 1.9847705e-04"
       ]
      },
      {
       "output_type": "stream",
       "stream": "stdout",
       "text": [
        "\n",
        "rindex 0\n",
        "merit= 3.6085788e+01  grad= 4.7910573e-04"
       ]
      },
      {
       "output_type": "stream",
       "stream": "stdout",
       "text": [
        "\n",
        "rindex 0\n",
        "merit= 3.6084004e+01  grad= 2.8020139e-04"
       ]
      },
      {
       "output_type": "stream",
       "stream": "stdout",
       "text": [
        "\n",
        "rindex 0\n",
        "merit= 3.6082506e+01  grad= 1.7186678e-04"
       ]
      },
      {
       "output_type": "stream",
       "stream": "stdout",
       "text": [
        "\n",
        "rindex"
       ]
      },
      {
       "output_type": "stream",
       "stream": "stdout",
       "text": [
        " 0\n",
        "merit= 3.6081161e+01  grad= 2.9824117e-04"
       ]
      },
      {
       "output_type": "stream",
       "stream": "stdout",
       "text": [
        "\n",
        "rindex 0\n",
        "merit= 3.6079874e+01  grad= 2.7841123e-04"
       ]
      },
      {
       "output_type": "stream",
       "stream": "stdout",
       "text": [
        "\n",
        "rindex 0\n",
        "merit= 3.6077622e+01  grad= 2.4430323e-04"
       ]
      },
      {
       "output_type": "stream",
       "stream": "stdout",
       "text": [
        "\n",
        "rindex 0\n",
        "merit= 3.6076217e+01  grad= 8.2813198e-04"
       ]
      },
      {
       "output_type": "stream",
       "stream": "stdout",
       "text": [
        "\n",
        "rindex 0\n",
        "merit= 3.6074571e+01  grad= 1.9982108e-04"
       ]
      },
      {
       "output_type": "stream",
       "stream": "stdout",
       "text": [
        "\n",
        "rindex 0\n",
        "merit= 3.6073032e+01  grad= 1.7328350e-04"
       ]
      },
      {
       "output_type": "stream",
       "stream": "stdout",
       "text": [
        "\n",
        "rindex 0\n",
        "merit= 3.6071968e+01  grad= 2.3774963e-04"
       ]
      },
      {
       "output_type": "stream",
       "stream": "stdout",
       "text": [
        "\n",
        "rindex 0\n",
        "merit= 3.6069548e+01  grad= 3.3395131e-04"
       ]
      },
      {
       "output_type": "stream",
       "stream": "stdout",
       "text": [
        "\n",
        "rindex 0\n",
        "merit= 3.6074915e+01  grad= 6.0097959e-03"
       ]
      },
      {
       "output_type": "stream",
       "stream": "stdout",
       "text": [
        "\n",
        "rindex 0\n",
        "merit= 3.6068632e+01  grad= 4.1374991e-04"
       ]
      },
      {
       "output_type": "stream",
       "stream": "stdout",
       "text": [
        "\n",
        "rindex"
       ]
      },
      {
       "output_type": "stream",
       "stream": "stdout",
       "text": [
        " 0\n",
        "merit= 3.6067129e+01  grad= 1.3231275e-04"
       ]
      },
      {
       "output_type": "stream",
       "stream": "stdout",
       "text": [
        "\n",
        "rindex 0\n",
        "merit= 3.6065905e+01  grad= 1.1219987e-04"
       ]
      },
      {
       "output_type": "stream",
       "stream": "stdout",
       "text": [
        "\n",
        "rindex 0\n",
        "merit= 3.6064196e+01  grad= 3.3269341e-04"
       ]
      },
      {
       "output_type": "stream",
       "stream": "stdout",
       "text": [
        "\n",
        "rindex 0\n",
        "merit= 3.6063504e+01  grad= 5.5694840e-04"
       ]
      },
      {
       "output_type": "stream",
       "stream": "stdout",
       "text": [
        "\n",
        "rindex 0\n",
        "merit= 3.6062086e+01  grad= 1.1047973e-04"
       ]
      },
      {
       "output_type": "stream",
       "stream": "stdout",
       "text": [
        "\n",
        "rindex 0\n",
        "merit= 3.6061360e+01  grad= 7.6270592e-05"
       ]
      },
      {
       "output_type": "stream",
       "stream": "stdout",
       "text": [
        "\n",
        "rindex 0\n",
        "merit= 3.6060321e+01  grad= 1.7806507e-04"
       ]
      },
      {
       "output_type": "stream",
       "stream": "stdout",
       "text": [
        "\n",
        "rindex 0\n",
        "merit= 3.6058634e+01  grad= 2.6453878e-04"
       ]
      },
      {
       "output_type": "stream",
       "stream": "stdout",
       "text": [
        "\n",
        "rindex 0\n",
        "merit= 3.6056749e+01  grad= 2.2945998e-04"
       ]
      },
      {
       "output_type": "stream",
       "stream": "stdout",
       "text": [
        "\n",
        "rindex 0\n",
        "merit= 3.6055304e+01  grad= 3.6413698e-04"
       ]
      },
      {
       "output_type": "stream",
       "stream": "stdout",
       "text": [
        "\n",
        "rindex"
       ]
      },
      {
       "output_type": "stream",
       "stream": "stdout",
       "text": [
        " 0\n",
        "merit= 3.6053806e+01  grad= 1.5756854e-04"
       ]
      },
      {
       "output_type": "stream",
       "stream": "stdout",
       "text": [
        "\n",
        "rindex 0\n",
        "merit= 3.6052764e+01  grad= 1.7686022e-04"
       ]
      },
      {
       "output_type": "stream",
       "stream": "stdout",
       "text": [
        "\n",
        "rindex 0\n",
        "merit= 3.6051423e+01  grad= 4.5040111e-04"
       ]
      },
      {
       "output_type": "stream",
       "stream": "stdout",
       "text": [
        "\n",
        "rindex 0\n",
        "merit= 3.6049963e+01  grad= 1.5021663e-04"
       ]
      },
      {
       "output_type": "stream",
       "stream": "stdout",
       "text": [
        "\n",
        "rindex 0\n",
        "merit= 3.6048917e+01  grad= 1.4831436e-04"
       ]
      },
      {
       "output_type": "stream",
       "stream": "stdout",
       "text": [
        "\n",
        "rindex 0\n",
        "merit= 3.6047551e+01  grad= 1.9555604e-04"
       ]
      },
      {
       "output_type": "stream",
       "stream": "stdout",
       "text": [
        "\n",
        "rindex 0\n",
        "merit= 3.6046134e+01  grad= 4.3614918e-04"
       ]
      },
      {
       "output_type": "stream",
       "stream": "stdout",
       "text": [
        "\n",
        "rindex 0\n",
        "merit= 3.6044404e+01  grad= 1.9559213e-04"
       ]
      },
      {
       "output_type": "stream",
       "stream": "stdout",
       "text": [
        "\n",
        "rindex 0\n",
        "merit= 3.6043120e+01  grad= 1.1965612e-04"
       ]
      },
      {
       "output_type": "stream",
       "stream": "stdout",
       "text": [
        "\n",
        "rindex 0\n",
        "merit= 3.6042185e+01  grad= 1.4647782e-04"
       ]
      },
      {
       "output_type": "stream",
       "stream": "stdout",
       "text": [
        "\n",
        "rindex"
       ]
      },
      {
       "output_type": "stream",
       "stream": "stdout",
       "text": [
        " 0\n",
        "merit= 3.6041140e+01  grad= 5.5539387e-04"
       ]
      },
      {
       "output_type": "stream",
       "stream": "stdout",
       "text": [
        "\n",
        "rindex 0\n",
        "merit= 3.6040072e+01  grad= 1.9088374e-04"
       ]
      },
      {
       "output_type": "stream",
       "stream": "stdout",
       "text": [
        "\n",
        "rindex 0\n",
        "merit= 3.6038560e+01  grad= 1.1463232e-04"
       ]
      },
      {
       "output_type": "stream",
       "stream": "stdout",
       "text": [
        "\n",
        "rindex 0\n",
        "merit= 3.6037691e+01  grad= 1.7727505e-04"
       ]
      },
      {
       "output_type": "stream",
       "stream": "stdout",
       "text": [
        "\n",
        "rindex 0\n",
        "merit= 3.6036516e+01  grad= 8.3764600e-04"
       ]
      },
      {
       "output_type": "stream",
       "stream": "stdout",
       "text": [
        "\n",
        "rindex 0\n",
        "merit= 3.6034937e+01  grad= 1.1502318e-04"
       ]
      },
      {
       "output_type": "stream",
       "stream": "stdout",
       "text": [
        "\n",
        "rindex 0\n",
        "merit= 3.6034186e+01  grad= 1.1703050e-04"
       ]
      },
      {
       "output_type": "stream",
       "stream": "stdout",
       "text": [
        "\n",
        "rindex 0\n",
        "merit= 3.6033011e+01  grad= 1.9404582e-04"
       ]
      },
      {
       "output_type": "stream",
       "stream": "stdout",
       "text": [
        "\n",
        "rindex 0\n",
        "merit= 3.6031167e+01  grad= 1.7768370e-04"
       ]
      },
      {
       "output_type": "stream",
       "stream": "stdout",
       "text": [
        "\n",
        "rindex 0\n",
        "merit= 3.6033703e+01  grad= 4.1592786e-03"
       ]
      },
      {
       "output_type": "stream",
       "stream": "stdout",
       "text": [
        "\n",
        "rindex"
       ]
      },
      {
       "output_type": "stream",
       "stream": "stdout",
       "text": [
        " 0\n",
        "merit= 3.6030434e+01  grad= 5.2669805e-04"
       ]
      },
      {
       "output_type": "stream",
       "stream": "stdout",
       "text": [
        "\n",
        "rindex 0\n",
        "merit= 3.6028957e+01  grad= 1.2849431e-04"
       ]
      },
      {
       "output_type": "stream",
       "stream": "stdout",
       "text": [
        "\n",
        "rindex 0\n",
        "merit= 3.6027984e+01  grad= 9.5512734e-05"
       ]
      },
      {
       "output_type": "stream",
       "stream": "stdout",
       "text": [
        "\n",
        "rindex 0\n",
        "merit= 3.6026878e+01  grad= 1.8546478e-04"
       ]
      },
      {
       "output_type": "stream",
       "stream": "stdout",
       "text": [
        "\n",
        "rindex 0\n",
        "merit= 3.6025846e+01  grad= 2.6686599e-04"
       ]
      },
      {
       "output_type": "stream",
       "stream": "stdout",
       "text": [
        "\n",
        "rindex 0\n",
        "merit= 3.6024670e+01  grad= 1.1905603e-04"
       ]
      },
      {
       "output_type": "stream",
       "stream": "stdout",
       "text": [
        "\n",
        "rindex 0\n",
        "merit= 3.6022952e+01  grad= 1.4560559e-04"
       ]
      },
      {
       "output_type": "stream",
       "stream": "stdout",
       "text": [
        "\n",
        "rindex 0\n",
        "merit= 3.6021906e+01  grad= 3.6259501e-04"
       ]
      },
      {
       "output_type": "stream",
       "stream": "stdout",
       "text": [
        "\n",
        "rindex 0\n",
        "merit= 3.6020759e+01  grad= 1.9858408e-04"
       ]
      },
      {
       "output_type": "stream",
       "stream": "stdout",
       "text": [
        "\n",
        "rindex 0\n",
        "merit= 3.6019560e+01  grad= 1.0522036e-04"
       ]
      },
      {
       "output_type": "stream",
       "stream": "stdout",
       "text": [
        "\n",
        "rindex"
       ]
      },
      {
       "output_type": "stream",
       "stream": "stdout",
       "text": [
        " 0\n",
        "merit= 3.6018391e+01  grad= 1.6725049e-04"
       ]
      },
      {
       "output_type": "stream",
       "stream": "stdout",
       "text": [
        "\n",
        "rindex 0\n",
        "merit= 3.6017150e+01  grad= 1.8792265e-04"
       ]
      },
      {
       "output_type": "stream",
       "stream": "stdout",
       "text": [
        "\n",
        "rindex 0\n",
        "merit= 3.6016003e+01  grad= 1.4796658e-04"
       ]
      },
      {
       "output_type": "stream",
       "stream": "stdout",
       "text": [
        "\n",
        "rindex 0\n",
        "merit= 3.6014979e+01  grad= 2.7050733e-04"
       ]
      },
      {
       "output_type": "stream",
       "stream": "stdout",
       "text": [
        "\n",
        "rindex 0\n",
        "merit= 3.6013958e+01  grad= 9.9319118e-05"
       ]
      },
      {
       "output_type": "stream",
       "stream": "stdout",
       "text": [
        "\n",
        "rindex 0\n",
        "merit= 3.6012943e+01  grad= 9.9996396e-05"
       ]
      },
      {
       "output_type": "stream",
       "stream": "stdout",
       "text": [
        "\n",
        "rindex 0\n",
        "merit= 3.6011738e+01  grad= 1.0603714e-04"
       ]
      },
      {
       "output_type": "stream",
       "stream": "stdout",
       "text": [
        "\n",
        "rindex 0\n",
        "merit= 3.6011789e+01  grad= 1.2184388e-03"
       ]
      },
      {
       "output_type": "stream",
       "stream": "stdout",
       "text": [
        "\n",
        "rindex 0\n",
        "merit= 3.6011136e+01  grad= 2.9142798e-04"
       ]
      },
      {
       "output_type": "stream",
       "stream": "stdout",
       "text": [
        "\n",
        "rindex 0\n",
        "merit= 3.6010223e+01  grad= 1.0250468e-04"
       ]
      },
      {
       "output_type": "stream",
       "stream": "stdout",
       "text": [
        "\n",
        "rindex"
       ]
      },
      {
       "output_type": "stream",
       "stream": "stdout",
       "text": [
        " 0\n",
        "merit= 3.6009200e+01  grad= 1.0725504e-04"
       ]
      },
      {
       "output_type": "stream",
       "stream": "stdout",
       "text": [
        "\n",
        "rindex 0\n",
        "merit= 3.6008006e+01  grad= 2.3103052e-04"
       ]
      },
      {
       "output_type": "stream",
       "stream": "stdout",
       "text": [
        "\n",
        "rindex 0\n",
        "merit= 3.6006839e+01  grad= 1.3224086e-04"
       ]
      },
      {
       "output_type": "stream",
       "stream": "stdout",
       "text": [
        "\n",
        "rindex 0\n",
        "merit= 3.6005905e+01  grad= 3.4515768e-04"
       ]
      },
      {
       "output_type": "stream",
       "stream": "stdout",
       "text": [
        "\n",
        "rindex 0\n",
        "merit= 3.6004996e+01  grad= 1.1186576e-04"
       ]
      },
      {
       "output_type": "stream",
       "stream": "stdout",
       "text": [
        "\n",
        "rindex 0\n",
        "merit= 3.6004462e+01  grad= 1.1234902e-04"
       ]
      },
      {
       "output_type": "stream",
       "stream": "stdout",
       "text": [
        "\n",
        "rindex 0\n",
        "merit= 3.6002710e+01  grad= 1.1704024e-04"
       ]
      },
      {
       "output_type": "stream",
       "stream": "stdout",
       "text": [
        "\n",
        "rindex 0\n",
        "merit= 3.6002548e+01  grad= 8.2440536e-04"
       ]
      },
      {
       "output_type": "stream",
       "stream": "stdout",
       "text": [
        "\n",
        "rindex 0\n",
        "merit= 3.6001748e+01  grad= 2.2863572e-04"
       ]
      },
      {
       "output_type": "stream",
       "stream": "stdout",
       "text": [
        "\n",
        "rindex 0\n",
        "merit= 3.6000448e+01  grad= 7.9336709e-05"
       ]
      },
      {
       "output_type": "stream",
       "stream": "stdout",
       "text": [
        "\n",
        "rindex"
       ]
      },
      {
       "output_type": "stream",
       "stream": "stdout",
       "text": [
        " 0\n",
        "merit= 3.5999466e+01  grad= 1.3873247e-04"
       ]
      },
      {
       "output_type": "stream",
       "stream": "stdout",
       "text": [
        "\n",
        "rindex 0\n",
        "merit= 3.5998732e+01  grad= 2.7173620e-04"
       ]
      },
      {
       "output_type": "stream",
       "stream": "stdout",
       "text": [
        "\n",
        "rindex 0\n",
        "merit= 3.5998003e+01  grad= 8.0323129e-05"
       ]
      },
      {
       "output_type": "stream",
       "stream": "stdout",
       "text": [
        "\n",
        "rindex 0\n",
        "merit= 3.5997084e+01  grad= 8.0772593e-05"
       ]
      },
      {
       "output_type": "stream",
       "stream": "stdout",
       "text": [
        "\n",
        "rindex 0\n",
        "merit= 3.5996447e+01  grad= 1.2925771e-04"
       ]
      },
      {
       "output_type": "stream",
       "stream": "stdout",
       "text": [
        "\n",
        "rindex 0\n",
        "merit= 3.5995618e+01  grad= 3.1529277e-04"
       ]
      },
      {
       "output_type": "stream",
       "stream": "stdout",
       "text": [
        "\n",
        "rindex 0\n",
        "merit= 3.5994616e+01  grad= 8.4048132e-05"
       ]
      },
      {
       "output_type": "stream",
       "stream": "stdout",
       "text": [
        "\n",
        "rindex 0\n",
        "merit= 3.5993946e+01  grad= 8.6188845e-05"
       ]
      },
      {
       "output_type": "stream",
       "stream": "stdout",
       "text": [
        "\n",
        "rindex 0\n",
        "merit= 3.5992852e+01  grad= 8.1465941e-05"
       ]
      },
      {
       "output_type": "stream",
       "stream": "stdout",
       "text": [
        "\n",
        "rindex 0\n",
        "merit= 3.5992688e+01  grad= 9.7885214e-04"
       ]
      },
      {
       "output_type": "stream",
       "stream": "stdout",
       "text": [
        "\n",
        "rindex"
       ]
      },
      {
       "output_type": "stream",
       "stream": "stdout",
       "text": [
        " 0\n",
        "merit= 3.5991020e+01  grad= 9.2034773e-05"
       ]
      },
      {
       "output_type": "stream",
       "stream": "stdout",
       "text": [
        "\n",
        "rindex 0\n",
        "merit= 3.5990427e+01  grad= 4.8498430e-05"
       ]
      },
      {
       "output_type": "stream",
       "stream": "stdout",
       "text": [
        "\n",
        "rindex 0\n",
        "merit= 3.5989596e+01  grad= 9.8143704e-05"
       ]
      },
      {
       "output_type": "stream",
       "stream": "stdout",
       "text": [
        "\n",
        "rindex 0\n",
        "merit= 3.5989312e+01  grad= 6.6284796e-04"
       ]
      },
      {
       "output_type": "stream",
       "stream": "stdout",
       "text": [
        "\n",
        "rindex 0\n",
        "merit= 3.5988362e+01  grad= 1.0492031e-04"
       ]
      },
      {
       "output_type": "stream",
       "stream": "stdout",
       "text": [
        "\n",
        "rindex 0\n",
        "merit= 3.5987783e+01  grad= 4.9861106e-05"
       ]
      },
      {
       "output_type": "stream",
       "stream": "stdout",
       "text": [
        "\n",
        "rindex 0\n",
        "merit= 3.5987186e+01  grad= 8.8604382e-05"
       ]
      },
      {
       "output_type": "stream",
       "stream": "stdout",
       "text": [
        "\n",
        "rindex 0\n",
        "merit= 3.5986256e+01  grad= 2.2304549e-04"
       ]
      },
      {
       "output_type": "stream",
       "stream": "stdout",
       "text": [
        "\n",
        "rindex 0\n",
        "merit= 3.5985512e+01  grad= 3.5878781e-04"
       ]
      },
      {
       "output_type": "stream",
       "stream": "stdout",
       "text": [
        "\n",
        "rindex 0\n",
        "merit= 3.5984534e+01  grad= 6.6023688e-05"
       ]
      },
      {
       "output_type": "stream",
       "stream": "stdout",
       "text": [
        "\n",
        "rindex"
       ]
      },
      {
       "output_type": "stream",
       "stream": "stdout",
       "text": [
        " 0\n",
        "merit= 3.5984063e+01  grad= 6.6596256e-05"
       ]
      },
      {
       "output_type": "stream",
       "stream": "stdout",
       "text": [
        "\n",
        "rindex 0\n",
        "merit= 3.5983448e+01  grad= 1.0181702e-04"
       ]
      },
      {
       "output_type": "stream",
       "stream": "stdout",
       "text": [
        "\n",
        "rindex 0\n",
        "merit= 3.5982655e+01  grad= 2.3402753e-04"
       ]
      },
      {
       "output_type": "stream",
       "stream": "stdout",
       "text": [
        "\n",
        "rindex 0\n",
        "merit= 3.5981845e+01  grad= 8.0881818e-05"
       ]
      },
      {
       "output_type": "stream",
       "stream": "stdout",
       "text": [
        "\n",
        "rindex 0\n",
        "merit= 3.5981055e+01  grad= 7.8332668e-05"
       ]
      },
      {
       "output_type": "stream",
       "stream": "stdout",
       "text": [
        "\n",
        "rindex 0\n",
        "merit= 3.5980368e+01  grad= 9.4459018e-05"
       ]
      },
      {
       "output_type": "stream",
       "stream": "stdout",
       "text": [
        "\n",
        "rindex 0\n",
        "merit= 3.5980138e+01  grad= 7.0120188e-04"
       ]
      },
      {
       "output_type": "stream",
       "stream": "stdout",
       "text": [
        "\n",
        "rindex 0\n",
        "merit= 3.5978975e+01  grad= 9.0070994e-05"
       ]
      },
      {
       "output_type": "stream",
       "stream": "stdout",
       "text": [
        "\n",
        "rindex 0\n",
        "merit= 3.5978577e+01  grad= 5.4567747e-05"
       ]
      },
      {
       "output_type": "stream",
       "stream": "stdout",
       "text": [
        "\n",
        "rindex 0\n",
        "merit= 3.5977892e+01  grad= 8.8077634e-05"
       ]
      },
      {
       "output_type": "stream",
       "stream": "stdout",
       "text": [
        "\n",
        "rindex"
       ]
      },
      {
       "output_type": "stream",
       "stream": "stdout",
       "text": [
        " 0\n",
        "merit= 3.5977289e+01  grad= 5.1679711e-04"
       ]
      },
      {
       "output_type": "stream",
       "stream": "stdout",
       "text": [
        "\n",
        "rindex 0\n",
        "merit= 3.5976399e+01  grad= 9.2274082e-05"
       ]
      },
      {
       "output_type": "stream",
       "stream": "stdout",
       "text": [
        "\n",
        "rindex 0\n",
        "merit= 3.5975899e+01  grad= 4.6841765e-05"
       ]
      },
      {
       "output_type": "stream",
       "stream": "stdout",
       "text": [
        "\n",
        "rindex 0\n",
        "merit= 3.5975450e+01  grad= 7.2678783e-05"
       ]
      },
      {
       "output_type": "stream",
       "stream": "stdout",
       "text": [
        "\n",
        "rindex 0\n",
        "merit= 3.5974561e+01  grad= 1.0383863e-04"
       ]
      },
      {
       "output_type": "stream",
       "stream": "stdout",
       "text": [
        "\n",
        "rindex 0\n",
        "merit= 3.5973718e+01  grad= 5.1358565e-04"
       ]
      },
      {
       "output_type": "stream",
       "stream": "stdout",
       "text": [
        "\n",
        "rindex 0\n",
        "merit= 3.5972599e+01  grad= 9.5168505e-05"
       ]
      },
      {
       "output_type": "stream",
       "stream": "stdout",
       "text": [
        "\n",
        "rindex 0\n",
        "merit= 3.5972117e+01  grad= 4.0272352e-05"
       ]
      },
      {
       "output_type": "stream",
       "stream": "stdout",
       "text": [
        "\n",
        "rindex 0\n",
        "merit= 3.5971574e+01  grad= 6.3693509e-05"
       ]
      },
      {
       "output_type": "stream",
       "stream": "stdout",
       "text": [
        "\n",
        "rindex 0\n",
        "merit= 3.5970993e+01  grad= 1.6391382e-04"
       ]
      },
      {
       "output_type": "stream",
       "stream": "stdout",
       "text": [
        "\n",
        "rindex"
       ]
      },
      {
       "output_type": "stream",
       "stream": "stdout",
       "text": [
        " 0\n",
        "merit= 3.5970245e+01  grad= 1.0349552e-04"
       ]
      },
      {
       "output_type": "stream",
       "stream": "stdout",
       "text": [
        "\n",
        "rindex 0\n",
        "merit= 3.5969667e+01  grad= 2.7749387e-04"
       ]
      },
      {
       "output_type": "stream",
       "stream": "stdout",
       "text": [
        "\n",
        "rindex 0\n",
        "merit= 3.5969027e+01  grad= 5.5688619e-05"
       ]
      },
      {
       "output_type": "stream",
       "stream": "stdout",
       "text": [
        "\n",
        "rindex 0\n",
        "merit= 3.5968646e+01  grad= 7.1161617e-05"
       ]
      },
      {
       "output_type": "stream",
       "stream": "stdout",
       "text": [
        "\n",
        "rindex 0\n",
        "merit= 3.5967958e+01  grad= 1.0246083e-04"
       ]
      },
      {
       "output_type": "stream",
       "stream": "stdout",
       "text": [
        "\n",
        "rindex 0\n",
        "merit= 3.5967219e+01  grad= 2.5251061e-04"
       ]
      },
      {
       "output_type": "stream",
       "stream": "stdout",
       "text": [
        "\n",
        "rindex 0\n",
        "merit= 3.5966532e+01  grad= 1.1253804e-04"
       ]
      },
      {
       "output_type": "stream",
       "stream": "stdout",
       "text": [
        "\n",
        "rindex 0\n",
        "merit= 3.5966111e+01  grad= 4.2050654e-05"
       ]
      },
      {
       "output_type": "stream",
       "stream": "stdout",
       "text": [
        "\n",
        "rindex 0\n",
        "merit= 3.5965651e+01  grad= 6.8214267e-05"
       ]
      },
      {
       "output_type": "stream",
       "stream": "stdout",
       "text": [
        "\n",
        "rindex 0\n",
        "merit= 3.5965113e+01  grad= 1.2062739e-04"
       ]
      },
      {
       "output_type": "stream",
       "stream": "stdout",
       "text": [
        "\n",
        "rindex"
       ]
      },
      {
       "output_type": "stream",
       "stream": "stdout",
       "text": [
        " 0\n",
        "merit= 3.5964158e+01  grad= 1.2825732e-04"
       ]
      },
      {
       "output_type": "stream",
       "stream": "stdout",
       "text": [
        "\n",
        "rindex 0\n",
        "merit= 3.5963591e+01  grad= 2.4990332e-04"
       ]
      },
      {
       "output_type": "stream",
       "stream": "stdout",
       "text": [
        "\n",
        "rindex 0\n",
        "merit= 3.5963016e+01  grad= 6.3745959e-05"
       ]
      },
      {
       "output_type": "stream",
       "stream": "stdout",
       "text": [
        "\n",
        "rindex 0\n",
        "merit= 3.5962525e+01  grad= 6.9935827e-05"
       ]
      },
      {
       "output_type": "stream",
       "stream": "stdout",
       "text": [
        "\n",
        "rindex 0\n",
        "merit= 3.5962026e+01  grad= 9.3233079e-05"
       ]
      },
      {
       "output_type": "stream",
       "stream": "stdout",
       "text": [
        "\n",
        "rindex 0\n",
        "merit= 3.5960956e+01  grad= 9.0850363e-05"
       ]
      },
      {
       "output_type": "stream",
       "stream": "stdout",
       "text": [
        "\n",
        "rindex 0\n",
        "merit= 3.5960677e+01  grad= 4.6397632e-04"
       ]
      },
      {
       "output_type": "stream",
       "stream": "stdout",
       "text": [
        "\n",
        "rindex 0\n",
        "merit= 3.5959212e+01  grad= 1.6307147e-04"
       ]
      },
      {
       "output_type": "stream",
       "stream": "stdout",
       "text": [
        "\n",
        "rindex 0\n",
        "merit= 3.5958673e+01  grad= 4.4586813e-05"
       ]
      },
      {
       "output_type": "stream",
       "stream": "stdout",
       "text": [
        "\n",
        "rindex 0\n",
        "merit= 3.5958297e+01  grad= 3.6742711e-05"
       ]
      },
      {
       "output_type": "stream",
       "stream": "stdout",
       "text": [
        "\n"
       ]
      }
     ],
     "prompt_number": 102
    },
    {
     "cell_type": "code",
     "collapsed": false,
     "input": [
      "import pycyc"
     ],
     "language": "python",
     "metadata": {},
     "outputs": [],
     "prompt_number": 18
    },
    {
     "cell_type": "code",
     "collapsed": false,
     "input": [
      "cs.tau = 6.0"
     ],
     "language": "python",
     "metadata": {},
     "outputs": [],
     "prompt_number": 20
    },
    {
     "cell_type": "code",
     "collapsed": false,
     "input": [
      "pycyc.plotSimulation(cs)"
     ],
     "language": "python",
     "metadata": {},
     "outputs": [
      {
       "output_type": "stream",
       "stream": "stderr",
       "text": [
        "/Users/gjones/pycyc/pycyc.py:679: RuntimeWarning: invalid value encountered in divide\n",
        "  im = ax4.imshow(np.angle(cs_model[:,:mlag]/cs0[:,:mlag]), cmap=plt.cm.hsv,\n",
        "/Users/gjones/pycyc/pycyc.py:691: RuntimeWarning: divide by zero encountered in log10\n",
        "  ax5.plot(t/1e3,np.fft.fftshift(20*np.log10(np.abs(ht0)/np.abs(ht0).max())),label='dB($|h(t)|^2$)')\n"
       ]
      },
      {
       "output_type": "stream",
       "stream": "stderr",
       "text": [
        "/Users/gjones/pycyc/pycyc.py:725: RuntimeWarning: divide by zero encountered in divide\n",
        "  im = ax6.imshow(np.angle(CS.cs[:,:mlag]/cs0[:,:mlag]), cmap=plt.cm.hsv,\n",
        "/Users/gjones/pycyc/pycyc.py:725: RuntimeWarning: invalid value encountered in divide\n",
        "  im = ax6.imshow(np.angle(CS.cs[:,:mlag]/cs0[:,:mlag]), cmap=plt.cm.hsv,\n",
        "/Users/gjones/pycyc/pycyc.py:733: RuntimeWarning: divide by zero encountered in log10\n",
        "  im = ax7.imshow(np.log10(np.abs(CS.cs[:,:mlag])),\n"
       ]
      }
     ],
     "prompt_number": 21
    },
    {
     "cell_type": "code",
     "collapsed": false,
     "input": [
      "cs.cs.shape"
     ],
     "language": "python",
     "metadata": {},
     "outputs": [
      {
       "metadata": {},
       "output_type": "pyout",
       "prompt_number": 22,
       "text": [
        "(2048L, 65L)"
       ]
      }
     ],
     "prompt_number": 22
    },
    {
     "cell_type": "code",
     "collapsed": false,
     "input": [
      "cs.dtype"
     ],
     "language": "python",
     "metadata": {},
     "outputs": [
      {
       "ename": "AttributeError",
       "evalue": "CyclicSolver instance has no attribute 'dtype'",
       "output_type": "pyerr",
       "traceback": [
        "\u001b[1;31m---------------------------------------------------------------------------\u001b[0m\n\u001b[1;31mAttributeError\u001b[0m                            Traceback (most recent call last)",
        "\u001b[1;32m<ipython-input-23-741403656155>\u001b[0m in \u001b[0;36m<module>\u001b[1;34m()\u001b[0m\n\u001b[1;32m----> 1\u001b[1;33m \u001b[0mcs\u001b[0m\u001b[1;33m.\u001b[0m\u001b[0mdtype\u001b[0m\u001b[1;33m\u001b[0m\u001b[0m\n\u001b[0m",
        "\u001b[1;31mAttributeError\u001b[0m: CyclicSolver instance has no attribute 'dtype'"
       ]
      }
     ],
     "prompt_number": 23
    },
    {
     "cell_type": "code",
     "collapsed": false,
     "input": [
      "cs.cs.dtype"
     ],
     "language": "python",
     "metadata": {},
     "outputs": [
      {
       "metadata": {},
       "output_type": "pyout",
       "prompt_number": 24,
       "text": [
        "dtype('complex128')"
       ]
      }
     ],
     "prompt_number": 24
    },
    {
     "cell_type": "code",
     "collapsed": false,
     "input": [
      "imshow(np.log(abs(np.fft.fftshift(cs.))),aspect='auto')"
     ],
     "language": "python",
     "metadata": {},
     "outputs": [
      {
       "ename": "AttributeError",
       "evalue": "CyclicSolver instance has no attribute 'cs'",
       "output_type": "pyerr",
       "traceback": [
        "\u001b[1;31m---------------------------------------------------------------------------\u001b[0m\n\u001b[1;31mAttributeError\u001b[0m                            Traceback (most recent call last)",
        "\u001b[1;32m<ipython-input-56-5a18af80bc30>\u001b[0m in \u001b[0;36m<module>\u001b[1;34m()\u001b[0m\n\u001b[1;32m----> 1\u001b[1;33m \u001b[0mimshow\u001b[0m\u001b[1;33m(\u001b[0m\u001b[0mnp\u001b[0m\u001b[1;33m.\u001b[0m\u001b[0mlog\u001b[0m\u001b[1;33m(\u001b[0m\u001b[0mabs\u001b[0m\u001b[1;33m(\u001b[0m\u001b[0mnp\u001b[0m\u001b[1;33m.\u001b[0m\u001b[0mfft\u001b[0m\u001b[1;33m.\u001b[0m\u001b[0mfftshift\u001b[0m\u001b[1;33m(\u001b[0m\u001b[0mcs\u001b[0m\u001b[1;33m.\u001b[0m\u001b[0mcs\u001b[0m\u001b[1;33m)\u001b[0m\u001b[1;33m)\u001b[0m\u001b[1;33m)\u001b[0m\u001b[1;33m,\u001b[0m\u001b[0maspect\u001b[0m\u001b[1;33m=\u001b[0m\u001b[1;34m'auto'\u001b[0m\u001b[1;33m)\u001b[0m\u001b[1;33m\u001b[0m\u001b[0m\n\u001b[0m",
        "\u001b[1;31mAttributeError\u001b[0m: CyclicSolver instance has no attribute 'cs'"
       ]
      }
     ],
     "prompt_number": 56
    },
    {
     "cell_type": "code",
     "collapsed": false,
     "input": [
      "plot(real(cs.hf))"
     ],
     "language": "python",
     "metadata": {},
     "outputs": [
      {
       "metadata": {},
       "output_type": "pyout",
       "prompt_number": 32,
       "text": [
        "[<matplotlib.lines.Line2D at 0x165b5c18>]"
       ]
      },
      {
       "metadata": {},
       "output_type": "display_data",
       "png": "[encoded data removed]",
       "text": [
        "<matplotlib.figure.Figure at 0x16d08198>"
       ]
      }
     ],
     "prompt_number": 32
    },
    {
     "cell_type": "code",
     "collapsed": false,
     "input": [
      "plot(imag(cs.hf))"
     ],
     "language": "python",
     "metadata": {},
     "outputs": [
      {
       "metadata": {},
       "output_type": "pyout",
       "prompt_number": 33,
       "text": [
        "[<matplotlib.lines.Line2D at 0xa6776a0>]"
       ]
      },
      {
       "metadata": {},
       "output_type": "display_data",
       "png": "[encoded data removed]",
       "text": [
        "<matplotlib.figure.Figure at 0x150f8320>"
       ]
      }
     ],
     "prompt_number": 33
    },
    {
     "cell_type": "code",
     "collapsed": false,
     "input": [
      "plot(cs.hf.real,cs.hf.imag,'.')"
     ],
     "language": "python",
     "metadata": {},
     "outputs": [
      {
       "metadata": {},
       "output_type": "pyout",
       "prompt_number": 34,
       "text": [
        "[<matplotlib.lines.Line2D at 0x14f1d940>]"
       ]
      },
      {
       "metadata": {},
       "output_type": "display_data",
       "png": "[encoded data removed]",
       "text": [
        "<matplotlib.figure.Figure at 0x153b7588>"
       ]
      }
     ],
     "prompt_number": 34
    },
    {
     "cell_type": "code",
     "collapsed": false,
     "input": [],
     "language": "python",
     "metadata": {},
     "outputs": []
    }
   ],
   "metadata": {}
  }
 ]
}