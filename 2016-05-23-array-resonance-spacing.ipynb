{
 "cells": [
  {
   "cell_type": "code",
   "execution_count": 1,
   "metadata": {
    "collapsed": false
   },
   "outputs": [
    {
     "name": "stdout",
     "output_type": "stream",
     "text": [
      "Populating the interactive namespace from numpy and matplotlib\n"
     ]
    }
   ],
   "source": [
    "%pylab inline"
   ]
  },
  {
   "cell_type": "code",
   "execution_count": 24,
   "metadata": {
    "collapsed": false
   },
   "outputs": [],
   "source": [
    "\"\"\"\n",
    "Run this script to generate the data for the array\n",
    "\"\"\"\n",
    "import numpy as np\n",
    "from scipy.constants import epsilon_0, hbar, k as k_B, pi\n",
    "from scipy.special import ellipk\n",
    "import scipy.optimize\n",
    "import pandas as pd\n",
    "import os\n",
    "import random\n",
    "\n",
    "\n",
    "def calc_caps(inductance = 16e-9, freqs=np.linspace(1e9,1.1e9,22)):\n",
    "    caps = (1/(2*np.pi*freqs)**2)/(inductance)\n",
    "    return caps\n",
    "\n",
    "def interdigitated_capacitance(epsilon_r, area, width, gap):\n",
    "    \"\"\"\n",
    "    Return the capacitance C of an interdigitated capacitor with the given surface area, tine width, and gap between\n",
    "    tines; epsilon_r is the dielectric constant of the substrate. The formula is given in Jonas's MKID design memo. Note\n",
    "    that all lengths and areas must use SI units (m and m^2) for the return value to be in farads.\n",
    "    \"\"\"\n",
    "    pitch = width + gap\n",
    "    k = np.tan(pi * width / (4 * pitch))**2\n",
    "    K = ellipk(k**2)\n",
    "    Kp = ellipk(1 - k**2)\n",
    "    C = epsilon_0 * (1 + epsilon_r) * (area / pitch) * (K / Kp)\n",
    "    return C\n",
    "\n",
    "\n",
    "def calc_idc_area(capacitance, epsilon_r, width, gap):\n",
    "    def objective(area):\n",
    "        return interdigitated_capacitance(epsilon_r,area,width,gap) - capacitance\n",
    "    return scipy.optimize.fsolve(objective,x0=100e-6*100e-6)\n",
    "\n",
    "def calc_cap_lengths_from_cap(caps,width=8e-6,gap=8e-6,cap_width=500e-6):\n",
    "    areas = []\n",
    "    for cap in caps:\n",
    "        areas.append(calc_idc_area(cap,epsilon_r=11.9,width=width,gap=gap))\n",
    "    areas = np.array(areas)\n",
    "    lengths = areas/cap_width\n",
    "    return lengths\n",
    "\n",
    "def calc_cap_lengths(inductance,freqs,width=8e-6,gap=8e-6,cap_width=500e-6):\n",
    "    caps = calc_caps(inductance,freqs)\n",
    "    if np.isscalar(gap):\n",
    "        gap = gap*np.ones(freqs.shape)\n",
    "    if np.isscalar(width):\n",
    "        width = width*np.ones(freqs.shape)\n",
    "    areas = []\n",
    "    for (cap,this_gap,this_width) in zip(caps,gap,width):\n",
    "        areas.append(calc_idc_area(cap,epsilon_r=11.9,width=this_width,gap=this_gap))\n",
    "    areas = np.array(areas).squeeze()\n",
    "    print areas.shape\n",
    "    lengths = areas/cap_width\n",
    "    return lengths\n",
    "\n",
    "def geometric_spacing(low,high,num):\n",
    "    return low*(high/low)**(np.arange(num,dtype='float')/(num-1))\n",
    "\n",
    "def uniform_length_spacing(low,high,num):\n",
    "    lengths = np.linspace(1/np.sqrt(high), 1/np.sqrt(low), num)\n",
    "    return lengths[::-1]**-2"
   ]
  },
  {
   "cell_type": "code",
   "execution_count": 154,
   "metadata": {
    "collapsed": false
   },
   "outputs": [],
   "source": [
    "f_low = 122.e6\n",
    "f_hi = 155e6\n",
    "freqs_b = uniform_length_spacing(f_low,f_hi,9)\n",
    "freqs_a = uniform_length_spacing(160e6,200e6,9)\n"
   ]
  },
  {
   "cell_type": "code",
   "execution_count": 175,
   "metadata": {
    "collapsed": false
   },
   "outputs": [
    {
     "data": {
      "text/plain": [
       "array([  1.60000000e+08,   1.64308000e+08,   1.68792361e+08,\n",
       "         1.73462842e+08,   1.78329888e+08,   1.83404685e+08,\n",
       "         1.88699229e+08,   1.94226390e+08,   2.00000000e+08])"
      ]
     },
     "execution_count": 175,
     "metadata": {},
     "output_type": "execute_result"
    }
   ],
   "source": [
    "freqs_a\n"
   ]
  },
  {
   "cell_type": "code",
   "execution_count": 155,
   "metadata": {
    "collapsed": false
   },
   "outputs": [
    {
     "data": {
      "text/plain": [
       "array([  1.22000000e+08,   1.25515042e+08,   1.29184215e+08,\n",
       "         1.33016662e+08,   1.37022216e+08,   1.41211463e+08,\n",
       "         1.45595808e+08,   1.50187556e+08,   1.55000000e+08])"
      ]
     },
     "execution_count": 155,
     "metadata": {},
     "output_type": "execute_result"
    }
   ],
   "source": [
    "freqs"
   ]
  },
  {
   "cell_type": "code",
   "execution_count": 156,
   "metadata": {
    "collapsed": false
   },
   "outputs": [
    {
     "name": "stdout",
     "output_type": "stream",
     "text": [
      "(9,)\n"
     ]
    },
    {
     "data": {
      "text/plain": [
       "array([ 120.20862524,  113.57002914,  107.21027068,  101.12143042,\n",
       "         95.29570299,   89.72539712,   84.40293565,   79.32085548,\n",
       "         74.47180762])"
      ]
     },
     "execution_count": 156,
     "metadata": {},
     "output_type": "execute_result"
    }
   ],
   "source": [
    "calc_cap_lengths(33.5e-9,freqs_b,cap_width=7400.e-6)/16e-6"
   ]
  },
  {
   "cell_type": "code",
   "execution_count": 157,
   "metadata": {
    "collapsed": false
   },
   "outputs": [
    {
     "name": "stdout",
     "output_type": "stream",
     "text": [
      "(9,)\n"
     ]
    }
   ],
   "source": [
    "turns_a = np.floor(calc_cap_lengths(19e-9,freqs_a,cap_width=7400.e-6)/16e-6).astype('int')"
   ]
  },
  {
   "cell_type": "code",
   "execution_count": 183,
   "metadata": {
    "collapsed": false
   },
   "outputs": [
    {
     "name": "stdout",
     "output_type": "stream",
     "text": [
      "(9,)\n"
     ]
    }
   ],
   "source": [
    "turns_b = np.floor(calc_cap_lengths(33.5e-9,freqs_b,cap_width=7400.e-6)/16e-6).astype('int')"
   ]
  },
  {
   "cell_type": "code",
   "execution_count": 194,
   "metadata": {
    "collapsed": false
   },
   "outputs": [
    {
     "data": {
      "text/plain": [
       "array([120, 113, 107, 101,  95,  89,  84,  79,  74])"
      ]
     },
     "execution_count": 194,
     "metadata": {},
     "output_type": "execute_result"
    }
   ],
   "source": [
    "turns_b"
   ]
  },
  {
   "cell_type": "code",
   "execution_count": 195,
   "metadata": {
    "collapsed": false
   },
   "outputs": [
    {
     "data": {
      "text/plain": [
       "array([123, 116, 110, 104,  99,  93,  88,  83,  78])"
      ]
     },
     "execution_count": 195,
     "metadata": {},
     "output_type": "execute_result"
    }
   ],
   "source": [
    "turns_a"
   ]
  },
  {
   "cell_type": "code",
   "execution_count": 184,
   "metadata": {
    "collapsed": true
   },
   "outputs": [],
   "source": [
    "lengths = 7400 - np.arange(np.ceil(256/8.))*11"
   ]
  },
  {
   "cell_type": "code",
   "execution_count": 185,
   "metadata": {
    "collapsed": true
   },
   "outputs": [],
   "source": [
    "areas_a = np.outer(turns_a,lengths)*1e-6*16e-6\n",
    "areas_b = np.outer(turns_b,lengths)*1e-6*16e-6"
   ]
  },
  {
   "cell_type": "code",
   "execution_count": 186,
   "metadata": {
    "collapsed": false
   },
   "outputs": [],
   "source": [
    "caps_a = interdigitated_capacitance(11.9,area=areas_a,width=8e-6,gap=8e-6)\n",
    "caps_b = interdigitated_capacitance(11.9,area=areas_b,width=8e-6,gap=8e-6)"
   ]
  },
  {
   "cell_type": "code",
   "execution_count": 187,
   "metadata": {
    "collapsed": true
   },
   "outputs": [],
   "source": [
    "actual_freq_a = 1/(2*np.pi*np.sqrt(caps_a*19e-9))\n",
    "actual_freq_b = 1/(2*np.pi*np.sqrt(caps_b*33.5e-9))"
   ]
  },
  {
   "cell_type": "code",
   "execution_count": 188,
   "metadata": {
    "collapsed": false
   },
   "outputs": [
    {
     "data": {
      "text/plain": [
       "(0, 1000000.0)"
      ]
     },
     "execution_count": 188,
     "metadata": {},
     "output_type": "execute_result"
    },
    {
     "data": {
      "image/png": "[encoded data removed]",
      "text/plain": [
       "<matplotlib.figure.Figure at 0x7f2ab2be0d90>"
      ]
     },
     "metadata": {},
     "output_type": "display_data"
    }
   ],
   "source": [
    "plot(actual_freq_a.flatten()[:-1]/1e6,np.diff(actual_freq_a.flatten()),'.-')\n",
    "ylim(0,1e6)"
   ]
  },
  {
   "cell_type": "code",
   "execution_count": 189,
   "metadata": {
    "collapsed": false
   },
   "outputs": [
    {
     "data": {
      "text/plain": [
       "[<matplotlib.lines.Line2D at 0x7f2ab337ea90>]"
      ]
     },
     "execution_count": 189,
     "metadata": {},
     "output_type": "execute_result"
    },
    {
     "data": {
      "image/png": "[encoded data removed]",
      "text/plain": [
       "<matplotlib.figure.Figure at 0x7f2ab2ba5e50>"
      ]
     },
     "metadata": {},
     "output_type": "display_data"
    }
   ],
   "source": [
    "plot(actual_freq_a.flatten()[:-1]/np.diff(actual_freq_a.flatten()))"
   ]
  },
  {
   "cell_type": "code",
   "execution_count": 190,
   "metadata": {
    "collapsed": false
   },
   "outputs": [
    {
     "data": {
      "text/plain": [
       "(0, 1000000.0)"
      ]
     },
     "execution_count": 190,
     "metadata": {},
     "output_type": "execute_result"
    },
    {
     "data": {
      "image/png": "[encoded data removed]",
      "text/plain": [
       "<matplotlib.figure.Figure at 0x7f2ab2fb5550>"
      ]
     },
     "metadata": {},
     "output_type": "display_data"
    }
   ],
   "source": [
    "plot(actual_freq_b.flatten()[:-1]/1e6,np.diff(actual_freq_b.flatten()),'.-')\n",
    "ylim(0,1e6)"
   ]
  },
  {
   "cell_type": "code",
   "execution_count": 191,
   "metadata": {
    "collapsed": false
   },
   "outputs": [
    {
     "data": {
      "text/plain": [
       "[<matplotlib.lines.Line2D at 0x7f2ab2a29cd0>]"
      ]
     },
     "execution_count": 191,
     "metadata": {},
     "output_type": "execute_result"
    },
    {
     "data": {
      "image/png": "[encoded data removed]",
      "text/plain": [
       "<matplotlib.figure.Figure at 0x7f2ab305b390>"
      ]
     },
     "metadata": {},
     "output_type": "display_data"
    }
   ],
   "source": [
    "plot(actual_freq_b.flatten()[:-1]/np.diff(actual_freq_b.flatten()))"
   ]
  },
  {
   "cell_type": "code",
   "execution_count": 193,
   "metadata": {
    "collapsed": false
   },
   "outputs": [
    {
     "data": {
      "text/plain": [
       "[<matplotlib.lines.Line2D at 0x7f2ab28ad190>]"
      ]
     },
     "execution_count": 193,
     "metadata": {},
     "output_type": "execute_result"
    },
    {
     "data": {
      "image/png": "[encoded data removed]",
      "text/plain": [
       "<matplotlib.figure.Figure at 0x7f2ab299bf50>"
      ]
     },
     "metadata": {},
     "output_type": "display_data"
    }
   ],
   "source": [
    "plot(np.hstack((actual_freq_b.flatten(),actual_freq_a.flatten())))"
   ]
  },
  {
   "cell_type": "code",
   "execution_count": 196,
   "metadata": {
    "collapsed": false
   },
   "outputs": [
    {
     "data": {
      "text/plain": [
       "(9, 32)"
      ]
     },
     "execution_count": 196,
     "metadata": {},
     "output_type": "execute_result"
    }
   ],
   "source": [
    "actual_freq_a.shape"
   ]
  },
  {
   "cell_type": "code",
   "execution_count": 164,
   "metadata": {
    "collapsed": false
   },
   "outputs": [
    {
     "data": {
      "text/plain": [
       "array([ 7400.,  7389.,  7378.,  7367.,  7356.,  7345.,  7334.,  7323.,\n",
       "        7312.,  7301.,  7290.,  7279.,  7268.,  7257.,  7246.,  7235.,\n",
       "        7224.,  7213.,  7202.,  7191.,  7180.,  7169.,  7158.,  7147.,\n",
       "        7136.,  7125.,  7114.,  7103.,  7092.,  7081.,  7070.,  7059.])"
      ]
     },
     "execution_count": 164,
     "metadata": {},
     "output_type": "execute_result"
    }
   ],
   "source": [
    "lengths"
   ]
  },
  {
   "cell_type": "code",
   "execution_count": 165,
   "metadata": {
    "collapsed": false
   },
   "outputs": [
    {
     "data": {
      "text/plain": [
       "array([123, 116, 110, 104,  99,  93,  88,  83,  78])"
      ]
     },
     "execution_count": 165,
     "metadata": {},
     "output_type": "execute_result"
    }
   ],
   "source": [
    "turns_a"
   ]
  },
  {
   "cell_type": "code",
   "execution_count": 143,
   "metadata": {
    "collapsed": false
   },
   "outputs": [
    {
     "data": {
      "text/plain": [
       "288"
      ]
     },
     "execution_count": 143,
     "metadata": {},
     "output_type": "execute_result"
    }
   ],
   "source": [
    "np.product(actual_freq_a.shape)"
   ]
  },
  {
   "cell_type": "code",
   "execution_count": 41,
   "metadata": {
    "collapsed": false
   },
   "outputs": [
    {
     "name": "stdout",
     "output_type": "stream",
     "text": [
      "(9,)\n"
     ]
    },
    {
     "data": {
      "text/plain": [
       "array([ 0.01024586,  0.00971563,  0.00920625,  0.00871717,  0.00824783,\n",
       "        0.00779772,  0.00736628,  0.00695299,  0.00655735])"
      ]
     },
     "execution_count": 41,
     "metadata": {},
     "output_type": "execute_result"
    }
   ],
   "source": [
    "calc_cap_lengths(19e-9,freqs_a,cap_width=89*16e-6)"
   ]
  },
  {
   "cell_type": "code",
   "execution_count": 43,
   "metadata": {
    "collapsed": false
   },
   "outputs": [
    {
     "data": {
      "text/plain": [
       "array([ 55.875,  55.875,  55.875,  55.875,  55.875,  55.875,  55.875,\n",
       "        55.875])"
      ]
     },
     "execution_count": 43,
     "metadata": {},
     "output_type": "execute_result"
    }
   ],
   "source": [
    "np.diff(np.linspace(6953,7400,9))"
   ]
  },
  {
   "cell_type": "code",
   "execution_count": null,
   "metadata": {
    "collapsed": true
   },
   "outputs": [],
   "source": [
    "turns = np.floor()"
   ]
  }
 ],
 "metadata": {
  "kernelspec": {
   "display_name": "Python 2",
   "language": "python",
   "name": "python2"
  },
  "language_info": {
   "codemirror_mode": {
    "name": "ipython",
    "version": 2
   },
   "file_extension": ".py",
   "mimetype": "text/x-python",
   "name": "python",
   "nbconvert_exporter": "python",
   "pygments_lexer": "ipython2",
   "version": "2.7.11"
  }
 },
 "nbformat": 4,
 "nbformat_minor": 0
}
