{
 "metadata": {
  "name": ""
 },
 "nbformat": 3,
 "nbformat_minor": 0,
 "worksheets": [
  {
   "cells": [
    {
     "cell_type": "code",
     "collapsed": false,
     "input": [
      "d = dict([(x,np.load('/home/data/archive/summary_net_StarCryo_5x4_0813f10_LPF_Horns_%02d.npz'%x)) for x in range(20)])"
     ],
     "language": "python",
     "metadata": {},
     "outputs": [],
     "prompt_number": 1
    },
    {
     "cell_type": "code",
     "collapsed": false,
     "input": [
      "r0 = dict(d[0])"
     ],
     "language": "python",
     "metadata": {},
     "outputs": [],
     "prompt_number": 7
    },
    {
     "cell_type": "code",
     "collapsed": false,
     "input": [
      "if ():\n",
      "    print True"
     ],
     "language": "python",
     "metadata": {},
     "outputs": [],
     "prompt_number": 12
    },
    {
     "cell_type": "code",
     "collapsed": false,
     "input": [
      "for idx, r0 in d.items():\n",
      "    d[idx]= dict(r0)\n",
      "    r0 = d[idx]\n",
      "    for k in r0.keys():\n",
      "        if not r0[k].shape:\n",
      "            r0[k] = r0[k][()]*np.ones(r0['Q'].shape)\n",
      "        if k == 'T':\n",
      "            r0['Tload'] = r0['T']\n",
      "            del r0['T']\n",
      "    r0['ridx'] = np.ones(r0['Q'].shape,dtype='int32')*idx"
     ],
     "language": "python",
     "metadata": {},
     "outputs": [],
     "prompt_number": 98
    },
    {
     "cell_type": "code",
     "collapsed": false,
     "input": [
      "import pandas as pd"
     ],
     "language": "python",
     "metadata": {},
     "outputs": [],
     "prompt_number": 5
    },
    {
     "cell_type": "code",
     "collapsed": false,
     "input": [
      "dfs = dict((k,pd.DataFrame.from_dict(v)) for (k,v) in d.items())"
     ],
     "language": "python",
     "metadata": {},
     "outputs": [],
     "prompt_number": 100
    },
    {
     "cell_type": "code",
     "collapsed": false,
     "input": [
      "df = pd.concat(dfs,ignore_index=True)"
     ],
     "language": "python",
     "metadata": {},
     "outputs": [],
     "prompt_number": 101
    },
    {
     "cell_type": "code",
     "collapsed": false,
     "input": [
      "df.shape"
     ],
     "language": "python",
     "metadata": {},
     "outputs": [
      {
       "metadata": {},
       "output_type": "pyout",
       "prompt_number": 102,
       "text": [
        "(1674, 11)"
       ]
      }
     ],
     "prompt_number": 102
    },
    {
     "cell_type": "code",
     "collapsed": false,
     "input": [
      "r0['ridx'] = np.ones(r0['T'].shape)*0"
     ],
     "language": "python",
     "metadata": {},
     "outputs": [],
     "prompt_number": 9
    },
    {
     "cell_type": "code",
     "collapsed": false,
     "input": [
      "pd.DataFrame.from_dict?"
     ],
     "language": "python",
     "metadata": {},
     "outputs": [],
     "prompt_number": 55
    },
    {
     "cell_type": "code",
     "collapsed": false,
     "input": [
      "ra = np.rec.fromarrays(r0.values(),names=r0.keys())"
     ],
     "language": "python",
     "metadata": {},
     "outputs": [],
     "prompt_number": 75
    },
    {
     "cell_type": "code",
     "collapsed": false,
     "input": [
      "ra.dtype"
     ],
     "language": "python",
     "metadata": {},
     "outputs": [
      {
       "metadata": {},
       "output_type": "pyout",
       "prompt_number": 76,
       "text": [
        "dtype([('Tphys', '<f8'), ('Hz_per_K', '<f8'), ('Tload', '<f8'), ('ridx', '<f8'), ('Tn', '<f8'), ('Q', '<f8'), ('f0s', '<f8'), ('dev_noise', '<f8'), ('Qi', '<f8'), ('f0errs', '<f8'), ('amp_noise', '<f8')])"
       ]
      }
     ],
     "prompt_number": 76
    },
    {
     "cell_type": "code",
     "collapsed": false,
     "input": [
      "#df = pd.DataFrame.from_dict(r0)\n",
      "df = None\n",
      "for ridx,data in d.items():\n",
      "    if df is None:\n",
      "        df = pd.DataFrame.from_dict(data)\n",
      "    else:\n",
      "        df.append(pd.DataFrame.from_dict(data),ignore_index=True)"
     ],
     "language": "python",
     "metadata": {},
     "outputs": [],
     "prompt_number": 99
    },
    {
     "cell_type": "code",
     "collapsed": false,
     "input": [
      "df."
     ],
     "language": "python",
     "metadata": {},
     "outputs": [],
     "prompt_number": 97
    },
    {
     "cell_type": "code",
     "collapsed": false,
     "input": [
      "df.Tload.shape,df.Qi.shape"
     ],
     "language": "python",
     "metadata": {},
     "outputs": [
      {
       "metadata": {},
       "output_type": "pyout",
       "prompt_number": 79,
       "text": [
        "((93,), (93,))"
       ]
      }
     ],
     "prompt_number": 79
    },
    {
     "cell_type": "code",
     "collapsed": false,
     "input": [
      "plot(df.Qi,df.Hz_per_K,'.')\n",
      "xlim(0,8e4)\n",
      "ylim(0,10000)"
     ],
     "language": "python",
     "metadata": {},
     "outputs": [
      {
       "metadata": {},
       "output_type": "pyout",
       "prompt_number": 124,
       "text": [
        "(0, 10000)"
       ]
      },
      {
       "metadata": {},
       "output_type": "display_data",
       "png": "[encoded data removed]",
       "text": [
        "<matplotlib.figure.Figure at 0x59ba790>"
       ]
      }
     ],
     "prompt_number": 124
    },
    {
     "cell_type": "code",
     "collapsed": false,
     "input": [
      "plot(df.Q/df.Qi,df.dev_noise/df.amp_noise,'.')\n",
      "xlim(0,2)\n",
      "ylim(0,5)"
     ],
     "language": "python",
     "metadata": {},
     "outputs": [
      {
       "metadata": {},
       "output_type": "pyout",
       "prompt_number": 120,
       "text": [
        "(0, 5)"
       ]
      },
      {
       "metadata": {},
       "output_type": "display_data",
       "png": "[encoded data removed]",
       "text": [
        "<matplotlib.figure.Figure at 0x4eca310>"
       ]
      }
     ],
     "prompt_number": 120
    },
    {
     "cell_type": "code",
     "collapsed": false,
     "input": [
      "df['uKrtHz'] = 1e6*df.dev_noise/df.Hz_per_K"
     ],
     "language": "python",
     "metadata": {},
     "outputs": [],
     "prompt_number": 134
    },
    {
     "cell_type": "code",
     "collapsed": false,
     "input": [
      "plot(1e6*df.dev_noise/df.Hz_per_K,'.')\n",
      "ylim(0,100)"
     ],
     "language": "python",
     "metadata": {},
     "outputs": [
      {
       "metadata": {},
       "output_type": "pyout",
       "prompt_number": 129,
       "text": [
        "(0, 100)"
       ]
      },
      {
       "metadata": {},
       "output_type": "display_data",
       "png": "[encoded data removed]",
       "text": [
        "<matplotlib.figure.Figure at 0x59cb990>"
       ]
      }
     ],
     "prompt_number": 129
    },
    {
     "cell_type": "code",
     "collapsed": false,
     "input": [
      "bar(range(20),df.groupby(['ridx']).median()['uKrtHz'])\n",
      "ylim(0,100)"
     ],
     "language": "python",
     "metadata": {},
     "outputs": [
      {
       "metadata": {},
       "output_type": "pyout",
       "prompt_number": 139,
       "text": [
        "(0, 100)"
       ]
      },
      {
       "metadata": {},
       "output_type": "display_data",
       "png": "[encoded data removed]",
       "text": [
        "<matplotlib.figure.Figure at 0x4eb4250>"
       ]
      }
     ],
     "prompt_number": 139
    },
    {
     "cell_type": "code",
     "collapsed": false,
     "input": [
      "for idx in range(10):\n",
      "    this = df[df.ridx == idx]\n",
      "    gb = this.groupby(['rndTload'])\n",
      "    errorbar(gb.rndTload.mean(),gb.uKrtHz.mean(),yerr=gb.uKrtHz.std(),linestyle='none')\n",
      "ylim(0,100)\n",
      "xlim(3,6)"
     ],
     "language": "python",
     "metadata": {},
     "outputs": [
      {
       "metadata": {},
       "output_type": "pyout",
       "prompt_number": 158,
       "text": [
        "(3, 6)"
       ]
      },
      {
       "metadata": {},
       "output_type": "display_data",
       "png": "[encoded data removed]",
       "text": [
        "<matplotlib.figure.Figure at 0x605b190>"
       ]
      }
     ],
     "prompt_number": 158
    },
    {
     "cell_type": "code",
     "collapsed": false,
     "input": [
      "df['rndTload'] = np.round(df.Tload*10)/10"
     ],
     "language": "python",
     "metadata": {},
     "outputs": [],
     "prompt_number": 151
    },
    {
     "cell_type": "code",
     "collapsed": false,
     "input": [
      "np.unique(np.round(df.Tload*10)/10)"
     ],
     "language": "python",
     "metadata": {},
     "outputs": [
      {
       "metadata": {},
       "output_type": "pyout",
       "prompt_number": 150,
       "text": [
        "0       3.3\n",
        "933     3.4\n",
        "1432    3.5\n",
        "1441    3.6\n",
        "1425    3.7\n",
        "921     3.8\n",
        "193     3.9\n",
        "1606    4.0\n",
        "114     4.1\n",
        "830     4.4\n",
        "1588    4.6\n",
        "1483    5.1\n",
        "254     5.2\n",
        "259     5.3\n",
        "788     5.4\n",
        "1259    5.6\n",
        "1428    5.7\n",
        "1322    7.2\n",
        "892     8.5\n",
        "1234    8.6\n",
        "Name: Tload, dtype: float64"
       ]
      }
     ],
     "prompt_number": 150
    },
    {
     "cell_type": "code",
     "collapsed": false,
     "input": [],
     "language": "python",
     "metadata": {},
     "outputs": []
    }
   ],
   "metadata": {}
  }
 ]
}